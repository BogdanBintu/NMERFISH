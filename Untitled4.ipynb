{
 "cells": [
  {
   "cell_type": "code",
   "execution_count": 3,
   "id": "07a40933-a0b0-4f66-a3c1-72cc02acb750",
   "metadata": {},
   "outputs": [
    {
     "data": {
      "text/plain": [
       "tensor([1, 2, 3, 4])"
      ]
     },
     "execution_count": 3,
     "metadata": {},
     "output_type": "execute_result"
    }
   ],
   "source": [
    "#first_n_unique_1D(A[0],4)"
   ]
  },
  {
   "cell_type": "code",
   "execution_count": 20,
   "id": "e9355ea6-e9fd-461e-aac7-b448abd5ee0a",
   "metadata": {},
   "outputs": [
    {
     "data": {
      "text/plain": [
       "3"
      ]
     },
     "execution_count": 21,
     "metadata": {},
     "output_type": "execute_result"
    }
   ],
   "source": [
    "A_1D = A[0]#torch.tensor([3, 2, 2,3, 3, 4, 5, 6])\n",
    "\n",
    "unique_values, unique_indices = torch.unique(A_1D, return_inverse=True)\n",
    "len(unique_values"
   ]
  },
  {
   "cell_type": "code",
   "execution_count": 14,
   "id": "12f5ee6f-ba8b-4ab8-82b4-f3bb8f7879c7",
   "metadata": {},
   "outputs": [
    {
     "data": {
      "text/plain": [
       "tensor([2, 3, 4, 5, 6])"
      ]
     },
     "execution_count": 14,
     "metadata": {},
     "output_type": "execute_result"
    }
   ],
   "source": [
    "unique_values"
   ]
  },
  {
   "cell_type": "code",
   "execution_count": 15,
   "id": "f06575b2-50a4-48e1-8aa1-8b16a943c217",
   "metadata": {},
   "outputs": [
    {
     "data": {
      "text/plain": [
       "tensor([1, 0, 0, 1, 1, 2, 3, 4])"
      ]
     },
     "execution_count": 15,
     "metadata": {},
     "output_type": "execute_result"
    }
   ],
   "source": [
    "unique_indices"
   ]
  },
  {
   "cell_type": "code",
   "execution_count": 67,
   "id": "6d9be789-7feb-4ca2-8dd8-8e374120216d",
   "metadata": {},
   "outputs": [
    {
     "name": "stdout",
     "output_type": "stream",
     "text": [
      "tensor([[1, 2, 2],\n",
      "        [4, 5, 5]])\n"
     ]
    }
   ],
   "source": [
    "import torch\n",
    "\n",
    "# Assume we have these tensors\n",
    "A = torch.tensor([[0,1,1],[1,2,2]])  # 5x6 tensor\n",
    "B = torch.tensor([[1,2,3],[0,4,5]])  # 2x3 tensor of indices\n",
    "\n",
    "A_indexed = B.gather(1,A)  # get the elements from A at the indices specified in B\n",
    "\n",
    "print(A_indexed)"
   ]
  },
  {
   "cell_type": "code",
   "execution_count": null,
   "id": "9bde4e60-2e18-4cc6-a825-d0cd021a0373",
   "metadata": {},
   "outputs": [],
   "source": []
  }
 ],
 "metadata": {
  "kernelspec": {
   "display_name": "Python 3 (ipykernel)",
   "language": "python",
   "name": "python3"
  },
  "language_info": {
   "codemirror_mode": {
    "name": "ipython",
    "version": 3
   },
   "file_extension": ".py",
   "mimetype": "text/x-python",
   "name": "python",
   "nbconvert_exporter": "python",
   "pygments_lexer": "ipython3",
   "version": "3.9.7"
  }
 },
 "nbformat": 4,
 "nbformat_minor": 5
}
