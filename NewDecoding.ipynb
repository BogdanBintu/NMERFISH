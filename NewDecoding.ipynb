{
 "cells": [
  {
   "cell_type": "code",
   "execution_count": 1,
   "id": "90fe85c7-a6c5-4eb4-9c7d-35771a17f364",
   "metadata": {
    "tags": []
   },
   "outputs": [],
   "source": [
    "from ioMicro import *"
   ]
  },
  {
   "cell_type": "code",
   "execution_count": 1,
   "id": "c8a3ba1d-dcd7-4c9c-adf6-e6e1df62a179",
   "metadata": {
    "tags": []
   },
   "outputs": [],
   "source": [
    "from Human.workerScope3A_HttHuman_Snonia__06_12_2023_P2G1_V2 import *"
   ]
  },
  {
   "cell_type": "code",
   "execution_count": 5,
   "id": "e7e4c5f8-b65c-46fd-aafc-653614502475",
   "metadata": {
    "tags": []
   },
   "outputs": [],
   "source": [
    "def compute_drift(save_folder,fov,all_flds,set_,redo=False,gpu=False):\n",
    "    \"\"\"\n",
    "    save_folder where to save analyzed data\n",
    "    fov - i.e. Conv_zscan_005.zarr\n",
    "    all_flds - folders that contain eithger the MERFISH bits or control bits or smFISH\n",
    "    set_ - an extra tag typically at the end of the folder to separate out different folders\n",
    "    \"\"\"\n",
    "    #print(len(all_flds))\n",
    "    #print(all_flds)\n",
    "    \n",
    "    # defulat name of the drift file \n",
    "    drift_fl = save_folder+os.sep+'driftNew_'+fov.split('.')[0]+'--'+set_+'.pkl'\n",
    "    \n",
    "    iiref = None\n",
    "    fl_ref = None\n",
    "    previous_drift = {}\n",
    "    if not os.path.exists(drift_fl) or redo:\n",
    "        redo = True\n",
    "    else:\n",
    "        try:\n",
    "            drifts_,all_flds_,fov_,fl_ref = pickle.load(open(drift_fl,'rb'))\n",
    "            all_tags_ = np.array([os.path.basename(fld)for fld in all_flds_])\n",
    "            all_tags = np.array([os.path.basename(fld)for fld in all_flds])\n",
    "            iiref = np.argmin([np.sum(np.abs(drift[0]))for drift in drifts_])\n",
    "            previous_drift = {tag:drift for drift,tag in zip(drifts_,all_tags_)}\n",
    "\n",
    "            if not (len(all_tags_)==len(all_tags)):\n",
    "                redo = True\n",
    "            else:\n",
    "                if not np.all(np.sort(all_tags_)==np.sort(all_tags)):\n",
    "                    redo = True\n",
    "        except:\n",
    "            os.remove(drift_fl)\n",
    "            redo=True\n",
    "    if redo:\n",
    "        fls = [fld+os.sep+fov for fld in all_flds]\n",
    "        if fl_ref is None:\n",
    "            fl_ref = fls[len(fls)//2]\n",
    "        obj = None\n",
    "        newdrifts = []\n",
    "        all_fldsT = []\n",
    "        for fl in tqdm(fls):\n",
    "            fld = os.path.dirname(fl)\n",
    "            tag = os.path.basename(fld)\n",
    "            new_drift_info = previous_drift.get(tag,None)\n",
    "            if new_drift_info is None:\n",
    "                if obj is None:\n",
    "                    obj = fine_drift(fl_ref,fl,sz_block=600)\n",
    "                else:\n",
    "                    obj.get_drift(fl_ref,fl)\n",
    "                new_drift = -(obj.drft_minus+obj.drft_plus)/2\n",
    "                new_drift_info = [new_drift,obj.drft_minus,obj.drft_plus,obj.drift,obj.pair_minus,obj.pair_plus]\n",
    "            newdrifts.append(new_drift_info)\n",
    "            all_fldsT.append(fld)\n",
    "            pickle.dump([newdrifts,all_fldsT,fov,fl_ref],open(drift_fl,'wb'))"
   ]
  },
  {
   "cell_type": "code",
   "execution_count": null,
   "id": "4014eed2-0a07-4fa4-8127-73aeaa9e84d6",
   "metadata": {},
   "outputs": [],
   "source": []
  },
  {
   "cell_type": "code",
   "execution_count": 6,
   "id": "c0d3aac0-53c7-4daf-8f06-76b8082ed69e",
   "metadata": {
    "tags": []
   },
   "outputs": [
    {
     "name": "stderr",
     "output_type": "stream",
     "text": [
      "  0%|                                                                                           | 0/12 [00:00<?, ?it/s]"
     ]
    },
    {
     "name": "stdout",
     "output_type": "stream",
     "text": [
      "Loading: \\\\192.168.0.96\\bbfish124\\HttHuman_Snonia__06_12_2023\\H31_MER2col__set5\\Conv_zscan__30.zarr\n",
      "Finding markers...\n"
     ]
    },
    {
     "name": "stderr",
     "output_type": "stream",
     "text": [
      "\n",
      "  0%|                                                                                            | 0/7 [00:00<?, ?it/s]\u001b[A\n",
      " 14%|████████████                                                                        | 1/7 [00:00<00:04,  1.50it/s]\u001b[A\n",
      "100%|████████████████████████████████████████████████████████████████████████████████████| 7/7 [00:01<00:00,  6.83it/s]\u001b[A\n",
      "\n",
      "  0%|                                                                                            | 0/7 [00:00<?, ?it/s]\u001b[A\n",
      " 14%|████████████                                                                        | 1/7 [00:01<00:09,  1.62s/it]\u001b[A\n",
      "100%|████████████████████████████████████████████████████████████████████████████████████| 7/7 [00:02<00:00,  3.36it/s]\u001b[A\n"
     ]
    },
    {
     "name": "stdout",
     "output_type": "stream",
     "text": [
      "Loading: \\\\192.168.0.96\\bbfish124\\HttHuman_Snonia__06_12_2023\\H25_MER2col__set5\\Conv_zscan__30.zarr\n",
      "Finding markers...\n"
     ]
    },
    {
     "name": "stderr",
     "output_type": "stream",
     "text": [
      "\n",
      "  0%|                                                                                            | 0/7 [00:00<?, ?it/s]\u001b[A\n",
      " 14%|████████████                                                                        | 1/7 [00:00<00:03,  1.54it/s]\u001b[A\n",
      "100%|████████████████████████████████████████████████████████████████████████████████████| 7/7 [00:01<00:00,  6.96it/s]\u001b[A\n",
      "\n",
      "  0%|                                                                                            | 0/7 [00:00<?, ?it/s]\u001b[A\n",
      " 14%|████████████                                                                        | 1/7 [00:01<00:09,  1.64s/it]\u001b[A\n",
      " 71%|████████████████████████████████████████████████████████████                        | 5/7 [00:01<00:00,  3.64it/s]\u001b[A\n",
      "100%|████████████████████████████████████████████████████████████████████████████████████| 7/7 [00:02<00:00,  3.28it/s]\u001b[A\n"
     ]
    },
    {
     "name": "stdout",
     "output_type": "stream",
     "text": [
      "Finding rough drift...\n"
     ]
    },
    {
     "name": "stderr",
     "output_type": "stream",
     "text": [
      "  8%|██████▉                                                                            | 1/12 [00:38<07:07, 38.88s/it]"
     ]
    },
    {
     "name": "stdout",
     "output_type": "stream",
     "text": [
      "Finding fine drift...\n",
      "Loading: \\\\192.168.0.96\\bbfish124\\HttHuman_Snonia__06_12_2023\\H26_MER2col__set5\\Conv_zscan__30.zarr\n",
      "Finding markers...\n"
     ]
    },
    {
     "name": "stderr",
     "output_type": "stream",
     "text": [
      "\n",
      "  0%|                                                                                            | 0/7 [00:00<?, ?it/s]\u001b[A\n",
      " 14%|████████████                                                                        | 1/7 [00:00<00:03,  1.64it/s]\u001b[A\n",
      "100%|████████████████████████████████████████████████████████████████████████████████████| 7/7 [00:00<00:00,  7.26it/s]\u001b[A\n",
      "\n",
      "  0%|                                                                                            | 0/7 [00:00<?, ?it/s]\u001b[A\n",
      " 14%|████████████                                                                        | 1/7 [00:01<00:10,  1.76s/it]\u001b[A\n",
      "100%|████████████████████████████████████████████████████████████████████████████████████| 7/7 [00:02<00:00,  3.19it/s]\u001b[A\n"
     ]
    },
    {
     "name": "stdout",
     "output_type": "stream",
     "text": [
      "Finding rough drift...\n"
     ]
    },
    {
     "name": "stderr",
     "output_type": "stream",
     "text": [
      " 17%|█████████████▊                                                                     | 2/12 [01:02<04:58, 29.88s/it]"
     ]
    },
    {
     "name": "stdout",
     "output_type": "stream",
     "text": [
      "Finding fine drift...\n",
      "Loading: \\\\192.168.0.96\\bbfish124\\HttHuman_Snonia__06_12_2023\\H27_MER2col__set5\\Conv_zscan__30.zarr\n",
      "Finding markers...\n"
     ]
    },
    {
     "name": "stderr",
     "output_type": "stream",
     "text": [
      "\n",
      "  0%|                                                                                            | 0/7 [00:00<?, ?it/s]\u001b[A\n",
      " 14%|████████████                                                                        | 1/7 [00:00<00:04,  1.49it/s]\u001b[A\n",
      "100%|████████████████████████████████████████████████████████████████████████████████████| 7/7 [00:01<00:00,  6.74it/s]\u001b[A\n",
      "\n",
      "  0%|                                                                                            | 0/7 [00:00<?, ?it/s]\u001b[A\n",
      " 14%|████████████                                                                        | 1/7 [00:01<00:09,  1.63s/it]\u001b[A\n",
      "100%|████████████████████████████████████████████████████████████████████████████████████| 7/7 [00:02<00:00,  3.39it/s]\u001b[A\n"
     ]
    },
    {
     "name": "stdout",
     "output_type": "stream",
     "text": [
      "Finding rough drift...\n"
     ]
    },
    {
     "name": "stderr",
     "output_type": "stream",
     "text": [
      " 25%|████████████████████▊                                                              | 3/12 [01:24<03:58, 26.48s/it]"
     ]
    },
    {
     "name": "stdout",
     "output_type": "stream",
     "text": [
      "Finding fine drift...\n",
      "Loading: \\\\192.168.0.96\\bbfish124\\HttHuman_Snonia__06_12_2023\\H28_MER2col__set5\\Conv_zscan__30.zarr\n",
      "Finding markers...\n"
     ]
    },
    {
     "name": "stderr",
     "output_type": "stream",
     "text": [
      "\n",
      "  0%|                                                                                            | 0/7 [00:00<?, ?it/s]\u001b[A\n",
      " 14%|████████████                                                                        | 1/7 [00:00<00:03,  1.63it/s]\u001b[A\n",
      "100%|████████████████████████████████████████████████████████████████████████████████████| 7/7 [00:00<00:00,  7.21it/s]\u001b[A\n",
      "\n",
      "  0%|                                                                                            | 0/7 [00:00<?, ?it/s]\u001b[A\n",
      " 14%|████████████                                                                        | 1/7 [00:01<00:10,  1.77s/it]\u001b[A\n",
      "100%|████████████████████████████████████████████████████████████████████████████████████| 7/7 [00:02<00:00,  3.14it/s]\u001b[A\n"
     ]
    },
    {
     "name": "stdout",
     "output_type": "stream",
     "text": [
      "Finding rough drift...\n"
     ]
    },
    {
     "name": "stderr",
     "output_type": "stream",
     "text": [
      " 33%|███████████████████████████▋                                                       | 4/12 [01:47<03:20, 25.11s/it]"
     ]
    },
    {
     "name": "stdout",
     "output_type": "stream",
     "text": [
      "Finding fine drift...\n",
      "Loading: \\\\192.168.0.96\\bbfish124\\HttHuman_Snonia__06_12_2023\\H29_MER2col__set5\\Conv_zscan__30.zarr\n",
      "Finding markers...\n"
     ]
    },
    {
     "name": "stderr",
     "output_type": "stream",
     "text": [
      "\n",
      "  0%|                                                                                            | 0/7 [00:00<?, ?it/s]\u001b[A\n",
      " 14%|████████████                                                                        | 1/7 [00:00<00:04,  1.49it/s]\u001b[A\n",
      "100%|████████████████████████████████████████████████████████████████████████████████████| 7/7 [00:01<00:00,  6.77it/s]\u001b[A\n",
      "\n",
      "  0%|                                                                                            | 0/7 [00:00<?, ?it/s]\u001b[A\n",
      " 14%|████████████                                                                        | 1/7 [00:01<00:10,  1.78s/it]\u001b[A\n",
      "100%|████████████████████████████████████████████████████████████████████████████████████| 7/7 [00:02<00:00,  3.13it/s]\u001b[A\n"
     ]
    },
    {
     "name": "stdout",
     "output_type": "stream",
     "text": [
      "Finding rough drift...\n"
     ]
    },
    {
     "name": "stderr",
     "output_type": "stream",
     "text": [
      " 42%|██████████████████████████████████▌                                                | 5/12 [02:13<02:56, 25.27s/it]"
     ]
    },
    {
     "name": "stdout",
     "output_type": "stream",
     "text": [
      "Finding fine drift...\n",
      "Loading: \\\\192.168.0.96\\bbfish124\\HttHuman_Snonia__06_12_2023\\H30_MER2col__set5\\Conv_zscan__30.zarr\n",
      "Finding markers...\n"
     ]
    },
    {
     "name": "stderr",
     "output_type": "stream",
     "text": [
      "\n",
      "  0%|                                                                                            | 0/7 [00:00<?, ?it/s]\u001b[A\n",
      " 14%|████████████                                                                        | 1/7 [00:00<00:03,  1.55it/s]\u001b[A\n",
      "100%|████████████████████████████████████████████████████████████████████████████████████| 7/7 [00:00<00:00,  7.00it/s]\u001b[A\n",
      "\n",
      "  0%|                                                                                            | 0/7 [00:00<?, ?it/s]\u001b[A\n",
      " 14%|████████████                                                                        | 1/7 [00:01<00:09,  1.64s/it]\u001b[A\n",
      "100%|████████████████████████████████████████████████████████████████████████████████████| 7/7 [00:02<00:00,  3.36it/s]\u001b[A\n"
     ]
    },
    {
     "name": "stdout",
     "output_type": "stream",
     "text": [
      "Finding rough drift...\n"
     ]
    },
    {
     "name": "stderr",
     "output_type": "stream",
     "text": [
      " 50%|█████████████████████████████████████████▌                                         | 6/12 [02:37<02:28, 24.76s/it]"
     ]
    },
    {
     "name": "stdout",
     "output_type": "stream",
     "text": [
      "Finding fine drift...\n",
      "Loading: \\\\192.168.0.96\\bbfish124\\HttHuman_Snonia__06_12_2023\\H31_MER2col__set5\\Conv_zscan__30.zarr\n",
      "Finding markers...\n"
     ]
    },
    {
     "name": "stderr",
     "output_type": "stream",
     "text": [
      "\n",
      "  0%|                                                                                            | 0/7 [00:00<?, ?it/s]\u001b[A\n",
      " 14%|████████████                                                                        | 1/7 [00:00<00:04,  1.48it/s]\u001b[A\n",
      "100%|████████████████████████████████████████████████████████████████████████████████████| 7/7 [00:01<00:00,  6.79it/s]\u001b[A\n",
      "\n",
      "  0%|                                                                                            | 0/7 [00:00<?, ?it/s]\u001b[A\n",
      " 14%|████████████                                                                        | 1/7 [00:01<00:09,  1.60s/it]\u001b[A\n",
      "100%|████████████████████████████████████████████████████████████████████████████████████| 7/7 [00:02<00:00,  3.42it/s]\u001b[A\n"
     ]
    },
    {
     "name": "stdout",
     "output_type": "stream",
     "text": [
      "Finding rough drift...\n"
     ]
    },
    {
     "name": "stderr",
     "output_type": "stream",
     "text": [
      " 58%|████████████████████████████████████████████████▍                                  | 7/12 [03:01<02:02, 24.48s/it]"
     ]
    },
    {
     "name": "stdout",
     "output_type": "stream",
     "text": [
      "Finding fine drift...\n",
      "Loading: \\\\192.168.0.96\\bbfish124\\HttHuman_Snonia__06_12_2023\\H32_MER2col__set5\\Conv_zscan__30.zarr\n",
      "Finding markers...\n"
     ]
    },
    {
     "name": "stderr",
     "output_type": "stream",
     "text": [
      "\n",
      "  0%|                                                                                            | 0/7 [00:00<?, ?it/s]\u001b[A\n",
      " 14%|████████████                                                                        | 1/7 [00:00<00:03,  1.63it/s]\u001b[A\n",
      "100%|████████████████████████████████████████████████████████████████████████████████████| 7/7 [00:00<00:00,  7.12it/s]\u001b[A\n",
      "\n",
      "  0%|                                                                                            | 0/7 [00:00<?, ?it/s]\u001b[A\n",
      " 14%|████████████                                                                        | 1/7 [00:01<00:10,  1.79s/it]\u001b[A\n",
      "100%|████████████████████████████████████████████████████████████████████████████████████| 7/7 [00:02<00:00,  3.15it/s]\u001b[A\n"
     ]
    },
    {
     "name": "stdout",
     "output_type": "stream",
     "text": [
      "Finding rough drift...\n"
     ]
    },
    {
     "name": "stderr",
     "output_type": "stream",
     "text": [
      " 67%|███████████████████████████████████████████████████████▎                           | 8/12 [03:26<01:38, 24.70s/it]"
     ]
    },
    {
     "name": "stdout",
     "output_type": "stream",
     "text": [
      "Finding fine drift...\n",
      "Loading: \\\\192.168.0.96\\bbfish124\\HttHuman_Snonia__06_12_2023\\H33_MER2col__set5\\Conv_zscan__30.zarr\n",
      "Finding markers...\n"
     ]
    },
    {
     "name": "stderr",
     "output_type": "stream",
     "text": [
      "\n",
      "  0%|                                                                                            | 0/7 [00:00<?, ?it/s]\u001b[A\n",
      " 14%|████████████                                                                        | 1/7 [00:00<00:03,  1.59it/s]\u001b[A\n",
      "100%|████████████████████████████████████████████████████████████████████████████████████| 7/7 [00:00<00:00,  7.05it/s]\u001b[A\n",
      "\n",
      "  0%|                                                                                            | 0/7 [00:00<?, ?it/s]\u001b[A\n",
      " 14%|████████████                                                                        | 1/7 [00:01<00:09,  1.62s/it]\u001b[A\n",
      "100%|████████████████████████████████████████████████████████████████████████████████████| 7/7 [00:02<00:00,  3.38it/s]\u001b[A\n"
     ]
    },
    {
     "name": "stdout",
     "output_type": "stream",
     "text": [
      "Finding rough drift...\n"
     ]
    },
    {
     "name": "stderr",
     "output_type": "stream",
     "text": [
      " 75%|██████████████████████████████████████████████████████████████▎                    | 9/12 [03:49<01:12, 24.33s/it]"
     ]
    },
    {
     "name": "stdout",
     "output_type": "stream",
     "text": [
      "Finding fine drift...\n",
      "Loading: \\\\192.168.0.96\\bbfish124\\HttHuman_Snonia__06_12_2023\\H34_MER2col__set5\\Conv_zscan__30.zarr\n",
      "Finding markers...\n"
     ]
    },
    {
     "name": "stderr",
     "output_type": "stream",
     "text": [
      "\n",
      "  0%|                                                                                            | 0/7 [00:00<?, ?it/s]\u001b[A\n",
      " 14%|████████████                                                                        | 1/7 [00:00<00:04,  1.49it/s]\u001b[A\n",
      "100%|████████████████████████████████████████████████████████████████████████████████████| 7/7 [00:01<00:00,  6.71it/s]\u001b[A\n",
      "\n",
      "  0%|                                                                                            | 0/7 [00:00<?, ?it/s]\u001b[A\n",
      " 14%|████████████                                                                        | 1/7 [00:01<00:09,  1.61s/it]\u001b[A\n",
      "100%|████████████████████████████████████████████████████████████████████████████████████| 7/7 [00:02<00:00,  3.37it/s]\u001b[A\n"
     ]
    },
    {
     "name": "stdout",
     "output_type": "stream",
     "text": [
      "Finding rough drift...\n"
     ]
    },
    {
     "name": "stderr",
     "output_type": "stream",
     "text": [
      " 83%|████████████████████████████████████████████████████████████████████▎             | 10/12 [04:13<00:48, 24.09s/it]"
     ]
    },
    {
     "name": "stdout",
     "output_type": "stream",
     "text": [
      "Finding fine drift...\n",
      "Loading: \\\\192.168.0.96\\bbfish124\\HttHuman_Snonia__06_12_2023\\H35_MER2col__set5\\Conv_zscan__30.zarr\n",
      "Finding markers...\n"
     ]
    },
    {
     "name": "stderr",
     "output_type": "stream",
     "text": [
      "\n",
      "  0%|                                                                                            | 0/7 [00:00<?, ?it/s]\u001b[A\n",
      " 14%|████████████                                                                        | 1/7 [00:00<00:03,  1.52it/s]\u001b[A\n",
      "100%|████████████████████████████████████████████████████████████████████████████████████| 7/7 [00:01<00:00,  6.81it/s]\u001b[A\n",
      "\n",
      "  0%|                                                                                            | 0/7 [00:00<?, ?it/s]\u001b[A\n",
      " 14%|████████████                                                                        | 1/7 [00:01<00:09,  1.64s/it]\u001b[A\n",
      "100%|████████████████████████████████████████████████████████████████████████████████████| 7/7 [00:02<00:00,  3.33it/s]\u001b[A\n"
     ]
    },
    {
     "name": "stdout",
     "output_type": "stream",
     "text": [
      "Finding rough drift...\n"
     ]
    },
    {
     "name": "stderr",
     "output_type": "stream",
     "text": [
      " 92%|███████████████████████████████████████████████████████████████████████████▏      | 11/12 [04:37<00:24, 24.22s/it]"
     ]
    },
    {
     "name": "stdout",
     "output_type": "stream",
     "text": [
      "Finding fine drift...\n",
      "Loading: \\\\192.168.0.96\\bbfish124\\HttHuman_Snonia__06_12_2023\\H36_MER2col__set5\\Conv_zscan__30.zarr\n",
      "Finding markers...\n"
     ]
    },
    {
     "name": "stderr",
     "output_type": "stream",
     "text": [
      "\n",
      "  0%|                                                                                            | 0/7 [00:00<?, ?it/s]\u001b[A\n",
      " 14%|████████████                                                                        | 1/7 [00:00<00:03,  1.63it/s]\u001b[A\n",
      "100%|████████████████████████████████████████████████████████████████████████████████████| 7/7 [00:00<00:00,  7.16it/s]\u001b[A\n",
      "\n",
      "  0%|                                                                                            | 0/7 [00:00<?, ?it/s]\u001b[A\n",
      " 14%|████████████                                                                        | 1/7 [00:01<00:10,  1.78s/it]\u001b[A\n",
      "100%|████████████████████████████████████████████████████████████████████████████████████| 7/7 [00:02<00:00,  3.13it/s]\u001b[A\n"
     ]
    },
    {
     "name": "stdout",
     "output_type": "stream",
     "text": [
      "Finding rough drift...\n"
     ]
    },
    {
     "name": "stderr",
     "output_type": "stream",
     "text": [
      "100%|██████████████████████████████████████████████████████████████████████████████████| 12/12 [05:02<00:00, 25.21s/it]"
     ]
    },
    {
     "name": "stdout",
     "output_type": "stream",
     "text": [
      "Finding fine drift...\n"
     ]
    },
    {
     "name": "stderr",
     "output_type": "stream",
     "text": [
      "\n"
     ]
    }
   ],
   "source": [
    "set_ = '_set5'\n",
    "save_folder,all_flds,fov = get_files((set_,30))\n",
    "compute_drift(save_folder,fov,all_flds,set_,redo=False,gpu=False)"
   ]
  },
  {
   "cell_type": "code",
   "execution_count": 5,
   "id": "b7dc7eba-ee80-456b-90d2-4e1e19a098f2",
   "metadata": {
    "tags": []
   },
   "outputs": [
    {
     "name": "stderr",
     "output_type": "stream",
     "text": [
      "  0%|                                                                                           | 0/12 [00:00<?, ?it/s]"
     ]
    },
    {
     "name": "stdout",
     "output_type": "stream",
     "text": [
      "Loading: \\\\192.168.0.96\\bbfish124\\HttHuman_Snonia__06_12_2023\\H31_MER2col__set5\\Conv_zscan__30.zarr\n",
      "Finding markers...\n"
     ]
    },
    {
     "name": "stderr",
     "output_type": "stream",
     "text": [
      "\n",
      "  0%|                                                                                            | 0/7 [00:00<?, ?it/s]\u001b[A\n",
      " 14%|████████████                                                                        | 1/7 [00:00<00:03,  1.61it/s]\u001b[A\n",
      "100%|████████████████████████████████████████████████████████████████████████████████████| 7/7 [00:00<00:00,  7.15it/s]\u001b[A\n",
      "\n",
      "  0%|                                                                                            | 0/7 [00:00<?, ?it/s]\u001b[A\n",
      " 14%|████████████                                                                        | 1/7 [00:01<00:09,  1.59s/it]\u001b[A\n",
      "100%|████████████████████████████████████████████████████████████████████████████████████| 7/7 [00:02<00:00,  3.43it/s]\u001b[A\n"
     ]
    },
    {
     "name": "stdout",
     "output_type": "stream",
     "text": [
      "Loading: \\\\192.168.0.96\\bbfish124\\HttHuman_Snonia__06_12_2023\\H25_MER2col__set5\\Conv_zscan__30.zarr\n",
      "Finding markers...\n"
     ]
    },
    {
     "name": "stderr",
     "output_type": "stream",
     "text": [
      "\n",
      "  0%|                                                                                            | 0/7 [00:00<?, ?it/s]\u001b[A\n",
      " 14%|████████████                                                                        | 1/7 [00:00<00:03,  1.54it/s]\u001b[A\n",
      "100%|████████████████████████████████████████████████████████████████████████████████████| 7/7 [00:00<00:00,  7.06it/s]\u001b[A\n",
      "\n",
      "  0%|                                                                                            | 0/7 [00:00<?, ?it/s]\u001b[A\n",
      " 14%|████████████                                                                        | 1/7 [00:01<00:10,  1.74s/it]\u001b[A\n",
      "100%|████████████████████████████████████████████████████████████████████████████████████| 7/7 [00:02<00:00,  3.18it/s]\u001b[A\n"
     ]
    },
    {
     "name": "stdout",
     "output_type": "stream",
     "text": [
      "Finding rough drift...\n"
     ]
    },
    {
     "name": "stderr",
     "output_type": "stream",
     "text": [
      "  8%|██████▉                                                                            | 1/12 [00:39<07:10, 39.14s/it]"
     ]
    },
    {
     "name": "stdout",
     "output_type": "stream",
     "text": [
      "Finding fine drift...\n",
      "Loading: \\\\192.168.0.96\\bbfish124\\HttHuman_Snonia__06_12_2023\\H26_MER2col__set5\\Conv_zscan__30.zarr\n",
      "Finding markers...\n"
     ]
    },
    {
     "name": "stderr",
     "output_type": "stream",
     "text": [
      "\n",
      "  0%|                                                                                            | 0/7 [00:00<?, ?it/s]\u001b[A\n",
      " 14%|████████████                                                                        | 1/7 [00:00<00:03,  1.64it/s]\u001b[A\n",
      "100%|████████████████████████████████████████████████████████████████████████████████████| 7/7 [00:00<00:00,  7.37it/s]\u001b[A\n",
      "\n",
      "  0%|                                                                                            | 0/7 [00:00<?, ?it/s]\u001b[A\n",
      " 14%|████████████                                                                        | 1/7 [00:01<00:09,  1.62s/it]\u001b[A\n",
      "100%|████████████████████████████████████████████████████████████████████████████████████| 7/7 [00:02<00:00,  3.40it/s]\u001b[A\n"
     ]
    },
    {
     "name": "stdout",
     "output_type": "stream",
     "text": [
      "Finding rough drift...\n"
     ]
    },
    {
     "name": "stderr",
     "output_type": "stream",
     "text": [
      " 17%|█████████████▊                                                                     | 2/12 [01:03<05:03, 30.32s/it]"
     ]
    },
    {
     "name": "stdout",
     "output_type": "stream",
     "text": [
      "Finding fine drift...\n",
      "Loading: \\\\192.168.0.96\\bbfish124\\HttHuman_Snonia__06_12_2023\\H27_MER2col__set5\\Conv_zscan__30.zarr\n"
     ]
    },
    {
     "name": "stderr",
     "output_type": "stream",
     "text": [
      " 17%|█████████████▊                                                                     | 2/12 [01:05<05:29, 32.95s/it]\n"
     ]
    },
    {
     "ename": "KeyboardInterrupt",
     "evalue": "",
     "output_type": "error",
     "traceback": [
      "\u001b[1;31m---------------------------------------------------------------------------\u001b[0m",
      "\u001b[1;31mKeyboardInterrupt\u001b[0m                         Traceback (most recent call last)",
      "Cell \u001b[1;32mIn[5], line 13\u001b[0m\n\u001b[0;32m     11\u001b[0m     obj \u001b[38;5;241m=\u001b[39m fine_drift(fl_ref,fl)\n\u001b[0;32m     12\u001b[0m \u001b[38;5;28;01melse\u001b[39;00m:\n\u001b[1;32m---> 13\u001b[0m     \u001b[43mobj\u001b[49m\u001b[38;5;241;43m.\u001b[39;49m\u001b[43mget_drift\u001b[49m\u001b[43m(\u001b[49m\u001b[43mfl_ref\u001b[49m\u001b[43m,\u001b[49m\u001b[43mfl\u001b[49m\u001b[43m)\u001b[49m\n\u001b[0;32m     14\u001b[0m new_drift \u001b[38;5;241m=\u001b[39m \u001b[38;5;241m-\u001b[39m(obj\u001b[38;5;241m.\u001b[39mdrft_minus\u001b[38;5;241m+\u001b[39mobj\u001b[38;5;241m.\u001b[39mdrft_plus)\u001b[38;5;241m/\u001b[39m\u001b[38;5;241m2\u001b[39m\n\u001b[0;32m     15\u001b[0m newdrifts\u001b[38;5;241m.\u001b[39mappend([new_drift,obj\u001b[38;5;241m.\u001b[39mdrft_minus,obj\u001b[38;5;241m.\u001b[39mdrft_plus,obj\u001b[38;5;241m.\u001b[39mdrift,obj\u001b[38;5;241m.\u001b[39mpair_minus,obj\u001b[38;5;241m.\u001b[39mpair_plus])\n",
      "File \u001b[1;32mC:\\Scripts\\NMERFISH\\ioMicro.py:3426\u001b[0m, in \u001b[0;36mfine_drift.get_drift\u001b[1;34m(self, fl_ref, fl)\u001b[0m\n\u001b[0;32m   3424\u001b[0m \u001b[38;5;28;01mif\u001b[39;00m fl\u001b[38;5;241m!=\u001b[39m\u001b[38;5;28mself\u001b[39m\u001b[38;5;241m.\u001b[39mfl:\n\u001b[0;32m   3425\u001b[0m     \u001b[38;5;28;01mif\u001b[39;00m \u001b[38;5;28mself\u001b[39m\u001b[38;5;241m.\u001b[39mverbose: \u001b[38;5;28mprint\u001b[39m(\u001b[38;5;124m\"\u001b[39m\u001b[38;5;124mLoading:\u001b[39m\u001b[38;5;124m\"\u001b[39m,fl)\n\u001b[1;32m-> 3426\u001b[0m     \u001b[38;5;28mself\u001b[39m\u001b[38;5;241m.\u001b[39mim \u001b[38;5;241m=\u001b[39m \u001b[38;5;28;43mself\u001b[39;49m\u001b[38;5;241;43m.\u001b[39;49m\u001b[43mload_im\u001b[49m\u001b[43m(\u001b[49m\u001b[43mfl\u001b[49m\u001b[43m)\u001b[49m\n\u001b[0;32m   3427\u001b[0m     \u001b[38;5;28;01mif\u001b[39;00m \u001b[38;5;28mself\u001b[39m\u001b[38;5;241m.\u001b[39mverbose: \u001b[38;5;28mprint\u001b[39m(\u001b[38;5;124m\"\u001b[39m\u001b[38;5;124mFinding markers...\u001b[39m\u001b[38;5;124m\"\u001b[39m)\n\u001b[0;32m   3428\u001b[0m     \u001b[38;5;28mself\u001b[39m\u001b[38;5;241m.\u001b[39mXB2_minus,\u001b[38;5;28mself\u001b[39m\u001b[38;5;241m.\u001b[39mXB2_plus \u001b[38;5;241m=\u001b[39m \u001b[38;5;28mself\u001b[39m\u001b[38;5;241m.\u001b[39mget_X_plus_minus(\u001b[38;5;28mself\u001b[39m\u001b[38;5;241m.\u001b[39mim)\n",
      "File \u001b[1;32mC:\\Scripts\\NMERFISH\\ioMicro.py:3440\u001b[0m, in \u001b[0;36mfine_drift.load_im\u001b[1;34m(self, fl)\u001b[0m\n\u001b[0;32m   3439\u001b[0m \u001b[38;5;28;01mdef\u001b[39;00m \u001b[38;5;21mload_im\u001b[39m(\u001b[38;5;28mself\u001b[39m,fl):\n\u001b[1;32m-> 3440\u001b[0m     \u001b[38;5;28;01mreturn\u001b[39;00m \u001b[43mnp\u001b[49m\u001b[38;5;241;43m.\u001b[39;49m\u001b[43marray\u001b[49m\u001b[43m(\u001b[49m\u001b[43mread_im\u001b[49m\u001b[43m(\u001b[49m\u001b[43mfl\u001b[49m\u001b[43m)\u001b[49m\u001b[43m[\u001b[49m\u001b[38;5;241;43m-\u001b[39;49m\u001b[38;5;241;43m1\u001b[39;49m\u001b[43m]\u001b[49m\u001b[43m,\u001b[49m\u001b[43mdtype\u001b[49m\u001b[38;5;241;43m=\u001b[39;49m\u001b[43mnp\u001b[49m\u001b[38;5;241;43m.\u001b[39;49m\u001b[43mfloat32\u001b[49m\u001b[43m)\u001b[49m\n",
      "File \u001b[1;32m~\\anaconda3\\envs\\cellpose\\lib\\site-packages\\dask\\array\\core.py:1700\u001b[0m, in \u001b[0;36mArray.__array__\u001b[1;34m(self, dtype, **kwargs)\u001b[0m\n\u001b[0;32m   1699\u001b[0m \u001b[38;5;28;01mdef\u001b[39;00m \u001b[38;5;21m__array__\u001b[39m(\u001b[38;5;28mself\u001b[39m, dtype\u001b[38;5;241m=\u001b[39m\u001b[38;5;28;01mNone\u001b[39;00m, \u001b[38;5;241m*\u001b[39m\u001b[38;5;241m*\u001b[39mkwargs):\n\u001b[1;32m-> 1700\u001b[0m     x \u001b[38;5;241m=\u001b[39m \u001b[38;5;28;43mself\u001b[39;49m\u001b[38;5;241;43m.\u001b[39;49m\u001b[43mcompute\u001b[49m\u001b[43m(\u001b[49m\u001b[43m)\u001b[49m\n\u001b[0;32m   1701\u001b[0m     \u001b[38;5;28;01mif\u001b[39;00m dtype \u001b[38;5;129;01mand\u001b[39;00m x\u001b[38;5;241m.\u001b[39mdtype \u001b[38;5;241m!=\u001b[39m dtype:\n\u001b[0;32m   1702\u001b[0m         x \u001b[38;5;241m=\u001b[39m x\u001b[38;5;241m.\u001b[39mastype(dtype)\n",
      "File \u001b[1;32m~\\anaconda3\\envs\\cellpose\\lib\\site-packages\\dask\\base.py:314\u001b[0m, in \u001b[0;36mDaskMethodsMixin.compute\u001b[1;34m(self, **kwargs)\u001b[0m\n\u001b[0;32m    290\u001b[0m \u001b[38;5;28;01mdef\u001b[39;00m \u001b[38;5;21mcompute\u001b[39m(\u001b[38;5;28mself\u001b[39m, \u001b[38;5;241m*\u001b[39m\u001b[38;5;241m*\u001b[39mkwargs):\n\u001b[0;32m    291\u001b[0m \u001b[38;5;250m    \u001b[39m\u001b[38;5;124;03m\"\"\"Compute this dask collection\u001b[39;00m\n\u001b[0;32m    292\u001b[0m \n\u001b[0;32m    293\u001b[0m \u001b[38;5;124;03m    This turns a lazy Dask collection into its in-memory equivalent.\u001b[39;00m\n\u001b[1;32m   (...)\u001b[0m\n\u001b[0;32m    312\u001b[0m \u001b[38;5;124;03m    dask.base.compute\u001b[39;00m\n\u001b[0;32m    313\u001b[0m \u001b[38;5;124;03m    \"\"\"\u001b[39;00m\n\u001b[1;32m--> 314\u001b[0m     (result,) \u001b[38;5;241m=\u001b[39m \u001b[43mcompute\u001b[49m\u001b[43m(\u001b[49m\u001b[38;5;28;43mself\u001b[39;49m\u001b[43m,\u001b[49m\u001b[43m \u001b[49m\u001b[43mtraverse\u001b[49m\u001b[38;5;241;43m=\u001b[39;49m\u001b[38;5;28;43;01mFalse\u001b[39;49;00m\u001b[43m,\u001b[49m\u001b[43m \u001b[49m\u001b[38;5;241;43m*\u001b[39;49m\u001b[38;5;241;43m*\u001b[39;49m\u001b[43mkwargs\u001b[49m\u001b[43m)\u001b[49m\n\u001b[0;32m    315\u001b[0m     \u001b[38;5;28;01mreturn\u001b[39;00m result\n",
      "File \u001b[1;32m~\\anaconda3\\envs\\cellpose\\lib\\site-packages\\dask\\base.py:599\u001b[0m, in \u001b[0;36mcompute\u001b[1;34m(traverse, optimize_graph, scheduler, get, *args, **kwargs)\u001b[0m\n\u001b[0;32m    596\u001b[0m     keys\u001b[38;5;241m.\u001b[39mappend(x\u001b[38;5;241m.\u001b[39m__dask_keys__())\n\u001b[0;32m    597\u001b[0m     postcomputes\u001b[38;5;241m.\u001b[39mappend(x\u001b[38;5;241m.\u001b[39m__dask_postcompute__())\n\u001b[1;32m--> 599\u001b[0m results \u001b[38;5;241m=\u001b[39m \u001b[43mschedule\u001b[49m\u001b[43m(\u001b[49m\u001b[43mdsk\u001b[49m\u001b[43m,\u001b[49m\u001b[43m \u001b[49m\u001b[43mkeys\u001b[49m\u001b[43m,\u001b[49m\u001b[43m \u001b[49m\u001b[38;5;241;43m*\u001b[39;49m\u001b[38;5;241;43m*\u001b[39;49m\u001b[43mkwargs\u001b[49m\u001b[43m)\u001b[49m\n\u001b[0;32m    600\u001b[0m \u001b[38;5;28;01mreturn\u001b[39;00m repack([f(r, \u001b[38;5;241m*\u001b[39ma) \u001b[38;5;28;01mfor\u001b[39;00m r, (f, a) \u001b[38;5;129;01min\u001b[39;00m \u001b[38;5;28mzip\u001b[39m(results, postcomputes)])\n",
      "File \u001b[1;32m~\\anaconda3\\envs\\cellpose\\lib\\site-packages\\dask\\threaded.py:89\u001b[0m, in \u001b[0;36mget\u001b[1;34m(dsk, keys, cache, num_workers, pool, **kwargs)\u001b[0m\n\u001b[0;32m     86\u001b[0m     \u001b[38;5;28;01melif\u001b[39;00m \u001b[38;5;28misinstance\u001b[39m(pool, multiprocessing\u001b[38;5;241m.\u001b[39mpool\u001b[38;5;241m.\u001b[39mPool):\n\u001b[0;32m     87\u001b[0m         pool \u001b[38;5;241m=\u001b[39m MultiprocessingPoolExecutor(pool)\n\u001b[1;32m---> 89\u001b[0m results \u001b[38;5;241m=\u001b[39m \u001b[43mget_async\u001b[49m\u001b[43m(\u001b[49m\n\u001b[0;32m     90\u001b[0m \u001b[43m    \u001b[49m\u001b[43mpool\u001b[49m\u001b[38;5;241;43m.\u001b[39;49m\u001b[43msubmit\u001b[49m\u001b[43m,\u001b[49m\n\u001b[0;32m     91\u001b[0m \u001b[43m    \u001b[49m\u001b[43mpool\u001b[49m\u001b[38;5;241;43m.\u001b[39;49m\u001b[43m_max_workers\u001b[49m\u001b[43m,\u001b[49m\n\u001b[0;32m     92\u001b[0m \u001b[43m    \u001b[49m\u001b[43mdsk\u001b[49m\u001b[43m,\u001b[49m\n\u001b[0;32m     93\u001b[0m \u001b[43m    \u001b[49m\u001b[43mkeys\u001b[49m\u001b[43m,\u001b[49m\n\u001b[0;32m     94\u001b[0m \u001b[43m    \u001b[49m\u001b[43mcache\u001b[49m\u001b[38;5;241;43m=\u001b[39;49m\u001b[43mcache\u001b[49m\u001b[43m,\u001b[49m\n\u001b[0;32m     95\u001b[0m \u001b[43m    \u001b[49m\u001b[43mget_id\u001b[49m\u001b[38;5;241;43m=\u001b[39;49m\u001b[43m_thread_get_id\u001b[49m\u001b[43m,\u001b[49m\n\u001b[0;32m     96\u001b[0m \u001b[43m    \u001b[49m\u001b[43mpack_exception\u001b[49m\u001b[38;5;241;43m=\u001b[39;49m\u001b[43mpack_exception\u001b[49m\u001b[43m,\u001b[49m\n\u001b[0;32m     97\u001b[0m \u001b[43m    \u001b[49m\u001b[38;5;241;43m*\u001b[39;49m\u001b[38;5;241;43m*\u001b[39;49m\u001b[43mkwargs\u001b[49m\u001b[43m,\u001b[49m\n\u001b[0;32m     98\u001b[0m \u001b[43m\u001b[49m\u001b[43m)\u001b[49m\n\u001b[0;32m    100\u001b[0m \u001b[38;5;66;03m# Cleanup pools associated to dead threads\u001b[39;00m\n\u001b[0;32m    101\u001b[0m \u001b[38;5;28;01mwith\u001b[39;00m pools_lock:\n",
      "File \u001b[1;32m~\\anaconda3\\envs\\cellpose\\lib\\site-packages\\dask\\local.py:500\u001b[0m, in \u001b[0;36mget_async\u001b[1;34m(submit, num_workers, dsk, result, cache, get_id, rerun_exceptions_locally, pack_exception, raise_exception, callbacks, dumps, loads, chunksize, **kwargs)\u001b[0m\n\u001b[0;32m    498\u001b[0m \u001b[38;5;28;01mwhile\u001b[39;00m state[\u001b[38;5;124m\"\u001b[39m\u001b[38;5;124mwaiting\u001b[39m\u001b[38;5;124m\"\u001b[39m] \u001b[38;5;129;01mor\u001b[39;00m state[\u001b[38;5;124m\"\u001b[39m\u001b[38;5;124mready\u001b[39m\u001b[38;5;124m\"\u001b[39m] \u001b[38;5;129;01mor\u001b[39;00m state[\u001b[38;5;124m\"\u001b[39m\u001b[38;5;124mrunning\u001b[39m\u001b[38;5;124m\"\u001b[39m]:\n\u001b[0;32m    499\u001b[0m     fire_tasks(chunksize)\n\u001b[1;32m--> 500\u001b[0m     \u001b[38;5;28;01mfor\u001b[39;00m key, res_info, failed \u001b[38;5;129;01min\u001b[39;00m \u001b[43mqueue_get\u001b[49m\u001b[43m(\u001b[49m\u001b[43mqueue\u001b[49m\u001b[43m)\u001b[49m\u001b[38;5;241m.\u001b[39mresult():\n\u001b[0;32m    501\u001b[0m         \u001b[38;5;28;01mif\u001b[39;00m failed:\n\u001b[0;32m    502\u001b[0m             exc, tb \u001b[38;5;241m=\u001b[39m loads(res_info)\n",
      "File \u001b[1;32m~\\anaconda3\\envs\\cellpose\\lib\\site-packages\\dask\\local.py:130\u001b[0m, in \u001b[0;36mqueue_get\u001b[1;34m(q)\u001b[0m\n\u001b[0;32m    128\u001b[0m \u001b[38;5;28;01mwhile\u001b[39;00m \u001b[38;5;28;01mTrue\u001b[39;00m:\n\u001b[0;32m    129\u001b[0m     \u001b[38;5;28;01mtry\u001b[39;00m:\n\u001b[1;32m--> 130\u001b[0m         \u001b[38;5;28;01mreturn\u001b[39;00m \u001b[43mq\u001b[49m\u001b[38;5;241;43m.\u001b[39;49m\u001b[43mget\u001b[49m\u001b[43m(\u001b[49m\u001b[43mblock\u001b[49m\u001b[38;5;241;43m=\u001b[39;49m\u001b[38;5;28;43;01mTrue\u001b[39;49;00m\u001b[43m,\u001b[49m\u001b[43m \u001b[49m\u001b[43mtimeout\u001b[49m\u001b[38;5;241;43m=\u001b[39;49m\u001b[38;5;241;43m0.1\u001b[39;49m\u001b[43m)\u001b[49m\n\u001b[0;32m    131\u001b[0m     \u001b[38;5;28;01mexcept\u001b[39;00m Empty:\n\u001b[0;32m    132\u001b[0m         \u001b[38;5;28;01mpass\u001b[39;00m\n",
      "File \u001b[1;32m~\\anaconda3\\envs\\cellpose\\lib\\queue.py:179\u001b[0m, in \u001b[0;36mQueue.get\u001b[1;34m(self, block, timeout)\u001b[0m\n\u001b[0;32m    177\u001b[0m         \u001b[38;5;28;01mif\u001b[39;00m remaining \u001b[38;5;241m<\u001b[39m\u001b[38;5;241m=\u001b[39m \u001b[38;5;241m0.0\u001b[39m:\n\u001b[0;32m    178\u001b[0m             \u001b[38;5;28;01mraise\u001b[39;00m Empty\n\u001b[1;32m--> 179\u001b[0m         \u001b[38;5;28;43mself\u001b[39;49m\u001b[38;5;241;43m.\u001b[39;49m\u001b[43mnot_empty\u001b[49m\u001b[38;5;241;43m.\u001b[39;49m\u001b[43mwait\u001b[49m\u001b[43m(\u001b[49m\u001b[43mremaining\u001b[49m\u001b[43m)\u001b[49m\n\u001b[0;32m    180\u001b[0m item \u001b[38;5;241m=\u001b[39m \u001b[38;5;28mself\u001b[39m\u001b[38;5;241m.\u001b[39m_get()\n\u001b[0;32m    181\u001b[0m \u001b[38;5;28mself\u001b[39m\u001b[38;5;241m.\u001b[39mnot_full\u001b[38;5;241m.\u001b[39mnotify()\n",
      "File \u001b[1;32m~\\anaconda3\\envs\\cellpose\\lib\\threading.py:306\u001b[0m, in \u001b[0;36mCondition.wait\u001b[1;34m(self, timeout)\u001b[0m\n\u001b[0;32m    304\u001b[0m \u001b[38;5;28;01melse\u001b[39;00m:\n\u001b[0;32m    305\u001b[0m     \u001b[38;5;28;01mif\u001b[39;00m timeout \u001b[38;5;241m>\u001b[39m \u001b[38;5;241m0\u001b[39m:\n\u001b[1;32m--> 306\u001b[0m         gotit \u001b[38;5;241m=\u001b[39m \u001b[43mwaiter\u001b[49m\u001b[38;5;241;43m.\u001b[39;49m\u001b[43macquire\u001b[49m\u001b[43m(\u001b[49m\u001b[38;5;28;43;01mTrue\u001b[39;49;00m\u001b[43m,\u001b[49m\u001b[43m \u001b[49m\u001b[43mtimeout\u001b[49m\u001b[43m)\u001b[49m\n\u001b[0;32m    307\u001b[0m     \u001b[38;5;28;01melse\u001b[39;00m:\n\u001b[0;32m    308\u001b[0m         gotit \u001b[38;5;241m=\u001b[39m waiter\u001b[38;5;241m.\u001b[39macquire(\u001b[38;5;28;01mFalse\u001b[39;00m)\n",
      "\u001b[1;31mKeyboardInterrupt\u001b[0m: "
     ]
    }
   ],
   "source": [
    "\n",
    "fov,set_ = 'Conv_zscan__30','_set5'\n",
    "dec = decoder_simple(save_folder,fov=fov,set_=set_)\n",
    "\n",
    "drfits,flds,fov_ = np.load(dec.drift_fl,allow_pickle=True)\n",
    "\n",
    "\n",
    "fls = [fld+os.sep+fov_ for fld in flds]\n",
    "fl_ref = [fld+os.sep+fov_ for fld,(drft,_) in zip(flds,drfits) if np.sum(drft)==0][0]\n",
    "\n",
    "obj = None\n",
    "newdrifts = []\n",
    "for fl in tqdm(fls):\n",
    "    if obj is None:\n",
    "        obj = fine_drift(fl_ref,fl)\n",
    "    else:\n",
    "        obj.get_drift(fl_ref,fl)\n",
    "    new_drift = -(obj.drft_minus+obj.drft_plus)/2\n",
    "    newdrifts.append([new_drift,obj.drft_minus,obj.drft_plus,obj.drift,obj.pair_minus,obj.pair_plus])\n",
    "    \n",
    "drift_fl_new = dec.drift_fl.replace('drift_','driftNew_')\n",
    "pickle.dump([newdrifts,flds,fov_],open(drift_fl_new,'wb'))"
   ]
  },
  {
   "cell_type": "code",
   "execution_count": 4,
   "id": "d65e2025-b70f-4eb4-9733-49733831e896",
   "metadata": {
    "tags": []
   },
   "outputs": [
    {
     "data": {
      "text/plain": [
       "[[array([ 2.14350721, -3.23745714, 13.3923728 ]),\n",
       "  array([ -2.18881585,   3.31409031, -13.37976477]),\n",
       "  array([ -2.09819858,   3.16082398, -13.40498083]),\n",
       "  (array([ -2,   3, -13]),\n",
       "   [array([ -2,   3, -13], dtype=int64),\n",
       "    array([ -2,   3, -13], dtype=int64),\n",
       "    array([ -2,   3, -13], dtype=int64),\n",
       "    array([ -2,   3, -13], dtype=int64),\n",
       "    array([ -2,   3, -13], dtype=int64)]),\n",
       "  [array([[8.40821905e+00, 1.27687556e+03, 2.02194526e+03],\n",
       "          [7.87129630e+00, 2.22499472e+03, 2.91780432e+03],\n",
       "          [9.04161976e+00, 7.25836852e+02, 7.68153038e+02],\n",
       "          [9.22473495e+00, 1.30897723e+03, 2.09717393e+03],\n",
       "          [9.30883347e+00, 1.31406160e+03, 2.02889236e+03],\n",
       "          [9.36031098e+00, 1.71201272e+03, 2.67895147e+03],\n",
       "          [9.45933788e+00, 2.07898212e+03, 1.15899911e+03],\n",
       "          [9.14669696e+00, 2.18477833e+03, 2.96105344e+03],\n",
       "          [9.00811049e+00, 2.27203048e+03, 2.90692761e+03],\n",
       "          [1.02846057e+01, 2.33808653e+00, 2.23310512e+03],\n",
       "          [1.03214285e+01, 2.73884607e+00, 2.23311389e+03],\n",
       "          [1.03923000e+01, 2.58710116e+01, 2.27011767e+03],\n",
       "          [1.04062730e+01, 3.56076301e+02, 6.55856847e+02],\n",
       "          [1.04202271e+01, 1.16603094e+03, 1.59576249e+03],\n",
       "          [9.77527198e+00, 1.26384535e+03, 2.07518339e+03],\n",
       "          [1.03697043e+01, 1.85202580e+03, 2.50012279e+03],\n",
       "          [1.00498076e+01, 2.06902426e+03, 1.21596869e+03],\n",
       "          [1.04840718e+01, 2.21302209e+03, 2.55703341e+03],\n",
       "          [1.11552040e+01, 9.79859122e+01, 2.27704640e+03],\n",
       "          [1.11959783e+01, 1.51991933e+02, 2.01208806e+03],\n",
       "          [1.12526415e+01, 2.80073716e+02, 6.90014270e+02],\n",
       "          [1.10520074e+01, 3.07927467e+02, 7.50118464e+02],\n",
       "          [1.12492922e+01, 3.32960070e+02, 6.48167184e+02],\n",
       "          [1.13588235e+01, 3.99099713e+02, 7.03948054e+02],\n",
       "          [1.12033447e+01, 7.52965652e+02, 3.39034894e+02],\n",
       "          [1.10326391e+01, 7.88078257e+02, 2.73938294e+02],\n",
       "          [1.11220661e+01, 1.11387910e+03, 1.64502002e+03],\n",
       "          [1.10741406e+01, 1.14696365e+03, 1.66902929e+03],\n",
       "          [1.09608331e+01, 1.19794311e+03, 1.65005290e+03],\n",
       "          [1.11650377e+01, 1.27497966e+03, 2.42133788e+02],\n",
       "          [1.13410678e+01, 1.31493019e+03, 2.41401533e+03],\n",
       "          [1.13844469e+01, 1.42009860e+03, 2.46608524e+03],\n",
       "          [1.07741860e+01, 1.74102374e+03, 2.72697661e+03],\n",
       "          [1.11034871e+01, 1.77899136e+03, 2.73793480e+03],\n",
       "          [1.11307771e+01, 1.79196150e+03, 2.48003868e+03],\n",
       "          [1.13649382e+01, 1.83205934e+03, 2.72107796e+03],\n",
       "          [1.12020148e+01, 2.15098729e+03, 1.25798190e+03],\n",
       "          [1.09329838e+01, 2.29593346e+03, 2.60103822e+03],\n",
       "          [1.07811563e+01, 2.64197148e+03, 7.78935715e+02],\n",
       "          [1.12439705e+01, 2.72776700e+03, 2.05396763e+03],\n",
       "          [1.13224754e+01, 2.92194789e+03, 1.15999092e+03],\n",
       "          [1.23106881e+01, 1.20948659e+02, 1.95196960e+03],\n",
       "          [1.20512326e+01, 1.48046320e+02, 2.24094629e+03],\n",
       "          [1.22021471e+01, 2.01998734e+02, 2.02483749e+03],\n",
       "          [1.23147999e+01, 2.46014374e+02, 2.01293939e+03],\n",
       "          [1.22477336e+01, 4.83906880e+02, 2.45013132e+02],\n",
       "          [1.21002660e+01, 5.52072225e+02, 2.90184075e+03],\n",
       "          [1.19367399e+01, 5.90915025e+02, 1.69701772e+03],\n",
       "          [1.22172334e+01, 8.07063681e+02, 3.47998208e+02],\n",
       "          [1.22705741e+01, 1.10009407e+03, 1.30996902e+03],\n",
       "          [1.23000996e+01, 1.22401894e+03, 1.28301317e+03],\n",
       "          [1.19955946e+01, 1.23899868e+03, 1.92928507e+02],\n",
       "          [1.23262953e+01, 1.27398491e+03, 2.45207707e+03],\n",
       "          [1.26028746e+01, 1.32304653e+03, 2.31037288e+02],\n",
       "          [1.19992652e+01, 1.37900242e+03, 2.34304764e+03],\n",
       "          [1.21780176e+01, 1.46596289e+03, 7.71887268e+02],\n",
       "          [1.20136694e+01, 1.68893538e+03, 8.44017313e+02],\n",
       "          [1.19475246e+01, 1.71594892e+03, 8.02154800e+02],\n",
       "          [1.21889166e+01, 1.73609699e+03, 9.17913332e+02],\n",
       "          [1.21061398e+01, 1.74091012e+03, 2.64598186e+03],\n",
       "          [1.19459002e+01, 1.76003287e+03, 7.49754725e+02],\n",
       "          [1.24445695e+01, 1.84817603e+03, 2.42689914e+03],\n",
       "          [1.19550064e+01, 1.90803446e+03, 1.98878631e+02],\n",
       "          [1.23448692e+01, 1.92896988e+03, 1.82913349e+02],\n",
       "          [1.21876323e+01, 2.28002467e+03, 2.96507438e+03],\n",
       "          [1.21417846e+01, 2.32601919e+03, 2.54189194e+03],\n",
       "          [1.22894292e+01, 2.78003284e+03, 1.06905088e+03],\n",
       "          [1.21830909e+01, 2.77990086e+03, 1.13401310e+03],\n",
       "          [1.22890080e+01, 2.99686160e+03, 1.06594625e+03],\n",
       "          [1.30860481e+01, 8.80010572e+01, 2.16983363e+03],\n",
       "          [1.27521389e+01, 1.35940815e+02, 2.18207511e+03],\n",
       "          [1.31876869e+01, 3.31979702e+02, 7.62953275e+02],\n",
       "          [1.34137094e+01, 4.09034292e+02, 2.54951050e+02],\n",
       "          [1.29978849e+01, 4.96049813e+02, 2.94805240e+03],\n",
       "          [1.34694180e+01, 9.30968087e+02, 1.17844533e+02],\n",
       "          [1.29965527e+01, 1.23503487e+03, 1.34902617e+03],\n",
       "          [1.29228637e+01, 1.43296768e+03, 2.40398281e+03],\n",
       "          [1.31727015e+01, 1.48395337e+03, 8.71138068e+02],\n",
       "          [1.33160873e+01, 1.78209723e+03, 8.86058654e+02],\n",
       "          [1.33338097e+01, 1.79100223e+03, 2.63202178e+03],\n",
       "          [1.28045150e+01, 1.90592579e+03, 2.66049768e+02],\n",
       "          [1.32499834e+01, 1.94803043e+03, 1.76010024e+02],\n",
       "          [1.30038702e+01, 2.15789923e+03, 1.12906267e+03],\n",
       "          [1.26785726e+01, 2.27705613e+03, 2.50399347e+03],\n",
       "          [1.32386661e+01, 2.82799789e+03, 1.15094593e+03],\n",
       "          [1.34142755e+01, 2.88112480e+03, 1.11204025e+03],\n",
       "          [1.28754748e+01, 2.91000225e+03, 1.06098486e+03],\n",
       "          [1.41799799e+01, 2.00000083e+02, 1.21051913e+02],\n",
       "          [1.44437839e+01, 2.57809480e+02, 1.96203141e+03],\n",
       "          [1.40076754e+01, 3.87967558e+02, 6.18993603e+02],\n",
       "          [1.41918855e+01, 3.98155987e+02, 2.89991813e+03],\n",
       "          [1.40659590e+01, 4.25118500e+02, 2.02988406e+02],\n",
       "          [1.43008706e+01, 5.03019693e+02, 1.60902584e+03],\n",
       "          [1.35386113e+01, 5.43969925e+02, 1.69810066e+03],\n",
       "          [1.42907069e+01, 5.70006099e+02, 1.63196031e+03],\n",
       "          [1.39000941e+01, 1.12297741e+03, 1.27494855e+03],\n",
       "          [1.37301499e+01, 1.16195558e+03, 1.25700338e+03],\n",
       "          [1.38781837e+01, 1.23796847e+03, 8.72092469e+02],\n",
       "          [1.44940221e+01, 1.36506184e+03, 1.08799790e+03],\n",
       "          [1.42679622e+01, 1.51895451e+03, 8.70941631e+02],\n",
       "          [1.43641394e+01, 1.73301222e+03, 2.40407863e+03],\n",
       "          [1.44919021e+01, 1.82898757e+03, 8.96825443e+02],\n",
       "          [1.44855685e+01, 1.97896093e+03, 1.61398657e+03],\n",
       "          [1.39058520e+01, 1.99083979e+03, 1.69593542e+03],\n",
       "          [1.40893832e+01, 2.78108606e+03, 1.99687609e+03],\n",
       "          [1.41421605e+01, 2.88419963e+03, 1.00697105e+03],\n",
       "          [1.48785215e+01, 3.32969381e+02, 1.58912504e+03],\n",
       "          [1.52411429e+01, 3.34957905e+02, 2.87695928e+03],\n",
       "          [1.48410543e+01, 3.82086362e+02, 1.50801251e+03],\n",
       "          [1.50629485e+01, 3.85903222e+02, 2.94898885e+03],\n",
       "          [1.50712627e+01, 8.17059964e+02, 1.76596879e+03],\n",
       "          [1.52994274e+01, 1.11490177e+03, 1.36390522e+03],\n",
       "          [1.51303516e+01, 1.21692602e+03, 2.41199816e+03],\n",
       "          [1.51915620e+01, 1.24186542e+03, 7.87871162e+02],\n",
       "          [1.44872957e+01, 1.55193250e+03, 8.66847408e+02],\n",
       "          [1.48359086e+01, 2.18613469e+03, 1.19896050e+03],\n",
       "          [1.58261730e+01, 9.91825836e+01, 1.23059309e+02],\n",
       "          [1.62701998e+01, 1.25967684e+02, 7.10128004e+01],\n",
       "          [1.58333482e+01, 1.41922201e+02, 1.77842205e+02],\n",
       "          [1.61113838e+01, 2.63062012e+02, 1.03692594e+03],\n",
       "          [1.63818989e+01, 3.32036450e+02, 1.17003542e+03],\n",
       "          [1.58425529e+01, 3.58049391e+02, 2.96792523e+03],\n",
       "          [1.59707955e+01, 4.61957296e+02, 1.69217634e+03],\n",
       "          [1.58506333e+01, 5.20914371e+02, 1.51695975e+03],\n",
       "          [1.62231092e+01, 6.28036896e+02, 1.56600801e+03],\n",
       "          [1.64684746e+01, 7.91033588e+02, 1.54200345e+03],\n",
       "          [1.57319667e+01, 8.02940544e+02, 1.70107996e+03],\n",
       "          [1.60756380e+01, 8.04914934e+02, 1.65292894e+03],\n",
       "          [1.64689671e+01, 9.24957370e+02, 1.87974985e+02],\n",
       "          [1.61025450e+01, 1.20706392e+03, 2.61387376e+03],\n",
       "          [1.56524669e+01, 1.27502903e+03, 7.88944736e+02],\n",
       "          [1.63496976e+01, 1.29497039e+03, 8.53991234e+02],\n",
       "          [1.58498871e+01, 1.30197710e+03, 1.40976311e+02],\n",
       "          [1.57092523e+01, 1.41392387e+03, 1.04997577e+03],\n",
       "          [1.63297870e+01, 1.97195581e+03, 3.08918484e+02],\n",
       "          [1.60580383e+01, 2.01805494e+03, 1.99075985e+02],\n",
       "          [1.58683821e+01, 2.79008753e+03, 2.09182036e+03],\n",
       "          [1.72728481e+01, 1.03107214e+02, 1.89905116e+03],\n",
       "          [1.70948201e+01, 1.85911488e+02, 1.90385061e+03],\n",
       "          [1.71002164e+01, 2.82098359e+02, 1.20301967e+03],\n",
       "          [1.71603582e+01, 3.97010693e+02, 5.26028229e+02],\n",
       "          [1.72359997e+01, 5.87989951e+02, 2.94394991e+03],\n",
       "          [1.73409665e+01, 6.09980633e+02, 9.92019785e+02],\n",
       "          [1.70929005e+01, 7.38023377e+02, 1.58291882e+03],\n",
       "          [1.69322033e+01, 8.71049776e+02, 1.78294714e+03],\n",
       "          [1.72754717e+01, 9.93880541e+02, 1.35952672e+02],\n",
       "          [1.69456491e+01, 1.12215097e+03, 2.39698291e+03],\n",
       "          [1.71018743e+01, 1.18098350e+03, 2.61181800e+03],\n",
       "          [1.69872283e+01, 2.02812010e+03, 2.69081263e+02],\n",
       "          [1.72751339e+01, 2.24800951e+03, 2.65599522e+03],\n",
       "          [1.74042740e+01, 2.30520274e+03, 2.67088869e+03],\n",
       "          [1.72239842e+01, 2.38100000e+03, 1.90609849e+03],\n",
       "          [1.84923471e+01, 1.95097333e+02, 1.82702386e+03],\n",
       "          [1.77201036e+01, 2.09968183e+02, 9.78971190e+02],\n",
       "          [1.80356943e+01, 3.02001266e+02, 2.95706664e+03],\n",
       "          [1.80678758e+01, 5.72055007e+02, 1.05603917e+03],\n",
       "          [1.83838036e+01, 1.13707835e+03, 2.43594500e+03],\n",
       "          [1.75732482e+01, 1.15412435e+03, 2.57401630e+03],\n",
       "          [1.84500400e+01, 1.25386189e+03, 2.54597831e+03],\n",
       "          [1.83331077e+01, 1.41888464e+03, 1.17007430e+03],\n",
       "          [1.77089021e+01, 1.76007625e+03, 8.16961874e+02],\n",
       "          [1.81809386e+01, 1.80802658e+03, 2.37208494e+03],\n",
       "          [1.75549047e+01, 2.05198848e+03, 1.64399069e+03],\n",
       "          [1.78683392e+01, 2.21203045e+03, 2.73702834e+03],\n",
       "          [1.81775294e+01, 2.31614179e+03, 1.83596598e+03],\n",
       "          [1.78328535e+01, 2.32582376e+03, 1.80099294e+03],\n",
       "          [1.86361445e+01, 3.16221046e+02, 9.90992796e+02],\n",
       "          [1.94148417e+01, 4.25045762e+02, 8.69017677e+02],\n",
       "          [1.94302393e+01, 4.89981296e+02, 7.76931342e+02],\n",
       "          [1.86969186e+01, 5.66124590e+02, 2.47901743e+02],\n",
       "          [1.87232385e+01, 5.65953248e+02, 3.10226379e+02],\n",
       "          [1.89820073e+01, 5.96939567e+02, 2.99648898e+03],\n",
       "          [1.90391535e+01, 6.06004246e+02, 1.09195468e+03],\n",
       "          [1.89700248e+01, 8.70101934e+02, 1.61793171e+03],\n",
       "          [1.91588228e+01, 9.39160805e+02, 1.72613093e+03],\n",
       "          [1.91962649e+01, 1.18901054e+03, 1.81082059e+03],\n",
       "          [1.85893610e+01, 1.34100891e+03, 9.50084909e+02],\n",
       "          [1.94596649e+01, 1.38218884e+03, 4.10019546e+02],\n",
       "          [1.93950473e+01, 1.79701843e+03, 7.61994107e+02],\n",
       "          [1.91106441e+01, 2.22202444e+03, 2.67601127e+03],\n",
       "          [1.93804110e+01, 2.37402781e+03, 1.77112098e+03],\n",
       "          [2.00833114e+01, 2.01063968e+02, 1.30602492e+03],\n",
       "          [2.03132614e+01, 2.24941584e+02, 1.87041736e+02],\n",
       "          [2.02905154e+01, 2.64000749e+02, 1.36816244e+03],\n",
       "          [1.98981644e+01, 2.70958505e+02, 1.24787646e+03],\n",
       "          [2.02527615e+01, 3.58041670e+02, 1.39928089e+03],\n",
       "          [1.99306110e+01, 5.30942563e+02, 8.47091823e+02],\n",
       "          [2.02923080e+01, 6.61998634e+02, 1.06698097e+03],\n",
       "          [1.98279673e+01, 1.33893987e+03, 3.32056195e+02],\n",
       "          [1.95936959e+01, 1.43410242e+03, 2.22412841e+03],\n",
       "          [2.01745927e+01, 1.89302959e+03, 8.71965335e+02],\n",
       "          [2.02320798e+01, 2.16304772e+03, 2.34997321e+03],\n",
       "          [2.01126869e+01, 2.62985598e+03, 1.56100299e+03],\n",
       "          [2.04299833e+01, 2.65791506e+03, 1.50400109e+03],\n",
       "          [2.12787287e+01, 3.04173802e+02, 1.49100750e+03],\n",
       "          [2.08408704e+01, 4.37979712e+02, 6.79993949e+02],\n",
       "          [2.12553300e+01, 5.34013583e+02, 7.60138218e+02],\n",
       "          [2.12093486e+01, 1.10700647e+03, 2.92964901e+02],\n",
       "          [2.08520044e+01, 1.28782529e+03, 3.91052852e+02],\n",
       "          [2.04408694e+01, 1.30496047e+03, 1.17696288e+03],\n",
       "          [2.10391816e+01, 1.30689962e+03, 4.25127670e+02],\n",
       "          [2.13172164e+01, 1.35307044e+03, 2.22606469e+03],\n",
       "          [2.10946979e+01, 1.45009184e+03, 2.17695379e+03],\n",
       "          [2.08101986e+01, 1.79216843e+03, 1.01304398e+03],\n",
       "          [2.10392623e+01, 2.20803282e+03, 8.86070213e+02],\n",
       "          [2.10716843e+01, 2.28007509e+03, 2.78590405e+03],\n",
       "          [2.14947190e+01, 2.33105705e+03, 2.73501848e+03],\n",
       "          [2.13001812e+01, 2.69997953e+03, 1.64009564e+03],\n",
       "          [2.20990003e+01, 1.64947619e+02, 2.36311671e+03],\n",
       "          [2.18788311e+01, 2.58948881e+02, 9.21024755e+02],\n",
       "          [2.21717411e+01, 3.13931335e+02, 5.85886711e+02],\n",
       "          [2.20311183e+01, 1.00888228e+03, 2.01963054e+02],\n",
       "          [2.17450512e+01, 1.09298942e+03, 2.07986432e+02],\n",
       "          [2.17056742e+01, 1.38599405e+03, 2.23478600e+03],\n",
       "          [2.17806313e+01, 2.42901605e+03, 1.80207423e+03],\n",
       "          [2.29822892e+01, 5.31173574e+01, 3.70044904e+02],\n",
       "          [2.33122594e+01, 9.71542359e+01, 2.63988910e+02],\n",
       "          [2.23790835e+01, 2.74758193e+02, 1.53102533e+03],\n",
       "          [2.29155799e+01, 3.01081846e+02, 2.84987880e+03],\n",
       "          [2.31469192e+01, 3.88860628e+02, 1.24600532e+03],\n",
       "          [2.33028142e+01, 5.15916951e+02, 6.06076196e+02],\n",
       "          [2.28318507e+01, 6.17002688e+02, 3.34903187e+02],\n",
       "          [2.30785926e+01, 1.21192865e+03, 2.47099595e+03],\n",
       "          [2.30478116e+01, 1.30093052e+03, 2.96982405e+03],\n",
       "          [2.35008776e+01, 1.32299780e+03, 2.17399035e+03],\n",
       "          [2.33365253e+01, 1.80506009e+03, 9.93135098e+02],\n",
       "          [2.27480977e+01, 1.93903457e+03, 1.01791132e+03],\n",
       "          [2.32607041e+01, 2.05399182e+03, 2.32010876e+03],\n",
       "          [2.27565582e+01, 2.27509387e+03, 8.25836582e+02],\n",
       "          [2.33644502e+01, 2.75789901e+03, 1.56097018e+03],\n",
       "          [2.33634192e+01, 2.83606976e+03, 1.64898246e+03],\n",
       "          [2.42409379e+01, 1.34944853e+02, 3.73211099e+02],\n",
       "          [2.39868032e+01, 2.63054822e+02, 2.59465922e+03],\n",
       "          [2.42938203e+01, 2.80981900e+02, 2.46906344e+03],\n",
       "          [2.39998228e+01, 3.26106637e+02, 1.30215436e+03],\n",
       "          [2.42588479e+01, 8.34877005e+02, 1.99892533e+03],\n",
       "          [2.41424322e+01, 9.25990409e+02, 2.96292065e+03],\n",
       "          [2.40815130e+01, 1.33789347e+03, 2.12393868e+03],\n",
       "          [2.39091358e+01, 1.43500388e+03, 2.13706762e+03],\n",
       "          [2.49870757e+01, 5.49526369e+01, 3.36934197e+02],\n",
       "          [2.51210902e+01, 4.63922810e+02, 6.26923428e+02],\n",
       "          [2.45083586e+01, 6.57930044e+02, 3.20022178e+02],\n",
       "          [2.50464131e+01, 9.01159264e+02, 2.02413921e+03],\n",
       "          [2.51498263e+01, 1.84201446e+03, 9.84141552e+02],\n",
       "          [2.46739883e+01, 2.26705167e+03, 9.15000140e+02],\n",
       "          [2.55605302e+01, 2.14993431e+02, 2.51020937e+02],\n",
       "          [2.54573025e+01, 2.14950803e+02, 2.49897904e+03],\n",
       "          [2.60765943e+01, 3.28036825e+02, 5.14016463e+02],\n",
       "          [2.64164441e+01, 3.30211520e+02, 2.54097391e+03],\n",
       "          [2.60794156e+01, 3.87024290e+02, 4.06053777e+02],\n",
       "          [2.60585942e+01, 4.01840513e+02, 1.48501723e+03],\n",
       "          [2.61098905e+01, 6.82093668e+02, 2.18007258e+02],\n",
       "          [2.58434813e+01, 6.92862440e+02, 2.54995966e+02],\n",
       "          [2.60781617e+01, 8.82015906e+02, 2.95197112e+03],\n",
       "          [2.60264247e+01, 9.20051097e+02, 1.12695778e+03],\n",
       "          [2.58829486e+01, 1.58214424e+03, 1.15586897e+03],\n",
       "          [2.59583160e+01, 2.09798092e+03, 2.32589589e+03],\n",
       "          [2.58915614e+01, 2.75118075e+03, 8.88857423e+02],\n",
       "          [2.70327379e+01, 3.22221496e+02, 2.57307898e+03],\n",
       "          [2.69283360e+01, 7.85030568e+02, 7.86982169e+02],\n",
       "          [2.69692857e+01, 1.01296535e+03, 1.49705698e+03],\n",
       "          [2.73513717e+01, 1.01413635e+03, 1.17188537e+03],\n",
       "          [2.70095667e+01, 1.27303206e+03, 1.91183226e+03],\n",
       "          [2.80626520e+01, 3.31023870e+02, 1.57117608e+03],\n",
       "          [2.77561136e+01, 3.57102339e+02, 4.56978569e+02],\n",
       "          [2.78098425e+01, 3.99994112e+02, 3.63960835e+02],\n",
       "          [2.80243527e+01, 9.27068194e+02, 2.64497877e+03],\n",
       "          [2.76758579e+01, 9.28971613e+02, 1.18294528e+03],\n",
       "          [2.79570487e+01, 1.38007248e+03, 2.94585110e+03],\n",
       "          [2.76523056e+01, 2.24198013e+03, 2.40606060e+03],\n",
       "          [2.77591296e+01, 2.30710296e+03, 2.39908113e+03],\n",
       "          [2.92320392e+01, 4.20920200e+02, 3.37955090e+02],\n",
       "          [2.87181118e+01, 5.98013408e+02, 6.45028625e+02],\n",
       "          [2.89916274e+01, 7.55944124e+02, 2.95198421e+03],\n",
       "          [2.93721871e+01, 8.50123961e+02, 2.95605058e+03],\n",
       "          [2.92785350e+01, 8.55079696e+02, 8.24011553e+02],\n",
       "          [2.86046869e+01, 1.00802406e+03, 1.08211983e+03],\n",
       "          [2.93274660e+01, 2.25402043e+03, 2.30200211e+03],\n",
       "          [2.85732508e+01, 2.89005449e+03, 1.57798329e+03],\n",
       "          [2.99002481e+01, 9.21597526e+01, 2.41217113e+03],\n",
       "          [2.97486009e+01, 4.73026171e+02, 1.39402737e+03],\n",
       "          [3.00542972e+01, 4.80062072e+02, 4.20028216e+02],\n",
       "          [3.02820645e+01, 8.75946125e+02, 1.89598313e+03],\n",
       "          [3.00773867e+01, 9.33144146e+02, 1.94599697e+03],\n",
       "          [3.06593045e+01, 1.10496222e+03, 1.44504794e+03],\n",
       "          [3.06442072e+01, 2.90065053e+02, 2.83305246e+03],\n",
       "          [3.12483104e+01, 5.47967312e+02, 2.34801244e+03],\n",
       "          [3.10036851e+01, 6.88917752e+02, 1.15205670e+03],\n",
       "          [3.12241344e+01, 7.68001590e+02, 1.16395818e+03],\n",
       "          [3.11044477e+01, 8.94028601e+02, 9.14074650e+02],\n",
       "          [3.10736597e+01, 1.11217975e+03, 2.54101889e+03],\n",
       "          [3.06439094e+01, 1.44900637e+03, 2.87194555e+03],\n",
       "          [3.20863354e+01, 1.60028686e+02, 2.86824249e+03],\n",
       "          [3.20473294e+01, 2.34026148e+02, 2.79008038e+03],\n",
       "          [3.19545384e+01, 7.44933514e+02, 1.08501272e+03],\n",
       "          [3.20268471e+01, 1.77508782e+03, 2.02888877e+03],\n",
       "          [3.26139166e+01, 1.79233414e+02, 2.41405040e+03],\n",
       "          [3.22563516e+01, 8.64944181e+02, 8.65838341e+02],\n",
       "          [3.21762364e+01, 1.53493955e+03, 2.43192437e+03],\n",
       "          [3.27360799e+01, 1.53512017e+03, 2.84191151e+03],\n",
       "          [3.31452937e+01, 1.09044134e+02, 2.78320958e+03],\n",
       "          [3.31307880e+01, 1.82935366e+02, 2.81597425e+03],\n",
       "          [3.32107613e+01, 6.57901565e+02, 2.29392859e+03],\n",
       "          [3.33554561e+01, 6.26329216e+02, 2.39738647e+03],\n",
       "          [3.35975564e+01, 1.71622453e+03, 2.08998191e+03],\n",
       "          [3.40811306e+01, 1.00883146e+02, 2.87093615e+03],\n",
       "          [3.42104847e+01, 2.38028231e+02, 2.88698693e+03],\n",
       "          [3.41578582e+01, 1.57785581e+03, 2.41493363e+03]]),\n",
       "   array([[6.69425173e+00, 1.28185676e+03, 2.00890048e+03],\n",
       "          [5.77721979e+00, 2.22897663e+03, 2.90388405e+03],\n",
       "          [6.87567783e+00, 7.29702111e+02, 7.54260706e+02],\n",
       "          [7.08130976e+00, 1.31000818e+03, 2.08410159e+03],\n",
       "          [7.18142228e+00, 1.31705499e+03, 2.01498620e+03],\n",
       "          [7.22834603e+00, 1.71505210e+03, 2.66595635e+03],\n",
       "          [7.30973156e+00, 2.08204079e+03, 1.14502927e+03],\n",
       "          [7.01623818e+00, 2.18779809e+03, 2.94804057e+03],\n",
       "          [6.37025468e+00, 2.27598877e+03, 2.89386743e+03],\n",
       "          [8.27915962e+00, 2.73767578e+00, 2.22001693e+03],\n",
       "          [8.27915962e+00, 2.73767578e+00, 2.22001693e+03],\n",
       "          [8.24833846e+00, 3.08535344e+01, 2.25801288e+03],\n",
       "          [8.29320861e+00, 3.61036975e+02, 6.42883599e+02],\n",
       "          [8.35058152e+00, 1.17003193e+03, 1.58274513e+03],\n",
       "          [7.77039185e+00, 1.26887931e+03, 2.06515074e+03],\n",
       "          [8.25787106e+00, 1.85404854e+03, 2.48713104e+03],\n",
       "          [7.36516222e+00, 2.07204654e+03, 1.20098620e+03],\n",
       "          [8.33065685e+00, 2.21686301e+03, 2.54500410e+03],\n",
       "          [9.02218524e+00, 1.00009887e+02, 2.26401152e+03],\n",
       "          [9.04694543e+00, 1.55052413e+02, 1.99901802e+03],\n",
       "          [9.13841945e+00, 2.83053280e+02, 6.78970897e+02],\n",
       "          [9.03032419e+00, 3.12927655e+02, 7.38074418e+02],\n",
       "          [9.11139531e+00, 3.35972730e+02, 6.35070471e+02],\n",
       "          [9.20893412e+00, 4.02941218e+02, 6.89952963e+02],\n",
       "          [9.10352463e+00, 7.56898579e+02, 3.26053513e+02],\n",
       "          [8.40384420e+00, 7.91052150e+02, 2.59991085e+02],\n",
       "          [8.93147913e+00, 1.11603876e+03, 1.63099384e+03],\n",
       "          [8.42861079e+00, 1.14899768e+03, 1.65595210e+03],\n",
       "          [8.86275778e+00, 1.20090909e+03, 1.63702206e+03],\n",
       "          [9.06182847e+00, 1.27900637e+03, 2.29029046e+02],\n",
       "          [9.24953294e+00, 1.31799109e+03, 2.40099025e+03],\n",
       "          [9.31434177e+00, 1.42402875e+03, 2.45208541e+03],\n",
       "          [8.18604579e+00, 1.74495722e+03, 2.71313373e+03],\n",
       "          [8.95105602e+00, 1.78395423e+03, 2.72484444e+03],\n",
       "          [8.38094339e+00, 1.79499800e+03, 2.46699760e+03],\n",
       "          [9.25129566e+00, 1.83503588e+03, 2.70803082e+03],\n",
       "          [9.07006310e+00, 2.15397498e+03, 1.24493475e+03],\n",
       "          [8.21871062e+00, 2.29894220e+03, 2.58803289e+03],\n",
       "          [8.66123417e+00, 2.64399846e+03, 7.65908956e+02],\n",
       "          [9.18853011e+00, 2.73075776e+03, 2.03997341e+03],\n",
       "          [9.16571102e+00, 2.92595615e+03, 1.14690315e+03],\n",
       "          [1.01939519e+01, 1.24870748e+02, 1.93896881e+03],\n",
       "          [9.92968712e+00, 1.52058386e+02, 2.22505681e+03],\n",
       "          [1.01238191e+01, 2.06955071e+02, 2.01090818e+03],\n",
       "          [1.02035259e+01, 2.50030449e+02, 1.99897811e+03],\n",
       "          [1.01573675e+01, 4.86896699e+02, 2.31991802e+02],\n",
       "          [1.00985422e+01, 5.55071535e+02, 2.88792737e+03],\n",
       "          [9.25856366e+00, 5.93934725e+02, 1.68498660e+03],\n",
       "          [1.01756939e+01, 8.13017445e+02, 3.33042658e+02],\n",
       "          [9.54234746e+00, 1.10405647e+03, 1.29303268e+03],\n",
       "          [1.01827872e+01, 1.22801036e+03, 1.27098966e+03],\n",
       "          [9.45664026e+00, 1.24211408e+03, 1.77007677e+02],\n",
       "          [1.02365478e+01, 1.27696114e+03, 2.43897351e+03],\n",
       "          [1.05817808e+01, 1.32805391e+03, 2.17022179e+02],\n",
       "          [9.25644495e+00, 1.38396893e+03, 2.33078441e+03],\n",
       "          [9.41140450e+00, 1.46790370e+03, 7.60866866e+02],\n",
       "          [9.31009541e+00, 1.69289240e+03, 8.30015564e+02],\n",
       "          [9.28019129e+00, 1.71990971e+03, 7.89085778e+02],\n",
       "          [9.36889971e+00, 1.73909161e+03, 9.03250611e+02],\n",
       "          [1.00845475e+01, 1.74395732e+03, 2.63205749e+03],\n",
       "          [9.32949585e+00, 1.76403190e+03, 7.36753344e+02],\n",
       "          [1.10289927e+01, 1.85122247e+03, 2.41392050e+03],\n",
       "          [9.33010440e+00, 1.91197927e+03, 1.84917508e+02],\n",
       "          [1.02588455e+01, 1.93099941e+03, 1.69940568e+02],\n",
       "          [9.35438817e+00, 2.28306706e+03, 2.95210549e+03],\n",
       "          [9.97871344e+00, 2.32992398e+03, 2.52889936e+03],\n",
       "          [1.01704044e+01, 2.78291859e+03, 1.05696522e+03],\n",
       "          [9.43161309e+00, 2.78100572e+03, 1.11797295e+03],\n",
       "          [1.13030216e+01, 2.99695177e+03, 1.04994743e+03],\n",
       "          [1.10995365e+01, 9.00216059e+01, 2.15593905e+03],\n",
       "          [1.01839398e+01, 1.39983711e+02, 2.16990371e+03],\n",
       "          [1.10690671e+01, 3.35933066e+02, 7.49097359e+02],\n",
       "          [1.21214198e+01, 4.14044603e+02, 2.39919435e+02],\n",
       "          [1.08968451e+01, 4.99938580e+02, 2.93403578e+03],\n",
       "          [1.19190176e+01, 9.34975153e+02, 1.03882987e+02],\n",
       "          [1.09326145e+01, 1.23893392e+03, 1.33499100e+03],\n",
       "          [1.03124014e+01, 1.43501707e+03, 2.38805820e+03],\n",
       "          [1.04521253e+01, 1.48890626e+03, 8.58101958e+02],\n",
       "          [1.12416553e+01, 1.78597587e+03, 8.73054087e+02],\n",
       "          [1.19777115e+01, 1.79498764e+03, 2.61715345e+03],\n",
       "          [1.01942128e+01, 1.90806959e+03, 2.51004721e+02],\n",
       "          [1.04443218e+01, 1.95399966e+03, 1.62067367e+02],\n",
       "          [1.09345325e+01, 2.16090481e+03, 1.11602789e+03],\n",
       "          [1.00904222e+01, 2.28005495e+03, 2.49096848e+03],\n",
       "          [1.10599264e+01, 2.82900658e+03, 1.13712690e+03],\n",
       "          [1.18768638e+01, 2.88492983e+03, 1.09610295e+03],\n",
       "          [1.07494662e+01, 2.91299779e+03, 1.04707702e+03],\n",
       "          [1.21635714e+01, 2.03886140e+02, 1.10040406e+02],\n",
       "          [1.24069088e+01, 2.61746747e+02, 1.95099877e+03],\n",
       "          [1.18519370e+01, 3.90965002e+02, 6.05848220e+02],\n",
       "          [1.27181042e+01, 4.03017033e+02, 2.88986889e+03],\n",
       "          [1.13607787e+01, 4.28122913e+02, 1.88029900e+02],\n",
       "          [1.22167451e+01, 5.06072119e+02, 1.59591817e+03],\n",
       "          [1.03066348e+01, 5.47019620e+02, 1.68406865e+03],\n",
       "          [1.22797607e+01, 5.73989381e+02, 1.61891040e+03],\n",
       "          [1.17727929e+01, 1.12405376e+03, 1.26294835e+03],\n",
       "          [1.16703188e+01, 1.16695305e+03, 1.24316848e+03],\n",
       "          [1.12166380e+01, 1.23998307e+03, 8.58161037e+02],\n",
       "          [1.16645666e+01, 1.37098174e+03, 1.07308177e+03],\n",
       "          [1.13943938e+01, 1.52297797e+03, 8.56129634e+02],\n",
       "          [1.22658965e+01, 1.73697308e+03, 2.39004470e+03],\n",
       "          [1.24036495e+01, 1.83199699e+03, 8.82973411e+02],\n",
       "          [1.24524571e+01, 1.98005437e+03, 1.60301761e+03],\n",
       "          [1.17182841e+01, 1.99285241e+03, 1.68203154e+03],\n",
       "          [1.21080695e+01, 2.78600704e+03, 1.98386642e+03],\n",
       "          [1.20237108e+01, 2.88807770e+03, 9.92049391e+02],\n",
       "          [1.21318912e+01, 3.37956647e+02, 1.57682286e+03],\n",
       "          [1.32512558e+01, 3.38031259e+02, 2.86298098e+03],\n",
       "          [1.27378985e+01, 3.85029104e+02, 1.49591781e+03],\n",
       "          [1.29630000e+01, 3.88871723e+02, 2.93594113e+03],\n",
       "          [1.35003318e+01, 8.20021460e+02, 1.75202552e+03],\n",
       "          [1.36996161e+01, 1.11793127e+03, 1.35095643e+03],\n",
       "          [1.30677133e+01, 1.21998972e+03, 2.39800401e+03],\n",
       "          [1.30254851e+01, 1.24190262e+03, 7.75018110e+02],\n",
       "          [1.18910072e+01, 1.55501467e+03, 8.52968912e+02],\n",
       "          [1.23354652e+01, 2.18995317e+03, 1.18497991e+03],\n",
       "          [1.37912523e+01, 1.02949803e+02, 1.10042277e+02],\n",
       "          [1.50106136e+01, 1.28920686e+02, 5.89392827e+01],\n",
       "          [1.37658304e+01, 1.43978211e+02, 1.63894947e+02],\n",
       "          [1.40777182e+01, 2.65103652e+02, 1.02388286e+03],\n",
       "          [1.42820043e+01, 3.38026534e+02, 1.15612103e+03],\n",
       "          [1.38043534e+01, 3.61068599e+02, 2.95400186e+03],\n",
       "          [1.38826130e+01, 4.65807237e+02, 1.67924227e+03],\n",
       "          [1.16653558e+01, 5.24016489e+02, 1.50497387e+03],\n",
       "          [1.25601875e+01, 6.30134312e+02, 1.55006349e+03],\n",
       "          [1.58994123e+01, 7.92055181e+02, 1.52723554e+03],\n",
       "          [1.28699027e+01, 8.07790846e+02, 1.68804533e+03],\n",
       "          [1.41239217e+01, 8.05964999e+02, 1.63993563e+03],\n",
       "          [1.51919449e+01, 9.27953988e+02, 1.75003227e+02],\n",
       "          [1.40854452e+01, 1.21007091e+03, 2.59997920e+03],\n",
       "          [1.30820493e+01, 1.27902965e+03, 7.75955177e+02],\n",
       "          [1.42558011e+01, 1.29802895e+03, 8.40055335e+02],\n",
       "          [1.37881781e+01, 1.30498258e+03, 1.27073491e+02],\n",
       "          [1.31338845e+01, 1.41692597e+03, 1.03696677e+03],\n",
       "          [1.48078179e+01, 1.97494388e+03, 2.95823134e+02],\n",
       "          [1.40040302e+01, 2.02019487e+03, 1.85019818e+02],\n",
       "          [1.33169741e+01, 2.79697798e+03, 2.07696862e+03],\n",
       "          [1.51698037e+01, 1.07008045e+02, 1.88703969e+03],\n",
       "          [1.50646411e+01, 1.88958590e+02, 1.88993393e+03],\n",
       "          [1.49779735e+01, 2.86022546e+02, 1.18904432e+03],\n",
       "          [1.51072592e+01, 3.99997036e+02, 5.12183336e+02],\n",
       "          [1.51865067e+01, 5.91030560e+02, 2.92994698e+03],\n",
       "          [1.52553658e+01, 6.15956070e+02, 9.78044537e+02],\n",
       "          [1.50508367e+01, 7.41109746e+02, 1.56894661e+03],\n",
       "          [1.50495098e+01, 8.77961803e+02, 1.76979550e+03],\n",
       "          [1.52147521e+01, 9.96954119e+02, 1.22879208e+02],\n",
       "          [1.43236145e+01, 1.12593475e+03, 2.38200192e+03],\n",
       "          [1.43578667e+01, 1.18695680e+03, 2.59892873e+03],\n",
       "          [1.48539968e+01, 2.03017595e+03, 2.57074185e+02],\n",
       "          [1.52657372e+01, 2.25198949e+03, 2.64202891e+03],\n",
       "          [1.53970581e+01, 2.30821187e+03, 2.65690179e+03],\n",
       "          [1.52554566e+01, 2.38798217e+03, 1.89295191e+03],\n",
       "          [1.69906932e+01, 1.99003066e+02, 1.81303540e+03],\n",
       "          [1.51177188e+01, 2.12992967e+02, 9.66971428e+02],\n",
       "          [1.50984911e+01, 3.05056132e+02, 2.94504569e+03],\n",
       "          [1.60047441e+01, 5.75030851e+02, 1.04106804e+03],\n",
       "          [1.63218606e+01, 1.14006287e+03, 2.42195962e+03],\n",
       "          [1.50108718e+01, 1.15712128e+03, 2.56003166e+03],\n",
       "          [1.64095052e+01, 1.25691733e+03, 2.53198778e+03],\n",
       "          [1.62367595e+01, 1.42191357e+03, 1.15699678e+03],\n",
       "          [1.56274764e+01, 1.76311081e+03, 8.03077614e+02],\n",
       "          [1.60914753e+01, 1.81104468e+03, 2.35900198e+03],\n",
       "          [1.47692739e+01, 2.05504247e+03, 1.63199474e+03],\n",
       "          [1.56673796e+01, 2.21600288e+03, 2.72598251e+03],\n",
       "          [1.54369117e+01, 2.31994065e+03, 1.82397342e+03],\n",
       "          [1.57344957e+01, 2.32882885e+03, 1.78797409e+03],\n",
       "          [1.59905641e+01, 3.19289547e+02, 9.78969654e+02],\n",
       "          [1.73414050e+01, 4.28089263e+02, 8.55025905e+02],\n",
       "          [1.73296478e+01, 4.92985196e+02, 7.63883520e+02],\n",
       "          [1.52205879e+01, 5.68310176e+02, 2.33934835e+02],\n",
       "          [1.49060572e+01, 5.67314544e+02, 2.99116831e+02],\n",
       "          [1.68902837e+01, 6.02037753e+02, 2.98405149e+03],\n",
       "          [1.63031576e+01, 6.08988135e+02, 1.07796790e+03],\n",
       "          [1.63058908e+01, 8.73130464e+02, 1.60491466e+03],\n",
       "          [1.71691944e+01, 9.42946316e+02, 1.71404887e+03],\n",
       "          [1.76964217e+01, 1.19287842e+03, 1.79788781e+03],\n",
       "          [1.59221065e+01, 1.34499193e+03, 9.37017871e+02],\n",
       "          [1.73798218e+01, 1.38521418e+03, 3.97002258e+02],\n",
       "          [1.73568232e+01, 1.80001783e+03, 7.48990640e+02],\n",
       "          [1.71208655e+01, 2.22510321e+03, 2.66205158e+03],\n",
       "          [1.72743925e+01, 2.37703891e+03, 1.75808536e+03],\n",
       "          [1.79576183e+01, 2.04889060e+02, 1.29202710e+03],\n",
       "          [1.81725767e+01, 2.27999530e+02, 1.74045794e+02],\n",
       "          [1.74806675e+01, 2.65998319e+02, 1.35417292e+03],\n",
       "          [1.78218515e+01, 2.74053382e+02, 1.23400349e+03],\n",
       "          [1.80449322e+01, 3.61082064e+02, 1.38698678e+03],\n",
       "          [1.77485425e+01, 5.34035221e+02, 8.35077736e+02],\n",
       "          [1.82059235e+01, 6.65095012e+02, 1.05303599e+03],\n",
       "          [1.71994182e+01, 1.33906954e+03, 3.17960623e+02],\n",
       "          [1.70314571e+01, 1.43707076e+03, 2.21108835e+03],\n",
       "          [1.80452404e+01, 1.89600848e+03, 8.58931066e+02],\n",
       "          [1.80818295e+01, 2.16686029e+03, 2.33596570e+03],\n",
       "          [1.80494578e+01, 2.63290924e+03, 1.54507102e+03],\n",
       "          [1.83119444e+01, 2.65893559e+03, 1.49192045e+03],\n",
       "          [1.96883519e+01, 3.08103820e+02, 1.47795364e+03],\n",
       "          [1.87088567e+01, 4.41003198e+02, 6.66049767e+02],\n",
       "          [1.91752000e+01, 5.36997152e+02, 7.47086764e+02],\n",
       "          [1.90492119e+01, 1.10701681e+03, 2.78978525e+02],\n",
       "          [1.87232274e+01, 1.29007778e+03, 3.77034938e+02],\n",
       "          [1.75948318e+01, 1.30791537e+03, 1.16387412e+03],\n",
       "          [1.89188740e+01, 1.30984265e+03, 4.11168807e+02],\n",
       "          [1.92034051e+01, 1.35801496e+03, 2.21308669e+03],\n",
       "          [1.90522942e+01, 1.45310920e+03, 2.16201474e+03],\n",
       "          [1.87695480e+01, 1.79613885e+03, 9.98139554e+02],\n",
       "          [1.89342968e+01, 2.21189192e+03, 8.73062657e+02],\n",
       "          [1.95166432e+01, 2.28606580e+03, 2.77118037e+03],\n",
       "          [2.00231004e+01, 2.33492443e+03, 2.72010884e+03],\n",
       "          [1.91881535e+01, 2.70299347e+03, 1.62705663e+03],\n",
       "          [1.93828130e+01, 1.67045681e+02, 2.34908031e+03],\n",
       "          [1.92048653e+01, 2.61922506e+02, 9.08894836e+02],\n",
       "          [1.94115139e+01, 3.15998578e+02, 5.69977935e+02],\n",
       "          [1.98899951e+01, 1.01184571e+03, 1.88920736e+02],\n",
       "          [1.91607984e+01, 1.09499113e+03, 1.94058970e+02],\n",
       "          [1.96830839e+01, 1.38898902e+03, 2.22087058e+03],\n",
       "          [1.96625948e+01, 2.43210575e+03, 1.78902271e+03],\n",
       "          [2.03134918e+01, 5.61162131e+01, 3.57005678e+02],\n",
       "          [2.19751505e+01, 1.00196175e+02, 2.53005264e+02],\n",
       "          [2.03410308e+01, 2.77734803e+02, 1.51898140e+03],\n",
       "          [2.00757471e+01, 3.06123799e+02, 2.83786144e+03],\n",
       "          [2.10310094e+01, 3.91871188e+02, 1.23397113e+03],\n",
       "          [2.11976985e+01, 5.17995615e+02, 5.92953265e+02],\n",
       "          [1.94754318e+01, 6.17001595e+02, 3.21043923e+02],\n",
       "          [2.09496974e+01, 1.21691433e+03, 2.45794324e+03],\n",
       "          [2.10465385e+01, 1.30398192e+03, 2.95598993e+03],\n",
       "          [2.20828774e+01, 1.32522986e+03, 2.15997546e+03],\n",
       "          [2.17305785e+01, 1.80902895e+03, 9.80014641e+02],\n",
       "          [2.02091476e+01, 1.94214456e+03, 1.00403584e+03],\n",
       "          [2.10709659e+01, 2.05406017e+03, 2.30704659e+03],\n",
       "          [2.07900541e+01, 2.28101447e+03, 8.12897877e+02],\n",
       "          [2.13028888e+01, 2.76006646e+03, 1.54497538e+03],\n",
       "          [2.12334562e+01, 2.83905874e+03, 1.63505406e+03],\n",
       "          [2.21828590e+01, 1.36982105e+02, 3.61083278e+02],\n",
       "          [2.24150428e+01, 2.67040355e+02, 2.58081974e+03],\n",
       "          [2.21837775e+01, 2.83016173e+02, 2.45596201e+03],\n",
       "          [2.18431555e+01, 3.29137497e+02, 1.28909628e+03],\n",
       "          [2.21400824e+01, 8.37970707e+02, 1.98495839e+03],\n",
       "          [2.21249721e+01, 9.29878512e+02, 2.94904207e+03],\n",
       "          [2.21154975e+01, 1.33897928e+03, 2.11292067e+03],\n",
       "          [2.11961335e+01, 1.43714496e+03, 2.12399045e+03],\n",
       "          [2.27959038e+01, 5.80324639e+01, 3.23917704e+02],\n",
       "          [2.24288771e+01, 4.65995872e+02, 6.14886756e+02],\n",
       "          [2.14105473e+01, 6.60984649e+02, 3.06059477e+02],\n",
       "          [2.29674474e+01, 9.05040145e+02, 2.01102722e+03],\n",
       "          [2.23982793e+01, 1.84502213e+03, 9.71135530e+02],\n",
       "          [2.19359988e+01, 2.26916158e+03, 9.01197726e+02],\n",
       "          [2.34592508e+01, 2.18053782e+02, 2.37054774e+02],\n",
       "          [2.27670097e+01, 2.18036813e+02, 2.48505861e+03],\n",
       "          [2.39282617e+01, 3.32011995e+02, 5.00051255e+02],\n",
       "          [2.43918627e+01, 3.34082266e+02, 2.52698869e+03],\n",
       "          [2.39016369e+01, 3.90054470e+02, 3.93026967e+02],\n",
       "          [2.39526233e+01, 4.04972380e+02, 1.47008200e+03],\n",
       "          [2.39604616e+01, 6.85080993e+02, 2.04014622e+02],\n",
       "          [2.36775615e+01, 6.95906428e+02, 2.42003877e+02],\n",
       "          [2.40753892e+01, 8.84016861e+02, 2.93801792e+03],\n",
       "          [2.39379466e+01, 9.23883945e+02, 1.11290169e+03],\n",
       "          [2.33433601e+01, 1.58697243e+03, 1.14188902e+03],\n",
       "          [2.33820368e+01, 2.10198027e+03, 2.31279632e+03],\n",
       "          [2.31673131e+01, 2.75418878e+03, 8.74866921e+02],\n",
       "          [2.44482780e+01, 3.26106611e+02, 2.55804835e+03],\n",
       "          [2.47620674e+01, 7.88015967e+02, 7.73974542e+02],\n",
       "          [2.42096844e+01, 1.01514002e+03, 1.48603345e+03],\n",
       "          [2.52088044e+01, 1.01901333e+03, 1.15600368e+03],\n",
       "          [2.43324524e+01, 1.27899792e+03, 1.89881620e+03],\n",
       "          [2.59543386e+01, 3.34968471e+02, 1.55728033e+03],\n",
       "          [2.51122538e+01, 3.61099397e+02, 4.46947134e+02],\n",
       "          [2.51959929e+01, 4.03928893e+02, 3.49972228e+02],\n",
       "          [2.59180417e+01, 9.30073500e+02, 2.63192596e+03],\n",
       "          [2.49081440e+01, 9.32874791e+02, 1.16900458e+03],\n",
       "          [2.58987935e+01, 1.38203561e+03, 2.93102635e+03],\n",
       "          [2.55904224e+01, 2.24595334e+03, 2.39303566e+03],\n",
       "          [2.51296406e+01, 2.31109549e+03, 2.38507805e+03],\n",
       "          [2.70797616e+01, 4.23923876e+02, 3.24912088e+02],\n",
       "          [2.61231337e+01, 6.01973245e+02, 6.31954530e+02],\n",
       "          [2.62784441e+01, 7.58882633e+02, 2.94092202e+03],\n",
       "          [2.79953682e+01, 8.54144207e+02, 2.94103825e+03],\n",
       "          [2.71342297e+01, 8.58140030e+02, 8.11020813e+02],\n",
       "          [2.65143621e+01, 1.01199043e+03, 1.06908652e+03],\n",
       "          [2.72084856e+01, 2.25704032e+03, 2.28895552e+03],\n",
       "          [2.58697666e+01, 2.89401023e+03, 1.56586351e+03],\n",
       "          [2.73146243e+01, 9.60059316e+01, 2.40011517e+03],\n",
       "          [2.77026090e+01, 4.76028773e+02, 1.38102152e+03],\n",
       "          [2.79752614e+01, 4.83973683e+02, 4.06012804e+02],\n",
       "          [2.82518633e+01, 8.79931324e+02, 1.88206176e+03],\n",
       "          [2.78948785e+01, 9.36834554e+02, 1.93196813e+03],\n",
       "          [2.98050900e+01, 1.10981807e+03, 1.43184103e+03],\n",
       "          [2.80609608e+01, 2.93072086e+02, 2.81911467e+03],\n",
       "          [2.99313745e+01, 5.50997491e+02, 2.33595187e+03],\n",
       "          [2.89753423e+01, 6.91972017e+02, 1.13902235e+03],\n",
       "          [2.91893976e+01, 7.70144430e+02, 1.15096283e+03],\n",
       "          [2.95023044e+01, 8.97960502e+02, 9.01108649e+02],\n",
       "          [2.90564659e+01, 1.11606104e+03, 2.52805256e+03],\n",
       "          [2.79690111e+01, 1.45202399e+03, 2.85992194e+03],\n",
       "          [3.03991942e+01, 1.65027954e+02, 2.85420599e+03],\n",
       "          [3.02525710e+01, 2.39026057e+02, 2.77689795e+03],\n",
       "          [3.00696385e+01, 7.48939623e+02, 1.07197369e+03],\n",
       "          [3.08072471e+01, 1.78001875e+03, 2.01506857e+03],\n",
       "          [3.08190062e+01, 1.82960647e+02, 2.40096708e+03],\n",
       "          [2.99500605e+01, 8.68915960e+02, 8.51963091e+02],\n",
       "          [2.98193969e+01, 1.53696097e+03, 2.42088635e+03],\n",
       "          [3.10684885e+01, 1.53906567e+03, 2.82887401e+03],\n",
       "          [3.18492138e+01, 1.15038049e+02, 2.76916305e+03],\n",
       "          [3.16188127e+01, 1.86829875e+02, 2.80289379e+03],\n",
       "          [3.18057978e+01, 6.60019799e+02, 2.28086191e+03],\n",
       "          [3.09792922e+01, 6.30265011e+02, 2.38511751e+03],\n",
       "          [3.23520880e+01, 1.72011448e+03, 2.07890882e+03],\n",
       "          [3.30727688e+01, 1.03889348e+02, 2.85701468e+03],\n",
       "          [3.34967209e+01, 2.39015662e+02, 2.87225604e+03],\n",
       "          [3.25612336e+01, 1.58089415e+03, 2.40179371e+03]])],\n",
       "  [array([[7.79010558e+00, 1.15107089e+03, 1.31405005e+03],\n",
       "          [7.51216780e+00, 1.77297255e+03, 2.44300396e+03],\n",
       "          [7.93659739e+00, 2.46145235e+02, 1.05693198e+03],\n",
       "          [8.71930780e+00, 1.28392247e+03, 2.38303544e+03],\n",
       "          [8.56193816e+00, 2.10020131e+03, 1.18707416e+03],\n",
       "          [8.50771840e+00, 2.11106507e+03, 1.24081156e+03],\n",
       "          [8.26526648e+00, 2.22203179e+03, 2.95211381e+03],\n",
       "          [8.91361689e+00, 1.95054709e+02, 8.84025844e+02],\n",
       "          [9.19277864e+00, 7.46150163e+02, 7.52764207e+02],\n",
       "          [9.61577952e+00, 1.27803472e+03, 2.06968452e+02],\n",
       "          [9.38372083e+00, 1.40380979e+03, 2.43794066e+03],\n",
       "          [9.74857744e+00, 1.49093632e+03, 7.95039641e+02],\n",
       "          [9.29234761e+00, 1.74512150e+03, 2.68902208e+03],\n",
       "          [9.30838857e+00, 1.87399556e+03, 1.08208425e+03],\n",
       "          [9.58956780e+00, 2.00903630e+03, 1.66302633e+03],\n",
       "          [9.58401699e+00, 2.24204065e+03, 1.21585266e+03],\n",
       "          [9.14191486e+00, 2.25305035e+03, 2.57883262e+03],\n",
       "          [8.67092312e+00, 2.26392649e+03, 1.16404274e+03],\n",
       "          [8.71322136e+00, 2.37499307e+03, 2.21943789e+02],\n",
       "          [9.29342779e+00, 2.71494048e+03, 2.52921712e+03],\n",
       "          [9.13575567e+00, 2.71890747e+03, 2.56696035e+03],\n",
       "          [9.49662256e+00, 2.96398882e+03, 1.07307050e+03],\n",
       "          [1.02158978e+01, 4.60250697e+01, 2.24586446e+03],\n",
       "          [1.05556026e+01, 1.03010392e+02, 2.20211243e+03],\n",
       "          [1.03168292e+01, 1.54133876e+02, 1.97700934e+03],\n",
       "          [1.04407666e+01, 3.16150135e+02, 7.14895699e+02],\n",
       "          [1.05796030e+01, 3.21130277e+02, 6.83137940e+02],\n",
       "          [1.03768827e+01, 5.06064602e+02, 1.67397589e+03],\n",
       "          [1.04986401e+01, 5.16089871e+02, 2.59197864e+02],\n",
       "          [1.05844877e+01, 5.35877200e+02, 1.66106778e+03],\n",
       "          [1.05882138e+01, 5.89056917e+02, 1.96103383e+03],\n",
       "          [1.03940420e+01, 8.31936070e+02, 1.60708136e+03],\n",
       "          [1.01530816e+01, 1.13218684e+03, 1.31801423e+03],\n",
       "          [1.02997608e+01, 1.20000436e+03, 1.33395352e+03],\n",
       "          [9.89009988e+00, 1.29696554e+03, 2.05900556e+03],\n",
       "          [1.05468391e+01, 1.34620052e+03, 2.40200848e+03],\n",
       "          [1.03657860e+01, 1.36787153e+03, 1.26891108e+03],\n",
       "          [9.93496107e+00, 1.53101631e+03, 1.25487420e+03],\n",
       "          [1.04265321e+01, 1.80904891e+03, 2.67011549e+03],\n",
       "          [1.04849546e+01, 1.81705788e+03, 8.22894317e+02],\n",
       "          [1.03441536e+01, 1.84289336e+03, 2.46793083e+03],\n",
       "          [1.00164867e+01, 2.65894573e+03, 8.09028451e+02],\n",
       "          [1.04283868e+01, 2.77004216e+03, 2.05598804e+03],\n",
       "          [9.88628788e+00, 2.77111225e+03, 2.90194415e+03],\n",
       "          [1.13457661e+01, 2.91044708e+01, 2.20503750e+03],\n",
       "          [1.12612499e+01, 3.34908067e+02, 1.20907727e+03],\n",
       "          [1.12898778e+01, 6.17004333e+02, 1.03798117e+03],\n",
       "          [1.13015881e+01, 6.22935452e+02, 1.84506204e+03],\n",
       "          [1.07061235e+01, 8.95045263e+02, 1.66690059e+03],\n",
       "          [1.14454670e+01, 9.51022227e+02, 1.50028310e+02],\n",
       "          [1.15344099e+01, 1.22711959e+03, 1.77992675e+03],\n",
       "          [1.14601825e+01, 1.26610557e+03, 2.41787930e+03],\n",
       "          [1.16192067e+01, 1.71516251e+03, 8.83912303e+02],\n",
       "          [1.15562683e+01, 1.74601895e+03, 7.79836213e+02],\n",
       "          [1.07576016e+01, 1.80783775e+03, 2.70072172e+03],\n",
       "          [1.10526199e+01, 2.24701700e+03, 2.53417495e+03],\n",
       "          [1.12265879e+01, 2.30492189e+03, 2.56801992e+03],\n",
       "          [1.13127422e+01, 2.62802927e+03, 8.11934068e+02],\n",
       "          [1.13067944e+01, 2.80213031e+03, 1.10201737e+03],\n",
       "          [1.22481002e+01, 2.15981844e+02, 1.99075060e+03],\n",
       "          [1.23170187e+01, 2.80891840e+02, 9.93968728e+02],\n",
       "          [1.21441414e+01, 3.69916712e+02, 1.55596741e+03],\n",
       "          [1.23649420e+01, 3.73117533e+02, 5.81892349e+02],\n",
       "          [1.25656754e+01, 3.88858252e+02, 1.87053918e+02],\n",
       "          [1.23997521e+01, 5.34036647e+02, 2.93510782e+03],\n",
       "          [1.22836405e+01, 5.43821060e+02, 2.83860826e+02],\n",
       "          [1.26851193e+01, 5.57918542e+02, 1.59679380e+03],\n",
       "          [1.21726664e+01, 6.66895901e+02, 2.01576915e+03],\n",
       "          [1.17893345e+01, 7.78097549e+02, 3.10033396e+02],\n",
       "          [1.23578398e+01, 1.39575740e+03, 2.38001480e+03],\n",
       "          [1.15161998e+01, 1.62103996e+03, 1.25901433e+03],\n",
       "          [1.18745873e+01, 1.81707812e+03, 2.58504913e+03],\n",
       "          [1.20727766e+01, 1.93408460e+03, 2.21064651e+02],\n",
       "          [1.24991402e+01, 2.01699602e+03, 1.63097966e+03],\n",
       "          [1.34486305e+01, 3.12090889e+02, 1.54901039e+03],\n",
       "          [1.27620630e+01, 3.63922572e+02, 7.00925069e+02],\n",
       "          [1.27755474e+01, 4.06825974e+02, 5.81842739e+02],\n",
       "          [1.32986600e+01, 5.51037707e+02, 1.53306989e+03],\n",
       "          [1.34966256e+01, 1.18697365e+03, 1.28910485e+03],\n",
       "          [1.30964104e+01, 1.49399233e+03, 8.40851970e+02],\n",
       "          [1.31446496e+01, 1.89403304e+03, 1.03005378e+03],\n",
       "          [1.27100308e+01, 2.25384589e+03, 2.94694803e+03],\n",
       "          [1.24631479e+01, 2.75792783e+03, 2.34203496e+03],\n",
       "          [1.33242906e+01, 2.84180983e+03, 1.08716485e+03],\n",
       "          [1.44420673e+01, 1.36080153e+02, 1.85505473e+03],\n",
       "          [1.42806048e+01, 1.39054854e+02, 1.41820829e+02],\n",
       "          [1.42508549e+01, 1.64792590e+02, 1.37860566e+02],\n",
       "          [1.34132320e+01, 3.01095504e+02, 2.79302963e+03],\n",
       "          [1.44649417e+01, 3.63863819e+02, 2.91010234e+03],\n",
       "          [1.43231831e+01, 3.68995544e+02, 2.62977062e+02],\n",
       "          [1.37860279e+01, 6.70923745e+02, 1.98003915e+03],\n",
       "          [1.43357954e+01, 8.35107064e+02, 1.72802568e+03],\n",
       "          [1.44110737e+01, 1.18187567e+03, 2.40488937e+03],\n",
       "          [1.44622958e+01, 1.26185716e+03, 8.25039071e+02],\n",
       "          [1.43341430e+01, 1.34797143e+03, 1.05984482e+03],\n",
       "          [1.42037265e+01, 1.38291151e+03, 9.77068628e+02],\n",
       "          [1.42342379e+01, 1.72706592e+03, 8.43992660e+02],\n",
       "          [1.42916335e+01, 1.81602897e+03, 8.65804156e+02],\n",
       "          [1.53788984e+01, 2.75883307e+02, 2.54504413e+03],\n",
       "          [1.49423461e+01, 3.84984657e+02, 2.30003120e+02],\n",
       "          [1.51248615e+01, 5.25472315e+02, 1.57804654e+03],\n",
       "          [1.51515885e+01, 1.38392311e+03, 1.03392371e+03],\n",
       "          [1.55137341e+01, 2.28998620e+03, 2.70505951e+03],\n",
       "          [1.48057967e+01, 2.91914621e+03, 9.79976473e+02],\n",
       "          [1.65913297e+01, 9.38908396e+01, 3.54011994e+02],\n",
       "          [1.58581722e+01, 1.22088970e+02, 2.08993353e+02],\n",
       "          [1.63496908e+01, 1.39125250e+02, 3.03821835e+02],\n",
       "          [1.60629986e+01, 1.88108865e+02, 2.11943992e+02],\n",
       "          [1.64279197e+01, 3.32193048e+02, 1.46297532e+03],\n",
       "          [1.65485683e+01, 3.68913009e+02, 1.44009058e+03],\n",
       "          [1.57877394e+01, 5.55861929e+02, 1.66503473e+03],\n",
       "          [1.61802768e+01, 6.25959179e+02, 1.97990708e+03],\n",
       "          [1.62938815e+01, 7.66225489e+02, 1.61482409e+03],\n",
       "          [1.63741794e+01, 8.89862094e+02, 1.74575196e+03],\n",
       "          [1.55811675e+01, 1.15592522e+03, 1.62903914e+03],\n",
       "          [1.60148857e+01, 1.21779838e+03, 2.56695649e+03],\n",
       "          [1.62582438e+01, 1.35694404e+03, 4.41998099e+02],\n",
       "          [1.59246842e+01, 2.80873473e+03, 2.83612805e+03],\n",
       "          [1.56647643e+01, 2.92116459e+03, 1.12302346e+03],\n",
       "          [1.70040849e+01, 5.19987868e+02, 6.47888636e+02],\n",
       "          [1.74042105e+01, 8.02976750e+02, 1.57028505e+03],\n",
       "          [1.75024770e+01, 9.31994422e+02, 1.66793205e+03],\n",
       "          [1.69605457e+01, 1.15817816e+03, 2.38211010e+03],\n",
       "          [1.73334864e+01, 1.41488450e+03, 2.18898311e+03],\n",
       "          [1.66522224e+01, 1.74094953e+03, 1.07287489e+03],\n",
       "          [1.72791045e+01, 1.77501147e+03, 2.40911617e+03],\n",
       "          [1.67247051e+01, 2.06092633e+03, 2.48599101e+03],\n",
       "          [1.66996148e+01, 2.23897305e+03, 1.17093411e+03],\n",
       "          [1.68155880e+01, 2.27203841e+03, 1.14000625e+03],\n",
       "          [1.84918027e+01, 1.03510573e+03, 2.31033227e+02],\n",
       "          [1.83676810e+01, 1.31917059e+03, 3.64065084e+02],\n",
       "          [1.82490659e+01, 2.19708676e+03, 2.34907726e+03],\n",
       "          [1.83871351e+01, 2.25996333e+03, 1.10608263e+03],\n",
       "          [1.94218388e+01, 4.59134075e+02, 8.14238958e+02],\n",
       "          [1.92947923e+01, 8.35014431e+02, 2.55097606e+03],\n",
       "          [1.91228348e+01, 1.36306341e+03, 9.79202305e+02],\n",
       "          [1.92485042e+01, 1.40791611e+03, 1.20114465e+03],\n",
       "          [1.91796415e+01, 1.98598609e+03, 2.14112610e+02],\n",
       "          [1.90458914e+01, 2.00371711e+03, 2.49909440e+02],\n",
       "          [1.90437059e+01, 2.24143732e+03, 2.72291210e+03],\n",
       "          [1.92148153e+01, 2.26905929e+03, 2.75555660e+03],\n",
       "          [2.08270381e+01, 2.35380904e+00, 2.00008509e+03],\n",
       "          [2.08468754e+01, 2.76050760e+00, 2.00008559e+03],\n",
       "          [1.98649774e+01, 1.34246629e+02, 1.88589634e+03],\n",
       "          [2.03929060e+01, 1.42945162e+02, 2.39700558e+03],\n",
       "          [2.00136172e+01, 2.35242686e+02, 1.32202722e+03],\n",
       "          [2.04424786e+01, 2.79917531e+02, 1.33393531e+03],\n",
       "          [2.05467990e+01, 2.99038581e+02, 2.89015638e+03],\n",
       "          [1.99137142e+01, 5.11108787e+02, 7.32933460e+02],\n",
       "          [2.04289126e+01, 1.14793345e+03, 2.70899681e+02],\n",
       "          [2.03599624e+01, 1.30993221e+03, 1.83103871e+03],\n",
       "          [1.97558546e+01, 1.81188329e+03, 1.08595883e+03],\n",
       "          [1.99248030e+01, 1.81577927e+03, 2.42903956e+03],\n",
       "          [2.00541778e+01, 2.29898964e+03, 1.10606601e+03],\n",
       "          [2.03063211e+01, 2.39301017e+03, 1.80420899e+03],\n",
       "          [2.08539376e+01, 2.50319169e+00, 3.73002002e+02],\n",
       "          [2.08589518e+01, 2.96486914e+00, 3.73001257e+02],\n",
       "          [2.10887840e+01, 3.87639452e+02, 2.06064489e+02],\n",
       "          [2.12475722e+01, 4.70105707e+02, 7.01103871e+02],\n",
       "          [2.10632454e+01, 1.32417472e+03, 1.20418987e+03],\n",
       "          [2.14548947e+01, 1.35402462e+03, 1.24899571e+03],\n",
       "          [2.11030237e+01, 1.82201820e+03, 7.91100770e+02],\n",
       "          [2.08364027e+01, 2.66226897e+03, 1.54197331e+03],\n",
       "          [2.11865031e+01, 2.85609382e+03, 1.61005728e+03],\n",
       "          [2.22882705e+01, 7.60577290e+01, 4.72025383e+02],\n",
       "          [2.23386079e+01, 3.52974272e+02, 1.24895251e+03],\n",
       "          [2.22010551e+01, 6.38928529e+02, 2.93782723e+02],\n",
       "          [2.21855478e+01, 9.90945295e+02, 1.11711841e+03],\n",
       "          [2.18660346e+01, 1.54188010e+03, 7.67045238e+02],\n",
       "          [2.16520030e+01, 2.58709136e+03, 1.37200470e+03],\n",
       "          [2.32437447e+01, 2.79952974e+02, 9.51195607e+02],\n",
       "          [2.32735310e+01, 4.21125876e+02, 2.65590625e+03],\n",
       "          [2.29142050e+01, 5.90991499e+02, 1.52201123e+03],\n",
       "          [2.28605059e+01, 5.94232523e+02, 2.71024057e+02],\n",
       "          [2.28806015e+01, 9.23937913e+02, 8.39978077e+02],\n",
       "          [2.31613834e+01, 1.14076306e+03, 5.33960463e+02],\n",
       "          [2.28504819e+01, 1.89485495e+03, 1.06978473e+03],\n",
       "          [2.30930780e+01, 2.66496907e+03, 2.21696182e+03],\n",
       "          [2.44388286e+01, 4.13044420e+02, 2.57913584e+03],\n",
       "          [2.37796703e+01, 1.30304864e+03, 1.04393603e+03],\n",
       "          [2.42679803e+01, 1.32089414e+03, 1.87492413e+03],\n",
       "          [2.37960006e+01, 1.87591042e+03, 8.40896298e+02],\n",
       "          [2.38249253e+01, 2.20373113e+03, 1.05911287e+03],\n",
       "          [2.52370491e+01, 2.38650594e+00, 8.37008832e+02],\n",
       "          [2.52446541e+01, 2.79140071e+00, 8.37009695e+02],\n",
       "          [2.54272067e+01, 3.23861269e+02, 4.74963671e+02],\n",
       "          [2.53508263e+01, 3.51073217e+02, 5.42268962e+02],\n",
       "          [2.53532415e+01, 4.40062024e+02, 5.93029142e+02],\n",
       "          [2.47151045e+01, 4.81036277e+02, 6.55051178e+02],\n",
       "          [2.46451803e+01, 6.01156663e+02, 3.02843540e+02],\n",
       "          [2.52235309e+01, 9.89947807e+02, 2.81698274e+03],\n",
       "          [2.48669913e+01, 1.05016532e+03, 1.48429963e+03],\n",
       "          [2.49616704e+01, 1.26795831e+03, 1.86009607e+03],\n",
       "          [2.49458916e+01, 1.55792279e+03, 1.13787006e+03],\n",
       "          [2.49172866e+01, 2.22792327e+03, 9.22079027e+02],\n",
       "          [2.45657231e+01, 2.78497498e+03, 2.84894600e+03],\n",
       "          [2.56436559e+01, 4.88560126e+01, 2.82172005e+02],\n",
       "          [2.57835711e+01, 2.61954822e+02, 1.27906399e+03],\n",
       "          [2.58277277e+01, 4.21096458e+02, 3.96119514e+02],\n",
       "          [2.65665333e+01, 5.83666606e+02, 7.01015415e+02],\n",
       "          [2.60831014e+01, 6.56974431e+02, 2.43042992e+02],\n",
       "          [2.57415668e+01, 8.68067650e+02, 2.00986163e+03],\n",
       "          [2.62637521e+01, 9.53274684e+02, 1.14305786e+03],\n",
       "          [2.55492200e+01, 9.80832892e+02, 1.74009649e+02],\n",
       "          [2.55932139e+01, 1.22112733e+03, 1.73186587e+03],\n",
       "          [2.64617046e+01, 1.22693940e+03, 1.81000244e+03],\n",
       "          [2.62622626e+01, 1.34898913e+03, 2.98005147e+03],\n",
       "          [2.57155796e+01, 1.36024406e+03, 2.18896782e+03],\n",
       "          [2.62976209e+01, 1.86112836e+03, 1.02707832e+03],\n",
       "          [2.62000855e+01, 2.04705328e+03, 2.42779337e+03],\n",
       "          [2.57544647e+01, 2.08904212e+03, 2.42605861e+03],\n",
       "          [2.57896375e+01, 2.81365619e+03, 9.00846079e+02],\n",
       "          [2.66572493e+01, 2.93598560e+03, 1.01802215e+03],\n",
       "          [2.71242890e+01, 2.42438385e+02, 2.52705850e+03],\n",
       "          [2.69493526e+01, 4.11161072e+02, 2.62390127e+03],\n",
       "          [2.66753031e+01, 8.96790830e+02, 1.71299874e+03],\n",
       "          [2.66650290e+01, 9.38945709e+02, 2.60697274e+03],\n",
       "          [2.72056948e+01, 1.04424232e+03, 1.52382106e+03],\n",
       "          [2.73085742e+01, 1.12497591e+03, 1.48602075e+03],\n",
       "          [2.66929185e+01, 1.16699827e+03, 2.39900740e+03],\n",
       "          [2.68556539e+01, 1.31791950e+03, 1.00097643e+03],\n",
       "          [2.66598392e+01, 1.58499025e+03, 1.18901793e+03],\n",
       "          [2.72099651e+01, 2.24010728e+03, 1.12499220e+03],\n",
       "          [2.70955459e+01, 2.28287879e+03, 2.37787167e+03],\n",
       "          [2.72575592e+01, 2.67712758e+03, 1.58404101e+03],\n",
       "          [2.70359227e+01, 2.83212257e+03, 1.56007309e+03],\n",
       "          [2.77375017e+01, 8.74033947e+02, 1.65591610e+03],\n",
       "          [2.78843828e+01, 1.57196388e+03, 2.50389643e+03],\n",
       "          [2.83095960e+01, 2.71393861e+03, 9.08014401e+02],\n",
       "          [2.75618574e+01, 2.76997175e+03, 2.03997859e+03],\n",
       "          [2.87198357e+01, 1.63094043e+01, 1.21792777e+03],\n",
       "          [2.91559100e+01, 1.09829577e+02, 3.48073819e+02],\n",
       "          [2.93493900e+01, 4.36068704e+02, 1.39306298e+03],\n",
       "          [2.91582194e+01, 4.48030370e+02, 1.36018920e+03],\n",
       "          [2.91587256e+01, 4.53905068e+02, 4.00997906e+02],\n",
       "          [2.84960294e+01, 5.56003127e+02, 1.57197737e+03],\n",
       "          [2.87611787e+01, 5.98941651e+02, 6.12950691e+02],\n",
       "          [2.87737530e+01, 6.03073808e+02, 2.37285082e+03],\n",
       "          [2.85262990e+01, 6.19042235e+02, 1.04202195e+03],\n",
       "          [2.89543609e+01, 6.28888808e+02, 2.34202925e+03],\n",
       "          [2.90420438e+01, 9.05090578e+02, 8.81799765e+02],\n",
       "          [2.91169281e+01, 1.06895023e+03, 5.44011461e+02],\n",
       "          [2.92968782e+01, 1.08498482e+03, 1.47745253e+03],\n",
       "          [2.88079430e+01, 1.47191535e+03, 2.90698861e+03],\n",
       "          [2.93995411e+01, 1.77186052e+03, 2.06607058e+03],\n",
       "          [2.87157996e+01, 1.80490934e+03, 9.56972600e+02],\n",
       "          [2.83717021e+01, 1.80910694e+03, 8.32938977e+02],\n",
       "          [2.86755913e+01, 2.02004211e+03, 2.36803581e+03],\n",
       "          [2.87872222e+01, 2.09091481e+03, 2.35504762e+03],\n",
       "          [2.88251570e+01, 2.26007562e+03, 8.66075905e+02],\n",
       "          [2.89692332e+01, 2.68499343e+03, 2.45809037e+03],\n",
       "          [2.89999127e+01, 2.90607671e+03, 1.54779587e+03],\n",
       "          [3.05669050e+01, 2.37176633e+00, 8.03092182e+02],\n",
       "          [3.05952952e+01, 2.78580389e+00, 8.03096781e+02],\n",
       "          [3.01343489e+01, 8.32086454e+01, 5.15813839e+02],\n",
       "          [3.01649271e+01, 1.11607125e+02, 4.96855740e+02],\n",
       "          [2.96532402e+01, 1.99988927e+02, 1.94898615e+03],\n",
       "          [3.02168432e+01, 4.43797364e+02, 4.22847100e+02],\n",
       "          [3.01911410e+01, 8.63959775e+02, 1.71499584e+03],\n",
       "          [3.02720395e+01, 9.52082504e+02, 2.56691997e+03],\n",
       "          [2.98201455e+01, 9.69980235e+02, 1.10626041e+03],\n",
       "          [2.98003432e+01, 1.12089824e+03, 5.22915770e+02],\n",
       "          [2.99315310e+01, 1.28923482e+03, 1.82302255e+03],\n",
       "          [2.98569174e+01, 1.39794615e+03, 2.91807122e+03],\n",
       "          [3.02003447e+01, 2.39619974e+03, 1.43086903e+03],\n",
       "          [3.02369303e+01, 2.76095183e+03, 9.49057965e+02],\n",
       "          [3.14182966e+01, 2.39140956e+00, 1.26815263e+03],\n",
       "          [3.14247886e+01, 2.80959090e+00, 1.26816379e+03],\n",
       "          [3.09116644e+01, 1.74020394e+02, 1.77072680e+02],\n",
       "          [3.06353389e+01, 2.45976473e+02, 2.54692517e+03],\n",
       "          [3.13441756e+01, 3.72011770e+02, 1.51516689e+03],\n",
       "          [3.12058488e+01, 5.25989888e+02, 6.98936412e+02],\n",
       "          [3.12438792e+01, 5.81148345e+02, 2.34701992e+03],\n",
       "          [3.04427334e+01, 6.21120542e+02, 2.40081548e+02],\n",
       "          [3.10115975e+01, 9.22864562e+02, 2.50820893e+03],\n",
       "          [3.09766325e+01, 9.59736034e+02, 8.85817955e+02],\n",
       "          [3.12291857e+01, 9.94958206e+02, 3.89962966e+02],\n",
       "          [3.10179445e+01, 1.07914712e+03, 1.84499772e+03],\n",
       "          [3.04182584e+01, 1.34210850e+03, 3.85027873e+02],\n",
       "          [3.07411653e+01, 1.37798170e+03, 2.13507108e+03],\n",
       "          [3.11691378e+01, 1.83602987e+03, 1.77806691e+03],\n",
       "          [3.13030967e+01, 1.87802927e+03, 9.87111228e+02],\n",
       "          [3.08769650e+01, 2.29070830e+03, 8.69012105e+02],\n",
       "          [3.11314476e+01, 2.79301489e+03, 2.23316299e+03],\n",
       "          [3.20081412e+01, 8.00802940e+01, 2.82620260e+03],\n",
       "          [3.19407994e+01, 1.47874691e+02, 2.83408512e+03],\n",
       "          [3.16705592e+01, 8.98842433e+02, 1.92821558e+03],\n",
       "          [3.17147348e+01, 1.56691247e+03, 1.07001135e+03],\n",
       "          [3.24523309e+01, 4.70746538e+02, 3.57159838e+02],\n",
       "          [3.25044422e+01, 1.49601603e+03, 2.85217582e+03],\n",
       "          [3.27386962e+01, 1.55706844e+03, 2.46008496e+03],\n",
       "          [3.26194506e+01, 2.14889170e+03, 2.20212856e+03],\n",
       "          [3.23416387e+01, 2.89092353e+03, 1.62089481e+03],\n",
       "          [3.31991317e+01, 1.03717099e+03, 1.10100587e+03],\n",
       "          [3.30420254e+01, 1.14387596e+03, 1.46910273e+03],\n",
       "          [3.31793029e+01, 1.67611229e+03, 2.78604788e+03],\n",
       "          [3.30294950e+01, 2.41119864e+03, 1.19986562e+03],\n",
       "          [3.35881551e+01, 8.40229664e+01, 1.74810116e+03],\n",
       "          [3.34656997e+01, 2.19161384e+02, 2.82615543e+03],\n",
       "          [3.35382146e+01, 2.74030024e+02, 2.50890430e+03],\n",
       "          [3.33132150e+01, 5.90023414e+02, 2.30418882e+03],\n",
       "          [3.37271835e+01, 6.90808889e+02, 2.31001379e+03],\n",
       "          [3.34354446e+01, 9.68844665e+02, 8.41116423e+02],\n",
       "          [3.36044825e+01, 1.52783746e+03, 2.90495487e+03],\n",
       "          [3.35793872e+01, 1.57477534e+03, 1.10890767e+03],\n",
       "          [3.36220131e+01, 2.85291756e+03, 2.26312258e+03],\n",
       "          [3.41009004e+01, 1.20734490e+02, 2.59820256e+03],\n",
       "          [3.40259145e+01, 1.42980413e+02, 2.42902121e+03],\n",
       "          [3.40875409e+01, 1.52849859e+02, 2.16984828e+03],\n",
       "          [3.40462945e+01, 1.77257242e+02, 2.20185214e+02],\n",
       "          [3.41144250e+01, 2.58853699e+02, 2.84997590e+03],\n",
       "          [3.42060006e+01, 6.54072483e+02, 2.37824342e+03],\n",
       "          [3.43393427e+01, 7.16098693e+02, 1.11259268e+03],\n",
       "          [3.39938134e+01, 8.11129311e+02, 2.94698196e+03],\n",
       "          [3.42685754e+01, 9.73326981e+02, 1.15711745e+03],\n",
       "          [3.42923009e+01, 1.08677193e+03, 1.51986124e+03],\n",
       "          [3.42790067e+01, 1.12971185e+03, 2.05248112e+03],\n",
       "          [3.42148055e+01, 1.15386125e+03, 2.49515807e+03],\n",
       "          [3.40580778e+01, 1.16198118e+03, 2.54487369e+03],\n",
       "          [3.40834766e+01, 1.53227115e+03, 1.07710723e+03],\n",
       "          [3.41058413e+01, 1.58841683e+03, 2.45319621e+03],\n",
       "          [3.41009053e+01, 2.85289430e+03, 2.22136080e+03]]),\n",
       "   array([[5.90459560e+00, 1.15407111e+03, 1.30194867e+03],\n",
       "          [5.43738803e+00, 1.77693717e+03, 2.43092756e+03],\n",
       "          [5.88287147e+00, 2.49149803e+02, 1.04298766e+03],\n",
       "          [6.62859266e+00, 1.28601030e+03, 2.36902255e+03],\n",
       "          [6.45686295e+00, 2.10324743e+03, 1.17403242e+03],\n",
       "          [6.41668113e+00, 2.11410545e+03, 1.22680168e+03],\n",
       "          [6.09864178e+00, 2.22414583e+03, 2.93820474e+03],\n",
       "          [6.77112786e+00, 1.98070459e+02, 8.70995667e+02],\n",
       "          [7.02987460e+00, 7.49154180e+02, 7.38877036e+02],\n",
       "          [7.49833057e+00, 1.28203037e+03, 1.93936959e+02],\n",
       "          [7.25352229e+00, 1.40679410e+03, 2.42486891e+03],\n",
       "          [8.33884912e+00, 1.49212826e+03, 7.82040465e+02],\n",
       "          [7.11734950e+00, 1.74815323e+03, 2.67598885e+03],\n",
       "          [7.06514051e+00, 1.87797440e+03, 1.06714415e+03],\n",
       "          [7.52544414e+00, 2.01202080e+03, 1.65004051e+03],\n",
       "          [7.47923397e+00, 2.24504961e+03, 1.20191997e+03],\n",
       "          [6.38871727e+00, 2.25706515e+03, 2.56492187e+03],\n",
       "          [5.85639838e+00, 2.26698465e+03, 1.14906207e+03],\n",
       "          [6.06585298e+00, 2.37895510e+03, 2.07971796e+02],\n",
       "          [6.51760796e+00, 2.71888383e+03, 2.51715064e+03],\n",
       "          [7.86464129e+00, 2.72196556e+03, 2.55099227e+03],\n",
       "          [7.26832535e+00, 2.96795655e+03, 1.05924839e+03],\n",
       "          [8.05023918e+00, 4.90751969e+01, 2.23285098e+03],\n",
       "          [8.48346711e+00, 1.06020001e+02, 2.18905302e+03],\n",
       "          [8.15611941e+00, 1.58117222e+02, 1.96489833e+03],\n",
       "          [8.35834957e+00, 3.19187011e+02, 7.00881394e+02],\n",
       "          [8.49196282e+00, 3.24133190e+02, 6.70144395e+02],\n",
       "          [8.27954209e+00, 5.09072122e+02, 1.66003175e+03],\n",
       "          [8.43611301e+00, 5.19091309e+02, 2.46163390e+02],\n",
       "          [8.55602522e+00, 5.40848481e+02, 1.64713975e+03],\n",
       "          [8.54326540e+00, 5.92082718e+02, 1.94708759e+03],\n",
       "          [7.60076343e+00, 8.34972820e+02, 1.59310370e+03],\n",
       "          [7.43558881e+00, 1.13613742e+03, 1.30395776e+03],\n",
       "          [8.20278613e+00, 1.20299345e+03, 1.32095621e+03],\n",
       "          [7.76310902e+00, 1.29900714e+03, 2.04502426e+03],\n",
       "          [7.67730600e+00, 1.35108304e+03, 2.38996482e+03],\n",
       "          [8.16142606e+00, 1.36995173e+03, 1.25501484e+03],\n",
       "          [7.82491988e+00, 1.53401124e+03, 1.24094101e+03],\n",
       "          [8.18052289e+00, 1.81115962e+03, 2.65709723e+03],\n",
       "          [8.45408048e+00, 1.82091313e+03, 8.08905514e+02],\n",
       "          [8.22478244e+00, 1.84588995e+03, 2.45489748e+03],\n",
       "          [7.83042254e+00, 2.66193769e+03, 7.96018459e+02],\n",
       "          [8.35910866e+00, 2.77308213e+03, 2.04292816e+03],\n",
       "          [7.79343349e+00, 2.77503117e+03, 2.88795693e+03],\n",
       "          [9.28322546e+00, 3.20622813e+01, 2.19111285e+03],\n",
       "          [8.37197420e+00, 3.36008526e+02, 1.19800673e+03],\n",
       "          [8.52856181e+00, 6.19028564e+02, 1.02698814e+03],\n",
       "          [9.19314030e+00, 6.25975094e+02, 1.83114636e+03],\n",
       "          [8.02216531e+00, 8.98017728e+02, 1.65394762e+03],\n",
       "          [8.59830614e+00, 9.55975480e+02, 1.37021343e+02],\n",
       "          [9.46175539e+00, 1.23013947e+03, 1.76694113e+03],\n",
       "          [8.61084570e+00, 1.27108581e+03, 2.40480640e+03],\n",
       "          [9.57649148e+00, 1.71816836e+03, 8.70830506e+02],\n",
       "          [9.49422153e+00, 1.74997090e+03, 7.65950366e+02],\n",
       "          [8.70475824e+00, 1.81174544e+03, 2.68673535e+03],\n",
       "          [8.32929229e+00, 2.24910960e+03, 2.52213764e+03],\n",
       "          [9.29889711e+00, 2.30693070e+03, 2.55404809e+03],\n",
       "          [9.11109379e+00, 2.63300663e+03, 7.98923141e+02],\n",
       "          [8.53349313e+00, 2.80610603e+03, 1.09187917e+03],\n",
       "          [1.00655925e+01, 2.20962024e+02, 1.97667851e+03],\n",
       "          [9.37910835e+00, 2.82039649e+02, 9.79980195e+02],\n",
       "          [9.98694226e+00, 3.73848987e+02, 1.54290738e+03],\n",
       "          [9.49905961e+00, 3.78072595e+02, 5.67922359e+02],\n",
       "          [1.04873094e+01, 3.90952145e+02, 1.72185264e+02],\n",
       "          [1.03741943e+01, 5.37076585e+02, 2.92117276e+03],\n",
       "          [9.53420790e+00, 5.45906733e+02, 2.69887822e+02],\n",
       "          [1.13176575e+01, 5.60094804e+02, 1.58015596e+03],\n",
       "          [1.01365793e+01, 6.69879316e+02, 2.00266778e+03],\n",
       "          [9.10297976e+00, 7.80114456e+02, 2.95098511e+02],\n",
       "          [9.53813021e+00, 1.39788901e+03, 2.36600799e+03],\n",
       "          [8.82733076e+00, 1.62499969e+03, 1.24505729e+03],\n",
       "          [9.75557258e+00, 1.82011904e+03, 2.57200544e+03],\n",
       "          [9.31836696e+00, 1.93716748e+03, 2.07057119e+02],\n",
       "          [1.04819231e+01, 2.02003334e+03, 1.61704680e+03],\n",
       "          [1.22056349e+01, 3.14155836e+02, 1.53506969e+03],\n",
       "          [9.34925717e+00, 3.69784903e+02, 6.87973779e+02],\n",
       "          [1.01332089e+01, 4.08828067e+02, 5.68789515e+02],\n",
       "          [1.12967057e+01, 5.52977163e+02, 1.52108672e+03],\n",
       "          [1.13338842e+01, 1.19195522e+03, 1.27616563e+03],\n",
       "          [1.03898054e+01, 1.49595080e+03, 8.26961666e+02],\n",
       "          [1.08147131e+01, 1.89609333e+03, 1.01797848e+03],\n",
       "          [9.84187338e+00, 2.25889898e+03, 2.93208836e+03],\n",
       "          [9.14934946e+00, 2.76007178e+03, 2.32894922e+03],\n",
       "          [1.12319190e+01, 2.84486388e+03, 1.07323142e+03],\n",
       "          [1.32847269e+01, 1.38130435e+02, 1.84010492e+03],\n",
       "          [1.21588639e+01, 1.43024285e+02, 1.27835899e+02],\n",
       "          [1.21911091e+01, 1.67804355e+02, 1.22883558e+02],\n",
       "          [1.07174664e+01, 3.04067239e+02, 2.78002113e+03],\n",
       "          [1.24253422e+01, 3.66873355e+02, 2.89613529e+03],\n",
       "          [1.22320971e+01, 3.72070677e+02, 2.48998498e+02],\n",
       "          [1.12213298e+01, 6.74883931e+02, 1.96612059e+03],\n",
       "          [1.23246819e+01, 8.38105648e+02, 1.71406320e+03],\n",
       "          [1.33262429e+01, 1.18484123e+03, 2.39380855e+03],\n",
       "          [1.24345612e+01, 1.26484144e+03, 8.11066508e+02],\n",
       "          [1.30408906e+01, 1.35079608e+03, 1.04587153e+03],\n",
       "          [1.20879221e+01, 1.38593708e+03, 9.63311559e+02],\n",
       "          [1.27821767e+01, 1.73010917e+03, 8.31978977e+02],\n",
       "          [1.14359647e+01, 1.82098079e+03, 8.51882122e+02],\n",
       "          [1.33898066e+01, 2.80847292e+02, 2.53202590e+03],\n",
       "          [1.29522490e+01, 3.87984964e+02, 2.15133024e+02],\n",
       "          [1.36014913e+01, 5.29318260e+02, 1.56599343e+03],\n",
       "          [1.30030013e+01, 1.38701627e+03, 1.01999731e+03],\n",
       "          [1.35012483e+01, 2.29300289e+03, 2.69102119e+03],\n",
       "          [1.27088594e+01, 2.92215886e+03, 9.66957654e+02],\n",
       "          [1.53087680e+01, 9.69069002e+01, 3.40066967e+02],\n",
       "          [1.37948147e+01, 1.26009282e+02, 1.96000639e+02],\n",
       "          [1.41813545e+01, 1.41203592e+02, 2.86876411e+02],\n",
       "          [1.32211799e+01, 1.90102356e+02, 1.96957792e+02],\n",
       "          [1.44276689e+01, 3.35224842e+02, 1.44901841e+03],\n",
       "          [1.52866630e+01, 3.71864371e+02, 1.42514800e+03],\n",
       "          [1.29687448e+01, 5.59828903e+02, 1.65292847e+03],\n",
       "          [1.41086914e+01, 6.29894685e+02, 1.96689867e+03],\n",
       "          [1.42195252e+01, 7.69274742e+02, 1.59990914e+03],\n",
       "          [1.43594203e+01, 8.92844896e+02, 1.73176376e+03],\n",
       "          [1.35242285e+01, 1.15893024e+03, 1.61601962e+03],\n",
       "          [1.33403963e+01, 1.21990423e+03, 2.55498500e+03],\n",
       "          [1.42791975e+01, 1.35990452e+03, 4.27992838e+02],\n",
       "          [1.33464885e+01, 2.81185052e+03, 2.82218762e+03],\n",
       "          [1.27528769e+01, 2.92693454e+03, 1.11101827e+03],\n",
       "          [1.50779658e+01, 5.21967673e+02, 6.33047943e+02],\n",
       "          [1.54024687e+01, 8.03048862e+02, 1.55718283e+03],\n",
       "          [1.63110984e+01, 9.35970496e+02, 1.65302525e+03],\n",
       "          [1.49246430e+01, 1.16119019e+03, 2.36906023e+03],\n",
       "          [1.52603132e+01, 1.41784790e+03, 2.17600309e+03],\n",
       "          [1.40658270e+01, 1.74398197e+03, 1.05895027e+03],\n",
       "          [1.52735006e+01, 1.77902604e+03, 2.39511784e+03],\n",
       "          [1.46818865e+01, 2.06485214e+03, 2.47295066e+03],\n",
       "          [1.41529744e+01, 2.24195301e+03, 1.15792688e+03],\n",
       "          [1.53908246e+01, 2.27595389e+03, 1.12708655e+03],\n",
       "          [1.64358099e+01, 1.03815185e+03, 2.17995970e+02],\n",
       "          [1.55837669e+01, 1.32407044e+03, 3.51065347e+02],\n",
       "          [1.54388330e+01, 2.20003187e+03, 2.34100523e+03],\n",
       "          [1.55335685e+01, 2.26496081e+03, 1.09303245e+03],\n",
       "          [1.73170736e+01, 4.63102261e+02, 8.01170124e+02],\n",
       "          [1.73458170e+01, 8.38048497e+02, 2.53707825e+03],\n",
       "          [1.77355779e+01, 1.36406772e+03, 9.68097170e+02],\n",
       "          [1.65680350e+01, 1.41096425e+03, 1.18809122e+03],\n",
       "          [1.69609839e+01, 1.98906334e+03, 2.02109089e+02],\n",
       "          [1.68570203e+01, 2.00760889e+03, 2.34964690e+02],\n",
       "          [1.63226550e+01, 2.24520640e+03, 2.70992073e+03],\n",
       "          [1.76892209e+01, 2.27201371e+03, 2.74174668e+03],\n",
       "          [1.85292314e+01, 2.76572487e+00, 1.98603761e+03],\n",
       "          [1.85292314e+01, 2.76572487e+00, 1.98603761e+03],\n",
       "          [1.77570535e+01, 1.38112067e+02, 1.87290829e+03],\n",
       "          [1.83377829e+01, 1.46916177e+02, 2.38396377e+03],\n",
       "          [1.79441160e+01, 2.39285067e+02, 1.31095939e+03],\n",
       "          [1.83976005e+01, 2.81950493e+02, 1.32186089e+03],\n",
       "          [1.93623693e+01, 3.03064496e+02, 2.87610533e+03],\n",
       "          [1.79807415e+01, 5.17943852e+02, 7.18975501e+02],\n",
       "          [1.83504843e+01, 1.15092291e+03, 2.56986783e+02],\n",
       "          [1.87471032e+01, 1.31458669e+03, 1.82007513e+03],\n",
       "          [1.69580725e+01, 1.81400902e+03, 1.07287750e+03],\n",
       "          [1.72186454e+01, 1.81972187e+03, 2.41296673e+03],\n",
       "          [1.80083125e+01, 2.30194241e+03, 1.09114282e+03],\n",
       "          [1.89716436e+01, 2.39789322e+03, 1.79026345e+03],\n",
       "          [1.88949804e+01, 6.90128395e+00, 3.59115704e+02],\n",
       "          [1.88949804e+01, 6.90128395e+00, 3.59115704e+02],\n",
       "          [1.90556881e+01, 3.90650453e+02, 1.93060720e+02],\n",
       "          [1.91740832e+01, 4.73100836e+02, 6.88024439e+02],\n",
       "          [1.89898891e+01, 1.32906689e+03, 1.19008240e+03],\n",
       "          [1.99959547e+01, 1.35508602e+03, 1.23505450e+03],\n",
       "          [1.96585743e+01, 1.82226253e+03, 7.77407442e+02],\n",
       "          [1.81958205e+01, 2.66523578e+03, 1.52901768e+03],\n",
       "          [1.91321907e+01, 2.85997584e+03, 1.59895148e+03],\n",
       "          [1.94675315e+01, 7.99647150e+01, 4.58993847e+02],\n",
       "          [2.03247701e+01, 3.56909481e+02, 1.23293162e+03],\n",
       "          [2.00396447e+01, 6.40951890e+02, 2.80833503e+02],\n",
       "          [2.01082903e+01, 9.95902025e+02, 1.10509901e+03],\n",
       "          [1.97776899e+01, 1.54295053e+03, 7.52998947e+02],\n",
       "          [1.96093810e+01, 2.59100164e+03, 1.35811063e+03],\n",
       "          [2.12572076e+01, 2.81957957e+02, 9.37238134e+02],\n",
       "          [2.10828616e+01, 4.26063707e+02, 2.64289657e+03],\n",
       "          [2.14910029e+01, 5.94917312e+02, 1.50906800e+03],\n",
       "          [2.07555921e+01, 5.97294756e+02, 2.56060488e+02],\n",
       "          [2.02490041e+01, 9.27022538e+02, 8.27058964e+02],\n",
       "          [2.10735541e+01, 1.14284058e+03, 5.20004427e+02],\n",
       "          [2.02786813e+01, 1.89696716e+03, 1.05767712e+03],\n",
       "          [2.05249671e+01, 2.66892137e+03, 2.20302934e+03],\n",
       "          [2.31410505e+01, 4.14111230e+02, 2.56511048e+03],\n",
       "          [2.17163287e+01, 1.30696954e+03, 1.03095214e+03],\n",
       "          [2.13766067e+01, 1.32306341e+03, 1.86095408e+03],\n",
       "          [2.17490260e+01, 1.87897323e+03, 8.26936430e+02],\n",
       "          [2.11081756e+01, 2.20679952e+03, 1.04693272e+03],\n",
       "          [2.28447846e+01, 2.79476321e+00, 8.24988933e+02],\n",
       "          [2.28447846e+01, 2.79476321e+00, 8.24988933e+02],\n",
       "          [2.34077986e+01, 3.25947555e+02, 4.61925172e+02],\n",
       "          [2.32934307e+01, 3.54100129e+02, 5.29202440e+02],\n",
       "          [2.33249011e+01, 4.43077451e+02, 5.80014772e+02],\n",
       "          [2.26827401e+01, 4.85072369e+02, 6.41009272e+02],\n",
       "          [2.19249895e+01, 6.05103859e+02, 2.89806096e+02],\n",
       "          [2.37084937e+01, 9.94881974e+02, 2.80301873e+03],\n",
       "          [2.23082758e+01, 1.05411216e+03, 1.47119487e+03],\n",
       "          [2.22802606e+01, 1.27186535e+03, 1.84608260e+03],\n",
       "          [2.28496704e+01, 1.56093194e+03, 1.12482272e+03],\n",
       "          [2.27611464e+01, 2.23100749e+03, 9.09006425e+02],\n",
       "          [2.25494501e+01, 2.78698602e+03, 2.83590345e+03],\n",
       "          [2.20887427e+01, 5.28721641e+01, 2.70073937e+02],\n",
       "          [2.14049556e+01, 2.63945277e+02, 1.26422675e+03],\n",
       "          [2.36437848e+01, 4.23266547e+02, 3.84082410e+02],\n",
       "          [2.51594773e+01, 5.86673491e+02, 6.88035846e+02],\n",
       "          [2.38966387e+01, 6.60870583e+02, 2.30073697e+02],\n",
       "          [2.24120860e+01, 8.72979156e+02, 1.99290683e+03],\n",
       "          [2.40856320e+01, 9.57103232e+02, 1.12818186e+03],\n",
       "          [2.27033230e+01, 9.84635809e+02, 1.60936357e+02],\n",
       "          [2.35083453e+01, 1.22505793e+03, 1.71795239e+03],\n",
       "          [2.42901679e+01, 1.22909986e+03, 1.79698589e+03],\n",
       "          [2.41122198e+01, 1.35195287e+03, 2.96903523e+03],\n",
       "          [2.27626104e+01, 1.36514760e+03, 2.17794139e+03],\n",
       "          [2.45984436e+01, 1.86402933e+03, 1.01406625e+03],\n",
       "          [2.41334965e+01, 2.04992165e+03, 2.41388037e+03],\n",
       "          [2.36308682e+01, 2.09210425e+03, 2.41292905e+03],\n",
       "          [2.31263299e+01, 2.81594692e+03, 8.88666027e+02],\n",
       "          [2.53361525e+01, 2.94002685e+03, 1.00600437e+03],\n",
       "          [2.44052687e+01, 2.46270729e+02, 2.51205148e+03],\n",
       "          [2.48700565e+01, 4.15050244e+02, 2.61001517e+03],\n",
       "          [2.45257313e+01, 8.99874792e+02, 1.69906683e+03],\n",
       "          [2.40682501e+01, 9.41885866e+02, 2.59395010e+03],\n",
       "          [2.50041662e+01, 1.04731985e+03, 1.51085023e+03],\n",
       "          [2.56964933e+01, 1.12794141e+03, 1.47304664e+03],\n",
       "          [2.47264397e+01, 1.17094856e+03, 2.38402858e+03],\n",
       "          [2.54498143e+01, 1.32005097e+03, 9.88049239e+02],\n",
       "          [2.39663800e+01, 1.58892171e+03, 1.17592173e+03],\n",
       "          [2.51647125e+01, 2.24312507e+03, 1.11296745e+03],\n",
       "          [2.60323837e+01, 2.28300244e+03, 2.36678311e+03],\n",
       "          [2.57014352e+01, 2.67916433e+03, 1.57001782e+03],\n",
       "          [2.49627540e+01, 2.83512653e+03, 1.54612672e+03],\n",
       "          [2.41920535e+01, 8.79022357e+02, 1.64120119e+03],\n",
       "          [2.58101948e+01, 1.57407395e+03, 2.49089115e+03],\n",
       "          [2.62065116e+01, 2.71693803e+03, 8.94015749e+02],\n",
       "          [2.54984692e+01, 2.77296977e+03, 2.02601355e+03],\n",
       "          [2.61797828e+01, 2.10214329e+01, 1.20397541e+03],\n",
       "          [2.78799071e+01, 1.12897183e+02, 3.33062114e+02],\n",
       "          [2.73168338e+01, 4.39977885e+02, 1.37909263e+03],\n",
       "          [2.69938804e+01, 4.51858844e+02, 1.34710756e+03],\n",
       "          [2.63222670e+01, 4.55920673e+02, 3.89024166e+02],\n",
       "          [2.57818554e+01, 5.57999610e+02, 1.55798527e+03],\n",
       "          [2.66218964e+01, 6.01995504e+02, 5.99892660e+02],\n",
       "          [2.60575096e+01, 6.07070156e+02, 2.35973045e+03],\n",
       "          [2.64435039e+01, 6.23974584e+02, 1.02901999e+03],\n",
       "          [2.61243473e+01, 6.32689031e+02, 2.33097689e+03],\n",
       "          [2.69550804e+01, 9.08032777e+02, 8.67847529e+02],\n",
       "          [2.77000114e+01, 1.07203478e+03, 5.28089498e+02],\n",
       "          [2.78473311e+01, 1.08700878e+03, 1.46437441e+03],\n",
       "          [2.62772651e+01, 1.47502602e+03, 2.89309380e+03],\n",
       "          [2.65981592e+01, 1.77392071e+03, 2.05301408e+03],\n",
       "          [2.65761610e+01, 1.80800189e+03, 9.43131956e+02],\n",
       "          [2.49123940e+01, 1.81303290e+03, 8.18947909e+02],\n",
       "          [2.66073668e+01, 2.02395618e+03, 2.35408572e+03],\n",
       "          [2.59719595e+01, 2.09595231e+03, 2.34204737e+03],\n",
       "          [2.75335944e+01, 2.26497273e+03, 8.53069211e+02],\n",
       "          [2.68630579e+01, 2.68801437e+03, 2.44498742e+03],\n",
       "          [2.63173269e+01, 2.90916247e+03, 1.53476838e+03],\n",
       "          [2.90314485e+01, 2.72177378e+00, 7.89052106e+02],\n",
       "          [2.90314485e+01, 2.72177378e+00, 7.89052106e+02],\n",
       "          [2.79226296e+01, 8.62884712e+01, 5.02794822e+02],\n",
       "          [2.79551974e+01, 1.15516754e+02, 4.82949677e+02],\n",
       "          [2.76172196e+01, 2.03966560e+02, 1.93600022e+03],\n",
       "          [2.80976960e+01, 4.47803181e+02, 4.07858419e+02],\n",
       "          [2.74174325e+01, 8.68966805e+02, 1.70107512e+03],\n",
       "          [2.81947832e+01, 9.56015224e+02, 2.55105482e+03],\n",
       "          [2.77238390e+01, 9.73059893e+02, 1.09310812e+03],\n",
       "          [2.79406907e+01, 1.12196264e+03, 5.08022237e+02],\n",
       "          [2.79809694e+01, 1.29310980e+03, 1.81072881e+03],\n",
       "          [2.77687374e+01, 1.40100892e+03, 2.90496319e+03],\n",
       "          [2.74266620e+01, 2.40008777e+03, 1.41793858e+03],\n",
       "          [2.79667341e+01, 2.76315504e+03, 9.36029071e+02],\n",
       "          [2.85609389e+01, 2.79911887e+00, 1.25598595e+03],\n",
       "          [2.85609389e+01, 2.79911887e+00, 1.25598595e+03],\n",
       "          [2.88744920e+01, 1.77950264e+02, 1.64012955e+02],\n",
       "          [2.85799484e+01, 2.49984443e+02, 2.53587070e+03],\n",
       "          [2.98756941e+01, 3.74987764e+02, 1.50301951e+03],\n",
       "          [3.04189963e+01, 5.31943576e+02, 6.83934573e+02],\n",
       "          [2.93966756e+01, 5.84162703e+02, 2.33409290e+03],\n",
       "          [2.78215204e+01, 6.22161011e+02, 2.28062690e+02],\n",
       "          [2.84550915e+01, 9.24958505e+02, 2.49503304e+03],\n",
       "          [2.82864246e+01, 9.62770758e+02, 8.72849380e+02],\n",
       "          [2.92791681e+01, 9.98905455e+02, 3.76054562e+02],\n",
       "          [2.80754540e+01, 1.08409542e+03, 1.83101329e+03],\n",
       "          [2.76681102e+01, 1.34407785e+03, 3.70073718e+02],\n",
       "          [2.81396020e+01, 1.37903772e+03, 2.12208675e+03],\n",
       "          [2.91065711e+01, 1.83991039e+03, 1.76504871e+03],\n",
       "          [3.00050560e+01, 1.88014087e+03, 9.74084995e+02],\n",
       "          [2.82725062e+01, 2.29379173e+03, 8.55074125e+02],\n",
       "          [2.91501241e+01, 2.79603594e+03, 2.22007829e+03],\n",
       "          [3.03847942e+01, 8.31466802e+01, 2.81318831e+03],\n",
       "          [2.93988257e+01, 1.50881351e+02, 2.82198506e+03],\n",
       "          [2.98088450e+01, 9.02690333e+02, 1.91606934e+03],\n",
       "          [3.00319049e+01, 1.57085319e+03, 1.05701468e+03],\n",
       "          [3.06951354e+01, 4.73801006e+02, 3.45099978e+02],\n",
       "          [3.08031678e+01, 1.49908610e+03, 2.83908994e+03],\n",
       "          [3.15211812e+01, 1.56104170e+03, 2.44608233e+03],\n",
       "          [3.08305139e+01, 2.15195272e+03, 2.18907338e+03],\n",
       "          [3.05806009e+01, 2.89395459e+03, 1.60701607e+03],\n",
       "          [3.17695883e+01, 1.04020759e+03, 1.08790047e+03],\n",
       "          [3.11229361e+01, 1.14691028e+03, 1.45596760e+03],\n",
       "          [3.16749015e+01, 1.67914930e+03, 2.77293164e+03],\n",
       "          [3.10890983e+01, 2.41507270e+03, 1.18686310e+03],\n",
       "          [3.18964140e+01, 8.62022101e+01, 1.73500400e+03],\n",
       "          [3.23257939e+01, 2.22344036e+02, 2.81315685e+03],\n",
       "          [3.24302539e+01, 2.75922036e+02, 2.49617472e+03],\n",
       "          [3.16759297e+01, 5.93158003e+02, 2.29028295e+03],\n",
       "          [3.25051765e+01, 6.93965583e+02, 2.29608433e+03],\n",
       "          [3.22214865e+01, 9.70966304e+02, 8.27220263e+02],\n",
       "          [3.20441772e+01, 1.53270704e+03, 2.89003453e+03],\n",
       "          [3.19760095e+01, 1.57781283e+03, 1.09585658e+03],\n",
       "          [3.22917950e+01, 2.85502313e+03, 2.24974377e+03],\n",
       "          [3.30606945e+01, 1.23857725e+02, 2.58415964e+03],\n",
       "          [3.25686357e+01, 1.46831238e+02, 2.41497002e+03],\n",
       "          [3.26925332e+01, 1.55896116e+02, 2.15603225e+03],\n",
       "          [3.29900593e+01, 1.80112790e+02, 2.06091560e+02],\n",
       "          [3.35068335e+01, 2.61097020e+02, 2.83607878e+03],\n",
       "          [3.32038347e+01, 6.57067051e+02, 2.36417894e+03],\n",
       "          [3.41264109e+01, 7.22049245e+02, 1.10144778e+03],\n",
       "          [3.24926028e+01, 8.15828001e+02, 2.93325158e+03],\n",
       "          [3.31439280e+01, 9.78160510e+02, 1.14310259e+03],\n",
       "          [3.41556502e+01, 1.08885286e+03, 1.50788499e+03],\n",
       "          [3.31728224e+01, 1.13288593e+03, 2.03899293e+03],\n",
       "          [3.32875463e+01, 1.15709297e+03, 2.48211892e+03],\n",
       "          [3.34823086e+01, 1.16396671e+03, 2.53089350e+03],\n",
       "          [3.27038874e+01, 1.53519929e+03, 1.06301138e+03],\n",
       "          [3.35114928e+01, 1.59215523e+03, 2.43826954e+03],\n",
       "          [3.30799904e+01, 2.85691900e+03, 2.20845178e+03]])]]]"
      ]
     },
     "execution_count": 4,
     "metadata": {},
     "output_type": "execute_result"
    }
   ],
   "source": [
    "newdrifts"
   ]
  },
  {
   "cell_type": "code",
   "execution_count": 123,
   "id": "39f336a0-ff5b-45e3-bf96-79a7d2167cb1",
   "metadata": {
    "tags": []
   },
   "outputs": [
    {
     "name": "stderr",
     "output_type": "stream",
     "text": [
      "100%|██████████████████████████████████████████████████████████████████████████████████| 12/12 [00:09<00:00,  1.30it/s]\n"
     ]
    }
   ],
   "source": [
    "fov,set_ = 'Conv_zscan__30','_set5'\n",
    "dec = decoder_simple(save_folder,fov=fov,set_=set_)\n",
    "dec.get_XH(fov,set_,ncols=2,nbits=12)#number of colors match \n",
    "dec.XH = dec.XH[dec.XH[:,-4]>0.25] ### keep the spots that are correlated with the expected PSF for 60X\n",
    "dec.load_library(lib_fl,nblanks=-1)"
   ]
  },
  {
   "cell_type": "code",
   "execution_count": 124,
   "id": "f1eb5389-d542-43e5-8a82-c6ac6373fa31",
   "metadata": {
    "tags": []
   },
   "outputs": [],
   "source": [
    "import torch\n",
    "def get_inters(self,nmin_bits=4,dinstance_th=2,enforce_color=True,redo=False):\n",
    "    \"\"\"Get an initial intersection of points and save in self.res\"\"\"\n",
    "    self.res_fl = self.decoded_fl.replace('decoded','res')\n",
    "    if not os.path.exists(self.res_fl) or redo:\n",
    "        \n",
    "        res =[]\n",
    "        if enforce_color:\n",
    "            icols = self.XH[:,-2].astype(int)\n",
    "            XH = self.XH\n",
    "            for icol in tqdm(np.unique(icols)):\n",
    "                inds = np.where(icols==icol)[0]\n",
    "                Xs = XH[inds,:3]\n",
    "                Ts = cKDTree(Xs)\n",
    "                res_ = Ts.query_ball_tree(Ts,dinstance_th)\n",
    "                res += [inds[r] for r in res_]\n",
    "        else:\n",
    "            XH = self.XH\n",
    "            Xs = XH[:,:3]\n",
    "            Ts = cKDTree(Xs)\n",
    "            res = Ts.query_ball_tree(Ts,dinstance_th)\n",
    "        print(\"Calculating lengths of clusters...\")\n",
    "        lens = np.array(list(map(len,res)))\n",
    "        Mlen = np.max(lens)\n",
    "        print(\"Unfolding indexes...\")\n",
    "        res_unfolder = np.concatenate(res)\n",
    "        print(\"Saving to file:\",self.res_fl)\n",
    "        self.res_unfolder=res_unfolder\n",
    "        self.lens=lens\n",
    "        np.savez(self.res_fl,res_unfolder=res_unfolder,lens=lens)\n",
    "    else:\n",
    "        dic = np.load(self.res_fl)\n",
    "        self.res_unfolder=dic['res_unfolder']\n",
    "        self.lens=dic['lens']\n",
    "        #self.res = res\n",
    "    lens =self.lens\n",
    "    self.res_unfolder = self.res_unfolder[np.repeat(lens, lens)>=nmin_bits]\n",
    "    self.lens = self.lens[lens>=nmin_bits]"
   ]
  },
  {
   "cell_type": "code",
   "execution_count": 125,
   "id": "70584cfe-cdb7-4bce-839a-31821348210f",
   "metadata": {
    "tags": []
   },
   "outputs": [
    {
     "name": "stderr",
     "output_type": "stream",
     "text": [
      "100%|████████████████████████████████████████████████████████████████████████████████████| 2/2 [01:28<00:00, 44.39s/it]\n"
     ]
    },
    {
     "name": "stdout",
     "output_type": "stream",
     "text": [
      "Calculating lengths of clusters...\n",
      "Unfolding indexes...\n",
      "Saving to file: \\\\192.168.0.21\\bbfishdc21\\HttHuman_Snonia__06_12_2023\\MERFISH_Analysis_group3\\res_Conv_zscan__30--_set5.npz\n"
     ]
    }
   ],
   "source": [
    "get_inters(dec,dinstance_th=2,nmin_bits=4,enforce_color=True,redo=True)"
   ]
  },
  {
   "cell_type": "code",
   "execution_count": 152,
   "id": "898f4168-c283-4998-b659-10c1bc987a0f",
   "metadata": {
    "tags": []
   },
   "outputs": [],
   "source": [
    "def get_icodes(dec,nmin_bits=4,delta_bits=None,iH=-3,redo=False,norm_brightness=False,nbits=24,is_unique=False):\n",
    "    import time\n",
    "    start = time.time()\n",
    "    lens = dec.lens\n",
    "    res_unfolder = dec.res_unfolder\n",
    "    Mlen = np.max(lens)\n",
    "    print(\"Calculating indexes within cluster...\")\n",
    "    res_is = np.tile(np.arange(Mlen), len(lens))\n",
    "    res_is = res_is[res_is < np.repeat(lens, Mlen)]\n",
    "    print(\"Calculating index of molecule...\")\n",
    "    ires = np.repeat(np.arange(len(lens)), lens)\n",
    "    #r0 = np.array([r[0] for r in res for r_ in r])\n",
    "    print(\"Calculating index of first molecule...\")\n",
    "    r0i = np.concatenate([[0],np.cumsum(lens)])[:-1]\n",
    "    r0 = res_unfolder[np.repeat(r0i, lens)]\n",
    "    print(\"Total time unfolded molecules:\",time.time()-start)\n",
    "\n",
    "    ### torch\n",
    "    ires = torch.from_numpy(ires.astype(np.int64))\n",
    "    res_unfolder = torch.from_numpy(res_unfolder.astype(np.int64))\n",
    "    res_is = torch.from_numpy(res_is.astype(np.int64))\n",
    "    \n",
    "    \n",
    "    \n",
    "    ### get score for brightness \n",
    "    def get_scoresH():\n",
    "        H = torch.from_numpy(dec.XH[:,-3])\n",
    "        Hlog = H#np.log(H)\n",
    "        mnH = Hlog.mean()\n",
    "        stdH = Hlog.std()\n",
    "        distribution = torch.distributions.Normal(mnH, stdH)\n",
    "        scoreH = distribution.cdf(Hlog)\n",
    "        return scoreH[res_unfolder]\n",
    "    ### get score for inter-distance between molecules\n",
    "    def get_scoresD():\n",
    "        X = dec.XH[:,:3]\n",
    "        XT = torch.from_numpy(X)\n",
    "        XD = XT[res_unfolder]-XT[r0]\n",
    "        meanD = -torch.mean(torch.abs(XD),axis=-1)\n",
    "        distribution = torch.distributions.Normal(meanD.mean(), meanD.std())\n",
    "        scoreD = distribution.cdf(meanD)\n",
    "        return scoreD\n",
    "    def get_combined_scores():\n",
    "        scoreH = get_scoresH()\n",
    "        scoreD = get_scoresD()\n",
    "        ### combine scores. Note this score is for all the molecules un-ravelled from their clusters\n",
    "        scoreF = scoreD*scoreH\n",
    "        return scoreF\n",
    "    \n",
    "    import time\n",
    "    start = time.time()\n",
    "    print(\"Computing score...\")\n",
    "    if iH is None:\n",
    "        scoreF = get_combined_scores()\n",
    "    else:\n",
    "        scoreF = torch.from_numpy(dec.XH[:,iH])[res_unfolder]\n",
    "    print(\"Total time computing score:\",time.time()-start)\n",
    "\n",
    "    ### organize molecules in blocks for each cluster\n",
    "    def get_asort_scores():\n",
    "        val = torch.max(scoreF)+2\n",
    "        scoreClu = torch.zeros([len(lens),Mlen],dtype=torch.float64)+val\n",
    "        scoreClu[ires,res_is]=scoreF\n",
    "        asort = scoreClu.argsort(-1)\n",
    "        scoreClu = torch.gather(scoreClu,dim=-1,index=asort)\n",
    "        scoresF2 = scoreClu[scoreClu<val-1]\n",
    "        return asort,scoresF2\n",
    "    def get_reorder(x,val=-1):\n",
    "        if type(x) is not torch.Tensor:\n",
    "            x = torch.from_numpy(np.array(x))\n",
    "        xClu = torch.zeros([len(lens),Mlen],dtype=x.dtype)+val\n",
    "        xClu[ires,res_is] = x\n",
    "        xClu = torch.gather(xClu,dim=-1,index=asort)\n",
    "        xf = xClu[xClu>val]\n",
    "        return xf\n",
    "\n",
    "    import time\n",
    "    start = time.time()\n",
    "    print(\"Computing sorting...\")\n",
    "    asort,scoresF2 = get_asort_scores()\n",
    "    res_unfolder2 = get_reorder(res_unfolder,val=-1)\n",
    "    del asort\n",
    "    del scoreF\n",
    "    print(\"Total time sorting molecules by score:\",time.time()-start)\n",
    "    \n",
    "    \n",
    "    \n",
    "    import time\n",
    "    start = time.time()\n",
    "    print(\"Finding best bits per molecules...\")\n",
    "\n",
    "    Rs = dec.XH[:,-1].astype(np.int64)\n",
    "    Rs = torch.from_numpy(Rs)\n",
    "    Rs_U = Rs[res_unfolder2]\n",
    "\n",
    "    score_bits = torch.zeros([len(lens),nbits],dtype=scoresF2.dtype)-1\n",
    "    score_bits[ires,Rs_U]=scoresF2\n",
    "\n",
    "    \n",
    "    codes_lib = torch.from_numpy(np.array(dec.codes__))\n",
    "    codes_lib_01 = torch.zeros([len(codes_lib),nbits],dtype=score_bits.dtype)\n",
    "    for icd,cd in enumerate(codes_lib):\n",
    "        codes_lib_01[icd,cd]=1\n",
    "\n",
    "    print(\"Finding best code...\")\n",
    "    batch = 10000\n",
    "    icodes_best = torch.zeros(len(score_bits),dtype=torch.int64)\n",
    "    for i in tqdm(range((len(score_bits)//batch)+1)):\n",
    "        score_bits_ = score_bits[i*batch:(i+1)*batch]\n",
    "        if len(score_bits_)>0:\n",
    "            icodes_best[i*batch:(i+1)*batch] = torch.argmax(torch.matmul(score_bits_,codes_lib_01.T),dim=-1)\n",
    "    \n",
    "    \n",
    "    #argsort_bits = torch.argsort(score_bits,dim=-1,descending=True)[:,:(nmin_bits+delta_bits)]\n",
    "    dec.score_bits = score_bits\n",
    "    dec.codes_lib = codes_lib\n",
    "    dec.icodes_best = icodes_best\n",
    "    \n",
    "    if delta_bits is not None:\n",
    "        argsort_bits = torch.argsort(score_bits,dim=-1,descending=True)[:,:(nmin_bits+delta_bits)]\n",
    "        score_bits_ = score_bits*0\n",
    "        score_bits_.scatter_(1, argsort_bits, 1)\n",
    "        keep_all_bits = torch.all(score_bits_.gather(1,codes_lib[icodes_best])>0.5,-1)\n",
    "    else:\n",
    "        keep_all_bits = torch.all(score_bits.gather(1,codes_lib[icodes_best])>=0,-1)\n",
    "        \n",
    "    score_bits = score_bits[keep_all_bits]\n",
    "    icodes_best_ = icodes_best[keep_all_bits]\n",
    "    \n",
    "    \n",
    "    \n",
    "    indexMols_ = torch.zeros([len(lens),nbits],dtype=res_unfolder2.dtype)-1\n",
    "    indexMols_[ires,Rs_U]=res_unfolder2\n",
    "    indexMols_ = indexMols_[keep_all_bits]\n",
    "    indexMols_ = indexMols_.gather(1,codes_lib[icodes_best_])\n",
    "    XH = torch.from_numpy(dec.XH)\n",
    "    XH_pruned = XH[indexMols_]\n",
    "    icodesN=icodes_best_\n",
    "    dec.XH_pruned=XH_pruned.numpy()\n",
    "    dec.icodesN=icodesN.numpy()\n",
    "\n",
    "    print(\"Total time best bits per molecule:\",time.time()-start)"
   ]
  },
  {
   "cell_type": "code",
   "execution_count": 198,
   "id": "752aa23d-7561-4538-8f8f-71197931ab65",
   "metadata": {
    "tags": []
   },
   "outputs": [
    {
     "name": "stdout",
     "output_type": "stream",
     "text": [
      "Calculating indexes within cluster...\n",
      "Calculating index of molecule...\n",
      "Calculating index of first molecule...\n",
      "Total time unfolded molecules: 2.034428358078003\n",
      "Computing score...\n",
      "Total time computing score: 0.1135108470916748\n",
      "Computing sorting...\n",
      "Total time sorting molecules by score: 3.139979124069214\n",
      "Finding best bits per molecules...\n",
      "Finding best code...\n"
     ]
    },
    {
     "name": "stderr",
     "output_type": "stream",
     "text": [
      "100%|███████████████████████████████████████████████████████████████████████████████| 920/920 [00:05<00:00, 157.14it/s]\n"
     ]
    },
    {
     "name": "stdout",
     "output_type": "stream",
     "text": [
      "Total time best bits per molecule: 7.9308178424835205\n"
     ]
    }
   ],
   "source": [
    "get_icodes(dec,nmin_bits=4,delta_bits=None,iH=-3,redo=False,norm_brightness=False,nbits=24,is_unique=False)"
   ]
  },
  {
   "cell_type": "code",
   "execution_count": 208,
   "id": "fedacd85-b65a-4b8f-bcd1-6a2d51902c6b",
   "metadata": {
    "tags": []
   },
   "outputs": [],
   "source": [
    "X_ = dec.XH_pruned[:,:,:3]\n",
    "d = np.linalg.norm(X_-X_.mean(1)[:,np.newaxis],axis=-1)\n",
    "h = np.log(dec.XH_pruned[:,:,-3])\n",
    "ibad = [ign for ign,gn in enumerate(dec.gns_names) if 'blank' in gn]\n",
    "bad = np.in1d(dec.icodesN,ibad)\n",
    "good = ~bad"
   ]
  },
  {
   "cell_type": "code",
   "execution_count": 213,
   "id": "f2de5a3f-7149-4b37-87c0-38dcfbd4f039",
   "metadata": {
    "tags": []
   },
   "outputs": [
    {
     "data": {
      "image/png": "[encoded data removed]",
      "text/plain": [
       "<Figure size 640x480 with 1 Axes>"
      ]
     },
     "metadata": {},
     "output_type": "display_data"
    }
   ],
   "source": [
    "plt.hist(h[good].ravel(),density=True,alpha=0.75,bins=500);\n",
    "plt.hist(h[bad].ravel(),density=True,alpha=0.75,bins=500);"
   ]
  },
  {
   "cell_type": "code",
   "execution_count": 251,
   "id": "32fe41a0-52a9-4bcf-ba93-a76799b51978",
   "metadata": {
    "tags": []
   },
   "outputs": [
    {
     "data": {
      "text/plain": [
       "(0.05577234569615801, 0.2522338997260619, 18.63171926595572)"
      ]
     },
     "execution_count": 251,
     "metadata": {},
     "output_type": "execute_result"
    }
   ],
   "source": [
    "stds = np.array([-np.std(d),np.std(h)])\n",
    "start=np.array([np.percentile(d,99),np.percentile(h,1)])\n",
    "t = 1.25\n",
    "new_th = stds*t+start\n",
    "keep_all = np.all(d<new_th[0],axis=-1)&np.all(h>new_th[1],axis=-1)\n",
    "np.mean(keep_all[bad]),np.mean(keep_all[good]),np.sum(keep_all[good])/np.sum(keep_all[bad])"
   ]
  },
  {
   "cell_type": "code",
   "execution_count": 252,
   "id": "f318df28-a806-4a85-b663-97b134927a70",
   "metadata": {
    "tags": []
   },
   "outputs": [
    {
     "data": {
      "text/plain": [
       "array([1.37175898, 9.35973688])"
      ]
     },
     "execution_count": 252,
     "metadata": {},
     "output_type": "execute_result"
    }
   ],
   "source": [
    "new_th"
   ]
  },
  {
   "cell_type": "code",
   "execution_count": 220,
   "id": "9f1d280d-f07e-4ebd-b3ee-c040468fcb12",
   "metadata": {
    "tags": []
   },
   "outputs": [
    {
     "data": {
      "text/plain": [
       "2.8874174498431806"
      ]
     },
     "execution_count": 220,
     "metadata": {},
     "output_type": "execute_result"
    }
   ],
   "source": [
    "np.max(d)"
   ]
  },
  {
   "cell_type": "code",
   "execution_count": 192,
   "id": "38a91fc0-8e57-4ed3-9fe5-ffb4d8418bdc",
   "metadata": {
    "tags": []
   },
   "outputs": [],
   "source": [
    "#plt.plot(dec.XH[::1000,-5],dec.XH[::1000,-3],'o')"
   ]
  },
  {
   "cell_type": "code",
   "execution_count": 217,
   "id": "ec9b3fdf-bfc6-4954-ba19-227f2cf10e86",
   "metadata": {
    "tags": []
   },
   "outputs": [
    {
     "data": {
      "text/plain": [
       "13359.726829661873"
      ]
     },
     "execution_count": 217,
     "metadata": {},
     "output_type": "execute_result"
    }
   ],
   "source": [
    "np.exp(9.5)"
   ]
  },
  {
   "cell_type": "code",
   "execution_count": 199,
   "id": "2b1dd893-28de-4ea1-b39a-5d7322d24041",
   "metadata": {
    "tags": []
   },
   "outputs": [
    {
     "data": {
      "text/plain": [
       "3.37128938955701"
      ]
     },
     "execution_count": 199,
     "metadata": {},
     "output_type": "execute_result"
    },
    {
     "data": {
      "image/png": "[encoded data removed]",
      "text/plain": [
       "<Figure size 640x480 with 1 Axes>"
      ]
     },
     "metadata": {},
     "output_type": "display_data"
    }
   ],
   "source": [
    "icds,ncts = np.unique(dec.icodesN,return_counts=True)\n",
    "\n",
    "plt.plot(icds[good],ncts[good])\n",
    "plt.plot(icds[bad],ncts[bad])\n",
    "np.median(ncts[good])/np.median(ncts[bad])"
   ]
  },
  {
   "cell_type": "code",
   "execution_count": 188,
   "id": "2aa36851-d33a-4072-8af7-c1d02435bc23",
   "metadata": {
    "tags": []
   },
   "outputs": [
    {
     "data": {
      "text/plain": [
       "[<matplotlib.lines.Line2D at 0x28fa298f910>]"
      ]
     },
     "execution_count": 188,
     "metadata": {},
     "output_type": "execute_result"
    },
    {
     "data": {
      "image/png": "[encoded data removed]",
      "text/plain": [
       "<Figure size 640x480 with 1 Axes>"
      ]
     },
     "metadata": {},
     "output_type": "display_data"
    }
   ],
   "source": [
    "icds,ncts = np.unique(dec.icodesN,return_counts=True)\n",
    "ibad = [ign for ign,gn in enumerate(dec.gns_names) if 'blank' in gn]\n",
    "bad = np.in1d(icds,ibad)\n",
    "good = ~bad\n",
    "plt.plot(icds[good],ncts[good])\n",
    "plt.plot(icds[bad],ncts[bad])"
   ]
  },
  {
   "cell_type": "code",
   "execution_count": 164,
   "id": "b7d45065-58fa-42b6-836a-83372e84a851",
   "metadata": {
    "tags": []
   },
   "outputs": [
    {
     "data": {
      "text/plain": [
       "4.119726527414434"
      ]
     },
     "execution_count": 164,
     "metadata": {},
     "output_type": "execute_result"
    }
   ],
   "source": []
  },
  {
   "cell_type": "code",
   "execution_count": 139,
   "id": "a0b659ce-4505-497e-a7b3-6a918f805fd7",
   "metadata": {
    "tags": []
   },
   "outputs": [
    {
     "data": {
      "text/plain": [
       "[<matplotlib.lines.Line2D at 0x290cece6f70>]"
      ]
     },
     "execution_count": 139,
     "metadata": {},
     "output_type": "execute_result"
    },
    {
     "data": {
      "image/png": "[encoded data removed]",
      "text/plain": [
       "<Figure size 640x480 with 1 Axes>"
      ]
     },
     "metadata": {},
     "output_type": "display_data"
    }
   ],
   "source": [
    "icds,ncts = np.unique(dec.icodesN,return_counts=True)\n",
    "plt.plot(icds,ncts)"
   ]
  },
  {
   "cell_type": "code",
   "execution_count": 134,
   "id": "5d77ba89-4c45-4e18-8774-93270cf7251f",
   "metadata": {
    "tags": []
   },
   "outputs": [
    {
     "data": {
      "text/plain": [
       "tensor([[[2.0000e+00, 3.9999e+00, 3.9505e+02,  ..., 4.1579e+03,\n",
       "          0.0000e+00, 0.0000e+00],\n",
       "         [2.8162e+00, 4.0924e+00, 3.9596e+02,  ..., 5.3426e+03,\n",
       "          0.0000e+00, 6.0000e+00],\n",
       "         [2.0000e+00, 4.2699e+00, 3.9700e+02,  ..., 4.2505e+03,\n",
       "          0.0000e+00, 1.0000e+01],\n",
       "         [1.9460e+00, 2.9935e+00, 3.9502e+02,  ..., 4.3182e+03,\n",
       "          0.0000e+00, 1.2000e+01]],\n",
       "\n",
       "        [[2.6651e+00, 1.8512e+02, 2.3302e+02,  ..., 6.4310e+03,\n",
       "          0.0000e+00, 0.0000e+00],\n",
       "         [1.8361e+00, 1.8510e+02, 2.3201e+02,  ..., 4.3202e+03,\n",
       "          0.0000e+00, 2.0000e+00],\n",
       "         [1.7773e+00, 1.8405e+02, 2.3304e+02,  ..., 5.2613e+03,\n",
       "          0.0000e+00, 6.0000e+00],\n",
       "         [2.0000e+00, 1.8514e+02, 2.3307e+02,  ..., 4.6356e+03,\n",
       "          0.0000e+00, 1.8000e+01]],\n",
       "\n",
       "        [[2.0000e+00, 3.9918e+02, 2.8014e+02,  ..., 7.8059e+03,\n",
       "          0.0000e+00, 0.0000e+00],\n",
       "         [1.0000e+00, 4.0014e+02, 2.7911e+02,  ..., 7.2972e+03,\n",
       "          0.0000e+00, 2.0000e+00],\n",
       "         [2.0000e+00, 4.0102e+02, 2.8073e+02,  ..., 3.9512e+03,\n",
       "          0.0000e+00, 1.4000e+01],\n",
       "         [2.0000e+00, 4.0029e+02, 2.8010e+02,  ..., 6.2758e+03,\n",
       "          0.0000e+00, 1.8000e+01]],\n",
       "\n",
       "        ...,\n",
       "\n",
       "        [[3.7131e+01, 2.7370e+03, 2.7970e+03,  ..., 7.5243e+03,\n",
       "          1.0000e+00, 9.0000e+00],\n",
       "         [3.8139e+01, 2.7351e+03, 2.7980e+03,  ..., 7.3955e+03,\n",
       "          1.0000e+00, 1.7000e+01],\n",
       "         [3.8060e+01, 2.7362e+03, 2.7970e+03,  ..., 6.8325e+03,\n",
       "          1.0000e+00, 1.9000e+01],\n",
       "         [3.7026e+01, 2.7362e+03, 2.7979e+03,  ..., 4.3208e+03,\n",
       "          1.0000e+00, 2.3000e+01]],\n",
       "\n",
       "        [[3.8139e+01, 2.6220e+03, 2.7670e+03,  ..., 4.7821e+03,\n",
       "          1.0000e+00, 1.7000e+01],\n",
       "         [3.8170e+01, 2.6221e+03, 2.7669e+03,  ..., 3.9793e+03,\n",
       "          1.0000e+00, 1.9000e+01],\n",
       "         [3.8839e+01, 2.6200e+03, 2.7661e+03,  ..., 4.6669e+03,\n",
       "          1.0000e+00, 2.1000e+01],\n",
       "         [3.8923e+01, 2.6200e+03, 2.7670e+03,  ..., 5.1105e+03,\n",
       "          1.0000e+00, 2.3000e+01]],\n",
       "\n",
       "        [[3.7733e+01, 2.7241e+03, 2.7980e+03,  ..., 1.4284e+04,\n",
       "          1.0000e+00, 1.7000e+01],\n",
       "         [3.7701e+01, 2.7251e+03, 2.7970e+03,  ..., 1.1850e+04,\n",
       "          1.0000e+00, 1.9000e+01],\n",
       "         [3.8753e+01, 2.7230e+03, 2.7970e+03,  ..., 7.6641e+03,\n",
       "          1.0000e+00, 2.1000e+01],\n",
       "         [3.8780e+01, 2.7240e+03, 2.7970e+03,  ..., 9.8348e+03,\n",
       "          1.0000e+00, 2.3000e+01]]], dtype=torch.float64)"
      ]
     },
     "execution_count": 134,
     "metadata": {},
     "output_type": "execute_result"
    }
   ],
   "source": [
    "dec.XH_pruned"
   ]
  },
  {
   "cell_type": "code",
   "execution_count": null,
   "id": "38fb2a41-6883-48dd-9db5-0818cc04829a",
   "metadata": {},
   "outputs": [],
   "source": []
  },
  {
   "cell_type": "code",
   "execution_count": 131,
   "id": "1ce64913-35e9-4b0a-b867-15effdddab24",
   "metadata": {
    "tags": []
   },
   "outputs": [
    {
     "data": {
      "text/plain": [
       "torch.Size([6783054])"
      ]
     },
     "execution_count": 131,
     "metadata": {},
     "output_type": "execute_result"
    }
   ],
   "source": [
    "dec.icodesN.shape"
   ]
  },
  {
   "cell_type": "code",
   "execution_count": 115,
   "id": "4aa8e4dc-0cf4-4455-8c20-0cef6056fa3c",
   "metadata": {
    "tags": []
   },
   "outputs": [],
   "source": [
    "nbits = 24\n",
    "codes_lib = torch.from_numpy(np.array(dec.codes__))\n",
    "codes_lib_01 = torch.zeros([len(codes_lib),nbits],dtype=score_bits.dtype)\n",
    "for icd,cd in enumerate(codes_lib):\n",
    "    codes_lib_01[icd,cd]=1"
   ]
  },
  {
   "cell_type": "code",
   "execution_count": 116,
   "id": "fa72e442-7e72-4f38-8b1d-848673beb863",
   "metadata": {
    "tags": []
   },
   "outputs": [
    {
     "data": {
      "text/plain": [
       "tensor([91., 89., 89., 86., 75., 77., 74., 76., 72., 65., 70., 62., 69., 56.,\n",
       "        55., 53., 49., 39., 48., 41., 42., 41., 42., 35.], dtype=torch.float64)"
      ]
     },
     "execution_count": 116,
     "metadata": {},
     "output_type": "execute_result"
    }
   ],
   "source": [
    "torch.sum(codes_lib_01,axis=0)"
   ]
  },
  {
   "cell_type": "code",
   "execution_count": 107,
   "id": "3a6ca090-f16a-4727-b297-93d07bcc52b7",
   "metadata": {
    "tags": []
   },
   "outputs": [
    {
     "data": {
      "text/plain": [
       "tensor(32)"
      ]
     },
     "execution_count": 107,
     "metadata": {},
     "output_type": "execute_result"
    }
   ],
   "source": [
    "torch.max(icodes_best)"
   ]
  },
  {
   "cell_type": "code",
   "execution_count": 102,
   "id": "361a19f7-5ad6-4bb9-a681-7f093dc49825",
   "metadata": {
    "tags": []
   },
   "outputs": [
    {
     "data": {
      "text/plain": [
       "tensor(0)"
      ]
     },
     "execution_count": 102,
     "metadata": {},
     "output_type": "execute_result"
    }
   ],
   "source": [
    "score_bits = dec.score_bits\n",
    "codes_lib = dec.codes_lib\n",
    "icodes_best = dec.icodes_best\n",
    "\n",
    "keep_all_bits = torch.all(score_bits.gather(1,codes_lib[icodes_best])>=0,-1)\n",
    "torch.sum(keep_all_bits)"
   ]
  },
  {
   "cell_type": "code",
   "execution_count": 99,
   "id": "28764987-25cc-47c0-a523-ee9a13e552f9",
   "metadata": {
    "tags": []
   },
   "outputs": [
    {
     "data": {
      "text/plain": [
       "tensor([ 1.9563e+04, -1.0000e+00, -1.0000e+00, -1.0000e+00, -1.0000e+00,\n",
       "        -1.0000e+00,  1.4897e+04, -1.0000e+00, -1.0000e+00,  1.8152e+04,\n",
       "        -1.0000e+00, -1.0000e+00, -1.0000e+00, -1.0000e+00, -1.0000e+00,\n",
       "        -1.0000e+00, -1.0000e+00, -1.0000e+00, -1.0000e+00, -1.0000e+00,\n",
       "        -1.0000e+00, -1.0000e+00, -1.0000e+00, -1.0000e+00,  9.2767e+03,\n",
       "        -1.0000e+00, -1.0000e+00, -1.0000e+00, -1.0000e+00, -1.0000e+00,\n",
       "        -1.0000e+00, -1.0000e+00, -1.0000e+00, -1.0000e+00, -1.0000e+00,\n",
       "        -1.0000e+00, -1.0000e+00, -1.0000e+00, -1.0000e+00, -1.0000e+00,\n",
       "        -1.0000e+00, -1.0000e+00, -1.0000e+00, -1.0000e+00, -1.0000e+00,\n",
       "         1.3659e+04, -1.0000e+00, -1.0000e+00], dtype=torch.float64)"
      ]
     },
     "execution_count": 99,
     "metadata": {},
     "output_type": "execute_result"
    }
   ],
   "source": [
    "score_bits[]"
   ]
  },
  {
   "cell_type": "code",
   "execution_count": 82,
   "id": "530ad7cd-1a36-4b01-a359-8e30f26c8e8c",
   "metadata": {
    "tags": []
   },
   "outputs": [],
   "source": [
    "#dec.codes_lib#[dec.icodes_best]\n",
    "#dec.score_bits"
   ]
  },
  {
   "cell_type": "code",
   "execution_count": 83,
   "id": "95abab6c-ae6c-4c76-badb-46ea8a692987",
   "metadata": {
    "tags": []
   },
   "outputs": [],
   "source": [
    "#dec.icodes_best"
   ]
  },
  {
   "cell_type": "code",
   "execution_count": 84,
   "id": "e6ed2c75-5c5f-4236-bf26-53043b32933d",
   "metadata": {
    "tags": []
   },
   "outputs": [],
   "source": [
    "#dec.codes_lib[dec.icodes_best]"
   ]
  },
  {
   "cell_type": "code",
   "execution_count": 118,
   "id": "1207e8f1-a9bb-49b5-8050-6a3c48448059",
   "metadata": {
    "tags": []
   },
   "outputs": [
    {
     "name": "stdout",
     "output_type": "stream",
     "text": [
      "Calculating indexes within cluster...\n",
      "Calculating index of molecule...\n",
      "Calculating index of first molecule...\n",
      "Total time unfolded molecules: 2.615692377090454\n",
      "Computing score...\n",
      "Total time computing score: 0.13216876983642578\n",
      "Computing sorting...\n",
      "Total time sorting molecules by score: 4.418367147445679\n",
      "Finding best bits per molecules...\n"
     ]
    },
    {
     "ename": "IndexError",
     "evalue": "index 42 is out of bounds for dimension 1 with size 24",
     "output_type": "error",
     "traceback": [
      "\u001b[1;31m---------------------------------------------------------------------------\u001b[0m",
      "\u001b[1;31mIndexError\u001b[0m                                Traceback (most recent call last)",
      "Cell \u001b[1;32mIn[118], line 1\u001b[0m\n\u001b[1;32m----> 1\u001b[0m \u001b[43mget_icodes\u001b[49m\u001b[43m(\u001b[49m\u001b[43mdec\u001b[49m\u001b[43m,\u001b[49m\u001b[43mnmin_bits\u001b[49m\u001b[38;5;241;43m=\u001b[39;49m\u001b[38;5;241;43m4\u001b[39;49m\u001b[43m,\u001b[49m\u001b[43mdelta_bits\u001b[49m\u001b[38;5;241;43m=\u001b[39;49m\u001b[38;5;241;43m4\u001b[39;49m\u001b[43m,\u001b[49m\u001b[43miH\u001b[49m\u001b[38;5;241;43m=\u001b[39;49m\u001b[38;5;241;43m-\u001b[39;49m\u001b[38;5;241;43m3\u001b[39;49m\u001b[43m,\u001b[49m\u001b[43mredo\u001b[49m\u001b[38;5;241;43m=\u001b[39;49m\u001b[38;5;28;43;01mFalse\u001b[39;49;00m\u001b[43m,\u001b[49m\u001b[43mnorm_brightness\u001b[49m\u001b[38;5;241;43m=\u001b[39;49m\u001b[38;5;28;43;01mFalse\u001b[39;49;00m\u001b[43m,\u001b[49m\u001b[43mnbits\u001b[49m\u001b[38;5;241;43m=\u001b[39;49m\u001b[38;5;241;43m24\u001b[39;49m\u001b[43m,\u001b[49m\u001b[43mis_unique\u001b[49m\u001b[38;5;241;43m=\u001b[39;49m\u001b[38;5;28;43;01mFalse\u001b[39;49;00m\u001b[43m)\u001b[49m\n",
      "Cell \u001b[1;32mIn[117], line 97\u001b[0m, in \u001b[0;36mget_icodes\u001b[1;34m(dec, nmin_bits, delta_bits, iH, redo, norm_brightness, nbits, is_unique)\u001b[0m\n\u001b[0;32m     94\u001b[0m Rs_U \u001b[38;5;241m=\u001b[39m Rs[res_unfolder2]\n\u001b[0;32m     96\u001b[0m score_bits \u001b[38;5;241m=\u001b[39m torch\u001b[38;5;241m.\u001b[39mzeros([\u001b[38;5;28mlen\u001b[39m(lens),nbits],dtype\u001b[38;5;241m=\u001b[39mscoresF2\u001b[38;5;241m.\u001b[39mdtype)\u001b[38;5;241m-\u001b[39m\u001b[38;5;241m1\u001b[39m\n\u001b[1;32m---> 97\u001b[0m \u001b[43mscore_bits\u001b[49m\u001b[43m[\u001b[49m\u001b[43mires\u001b[49m\u001b[43m,\u001b[49m\u001b[43mRs_U\u001b[49m\u001b[43m]\u001b[49m\u001b[38;5;241m=\u001b[39mscoresF2\n\u001b[0;32m    100\u001b[0m codes_lib \u001b[38;5;241m=\u001b[39m torch\u001b[38;5;241m.\u001b[39mfrom_numpy(np\u001b[38;5;241m.\u001b[39marray(dec\u001b[38;5;241m.\u001b[39mcodes__))\n\u001b[0;32m    101\u001b[0m codes_lib_01 \u001b[38;5;241m=\u001b[39m torch\u001b[38;5;241m.\u001b[39mzeros([\u001b[38;5;28mlen\u001b[39m(codes_lib),nbits],dtype\u001b[38;5;241m=\u001b[39mscore_bits\u001b[38;5;241m.\u001b[39mdtype)\n",
      "\u001b[1;31mIndexError\u001b[0m: index 42 is out of bounds for dimension 1 with size 24"
     ]
    }
   ],
   "source": []
  },
  {
   "cell_type": "code",
   "execution_count": 52,
   "id": "b3bacd59-ba54-4059-ae72-2c6a6be5e75d",
   "metadata": {
    "tags": []
   },
   "outputs": [],
   "source": [
    "\n",
    "codes_lib = dec.codes__"
   ]
  },
  {
   "cell_type": "code",
   "execution_count": null,
   "id": "9cb77c28-be1f-4349-b5c1-ef30faf184d7",
   "metadata": {},
   "outputs": [],
   "source": []
  },
  {
   "cell_type": "code",
   "execution_count": null,
   "id": "d639a0a5-86ba-4cec-ba6a-4f026c0cf959",
   "metadata": {},
   "outputs": [],
   "source": [
    "nbits = 48\n",
    "delta_bits=4\n",
    "nmin_bits = 4\n"
   ]
  },
  {
   "cell_type": "code",
   "execution_count": null,
   "id": "8f4e5d39-d1fe-4cb4-b439-0da3d92e2549",
   "metadata": {},
   "outputs": [],
   "source": []
  },
  {
   "cell_type": "code",
   "execution_count": 47,
   "id": "d70d331a-007a-4368-9057-2e212ab3cb37",
   "metadata": {
    "tags": []
   },
   "outputs": [],
   "source": [
    "import torch"
   ]
  },
  {
   "cell_type": "code",
   "execution_count": 31,
   "id": "c734c009-b39c-4c99-b783-0366b880f781",
   "metadata": {
    "tags": []
   },
   "outputs": [],
   "source": [
    "#np.unique(dec.lens,return_counts=True)"
   ]
  },
  {
   "cell_type": "code",
   "execution_count": 35,
   "id": "981d5e71-bfca-4fbf-97ad-9d90086ad2a7",
   "metadata": {
    "tags": []
   },
   "outputs": [],
   "source": [
    "lens =dec.lens\n",
    "lens_ = np.repeat(lens, lens)"
   ]
  },
  {
   "cell_type": "code",
   "execution_count": 41,
   "id": "8acdbe75-27e8-4627-ae85-793dadc0c267",
   "metadata": {
    "tags": []
   },
   "outputs": [
    {
     "data": {
      "text/plain": [
       "4774205"
      ]
     },
     "execution_count": 41,
     "metadata": {},
     "output_type": "execute_result"
    }
   ],
   "source": []
  },
  {
   "cell_type": "code",
   "execution_count": null,
   "id": "c05ac13e-9bcb-42ed-b64e-e41a98f9c22b",
   "metadata": {},
   "outputs": [],
   "source": [
    "res_unfolder = np.load('res_unfolder.npz')['res_unfolder']\n",
    "lens = np.load('res_unfolder.npz')['lens']\n",
    "import time\n",
    "start = time.time()\n",
    "Mlen = np.max(lens)\n",
    "print(\"Calculating indexes within cluster...\")\n",
    "#res_is = np.array([i for l in lens for i in range(l)]) ### could be sped up\n",
    "res_is = np.tile(np.arange(Mlen), len(lens))\n",
    "res_is = res_is[res_is < np.repeat(lens, Mlen)]\n",
    "print(\"Calculating index of molecule...\")\n",
    "ires = np.repeat(np.arange(len(lens)), lens)\n",
    "#r0 = np.array([r[0] for r in res for r_ in r])\n",
    "print(\"Calculating index of first molecule...\")\n",
    "r0i = np.concatenate([[0],np.cumsum(lens)])[:-1]\n",
    "r0 = res_unfolder[np.repeat(r0i, lens)]\n",
    "print(\"Total time unfolded molecules:\",time.time()-start)\n",
    "\n",
    "\n",
    "import torch\n",
    "ires = torch.from_numpy(ires.astype(np.int64))\n",
    "res_unfolder = torch.from_numpy(res_unfolder.astype(np.int64))\n",
    "res_is = torch.from_numpy(res_is.astype(np.int64))"
   ]
  },
  {
   "cell_type": "code",
   "execution_count": 3,
   "id": "de33dfa9-a206-4d98-ad85-1abe0c010c09",
   "metadata": {
    "tags": []
   },
   "outputs": [],
   "source": [
    "def get_inters(self,dinstance_th=2,enforce_color=False):\n",
    "    \"\"\"Get an initial intersection of points and save in self.res\"\"\"\n",
    "    res =[]\n",
    "    if enforce_color:\n",
    "        icols = self.XH[:,-2].astype(int)\n",
    "        XH = self.XH\n",
    "        for icol in tqdm(np.unique(icols)):\n",
    "            inds = np.where(icols==icol)[0]\n",
    "            Xs = XH[inds,:3]\n",
    "            Ts = cKDTree(Xs)\n",
    "            res_ = Ts.query_ball_tree(Ts,dinstance_th)\n",
    "            res += [inds[r] for r in res_]\n",
    "    else:\n",
    "        XH = self.XH\n",
    "        Xs = XH[:,:3]\n",
    "        Ts = cKDTree(Xs)\n",
    "        res = Ts.query_ball_tree(Ts,dinstance_th)\n",
    "    self.res = res"
   ]
  },
  {
   "cell_type": "code",
   "execution_count": null,
   "id": "579bb903-286e-4184-bdec-8cfba9fc184e",
   "metadata": {},
   "outputs": [],
   "source": [
    "print(\"Calculating lengths of clusters...\")\n",
    "lens = np.array(list(map(len,res)))\n",
    "Mlen = np.max(lens)\n",
    "print(\"Unfolding indexes...\")\n",
    "res_unfolder = np.concatenate(res)"
   ]
  },
  {
   "cell_type": "code",
   "execution_count": null,
   "id": "e5a19314-85f6-4d76-a0b8-e73e0b2784af",
   "metadata": {},
   "outputs": [],
   "source": []
  },
  {
   "cell_type": "code",
   "execution_count": null,
   "id": "92b3ac07-79d6-4f7d-bae2-133bb05d2b2f",
   "metadata": {},
   "outputs": [],
   "source": []
  },
  {
   "cell_type": "code",
   "execution_count": null,
   "id": "b3a3ec94-d276-4345-aeaf-904279a5538e",
   "metadata": {},
   "outputs": [],
   "source": [
    "def get_icodes(dec,nmin_bits=4,method = 'top4',redo=False,norm_brightness=None,nbits=48,is_unique=True):\n",
    "    \n",
    "    ### unfold molecules\n",
    "    import time\n",
    "    start = time.time()\n",
    "    res = dec.res\n",
    "    print(\"Filtering to have nmin_bits number of mol/cluster\")\n",
    "    res = [r for r in res if len(r)>=nmin_bits]\n",
    "    print(\"Calculating lengths of clusters...\")\n",
    "    lens = np.array(list(map(len,res)))\n",
    "    Mlen = np.max(lens)\n",
    "    print(\"Unfolding indexes...\")\n",
    "    res_unfolder = np.concatenate(res)\n",
    "\n",
    "    print(\"Calculating indexes within cluster...\")\n",
    "    #res_is = np.array([i for l in lens for i in range(l)]) ### could be sped up\n",
    "    res_is = np.tile(np.arange(Mlen), len(lens))\n",
    "    res_is = res_is[res_is < np.repeat(lens, Mlen)]\n",
    "    print(\"Calculating index of molecule...\")\n",
    "    ires = np.repeat(np.arange(len(lens)), lens)\n",
    "    #r0 = np.array([r[0] for r in res for r_ in r])\n",
    "    print(\"Calculating index of first molecule...\")\n",
    "    r0i = np.concatenate([[0],np.cumsum(lens)])[:-1]\n",
    "    r0 = res_unfolder[np.repeat(r0i, lens)]\n",
    "    print(\"Total time unfolded molecules:\",time.time()-start)\n",
    "    \n",
    "    \n",
    "    import torch\n",
    "    ires = torch.from_numpy(ires.astype(np.int64))\n",
    "    res_unfolder = torch.from_numpy(res_unfolder.astype(np.int64))\n",
    "    res_is = torch.from_numpy(res_is.astype(np.int64))"
   ]
  }
 ],
 "metadata": {
  "kernelspec": {
   "display_name": "Python 3 (ipykernel)",
   "language": "python",
   "name": "python3"
  },
  "language_info": {
   "codemirror_mode": {
    "name": "ipython",
    "version": 3
   },
   "file_extension": ".py",
   "mimetype": "text/x-python",
   "name": "python",
   "nbconvert_exporter": "python",
   "pygments_lexer": "ipython3",
   "version": "3.8.16"
  }
 },
 "nbformat": 4,
 "nbformat_minor": 5
}
