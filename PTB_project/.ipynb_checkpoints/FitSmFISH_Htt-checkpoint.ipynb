{
 "cells": [
  {
   "cell_type": "code",
   "execution_count": 2,
   "id": "60740539-5e56-42cc-ae55-8213a960dce1",
   "metadata": {
    "tags": []
   },
   "outputs": [],
   "source": [
    "import sys\n",
    "sys.path.append(r'..\\\\')\n",
    "from Human.workerScope3A_HttHuman_Snonia__06_12_2023_P2G1_V2 import *"
   ]
  },
  {
   "cell_type": "code",
   "execution_count": 5,
   "id": "22c0819c-48c3-4c00-a17f-71626dc8b280",
   "metadata": {
    "tags": []
   },
   "outputs": [],
   "source": [
    "master_data_folders = [r'\\\\192.168.0.21\\bbfishdc21\\HttHuman_Snonia__06_12_2023',r'\\\\192.168.0.96\\bbfish124\\HttHuman_Snonia__06_12_2023']\n",
    "Aflds = [fld for fld in master_data_folders for fld in glob.glob(fld+os.sep+'A*')]\n",
    "HMERflds = [fld for fld in master_data_folders for fld in glob.glob(fld+os.sep+'H*MER*')]\n",
    "H0s = [fld for fld in master_data_folders for fld in glob.glob(fld+os.sep+'H0_*')]\n",
    "Pflds = [fld for fld in master_data_folders for fld in glob.glob(fld+os.sep+'P*')]"
   ]
  },
  {
   "cell_type": "code",
   "execution_count": 6,
   "id": "d1e206f3-7bb4-4752-b449-19f41c3cbce3",
   "metadata": {
    "tags": []
   },
   "outputs": [],
   "source": [
    "save_folder = r'\\\\192.168.0.21\\bbfishdc21\\HttHuman_Snonia__06_12_2023\\Drift'\n",
    "if not os.path.exists(save_folder): os.makedirs(save_folder)"
   ]
  },
  {
   "cell_type": "code",
   "execution_count": 14,
   "id": "7af1419b-e5a5-4180-bf42-f74731057c2c",
   "metadata": {
    "tags": []
   },
   "outputs": [],
   "source": [
    "Pflds = [fld for fld in master_data_folders for fld in glob.glob(fld+os.sep+'P*Htt*')]\n",
    "Pflds += [fld for fld in master_data_folders for fld in glob.glob(fld+os.sep+'H0*')]"
   ]
  },
  {
   "cell_type": "code",
   "execution_count": null,
   "id": "1dc4b4ae-e6f8-4223-96e9-149b10974e5e",
   "metadata": {
    "tags": []
   },
   "outputs": [
    {
     "name": "stderr",
     "output_type": "stream",
     "text": [
      "  0%|                                                                                            | 0/3 [00:00<?, ?it/s]"
     ]
    }
   ],
   "source": [
    "for set_ in ['_set1','_set2','_set3','_set4','_set5']:\n",
    "    flds=[fld for fld in Pflds if set_ in os.path.basename(fld)]\n",
    "    fovs = [os.path.basename(fl)for fl in glob.glob(flds[0]+os.sep+'*.zarr')]\n",
    "    for fov in fovs:\n",
    "        compute_fits(save_folder,fov,flds,redo=False,ncols=4,\n",
    "                psf_file = psf_file,try_mode=True,old_method=False)\n",
    "        clear_output(wait=True)"
   ]
  },
  {
   "cell_type": "code",
   "execution_count": 3,
   "id": "c5137a7b-23f0-4d8e-99fa-fdcdf7c8fe6b",
   "metadata": {
    "tags": []
   },
   "outputs": [
    {
     "data": {
      "text/plain": [
       "\u001b[1;31mSignature:\u001b[0m\n",
       "\u001b[0mcompute_fits\u001b[0m\u001b[1;33m(\u001b[0m\u001b[1;33m\n",
       "\u001b[0m    \u001b[0msave_folder\u001b[0m\u001b[1;33m,\u001b[0m\u001b[1;33m\n",
       "\u001b[0m    \u001b[0mfov\u001b[0m\u001b[1;33m,\u001b[0m\u001b[1;33m\n",
       "\u001b[0m    \u001b[0mall_flds\u001b[0m\u001b[1;33m,\u001b[0m\u001b[1;33m\n",
       "\u001b[0m    \u001b[0mredo\u001b[0m\u001b[1;33m=\u001b[0m\u001b[1;32mFalse\u001b[0m\u001b[1;33m,\u001b[0m\u001b[1;33m\n",
       "\u001b[0m    \u001b[0mncols\u001b[0m\u001b[1;33m=\u001b[0m\u001b[1;36m4\u001b[0m\u001b[1;33m,\u001b[0m\u001b[1;33m\n",
       "\u001b[0m    \u001b[0mpsf_file\u001b[0m\u001b[1;33m=\u001b[0m\u001b[1;34m'C:\\\\Scripts\\\\NMERFISH\\\\psfs\\\\psf_750_Scope3_final.npy'\u001b[0m\u001b[1;33m,\u001b[0m\u001b[1;33m\n",
       "\u001b[0m    \u001b[0mtry_mode\u001b[0m\u001b[1;33m=\u001b[0m\u001b[1;32mTrue\u001b[0m\u001b[1;33m,\u001b[0m\u001b[1;33m\n",
       "\u001b[0m    \u001b[0mold_method\u001b[0m\u001b[1;33m=\u001b[0m\u001b[1;32mFalse\u001b[0m\u001b[1;33m,\u001b[0m\u001b[1;33m\n",
       "\u001b[0m\u001b[1;33m)\u001b[0m\u001b[1;33m\u001b[0m\u001b[1;33m\u001b[0m\u001b[0m\n",
       "\u001b[1;31mDocstring:\u001b[0m <no docstring>\n",
       "\u001b[1;31mSource:\u001b[0m   \n",
       "\u001b[1;32mdef\u001b[0m \u001b[0mcompute_fits\u001b[0m\u001b[1;33m(\u001b[0m\u001b[0msave_folder\u001b[0m\u001b[1;33m,\u001b[0m\u001b[0mfov\u001b[0m\u001b[1;33m,\u001b[0m\u001b[0mall_flds\u001b[0m\u001b[1;33m,\u001b[0m\u001b[0mredo\u001b[0m\u001b[1;33m=\u001b[0m\u001b[1;32mFalse\u001b[0m\u001b[1;33m,\u001b[0m\u001b[0mncols\u001b[0m\u001b[1;33m=\u001b[0m\u001b[1;36m4\u001b[0m\u001b[1;33m,\u001b[0m\u001b[1;33m\n",
       "\u001b[0m                \u001b[0mpsf_file\u001b[0m \u001b[1;33m=\u001b[0m \u001b[0mpsf_file\u001b[0m\u001b[1;33m,\u001b[0m\u001b[0mtry_mode\u001b[0m\u001b[1;33m=\u001b[0m\u001b[1;32mTrue\u001b[0m\u001b[1;33m,\u001b[0m\u001b[0mold_method\u001b[0m\u001b[1;33m=\u001b[0m\u001b[1;32mFalse\u001b[0m\u001b[1;33m)\u001b[0m\u001b[1;33m:\u001b[0m\u001b[1;33m\n",
       "\u001b[0m    \u001b[0mpsf\u001b[0m \u001b[1;33m=\u001b[0m \u001b[0mnp\u001b[0m\u001b[1;33m.\u001b[0m\u001b[0mload\u001b[0m\u001b[1;33m(\u001b[0m\u001b[0mpsf_file\u001b[0m\u001b[1;33m)\u001b[0m\u001b[1;33m\n",
       "\u001b[0m    \u001b[1;33m\n",
       "\u001b[0m    \u001b[1;32mfor\u001b[0m \u001b[0mfld\u001b[0m \u001b[1;32min\u001b[0m \u001b[0mtqdm\u001b[0m\u001b[1;33m(\u001b[0m\u001b[0mall_flds\u001b[0m\u001b[1;33m)\u001b[0m\u001b[1;33m:\u001b[0m\u001b[1;33m\n",
       "\u001b[0m        \u001b[1;32mfor\u001b[0m \u001b[0micol\u001b[0m \u001b[1;32min\u001b[0m \u001b[0mrange\u001b[0m\u001b[1;33m(\u001b[0m\u001b[0mncols\u001b[0m\u001b[1;33m-\u001b[0m\u001b[1;36m1\u001b[0m\u001b[1;33m)\u001b[0m\u001b[1;33m:\u001b[0m\u001b[1;33m\n",
       "\u001b[0m            \u001b[0mtag\u001b[0m \u001b[1;33m=\u001b[0m \u001b[0mos\u001b[0m\u001b[1;33m.\u001b[0m\u001b[0mpath\u001b[0m\u001b[1;33m.\u001b[0m\u001b[0mbasename\u001b[0m\u001b[1;33m(\u001b[0m\u001b[0mfld\u001b[0m\u001b[1;33m)\u001b[0m\u001b[1;33m\n",
       "\u001b[0m            \u001b[0msave_fl\u001b[0m \u001b[1;33m=\u001b[0m \u001b[0msave_folder\u001b[0m\u001b[1;33m+\u001b[0m\u001b[0mos\u001b[0m\u001b[1;33m.\u001b[0m\u001b[0msep\u001b[0m\u001b[1;33m+\u001b[0m\u001b[0mfov\u001b[0m\u001b[1;33m.\u001b[0m\u001b[0msplit\u001b[0m\u001b[1;33m(\u001b[0m\u001b[1;34m'.'\u001b[0m\u001b[1;33m)\u001b[0m\u001b[1;33m[\u001b[0m\u001b[1;36m0\u001b[0m\u001b[1;33m]\u001b[0m\u001b[1;33m+\u001b[0m\u001b[1;34m'--'\u001b[0m\u001b[1;33m+\u001b[0m\u001b[0mtag\u001b[0m\u001b[1;33m+\u001b[0m\u001b[1;34m'--col'\u001b[0m\u001b[1;33m+\u001b[0m\u001b[0mstr\u001b[0m\u001b[1;33m(\u001b[0m\u001b[0micol\u001b[0m\u001b[1;33m)\u001b[0m\u001b[1;33m+\u001b[0m\u001b[1;34m'__Xhfits.npz'\u001b[0m\u001b[1;33m\n",
       "\u001b[0m            \u001b[1;32mif\u001b[0m \u001b[1;32mnot\u001b[0m \u001b[0mos\u001b[0m\u001b[1;33m.\u001b[0m\u001b[0mpath\u001b[0m\u001b[1;33m.\u001b[0m\u001b[0mexists\u001b[0m\u001b[1;33m(\u001b[0m\u001b[0msave_fl\u001b[0m\u001b[1;33m)\u001b[0m \u001b[1;32mor\u001b[0m \u001b[0mredo\u001b[0m\u001b[1;33m:\u001b[0m\u001b[1;33m\n",
       "\u001b[0m                \u001b[1;32mif\u001b[0m \u001b[0mtry_mode\u001b[0m\u001b[1;33m:\u001b[0m\u001b[1;33m\n",
       "\u001b[0m                    \u001b[1;32mtry\u001b[0m\u001b[1;33m:\u001b[0m\u001b[1;33m\n",
       "\u001b[0m                        \u001b[0mmain_do_compute_fits\u001b[0m\u001b[1;33m(\u001b[0m\u001b[0msave_folder\u001b[0m\u001b[1;33m,\u001b[0m\u001b[0mfld\u001b[0m\u001b[1;33m,\u001b[0m\u001b[0mfov\u001b[0m\u001b[1;33m,\u001b[0m\u001b[0micol\u001b[0m\u001b[1;33m,\u001b[0m\u001b[0msave_fl\u001b[0m\u001b[1;33m,\u001b[0m\u001b[0mpsf\u001b[0m\u001b[1;33m,\u001b[0m\u001b[0mold_method\u001b[0m\u001b[1;33m)\u001b[0m\u001b[1;33m\n",
       "\u001b[0m                    \u001b[1;32mexcept\u001b[0m\u001b[1;33m:\u001b[0m\u001b[1;33m\n",
       "\u001b[0m                        \u001b[0mprint\u001b[0m\u001b[1;33m(\u001b[0m\u001b[1;34m\"Failed\"\u001b[0m\u001b[1;33m,\u001b[0m\u001b[0mfld\u001b[0m\u001b[1;33m,\u001b[0m\u001b[0mfov\u001b[0m\u001b[1;33m,\u001b[0m\u001b[0micol\u001b[0m\u001b[1;33m)\u001b[0m\u001b[1;33m\n",
       "\u001b[0m                \u001b[1;32melse\u001b[0m\u001b[1;33m:\u001b[0m\u001b[1;33m\n",
       "\u001b[0m                    \u001b[0mmain_do_compute_fits\u001b[0m\u001b[1;33m(\u001b[0m\u001b[0msave_folder\u001b[0m\u001b[1;33m,\u001b[0m\u001b[0mfld\u001b[0m\u001b[1;33m,\u001b[0m\u001b[0mfov\u001b[0m\u001b[1;33m,\u001b[0m\u001b[0micol\u001b[0m\u001b[1;33m,\u001b[0m\u001b[0msave_fl\u001b[0m\u001b[1;33m,\u001b[0m\u001b[0mpsf\u001b[0m\u001b[1;33m,\u001b[0m\u001b[0mold_method\u001b[0m\u001b[1;33m)\u001b[0m\u001b[1;33m\u001b[0m\u001b[1;33m\u001b[0m\u001b[0m\n",
       "\u001b[1;31mFile:\u001b[0m      c:\\scripts\\nmerfish\\human\\workerscope3a_htthuman_snonia__06_12_2023_p2g1_v2.py\n",
       "\u001b[1;31mType:\u001b[0m      function"
      ]
     },
     "metadata": {},
     "output_type": "display_data"
    }
   ],
   "source": [
    "compute_fits(save_folder,fov,all_flds,redo=False,ncols=4,\n",
    "                psf_file = psf_file,try_mode=True,old_method=False)"
   ]
  },
  {
   "cell_type": "code",
   "execution_count": null,
   "id": "42c9eb85-dd81-49f8-a644-88cc262902f2",
   "metadata": {},
   "outputs": [],
   "source": []
  }
 ],
 "metadata": {
  "kernelspec": {
   "display_name": "Python 3 (ipykernel)",
   "language": "python",
   "name": "python3"
  },
  "language_info": {
   "codemirror_mode": {
    "name": "ipython",
    "version": 3
   },
   "file_extension": ".py",
   "mimetype": "text/x-python",
   "name": "python",
   "nbconvert_exporter": "python",
   "pygments_lexer": "ipython3",
   "version": "3.8.16"
  }
 },
 "nbformat": 4,
 "nbformat_minor": 5
}
