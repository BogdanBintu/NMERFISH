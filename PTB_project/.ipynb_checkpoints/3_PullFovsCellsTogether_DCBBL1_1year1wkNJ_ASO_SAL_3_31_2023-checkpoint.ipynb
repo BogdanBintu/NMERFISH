{
 "cells": [
  {
   "cell_type": "code",
   "execution_count": 2,
   "id": "ea9d518f-1ca6-4b8d-8e40-e258371a1645",
   "metadata": {},
   "outputs": [],
   "source": [
    "import sys\n",
    "sys.path.append(r'..//')\n",
    "from ioMicro import *"
   ]
  },
  {
   "cell_type": "code",
   "execution_count": 49,
   "id": "a903046f-ebe6-4b24-9a74-d0e61e7eca24",
   "metadata": {},
   "outputs": [],
   "source": [
    "load_segmentation(dec)"
   ]
  },
  {
   "cell_type": "code",
   "execution_count": 51,
   "id": "b373a067-32c2-4ca5-9baf-fa6f4e0e14c9",
   "metadata": {
    "tags": []
   },
   "outputs": [
    {
     "data": {
      "text/plain": [
       "['\\\\\\\\192.168.0.21\\\\bbfishdc21\\\\DCBBL1_1year1wkNJ_ASO_SAL_3_31_2023\\\\MERFISH_Analysis\\\\Segmentation\\\\Conv_zscan__542--H4_MER_set1--dapi_segm.npz']"
      ]
     },
     "execution_count": 51,
     "metadata": {},
     "output_type": "execute_result"
    }
   ],
   "source": [
    "fls_ =  glob.glob(dec.save_folder+os.sep+'Segmentation'+os.sep+dec.fov+'*'+dec.set_+'*.npz')\n",
    "fls_"
   ]
  },
  {
   "cell_type": "code",
   "execution_count": 56,
   "id": "b17f3ff0-d547-4cb8-9292-14532ea0469e",
   "metadata": {
    "tags": []
   },
   "outputs": [
    {
     "data": {
      "text/plain": [
       "['\\\\\\\\192.168.0.21\\\\bbfishdc21\\\\DCBBL1_1year1wkNJ_ASO_SAL_3_31_2023\\\\MERFISH_Analysis\\\\V2_finaldecs_Conv_zscan__542--_set1.npz']"
      ]
     },
     "execution_count": 56,
     "metadata": {},
     "output_type": "execute_result"
    }
   ],
   "source": [
    "#[fl for fl in save_fls_ if dec.fov in fl]"
   ]
  },
  {
   "cell_type": "code",
   "execution_count": 79,
   "id": "50164848-a5e5-45f5-8de1-d4648fa22c8b",
   "metadata": {
    "tags": []
   },
   "outputs": [],
   "source": []
  },
  {
   "cell_type": "code",
   "execution_count": null,
   "id": "bff4f940-1b9c-43bc-a10c-8914e9595463",
   "metadata": {},
   "outputs": [],
   "source": [
    "cell_df.iloc"
   ]
  },
  {
   "cell_type": "code",
   "execution_count": 54,
   "id": "8c097b3e-74bf-462e-8226-6be5f55e772b",
   "metadata": {
    "tags": []
   },
   "outputs": [
    {
     "data": {
      "text/plain": [
       "[(-34.3, 678.2),\n",
       " (273.0, 678.2),\n",
       " (273.0, 678.2),\n",
       " (273.0, 678.2),\n",
       " (273.0, 678.2),\n",
       " (273.0, 678.2),\n",
       " (273.0, 678.2),\n",
       " (273.0, 678.2),\n",
       " (273.0, 678.2),\n",
       " (273.0, 678.2),\n",
       " (273.0, 678.2),\n",
       " (273.0, 678.2),\n",
       " (273.0, 678.2),\n",
       " (273.0, 678.2),\n",
       " (273.0, 678.2),\n",
       " (273.0, 678.2),\n",
       " (273.0, 678.2),\n",
       " (273.0, 678.2),\n",
       " (273.0, 678.2),\n",
       " (273.0, 678.2),\n",
       " (273.0, 678.2),\n",
       " (273.0, 678.2),\n",
       " (273.0, 678.2),\n",
       " (273.0, 678.2),\n",
       " (273.0, 678.2)]"
      ]
     },
     "execution_count": 54,
     "metadata": {},
     "output_type": "execute_result"
    }
   ],
   "source": []
  },
  {
   "cell_type": "code",
   "execution_count": null,
   "id": "e6d90e25-17ef-48d3-83c4-2d5abaf3dbb1",
   "metadata": {},
   "outputs": [],
   "source": []
  },
  {
   "cell_type": "code",
   "execution_count": 50,
   "id": "d5f44e24-bf13-4210-a9be-5d3480ce6db1",
   "metadata": {
    "tags": []
   },
   "outputs": [
    {
     "data": {
      "text/plain": [
       "\u001b[1;31mSignature:\u001b[0m \u001b[0mload_segmentation\u001b[0m\u001b[1;33m(\u001b[0m\u001b[0mdec\u001b[0m\u001b[1;33m)\u001b[0m\u001b[1;33m\u001b[0m\u001b[1;33m\u001b[0m\u001b[0m\n",
       "\u001b[1;31mDocstring:\u001b[0m <no docstring>\n",
       "\u001b[1;31mSource:\u001b[0m   \n",
       "\u001b[1;32mdef\u001b[0m \u001b[0mload_segmentation\u001b[0m\u001b[1;33m(\u001b[0m\u001b[0mdec\u001b[0m\u001b[1;33m)\u001b[0m\u001b[1;33m:\u001b[0m\u001b[1;33m\n",
       "\u001b[0m    \u001b[0mfls_\u001b[0m \u001b[1;33m=\u001b[0m  \u001b[0mglob\u001b[0m\u001b[1;33m.\u001b[0m\u001b[0mglob\u001b[0m\u001b[1;33m(\u001b[0m\u001b[0mdec\u001b[0m\u001b[1;33m.\u001b[0m\u001b[0msave_folder\u001b[0m\u001b[1;33m+\u001b[0m\u001b[0mos\u001b[0m\u001b[1;33m.\u001b[0m\u001b[0msep\u001b[0m\u001b[1;33m+\u001b[0m\u001b[1;34m'Segmentation'\u001b[0m\u001b[1;33m+\u001b[0m\u001b[0mos\u001b[0m\u001b[1;33m.\u001b[0m\u001b[0msep\u001b[0m\u001b[1;33m+\u001b[0m\u001b[0mdec\u001b[0m\u001b[1;33m.\u001b[0m\u001b[0mfov\u001b[0m\u001b[1;33m+\u001b[0m\u001b[1;34m'*'\u001b[0m\u001b[1;33m+\u001b[0m\u001b[0mdec\u001b[0m\u001b[1;33m.\u001b[0m\u001b[0mset_\u001b[0m\u001b[1;33m+\u001b[0m\u001b[1;34m'*.npz'\u001b[0m\u001b[1;33m)\u001b[0m\u001b[1;33m\n",
       "\u001b[0m    \u001b[1;32mif\u001b[0m \u001b[0mlen\u001b[0m\u001b[1;33m(\u001b[0m\u001b[0mfls_\u001b[0m\u001b[1;33m)\u001b[0m\u001b[1;33m==\u001b[0m\u001b[1;36m0\u001b[0m\u001b[1;33m:\u001b[0m\u001b[1;33m\n",
       "\u001b[0m        \u001b[1;32mreturn\u001b[0m \u001b[1;36m0\u001b[0m\u001b[1;33m\n",
       "\u001b[0m    \u001b[0mdec\u001b[0m\u001b[1;33m.\u001b[0m\u001b[0mfl_dapi\u001b[0m \u001b[1;33m=\u001b[0m\u001b[0mfls_\u001b[0m\u001b[1;33m[\u001b[0m\u001b[1;36m0\u001b[0m\u001b[1;33m]\u001b[0m\u001b[1;33m\n",
       "\u001b[0m    \u001b[1;31m#dec.fl_dapi = glob.glob(dec.save_folder+os.sep+'Segmentation'+os.sep+dec.fov+'*'+dec.set_+'*.npz')[0]\u001b[0m\u001b[1;33m\n",
       "\u001b[0m    \u001b[0mdic\u001b[0m \u001b[1;33m=\u001b[0m \u001b[0mnp\u001b[0m\u001b[1;33m.\u001b[0m\u001b[0mload\u001b[0m\u001b[1;33m(\u001b[0m\u001b[0mdec\u001b[0m\u001b[1;33m.\u001b[0m\u001b[0mfl_dapi\u001b[0m\u001b[1;33m)\u001b[0m\u001b[1;33m\n",
       "\u001b[0m    \u001b[0mim_segm\u001b[0m \u001b[1;33m=\u001b[0m \u001b[0mdic\u001b[0m\u001b[1;33m[\u001b[0m\u001b[1;34m'segm'\u001b[0m\u001b[1;33m]\u001b[0m\u001b[1;33m\n",
       "\u001b[0m    \u001b[0mdec\u001b[0m\u001b[1;33m.\u001b[0m\u001b[0mshape\u001b[0m \u001b[1;33m=\u001b[0m \u001b[0mdic\u001b[0m\u001b[1;33m[\u001b[0m\u001b[1;34m'shape'\u001b[0m\u001b[1;33m]\u001b[0m\u001b[1;33m\n",
       "\u001b[0m    \u001b[0mdec\u001b[0m\u001b[1;33m.\u001b[0m\u001b[0mim_segm_\u001b[0m\u001b[1;33m=\u001b[0m\u001b[0mstitch3d_new\u001b[0m\u001b[1;33m(\u001b[0m\u001b[0mim_segm\u001b[0m\u001b[1;33m,\u001b[0m\u001b[0mminsz\u001b[0m \u001b[1;33m=\u001b[0m \u001b[1;36m200\u001b[0m\u001b[1;33m,\u001b[0m\u001b[0mmaxsz\u001b[0m \u001b[1;33m=\u001b[0m \u001b[1;36m1000\u001b[0m\u001b[1;33m,\u001b[0m\u001b[0mth_int\u001b[0m\u001b[1;33m=\u001b[0m\u001b[1;36m0.66\u001b[0m\u001b[1;33m,\u001b[0m\u001b[0mth_cover\u001b[0m\u001b[1;33m=\u001b[0m\u001b[1;36m0.8\u001b[0m\u001b[1;33m,\u001b[0m\u001b[0mth_max_subcell\u001b[0m\u001b[1;33m=\u001b[0m\u001b[1;36m0.66\u001b[0m\u001b[1;33m,\u001b[0m\u001b[0mnexpand\u001b[0m \u001b[1;33m=\u001b[0m \u001b[1;36m5\u001b[0m\u001b[1;33m)\u001b[0m\u001b[1;33m\n",
       "\u001b[0m    \u001b[1;31m#dec.im_segm_ = expand_segmentation(dec.im_segm_,nexpand=nexpand)\u001b[0m\u001b[1;33m\n",
       "\u001b[0m    \u001b[0mdrift_fl\u001b[0m \u001b[1;33m=\u001b[0m \u001b[0mdec\u001b[0m\u001b[1;33m.\u001b[0m\u001b[0msave_folder\u001b[0m\u001b[1;33m+\u001b[0m\u001b[0mos\u001b[0m\u001b[1;33m.\u001b[0m\u001b[0msep\u001b[0m\u001b[1;33m+\u001b[0m\u001b[1;34m'drift_'\u001b[0m\u001b[1;33m+\u001b[0m\u001b[0mdec\u001b[0m\u001b[1;33m.\u001b[0m\u001b[0mfov\u001b[0m\u001b[1;33m+\u001b[0m\u001b[1;34m'--'\u001b[0m\u001b[1;33m+\u001b[0m\u001b[0mdec\u001b[0m\u001b[1;33m.\u001b[0m\u001b[0mset_\u001b[0m\u001b[1;33m+\u001b[0m\u001b[1;34m'.pkl'\u001b[0m\u001b[1;33m\n",
       "\u001b[0m    \u001b[0mdrifts\u001b[0m\u001b[1;33m,\u001b[0m\u001b[0mfls\u001b[0m\u001b[1;33m,\u001b[0m\u001b[0mfov\u001b[0m \u001b[1;33m=\u001b[0m \u001b[0mpickle\u001b[0m\u001b[1;33m.\u001b[0m\u001b[0mload\u001b[0m\u001b[1;33m(\u001b[0m\u001b[0mopen\u001b[0m\u001b[1;33m(\u001b[0m\u001b[0mdrift_fl\u001b[0m\u001b[1;33m,\u001b[0m\u001b[1;34m'rb'\u001b[0m\u001b[1;33m)\u001b[0m\u001b[1;33m)\u001b[0m\u001b[1;33m\n",
       "\u001b[0m    \u001b[0mdec\u001b[0m\u001b[1;33m.\u001b[0m\u001b[0mfls_drifts\u001b[0m \u001b[1;33m=\u001b[0m \u001b[0mfls\u001b[0m\u001b[1;33m\n",
       "\u001b[0m    \u001b[0mdec\u001b[0m\u001b[1;33m.\u001b[0m\u001b[0mdrifts\u001b[0m \u001b[1;33m=\u001b[0m \u001b[0mnp\u001b[0m\u001b[1;33m.\u001b[0m\u001b[0marray\u001b[0m\u001b[1;33m(\u001b[0m\u001b[1;33m[\u001b[0m\u001b[0mdrft\u001b[0m\u001b[1;33m[\u001b[0m\u001b[1;36m0\u001b[0m\u001b[1;33m]\u001b[0m\u001b[1;32mfor\u001b[0m \u001b[0mdrft\u001b[0m \u001b[1;32min\u001b[0m \u001b[0mdrifts\u001b[0m\u001b[1;33m]\u001b[0m\u001b[1;33m)\u001b[0m\u001b[1;33m\n",
       "\u001b[0m    \u001b[0mdec\u001b[0m\u001b[1;33m.\u001b[0m\u001b[0mfld_ref\u001b[0m \u001b[1;33m=\u001b[0m \u001b[0mdec\u001b[0m\u001b[1;33m.\u001b[0m\u001b[0mfls_drifts\u001b[0m\u001b[1;33m[\u001b[0m\u001b[0mnp\u001b[0m\u001b[1;33m.\u001b[0m\u001b[0margmin\u001b[0m\u001b[1;33m(\u001b[0m\u001b[1;33m[\u001b[0m\u001b[0mnp\u001b[0m\u001b[1;33m.\u001b[0m\u001b[0msum\u001b[0m\u001b[1;33m(\u001b[0m\u001b[0mnp\u001b[0m\u001b[1;33m.\u001b[0m\u001b[0mabs\u001b[0m\u001b[1;33m(\u001b[0m\u001b[0mdrft\u001b[0m\u001b[1;33m[\u001b[0m\u001b[1;36m0\u001b[0m\u001b[1;33m]\u001b[0m\u001b[1;33m)\u001b[0m\u001b[1;33m)\u001b[0m\u001b[1;32mfor\u001b[0m \u001b[0mdrft\u001b[0m \u001b[1;32min\u001b[0m \u001b[0mdec\u001b[0m\u001b[1;33m.\u001b[0m\u001b[0mdrifts\u001b[0m\u001b[1;33m]\u001b[0m\u001b[1;33m)\u001b[0m\u001b[1;33m]\u001b[0m\u001b[1;33m\n",
       "\u001b[0m    \u001b[0mdec\u001b[0m\u001b[1;33m.\u001b[0m\u001b[0mfl_ref\u001b[0m \u001b[1;33m=\u001b[0m \u001b[0mdec\u001b[0m\u001b[1;33m.\u001b[0m\u001b[0mfld_ref\u001b[0m\u001b[1;33m+\u001b[0m\u001b[0mos\u001b[0m\u001b[1;33m.\u001b[0m\u001b[0msep\u001b[0m\u001b[1;33m+\u001b[0m\u001b[0mdec\u001b[0m\u001b[1;33m.\u001b[0m\u001b[0mfov\u001b[0m\u001b[1;33m.\u001b[0m\u001b[0mreplace\u001b[0m\u001b[1;33m(\u001b[0m\u001b[1;34m'.zarr'\u001b[0m\u001b[1;33m,\u001b[0m\u001b[1;34m''\u001b[0m\u001b[1;33m)\u001b[0m\u001b[1;33m+\u001b[0m\u001b[1;34m'.zarr'\u001b[0m\u001b[1;33m\n",
       "\u001b[0m    \u001b[0mdec\u001b[0m\u001b[1;33m.\u001b[0m\u001b[0mdrifts\u001b[0m \u001b[1;33m=\u001b[0m \u001b[0mdrifts\u001b[0m\u001b[1;33m\n",
       "\u001b[0m    \u001b[0mtag_dapi\u001b[0m \u001b[1;33m=\u001b[0m \u001b[0mos\u001b[0m\u001b[1;33m.\u001b[0m\u001b[0mpath\u001b[0m\u001b[1;33m.\u001b[0m\u001b[0mbasename\u001b[0m\u001b[1;33m(\u001b[0m\u001b[0mdec\u001b[0m\u001b[1;33m.\u001b[0m\u001b[0mfl_dapi\u001b[0m\u001b[1;33m)\u001b[0m\u001b[1;33m.\u001b[0m\u001b[0msplit\u001b[0m\u001b[1;33m(\u001b[0m\u001b[1;34m'--'\u001b[0m\u001b[1;33m)\u001b[0m\u001b[1;33m[\u001b[0m\u001b[1;36m1\u001b[0m\u001b[1;33m]\u001b[0m\u001b[1;33m\n",
       "\u001b[0m    \u001b[0mtags_drifts\u001b[0m \u001b[1;33m=\u001b[0m \u001b[1;33m[\u001b[0m\u001b[0mos\u001b[0m\u001b[1;33m.\u001b[0m\u001b[0mpath\u001b[0m\u001b[1;33m.\u001b[0m\u001b[0mbasename\u001b[0m\u001b[1;33m(\u001b[0m\u001b[0mfld\u001b[0m\u001b[1;33m)\u001b[0m\u001b[1;32mfor\u001b[0m \u001b[0mfld\u001b[0m \u001b[1;32min\u001b[0m \u001b[0mfls\u001b[0m\u001b[1;33m]\u001b[0m\u001b[1;33m\n",
       "\u001b[0m    \u001b[0mitag_dapi\u001b[0m \u001b[1;33m=\u001b[0m \u001b[0mtags_drifts\u001b[0m\u001b[1;33m.\u001b[0m\u001b[0mindex\u001b[0m\u001b[1;33m(\u001b[0m\u001b[0mtag_dapi\u001b[0m\u001b[1;33m)\u001b[0m\u001b[1;33m\n",
       "\u001b[0m    \u001b[1;31m#dec.drifts -= dec.drifts[itag_dapi]\u001b[0m\u001b[1;33m\n",
       "\u001b[0m    \u001b[0mdec\u001b[0m\u001b[1;33m.\u001b[0m\u001b[0mdrift\u001b[0m \u001b[1;33m=\u001b[0m \u001b[0mdec\u001b[0m\u001b[1;33m.\u001b[0m\u001b[0mdrifts\u001b[0m\u001b[1;33m[\u001b[0m\u001b[0mitag_dapi\u001b[0m\u001b[1;33m]\u001b[0m\u001b[1;33m\u001b[0m\u001b[1;33m\u001b[0m\u001b[0m\n",
       "\u001b[1;31mFile:\u001b[0m      c:\\scripts\\nmerfish\\iomicro.py\n",
       "\u001b[1;31mType:\u001b[0m      function"
      ]
     },
     "metadata": {},
     "output_type": "display_data"
    }
   ],
   "source": [
    "??load_segmentation"
   ]
  },
  {
   "cell_type": "code",
   "execution_count": 48,
   "id": "b4e9c268-15b7-4f4b-bb9e-1ffaea348c87",
   "metadata": {
    "tags": []
   },
   "outputs": [
    {
     "name": "stdout",
     "output_type": "stream",
     "text": [
      "Found files for fov: Conv_zscan__542.zarr ['\\\\\\\\192.168.0.21\\\\bbfishdc21\\\\DCBBL1_1year1wkNJ_ASO_SAL_3_31_2023\\\\P1__Igfbp_Aldh1l1_Ptbp1__set1', '\\\\\\\\192.168.0.21\\\\bbfishdc21\\\\DCBBL1_1year1wkNJ_ASO_SAL_3_31_2023\\\\P2_Sox11_Sox2_Dcx__set1', '\\\\\\\\192.168.0.21\\\\bbfishdc21\\\\DCBBL1_1year1wkNJ_ASO_SAL_3_31_2023\\\\P3__Cdk4_Cdk6_Cdk1__set1', '\\\\\\\\192.168.0.21\\\\bbfishdc21\\\\DCBBL1_1year1wkNJ_ASO_SAL_3_31_2023\\\\P4__Ccnd2_Ccnb2_Cdk2__set1', '\\\\\\\\192.168.0.21\\\\bbfishdc21\\\\DCBBL1_1year1wkNJ_ASO_SAL_3_31_2023\\\\P5__Ccne2_Ccnd1_Ccna2_set1', '\\\\\\\\192.168.0.21\\\\bbfishdc21\\\\DCBBL1_1year1wkNJ_ASO_SAL_3_31_2023\\\\P6__Gmnn_Ccne1_Ccnb1_set1', '\\\\\\\\192.168.0.21\\\\bbfishdc21\\\\DCBBL1_1year1wkNJ_ASO_SAL_3_31_2023\\\\P7__Mcm5_Cdc45_Cdc6_set1', '\\\\\\\\192.168.0.21\\\\bbfishdc21\\\\DCBBL1_1year1wkNJ_ASO_SAL_3_31_2023\\\\P8__B_Cdc25c_Mki67_set1', '\\\\\\\\192.168.0.21\\\\bbfishdc21\\\\DCBBL1_1year1wkNJ_ASO_SAL_3_31_2023\\\\P9__B_ASO_polyT__set1', '\\\\\\\\192.168.0.21\\\\bbfishdc21\\\\DCBBL1_1year1wkNJ_ASO_SAL_3_31_2023\\\\H10_MER_set1', '\\\\\\\\192.168.0.21\\\\bbfishdc21\\\\DCBBL1_1year1wkNJ_ASO_SAL_3_31_2023\\\\H11_MER_set1', '\\\\\\\\192.168.0.21\\\\bbfishdc21\\\\DCBBL1_1year1wkNJ_ASO_SAL_3_31_2023\\\\H12_MER_set1', '\\\\\\\\192.168.0.21\\\\bbfishdc21\\\\DCBBL1_1year1wkNJ_ASO_SAL_3_31_2023\\\\H13_MER_set1', '\\\\\\\\192.168.0.21\\\\bbfishdc21\\\\DCBBL1_1year1wkNJ_ASO_SAL_3_31_2023\\\\H14_MER_set1', '\\\\\\\\192.168.0.21\\\\bbfishdc21\\\\DCBBL1_1year1wkNJ_ASO_SAL_3_31_2023\\\\H15_MER_set1', '\\\\\\\\192.168.0.21\\\\bbfishdc21\\\\DCBBL1_1year1wkNJ_ASO_SAL_3_31_2023\\\\H16_MER_set1', '\\\\\\\\192.168.0.21\\\\bbfishdc21\\\\DCBBL1_1year1wkNJ_ASO_SAL_3_31_2023\\\\H1_MER_set1', '\\\\\\\\192.168.0.21\\\\bbfishdc21\\\\DCBBL1_1year1wkNJ_ASO_SAL_3_31_2023\\\\H2_MER_set1', '\\\\\\\\192.168.0.21\\\\bbfishdc21\\\\DCBBL1_1year1wkNJ_ASO_SAL_3_31_2023\\\\H3_MER_set1', '\\\\\\\\192.168.0.21\\\\bbfishdc21\\\\DCBBL1_1year1wkNJ_ASO_SAL_3_31_2023\\\\H4_MER_set1', '\\\\\\\\192.168.0.21\\\\bbfishdc21\\\\DCBBL1_1year1wkNJ_ASO_SAL_3_31_2023\\\\H5_MER_set1', '\\\\\\\\192.168.0.21\\\\bbfishdc21\\\\DCBBL1_1year1wkNJ_ASO_SAL_3_31_2023\\\\H6_MER_set1', '\\\\\\\\192.168.0.21\\\\bbfishdc21\\\\DCBBL1_1year1wkNJ_ASO_SAL_3_31_2023\\\\H7_MER_set1', '\\\\\\\\192.168.0.21\\\\bbfishdc21\\\\DCBBL1_1year1wkNJ_ASO_SAL_3_31_2023\\\\H8_MER_set1', '\\\\\\\\192.168.0.21\\\\bbfishdc21\\\\DCBBL1_1year1wkNJ_ASO_SAL_3_31_2023\\\\H9_MER_set1']\n"
     ]
    },
    {
     "data": {
      "text/plain": [
       "Viewer(axes=Axes(visible=False, labels=True, colored=True, dashed=False, arrows=True), camera=Camera(center=(0.0, 1499.5, 1499.5), zoom=0.37145, angles=(0.0, 0.0, 90.0), perspective=0.0, interactive=True), cursor=Cursor(position=(12.0, 2.0, 18.0, 0.0, 0.0), scaled=True, size=1, style=<CursorStyle.STANDARD: 'standard'>), dims=Dims(ndim=5, ndisplay=2, last_used=0, range=((0.0, 25.0, 1.0), (0.0, 4.0, 1.0), (0.0, 37.0, 1.0), (0.0, 3000.0, 1.0), (0.0, 3000.0, 1.0)), current_step=(12, 2, 18, 1500, 1500), order=(0, 1, 2, 3, 4), axis_labels=('0', '1', '2', '3', '4')), grid=GridCanvas(stride=1, shape=(-1, -1), enabled=False), layers=[<Image layer 'im' at 0x26562563c70>], scale_bar=ScaleBar(visible=False, colored=False, color=array([1., 0., 1., 1.], dtype=float32), ticks=True, position=<Position.BOTTOM_RIGHT: 'bottom_right'>, font_size=10.0, box=False, box_color=array([0. , 0. , 0. , 0.6], dtype=float32), unit=None), text_overlay=TextOverlay(visible=False, color=array([0.5, 0.5, 0.5, 1. ], dtype=float32), font_size=10.0, position=<TextOverlayPosition.TOP_LEFT: 'top_left'>, text=''), overlays=Overlays(interaction_box=InteractionBox(points=None, show=False, show_handle=False, show_vertices=False, selection_box_drag=None, selection_box_final=None, transform_start=<napari.utils.transforms.transforms.Affine object at 0x0000026561B243A0>, transform_drag=<napari.utils.transforms.transforms.Affine object at 0x0000026561B24400>, transform_final=<napari.utils.transforms.transforms.Affine object at 0x0000026561B24460>, transform=<napari.utils.transforms.transforms.Affine object at 0x0000026561B244C0>, allow_new_selection=True, selected_vertex=None)), help='', status='Ready', tooltip=Tooltip(visible=False, text=''), theme='dark', title='napari', mouse_over_canvas=False, mouse_move_callbacks=[<function InteractionBoxMouseBindings.initialize_mouse_events.<locals>.mouse_move at 0x000002656253A280>], mouse_drag_callbacks=[<function InteractionBoxMouseBindings.initialize_mouse_events.<locals>.mouse_drag at 0x0000026562525E50>], mouse_double_click_callbacks=[], mouse_wheel_callbacks=[<function dims_scroll at 0x00000263C26EEE50>], _persisted_mouse_event={}, _mouse_drag_gen={}, _mouse_wheel_gen={}, keymap={'Shift': <function InteractionBoxMouseBindings.initialize_key_events.<locals>.hold_to_lock_aspect_ratio at 0x0000026562525790>, 'Control-Shift-R': <function InteractionBoxMouseBindings._reset_active_layer_affine at 0x0000026562525550>, 'Control-Shift-A': <function InteractionBoxMouseBindings._transform_active_layer at 0x0000026562525310>})"
      ]
     },
     "execution_count": 48,
     "metadata": {},
     "output_type": "execute_result"
    }
   ],
   "source": [
    "save_folder =r'\\\\192.168.0.21\\bbfishdc21\\DCBBL1_1year1wkNJ_ASO_SAL_3_31_2023\\MERFISH_Analysis'\n",
    "fov,set_ = 'Conv_zscan__542', '_set1'#bad\n",
    "dec = decoder_simple(save_folder,fov,set_)\n",
    "check_image(dec,tag = 'dapis')"
   ]
  },
  {
   "cell_type": "code",
   "execution_count": 16,
   "id": "38afd599-4239-4b21-84bc-4e52fa2ebb31",
   "metadata": {
    "tags": []
   },
   "outputs": [
    {
     "name": "stdout",
     "output_type": "stream",
     "text": [
      "[['Igfbp', 'Aldh1l1', 'Ptbp1'], ['Sox11', 'Sox2', 'Dcx'], ['Cdk4', 'Cdk6', 'Cdk1'], ['Ccnd2', 'Ccnb2', 'Cdk2'], ['Ccne2', 'Ccnd1', 'Ccna2'], ['Gmnn', 'Ccne1', 'Ccnb1'], ['Mcm5', 'Cdc45', 'Cdc6'], ['B', 'Cdc25c', 'Mki67']]\n",
      "['Ptbp1', 'Dcx', 'Cdk1', 'Cdk2', 'Ccna2', 'Ccnb1', 'Cdc6', 'Mki67']\n"
     ]
    }
   ],
   "source": [
    "print([os.path.basename(fld).replace('__','_').split('_')[1:4] for fld in dec.flds[:8]])\n",
    "print([os.path.basename(fld).replace('__','_').split('_')[3] for fld in dec.flds[:8]])\n"
   ]
  },
  {
   "cell_type": "markdown",
   "id": "529705e8-9c99-41ee-bbdb-04f880aab17e",
   "metadata": {},
   "source": [
    "### Pick a few calibration FOVs"
   ]
  },
  {
   "cell_type": "code",
   "execution_count": 25,
   "id": "50aaa886-4215-4390-8a5a-60735948f16c",
   "metadata": {},
   "outputs": [
    {
     "name": "stdout",
     "output_type": "stream",
     "text": [
      "Loaded decoded: -1.9666802883148193\n"
     ]
    },
    {
     "name": "stderr",
     "output_type": "stream",
     "text": [
      "100%|██████████████████████████████████████████████████████████████████████████████████| 48/48 [00:05<00:00,  8.76it/s]\n"
     ]
    },
    {
     "data": {
      "image/png": "[encoded data removed]",
      "text/plain": [
       "<Figure size 640x480 with 1 Axes>"
      ]
     },
     "metadata": {},
     "output_type": "display_data"
    },
    {
     "data": {
      "image/png": "[encoded data removed]",
      "text/plain": [
       "<Figure size 640x480 with 1 Axes>"
      ]
     },
     "metadata": {},
     "output_type": "display_data"
    },
    {
     "data": {
      "image/png": "[encoded data removed]",
      "text/plain": [
       "<Figure size 640x480 with 1 Axes>"
      ]
     },
     "metadata": {},
     "output_type": "display_data"
    }
   ],
   "source": [
    "save_folder =r'\\\\192.168.0.21\\bbfishdc21\\DCBBL1_1year1wkNJ_ASO_SAL_3_31_2023\\MERFISH_Analysis'\n",
    "fov,set_ = 'Conv_zscan__615', '_set1'\n",
    "dec = decoder_simple(save_folder,fov,set_)\n",
    "dec.ncols = 3\n",
    "dec.load_decoded()\n",
    "apply_flat_field(dec)\n",
    "apply_fine_drift(dec,plt_val=True)\n",
    "scoresRefT = get_score_per_color(dec)\n",
    "get_score_withRef(dec,scoresRefT,plt_val=True,gene=None,iSs = None)\n",
    "dec.th=-1\n",
    "plot_statistics(dec)"
   ]
  },
  {
   "cell_type": "code",
   "execution_count": 20,
   "id": "84993c12-526a-466d-b14b-07110939468a",
   "metadata": {
    "tags": []
   },
   "outputs": [],
   "source": [
    "viewer = plot_multigenes(dec,genes=['Sox11','Ptbp1','Gad1','Igfbpl1','Dsp','Psap'],colors=['r','g','b','m','c','y','w'],viewer = None,\n",
    "                         smin=2,smax=10)"
   ]
  },
  {
   "cell_type": "code",
   "execution_count": 21,
   "id": "f282e8d1-a74b-4f0a-a9d5-1aa6c4732329",
   "metadata": {},
   "outputs": [
    {
     "name": "stderr",
     "output_type": "stream",
     "text": [
      "C:\\Users\\BintuLabUser\\anaconda3\\envs\\cellpose\\lib\\site-packages\\numpy\\lib\\npyio.py:521: VisibleDeprecationWarning: Creating an ndarray from ragged nested sequences (which is a list-or-tuple of lists-or-tuples-or ndarrays with different lengths or shapes) is deprecated. If you meant to do this, you must specify 'dtype=object' when creating the ndarray.\n",
      "  arr = np.asanyarray(arr)\n"
     ]
    }
   ],
   "source": [
    "if True:\n",
    "    if scoresRef is None: scoresRef=scoresRefT\n",
    "    else: combine_scoresRef(scoresRef,scoresRefT)\n",
    "    np.save(save_folder+os.sep+'scoresRef.npy',scoresRef)"
   ]
  },
  {
   "cell_type": "code",
   "execution_count": 11,
   "id": "46c147e3-a8c0-41d0-a84e-7181e300ed82",
   "metadata": {},
   "outputs": [],
   "source": [
    "scoresRef = None"
   ]
  },
  {
   "cell_type": "markdown",
   "id": "325cfd25-d5d9-4cba-8ff3-7b11eee0ccb2",
   "metadata": {},
   "source": [
    "### Calibrate smFISH signal"
   ]
  },
  {
   "cell_type": "code",
   "execution_count": 26,
   "id": "5718c4c5-d4c3-47ce-a084-612c6c9ec181",
   "metadata": {
    "tags": []
   },
   "outputs": [],
   "source": [
    "keepf =  dec.scoreA>dec.th ### keep good score\n",
    "icodesf = dec.icodesN[keepf]\n",
    "XHfpr = dec.XH_pruned[keepf]\n",
    "XHf = np.mean(XHfpr,axis=1)\n",
    "XF = XHf[:,[0,1,2,-5,-4,-3,-2,-1,-1,-1,-1]]\n",
    "#zc,xc,yc,bk-7,a-6,habs-5,hn-4,h-3\n",
    "XF[:,-1] = dec.scoreA[keepf]\n",
    "XF[:,-2] = np.where(keepf)[0]\n",
    "mnD = np.mean(np.linalg.norm((XHf[:,np.newaxis]-XHfpr)[:,:,:3],axis=-1),axis=-1)\n",
    "XF[:,-3]=mnD\n",
    "mnH = np.mean(np.abs((XHf[:,np.newaxis]-XHfpr)[:,:,-3]),axis=-1)\n",
    "XF[:,-4]=mnH\n",
    "genesf = dec.gns_names[icodesf]"
   ]
  },
  {
   "cell_type": "code",
   "execution_count": 34,
   "id": "f4da35c5-d530-443d-a2e7-4315f6845f71",
   "metadata": {
    "tags": []
   },
   "outputs": [
    {
     "data": {
      "image/png": "[encoded data removed]",
      "text/plain": [
       "<Figure size 640x480 with 1 Axes>"
      ]
     },
     "metadata": {},
     "output_type": "display_data"
    }
   ],
   "source": [
    "gene = 'Ptbp1'\n",
    "tagH = 'Ptbp1'\n",
    "\n",
    "\n",
    "XF_gene = XF[genesf==gene]\n",
    "icol = XF_gene[0,-5].astype(int)\n",
    "\n",
    "dec.get_XH_tag(tag = tagH)#Aldh\n",
    "#Xh = norm_brightness(dec,dec.Xh)\n",
    "Xh = dec.Xh\n",
    "Xh = Xh[(Xh[:,-2]==icol)&(Xh[:,-3]>500)]\n",
    "\n",
    "\n",
    "dsts,inds = cKDTree(Xh[:,:3]).query(XF_gene[:,:3])\n",
    "Xh_ = Xh[inds[(dsts<10)],:]\n",
    "plt.hist(np.log(Xh_[:,-3]),bins=100,density=True);\n",
    "plt.hist(np.log(Xh[:,-3]),bins=100,density=True,alpha=0.5);"
   ]
  },
  {
   "cell_type": "code",
   "execution_count": 38,
   "id": "e4be140f-26c3-45d8-88b6-3f54f5932589",
   "metadata": {
    "tags": []
   },
   "outputs": [
    {
     "data": {
      "text/plain": [
       "[2700, 2000, 1600]"
      ]
     },
     "execution_count": 38,
     "metadata": {},
     "output_type": "execute_result"
    }
   ],
   "source": [
    "[2700,2000,1600]"
   ]
  },
  {
   "cell_type": "markdown",
   "id": "601e1cdb-2f21-4122-b3ab-94cfbe2dffda",
   "metadata": {},
   "source": [
    "### Given the base decoding for each fov, run across all datasets with consistent values"
   ]
  },
  {
   "cell_type": "code",
   "execution_count": 1,
   "id": "a2daf841-8e2e-454a-b47d-cf0eb3fa51b7",
   "metadata": {},
   "outputs": [],
   "source": [
    "import sys\n",
    "sys.path.append(r'..\\\\')\n",
    "from ioMicro import *\n",
    "save_folder =r'\\\\192.168.0.21\\bbfishdc21\\DCBBL1_1year1wkNJ_ASO_SAL_3_31_2023\\MERFISH_Analysis'\n",
    "scoresRef = np.load(save_folder+os.sep+'scoresRef.npy',allow_pickle=True)"
   ]
  },
  {
   "cell_type": "code",
   "execution_count": 2,
   "id": "f51d2fcb-2f58-4011-9ecf-e17c03434236",
   "metadata": {
    "tags": []
   },
   "outputs": [],
   "source": [
    "fov_fls = glob.glob(save_folder+os.sep+'fov*')\n",
    "elems = [(fov.replace('.zarr',''),fov_fl.split('__')[-1].split('.')[0]) \n",
    " for fov_fl in fov_fls for fov in np.load(fov_fl)]"
   ]
  },
  {
   "cell_type": "code",
   "execution_count": 3,
   "id": "4fd07fca-32f6-4e6d-9f22-1c3795abdb04",
   "metadata": {
    "tags": []
   },
   "outputs": [],
   "source": [
    "dec_fls = glob.glob(save_folder+os.sep+\"decoded*\")\n",
    "elems_dec = [tuple(fl.split('decoded_')[-1].replace('.npz','').split('--')) for fl in dec_fls]"
   ]
  },
  {
   "cell_type": "code",
   "execution_count": 4,
   "id": "886091ae-35e0-4de5-8703-13c37a45f6e2",
   "metadata": {
    "tags": []
   },
   "outputs": [
    {
     "data": {
      "text/plain": [
       "(1478, 1478)"
      ]
     },
     "execution_count": 4,
     "metadata": {},
     "output_type": "execute_result"
    }
   ],
   "source": [
    "len(elems_dec),len(elems)"
   ]
  },
  {
   "cell_type": "code",
   "execution_count": 5,
   "id": "45fe1b2c-4452-4d7f-9d18-232ef3aaa420",
   "metadata": {
    "tags": []
   },
   "outputs": [],
   "source": [
    "missing = [e for e in elems if e not in elems_dec]"
   ]
  },
  {
   "cell_type": "code",
   "execution_count": 6,
   "id": "1ea44a96-03d2-48b8-ab1c-1098ea2365d4",
   "metadata": {
    "tags": []
   },
   "outputs": [],
   "source": [
    "parms = [(set_,int(fov.split('_')[-1])) for fov,set_ in missing]"
   ]
  },
  {
   "cell_type": "code",
   "execution_count": 7,
   "id": "f4bcd721-f21f-4e6b-a8a4-a3d41a909e21",
   "metadata": {
    "tags": []
   },
   "outputs": [
    {
     "data": {
      "text/plain": [
       "[]"
      ]
     },
     "execution_count": 7,
     "metadata": {},
     "output_type": "execute_result"
    }
   ],
   "source": [
    "parms"
   ]
  },
  {
   "cell_type": "code",
   "execution_count": null,
   "id": "07d4cef5-4941-4839-bcae-8ed843f1ed56",
   "metadata": {},
   "outputs": [],
   "source": [
    "from workerScope3New import *\n",
    "for set_,ifov in tqdm(parms):\n",
    "    main_f((set_,ifov),try_mode=True,old_method=True)"
   ]
  },
  {
   "cell_type": "code",
   "execution_count": 7,
   "id": "48812052-749b-4a29-b2a7-988a68d878e7",
   "metadata": {
    "tags": []
   },
   "outputs": [],
   "source": [
    "fov,set_ = ('Conv_zscan__029', '_set1')\n",
    "save_final_decoding(save_folder,fov,set_,scoresRef,th=-1.5,plt_val=False,tag_save = 'finaldecs_',apply_flat=False,ncols=3,\n",
    "                            tags_smFISH=['Aldh','Sox11'],\n",
    "                            genes_smFISH=[['Igfbpl1','Aldh1l1','Ptbp1'],['Sox11','Sox2','Dcx']],Hths=[10000,10000,8500],force=False)"
   ]
  },
  {
   "cell_type": "code",
   "execution_count": null,
   "id": "1a6b391f-cacb-4e56-957e-d96cdcc2c237",
   "metadata": {},
   "outputs": [],
   "source": [
    "dec = decoder_simple"
   ]
  },
  {
   "cell_type": "code",
   "execution_count": null,
   "id": "980554bd-0b19-4241-8911-a29fbafa25d5",
   "metadata": {},
   "outputs": [],
   "source": []
  },
  {
   "cell_type": "markdown",
   "id": "d8607ddc-0986-4fc7-8b10-d57e67adacbb",
   "metadata": {},
   "source": [
    "### Run workerSaveFinal"
   ]
  },
  {
   "cell_type": "code",
   "execution_count": null,
   "id": "7cf2a662-357f-4924-ba65-1bbc31fd4f97",
   "metadata": {},
   "outputs": [],
   "source": [
    "#elems = [('Conv_zscan__'+str(ifov).zfill(3),'_'+set_)for set_ in ['set2'] for ifov in dic_f[set_]]\n",
    "for fov,set_ in tqdm(elems):\n",
    "    save_final_decoding(save_folder,fov,set_,scoresRef,th=-1.5,plt_val=False,tag_save = 'finaldecs_',apply_flat=False,ncols=3,\n",
    "                            tags_smFISH=['Aldh','Sox11'],\n",
    "                            genes_smFISH=[['Igfbpl1','Aldh1l1','Ptbp1'],['Sox11','Sox2','Dcx']],Hths=[10000,10000,8500],force=False)"
   ]
  },
  {
   "cell_type": "code",
   "execution_count": 5,
   "id": "ad4caed0-63ea-4450-83eb-40af4477fbca",
   "metadata": {
    "tags": []
   },
   "outputs": [],
   "source": [
    "import sys\n",
    "sys.path.append(r'..\\\\')\n",
    "from ioMicro import *\n",
    "save_folder =r'\\\\192.168.0.100\\bbfish100\\DCBBL1_4week_6_2_2023\\MERFISH_Analysis'"
   ]
  },
  {
   "cell_type": "code",
   "execution_count": 11,
   "id": "ec8c40a6-ba1d-49df-a8dc-c8d14aa05121",
   "metadata": {
    "tags": []
   },
   "outputs": [],
   "source": [
    "fls = glob.glob(save_folder+os.sep+'finaldecs_*')"
   ]
  },
  {
   "cell_type": "code",
   "execution_count": 16,
   "id": "b0e2d719-747e-4d23-bc94-a8181070f81c",
   "metadata": {
    "tags": []
   },
   "outputs": [
    {
     "data": {
      "text/plain": [
       "125.64285714285715"
      ]
     },
     "execution_count": 16,
     "metadata": {},
     "output_type": "execute_result"
    }
   ],
   "source": [
    "times = [os.path.getctime(fl) for fl in fls]\n",
    "np.mean(np.diff(np.sort(times).astype(int)))*900/60"
   ]
  },
  {
   "cell_type": "code",
   "execution_count": null,
   "id": "5f689230-4988-4e3c-9637-1758cd87f583",
   "metadata": {},
   "outputs": [],
   "source": []
  },
  {
   "cell_type": "markdown",
   "id": "9940aa4a-2395-4305-9fcc-c6410f4d539b",
   "metadata": {},
   "source": [
    "### Get counts per cell into a single dataset"
   ]
  },
  {
   "cell_type": "code",
   "execution_count": 166,
   "id": "85eab8fd-9c5f-46a2-aa78-60ddb53f007d",
   "metadata": {},
   "outputs": [],
   "source": [
    "import pandas as pd\n",
    "#save_folder =r'\\\\192.168.0.6\\bbfish1e3\\DCBBL1_03_14_2023_big\\MERFISH_Analysis'\n",
    "#save_folder =r'\\\\192.168.0.6\\bbfish1e3\\DCBBL1_03_14_2023_big\\MERFISH_Analysis'\n",
    "#save_folder =r'\\\\192.168.0.100\\bbfish100\\DCBBL1_4week_6_2_2023\\MERFISH_Analysis'\n",
    "save_folder =r'\\\\192.168.0.21\\bbfishdc21\\DCBBL1_1year1wkNJ_ASO_SAL_3_31_2023\\MERFISH_Analysis'\n",
    "save_fls = glob.glob(save_folder+os.sep+'V2_finaldecs_*')"
   ]
  },
  {
   "cell_type": "code",
   "execution_count": 167,
   "id": "51fb1111-bfc5-454c-8f4e-ad73af8932a0",
   "metadata": {
    "tags": []
   },
   "outputs": [
    {
     "data": {
      "text/plain": [
       "1459"
      ]
     },
     "execution_count": 167,
     "metadata": {},
     "output_type": "execute_result"
    }
   ],
   "source": [
    "len(save_fls)"
   ]
  },
  {
   "cell_type": "code",
   "execution_count": 168,
   "id": "4bddf1a7-2218-41e8-9942-7c3b5257d596",
   "metadata": {
    "tags": []
   },
   "outputs": [],
   "source": [
    "fov_fls = glob.glob(save_folder+os.sep+'fov*')\n",
    "elems = [(fov.replace('.zarr',''),fov_fl.split('__')[-1].split('.')[0]) \n",
    " for fov_fl in fov_fls for fov in np.load(fov_fl)]"
   ]
  },
  {
   "cell_type": "code",
   "execution_count": 170,
   "id": "b742b32d-13ca-466a-96b2-8bb01157a4a6",
   "metadata": {
    "tags": []
   },
   "outputs": [],
   "source": [
    "final_elems = [tuple(fl.split('finaldecs_')[-1].split('.')[0].split('--')) for fl in save_fls]"
   ]
  },
  {
   "cell_type": "code",
   "execution_count": null,
   "id": "b4c8bb2e-dd5e-4fe0-929a-56c538c0bcad",
   "metadata": {},
   "outputs": [],
   "source": []
  },
  {
   "cell_type": "code",
   "execution_count": 172,
   "id": "1b206171-0d97-4003-ae06-e81b6ebb4302",
   "metadata": {
    "tags": []
   },
   "outputs": [
    {
     "data": {
      "text/plain": [
       "[('Conv_zscan__065', '_set1'),\n",
       " ('Conv_zscan__085', '_set1'),\n",
       " ('Conv_zscan__094', '_set1'),\n",
       " ('Conv_zscan__124', '_set1'),\n",
       " ('Conv_zscan__125', '_set1'),\n",
       " ('Conv_zscan__126', '_set1'),\n",
       " ('Conv_zscan__141', '_set1'),\n",
       " ('Conv_zscan__215', '_set1'),\n",
       " ('Conv_zscan__315', '_set1'),\n",
       " ('Conv_zscan__351', '_set1'),\n",
       " ('Conv_zscan__357', '_set1'),\n",
       " ('Conv_zscan__358', '_set1'),\n",
       " ('Conv_zscan__512', '_set1'),\n",
       " ('Conv_zscan__562', '_set1'),\n",
       " ('Conv_zscan__563', '_set1'),\n",
       " ('Conv_zscan__023', '_set3'),\n",
       " ('Conv_zscan__064', '_set3'),\n",
       " ('Conv_zscan__109', '_set3'),\n",
       " ('Conv_zscan__403', '_set3')]"
      ]
     },
     "execution_count": 172,
     "metadata": {},
     "output_type": "execute_result"
    }
   ],
   "source": [
    "[e for e in elems if e not in final_elems]"
   ]
  },
  {
   "cell_type": "code",
   "execution_count": 155,
   "id": "dcbe748c-7f73-4759-992f-d0acb6cfdd87",
   "metadata": {
    "tags": []
   },
   "outputs": [
    {
     "data": {
      "text/plain": [
       "False"
      ]
     },
     "execution_count": 155,
     "metadata": {},
     "output_type": "execute_result"
    }
   ],
   "source": [
    "('Conv_zscan__036', '_set2') in final_elems"
   ]
  },
  {
   "cell_type": "code",
   "execution_count": 164,
   "id": "3f6cc6cd-96bb-4e7e-8874-5fc7acc6e309",
   "metadata": {
    "tags": []
   },
   "outputs": [],
   "source": []
  },
  {
   "cell_type": "code",
   "execution_count": 181,
   "id": "f201b132-ba86-4656-9b87-2a9a2addee9c",
   "metadata": {
    "tags": []
   },
   "outputs": [
    {
     "data": {
      "text/plain": [
       "0"
      ]
     },
     "execution_count": 181,
     "metadata": {},
     "output_type": "execute_result"
    }
   ],
   "source": [
    "load_segmentation(dec)"
   ]
  },
  {
   "cell_type": "code",
   "execution_count": 180,
   "id": "1ad548cb-166c-40bd-a530-ea1a61b1820e",
   "metadata": {
    "tags": []
   },
   "outputs": [],
   "source": [
    "dec = decoder_simple(save_folder,fov,set_)"
   ]
  },
  {
   "cell_type": "code",
   "execution_count": 182,
   "id": "eed6cb0e-e599-4dc9-ae14-c9d8d83029c2",
   "metadata": {
    "tags": []
   },
   "outputs": [],
   "source": [
    "def get_cell_id(dec,Xh):\n",
    "    if not hasattr(dec,'drift'): \n",
    "        good = np.ones(len(Xh),dtype=bool)\n",
    "        cells_ = np.zeros(len(Xh),dtype=int)\n",
    "        return cells_,good\n",
    "    tzxy = dec.drift[0]#dec.drift_dapi\n",
    "    im_segm = dec.im_segm_\n",
    "    dec.shapesm = dec.im_segm_.shape\n",
    "    \n",
    "    Xcms = Xh[:,:3]-tzxy#?\n",
    "    Xred = np.round((Xcms/dec.shape)*dec.shapesm).astype(int)\n",
    "    good = ~np.any((Xred>=dec.shapesm)|(Xred<0),axis=-1)\n",
    "    Xred = Xred[good]\n",
    "    return im_segm[tuple(Xred.T)],good"
   ]
  },
  {
   "cell_type": "code",
   "execution_count": null,
   "id": "d502e7ca-2075-46b8-b984-2ba58e877d77",
   "metadata": {},
   "outputs": [],
   "source": []
  },
  {
   "cell_type": "code",
   "execution_count": 190,
   "id": "186b7e74-8d84-4caa-9638-48f4b8afdd24",
   "metadata": {
    "tags": []
   },
   "outputs": [],
   "source": [
    "('Conv_zscan__023', '_set3'),\n",
    " ('Conv_zscan__064', '_set3'),\n",
    " ('Conv_zscan__109', '_set3'),\n",
    " ('Conv_zscan__403', '_set3')"
   ]
  },
  {
   "cell_type": "code",
   "execution_count": 194,
   "id": "de02c2a1-70e4-4117-9c60-9061e990f1a5",
   "metadata": {
    "tags": []
   },
   "outputs": [
    {
     "name": "stdout",
     "output_type": "stream",
     "text": [
      "Loaded decoded: -0.04045987129211426\n"
     ]
    },
    {
     "name": "stderr",
     "output_type": "stream",
     "text": [
      "100%|████████████████████████████████████████████████████████████████████████████████| 29/29 [00:00<00:00, 5794.34it/s]\n"
     ]
    }
   ],
   "source": [
    "save_folder =r'\\\\192.168.0.21\\bbfishdc21\\DCBBL1_1year1wkNJ_ASO_SAL_3_31_2023\\MERFISH_Analysis'\n",
    "fov,set_ = ('Conv_zscan__403', '_set3')\n",
    "scoresRef = np.load(save_folder+os.sep+'scoresRef.npy',allow_pickle=True)\n",
    "save_final_decoding(save_folder,fov,set_,scoresRef,th=-1.5,plt_val=False,tag_save = 'V2_finaldecs_',apply_flat=True,ncols=3,\n",
    "                                    #tags_smFISH=['Aldh'],\n",
    "                                    #genes_smFISH=[['Igfbpl1','Aldh1l1','Ptbp1']],\n",
    "                            genes_smFISH=[['Igfbp', 'Aldh1l1', 'Ptbp1'], ['Sox11', 'Sox2', 'Dcx'], ['Cdk4', 'Cdk6', 'Cdk1'], ['Ccnd2', 'Ccnb2', 'Cdk2'], ['Ccne2', 'Ccnd1', 'Ccna2'], ['Gmnn', 'Ccne1', 'Ccnb1'], ['Mcm5', 'Cdc45', 'Cdc6'], ['B', 'Cdc25c', 'Mki67']],\n",
    "                            tags_smFISH=['Ptbp1', 'Dcx', 'Cdk1', 'Cdk2', 'Ccna2', 'Ccnb1', 'Cdc6', 'Mki67'],\n",
    "                            Hths=[2700,2000,1800],force=False,try_mode=False)"
   ]
  },
  {
   "cell_type": "code",
   "execution_count": null,
   "id": "0a735e74-de1e-493e-8dfc-cae13ffe0974",
   "metadata": {},
   "outputs": [],
   "source": [
    "cell_df,df=None,None"
   ]
  },
  {
   "cell_type": "code",
   "execution_count": 196,
   "id": "071977fe-8958-45b5-9d4f-ae51fc364642",
   "metadata": {},
   "outputs": [
    {
     "name": "stderr",
     "output_type": "stream",
     "text": [
      "100%|████████████████████████████████████████████████████████████████████████████████| 445/445 [06:28<00:00,  1.15it/s]\n"
     ]
    }
   ],
   "source": [
    "sets = ['_set3']\n",
    "save_fls_ = [fl for fl in save_fls if np.any([set_ in fl for set_ in sets])]# in fl if '035' in fl][0]\n",
    "#save_fls__ = [fl for fl in save_fls if np.any([set_ in fl for set_ in sets]) and fl not in save_fls_]\n",
    "cell_df,df=None,None\n",
    "for save_fl in tqdm(np.sort(save_fls_)[:]):\n",
    "    ### load info\n",
    "    dic = np.load(save_fl)\n",
    "    XF = dic['XF']\n",
    "    header = list(dic['header'])\n",
    "    genes_decoded = dic['genes']\n",
    "    cells = dic['cellinfo'][1:]\n",
    "    header_cells = dic['header_cells']\n",
    "    ### Rethrehold based on score\n",
    "    iscore = list(header).index('score')\n",
    "    scoreA = XF[:,iscore]\n",
    "    keep = scoreA>-1.5\n",
    "    ugns,gns_i = np.unique(genes_decoded[keep],return_inverse=True)\n",
    "\n",
    "    icell = header.index('cell_id')\n",
    "    icells = XF[keep,icell].astype(int)\n",
    "    \n",
    "    icellsf = cells[:,0].astype(int)\n",
    "    \n",
    "    mcell = np.max(icellsf)+1\n",
    "    gn_cell,gn_cell_cts = np.unique(mcell*gns_i+icells,return_counts=True)\n",
    "    len(gn_cell)\n",
    "    igns_ = gn_cell//mcell\n",
    "    icells_ = gn_cell%mcell\n",
    "    Mcts = np.zeros([mcell,len(ugns)])\n",
    "    Mcts[icells_,igns_]=gn_cell_cts\n",
    "\n",
    "    Mcts[icellsf].shape\n",
    "    ifov,iset = int(XF[0,header.index('ifov')]),int(XF[0,header.index('iset')])\n",
    "    icellsnm = [icell+10**5*ifov for icell in icellsf]#icellsnm = [icell+10**5*ifov+10**9*iset for icell in icellsf]\n",
    "\n",
    "    dfT = pd.DataFrame(Mcts[icellsf],columns=ugns,index=icellsnm)\n",
    "\n",
    "\n",
    "    df = dfT if df is None else pd.concat([df,dfT])\n",
    "    cell_dfT = pd.DataFrame(cells,columns=header_cells,index=icellsnm)\n",
    "    cell_df = cell_dfT if cell_df is None else pd.concat([cell_df,cell_dfT])"
   ]
  },
  {
   "cell_type": "code",
   "execution_count": 197,
   "id": "3d074b25-7b84-477b-8308-cd1934dc358b",
   "metadata": {
    "tags": []
   },
   "outputs": [],
   "source": [
    "save_folder =r'\\\\192.168.0.21\\bbfishdc21\\DCBBL1_1year1wkNJ_ASO_SAL_3_31_2023\\MERFISH_Analysis'"
   ]
  },
  {
   "cell_type": "code",
   "execution_count": 198,
   "id": "a234abe7-0670-4ae5-b44b-22a72171f56d",
   "metadata": {
    "tags": []
   },
   "outputs": [],
   "source": [
    "#save_folder = r'\\\\192.168.0.100\\bbfish100\\DCBBL1_4week_6_2_2023\\MERFISH_Analysis\\final_spots'\n",
    "tagsave = os.path.basename(os.path.dirname(save_folder))+'--'.join(sets)\n",
    "save_folder_ =save_folder+os.sep+r'final_spots'\n",
    "if not os.path.exists(save_folder_): os.makedirs(save_folder_)\n",
    "df.to_pickle(save_folder_+os.sep+tagsave+r'_df_newCellSeg.pkl')\n",
    "cell_df.to_pickle(save_folder_+os.sep+tagsave+r'_cell_df_newCellSeg.pkl')"
   ]
  },
  {
   "cell_type": "code",
   "execution_count": 24,
   "id": "5a7d2b72-5993-432e-9be3-4f3722b30faf",
   "metadata": {
    "tags": []
   },
   "outputs": [],
   "source": [
    "#df = pd.read_pickle(save_folder+r'\\DCBBL1_4week_6_2_2023_set1_df_newCellSeg.pkl')\n",
    "#cell_df = pd.read_pickle(save_folder+r'\\DCBBL1_4week_6_2_2023_set1_cell_df_newCellSeg.pkl')"
   ]
  },
  {
   "cell_type": "code",
   "execution_count": 212,
   "id": "fffe8894-6d42-4115-95a7-038028a96f6b",
   "metadata": {},
   "outputs": [
    {
     "data": {
      "text/plain": [
       "[<matplotlib.lines.Line2D at 0x266c8593730>]"
      ]
     },
     "execution_count": 212,
     "metadata": {},
     "output_type": "execute_result"
    },
    {
     "data": {
      "image/png": "[encoded data removed]",
      "text/plain": [
       "<Figure size 640x480 with 1 Axes>"
      ]
     },
     "metadata": {},
     "output_type": "display_data"
    }
   ],
   "source": [
    "plt.semilogy(np.nanmean(df,axis=0))"
   ]
  },
  {
   "cell_type": "code",
   "execution_count": 215,
   "id": "984ba5a4-f44f-4190-9776-9c886d0f799e",
   "metadata": {
    "tags": []
   },
   "outputs": [],
   "source": [
    "#list(df.keys())"
   ]
  },
  {
   "cell_type": "code",
   "execution_count": 113,
   "id": "d3b782d4-3792-4bcb-8716-2a74e068643c",
   "metadata": {
    "tags": []
   },
   "outputs": [
    {
     "data": {
      "text/plain": [
       "[<matplotlib.lines.Line2D at 0x20904c6c520>]"
      ]
     },
     "execution_count": 113,
     "metadata": {},
     "output_type": "execute_result"
    },
    {
     "data": {
      "image/png": "[encoded data removed]",
      "text/plain": [
       "<Figure size 640x480 with 1 Axes>"
      ]
     },
     "metadata": {},
     "output_type": "display_data"
    }
   ],
   "source": [
    "plt.semilogy(np.nanmean(df,axis=0))"
   ]
  },
  {
   "cell_type": "code",
   "execution_count": 25,
   "id": "83ed3e13-d9ce-4d5b-b059-1d4061fea726",
   "metadata": {
    "tags": []
   },
   "outputs": [],
   "source": [
    "          \n",
    "def plot_gene_mosaic_cells(df,cell_df,gene,plt_fov=False,pixel_size = 0.10833*4,transpose=1,flipx=1,flipy=1,sz_min=1,sz_max=30,nmax=20):\n",
    "    xcells = cell_df['xc']*pixel_size+cell_df['yfov']\n",
    "    ycells = cell_df['yc']*pixel_size-cell_df['xfov']\n",
    "\n",
    "    Xcells = np.array([xcells*flipx,ycells*flipy][::transpose]).T\n",
    "    \n",
    "    cts = np.array(df[gene])#Ptbp1_smFISH\n",
    "    \n",
    "    cts[np.isnan(cts)]=0\n",
    "    ncts = np.clip(cts/nmax,0,1)\n",
    "    size = sz_min+ncts*(sz_max-sz_min)\n",
    "    from matplotlib import cm as cmap\n",
    "    cols = cmap.coolwarm(ncts)\n",
    "    import napari\n",
    "    good_cells = slice(None)\n",
    "    XC = -Xcells[good_cells,::-1]\n",
    "    viewer = napari.view_points(XC,size=size,face_color=cols[good_cells],name=gene)\n",
    "    if plt_fov:\n",
    "        ifovs = np.array(list(df.index),dtype=int)//10**5\n",
    "        ifov_unk = np.unique(ifovs)\n",
    "        Xfov = np.array([np.mean(XC[ifovs==ifov],axis=0)for ifov in ifov_unk])\n",
    "        features =  {'fov':ifov_unk}\n",
    "        text = {\n",
    "            'string': '{fov:.1f}',\n",
    "            'size': 20,\n",
    "            'color': 'gray',\n",
    "            'translation': np.array([0, 0]),\n",
    "        }\n",
    "        viewer.add_points(Xfov,text=text,features=features,edge_width=0)"
   ]
  },
  {
   "cell_type": "code",
   "execution_count": 208,
   "id": "d500ef50-03e9-47e8-8676-04c8bdc17a4d",
   "metadata": {
    "tags": []
   },
   "outputs": [
    {
     "data": {
      "text/plain": [
       "['Igfbpl1']"
      ]
     },
     "execution_count": 208,
     "metadata": {},
     "output_type": "execute_result"
    }
   ],
   "source": [
    "[gn for gn in list(df.keys()) if 'Igfbpl1' in gn]"
   ]
  },
  {
   "cell_type": "code",
   "execution_count": 217,
   "id": "7c642f83-7004-4374-a5be-336d5d2475a3",
   "metadata": {},
   "outputs": [],
   "source": [
    "plot_gene_mosaic_cells(df,cell_df,'Gfap',plt_fov=True,pixel_size = 0.10833*4,transpose=1,flipy=-1)"
   ]
  },
  {
   "cell_type": "code",
   "execution_count": 57,
   "id": "1a219d94-ea40-4b38-8792-de2a422bf435",
   "metadata": {
    "collapsed": true,
    "jupyter": {
     "outputs_hidden": true
    },
    "tags": []
   },
   "outputs": [
    {
     "data": {
      "text/plain": [
       "['Abhd2',\n",
       " 'Acer3',\n",
       " 'Acta2',\n",
       " 'Actb',\n",
       " 'Actg1',\n",
       " 'Adarb2',\n",
       " 'Adcy1',\n",
       " 'Adcy2',\n",
       " 'Adgrl3',\n",
       " 'Agt',\n",
       " 'Ahcyl2',\n",
       " 'Aif1l',\n",
       " 'Aldh1a1',\n",
       " 'Aldh1l1_smFISH',\n",
       " 'Aldoc',\n",
       " 'Aqp4',\n",
       " 'Arx',\n",
       " 'Ascl1',\n",
       " 'Atp1a2',\n",
       " 'Atp1b1',\n",
       " 'Auts2',\n",
       " 'Bcl2',\n",
       " 'Bdnf',\n",
       " 'Bhlhe22',\n",
       " 'Bmp2',\n",
       " 'Bmp4',\n",
       " 'Brinp3',\n",
       " 'Bsg',\n",
       " 'Bsn',\n",
       " 'Btg2',\n",
       " 'C1qa',\n",
       " 'C1ql1',\n",
       " 'C1ql3',\n",
       " 'Calb1',\n",
       " 'Calb2',\n",
       " 'Casp3',\n",
       " 'Casp9',\n",
       " 'Cck',\n",
       " 'Cd14',\n",
       " 'Cd74',\n",
       " 'Cdh12',\n",
       " 'Cdh13',\n",
       " 'Cdh18',\n",
       " 'Cdk1',\n",
       " 'Cdk4',\n",
       " 'Chrdl1',\n",
       " 'Clasp1',\n",
       " 'Cldn5',\n",
       " 'Cnr1',\n",
       " 'Cntnap5b',\n",
       " 'Cox6a1',\n",
       " 'Csmd1',\n",
       " 'Cspg4',\n",
       " 'Cspg5',\n",
       " 'Cst3',\n",
       " 'Dcc',\n",
       " 'Dcx',\n",
       " 'Dcx_smFISH',\n",
       " 'Dgat2',\n",
       " 'Dgkb',\n",
       " 'Dgkh',\n",
       " 'Dlx1',\n",
       " 'Dlx2',\n",
       " 'Dpysl3',\n",
       " 'Dsp',\n",
       " 'Efna5',\n",
       " 'Egfem1',\n",
       " 'Eif4a2',\n",
       " 'Elavl2',\n",
       " 'Elavl3',\n",
       " 'Elavl4',\n",
       " 'Emx1',\n",
       " 'Emx2',\n",
       " 'Eomes',\n",
       " 'Erbb4',\n",
       " 'Etv4',\n",
       " 'F3',\n",
       " 'Fam107a',\n",
       " 'Fam210b',\n",
       " 'Fam214a',\n",
       " 'Fbll1',\n",
       " 'Flt1',\n",
       " 'Fos',\n",
       " 'Foxa1',\n",
       " 'Foxa2',\n",
       " 'Foxg1',\n",
       " 'Frmd4a',\n",
       " 'Frzb',\n",
       " 'Fxyd6',\n",
       " 'Fxyd7',\n",
       " 'Fyn',\n",
       " 'Gabbr1',\n",
       " 'Gabra1',\n",
       " 'Gabra2',\n",
       " 'Gad1',\n",
       " 'Gal',\n",
       " 'Gda',\n",
       " 'Gfap',\n",
       " 'Gja1',\n",
       " 'Gli1',\n",
       " 'Gm10076',\n",
       " 'Gnb1',\n",
       " 'Gpc4',\n",
       " 'Gpm6a',\n",
       " 'Gpr17',\n",
       " 'Grb14',\n",
       " 'Grin2c',\n",
       " 'Grp',\n",
       " 'H2afz',\n",
       " 'Hapln2',\n",
       " 'Hdac8',\n",
       " 'Hes5',\n",
       " 'Hmgn3',\n",
       " 'Hopx',\n",
       " 'Hs6st3',\n",
       " 'Htra1',\n",
       " 'Htt',\n",
       " 'Id3',\n",
       " 'Igfbpl1',\n",
       " 'Igfbpl1_smFISH',\n",
       " 'Inpp4b',\n",
       " 'Insm1',\n",
       " 'Junb',\n",
       " 'Kcnd2',\n",
       " 'Kcng4',\n",
       " 'Kif4',\n",
       " 'Laptm5',\n",
       " 'Lhx3',\n",
       " 'Lhx6',\n",
       " 'Llgl1',\n",
       " 'Lockd',\n",
       " 'Lpar1',\n",
       " 'Lrp1b',\n",
       " 'Lrrtm4',\n",
       " 'Mal',\n",
       " 'Map3k15',\n",
       " 'Mapk4',\n",
       " 'Marcks',\n",
       " 'Mast4',\n",
       " 'Mbp',\n",
       " 'Mcm2',\n",
       " 'Mcu',\n",
       " 'Mertk',\n",
       " 'Mfge8',\n",
       " 'Mgat4c',\n",
       " 'Mgl2',\n",
       " 'Mki67',\n",
       " 'Mrc1',\n",
       " 'Mt2',\n",
       " 'Mtrf1',\n",
       " 'Mxd3',\n",
       " 'Myc',\n",
       " 'Myf5',\n",
       " 'Myod1',\n",
       " 'Nckap5',\n",
       " 'Ndst4',\n",
       " 'Necab3',\n",
       " 'Nell1',\n",
       " 'Nes',\n",
       " 'Neurod1',\n",
       " 'Neurod2',\n",
       " 'Neurod4',\n",
       " 'Neurod6',\n",
       " 'Neurog1',\n",
       " 'Neurog2',\n",
       " 'Nfia',\n",
       " 'Ngef',\n",
       " 'Nkain2',\n",
       " 'Nkain4',\n",
       " 'Nmb',\n",
       " 'Nnat',\n",
       " 'Nog',\n",
       " 'Notch3',\n",
       " 'Npas3',\n",
       " 'Npy2r',\n",
       " 'Nr3c2',\n",
       " 'Nrg3',\n",
       " 'Nrgn',\n",
       " 'Ntf3',\n",
       " 'Ntng1',\n",
       " 'Ntrk2',\n",
       " 'Nxph1',\n",
       " 'Ogt',\n",
       " 'Olig1',\n",
       " 'Olig2',\n",
       " 'Olr1',\n",
       " 'Opalin',\n",
       " 'Opcml',\n",
       " 'Padi2',\n",
       " 'Pam',\n",
       " 'Pax6',\n",
       " 'Pde10a',\n",
       " 'Pde1a',\n",
       " 'Pdgfra',\n",
       " 'Pex5l',\n",
       " 'Plekha1',\n",
       " 'Plxna1',\n",
       " 'Pnoc',\n",
       " 'Pou3f2',\n",
       " 'Prkg1',\n",
       " 'Prom1',\n",
       " 'Prox1',\n",
       " 'Psap',\n",
       " 'Ptbp1',\n",
       " 'Ptbp1_smFISH',\n",
       " 'Ptbp2',\n",
       " 'Ptgds',\n",
       " 'Pvalb',\n",
       " 'Rasl10a',\n",
       " 'Rbfox3',\n",
       " 'Rbms3',\n",
       " 'Reln',\n",
       " 'Rest',\n",
       " 'Rhcg',\n",
       " 'Riiad1',\n",
       " 'Robo1',\n",
       " 'Rpl38',\n",
       " 'Rtn4',\n",
       " 'S100b',\n",
       " 'S1pr3',\n",
       " 'Sall3',\n",
       " 'Scd2',\n",
       " 'Sdk1',\n",
       " 'Sema3a',\n",
       " 'Serpinf1',\n",
       " 'Serping1',\n",
       " 'Sgcd',\n",
       " 'Sgcz',\n",
       " 'Sgk1',\n",
       " 'Sin3a',\n",
       " 'Slc17a6',\n",
       " 'Slc1a2',\n",
       " 'Slc1a3',\n",
       " 'Slc2a1',\n",
       " 'Slc5a7',\n",
       " 'Slco1c1',\n",
       " 'Slit2',\n",
       " 'Smarca4',\n",
       " 'Sorcs1',\n",
       " 'Sox10',\n",
       " 'Sox11',\n",
       " 'Sox11_smFISH',\n",
       " 'Sox2',\n",
       " 'Sox2_smFISH',\n",
       " 'Sox4',\n",
       " 'Sox9',\n",
       " 'Spag5',\n",
       " 'Spink8',\n",
       " 'Sst',\n",
       " 'Steap4',\n",
       " 'Stox2',\n",
       " 'Synpr',\n",
       " 'Tac2',\n",
       " 'Tardbp',\n",
       " 'Tbr1',\n",
       " 'Tenm2',\n",
       " 'Tfap2c',\n",
       " 'Tgfb1',\n",
       " 'Thrsp',\n",
       " 'Thy1',\n",
       " 'Tmem108',\n",
       " 'Tmsb10',\n",
       " 'Top2a',\n",
       " 'Tpt1',\n",
       " 'Trim2',\n",
       " 'Trps1',\n",
       " 'Tshz2',\n",
       " 'Unc13a',\n",
       " 'Unc13b',\n",
       " 'Unc13c',\n",
       " 'Unc5c',\n",
       " 'Vim',\n",
       " 'Vip',\n",
       " 'Vnn1',\n",
       " 'Vps13c',\n",
       " 'Wdr17',\n",
       " 'Wfs1',\n",
       " 'Wipf3',\n",
       " 'Wnt8b',\n",
       " 'Zbtb20',\n",
       " 'Zfp36l1',\n",
       " 'blank0001',\n",
       " 'blank0002',\n",
       " 'blank0003',\n",
       " 'blank0004',\n",
       " 'blank0005',\n",
       " 'blank0006',\n",
       " 'blank0007',\n",
       " 'blank0008',\n",
       " 'blank0009',\n",
       " 'blank0010',\n",
       " 'blank0011',\n",
       " 'blank0012',\n",
       " 'blank0013',\n",
       " 'blank0014',\n",
       " 'blank0015',\n",
       " 'blank0016',\n",
       " 'blank0017',\n",
       " 'blank0018',\n",
       " 'blank0019',\n",
       " 'blank0020',\n",
       " 'blank0021',\n",
       " 'blank0022',\n",
       " 'blank0023',\n",
       " 'blank0024',\n",
       " 'blank0025',\n",
       " 'blank0026',\n",
       " 'blank0027',\n",
       " 'blank0028',\n",
       " 'blank0029',\n",
       " 'blank0030',\n",
       " 'blank0031',\n",
       " 'blank0032',\n",
       " 'blank0033',\n",
       " 'blank0034',\n",
       " 'blank0035',\n",
       " 'blank0036',\n",
       " 'blank0037',\n",
       " 'blank0038',\n",
       " 'blank0039',\n",
       " 'blank0040',\n",
       " 'blank0041',\n",
       " 'blank0042',\n",
       " 'blank0043',\n",
       " 'blank0044',\n",
       " 'blank0045',\n",
       " 'blank0046',\n",
       " 'blank0047',\n",
       " 'blank0048',\n",
       " 'blank0049',\n",
       " 'blank0050',\n",
       " 'blank0051',\n",
       " 'blank0052',\n",
       " 'blank0053',\n",
       " 'blank0054',\n",
       " 'blank0055',\n",
       " 'blank0056',\n",
       " 'blank0057',\n",
       " 'blank0058',\n",
       " 'blank0059',\n",
       " 'blank0060',\n",
       " 'blank0061',\n",
       " 'blank0062',\n",
       " 'blank0063',\n",
       " 'blank0064',\n",
       " 'blank0065',\n",
       " 'blank0066',\n",
       " 'blank0067',\n",
       " 'blank0068',\n",
       " 'blank0069',\n",
       " 'blank0070',\n",
       " 'blank0071',\n",
       " 'blank0072',\n",
       " 'blank0073',\n",
       " 'blank0074',\n",
       " 'blank0075',\n",
       " 'blank0076',\n",
       " 'blank0077',\n",
       " 'blank0078',\n",
       " 'blank0079',\n",
       " 'blank0080',\n",
       " 'blank0081',\n",
       " 'blank0082',\n",
       " 'blank0083',\n",
       " 'blank0084',\n",
       " 'blank0085',\n",
       " 'blank0086',\n",
       " 'blank0087',\n",
       " 'blank0088',\n",
       " 'blank0089',\n",
       " 'blank0090',\n",
       " 'blank0091',\n",
       " 'blank0092',\n",
       " 'blank0093',\n",
       " 'blank0094',\n",
       " 'blank0095',\n",
       " 'blank0096',\n",
       " 'blank0097',\n",
       " 'blank0098',\n",
       " 'blank0099',\n",
       " 'blank0100',\n",
       " 'blank0101',\n",
       " 'blank0102',\n",
       " 'blank0103',\n",
       " 'blank0104',\n",
       " 'blank0105',\n",
       " 'blank0106',\n",
       " 'blank0107',\n",
       " 'blank0108',\n",
       " 'blank0109',\n",
       " 'blank0110',\n",
       " 'blank0111',\n",
       " 'blank0112',\n",
       " 'blank0113',\n",
       " 'blank0114',\n",
       " 'blank0115',\n",
       " 'blank0116',\n",
       " 'blank0117',\n",
       " 'blank0118',\n",
       " 'blank0119',\n",
       " 'blank0120',\n",
       " 'blank0121',\n",
       " 'blank0122',\n",
       " 'blank0123',\n",
       " 'blank0124',\n",
       " 'blank0125',\n",
       " 'blank0126',\n",
       " 'blank0127',\n",
       " 'blank0128',\n",
       " 'blank0129',\n",
       " 'blank0130',\n",
       " 'blank0131',\n",
       " 'blank0132',\n",
       " 'blank0133',\n",
       " 'blank0134',\n",
       " 'blank0135',\n",
       " 'blank0136',\n",
       " 'blank0137',\n",
       " 'blank0138',\n",
       " 'blank0139',\n",
       " 'blank0140',\n",
       " 'blank0141',\n",
       " 'blank0142',\n",
       " 'blank0143',\n",
       " 'blank0144',\n",
       " 'blank0145',\n",
       " 'blank0146',\n",
       " 'blank0147',\n",
       " 'blank0148',\n",
       " 'blank0149',\n",
       " 'blank0150',\n",
       " 'blank0151',\n",
       " 'blank0152',\n",
       " 'blank0153',\n",
       " 'blank0154',\n",
       " 'blank0155',\n",
       " 'blank0156',\n",
       " 'blank0157',\n",
       " 'blank0158',\n",
       " 'blank0159',\n",
       " 'blank0160',\n",
       " 'blank0161',\n",
       " 'blank0162',\n",
       " 'blank0163',\n",
       " 'blank0164',\n",
       " 'blank0165',\n",
       " 'blank0166',\n",
       " 'blank0167',\n",
       " 'blank0168',\n",
       " 'blank0169',\n",
       " 'blank0170',\n",
       " 'blank0171',\n",
       " 'blank0172',\n",
       " 'blank0173',\n",
       " 'blank0174',\n",
       " 'blank0175',\n",
       " 'blank0176',\n",
       " 'blank0177',\n",
       " 'blank0178',\n",
       " 'blank0179',\n",
       " 'blank0180',\n",
       " 'blank0181',\n",
       " 'blank0182',\n",
       " 'blank0183',\n",
       " 'blank0184',\n",
       " 'blank0185',\n",
       " 'blank0186',\n",
       " 'blank0187',\n",
       " 'blank0188',\n",
       " 'blank0189',\n",
       " 'blank0190',\n",
       " 'blank0191',\n",
       " 'blank0192',\n",
       " 'blank0193',\n",
       " 'blank0194',\n",
       " 'blank0195',\n",
       " 'blank0196',\n",
       " 'blank0197',\n",
       " 'blank0198',\n",
       " 'blank0199',\n",
       " 'blank0200',\n",
       " 'blank0201',\n",
       " 'blank0202',\n",
       " 'blank0203',\n",
       " 'blank0204',\n",
       " 'blank0205',\n",
       " 'blank0206',\n",
       " 'blank0207',\n",
       " 'blank0208',\n",
       " 'blank0209',\n",
       " 'blank0210',\n",
       " 'blank0211',\n",
       " 'blank0212',\n",
       " 'blank0213',\n",
       " 'blank0214',\n",
       " 'blank0215',\n",
       " 'blank0216',\n",
       " 'blank0217',\n",
       " 'blank0218',\n",
       " 'blank0219',\n",
       " 'blank0220',\n",
       " 'blank0221',\n",
       " 'blank0222',\n",
       " 'blank0223',\n",
       " 'blank0224',\n",
       " 'blank0225',\n",
       " 'blank0226',\n",
       " 'blank0227',\n",
       " 'blank0228',\n",
       " 'blank0229',\n",
       " 'blank0230',\n",
       " 'blank0231',\n",
       " 'blank0232',\n",
       " 'blank0233',\n",
       " 'blank0234',\n",
       " 'blank0235',\n",
       " 'blank0236',\n",
       " 'blank0237',\n",
       " 'blank0238',\n",
       " 'blank0239',\n",
       " 'blank0240',\n",
       " 'blank0241',\n",
       " 'blank0242',\n",
       " 'blank0243',\n",
       " 'blank0244',\n",
       " 'blank0245',\n",
       " 'blank0246',\n",
       " 'blank0248',\n",
       " 'blank0249',\n",
       " 'blank0250',\n",
       " 'blank0251',\n",
       " 'blank0252',\n",
       " 'blank0253',\n",
       " 'blank0254',\n",
       " 'blank0255',\n",
       " 'blank0256',\n",
       " 'blank0257',\n",
       " 'blank0258',\n",
       " 'blank0259',\n",
       " 'blank0260',\n",
       " 'blank0261',\n",
       " 'blank0262',\n",
       " 'blank0263',\n",
       " 'blank0264',\n",
       " 'blank0265',\n",
       " 'blank0266',\n",
       " 'blank0267',\n",
       " 'blank0268',\n",
       " 'blank0269',\n",
       " 'blank0270',\n",
       " 'blank0271',\n",
       " 'blank0272',\n",
       " 'blank0273',\n",
       " 'blank0274',\n",
       " 'blank0275',\n",
       " 'blank0276',\n",
       " 'blank0277',\n",
       " 'blank0278',\n",
       " 'blank0279',\n",
       " 'blank0280',\n",
       " 'blank0281',\n",
       " 'blank0282',\n",
       " 'blank0283',\n",
       " 'blank0284',\n",
       " 'blank0285',\n",
       " 'blank0286',\n",
       " 'blank0287',\n",
       " 'blank0288',\n",
       " 'blank0289',\n",
       " 'blank0290',\n",
       " 'blank0291',\n",
       " 'blank0292',\n",
       " 'blank0293',\n",
       " 'blank0294',\n",
       " 'blank0295',\n",
       " 'blank0296',\n",
       " 'blank0297',\n",
       " 'blank0298',\n",
       " 'blank0299',\n",
       " 'blank0300',\n",
       " 'blank0247']"
      ]
     },
     "execution_count": 57,
     "metadata": {},
     "output_type": "execute_result"
    }
   ],
   "source": [
    "list(df.keys())"
   ]
  },
  {
   "cell_type": "code",
   "execution_count": null,
   "id": "4818f9bb-8583-4507-ba0d-5b00941528e1",
   "metadata": {},
   "outputs": [],
   "source": []
  },
  {
   "cell_type": "code",
   "execution_count": null,
   "id": "488e8c82-5722-44a3-859b-25f4af66cfbe",
   "metadata": {},
   "outputs": [],
   "source": []
  },
  {
   "cell_type": "code",
   "execution_count": 81,
   "id": "a95e9c09-dae6-45e2-9e1e-640f09840730",
   "metadata": {},
   "outputs": [],
   "source": [
    "[read_im(fld+os.sep+dec.fov_,return_pos=True)[1:] for fld in dec.fls_drifts]\n",
    "icls = [icl for icl in cell_df.index if icl//10**5==542]\n",
    "cell_df_ = cell_df.loc[icls].copy()\n",
    "cell_df_['xfov']=273.0\n",
    "cell_df.loc[icls]=cell_df_#['xfov']\n",
    "cell_df.loc[icls]"
   ]
  },
  {
   "cell_type": "code",
   "execution_count": 86,
   "id": "72d716ef-94e1-4701-97f5-819872635868",
   "metadata": {
    "tags": []
   },
   "outputs": [
    {
     "data": {
      "text/plain": [
       "54200001   -34.299999\n",
       "54200002   -34.299999\n",
       "54200003   -34.299999\n",
       "54200004   -34.299999\n",
       "54200005   -34.299999\n",
       "              ...    \n",
       "54200394   -34.299999\n",
       "54200395   -34.299999\n",
       "54200396   -34.299999\n",
       "54200397   -34.299999\n",
       "54200398   -34.299999\n",
       "Name: xfov, Length: 398, dtype: float32"
      ]
     },
     "execution_count": 86,
     "metadata": {},
     "output_type": "execute_result"
    }
   ],
   "source": [
    "cell_df.loc[icls]['xfov']=273.0\n",
    "cell_df.loc[icls]['xfov']"
   ]
  },
  {
   "cell_type": "code",
   "execution_count": 99,
   "id": "71d24be1-e12d-4795-8cc5-27cb61aeea97",
   "metadata": {
    "tags": []
   },
   "outputs": [
    {
     "data": {
      "text/html": [
       "<div>\n",
       "<style scoped>\n",
       "    .dataframe tbody tr th:only-of-type {\n",
       "        vertical-align: middle;\n",
       "    }\n",
       "\n",
       "    .dataframe tbody tr th {\n",
       "        vertical-align: top;\n",
       "    }\n",
       "\n",
       "    .dataframe thead th {\n",
       "        text-align: right;\n",
       "    }\n",
       "</style>\n",
       "<table border=\"1\" class=\"dataframe\">\n",
       "  <thead>\n",
       "    <tr style=\"text-align: right;\">\n",
       "      <th></th>\n",
       "      <th>cell_id</th>\n",
       "      <th>volm</th>\n",
       "      <th>zc</th>\n",
       "      <th>xc</th>\n",
       "      <th>yc</th>\n",
       "      <th>xfov</th>\n",
       "      <th>yfov</th>\n",
       "    </tr>\n",
       "  </thead>\n",
       "  <tbody>\n",
       "    <tr>\n",
       "      <th>54200001</th>\n",
       "      <td>1.0</td>\n",
       "      <td>5785.0</td>\n",
       "      <td>2.762316</td>\n",
       "      <td>11.630251</td>\n",
       "      <td>164.134827</td>\n",
       "      <td>273.0</td>\n",
       "      <td>678.200012</td>\n",
       "    </tr>\n",
       "    <tr>\n",
       "      <th>54200002</th>\n",
       "      <td>2.0</td>\n",
       "      <td>6056.0</td>\n",
       "      <td>3.323316</td>\n",
       "      <td>13.758752</td>\n",
       "      <td>226.378632</td>\n",
       "      <td>273.0</td>\n",
       "      <td>678.200012</td>\n",
       "    </tr>\n",
       "    <tr>\n",
       "      <th>54200003</th>\n",
       "      <td>3.0</td>\n",
       "      <td>11083.0</td>\n",
       "      <td>3.295859</td>\n",
       "      <td>28.996210</td>\n",
       "      <td>111.375076</td>\n",
       "      <td>273.0</td>\n",
       "      <td>678.200012</td>\n",
       "    </tr>\n",
       "    <tr>\n",
       "      <th>54200004</th>\n",
       "      <td>4.0</td>\n",
       "      <td>8767.0</td>\n",
       "      <td>3.083723</td>\n",
       "      <td>42.724991</td>\n",
       "      <td>228.638412</td>\n",
       "      <td>273.0</td>\n",
       "      <td>678.200012</td>\n",
       "    </tr>\n",
       "    <tr>\n",
       "      <th>54200005</th>\n",
       "      <td>5.0</td>\n",
       "      <td>4793.0</td>\n",
       "      <td>2.643647</td>\n",
       "      <td>46.587315</td>\n",
       "      <td>303.253693</td>\n",
       "      <td>273.0</td>\n",
       "      <td>678.200012</td>\n",
       "    </tr>\n",
       "    <tr>\n",
       "      <th>...</th>\n",
       "      <td>...</td>\n",
       "      <td>...</td>\n",
       "      <td>...</td>\n",
       "      <td>...</td>\n",
       "      <td>...</td>\n",
       "      <td>...</td>\n",
       "      <td>...</td>\n",
       "    </tr>\n",
       "    <tr>\n",
       "      <th>54200394</th>\n",
       "      <td>394.0</td>\n",
       "      <td>7282.0</td>\n",
       "      <td>3.745812</td>\n",
       "      <td>17.216013</td>\n",
       "      <td>24.960726</td>\n",
       "      <td>273.0</td>\n",
       "      <td>678.200012</td>\n",
       "    </tr>\n",
       "    <tr>\n",
       "      <th>54200395</th>\n",
       "      <td>395.0</td>\n",
       "      <td>85.0</td>\n",
       "      <td>6.564706</td>\n",
       "      <td>689.294128</td>\n",
       "      <td>412.952942</td>\n",
       "      <td>273.0</td>\n",
       "      <td>678.200012</td>\n",
       "    </tr>\n",
       "    <tr>\n",
       "      <th>54200396</th>\n",
       "      <td>396.0</td>\n",
       "      <td>628.0</td>\n",
       "      <td>4.855095</td>\n",
       "      <td>87.240448</td>\n",
       "      <td>91.662422</td>\n",
       "      <td>273.0</td>\n",
       "      <td>678.200012</td>\n",
       "    </tr>\n",
       "    <tr>\n",
       "      <th>54200397</th>\n",
       "      <td>397.0</td>\n",
       "      <td>1268.0</td>\n",
       "      <td>5.938486</td>\n",
       "      <td>85.050476</td>\n",
       "      <td>255.039429</td>\n",
       "      <td>273.0</td>\n",
       "      <td>678.200012</td>\n",
       "    </tr>\n",
       "    <tr>\n",
       "      <th>54200398</th>\n",
       "      <td>398.0</td>\n",
       "      <td>1510.0</td>\n",
       "      <td>6.174834</td>\n",
       "      <td>647.221191</td>\n",
       "      <td>382.814575</td>\n",
       "      <td>273.0</td>\n",
       "      <td>678.200012</td>\n",
       "    </tr>\n",
       "  </tbody>\n",
       "</table>\n",
       "<p>398 rows × 7 columns</p>\n",
       "</div>"
      ],
      "text/plain": [
       "          cell_id     volm        zc          xc          yc   xfov  \\\n",
       "54200001      1.0   5785.0  2.762316   11.630251  164.134827  273.0   \n",
       "54200002      2.0   6056.0  3.323316   13.758752  226.378632  273.0   \n",
       "54200003      3.0  11083.0  3.295859   28.996210  111.375076  273.0   \n",
       "54200004      4.0   8767.0  3.083723   42.724991  228.638412  273.0   \n",
       "54200005      5.0   4793.0  2.643647   46.587315  303.253693  273.0   \n",
       "...           ...      ...       ...         ...         ...    ...   \n",
       "54200394    394.0   7282.0  3.745812   17.216013   24.960726  273.0   \n",
       "54200395    395.0     85.0  6.564706  689.294128  412.952942  273.0   \n",
       "54200396    396.0    628.0  4.855095   87.240448   91.662422  273.0   \n",
       "54200397    397.0   1268.0  5.938486   85.050476  255.039429  273.0   \n",
       "54200398    398.0   1510.0  6.174834  647.221191  382.814575  273.0   \n",
       "\n",
       "                yfov  \n",
       "54200001  678.200012  \n",
       "54200002  678.200012  \n",
       "54200003  678.200012  \n",
       "54200004  678.200012  \n",
       "54200005  678.200012  \n",
       "...              ...  \n",
       "54200394  678.200012  \n",
       "54200395  678.200012  \n",
       "54200396  678.200012  \n",
       "54200397  678.200012  \n",
       "54200398  678.200012  \n",
       "\n",
       "[398 rows x 7 columns]"
      ]
     },
     "execution_count": 99,
     "metadata": {},
     "output_type": "execute_result"
    }
   ],
   "source": []
  },
  {
   "cell_type": "code",
   "execution_count": null,
   "id": "59c8ee51-81cd-4ebd-afd9-9d65c6fd30a9",
   "metadata": {},
   "outputs": [],
   "source": []
  }
 ],
 "metadata": {
  "kernelspec": {
   "display_name": "Python 3 (ipykernel)",
   "language": "python",
   "name": "python3"
  },
  "language_info": {
   "codemirror_mode": {
    "name": "ipython",
    "version": 3
   },
   "file_extension": ".py",
   "mimetype": "text/x-python",
   "name": "python",
   "nbconvert_exporter": "python",
   "pygments_lexer": "ipython3",
   "version": "3.8.16"
  }
 },
 "nbformat": 4,
 "nbformat_minor": 5
}
