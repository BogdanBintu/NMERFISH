{
 "cells": [
  {
   "cell_type": "code",
   "execution_count": 2,
   "id": "deaed47d-4f52-42c0-89d8-684b4390821e",
   "metadata": {
    "tags": []
   },
   "outputs": [],
   "source": [
    "import sys,os\n",
    "sys.path.append(os.path.dirname(os.path.abspath('')))\n",
    "from ioMicro import *\n",
    "fls_all = glob.glob(r'\\\\192.168.0.100\\bbfish100\\DCBBL1_4week_6_2_2023\\H*_MER_set*\\*.zarr')"
   ]
  },
  {
   "cell_type": "code",
   "execution_count": 3,
   "id": "21a51a57-5a7c-4213-981d-daacba134a6b",
   "metadata": {
    "tags": []
   },
   "outputs": [],
   "source": [
    "np.save('temp_fls_all.npy',fls_all)"
   ]
  },
  {
   "cell_type": "code",
   "execution_count": null,
   "id": "a8c0268f-5a4e-45b4-b157-f3c1f52298b7",
   "metadata": {},
   "outputs": [],
   "source": [
    "\n",
    "\\\\192.168.0.100\\bbfish100\\DCBBL1_4week_6_2_2023\\H1_MER_set1\\697\\data\\2.0.0"
   ]
  },
  {
   "cell_type": "code",
   "execution_count": 6,
   "id": "0d7ecc10-9204-41a3-bff5-86f12fa6adc0",
   "metadata": {
    "tags": []
   },
   "outputs": [
    {
     "name": "stderr",
     "output_type": "stream",
     "text": [
      " 49%|█████████████████████████████████████▌                                       | 6728/13776 [08:05<01:47, 65.46it/s]"
     ]
    },
    {
     "name": "stdout",
     "output_type": "stream",
     "text": [
      "Corrupted \\\\192.168.0.100\\bbfish100\\DCBBL1_4week_6_2_2023\\H1_MER_set1\\Conv_zscan__693.zarr\n",
      "Corrupted \\\\192.168.0.100\\bbfish100\\DCBBL1_4week_6_2_2023\\H1_MER_set1\\Conv_zscan__694.zarr\n",
      "Corrupted \\\\192.168.0.100\\bbfish100\\DCBBL1_4week_6_2_2023\\H1_MER_set1\\Conv_zscan__695.zarr\n",
      "Corrupted \\\\192.168.0.100\\bbfish100\\DCBBL1_4week_6_2_2023\\H1_MER_set1\\Conv_zscan__696.zarr\n",
      "Corrupted \\\\192.168.0.100\\bbfish100\\DCBBL1_4week_6_2_2023\\H1_MER_set1\\Conv_zscan__697.zarr\n"
     ]
    },
    {
     "name": "stderr",
     "output_type": "stream",
     "text": [
      " 49%|█████████████████████████████████████▋                                       | 6742/13776 [08:06<02:19, 50.48it/s]"
     ]
    },
    {
     "name": "stdout",
     "output_type": "stream",
     "text": [
      "Corrupted \\\\192.168.0.100\\bbfish100\\DCBBL1_4week_6_2_2023\\H1_MER_set2\\Conv_zscan__013.zarr\n"
     ]
    },
    {
     "name": "stderr",
     "output_type": "stream",
     "text": [
      "100%|████████████████████████████████████████████████████████████████████████████| 13776/13776 [16:36<00:00, 13.82it/s]\n"
     ]
    }
   ],
   "source": [
    "bad_fls = []\n",
    "for fl in tqdm(fls_all):\n",
    "    try:\n",
    "        read_im(fl)\n",
    "    except:\n",
    "        print(\"Corrupted\",fl)\n",
    "        bad_fls.append(fl)"
   ]
  },
  {
   "cell_type": "code",
   "execution_count": null,
   "id": "5d844df5-582b-4d1a-a21e-e731d1135b4f",
   "metadata": {},
   "outputs": [],
   "source": [
    "import zarr\n",
    "\n",
    "# Load the group\n",
    "group = zarr.open(\"my_group.zarr\")\n",
    "\n",
    "# Get the frame\n",
    "frame = group[\"frame_name\"]"
   ]
  },
  {
   "cell_type": "code",
   "execution_count": 67,
   "id": "98afcbaa-699e-464f-9ec0-5ed65d1fcb8b",
   "metadata": {
    "tags": []
   },
   "outputs": [],
   "source": [
    "fl =r'\\\\192.168.0.100\\bbfish100\\DCBBL1_4week_6_2_2023\\H1_MER_set2\\Conv_zscan__002.zarr'\n",
    "im = read_im(fl)\n",
    "#import napari\n",
    "#napari.view_image(im);"
   ]
  },
  {
   "cell_type": "code",
   "execution_count": null,
   "id": "31258d00-bef4-4318-a65d-9b5bf331d9ed",
   "metadata": {},
   "outputs": [],
   "source": [
    "#np.array(im[-1])"
   ]
  },
  {
   "cell_type": "code",
   "execution_count": 96,
   "id": "c900f3aa-7f54-4167-9d89-086c3d0d29d2",
   "metadata": {
    "tags": []
   },
   "outputs": [],
   "source": []
  },
  {
   "cell_type": "code",
   "execution_count": 100,
   "id": "438b65f5-e5bf-464a-8991-2a452278c9af",
   "metadata": {
    "tags": []
   },
   "outputs": [
    {
     "name": "stdout",
     "output_type": "stream",
     "text": [
      "bad 0\n",
      "bad 1\n",
      "bad 2\n",
      "bad 3\n",
      "bad 4\n",
      "bad 5\n",
      "bad 6\n",
      "bad 7\n",
      "bad 8\n",
      "bad 9\n",
      "bad 10\n",
      "bad 11\n",
      "bad 12\n",
      "bad 13\n",
      "bad 14\n",
      "bad 15\n",
      "bad 16\n",
      "bad 17\n",
      "bad 18\n",
      "bad 19\n",
      "bad 20\n",
      "bad 21\n",
      "bad 22\n",
      "bad 23\n",
      "bad 24\n",
      "bad 25\n",
      "bad 26\n",
      "bad 27\n",
      "bad 28\n",
      "bad 29\n",
      "bad 30\n",
      "bad 31\n",
      "bad 32\n",
      "bad 33\n",
      "bad 34\n",
      "bad 35\n",
      "bad 36\n",
      "bad 37\n",
      "bad 38\n",
      "bad 39\n",
      "bad 40\n",
      "bad 41\n",
      "bad 42\n",
      "bad 43\n",
      "bad 44\n",
      "bad 45\n",
      "bad 46\n",
      "bad 47\n",
      "bad 48\n",
      "bad 49\n",
      "bad 50\n",
      "bad 51\n",
      "bad 52\n",
      "bad 53\n",
      "bad 54\n",
      "bad 55\n",
      "bad 56\n",
      "bad 57\n",
      "bad 58\n",
      "bad 59\n",
      "bad 60\n",
      "bad 61\n",
      "bad 62\n",
      "bad 63\n",
      "bad 64\n",
      "bad 65\n",
      "bad 66\n",
      "bad 67\n",
      "bad 68\n",
      "bad 69\n",
      "bad 70\n",
      "bad 71\n",
      "bad 72\n",
      "bad 73\n",
      "bad 74\n",
      "bad 75\n",
      "bad 76\n",
      "bad 77\n",
      "bad 78\n",
      "bad 79\n",
      "bad 80\n",
      "bad 81\n",
      "bad 82\n",
      "bad 83\n",
      "bad 84\n",
      "bad 85\n",
      "bad 86\n",
      "bad 87\n",
      "bad 88\n",
      "bad 89\n",
      "bad 90\n",
      "bad 91\n",
      "bad 92\n",
      "bad 93\n",
      "bad 94\n",
      "bad 95\n",
      "bad 96\n",
      "bad 97\n",
      "bad 98\n",
      "bad 99\n",
      "bad 100\n",
      "bad 101\n",
      "bad 102\n",
      "bad 103\n",
      "bad 104\n",
      "bad 105\n",
      "bad 106\n",
      "bad 107\n",
      "bad 108\n",
      "bad 109\n",
      "bad 110\n",
      "bad 111\n",
      "bad 112\n",
      "bad 113\n",
      "bad 114\n",
      "bad 115\n",
      "bad 116\n",
      "bad 117\n",
      "bad 118\n",
      "bad 119\n",
      "bad 120\n",
      "bad 121\n",
      "bad 122\n",
      "bad 123\n",
      "bad 124\n",
      "bad 125\n",
      "bad 126\n",
      "bad 127\n",
      "bad 128\n",
      "bad 129\n",
      "bad 130\n",
      "bad 131\n",
      "bad 132\n",
      "bad 133\n",
      "bad 134\n",
      "bad 135\n",
      "bad 136\n",
      "bad 137\n",
      "bad 138\n",
      "bad 139\n",
      "bad 140\n",
      "bad 141\n",
      "bad 142\n",
      "bad 143\n",
      "bad 144\n",
      "bad 145\n",
      "bad 146\n",
      "bad 147\n"
     ]
    }
   ],
   "source": [
    "fov ='013'\n",
    "fl =r'\\\\192.168.0.100\\bbfish100\\DCBBL1_4week_6_2_2023\\H1_MER_set2\\Conv_zscan__'+fov+'.zarr'\n",
    "im = read_im(fl)\n",
    "fls_t = glob.glob(r'\\\\192.168.0.100\\bbfish100\\DCBBL1_4week_6_2_2023\\H1_MER_set2'+os.sep+fov+os.sep+r'data\\*.0')\n",
    "fls_t = np.array(fls_t)[np.argsort([int(os.path.basename(fl).split('.')[0])for fl in fls_t])]\n",
    "bad_frs = []\n",
    "ifr_ = 0\n",
    "for ifr in range(len(im[0])):\n",
    "    for im_ in im:\n",
    "        try:\n",
    "            np.array(im_[ifr])\n",
    "            print(\"good\",ifr_)\n",
    "        except:\n",
    "            print(\"bad\",ifr_)\n",
    "            bad_frs.append(ifr_)\n",
    "        ifr_+=1"
   ]
  },
  {
   "cell_type": "code",
   "execution_count": 95,
   "id": "4cc863a3-2290-49ff-bac0-53885880a6f7",
   "metadata": {
    "tags": []
   },
   "outputs": [
    {
     "data": {
      "text/plain": [
       "[]"
      ]
     },
     "execution_count": 95,
     "metadata": {},
     "output_type": "execute_result"
    }
   ],
   "source": [
    "bad_frs"
   ]
  },
  {
   "cell_type": "code",
   "execution_count": null,
   "id": "1839c1fb-be76-4545-baee-8d16180b606c",
   "metadata": {},
   "outputs": [],
   "source": []
  },
  {
   "cell_type": "code",
   "execution_count": null,
   "id": "08ddffca-9cd9-445c-a885-4fa2ff0e8801",
   "metadata": {},
   "outputs": [],
   "source": [
    "0.zarr\n",
    "Failed \\\\192.168.0.100\\bbfish100\\DCBBL1_4week_6_2_2023\\H1_MER_set2\\Conv_zscan__011.zarr\n",
    "Failed \\\\192.168.0.100\\bbfish100\\DCBBL1_4week_6_2_2023\\H1_MER_set2\\Conv_zscan__012.zarr\n",
    " 83%|██████████████████████████████████████████████████████████████████▏             | 712/861 [03:06<05:23,  2.17s/it]\n",
    "Failed \\\\192.168.0.100\\bbfish100\\DCBBL1_4week_6_2_2023\\H1_MER_set2\\Conv_zscan__013.zarr"
   ]
  },
  {
   "cell_type": "code",
   "execution_count": 85,
   "id": "0c87a85c-8091-41a8-acac-c89794438aa6",
   "metadata": {
    "tags": []
   },
   "outputs": [
    {
     "data": {
      "text/plain": [
       "array(['\\\\\\\\192.168.0.100\\\\bbfish100\\\\DCBBL1_4week_6_2_2023\\\\H1_MER_set2\\\\002\\\\data\\\\109.0.0',\n",
       "       '\\\\\\\\192.168.0.100\\\\bbfish100\\\\DCBBL1_4week_6_2_2023\\\\H1_MER_set2\\\\002\\\\data\\\\110.0.0',\n",
       "       '\\\\\\\\192.168.0.100\\\\bbfish100\\\\DCBBL1_4week_6_2_2023\\\\H1_MER_set2\\\\002\\\\data\\\\111.0.0',\n",
       "       '\\\\\\\\192.168.0.100\\\\bbfish100\\\\DCBBL1_4week_6_2_2023\\\\H1_MER_set2\\\\002\\\\data\\\\112.0.0'],\n",
       "      dtype='<U76')"
      ]
     },
     "execution_count": 85,
     "metadata": {},
     "output_type": "execute_result"
    }
   ],
   "source": [
    "fls_t[bad_frs]"
   ]
  },
  {
   "cell_type": "code",
   "execution_count": 91,
   "id": "0f23b25b-f76b-46d7-92d9-e90faece2e40",
   "metadata": {
    "tags": []
   },
   "outputs": [
    {
     "name": "stdout",
     "output_type": "stream",
     "text": [
      "\\\\192.168.0.100\\bbfish100\\DCBBL1_4week_6_2_2023\\H1_MER_set2\\002\\data\\105.0.0 \\\\192.168.0.100\\bbfish100\\DCBBL1_4week_6_2_2023\\H1_MER_set2\\002\\data\\109.0.0\n",
      "\\\\192.168.0.100\\bbfish100\\DCBBL1_4week_6_2_2023\\H1_MER_set2\\002\\data\\106.0.0 \\\\192.168.0.100\\bbfish100\\DCBBL1_4week_6_2_2023\\H1_MER_set2\\002\\data\\110.0.0\n",
      "\\\\192.168.0.100\\bbfish100\\DCBBL1_4week_6_2_2023\\H1_MER_set2\\002\\data\\107.0.0 \\\\192.168.0.100\\bbfish100\\DCBBL1_4week_6_2_2023\\H1_MER_set2\\002\\data\\111.0.0\n",
      "\\\\192.168.0.100\\bbfish100\\DCBBL1_4week_6_2_2023\\H1_MER_set2\\002\\data\\108.0.0 \\\\192.168.0.100\\bbfish100\\DCBBL1_4week_6_2_2023\\H1_MER_set2\\002\\data\\112.0.0\n"
     ]
    }
   ],
   "source": [
    "good_fls = fls_t[np.array(bad_frs)-4]\n",
    "bad_fls = fls_t[bad_frs]\n",
    "import shutil,os\n",
    "for ifl in np.arange(len(bad_fls)):\n",
    "    good_fl = good_fls[ifl%len(good_fls)]\n",
    "    bad_fl = bad_fls[ifl]\n",
    "    if os.path.exists(bad_fl): os.remove(bad_fl)\n",
    "    shutil.copy2(good_fl,bad_fl)\n",
    "    print(good_fl,bad_fl)"
   ]
  },
  {
   "cell_type": "code",
   "execution_count": 59,
   "id": "d1f01f9a-8b8e-479c-892f-9852c9095b70",
   "metadata": {
    "tags": []
   },
   "outputs": [],
   "source": [
    "fl =r'\\\\192.168.0.100\\bbfish100\\DCBBL1_4week_6_2_2023\\H1_MER_set2\\Conv_zscan__005.zarr'\n",
    "im = read_im(fl)"
   ]
  },
  {
   "cell_type": "code",
   "execution_count": 62,
   "id": "e2430f00-6cdc-47f7-8ebf-adf65e21fbd3",
   "metadata": {
    "tags": []
   },
   "outputs": [
    {
     "data": {
      "text/plain": [
       "Viewer(axes=Axes(visible=False, labels=True, colored=True, dashed=False, arrows=True), camera=Camera(center=(0.0, 1499.5, 1499.5), zoom=0.11589999999999999, angles=(0.0, 0.0, 90.0), perspective=0.0, interactive=True), cursor=Cursor(position=(2.0, 18.0, 0.0, 0.0), scaled=True, size=1, style=<CursorStyle.STANDARD: 'standard'>), dims=Dims(ndim=4, ndisplay=2, last_used=0, range=((0.0, 4.0, 1.0), (0.0, 37.0, 1.0), (0.0, 3000.0, 1.0), (0.0, 3000.0, 1.0)), current_step=(2, 18, 1500, 1500), order=(0, 1, 2, 3), axis_labels=('0', '1', '2', '3')), grid=GridCanvas(stride=1, shape=(-1, -1), enabled=False), layers=[<Image layer 'im' at 0x223d27f2e50>], scale_bar=ScaleBar(visible=False, colored=False, color=array([1., 0., 1., 1.], dtype=float32), ticks=True, position=<Position.BOTTOM_RIGHT: 'bottom_right'>, font_size=10.0, box=False, box_color=array([0. , 0. , 0. , 0.6], dtype=float32), unit=None), text_overlay=TextOverlay(visible=False, color=array([0.5, 0.5, 0.5, 1. ], dtype=float32), font_size=10.0, position=<TextOverlayPosition.TOP_LEFT: 'top_left'>, text=''), overlays=Overlays(interaction_box=InteractionBox(points=None, show=False, show_handle=False, show_vertices=False, selection_box_drag=None, selection_box_final=None, transform_start=<napari.utils.transforms.transforms.Affine object at 0x0000022456544A30>, transform_drag=<napari.utils.transforms.transforms.Affine object at 0x0000022456544A90>, transform_final=<napari.utils.transforms.transforms.Affine object at 0x0000022456544AF0>, transform=<napari.utils.transforms.transforms.Affine object at 0x0000022456544B50>, allow_new_selection=True, selected_vertex=None)), help='', status='Ready', tooltip=Tooltip(visible=False, text=''), theme='dark', title='napari', mouse_over_canvas=False, mouse_move_callbacks=[<function InteractionBoxMouseBindings.initialize_mouse_events.<locals>.mouse_move at 0x00000223BA9C3040>], mouse_drag_callbacks=[<function InteractionBoxMouseBindings.initialize_mouse_events.<locals>.mouse_drag at 0x00000223BA9E7430>], mouse_double_click_callbacks=[], mouse_wheel_callbacks=[<function dims_scroll at 0x0000022326850430>], _persisted_mouse_event={}, _mouse_drag_gen={}, _mouse_wheel_gen={}, keymap={'Shift': <function InteractionBoxMouseBindings.initialize_key_events.<locals>.hold_to_lock_aspect_ratio at 0x00000223BA9E7B80>, 'Control-Shift-R': <function InteractionBoxMouseBindings._reset_active_layer_affine at 0x00000223BA9E7700>, 'Control-Shift-A': <function InteractionBoxMouseBindings._transform_active_layer at 0x00000223BA9E7E50>})"
      ]
     },
     "execution_count": 62,
     "metadata": {},
     "output_type": "execute_result"
    }
   ],
   "source": [
    "napari.view_image(im)"
   ]
  },
  {
   "cell_type": "code",
   "execution_count": 64,
   "id": "34689607-16be-4aba-a95b-ac0fd3342fc5",
   "metadata": {
    "tags": []
   },
   "outputs": [
    {
     "data": {
      "text/plain": [
       "[('\\\\\\\\192.168.0.100\\\\bbfish100\\\\DCBBL1_4week_6_2_2023\\\\H1_MER_set2\\\\002\\\\data\\\\1.0.0',\n",
       "  1443096447),\n",
       " ('\\\\\\\\192.168.0.100\\\\bbfish100\\\\DCBBL1_4week_6_2_2023\\\\H1_MER_set2\\\\002\\\\data\\\\2.0.0',\n",
       "  1474809646),\n",
       " ('\\\\\\\\192.168.0.100\\\\bbfish100\\\\DCBBL1_4week_6_2_2023\\\\H1_MER_set2\\\\002\\\\data\\\\3.0.0',\n",
       "  1418642337),\n",
       " ('\\\\\\\\192.168.0.100\\\\bbfish100\\\\DCBBL1_4week_6_2_2023\\\\H1_MER_set2\\\\002\\\\data\\\\4.0.0',\n",
       "  1387284805),\n",
       " ('\\\\\\\\192.168.0.100\\\\bbfish100\\\\DCBBL1_4week_6_2_2023\\\\H1_MER_set2\\\\002\\\\data\\\\5.0.0',\n",
       "  1444436167),\n",
       " ('\\\\\\\\192.168.0.100\\\\bbfish100\\\\DCBBL1_4week_6_2_2023\\\\H1_MER_set2\\\\002\\\\data\\\\6.0.0',\n",
       "  1480500201),\n",
       " ('\\\\\\\\192.168.0.100\\\\bbfish100\\\\DCBBL1_4week_6_2_2023\\\\H1_MER_set2\\\\002\\\\data\\\\7.0.0',\n",
       "  1423903667),\n",
       " ('\\\\\\\\192.168.0.100\\\\bbfish100\\\\DCBBL1_4week_6_2_2023\\\\H1_MER_set2\\\\002\\\\data\\\\8.0.0',\n",
       "  1386226228),\n",
       " ('\\\\\\\\192.168.0.100\\\\bbfish100\\\\DCBBL1_4week_6_2_2023\\\\H1_MER_set2\\\\002\\\\data\\\\9.0.0',\n",
       "  1449677929),\n",
       " ('\\\\\\\\192.168.0.100\\\\bbfish100\\\\DCBBL1_4week_6_2_2023\\\\H1_MER_set2\\\\002\\\\data\\\\10.0.0',\n",
       "  1484910457),\n",
       " ('\\\\\\\\192.168.0.100\\\\bbfish100\\\\DCBBL1_4week_6_2_2023\\\\H1_MER_set2\\\\002\\\\data\\\\11.0.0',\n",
       "  1429156155),\n",
       " ('\\\\\\\\192.168.0.100\\\\bbfish100\\\\DCBBL1_4week_6_2_2023\\\\H1_MER_set2\\\\002\\\\data\\\\12.0.0',\n",
       "  1385674547),\n",
       " ('\\\\\\\\192.168.0.100\\\\bbfish100\\\\DCBBL1_4week_6_2_2023\\\\H1_MER_set2\\\\002\\\\data\\\\13.0.0',\n",
       "  1453610942),\n",
       " ('\\\\\\\\192.168.0.100\\\\bbfish100\\\\DCBBL1_4week_6_2_2023\\\\H1_MER_set2\\\\002\\\\data\\\\14.0.0',\n",
       "  1487252674),\n",
       " ('\\\\\\\\192.168.0.100\\\\bbfish100\\\\DCBBL1_4week_6_2_2023\\\\H1_MER_set2\\\\002\\\\data\\\\15.0.0',\n",
       "  1433064337),\n",
       " ('\\\\\\\\192.168.0.100\\\\bbfish100\\\\DCBBL1_4week_6_2_2023\\\\H1_MER_set2\\\\002\\\\data\\\\16.0.0',\n",
       "  1385333243),\n",
       " ('\\\\\\\\192.168.0.100\\\\bbfish100\\\\DCBBL1_4week_6_2_2023\\\\H1_MER_set2\\\\002\\\\data\\\\17.0.0',\n",
       "  1455385817),\n",
       " ('\\\\\\\\192.168.0.100\\\\bbfish100\\\\DCBBL1_4week_6_2_2023\\\\H1_MER_set2\\\\002\\\\data\\\\18.0.0',\n",
       "  1489217344),\n",
       " ('\\\\\\\\192.168.0.100\\\\bbfish100\\\\DCBBL1_4week_6_2_2023\\\\H1_MER_set2\\\\002\\\\data\\\\19.0.0',\n",
       "  1435875375),\n",
       " ('\\\\\\\\192.168.0.100\\\\bbfish100\\\\DCBBL1_4week_6_2_2023\\\\H1_MER_set2\\\\002\\\\data\\\\20.0.0',\n",
       "  1384843433),\n",
       " ('\\\\\\\\192.168.0.100\\\\bbfish100\\\\DCBBL1_4week_6_2_2023\\\\H1_MER_set2\\\\002\\\\data\\\\21.0.0',\n",
       "  1456847992),\n",
       " ('\\\\\\\\192.168.0.100\\\\bbfish100\\\\DCBBL1_4week_6_2_2023\\\\H1_MER_set2\\\\002\\\\data\\\\22.0.0',\n",
       "  1488292336),\n",
       " ('\\\\\\\\192.168.0.100\\\\bbfish100\\\\DCBBL1_4week_6_2_2023\\\\H1_MER_set2\\\\002\\\\data\\\\23.0.0',\n",
       "  1436993972),\n",
       " ('\\\\\\\\192.168.0.100\\\\bbfish100\\\\DCBBL1_4week_6_2_2023\\\\H1_MER_set2\\\\002\\\\data\\\\24.0.0',\n",
       "  1383988984),\n",
       " ('\\\\\\\\192.168.0.100\\\\bbfish100\\\\DCBBL1_4week_6_2_2023\\\\H1_MER_set2\\\\002\\\\data\\\\25.0.0',\n",
       "  1457260295),\n",
       " ('\\\\\\\\192.168.0.100\\\\bbfish100\\\\DCBBL1_4week_6_2_2023\\\\H1_MER_set2\\\\002\\\\data\\\\26.0.0',\n",
       "  1488715744),\n",
       " ('\\\\\\\\192.168.0.100\\\\bbfish100\\\\DCBBL1_4week_6_2_2023\\\\H1_MER_set2\\\\002\\\\data\\\\27.0.0',\n",
       "  1437463074),\n",
       " ('\\\\\\\\192.168.0.100\\\\bbfish100\\\\DCBBL1_4week_6_2_2023\\\\H1_MER_set2\\\\002\\\\data\\\\28.0.0',\n",
       "  1383548705),\n",
       " ('\\\\\\\\192.168.0.100\\\\bbfish100\\\\DCBBL1_4week_6_2_2023\\\\H1_MER_set2\\\\002\\\\data\\\\29.0.0',\n",
       "  1457556970),\n",
       " ('\\\\\\\\192.168.0.100\\\\bbfish100\\\\DCBBL1_4week_6_2_2023\\\\H1_MER_set2\\\\002\\\\data\\\\30.0.0',\n",
       "  1489492287),\n",
       " ('\\\\\\\\192.168.0.100\\\\bbfish100\\\\DCBBL1_4week_6_2_2023\\\\H1_MER_set2\\\\002\\\\data\\\\31.0.0',\n",
       "  1437071431),\n",
       " ('\\\\\\\\192.168.0.100\\\\bbfish100\\\\DCBBL1_4week_6_2_2023\\\\H1_MER_set2\\\\002\\\\data\\\\32.0.0',\n",
       "  1383059033),\n",
       " ('\\\\\\\\192.168.0.100\\\\bbfish100\\\\DCBBL1_4week_6_2_2023\\\\H1_MER_set2\\\\002\\\\data\\\\33.0.0',\n",
       "  1456954293),\n",
       " ('\\\\\\\\192.168.0.100\\\\bbfish100\\\\DCBBL1_4week_6_2_2023\\\\H1_MER_set2\\\\002\\\\data\\\\34.0.0',\n",
       "  1488629987),\n",
       " ('\\\\\\\\192.168.0.100\\\\bbfish100\\\\DCBBL1_4week_6_2_2023\\\\H1_MER_set2\\\\002\\\\data\\\\35.0.0',\n",
       "  1436712196),\n",
       " ('\\\\\\\\192.168.0.100\\\\bbfish100\\\\DCBBL1_4week_6_2_2023\\\\H1_MER_set2\\\\002\\\\data\\\\36.0.0',\n",
       "  1382833111),\n",
       " ('\\\\\\\\192.168.0.100\\\\bbfish100\\\\DCBBL1_4week_6_2_2023\\\\H1_MER_set2\\\\002\\\\data\\\\37.0.0',\n",
       "  1456357961),\n",
       " ('\\\\\\\\192.168.0.100\\\\bbfish100\\\\DCBBL1_4week_6_2_2023\\\\H1_MER_set2\\\\002\\\\data\\\\38.0.0',\n",
       "  1488788463),\n",
       " ('\\\\\\\\192.168.0.100\\\\bbfish100\\\\DCBBL1_4week_6_2_2023\\\\H1_MER_set2\\\\002\\\\data\\\\39.0.0',\n",
       "  1436793385),\n",
       " ('\\\\\\\\192.168.0.100\\\\bbfish100\\\\DCBBL1_4week_6_2_2023\\\\H1_MER_set2\\\\002\\\\data\\\\40.0.0',\n",
       "  1382631150),\n",
       " ('\\\\\\\\192.168.0.100\\\\bbfish100\\\\DCBBL1_4week_6_2_2023\\\\H1_MER_set2\\\\002\\\\data\\\\41.0.0',\n",
       "  1455968291),\n",
       " ('\\\\\\\\192.168.0.100\\\\bbfish100\\\\DCBBL1_4week_6_2_2023\\\\H1_MER_set2\\\\002\\\\data\\\\42.0.0',\n",
       "  1488841314),\n",
       " ('\\\\\\\\192.168.0.100\\\\bbfish100\\\\DCBBL1_4week_6_2_2023\\\\H1_MER_set2\\\\002\\\\data\\\\43.0.0',\n",
       "  1436332212),\n",
       " ('\\\\\\\\192.168.0.100\\\\bbfish100\\\\DCBBL1_4week_6_2_2023\\\\H1_MER_set2\\\\002\\\\data\\\\44.0.0',\n",
       "  1383474861),\n",
       " ('\\\\\\\\192.168.0.100\\\\bbfish100\\\\DCBBL1_4week_6_2_2023\\\\H1_MER_set2\\\\002\\\\data\\\\45.0.0',\n",
       "  1455445615),\n",
       " ('\\\\\\\\192.168.0.100\\\\bbfish100\\\\DCBBL1_4week_6_2_2023\\\\H1_MER_set2\\\\002\\\\data\\\\46.0.0',\n",
       "  1488438236),\n",
       " ('\\\\\\\\192.168.0.100\\\\bbfish100\\\\DCBBL1_4week_6_2_2023\\\\H1_MER_set2\\\\002\\\\data\\\\47.0.0',\n",
       "  1435565589),\n",
       " ('\\\\\\\\192.168.0.100\\\\bbfish100\\\\DCBBL1_4week_6_2_2023\\\\H1_MER_set2\\\\002\\\\data\\\\48.0.0',\n",
       "  1383243767),\n",
       " ('\\\\\\\\192.168.0.100\\\\bbfish100\\\\DCBBL1_4week_6_2_2023\\\\H1_MER_set2\\\\002\\\\data\\\\49.0.0',\n",
       "  1455483017),\n",
       " ('\\\\\\\\192.168.0.100\\\\bbfish100\\\\DCBBL1_4week_6_2_2023\\\\H1_MER_set2\\\\002\\\\data\\\\50.0.0',\n",
       "  1487860095),\n",
       " ('\\\\\\\\192.168.0.100\\\\bbfish100\\\\DCBBL1_4week_6_2_2023\\\\H1_MER_set2\\\\002\\\\data\\\\51.0.0',\n",
       "  1435487759),\n",
       " ('\\\\\\\\192.168.0.100\\\\bbfish100\\\\DCBBL1_4week_6_2_2023\\\\H1_MER_set2\\\\002\\\\data\\\\52.0.0',\n",
       "  1382849932),\n",
       " ('\\\\\\\\192.168.0.100\\\\bbfish100\\\\DCBBL1_4week_6_2_2023\\\\H1_MER_set2\\\\002\\\\data\\\\53.0.0',\n",
       "  1455427048),\n",
       " ('\\\\\\\\192.168.0.100\\\\bbfish100\\\\DCBBL1_4week_6_2_2023\\\\H1_MER_set2\\\\002\\\\data\\\\54.0.0',\n",
       "  1487262351),\n",
       " ('\\\\\\\\192.168.0.100\\\\bbfish100\\\\DCBBL1_4week_6_2_2023\\\\H1_MER_set2\\\\002\\\\data\\\\55.0.0',\n",
       "  1435246396),\n",
       " ('\\\\\\\\192.168.0.100\\\\bbfish100\\\\DCBBL1_4week_6_2_2023\\\\H1_MER_set2\\\\002\\\\data\\\\56.0.0',\n",
       "  1382798403),\n",
       " ('\\\\\\\\192.168.0.100\\\\bbfish100\\\\DCBBL1_4week_6_2_2023\\\\H1_MER_set2\\\\002\\\\data\\\\57.0.0',\n",
       "  1455151639),\n",
       " ('\\\\\\\\192.168.0.100\\\\bbfish100\\\\DCBBL1_4week_6_2_2023\\\\H1_MER_set2\\\\002\\\\data\\\\58.0.0',\n",
       "  1487301565),\n",
       " ('\\\\\\\\192.168.0.100\\\\bbfish100\\\\DCBBL1_4week_6_2_2023\\\\H1_MER_set2\\\\002\\\\data\\\\59.0.0',\n",
       "  1434526546),\n",
       " ('\\\\\\\\192.168.0.100\\\\bbfish100\\\\DCBBL1_4week_6_2_2023\\\\H1_MER_set2\\\\002\\\\data\\\\60.0.0',\n",
       "  1382944802),\n",
       " ('\\\\\\\\192.168.0.100\\\\bbfish100\\\\DCBBL1_4week_6_2_2023\\\\H1_MER_set2\\\\002\\\\data\\\\61.0.0',\n",
       "  1455168614),\n",
       " ('\\\\\\\\192.168.0.100\\\\bbfish100\\\\DCBBL1_4week_6_2_2023\\\\H1_MER_set2\\\\002\\\\data\\\\62.0.0',\n",
       "  1486821014),\n",
       " ('\\\\\\\\192.168.0.100\\\\bbfish100\\\\DCBBL1_4week_6_2_2023\\\\H1_MER_set2\\\\002\\\\data\\\\63.0.0',\n",
       "  1434520247),\n",
       " ('\\\\\\\\192.168.0.100\\\\bbfish100\\\\DCBBL1_4week_6_2_2023\\\\H1_MER_set2\\\\002\\\\data\\\\64.0.0',\n",
       "  1382971696),\n",
       " ('\\\\\\\\192.168.0.100\\\\bbfish100\\\\DCBBL1_4week_6_2_2023\\\\H1_MER_set2\\\\002\\\\data\\\\65.0.0',\n",
       "  1453998707),\n",
       " ('\\\\\\\\192.168.0.100\\\\bbfish100\\\\DCBBL1_4week_6_2_2023\\\\H1_MER_set2\\\\002\\\\data\\\\66.0.0',\n",
       "  1486142627),\n",
       " ('\\\\\\\\192.168.0.100\\\\bbfish100\\\\DCBBL1_4week_6_2_2023\\\\H1_MER_set2\\\\002\\\\data\\\\67.0.0',\n",
       "  1434012835),\n",
       " ('\\\\\\\\192.168.0.100\\\\bbfish100\\\\DCBBL1_4week_6_2_2023\\\\H1_MER_set2\\\\002\\\\data\\\\68.0.0',\n",
       "  1382717360),\n",
       " ('\\\\\\\\192.168.0.100\\\\bbfish100\\\\DCBBL1_4week_6_2_2023\\\\H1_MER_set2\\\\002\\\\data\\\\69.0.0',\n",
       "  1454073652),\n",
       " ('\\\\\\\\192.168.0.100\\\\bbfish100\\\\DCBBL1_4week_6_2_2023\\\\H1_MER_set2\\\\002\\\\data\\\\70.0.0',\n",
       "  1485593728),\n",
       " ('\\\\\\\\192.168.0.100\\\\bbfish100\\\\DCBBL1_4week_6_2_2023\\\\H1_MER_set2\\\\002\\\\data\\\\71.0.0',\n",
       "  1433620303),\n",
       " ('\\\\\\\\192.168.0.100\\\\bbfish100\\\\DCBBL1_4week_6_2_2023\\\\H1_MER_set2\\\\002\\\\data\\\\72.0.0',\n",
       "  1382605472),\n",
       " ('\\\\\\\\192.168.0.100\\\\bbfish100\\\\DCBBL1_4week_6_2_2023\\\\H1_MER_set2\\\\002\\\\data\\\\73.0.0',\n",
       "  1453567448),\n",
       " ('\\\\\\\\192.168.0.100\\\\bbfish100\\\\DCBBL1_4week_6_2_2023\\\\H1_MER_set2\\\\002\\\\data\\\\74.0.0',\n",
       "  1485000818),\n",
       " ('\\\\\\\\192.168.0.100\\\\bbfish100\\\\DCBBL1_4week_6_2_2023\\\\H1_MER_set2\\\\002\\\\data\\\\75.0.0',\n",
       "  1433379921),\n",
       " ('\\\\\\\\192.168.0.100\\\\bbfish100\\\\DCBBL1_4week_6_2_2023\\\\H1_MER_set2\\\\002\\\\data\\\\76.0.0',\n",
       "  1383422585),\n",
       " ('\\\\\\\\192.168.0.100\\\\bbfish100\\\\DCBBL1_4week_6_2_2023\\\\H1_MER_set2\\\\002\\\\data\\\\77.0.0',\n",
       "  1452862409),\n",
       " ('\\\\\\\\192.168.0.100\\\\bbfish100\\\\DCBBL1_4week_6_2_2023\\\\H1_MER_set2\\\\002\\\\data\\\\78.0.0',\n",
       "  1484452481),\n",
       " ('\\\\\\\\192.168.0.100\\\\bbfish100\\\\DCBBL1_4week_6_2_2023\\\\H1_MER_set2\\\\002\\\\data\\\\79.0.0',\n",
       "  1432776486),\n",
       " ('\\\\\\\\192.168.0.100\\\\bbfish100\\\\DCBBL1_4week_6_2_2023\\\\H1_MER_set2\\\\002\\\\data\\\\80.0.0',\n",
       "  1383492964),\n",
       " ('\\\\\\\\192.168.0.100\\\\bbfish100\\\\DCBBL1_4week_6_2_2023\\\\H1_MER_set2\\\\002\\\\data\\\\81.0.0',\n",
       "  1451691446),\n",
       " ('\\\\\\\\192.168.0.100\\\\bbfish100\\\\DCBBL1_4week_6_2_2023\\\\H1_MER_set2\\\\002\\\\data\\\\82.0.0',\n",
       "  1483868923),\n",
       " ('\\\\\\\\192.168.0.100\\\\bbfish100\\\\DCBBL1_4week_6_2_2023\\\\H1_MER_set2\\\\002\\\\data\\\\83.0.0',\n",
       "  1432505281),\n",
       " ('\\\\\\\\192.168.0.100\\\\bbfish100\\\\DCBBL1_4week_6_2_2023\\\\H1_MER_set2\\\\002\\\\data\\\\84.0.0',\n",
       "  1383922229),\n",
       " ('\\\\\\\\192.168.0.100\\\\bbfish100\\\\DCBBL1_4week_6_2_2023\\\\H1_MER_set2\\\\002\\\\data\\\\85.0.0',\n",
       "  1452120307),\n",
       " ('\\\\\\\\192.168.0.100\\\\bbfish100\\\\DCBBL1_4week_6_2_2023\\\\H1_MER_set2\\\\002\\\\data\\\\86.0.0',\n",
       "  1482984676),\n",
       " ('\\\\\\\\192.168.0.100\\\\bbfish100\\\\DCBBL1_4week_6_2_2023\\\\H1_MER_set2\\\\002\\\\data\\\\87.0.0',\n",
       "  1431477699),\n",
       " ('\\\\\\\\192.168.0.100\\\\bbfish100\\\\DCBBL1_4week_6_2_2023\\\\H1_MER_set2\\\\002\\\\data\\\\88.0.0',\n",
       "  1383421668),\n",
       " ('\\\\\\\\192.168.0.100\\\\bbfish100\\\\DCBBL1_4week_6_2_2023\\\\H1_MER_set2\\\\002\\\\data\\\\89.0.0',\n",
       "  1450850985),\n",
       " ('\\\\\\\\192.168.0.100\\\\bbfish100\\\\DCBBL1_4week_6_2_2023\\\\H1_MER_set2\\\\002\\\\data\\\\90.0.0',\n",
       "  1481674370),\n",
       " ('\\\\\\\\192.168.0.100\\\\bbfish100\\\\DCBBL1_4week_6_2_2023\\\\H1_MER_set2\\\\002\\\\data\\\\91.0.0',\n",
       "  1431116931),\n",
       " ('\\\\\\\\192.168.0.100\\\\bbfish100\\\\DCBBL1_4week_6_2_2023\\\\H1_MER_set2\\\\002\\\\data\\\\92.0.0',\n",
       "  1383549191),\n",
       " ('\\\\\\\\192.168.0.100\\\\bbfish100\\\\DCBBL1_4week_6_2_2023\\\\H1_MER_set2\\\\002\\\\data\\\\93.0.0',\n",
       "  1450148299),\n",
       " ('\\\\\\\\192.168.0.100\\\\bbfish100\\\\DCBBL1_4week_6_2_2023\\\\H1_MER_set2\\\\002\\\\data\\\\94.0.0',\n",
       "  1481405077),\n",
       " ('\\\\\\\\192.168.0.100\\\\bbfish100\\\\DCBBL1_4week_6_2_2023\\\\H1_MER_set2\\\\002\\\\data\\\\95.0.0',\n",
       "  1430204011),\n",
       " ('\\\\\\\\192.168.0.100\\\\bbfish100\\\\DCBBL1_4week_6_2_2023\\\\H1_MER_set2\\\\002\\\\data\\\\96.0.0',\n",
       "  1383285519),\n",
       " ('\\\\\\\\192.168.0.100\\\\bbfish100\\\\DCBBL1_4week_6_2_2023\\\\H1_MER_set2\\\\002\\\\data\\\\97.0.0',\n",
       "  1449400413),\n",
       " ('\\\\\\\\192.168.0.100\\\\bbfish100\\\\DCBBL1_4week_6_2_2023\\\\H1_MER_set2\\\\002\\\\data\\\\98.0.0',\n",
       "  1480335963),\n",
       " ('\\\\\\\\192.168.0.100\\\\bbfish100\\\\DCBBL1_4week_6_2_2023\\\\H1_MER_set2\\\\002\\\\data\\\\99.0.0',\n",
       "  1428982531),\n",
       " ('\\\\\\\\192.168.0.100\\\\bbfish100\\\\DCBBL1_4week_6_2_2023\\\\H1_MER_set2\\\\002\\\\data\\\\100.0.0',\n",
       "  1382869954),\n",
       " ('\\\\\\\\192.168.0.100\\\\bbfish100\\\\DCBBL1_4week_6_2_2023\\\\H1_MER_set2\\\\002\\\\data\\\\101.0.0',\n",
       "  1448676286),\n",
       " ('\\\\\\\\192.168.0.100\\\\bbfish100\\\\DCBBL1_4week_6_2_2023\\\\H1_MER_set2\\\\002\\\\data\\\\102.0.0',\n",
       "  1479032856),\n",
       " ('\\\\\\\\192.168.0.100\\\\bbfish100\\\\DCBBL1_4week_6_2_2023\\\\H1_MER_set2\\\\002\\\\data\\\\103.0.0',\n",
       "  1428551995),\n",
       " ('\\\\\\\\192.168.0.100\\\\bbfish100\\\\DCBBL1_4week_6_2_2023\\\\H1_MER_set2\\\\002\\\\data\\\\104.0.0',\n",
       "  1383158765),\n",
       " ('\\\\\\\\192.168.0.100\\\\bbfish100\\\\DCBBL1_4week_6_2_2023\\\\H1_MER_set2\\\\002\\\\data\\\\105.0.0',\n",
       "  1447764885),\n",
       " ('\\\\\\\\192.168.0.100\\\\bbfish100\\\\DCBBL1_4week_6_2_2023\\\\H1_MER_set2\\\\002\\\\data\\\\106.0.0',\n",
       "  1477824434),\n",
       " ('\\\\\\\\192.168.0.100\\\\bbfish100\\\\DCBBL1_4week_6_2_2023\\\\H1_MER_set2\\\\002\\\\data\\\\107.0.0',\n",
       "  1427426531),\n",
       " ('\\\\\\\\192.168.0.100\\\\bbfish100\\\\DCBBL1_4week_6_2_2023\\\\H1_MER_set2\\\\002\\\\data\\\\108.0.0',\n",
       "  1382909972),\n",
       " ('\\\\\\\\192.168.0.100\\\\bbfish100\\\\DCBBL1_4week_6_2_2023\\\\H1_MER_set2\\\\002\\\\data\\\\109.0.0',\n",
       "  1447115311),\n",
       " ('\\\\\\\\192.168.0.100\\\\bbfish100\\\\DCBBL1_4week_6_2_2023\\\\H1_MER_set2\\\\002\\\\data\\\\110.0.0',\n",
       "  1476428945),\n",
       " ('\\\\\\\\192.168.0.100\\\\bbfish100\\\\DCBBL1_4week_6_2_2023\\\\H1_MER_set2\\\\002\\\\data\\\\111.0.0',\n",
       "  981876232),\n",
       " ('\\\\\\\\192.168.0.100\\\\bbfish100\\\\DCBBL1_4week_6_2_2023\\\\H1_MER_set2\\\\002\\\\data\\\\112.0.0',\n",
       "  1382072439),\n",
       " ('\\\\\\\\192.168.0.100\\\\bbfish100\\\\DCBBL1_4week_6_2_2023\\\\H1_MER_set2\\\\002\\\\data\\\\113.0.0',\n",
       "  1445404049),\n",
       " ('\\\\\\\\192.168.0.100\\\\bbfish100\\\\DCBBL1_4week_6_2_2023\\\\H1_MER_set2\\\\002\\\\data\\\\114.0.0',\n",
       "  1475086411),\n",
       " ('\\\\\\\\192.168.0.100\\\\bbfish100\\\\DCBBL1_4week_6_2_2023\\\\H1_MER_set2\\\\002\\\\data\\\\115.0.0',\n",
       "  1425155641),\n",
       " ('\\\\\\\\192.168.0.100\\\\bbfish100\\\\DCBBL1_4week_6_2_2023\\\\H1_MER_set2\\\\002\\\\data\\\\116.0.0',\n",
       "  1381637825),\n",
       " ('\\\\\\\\192.168.0.100\\\\bbfish100\\\\DCBBL1_4week_6_2_2023\\\\H1_MER_set2\\\\002\\\\data\\\\117.0.0',\n",
       "  1444559820),\n",
       " ('\\\\\\\\192.168.0.100\\\\bbfish100\\\\DCBBL1_4week_6_2_2023\\\\H1_MER_set2\\\\002\\\\data\\\\118.0.0',\n",
       "  1473406959),\n",
       " ('\\\\\\\\192.168.0.100\\\\bbfish100\\\\DCBBL1_4week_6_2_2023\\\\H1_MER_set2\\\\002\\\\data\\\\119.0.0',\n",
       "  1423600844),\n",
       " ('\\\\\\\\192.168.0.100\\\\bbfish100\\\\DCBBL1_4week_6_2_2023\\\\H1_MER_set2\\\\002\\\\data\\\\120.0.0',\n",
       "  1381412022),\n",
       " ('\\\\\\\\192.168.0.100\\\\bbfish100\\\\DCBBL1_4week_6_2_2023\\\\H1_MER_set2\\\\002\\\\data\\\\121.0.0',\n",
       "  1443328713),\n",
       " ('\\\\\\\\192.168.0.100\\\\bbfish100\\\\DCBBL1_4week_6_2_2023\\\\H1_MER_set2\\\\002\\\\data\\\\122.0.0',\n",
       "  1471560388),\n",
       " ('\\\\\\\\192.168.0.100\\\\bbfish100\\\\DCBBL1_4week_6_2_2023\\\\H1_MER_set2\\\\002\\\\data\\\\123.0.0',\n",
       "  1422022302),\n",
       " ('\\\\\\\\192.168.0.100\\\\bbfish100\\\\DCBBL1_4week_6_2_2023\\\\H1_MER_set2\\\\002\\\\data\\\\124.0.0',\n",
       "  1380590433),\n",
       " ('\\\\\\\\192.168.0.100\\\\bbfish100\\\\DCBBL1_4week_6_2_2023\\\\H1_MER_set2\\\\002\\\\data\\\\125.0.0',\n",
       "  1441775064),\n",
       " ('\\\\\\\\192.168.0.100\\\\bbfish100\\\\DCBBL1_4week_6_2_2023\\\\H1_MER_set2\\\\002\\\\data\\\\126.0.0',\n",
       "  1470603596),\n",
       " ('\\\\\\\\192.168.0.100\\\\bbfish100\\\\DCBBL1_4week_6_2_2023\\\\H1_MER_set2\\\\002\\\\data\\\\127.0.0',\n",
       "  1420563985),\n",
       " ('\\\\\\\\192.168.0.100\\\\bbfish100\\\\DCBBL1_4week_6_2_2023\\\\H1_MER_set2\\\\002\\\\data\\\\128.0.0',\n",
       "  1380519395),\n",
       " ('\\\\\\\\192.168.0.100\\\\bbfish100\\\\DCBBL1_4week_6_2_2023\\\\H1_MER_set2\\\\002\\\\data\\\\129.0.0',\n",
       "  1440521112),\n",
       " ('\\\\\\\\192.168.0.100\\\\bbfish100\\\\DCBBL1_4week_6_2_2023\\\\H1_MER_set2\\\\002\\\\data\\\\130.0.0',\n",
       "  1468887489),\n",
       " ('\\\\\\\\192.168.0.100\\\\bbfish100\\\\DCBBL1_4week_6_2_2023\\\\H1_MER_set2\\\\002\\\\data\\\\131.0.0',\n",
       "  1419589877),\n",
       " ('\\\\\\\\192.168.0.100\\\\bbfish100\\\\DCBBL1_4week_6_2_2023\\\\H1_MER_set2\\\\002\\\\data\\\\132.0.0',\n",
       "  1379987742),\n",
       " ('\\\\\\\\192.168.0.100\\\\bbfish100\\\\DCBBL1_4week_6_2_2023\\\\H1_MER_set2\\\\002\\\\data\\\\133.0.0',\n",
       "  1439308744),\n",
       " ('\\\\\\\\192.168.0.100\\\\bbfish100\\\\DCBBL1_4week_6_2_2023\\\\H1_MER_set2\\\\002\\\\data\\\\134.0.0',\n",
       "  1466879113),\n",
       " ('\\\\\\\\192.168.0.100\\\\bbfish100\\\\DCBBL1_4week_6_2_2023\\\\H1_MER_set2\\\\002\\\\data\\\\135.0.0',\n",
       "  1417720555),\n",
       " ('\\\\\\\\192.168.0.100\\\\bbfish100\\\\DCBBL1_4week_6_2_2023\\\\H1_MER_set2\\\\002\\\\data\\\\136.0.0',\n",
       "  1379300271),\n",
       " ('\\\\\\\\192.168.0.100\\\\bbfish100\\\\DCBBL1_4week_6_2_2023\\\\H1_MER_set2\\\\002\\\\data\\\\137.0.0',\n",
       "  1437921416),\n",
       " ('\\\\\\\\192.168.0.100\\\\bbfish100\\\\DCBBL1_4week_6_2_2023\\\\H1_MER_set2\\\\002\\\\data\\\\138.0.0',\n",
       "  1466086827),\n",
       " ('\\\\\\\\192.168.0.100\\\\bbfish100\\\\DCBBL1_4week_6_2_2023\\\\H1_MER_set2\\\\002\\\\data\\\\139.0.0',\n",
       "  1417039681),\n",
       " ('\\\\\\\\192.168.0.100\\\\bbfish100\\\\DCBBL1_4week_6_2_2023\\\\H1_MER_set2\\\\002\\\\data\\\\140.0.0',\n",
       "  1379433747),\n",
       " ('\\\\\\\\192.168.0.100\\\\bbfish100\\\\DCBBL1_4week_6_2_2023\\\\H1_MER_set2\\\\002\\\\data\\\\141.0.0',\n",
       "  1436880764),\n",
       " ('\\\\\\\\192.168.0.100\\\\bbfish100\\\\DCBBL1_4week_6_2_2023\\\\H1_MER_set2\\\\002\\\\data\\\\142.0.0',\n",
       "  1464460079),\n",
       " ('\\\\\\\\192.168.0.100\\\\bbfish100\\\\DCBBL1_4week_6_2_2023\\\\H1_MER_set2\\\\002\\\\data\\\\143.0.0',\n",
       "  1416208287),\n",
       " ('\\\\\\\\192.168.0.100\\\\bbfish100\\\\DCBBL1_4week_6_2_2023\\\\H1_MER_set2\\\\002\\\\data\\\\144.0.0',\n",
       "  1378385819),\n",
       " ('\\\\\\\\192.168.0.100\\\\bbfish100\\\\DCBBL1_4week_6_2_2023\\\\H1_MER_set2\\\\002\\\\data\\\\145.0.0',\n",
       "  1435866360),\n",
       " ('\\\\\\\\192.168.0.100\\\\bbfish100\\\\DCBBL1_4week_6_2_2023\\\\H1_MER_set2\\\\002\\\\data\\\\146.0.0',\n",
       "  1463148519),\n",
       " ('\\\\\\\\192.168.0.100\\\\bbfish100\\\\DCBBL1_4week_6_2_2023\\\\H1_MER_set2\\\\002\\\\data\\\\147.0.0',\n",
       "  1414811981),\n",
       " ('\\\\\\\\192.168.0.100\\\\bbfish100\\\\DCBBL1_4week_6_2_2023\\\\H1_MER_set2\\\\002\\\\data\\\\148.0.0',\n",
       "  1378114231),\n",
       " ('\\\\\\\\192.168.0.100\\\\bbfish100\\\\DCBBL1_4week_6_2_2023\\\\H1_MER_set2\\\\002\\\\data\\\\149.0.0',\n",
       "  1434667076),\n",
       " ('\\\\\\\\192.168.0.100\\\\bbfish100\\\\DCBBL1_4week_6_2_2023\\\\H1_MER_set2\\\\002\\\\data\\\\150.0.0',\n",
       "  1462030136)]"
      ]
     },
     "execution_count": 64,
     "metadata": {},
     "output_type": "execute_result"
    }
   ],
   "source": [
    "\n",
    "fls_t = glob.glob(r'\\\\192.168.0.100\\bbfish100\\DCBBL1_4week_6_2_2023\\H1_MER_set2\\002\\data\\*.0')\n",
    "fls_t = np.array(fls_t)[np.argsort([int(os.path.basename(fl).split('.')[0])for fl in fls_t])]\n",
    "[(fl,np.sum(np.fromfile(fl,dtype=np.uint8))) for fl in fls_t]"
   ]
  },
  {
   "cell_type": "code",
   "execution_count": 58,
   "id": "4f566021-8abd-46fd-a935-f8974c2bdbe4",
   "metadata": {
    "tags": []
   },
   "outputs": [
    {
     "name": "stdout",
     "output_type": "stream",
     "text": [
      "\\\\192.168.0.100\\bbfish100\\DCBBL1_4week_6_2_2023\\H1_MER_set2\\005\\data\\131.0.0 \\\\192.168.0.100\\bbfish100\\DCBBL1_4week_6_2_2023\\H1_MER_set2\\005\\data\\135.0.0\n",
      "\\\\192.168.0.100\\bbfish100\\DCBBL1_4week_6_2_2023\\H1_MER_set2\\005\\data\\132.0.0 \\\\192.168.0.100\\bbfish100\\DCBBL1_4week_6_2_2023\\H1_MER_set2\\005\\data\\136.0.0\n",
      "\\\\192.168.0.100\\bbfish100\\DCBBL1_4week_6_2_2023\\H1_MER_set2\\005\\data\\133.0.0 \\\\192.168.0.100\\bbfish100\\DCBBL1_4week_6_2_2023\\H1_MER_set2\\005\\data\\137.0.0\n",
      "\\\\192.168.0.100\\bbfish100\\DCBBL1_4week_6_2_2023\\H1_MER_set2\\005\\data\\134.0.0 \\\\192.168.0.100\\bbfish100\\DCBBL1_4week_6_2_2023\\H1_MER_set2\\005\\data\\138.0.0\n",
      "\\\\192.168.0.100\\bbfish100\\DCBBL1_4week_6_2_2023\\H1_MER_set2\\005\\data\\131.0.0 \\\\192.168.0.100\\bbfish100\\DCBBL1_4week_6_2_2023\\H1_MER_set2\\005\\data\\139.0.0\n",
      "\\\\192.168.0.100\\bbfish100\\DCBBL1_4week_6_2_2023\\H1_MER_set2\\005\\data\\132.0.0 \\\\192.168.0.100\\bbfish100\\DCBBL1_4week_6_2_2023\\H1_MER_set2\\005\\data\\140.0.0\n",
      "\\\\192.168.0.100\\bbfish100\\DCBBL1_4week_6_2_2023\\H1_MER_set2\\005\\data\\133.0.0 \\\\192.168.0.100\\bbfish100\\DCBBL1_4week_6_2_2023\\H1_MER_set2\\005\\data\\141.0.0\n",
      "\\\\192.168.0.100\\bbfish100\\DCBBL1_4week_6_2_2023\\H1_MER_set2\\005\\data\\134.0.0 \\\\192.168.0.100\\bbfish100\\DCBBL1_4week_6_2_2023\\H1_MER_set2\\005\\data\\142.0.0\n",
      "\\\\192.168.0.100\\bbfish100\\DCBBL1_4week_6_2_2023\\H1_MER_set2\\005\\data\\131.0.0 \\\\192.168.0.100\\bbfish100\\DCBBL1_4week_6_2_2023\\H1_MER_set2\\005\\data\\143.0.0\n",
      "\\\\192.168.0.100\\bbfish100\\DCBBL1_4week_6_2_2023\\H1_MER_set2\\005\\data\\132.0.0 \\\\192.168.0.100\\bbfish100\\DCBBL1_4week_6_2_2023\\H1_MER_set2\\005\\data\\144.0.0\n",
      "\\\\192.168.0.100\\bbfish100\\DCBBL1_4week_6_2_2023\\H1_MER_set2\\005\\data\\133.0.0 \\\\192.168.0.100\\bbfish100\\DCBBL1_4week_6_2_2023\\H1_MER_set2\\005\\data\\145.0.0\n",
      "\\\\192.168.0.100\\bbfish100\\DCBBL1_4week_6_2_2023\\H1_MER_set2\\005\\data\\134.0.0 \\\\192.168.0.100\\bbfish100\\DCBBL1_4week_6_2_2023\\H1_MER_set2\\005\\data\\146.0.0\n",
      "\\\\192.168.0.100\\bbfish100\\DCBBL1_4week_6_2_2023\\H1_MER_set2\\005\\data\\131.0.0 \\\\192.168.0.100\\bbfish100\\DCBBL1_4week_6_2_2023\\H1_MER_set2\\005\\data\\147.0.0\n",
      "\\\\192.168.0.100\\bbfish100\\DCBBL1_4week_6_2_2023\\H1_MER_set2\\005\\data\\132.0.0 \\\\192.168.0.100\\bbfish100\\DCBBL1_4week_6_2_2023\\H1_MER_set2\\005\\data\\148.0.0\n",
      "\\\\192.168.0.100\\bbfish100\\DCBBL1_4week_6_2_2023\\H1_MER_set2\\005\\data\\133.0.0 \\\\192.168.0.100\\bbfish100\\DCBBL1_4week_6_2_2023\\H1_MER_set2\\005\\data\\149.0.0\n",
      "\\\\192.168.0.100\\bbfish100\\DCBBL1_4week_6_2_2023\\H1_MER_set2\\005\\data\\134.0.0 \\\\192.168.0.100\\bbfish100\\DCBBL1_4week_6_2_2023\\H1_MER_set2\\005\\data\\150.0.0\n"
     ]
    }
   ],
   "source": [
    "good_fls = fls_t[-4*4-4:-4*4]\n",
    "bad_fls = fls_t[-4*4:]\n",
    "import shutil,os\n",
    "for ifl in np.arange(len(bad_fls)):\n",
    "    good_fl = good_fls[ifl%len(good_fls)]\n",
    "    bad_fl = bad_fls[ifl]\n",
    "    if os.path.exists(bad_fl): os.remove(bad_fl)\n",
    "    shutil.copy2(good_fl,bad_fl)\n",
    "    print(good_fl,bad_fl)"
   ]
  },
  {
   "cell_type": "code",
   "execution_count": null,
   "id": "06715c43-b599-4220-8108-5757f660e094",
   "metadata": {},
   "outputs": [],
   "source": [
    "Failed \\\\192.168.0.100\\bbfish100\\DCBBL1_4week_6_2_2023\\H1_MER_set2\\Conv_zscan__005.zarr\n",
    "Failed \\\\192.168.0.100\\bbfish100\\DCBBL1_4week_6_2_2023\\H1_MER_set2\\Conv_zscan__006.zarr\n",
    "Failed \\\\192.168.0.100\\bbfish100\\DCBBL1_4week_6_2_2023\\H1_MER_set2\\Conv_zscan__007.zarr\n",
    "Failed \\\\192.168.0.100\\bbfish100\\DCBBL1_4week_6_2_2023\\H1_MER_set2\\Conv_zscan__008.zarr\n",
    "Failed \\\\192.168.0.100\\bbfish100\\DCBBL1_4week_6_2_2023\\H1_MER_set2\\Conv_zscan__009.zarr"
   ]
  },
  {
   "cell_type": "code",
   "execution_count": 52,
   "id": "5bec0271-2179-444d-a04d-ec2d707fe08d",
   "metadata": {
    "tags": []
   },
   "outputs": [
    {
     "data": {
      "text/plain": [
       "134"
      ]
     },
     "execution_count": 52,
     "metadata": {},
     "output_type": "execute_result"
    }
   ],
   "source": [
    "150-16"
   ]
  },
  {
   "cell_type": "code",
   "execution_count": null,
   "id": "640c9305-9ba1-4b21-b7ea-aaf26736764a",
   "metadata": {},
   "outputs": [],
   "source": []
  }
 ],
 "metadata": {
  "kernelspec": {
   "display_name": "Python 3 (ipykernel)",
   "language": "python",
   "name": "python3"
  },
  "language_info": {
   "codemirror_mode": {
    "name": "ipython",
    "version": 3
   },
   "file_extension": ".py",
   "mimetype": "text/x-python",
   "name": "python",
   "nbconvert_exporter": "python",
   "pygments_lexer": "ipython3",
   "version": "3.8.16"
  }
 },
 "nbformat": 4,
 "nbformat_minor": 5
}
