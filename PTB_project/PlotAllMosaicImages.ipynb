{
 "cells": [
  {
   "cell_type": "code",
   "execution_count": 1,
   "id": "8a7939b2-c961-4e79-8276-8313cc0e65b8",
   "metadata": {
    "tags": []
   },
   "outputs": [],
   "source": [
    "import sys\n",
    "sys.path.append(r'..//')\n",
    "from ioMicro import *\n"
   ]
  },
  {
   "cell_type": "code",
   "execution_count": 2,
   "id": "603466ff-87a0-4504-b6fd-cdb03fbe3ede",
   "metadata": {
    "tags": []
   },
   "outputs": [],
   "source": [
    "save_folders =[r'\\\\192.168.0.10\\bbfishdc13\\DCBBL1_3_2_2023\\MERFISH_Analysis',\n",
    "              r'\\\\192.168.0.100\\bbfish100\\DCBBL1_1year1wkNJ_ASO_SAL_4_18_2023\\MERFISH_Analysis',\n",
    "              r'\\\\192.168.0.100\\bbfish100\\DCBBL1_4week_6_2_2023\\MERFISH_Analysis',\n",
    "              r'\\\\192.168.0.21\\bbfishdc21\\DCBBL1_1year1wkNJ_ASO_SAL_3_31_2023\\MERFISH_Analysis']"
   ]
  },
  {
   "cell_type": "code",
   "execution_count": 6,
   "id": "622035e0-612a-4ac1-bd97-0a91a0759400",
   "metadata": {
    "tags": []
   },
   "outputs": [
    {
     "name": "stdout",
     "output_type": "stream",
     "text": [
      "['Abhd2', 'Acta2', 'Actg1', 'Adcy1', 'Aif1l', 'Aldh1a1', 'Aqp4', 'Arx', 'Ascl1', 'Atp1a2', 'Atp1b1', 'Bdnf', 'Bhlhe22', 'Bmp2', 'Bmp4', 'Brinp3', 'Bsn', 'Btg2', 'C1ql1', 'C1ql3', 'Calb2', 'Casp9', 'Cck', 'Cd14', 'Cdh12', 'Cdh18', 'Cdk1', 'Cdk4', 'Clasp1', 'Cldn5', 'Csmd1', 'Cspg4', 'Cspg5', 'Dcc', 'Dcx', 'Dlx1', 'Dlx2', 'Dsp', 'Efna5', 'Eif4a2', 'Elavl2', 'Emx1', 'Emx2', 'Erbb4', 'Etv4', 'Fam107a', 'Fbll1', 'Flt1', 'Fos', 'Foxa1', 'Foxa2', 'Foxg1', 'Fxyd6', 'Fxyd7', 'Gabra1', 'Gda', 'Gfap', 'Gm10076', 'Gpr17', 'Grb14', 'Hapln2', 'Hdac8', 'Htt', 'Id3', 'Inpp4b', 'Insm1', 'Kcnd2', 'Kif4', 'Laptm5', 'Lhx6', 'Lockd', 'Lpar1', 'Mal', 'Map3k15', 'Mcm2', 'Mertk', 'Mfge8', 'Mgl2', 'Mki67', 'Mt2', 'Mtrf1', 'Myc', 'Myod1', 'Nckap5', 'Ndst4', 'Nell1', 'Neurod1', 'Neurod2', 'Neurod4', 'Neurog2', 'Nfia', 'Ngef', 'Nmb', 'Npas3', 'Npy2r', 'Nr3c2', 'Ntf3', 'Olr1', 'Opalin', 'Padi2', 'Pax6', 'Pde10a', 'Pdgfra', 'Plxna1', 'Pnoc', 'Pou3f2', 'Prkg1', 'Prom1', 'Ptbp2', 'Ptgds', 'Rasl10a', 'Rbfox3', 'Rbms3', 'Reln', 'S100b', 'Sall3', 'Scd2', 'Sema3a', 'Serpinf1', 'Serping1', 'Sgcd', 'Sgk1', 'Sin3a', 'Slc1a2', 'Slc2a1', 'Slit2', 'Smarca4', 'Sorcs1', 'Sox10', 'Sox11', 'Sox2', 'Sox9', 'Spink8', 'Stox2', 'Tardbp', 'Tenm2', 'Thy1', 'Tshz2', 'Unc13b', 'Unc13c', 'Unc5c', 'Vim', 'Vps13c', 'Wnt8b', 'Acer3', 'Adgrl3', 'Agt', 'Bcl2', 'C1qa', 'Casp3', 'Cdh13', 'Cntnap5b', 'Dgat2', 'Dgkh', 'Elavl4', 'F3', 'Fam210b', 'Fam214a', 'Frmd4a', 'Frzb', 'Fyn', 'Gad1', 'Gli1', 'Grin2c', 'Grp', 'Hes5', 'Hmgn3', 'Junb', 'Kcng4', 'Llgl1', 'Mapk4', 'Marcks', 'Mcu', 'Mxd3', 'Myf5', 'Nes', 'Neurod6', 'Neurog1', 'Nkain4', 'Nog', 'Ogt', 'Opcml', 'Pex5l', 'Plekha1', 'Prox1', 'Rest', 'Rhcg', 'Riiad1', 'Rtn4', 'S1pr3', 'Slc1a3', 'Slc5a7', 'Tac2', 'Tbr1', 'Tfap2c', 'Tgfb1', 'Unc13a', 'Vip', 'Wdr17', 'Wipf3', 'Actb', 'Adarb2', 'Adcy2', 'Ahcyl2', 'Aldoc', 'Auts2', 'Bsg', 'Calb1', 'Cd74', 'Chrdl1', 'Cnr1', 'Cox6a1', 'Cst3', 'Dgkb', 'Dpysl3', 'Egfem1', 'Elavl3', 'Eomes', 'Gabbr1', 'Gabra2', 'Gal', 'Gja1', 'Gnb1', 'Gpc4', 'Gpm6a', 'H2afz', 'Hopx', 'Hs6st3', 'Htra1', 'Igfbpl1', 'Lhx3', 'Lrp1b', 'Lrrtm4', 'Mast4', 'Mbp', 'Mgat4c', 'Mrc1', 'Necab3', 'Nkain2', 'Nnat', 'Notch3', 'Nrg3', 'Nrgn', 'Ntng1', 'Ntrk2', 'Nxph1', 'Olig1', 'Olig2', 'Pam', 'Pde1a', 'Psap', 'Ptbp1', 'Pvalb', 'Robo1', 'Rpl38', 'Sdk1', 'Sgcz', 'Slc17a6', 'Slco1c1', 'Sox4', 'Spag5', 'Sst', 'Steap4', 'Synpr', 'Thrsp', 'Tmem108', 'Tmsb10', 'Top2a', 'Tpt1', 'Trim2', 'Trps1', 'Vnn1', 'Wfs1', 'Zbtb20', 'Zfp36l1']\n"
     ]
    }
   ],
   "source": [
    "print(list(scdata.var.index))"
   ]
  },
  {
   "cell_type": "code",
   "execution_count": 14,
   "id": "2f3ffd4b-b762-40b9-b281-0b2aefd7027f",
   "metadata": {
    "collapsed": true,
    "jupyter": {
     "outputs_hidden": true
    },
    "tags": []
   },
   "outputs": [
    {
     "name": "stderr",
     "output_type": "stream",
     "text": [
      "C:\\Scripts\\NMERFISH\\PTB_project\\..\\ioMicro.py:3344: FutureWarning: X.dtype being converted to np.float32 from float64. In the next version of anndata (0.9) conversion will not be automatic. Pass dtype explicitly to avoid this warning. Pass `AnnData(X, dtype=X.dtype, ...)` to get the future behavour.\n",
      "  scdata2 = sc.AnnData(dfR_)\n",
      "C:\\Users\\BintuLabUser\\anaconda3\\envs\\cellpose\\lib\\site-packages\\anndata\\_core\\anndata.py:121: ImplicitModificationWarning: Transforming to str index.\n",
      "  warnings.warn(\"Transforming to str index.\", ImplicitModificationWarning)\n",
      "C:\\Users\\BintuLabUser\\anaconda3\\envs\\cellpose\\lib\\site-packages\\anndata\\_core\\anndata.py:1828: UserWarning: Observation names are not unique. To make them unique, call `.obs_names_make_unique`.\n",
      "  utils.warn_names_duplicates(\"obs\")\n",
      "C:\\Users\\BintuLabUser\\anaconda3\\envs\\cellpose\\lib\\site-packages\\scanpy\\preprocessing\\_normalization.py:197: UserWarning: Some cells have zero counts\n",
      "  warn(UserWarning('Some cells have zero counts'))\n",
      "C:\\Scripts\\NMERFISH\\PTB_project\\..\\ioMicro.py:3344: FutureWarning: X.dtype being converted to np.float32 from float64. In the next version of anndata (0.9) conversion will not be automatic. Pass dtype explicitly to avoid this warning. Pass `AnnData(X, dtype=X.dtype, ...)` to get the future behavour.\n",
      "  scdata2 = sc.AnnData(dfR_)\n",
      "C:\\Users\\BintuLabUser\\anaconda3\\envs\\cellpose\\lib\\site-packages\\anndata\\_core\\anndata.py:121: ImplicitModificationWarning: Transforming to str index.\n",
      "  warnings.warn(\"Transforming to str index.\", ImplicitModificationWarning)\n",
      "C:\\Users\\BintuLabUser\\anaconda3\\envs\\cellpose\\lib\\site-packages\\anndata\\_core\\anndata.py:1828: UserWarning: Observation names are not unique. To make them unique, call `.obs_names_make_unique`.\n",
      "  utils.warn_names_duplicates(\"obs\")\n",
      "C:\\Users\\BintuLabUser\\anaconda3\\envs\\cellpose\\lib\\site-packages\\scanpy\\preprocessing\\_normalization.py:197: UserWarning: Some cells have zero counts\n",
      "  warn(UserWarning('Some cells have zero counts'))\n",
      "C:\\Scripts\\NMERFISH\\PTB_project\\..\\ioMicro.py:3344: FutureWarning: X.dtype being converted to np.float32 from float64. In the next version of anndata (0.9) conversion will not be automatic. Pass dtype explicitly to avoid this warning. Pass `AnnData(X, dtype=X.dtype, ...)` to get the future behavour.\n",
      "  scdata2 = sc.AnnData(dfR_)\n",
      "C:\\Users\\BintuLabUser\\anaconda3\\envs\\cellpose\\lib\\site-packages\\anndata\\_core\\anndata.py:121: ImplicitModificationWarning: Transforming to str index.\n",
      "  warnings.warn(\"Transforming to str index.\", ImplicitModificationWarning)\n",
      "C:\\Users\\BintuLabUser\\anaconda3\\envs\\cellpose\\lib\\site-packages\\scanpy\\preprocessing\\_normalization.py:197: UserWarning: Some cells have zero counts\n",
      "  warn(UserWarning('Some cells have zero counts'))\n",
      "C:\\Scripts\\NMERFISH\\PTB_project\\..\\ioMicro.py:3344: FutureWarning: X.dtype being converted to np.float32 from float64. In the next version of anndata (0.9) conversion will not be automatic. Pass dtype explicitly to avoid this warning. Pass `AnnData(X, dtype=X.dtype, ...)` to get the future behavour.\n",
      "  scdata2 = sc.AnnData(dfR_)\n",
      "C:\\Users\\BintuLabUser\\anaconda3\\envs\\cellpose\\lib\\site-packages\\anndata\\_core\\anndata.py:121: ImplicitModificationWarning: Transforming to str index.\n",
      "  warnings.warn(\"Transforming to str index.\", ImplicitModificationWarning)\n",
      "C:\\Users\\BintuLabUser\\anaconda3\\envs\\cellpose\\lib\\site-packages\\scanpy\\preprocessing\\_normalization.py:197: UserWarning: Some cells have zero counts\n",
      "  warn(UserWarning('Some cells have zero counts'))\n",
      "C:\\Scripts\\NMERFISH\\PTB_project\\..\\ioMicro.py:3344: FutureWarning: X.dtype being converted to np.float32 from float64. In the next version of anndata (0.9) conversion will not be automatic. Pass dtype explicitly to avoid this warning. Pass `AnnData(X, dtype=X.dtype, ...)` to get the future behavour.\n",
      "  scdata2 = sc.AnnData(dfR_)\n",
      "C:\\Users\\BintuLabUser\\anaconda3\\envs\\cellpose\\lib\\site-packages\\anndata\\_core\\anndata.py:121: ImplicitModificationWarning: Transforming to str index.\n",
      "  warnings.warn(\"Transforming to str index.\", ImplicitModificationWarning)\n",
      "C:\\Users\\BintuLabUser\\anaconda3\\envs\\cellpose\\lib\\site-packages\\scanpy\\preprocessing\\_normalization.py:197: UserWarning: Some cells have zero counts\n",
      "  warn(UserWarning('Some cells have zero counts'))\n",
      "C:\\Scripts\\NMERFISH\\PTB_project\\..\\ioMicro.py:3344: FutureWarning: X.dtype being converted to np.float32 from float64. In the next version of anndata (0.9) conversion will not be automatic. Pass dtype explicitly to avoid this warning. Pass `AnnData(X, dtype=X.dtype, ...)` to get the future behavour.\n",
      "  scdata2 = sc.AnnData(dfR_)\n",
      "C:\\Users\\BintuLabUser\\anaconda3\\envs\\cellpose\\lib\\site-packages\\anndata\\_core\\anndata.py:121: ImplicitModificationWarning: Transforming to str index.\n",
      "  warnings.warn(\"Transforming to str index.\", ImplicitModificationWarning)\n",
      "C:\\Users\\BintuLabUser\\anaconda3\\envs\\cellpose\\lib\\site-packages\\scanpy\\preprocessing\\_normalization.py:197: UserWarning: Some cells have zero counts\n",
      "  warn(UserWarning('Some cells have zero counts'))\n",
      "C:\\Scripts\\NMERFISH\\PTB_project\\..\\ioMicro.py:3344: FutureWarning: X.dtype being converted to np.float32 from float64. In the next version of anndata (0.9) conversion will not be automatic. Pass dtype explicitly to avoid this warning. Pass `AnnData(X, dtype=X.dtype, ...)` to get the future behavour.\n",
      "  scdata2 = sc.AnnData(dfR_)\n",
      "C:\\Users\\BintuLabUser\\anaconda3\\envs\\cellpose\\lib\\site-packages\\anndata\\_core\\anndata.py:121: ImplicitModificationWarning: Transforming to str index.\n",
      "  warnings.warn(\"Transforming to str index.\", ImplicitModificationWarning)\n",
      "C:\\Users\\BintuLabUser\\anaconda3\\envs\\cellpose\\lib\\site-packages\\scanpy\\preprocessing\\_normalization.py:197: UserWarning: Some cells have zero counts\n",
      "  warn(UserWarning('Some cells have zero counts'))\n",
      "C:\\Scripts\\NMERFISH\\PTB_project\\..\\ioMicro.py:3344: FutureWarning: X.dtype being converted to np.float32 from float64. In the next version of anndata (0.9) conversion will not be automatic. Pass dtype explicitly to avoid this warning. Pass `AnnData(X, dtype=X.dtype, ...)` to get the future behavour.\n",
      "  scdata2 = sc.AnnData(dfR_)\n",
      "C:\\Users\\BintuLabUser\\anaconda3\\envs\\cellpose\\lib\\site-packages\\anndata\\_core\\anndata.py:121: ImplicitModificationWarning: Transforming to str index.\n",
      "  warnings.warn(\"Transforming to str index.\", ImplicitModificationWarning)\n",
      "C:\\Users\\BintuLabUser\\anaconda3\\envs\\cellpose\\lib\\site-packages\\scanpy\\preprocessing\\_normalization.py:197: UserWarning: Some cells have zero counts\n",
      "  warn(UserWarning('Some cells have zero counts'))\n",
      "C:\\Scripts\\NMERFISH\\PTB_project\\..\\ioMicro.py:3344: FutureWarning: X.dtype being converted to np.float32 from float64. In the next version of anndata (0.9) conversion will not be automatic. Pass dtype explicitly to avoid this warning. Pass `AnnData(X, dtype=X.dtype, ...)` to get the future behavour.\n",
      "  scdata2 = sc.AnnData(dfR_)\n",
      "C:\\Users\\BintuLabUser\\anaconda3\\envs\\cellpose\\lib\\site-packages\\anndata\\_core\\anndata.py:121: ImplicitModificationWarning: Transforming to str index.\n",
      "  warnings.warn(\"Transforming to str index.\", ImplicitModificationWarning)\n",
      "C:\\Users\\BintuLabUser\\anaconda3\\envs\\cellpose\\lib\\site-packages\\scanpy\\preprocessing\\_normalization.py:197: UserWarning: Some cells have zero counts\n",
      "  warn(UserWarning('Some cells have zero counts'))\n",
      "C:\\Scripts\\NMERFISH\\PTB_project\\..\\ioMicro.py:3344: FutureWarning: X.dtype being converted to np.float32 from float64. In the next version of anndata (0.9) conversion will not be automatic. Pass dtype explicitly to avoid this warning. Pass `AnnData(X, dtype=X.dtype, ...)` to get the future behavour.\n",
      "  scdata2 = sc.AnnData(dfR_)\n",
      "C:\\Users\\BintuLabUser\\anaconda3\\envs\\cellpose\\lib\\site-packages\\anndata\\_core\\anndata.py:121: ImplicitModificationWarning: Transforming to str index.\n",
      "  warnings.warn(\"Transforming to str index.\", ImplicitModificationWarning)\n",
      "C:\\Scripts\\NMERFISH\\PTB_project\\..\\ioMicro.py:3344: FutureWarning: X.dtype being converted to np.float32 from float64. In the next version of anndata (0.9) conversion will not be automatic. Pass dtype explicitly to avoid this warning. Pass `AnnData(X, dtype=X.dtype, ...)` to get the future behavour.\n",
      "  scdata2 = sc.AnnData(dfR_)\n",
      "C:\\Users\\BintuLabUser\\anaconda3\\envs\\cellpose\\lib\\site-packages\\anndata\\_core\\anndata.py:121: ImplicitModificationWarning: Transforming to str index.\n",
      "  warnings.warn(\"Transforming to str index.\", ImplicitModificationWarning)\n",
      "C:\\Users\\BintuLabUser\\anaconda3\\envs\\cellpose\\lib\\site-packages\\scanpy\\preprocessing\\_normalization.py:197: UserWarning: Some cells have zero counts\n",
      "  warn(UserWarning('Some cells have zero counts'))\n"
     ]
    }
   ],
   "source": [
    "scdatas = []\n",
    "names = []\n",
    "for save_folder in save_folders:\n",
    "    save_folder_ =save_folder+r'\\final_spots'\n",
    "    saved_fls = glob.glob(save_folder_+os.sep+'*_cell_df_newCellSeg.pkl')\n",
    "    for iset in range(len(saved_fls)):\n",
    "        #scdata2=sc.read_h5ad(r'D:\\scdatas\\DCBBL1_1year1wkNJ_ASO_SAL_4_18_2023__iset1.h5ad')\n",
    "        df,cell_df = get_df__cell_df(save_folder,iset=iset)\n",
    "        #genes_prev = list(scdata2.var.index)\n",
    "        scdata = get_scdata(df,cell_df,genes_prev=None,th_vol = 2500,pixel_size=0.10833*4)\n",
    "        scdatas.append(scdata)\n",
    "        names.append(os.path.basename(saved_fls[iset]).split('_cell_df')[0])"
   ]
  },
  {
   "cell_type": "code",
   "execution_count": 15,
   "id": "71dc484a-5b04-445c-8a28-ff3bd1849a28",
   "metadata": {
    "tags": []
   },
   "outputs": [
    {
     "name": "stderr",
     "output_type": "stream",
     "text": [
      "100%|██████████████████████████████████████████████████████████████████████████████| 275/275 [4:52:29<00:00, 63.82s/it]\n"
     ]
    }
   ],
   "source": [
    "gns_all = ['Abhd2', 'Acta2', 'Actg1', 'Adcy1', 'Aif1l', 'Aldh1a1', 'Aqp4', 'Arx', 'Ascl1', 'Atp1a2', 'Atp1b1', 'Bdnf', 'Bhlhe22', 'Bmp2', 'Bmp4', 'Brinp3', 'Bsn', 'Btg2', 'C1ql1', 'C1ql3', 'Calb2', 'Casp9', 'Cck', 'Cd14', 'Cdh12', 'Cdh18', 'Cdk1', 'Cdk4', 'Clasp1', 'Cldn5', 'Csmd1', 'Cspg4', 'Cspg5', 'Dcc', 'Dcx', 'Dlx1', 'Dlx2', 'Dsp', 'Efna5', 'Eif4a2', 'Elavl2', 'Emx1', 'Emx2', 'Erbb4', 'Etv4', 'Fam107a', 'Fbll1', 'Flt1', 'Fos', 'Foxa1', 'Foxa2', 'Foxg1', 'Fxyd6', 'Fxyd7', 'Gabra1', 'Gda', 'Gfap', 'Gm10076', 'Gpr17', 'Grb14', 'Hapln2', 'Hdac8', 'Htt', 'Id3', 'Inpp4b', 'Insm1', 'Kcnd2', 'Kif4', 'Laptm5', 'Lhx6', 'Lockd', 'Lpar1', 'Mal', 'Map3k15', 'Mcm2', 'Mertk', 'Mfge8', 'Mgl2', 'Mki67', 'Mt2', 'Mtrf1', 'Myc', 'Myod1', 'Nckap5', 'Ndst4', 'Nell1', 'Neurod1', 'Neurod2', 'Neurod4', 'Neurog2', 'Nfia', 'Ngef', 'Nmb', 'Npas3', 'Npy2r', 'Nr3c2', 'Ntf3', 'Olr1', 'Opalin', 'Padi2', 'Pax6', 'Pde10a', 'Pdgfra', 'Plxna1', 'Pnoc', 'Pou3f2', 'Prkg1', 'Prom1', 'Ptbp2', 'Ptgds', 'Rasl10a', 'Rbfox3', 'Rbms3', 'Reln', 'S100b', 'Sall3', 'Scd2', 'Sema3a', 'Serpinf1', 'Serping1', 'Sgcd', 'Sgk1', 'Sin3a', 'Slc1a2', 'Slc2a1', 'Slit2', 'Smarca4', 'Sorcs1', 'Sox10', 'Sox11', 'Sox2', 'Sox9', 'Spink8', 'Stox2', 'Tardbp', 'Tenm2', 'Thy1', 'Tshz2', 'Unc13b', 'Unc13c', 'Unc5c', 'Vim', 'Vps13c', 'Wnt8b', 'Acer3', 'Adgrl3', 'Agt', 'Bcl2', 'C1qa', 'Casp3', 'Cdh13', 'Cntnap5b', 'Dgat2', 'Dgkh', 'Elavl4', 'F3', 'Fam210b', 'Fam214a', 'Frmd4a', 'Frzb', 'Fyn', 'Gad1', 'Gli1', 'Grin2c', 'Grp', 'Hes5', 'Hmgn3', 'Junb', 'Kcng4', 'Llgl1', 'Mapk4', 'Marcks', 'Mcu', 'Mxd3', 'Myf5', 'Nes', 'Neurod6', 'Neurog1', 'Nkain4', 'Nog', 'Ogt', 'Opcml', 'Pex5l', 'Plekha1', 'Prox1', 'Rest', 'Rhcg', 'Riiad1', 'Rtn4', 'S1pr3', 'Slc1a3', 'Slc5a7', 'Tac2', 'Tbr1', 'Tfap2c', 'Tgfb1', 'Unc13a', 'Vip', 'Wdr17', 'Wipf3', 'Actb', 'Adarb2', 'Adcy2', 'Ahcyl2', 'Aldoc', 'Auts2', 'Bsg', 'Calb1', 'Cd74', 'Chrdl1', 'Cnr1', 'Cox6a1', 'Cst3', 'Dgkb', 'Dpysl3', 'Egfem1', 'Elavl3', 'Eomes', 'Gabbr1', 'Gabra2', 'Gal', 'Gja1', 'Gnb1', 'Gpc4', 'Gpm6a', 'H2afz', 'Hopx', 'Hs6st3', 'Htra1', 'Igfbpl1', 'Lhx3', 'Lrp1b', 'Lrrtm4', 'Mast4', 'Mbp', 'Mgat4c', 'Mrc1', 'Necab3', 'Nkain2', 'Nnat', 'Notch3', 'Nrg3', 'Nrgn', 'Ntng1', 'Ntrk2', 'Nxph1', 'Olig1', 'Olig2', 'Pam', 'Pde1a', 'Psap', 'Ptbp1', 'Pvalb', 'Robo1', 'Rpl38', 'Sdk1', 'Sgcz', 'Slc17a6', 'Slco1c1', 'Sox4', 'Spag5', 'Sst', 'Steap4', 'Synpr', 'Thrsp', 'Tmem108', 'Tmsb10', 'Top2a', 'Tpt1', 'Trim2', 'Trps1', 'Vnn1', 'Wfs1', 'Zbtb20', 'Zfp36l1']\n",
    "for gene in tqdm(gns_all):\n",
    "    for name,scdata in zip(names,scdatas):\n",
    "        v = plot_gene_scdata(scdata,gene)\n",
    "        save_fl = r'D:\\mosaic_genes2'+os.sep+gene+'__'+name+'.png'\n",
    "        im = v.screenshot(save_fl,size=(5000,5000))\n",
    "        v.close()\n",
    "        if False:\n",
    "            plt.figure(figsize=(15,15))\n",
    "            plt.title(os.path.basename(saved_fls[iset]))\n",
    "            plt.imshow(im)\n",
    "            plt.grid(None)\n",
    "            plt.show()"
   ]
  },
  {
   "cell_type": "code",
   "execution_count": 11,
   "id": "2d00f643-a2a0-4cdb-bbe7-c00068541773",
   "metadata": {
    "tags": []
   },
   "outputs": [
    {
     "data": {
      "text/plain": [
       "'Bdnf__DCBBL1_1year1wkNJ_ASO_SAL_3_31_2023_set3.png'"
      ]
     },
     "execution_count": 11,
     "metadata": {},
     "output_type": "execute_result"
    }
   ],
   "source": []
  },
  {
   "cell_type": "code",
   "execution_count": null,
   "id": "6ab856f8-2111-42f2-9147-74ff2bd293eb",
   "metadata": {},
   "outputs": [],
   "source": []
  }
 ],
 "metadata": {
  "kernelspec": {
   "display_name": "Python 3 (ipykernel)",
   "language": "python",
   "name": "python3"
  },
  "language_info": {
   "codemirror_mode": {
    "name": "ipython",
    "version": 3
   },
   "file_extension": ".py",
   "mimetype": "text/x-python",
   "name": "python",
   "nbconvert_exporter": "python",
   "pygments_lexer": "ipython3",
   "version": "3.8.16"
  }
 },
 "nbformat": 4,
 "nbformat_minor": 5
}
