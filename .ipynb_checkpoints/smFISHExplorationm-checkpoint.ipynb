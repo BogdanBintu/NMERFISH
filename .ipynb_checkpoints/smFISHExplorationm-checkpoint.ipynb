{
 "cells": [
  {
   "cell_type": "code",
   "execution_count": 1,
   "id": "e9b5560b-b70b-4a96-a803-9e313746c822",
   "metadata": {},
   "outputs": [],
   "source": [
    "from ioMicro import *"
   ]
  },
  {
   "cell_type": "code",
   "execution_count": 2,
   "id": "bd94bb0c-2c54-4933-82d2-0ded14907bb9",
   "metadata": {},
   "outputs": [],
   "source": [
    "save_fls = glob.glob(r'\\\\192.168.0.6\\bbfishjoy4extra\\MERFISH_AnalysisSmFISH\\Conv_zscan__059--*__Xhfits.npz')"
   ]
  },
  {
   "cell_type": "code",
   "execution_count": 6,
   "id": "b3c48d95-829b-42b7-ac15-bdefcd5fc1d8",
   "metadata": {},
   "outputs": [],
   "source": [
    "dic = {'H97': ['Spi1', 'Runx2', 'Ptprc'],\n",
    "'H98': ['Sox10', 'Irf8', 'Sall1'],\n",
    "'H99':  ['Runx1', 'Aif1', 'Sall3'],\n",
    "'H100': ['Cx3cr1', 'Chat', 'Mrc2'],\n",
    "'H101': ['Mef2c', 'Dcx', 'Runx3'],\n",
    "'H102': ['Cldn5', 'Fxyd7', 'Itgam'],\n",
    "'H103': ['Tnc', 'Slc17a6', 'Tgfb2'],\n",
    "'H104': ['Lyve1', 'Stmn2', 'Mki67'],\n",
    "'H105': ['Spp1', 'Vtn', 'Olig1'],\n",
    "'H106':  ['Olig2', '', 'Agt'],\n",
    "'H107': ['Gfap', '', 'Cnr1'],\n",
    "'H108': ['Neurog2', '', 'Lhx9'],\n",
    "'H109': ['Kcnc2', '', 'Nnat'],\n",
    "'H110': ['Sox10', 'Dcx', 'Sall1']}"
   ]
  },
  {
   "cell_type": "code",
   "execution_count": 7,
   "id": "76f6f1ee-138e-47b5-a87f-5e240f7623b8",
   "metadata": {},
   "outputs": [],
   "source": [
    "def get_fl(save_fls,tags=['H110','col1']):\n",
    "    fl_ = [fl for fl in save_fls \n",
    "              if np.all([(tag in os.path.basename(fl)) for tag in tags])]\n",
    "    return fl_"
   ]
  },
  {
   "cell_type": "code",
   "execution_count": 15,
   "id": "18416af7-2147-4b5b-9571-5e429fed8eee",
   "metadata": {},
   "outputs": [],
   "source": [
    "fl = get_fl(save_fls,tags=['H110','col1'])[0]\n",
    "Xh = np.load(fl)['Xh']"
   ]
  },
  {
   "cell_type": "code",
   "execution_count": 66,
   "id": "b6dabfb8-0f56-4f2a-b373-00d45533952b",
   "metadata": {},
   "outputs": [],
   "source": [
    "def plot_Xh(Xh,gene='Dcx',viewer = None,vmax=50000,hcutoff=np.exp(9.5)):\n",
    "    H = Xh[:,-1]\n",
    "    keep  = H>hcutoff\n",
    "    H = Xh[keep,-1]\n",
    "    X = Xh[keep,:3]\n",
    "    \n",
    "    size = 1+np.clip(H/vmax,0,1)*20\n",
    "    \n",
    "    if viewer is None:\n",
    "        import napari\n",
    "        viewer = napari.Viewer()\n",
    "\n",
    "    \n",
    "    viewer.add_points(X,size=size,edge_color='r',name=gene,face_color=[0,0,0,0])\n",
    "    return viewer"
   ]
  },
  {
   "cell_type": "code",
   "execution_count": 42,
   "id": "639ee820-2969-4d27-b7db-35159efa2311",
   "metadata": {},
   "outputs": [],
   "source": [
    "viewer = plot_Xh(Xh,gene='Dcx',viewer = None,vmax=50000,hcutoff=np.exp(9.5))"
   ]
  },
  {
   "cell_type": "code",
   "execution_count": 39,
   "id": "439aa0d3-c91d-4b20-8f7f-25e687ef61e2",
   "metadata": {},
   "outputs": [],
   "source": [
    "fov,h_fld,icol = os.path.basename(fl).split('--')\n",
    "icol = int(icol.split('_')[0].replace('col',''))"
   ]
  },
  {
   "cell_type": "code",
   "execution_count": 33,
   "id": "19a86944-42bf-4910-8cd9-bb9f2a607bc0",
   "metadata": {},
   "outputs": [],
   "source": [
    "data_folders = [r'\\\\192.168.0.7\\bbfishmahsa\\CGBB_embryo_4_28_2023', r'\\\\192.168.0.6\\bbfishjoy4\\CGBB_embryo_4_28_2023']\n",
    "fl_raw = [data_fld+os.sep+h_fld+os.sep+fov+'.zarr' for data_fld in data_folders if os.path.exists(data_fld+os.sep+h_fld+os.sep+fov+'.zarr')][0]"
   ]
  },
  {
   "cell_type": "code",
   "execution_count": 54,
   "id": "09ccae70-79d7-4010-8c1a-e286589ee360",
   "metadata": {},
   "outputs": [],
   "source": [
    "points_bad = viewer.layers[-1].data[0][:,1:]\n",
    "points_good = viewer.layers[-2].data[0][:,1:]"
   ]
  },
  {
   "cell_type": "code",
   "execution_count": 62,
   "id": "7a2a1667-fe3e-4d7e-9bc0-47f5800c6757",
   "metadata": {},
   "outputs": [],
   "source": [
    "from shapely.geometry import Point, Polygon\n",
    "shape_good = Polygon(points_good)\n",
    "shape_bad = Polygon(points_bad)\n",
    "h_good = [x_[-3] for x_ in Xh if Point(x_[1],x_[2]).within(shape_good)]\n",
    "h_bad = [x_[-3] for x_ in Xh if Point(x_[1],x_[2]).within(shape_bad)]"
   ]
  },
  {
   "cell_type": "code",
   "execution_count": 63,
   "id": "768f1edc-5c61-4382-85b2-bd1ca7c9da4c",
   "metadata": {},
   "outputs": [
    {
     "data": {
      "image/png": "[encoded data removed]",
      "text/plain": [
       "<Figure size 432x288 with 1 Axes>"
      ]
     },
     "metadata": {
      "needs_background": "light"
     },
     "output_type": "display_data"
    }
   ],
   "source": [
    "plt.hist(np.log(h_bad),density=True,bins=50)\n",
    "plt.hist(np.log(h_good),density=True,bins=50,alpha=0.5);"
   ]
  },
  {
   "cell_type": "code",
   "execution_count": 61,
   "id": "ece7709d-7754-4960-8bca-c876179dc19b",
   "metadata": {},
   "outputs": [
    {
     "data": {
      "image/png": "[encoded data removed]",
      "text/plain": [
       "<Figure size 432x288 with 1 Axes>"
      ]
     },
     "metadata": {
      "needs_background": "light"
     },
     "output_type": "display_data"
    }
   ],
   "source": [
    "plt.hist(np.log(h_bad),density=True,bins=50)\n",
    "plt.hist(np.log(h_good),density=True,bins=50,alpha=0.5);"
   ]
  },
  {
   "cell_type": "code",
   "execution_count": null,
   "id": "68e9dfc9-556a-411c-bf01-85ab176c7147",
   "metadata": {},
   "outputs": [],
   "source": []
  },
  {
   "cell_type": "code",
   "execution_count": 50,
   "id": "93b7bc25-6b28-46d7-9649-65e06f56afa2",
   "metadata": {},
   "outputs": [],
   "source": [
    "import shapely"
   ]
  },
  {
   "cell_type": "code",
   "execution_count": null,
   "id": "5957cfa2-d0a2-4078-837d-288d28420a63",
   "metadata": {},
   "outputs": [],
   "source": []
  },
  {
   "cell_type": "code",
   "execution_count": 43,
   "id": "ff0c5f30-6a05-4c6e-a8ce-37a853800875",
   "metadata": {},
   "outputs": [
    {
     "data": {
      "text/plain": [
       "<Image layer 'Image' at 0x20dfa4381f0>"
      ]
     },
     "execution_count": 43,
     "metadata": {},
     "output_type": "execute_result"
    },
    {
     "name": "stderr",
     "output_type": "stream",
     "text": [
      "C:\\Users\\BintuLabUser\\anaconda3\\envs\\cellpose\\lib\\site-packages\\napari\\layers\\base\\base.py:1597: RuntimeWarning: invalid value encountered in cast\n",
      "  corners[:, displayed_axes] = data_bbox_clipped\n",
      "C:\\Users\\BintuLabUser\\anaconda3\\envs\\cellpose\\lib\\site-packages\\napari\\layers\\base\\base.py:1597: RuntimeWarning: invalid value encountered in cast\n",
      "  corners[:, displayed_axes] = data_bbox_clipped\n",
      "C:\\Users\\BintuLabUser\\anaconda3\\envs\\cellpose\\lib\\site-packages\\napari\\layers\\base\\base.py:1597: RuntimeWarning: invalid value encountered in cast\n",
      "  corners[:, displayed_axes] = data_bbox_clipped\n",
      "C:\\Users\\BintuLabUser\\anaconda3\\envs\\cellpose\\lib\\site-packages\\napari\\layers\\base\\base.py:1597: RuntimeWarning: invalid value encountered in cast\n",
      "  corners[:, displayed_axes] = data_bbox_clipped\n",
      "C:\\Users\\BintuLabUser\\anaconda3\\envs\\cellpose\\lib\\site-packages\\napari\\layers\\base\\base.py:1597: RuntimeWarning: invalid value encountered in cast\n",
      "  corners[:, displayed_axes] = data_bbox_clipped\n",
      "C:\\Users\\BintuLabUser\\anaconda3\\envs\\cellpose\\lib\\site-packages\\napari\\layers\\base\\base.py:1597: RuntimeWarning: invalid value encountered in cast\n",
      "  corners[:, displayed_axes] = data_bbox_clipped\n",
      "C:\\Users\\BintuLabUser\\anaconda3\\envs\\cellpose\\lib\\site-packages\\napari\\layers\\base\\base.py:1597: RuntimeWarning: invalid value encountered in cast\n",
      "  corners[:, displayed_axes] = data_bbox_clipped\n",
      "C:\\Users\\BintuLabUser\\anaconda3\\envs\\cellpose\\lib\\site-packages\\napari\\layers\\base\\base.py:1597: RuntimeWarning: invalid value encountered in cast\n",
      "  corners[:, displayed_axes] = data_bbox_clipped\n",
      "C:\\Users\\BintuLabUser\\anaconda3\\envs\\cellpose\\lib\\site-packages\\napari\\layers\\base\\base.py:1597: RuntimeWarning: invalid value encountered in cast\n",
      "  corners[:, displayed_axes] = data_bbox_clipped\n",
      "C:\\Users\\BintuLabUser\\anaconda3\\envs\\cellpose\\lib\\site-packages\\napari\\layers\\base\\base.py:1597: RuntimeWarning: invalid value encountered in cast\n",
      "  corners[:, displayed_axes] = data_bbox_clipped\n",
      "C:\\Users\\BintuLabUser\\anaconda3\\envs\\cellpose\\lib\\site-packages\\napari\\layers\\base\\base.py:1597: RuntimeWarning: invalid value encountered in cast\n",
      "  corners[:, displayed_axes] = data_bbox_clipped\n",
      "C:\\Users\\BintuLabUser\\anaconda3\\envs\\cellpose\\lib\\site-packages\\napari\\layers\\base\\base.py:1597: RuntimeWarning: invalid value encountered in cast\n",
      "  corners[:, displayed_axes] = data_bbox_clipped\n",
      "C:\\Users\\BintuLabUser\\anaconda3\\envs\\cellpose\\lib\\site-packages\\napari\\layers\\base\\base.py:1597: RuntimeWarning: invalid value encountered in cast\n",
      "  corners[:, displayed_axes] = data_bbox_clipped\n",
      "C:\\Users\\BintuLabUser\\anaconda3\\envs\\cellpose\\lib\\site-packages\\napari\\layers\\base\\base.py:1597: RuntimeWarning: invalid value encountered in cast\n",
      "  corners[:, displayed_axes] = data_bbox_clipped\n",
      "C:\\Users\\BintuLabUser\\anaconda3\\envs\\cellpose\\lib\\site-packages\\napari\\layers\\base\\base.py:1597: RuntimeWarning: invalid value encountered in cast\n",
      "  corners[:, displayed_axes] = data_bbox_clipped\n",
      "C:\\Users\\BintuLabUser\\anaconda3\\envs\\cellpose\\lib\\site-packages\\napari\\layers\\base\\base.py:1597: RuntimeWarning: invalid value encountered in cast\n",
      "  corners[:, displayed_axes] = data_bbox_clipped\n",
      "C:\\Users\\BintuLabUser\\anaconda3\\envs\\cellpose\\lib\\site-packages\\napari\\layers\\base\\base.py:1597: RuntimeWarning: invalid value encountered in cast\n",
      "  corners[:, displayed_axes] = data_bbox_clipped\n",
      "C:\\Users\\BintuLabUser\\anaconda3\\envs\\cellpose\\lib\\site-packages\\napari\\layers\\base\\base.py:1597: RuntimeWarning: invalid value encountered in cast\n",
      "  corners[:, displayed_axes] = data_bbox_clipped\n",
      "C:\\Users\\BintuLabUser\\anaconda3\\envs\\cellpose\\lib\\site-packages\\napari\\layers\\base\\base.py:1597: RuntimeWarning: invalid value encountered in cast\n",
      "  corners[:, displayed_axes] = data_bbox_clipped\n",
      "C:\\Users\\BintuLabUser\\anaconda3\\envs\\cellpose\\lib\\site-packages\\napari\\layers\\base\\base.py:1597: RuntimeWarning: invalid value encountered in cast\n",
      "  corners[:, displayed_axes] = data_bbox_clipped\n",
      "C:\\Users\\BintuLabUser\\anaconda3\\envs\\cellpose\\lib\\site-packages\\napari\\layers\\base\\base.py:1597: RuntimeWarning: invalid value encountered in cast\n",
      "  corners[:, displayed_axes] = data_bbox_clipped\n",
      "C:\\Users\\BintuLabUser\\anaconda3\\envs\\cellpose\\lib\\site-packages\\napari\\layers\\base\\base.py:1597: RuntimeWarning: invalid value encountered in cast\n",
      "  corners[:, displayed_axes] = data_bbox_clipped\n",
      "C:\\Users\\BintuLabUser\\anaconda3\\envs\\cellpose\\lib\\site-packages\\napari\\layers\\base\\base.py:1597: RuntimeWarning: invalid value encountered in cast\n",
      "  corners[:, displayed_axes] = data_bbox_clipped\n",
      "C:\\Users\\BintuLabUser\\anaconda3\\envs\\cellpose\\lib\\site-packages\\napari\\layers\\base\\base.py:1597: RuntimeWarning: invalid value encountered in cast\n",
      "  corners[:, displayed_axes] = data_bbox_clipped\n",
      "C:\\Users\\BintuLabUser\\anaconda3\\envs\\cellpose\\lib\\site-packages\\napari\\layers\\base\\base.py:1597: RuntimeWarning: invalid value encountered in cast\n",
      "  corners[:, displayed_axes] = data_bbox_clipped\n",
      "C:\\Users\\BintuLabUser\\anaconda3\\envs\\cellpose\\lib\\site-packages\\napari\\layers\\base\\base.py:1597: RuntimeWarning: invalid value encountered in cast\n",
      "  corners[:, displayed_axes] = data_bbox_clipped\n",
      "C:\\Users\\BintuLabUser\\anaconda3\\envs\\cellpose\\lib\\site-packages\\napari\\layers\\base\\base.py:1597: RuntimeWarning: invalid value encountered in cast\n",
      "  corners[:, displayed_axes] = data_bbox_clipped\n",
      "C:\\Users\\BintuLabUser\\anaconda3\\envs\\cellpose\\lib\\site-packages\\napari\\layers\\base\\base.py:1597: RuntimeWarning: invalid value encountered in cast\n",
      "  corners[:, displayed_axes] = data_bbox_clipped\n",
      "C:\\Users\\BintuLabUser\\anaconda3\\envs\\cellpose\\lib\\site-packages\\napari\\layers\\base\\base.py:1597: RuntimeWarning: invalid value encountered in cast\n",
      "  corners[:, displayed_axes] = data_bbox_clipped\n"
     ]
    }
   ],
   "source": [
    "viewer.add_image(read_im(fl_raw)[icol])"
   ]
  },
  {
   "cell_type": "code",
   "execution_count": null,
   "id": "c7dbf390-cdc9-470b-a83a-d173a629f822",
   "metadata": {},
   "outputs": [],
   "source": [
    "zc,xc,yc,bk, correlation with psf of original data,brightness - original,correlation with psf of deconvolve data, brightness - deconvolved"
   ]
  }
 ],
 "metadata": {
  "kernelspec": {
   "display_name": "Python 3 (ipykernel)",
   "language": "python",
   "name": "python3"
  },
  "language_info": {
   "codemirror_mode": {
    "name": "ipython",
    "version": 3
   },
   "file_extension": ".py",
   "mimetype": "text/x-python",
   "name": "python",
   "nbconvert_exporter": "python",
   "pygments_lexer": "ipython3",
   "version": "3.9.7"
  }
 },
 "nbformat": 4,
 "nbformat_minor": 5
}
