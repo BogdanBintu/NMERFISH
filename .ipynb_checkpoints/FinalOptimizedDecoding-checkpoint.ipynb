{
 "cells": [
  {
   "cell_type": "code",
   "execution_count": 1,
   "id": "e780cb0c-de76-4b50-9e61-34a79608069e",
   "metadata": {},
   "outputs": [],
   "source": [
    "from ioMicro import *"
   ]
  },
  {
   "cell_type": "code",
   "execution_count": 2,
   "id": "1b7fdde9-6201-4db1-b076-d088799b134b",
   "metadata": {},
   "outputs": [
    {
     "name": "stderr",
     "output_type": "stream",
     "text": [
      "100%|██████████████████████████████████████████████████████████████████████████████████| 18/18 [00:58<00:00,  3.24s/it]\n"
     ]
    }
   ],
   "source": [
    "from worker_Scope1__EmbryoPlate12Low import *\n",
    "fov,set_ = 'Conv_zscan__059','_D16'\n",
    "dec = decoder_simple(save_folder,fov=fov,set_=set_)\n",
    "dec.get_XH(fov,set_,ncols=3)#number of colors match \n",
    "dec.XH = dec.XH[dec.XH[:,-4]>0.25] ### keep the spots that are correlated with the expected PSF for 60X\n",
    "dec.load_library(library_file,nblanks=-1)"
   ]
  },
  {
   "cell_type": "code",
   "execution_count": 3,
   "id": "552d2bec-9093-4790-a8f5-2c0642a48dba",
   "metadata": {},
   "outputs": [],
   "source": [
    "dec.res = np.load('temp_res.pkl',allow_pickle=True)"
   ]
  },
  {
   "cell_type": "code",
   "execution_count": null,
   "id": "4fcc795c-f915-4670-b6ce-5cf2451b448b",
   "metadata": {},
   "outputs": [],
   "source": [
    "def get_icodes(dec,nmin_bits=4,method = 'top4',redo=False,norm_brightness=None,nbits=48,is_unique=True):\n",
    "    \n",
    "    ### unfold molecules\n",
    "    import time\n",
    "    start = time.time()\n",
    "    res = dec.res\n",
    "    print(\"Filtering to have nmin_bits number of mol/cluster\")\n",
    "    res = [r for r in res if len(r)>=nmin_bits]\n",
    "    print(\"Calculating lengths of clusters...\")\n",
    "    lens = np.array(list(map(len,res)))\n",
    "    Mlen = np.max(lens)\n",
    "    print(\"Unfolding indexes...\")\n",
    "    res_unfolder = np.concatenate(res)\n",
    "\n",
    "    print(\"Calculating indexes within cluster...\")\n",
    "    #res_is = np.array([i for l in lens for i in range(l)]) ### could be sped up\n",
    "    res_is = np.tile(np.arange(Mlen), len(lens))\n",
    "    res_is = res_is[res_is < np.repeat(lens, Mlen)]\n",
    "    print(\"Calculating index of molecule...\")\n",
    "    ires = np.repeat(np.arange(len(lens)), lens)\n",
    "    #r0 = np.array([r[0] for r in res for r_ in r])\n",
    "    print(\"Calculating index of first molecule...\")\n",
    "    r0i = np.concatenate([[0],np.cumsum(lens)])[:-1]\n",
    "    r0 = res_unfolder[np.repeat(r0i, lens)]\n",
    "    print(\"Total time unfolded molecules:\",time.time()-start)\n",
    "    \n",
    "    \n",
    "    import torch\n",
    "    ires = torch.from_numpy(ires.astype(np.int64))\n",
    "    res_unfolder = torch.from_numpy(res_unfolder.astype(np.int64))\n",
    "    res_is = torch.from_numpy(res_is.astype(np.int64))"
   ]
  },
  {
   "cell_type": "code",
   "execution_count": null,
   "id": "a9709179-88e6-4755-9a10-d648d600b18f",
   "metadata": {},
   "outputs": [],
   "source": []
  },
  {
   "cell_type": "code",
   "execution_count": 259,
   "id": "363c2c77-c4c1-4b04-8d9a-1fef27411a31",
   "metadata": {},
   "outputs": [
    {
     "name": "stdout",
     "output_type": "stream",
     "text": [
      "Filtering to have nmin_bits number of mol/cluster\n",
      "Unfolding indexes...\n",
      "Calculating lengths of clusters...\n",
      "Calculating indexes within cluster...\n",
      "Calculating index of molecule...\n",
      "Calculating index of first molecule...\n",
      "Total time unfolded molecules: 53.27383875846863\n"
     ]
    }
   ],
   "source": []
  },
  {
   "cell_type": "code",
   "execution_count": 270,
   "id": "e7952a6a-8cf3-40c7-9a78-a34e9fc797e0",
   "metadata": {},
   "outputs": [],
   "source": [
    "#np.savez_compressed('res_unfolder.npz',res_unfolder=res_unfolder,lens=lens)"
   ]
  },
  {
   "cell_type": "code",
   "execution_count": 3,
   "id": "6b811e06-c772-496e-b144-373291c58c69",
   "metadata": {},
   "outputs": [],
   "source": [
    "res_unfolder = np.load('res_unfolder.npz')['res_unfolder']\n",
    "lens = np.load('res_unfolder.npz')['lens']"
   ]
  },
  {
   "cell_type": "code",
   "execution_count": 5,
   "id": "8134b3b9-bb63-4155-9be8-b7a9aaf57377",
   "metadata": {},
   "outputs": [
    {
     "name": "stdout",
     "output_type": "stream",
     "text": [
      "Calculating indexes within cluster...\n",
      "Calculating index of molecule...\n",
      "Calculating index of first molecule...\n",
      "Total time unfolded molecules: 16.608062267303467\n"
     ]
    }
   ],
   "source": [
    "import time\n",
    "start = time.time()\n",
    "Mlen = np.max(lens)\n",
    "print(\"Calculating indexes within cluster...\")\n",
    "#res_is = np.array([i for l in lens for i in range(l)]) ### could be sped up\n",
    "res_is = np.tile(np.arange(Mlen), len(lens))\n",
    "res_is = res_is[res_is < np.repeat(lens, Mlen)]\n",
    "print(\"Calculating index of molecule...\")\n",
    "ires = np.repeat(np.arange(len(lens)), lens)\n",
    "#r0 = np.array([r[0] for r in res for r_ in r])\n",
    "print(\"Calculating index of first molecule...\")\n",
    "r0i = np.concatenate([[0],np.cumsum(lens)])[:-1]\n",
    "r0 = res_unfolder[np.repeat(r0i, lens)]\n",
    "print(\"Total time unfolded molecules:\",time.time()-start)\n",
    "\n",
    "\n",
    "import torch\n",
    "ires = torch.from_numpy(ires.astype(np.int64))\n",
    "res_unfolder = torch.from_numpy(res_unfolder.astype(np.int64))\n",
    "res_is = torch.from_numpy(res_is.astype(np.int64))"
   ]
  },
  {
   "cell_type": "code",
   "execution_count": 7,
   "id": "aa5d2f59-3853-44df-b166-30b851532254",
   "metadata": {},
   "outputs": [
    {
     "name": "stdout",
     "output_type": "stream",
     "text": [
      "Computing score...\n",
      "Total time computing score: 1.1732234954833984\n",
      "Computing sorting...\n",
      "Total time sorting molecules by score: 37.62052607536316\n"
     ]
    }
   ],
   "source": [
    "### get score for brightness \n",
    "def get_scoresH():\n",
    "    H = torch.from_numpy(dec.XH[:,-3])\n",
    "    Hlog = H#np.log(H)\n",
    "    mnH = Hlog.mean()\n",
    "    stdH = Hlog.std()\n",
    "    distribution = torch.distributions.Normal(mnH, stdH)\n",
    "    scoreH = distribution.cdf(Hlog)\n",
    "    return scoreH[res_unfolder]\n",
    "### get score for inter-distance between molecules\n",
    "def get_scoresD():\n",
    "    X = dec.XH[:,:3]\n",
    "    XT = torch.from_numpy(X)\n",
    "    XD = XT[res_unfolder]-XT[r0]\n",
    "    meanD = -torch.mean(torch.abs(XD),axis=-1)\n",
    "    distribution = torch.distributions.Normal(meanD.mean(), meanD.std())\n",
    "    scoreD = distribution.cdf(meanD)\n",
    "    return scoreD\n",
    "def get_combined_scores():\n",
    "    scoreH = get_scoresH()\n",
    "    scoreD = get_scoresD()\n",
    "    ### combine scores. Note this score is for all the molecules un-ravelled from their clusters\n",
    "    scoreF = scoreD*scoreH\n",
    "    return scoreF\n",
    "import time\n",
    "start = time.time()\n",
    "print(\"Computing score...\")\n",
    "if False:\n",
    "    scoreF = get_combined_scores()\n",
    "else:\n",
    "    scoreF = torch.from_numpy(dec.XH[:,-3])[res_unfolder]\n",
    "print(\"Total time computing score:\",time.time()-start)\n",
    "\n",
    "### organize molecules in blocks for each cluster\n",
    "def get_asort_scores():\n",
    "    val = torch.max(scoreF)+2\n",
    "    scoreClu = torch.zeros([len(lens),Mlen],dtype=torch.float64)+val\n",
    "    scoreClu[ires,res_is]=scoreF\n",
    "    asort = scoreClu.argsort(-1)\n",
    "    scoreClu = torch.gather(scoreClu,dim=-1,index=asort)\n",
    "    scoresF2 = scoreClu[scoreClu<val-1]\n",
    "    return asort,scoresF2\n",
    "def get_reorder(x,val=-1):\n",
    "    if type(x) is not torch.Tensor:\n",
    "        x = torch.from_numpy(np.array(x))\n",
    "    xClu = torch.zeros([len(lens),Mlen],dtype=x.dtype)+val\n",
    "    xClu[ires,res_is] = x\n",
    "    xClu = torch.gather(xClu,dim=-1,index=asort)\n",
    "    xf = xClu[xClu>val]\n",
    "    return xf\n",
    "\n",
    "import time\n",
    "start = time.time()\n",
    "print(\"Computing sorting...\")\n",
    "asort,scoresF2 = get_asort_scores()\n",
    "res_unfolder2 = get_reorder(res_unfolder,val=-1)\n",
    "del asort\n",
    "del scoreF\n",
    "print(\"Total time sorting molecules by score:\",time.time()-start)"
   ]
  },
  {
   "cell_type": "code",
   "execution_count": 8,
   "id": "f88edf26-228c-41d0-9e2d-092da9170621",
   "metadata": {},
   "outputs": [],
   "source": []
  },
  {
   "cell_type": "code",
   "execution_count": 11,
   "id": "cb0466e7-94af-4673-b106-a87f004a62d1",
   "metadata": {},
   "outputs": [
    {
     "name": "stdout",
     "output_type": "stream",
     "text": [
      "Finding best bits per molecules...\n",
      "Total time best bits per molecule: 30.36252212524414\n"
     ]
    }
   ],
   "source": [
    "nbits = 48\n",
    "delta_bits=4\n",
    "nmin_bits = 4\n",
    "import time\n",
    "start = time.time()\n",
    "print(\"Finding best bits per molecules...\")\n",
    "\n",
    "Rs = dec.XH[:,-1].astype(np.int64)\n",
    "Rs = torch.from_numpy(Rs)\n",
    "Rs_U = Rs[res_unfolder2]\n",
    "\n",
    "score_bits = torch.zeros([len(lens),nbits],dtype=scoresF2.dtype)-1\n",
    "score_bits[ires,Rs_U]=scoresF2\n",
    "argsort_bits = torch.argsort(score_bits,dim=-1,descending=True)[:,:(nmin_bits+delta_bits)]\n",
    "score_bits = score_bits.gather(1,argsort_bits)\n",
    "indexMols = torch.zeros([len(lens),nbits],dtype=res_unfolder2.dtype)-1\n",
    "indexMols[ires,Rs_U]=res_unfolder2\n",
    "indexMols = indexMols.gather(1,argsort_bits)\n",
    "\n",
    "\n",
    "indexMols_pm = indexMols[:,:nmin_bits]\n",
    "keep_pm = torch.all(indexMols_pm>=0,dim=-1)\n",
    "indexMols = indexMols[keep_pm]\n",
    "score_bits = score_bits[keep_pm]\n",
    "\n",
    "indexMols_pm = indexMols[:,:nmin_bits]\n",
    "score_bits_pm = score_bits[:,:nmin_bits]\n",
    "codeMols_pm = Rs[indexMols_pm]\n",
    "codeMols_pm = codeMols_pm.sort(dim=-1)[0]\n",
    "codeMols = Rs[indexMols]\n",
    "codeMols[indexMols<0]=-1\n",
    "print(\"Total time best bits per molecule:\",time.time()-start)"
   ]
  },
  {
   "cell_type": "code",
   "execution_count": 27,
   "id": "ab6ae1a1-071d-4f76-9628-92838844dc1b",
   "metadata": {},
   "outputs": [
    {
     "data": {
      "text/plain": [
       "(tensor([0, 1, 2, 3, 4]),\n",
       " tensor([20617675,  7411775,  8365639,  8905771,  8909711]))"
      ]
     },
     "execution_count": 27,
     "metadata": {},
     "output_type": "execute_result"
    }
   ],
   "source": [
    "torch.unique(torch.sum(indexMols==-1,dim=-1),return_counts=True)"
   ]
  },
  {
   "cell_type": "code",
   "execution_count": 29,
   "id": "b3aa45cb-8b57-4a05-ad57-739c88b71747",
   "metadata": {},
   "outputs": [],
   "source": [
    "codes__ = dec.codes__\n",
    "codes_lib = torch.from_numpy(np.array(codes__).astype(np.int64)).sort(dim=-1)[0]"
   ]
  },
  {
   "cell_type": "code",
   "execution_count": 31,
   "id": "854fbb65-517d-4096-ad87-03e9a1f3e0ea",
   "metadata": {},
   "outputs": [],
   "source": [
    "ign = list(dec.gns_names).index('Dcx')"
   ]
  },
  {
   "cell_type": "code",
   "execution_count": 55,
   "id": "8c3be879-2248-4b50-9eef-4b8fa6563c31",
   "metadata": {},
   "outputs": [
    {
     "data": {
      "text/plain": [
       "tensor(516537)"
      ]
     },
     "execution_count": 55,
     "metadata": {},
     "output_type": "execute_result"
    }
   ],
   "source": [
    "torch.sum(torch.sum(torch.isin(codeMols[:,:6],codes_lib[ign]),dim=-1)==4)"
   ]
  },
  {
   "cell_type": "code",
   "execution_count": null,
   "id": "70ad7e54-ba6d-4c45-be45-b62abed54d58",
   "metadata": {},
   "outputs": [],
   "source": []
  },
  {
   "cell_type": "code",
   "execution_count": null,
   "id": "af553a25-a6b5-4b9a-8c14-3600b4a6056c",
   "metadata": {},
   "outputs": [],
   "source": []
  },
  {
   "cell_type": "code",
   "execution_count": 53,
   "id": "49cbeeb3-1a1b-4b6f-979f-0dc3c6615a3b",
   "metadata": {},
   "outputs": [
    {
     "data": {
      "text/plain": [
       "tensor([15, 42,  0,  6, -1, -1, -1, -1])"
      ]
     },
     "execution_count": 53,
     "metadata": {},
     "output_type": "execute_result"
    }
   ],
   "source": [
    "codeMols[100]"
   ]
  },
  {
   "cell_type": "code",
   "execution_count": 157,
   "id": "31ab0e02-1472-4a06-8ea3-fc1762ad95e3",
   "metadata": {},
   "outputs": [],
   "source": [
    "#list(zip(scoresF2[:50].numpy(),ires[:50].numpy()))"
   ]
  },
  {
   "cell_type": "code",
   "execution_count": 158,
   "id": "e5854041-f663-4c5c-a9b8-e8aa79b09198",
   "metadata": {},
   "outputs": [],
   "source": [
    "#scoresF2"
   ]
  },
  {
   "cell_type": "code",
   "execution_count": 58,
   "id": "87d1ed95-d78e-476a-b41a-830df34a2a4e",
   "metadata": {},
   "outputs": [],
   "source": [
    "score_bits = torch.zeros([len(lens),nbits],dtype=scoresF2.dtype)-1\n",
    "score_bits[ires,Rs_U]=scoresF2"
   ]
  },
  {
   "cell_type": "code",
   "execution_count": 64,
   "id": "fb8a3588-7ea0-48ce-a5c2-7f83a4e0a75a",
   "metadata": {},
   "outputs": [],
   "source": [
    "score_bits_1d = score_bits[1000]"
   ]
  },
  {
   "cell_type": "code",
   "execution_count": 73,
   "id": "9709cc9f-9302-4f47-8f22-d886f672abcd",
   "metadata": {},
   "outputs": [],
   "source": [
    "codes_lib_01 = torch.zeros([len(codes_lib),nbits],dtype=score_bits.dtype)\n",
    "for icd,cd in enumerate(codes_lib):\n",
    "    codes_lib_01[icd,cd]=1"
   ]
  },
  {
   "cell_type": "code",
   "execution_count": 92,
   "id": "255611c8-b1fb-4d36-8b88-61d69d3563db",
   "metadata": {},
   "outputs": [
    {
     "name": "stderr",
     "output_type": "stream",
     "text": [
      "100%|██████████████████████████████████████████████████████████████████████████████| 5939/5939 [02:12<00:00, 44.99it/s]\n"
     ]
    }
   ],
   "source": [
    "batch = 10000\n",
    "icodes_best = torch.zeros(len(score_bits),dtype=torch.int64)\n",
    "for i in tqdm(range((len(score_bits)//batch)+1)):\n",
    "    score_bits_ = score_bits[i*batch:(i+1)*batch]\n",
    "    if len(score_bits_)>0:\n",
    "        icodes_best[i*batch:(i+1)*batch] = torch.argmax(torch.matmul(score_bits_,codes_lib_01.T),dim=-1)\n",
    "        \n",
    "keep_all_bits = torch.all(score_bits.gather(1,codes_lib[icodes_best])>=0,-1)\n",
    "icodes_best_ = icodes_best[keep_all_bits]\n",
    "indexMols_ = torch.zeros([len(lens),nbits],dtype=res_unfolder2.dtype)-1\n",
    "indexMols_[ires,Rs_U]=res_unfolder2\n",
    "indexMols_ = indexMols_[keep_all_bits]\n",
    "indexMols_ = indexMols_.gather(1,codes_lib[icodes_best_])\n",
    "XH = torch.from_numpy(dec.XH)\n",
    "XH_pruned = XH[indexMols_]\n",
    "icodesN=icodes_best_"
   ]
  },
  {
   "cell_type": "code",
   "execution_count": 161,
   "id": "d296ab46-6c31-425d-9324-9353c6259f7d",
   "metadata": {},
   "outputs": [],
   "source": []
  },
  {
   "cell_type": "code",
   "execution_count": 154,
   "id": "8fdc5b44-9f6f-4d2e-b4a3-58f07c3bca0b",
   "metadata": {},
   "outputs": [],
   "source": [
    "X = torch.from_numpy(dec.XH[:,:3])\n",
    "X_gn = X[indexMols_[icodes_best_==ign]].mean(dim=1)"
   ]
  },
  {
   "cell_type": "code",
   "execution_count": 155,
   "id": "a4062237-6162-4c42-bb90-d08260b42572",
   "metadata": {},
   "outputs": [
    {
     "data": {
      "text/plain": [
       "torch.Size([173791, 3])"
      ]
     },
     "execution_count": 155,
     "metadata": {},
     "output_type": "execute_result"
    }
   ],
   "source": [
    "X_gn.shape"
   ]
  },
  {
   "cell_type": "code",
   "execution_count": 157,
   "id": "38ca1b90-e1d8-42ea-8d5d-3af6135c23f5",
   "metadata": {},
   "outputs": [
    {
     "data": {
      "text/plain": [
       "<Points layer 'dot' at 0x1ed92d67cd0>"
      ]
     },
     "execution_count": 157,
     "metadata": {},
     "output_type": "execute_result"
    }
   ],
   "source": [
    "gene = 'Dcx'\n",
    "ncols = 3\n",
    "fl_raw = r'\\\\192.168.0.6\\bbfishjoy4\\CGBB_embryo_4_28_2023\\H101_MER_D16\\Conv_zscan__059.zarr'\n",
    "im = read_im(fl_raw)[1]\n",
    "import napari\n",
    "new_drift = [ -0.96623084,167.84815618,-97.83324511]\n",
    "v = napari.view_image(im,translate=new_drift)\n",
    "v.add_points(X_gn[:,:3],size=1,face_color='r',name='dot')"
   ]
  },
  {
   "cell_type": "code",
   "execution_count": 150,
   "id": "b52d5e1c-3853-4716-b3bf-73159b9d7c7f",
   "metadata": {},
   "outputs": [],
   "source": [
    "icds,ncts = torch.unique(icodes_best_,return_counts=True)"
   ]
  },
  {
   "cell_type": "code",
   "execution_count": 151,
   "id": "a06b1dae-33e4-413a-8861-87d596b91dc1",
   "metadata": {},
   "outputs": [
    {
     "data": {
      "text/plain": [
       "[<matplotlib.lines.Line2D at 0x1ed58653d30>]"
      ]
     },
     "execution_count": 151,
     "metadata": {},
     "output_type": "execute_result"
    },
    {
     "data": {
      "image/png": "[encoded data removed]",
      "text/plain": [
       "<Figure size 432x288 with 1 Axes>"
      ]
     },
     "metadata": {
      "needs_background": "light"
     },
     "output_type": "display_data"
    }
   ],
   "source": [
    "plt.plot(icds,ncts)"
   ]
  },
  {
   "cell_type": "code",
   "execution_count": 113,
   "id": "a71c2503-4f1e-42a2-bc34-78a9a67a81ca",
   "metadata": {},
   "outputs": [],
   "source": [
    "X = dec.XH[:,:3]\n",
    "XT = torch.from_numpy(X)\n",
    "XD = XT[res_unfolder2]-XT[r0]"
   ]
  },
  {
   "cell_type": "code",
   "execution_count": 127,
   "id": "25971a80-3f77-4222-af0a-9ed9046f4cc3",
   "metadata": {},
   "outputs": [],
   "source": [
    "dist_cutoff=2\n",
    "bad = torch.any(XD>dist_cutoff*0.75,dim=-1)"
   ]
  },
  {
   "cell_type": "code",
   "execution_count": 129,
   "id": "109b9736-eab0-4afd-a689-b1c759f55fe8",
   "metadata": {},
   "outputs": [],
   "source": [
    "score_bits = torch.zeros([len(lens),nbits],dtype=scoresF2.dtype)-1\n",
    "score_bits[ires,Rs_U]=scoresF2"
   ]
  },
  {
   "cell_type": "code",
   "execution_count": 134,
   "id": "083ceb12-2f8e-4be0-9152-3dbfcc49ac83",
   "metadata": {},
   "outputs": [],
   "source": [
    "score_bits[ires[bad],Rs_U[bad]]=-1"
   ]
  },
  {
   "cell_type": "code",
   "execution_count": 136,
   "id": "128d2a39-9f56-4ee1-bd2f-f1df2c42da1b",
   "metadata": {},
   "outputs": [
    {
     "data": {
      "text/plain": [
       "tensor([0, 1, 2,  ..., 3, 2, 3])"
      ]
     },
     "execution_count": 136,
     "metadata": {},
     "output_type": "execute_result"
    }
   ],
   "source": [
    "keep_all_bits = torch.sum(score_bits>-1,dim=-1)>=nmin_bits"
   ]
  },
  {
   "cell_type": "code",
   "execution_count": 132,
   "id": "f4e95147-9bee-4bbb-87d6-6bb4cb26d2bc",
   "metadata": {},
   "outputs": [
    {
     "data": {
      "text/plain": [
       "(torch.Size([508868978]), torch.Size([508868978]))"
      ]
     },
     "execution_count": 132,
     "metadata": {},
     "output_type": "execute_result"
    }
   ],
   "source": [
    "bad.shape,Rs_U.shape"
   ]
  },
  {
   "cell_type": "code",
   "execution_count": 115,
   "id": "6bb25a50-5b8c-4c0b-9574-500fd52836f4",
   "metadata": {},
   "outputs": [
    {
     "data": {
      "text/plain": [
       "tensor([    4616,       98,      108,  ..., 62956314, 74348867, 68626675])"
      ]
     },
     "execution_count": 115,
     "metadata": {},
     "output_type": "execute_result"
    }
   ],
   "source": [
    "res_unfolder2"
   ]
  },
  {
   "cell_type": "code",
   "execution_count": 99,
   "id": "4d60bc98-1d54-45b8-9e65-9caa3070c36f",
   "metadata": {},
   "outputs": [],
   "source": []
  },
  {
   "cell_type": "code",
   "execution_count": 102,
   "id": "877cadf2-c09a-4d22-943f-4fc768c7640c",
   "metadata": {},
   "outputs": [],
   "source": []
  },
  {
   "cell_type": "code",
   "execution_count": null,
   "id": "746ee0db-e9e8-41ee-994b-7bafb2587832",
   "metadata": {},
   "outputs": [],
   "source": [
    "get"
   ]
  },
  {
   "cell_type": "code",
   "execution_count": null,
   "id": "98b0917b-c44b-42a8-8eb7-a2daa00ae777",
   "metadata": {},
   "outputs": [],
   "source": []
  },
  {
   "cell_type": "code",
   "execution_count": 112,
   "id": "42da2f16-a9ff-4020-b7ef-c30bcf4974d6",
   "metadata": {},
   "outputs": [
    {
     "data": {
      "text/plain": [
       "tensor([ 10,  10,  10,  ..., 368, 459, 449])"
      ]
     },
     "execution_count": 112,
     "metadata": {},
     "output_type": "execute_result"
    }
   ],
   "source": [
    "icodes_best_"
   ]
  },
  {
   "cell_type": "code",
   "execution_count": 105,
   "id": "b32c791a-be5a-47ff-bb77-141308bec6bd",
   "metadata": {},
   "outputs": [],
   "source": [
    "icds,cts = torch.unique(icodes_best_,return_counts=True)"
   ]
  },
  {
   "cell_type": "code",
   "execution_count": 111,
   "id": "3c762881-90e0-4e1f-8dc8-78383de77aa7",
   "metadata": {},
   "outputs": [
    {
     "data": {
      "text/plain": [
       "tensor(173791)"
      ]
     },
     "execution_count": 111,
     "metadata": {},
     "output_type": "execute_result"
    }
   ],
   "source": [
    "torch.sum(ign==icodes_best_)"
   ]
  },
  {
   "cell_type": "code",
   "execution_count": 90,
   "id": "195b92a4-60ff-4415-8ad9-e0c987ee49f5",
   "metadata": {},
   "outputs": [
    {
     "data": {
      "text/plain": [
       "tensor([], size=(0, 48), dtype=torch.float64)"
      ]
     },
     "execution_count": 90,
     "metadata": {},
     "output_type": "execute_result"
    }
   ],
   "source": [
    "score_bits[59387835:59387835+5]"
   ]
  },
  {
   "cell_type": "code",
   "execution_count": 81,
   "id": "ee7bdaf8-e581-4f96-89e8-a44b0d306de6",
   "metadata": {},
   "outputs": [
    {
     "data": {
      "text/plain": [
       "59387835"
      ]
     },
     "execution_count": 81,
     "metadata": {},
     "output_type": "execute_result"
    }
   ],
   "source": [
    "len(score_bits)"
   ]
  },
  {
   "cell_type": "code",
   "execution_count": 168,
   "id": "e89c6040-eebc-428d-aded-90e93d071348",
   "metadata": {},
   "outputs": [],
   "source": [
    "#ign = list(dec.gns_names).index('Dcx')\n",
    "#torch.sum(torch.all(codeMols==codes_lib[ign],-1))"
   ]
  },
  {
   "cell_type": "code",
   "execution_count": 186,
   "id": "6100c687-1288-4517-b27f-0592c4a16117",
   "metadata": {},
   "outputs": [
    {
     "data": {
      "text/plain": [
       "False"
      ]
     },
     "execution_count": 186,
     "metadata": {},
     "output_type": "execute_result"
    }
   ],
   "source": [
    "torch.cuda.is_available()"
   ]
  },
  {
   "cell_type": "code",
   "execution_count": 184,
   "id": "a5eb2b46-c9d4-4cbf-8a55-9384db20eeae",
   "metadata": {},
   "outputs": [
    {
     "ename": "AssertionError",
     "evalue": "Torch not compiled with CUDA enabled",
     "output_type": "error",
     "traceback": [
      "\u001b[1;31m---------------------------------------------------------------------------\u001b[0m",
      "\u001b[1;31mAssertionError\u001b[0m                            Traceback (most recent call last)",
      "\u001b[1;32mC:\\Users\\BINTUL~2\\AppData\\Local\\Temp/ipykernel_25620/529213774.py\u001b[0m in \u001b[0;36m<module>\u001b[1;34m\u001b[0m\n\u001b[1;32m----> 1\u001b[1;33m \u001b[0mcodeMols\u001b[0m\u001b[1;33m.\u001b[0m\u001b[0mto\u001b[0m\u001b[1;33m(\u001b[0m\u001b[1;34m\"cuda\"\u001b[0m\u001b[1;33m)\u001b[0m\u001b[1;33m\u001b[0m\u001b[1;33m\u001b[0m\u001b[0m\n\u001b[0m",
      "\u001b[1;32m~\\anaconda3\\envs\\cellpose\\lib\\site-packages\\torch\\cuda\\__init__.py\u001b[0m in \u001b[0;36m_lazy_init\u001b[1;34m()\u001b[0m\n\u001b[0;32m    209\u001b[0m                 \"multiprocessing, you must use the 'spawn' start method\")\n\u001b[0;32m    210\u001b[0m         \u001b[1;32mif\u001b[0m \u001b[1;32mnot\u001b[0m \u001b[0mhasattr\u001b[0m\u001b[1;33m(\u001b[0m\u001b[0mtorch\u001b[0m\u001b[1;33m.\u001b[0m\u001b[0m_C\u001b[0m\u001b[1;33m,\u001b[0m \u001b[1;34m'_cuda_getDeviceCount'\u001b[0m\u001b[1;33m)\u001b[0m\u001b[1;33m:\u001b[0m\u001b[1;33m\u001b[0m\u001b[1;33m\u001b[0m\u001b[0m\n\u001b[1;32m--> 211\u001b[1;33m             \u001b[1;32mraise\u001b[0m \u001b[0mAssertionError\u001b[0m\u001b[1;33m(\u001b[0m\u001b[1;34m\"Torch not compiled with CUDA enabled\"\u001b[0m\u001b[1;33m)\u001b[0m\u001b[1;33m\u001b[0m\u001b[1;33m\u001b[0m\u001b[0m\n\u001b[0m\u001b[0;32m    212\u001b[0m         \u001b[1;32mif\u001b[0m \u001b[0m_cudart\u001b[0m \u001b[1;32mis\u001b[0m \u001b[1;32mNone\u001b[0m\u001b[1;33m:\u001b[0m\u001b[1;33m\u001b[0m\u001b[1;33m\u001b[0m\u001b[0m\n\u001b[0;32m    213\u001b[0m             raise AssertionError(\n",
      "\u001b[1;31mAssertionError\u001b[0m: Torch not compiled with CUDA enabled"
     ]
    }
   ],
   "source": [
    "codeMols.to(\"cuda\")"
   ]
  },
  {
   "cell_type": "code",
   "execution_count": 170,
   "id": "e57f08ac-f9d9-4142-b80e-5f46babec099",
   "metadata": {},
   "outputs": [
    {
     "name": "stdout",
     "output_type": "stream",
     "text": [
      "Comparing with library and asigning code\n"
     ]
    },
    {
     "name": "stderr",
     "output_type": "stream",
     "text": [
      "100%|████████████████████████████████████████████████████████████████████████████████| 826/826 [01:16<00:00, 10.84it/s]\n"
     ]
    }
   ],
   "source": [
    "print(\"Comparing with library and asigning code\")\n",
    "icodesN = torch.zeros(len(codeMols),dtype=torch.int64)-1\n",
    "for icd,cd in enumerate(tqdm(codes_lib)):\n",
    "    icodesN[torch.all(codeMols==cd,dim=-1)]=icd\n",
    "keep = icodesN>=0\n",
    "icodesN = icodesN[keep]\n",
    "codeMols = codeMols[keep]\n",
    "indexMols = indexMols[keep]\n",
    "score_bits2 = score_bits2[keep]"
   ]
  },
  {
   "cell_type": "code",
   "execution_count": 171,
   "id": "16fe0f90-0dc0-45fa-b605-a90cc74d3c9e",
   "metadata": {},
   "outputs": [],
   "source": [
    "XH_pruned = dec.XH[indexMols]"
   ]
  },
  {
   "cell_type": "code",
   "execution_count": 182,
   "id": "274eb026-08ef-41a1-91c3-10c5a97c0f5a",
   "metadata": {},
   "outputs": [
    {
     "data": {
      "text/plain": [
       "1.031398784"
      ]
     },
     "execution_count": 182,
     "metadata": {},
     "output_type": "execute_result"
    }
   ],
   "source": [
    "\n",
    "tensor = codeMols\n",
    "element_size = tensor.element_size()\n",
    "total_elements = tensor.numel()\n",
    "total_memory = element_size * total_elements\n",
    "total_memory/10**9"
   ]
  },
  {
   "cell_type": "code",
   "execution_count": null,
   "id": "40260feb-980a-4704-8413-5e9d500687d3",
   "metadata": {},
   "outputs": [],
   "source": []
  },
  {
   "cell_type": "code",
   "execution_count": 173,
   "id": "38a438c0-01b7-471a-8a3a-b9c44c73f8b4",
   "metadata": {},
   "outputs": [],
   "source": [
    "icodesN = icodesN.numpy()"
   ]
  },
  {
   "cell_type": "code",
   "execution_count": 175,
   "id": "127186a6-7260-4be6-b63c-e49617239f9a",
   "metadata": {},
   "outputs": [
    {
     "data": {
      "text/plain": [
       "[<matplotlib.lines.Line2D at 0x2a201424c70>]"
      ]
     },
     "execution_count": 175,
     "metadata": {},
     "output_type": "execute_result"
    },
    {
     "data": {
      "image/png": "[encoded data removed]",
      "text/plain": [
       "<Figure size 432x288 with 1 Axes>"
      ]
     },
     "metadata": {
      "needs_background": "light"
     },
     "output_type": "display_data"
    }
   ],
   "source": [
    "icds,ncds = np.unique(icodesN,return_counts=True)\n",
    "plt.plot(icds,ncds)"
   ]
  },
  {
   "cell_type": "code",
   "execution_count": 141,
   "id": "9d82938e-d1e1-4df3-ba01-ff0308b921ed",
   "metadata": {},
   "outputs": [
    {
     "data": {
      "text/plain": [
       "29765969"
      ]
     },
     "execution_count": 141,
     "metadata": {},
     "output_type": "execute_result"
    }
   ],
   "source": [
    "len(XH_pruned)"
   ]
  },
  {
   "cell_type": "code",
   "execution_count": 121,
   "id": "9b479db3-0592-4805-abd6-ba8c55257643",
   "metadata": {},
   "outputs": [
    {
     "data": {
      "text/plain": [
       "(tensor([ 0,  1,  2,  3,  4,  5,  6,  7,  8,  9, 10, 11, 12, 13, 14, 15, 16, 17,\n",
       "         18, 19, 20, 21, 22, 23, 24, 25, 26, 27, 28, 29, 30, 31, 32, 33, 34, 35,\n",
       "         36, 37, 38, 39, 40, 41, 42, 43, 44, 45, 46, 47]),\n",
       " tensor([4285487, 7049217, 6512077, 2963878, 5597069, 4597060, 1431857, 3305203,\n",
       "         3961414, 4480797, 6120474, 5220369, 3247549, 4997002, 3452300, 3747574,\n",
       "         4461417, 3440828, 3721501, 4350027, 3224991, 2416704, 3317475, 2639123,\n",
       "         2574455, 3306639, 2274190, 2029836, 1615330,  495084,  496620,  894836,\n",
       "          279073,  535722,  923882,  206614,  393499,  662383,  221253,  324099,\n",
       "          631727,  300825,  205273,  776094,  314535,  283009,  537841,  239664]))"
      ]
     },
     "execution_count": 121,
     "metadata": {},
     "output_type": "execute_result"
    }
   ],
   "source": [
    "torch.unique(codeMols[icodesN>=0],return_counts=True)"
   ]
  },
  {
   "cell_type": "code",
   "execution_count": 128,
   "id": "0cdab6e5-9ce0-487c-83dc-f2d5403c1446",
   "metadata": {},
   "outputs": [
    {
     "data": {
      "text/plain": [
       "tensor(102916)"
      ]
     },
     "execution_count": 128,
     "metadata": {},
     "output_type": "execute_result"
    }
   ],
   "source": [
    "ign = dec.gns_names.index('Dcx')\n",
    "torch.sum(icodesN==ign)"
   ]
  },
  {
   "cell_type": "code",
   "execution_count": 134,
   "id": "18d18820-b428-400f-aa2e-012873e22e5d",
   "metadata": {},
   "outputs": [],
   "source": [
    "XH_ = dec.XH[indexMols[icodesN==ign]]"
   ]
  },
  {
   "cell_type": "code",
   "execution_count": null,
   "id": "1c333c0a-f701-4f96-ac40-d6242003d894",
   "metadata": {},
   "outputs": [],
   "source": []
  },
  {
   "cell_type": "code",
   "execution_count": null,
   "id": "0f9d39c3-34f7-41a4-acab-9e09e71fe0ab",
   "metadata": {},
   "outputs": [],
   "source": []
  },
  {
   "cell_type": "code",
   "execution_count": 114,
   "id": "f703e706-bf53-4d39-9062-897410fa9f8c",
   "metadata": {},
   "outputs": [
    {
     "data": {
      "image/png": "[encoded data removed]",
      "text/plain": [
       "<Figure size 432x288 with 1 Axes>"
      ]
     },
     "metadata": {
      "needs_background": "light"
     },
     "output_type": "display_data"
    }
   ],
   "source": [
    "th_gn = [ig for ig,gn in enumerate(dec.gns_names) if 'blank' in gn][0]\n",
    "score_bad = mean_score_bits[icodesN>=th_gn].numpy()\n",
    "score_good = mean_score_bits[(icodesN<th_gn)&(icodesN>=0)].numpy()\n",
    "plt.hist(score_bad,density=True,bins=300);\n",
    "plt.hist(score_good,density=True,bins=300,alpha=0.5);"
   ]
  },
  {
   "cell_type": "code",
   "execution_count": 118,
   "id": "bb374b98-82bf-4276-9fb4-472b1d1475d6",
   "metadata": {},
   "outputs": [
    {
     "data": {
      "text/plain": [
       "0.10970105288870848"
      ]
     },
     "execution_count": 118,
     "metadata": {},
     "output_type": "execute_result"
    }
   ],
   "source": [
    "np.sum(score_bad>0.5)/np.sum(score_good>0.5)"
   ]
  },
  {
   "cell_type": "code",
   "execution_count": null,
   "id": "20f5d02b-6ac3-4ac8-a5d4-8dba331023ac",
   "metadata": {},
   "outputs": [],
   "source": []
  },
  {
   "cell_type": "code",
   "execution_count": 90,
   "id": "4181fa4d-da80-4e28-a3b7-f634c8ec3d07",
   "metadata": {},
   "outputs": [],
   "source": [
    "cds,ncts = torch.unique(icodesN,return_counts=True)"
   ]
  },
  {
   "cell_type": "code",
   "execution_count": 101,
   "id": "0edb8d35-fc65-440f-a3d3-02346dc73dab",
   "metadata": {},
   "outputs": [],
   "source": [
    "mean_score_bits = score_bits2.mean(dim=-1)"
   ]
  },
  {
   "cell_type": "code",
   "execution_count": 103,
   "id": "47ef6cbe-82aa-47fc-8849-ee355a39ffb5",
   "metadata": {},
   "outputs": [
    {
     "data": {
      "text/plain": [
       "tensor([0.1684, 0.2409, 0.2109, 0.5689, 0.2117, 0.1970, 0.1970, 0.2589, 0.2388,\n",
       "        0.3806, 0.2876, 0.2566, 0.2785, 0.2490, 0.3205, 0.1899, 0.4704, 0.2474,\n",
       "        0.1868, 0.3467, 0.2838, 0.3368, 0.2712, 0.5806, 0.2875, 0.4075, 0.3662,\n",
       "        0.2002, 0.2100, 0.3808], dtype=torch.float64)"
      ]
     },
     "execution_count": 103,
     "metadata": {},
     "output_type": "execute_result"
    }
   ],
   "source": [
    "mean_score_bits[:30]"
   ]
  },
  {
   "cell_type": "code",
   "execution_count": 91,
   "id": "cbd064be-093a-46ac-9b56-510b41402828",
   "metadata": {},
   "outputs": [
    {
     "data": {
      "text/plain": [
       "[<matplotlib.lines.Line2D at 0x29ff2c81190>]"
      ]
     },
     "execution_count": 91,
     "metadata": {},
     "output_type": "execute_result"
    },
    {
     "data": {
      "image/png": "[encoded data removed]",
      "text/plain": [
       "<Figure size 432x288 with 1 Axes>"
      ]
     },
     "metadata": {
      "needs_background": "light"
     },
     "output_type": "display_data"
    }
   ],
   "source": [
    "plt.plot(cds[1:].numpy(),ncts[1:].numpy())"
   ]
  },
  {
   "cell_type": "code",
   "execution_count": 94,
   "id": "799ae0aa-5d63-4d4d-82c5-2ea45e54aa66",
   "metadata": {},
   "outputs": [
    {
     "data": {
      "text/plain": [
       "58143.529976019185"
      ]
     },
     "execution_count": 94,
     "metadata": {},
     "output_type": "execute_result"
    }
   ],
   "source": [
    "np.mean(ncts[1:418].numpy())#/np.mean(ncts[418:].numpy())"
   ]
  },
  {
   "cell_type": "code",
   "execution_count": 86,
   "id": "a3229353-d3b6-46c2-81c2-db19d142cb3f",
   "metadata": {},
   "outputs": [
    {
     "data": {
      "text/plain": [
       "tensor([False, False, False,  ..., False, False, False])"
      ]
     },
     "execution_count": 86,
     "metadata": {},
     "output_type": "execute_result"
    }
   ],
   "source": [
    "cd = codes_lib[0]\n"
   ]
  },
  {
   "cell_type": "code",
   "execution_count": 76,
   "id": "c81d8e09-4868-43c3-8de1-a586560e2386",
   "metadata": {},
   "outputs": [
    {
     "data": {
      "text/plain": [
       "torch.Size([826, 4])"
      ]
     },
     "execution_count": 76,
     "metadata": {},
     "output_type": "execute_result"
    }
   ],
   "source": [
    "codes_lib.shape"
   ]
  },
  {
   "cell_type": "code",
   "execution_count": 41,
   "id": "6a58c6a7-feab-4881-bbef-d8d08625eaf1",
   "metadata": {},
   "outputs": [
    {
     "data": {
      "text/plain": [
       "tensor([4616,   -1,   -1,   -1])"
      ]
     },
     "execution_count": 41,
     "metadata": {},
     "output_type": "execute_result"
    }
   ],
   "source": [
    "indexMols[0]"
   ]
  },
  {
   "cell_type": "code",
   "execution_count": 321,
   "id": "067e6379-549c-40cd-b752-a82f194f3e13",
   "metadata": {},
   "outputs": [
    {
     "data": {
      "text/plain": [
       "tensor([0.9557, 0.6709, 0.6141,  ..., 0.0420, 0.0221, 0.3296],\n",
       "       dtype=torch.float64)"
      ]
     },
     "execution_count": 321,
     "metadata": {},
     "output_type": "execute_result"
    }
   ],
   "source": [
    "scoreF"
   ]
  },
  {
   "cell_type": "code",
   "execution_count": 311,
   "id": "eb5b348f-af77-4ff9-ac83-55ac89c145df",
   "metadata": {},
   "outputs": [
    {
     "data": {
      "text/plain": [
       "tensor([ 0.3589, -1.0000, -1.0000, -1.0000, -1.0000, -1.0000,  0.4242, -1.0000,\n",
       "        -1.0000, -1.0000, -1.0000, -1.0000, -1.0000, -1.0000, -1.0000,  0.5198,\n",
       "        -1.0000, -1.0000, -1.0000, -1.0000, -1.0000, -1.0000, -1.0000, -1.0000,\n",
       "        -1.0000, -1.0000, -1.0000, -1.0000, -1.0000, -1.0000, -1.0000, -1.0000,\n",
       "        -1.0000, -1.0000, -1.0000, -1.0000, -1.0000, -1.0000, -1.0000, -1.0000,\n",
       "        -1.0000, -1.0000,  0.9557, -1.0000, -1.0000, -1.0000, -1.0000, -1.0000],\n",
       "       dtype=torch.float64)"
      ]
     },
     "execution_count": 311,
     "metadata": {},
     "output_type": "execute_result"
    }
   ],
   "source": [
    "score_bits[100]"
   ]
  },
  {
   "cell_type": "code",
   "execution_count": 315,
   "id": "13e114f3-cd02-46cd-b8d5-40cfe8b304ed",
   "metadata": {},
   "outputs": [
    {
     "data": {
      "text/plain": [
       "tensor([0.2049, 0.6141, 0.6709, 0.9557, 2.0000, 2.0000, 2.0000, 2.0000, 2.0000,\n",
       "        2.0000, 2.0000, 2.0000, 2.0000, 2.0000, 2.0000, 2.0000, 2.0000, 2.0000,\n",
       "        2.0000, 2.0000, 2.0000, 2.0000, 2.0000, 2.0000, 2.0000, 2.0000, 2.0000,\n",
       "        2.0000, 2.0000, 2.0000, 2.0000, 2.0000, 2.0000, 2.0000, 2.0000, 2.0000,\n",
       "        2.0000, 2.0000, 2.0000, 2.0000, 2.0000, 2.0000, 2.0000],\n",
       "       dtype=torch.float64)"
      ]
     },
     "execution_count": 315,
     "metadata": {},
     "output_type": "execute_result"
    }
   ],
   "source": [
    "scoreClu[0]"
   ]
  },
  {
   "cell_type": "code",
   "execution_count": 301,
   "id": "fda73e08-4372-4aa6-baef-84ce5d057c9b",
   "metadata": {},
   "outputs": [
    {
     "data": {
      "text/plain": [
       "4"
      ]
     },
     "execution_count": 301,
     "metadata": {},
     "output_type": "execute_result"
    }
   ],
   "source": [
    "score_bits[ires.flip(0),Rs_U.flip(0)]=scoresF2.flip(0)"
   ]
  },
  {
   "cell_type": "code",
   "execution_count": 291,
   "id": "2a39e486-2a28-414b-a2a9-916a462e0e89",
   "metadata": {},
   "outputs": [
    {
     "data": {
      "text/plain": [
       "tensor([0.3076, 0.3562, 0.4624, 0.9557, 2.0000, 2.0000, 2.0000, 2.0000, 2.0000,\n",
       "        2.0000, 2.0000, 2.0000, 2.0000, 2.0000, 2.0000, 2.0000, 2.0000, 2.0000,\n",
       "        2.0000, 2.0000, 2.0000, 2.0000, 2.0000, 2.0000, 2.0000, 2.0000, 2.0000,\n",
       "        2.0000, 2.0000, 2.0000, 2.0000, 2.0000, 2.0000, 2.0000, 2.0000, 2.0000,\n",
       "        2.0000, 2.0000, 2.0000, 2.0000, 2.0000, 2.0000, 2.0000],\n",
       "       dtype=torch.float64)"
      ]
     },
     "execution_count": 291,
     "metadata": {},
     "output_type": "execute_result"
    }
   ],
   "source": [
    "scoreClu[300]"
   ]
  },
  {
   "cell_type": "code",
   "execution_count": null,
   "id": "355bbfea-c668-4e07-b4d4-221c483730fc",
   "metadata": {},
   "outputs": [],
   "source": []
  },
  {
   "cell_type": "code",
   "execution_count": null,
   "id": "f3851638-9e9d-46c0-9582-c377509832f5",
   "metadata": {},
   "outputs": [],
   "source": []
  },
  {
   "cell_type": "code",
   "execution_count": 267,
   "id": "7fd4c9de-239a-4895-93df-44f7f6486c37",
   "metadata": {},
   "outputs": [
    {
     "data": {
      "text/plain": [
       "tensor([ 0.2049, -1.0000, -1.0000, -1.0000, -1.0000, -1.0000, -1.0000, -1.0000,\n",
       "        -1.0000, -1.0000, -1.0000, -1.0000, -1.0000, -1.0000, -1.0000, -1.0000,\n",
       "        -1.0000, -1.0000, -1.0000, -1.0000, -1.0000, -1.0000, -1.0000, -1.0000,\n",
       "        -1.0000, -1.0000, -1.0000, -1.0000, -1.0000, -1.0000, -1.0000, -1.0000,\n",
       "        -1.0000, -1.0000, -1.0000, -1.0000, -1.0000, -1.0000, -1.0000, -1.0000,\n",
       "        -1.0000, -1.0000, -1.0000, -1.0000, -1.0000, -1.0000, -1.0000, -1.0000],\n",
       "       dtype=torch.float64)"
      ]
     },
     "execution_count": 267,
     "metadata": {},
     "output_type": "execute_result"
    }
   ],
   "source": [
    "score_bits[0]"
   ]
  },
  {
   "cell_type": "code",
   "execution_count": 262,
   "id": "e1bed174-3e94-44f7-914e-4e6d8c317a98",
   "metadata": {},
   "outputs": [
    {
     "data": {
      "text/plain": [
       "tensor([ 0,  0,  0,  ..., 41, 47, 35], dtype=torch.int32)"
      ]
     },
     "execution_count": 262,
     "metadata": {},
     "output_type": "execute_result"
    }
   ],
   "source": [
    "Rs_U"
   ]
  },
  {
   "cell_type": "code",
   "execution_count": 187,
   "id": "1b80b3ac-3c85-4268-b6d2-ccfb4df07f4b",
   "metadata": {},
   "outputs": [],
   "source": [
    "runfT2 = torch.gather(runfT,dim=-1,index=asort)\n",
    "res_unfolder2 = runfT2[runfT2>=0]"
   ]
  },
  {
   "cell_type": "code",
   "execution_count": 191,
   "id": "f1b7b9c8-9b32-4311-9303-bc17171715f5",
   "metadata": {},
   "outputs": [],
   "source": [
    "scoreClu = torch.gather(scoreClu,dim=-1,index=asort)\n"
   ]
  },
  {
   "cell_type": "code",
   "execution_count": 192,
   "id": "3de85a52-e3eb-4e3f-9599-fc3808e51d98",
   "metadata": {},
   "outputs": [
    {
     "data": {
      "text/plain": [
       "tensor([0.2049, 0.6141, 0.6709,  ..., 0.0420, 0.3296, 0.9557],\n",
       "       dtype=torch.float64)"
      ]
     },
     "execution_count": 192,
     "metadata": {},
     "output_type": "execute_result"
    }
   ],
   "source": [
    "#scoresF2,res_unfolder2"
   ]
  },
  {
   "cell_type": "code",
   "execution_count": 195,
   "id": "7487be75-175e-4e11-8cbb-f8e547d13994",
   "metadata": {},
   "outputs": [
    {
     "data": {
      "text/plain": [
       "tensor([0.9557, 0.6709, 0.6141, 0.2049, 0.9557, 0.5409, 0.8424, 0.6870, 0.9557,\n",
       "        0.7579], dtype=torch.float64)"
      ]
     },
     "execution_count": 195,
     "metadata": {},
     "output_type": "execute_result"
    }
   ],
   "source": [
    "scoreF[:10]"
   ]
  },
  {
   "cell_type": "code",
   "execution_count": 159,
   "id": "0c7ba81f-06fe-47d6-b0f9-647a7300f876",
   "metadata": {},
   "outputs": [],
   "source": [
    "distribution = torch.distributions.Normal(meanD.mean(), meanD.std())\n",
    "scoreD = np.log(distribution.cdf(meanD))"
   ]
  },
  {
   "cell_type": "code",
   "execution_count": 158,
   "id": "b0fdd619-3053-42e3-b469-32f0b8e72ee2",
   "metadata": {},
   "outputs": [],
   "source": [
    "meanD = -torch.mean(torch.abs(XD),axis=-1)"
   ]
  },
  {
   "cell_type": "code",
   "execution_count": 152,
   "id": "fb810cef-caae-4ab0-8d87-3593e0a31f84",
   "metadata": {},
   "outputs": [],
   "source": [
    "#torch.sort(cdf)"
   ]
  },
  {
   "cell_type": "code",
   "execution_count": null,
   "id": "e48289e4-6fd4-4904-a284-4e57184a712b",
   "metadata": {},
   "outputs": [],
   "source": []
  },
  {
   "cell_type": "code",
   "execution_count": 135,
   "id": "cdbc9471-d1c1-40cb-b7cf-ad58bf9c148b",
   "metadata": {},
   "outputs": [
    {
     "data": {
      "text/plain": [
       "tensor([1.])"
      ]
     },
     "execution_count": 135,
     "metadata": {},
     "output_type": "execute_result"
    }
   ],
   "source": [
    "distribution.cdf(torch.from_numpy(np.array([200])))"
   ]
  },
  {
   "cell_type": "code",
   "execution_count": 105,
   "id": "2a79f0df-12c6-4298-9cca-92b0932ea6a2",
   "metadata": {},
   "outputs": [],
   "source": [
    "H = torch.from_numpy(dec.XH[:,-3])"
   ]
  },
  {
   "cell_type": "code",
   "execution_count": 115,
   "id": "fc8e853b-edc0-4391-96c3-5339a9b47648",
   "metadata": {},
   "outputs": [],
   "source": [
    "Hsc = H[runfT]\n",
    "Hsc[runfT<0]=0"
   ]
  },
  {
   "cell_type": "code",
   "execution_count": 116,
   "id": "fd2c7037-6036-4617-bbca-3d13b35acb94",
   "metadata": {},
   "outputs": [
    {
     "data": {
      "text/plain": [
       "tensor([[ 5183.8594,  5617.3828,  5633.4590,  ...,     0.0000,     0.0000,\n",
       "             0.0000],\n",
       "        [ 4697.8125,  3955.2227,  3787.4634,  ...,     0.0000,     0.0000,\n",
       "             0.0000],\n",
       "        [ 5164.8750,  4947.2109,  4601.6523,  ...,     0.0000,     0.0000,\n",
       "             0.0000],\n",
       "        ...,\n",
       "        [ 3790.2949,  4185.7056, 12072.7354,  ...,     0.0000,     0.0000,\n",
       "             0.0000],\n",
       "        [ 3992.9795,  4634.2197,  3894.0713,  ...,     0.0000,     0.0000,\n",
       "             0.0000],\n",
       "        [ 4954.8989,  5954.0938,  4938.9526,  ...,     0.0000,     0.0000,\n",
       "             0.0000]], dtype=torch.float64)"
      ]
     },
     "execution_count": 116,
     "metadata": {},
     "output_type": "execute_result"
    }
   ],
   "source": [
    "Hsc"
   ]
  },
  {
   "cell_type": "code",
   "execution_count": 113,
   "id": "f3f35969-c47c-4745-8fe0-15aa9460fba4",
   "metadata": {},
   "outputs": [
    {
     "name": "stderr",
     "output_type": "stream",
     "text": [
      "ERROR:root:Internal Python error in the inspect module.\n",
      "Below is the traceback from this internal error.\n",
      "\n"
     ]
    },
    {
     "name": "stdout",
     "output_type": "stream",
     "text": [
      "Traceback (most recent call last):\n",
      "  File \"C:\\Users\\BintuLabUser\\anaconda3\\envs\\cellpose\\lib\\site-packages\\IPython\\core\\interactiveshell.py\", line 3444, in run_code\n",
      "    exec(code_obj, self.user_global_ns, self.user_ns)\n",
      "  File \"C:\\Users\\BINTUL~2\\AppData\\Local\\Temp/ipykernel_28112/1965476591.py\", line 1, in <module>\n",
      "    Hsc.argsort(-1)\n",
      "KeyboardInterrupt\n",
      "\n",
      "During handling of the above exception, another exception occurred:\n",
      "\n",
      "Traceback (most recent call last):\n",
      "  File \"C:\\Users\\BintuLabUser\\anaconda3\\envs\\cellpose\\lib\\site-packages\\IPython\\core\\interactiveshell.py\", line 3447, in run_code\n",
      "    sys.excepthook = old_excepthook\n",
      "KeyboardInterrupt\n",
      "\n",
      "During handling of the above exception, another exception occurred:\n",
      "\n",
      "Traceback (most recent call last):\n",
      "  File \"C:\\Users\\BintuLabUser\\anaconda3\\envs\\cellpose\\lib\\site-packages\\IPython\\core\\interactiveshell.py\", line 2064, in showtraceback\n",
      "    stb = value._render_traceback_()\n",
      "AttributeError: 'KeyboardInterrupt' object has no attribute '_render_traceback_'\n",
      "\n",
      "During handling of the above exception, another exception occurred:\n",
      "\n",
      "Traceback (most recent call last):\n",
      "  File \"C:\\Users\\BintuLabUser\\anaconda3\\envs\\cellpose\\lib\\site-packages\\IPython\\core\\ultratb.py\", line 1101, in get_records\n",
      "    return _fixed_getinnerframes(etb, number_of_lines_of_context, tb_offset)\n",
      "  File \"C:\\Users\\BintuLabUser\\anaconda3\\envs\\cellpose\\lib\\site-packages\\IPython\\core\\ultratb.py\", line 248, in wrapped\n",
      "    return f(*args, **kwargs)\n",
      "  File \"C:\\Users\\BintuLabUser\\anaconda3\\envs\\cellpose\\lib\\site-packages\\IPython\\core\\ultratb.py\", line 281, in _fixed_getinnerframes\n",
      "    records = fix_frame_records_filenames(inspect.getinnerframes(etb, context))\n",
      "  File \"C:\\Users\\BintuLabUser\\anaconda3\\envs\\cellpose\\lib\\inspect.py\", line 1541, in getinnerframes\n",
      "    frameinfo = (tb.tb_frame,) + getframeinfo(tb, context)\n",
      "  File \"C:\\Users\\BintuLabUser\\anaconda3\\envs\\cellpose\\lib\\inspect.py\", line 1499, in getframeinfo\n",
      "    filename = getsourcefile(frame) or getfile(frame)\n",
      "  File \"C:\\Users\\BintuLabUser\\anaconda3\\envs\\cellpose\\lib\\inspect.py\", line 706, in getsourcefile\n",
      "    if os.path.exists(filename):\n",
      "  File \"C:\\Users\\BintuLabUser\\anaconda3\\envs\\cellpose\\lib\\genericpath.py\", line 19, in exists\n",
      "    os.stat(path)\n",
      "KeyboardInterrupt\n"
     ]
    },
    {
     "ename": "TypeError",
     "evalue": "object of type 'NoneType' has no len()",
     "output_type": "error",
     "traceback": [
      "\u001b[1;31m---------------------------------------------------------------------------\u001b[0m",
      "\u001b[1;31mKeyboardInterrupt\u001b[0m                         Traceback (most recent call last)",
      "    \u001b[1;31m[... skipping hidden 1 frame]\u001b[0m\n",
      "\u001b[1;32mC:\\Users\\BINTUL~2\\AppData\\Local\\Temp/ipykernel_28112/1965476591.py\u001b[0m in \u001b[0;36m<module>\u001b[1;34m\u001b[0m\n\u001b[1;32m----> 1\u001b[1;33m \u001b[0mHsc\u001b[0m\u001b[1;33m.\u001b[0m\u001b[0margsort\u001b[0m\u001b[1;33m(\u001b[0m\u001b[1;33m-\u001b[0m\u001b[1;36m1\u001b[0m\u001b[1;33m)\u001b[0m\u001b[1;33m\u001b[0m\u001b[1;33m\u001b[0m\u001b[0m\n\u001b[0m",
      "\u001b[1;31mKeyboardInterrupt\u001b[0m: ",
      "\nDuring handling of the above exception, another exception occurred:\n",
      "\u001b[1;31mKeyboardInterrupt\u001b[0m                         Traceback (most recent call last)",
      "\u001b[1;32m~\\anaconda3\\envs\\cellpose\\lib\\site-packages\\IPython\\core\\interactiveshell.py\u001b[0m in \u001b[0;36mrun_code\u001b[1;34m(self, code_obj, result, async_)\u001b[0m\n\u001b[0;32m   3446\u001b[0m                 \u001b[1;31m# Reset our crash handler in place\u001b[0m\u001b[1;33m\u001b[0m\u001b[1;33m\u001b[0m\u001b[0m\n\u001b[1;32m-> 3447\u001b[1;33m                 \u001b[0msys\u001b[0m\u001b[1;33m.\u001b[0m\u001b[0mexcepthook\u001b[0m \u001b[1;33m=\u001b[0m \u001b[0mold_excepthook\u001b[0m\u001b[1;33m\u001b[0m\u001b[1;33m\u001b[0m\u001b[0m\n\u001b[0m\u001b[0;32m   3448\u001b[0m         \u001b[1;32mexcept\u001b[0m \u001b[0mSystemExit\u001b[0m \u001b[1;32mas\u001b[0m \u001b[0me\u001b[0m\u001b[1;33m:\u001b[0m\u001b[1;33m\u001b[0m\u001b[1;33m\u001b[0m\u001b[0m\n",
      "\u001b[1;31mKeyboardInterrupt\u001b[0m: ",
      "\nDuring handling of the above exception, another exception occurred:\n",
      "\u001b[1;31mAttributeError\u001b[0m                            Traceback (most recent call last)",
      "\u001b[1;32m~\\anaconda3\\envs\\cellpose\\lib\\site-packages\\IPython\\core\\interactiveshell.py\u001b[0m in \u001b[0;36mshowtraceback\u001b[1;34m(self, exc_tuple, filename, tb_offset, exception_only, running_compiled_code)\u001b[0m\n\u001b[0;32m   2063\u001b[0m                         \u001b[1;31m# in the engines. This should return a list of strings.\u001b[0m\u001b[1;33m\u001b[0m\u001b[1;33m\u001b[0m\u001b[0m\n\u001b[1;32m-> 2064\u001b[1;33m                         \u001b[0mstb\u001b[0m \u001b[1;33m=\u001b[0m \u001b[0mvalue\u001b[0m\u001b[1;33m.\u001b[0m\u001b[0m_render_traceback_\u001b[0m\u001b[1;33m(\u001b[0m\u001b[1;33m)\u001b[0m\u001b[1;33m\u001b[0m\u001b[1;33m\u001b[0m\u001b[0m\n\u001b[0m\u001b[0;32m   2065\u001b[0m                     \u001b[1;32mexcept\u001b[0m \u001b[0mException\u001b[0m\u001b[1;33m:\u001b[0m\u001b[1;33m\u001b[0m\u001b[1;33m\u001b[0m\u001b[0m\n",
      "\u001b[1;31mAttributeError\u001b[0m: 'KeyboardInterrupt' object has no attribute '_render_traceback_'",
      "\nDuring handling of the above exception, another exception occurred:\n",
      "\u001b[1;31mTypeError\u001b[0m                                 Traceback (most recent call last)",
      "    \u001b[1;31m[... skipping hidden 1 frame]\u001b[0m\n",
      "\u001b[1;32m~\\anaconda3\\envs\\cellpose\\lib\\site-packages\\IPython\\core\\interactiveshell.py\u001b[0m in \u001b[0;36mshowtraceback\u001b[1;34m(self, exc_tuple, filename, tb_offset, exception_only, running_compiled_code)\u001b[0m\n\u001b[0;32m   2064\u001b[0m                         \u001b[0mstb\u001b[0m \u001b[1;33m=\u001b[0m \u001b[0mvalue\u001b[0m\u001b[1;33m.\u001b[0m\u001b[0m_render_traceback_\u001b[0m\u001b[1;33m(\u001b[0m\u001b[1;33m)\u001b[0m\u001b[1;33m\u001b[0m\u001b[1;33m\u001b[0m\u001b[0m\n\u001b[0;32m   2065\u001b[0m                     \u001b[1;32mexcept\u001b[0m \u001b[0mException\u001b[0m\u001b[1;33m:\u001b[0m\u001b[1;33m\u001b[0m\u001b[1;33m\u001b[0m\u001b[0m\n\u001b[1;32m-> 2066\u001b[1;33m                         stb = self.InteractiveTB.structured_traceback(etype,\n\u001b[0m\u001b[0;32m   2067\u001b[0m                                             value, tb, tb_offset=tb_offset)\n\u001b[0;32m   2068\u001b[0m \u001b[1;33m\u001b[0m\u001b[0m\n",
      "\u001b[1;32m~\\anaconda3\\envs\\cellpose\\lib\\site-packages\\IPython\\core\\ultratb.py\u001b[0m in \u001b[0;36mstructured_traceback\u001b[1;34m(self, etype, value, tb, tb_offset, number_of_lines_of_context)\u001b[0m\n\u001b[0;32m   1365\u001b[0m         \u001b[1;32melse\u001b[0m\u001b[1;33m:\u001b[0m\u001b[1;33m\u001b[0m\u001b[1;33m\u001b[0m\u001b[0m\n\u001b[0;32m   1366\u001b[0m             \u001b[0mself\u001b[0m\u001b[1;33m.\u001b[0m\u001b[0mtb\u001b[0m \u001b[1;33m=\u001b[0m \u001b[0mtb\u001b[0m\u001b[1;33m\u001b[0m\u001b[1;33m\u001b[0m\u001b[0m\n\u001b[1;32m-> 1367\u001b[1;33m         return FormattedTB.structured_traceback(\n\u001b[0m\u001b[0;32m   1368\u001b[0m             self, etype, value, tb, tb_offset, number_of_lines_of_context)\n\u001b[0;32m   1369\u001b[0m \u001b[1;33m\u001b[0m\u001b[0m\n",
      "\u001b[1;32m~\\anaconda3\\envs\\cellpose\\lib\\site-packages\\IPython\\core\\ultratb.py\u001b[0m in \u001b[0;36mstructured_traceback\u001b[1;34m(self, etype, value, tb, tb_offset, number_of_lines_of_context)\u001b[0m\n\u001b[0;32m   1265\u001b[0m         \u001b[1;32mif\u001b[0m \u001b[0mmode\u001b[0m \u001b[1;32min\u001b[0m \u001b[0mself\u001b[0m\u001b[1;33m.\u001b[0m\u001b[0mverbose_modes\u001b[0m\u001b[1;33m:\u001b[0m\u001b[1;33m\u001b[0m\u001b[1;33m\u001b[0m\u001b[0m\n\u001b[0;32m   1266\u001b[0m             \u001b[1;31m# Verbose modes need a full traceback\u001b[0m\u001b[1;33m\u001b[0m\u001b[1;33m\u001b[0m\u001b[0m\n\u001b[1;32m-> 1267\u001b[1;33m             return VerboseTB.structured_traceback(\n\u001b[0m\u001b[0;32m   1268\u001b[0m                 \u001b[0mself\u001b[0m\u001b[1;33m,\u001b[0m \u001b[0metype\u001b[0m\u001b[1;33m,\u001b[0m \u001b[0mvalue\u001b[0m\u001b[1;33m,\u001b[0m \u001b[0mtb\u001b[0m\u001b[1;33m,\u001b[0m \u001b[0mtb_offset\u001b[0m\u001b[1;33m,\u001b[0m \u001b[0mnumber_of_lines_of_context\u001b[0m\u001b[1;33m\u001b[0m\u001b[1;33m\u001b[0m\u001b[0m\n\u001b[0;32m   1269\u001b[0m             )\n",
      "\u001b[1;32m~\\anaconda3\\envs\\cellpose\\lib\\site-packages\\IPython\\core\\ultratb.py\u001b[0m in \u001b[0;36mstructured_traceback\u001b[1;34m(self, etype, evalue, etb, tb_offset, number_of_lines_of_context)\u001b[0m\n\u001b[0;32m   1122\u001b[0m         \u001b[1;34m\"\"\"Return a nice text document describing the traceback.\"\"\"\u001b[0m\u001b[1;33m\u001b[0m\u001b[1;33m\u001b[0m\u001b[0m\n\u001b[0;32m   1123\u001b[0m \u001b[1;33m\u001b[0m\u001b[0m\n\u001b[1;32m-> 1124\u001b[1;33m         formatted_exception = self.format_exception_as_a_whole(etype, evalue, etb, number_of_lines_of_context,\n\u001b[0m\u001b[0;32m   1125\u001b[0m                                                                tb_offset)\n\u001b[0;32m   1126\u001b[0m \u001b[1;33m\u001b[0m\u001b[0m\n",
      "\u001b[1;32m~\\anaconda3\\envs\\cellpose\\lib\\site-packages\\IPython\\core\\ultratb.py\u001b[0m in \u001b[0;36mformat_exception_as_a_whole\u001b[1;34m(self, etype, evalue, etb, number_of_lines_of_context, tb_offset)\u001b[0m\n\u001b[0;32m   1080\u001b[0m \u001b[1;33m\u001b[0m\u001b[0m\n\u001b[0;32m   1081\u001b[0m \u001b[1;33m\u001b[0m\u001b[0m\n\u001b[1;32m-> 1082\u001b[1;33m         \u001b[0mlast_unique\u001b[0m\u001b[1;33m,\u001b[0m \u001b[0mrecursion_repeat\u001b[0m \u001b[1;33m=\u001b[0m \u001b[0mfind_recursion\u001b[0m\u001b[1;33m(\u001b[0m\u001b[0morig_etype\u001b[0m\u001b[1;33m,\u001b[0m \u001b[0mevalue\u001b[0m\u001b[1;33m,\u001b[0m \u001b[0mrecords\u001b[0m\u001b[1;33m)\u001b[0m\u001b[1;33m\u001b[0m\u001b[1;33m\u001b[0m\u001b[0m\n\u001b[0m\u001b[0;32m   1083\u001b[0m \u001b[1;33m\u001b[0m\u001b[0m\n\u001b[0;32m   1084\u001b[0m         \u001b[0mframes\u001b[0m \u001b[1;33m=\u001b[0m \u001b[0mself\u001b[0m\u001b[1;33m.\u001b[0m\u001b[0mformat_records\u001b[0m\u001b[1;33m(\u001b[0m\u001b[0mrecords\u001b[0m\u001b[1;33m,\u001b[0m \u001b[0mlast_unique\u001b[0m\u001b[1;33m,\u001b[0m \u001b[0mrecursion_repeat\u001b[0m\u001b[1;33m)\u001b[0m\u001b[1;33m\u001b[0m\u001b[1;33m\u001b[0m\u001b[0m\n",
      "\u001b[1;32m~\\anaconda3\\envs\\cellpose\\lib\\site-packages\\IPython\\core\\ultratb.py\u001b[0m in \u001b[0;36mfind_recursion\u001b[1;34m(etype, value, records)\u001b[0m\n\u001b[0;32m    380\u001b[0m     \u001b[1;31m# first frame (from in to out) that looks different.\u001b[0m\u001b[1;33m\u001b[0m\u001b[1;33m\u001b[0m\u001b[0m\n\u001b[0;32m    381\u001b[0m     \u001b[1;32mif\u001b[0m \u001b[1;32mnot\u001b[0m \u001b[0mis_recursion_error\u001b[0m\u001b[1;33m(\u001b[0m\u001b[0metype\u001b[0m\u001b[1;33m,\u001b[0m \u001b[0mvalue\u001b[0m\u001b[1;33m,\u001b[0m \u001b[0mrecords\u001b[0m\u001b[1;33m)\u001b[0m\u001b[1;33m:\u001b[0m\u001b[1;33m\u001b[0m\u001b[1;33m\u001b[0m\u001b[0m\n\u001b[1;32m--> 382\u001b[1;33m         \u001b[1;32mreturn\u001b[0m \u001b[0mlen\u001b[0m\u001b[1;33m(\u001b[0m\u001b[0mrecords\u001b[0m\u001b[1;33m)\u001b[0m\u001b[1;33m,\u001b[0m \u001b[1;36m0\u001b[0m\u001b[1;33m\u001b[0m\u001b[1;33m\u001b[0m\u001b[0m\n\u001b[0m\u001b[0;32m    383\u001b[0m \u001b[1;33m\u001b[0m\u001b[0m\n\u001b[0;32m    384\u001b[0m     \u001b[1;31m# Select filename, lineno, func_name to track frames with\u001b[0m\u001b[1;33m\u001b[0m\u001b[1;33m\u001b[0m\u001b[0m\n",
      "\u001b[1;31mTypeError\u001b[0m: object of type 'NoneType' has no len()"
     ]
    }
   ],
   "source": [
    "Hsc.argsort(-1)"
   ]
  },
  {
   "cell_type": "code",
   "execution_count": 85,
   "id": "5ccb26a4-b5cc-4963-8fb3-1ad88d8c2704",
   "metadata": {
    "collapsed": true,
    "jupyter": {
     "outputs_hidden": true
    },
    "tags": []
   },
   "outputs": [
    {
     "name": "stderr",
     "output_type": "stream",
     "text": [
      "\n",
      "  0%|                                                                                     | 0/59387835 [00:00<?, ?it/s]\u001b[A\n",
      "  0%|                                                                     | 59747/59387835 [00:00<01:43, 574405.60it/s]\u001b[A\n",
      "  0%|▏                                                                   | 123471/59387835 [00:00<01:39, 596897.43it/s]\u001b[A\n",
      "  0%|▏                                                                   | 187961/59387835 [00:00<01:37, 607446.13it/s]\u001b[A\n",
      "  0%|▎                                                                   | 248706/59387835 [00:00<01:38, 599655.68it/s]\u001b[A\n",
      "  1%|▎                                                                   | 308669/59387835 [00:00<01:40, 590007.35it/s]\u001b[A\n",
      "  1%|▍                                                                   | 373314/59387835 [00:00<01:38, 600708.38it/s]\u001b[A\n",
      "  1%|▍                                                                   | 433388/59387835 [00:00<01:39, 593138.30it/s]\u001b[A\n",
      "  1%|▌                                                                   | 493781/59387835 [00:00<01:39, 589148.30it/s]\u001b[A\n",
      "  1%|▋                                                                   | 559095/59387835 [00:00<01:37, 601269.81it/s]\u001b[A\n",
      "  1%|▋                                                                   | 622770/59387835 [00:01<01:38, 599568.16it/s]\u001b[A\n",
      "  1%|▊                                                                   | 685294/59387835 [00:01<01:37, 599113.20it/s]\u001b[A\n",
      "  1%|▊                                                                   | 750907/59387835 [00:01<01:35, 615574.25it/s]\u001b[A\n",
      "  1%|▉                                                                   | 812519/59387835 [00:01<01:36, 608512.86it/s]\u001b[A\n",
      "  1%|█                                                                   | 873412/59387835 [00:01<01:37, 601516.86it/s]\u001b[A\n",
      "  2%|█                                                                   | 938430/59387835 [00:01<01:36, 608634.37it/s]\u001b[A\n",
      "  2%|█▏                                                                  | 999314/59387835 [00:01<01:37, 601608.78it/s]\u001b[A\n",
      "  2%|█▏                                                                 | 1066504/59387835 [00:01<01:35, 608502.26it/s]\u001b[A\n",
      "  2%|█▎                                                                 | 1127348/59387835 [00:01<01:36, 601469.61it/s]\u001b[A\n",
      "  2%|█▎                                                                 | 1189890/59387835 [00:01<01:36, 601412.75it/s]\u001b[A\n",
      "  2%|█▍                                                                 | 1250025/59387835 [00:02<01:37, 594446.60it/s]\u001b[A\n",
      "  2%|█▍                                                                 | 1311589/59387835 [00:02<01:37, 593674.59it/s]\u001b[A\n",
      "  2%|█▌                                                                 | 1370952/59387835 [00:02<01:38, 586793.56it/s]\u001b[A\n",
      "  2%|█▌                                                                 | 1436429/59387835 [00:02<01:36, 599591.38it/s]\u001b[A\n",
      "  3%|█▋                                                                 | 1502123/59387835 [00:02<01:37, 595448.23it/s]\u001b[A\n",
      "  3%|█▊                                                                 | 1562072/59387835 [00:02<01:38, 589810.29it/s]\u001b[A\n",
      "  3%|█▊                                                                 | 1628184/59387835 [00:02<01:35, 603387.94it/s]\u001b[A\n",
      "  3%|█▉                                                                 | 1688542/59387835 [00:02<01:38, 583162.37it/s]\u001b[A\n",
      "  3%|█▉                                                                 | 1753090/59387835 [00:02<01:37, 594140.92it/s]\u001b[A\n",
      "  3%|██                                                                 | 1818547/59387835 [00:03<01:35, 604528.96it/s]\u001b[A\n",
      "  3%|██▏                                                                | 1886064/59387835 [00:03<01:33, 617760.04it/s]\u001b[A\n",
      "  3%|██▏                                                                | 1947911/59387835 [00:03<01:36, 597182.51it/s]\u001b[A\n",
      "  3%|██▎                                                                | 2007768/59387835 [00:03<01:37, 590801.23it/s]\u001b[A\n",
      "  3%|██▎                                                                | 2073753/59387835 [00:03<01:34, 603681.55it/s]\u001b[A\n",
      "  4%|██▍                                                                | 2134199/59387835 [00:03<01:38, 583653.67it/s]\u001b[A\n",
      "  4%|██▍                                                                | 2195421/59387835 [00:03<01:37, 585097.89it/s]\u001b[A\n",
      "  4%|██▌                                                                | 2262306/59387835 [00:03<01:34, 602195.86it/s]\u001b[A\n",
      "  4%|██▋                                                                | 2328585/59387835 [00:03<01:33, 612578.74it/s]\u001b[A\n",
      "  4%|██▋                                                                | 2389923/59387835 [00:04<01:38, 579247.26it/s]\u001b[A\n",
      "  4%|██▊                                                                | 2455353/59387835 [00:04<01:35, 593638.60it/s]\u001b[A\n",
      "  4%|██▊                                                                | 2523265/59387835 [00:04<01:33, 610956.73it/s]\u001b[A\n",
      "  4%|██▉                                                                | 2589038/59387835 [00:04<01:32, 617253.56it/s]\u001b[A\n",
      "  4%|██▉                                                                | 2657419/59387835 [00:04<01:30, 629144.70it/s]\u001b[A\n",
      "  5%|███                                                                | 2720481/59387835 [00:04<01:35, 595125.15it/s]\u001b[A\n",
      "  5%|███▏                                                               | 2784322/59387835 [00:04<01:34, 596797.31it/s]\u001b[A\n",
      "  5%|███▏                                                               | 2850125/59387835 [00:04<01:33, 603303.82it/s]\u001b[A\n",
      "  5%|███▎                                                               | 2914296/59387835 [00:04<01:32, 613294.80it/s]\u001b[A\n",
      "  5%|███▎                                                               | 2979739/59387835 [00:04<01:31, 614243.82it/s]\u001b[A\n",
      "  5%|███▍                                                               | 3041301/59387835 [00:05<01:39, 568723.31it/s]\u001b[A\n",
      "  5%|███▌                                                               | 3108552/59387835 [00:05<01:35, 586948.05it/s]\u001b[A\n",
      "  5%|███▌                                                               | 3173880/59387835 [00:05<01:33, 598750.41it/s]\u001b[A\n",
      "  5%|███▋                                                               | 3240500/59387835 [00:05<01:32, 609578.01it/s]\u001b[A\n",
      "  6%|███▋                                                               | 3308131/59387835 [00:05<01:30, 621484.59it/s]\u001b[A\n",
      "  6%|███▊                                                               | 3377260/59387835 [00:05<01:28, 634207.82it/s]\u001b[A\n",
      "  6%|███▉                                                               | 3440880/59387835 [00:05<01:37, 576702.95it/s]\u001b[A\n",
      "  6%|███▉                                                               | 3505217/59387835 [00:05<01:34, 588424.49it/s]\u001b[A\n",
      "  6%|████                                                               | 3570148/59387835 [00:05<01:33, 598664.07it/s]\u001b[A\n",
      "  6%|████                                                               | 3636947/59387835 [00:06<01:31, 611289.39it/s]\u001b[A\n",
      "  6%|████▏                                                              | 3702974/59387835 [00:06<01:30, 618168.54it/s]\u001b[A\n",
      "  6%|████▎                                                              | 3768027/59387835 [00:06<01:29, 620307.81it/s]\u001b[A\n",
      "  6%|████▎                                                              | 3830302/59387835 [00:06<01:38, 562579.36it/s]\u001b[A\n",
      "  7%|████▍                                                              | 3892217/59387835 [00:06<01:36, 574922.08it/s]\u001b[A\n",
      "  7%|████▍                                                              | 3958225/59387835 [00:06<01:33, 592020.38it/s]\u001b[A\n",
      "  7%|████▌                                                              | 4022460/59387835 [00:06<01:32, 599434.95it/s]\u001b[A\n",
      "  7%|████▌                                                              | 4086872/59387835 [00:06<01:31, 605247.43it/s]\u001b[A\n",
      "  7%|████▋                                                              | 4153710/59387835 [00:06<01:29, 616267.85it/s]\u001b[A\n",
      "  7%|████▊                                                              | 4222231/59387835 [00:07<01:27, 628871.93it/s]\u001b[A\n",
      "  7%|████▊                                                              | 4288125/59387835 [00:07<01:27, 630249.00it/s]\u001b[A\n",
      "  7%|████▉                                                              | 4351295/59387835 [00:07<01:36, 570987.92it/s]\u001b[A\n",
      "  7%|████▉                                                              | 4411807/59387835 [00:07<01:35, 574011.40it/s]\u001b[A\n",
      "  8%|█████                                                              | 4476071/59387835 [00:07<01:33, 586555.43it/s]\u001b[A\n",
      "  8%|█████                                                              | 4541617/59387835 [00:07<01:31, 599209.62it/s]\u001b[A\n",
      "  8%|█████▏                                                             | 4609113/59387835 [00:07<01:29, 613772.53it/s]\u001b[A\n",
      "  8%|█████▎                                                             | 4675929/59387835 [00:07<01:27, 622214.50it/s]\u001b[A\n",
      "  8%|█████▎                                                             | 4745065/59387835 [00:07<01:26, 634805.68it/s]\u001b[A\n",
      "  8%|█████▍                                                             | 4812778/59387835 [00:07<01:25, 639619.68it/s]\u001b[A\n",
      "  8%|█████▌                                                             | 4876882/59387835 [00:08<01:36, 567542.56it/s]\u001b[A\n",
      "  8%|█████▌                                                             | 4943906/59387835 [00:08<01:32, 588788.16it/s]\u001b[A\n",
      "  8%|█████▋                                                             | 5008834/59387835 [00:08<01:30, 598819.80it/s]\u001b[A\n",
      "  9%|█████▋                                                             | 5075577/59387835 [00:08<01:28, 611160.57it/s]\u001b[A\n",
      "  9%|█████▊                                                             | 5140494/59387835 [00:08<01:28, 614935.22it/s]\u001b[A\n",
      "  9%|█████▊                                                             | 5205408/59387835 [00:08<01:27, 617622.57it/s]\u001b[A\n",
      "  9%|█████▉                                                             | 5272616/59387835 [00:08<01:26, 626055.45it/s]\u001b[A\n",
      "  9%|██████                                                             | 5335670/59387835 [00:08<01:26, 626670.90it/s]\u001b[A\n",
      "  9%|██████                                                             | 5400721/59387835 [00:08<01:25, 633489.68it/s]\u001b[A\n",
      "  9%|██████▏                                                            | 5468041/59387835 [00:09<01:24, 637640.07it/s]\u001b[A\n",
      "  9%|██████▏                                                            | 5531904/59387835 [00:09<01:37, 553426.88it/s]\u001b[A\n",
      "  9%|██████▎                                                            | 5591242/59387835 [00:09<01:36, 558105.80it/s]\u001b[A\n",
      " 10%|██████▍                                                            | 5658652/59387835 [00:09<01:32, 583448.03it/s]\u001b[A\n",
      " 10%|██████▍                                                            | 5727196/59387835 [00:09<01:28, 605120.10it/s]\u001b[A\n",
      " 10%|██████▌                                                            | 5793199/59387835 [00:09<01:27, 613674.11it/s]\u001b[A\n",
      " 10%|██████▌                                                            | 5858740/59387835 [00:09<01:26, 618496.54it/s]\u001b[A\n",
      " 10%|██████▋                                                            | 5924919/59387835 [00:09<01:25, 623735.54it/s]\u001b[A\n",
      " 10%|██████▊                                                            | 5991501/59387835 [00:09<01:24, 628598.12it/s]\u001b[A\n",
      " 10%|██████▊                                                            | 6056975/59387835 [00:10<01:24, 628855.71it/s]\u001b[A\n",
      " 10%|██████▉                                                            | 6122292/59387835 [00:10<01:24, 628584.48it/s]\u001b[A\n",
      " 10%|██████▉                                                            | 6185270/59387835 [00:10<01:41, 525096.18it/s]\u001b[A\n",
      " 11%|███████                                                            | 6249361/59387835 [00:10<01:36, 549233.66it/s]\u001b[A\n",
      " 11%|███████                                                            | 6313967/59387835 [00:10<01:33, 568977.84it/s]\u001b[A\n",
      " 11%|███████▏                                                           | 6377643/59387835 [00:10<01:31, 581150.84it/s]\u001b[A\n",
      " 11%|███████▎                                                           | 6441562/59387835 [00:10<01:29, 590725.04it/s]\u001b[A\n",
      " 11%|███████▎                                                           | 6509463/59387835 [00:10<01:26, 608772.12it/s]\u001b[A\n",
      " 11%|███████▍                                                           | 6575186/59387835 [00:10<01:25, 615549.54it/s]\u001b[A\n",
      " 11%|███████▍                                                           | 6639087/59387835 [00:11<01:25, 615191.57it/s]\u001b[A\n",
      " 11%|███████▌                                                           | 6705687/59387835 [00:11<01:23, 629111.78it/s]\u001b[A\n",
      " 11%|███████▋                                                           | 6770863/59387835 [00:11<01:23, 628358.44it/s]\u001b[A\n",
      " 12%|███████▋                                                           | 6835788/59387835 [00:11<01:23, 627105.91it/s]\u001b[A\n",
      " 12%|███████▊                                                           | 6905367/59387835 [00:11<01:22, 639650.28it/s]\u001b[A\n",
      " 12%|███████▊                                                           | 6969439/59387835 [00:11<01:22, 632550.06it/s]\u001b[A\n",
      " 12%|███████▉                                                           | 7032769/59387835 [00:11<01:39, 527976.07it/s]\u001b[A\n",
      " 12%|████████                                                           | 7094623/59387835 [00:11<01:35, 545690.18it/s]\u001b[A\n",
      " 12%|████████                                                           | 7161815/59387835 [00:11<01:31, 573279.48it/s]\u001b[A\n",
      " 12%|████████▏                                                          | 7226436/59387835 [00:12<01:28, 586817.19it/s]\u001b[A\n",
      " 12%|████████▏                                                          | 7290243/59387835 [00:12<01:27, 594462.82it/s]\u001b[A\n",
      " 12%|████████▎                                                          | 7354002/59387835 [00:12<01:26, 599849.38it/s]\u001b[A\n",
      " 12%|████████▎                                                          | 7419603/59387835 [00:12<01:25, 608901.48it/s]\u001b[A\n",
      " 13%|████████▍                                                          | 7481004/59387835 [00:12<01:26, 603405.13it/s]\u001b[A\n",
      " 13%|████████▌                                                          | 7543446/59387835 [00:12<01:25, 606682.24it/s]\u001b[A\n",
      " 13%|████████▌                                                          | 7605842/59387835 [00:12<01:24, 611493.30it/s]\u001b[A\n",
      " 13%|████████▋                                                          | 7670296/59387835 [00:12<01:24, 613959.09it/s]\u001b[A\n",
      " 13%|████████▋                                                          | 7734349/59387835 [00:12<01:24, 614513.45it/s]\u001b[A\n",
      " 13%|████████▊                                                          | 7798893/59387835 [00:12<01:23, 616320.65it/s]\u001b[A\n",
      " 13%|████████▊                                                          | 7860590/59387835 [00:13<01:44, 494906.66it/s]\u001b[A\n",
      " 13%|████████▉                                                          | 7924386/59387835 [00:13<01:37, 525531.13it/s]\u001b[A\n",
      " 13%|█████████                                                          | 7987616/59387835 [00:13<01:33, 547748.63it/s]\u001b[A\n",
      " 14%|█████████                                                          | 8052693/59387835 [00:13<01:30, 569417.48it/s]\u001b[A\n",
      " 14%|█████████▏                                                         | 8117849/59387835 [00:13<01:27, 585624.53it/s]\u001b[A\n",
      " 14%|█████████▏                                                         | 8183663/59387835 [00:13<01:25, 599227.75it/s]\u001b[A\n",
      " 14%|█████████▎                                                         | 8248855/59387835 [00:13<01:24, 607271.94it/s]\u001b[A\n",
      " 14%|█████████▍                                                         | 8315637/59387835 [00:13<01:22, 617510.72it/s]\u001b[A\n",
      " 14%|█████████▍                                                         | 8380753/59387835 [00:13<01:22, 620028.22it/s]\u001b[A\n",
      " 14%|█████████▌                                                         | 8443138/59387835 [00:14<01:22, 614005.11it/s]\u001b[A\n",
      " 14%|█████████▌                                                         | 8506061/59387835 [00:14<01:23, 611301.66it/s]\u001b[A\n",
      " 14%|█████████▋                                                         | 8572466/59387835 [00:14<01:22, 619398.28it/s]\u001b[A\n",
      " 15%|█████████▋                                                         | 8637605/59387835 [00:14<01:21, 621443.84it/s]\u001b[A\n",
      " 15%|█████████▊                                                         | 8701613/59387835 [00:14<01:21, 619625.94it/s]\u001b[A\n",
      " 15%|█████████▉                                                         | 8766108/59387835 [00:14<01:21, 619751.22it/s]\u001b[A\n",
      " 15%|█████████▉                                                         | 8830664/59387835 [00:14<01:21, 620016.88it/s]\u001b[A\n",
      " 15%|██████████                                                         | 8892698/59387835 [00:14<01:41, 498077.37it/s]\u001b[A\n",
      " 15%|██████████                                                         | 8955149/59387835 [00:15<01:36, 524495.70it/s]\u001b[A\n",
      " 15%|██████████▏                                                        | 9017472/59387835 [00:15<01:32, 544614.68it/s]\u001b[A\n",
      " 15%|██████████▏                                                        | 9082215/59387835 [00:15<01:28, 566242.57it/s]\u001b[A\n",
      " 15%|██████████▎                                                        | 9146005/59387835 [00:15<01:25, 585230.87it/s]\u001b[A\n",
      " 16%|██████████▍                                                        | 9211226/59387835 [00:15<01:24, 593588.54it/s]\u001b[A\n",
      " 16%|██████████▍                                                        | 9275909/59387835 [00:15<01:23, 601845.09it/s]\u001b[A\n",
      " 16%|██████████▌                                                        | 9339375/59387835 [00:15<01:22, 604293.04it/s]\u001b[A\n",
      " 16%|██████████▌                                                        | 9406811/59387835 [00:15<01:20, 617330.25it/s]\u001b[A\n",
      " 16%|██████████▋                                                        | 9472221/59387835 [00:15<01:20, 620752.73it/s]\u001b[A\n",
      " 16%|██████████▊                                                        | 9536647/59387835 [00:15<01:20, 620347.19it/s]\u001b[A\n",
      " 16%|██████████▊                                                        | 9602836/59387835 [00:16<01:19, 625120.93it/s]\u001b[A\n",
      " 16%|██████████▉                                                        | 9667995/59387835 [00:16<01:19, 625513.89it/s]\u001b[A\n",
      " 16%|██████████▉                                                        | 9733403/59387835 [00:16<01:19, 626503.16it/s]\u001b[A\n",
      " 17%|███████████                                                        | 9799793/59387835 [00:16<01:18, 630028.51it/s]\u001b[A\n",
      " 17%|███████████▏                                                       | 9864299/59387835 [00:16<01:18, 627069.43it/s]\u001b[A\n",
      " 17%|███████████▏                                                       | 9927849/59387835 [00:16<01:19, 622240.83it/s]\u001b[A\n",
      " 17%|███████████▎                                                       | 9990096/59387835 [00:16<01:42, 481764.58it/s]\u001b[A\n",
      " 17%|███████████▏                                                      | 10053030/59387835 [00:16<01:36, 512732.71it/s]\u001b[A\n",
      " 17%|███████████▏                                                      | 10117264/59387835 [00:16<01:31, 540411.35it/s]\u001b[A\n",
      " 17%|███████████▎                                                      | 10181683/59387835 [00:17<01:27, 562026.62it/s]\u001b[A\n",
      " 17%|███████████▍                                                      | 10245883/59387835 [00:17<01:25, 577549.09it/s]\u001b[A\n",
      " 17%|███████████▍                                                      | 10311510/59387835 [00:17<01:22, 592849.89it/s]\u001b[A\n",
      " 17%|███████████▌                                                      | 10376332/59387835 [00:17<01:21, 601665.25it/s]\u001b[A\n",
      " 18%|███████████▌                                                      | 10440671/59387835 [00:17<01:20, 606615.50it/s]\u001b[A\n",
      " 18%|███████████▋                                                      | 10504404/59387835 [00:17<01:20, 608420.86it/s]\u001b[A\n",
      " 18%|███████████▋                                                      | 10571523/59387835 [00:17<01:18, 619355.64it/s]\u001b[A\n",
      " 18%|███████████▊                                                      | 10637898/59387835 [00:17<01:18, 624942.38it/s]\u001b[A\n",
      " 18%|███████████▉                                                      | 10702697/59387835 [00:17<01:17, 624354.64it/s]\u001b[A\n",
      " 18%|███████████▉                                                      | 10767535/59387835 [00:18<01:17, 624052.78it/s]\u001b[A\n",
      " 18%|████████████                                                      | 10832798/59387835 [00:18<01:17, 625063.38it/s]\u001b[A\n",
      " 18%|████████████                                                      | 10898147/59387835 [00:18<01:17, 626021.04it/s]\u001b[A\n",
      " 18%|████████████▏                                                     | 10964504/59387835 [00:18<01:16, 629594.45it/s]\u001b[A\n",
      " 19%|████████████▎                                                     | 11028568/59387835 [00:18<01:17, 625490.92it/s]\u001b[A\n",
      " 19%|████████████▎                                                     | 11091693/59387835 [00:18<01:17, 619911.32it/s]\u001b[A\n",
      " 19%|████████████▍                                                     | 11157637/59387835 [00:18<01:17, 624130.15it/s]\u001b[A\n",
      " 19%|████████████▍                                                     | 11220065/59387835 [00:18<01:40, 478448.64it/s]\u001b[A\n",
      " 19%|████████████▌                                                     | 11283728/59387835 [00:18<01:33, 511766.78it/s]\u001b[A\n",
      " 19%|████████████▌                                                     | 11348002/59387835 [00:19<01:29, 539652.87it/s]\u001b[A\n",
      " 19%|████████████▋                                                     | 11412491/59387835 [00:19<01:25, 561575.62it/s]\u001b[A\n",
      " 19%|████████████▊                                                     | 11478782/59387835 [00:19<01:22, 582818.54it/s]\u001b[A\n",
      " 19%|████████████▊                                                     | 11543146/59387835 [00:19<01:21, 586692.11it/s]\u001b[A\n",
      " 20%|████████████▉                                                     | 11608325/59387835 [00:19<01:19, 598187.46it/s]\u001b[A\n",
      " 20%|████████████▉                                                     | 11673200/59387835 [00:19<01:18, 605624.08it/s]\u001b[A\n",
      " 20%|█████████████                                                     | 11740128/59387835 [00:19<01:17, 616737.46it/s]\u001b[A\n",
      " 20%|█████████████                                                     | 11803706/59387835 [00:19<01:17, 615109.92it/s]\u001b[A\n",
      " 20%|█████████████▏                                                    | 11867692/59387835 [00:19<01:17, 615124.14it/s]\u001b[A\n",
      " 20%|█████████████▎                                                    | 11934200/59387835 [00:19<01:16, 622356.06it/s]\u001b[A\n",
      " 20%|█████████████▎                                                    | 11999067/59387835 [00:20<01:16, 622734.39it/s]\u001b[A\n",
      " 20%|█████████████▍                                                    | 12062400/59387835 [00:20<01:16, 618591.57it/s]\u001b[A\n",
      " 20%|█████████████▍                                                    | 12127454/59387835 [00:20<01:16, 620637.20it/s]\u001b[A\n",
      " 21%|█████████████▌                                                    | 12190940/59387835 [00:20<01:15, 624672.83it/s]\u001b[A\n",
      " 21%|█████████████▌                                                    | 12258131/59387835 [00:20<01:14, 631112.40it/s]\u001b[A\n",
      " 21%|█████████████▋                                                    | 12323164/59387835 [00:20<01:14, 629336.87it/s]\u001b[A\n",
      " 21%|█████████████▊                                                    | 12389975/59387835 [00:20<01:14, 633243.12it/s]\u001b[A\n",
      " 21%|█████████████▊                                                    | 12454440/59387835 [00:20<01:14, 629188.28it/s]\u001b[A\n",
      " 21%|█████████████▉                                                    | 12520037/59387835 [00:20<01:14, 629627.14it/s]\u001b[A\n",
      " 21%|█████████████▉                                                    | 12585903/59387835 [00:21<01:14, 630709.40it/s]\u001b[A\n",
      " 21%|██████████████                                                    | 12648980/59387835 [00:21<01:41, 458765.09it/s]\u001b[A\n",
      " 21%|██████████████▏                                                   | 12711257/59387835 [00:21<01:34, 492341.02it/s]\u001b[A\n",
      " 22%|██████████████▏                                                   | 12778121/59387835 [00:21<01:27, 530754.18it/s]\u001b[A\n",
      " 22%|██████████████▎                                                   | 12842998/59387835 [00:21<01:23, 555593.83it/s]\u001b[A\n",
      " 22%|██████████████▎                                                   | 12908696/59387835 [00:21<01:20, 576595.96it/s]\u001b[A\n",
      " 22%|██████████████▍                                                   | 12972117/59387835 [00:21<01:18, 591779.90it/s]\u001b[A\n",
      " 22%|██████████████▍                                                   | 13037643/59387835 [00:21<01:16, 602848.33it/s]\u001b[A\n",
      " 22%|██████████████▌                                                   | 13102794/59387835 [00:21<01:15, 609732.62it/s]\u001b[A\n",
      " 22%|██████████████▋                                                   | 13165740/59387835 [00:22<01:15, 608384.05it/s]\u001b[A\n",
      " 22%|██████████████▋                                                   | 13227932/59387835 [00:22<01:16, 605274.92it/s]\u001b[A\n",
      " 22%|██████████████▊                                                   | 13294578/59387835 [00:22<01:14, 615825.15it/s]\u001b[A\n",
      " 22%|██████████████▊                                                   | 13359203/59387835 [00:22<01:14, 617458.38it/s]\u001b[A\n",
      " 23%|██████████████▉                                                   | 13422994/59387835 [00:22<01:14, 616209.63it/s]\u001b[A\n",
      " 23%|██████████████▉                                                   | 13486010/59387835 [00:22<01:14, 613104.49it/s]\u001b[A\n",
      " 23%|███████████████                                                   | 13552595/59387835 [00:22<01:13, 621201.48it/s]\u001b[A\n",
      " 23%|███████████████▏                                                  | 13617399/59387835 [00:22<01:13, 621746.44it/s]\u001b[A\n",
      " 23%|███████████████▏                                                  | 13681089/59387835 [00:22<01:13, 618916.79it/s]\u001b[A\n",
      " 23%|███████████████▎                                                  | 13745627/59387835 [00:23<01:13, 619381.69it/s]\u001b[A\n",
      " 23%|███████████████▎                                                  | 13807594/59387835 [00:23<01:14, 612293.51it/s]\u001b[A\n",
      " 23%|███████████████▍                                                  | 13869554/59387835 [00:23<01:14, 607310.30it/s]\u001b[A\n",
      " 23%|███████████████▍                                                  | 13931968/59387835 [00:23<01:14, 612048.17it/s]\u001b[A\n",
      " 24%|███████████████▌                                                  | 13996400/59387835 [00:23<01:14, 612208.79it/s]\u001b[A\n",
      " 24%|███████████████▋                                                  | 14060420/59387835 [00:23<01:13, 613193.31it/s]\u001b[A\n",
      " 24%|███████████████▋                                                  | 14124865/59387835 [00:23<01:13, 615109.76it/s]\u001b[A\n",
      " 24%|███████████████▊                                                  | 14186384/59387835 [00:23<01:42, 440098.34it/s]\u001b[A\n",
      " 24%|███████████████▊                                                  | 14246654/59387835 [00:23<01:35, 473125.48it/s]\u001b[A\n",
      " 24%|███████████████▉                                                  | 14311608/59387835 [00:24<01:28, 507935.66it/s]\u001b[A\n",
      " 24%|███████████████▉                                                  | 14374519/59387835 [00:24<01:24, 533525.07it/s]\u001b[A\n",
      " 24%|████████████████                                                  | 14438796/59387835 [00:24<01:20, 556655.74it/s]\u001b[A\n",
      " 24%|████████████████                                                  | 14502387/59387835 [00:24<01:18, 572042.66it/s]\u001b[A\n",
      " 25%|████████████████▏                                                 | 14565954/59387835 [00:24<01:16, 583244.83it/s]\u001b[A\n",
      " 25%|████████████████▎                                                 | 14629537/59387835 [00:24<01:15, 591391.51it/s]\u001b[A\n",
      " 25%|████████████████▎                                                 | 14693411/59387835 [00:24<01:14, 598045.64it/s]\u001b[A\n",
      " 25%|████████████████▍                                                 | 14756500/59387835 [00:24<01:14, 600551.30it/s]\u001b[A\n",
      " 25%|████████████████▍                                                 | 14822260/59387835 [00:24<01:13, 609943.46it/s]\u001b[A\n",
      " 25%|████████████████▌                                                 | 14887892/59387835 [00:25<01:12, 616205.23it/s]\u001b[A\n",
      " 25%|████████████████▌                                                 | 14953701/59387835 [00:25<01:11, 618042.29it/s]\u001b[A\n",
      " 25%|████████████████▋                                                 | 15018786/59387835 [00:25<01:11, 616784.74it/s]\u001b[A\n",
      " 25%|████████████████▊                                                 | 15083039/59387835 [00:25<01:11, 617062.91it/s]\u001b[A\n",
      " 26%|████████████████▊                                                 | 15148520/59387835 [00:25<01:11, 620779.30it/s]\u001b[A\n",
      " 26%|████████████████▉                                                 | 15213082/59387835 [00:25<01:11, 620753.40it/s]\u001b[A\n",
      " 26%|████████████████▉                                                 | 15277125/59387835 [00:25<01:11, 619243.45it/s]\u001b[A\n",
      " 26%|█████████████████                                                 | 15340812/59387835 [00:25<01:11, 617158.29it/s]\u001b[A\n",
      " 26%|█████████████████                                                 | 15407178/59387835 [00:25<01:10, 623410.67it/s]\u001b[A\n",
      " 26%|█████████████████▏                                                | 15472557/59387835 [00:25<01:10, 624952.09it/s]\u001b[A\n",
      " 26%|█████████████████▎                                                | 15536080/59387835 [00:26<01:10, 620682.52it/s]\u001b[A\n",
      " 26%|█████████████████▎                                                | 15601520/59387835 [00:26<01:10, 623213.93it/s]\u001b[A\n",
      " 26%|█████████████████▍                                                | 15665356/59387835 [00:26<01:10, 620365.96it/s]\u001b[A\n",
      " 26%|█████████████████▍                                                | 15729340/59387835 [00:26<01:10, 618797.73it/s]\u001b[A\n",
      " 27%|█████████████████▌                                                | 15795000/59387835 [00:26<01:10, 622532.75it/s]\u001b[A\n",
      " 27%|█████████████████▌                                                | 15857256/59387835 [00:26<01:41, 427786.79it/s]\u001b[A\n",
      " 27%|█████████████████▋                                                | 15920697/59387835 [00:26<01:32, 469590.79it/s]\u001b[A\n",
      " 27%|█████████████████▊                                                | 15984834/59387835 [00:26<01:25, 505893.76it/s]\u001b[A\n",
      " 27%|█████████████████▊                                                | 16050773/59387835 [00:27<01:20, 539282.11it/s]\u001b[A\n",
      " 27%|█████████████████▉                                                | 16114908/59387835 [00:27<01:17, 560265.24it/s]\u001b[A\n",
      " 27%|█████████████████▉                                                | 16181088/59387835 [00:27<01:14, 581495.51it/s]\u001b[A\n",
      " 27%|██████████████████                                                | 16247581/59387835 [00:27<01:12, 597973.33it/s]\u001b[A\n",
      " 27%|██████████████████▏                                               | 16313706/59387835 [00:27<01:10, 608902.72it/s]\u001b[A\n",
      " 28%|██████████████████▏                                               | 16378879/59387835 [00:27<01:10, 614072.06it/s]\u001b[A\n",
      " 28%|██████████████████▎                                               | 16446378/59387835 [00:27<01:08, 624347.18it/s]\u001b[A\n",
      " 28%|██████████████████▎                                               | 16511116/59387835 [00:27<01:08, 623765.62it/s]\u001b[A\n",
      " 28%|██████████████████▍                                               | 16577634/59387835 [00:27<01:08, 628443.71it/s]\u001b[A\n",
      " 28%|██████████████████▍                                               | 16645290/59387835 [00:27<01:07, 635003.48it/s]\u001b[A\n",
      " 28%|██████████████████▌                                               | 16710272/59387835 [00:28<01:07, 631935.03it/s]\u001b[A\n",
      " 28%|██████████████████▋                                               | 16775096/59387835 [00:28<01:07, 629326.14it/s]\u001b[A\n",
      " 28%|██████████████████▋                                               | 16842571/59387835 [00:28<01:06, 635125.15it/s]\u001b[A\n",
      " 28%|██████████████████▊                                               | 16908106/59387835 [00:28<01:07, 633604.76it/s]\u001b[A\n",
      " 29%|██████████████████▊                                               | 16973900/59387835 [00:28<01:06, 633284.73it/s]\u001b[A\n",
      " 29%|██████████████████▉                                               | 17041486/59387835 [00:28<01:06, 638224.41it/s]\u001b[A\n",
      " 29%|███████████████████                                               | 17107021/59387835 [00:28<01:06, 635774.14it/s]\u001b[A\n",
      " 29%|███████████████████                                               | 17170973/59387835 [00:28<01:07, 629492.08it/s]\u001b[A\n",
      " 29%|███████████████████▏                                              | 17233936/59387835 [00:28<01:07, 622241.79it/s]\u001b[A\n",
      " 29%|███████████████████▏                                              | 17298202/59387835 [00:29<01:07, 620272.34it/s]\u001b[A\n",
      " 29%|███████████████████▎                                              | 17362441/59387835 [00:29<01:07, 619467.94it/s]\u001b[A\n",
      " 29%|███████████████████▎                                              | 17427346/59387835 [00:29<01:07, 620813.13it/s]\u001b[A\n",
      " 29%|███████████████████▍                                              | 17492829/59387835 [00:29<01:07, 623432.15it/s]\u001b[A\n",
      " 30%|███████████████████▌                                              | 17558084/59387835 [00:29<01:06, 624609.09it/s]\u001b[A\n",
      " 30%|███████████████████▌                                              | 17622472/59387835 [00:29<01:07, 622932.64it/s]\u001b[A\n",
      " 30%|███████████████████▋                                              | 17687372/59387835 [00:29<01:06, 623235.86it/s]\u001b[A\n",
      " 30%|███████████████████▋                                              | 17749697/59387835 [00:29<01:39, 419837.02it/s]\u001b[A\n",
      " 30%|███████████████████▊                                              | 17811326/59387835 [00:30<01:31, 456298.84it/s]\u001b[A\n",
      " 30%|███████████████████▊                                              | 17875553/59387835 [00:30<01:23, 495472.57it/s]\u001b[A\n",
      " 30%|███████████████████▉                                              | 17941408/59387835 [00:30<01:18, 528265.09it/s]\u001b[A\n",
      " 30%|████████████████████                                              | 18004073/59387835 [00:30<01:14, 553272.85it/s]\u001b[A\n",
      " 30%|████████████████████                                              | 18070396/59387835 [00:30<01:12, 571410.22it/s]\u001b[A\n",
      " 31%|████████████████████▏                                             | 18136218/59387835 [00:30<01:10, 588781.89it/s]\u001b[A\n",
      " 31%|████████████████████▏                                             | 18201491/59387835 [00:30<01:08, 599935.38it/s]\u001b[A\n",
      " 31%|████████████████████▎                                             | 18267641/59387835 [00:30<01:07, 610432.05it/s]\u001b[A\n",
      " 31%|████████████████████▎                                             | 18332953/59387835 [00:30<01:06, 615553.86it/s]\u001b[A\n",
      " 31%|████████████████████▍                                             | 18396575/59387835 [00:30<01:06, 614404.40it/s]\u001b[A\n",
      " 31%|████████████████████▌                                             | 18460333/59387835 [00:31<01:05, 620512.19it/s]\u001b[A\n",
      " 31%|████████████████████▌                                             | 18528834/59387835 [00:31<01:04, 631931.04it/s]\u001b[A\n",
      " 31%|████████████████████▋                                             | 18596572/59387835 [00:31<01:03, 637720.16it/s]\u001b[A\n",
      " 31%|████████████████████▋                                             | 18666098/59387835 [00:31<01:02, 650711.66it/s]\u001b[A\n",
      " 32%|████████████████████▊                                             | 18731316/59387835 [00:31<01:03, 639705.07it/s]\u001b[A\n",
      " 32%|████████████████████▉                                             | 18795731/59387835 [00:31<01:04, 633585.62it/s]\u001b[A\n",
      " 32%|████████████████████▉                                             | 18860490/59387835 [00:31<01:04, 630288.84it/s]\u001b[A\n",
      " 32%|█████████████████████                                             | 18925937/59387835 [00:31<01:04, 629963.09it/s]\u001b[A\n",
      " 32%|█████████████████████                                             | 18990865/59387835 [00:31<01:04, 628236.57it/s]\u001b[A\n",
      " 32%|█████████████████████▏                                            | 19056708/59387835 [00:32<01:04, 629670.58it/s]\u001b[A\n",
      " 32%|█████████████████████▎                                            | 19122287/59387835 [00:32<01:03, 629908.60it/s]\u001b[A\n",
      " 32%|█████████████████████▎                                            | 19190094/59387835 [00:32<01:03, 632414.74it/s]\u001b[A\n",
      " 32%|█████████████████████▍                                            | 19256784/59387835 [00:32<01:03, 631192.69it/s]\u001b[A\n",
      " 33%|█████████████████████▍                                            | 19322437/59387835 [00:32<01:03, 631189.31it/s]\u001b[A\n",
      " 33%|█████████████████████▌                                            | 19386833/59387835 [00:32<01:03, 627580.92it/s]\u001b[A\n",
      " 33%|█████████████████████▌                                            | 19454293/59387835 [00:32<01:03, 633850.55it/s]\u001b[A\n",
      " 33%|█████████████████████▋                                            | 19519609/59387835 [00:32<01:03, 632082.37it/s]\u001b[A\n",
      " 33%|█████████████████████▊                                            | 19586516/59387835 [00:32<01:02, 635423.23it/s]\u001b[A\n",
      " 33%|█████████████████████▊                                            | 19651874/59387835 [00:32<01:02, 633302.51it/s]\u001b[A\n",
      " 33%|█████████████████████▉                                            | 19718027/59387835 [00:33<01:02, 634107.97it/s]\u001b[A\n",
      " 33%|█████████████████████▉                                            | 19783414/59387835 [00:33<01:02, 632464.24it/s]\u001b[A\n",
      " 33%|██████████████████████                                            | 19849732/59387835 [00:33<01:02, 633996.68it/s]\u001b[A\n",
      " 34%|██████████████████████▏                                           | 19913133/59387835 [00:33<01:37, 406037.99it/s]\u001b[A\n",
      " 34%|██████████████████████▏                                           | 19974937/59387835 [00:33<01:27, 448200.39it/s]\u001b[A\n",
      " 34%|██████████████████████▎                                           | 20040748/59387835 [00:33<01:19, 492000.68it/s]\u001b[A\n",
      " 34%|██████████████████████▎                                           | 20104722/59387835 [00:33<01:15, 523160.79it/s]\u001b[A\n",
      " 34%|██████████████████████▍                                           | 20170587/59387835 [00:33<01:10, 552399.91it/s]\u001b[A\n",
      " 34%|██████████████████████▍                                           | 20235745/59387835 [00:34<01:08, 572764.67it/s]\u001b[A\n",
      " 34%|██████████████████████▌                                           | 20301166/59387835 [00:34<01:06, 588617.62it/s]\u001b[A\n",
      " 34%|██████████████████████▋                                           | 20364914/59387835 [00:34<01:05, 595582.48it/s]\u001b[A\n",
      " 34%|██████████████████████▋                                           | 20428430/59387835 [00:34<01:04, 599963.57it/s]\u001b[A\n",
      " 35%|██████████████████████▊                                           | 20489781/59387835 [00:34<01:04, 602931.87it/s]\u001b[A\n",
      " 35%|██████████████████████▊                                           | 20554710/59387835 [00:34<01:03, 609267.78it/s]\u001b[A\n",
      " 35%|██████████████████████▉                                           | 20620956/59387835 [00:34<01:02, 617504.76it/s]\u001b[A\n",
      " 35%|██████████████████████▉                                           | 20686829/59387835 [00:34<01:01, 628871.97it/s]\u001b[A\n",
      " 35%|███████████████████████                                           | 20754744/59387835 [00:34<01:01, 632437.01it/s]\u001b[A\n",
      " 35%|███████████████████████▏                                          | 20818442/59387835 [00:34<01:01, 626427.09it/s]\u001b[A\n",
      " 35%|███████████████████████▏                                          | 20882769/59387835 [00:35<01:01, 624027.32it/s]\u001b[A\n",
      " 35%|███████████████████████▎                                          | 20948031/59387835 [00:35<01:01, 625048.85it/s]\u001b[A\n",
      " 35%|███████████████████████▎                                          | 21013832/59387835 [00:35<01:01, 627315.25it/s]\u001b[A\n",
      " 35%|███████████████████████▍                                          | 21077592/59387835 [00:35<01:01, 623016.61it/s]\u001b[A\n",
      " 36%|███████████████████████▍                                          | 21141148/59387835 [00:35<01:01, 619418.41it/s]\u001b[A\n",
      " 36%|███████████████████████▌                                          | 21205983/59387835 [00:35<01:01, 620587.08it/s]\u001b[A\n",
      " 36%|███████████████████████▋                                          | 21271118/59387835 [00:35<01:01, 622272.53it/s]\u001b[A\n",
      " 36%|███████████████████████▋                                          | 21336455/59387835 [00:35<01:00, 624033.26it/s]\u001b[A\n",
      " 36%|███████████████████████▊                                          | 21401764/59387835 [00:35<01:00, 625186.36it/s]\u001b[A\n",
      " 36%|███████████████████████▊                                          | 21466057/59387835 [00:36<01:00, 623061.14it/s]\u001b[A\n",
      " 36%|███████████████████████▉                                          | 21531567/59387835 [00:36<01:00, 625086.45it/s]\u001b[A\n",
      " 36%|████████████████████████                                          | 21598074/59387835 [00:36<01:00, 629377.96it/s]\u001b[A\n",
      " 36%|████████████████████████                                          | 21663372/59387835 [00:36<01:00, 628345.93it/s]\u001b[A\n",
      " 37%|████████████████████████▏                                         | 21726417/59387835 [00:36<01:00, 625389.45it/s]\u001b[A\n",
      " 37%|████████████████████████▏                                         | 21790655/59387835 [00:36<01:00, 623038.02it/s]\u001b[A\n",
      " 37%|████████████████████████▎                                         | 21856413/59387835 [00:36<00:59, 625790.60it/s]\u001b[A\n",
      " 37%|████████████████████████▎                                         | 21925625/59387835 [00:36<00:59, 633614.39it/s]\u001b[A\n",
      " 37%|████████████████████████▍                                         | 21989553/59387835 [00:36<00:58, 635011.85it/s]\u001b[A\n",
      " 37%|████████████████████████▌                                         | 22057979/59387835 [00:36<00:58, 636699.70it/s]\u001b[A\n",
      " 37%|████████████████████████▌                                         | 22126451/59387835 [00:37<00:58, 636182.29it/s]\u001b[A\n",
      " 37%|████████████████████████▋                                         | 22192268/59387835 [00:37<00:58, 635163.68it/s]\u001b[A\n",
      " 37%|████████████████████████▋                                         | 22259231/59387835 [00:37<00:58, 639665.44it/s]\u001b[A\n",
      " 38%|████████████████████████▊                                         | 22323201/59387835 [00:37<01:34, 393097.34it/s]\u001b[A\n",
      " 38%|████████████████████████▉                                         | 22385444/59387835 [00:37<01:25, 434371.48it/s]\u001b[A\n",
      " 38%|████████████████████████▉                                         | 22448526/59387835 [00:37<01:17, 473958.39it/s]\u001b[A\n",
      " 38%|█████████████████████████                                         | 22514117/59387835 [00:37<01:11, 512698.51it/s]\u001b[A\n",
      " 38%|█████████████████████████                                         | 22580424/59387835 [00:38<01:07, 545274.51it/s]\u001b[A\n",
      " 38%|█████████████████████████▏                                        | 22643933/59387835 [00:38<01:05, 563011.65it/s]\u001b[A\n",
      " 38%|█████████████████████████▏                                        | 22709659/59387835 [00:38<01:03, 581855.61it/s]\u001b[A\n",
      " 38%|█████████████████████████▎                                        | 22776132/59387835 [00:38<01:01, 597383.25it/s]\u001b[A\n",
      " 38%|█████████████████████████▍                                        | 22839368/59387835 [00:38<01:00, 606576.56it/s]\u001b[A\n",
      " 39%|█████████████████████████▍                                        | 22904042/59387835 [00:38<00:59, 617831.67it/s]\u001b[A\n",
      " 39%|█████████████████████████▌                                        | 22970160/59387835 [00:38<00:58, 623150.34it/s]\u001b[A\n",
      " 39%|█████████████████████████▌                                        | 23036265/59387835 [00:38<00:57, 626850.18it/s]\u001b[A\n",
      " 39%|█████████████████████████▋                                        | 23101728/59387835 [00:38<00:57, 627600.05it/s]\u001b[A\n",
      " 39%|█████████████████████████▋                                        | 23168559/59387835 [00:38<00:57, 632062.26it/s]\u001b[A\n",
      " 39%|█████████████████████████▊                                        | 23235624/59387835 [00:39<00:56, 635866.96it/s]\u001b[A\n",
      " 39%|█████████████████████████▉                                        | 23303807/59387835 [00:39<00:56, 638167.03it/s]\u001b[A\n",
      " 39%|█████████████████████████▉                                        | 23370143/59387835 [00:39<00:56, 638040.47it/s]\u001b[A\n",
      " 39%|██████████████████████████                                        | 23436578/59387835 [00:39<00:56, 638237.52it/s]\u001b[A\n",
      " 40%|██████████████████████████                                        | 23503200/59387835 [00:39<00:56, 638914.80it/s]\u001b[A\n",
      " 40%|██████████████████████████▏                                       | 23568345/59387835 [00:39<00:56, 635136.37it/s]\u001b[A\n",
      " 40%|██████████████████████████▎                                       | 23635631/59387835 [00:39<00:55, 638656.31it/s]\u001b[A\n",
      " 40%|██████████████████████████▎                                       | 23705175/59387835 [00:39<00:55, 647628.83it/s]\u001b[A\n",
      " 40%|██████████████████████████▍                                       | 23769954/59387835 [00:39<00:55, 640178.24it/s]\u001b[A\n",
      " 40%|██████████████████████████▍                                       | 23833983/59387835 [00:39<00:56, 632798.48it/s]\u001b[A\n",
      " 40%|██████████████████████████▌                                       | 23897270/59387835 [00:40<00:56, 632349.36it/s]\u001b[A\n",
      " 40%|██████████████████████████▋                                       | 23961062/59387835 [00:40<00:56, 626589.26it/s]\u001b[A\n",
      " 40%|██████████████████████████▋                                       | 24027327/59387835 [00:40<00:56, 629749.26it/s]\u001b[A\n",
      " 41%|██████████████████████████▊                                       | 24092520/59387835 [00:40<00:56, 628848.03it/s]\u001b[A\n",
      " 41%|██████████████████████████▊                                       | 24157868/59387835 [00:40<00:56, 628668.76it/s]\u001b[A\n",
      " 41%|██████████████████████████▉                                       | 24221849/59387835 [00:40<00:56, 624592.95it/s]\u001b[A\n",
      " 41%|██████████████████████████▉                                       | 24289012/59387835 [00:40<00:55, 630932.90it/s]\u001b[A\n",
      " 41%|███████████████████████████                                       | 24354624/59387835 [00:40<00:55, 630890.01it/s]\u001b[A\n",
      " 41%|███████████████████████████▏                                      | 24418625/59387835 [00:40<00:55, 626209.04it/s]\u001b[A\n",
      " 41%|███████████████████████████▏                                      | 24485850/59387835 [00:41<00:55, 625201.26it/s]\u001b[A\n",
      " 41%|███████████████████████████▎                                      | 24550552/59387835 [00:41<00:55, 630811.94it/s]\u001b[A\n",
      " 41%|███████████████████████████▎                                      | 24616771/59387835 [00:41<00:54, 632558.73it/s]\u001b[A\n",
      " 42%|███████████████████████████▍                                      | 24682987/59387835 [00:41<00:54, 633771.89it/s]\u001b[A\n",
      " 42%|███████████████████████████▌                                      | 24751042/59387835 [00:41<00:54, 639928.18it/s]\u001b[A\n",
      " 42%|███████████████████████████▌                                      | 24816400/59387835 [00:41<00:54, 636450.88it/s]\u001b[A\n",
      " 42%|███████████████████████████▋                                      | 24883673/59387835 [00:41<00:53, 639544.76it/s]\u001b[A\n",
      " 42%|███████████████████████████▋                                      | 24951342/59387835 [00:41<00:53, 642851.79it/s]\u001b[A\n",
      " 42%|███████████████████████████▊                                      | 25015630/59387835 [00:42<01:32, 371944.77it/s]\u001b[A\n",
      " 42%|███████████████████████████▊                                      | 25078449/59387835 [00:42<01:21, 421316.52it/s]\u001b[A\n",
      " 42%|███████████████████████████▉                                      | 25143695/59387835 [00:42<01:12, 470774.17it/s]\u001b[A\n",
      " 42%|████████████████████████████                                      | 25212744/59387835 [00:42<01:05, 517813.67it/s]\u001b[A\n",
      " 43%|████████████████████████████                                      | 25278819/59387835 [00:42<01:02, 548134.45it/s]\u001b[A\n",
      " 43%|████████████████████████████▏                                     | 25347305/59387835 [00:42<00:58, 577852.29it/s]\u001b[A\n",
      " 43%|████████████████████████████▏                                     | 25413850/59387835 [00:42<00:57, 595058.62it/s]\u001b[A\n",
      " 43%|████████████████████████████▎                                     | 25483067/59387835 [00:42<00:55, 609860.83it/s]\u001b[A\n",
      " 43%|████████████████████████████▍                                     | 25546513/59387835 [00:42<00:55, 609891.49it/s]\u001b[A\n",
      " 43%|████████████████████████████▍                                     | 25614663/59387835 [00:43<00:54, 623063.36it/s]\u001b[A\n",
      " 43%|████████████████████████████▌                                     | 25679382/59387835 [00:43<00:54, 622810.54it/s]\u001b[A\n",
      " 43%|████████████████████████████▌                                     | 25744190/59387835 [00:43<00:54, 622885.21it/s]\u001b[A\n",
      " 43%|████████████████████████████▋                                     | 25808033/59387835 [00:43<00:54, 620183.42it/s]\u001b[A\n",
      " 44%|████████████████████████████▊                                     | 25874105/59387835 [00:43<00:53, 624657.31it/s]\u001b[A\n",
      " 44%|████████████████████████████▊                                     | 25938719/59387835 [00:43<00:53, 623622.51it/s]\u001b[A\n",
      " 44%|████████████████████████████▉                                     | 26004306/59387835 [00:43<00:53, 625692.96it/s]\u001b[A\n",
      " 44%|████████████████████████████▉                                     | 26071109/59387835 [00:43<00:52, 630644.25it/s]\u001b[A\n",
      " 44%|█████████████████████████████                                     | 26138602/59387835 [00:43<00:52, 636101.44it/s]\u001b[A\n",
      " 44%|█████████████████████████████                                     | 26202287/59387835 [00:43<00:52, 628960.20it/s]\u001b[A\n",
      " 44%|█████████████████████████████▏                                    | 26265235/59387835 [00:44<00:53, 624050.38it/s]\u001b[A\n",
      " 44%|█████████████████████████████▎                                    | 26329460/59387835 [00:44<00:53, 622063.08it/s]\u001b[A\n",
      " 44%|█████████████████████████████▎                                    | 26395797/59387835 [00:44<00:52, 626775.75it/s]\u001b[A\n",
      " 45%|█████████████████████████████▍                                    | 26460670/59387835 [00:44<00:52, 625849.08it/s]\u001b[A\n",
      " 45%|█████████████████████████████▍                                    | 26524722/59387835 [00:44<00:52, 622827.13it/s]\u001b[A\n",
      " 45%|█████████████████████████████▌                                    | 26590397/59387835 [00:44<00:52, 625399.28it/s]\u001b[A\n",
      " 45%|█████████████████████████████▌                                    | 26656732/59387835 [00:44<00:52, 627801.37it/s]\u001b[A\n",
      " 45%|█████████████████████████████▋                                    | 26721482/59387835 [00:44<00:51, 631769.38it/s]\u001b[A\n",
      " 45%|█████████████████████████████▊                                    | 26785731/59387835 [00:44<00:51, 627521.94it/s]\u001b[A\n",
      " 45%|█████████████████████████████▊                                    | 26851107/59387835 [00:45<00:51, 627822.39it/s]\u001b[A\n",
      " 45%|█████████████████████████████▉                                    | 26915834/59387835 [00:45<00:51, 626153.27it/s]\u001b[A\n",
      " 45%|█████████████████████████████▉                                    | 26982675/59387835 [00:45<00:51, 631097.07it/s]\u001b[A\n",
      " 46%|██████████████████████████████                                    | 27045870/59387835 [00:45<00:51, 625836.86it/s]\u001b[A\n",
      " 46%|██████████████████████████████▏                                   | 27108453/59387835 [00:45<00:54, 591201.14it/s]\u001b[A\n",
      " 46%|██████████████████████████████▏                                   | 27170919/59387835 [00:45<00:54, 593922.23it/s]\u001b[A\n",
      " 46%|██████████████████████████████▎                                   | 27236181/59387835 [00:45<00:53, 603762.96it/s]\u001b[A\n",
      " 46%|██████████████████████████████▎                                   | 27302377/59387835 [00:45<00:52, 613412.75it/s]\u001b[A\n",
      " 46%|██████████████████████████████▍                                   | 27368520/59387835 [00:45<00:51, 617146.35it/s]\u001b[A\n",
      " 46%|██████████████████████████████▍                                   | 27433176/59387835 [00:45<00:51, 618468.12it/s]\u001b[A\n",
      " 46%|██████████████████████████████▌                                   | 27498823/59387835 [00:46<00:51, 622236.73it/s]\u001b[A\n",
      " 46%|██████████████████████████████▋                                   | 27563602/59387835 [00:46<00:51, 622398.08it/s]\u001b[A\n",
      " 47%|██████████████████████████████▋                                   | 27629356/59387835 [00:46<00:50, 625315.01it/s]\u001b[A\n",
      " 47%|██████████████████████████████▊                                   | 27695572/59387835 [00:46<00:50, 628689.65it/s]\u001b[A\n",
      " 47%|██████████████████████████████▊                                   | 27761706/59387835 [00:46<00:50, 630821.07it/s]\u001b[A\n",
      " 47%|██████████████████████████████▉                                   | 27824803/59387835 [00:46<00:50, 630210.45it/s]\u001b[A\n",
      " 47%|██████████████████████████████▉                                   | 27887833/59387835 [00:46<00:50, 622886.26it/s]\u001b[A\n",
      " 47%|███████████████████████████████                                   | 27950343/59387835 [00:46<00:51, 612909.55it/s]\u001b[A\n",
      " 47%|███████████████████████████████▏                                  | 28019125/59387835 [00:46<00:49, 627406.78it/s]\u001b[A\n",
      " 47%|███████████████████████████████▏                                  | 28081884/59387835 [00:47<01:30, 347298.54it/s]\u001b[A\n",
      " 47%|███████████████████████████████▎                                  | 28144414/59387835 [00:47<01:18, 398381.17it/s]\u001b[A\n",
      " 47%|███████████████████████████████▎                                  | 28207063/59387835 [00:47<01:10, 445406.40it/s]\u001b[A\n",
      " 48%|███████████████████████████████▍                                  | 28269028/59387835 [00:47<01:04, 485193.67it/s]\u001b[A\n",
      " 48%|███████████████████████████████▍                                  | 28335564/59387835 [00:47<00:59, 522270.27it/s]\u001b[A\n",
      " 48%|███████████████████████████████▌                                  | 28401625/59387835 [00:47<00:56, 552097.06it/s]\u001b[A\n",
      " 48%|███████████████████████████████▋                                  | 28464652/59387835 [00:47<00:54, 572432.61it/s]\u001b[A\n",
      " 48%|███████████████████████████████▋                                  | 28530502/59387835 [00:47<00:52, 589679.70it/s]\u001b[A\n",
      " 48%|███████████████████████████████▊                                  | 28596739/59387835 [00:48<00:51, 603295.90it/s]\u001b[A\n",
      " 48%|███████████████████████████████▊                                  | 28662053/59387835 [00:48<00:50, 610490.09it/s]\u001b[A\n",
      " 48%|███████████████████████████████▉                                  | 28727788/59387835 [00:48<00:49, 616815.68it/s]\u001b[A\n",
      " 48%|███████████████████████████████▉                                  | 28792298/59387835 [00:48<00:49, 617815.64it/s]\u001b[A\n",
      " 49%|████████████████████████████████                                  | 28857794/59387835 [00:48<00:49, 621340.97it/s]\u001b[A\n",
      " 49%|████████████████████████████████▏                                 | 28923581/59387835 [00:48<00:48, 624658.64it/s]\u001b[A\n",
      " 49%|████████████████████████████████▏                                 | 28987567/59387835 [00:48<00:48, 621820.32it/s]\u001b[A\n",
      " 49%|████████████████████████████████▎                                 | 29052176/59387835 [00:48<00:48, 621619.05it/s]\u001b[A\n",
      " 49%|████████████████████████████████▎                                 | 29115930/59387835 [00:48<00:48, 619015.17it/s]\u001b[A\n",
      " 49%|████████████████████████████████▍                                 | 29180116/59387835 [00:49<00:48, 618434.41it/s]\u001b[A\n",
      " 49%|████████████████████████████████▌                                 | 29245003/59387835 [00:49<00:48, 620048.32it/s]\u001b[A\n",
      " 49%|████████████████████████████████▌                                 | 29314198/59387835 [00:49<00:47, 633594.58it/s]\u001b[A\n",
      " 49%|████████████████████████████████▋                                 | 29377600/59387835 [00:49<00:47, 633250.33it/s]\u001b[A\n",
      " 50%|████████████████████████████████▋                                 | 29440954/59387835 [00:49<00:47, 625946.58it/s]\u001b[A\n",
      " 50%|████████████████████████████████▊                                 | 29503574/59387835 [00:49<00:48, 618733.26it/s]\u001b[A\n",
      " 50%|████████████████████████████████▊                                 | 29565469/59387835 [00:49<00:48, 611603.72it/s]\u001b[A\n",
      " 50%|████████████████████████████████▉                                 | 29631173/59387835 [00:49<00:48, 617639.06it/s]\u001b[A\n",
      " 50%|█████████████████████████████████                                 | 29695153/59387835 [00:49<00:48, 616874.78it/s]\u001b[A\n",
      " 50%|█████████████████████████████████                                 | 29759292/59387835 [00:49<00:48, 616800.88it/s]\u001b[A\n",
      " 50%|█████████████████████████████████▏                                | 29823242/59387835 [00:50<00:48, 612865.57it/s]\u001b[A\n",
      " 50%|█████████████████████████████████▏                                | 29887856/59387835 [00:50<00:47, 621622.05it/s]\u001b[A\n",
      " 50%|█████████████████████████████████▎                                | 29953602/59387835 [00:50<00:47, 621386.89it/s]\u001b[A\n",
      " 51%|█████████████████████████████████▎                                | 30017417/59387835 [00:50<00:47, 619026.81it/s]\u001b[A\n",
      " 51%|█████████████████████████████████▍                                | 30079691/59387835 [00:50<00:47, 619329.66it/s]\u001b[A\n",
      " 51%|█████████████████████████████████▌                                | 30145831/59387835 [00:50<00:47, 618063.87it/s]\u001b[A\n",
      " 51%|█████████████████████████████████▌                                | 30211750/59387835 [00:50<00:46, 622755.94it/s]\u001b[A\n",
      " 51%|█████████████████████████████████▋                                | 30276501/59387835 [00:50<00:46, 622683.86it/s]\u001b[A\n",
      " 51%|█████████████████████████████████▋                                | 30339203/59387835 [00:50<00:47, 616726.82it/s]\u001b[A\n",
      " 51%|█████████████████████████████████▊                                | 30403430/59387835 [00:51<00:46, 616950.19it/s]\u001b[A\n",
      " 51%|█████████████████████████████████▊                                | 30470866/59387835 [00:51<00:46, 622952.58it/s]\u001b[A\n",
      " 51%|█████████████████████████████████▉                                | 30536821/59387835 [00:51<00:46, 626278.74it/s]\u001b[A\n",
      " 52%|██████████████████████████████████                                | 30601205/59387835 [00:51<00:46, 624096.33it/s]\u001b[A\n",
      " 52%|██████████████████████████████████                                | 30665083/59387835 [00:51<00:46, 621108.13it/s]\u001b[A\n",
      " 52%|██████████████████████████████████▏                               | 30729929/59387835 [00:51<00:45, 628318.44it/s]\u001b[A\n",
      " 52%|██████████████████████████████████▏                               | 30793854/59387835 [00:51<00:45, 624169.18it/s]\u001b[A\n",
      " 52%|██████████████████████████████████▎                               | 30858738/59387835 [00:51<00:45, 623439.95it/s]\u001b[A\n",
      " 52%|██████████████████████████████████▎                               | 30927294/59387835 [00:51<00:44, 634159.80it/s]\u001b[A\n",
      " 52%|██████████████████████████████████▍                               | 30993461/59387835 [00:51<00:44, 634750.15it/s]\u001b[A\n",
      " 52%|██████████████████████████████████▌                               | 31056940/59387835 [00:52<00:44, 634232.74it/s]\u001b[A\n",
      " 52%|██████████████████████████████████▌                               | 31120365/59387835 [00:52<00:44, 630546.99it/s]\u001b[A\n",
      " 53%|██████████████████████████████████▋                               | 31186616/59387835 [00:52<00:45, 626419.80it/s]\u001b[A\n",
      " 53%|██████████████████████████████████▋                               | 31250946/59387835 [00:52<00:44, 630386.12it/s]\u001b[A\n",
      " 53%|██████████████████████████████████▊                               | 31315627/59387835 [00:52<00:44, 627798.25it/s]\u001b[A\n",
      " 53%|██████████████████████████████████▊                               | 31380144/59387835 [00:52<00:44, 625525.70it/s]\u001b[A\n",
      " 53%|██████████████████████████████████▉                               | 31442708/59387835 [00:52<01:24, 330333.18it/s]\u001b[A\n",
      " 53%|███████████████████████████████████                               | 31505301/59387835 [00:53<01:13, 381052.64it/s]\u001b[A\n",
      " 53%|███████████████████████████████████                               | 31569814/59387835 [00:53<01:04, 430998.24it/s]\u001b[A\n",
      " 53%|███████████████████████████████████▏                              | 31635008/59387835 [00:53<00:58, 475901.11it/s]\u001b[A\n",
      " 53%|███████████████████████████████████▏                              | 31700711/59387835 [00:53<00:53, 514548.04it/s]\u001b[A\n",
      " 53%|███████████████████████████████████▎                              | 31767714/59387835 [00:53<00:50, 543911.40it/s]\u001b[A\n",
      " 54%|███████████████████████████████████▍                              | 31834048/59387835 [00:53<00:48, 569285.05it/s]\u001b[A\n",
      " 54%|███████████████████████████████████▍                              | 31899262/59387835 [00:53<00:47, 582122.89it/s]\u001b[A\n",
      " 54%|███████████████████████████████████▌                              | 31962677/59387835 [00:53<00:46, 589935.76it/s]\u001b[A\n",
      " 54%|███████████████████████████████████▌                              | 32028268/59387835 [00:53<00:45, 601657.29it/s]\u001b[A\n",
      " 54%|███████████████████████████████████▋                              | 32095578/59387835 [00:54<00:44, 614918.31it/s]\u001b[A\n",
      " 54%|███████████████████████████████████▋                              | 32162996/59387835 [00:54<00:43, 624695.18it/s]\u001b[A\n",
      " 54%|███████████████████████████████████▊                              | 32231256/59387835 [00:54<00:42, 634030.77it/s]\u001b[A\n",
      " 54%|███████████████████████████████████▉                              | 32298543/59387835 [00:54<00:42, 637852.06it/s]\u001b[A\n",
      " 54%|███████████████████████████████████▉                              | 32364031/59387835 [00:54<00:42, 635390.79it/s]\u001b[A\n",
      " 55%|████████████████████████████████████                              | 32429488/59387835 [00:54<00:42, 633572.60it/s]\u001b[A\n",
      " 55%|████████████████████████████████████                              | 32497640/59387835 [00:54<00:41, 646746.83it/s]\u001b[A\n",
      " 55%|████████████████████████████████████▏                             | 32562492/59387835 [00:54<00:43, 611376.93it/s]\u001b[A\n",
      " 55%|████████████████████████████████████▎                             | 32625211/59387835 [00:54<00:43, 608926.76it/s]\u001b[A\n",
      " 55%|████████████████████████████████████▎                             | 32689937/59387835 [00:54<00:43, 614087.92it/s]\u001b[A\n",
      " 55%|████████████████████████████████████▍                             | 32758443/59387835 [00:55<00:42, 622313.66it/s]\u001b[A\n",
      " 55%|████████████████████████████████████▍                             | 32824164/59387835 [00:55<00:42, 625129.58it/s]\u001b[A\n",
      " 55%|████████████████████████████████████▌                             | 32889271/59387835 [00:55<00:42, 625367.93it/s]\u001b[A\n",
      " 55%|████████████████████████████████████▌                             | 32953505/59387835 [00:55<00:42, 623035.93it/s]\u001b[A\n",
      " 56%|████████████████████████████████████▋                             | 33018381/59387835 [00:55<00:42, 622581.52it/s]\u001b[A\n",
      " 56%|████████████████████████████████████▊                             | 33084460/59387835 [00:55<00:41, 626373.22it/s]\u001b[A\n",
      " 56%|████████████████████████████████████▊                             | 33149267/59387835 [00:55<00:41, 625379.88it/s]\u001b[A\n",
      " 56%|████████████████████████████████████▉                             | 33212712/59387835 [00:55<00:42, 620762.92it/s]\u001b[A\n",
      " 56%|████████████████████████████████████▉                             | 33276521/59387835 [00:55<00:42, 618572.36it/s]\u001b[A\n",
      " 56%|█████████████████████████████████████                             | 33341749/59387835 [00:56<00:41, 621126.27it/s]\u001b[A\n",
      " 56%|█████████████████████████████████████▏                            | 33406602/59387835 [00:56<00:41, 621834.95it/s]\u001b[A\n",
      " 56%|█████████████████████████████████████▏                            | 33471082/59387835 [00:56<00:41, 621702.55it/s]\u001b[A\n",
      " 56%|█████████████████████████████████████▎                            | 33534508/59387835 [00:56<00:41, 618122.59it/s]\u001b[A\n",
      " 57%|█████████████████████████████████████▎                            | 33597548/59387835 [00:56<00:41, 614504.75it/s]\u001b[A\n",
      " 57%|█████████████████████████████████████▍                            | 33664340/59387835 [00:56<00:41, 622792.58it/s]\u001b[A\n",
      " 57%|█████████████████████████████████████▍                            | 33730993/59387835 [00:56<00:40, 628182.44it/s]\u001b[A\n",
      " 57%|█████████████████████████████████████▌                            | 33796389/59387835 [00:56<00:40, 631239.64it/s]\u001b[A\n",
      " 57%|█████████████████████████████████████▋                            | 33861966/59387835 [00:56<00:40, 631002.19it/s]\u001b[A\n",
      " 57%|█████████████████████████████████████▋                            | 33927031/59387835 [00:56<00:40, 629350.68it/s]\u001b[A\n",
      " 57%|█████████████████████████████████████▊                            | 33995117/59387835 [00:57<00:39, 636928.14it/s]\u001b[A\n",
      " 57%|█████████████████████████████████████▊                            | 34061539/59387835 [00:57<00:39, 637422.57it/s]\u001b[A\n",
      " 57%|█████████████████████████████████████▉                            | 34125282/59387835 [00:57<00:40, 630036.17it/s]\u001b[A\n",
      " 58%|█████████████████████████████████████▉                            | 34188828/59387835 [00:57<00:40, 624299.67it/s]\u001b[A\n",
      " 58%|██████████████████████████████████████                            | 34255033/59387835 [00:57<00:40, 627957.62it/s]\u001b[A\n",
      " 58%|██████████████████████████████████████▏                           | 34320430/59387835 [00:57<00:39, 628188.18it/s]\u001b[A\n",
      " 58%|██████████████████████████████████████▏                           | 34386729/59387835 [00:57<00:39, 626917.48it/s]\u001b[A\n",
      " 58%|██████████████████████████████████████▎                           | 34449972/59387835 [00:57<00:39, 628412.47it/s]\u001b[A\n",
      " 58%|██████████████████████████████████████▎                           | 34517038/59387835 [00:57<00:39, 629393.08it/s]\u001b[A\n",
      " 58%|██████████████████████████████████████▍                           | 34582129/59387835 [00:57<00:39, 628310.08it/s]\u001b[A\n",
      " 58%|██████████████████████████████████████▌                           | 34647936/59387835 [00:58<00:39, 629613.92it/s]\u001b[A\n",
      " 58%|██████████████████████████████████████▌                           | 34712959/59387835 [00:58<00:39, 628268.59it/s]\u001b[A\n",
      " 59%|██████████████████████████████████████▋                           | 34777666/59387835 [00:58<00:39, 629694.41it/s]\u001b[A\n",
      " 59%|██████████████████████████████████████▋                           | 34841907/59387835 [00:58<00:38, 629586.51it/s]\u001b[A\n",
      " 59%|██████████████████████████████████████▊                           | 34904868/59387835 [00:58<00:39, 624179.65it/s]\u001b[A\n",
      " 59%|██████████████████████████████████████▊                           | 34968151/59387835 [00:58<00:39, 619477.28it/s]\u001b[A\n",
      " 59%|██████████████████████████████████████▉                           | 35035037/59387835 [00:58<00:38, 626576.95it/s]\u001b[A\n",
      " 59%|███████████████████████████████████████                           | 35099544/59387835 [00:58<00:38, 624631.62it/s]\u001b[A\n",
      " 59%|███████████████████████████████████████                           | 35166512/59387835 [00:58<00:38, 630403.18it/s]\u001b[A\n",
      " 59%|███████████████████████████████████████▏                          | 35229552/59387835 [00:59<01:17, 312350.63it/s]\u001b[A\n",
      " 59%|███████████████████████████████████████▏                          | 35292076/59387835 [00:59<01:06, 362793.48it/s]\u001b[A\n",
      " 60%|███████████████████████████████████████▎                          | 35355926/59387835 [00:59<00:58, 413403.54it/s]\u001b[A\n",
      " 60%|███████████████████████████████████████▎                          | 35419244/59387835 [00:59<00:52, 456848.11it/s]\u001b[A\n",
      " 60%|███████████████████████████████████████▍                          | 35483245/59387835 [00:59<00:48, 495192.84it/s]\u001b[A\n",
      " 60%|███████████████████████████████████████▌                          | 35549168/59387835 [00:59<00:44, 530795.36it/s]\u001b[A\n",
      " 60%|███████████████████████████████████████▌                          | 35614344/59387835 [00:59<00:42, 556527.22it/s]\u001b[A\n",
      " 60%|███████████████████████████████████████▋                          | 35679344/59387835 [01:00<00:41, 572660.31it/s]\u001b[A\n",
      " 60%|███████████████████████████████████████▋                          | 35743824/59387835 [01:00<00:40, 588646.62it/s]\u001b[A\n",
      " 60%|███████████████████████████████████████▊                          | 35809276/59387835 [01:00<00:39, 600364.91it/s]\u001b[A\n",
      " 60%|███████████████████████████████████████▊                          | 35873549/59387835 [01:00<00:38, 605487.00it/s]\u001b[A\n",
      " 61%|███████████████████████████████████████▉                          | 35939726/59387835 [01:00<00:38, 614531.27it/s]\u001b[A\n",
      " 61%|████████████████████████████████████████                          | 36004681/59387835 [01:00<00:37, 617474.05it/s]\u001b[A\n",
      " 61%|████████████████████████████████████████                          | 36069350/59387835 [01:00<00:37, 618736.23it/s]\u001b[A\n",
      " 61%|████████████████████████████████████████▏                         | 36132165/59387835 [01:00<00:37, 617926.26it/s]\u001b[A\n",
      " 61%|████████████████████████████████████████▏                         | 36198498/59387835 [01:00<00:37, 623860.42it/s]\u001b[A\n",
      " 61%|████████████████████████████████████████▎                         | 36265617/59387835 [01:01<00:36, 630282.48it/s]\u001b[A\n",
      " 61%|████████████████████████████████████████▍                         | 36331977/59387835 [01:01<00:36, 632590.64it/s]\u001b[A\n",
      " 61%|████████████████████████████████████████▍                         | 36397936/59387835 [01:01<00:36, 633050.32it/s]\u001b[A\n",
      " 61%|████████████████████████████████████████▌                         | 36464835/59387835 [01:01<00:36, 636083.79it/s]\u001b[A\n",
      " 62%|████████████████████████████████████████▌                         | 36531755/59387835 [01:01<00:35, 638267.54it/s]\u001b[A\n",
      " 62%|████████████████████████████████████████▋                         | 36595620/59387835 [01:01<00:35, 636801.81it/s]\u001b[A\n",
      " 62%|████████████████████████████████████████▋                         | 36661113/59387835 [01:01<00:36, 631225.34it/s]\u001b[A\n",
      " 62%|████████████████████████████████████████▊                         | 36728553/59387835 [01:01<00:35, 632282.53it/s]\u001b[A\n",
      " 62%|████████████████████████████████████████▉                         | 36796057/59387835 [01:01<00:35, 630799.01it/s]\u001b[A\n",
      " 62%|████████████████████████████████████████▉                         | 36861990/59387835 [01:01<00:35, 631712.11it/s]\u001b[A\n",
      " 62%|█████████████████████████████████████████                         | 36925831/59387835 [01:02<00:35, 626365.64it/s]\u001b[A\n",
      " 62%|█████████████████████████████████████████                         | 36993574/59387835 [01:02<00:35, 633800.82it/s]\u001b[A\n",
      " 62%|█████████████████████████████████████████▏                        | 37057500/59387835 [01:02<00:35, 628054.24it/s]\u001b[A\n",
      " 63%|█████████████████████████████████████████▎                        | 37122734/59387835 [01:02<00:35, 627784.12it/s]\u001b[A\n",
      " 63%|█████████████████████████████████████████▎                        | 37188281/59387835 [01:02<00:35, 628498.09it/s]\u001b[A\n",
      " 63%|█████████████████████████████████████████▍                        | 37255524/59387835 [01:02<00:34, 633881.24it/s]\u001b[A\n",
      " 63%|█████████████████████████████████████████▍                        | 37319856/59387835 [01:02<00:35, 629265.96it/s]\u001b[A\n",
      " 63%|█████████████████████████████████████████▌                        | 37385489/59387835 [01:02<00:34, 629781.73it/s]\u001b[A\n",
      " 63%|█████████████████████████████████████████▌                        | 37453344/59387835 [01:02<00:34, 636551.56it/s]\u001b[A\n",
      " 63%|█████████████████████████████████████████▋                        | 37520659/59387835 [01:02<00:34, 639733.53it/s]\u001b[A\n",
      " 63%|█████████████████████████████████████████▊                        | 37587171/59387835 [01:03<00:34, 639646.71it/s]\u001b[A\n",
      " 63%|█████████████████████████████████████████▊                        | 37653780/59387835 [01:03<00:33, 639863.02it/s]\u001b[A\n",
      " 64%|█████████████████████████████████████████▉                        | 37720154/59387835 [01:03<00:33, 639338.49it/s]\u001b[A\n",
      " 64%|█████████████████████████████████████████▉                        | 37784089/59387835 [01:03<00:34, 631936.41it/s]\u001b[A\n",
      " 64%|██████████████████████████████████████████                        | 37847283/59387835 [01:03<00:34, 624618.92it/s]\u001b[A\n",
      " 64%|██████████████████████████████████████████▏                       | 37913188/59387835 [01:03<00:34, 627314.80it/s]\u001b[A\n",
      " 64%|██████████████████████████████████████████▏                       | 37975920/59387835 [01:03<00:35, 598904.87it/s]\u001b[A\n",
      " 64%|██████████████████████████████████████████▎                       | 38036299/59387835 [01:03<00:35, 600061.93it/s]\u001b[A\n",
      " 64%|██████████████████████████████████████████▎                       | 38101126/59387835 [01:03<00:35, 606713.32it/s]\u001b[A\n",
      " 64%|██████████████████████████████████████████▍                       | 38165557/59387835 [01:04<00:34, 610502.66it/s]\u001b[A\n",
      " 64%|██████████████████████████████████████████▍                       | 38230814/59387835 [01:04<00:34, 615540.19it/s]\u001b[A\n",
      " 64%|██████████████████████████████████████████▌                       | 38294868/59387835 [01:04<00:34, 615620.05it/s]\u001b[A\n",
      " 65%|██████████████████████████████████████████▋                       | 38357117/59387835 [01:04<00:34, 610483.74it/s]\u001b[A\n",
      " 65%|██████████████████████████████████████████▋                       | 38421018/59387835 [01:04<00:34, 611639.30it/s]\u001b[A\n",
      " 65%|██████████████████████████████████████████▊                       | 38485499/59387835 [01:04<00:34, 614117.95it/s]\u001b[A\n",
      " 65%|██████████████████████████████████████████▊                       | 38552468/59387835 [01:04<00:33, 623024.87it/s]\u001b[A\n",
      " 65%|██████████████████████████████████████████▉                       | 38616086/59387835 [01:04<00:33, 619605.32it/s]\u001b[A\n",
      " 65%|██████████████████████████████████████████▉                       | 38681262/59387835 [01:04<00:33, 621701.55it/s]\u001b[A\n",
      " 65%|███████████████████████████████████████████                       | 38746048/59387835 [01:04<00:33, 622045.24it/s]\u001b[A\n",
      " 65%|███████████████████████████████████████████▏                      | 38808453/59387835 [01:05<00:33, 615418.73it/s]\u001b[A\n",
      " 65%|███████████████████████████████████████████▏                      | 38872638/59387835 [01:05<00:33, 615914.33it/s]\u001b[A\n",
      " 66%|███████████████████████████████████████████▎                      | 38939578/59387835 [01:05<00:32, 624206.43it/s]\u001b[A\n",
      " 66%|███████████████████████████████████████████▎                      | 39004401/59387835 [01:05<00:32, 623905.49it/s]\u001b[A\n",
      " 66%|███████████████████████████████████████████▍                      | 39070068/59387835 [01:05<00:32, 626128.10it/s]\u001b[A\n",
      " 66%|███████████████████████████████████████████▍                      | 39134159/59387835 [01:05<00:32, 626500.57it/s]\u001b[A\n",
      " 66%|███████████████████████████████████████████▌                      | 39199977/59387835 [01:05<00:32, 628386.43it/s]\u001b[A\n",
      " 66%|███████████████████████████████████████████▋                      | 39265397/59387835 [01:05<00:32, 628555.50it/s]\u001b[A\n",
      " 66%|███████████████████████████████████████████▋                      | 39331038/59387835 [01:05<00:31, 629309.59it/s]\u001b[A\n",
      " 66%|███████████████████████████████████████████▊                      | 39396399/59387835 [01:06<00:31, 629028.14it/s]\u001b[A\n",
      " 66%|███████████████████████████████████████████▊                      | 39459302/59387835 [01:06<01:08, 291179.60it/s]\u001b[A\n",
      " 67%|███████████████████████████████████████████▉                      | 39521538/59387835 [01:06<00:57, 342562.30it/s]\u001b[A\n",
      " 67%|███████████████████████████████████████████▉                      | 39586415/59387835 [01:06<00:49, 396793.44it/s]\u001b[A\n",
      " 67%|████████████████████████████████████████████                      | 39653603/59387835 [01:06<00:44, 448239.94it/s]\u001b[A\n",
      " 67%|████████████████████████████████████████████▏                     | 39718841/59387835 [01:06<00:40, 490272.47it/s]\u001b[A\n",
      " 67%|████████████████████████████████████████████▏                     | 39784930/59387835 [01:07<00:37, 526727.11it/s]\u001b[A\n",
      " 67%|████████████████████████████████████████████▎                     | 39850417/59387835 [01:07<00:35, 550520.01it/s]\u001b[A\n",
      " 67%|████████████████████████████████████████████▎                     | 39917160/59387835 [01:07<00:33, 574097.31it/s]\u001b[A\n",
      " 67%|████████████████████████████████████████████▍                     | 39982658/59387835 [01:07<00:32, 590233.82it/s]\u001b[A\n",
      " 67%|████████████████████████████████████████████▌                     | 40045154/59387835 [01:07<00:32, 599327.79it/s]\u001b[A\n",
      " 68%|████████████████████████████████████████████▌                     | 40110504/59387835 [01:07<00:31, 607779.75it/s]\u001b[A\n",
      " 68%|████████████████████████████████████████████▋                     | 40175326/59387835 [01:07<00:31, 612317.13it/s]\u001b[A\n",
      " 68%|████████████████████████████████████████████▋                     | 40240200/59387835 [01:07<00:31, 615684.34it/s]\u001b[A\n",
      " 68%|████████████████████████████████████████████▊                     | 40305735/59387835 [01:07<00:30, 623346.47it/s]\u001b[A\n",
      " 68%|████████████████████████████████████████████▊                     | 40370977/59387835 [01:07<00:30, 624508.42it/s]\u001b[A\n",
      " 68%|████████████████████████████████████████████▉                     | 40438300/59387835 [01:08<00:30, 627329.18it/s]\u001b[A\n",
      " 68%|█████████████████████████████████████████████                     | 40504228/59387835 [01:08<00:30, 625631.42it/s]\u001b[A\n",
      " 68%|█████████████████████████████████████████████                     | 40570036/59387835 [01:08<00:29, 627727.27it/s]\u001b[A\n",
      " 68%|█████████████████████████████████████████████▏                    | 40635822/59387835 [01:08<00:29, 629139.05it/s]\u001b[A\n",
      " 69%|█████████████████████████████████████████████▏                    | 40701137/59387835 [01:08<00:29, 628778.76it/s]\u001b[A\n",
      " 69%|█████████████████████████████████████████████▎                    | 40766138/59387835 [01:08<00:29, 631185.70it/s]\u001b[A\n",
      " 69%|█████████████████████████████████████████████▍                    | 40833007/59387835 [01:08<00:29, 634700.36it/s]\u001b[A\n",
      " 69%|█████████████████████████████████████████████▍                    | 40897532/59387835 [01:08<00:29, 630385.66it/s]\u001b[A\n",
      " 69%|█████████████████████████████████████████████▌                    | 40963137/59387835 [01:08<00:29, 630484.29it/s]\u001b[A\n",
      " 69%|█████████████████████████████████████████████▌                    | 41028850/59387835 [01:09<00:29, 630868.02it/s]\u001b[A\n",
      " 69%|█████████████████████████████████████████████▋                    | 41094518/59387835 [01:09<00:28, 631005.78it/s]\u001b[A\n",
      " 69%|█████████████████████████████████████████████▋                    | 41158916/59387835 [01:09<00:29, 627437.61it/s]\u001b[A\n",
      " 69%|█████████████████████████████████████████████▊                    | 41226160/59387835 [01:09<00:28, 633144.70it/s]\u001b[A\n",
      " 70%|█████████████████████████████████████████████▉                    | 41291525/59387835 [01:09<00:28, 631723.96it/s]\u001b[A\n",
      " 70%|█████████████████████████████████████████████▉                    | 41356502/59387835 [01:09<00:28, 629612.54it/s]\u001b[A\n",
      " 70%|██████████████████████████████████████████████                    | 41423653/59387835 [01:09<00:28, 634404.05it/s]\u001b[A\n",
      " 70%|██████████████████████████████████████████████                    | 41488202/59387835 [01:09<00:28, 630254.18it/s]\u001b[A\n",
      " 70%|██████████████████████████████████████████████▏                   | 41552046/59387835 [01:09<00:28, 623651.10it/s]\u001b[A\n",
      " 70%|██████████████████████████████████████████████▎                   | 41616619/59387835 [01:09<00:28, 623785.02it/s]\u001b[A\n",
      " 70%|██████████████████████████████████████████████▎                   | 41684330/59387835 [01:10<00:28, 631937.23it/s]\u001b[A\n",
      " 70%|██████████████████████████████████████████████▍                   | 41752788/59387835 [01:10<00:27, 639799.14it/s]\u001b[A\n",
      " 70%|██████████████████████████████████████████████▍                   | 41822652/59387835 [01:10<00:27, 649359.10it/s]\u001b[A\n",
      " 71%|██████████████████████████████████████████████▌                   | 41891449/59387835 [01:10<00:26, 652972.49it/s]\u001b[A\n",
      " 71%|██████████████████████████████████████████████▋                   | 41956772/59387835 [01:10<00:27, 645485.47it/s]\u001b[A\n",
      " 71%|██████████████████████████████████████████████▋                   | 42022045/59387835 [01:10<00:27, 642965.52it/s]\u001b[A\n",
      " 71%|██████████████████████████████████████████████▊                   | 42090720/59387835 [01:10<00:26, 648163.24it/s]\u001b[A\n",
      " 71%|██████████████████████████████████████████████▊                   | 42156193/59387835 [01:10<00:26, 642537.30it/s]\u001b[A\n",
      " 71%|██████████████████████████████████████████████▉                   | 42222230/59387835 [01:10<00:26, 640234.97it/s]\u001b[A\n",
      " 71%|██████████████████████████████████████████████▉                   | 42287839/59387835 [01:10<00:26, 637386.32it/s]\u001b[A\n",
      " 71%|███████████████████████████████████████████████                   | 42353363/59387835 [01:11<00:26, 635148.92it/s]\u001b[A\n",
      " 71%|███████████████████████████████████████████████▏                  | 42419793/59387835 [01:11<00:26, 636205.01it/s]\u001b[A\n",
      " 72%|███████████████████████████████████████████████▏                  | 42485465/59387835 [01:11<00:26, 634751.74it/s]\u001b[A\n",
      " 72%|███████████████████████████████████████████████▎                  | 42552934/59387835 [01:11<00:26, 638913.19it/s]\u001b[A\n",
      " 72%|███████████████████████████████████████████████▎                  | 42617269/59387835 [01:11<00:26, 632798.20it/s]\u001b[A\n",
      " 72%|███████████████████████████████████████████████▍                  | 42681326/59387835 [01:11<00:26, 627709.36it/s]\u001b[A\n",
      " 72%|███████████████████████████████████████████████▌                  | 42746650/59387835 [01:11<00:26, 627802.07it/s]\u001b[A\n",
      " 72%|███████████████████████████████████████████████▌                  | 42812709/59387835 [01:11<00:26, 630757.32it/s]\u001b[A\n",
      " 72%|███████████████████████████████████████████████▋                  | 42880180/59387835 [01:11<00:25, 636129.72it/s]\u001b[A\n",
      " 72%|███████████████████████████████████████████████▋                  | 42946161/59387835 [01:12<00:25, 635591.31it/s]\u001b[A\n",
      " 72%|███████████████████████████████████████████████▊                  | 43011454/59387835 [01:12<00:25, 633232.03it/s]\u001b[A\n",
      " 73%|███████████████████████████████████████████████▉                  | 43079484/59387835 [01:12<00:25, 639470.04it/s]\u001b[A\n",
      " 73%|███████████████████████████████████████████████▉                  | 43143477/59387835 [01:12<00:25, 632194.60it/s]\u001b[A\n",
      " 73%|████████████████████████████████████████████████                  | 43209403/59387835 [01:12<00:25, 632683.73it/s]\u001b[A\n",
      " 73%|████████████████████████████████████████████████                  | 43275275/59387835 [01:12<00:25, 632863.36it/s]\u001b[A\n",
      " 73%|████████████████████████████████████████████████▏                 | 43341648/59387835 [01:12<00:25, 634435.48it/s]\u001b[A\n",
      " 73%|████████████████████████████████████████████████▏                 | 43405092/59387835 [01:12<00:26, 612942.81it/s]\u001b[A\n",
      " 73%|████████████████████████████████████████████████▎                 | 43469560/59387835 [01:12<00:25, 614964.47it/s]\u001b[A\n",
      " 73%|████████████████████████████████████████████████▍                 | 43533889/59387835 [01:12<00:25, 620147.72it/s]\u001b[A\n",
      " 73%|████████████████████████████████████████████████▍                 | 43600345/59387835 [01:13<00:25, 625755.64it/s]\u001b[A\n",
      " 74%|████████████████████████████████████████████████▌                 | 43668346/59387835 [01:13<00:24, 634136.83it/s]\u001b[A\n",
      " 74%|████████████████████████████████████████████████▌                 | 43735563/59387835 [01:13<00:24, 637756.30it/s]\u001b[A\n",
      " 74%|████████████████████████████████████████████████▋                 | 43803694/59387835 [01:13<00:24, 642925.18it/s]\u001b[A\n",
      " 74%|████████████████████████████████████████████████▊                 | 43870483/59387835 [01:13<00:24, 642679.52it/s]\u001b[A\n",
      " 74%|████████████████████████████████████████████████▊                 | 43938412/59387835 [01:13<00:23, 645783.47it/s]\u001b[A\n",
      " 74%|████████████████████████████████████████████████▉                 | 44006959/59387835 [01:13<00:23, 646002.56it/s]\u001b[A\n",
      " 74%|████████████████████████████████████████████████▉                 | 44075620/59387835 [01:13<00:23, 650213.56it/s]\u001b[A\n",
      " 74%|█████████████████████████████████████████████████                 | 44145932/59387835 [01:13<00:23, 657918.81it/s]\u001b[A\n",
      " 74%|█████████████████████████████████████████████████▏                | 44211731/59387835 [01:14<00:23, 650336.07it/s]\u001b[A\n",
      " 75%|█████████████████████████████████████████████████▏                | 44278980/59387835 [01:14<00:23, 649195.82it/s]\u001b[A\n",
      " 75%|█████████████████████████████████████████████████▎                | 44346698/59387835 [01:14<00:23, 649744.93it/s]\u001b[A\n",
      " 75%|█████████████████████████████████████████████████▎                | 44414683/59387835 [01:14<00:23, 650900.45it/s]\u001b[A\n",
      " 75%|█████████████████████████████████████████████████▍                | 44479775/59387835 [01:14<00:52, 282624.89it/s]\u001b[A\n",
      " 75%|█████████████████████████████████████████████████▍                | 44538996/59387835 [01:14<00:45, 328773.46it/s]\u001b[A\n",
      " 75%|█████████████████████████████████████████████████▌                | 44602824/59387835 [01:15<00:38, 381427.71it/s]\u001b[A\n",
      " 75%|█████████████████████████████████████████████████▋                | 44672070/59387835 [01:15<00:33, 440816.77it/s]\u001b[A\n",
      " 75%|█████████████████████████████████████████████████▋                | 44737933/59387835 [01:15<00:30, 485033.13it/s]\u001b[A\n",
      " 75%|█████████████████████████████████████████████████▊                | 44805732/59387835 [01:15<00:27, 521403.35it/s]\u001b[A\n",
      " 76%|█████████████████████████████████████████████████▊                | 44872458/59387835 [01:15<00:26, 548792.03it/s]\u001b[A"
     ]
    },
    {
     "ename": "KeyboardInterrupt",
     "evalue": "",
     "output_type": "error",
     "traceback": [
      "\u001b[1;31m---------------------------------------------------------------------------\u001b[0m",
      "\u001b[1;31mKeyboardInterrupt\u001b[0m                         Traceback (most recent call last)",
      "\u001b[1;32mC:\\Users\\BINTUL~2\\AppData\\Local\\Temp/ipykernel_28112/420353244.py\u001b[0m in \u001b[0;36m<module>\u001b[1;34m\u001b[0m\n\u001b[1;32m----> 1\u001b[1;33m \u001b[0mres_is\u001b[0m \u001b[1;33m=\u001b[0m \u001b[0mnp\u001b[0m\u001b[1;33m.\u001b[0m\u001b[0marray\u001b[0m\u001b[1;33m(\u001b[0m\u001b[1;33m[\u001b[0m\u001b[0mir\u001b[0m \u001b[1;32mfor\u001b[0m \u001b[0mr\u001b[0m \u001b[1;32min\u001b[0m \u001b[0mtqdm\u001b[0m\u001b[1;33m(\u001b[0m\u001b[0mres\u001b[0m\u001b[1;33m)\u001b[0m \u001b[1;32mfor\u001b[0m \u001b[0mir\u001b[0m\u001b[1;33m,\u001b[0m\u001b[0mr_\u001b[0m \u001b[1;32min\u001b[0m \u001b[0menumerate\u001b[0m\u001b[1;33m(\u001b[0m\u001b[0mr\u001b[0m\u001b[1;33m)\u001b[0m\u001b[1;33m]\u001b[0m\u001b[1;33m)\u001b[0m\u001b[1;33m\u001b[0m\u001b[1;33m\u001b[0m\u001b[0m\n\u001b[0m",
      "\u001b[1;32mC:\\Users\\BINTUL~2\\AppData\\Local\\Temp/ipykernel_28112/420353244.py\u001b[0m in \u001b[0;36m<listcomp>\u001b[1;34m(.0)\u001b[0m\n\u001b[1;32m----> 1\u001b[1;33m \u001b[0mres_is\u001b[0m \u001b[1;33m=\u001b[0m \u001b[0mnp\u001b[0m\u001b[1;33m.\u001b[0m\u001b[0marray\u001b[0m\u001b[1;33m(\u001b[0m\u001b[1;33m[\u001b[0m\u001b[0mir\u001b[0m \u001b[1;32mfor\u001b[0m \u001b[0mr\u001b[0m \u001b[1;32min\u001b[0m \u001b[0mtqdm\u001b[0m\u001b[1;33m(\u001b[0m\u001b[0mres\u001b[0m\u001b[1;33m)\u001b[0m \u001b[1;32mfor\u001b[0m \u001b[0mir\u001b[0m\u001b[1;33m,\u001b[0m\u001b[0mr_\u001b[0m \u001b[1;32min\u001b[0m \u001b[0menumerate\u001b[0m\u001b[1;33m(\u001b[0m\u001b[0mr\u001b[0m\u001b[1;33m)\u001b[0m\u001b[1;33m]\u001b[0m\u001b[1;33m)\u001b[0m\u001b[1;33m\u001b[0m\u001b[1;33m\u001b[0m\u001b[0m\n\u001b[0m",
      "\u001b[1;31mKeyboardInterrupt\u001b[0m: "
     ]
    }
   ],
   "source": [
    "res_is = np.array([ir for r in tqdm(res) for ir,r_ in enumerate(r)])"
   ]
  },
  {
   "cell_type": "code",
   "execution_count": null,
   "id": "e15d1950-2755-4983-9e92-044aca445b4f",
   "metadata": {},
   "outputs": [],
   "source": []
  },
  {
   "cell_type": "code",
   "execution_count": 83,
   "id": "7ae3d835-7ed5-47bb-8059-96fc3e0a6891",
   "metadata": {},
   "outputs": [
    {
     "name": "stderr",
     "output_type": "stream",
     "text": [
      " 16%|██████████▉                                                        | 9730429/59387835 [01:04<05:28, 151273.32it/s]\n"
     ]
    },
    {
     "ename": "KeyboardInterrupt",
     "evalue": "",
     "output_type": "error",
     "traceback": [
      "\u001b[1;31m---------------------------------------------------------------------------\u001b[0m",
      "\u001b[1;31mKeyboardInterrupt\u001b[0m                         Traceback (most recent call last)",
      "\u001b[1;32mC:\\Users\\BINTUL~2\\AppData\\Local\\Temp/ipykernel_28112/1786929057.py\u001b[0m in \u001b[0;36m<module>\u001b[1;34m\u001b[0m\n\u001b[0;32m      1\u001b[0m \u001b[0mrunfT\u001b[0m \u001b[1;33m=\u001b[0m \u001b[0mtorch\u001b[0m\u001b[1;33m.\u001b[0m\u001b[0mzeros\u001b[0m\u001b[1;33m(\u001b[0m\u001b[1;33m[\u001b[0m\u001b[0mlen\u001b[0m\u001b[1;33m(\u001b[0m\u001b[0mres\u001b[0m\u001b[1;33m)\u001b[0m\u001b[1;33m,\u001b[0m\u001b[0mMlen\u001b[0m\u001b[1;33m]\u001b[0m\u001b[1;33m,\u001b[0m\u001b[0mdtype\u001b[0m\u001b[1;33m=\u001b[0m\u001b[0mtorch\u001b[0m\u001b[1;33m.\u001b[0m\u001b[0mint64\u001b[0m\u001b[1;33m)\u001b[0m\u001b[1;33m\u001b[0m\u001b[1;33m\u001b[0m\u001b[0m\n\u001b[0;32m      2\u001b[0m \u001b[1;32mfor\u001b[0m \u001b[0mir\u001b[0m\u001b[1;33m,\u001b[0m\u001b[0mr\u001b[0m \u001b[1;32min\u001b[0m \u001b[0menumerate\u001b[0m\u001b[1;33m(\u001b[0m\u001b[0mtqdm\u001b[0m\u001b[1;33m(\u001b[0m\u001b[0mres\u001b[0m\u001b[1;33m)\u001b[0m\u001b[1;33m)\u001b[0m\u001b[1;33m:\u001b[0m\u001b[1;33m\u001b[0m\u001b[1;33m\u001b[0m\u001b[0m\n\u001b[1;32m----> 3\u001b[1;33m     \u001b[0mrunfT\u001b[0m\u001b[1;33m[\u001b[0m\u001b[0mir\u001b[0m\u001b[1;33m,\u001b[0m\u001b[1;33m:\u001b[0m\u001b[0mlen\u001b[0m\u001b[1;33m(\u001b[0m\u001b[0mr\u001b[0m\u001b[1;33m)\u001b[0m\u001b[1;33m]\u001b[0m\u001b[1;33m=\u001b[0m\u001b[0mtorch\u001b[0m\u001b[1;33m.\u001b[0m\u001b[0mfrom_numpy\u001b[0m\u001b[1;33m(\u001b[0m\u001b[0mr\u001b[0m\u001b[1;33m)\u001b[0m\u001b[1;33m\u001b[0m\u001b[1;33m\u001b[0m\u001b[0m\n\u001b[0m",
      "\u001b[1;31mKeyboardInterrupt\u001b[0m: "
     ]
    }
   ],
   "source": [
    "\n",
    "for ir,r in enumerate(tqdm(res)):\n",
    "    runfT[ir,:len(r)]=torch.from_numpy(r)"
   ]
  },
  {
   "cell_type": "code",
   "execution_count": 81,
   "id": "24c36944-fe9f-4586-aa7a-16571b3842fb",
   "metadata": {},
   "outputs": [
    {
     "ename": "TypeError",
     "evalue": "can't assign a numpy.ndarray to a torch.LongTensor",
     "output_type": "error",
     "traceback": [
      "\u001b[1;31m---------------------------------------------------------------------------\u001b[0m",
      "\u001b[1;31mTypeError\u001b[0m                                 Traceback (most recent call last)",
      "\u001b[1;32mC:\\Users\\BINTUL~2\\AppData\\Local\\Temp/ipykernel_28112/1859076802.py\u001b[0m in \u001b[0;36m<module>\u001b[1;34m\u001b[0m\n\u001b[1;32m----> 1\u001b[1;33m \u001b[0mrunfT\u001b[0m\u001b[1;33m[\u001b[0m\u001b[0mir\u001b[0m\u001b[1;33m,\u001b[0m\u001b[1;33m:\u001b[0m\u001b[0mlen\u001b[0m\u001b[1;33m(\u001b[0m\u001b[0mr\u001b[0m\u001b[1;33m)\u001b[0m\u001b[1;33m]\u001b[0m\u001b[1;33m=\u001b[0m\u001b[0mr\u001b[0m\u001b[1;33m\u001b[0m\u001b[1;33m\u001b[0m\u001b[0m\n\u001b[0m",
      "\u001b[1;31mTypeError\u001b[0m: can't assign a numpy.ndarray to a torch.LongTensor"
     ]
    }
   ],
   "source": [
    "runfT[ir,:len(r)]=r"
   ]
  },
  {
   "cell_type": "code",
   "execution_count": 76,
   "id": "58545f8b-f3ad-4e01-99a1-2f8db6321e44",
   "metadata": {},
   "outputs": [
    {
     "data": {
      "text/plain": [
       "array([      98,      108,     4613, ..., 68626675, 74348866, 74348867],\n",
       "      dtype=int64)"
      ]
     },
     "execution_count": 76,
     "metadata": {},
     "output_type": "execute_result"
    }
   ],
   "source": [
    "res_unfolder"
   ]
  },
  {
   "cell_type": "code",
   "execution_count": 70,
   "id": "0bf32ac9-032a-46f5-9095-2904a6038f66",
   "metadata": {},
   "outputs": [],
   "source": [
    "NDim = 100\n",
    "meanD_ = meanD[:(len(meanD)//NDim)*NDim].reshape([-1,NDim])"
   ]
  },
  {
   "cell_type": "code",
   "execution_count": 71,
   "id": "f4c634b0-096a-452b-8049-070c2d522c1e",
   "metadata": {},
   "outputs": [
    {
     "data": {
      "text/plain": [
       "tensor([[ 0, 44, 28,  ..., 84, 30, 39],\n",
       "        [24, 51, 34,  ..., 14, 66, 13],\n",
       "        [ 0, 44, 56,  ..., 70, 91, 87],\n",
       "        ...,\n",
       "        [16, 74,  4,  ..., 49,  2, 67],\n",
       "        [12, 47, 28,  ...,  1, 73, 68],\n",
       "        [34, 88,  6,  ..., 91, 19, 17]])"
      ]
     },
     "execution_count": 71,
     "metadata": {},
     "output_type": "execute_result"
    }
   ],
   "source": [
    "meanD_.argsort(dim=-1)"
   ]
  },
  {
   "cell_type": "code",
   "execution_count": null,
   "id": "88c1b63f-5c45-4a77-87a1-8dbb33382c66",
   "metadata": {},
   "outputs": [],
   "source": [
    "[0.231,9,0.3,23232,323]\n",
    "[1,1,2,2,2,3,3,3]"
   ]
  },
  {
   "cell_type": "code",
   "execution_count": 24,
   "id": "277840ec-b45b-42b5-a9e5-1ff1e39bd5fc",
   "metadata": {},
   "outputs": [],
   "source": [
    "ires = ires.astype(np.int64)\n",
    "nbitMax = np.max(bits_unfold)\n",
    "ires_full=(ires*(nbitMax+1)+bits_unfold)"
   ]
  },
  {
   "cell_type": "code",
   "execution_count": 26,
   "id": "27cdadce-7f34-4dbd-a6c8-d92dcffcbf46",
   "metadata": {},
   "outputs": [
    {
     "data": {
      "text/plain": [
       "2850616079"
      ]
     },
     "execution_count": 26,
     "metadata": {},
     "output_type": "execute_result"
    }
   ],
   "source": [
    "np.max(ires_full)"
   ]
  },
  {
   "cell_type": "code",
   "execution_count": 27,
   "id": "9fa0b419-7232-4aae-85c1-1463ef90d656",
   "metadata": {},
   "outputs": [],
   "source": [
    "iresU = np.unique(ires_full)"
   ]
  },
  {
   "cell_type": "code",
   "execution_count": 30,
   "id": "7a0b132b-9177-460c-afba-95795fc0cd80",
   "metadata": {},
   "outputs": [],
   "source": [
    "Brs = dec.XH[:,-3][res_unfolder]"
   ]
  },
  {
   "cell_type": "code",
   "execution_count": 31,
   "id": "2430a320-711e-4586-952c-5621a9a429a5",
   "metadata": {},
   "outputs": [
    {
     "data": {
      "text/plain": [
       "array([5633.45898438, 4697.8125    , 5164.875     , ..., 4954.89892578,\n",
       "       5954.09375   , 5089.21484375])"
      ]
     },
     "execution_count": 31,
     "metadata": {},
     "output_type": "execute_result"
    }
   ],
   "source": [
    "ndimage.maximum(Brs,ires_full,iresU)"
   ]
  },
  {
   "cell_type": "code",
   "execution_count": 32,
   "id": "69b0015a-21f6-4371-8b58-a5a537f95d7a",
   "metadata": {},
   "outputs": [
    {
     "data": {
      "text/plain": [
       "dtype('int64')"
      ]
     },
     "execution_count": 32,
     "metadata": {},
     "output_type": "execute_result"
    }
   ],
   "source": [
    "ires.dtype"
   ]
  },
  {
   "cell_type": "code",
   "execution_count": 10,
   "id": "79be299c-3d16-43a8-9f89-df212f93685d",
   "metadata": {},
   "outputs": [],
   "source": [
    "from scipy import ndimage\n",
    "ndimage"
   ]
  },
  {
   "cell_type": "code",
   "execution_count": null,
   "id": "c84b9fe6-7204-4483-b44f-35f9e3c8acab",
   "metadata": {},
   "outputs": [],
   "source": [
    "r0 = np.array([])"
   ]
  },
  {
   "cell_type": "code",
   "execution_count": null,
   "id": "a71588f8-6698-4f24-b4f1-78a866ddcf46",
   "metadata": {},
   "outputs": [],
   "source": [
    "bits_unfold"
   ]
  },
  {
   "cell_type": "code",
   "execution_count": null,
   "id": "61757ec0-37a0-45d8-a7e4-cb88a48bf630",
   "metadata": {},
   "outputs": [],
   "source": [
    "inds_spotsN =  np.zeros([len(res),nbits],dtype=int)-1\n",
    "inds_spotsN[ires[arg_scores],bits_unfold[arg_scores]]=res_unfolder[arg_scores]"
   ]
  }
 ],
 "metadata": {
  "kernelspec": {
   "display_name": "Python 3 (ipykernel)",
   "language": "python",
   "name": "python3"
  },
  "language_info": {
   "codemirror_mode": {
    "name": "ipython",
    "version": 3
   },
   "file_extension": ".py",
   "mimetype": "text/x-python",
   "name": "python",
   "nbconvert_exporter": "python",
   "pygments_lexer": "ipython3",
   "version": "3.9.7"
  }
 },
 "nbformat": 4,
 "nbformat_minor": 5
}
