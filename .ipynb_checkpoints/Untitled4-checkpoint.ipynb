{
 "cells": [
  {
   "cell_type": "code",
   "execution_count": 11,
   "id": "97fb55d0-4610-4aee-9d61-f6ccc8eb67aa",
   "metadata": {},
   "outputs": [
    {
     "data": {
      "text/plain": [
       "tensor([[1, 2, 3, 4],\n",
       "        [1, 3, 4, 7]])"
      ]
     },
     "execution_count": 11,
     "metadata": {},
     "output_type": "execute_result"
    }
   ],
   "source": [
    "import torch\n",
    "from functorch import vmap\n",
    "def first_n_unique_1D(A_1D, n=4):\n",
    "    # Get unique elements and their indices\n",
    "    unique_values, unique_indices = torch.unique(A_1D, return_inverse=True)\n",
    "    if len(unique_values)<n:\n",
    "        return torch.tensor([4]*n)\n",
    "    return unique_values[:n]\n",
    "\n",
    "# Vectorize the function\n",
    "first_n_unique = vmap(first_n_unique_1D)\n",
    "\n",
    "# Example usage:\n",
    "A = torch.tensor([[1, 2, 2,3, 3, 4, 5, 6], [1, 3, 3 ,4, 1, 7, 8, 9]])\n",
    "#print(first_n_unique(A, 4))  # tensor([[1, 2, 3, 4], [2, 3, 4, 1]])\n",
    "first_n_unique(A)"
   ]
  },
  {
   "cell_type": "code",
   "execution_count": 3,
   "id": "07a40933-a0b0-4f66-a3c1-72cc02acb750",
   "metadata": {},
   "outputs": [
    {
     "data": {
      "text/plain": [
       "tensor([1, 2, 3, 4])"
      ]
     },
     "execution_count": 3,
     "metadata": {},
     "output_type": "execute_result"
    }
   ],
   "source": [
    "first_n_unique_1D(A[0],4)"
   ]
  },
  {
   "cell_type": "code",
   "execution_count": 13,
   "id": "e9355ea6-e9fd-461e-aac7-b448abd5ee0a",
   "metadata": {},
   "outputs": [],
   "source": [
    "A_1D = torch.tensor([3, 2, 2,3, 3, 4, 5, 6])\n",
    "\n",
    "unique_values, unique_indices = torch.unique(A_1D, return_inverse=True)"
   ]
  },
  {
   "cell_type": "code",
   "execution_count": 14,
   "id": "12f5ee6f-ba8b-4ab8-82b4-f3bb8f7879c7",
   "metadata": {},
   "outputs": [
    {
     "data": {
      "text/plain": [
       "tensor([2, 3, 4, 5, 6])"
      ]
     },
     "execution_count": 14,
     "metadata": {},
     "output_type": "execute_result"
    }
   ],
   "source": [
    "unique_values"
   ]
  },
  {
   "cell_type": "code",
   "execution_count": 15,
   "id": "f06575b2-50a4-48e1-8aa1-8b16a943c217",
   "metadata": {},
   "outputs": [
    {
     "data": {
      "text/plain": [
       "tensor([1, 0, 0, 1, 1, 2, 3, 4])"
      ]
     },
     "execution_count": 15,
     "metadata": {},
     "output_type": "execute_result"
    }
   ],
   "source": [
    "unique_indices"
   ]
  },
  {
   "cell_type": "code",
   "execution_count": null,
   "id": "6d9be789-7feb-4ca2-8dd8-8e374120216d",
   "metadata": {},
   "outputs": [],
   "source": []
  }
 ],
 "metadata": {
  "kernelspec": {
   "display_name": "Python 3 (ipykernel)",
   "language": "python",
   "name": "python3"
  },
  "language_info": {
   "codemirror_mode": {
    "name": "ipython",
    "version": 3
   },
   "file_extension": ".py",
   "mimetype": "text/x-python",
   "name": "python",
   "nbconvert_exporter": "python",
   "pygments_lexer": "ipython3",
   "version": "3.9.7"
  }
 },
 "nbformat": 4,
 "nbformat_minor": 5
}
