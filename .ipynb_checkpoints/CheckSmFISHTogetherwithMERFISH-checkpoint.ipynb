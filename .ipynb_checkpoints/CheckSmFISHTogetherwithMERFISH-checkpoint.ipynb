{
 "cells": [
  {
   "cell_type": "code",
   "execution_count": 1,
   "id": "73cce4a2-7b30-41c4-bc14-53d025ccc0a1",
   "metadata": {},
   "outputs": [],
   "source": [
    "from ioMicro import *"
   ]
  },
  {
   "cell_type": "code",
   "execution_count": 2,
   "id": "81d521eb-5c97-4bd9-8451-732fe7091858",
   "metadata": {},
   "outputs": [],
   "source": [
    "save_folder_ = r'\\\\192.168.0.6\\bbfishjoy4\\CGBB_embryo_4_28_2023\\MERFISH_AnalysisP12'"
   ]
  },
  {
   "cell_type": "code",
   "execution_count": 6,
   "id": "7facb4cc-5d5f-42c3-8ae6-877e8e656f80",
   "metadata": {},
   "outputs": [],
   "source": [
    "from worker_Scope1__EmbryoPlate12Low import *"
   ]
  },
  {
   "cell_type": "code",
   "execution_count": null,
   "id": "db3f85ff-3518-4966-aaf6-55256cbfd865",
   "metadata": {},
   "outputs": [],
   "source": []
  },
  {
   "cell_type": "code",
   "execution_count": 2,
   "id": "eaaf4681-eeec-41be-8799-31cf2812da56",
   "metadata": {},
   "outputs": [
    {
     "name": "stdout",
     "output_type": "stream",
     "text": [
      "Computing fitting on: Conv_zscan__059.zarr\n",
      "18 ['\\\\\\\\192.168.0.6\\\\bbfishjoy4\\\\CGBB_embryo_4_28_2023\\\\H1_MER_D16', '\\\\\\\\192.168.0.6\\\\bbfishjoy4\\\\CGBB_embryo_4_28_2023\\\\H1_BMER_D16', '\\\\\\\\192.168.0.6\\\\bbfishjoy4\\\\CGBB_embryo_4_28_2023\\\\H2_MER_D16', '\\\\\\\\192.168.0.6\\\\bbfishjoy4\\\\CGBB_embryo_4_28_2023\\\\H3_MER_D16', '\\\\\\\\192.168.0.6\\\\bbfishjoy4\\\\CGBB_embryo_4_28_2023\\\\H4_MER_D16', '\\\\\\\\192.168.0.6\\\\bbfishjoy4\\\\CGBB_embryo_4_28_2023\\\\H4_lowMER_D16', '\\\\\\\\192.168.0.6\\\\bbfishjoy4\\\\CGBB_embryo_4_28_2023\\\\H5_MER_D16', '\\\\\\\\192.168.0.6\\\\bbfishjoy4\\\\CGBB_embryo_4_28_2023\\\\H6_MER_D16', '\\\\\\\\192.168.0.6\\\\bbfishjoy4\\\\CGBB_embryo_4_28_2023\\\\H7_MER_D16', '\\\\\\\\192.168.0.6\\\\bbfishjoy4\\\\CGBB_embryo_4_28_2023\\\\H8_MER_D16', '\\\\\\\\192.168.0.6\\\\bbfishjoy4\\\\CGBB_embryo_4_28_2023\\\\H9_MER_D16', '\\\\\\\\192.168.0.6\\\\bbfishjoy4\\\\CGBB_embryo_4_28_2023\\\\H10_MER_D16', '\\\\\\\\192.168.0.6\\\\bbfishjoy4\\\\CGBB_embryo_4_28_2023\\\\H11_MER_D16', '\\\\\\\\192.168.0.6\\\\bbfishjoy4\\\\CGBB_embryo_4_28_2023\\\\H12_MER_D16', '\\\\\\\\192.168.0.6\\\\bbfishjoy4\\\\CGBB_embryo_4_28_2023\\\\H13_MER_D16', '\\\\\\\\192.168.0.6\\\\bbfishjoy4\\\\CGBB_embryo_4_28_2023\\\\H14_MER_D16', '\\\\\\\\192.168.0.6\\\\bbfishjoy4\\\\CGBB_embryo_4_28_2023\\\\H15_MER_D16', '\\\\\\\\192.168.0.6\\\\bbfishjoy4\\\\CGBB_embryo_4_28_2023\\\\H16_MER_D16']\n"
     ]
    },
    {
     "name": "stderr",
     "output_type": "stream",
     "text": [
      "100%|██████████████████████████████████████████████████████████████████████████████████| 18/18 [01:36<00:00,  5.34s/it]\n"
     ]
    },
    {
     "name": "stdout",
     "output_type": "stream",
     "text": [
      "Computing drift on: Conv_zscan__059.zarr\n",
      "Computing drift...\n"
     ]
    },
    {
     "name": "stderr",
     "output_type": "stream",
     "text": [
      "100%|██████████████████████████████████████████████████████████████████████████████████| 18/18 [07:19<00:00, 24.41s/it]"
     ]
    },
    {
     "name": "stdout",
     "output_type": "stream",
     "text": [
      "Completed\n"
     ]
    },
    {
     "name": "stderr",
     "output_type": "stream",
     "text": [
      "\n"
     ]
    },
    {
     "data": {
      "text/plain": [
       "['_D16', 59]"
      ]
     },
     "execution_count": 2,
     "metadata": {},
     "output_type": "execute_result"
    }
   ],
   "source": [
    "main_f(['_D16',59])"
   ]
  },
  {
   "cell_type": "code",
   "execution_count": 4,
   "id": "6f82b71b-e8d9-439d-b43e-c75914775d1e",
   "metadata": {},
   "outputs": [],
   "source": [
    "dec = decoder_simple(save_folder,fov='Conv_zscan__059',set_='_D16')"
   ]
  },
  {
   "cell_type": "code",
   "execution_count": 9,
   "id": "0cf156ab-e9ec-42c3-9d61-30d320c2e09e",
   "metadata": {},
   "outputs": [],
   "source": [
    "dec.load_library(lib_fl=library_file)\n",
    "gene = 'Dcx'\n",
    "ncols = 3\n",
    "ign = list(dec.gns_names).index(gene)\n",
    "ihybes = np.array(dec.codes__[ign])//ncols\n",
    "icol = dec.codes__[ign][0]%ncols"
   ]
  },
  {
   "cell_type": "code",
   "execution_count": 14,
   "id": "b3d3b687-2b33-40fb-bcff-37c485038d81",
   "metadata": {},
   "outputs": [
    {
     "name": "stderr",
     "output_type": "stream",
     "text": [
      "100%|██████████████████████████████████████████████████████████████████████████████████| 18/18 [01:05<00:00,  3.65s/it]\n"
     ]
    }
   ],
   "source": [
    "dec.get_XH(dec.fov,dec.set_)"
   ]
  },
  {
   "cell_type": "code",
   "execution_count": null,
   "id": "e5d5dac2-0758-46a7-9e8b-b1903babd1f3",
   "metadata": {},
   "outputs": [],
   "source": [
    "dec.get_XH"
   ]
  },
  {
   "cell_type": "code",
   "execution_count": 11,
   "id": "e3a6cff3-8a20-4d6d-a3e6-6b18456ccf07",
   "metadata": {},
   "outputs": [
    {
     "data": {
      "text/plain": [
       "Viewer(axes=Axes(visible=False, labels=True, colored=True, dashed=False, arrows=True), camera=Camera(center=(0.0, 1449.5, 1449.5), zoom=0.1133448275862069, angles=(0.0, 0.0, 90.0), perspective=0.0, interactive=True), cursor=Cursor(position=(1.0, 1.0, 0.0), scaled=True, size=1, style=<CursorStyle.STANDARD: 'standard'>), dims=Dims(ndim=3, ndisplay=2, last_used=0, range=((0.0, 30.0, 1.0), (0.0, 2900.0, 1.0), (0.0, 2900.0, 1.0)), current_step=(15, 1450, 1450), order=(0, 1, 2), axis_labels=('0', '1', '2')), grid=GridCanvas(stride=1, shape=(-1, -1), enabled=False), layers=[<Image layer 'im' at 0x20d41d2ee20>], scale_bar=ScaleBar(visible=False, colored=False, ticks=True, position=<Position.BOTTOM_RIGHT: 'bottom_right'>, font_size=10, unit=None), text_overlay=TextOverlay(visible=False, color=(0.5, 0.5, 0.5, 1.0), font_size=10, position=<TextOverlayPosition.TOP_LEFT: 'top_left'>, text=''), overlays=Overlays(interaction_box=InteractionBox(points=None, show=False, show_handle=False, show_vertices=False, selection_box_drag=None, selection_box_final=None, transform_start=<napari.utils.transforms.transforms.Affine object at 0x0000020D40CFE310>, transform_drag=<napari.utils.transforms.transforms.Affine object at 0x0000020D40CFE370>, transform_final=<napari.utils.transforms.transforms.Affine object at 0x0000020D40CFE3D0>, transform=<napari.utils.transforms.transforms.Affine object at 0x0000020D40CFE430>, allow_new_selection=True, selected_vertex=None)), help='', status='Ready', tooltip=Tooltip(visible=False, text=''), theme='dark', title='napari', mouse_move_callbacks=[<function InteractionBoxMouseBindings.initialize_mouse_events.<locals>.mouse_move at 0x0000020D491FE3A0>], mouse_drag_callbacks=[<function InteractionBoxMouseBindings.initialize_mouse_events.<locals>.mouse_drag at 0x0000020D491EA820>], mouse_double_click_callbacks=[], mouse_wheel_callbacks=[<function dims_scroll at 0x0000020D40C56310>], _persisted_mouse_event={}, _mouse_drag_gen={}, _mouse_wheel_gen={}, keymap={'Shift': <function InteractionBoxMouseBindings.initialize_key_events.<locals>.hold_to_lock_aspect_ratio at 0x0000020D491EAD30>, 'Control-Shift-R': <function InteractionBoxMouseBindings._reset_active_layer_affine at 0x0000020D491849D0>, 'Control-Shift-A': <function InteractionBoxMouseBindings._transform_active_layer at 0x0000020D49184B80>})"
      ]
     },
     "execution_count": 11,
     "metadata": {},
     "output_type": "execute_result"
    }
   ],
   "source": [
    "import napari\n",
    "fl_raw = r'\\\\192.168.0.6\\bbfishjoy4\\CGBB_embryo_4_28_2023\\H101_MER_D16\\Conv_zscan__059.zarr'\n",
    "im = read_im(fl_raw)[icol]\n",
    "napari.view_image(im)"
   ]
  },
  {
   "cell_type": "code",
   "execution_count": 17,
   "id": "dec3bb64-1d13-4f6c-bd46-e7dad61eb530",
   "metadata": {},
   "outputs": [],
   "source": []
  },
  {
   "cell_type": "code",
   "execution_count": 27,
   "id": "d1cca959-ae0b-4135-84f9-124205e5ccbb",
   "metadata": {},
   "outputs": [],
   "source": [
    "drifts,flds,fov_ = np.load(dec.drift_fl,allow_pickle=True)\n",
    "dec.drifts,dec.flds,dec.fov_ = drifts,flds,fov_\n",
    "\n",
    "iiref = np.argmin([np.sum(np.abs(drft)) for drft,_ in dec.drifts])\n",
    "fl = [fld+os.sep+dec.fov_ for fld in dec.flds][iiref]\n",
    "im_dapi_ref = read_im(fl)[-1]\n",
    "im_dapi = read_im(fl_raw)[-1]\n",
    "\n",
    "sz = len(im_dapi)\n",
    "szz=15\n",
    "txyz,txyzs = get_txyz(im_dapi_ref[(sz-szz)//2:(sz+szz)//2],im_dapi[(sz-szz)//2:(sz+szz)//2],sz_norm=30,sz=600)"
   ]
  },
  {
   "cell_type": "code",
   "execution_count": 29,
   "id": "1674c5aa-cf2b-47ab-977d-2aa50dc283c5",
   "metadata": {},
   "outputs": [],
   "source": []
  },
  {
   "cell_type": "code",
   "execution_count": 32,
   "id": "dbfdeccb-bd85-4fe5-9c10-5ba044376d8f",
   "metadata": {},
   "outputs": [
    {
     "data": {
      "text/plain": [
       "array([ 0.,  0.,  0., ..., 47., 47., 47.])"
      ]
     },
     "execution_count": 32,
     "metadata": {},
     "output_type": "execute_result"
    }
   ],
   "source": [
    "dec.XH"
   ]
  },
  {
   "cell_type": "code",
   "execution_count": 15,
   "id": "1c5eeb4c-e1df-4e6c-a5ff-139891a8bb08",
   "metadata": {},
   "outputs": [],
   "source": [
    "im_dapi = read_im(fl_raw)[-1]"
   ]
  },
  {
   "cell_type": "code",
   "execution_count": 16,
   "id": "bef725f1-8694-4bea-b5c7-2747f8012a65",
   "metadata": {},
   "outputs": [
    {
     "data": {
      "text/plain": [
       "Viewer(axes=Axes(visible=False, labels=True, colored=True, dashed=False, arrows=True), camera=Camera(center=(0.0, 1449.5, 1449.5), zoom=0.1749310344827586, angles=(0.0, 0.0, 90.0), perspective=0.0, interactive=True), cursor=Cursor(position=(1.0, 1.0, 0.0), scaled=True, size=1, style=<CursorStyle.STANDARD: 'standard'>), dims=Dims(ndim=3, ndisplay=2, last_used=0, range=((0.0, 30.0, 1.0), (0.0, 2900.0, 1.0), (0.0, 2900.0, 1.0)), current_step=(15, 1450, 1450), order=(0, 1, 2), axis_labels=('0', '1', '2')), grid=GridCanvas(stride=1, shape=(-1, -1), enabled=False), layers=[<Image layer 'im_dapi' at 0x20d4249d6d0>], scale_bar=ScaleBar(visible=False, colored=False, ticks=True, position=<Position.BOTTOM_RIGHT: 'bottom_right'>, font_size=10, unit=None), text_overlay=TextOverlay(visible=False, color=(0.5, 0.5, 0.5, 1.0), font_size=10, position=<TextOverlayPosition.TOP_LEFT: 'top_left'>, text=''), overlays=Overlays(interaction_box=InteractionBox(points=None, show=False, show_handle=False, show_vertices=False, selection_box_drag=None, selection_box_final=None, transform_start=<napari.utils.transforms.transforms.Affine object at 0x0000020F219A35B0>, transform_drag=<napari.utils.transforms.transforms.Affine object at 0x0000020F219A3610>, transform_final=<napari.utils.transforms.transforms.Affine object at 0x0000020F219A3670>, transform=<napari.utils.transforms.transforms.Affine object at 0x0000020F219A36D0>, allow_new_selection=True, selected_vertex=None)), help='', status='Ready', tooltip=Tooltip(visible=False, text=''), theme='dark', title='napari', mouse_move_callbacks=[<function InteractionBoxMouseBindings.initialize_mouse_events.<locals>.mouse_move at 0x0000020D42602040>], mouse_drag_callbacks=[<function InteractionBoxMouseBindings.initialize_mouse_events.<locals>.mouse_drag at 0x0000020D425EEC10>], mouse_double_click_callbacks=[], mouse_wheel_callbacks=[<function dims_scroll at 0x0000020D40C56310>], _persisted_mouse_event={}, _mouse_drag_gen={}, _mouse_wheel_gen={}, keymap={'Shift': <function InteractionBoxMouseBindings.initialize_key_events.<locals>.hold_to_lock_aspect_ratio at 0x0000020D425EE550>, 'Control-Shift-R': <function InteractionBoxMouseBindings._reset_active_layer_affine at 0x0000020D425EE9D0>, 'Control-Shift-A': <function InteractionBoxMouseBindings._transform_active_layer at 0x0000020D425EE310>})"
      ]
     },
     "execution_count": 16,
     "metadata": {},
     "output_type": "execute_result"
    }
   ],
   "source": [
    "napari.view_image(im_dapi)"
   ]
  },
  {
   "cell_type": "code",
   "execution_count": null,
   "id": "f0b48c1e-c615-4fe1-8ddf-066229cdda2d",
   "metadata": {},
   "outputs": [],
   "source": []
  },
  {
   "cell_type": "code",
   "execution_count": 22,
   "id": "e20fe131-0952-4de2-9b40-75f29dcfa118",
   "metadata": {},
   "outputs": [],
   "source": [
    "def check_image(dec,tag = '_MER_',plt_val=False):\n",
    "    drifts,flds,fov_ = np.load(dec.drift_fl,allow_pickle=True)\n",
    "    dec.drifts,dec.flds,dec.fov_ = drifts,flds,fov_\n",
    "    #print(\"Found files for fov:\",fov_,flds)\n",
    "\n",
    "    from dask import array as da\n",
    "    im  = da.concatenate([da.roll(read_im(fld_+os.sep+fov_),drft[0],axis=[1,2,3])[np.newaxis]for fld_,drft in zip(flds,drifts)\n",
    "                                                                         if tag in os.path.basename(fld_)])\n",
    "    names = ([fld_+os.sep+fov_ for fld_,drft in zip(flds,drifts)\n",
    "                                                                         if tag in os.path.basename(fld_)])\n",
    "    if plt_val:   \n",
    "        import napari\n",
    "        v = napari.view_image(im)\n",
    "        return v\n",
    "    return im,names"
   ]
  },
  {
   "cell_type": "code",
   "execution_count": 62,
   "id": "60fb8e4d-fc3d-46ac-ae38-fed5aaf3fb38",
   "metadata": {},
   "outputs": [],
   "source": [
    "im,names = check_image(dec,tag = '_MER_')"
   ]
  },
  {
   "cell_type": "code",
   "execution_count": null,
   "id": "50e32e44-13f4-480a-93df-d9e41609c5e1",
   "metadata": {},
   "outputs": [],
   "source": []
  },
  {
   "cell_type": "code",
   "execution_count": 63,
   "id": "bc83f737-5490-44b3-8ae9-85b56676e240",
   "metadata": {},
   "outputs": [
    {
     "data": {
      "text/plain": [
       "Viewer(axes=Axes(visible=False, labels=True, colored=True, dashed=False, arrows=True), camera=Camera(center=(0.0, 1449.5, 1449.5), zoom=0.1133448275862069, angles=(0.0, 0.0, 90.0), perspective=0.0, interactive=True), cursor=Cursor(position=(1.0, 1.0, 0.0, 0.0, 0.0), scaled=True, size=1, style=<CursorStyle.STANDARD: 'standard'>), dims=Dims(ndim=5, ndisplay=2, last_used=0, range=((0.0, 16.0, 1.0), (0.0, 4.0, 1.0), (0.0, 30.0, 1.0), (0.0, 2900.0, 1.0), (0.0, 2900.0, 1.0)), current_step=(8, 2, 15, 1450, 1450), order=(0, 1, 2, 3, 4), axis_labels=('0', '1', '2', '3', '4')), grid=GridCanvas(stride=1, shape=(-1, -1), enabled=False), layers=[<Image layer 'im' at 0x230a0bfdcd0>], scale_bar=ScaleBar(visible=False, colored=False, ticks=True, position=<Position.BOTTOM_RIGHT: 'bottom_right'>, font_size=10, unit=None), text_overlay=TextOverlay(visible=False, color=(0.5, 0.5, 0.5, 1.0), font_size=10, position=<TextOverlayPosition.TOP_LEFT: 'top_left'>, text=''), overlays=Overlays(interaction_box=InteractionBox(points=None, show=False, show_handle=False, show_vertices=False, selection_box_drag=None, selection_box_final=None, transform_start=<napari.utils.transforms.transforms.Affine object at 0x00000230909ADD00>, transform_drag=<napari.utils.transforms.transforms.Affine object at 0x00000230909ADD60>, transform_final=<napari.utils.transforms.transforms.Affine object at 0x00000230909ADDC0>, transform=<napari.utils.transforms.transforms.Affine object at 0x00000230909ADE20>, allow_new_selection=True, selected_vertex=None)), help='', status='Ready', tooltip=Tooltip(visible=False, text=''), theme='dark', title='napari', mouse_move_callbacks=[<function InteractionBoxMouseBindings.initialize_mouse_events.<locals>.mouse_move at 0x00000230A0C77160>], mouse_drag_callbacks=[<function InteractionBoxMouseBindings.initialize_mouse_events.<locals>.mouse_drag at 0x00000230A0C64F70>], mouse_double_click_callbacks=[], mouse_wheel_callbacks=[<function dims_scroll at 0x0000022FA80531F0>], _persisted_mouse_event={}, _mouse_drag_gen={}, _mouse_wheel_gen={}, keymap={'Shift': <function InteractionBoxMouseBindings.initialize_key_events.<locals>.hold_to_lock_aspect_ratio at 0x00000230A0C641F0>, 'Control-Shift-R': <function InteractionBoxMouseBindings._reset_active_layer_affine at 0x00000230A0C64D30>, 'Control-Shift-A': <function InteractionBoxMouseBindings._transform_active_layer at 0x00000230A0C64AF0>})"
      ]
     },
     "execution_count": 63,
     "metadata": {},
     "output_type": "execute_result"
    }
   ],
   "source": []
  },
  {
   "cell_type": "code",
   "execution_count": 43,
   "id": "a96017df-bc11-4ef9-b08f-85d80bd2d91d",
   "metadata": {},
   "outputs": [
    {
     "data": {
      "text/plain": [
       "8"
      ]
     },
     "execution_count": 43,
     "metadata": {},
     "output_type": "execute_result"
    }
   ],
   "source": [
    "np.argmin([np.sum(np.abs(drft[0])) for fld,drft in zip(dec.flds,dec.drifts)])"
   ]
  },
  {
   "cell_type": "code",
   "execution_count": 46,
   "id": "664d43a5-1dd1-464b-bfa0-a3156cf243d4",
   "metadata": {},
   "outputs": [],
   "source": [
    "best_fld = np.array(dec.flds)[np.argmin([np.sum(np.abs(drft[0])) for fld,drft in zip(dec.flds,dec.drifts)])]"
   ]
  },
  {
   "cell_type": "code",
   "execution_count": 34,
   "id": "3709c81d-5f42-434f-ba4b-365327a27898",
   "metadata": {},
   "outputs": [],
   "source": [
    "fl_raw = r'\\\\192.168.0.6\\bbfishjoy4\\CGBB_embryo_4_28_2023\\H101_MER_D16\\Conv_zscan__059.zarr'"
   ]
  },
  {
   "cell_type": "code",
   "execution_count": 65,
   "id": "05889b06-54d6-4200-9a25-b55184b1559c",
   "metadata": {},
   "outputs": [],
   "source": [
    "fl_raw2 = r'\\\\192.168.0.6\\bbfishjoy4\\CGBB_embryo_4_28_2023\\H4_lowMER_D16\\Conv_zscan__059.zarr'\n",
    "im_raw2 = read_im(fl_raw2)#[icol]H101\n",
    "im_raw2_ = np.array(im_raw2[-1],dtype=np.float32)"
   ]
  },
  {
   "cell_type": "code",
   "execution_count": 47,
   "id": "854d7f48-fc48-4e68-a95a-6686ff3d1368",
   "metadata": {},
   "outputs": [],
   "source": [
    "im_raw = read_im(fl_raw)#[icol]H101\n",
    "im_ref = read_im(best_fld+os.sep+os.path.basename(fl_raw))"
   ]
  },
  {
   "cell_type": "code",
   "execution_count": 49,
   "id": "a861dfd5-d1e5-4c7a-a6ec-bb2ac0168202",
   "metadata": {},
   "outputs": [],
   "source": [
    "im_raw_ = np.array(im_raw[-1],dtype=np.float32)\n",
    "im_ref_ = np.array(im_ref[-1],dtype=np.float32)"
   ]
  },
  {
   "cell_type": "code",
   "execution_count": 66,
   "id": "0b539c6b-f0e7-4348-9106-0c945cf83687",
   "metadata": {},
   "outputs": [],
   "source": [
    "tzxy2,tzxys2 = get_txyz(im_raw2_,im_ref_,sz_norm=30,sz=500)"
   ]
  },
  {
   "cell_type": "code",
   "execution_count": 68,
   "id": "c9d335ab-85e5-44a0-bfb5-a04e5fe3b594",
   "metadata": {},
   "outputs": [],
   "source": [
    "#tzxys2"
   ]
  },
  {
   "cell_type": "code",
   "execution_count": 59,
   "id": "d41e7a97-e5c5-4a9a-b51d-2bd575e08852",
   "metadata": {},
   "outputs": [],
   "source": [
    "gene = 'Dcx'\n",
    "ncols = 3\n",
    "ign = list(dec.gns_names).index(gene)\n",
    "ihybes = np.array(dec.codes__[ign])//ncols\n",
    "icol = dec.codes__[ign][0]%ncols\n",
    "import napari\n",
    "v= napari.view_image(im[ihybes][:,icol])"
   ]
  },
  {
   "cell_type": "code",
   "execution_count": 60,
   "id": "13071cec-f40b-49ad-9998-e220b82425cd",
   "metadata": {},
   "outputs": [
    {
     "data": {
      "text/plain": [
       "<Image layer 'Image [1]' at 0x23021beb7c0>"
      ]
     },
     "execution_count": 60,
     "metadata": {},
     "output_type": "execute_result"
    }
   ],
   "source": [
    "import napari\n",
    "v.add_image(im_raw[icol],translate = tzxy-[0,0,0])"
   ]
  },
  {
   "cell_type": "code",
   "execution_count": 69,
   "id": "17fed2e4-a3b8-41ad-927c-59ce194bba9c",
   "metadata": {},
   "outputs": [
    {
     "data": {
      "text/plain": [
       "<Image layer 'Image [1]' at 0x230fb2df5e0>"
      ]
     },
     "execution_count": 69,
     "metadata": {},
     "output_type": "execute_result"
    }
   ],
   "source": [
    "v.add_image(im_raw2[icol],translate = tzxy2-[0,0,0])"
   ]
  },
  {
   "cell_type": "code",
   "execution_count": 61,
   "id": "b9ba701a-152b-41d9-b86a-eaf558184a25",
   "metadata": {},
   "outputs": [
    {
     "data": {
      "text/plain": [
       "array(['\\\\\\\\192.168.0.6\\\\bbfishjoy4\\\\CGBB_embryo_4_28_2023\\\\H2_MER_D16\\\\Conv_zscan__059.zarr',\n",
       "       '\\\\\\\\192.168.0.6\\\\bbfishjoy4\\\\CGBB_embryo_4_28_2023\\\\H4_MER_D16\\\\Conv_zscan__059.zarr',\n",
       "       '\\\\\\\\192.168.0.6\\\\bbfishjoy4\\\\CGBB_embryo_4_28_2023\\\\H9_MER_D16\\\\Conv_zscan__059.zarr',\n",
       "       '\\\\\\\\192.168.0.6\\\\bbfishjoy4\\\\CGBB_embryo_4_28_2023\\\\H10_MER_D16\\\\Conv_zscan__059.zarr'],\n",
       "      dtype='<U79')"
      ]
     },
     "execution_count": 61,
     "metadata": {},
     "output_type": "execute_result"
    }
   ],
   "source": [
    "np.array(names)[ihybes]"
   ]
  },
  {
   "cell_type": "code",
   "execution_count": 28,
   "id": "561d46a4-3f82-42b2-b34a-4d0d280904bb",
   "metadata": {},
   "outputs": [
    {
     "data": {
      "text/plain": [
       "Viewer(axes=Axes(visible=False, labels=True, colored=True, dashed=False, arrows=True), camera=Camera(center=(0.0, 1449.5, 1449.5), zoom=0.3947413793103448, angles=(0.0, 0.0, 90.0), perspective=0.0, interactive=True), cursor=Cursor(position=(1.0, 1.0, 0.0, 0.0), scaled=True, size=1, style=<CursorStyle.STANDARD: 'standard'>), dims=Dims(ndim=4, ndisplay=2, last_used=0, range=((0.0, 4.0, 1.0), (0.0, 30.0, 1.0), (0.0, 2900.0, 1.0), (0.0, 2900.0, 1.0)), current_step=(2, 15, 1450, 1450), order=(0, 1, 2, 3), axis_labels=('0', '1', '2', '3')), grid=GridCanvas(stride=1, shape=(-1, -1), enabled=False), layers=[<Image layer 'Image' at 0x231902825b0>], scale_bar=ScaleBar(visible=False, colored=False, ticks=True, position=<Position.BOTTOM_RIGHT: 'bottom_right'>, font_size=10, unit=None), text_overlay=TextOverlay(visible=False, color=(0.5, 0.5, 0.5, 1.0), font_size=10, position=<TextOverlayPosition.TOP_LEFT: 'top_left'>, text=''), overlays=Overlays(interaction_box=InteractionBox(points=None, show=False, show_handle=False, show_vertices=False, selection_box_drag=None, selection_box_final=None, transform_start=<napari.utils.transforms.transforms.Affine object at 0x00000231EB7BFE20>, transform_drag=<napari.utils.transforms.transforms.Affine object at 0x00000231EB7BF0A0>, transform_final=<napari.utils.transforms.transforms.Affine object at 0x00000231EB7BFD60>, transform=<napari.utils.transforms.transforms.Affine object at 0x00000231EB7BFFA0>, allow_new_selection=True, selected_vertex=None)), help='', status='Ready', tooltip=Tooltip(visible=False, text=''), theme='dark', title='napari', mouse_move_callbacks=[<function InteractionBoxMouseBindings.initialize_mouse_events.<locals>.mouse_move at 0x00000231902B45E0>], mouse_drag_callbacks=[<function InteractionBoxMouseBindings.initialize_mouse_events.<locals>.mouse_drag at 0x00000231902A4700>], mouse_double_click_callbacks=[], mouse_wheel_callbacks=[<function dims_scroll at 0x0000022FA80531F0>], _persisted_mouse_event={}, _mouse_drag_gen={}, _mouse_wheel_gen={}, keymap={'Shift': <function InteractionBoxMouseBindings.initialize_key_events.<locals>.hold_to_lock_aspect_ratio at 0x00000231902A4820>, 'Control-Shift-R': <function InteractionBoxMouseBindings._reset_active_layer_affine at 0x00000231902A45E0>, 'Control-Shift-A': <function InteractionBoxMouseBindings._transform_active_layer at 0x00000231902A4A60>})"
      ]
     },
     "execution_count": 28,
     "metadata": {},
     "output_type": "execute_result"
    }
   ],
   "source": []
  },
  {
   "cell_type": "code",
   "execution_count": 7,
   "id": "2782bc92-0519-4cd3-916b-121dbb2964da",
   "metadata": {},
   "outputs": [],
   "source": [
    "dec.load_library(r'C:\\Users\\BintuLabUser\\BintuLabScripts1\\MERFISH_DC_SCOPE2\\Analysis_1500gns_MERFISH_dev\\codebook_Mahsa_DevP1P2-code_color2__comb16-4-4_blank.csv')"
   ]
  },
  {
   "cell_type": "code",
   "execution_count": 12,
   "id": "252c14a8-6539-4cd8-8173-d439c4fe3261",
   "metadata": {},
   "outputs": [
    {
     "data": {
      "text/plain": [
       "826"
      ]
     },
     "execution_count": 12,
     "metadata": {},
     "output_type": "execute_result"
    }
   ],
   "source": [
    "len(dec.codes__)"
   ]
  },
  {
   "cell_type": "code",
   "execution_count": 17,
   "id": "216c54e9-f96b-4535-96ce-9d91e04fd69e",
   "metadata": {},
   "outputs": [
    {
     "data": {
      "text/plain": [
       "array([1, 3, 8, 9], dtype=int64)"
      ]
     },
     "execution_count": 17,
     "metadata": {},
     "output_type": "execute_result"
    }
   ],
   "source": []
  },
  {
   "cell_type": "code",
   "execution_count": null,
   "id": "a880d423-0be7-4a65-a06b-c99c101e0e4d",
   "metadata": {},
   "outputs": [],
   "source": []
  }
 ],
 "metadata": {
  "kernelspec": {
   "display_name": "Python 3 (ipykernel)",
   "language": "python",
   "name": "python3"
  },
  "language_info": {
   "codemirror_mode": {
    "name": "ipython",
    "version": 3
   },
   "file_extension": ".py",
   "mimetype": "text/x-python",
   "name": "python",
   "nbconvert_exporter": "python",
   "pygments_lexer": "ipython3",
   "version": "3.9.7"
  }
 },
 "nbformat": 4,
 "nbformat_minor": 5
}
