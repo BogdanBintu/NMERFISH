{
 "cells": [
  {
   "cell_type": "code",
   "execution_count": 1,
   "id": "6caccc0e-416c-4b33-89dc-e89a821eef67",
   "metadata": {},
   "outputs": [],
   "source": [
    "data_fld = r'\\\\192.168.0.127\\Raw_data\\Van\\6_12_2023__VanReview_DropletHeartMI_S2'"
   ]
  },
  {
   "cell_type": "code",
   "execution_count": 2,
   "id": "943833fc-dc67-47ca-bcc8-0d28a9000069",
   "metadata": {},
   "outputs": [],
   "source": [
    "import sys,os\n",
    "sys.path.append(os.path.dirname(os.path.abspath('')))\n",
    "from ioMicro import *"
   ]
  },
  {
   "cell_type": "code",
   "execution_count": null,
   "id": "a959e45b-8d25-43bd-85fa-cf6cd0b91e31",
   "metadata": {},
   "outputs": [],
   "source": [
    "glob.glob()"
   ]
  },
  {
   "cell_type": "code",
   "execution_count": 5,
   "id": "2b97ff7c-8c53-43ce-9976-2ee4ca9f2381",
   "metadata": {},
   "outputs": [
    {
     "data": {
      "text/plain": [
       "['\\\\\\\\192.168.0.127\\\\Raw_data\\\\Van\\\\6_12_2023__VanReview_DropletHeartMI_S2\\\\A1_lamA_nup98__set1',\n",
       " '\\\\\\\\192.168.0.127\\\\Raw_data\\\\Van\\\\6_12_2023__VanReview_DropletHeartMI_S2\\\\A1_lamA_nup98__set2']"
      ]
     },
     "execution_count": 5,
     "metadata": {},
     "output_type": "execute_result"
    }
   ],
   "source": [
    "glob.glob(r'\\\\192.168.0.127\\Raw_data\\Van\\6_12_2023__VanReview_DropletHeartMI_S2\\A1_*')"
   ]
  },
  {
   "cell_type": "code",
   "execution_count": 8,
   "id": "836be4d3-9c6f-41ae-b3e6-3ffe346ef286",
   "metadata": {},
   "outputs": [],
   "source": [
    "fl_target = glob.glob(r'\\\\192.168.0.127\\Raw_data\\Van\\6_12_2023__VanReview_DropletHeartMI_S2\\test\\*.zarr')[0]"
   ]
  },
  {
   "cell_type": "code",
   "execution_count": 15,
   "id": "bdc68e81-5bc7-4fd7-9dd9-a1a5e87fe432",
   "metadata": {},
   "outputs": [],
   "source": [
    "imT,xT,yT = read_im(fl_target,return_pos=True)"
   ]
  },
  {
   "cell_type": "code",
   "execution_count": 17,
   "id": "317f5d2a-ee5f-4025-93cf-ec581c632a1a",
   "metadata": {},
   "outputs": [],
   "source": [
    "fls = glob.glob(r'//192.168.0.127/Raw_data/Van/6_12_2023__VanReview_DropletHeartMI_S2/H1_MER__set*/*.zarr')"
   ]
  },
  {
   "cell_type": "code",
   "execution_count": 18,
   "id": "1a92c830-00ea-4fb8-85f5-836dfacf3db4",
   "metadata": {},
   "outputs": [],
   "source": [
    "X = []\n",
    "for fl in fls:\n",
    "    im,x,y = read_im(fl,return_pos=True)\n",
    "    X.append([x,y])"
   ]
  },
  {
   "cell_type": "code",
   "execution_count": 19,
   "id": "a07666db-bb21-4328-aebb-1d42366df718",
   "metadata": {},
   "outputs": [],
   "source": [
    "X = np.array(X)"
   ]
  },
  {
   "cell_type": "code",
   "execution_count": 26,
   "id": "f6765b0b-aeed-40c9-af1b-fe4dd925886f",
   "metadata": {},
   "outputs": [
    {
     "name": "stdout",
     "output_type": "stream",
     "text": [
      "//192.168.0.127/Raw_data/Van/6_12_2023__VanReview_DropletHeartMI_S2\\H1_MER__set2\\Conv_zscan__110.zarr\n"
     ]
    }
   ],
   "source": [
    "ibest = np.argmin(np.sum(np.abs(X-[xT,yT]),axis=-1))\n",
    "print(fls[ibest])"
   ]
  },
  {
   "cell_type": "code",
   "execution_count": null,
   "id": "222030fd-c215-43b6-a6df-3fa1ef1abb3b",
   "metadata": {},
   "outputs": [],
   "source": []
  }
 ],
 "metadata": {
  "kernelspec": {
   "display_name": "Python 3 (ipykernel)",
   "language": "python",
   "name": "python3"
  },
  "language_info": {
   "codemirror_mode": {
    "name": "ipython",
    "version": 3
   },
   "file_extension": ".py",
   "mimetype": "text/x-python",
   "name": "python",
   "nbconvert_exporter": "python",
   "pygments_lexer": "ipython3",
   "version": "3.9.16"
  }
 },
 "nbformat": 4,
 "nbformat_minor": 5
}
