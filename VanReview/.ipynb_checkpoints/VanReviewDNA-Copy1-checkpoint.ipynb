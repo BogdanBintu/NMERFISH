{
 "cells": [
  {
   "cell_type": "code",
   "execution_count": 1,
   "id": "6caccc0e-416c-4b33-89dc-e89a821eef67",
   "metadata": {},
   "outputs": [],
   "source": [
    "data_fld = r'\\\\192.168.0.127\\Raw_data\\Van\\6_12_2023__VanReview_DropletHeartMI_S2'"
   ]
  },
  {
   "cell_type": "code",
   "execution_count": 2,
   "id": "943833fc-dc67-47ca-bcc8-0d28a9000069",
   "metadata": {},
   "outputs": [],
   "source": [
    "import sys,os\n",
    "sys.path.append(os.path.dirname(os.path.abspath('')))\n",
    "from ioMicro import *"
   ]
  },
  {
   "cell_type": "code",
   "execution_count": null,
   "id": "a959e45b-8d25-43bd-85fa-cf6cd0b91e31",
   "metadata": {},
   "outputs": [],
   "source": [
    "glob.glob()"
   ]
  },
  {
   "cell_type": "code",
   "execution_count": 5,
   "id": "2b97ff7c-8c53-43ce-9976-2ee4ca9f2381",
   "metadata": {},
   "outputs": [
    {
     "data": {
      "text/plain": [
       "['\\\\\\\\192.168.0.127\\\\Raw_data\\\\Van\\\\6_12_2023__VanReview_DropletHeartMI_S2\\\\A1_lamA_nup98__set1',\n",
       " '\\\\\\\\192.168.0.127\\\\Raw_data\\\\Van\\\\6_12_2023__VanReview_DropletHeartMI_S2\\\\A1_lamA_nup98__set2']"
      ]
     },
     "execution_count": 5,
     "metadata": {},
     "output_type": "execute_result"
    }
   ],
   "source": [
    "glob.glob(r'\\\\192.168.0.127\\Raw_data\\Van\\6_12_2023__VanReview_DropletHeartMI_S2\\A1_*')"
   ]
  },
  {
   "cell_type": "code",
   "execution_count": 8,
   "id": "836be4d3-9c6f-41ae-b3e6-3ffe346ef286",
   "metadata": {},
   "outputs": [],
   "source": [
    "fl_target = glob.glob(r'\\\\192.168.0.127\\Raw_data\\Van\\6_12_2023__VanReview_DropletHeartMI_S2\\test\\*.zarr')[0]"
   ]
  },
  {
   "cell_type": "code",
   "execution_count": 15,
   "id": "bdc68e81-5bc7-4fd7-9dd9-a1a5e87fe432",
   "metadata": {},
   "outputs": [],
   "source": [
    "imT,xT,yT = read_im(fl_target,return_pos=True)"
   ]
  },
  {
   "cell_type": "code",
   "execution_count": 17,
   "id": "317f5d2a-ee5f-4025-93cf-ec581c632a1a",
   "metadata": {},
   "outputs": [],
   "source": []
  },
  {
   "cell_type": "code",
   "execution_count": 18,
   "id": "1a92c830-00ea-4fb8-85f5-836dfacf3db4",
   "metadata": {},
   "outputs": [],
   "source": []
  },
  {
   "cell_type": "code",
   "execution_count": 19,
   "id": "a07666db-bb21-4328-aebb-1d42366df718",
   "metadata": {},
   "outputs": [],
   "source": []
  },
  {
   "cell_type": "code",
   "execution_count": 26,
   "id": "f6765b0b-aeed-40c9-af1b-fe4dd925886f",
   "metadata": {},
   "outputs": [
    {
     "name": "stdout",
     "output_type": "stream",
     "text": [
      "//192.168.0.127/Raw_data/Van/6_12_2023__VanReview_DropletHeartMI_S2\\H1_MER__set2\\Conv_zscan__110.zarr\n"
     ]
    }
   ],
   "source": [
    "fls = glob.glob(r'//192.168.0.127/Raw_data/Van/6_12_2023__VanReview_DropletHeartMI_S2/H1_MER__set*/*.zarr')\n",
    "X = []\n",
    "for fl in fls:\n",
    "    im,x,y = read_im(fl,return_pos=True)\n",
    "    X.append([x,y])\n",
    "X = np.array(X)\n",
    "ibest = np.argmin(np.sum(np.abs(X-[xT,yT]),axis=-1))\n",
    "print(fls[ibest])"
   ]
  },
  {
   "cell_type": "code",
   "execution_count": null,
   "id": "e9986ac9-114a-4136-a139-116e2abbb177",
   "metadata": {},
   "outputs": [],
   "source": []
  },
  {
   "cell_type": "code",
   "execution_count": 1,
   "id": "222030fd-c215-43b6-a6df-3fa1ef1abb3b",
   "metadata": {},
   "outputs": [],
   "source": [
    "import sys,os\n",
    "sys.path.append(os.path.dirname(os.path.abspath('')))\n",
    "from worker_DNA_VAN import *"
   ]
  },
  {
   "cell_type": "code",
   "execution_count": 7,
   "id": "082b1d76-a871-4ebd-b27c-4227640619eb",
   "metadata": {},
   "outputs": [],
   "source": [
    "save_fld,flds,fov = get_files(['_set2',110])\n",
    "flds_ = [fld for fld in flds if '_MER' in os.path.basename(fld)]"
   ]
  },
  {
   "cell_type": "code",
   "execution_count": null,
   "id": "3a129533-2f3a-4658-b43e-22dce1ff023c",
   "metadata": {},
   "outputs": [],
   "source": [
    "ims = []"
   ]
  },
  {
   "cell_type": "code",
   "execution_count": 71,
   "id": "ca680259-08eb-47db-a992-7c404e3960c6",
   "metadata": {},
   "outputs": [],
   "source": [
    "#print(glob.glob(save_fld+os.sep+'drift*')[0])\n",
    "drft_fl = r'\\\\192.168.0.127\\Raw_data\\Van\\6_12_2023__VanReview_DropletHeartMI_S2\\MERFISH_Analysis\\drift_Conv_zscan__110--_set2.pkl'\n",
    "drfts,fldsT,fovT = pickle.load(open(drft_fl,'rb'))\n",
    "drift_dic = {os.path.basename(fld):drft[0] for drft,fld in zip(drfts,fldsT)}"
   ]
  },
  {
   "cell_type": "code",
   "execution_count": 61,
   "id": "87c233a3-1816-4dfa-bf73-c935a8725697",
   "metadata": {},
   "outputs": [],
   "source": [
    "fld = flds_[-1]\n",
    "im,xT,yT = read_im(fld+os.sep+fov,return_pos=True)"
   ]
  },
  {
   "cell_type": "code",
   "execution_count": 62,
   "id": "7842c968-12ae-4492-9769-1a54c06f2439",
   "metadata": {},
   "outputs": [],
   "source": [
    "for icol in range(3):\n",
    "    im_=np.array(im[icol],dtype=np.float32)\n",
    "    imn = norm_slice(im_,s=30)\n",
    "    ims.append(imn)"
   ]
  },
  {
   "cell_type": "code",
   "execution_count": 75,
   "id": "595010fb-31ed-4b57-b0fc-afbded082289",
   "metadata": {},
   "outputs": [],
   "source": [
    "drifts = [drift_dic[os.path.basename(fld_)]-drift_dic[os.path.basename(flds_[0])] for fld_ in [flds_[0],flds_[1],flds_[-1]]for icol in range(3)]\n",
    "#drifts"
   ]
  },
  {
   "cell_type": "code",
   "execution_count": 33,
   "id": "7c3a51f3-4af6-46c4-8bd2-7c57787215d4",
   "metadata": {},
   "outputs": [
    {
     "name": "stdout",
     "output_type": "stream",
     "text": [
      "//192.168.0.127/Raw_data/Van/6_12_2023__VanReview_DropletHeartMI_S2\\A1_lamA_nup98__set2\\Conv_zscan__009.zarr\n"
     ]
    }
   ],
   "source": [
    "fls = glob.glob(r'//192.168.0.127/Raw_data/Van/6_12_2023__VanReview_DropletHeartMI_S2/A1_*/*.zarr')\n",
    "X = []\n",
    "for fl in fls:\n",
    "    im,x,y = read_im(fl,return_pos=True)\n",
    "    X.append([x,y])\n",
    "X = np.array(X)\n",
    "ibest = np.argmin(np.sum(np.abs(X-[xT,yT]),axis=-1))\n",
    "print(fls[ibest])"
   ]
  },
  {
   "cell_type": "code",
   "execution_count": 21,
   "id": "7707657d-7ae4-4d82-ba65-ab7783a0c336",
   "metadata": {},
   "outputs": [],
   "source": [
    "lam_fl = r'//192.168.0.127/Raw_data/Van/6_12_2023__VanReview_DropletHeartMI_S2\\A1_lamA_nup98__set2\\Conv_zscan__009.zarr'\n",
    "im_lam = read_im(lam_fl)#0:-15:-0.5:3,0:-15:-0.35:4"
   ]
  },
  {
   "cell_type": "code",
   "execution_count": 38,
   "id": "406c19ba-e514-498c-ad52-084d313f9228",
   "metadata": {},
   "outputs": [],
   "source": [
    "im_lam_dapi = np.array(im_lam[-1],dtype=np.float32)\n",
    "im_dapi = np.array(im[-1],dtype=np.float32)\n"
   ]
  },
  {
   "cell_type": "code",
   "execution_count": 52,
   "id": "e51d5030-b66f-4702-a60c-f8cdf953b37d",
   "metadata": {},
   "outputs": [],
   "source": [
    "### load lamin\n",
    "szlam = im_lam_dapi.shape[0]\n",
    "sz_ = im_dapi.shape[0]\n",
    "im_lam_dapi_ = im_lam_dapi[np.round(np.linspace(0,szlam-1,sz_)).astype(int)]\n",
    "txyz,txyzs =  get_txyz(im_lam_dapi_,im_dapi,sz=500,sz_norm=30)\n",
    "im_lam_ = np.array(im_lam[0],dtype=np.float32)[np.round(np.linspace(0,szlam-1,sz_)).astype(int)]"
   ]
  },
  {
   "cell_type": "code",
   "execution_count": 143,
   "id": "d6fd44ba-92ec-40f1-8b4b-79d0d341a1ad",
   "metadata": {},
   "outputs": [],
   "source": [
    "dec = decoder_simple(save_fld,fov='Conv_zscan__110', set_='_set2')\n",
    "dic_ = np.load('temp.npz')\n",
    "for key in dic_:\n",
    "    setattr(dec,key,dic_[key])"
   ]
  },
  {
   "cell_type": "code",
   "execution_count": 125,
   "id": "9902168d-1483-4ae7-a770-1f59e3ceb42c",
   "metadata": {},
   "outputs": [],
   "source": [
    "\n",
    "def plot_multigenes(dec,keep,genes=['Gad1','Sox9'],colors=['r','g','b','m','c','y','w'],smin=3,smax=10,viewer = None,\n",
    "                    drift=[0,0,0],resc=[1,1,1]):\n",
    "    icodesN,XH_pruned = dec.icodesN[keep],dec.XH_pruned[keep]\n",
    "    gns_names = list(dec.gns_names)\n",
    "    \n",
    "    Xcms = np.mean(XH_pruned,axis=1)\n",
    "    \n",
    "    X = (Xcms[:,:3]-drift)/resc  \n",
    "    H = Xcms[:,-3]               \n",
    "    H = np.log(H-np.min(H)+1)\n",
    "    icodesf = icodesN\n",
    "    size = smin+np.clip(H/np.max(H),0,1)*(smax-smin)\n",
    "    \n",
    "    if viewer is None:\n",
    "        import napari\n",
    "        viewer = napari.Viewer()\n",
    "    for igene,gene in enumerate(genes):\n",
    "        color= colors[igene%len(colors)]\n",
    "        icode = gns_names.index(gene)\n",
    "        is_code = icode==icodesf\n",
    "        viewer.add_points(X[is_code],size=size[is_code],face_color=color,name=gene,shading='spherical',edge_width=0)\n",
    "    return viewer"
   ]
  },
  {
   "cell_type": "code",
   "execution_count": 83,
   "id": "b3b709be-e38d-4316-8985-683e738de1ba",
   "metadata": {},
   "outputs": [],
   "source": [
    "Xcms = np.mean(dec.XH_pruned,axis=1)"
   ]
  },
  {
   "cell_type": "code",
   "execution_count": 123,
   "id": "db730163-b0e8-4c50-be47-25e04cf2f628",
   "metadata": {},
   "outputs": [],
   "source": [
    "keep1 = np.where(dec.scoreA>-0.5)[0]\n",
    "X = Xcms[keep1,:3]\n",
    "H = Xcms[keep1,-3]\n",
    "tree = cKDTree(X)\n",
    "ds,_ = tree.query(X,k=10)\n",
    "keep = keep1[np.all(ds<15,axis=-1)]"
   ]
  },
  {
   "cell_type": "code",
   "execution_count": 126,
   "id": "bc51851c-b64d-4a43-9961-e73ac299811c",
   "metadata": {},
   "outputs": [],
   "source": [
    "#napari.view_points(Xcms[keep,:3])\n",
    "#napari.view_points(X[H>30000])"
   ]
  },
  {
   "cell_type": "code",
   "execution_count": 132,
   "id": "4970776c-8238-4a2a-bf7a-94f22f40930f",
   "metadata": {},
   "outputs": [],
   "source": [
    "Xchrs =[str(i+1) for i in np.arange(19)]+['X']\n",
    "gns_all = [gn for gn in dec.gns_names if ':' in gn]\n",
    "gen_id = [Xchrs.index(gn.split(':')[1])*10**10+int(gn.split(':')[-1])for gn in gns_all]\n",
    "oids = np.argsort(gen_id)\n",
    "from matplotlib import cm as cmap\n",
    "cols = cmap.rainbow(np.linspace(0,1,len(oids))[oids])[:,:3]\n",
    "\n",
    "vt = plot_multigenes(dec,keep,genes=gns_all,colors=cols,viewer = vt,\n",
    "                         smin=0,smax=5)"
   ]
  },
  {
   "cell_type": "code",
   "execution_count": null,
   "id": "a1b93b00-a067-45f9-ac33-ad9f1c926fcc",
   "metadata": {},
   "outputs": [],
   "source": [
    "Q5-Ankrd1,Q17-Ifit1,Col6a3-Q10"
   ]
  },
  {
   "cell_type": "code",
   "execution_count": 136,
   "id": "fe0431fa-24fd-454d-893c-9959bccbfcad",
   "metadata": {},
   "outputs": [
    {
     "data": {
      "text/plain": [
       "Viewer(axes=Axes(visible=False, labels=True, colored=True, dashed=False, arrows=True), camera=Camera(center=(0.0, 1399.5, 1399.5), zoom=0.18830357142857138, angles=(0.0, 0.0, 90.0), perspective=0.0, interactive=True), cursor=Cursor(position=(21.0, 1.0, 0.0), scaled=True, size=1, style=<CursorStyle.STANDARD: 'standard'>), dims=Dims(ndim=3, ndisplay=2, last_used=0, range=((0.0, 43.0, 1.0), (0.0, 2800.0, 1.0), (0.0, 2800.0, 1.0)), current_step=(21, 1400, 1400), order=(0, 1, 2), axis_labels=('0', '1', '2')), grid=GridCanvas(stride=1, shape=(-1, -1), enabled=False), layers=[<Image layer 'imT' at 0x277089222e0>], scale_bar=ScaleBar(visible=False, colored=False, color=array([1., 0., 1., 1.], dtype=float32), ticks=True, position=<Position.BOTTOM_RIGHT: 'bottom_right'>, font_size=10.0, box=False, box_color=array([0. , 0. , 0. , 0.6], dtype=float32), unit=None), text_overlay=TextOverlay(visible=False, color=array([0.5, 0.5, 0.5, 1. ], dtype=float32), font_size=10.0, position=<TextOverlayPosition.TOP_LEFT: 'top_left'>, text=''), overlays=Overlays(interaction_box=InteractionBox(points=None, show=False, show_handle=False, show_vertices=False, selection_box_drag=None, selection_box_final=None, transform_start=<napari.utils.transforms.transforms.Affine object at 0x0000027707A9A2E0>, transform_drag=<napari.utils.transforms.transforms.Affine object at 0x0000027707A9A340>, transform_final=<napari.utils.transforms.transforms.Affine object at 0x0000027707A9A3A0>, transform=<napari.utils.transforms.transforms.Affine object at 0x0000027707A9A400>, allow_new_selection=True, selected_vertex=None)), help='', status='Ready', tooltip=Tooltip(visible=False, text=''), theme='dark', title='napari', mouse_over_canvas=False, mouse_move_callbacks=[<function InteractionBoxMouseBindings.initialize_mouse_events.<locals>.mouse_move at 0x00000277088E3790>], mouse_drag_callbacks=[<function InteractionBoxMouseBindings.initialize_mouse_events.<locals>.mouse_drag at 0x00000277088E33A0>], mouse_double_click_callbacks=[], mouse_wheel_callbacks=[<function dims_scroll at 0x000002749BADC3A0>], _persisted_mouse_event={}, _mouse_drag_gen={}, _mouse_wheel_gen={}, keymap={'Shift': <function InteractionBoxMouseBindings.initialize_key_events.<locals>.hold_to_lock_aspect_ratio at 0x00000277088E3430>, 'Control-Shift-R': <function InteractionBoxMouseBindings._reset_active_layer_affine at 0x00000277088E3670>, 'Control-Shift-A': <function InteractionBoxMouseBindings._transform_active_layer at 0x00000277088E34C0>})"
      ]
     },
     "execution_count": 136,
     "metadata": {},
     "output_type": "execute_result"
    }
   ],
   "source": [
    "\n"
   ]
  },
  {
   "cell_type": "code",
   "execution_count": 166,
   "id": "3343b5c6-6425-43f9-876b-85585acecb23",
   "metadata": {},
   "outputs": [
    {
     "data": {
      "text/plain": [
       "['\\\\\\\\192.168.0.127\\\\Raw_data\\\\Van\\\\6_12_2023__VanReview_DropletHeartMI_S2\\\\H1_Q1-2-3__set2',\n",
       " '\\\\\\\\192.168.0.127\\\\Raw_data\\\\Van\\\\6_12_2023__VanReview_DropletHeartMI_S2\\\\H1_MER__set2',\n",
       " '\\\\\\\\192.168.0.127\\\\Raw_data\\\\Van\\\\6_12_2023__VanReview_DropletHeartMI_S2\\\\H2_Q4-5-6__set2',\n",
       " '\\\\\\\\192.168.0.127\\\\Raw_data\\\\Van\\\\6_12_2023__VanReview_DropletHeartMI_S2\\\\H2_MER__set2',\n",
       " '\\\\\\\\192.168.0.127\\\\Raw_data\\\\Van\\\\6_12_2023__VanReview_DropletHeartMI_S2\\\\H3_Q10-11-12__set2',\n",
       " '\\\\\\\\192.168.0.127\\\\Raw_data\\\\Van\\\\6_12_2023__VanReview_DropletHeartMI_S2\\\\H3_MER__set2',\n",
       " '\\\\\\\\192.168.0.127\\\\Raw_data\\\\Van\\\\6_12_2023__VanReview_DropletHeartMI_S2\\\\H4_Q13-14-15__set2',\n",
       " '\\\\\\\\192.168.0.127\\\\Raw_data\\\\Van\\\\6_12_2023__VanReview_DropletHeartMI_S2\\\\H4_MER__set2',\n",
       " '\\\\\\\\192.168.0.127\\\\Raw_data\\\\Van\\\\6_12_2023__VanReview_DropletHeartMI_S2\\\\H5_MER__set2',\n",
       " '\\\\\\\\192.168.0.127\\\\Raw_data\\\\Van\\\\6_12_2023__VanReview_DropletHeartMI_S2\\\\H5_Q16-17-18__set2',\n",
       " '\\\\\\\\192.168.0.127\\\\Raw_data\\\\Van\\\\6_12_2023__VanReview_DropletHeartMI_S2\\\\H6_MER__set2',\n",
       " '\\\\\\\\192.168.0.127\\\\Raw_data\\\\Van\\\\6_12_2023__VanReview_DropletHeartMI_S2\\\\H6_Q19-20-21__set2',\n",
       " '\\\\\\\\192.168.0.127\\\\Raw_data\\\\Van\\\\6_12_2023__VanReview_DropletHeartMI_S2\\\\H7_Q22-23-24__set2',\n",
       " '\\\\\\\\192.168.0.127\\\\Raw_data\\\\Van\\\\6_12_2023__VanReview_DropletHeartMI_S2\\\\H7_MER__set2',\n",
       " '\\\\\\\\192.168.0.127\\\\Raw_data\\\\Van\\\\6_12_2023__VanReview_DropletHeartMI_S2\\\\H8_Q25-26-27__set2',\n",
       " '\\\\\\\\192.168.0.127\\\\Raw_data\\\\Van\\\\6_12_2023__VanReview_DropletHeartMI_S2\\\\H8_MER__set2',\n",
       " '\\\\\\\\192.168.0.127\\\\Raw_data\\\\Van\\\\6_12_2023__VanReview_DropletHeartMI_S2\\\\H9_MER__set2',\n",
       " '\\\\\\\\192.168.0.127\\\\Raw_data\\\\Van\\\\6_12_2023__VanReview_DropletHeartMI_S2\\\\H9_Q28-29-30__set2',\n",
       " '\\\\\\\\192.168.0.127\\\\Raw_data\\\\Van\\\\6_12_2023__VanReview_DropletHeartMI_S2\\\\H10_MER__set2',\n",
       " '\\\\\\\\192.168.0.127\\\\Raw_data\\\\Van\\\\6_12_2023__VanReview_DropletHeartMI_S2\\\\H11_MER__set2',\n",
       " '\\\\\\\\192.168.0.127\\\\Raw_data\\\\Van\\\\6_12_2023__VanReview_DropletHeartMI_S2\\\\H12_MER__set2',\n",
       " '\\\\\\\\192.168.0.127\\\\Raw_data\\\\Van\\\\6_12_2023__VanReview_DropletHeartMI_S2\\\\H13_MER__set2',\n",
       " '\\\\\\\\192.168.0.127\\\\Raw_data\\\\Van\\\\6_12_2023__VanReview_DropletHeartMI_S2\\\\H14_MER__set2',\n",
       " '\\\\\\\\192.168.0.127\\\\Raw_data\\\\Van\\\\6_12_2023__VanReview_DropletHeartMI_S2\\\\H15_MER__set2',\n",
       " '\\\\\\\\192.168.0.127\\\\Raw_data\\\\Van\\\\6_12_2023__VanReview_DropletHeartMI_S2\\\\H16_MER__set2']"
      ]
     },
     "execution_count": 166,
     "metadata": {},
     "output_type": "execute_result"
    }
   ],
   "source": [
    "flds"
   ]
  },
  {
   "cell_type": "code",
   "execution_count": 168,
   "id": "ec3a278c-23d5-42a3-9337-3c3ab7ef68be",
   "metadata": {},
   "outputs": [
    {
     "data": {
      "text/plain": [
       "<Points layer 'Points' at 0x27723b321c0>"
      ]
     },
     "execution_count": 168,
     "metadata": {},
     "output_type": "execute_result"
    }
   ],
   "source": [
    "#imT = read_im('\\\\\\\\192.168.0.127\\\\Raw_data\\\\Van\\\\6_12_2023__VanReview_DropletHeartMI_S2\\\\H3_Q10-11-12__set2'+os.sep+fov)[0]\n",
    "#imT = np.array(imT,dtype=np.float32)\n",
    "#imT_ = norm_slice(imT,s=30)\n",
    "\n",
    "dec.get_XH_tag('Q10-')\n",
    "Xh = dec.Xh.copy()\n",
    "Xh = Xh[(Xh[:,-4]>0.5)&(Xh[:,-2]==0)&(Xh[:,-3]>20000)&(Xh[:,-3]<50000)]\n",
    "\n",
    "#ve = napari.view_image(np.max(imT_,axis=0),contrast_limits=[0,10000])\n",
    "size = np.clip(Xh[:,-3]/40000,0,1)*6\n",
    "vt.add_points(Xh[:,1:3],size = size,face_color='w')\n"
   ]
  },
  {
   "cell_type": "code",
   "execution_count": 167,
   "id": "72bc268b-6288-4770-9f99-384241489b93",
   "metadata": {},
   "outputs": [
    {
     "data": {
      "text/plain": [
       "<Points layer 'Points' at 0x2770ce05e80>"
      ]
     },
     "execution_count": 167,
     "metadata": {},
     "output_type": "execute_result"
    }
   ],
   "source": [
    "imT = read_im('\\\\\\\\192.168.0.127\\\\Raw_data\\\\Van\\\\6_12_2023__VanReview_DropletHeartMI_S2\\\\H5_Q16-17-18__set2'+os.sep+fov)[1]\n",
    "imT = np.array(imT,dtype=np.float32)\n",
    "imT_ = norm_slice(imT,s=30)\n",
    "\n",
    "dec.get_XH_tag('Q16-')\n",
    "Xh = dec.Xh.copy()\n",
    "Xh = Xh[(Xh[:,-4]>0.5)&(Xh[:,-2]==1)&(Xh[:,-3]>20000)&(Xh[:,-3]<50000)]\n",
    "\n",
    "ve = napari.view_image(np.max(imT_,axis=0),contrast_limits=[0,10000])\n",
    "size = np.clip(Xh[:,-3]/40000,0,1)*6\n",
    "ve.add_points(Xh[:,1:3],size = size)\n"
   ]
  },
  {
   "cell_type": "code",
   "execution_count": null,
   "id": "a3810a73-750a-43f3-9a12-e87e031de9d0",
   "metadata": {},
   "outputs": [],
   "source": []
  },
  {
   "cell_type": "code",
   "execution_count": 165,
   "id": "6ed01d57-e3ef-4848-bd2d-708125315fd7",
   "metadata": {},
   "outputs": [
    {
     "data": {
      "text/plain": [
       "<Points layer 'Points' at 0x277236ce190>"
      ]
     },
     "execution_count": 165,
     "metadata": {},
     "output_type": "execute_result"
    }
   ],
   "source": [
    "imT = read_im('\\\\\\\\192.168.0.127\\\\Raw_data\\\\Van\\\\6_12_2023__VanReview_DropletHeartMI_S2\\\\H3_Q10-11-12__set2'+os.sep+fov)[0]\n",
    "imT = np.array(imT,dtype=np.float32)\n",
    "imT_ = norm_slice(imT,s=30)\n",
    "\n",
    "dec.get_XH_tag('Q10-')\n",
    "Xh = dec.Xh.copy()\n",
    "Xh = Xh[(Xh[:,-4]>0.5)&(Xh[:,-2]==0)&(Xh[:,-3]>30000)&(Xh[:,-3]<50000)]\n",
    "\n",
    "ve = napari.view_image(np.max(imT_,axis=0),contrast_limits=[0,10000])\n",
    "size = np.clip(Xh[:,-3]/40000,0,1)*6\n",
    "ve.add_points(Xh[:,1:3],size = size)"
   ]
  },
  {
   "cell_type": "code",
   "execution_count": 128,
   "id": "0fa80e19-0812-4b78-b139-107a799ec185",
   "metadata": {},
   "outputs": [
    {
     "data": {
      "text/plain": [
       "<Points layer 'Points' at 0x276efc17f10>"
      ]
     },
     "execution_count": 128,
     "metadata": {},
     "output_type": "execute_result"
    }
   ],
   "source": [
    "vt.add_points(Xcms[keep,:3])"
   ]
  },
  {
   "cell_type": "code",
   "execution_count": 76,
   "id": "698bc0dd-3643-471d-9096-e0f39a51c4d7",
   "metadata": {},
   "outputs": [
    {
     "name": "stderr",
     "output_type": "stream",
     "text": [
      "WARNING: Traceback (most recent call last):\n",
      "  File \"C:\\Users\\ClevelandLab\\anaconda3\\envs\\napari\\lib\\runpy.py\", line 197, in _run_module_as_main\n",
      "    return _run_code(code, main_globals, None,\n",
      "  File \"C:\\Users\\ClevelandLab\\anaconda3\\envs\\napari\\lib\\runpy.py\", line 87, in _run_code\n",
      "    exec(code, run_globals)\n",
      "  File \"C:\\Users\\ClevelandLab\\anaconda3\\envs\\napari\\lib\\site-packages\\ipykernel_launcher.py\", line 17, in <module>\n",
      "    app.launch_new_instance()\n",
      "  File \"C:\\Users\\ClevelandLab\\anaconda3\\envs\\napari\\lib\\site-packages\\traitlets\\config\\application.py\", line 1043, in launch_instance\n",
      "    app.start()\n",
      "  File \"C:\\Users\\ClevelandLab\\anaconda3\\envs\\napari\\lib\\site-packages\\ipykernel\\kernelapp.py\", line 725, in start\n",
      "    self.io_loop.start()\n",
      "  File \"C:\\Users\\ClevelandLab\\anaconda3\\envs\\napari\\lib\\site-packages\\tornado\\platform\\asyncio.py\", line 195, in start\n",
      "    self.asyncio_loop.run_forever()\n",
      "  File \"C:\\Users\\ClevelandLab\\anaconda3\\envs\\napari\\lib\\asyncio\\base_events.py\", line 601, in run_forever\n",
      "    self._run_once()\n",
      "  File \"C:\\Users\\ClevelandLab\\anaconda3\\envs\\napari\\lib\\asyncio\\base_events.py\", line 1905, in _run_once\n",
      "    handle._run()\n",
      "  File \"C:\\Users\\ClevelandLab\\anaconda3\\envs\\napari\\lib\\asyncio\\events.py\", line 80, in _run\n",
      "    self._context.run(self._callback, *self._args)\n",
      "  File \"C:\\Users\\ClevelandLab\\anaconda3\\envs\\napari\\lib\\site-packages\\tornado\\ioloop.py\", line 738, in _run_callback\n",
      "    ret = callback()\n",
      "  File \"C:\\Users\\ClevelandLab\\anaconda3\\envs\\napari\\lib\\site-packages\\ipykernel\\kernelbase.py\", line 458, in advance_eventloop\n",
      "    eventloop(self)\n",
      "  File \"C:\\Users\\ClevelandLab\\anaconda3\\envs\\napari\\lib\\site-packages\\ipykernel\\eventloops.py\", line 128, in loop_qt\n",
      "    el.exec() if hasattr(el, 'exec') else el.exec_()\n",
      "  File \"C:\\Users\\ClevelandLab\\anaconda3\\envs\\napari\\lib\\site-packages\\vispy\\app\\backends\\_qt.py\", line 567, in event\n",
      "    out = super(QtBaseCanvasBackend, self).event(ev)\n",
      "  File \"C:\\Users\\ClevelandLab\\anaconda3\\envs\\napari\\lib\\site-packages\\vispy\\app\\backends\\_qt.py\", line 532, in mouseMoveEvent\n",
      "    self._vispy_mouse_move(\n",
      "  File \"C:\\Users\\ClevelandLab\\anaconda3\\envs\\napari\\lib\\site-packages\\vispy\\app\\base.py\", line 216, in _vispy_mouse_move\n",
      "    ev = self._vispy_canvas.events.mouse_move(**kwargs)\n",
      "  File \"C:\\Users\\ClevelandLab\\anaconda3\\envs\\napari\\lib\\site-packages\\vispy\\util\\event.py\", line 453, in __call__\n",
      "    self._invoke_callback(cb, event)\n",
      "  File \"C:\\Users\\ClevelandLab\\anaconda3\\envs\\napari\\lib\\site-packages\\vispy\\util\\event.py\", line 469, in _invoke_callback\n",
      "    cb(event)\n",
      "  File \"C:\\Users\\ClevelandLab\\anaconda3\\envs\\napari\\lib\\site-packages\\napari\\_vispy\\canvas.py\", line 96, in _process_mouse_event\n",
      "    super()._process_mouse_event(event)\n",
      "  File \"C:\\Users\\ClevelandLab\\anaconda3\\envs\\napari\\lib\\site-packages\\vispy\\scene\\canvas.py\", line 369, in _process_mouse_event\n",
      "    getattr(picked.events, event.type)(scene_event)\n",
      "  File \"C:\\Users\\ClevelandLab\\anaconda3\\envs\\napari\\lib\\site-packages\\vispy\\util\\event.py\", line 453, in __call__\n",
      "    self._invoke_callback(cb, event)\n",
      "  File \"C:\\Users\\ClevelandLab\\anaconda3\\envs\\napari\\lib\\site-packages\\vispy\\util\\event.py\", line 471, in _invoke_callback\n",
      "    _handle_exception(self.ignore_callback_errors,\n",
      "  << caught exception here: >>\n",
      "  File \"C:\\Users\\ClevelandLab\\anaconda3\\envs\\napari\\lib\\site-packages\\vispy\\util\\event.py\", line 469, in _invoke_callback\n",
      "    cb(event)\n",
      "  File \"C:\\Users\\ClevelandLab\\anaconda3\\envs\\napari\\lib\\site-packages\\vispy\\scene\\cameras\\perspective.py\", line 227, in viewbox_mouse_event\n",
      "    self._update_rotation(event)\n",
      "  File \"C:\\Users\\ClevelandLab\\anaconda3\\envs\\napari\\lib\\site-packages\\vispy\\scene\\cameras\\arcball.py\", line 65, in _update_rotation\n",
      "    Quaternion(*_arcball(self._event_value, wh)) *\n",
      "  File \"C:\\Users\\ClevelandLab\\anaconda3\\envs\\napari\\lib\\site-packages\\vispy\\scene\\cameras\\arcball.py\", line 101, in _arcball\n",
      "    x, y = xy\n",
      "ValueError: too many values to unpack (expected 2)\n",
      "ERROR: Invoking <bound method Base3DRotationCamera.viewbox_mouse_event of <ArcballCamera at 0x27a3c4c8040>> for SceneMouseEvent\n",
      "WARNING: Traceback (most recent call last):\n",
      "  File \"C:\\Users\\ClevelandLab\\anaconda3\\envs\\napari\\lib\\runpy.py\", line 197, in _run_module_as_main\n",
      "    return _run_code(code, main_globals, None,\n",
      "  File \"C:\\Users\\ClevelandLab\\anaconda3\\envs\\napari\\lib\\runpy.py\", line 87, in _run_code\n",
      "    exec(code, run_globals)\n",
      "  File \"C:\\Users\\ClevelandLab\\anaconda3\\envs\\napari\\lib\\site-packages\\ipykernel_launcher.py\", line 17, in <module>\n",
      "    app.launch_new_instance()\n",
      "  File \"C:\\Users\\ClevelandLab\\anaconda3\\envs\\napari\\lib\\site-packages\\traitlets\\config\\application.py\", line 1043, in launch_instance\n",
      "    app.start()\n",
      "  File \"C:\\Users\\ClevelandLab\\anaconda3\\envs\\napari\\lib\\site-packages\\ipykernel\\kernelapp.py\", line 725, in start\n",
      "    self.io_loop.start()\n",
      "  File \"C:\\Users\\ClevelandLab\\anaconda3\\envs\\napari\\lib\\site-packages\\tornado\\platform\\asyncio.py\", line 195, in start\n",
      "    self.asyncio_loop.run_forever()\n",
      "  File \"C:\\Users\\ClevelandLab\\anaconda3\\envs\\napari\\lib\\asyncio\\base_events.py\", line 601, in run_forever\n",
      "    self._run_once()\n",
      "  File \"C:\\Users\\ClevelandLab\\anaconda3\\envs\\napari\\lib\\asyncio\\base_events.py\", line 1905, in _run_once\n",
      "    handle._run()\n",
      "  File \"C:\\Users\\ClevelandLab\\anaconda3\\envs\\napari\\lib\\asyncio\\events.py\", line 80, in _run\n",
      "    self._context.run(self._callback, *self._args)\n",
      "  File \"C:\\Users\\ClevelandLab\\anaconda3\\envs\\napari\\lib\\site-packages\\tornado\\ioloop.py\", line 738, in _run_callback\n",
      "    ret = callback()\n",
      "  File \"C:\\Users\\ClevelandLab\\anaconda3\\envs\\napari\\lib\\site-packages\\ipykernel\\kernelbase.py\", line 458, in advance_eventloop\n",
      "    eventloop(self)\n",
      "  File \"C:\\Users\\ClevelandLab\\anaconda3\\envs\\napari\\lib\\site-packages\\ipykernel\\eventloops.py\", line 128, in loop_qt\n",
      "    el.exec() if hasattr(el, 'exec') else el.exec_()\n",
      "  File \"C:\\Users\\ClevelandLab\\anaconda3\\envs\\napari\\lib\\site-packages\\vispy\\app\\backends\\_qt.py\", line 567, in event\n",
      "    out = super(QtBaseCanvasBackend, self).event(ev)\n",
      "  File \"C:\\Users\\ClevelandLab\\anaconda3\\envs\\napari\\lib\\site-packages\\vispy\\app\\backends\\_qt.py\", line 532, in mouseMoveEvent\n",
      "    self._vispy_mouse_move(\n",
      "  File \"C:\\Users\\ClevelandLab\\anaconda3\\envs\\napari\\lib\\site-packages\\vispy\\app\\base.py\", line 216, in _vispy_mouse_move\n",
      "    ev = self._vispy_canvas.events.mouse_move(**kwargs)\n",
      "  File \"C:\\Users\\ClevelandLab\\anaconda3\\envs\\napari\\lib\\site-packages\\vispy\\util\\event.py\", line 453, in __call__\n",
      "    self._invoke_callback(cb, event)\n",
      "  File \"C:\\Users\\ClevelandLab\\anaconda3\\envs\\napari\\lib\\site-packages\\vispy\\util\\event.py\", line 469, in _invoke_callback\n",
      "    cb(event)\n",
      "  File \"C:\\Users\\ClevelandLab\\anaconda3\\envs\\napari\\lib\\site-packages\\napari\\_vispy\\canvas.py\", line 96, in _process_mouse_event\n",
      "    super()._process_mouse_event(event)\n",
      "  File \"C:\\Users\\ClevelandLab\\anaconda3\\envs\\napari\\lib\\site-packages\\vispy\\scene\\canvas.py\", line 369, in _process_mouse_event\n",
      "    getattr(picked.events, event.type)(scene_event)\n",
      "  File \"C:\\Users\\ClevelandLab\\anaconda3\\envs\\napari\\lib\\site-packages\\vispy\\util\\event.py\", line 453, in __call__\n",
      "    self._invoke_callback(cb, event)\n",
      "  File \"C:\\Users\\ClevelandLab\\anaconda3\\envs\\napari\\lib\\site-packages\\vispy\\util\\event.py\", line 471, in _invoke_callback\n",
      "    _handle_exception(self.ignore_callback_errors,\n",
      "  << caught exception here: >>\n",
      "  File \"C:\\Users\\ClevelandLab\\anaconda3\\envs\\napari\\lib\\site-packages\\vispy\\util\\event.py\", line 469, in _invoke_callback\n",
      "    cb(event)\n",
      "  File \"C:\\Users\\ClevelandLab\\anaconda3\\envs\\napari\\lib\\site-packages\\vispy\\scene\\cameras\\perspective.py\", line 227, in viewbox_mouse_event\n",
      "    self._update_rotation(event)\n",
      "  File \"C:\\Users\\ClevelandLab\\anaconda3\\envs\\napari\\lib\\site-packages\\vispy\\scene\\cameras\\arcball.py\", line 65, in _update_rotation\n",
      "    Quaternion(*_arcball(self._event_value, wh)) *\n",
      "  File \"C:\\Users\\ClevelandLab\\anaconda3\\envs\\napari\\lib\\site-packages\\vispy\\scene\\cameras\\arcball.py\", line 101, in _arcball\n",
      "    x, y = xy\n",
      "ValueError: too many values to unpack (expected 2)\n",
      "ERROR: Invoking <bound method Base3DRotationCamera.viewbox_mouse_event of <ArcballCamera at 0x27a3c4c8040>> for SceneMouseEvent\n",
      "WARNING: Traceback (most recent call last):\n",
      "  File \"C:\\Users\\ClevelandLab\\anaconda3\\envs\\napari\\lib\\runpy.py\", line 197, in _run_module_as_main\n",
      "    return _run_code(code, main_globals, None,\n",
      "  File \"C:\\Users\\ClevelandLab\\anaconda3\\envs\\napari\\lib\\runpy.py\", line 87, in _run_code\n",
      "    exec(code, run_globals)\n",
      "  File \"C:\\Users\\ClevelandLab\\anaconda3\\envs\\napari\\lib\\site-packages\\ipykernel_launcher.py\", line 17, in <module>\n",
      "    app.launch_new_instance()\n",
      "  File \"C:\\Users\\ClevelandLab\\anaconda3\\envs\\napari\\lib\\site-packages\\traitlets\\config\\application.py\", line 1043, in launch_instance\n",
      "    app.start()\n",
      "  File \"C:\\Users\\ClevelandLab\\anaconda3\\envs\\napari\\lib\\site-packages\\ipykernel\\kernelapp.py\", line 725, in start\n",
      "    self.io_loop.start()\n",
      "  File \"C:\\Users\\ClevelandLab\\anaconda3\\envs\\napari\\lib\\site-packages\\tornado\\platform\\asyncio.py\", line 195, in start\n",
      "    self.asyncio_loop.run_forever()\n",
      "  File \"C:\\Users\\ClevelandLab\\anaconda3\\envs\\napari\\lib\\asyncio\\base_events.py\", line 601, in run_forever\n",
      "    self._run_once()\n",
      "  File \"C:\\Users\\ClevelandLab\\anaconda3\\envs\\napari\\lib\\asyncio\\base_events.py\", line 1905, in _run_once\n",
      "    handle._run()\n",
      "  File \"C:\\Users\\ClevelandLab\\anaconda3\\envs\\napari\\lib\\asyncio\\events.py\", line 80, in _run\n",
      "    self._context.run(self._callback, *self._args)\n",
      "  File \"C:\\Users\\ClevelandLab\\anaconda3\\envs\\napari\\lib\\site-packages\\tornado\\ioloop.py\", line 738, in _run_callback\n",
      "    ret = callback()\n",
      "  File \"C:\\Users\\ClevelandLab\\anaconda3\\envs\\napari\\lib\\site-packages\\ipykernel\\kernelbase.py\", line 458, in advance_eventloop\n",
      "    eventloop(self)\n",
      "  File \"C:\\Users\\ClevelandLab\\anaconda3\\envs\\napari\\lib\\site-packages\\ipykernel\\eventloops.py\", line 128, in loop_qt\n",
      "    el.exec() if hasattr(el, 'exec') else el.exec_()\n",
      "  File \"C:\\Users\\ClevelandLab\\anaconda3\\envs\\napari\\lib\\site-packages\\vispy\\app\\backends\\_qt.py\", line 567, in event\n",
      "    out = super(QtBaseCanvasBackend, self).event(ev)\n",
      "  File \"C:\\Users\\ClevelandLab\\anaconda3\\envs\\napari\\lib\\site-packages\\vispy\\app\\backends\\_qt.py\", line 532, in mouseMoveEvent\n",
      "    self._vispy_mouse_move(\n",
      "  File \"C:\\Users\\ClevelandLab\\anaconda3\\envs\\napari\\lib\\site-packages\\vispy\\app\\base.py\", line 216, in _vispy_mouse_move\n",
      "    ev = self._vispy_canvas.events.mouse_move(**kwargs)\n",
      "  File \"C:\\Users\\ClevelandLab\\anaconda3\\envs\\napari\\lib\\site-packages\\vispy\\util\\event.py\", line 453, in __call__\n",
      "    self._invoke_callback(cb, event)\n",
      "  File \"C:\\Users\\ClevelandLab\\anaconda3\\envs\\napari\\lib\\site-packages\\vispy\\util\\event.py\", line 469, in _invoke_callback\n",
      "    cb(event)\n",
      "  File \"C:\\Users\\ClevelandLab\\anaconda3\\envs\\napari\\lib\\site-packages\\napari\\_vispy\\canvas.py\", line 96, in _process_mouse_event\n",
      "    super()._process_mouse_event(event)\n",
      "  File \"C:\\Users\\ClevelandLab\\anaconda3\\envs\\napari\\lib\\site-packages\\vispy\\scene\\canvas.py\", line 369, in _process_mouse_event\n",
      "    getattr(picked.events, event.type)(scene_event)\n",
      "  File \"C:\\Users\\ClevelandLab\\anaconda3\\envs\\napari\\lib\\site-packages\\vispy\\util\\event.py\", line 453, in __call__\n",
      "    self._invoke_callback(cb, event)\n",
      "  File \"C:\\Users\\ClevelandLab\\anaconda3\\envs\\napari\\lib\\site-packages\\vispy\\util\\event.py\", line 471, in _invoke_callback\n",
      "    _handle_exception(self.ignore_callback_errors,\n",
      "  << caught exception here: >>\n",
      "  File \"C:\\Users\\ClevelandLab\\anaconda3\\envs\\napari\\lib\\site-packages\\vispy\\util\\event.py\", line 469, in _invoke_callback\n",
      "    cb(event)\n",
      "  File \"C:\\Users\\ClevelandLab\\anaconda3\\envs\\napari\\lib\\site-packages\\vispy\\scene\\cameras\\perspective.py\", line 227, in viewbox_mouse_event\n",
      "    self._update_rotation(event)\n",
      "  File \"C:\\Users\\ClevelandLab\\anaconda3\\envs\\napari\\lib\\site-packages\\vispy\\scene\\cameras\\arcball.py\", line 65, in _update_rotation\n",
      "    Quaternion(*_arcball(self._event_value, wh)) *\n",
      "  File \"C:\\Users\\ClevelandLab\\anaconda3\\envs\\napari\\lib\\site-packages\\vispy\\scene\\cameras\\arcball.py\", line 101, in _arcball\n",
      "    x, y = xy\n",
      "ValueError: too many values to unpack (expected 2)\n",
      "ERROR: Invoking <bound method Base3DRotationCamera.viewbox_mouse_event of <ArcballCamera at 0x27a3c4c8040>> for SceneMouseEvent\n",
      "WARNING: Traceback (most recent call last):\n",
      "  File \"C:\\Users\\ClevelandLab\\anaconda3\\envs\\napari\\lib\\runpy.py\", line 197, in _run_module_as_main\n",
      "    return _run_code(code, main_globals, None,\n",
      "  File \"C:\\Users\\ClevelandLab\\anaconda3\\envs\\napari\\lib\\runpy.py\", line 87, in _run_code\n",
      "    exec(code, run_globals)\n",
      "  File \"C:\\Users\\ClevelandLab\\anaconda3\\envs\\napari\\lib\\site-packages\\ipykernel_launcher.py\", line 17, in <module>\n",
      "    app.launch_new_instance()\n",
      "  File \"C:\\Users\\ClevelandLab\\anaconda3\\envs\\napari\\lib\\site-packages\\traitlets\\config\\application.py\", line 1043, in launch_instance\n",
      "    app.start()\n",
      "  File \"C:\\Users\\ClevelandLab\\anaconda3\\envs\\napari\\lib\\site-packages\\ipykernel\\kernelapp.py\", line 725, in start\n",
      "    self.io_loop.start()\n",
      "  File \"C:\\Users\\ClevelandLab\\anaconda3\\envs\\napari\\lib\\site-packages\\tornado\\platform\\asyncio.py\", line 195, in start\n",
      "    self.asyncio_loop.run_forever()\n",
      "  File \"C:\\Users\\ClevelandLab\\anaconda3\\envs\\napari\\lib\\asyncio\\base_events.py\", line 601, in run_forever\n",
      "    self._run_once()\n",
      "  File \"C:\\Users\\ClevelandLab\\anaconda3\\envs\\napari\\lib\\asyncio\\base_events.py\", line 1905, in _run_once\n",
      "    handle._run()\n",
      "  File \"C:\\Users\\ClevelandLab\\anaconda3\\envs\\napari\\lib\\asyncio\\events.py\", line 80, in _run\n",
      "    self._context.run(self._callback, *self._args)\n",
      "  File \"C:\\Users\\ClevelandLab\\anaconda3\\envs\\napari\\lib\\site-packages\\tornado\\ioloop.py\", line 738, in _run_callback\n",
      "    ret = callback()\n",
      "  File \"C:\\Users\\ClevelandLab\\anaconda3\\envs\\napari\\lib\\site-packages\\ipykernel\\kernelbase.py\", line 458, in advance_eventloop\n",
      "    eventloop(self)\n",
      "  File \"C:\\Users\\ClevelandLab\\anaconda3\\envs\\napari\\lib\\site-packages\\ipykernel\\eventloops.py\", line 128, in loop_qt\n",
      "    el.exec() if hasattr(el, 'exec') else el.exec_()\n",
      "  File \"C:\\Users\\ClevelandLab\\anaconda3\\envs\\napari\\lib\\site-packages\\vispy\\app\\backends\\_qt.py\", line 567, in event\n",
      "    out = super(QtBaseCanvasBackend, self).event(ev)\n",
      "  File \"C:\\Users\\ClevelandLab\\anaconda3\\envs\\napari\\lib\\site-packages\\vispy\\app\\backends\\_qt.py\", line 532, in mouseMoveEvent\n",
      "    self._vispy_mouse_move(\n",
      "  File \"C:\\Users\\ClevelandLab\\anaconda3\\envs\\napari\\lib\\site-packages\\vispy\\app\\base.py\", line 216, in _vispy_mouse_move\n",
      "    ev = self._vispy_canvas.events.mouse_move(**kwargs)\n",
      "  File \"C:\\Users\\ClevelandLab\\anaconda3\\envs\\napari\\lib\\site-packages\\vispy\\util\\event.py\", line 453, in __call__\n",
      "    self._invoke_callback(cb, event)\n",
      "  File \"C:\\Users\\ClevelandLab\\anaconda3\\envs\\napari\\lib\\site-packages\\vispy\\util\\event.py\", line 469, in _invoke_callback\n",
      "    cb(event)\n",
      "  File \"C:\\Users\\ClevelandLab\\anaconda3\\envs\\napari\\lib\\site-packages\\napari\\_vispy\\canvas.py\", line 96, in _process_mouse_event\n",
      "    super()._process_mouse_event(event)\n",
      "  File \"C:\\Users\\ClevelandLab\\anaconda3\\envs\\napari\\lib\\site-packages\\vispy\\scene\\canvas.py\", line 369, in _process_mouse_event\n",
      "    getattr(picked.events, event.type)(scene_event)\n",
      "  File \"C:\\Users\\ClevelandLab\\anaconda3\\envs\\napari\\lib\\site-packages\\vispy\\util\\event.py\", line 453, in __call__\n",
      "    self._invoke_callback(cb, event)\n",
      "  File \"C:\\Users\\ClevelandLab\\anaconda3\\envs\\napari\\lib\\site-packages\\vispy\\util\\event.py\", line 471, in _invoke_callback\n",
      "    _handle_exception(self.ignore_callback_errors,\n",
      "  << caught exception here: >>\n",
      "  File \"C:\\Users\\ClevelandLab\\anaconda3\\envs\\napari\\lib\\site-packages\\vispy\\util\\event.py\", line 469, in _invoke_callback\n",
      "    cb(event)\n",
      "  File \"C:\\Users\\ClevelandLab\\anaconda3\\envs\\napari\\lib\\site-packages\\vispy\\scene\\cameras\\perspective.py\", line 227, in viewbox_mouse_event\n",
      "    self._update_rotation(event)\n",
      "  File \"C:\\Users\\ClevelandLab\\anaconda3\\envs\\napari\\lib\\site-packages\\vispy\\scene\\cameras\\arcball.py\", line 65, in _update_rotation\n",
      "    Quaternion(*_arcball(self._event_value, wh)) *\n",
      "  File \"C:\\Users\\ClevelandLab\\anaconda3\\envs\\napari\\lib\\site-packages\\vispy\\scene\\cameras\\arcball.py\", line 101, in _arcball\n",
      "    x, y = xy\n",
      "ValueError: too many values to unpack (expected 2)\n",
      "ERROR: Invoking <bound method Base3DRotationCamera.viewbox_mouse_event of <ArcballCamera at 0x27a3c4c8040>> for SceneMouseEvent\n",
      "WARNING: Traceback (most recent call last):\n",
      "  File \"C:\\Users\\ClevelandLab\\anaconda3\\envs\\napari\\lib\\runpy.py\", line 197, in _run_module_as_main\n",
      "    return _run_code(code, main_globals, None,\n",
      "  File \"C:\\Users\\ClevelandLab\\anaconda3\\envs\\napari\\lib\\runpy.py\", line 87, in _run_code\n",
      "    exec(code, run_globals)\n",
      "  File \"C:\\Users\\ClevelandLab\\anaconda3\\envs\\napari\\lib\\site-packages\\ipykernel_launcher.py\", line 17, in <module>\n",
      "    app.launch_new_instance()\n",
      "  File \"C:\\Users\\ClevelandLab\\anaconda3\\envs\\napari\\lib\\site-packages\\traitlets\\config\\application.py\", line 1043, in launch_instance\n",
      "    app.start()\n",
      "  File \"C:\\Users\\ClevelandLab\\anaconda3\\envs\\napari\\lib\\site-packages\\ipykernel\\kernelapp.py\", line 725, in start\n",
      "    self.io_loop.start()\n",
      "  File \"C:\\Users\\ClevelandLab\\anaconda3\\envs\\napari\\lib\\site-packages\\tornado\\platform\\asyncio.py\", line 195, in start\n",
      "    self.asyncio_loop.run_forever()\n",
      "  File \"C:\\Users\\ClevelandLab\\anaconda3\\envs\\napari\\lib\\asyncio\\base_events.py\", line 601, in run_forever\n",
      "    self._run_once()\n",
      "  File \"C:\\Users\\ClevelandLab\\anaconda3\\envs\\napari\\lib\\asyncio\\base_events.py\", line 1905, in _run_once\n",
      "    handle._run()\n",
      "  File \"C:\\Users\\ClevelandLab\\anaconda3\\envs\\napari\\lib\\asyncio\\events.py\", line 80, in _run\n",
      "    self._context.run(self._callback, *self._args)\n",
      "  File \"C:\\Users\\ClevelandLab\\anaconda3\\envs\\napari\\lib\\site-packages\\tornado\\ioloop.py\", line 738, in _run_callback\n",
      "    ret = callback()\n",
      "  File \"C:\\Users\\ClevelandLab\\anaconda3\\envs\\napari\\lib\\site-packages\\ipykernel\\kernelbase.py\", line 458, in advance_eventloop\n",
      "    eventloop(self)\n",
      "  File \"C:\\Users\\ClevelandLab\\anaconda3\\envs\\napari\\lib\\site-packages\\ipykernel\\eventloops.py\", line 128, in loop_qt\n",
      "    el.exec() if hasattr(el, 'exec') else el.exec_()\n",
      "  File \"C:\\Users\\ClevelandLab\\anaconda3\\envs\\napari\\lib\\site-packages\\vispy\\app\\backends\\_qt.py\", line 567, in event\n",
      "    out = super(QtBaseCanvasBackend, self).event(ev)\n",
      "  File \"C:\\Users\\ClevelandLab\\anaconda3\\envs\\napari\\lib\\site-packages\\vispy\\app\\backends\\_qt.py\", line 532, in mouseMoveEvent\n",
      "    self._vispy_mouse_move(\n",
      "  File \"C:\\Users\\ClevelandLab\\anaconda3\\envs\\napari\\lib\\site-packages\\vispy\\app\\base.py\", line 216, in _vispy_mouse_move\n",
      "    ev = self._vispy_canvas.events.mouse_move(**kwargs)\n",
      "  File \"C:\\Users\\ClevelandLab\\anaconda3\\envs\\napari\\lib\\site-packages\\vispy\\util\\event.py\", line 453, in __call__\n",
      "    self._invoke_callback(cb, event)\n",
      "  File \"C:\\Users\\ClevelandLab\\anaconda3\\envs\\napari\\lib\\site-packages\\vispy\\util\\event.py\", line 469, in _invoke_callback\n",
      "    cb(event)\n",
      "  File \"C:\\Users\\ClevelandLab\\anaconda3\\envs\\napari\\lib\\site-packages\\napari\\_vispy\\canvas.py\", line 96, in _process_mouse_event\n",
      "    super()._process_mouse_event(event)\n",
      "  File \"C:\\Users\\ClevelandLab\\anaconda3\\envs\\napari\\lib\\site-packages\\vispy\\scene\\canvas.py\", line 369, in _process_mouse_event\n",
      "    getattr(picked.events, event.type)(scene_event)\n",
      "  File \"C:\\Users\\ClevelandLab\\anaconda3\\envs\\napari\\lib\\site-packages\\vispy\\util\\event.py\", line 453, in __call__\n",
      "    self._invoke_callback(cb, event)\n",
      "  File \"C:\\Users\\ClevelandLab\\anaconda3\\envs\\napari\\lib\\site-packages\\vispy\\util\\event.py\", line 471, in _invoke_callback\n",
      "    _handle_exception(self.ignore_callback_errors,\n",
      "  << caught exception here: >>\n",
      "  File \"C:\\Users\\ClevelandLab\\anaconda3\\envs\\napari\\lib\\site-packages\\vispy\\util\\event.py\", line 469, in _invoke_callback\n",
      "    cb(event)\n",
      "  File \"C:\\Users\\ClevelandLab\\anaconda3\\envs\\napari\\lib\\site-packages\\vispy\\scene\\cameras\\perspective.py\", line 227, in viewbox_mouse_event\n",
      "    self._update_rotation(event)\n",
      "  File \"C:\\Users\\ClevelandLab\\anaconda3\\envs\\napari\\lib\\site-packages\\vispy\\scene\\cameras\\arcball.py\", line 65, in _update_rotation\n",
      "    Quaternion(*_arcball(self._event_value, wh)) *\n",
      "  File \"C:\\Users\\ClevelandLab\\anaconda3\\envs\\napari\\lib\\site-packages\\vispy\\scene\\cameras\\arcball.py\", line 101, in _arcball\n",
      "    x, y = xy\n",
      "ValueError: too many values to unpack (expected 2)\n",
      "ERROR: Invoking <bound method Base3DRotationCamera.viewbox_mouse_event of <ArcballCamera at 0x27a3c4c8040>> for SceneMouseEvent\n",
      "WARNING: Traceback (most recent call last):\n",
      "  File \"C:\\Users\\ClevelandLab\\anaconda3\\envs\\napari\\lib\\runpy.py\", line 197, in _run_module_as_main\n",
      "    return _run_code(code, main_globals, None,\n",
      "  File \"C:\\Users\\ClevelandLab\\anaconda3\\envs\\napari\\lib\\runpy.py\", line 87, in _run_code\n",
      "    exec(code, run_globals)\n",
      "  File \"C:\\Users\\ClevelandLab\\anaconda3\\envs\\napari\\lib\\site-packages\\ipykernel_launcher.py\", line 17, in <module>\n",
      "    app.launch_new_instance()\n",
      "  File \"C:\\Users\\ClevelandLab\\anaconda3\\envs\\napari\\lib\\site-packages\\traitlets\\config\\application.py\", line 1043, in launch_instance\n",
      "    app.start()\n",
      "  File \"C:\\Users\\ClevelandLab\\anaconda3\\envs\\napari\\lib\\site-packages\\ipykernel\\kernelapp.py\", line 725, in start\n",
      "    self.io_loop.start()\n",
      "  File \"C:\\Users\\ClevelandLab\\anaconda3\\envs\\napari\\lib\\site-packages\\tornado\\platform\\asyncio.py\", line 195, in start\n",
      "    self.asyncio_loop.run_forever()\n",
      "  File \"C:\\Users\\ClevelandLab\\anaconda3\\envs\\napari\\lib\\asyncio\\base_events.py\", line 601, in run_forever\n",
      "    self._run_once()\n",
      "  File \"C:\\Users\\ClevelandLab\\anaconda3\\envs\\napari\\lib\\asyncio\\base_events.py\", line 1905, in _run_once\n",
      "    handle._run()\n",
      "  File \"C:\\Users\\ClevelandLab\\anaconda3\\envs\\napari\\lib\\asyncio\\events.py\", line 80, in _run\n",
      "    self._context.run(self._callback, *self._args)\n",
      "  File \"C:\\Users\\ClevelandLab\\anaconda3\\envs\\napari\\lib\\site-packages\\tornado\\ioloop.py\", line 738, in _run_callback\n",
      "    ret = callback()\n",
      "  File \"C:\\Users\\ClevelandLab\\anaconda3\\envs\\napari\\lib\\site-packages\\ipykernel\\kernelbase.py\", line 458, in advance_eventloop\n",
      "    eventloop(self)\n",
      "  File \"C:\\Users\\ClevelandLab\\anaconda3\\envs\\napari\\lib\\site-packages\\ipykernel\\eventloops.py\", line 128, in loop_qt\n",
      "    el.exec() if hasattr(el, 'exec') else el.exec_()\n",
      "  File \"C:\\Users\\ClevelandLab\\anaconda3\\envs\\napari\\lib\\site-packages\\vispy\\app\\backends\\_qt.py\", line 567, in event\n",
      "    out = super(QtBaseCanvasBackend, self).event(ev)\n",
      "  File \"C:\\Users\\ClevelandLab\\anaconda3\\envs\\napari\\lib\\site-packages\\vispy\\app\\backends\\_qt.py\", line 532, in mouseMoveEvent\n",
      "    self._vispy_mouse_move(\n",
      "  File \"C:\\Users\\ClevelandLab\\anaconda3\\envs\\napari\\lib\\site-packages\\vispy\\app\\base.py\", line 216, in _vispy_mouse_move\n",
      "    ev = self._vispy_canvas.events.mouse_move(**kwargs)\n",
      "  File \"C:\\Users\\ClevelandLab\\anaconda3\\envs\\napari\\lib\\site-packages\\vispy\\util\\event.py\", line 453, in __call__\n",
      "    self._invoke_callback(cb, event)\n",
      "  File \"C:\\Users\\ClevelandLab\\anaconda3\\envs\\napari\\lib\\site-packages\\vispy\\util\\event.py\", line 469, in _invoke_callback\n",
      "    cb(event)\n",
      "  File \"C:\\Users\\ClevelandLab\\anaconda3\\envs\\napari\\lib\\site-packages\\napari\\_vispy\\canvas.py\", line 96, in _process_mouse_event\n",
      "    super()._process_mouse_event(event)\n",
      "  File \"C:\\Users\\ClevelandLab\\anaconda3\\envs\\napari\\lib\\site-packages\\vispy\\scene\\canvas.py\", line 369, in _process_mouse_event\n",
      "    getattr(picked.events, event.type)(scene_event)\n",
      "  File \"C:\\Users\\ClevelandLab\\anaconda3\\envs\\napari\\lib\\site-packages\\vispy\\util\\event.py\", line 453, in __call__\n",
      "    self._invoke_callback(cb, event)\n",
      "  File \"C:\\Users\\ClevelandLab\\anaconda3\\envs\\napari\\lib\\site-packages\\vispy\\util\\event.py\", line 471, in _invoke_callback\n",
      "    _handle_exception(self.ignore_callback_errors,\n",
      "  << caught exception here: >>\n",
      "  File \"C:\\Users\\ClevelandLab\\anaconda3\\envs\\napari\\lib\\site-packages\\vispy\\util\\event.py\", line 469, in _invoke_callback\n",
      "    cb(event)\n",
      "  File \"C:\\Users\\ClevelandLab\\anaconda3\\envs\\napari\\lib\\site-packages\\vispy\\scene\\cameras\\perspective.py\", line 227, in viewbox_mouse_event\n",
      "    self._update_rotation(event)\n",
      "  File \"C:\\Users\\ClevelandLab\\anaconda3\\envs\\napari\\lib\\site-packages\\vispy\\scene\\cameras\\arcball.py\", line 65, in _update_rotation\n",
      "    Quaternion(*_arcball(self._event_value, wh)) *\n",
      "  File \"C:\\Users\\ClevelandLab\\anaconda3\\envs\\napari\\lib\\site-packages\\vispy\\scene\\cameras\\arcball.py\", line 101, in _arcball\n",
      "    x, y = xy\n",
      "ValueError: too many values to unpack (expected 2)\n",
      "ERROR: Invoking <bound method Base3DRotationCamera.viewbox_mouse_event of <ArcballCamera at 0x27a3c4c8040>> for SceneMouseEvent\n",
      "WARNING: Traceback (most recent call last):\n",
      "  File \"C:\\Users\\ClevelandLab\\anaconda3\\envs\\napari\\lib\\runpy.py\", line 197, in _run_module_as_main\n",
      "    return _run_code(code, main_globals, None,\n",
      "  File \"C:\\Users\\ClevelandLab\\anaconda3\\envs\\napari\\lib\\runpy.py\", line 87, in _run_code\n",
      "    exec(code, run_globals)\n",
      "  File \"C:\\Users\\ClevelandLab\\anaconda3\\envs\\napari\\lib\\site-packages\\ipykernel_launcher.py\", line 17, in <module>\n",
      "    app.launch_new_instance()\n",
      "  File \"C:\\Users\\ClevelandLab\\anaconda3\\envs\\napari\\lib\\site-packages\\traitlets\\config\\application.py\", line 1043, in launch_instance\n",
      "    app.start()\n",
      "  File \"C:\\Users\\ClevelandLab\\anaconda3\\envs\\napari\\lib\\site-packages\\ipykernel\\kernelapp.py\", line 725, in start\n",
      "    self.io_loop.start()\n",
      "  File \"C:\\Users\\ClevelandLab\\anaconda3\\envs\\napari\\lib\\site-packages\\tornado\\platform\\asyncio.py\", line 195, in start\n",
      "    self.asyncio_loop.run_forever()\n",
      "  File \"C:\\Users\\ClevelandLab\\anaconda3\\envs\\napari\\lib\\asyncio\\base_events.py\", line 601, in run_forever\n",
      "    self._run_once()\n",
      "  File \"C:\\Users\\ClevelandLab\\anaconda3\\envs\\napari\\lib\\asyncio\\base_events.py\", line 1905, in _run_once\n",
      "    handle._run()\n",
      "  File \"C:\\Users\\ClevelandLab\\anaconda3\\envs\\napari\\lib\\asyncio\\events.py\", line 80, in _run\n",
      "    self._context.run(self._callback, *self._args)\n",
      "  File \"C:\\Users\\ClevelandLab\\anaconda3\\envs\\napari\\lib\\site-packages\\tornado\\ioloop.py\", line 738, in _run_callback\n",
      "    ret = callback()\n",
      "  File \"C:\\Users\\ClevelandLab\\anaconda3\\envs\\napari\\lib\\site-packages\\ipykernel\\kernelbase.py\", line 458, in advance_eventloop\n",
      "    eventloop(self)\n",
      "  File \"C:\\Users\\ClevelandLab\\anaconda3\\envs\\napari\\lib\\site-packages\\ipykernel\\eventloops.py\", line 128, in loop_qt\n",
      "    el.exec() if hasattr(el, 'exec') else el.exec_()\n",
      "  File \"C:\\Users\\ClevelandLab\\anaconda3\\envs\\napari\\lib\\site-packages\\vispy\\app\\backends\\_qt.py\", line 567, in event\n",
      "    out = super(QtBaseCanvasBackend, self).event(ev)\n",
      "  File \"C:\\Users\\ClevelandLab\\anaconda3\\envs\\napari\\lib\\site-packages\\vispy\\app\\backends\\_qt.py\", line 532, in mouseMoveEvent\n",
      "    self._vispy_mouse_move(\n",
      "  File \"C:\\Users\\ClevelandLab\\anaconda3\\envs\\napari\\lib\\site-packages\\vispy\\app\\base.py\", line 216, in _vispy_mouse_move\n",
      "    ev = self._vispy_canvas.events.mouse_move(**kwargs)\n",
      "  File \"C:\\Users\\ClevelandLab\\anaconda3\\envs\\napari\\lib\\site-packages\\vispy\\util\\event.py\", line 453, in __call__\n",
      "    self._invoke_callback(cb, event)\n",
      "  File \"C:\\Users\\ClevelandLab\\anaconda3\\envs\\napari\\lib\\site-packages\\vispy\\util\\event.py\", line 469, in _invoke_callback\n",
      "    cb(event)\n",
      "  File \"C:\\Users\\ClevelandLab\\anaconda3\\envs\\napari\\lib\\site-packages\\napari\\_vispy\\canvas.py\", line 96, in _process_mouse_event\n",
      "    super()._process_mouse_event(event)\n",
      "  File \"C:\\Users\\ClevelandLab\\anaconda3\\envs\\napari\\lib\\site-packages\\vispy\\scene\\canvas.py\", line 369, in _process_mouse_event\n",
      "    getattr(picked.events, event.type)(scene_event)\n",
      "  File \"C:\\Users\\ClevelandLab\\anaconda3\\envs\\napari\\lib\\site-packages\\vispy\\util\\event.py\", line 453, in __call__\n",
      "    self._invoke_callback(cb, event)\n",
      "  File \"C:\\Users\\ClevelandLab\\anaconda3\\envs\\napari\\lib\\site-packages\\vispy\\util\\event.py\", line 471, in _invoke_callback\n",
      "    _handle_exception(self.ignore_callback_errors,\n",
      "  << caught exception here: >>\n",
      "  File \"C:\\Users\\ClevelandLab\\anaconda3\\envs\\napari\\lib\\site-packages\\vispy\\util\\event.py\", line 469, in _invoke_callback\n",
      "    cb(event)\n",
      "  File \"C:\\Users\\ClevelandLab\\anaconda3\\envs\\napari\\lib\\site-packages\\vispy\\scene\\cameras\\perspective.py\", line 227, in viewbox_mouse_event\n",
      "    self._update_rotation(event)\n",
      "  File \"C:\\Users\\ClevelandLab\\anaconda3\\envs\\napari\\lib\\site-packages\\vispy\\scene\\cameras\\arcball.py\", line 65, in _update_rotation\n",
      "    Quaternion(*_arcball(self._event_value, wh)) *\n",
      "  File \"C:\\Users\\ClevelandLab\\anaconda3\\envs\\napari\\lib\\site-packages\\vispy\\scene\\cameras\\arcball.py\", line 101, in _arcball\n",
      "    x, y = xy\n",
      "ValueError: too many values to unpack (expected 2)\n",
      "ERROR: Invoking <bound method Base3DRotationCamera.viewbox_mouse_event of <ArcballCamera at 0x27a3c4c8040>> for SceneMouseEvent\n",
      "WARNING: Traceback (most recent call last):\n",
      "  File \"C:\\Users\\ClevelandLab\\anaconda3\\envs\\napari\\lib\\runpy.py\", line 197, in _run_module_as_main\n",
      "    return _run_code(code, main_globals, None,\n",
      "  File \"C:\\Users\\ClevelandLab\\anaconda3\\envs\\napari\\lib\\runpy.py\", line 87, in _run_code\n",
      "    exec(code, run_globals)\n",
      "  File \"C:\\Users\\ClevelandLab\\anaconda3\\envs\\napari\\lib\\site-packages\\ipykernel_launcher.py\", line 17, in <module>\n",
      "    app.launch_new_instance()\n",
      "  File \"C:\\Users\\ClevelandLab\\anaconda3\\envs\\napari\\lib\\site-packages\\traitlets\\config\\application.py\", line 1043, in launch_instance\n",
      "    app.start()\n",
      "  File \"C:\\Users\\ClevelandLab\\anaconda3\\envs\\napari\\lib\\site-packages\\ipykernel\\kernelapp.py\", line 725, in start\n",
      "    self.io_loop.start()\n",
      "  File \"C:\\Users\\ClevelandLab\\anaconda3\\envs\\napari\\lib\\site-packages\\tornado\\platform\\asyncio.py\", line 195, in start\n",
      "    self.asyncio_loop.run_forever()\n",
      "  File \"C:\\Users\\ClevelandLab\\anaconda3\\envs\\napari\\lib\\asyncio\\base_events.py\", line 601, in run_forever\n",
      "    self._run_once()\n",
      "  File \"C:\\Users\\ClevelandLab\\anaconda3\\envs\\napari\\lib\\asyncio\\base_events.py\", line 1905, in _run_once\n",
      "    handle._run()\n",
      "  File \"C:\\Users\\ClevelandLab\\anaconda3\\envs\\napari\\lib\\asyncio\\events.py\", line 80, in _run\n",
      "    self._context.run(self._callback, *self._args)\n",
      "  File \"C:\\Users\\ClevelandLab\\anaconda3\\envs\\napari\\lib\\site-packages\\tornado\\ioloop.py\", line 738, in _run_callback\n",
      "    ret = callback()\n",
      "  File \"C:\\Users\\ClevelandLab\\anaconda3\\envs\\napari\\lib\\site-packages\\ipykernel\\kernelbase.py\", line 458, in advance_eventloop\n",
      "    eventloop(self)\n",
      "  File \"C:\\Users\\ClevelandLab\\anaconda3\\envs\\napari\\lib\\site-packages\\ipykernel\\eventloops.py\", line 128, in loop_qt\n",
      "    el.exec() if hasattr(el, 'exec') else el.exec_()\n",
      "  File \"C:\\Users\\ClevelandLab\\anaconda3\\envs\\napari\\lib\\site-packages\\vispy\\app\\backends\\_qt.py\", line 567, in event\n",
      "    out = super(QtBaseCanvasBackend, self).event(ev)\n",
      "  File \"C:\\Users\\ClevelandLab\\anaconda3\\envs\\napari\\lib\\site-packages\\vispy\\app\\backends\\_qt.py\", line 532, in mouseMoveEvent\n",
      "    self._vispy_mouse_move(\n",
      "  File \"C:\\Users\\ClevelandLab\\anaconda3\\envs\\napari\\lib\\site-packages\\vispy\\app\\base.py\", line 216, in _vispy_mouse_move\n",
      "    ev = self._vispy_canvas.events.mouse_move(**kwargs)\n",
      "  File \"C:\\Users\\ClevelandLab\\anaconda3\\envs\\napari\\lib\\site-packages\\vispy\\util\\event.py\", line 453, in __call__\n",
      "    self._invoke_callback(cb, event)\n",
      "  File \"C:\\Users\\ClevelandLab\\anaconda3\\envs\\napari\\lib\\site-packages\\vispy\\util\\event.py\", line 469, in _invoke_callback\n",
      "    cb(event)\n",
      "  File \"C:\\Users\\ClevelandLab\\anaconda3\\envs\\napari\\lib\\site-packages\\napari\\_vispy\\canvas.py\", line 96, in _process_mouse_event\n",
      "    super()._process_mouse_event(event)\n",
      "  File \"C:\\Users\\ClevelandLab\\anaconda3\\envs\\napari\\lib\\site-packages\\vispy\\scene\\canvas.py\", line 369, in _process_mouse_event\n",
      "    getattr(picked.events, event.type)(scene_event)\n",
      "  File \"C:\\Users\\ClevelandLab\\anaconda3\\envs\\napari\\lib\\site-packages\\vispy\\util\\event.py\", line 453, in __call__\n",
      "    self._invoke_callback(cb, event)\n",
      "  File \"C:\\Users\\ClevelandLab\\anaconda3\\envs\\napari\\lib\\site-packages\\vispy\\util\\event.py\", line 471, in _invoke_callback\n",
      "    _handle_exception(self.ignore_callback_errors,\n",
      "  << caught exception here: >>\n",
      "  File \"C:\\Users\\ClevelandLab\\anaconda3\\envs\\napari\\lib\\site-packages\\vispy\\util\\event.py\", line 469, in _invoke_callback\n",
      "    cb(event)\n",
      "  File \"C:\\Users\\ClevelandLab\\anaconda3\\envs\\napari\\lib\\site-packages\\vispy\\scene\\cameras\\perspective.py\", line 227, in viewbox_mouse_event\n",
      "    self._update_rotation(event)\n",
      "  File \"C:\\Users\\ClevelandLab\\anaconda3\\envs\\napari\\lib\\site-packages\\vispy\\scene\\cameras\\arcball.py\", line 65, in _update_rotation\n",
      "    Quaternion(*_arcball(self._event_value, wh)) *\n",
      "  File \"C:\\Users\\ClevelandLab\\anaconda3\\envs\\napari\\lib\\site-packages\\vispy\\scene\\cameras\\arcball.py\", line 101, in _arcball\n",
      "    x, y = xy\n",
      "ValueError: too many values to unpack (expected 2)\n",
      "ERROR: Invoking <bound method Base3DRotationCamera.viewbox_mouse_event of <ArcballCamera at 0x27a3c4c8040>> for SceneMouseEvent\n",
      "WARNING: Traceback (most recent call last):\n",
      "  File \"C:\\Users\\ClevelandLab\\anaconda3\\envs\\napari\\lib\\runpy.py\", line 197, in _run_module_as_main\n",
      "    return _run_code(code, main_globals, None,\n",
      "  File \"C:\\Users\\ClevelandLab\\anaconda3\\envs\\napari\\lib\\runpy.py\", line 87, in _run_code\n",
      "    exec(code, run_globals)\n",
      "  File \"C:\\Users\\ClevelandLab\\anaconda3\\envs\\napari\\lib\\site-packages\\ipykernel_launcher.py\", line 17, in <module>\n",
      "    app.launch_new_instance()\n",
      "  File \"C:\\Users\\ClevelandLab\\anaconda3\\envs\\napari\\lib\\site-packages\\traitlets\\config\\application.py\", line 1043, in launch_instance\n",
      "    app.start()\n",
      "  File \"C:\\Users\\ClevelandLab\\anaconda3\\envs\\napari\\lib\\site-packages\\ipykernel\\kernelapp.py\", line 725, in start\n",
      "    self.io_loop.start()\n",
      "  File \"C:\\Users\\ClevelandLab\\anaconda3\\envs\\napari\\lib\\site-packages\\tornado\\platform\\asyncio.py\", line 195, in start\n",
      "    self.asyncio_loop.run_forever()\n",
      "  File \"C:\\Users\\ClevelandLab\\anaconda3\\envs\\napari\\lib\\asyncio\\base_events.py\", line 601, in run_forever\n",
      "    self._run_once()\n",
      "  File \"C:\\Users\\ClevelandLab\\anaconda3\\envs\\napari\\lib\\asyncio\\base_events.py\", line 1905, in _run_once\n",
      "    handle._run()\n",
      "  File \"C:\\Users\\ClevelandLab\\anaconda3\\envs\\napari\\lib\\asyncio\\events.py\", line 80, in _run\n",
      "    self._context.run(self._callback, *self._args)\n",
      "  File \"C:\\Users\\ClevelandLab\\anaconda3\\envs\\napari\\lib\\site-packages\\tornado\\ioloop.py\", line 738, in _run_callback\n",
      "    ret = callback()\n",
      "  File \"C:\\Users\\ClevelandLab\\anaconda3\\envs\\napari\\lib\\site-packages\\ipykernel\\kernelbase.py\", line 458, in advance_eventloop\n",
      "    eventloop(self)\n",
      "  File \"C:\\Users\\ClevelandLab\\anaconda3\\envs\\napari\\lib\\site-packages\\ipykernel\\eventloops.py\", line 128, in loop_qt\n",
      "    el.exec() if hasattr(el, 'exec') else el.exec_()\n",
      "  File \"C:\\Users\\ClevelandLab\\anaconda3\\envs\\napari\\lib\\site-packages\\vispy\\app\\backends\\_qt.py\", line 567, in event\n",
      "    out = super(QtBaseCanvasBackend, self).event(ev)\n",
      "  File \"C:\\Users\\ClevelandLab\\anaconda3\\envs\\napari\\lib\\site-packages\\vispy\\app\\backends\\_qt.py\", line 532, in mouseMoveEvent\n",
      "    self._vispy_mouse_move(\n",
      "  File \"C:\\Users\\ClevelandLab\\anaconda3\\envs\\napari\\lib\\site-packages\\vispy\\app\\base.py\", line 216, in _vispy_mouse_move\n",
      "    ev = self._vispy_canvas.events.mouse_move(**kwargs)\n",
      "  File \"C:\\Users\\ClevelandLab\\anaconda3\\envs\\napari\\lib\\site-packages\\vispy\\util\\event.py\", line 453, in __call__\n",
      "    self._invoke_callback(cb, event)\n",
      "  File \"C:\\Users\\ClevelandLab\\anaconda3\\envs\\napari\\lib\\site-packages\\vispy\\util\\event.py\", line 469, in _invoke_callback\n",
      "    cb(event)\n",
      "  File \"C:\\Users\\ClevelandLab\\anaconda3\\envs\\napari\\lib\\site-packages\\napari\\_vispy\\canvas.py\", line 96, in _process_mouse_event\n",
      "    super()._process_mouse_event(event)\n",
      "  File \"C:\\Users\\ClevelandLab\\anaconda3\\envs\\napari\\lib\\site-packages\\vispy\\scene\\canvas.py\", line 369, in _process_mouse_event\n",
      "    getattr(picked.events, event.type)(scene_event)\n",
      "  File \"C:\\Users\\ClevelandLab\\anaconda3\\envs\\napari\\lib\\site-packages\\vispy\\util\\event.py\", line 453, in __call__\n",
      "    self._invoke_callback(cb, event)\n",
      "  File \"C:\\Users\\ClevelandLab\\anaconda3\\envs\\napari\\lib\\site-packages\\vispy\\util\\event.py\", line 471, in _invoke_callback\n",
      "    _handle_exception(self.ignore_callback_errors,\n",
      "  << caught exception here: >>\n",
      "  File \"C:\\Users\\ClevelandLab\\anaconda3\\envs\\napari\\lib\\site-packages\\vispy\\util\\event.py\", line 469, in _invoke_callback\n",
      "    cb(event)\n",
      "  File \"C:\\Users\\ClevelandLab\\anaconda3\\envs\\napari\\lib\\site-packages\\vispy\\scene\\cameras\\perspective.py\", line 227, in viewbox_mouse_event\n",
      "    self._update_rotation(event)\n",
      "  File \"C:\\Users\\ClevelandLab\\anaconda3\\envs\\napari\\lib\\site-packages\\vispy\\scene\\cameras\\arcball.py\", line 65, in _update_rotation\n",
      "    Quaternion(*_arcball(self._event_value, wh)) *\n",
      "  File \"C:\\Users\\ClevelandLab\\anaconda3\\envs\\napari\\lib\\site-packages\\vispy\\scene\\cameras\\arcball.py\", line 101, in _arcball\n",
      "    x, y = xy\n",
      "ValueError: too many values to unpack (expected 2)\n",
      "ERROR: Invoking <bound method Base3DRotationCamera.viewbox_mouse_event of <ArcballCamera at 0x27a3c4c8040>> for SceneMouseEvent\n",
      "WARNING: Traceback (most recent call last):\n",
      "  File \"C:\\Users\\ClevelandLab\\anaconda3\\envs\\napari\\lib\\runpy.py\", line 197, in _run_module_as_main\n",
      "    return _run_code(code, main_globals, None,\n",
      "  File \"C:\\Users\\ClevelandLab\\anaconda3\\envs\\napari\\lib\\runpy.py\", line 87, in _run_code\n",
      "    exec(code, run_globals)\n",
      "  File \"C:\\Users\\ClevelandLab\\anaconda3\\envs\\napari\\lib\\site-packages\\ipykernel_launcher.py\", line 17, in <module>\n",
      "    app.launch_new_instance()\n",
      "  File \"C:\\Users\\ClevelandLab\\anaconda3\\envs\\napari\\lib\\site-packages\\traitlets\\config\\application.py\", line 1043, in launch_instance\n",
      "    app.start()\n",
      "  File \"C:\\Users\\ClevelandLab\\anaconda3\\envs\\napari\\lib\\site-packages\\ipykernel\\kernelapp.py\", line 725, in start\n",
      "    self.io_loop.start()\n",
      "  File \"C:\\Users\\ClevelandLab\\anaconda3\\envs\\napari\\lib\\site-packages\\tornado\\platform\\asyncio.py\", line 195, in start\n",
      "    self.asyncio_loop.run_forever()\n",
      "  File \"C:\\Users\\ClevelandLab\\anaconda3\\envs\\napari\\lib\\asyncio\\base_events.py\", line 601, in run_forever\n",
      "    self._run_once()\n",
      "  File \"C:\\Users\\ClevelandLab\\anaconda3\\envs\\napari\\lib\\asyncio\\base_events.py\", line 1905, in _run_once\n",
      "    handle._run()\n",
      "  File \"C:\\Users\\ClevelandLab\\anaconda3\\envs\\napari\\lib\\asyncio\\events.py\", line 80, in _run\n",
      "    self._context.run(self._callback, *self._args)\n",
      "  File \"C:\\Users\\ClevelandLab\\anaconda3\\envs\\napari\\lib\\site-packages\\tornado\\ioloop.py\", line 738, in _run_callback\n",
      "    ret = callback()\n",
      "  File \"C:\\Users\\ClevelandLab\\anaconda3\\envs\\napari\\lib\\site-packages\\ipykernel\\kernelbase.py\", line 458, in advance_eventloop\n",
      "    eventloop(self)\n",
      "  File \"C:\\Users\\ClevelandLab\\anaconda3\\envs\\napari\\lib\\site-packages\\ipykernel\\eventloops.py\", line 128, in loop_qt\n",
      "    el.exec() if hasattr(el, 'exec') else el.exec_()\n",
      "  File \"C:\\Users\\ClevelandLab\\anaconda3\\envs\\napari\\lib\\site-packages\\vispy\\app\\backends\\_qt.py\", line 567, in event\n",
      "    out = super(QtBaseCanvasBackend, self).event(ev)\n",
      "  File \"C:\\Users\\ClevelandLab\\anaconda3\\envs\\napari\\lib\\site-packages\\vispy\\app\\backends\\_qt.py\", line 532, in mouseMoveEvent\n",
      "    self._vispy_mouse_move(\n",
      "  File \"C:\\Users\\ClevelandLab\\anaconda3\\envs\\napari\\lib\\site-packages\\vispy\\app\\base.py\", line 216, in _vispy_mouse_move\n",
      "    ev = self._vispy_canvas.events.mouse_move(**kwargs)\n",
      "  File \"C:\\Users\\ClevelandLab\\anaconda3\\envs\\napari\\lib\\site-packages\\vispy\\util\\event.py\", line 453, in __call__\n",
      "    self._invoke_callback(cb, event)\n",
      "  File \"C:\\Users\\ClevelandLab\\anaconda3\\envs\\napari\\lib\\site-packages\\vispy\\util\\event.py\", line 469, in _invoke_callback\n",
      "    cb(event)\n",
      "  File \"C:\\Users\\ClevelandLab\\anaconda3\\envs\\napari\\lib\\site-packages\\napari\\_vispy\\canvas.py\", line 96, in _process_mouse_event\n",
      "    super()._process_mouse_event(event)\n",
      "  File \"C:\\Users\\ClevelandLab\\anaconda3\\envs\\napari\\lib\\site-packages\\vispy\\scene\\canvas.py\", line 369, in _process_mouse_event\n",
      "    getattr(picked.events, event.type)(scene_event)\n",
      "  File \"C:\\Users\\ClevelandLab\\anaconda3\\envs\\napari\\lib\\site-packages\\vispy\\util\\event.py\", line 453, in __call__\n",
      "    self._invoke_callback(cb, event)\n",
      "  File \"C:\\Users\\ClevelandLab\\anaconda3\\envs\\napari\\lib\\site-packages\\vispy\\util\\event.py\", line 471, in _invoke_callback\n",
      "    _handle_exception(self.ignore_callback_errors,\n",
      "  << caught exception here: >>\n",
      "  File \"C:\\Users\\ClevelandLab\\anaconda3\\envs\\napari\\lib\\site-packages\\vispy\\util\\event.py\", line 469, in _invoke_callback\n",
      "    cb(event)\n",
      "  File \"C:\\Users\\ClevelandLab\\anaconda3\\envs\\napari\\lib\\site-packages\\vispy\\scene\\cameras\\perspective.py\", line 227, in viewbox_mouse_event\n",
      "    self._update_rotation(event)\n",
      "  File \"C:\\Users\\ClevelandLab\\anaconda3\\envs\\napari\\lib\\site-packages\\vispy\\scene\\cameras\\arcball.py\", line 65, in _update_rotation\n",
      "    Quaternion(*_arcball(self._event_value, wh)) *\n",
      "  File \"C:\\Users\\ClevelandLab\\anaconda3\\envs\\napari\\lib\\site-packages\\vispy\\scene\\cameras\\arcball.py\", line 101, in _arcball\n",
      "    x, y = xy\n",
      "ValueError: too many values to unpack (expected 2)\n",
      "ERROR: Invoking <bound method Base3DRotationCamera.viewbox_mouse_event of <ArcballCamera at 0x27a3c4c8040>> for SceneMouseEvent\n",
      "WARNING: Traceback (most recent call last):\n",
      "  File \"C:\\Users\\ClevelandLab\\anaconda3\\envs\\napari\\lib\\runpy.py\", line 197, in _run_module_as_main\n",
      "    return _run_code(code, main_globals, None,\n",
      "  File \"C:\\Users\\ClevelandLab\\anaconda3\\envs\\napari\\lib\\runpy.py\", line 87, in _run_code\n",
      "    exec(code, run_globals)\n",
      "  File \"C:\\Users\\ClevelandLab\\anaconda3\\envs\\napari\\lib\\site-packages\\ipykernel_launcher.py\", line 17, in <module>\n",
      "    app.launch_new_instance()\n",
      "  File \"C:\\Users\\ClevelandLab\\anaconda3\\envs\\napari\\lib\\site-packages\\traitlets\\config\\application.py\", line 1043, in launch_instance\n",
      "    app.start()\n",
      "  File \"C:\\Users\\ClevelandLab\\anaconda3\\envs\\napari\\lib\\site-packages\\ipykernel\\kernelapp.py\", line 725, in start\n",
      "    self.io_loop.start()\n",
      "  File \"C:\\Users\\ClevelandLab\\anaconda3\\envs\\napari\\lib\\site-packages\\tornado\\platform\\asyncio.py\", line 195, in start\n",
      "    self.asyncio_loop.run_forever()\n",
      "  File \"C:\\Users\\ClevelandLab\\anaconda3\\envs\\napari\\lib\\asyncio\\base_events.py\", line 601, in run_forever\n",
      "    self._run_once()\n",
      "  File \"C:\\Users\\ClevelandLab\\anaconda3\\envs\\napari\\lib\\asyncio\\base_events.py\", line 1905, in _run_once\n",
      "    handle._run()\n",
      "  File \"C:\\Users\\ClevelandLab\\anaconda3\\envs\\napari\\lib\\asyncio\\events.py\", line 80, in _run\n",
      "    self._context.run(self._callback, *self._args)\n",
      "  File \"C:\\Users\\ClevelandLab\\anaconda3\\envs\\napari\\lib\\site-packages\\tornado\\ioloop.py\", line 738, in _run_callback\n",
      "    ret = callback()\n",
      "  File \"C:\\Users\\ClevelandLab\\anaconda3\\envs\\napari\\lib\\site-packages\\ipykernel\\kernelbase.py\", line 458, in advance_eventloop\n",
      "    eventloop(self)\n",
      "  File \"C:\\Users\\ClevelandLab\\anaconda3\\envs\\napari\\lib\\site-packages\\ipykernel\\eventloops.py\", line 128, in loop_qt\n",
      "    el.exec() if hasattr(el, 'exec') else el.exec_()\n",
      "  File \"C:\\Users\\ClevelandLab\\anaconda3\\envs\\napari\\lib\\site-packages\\vispy\\app\\backends\\_qt.py\", line 567, in event\n",
      "    out = super(QtBaseCanvasBackend, self).event(ev)\n",
      "  File \"C:\\Users\\ClevelandLab\\anaconda3\\envs\\napari\\lib\\site-packages\\vispy\\app\\backends\\_qt.py\", line 532, in mouseMoveEvent\n",
      "    self._vispy_mouse_move(\n",
      "  File \"C:\\Users\\ClevelandLab\\anaconda3\\envs\\napari\\lib\\site-packages\\vispy\\app\\base.py\", line 216, in _vispy_mouse_move\n",
      "    ev = self._vispy_canvas.events.mouse_move(**kwargs)\n",
      "  File \"C:\\Users\\ClevelandLab\\anaconda3\\envs\\napari\\lib\\site-packages\\vispy\\util\\event.py\", line 453, in __call__\n",
      "    self._invoke_callback(cb, event)\n",
      "  File \"C:\\Users\\ClevelandLab\\anaconda3\\envs\\napari\\lib\\site-packages\\vispy\\util\\event.py\", line 469, in _invoke_callback\n",
      "    cb(event)\n",
      "  File \"C:\\Users\\ClevelandLab\\anaconda3\\envs\\napari\\lib\\site-packages\\napari\\_vispy\\canvas.py\", line 96, in _process_mouse_event\n",
      "    super()._process_mouse_event(event)\n",
      "  File \"C:\\Users\\ClevelandLab\\anaconda3\\envs\\napari\\lib\\site-packages\\vispy\\scene\\canvas.py\", line 369, in _process_mouse_event\n",
      "    getattr(picked.events, event.type)(scene_event)\n",
      "  File \"C:\\Users\\ClevelandLab\\anaconda3\\envs\\napari\\lib\\site-packages\\vispy\\util\\event.py\", line 453, in __call__\n",
      "    self._invoke_callback(cb, event)\n",
      "  File \"C:\\Users\\ClevelandLab\\anaconda3\\envs\\napari\\lib\\site-packages\\vispy\\util\\event.py\", line 471, in _invoke_callback\n",
      "    _handle_exception(self.ignore_callback_errors,\n",
      "  << caught exception here: >>\n",
      "  File \"C:\\Users\\ClevelandLab\\anaconda3\\envs\\napari\\lib\\site-packages\\vispy\\util\\event.py\", line 469, in _invoke_callback\n",
      "    cb(event)\n",
      "  File \"C:\\Users\\ClevelandLab\\anaconda3\\envs\\napari\\lib\\site-packages\\vispy\\scene\\cameras\\perspective.py\", line 227, in viewbox_mouse_event\n",
      "    self._update_rotation(event)\n",
      "  File \"C:\\Users\\ClevelandLab\\anaconda3\\envs\\napari\\lib\\site-packages\\vispy\\scene\\cameras\\arcball.py\", line 65, in _update_rotation\n",
      "    Quaternion(*_arcball(self._event_value, wh)) *\n",
      "  File \"C:\\Users\\ClevelandLab\\anaconda3\\envs\\napari\\lib\\site-packages\\vispy\\scene\\cameras\\arcball.py\", line 101, in _arcball\n",
      "    x, y = xy\n",
      "ValueError: too many values to unpack (expected 2)\n",
      "ERROR: Invoking <bound method Base3DRotationCamera.viewbox_mouse_event of <ArcballCamera at 0x27a3c4c8040>> for SceneMouseEvent\n"
     ]
    }
   ],
   "source": [
    "vt = napari.Viewer()\n",
    "vt.add_image(im_lam_,translate=txyz,blending='additive',colormap='green')\n",
    "vt.add_image(im_lam_dapi_,translate=txyz,blending='additive',colormap='bop blue')\n",
    "for im,tzxy_ in zip(ims,drifts):\n",
    "    vt.add_image(im,translate=tzxy_,blending='additive',colormap='red',contrast_limits=[0,20000],visible=False)"
   ]
  },
  {
   "cell_type": "code",
   "execution_count": 54,
   "id": "38cc516a-53b3-4c6a-8148-5313c8911813",
   "metadata": {},
   "outputs": [
    {
     "data": {
      "text/plain": [
       "<Image layer 'im_dapi' at 0x27518dfa220>"
      ]
     },
     "execution_count": 54,
     "metadata": {},
     "output_type": "execute_result"
    }
   ],
   "source": [
    "vt = napari.view_image(im_lam_dapi_,translate=txyz)\n",
    "vt.add_image(im_dapi)"
   ]
  },
  {
   "cell_type": "code",
   "execution_count": 22,
   "id": "696e5bdf-db0b-4a35-a2a7-1700ba1d3cf5",
   "metadata": {},
   "outputs": [
    {
     "data": {
      "text/plain": [
       "<Image layer 'im_lam' at 0x2749d765610>"
      ]
     },
     "execution_count": 22,
     "metadata": {},
     "output_type": "execute_result"
    }
   ],
   "source": [
    "import napari\n",
    "v = napari\n",
    "v = napari.view_image(np.array(ims),contrast_limits = [0,22000],blending='additive',colormap='red')\n",
    "v.add_image(im_lam,blending='additive')"
   ]
  },
  {
   "cell_type": "code",
   "execution_count": 47,
   "id": "cfec2d3c-2298-4b8a-983e-c803a4571381",
   "metadata": {},
   "outputs": [
    {
     "data": {
      "text/plain": [
       "(30, 2800, 2800)"
      ]
     },
     "execution_count": 47,
     "metadata": {},
     "output_type": "execute_result"
    }
   ],
   "source": [
    "im_lam_dapi.shape"
   ]
  },
  {
   "cell_type": "code",
   "execution_count": null,
   "id": "3589c2e9-2d74-4fef-af7a-411898fdb1ba",
   "metadata": {},
   "outputs": [
    {
     "name": "stdout",
     "output_type": "stream",
     "text": [
      "Computing fitting on: Conv_zscan__110.zarr\n",
      "25 ['\\\\\\\\192.168.0.127\\\\Raw_data\\\\Van\\\\6_12_2023__VanReview_DropletHeartMI_S2\\\\H1_Q1-2-3__set2', '\\\\\\\\192.168.0.127\\\\Raw_data\\\\Van\\\\6_12_2023__VanReview_DropletHeartMI_S2\\\\H1_MER__set2', '\\\\\\\\192.168.0.127\\\\Raw_data\\\\Van\\\\6_12_2023__VanReview_DropletHeartMI_S2\\\\H2_Q4-5-6__set2', '\\\\\\\\192.168.0.127\\\\Raw_data\\\\Van\\\\6_12_2023__VanReview_DropletHeartMI_S2\\\\H2_MER__set2', '\\\\\\\\192.168.0.127\\\\Raw_data\\\\Van\\\\6_12_2023__VanReview_DropletHeartMI_S2\\\\H3_Q10-11-12__set2', '\\\\\\\\192.168.0.127\\\\Raw_data\\\\Van\\\\6_12_2023__VanReview_DropletHeartMI_S2\\\\H3_MER__set2', '\\\\\\\\192.168.0.127\\\\Raw_data\\\\Van\\\\6_12_2023__VanReview_DropletHeartMI_S2\\\\H4_Q13-14-15__set2', '\\\\\\\\192.168.0.127\\\\Raw_data\\\\Van\\\\6_12_2023__VanReview_DropletHeartMI_S2\\\\H4_MER__set2', '\\\\\\\\192.168.0.127\\\\Raw_data\\\\Van\\\\6_12_2023__VanReview_DropletHeartMI_S2\\\\H5_MER__set2', '\\\\\\\\192.168.0.127\\\\Raw_data\\\\Van\\\\6_12_2023__VanReview_DropletHeartMI_S2\\\\H5_Q16-17-18__set2', '\\\\\\\\192.168.0.127\\\\Raw_data\\\\Van\\\\6_12_2023__VanReview_DropletHeartMI_S2\\\\H6_MER__set2', '\\\\\\\\192.168.0.127\\\\Raw_data\\\\Van\\\\6_12_2023__VanReview_DropletHeartMI_S2\\\\H6_Q19-20-21__set2', '\\\\\\\\192.168.0.127\\\\Raw_data\\\\Van\\\\6_12_2023__VanReview_DropletHeartMI_S2\\\\H7_Q22-23-24__set2', '\\\\\\\\192.168.0.127\\\\Raw_data\\\\Van\\\\6_12_2023__VanReview_DropletHeartMI_S2\\\\H7_MER__set2', '\\\\\\\\192.168.0.127\\\\Raw_data\\\\Van\\\\6_12_2023__VanReview_DropletHeartMI_S2\\\\H8_Q25-26-27__set2', '\\\\\\\\192.168.0.127\\\\Raw_data\\\\Van\\\\6_12_2023__VanReview_DropletHeartMI_S2\\\\H8_MER__set2', '\\\\\\\\192.168.0.127\\\\Raw_data\\\\Van\\\\6_12_2023__VanReview_DropletHeartMI_S2\\\\H9_MER__set2', '\\\\\\\\192.168.0.127\\\\Raw_data\\\\Van\\\\6_12_2023__VanReview_DropletHeartMI_S2\\\\H9_Q28-29-30__set2', '\\\\\\\\192.168.0.127\\\\Raw_data\\\\Van\\\\6_12_2023__VanReview_DropletHeartMI_S2\\\\H10_MER__set2', '\\\\\\\\192.168.0.127\\\\Raw_data\\\\Van\\\\6_12_2023__VanReview_DropletHeartMI_S2\\\\H11_MER__set2', '\\\\\\\\192.168.0.127\\\\Raw_data\\\\Van\\\\6_12_2023__VanReview_DropletHeartMI_S2\\\\H12_MER__set2', '\\\\\\\\192.168.0.127\\\\Raw_data\\\\Van\\\\6_12_2023__VanReview_DropletHeartMI_S2\\\\H13_MER__set2', '\\\\\\\\192.168.0.127\\\\Raw_data\\\\Van\\\\6_12_2023__VanReview_DropletHeartMI_S2\\\\H14_MER__set2', '\\\\\\\\192.168.0.127\\\\Raw_data\\\\Van\\\\6_12_2023__VanReview_DropletHeartMI_S2\\\\H15_MER__set2', '\\\\\\\\192.168.0.127\\\\Raw_data\\\\Van\\\\6_12_2023__VanReview_DropletHeartMI_S2\\\\H16_MER__set2']\n"
     ]
    },
    {
     "name": "stderr",
     "output_type": "stream",
     "text": [
      "100%|█████████████████████████████████████████████████████████████████████████████████| 25/25 [00:00<00:00, 413.98it/s]\n"
     ]
    },
    {
     "name": "stdout",
     "output_type": "stream",
     "text": [
      "Computing drift on: Conv_zscan__110.zarr\n",
      "Not completed\n"
     ]
    },
    {
     "name": "stderr",
     "output_type": "stream",
     "text": [
      "100%|██████████████████████████████████████████████████████████████████████████████████| 25/25 [00:29<00:00,  1.17s/it]\n",
      "  0%|                                                                                            | 0/3 [00:00<?, ?it/s]"
     ]
    }
   ],
   "source": [
    "main_f(['_set2',110],try_mode=False)"
   ]
  },
  {
   "cell_type": "code",
   "execution_count": null,
   "id": "2e55c215-96ca-4110-af1e-710e93088c9e",
   "metadata": {},
   "outputs": [],
   "source": []
  }
 ],
 "metadata": {
  "kernelspec": {
   "display_name": "Python 3 (ipykernel)",
   "language": "python",
   "name": "python3"
  },
  "language_info": {
   "codemirror_mode": {
    "name": "ipython",
    "version": 3
   },
   "file_extension": ".py",
   "mimetype": "text/x-python",
   "name": "python",
   "nbconvert_exporter": "python",
   "pygments_lexer": "ipython3",
   "version": "3.9.16"
  }
 },
 "nbformat": 4,
 "nbformat_minor": 5
}
