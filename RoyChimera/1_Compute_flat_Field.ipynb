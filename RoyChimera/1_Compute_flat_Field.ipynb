{
 "cells": [
  {
   "cell_type": "code",
   "execution_count": 1,
   "id": "6b445623-a0f9-44ca-830a-92148fee5f26",
   "metadata": {},
   "outputs": [],
   "source": [
    "import sys\n",
    "sys.path.append(r'../')\n",
    "from ioMicro import *"
   ]
  },
  {
   "cell_type": "code",
   "execution_count": 2,
   "id": "a2d0636f-bf26-4c18-9ba2-8d3943272a90",
   "metadata": {},
   "outputs": [],
   "source": [
    "data_fld = r'W:\\RoyGoldman_11_08_2023\\H2_Malat1_MALAT1_set1'\n",
    "save_folder = os.path.dirname(data_fld)+os.sep+'MERFISH_Analysis'\n",
    "if not os.path.exists(save_folder): os.makedirs(save_folder)"
   ]
  },
  {
   "cell_type": "code",
   "execution_count": 3,
   "id": "399a9470-952f-4fb4-9cb8-26723860222e",
   "metadata": {},
   "outputs": [
    {
     "name": "stderr",
     "output_type": "stream",
     "text": [
      "100%|████████████████████████████████████████████████████████████████████████████████| 784/784 [05:52<00:00,  2.22it/s]\n",
      "100%|████████████████████████████████████████████████████████████████████████████████| 784/784 [05:36<00:00,  2.33it/s]\n",
      "100%|████████████████████████████████████████████████████████████████████████████████| 784/784 [05:31<00:00,  2.36it/s]\n",
      "100%|████████████████████████████████████████████████████████████████████████████████| 784/784 [05:37<00:00,  2.33it/s]\n"
     ]
    }
   ],
   "source": [
    "compute_flat_field_raw(data_fld=data_fld,\n",
    "    save_folder=save_folder,\n",
    "    ncols=4)"
   ]
  },
  {
   "cell_type": "code",
   "execution_count": null,
   "id": "566e9312-4c12-451e-9182-6f54db734014",
   "metadata": {},
   "outputs": [],
   "source": []
  }
 ],
 "metadata": {
  "kernelspec": {
   "display_name": "Python 3 (ipykernel)",
   "language": "python",
   "name": "python3"
  },
  "language_info": {
   "codemirror_mode": {
    "name": "ipython",
    "version": 3
   },
   "file_extension": ".py",
   "mimetype": "text/x-python",
   "name": "python",
   "nbconvert_exporter": "python",
   "pygments_lexer": "ipython3",
   "version": "3.9.16"
  }
 },
 "nbformat": 4,
 "nbformat_minor": 5
}
