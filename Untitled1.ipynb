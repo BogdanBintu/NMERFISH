{
 "cells": [
  {
   "cell_type": "code",
   "execution_count": 1,
   "id": "70b302fc-06e4-4f76-95e0-84bb87c41dd6",
   "metadata": {},
   "outputs": [],
   "source": [
    "from ioMicro import *"
   ]
  },
  {
   "cell_type": "markdown",
   "id": "3f604910-3537-4ad9-8ff2-e513c3b4463f",
   "metadata": {},
   "source": [
    "### Compute new drift"
   ]
  },
  {
   "cell_type": "code",
   "execution_count": 34,
   "id": "4da7e80e-91c7-46be-909a-c1f06c676fd3",
   "metadata": {
    "collapsed": true,
    "jupyter": {
     "outputs_hidden": true
    },
    "tags": []
   },
   "outputs": [
    {
     "name": "stderr",
     "output_type": "stream",
     "text": [
      "  0%|                                                                                           | 0/18 [00:00<?, ?it/s]"
     ]
    },
    {
     "name": "stdout",
     "output_type": "stream",
     "text": [
      "Loading: \\\\192.168.0.6\\bbfishjoy4\\CGBB_embryo_4_28_2023\\H5_MER_D16\\Conv_zscan__059.zarr\n",
      "Finding markers...\n"
     ]
    },
    {
     "name": "stderr",
     "output_type": "stream",
     "text": [
      "\n",
      "  0%|                                                                                            | 0/7 [00:00<?, ?it/s]\u001b[A\n",
      " 14%|████████████                                                                        | 1/7 [00:00<00:03,  1.68it/s]\u001b[A\n",
      " 71%|████████████████████████████████████████████████████████████                        | 5/7 [00:00<00:00,  7.50it/s]\u001b[A\n",
      "100%|████████████████████████████████████████████████████████████████████████████████████| 7/7 [00:01<00:00,  3.60it/s]\u001b[A\n",
      "\n",
      "  0%|                                                                                            | 0/7 [00:00<?, ?it/s]\u001b[A\n",
      " 14%|████████████                                                                        | 1/7 [00:00<00:02,  2.48it/s]\u001b[A\n",
      " 71%|████████████████████████████████████████████████████████████                        | 5/7 [00:00<00:00,  9.17it/s]\u001b[A\n",
      "100%|████████████████████████████████████████████████████████████████████████████████████| 7/7 [00:02<00:00,  3.47it/s]\u001b[A\n"
     ]
    },
    {
     "name": "stdout",
     "output_type": "stream",
     "text": [
      "Loading: \\\\192.168.0.6\\bbfishjoy4\\CGBB_embryo_4_28_2023\\H1_MER_D16\\Conv_zscan__059.zarr\n",
      "Finding markers...\n"
     ]
    },
    {
     "name": "stderr",
     "output_type": "stream",
     "text": [
      "\n",
      "  0%|                                                                                            | 0/7 [00:00<?, ?it/s]\u001b[A\n",
      " 14%|████████████                                                                        | 1/7 [00:00<00:05,  1.17it/s]\u001b[A\n",
      " 71%|████████████████████████████████████████████████████████████                        | 5/7 [00:01<00:00,  5.70it/s]\u001b[A\n",
      "100%|████████████████████████████████████████████████████████████████████████████████████| 7/7 [00:02<00:00,  3.03it/s]\u001b[A\n",
      "\n",
      "  0%|                                                                                            | 0/7 [00:00<?, ?it/s]\u001b[A\n",
      " 14%|████████████                                                                        | 1/7 [00:00<00:03,  1.95it/s]\u001b[A\n",
      " 57%|████████████████████████████████████████████████                                    | 4/7 [00:00<00:00,  7.95it/s]\u001b[A\n",
      "100%|████████████████████████████████████████████████████████████████████████████████████| 7/7 [00:02<00:00,  3.24it/s]\u001b[A\n"
     ]
    },
    {
     "name": "stdout",
     "output_type": "stream",
     "text": [
      "Finding rough drift...\n"
     ]
    },
    {
     "name": "stderr",
     "output_type": "stream",
     "text": [
      "  6%|████▌                                                                              | 1/18 [00:49<13:54, 49.12s/it]"
     ]
    },
    {
     "name": "stdout",
     "output_type": "stream",
     "text": [
      "Finding fine drift...\n",
      "Loading: \\\\192.168.0.6\\bbfishjoy4\\CGBB_embryo_4_28_2023\\H1_BMER_D16\\Conv_zscan__059.zarr\n",
      "Finding markers...\n"
     ]
    },
    {
     "name": "stderr",
     "output_type": "stream",
     "text": [
      "\n",
      "  0%|                                                                                            | 0/7 [00:00<?, ?it/s]\u001b[A\n",
      " 14%|████████████                                                                        | 1/7 [00:00<00:04,  1.33it/s]\u001b[A\n",
      " 57%|████████████████████████████████████████████████                                    | 4/7 [00:00<00:00,  5.90it/s]\u001b[A\n",
      "100%|████████████████████████████████████████████████████████████████████████████████████| 7/7 [00:02<00:00,  3.15it/s]\u001b[A\n",
      "\n",
      "  0%|                                                                                            | 0/7 [00:00<?, ?it/s]\u001b[A\n",
      " 14%|████████████                                                                        | 1/7 [00:00<00:03,  1.78it/s]\u001b[A\n",
      " 57%|████████████████████████████████████████████████                                    | 4/7 [00:00<00:00,  7.38it/s]\u001b[A\n",
      "100%|████████████████████████████████████████████████████████████████████████████████████| 7/7 [00:02<00:00,  2.83it/s]\u001b[A\n"
     ]
    },
    {
     "name": "stdout",
     "output_type": "stream",
     "text": [
      "Finding rough drift...\n"
     ]
    },
    {
     "name": "stderr",
     "output_type": "stream",
     "text": [
      " 11%|█████████▏                                                                         | 2/18 [01:15<09:33, 35.83s/it]"
     ]
    },
    {
     "name": "stdout",
     "output_type": "stream",
     "text": [
      "Finding fine drift...\n",
      "Loading: \\\\192.168.0.6\\bbfishjoy4\\CGBB_embryo_4_28_2023\\H2_MER_D16\\Conv_zscan__059.zarr\n",
      "Finding markers...\n"
     ]
    },
    {
     "name": "stderr",
     "output_type": "stream",
     "text": [
      "\n",
      "  0%|                                                                                            | 0/7 [00:00<?, ?it/s]\u001b[A\n",
      " 14%|████████████                                                                        | 1/7 [00:00<00:03,  1.54it/s]\u001b[A\n",
      " 71%|████████████████████████████████████████████████████████████                        | 5/7 [00:00<00:00,  7.04it/s]\u001b[A\n",
      "100%|████████████████████████████████████████████████████████████████████████████████████| 7/7 [00:01<00:00,  3.50it/s]\u001b[A\n",
      "\n",
      "  0%|                                                                                            | 0/7 [00:00<?, ?it/s]\u001b[A\n",
      " 14%|████████████                                                                        | 1/7 [00:00<00:02,  2.25it/s]\u001b[A\n",
      " 71%|████████████████████████████████████████████████████████████                        | 5/7 [00:00<00:00,  8.41it/s]\u001b[A\n",
      "100%|████████████████████████████████████████████████████████████████████████████████████| 7/7 [00:02<00:00,  3.20it/s]\u001b[A\n"
     ]
    },
    {
     "name": "stdout",
     "output_type": "stream",
     "text": [
      "Finding rough drift...\n"
     ]
    },
    {
     "name": "stderr",
     "output_type": "stream",
     "text": [
      " 17%|█████████████▊                                                                     | 3/18 [01:42<07:56, 31.75s/it]"
     ]
    },
    {
     "name": "stdout",
     "output_type": "stream",
     "text": [
      "Finding fine drift...\n",
      "Loading: \\\\192.168.0.6\\bbfishjoy4\\CGBB_embryo_4_28_2023\\H3_MER_D16\\Conv_zscan__059.zarr\n",
      "Finding markers...\n"
     ]
    },
    {
     "name": "stderr",
     "output_type": "stream",
     "text": [
      "\n",
      "  0%|                                                                                            | 0/7 [00:00<?, ?it/s]\u001b[A\n",
      " 14%|████████████                                                                        | 1/7 [00:00<00:04,  1.47it/s]\u001b[A\n",
      " 71%|████████████████████████████████████████████████████████████                        | 5/7 [00:00<00:00,  6.78it/s]\u001b[A\n",
      "100%|████████████████████████████████████████████████████████████████████████████████████| 7/7 [00:02<00:00,  3.34it/s]\u001b[A\n",
      "\n",
      "  0%|                                                                                            | 0/7 [00:00<?, ?it/s]\u001b[A\n",
      " 14%|████████████                                                                        | 1/7 [00:00<00:03,  1.76it/s]\u001b[A\n",
      " 57%|████████████████████████████████████████████████                                    | 4/7 [00:00<00:00,  7.31it/s]\u001b[A\n",
      "100%|████████████████████████████████████████████████████████████████████████████████████| 7/7 [00:02<00:00,  3.00it/s]\u001b[A\n"
     ]
    },
    {
     "name": "stdout",
     "output_type": "stream",
     "text": [
      "Finding rough drift...\n"
     ]
    },
    {
     "name": "stderr",
     "output_type": "stream",
     "text": [
      " 22%|██████████████████▍                                                                | 4/18 [02:09<06:57, 29.84s/it]"
     ]
    },
    {
     "name": "stdout",
     "output_type": "stream",
     "text": [
      "Finding fine drift...\n",
      "Loading: \\\\192.168.0.6\\bbfishjoy4\\CGBB_embryo_4_28_2023\\H4_MER_D16\\Conv_zscan__059.zarr\n",
      "Finding markers...\n"
     ]
    },
    {
     "name": "stderr",
     "output_type": "stream",
     "text": [
      "\n",
      "  0%|                                                                                            | 0/7 [00:00<?, ?it/s]\u001b[A\n",
      " 14%|████████████                                                                        | 1/7 [00:00<00:03,  1.67it/s]\u001b[A\n",
      " 71%|████████████████████████████████████████████████████████████                        | 5/7 [00:00<00:00,  7.45it/s]\u001b[A\n",
      "100%|████████████████████████████████████████████████████████████████████████████████████| 7/7 [00:01<00:00,  3.58it/s]\u001b[A\n",
      "\n",
      "  0%|                                                                                            | 0/7 [00:00<?, ?it/s]\u001b[A\n",
      " 14%|████████████                                                                        | 1/7 [00:00<00:02,  2.49it/s]\u001b[A\n",
      " 71%|████████████████████████████████████████████████████████████                        | 5/7 [00:00<00:00,  9.17it/s]\u001b[A\n",
      "100%|████████████████████████████████████████████████████████████████████████████████████| 7/7 [00:02<00:00,  3.33it/s]\u001b[A\n"
     ]
    },
    {
     "name": "stdout",
     "output_type": "stream",
     "text": [
      "Finding rough drift...\n"
     ]
    },
    {
     "name": "stderr",
     "output_type": "stream",
     "text": [
      " 28%|███████████████████████                                                            | 5/18 [02:36<06:14, 28.82s/it]"
     ]
    },
    {
     "name": "stdout",
     "output_type": "stream",
     "text": [
      "Finding fine drift...\n",
      "Loading: \\\\192.168.0.6\\bbfishjoy4\\CGBB_embryo_4_28_2023\\H4_lowMER_D16\\Conv_zscan__059.zarr\n",
      "Finding markers...\n"
     ]
    },
    {
     "name": "stderr",
     "output_type": "stream",
     "text": [
      "\n",
      "  0%|                                                                                            | 0/7 [00:00<?, ?it/s]\u001b[A\n",
      " 14%|████████████                                                                        | 1/7 [00:00<00:04,  1.36it/s]\u001b[A\n",
      " 57%|████████████████████████████████████████████████                                    | 4/7 [00:00<00:00,  5.86it/s]\u001b[A\n",
      "100%|████████████████████████████████████████████████████████████████████████████████████| 7/7 [00:02<00:00,  3.13it/s]\u001b[A\n",
      "\n",
      "  0%|                                                                                            | 0/7 [00:00<?, ?it/s]\u001b[A\n",
      " 14%|████████████                                                                        | 1/7 [00:00<00:02,  2.36it/s]\u001b[A\n",
      " 57%|████████████████████████████████████████████████                                    | 4/7 [00:00<00:00,  8.92it/s]\u001b[A\n",
      "100%|████████████████████████████████████████████████████████████████████████████████████| 7/7 [00:02<00:00,  3.40it/s]\u001b[A\n"
     ]
    },
    {
     "name": "stdout",
     "output_type": "stream",
     "text": [
      "Finding rough drift...\n"
     ]
    },
    {
     "name": "stderr",
     "output_type": "stream",
     "text": [
      " 33%|███████████████████████████▋                                                       | 6/18 [03:02<05:36, 28.04s/it]"
     ]
    },
    {
     "name": "stdout",
     "output_type": "stream",
     "text": [
      "Finding fine drift...\n",
      "Loading: \\\\192.168.0.6\\bbfishjoy4\\CGBB_embryo_4_28_2023\\H5_MER_D16\\Conv_zscan__059.zarr\n",
      "Finding markers...\n"
     ]
    },
    {
     "name": "stderr",
     "output_type": "stream",
     "text": [
      "\n",
      "  0%|                                                                                            | 0/7 [00:00<?, ?it/s]\u001b[A\n",
      " 14%|████████████                                                                        | 1/7 [00:00<00:03,  1.68it/s]\u001b[A\n",
      " 71%|████████████████████████████████████████████████████████████                        | 5/7 [00:00<00:00,  7.45it/s]\u001b[A\n",
      "100%|████████████████████████████████████████████████████████████████████████████████████| 7/7 [00:01<00:00,  3.57it/s]\u001b[A\n",
      "\n",
      "  0%|                                                                                            | 0/7 [00:00<?, ?it/s]\u001b[A\n",
      " 14%|████████████                                                                        | 1/7 [00:00<00:02,  2.54it/s]\u001b[A\n",
      " 71%|████████████████████████████████████████████████████████████                        | 5/7 [00:00<00:00,  9.21it/s]\u001b[A\n",
      "100%|████████████████████████████████████████████████████████████████████████████████████| 7/7 [00:02<00:00,  3.42it/s]\u001b[A\n"
     ]
    },
    {
     "name": "stdout",
     "output_type": "stream",
     "text": [
      "Finding rough drift...\n"
     ]
    },
    {
     "name": "stderr",
     "output_type": "stream",
     "text": [
      " 39%|████████████████████████████████▎                                                  | 7/18 [03:30<05:07, 27.95s/it]"
     ]
    },
    {
     "name": "stdout",
     "output_type": "stream",
     "text": [
      "Finding fine drift...\n",
      "Loading: \\\\192.168.0.6\\bbfishjoy4\\CGBB_embryo_4_28_2023\\H6_MER_D16\\Conv_zscan__059.zarr\n",
      "Finding markers...\n"
     ]
    },
    {
     "name": "stderr",
     "output_type": "stream",
     "text": [
      "\n",
      "  0%|                                                                                            | 0/7 [00:00<?, ?it/s]\u001b[A\n",
      " 14%|████████████                                                                        | 1/7 [00:00<00:04,  1.45it/s]\u001b[A\n",
      " 71%|████████████████████████████████████████████████████████████                        | 5/7 [00:00<00:00,  6.73it/s]\u001b[A\n",
      "100%|████████████████████████████████████████████████████████████████████████████████████| 7/7 [00:02<00:00,  3.40it/s]\u001b[A\n",
      "\n",
      "  0%|                                                                                            | 0/7 [00:00<?, ?it/s]\u001b[A\n",
      " 14%|████████████                                                                        | 1/7 [00:00<00:02,  2.31it/s]\u001b[A\n",
      " 71%|████████████████████████████████████████████████████████████                        | 5/7 [00:00<00:00,  8.65it/s]\u001b[A\n",
      "100%|████████████████████████████████████████████████████████████████████████████████████| 7/7 [00:02<00:00,  3.39it/s]\u001b[A\n"
     ]
    },
    {
     "name": "stdout",
     "output_type": "stream",
     "text": [
      "Finding rough drift...\n"
     ]
    },
    {
     "name": "stderr",
     "output_type": "stream",
     "text": [
      " 44%|████████████████████████████████████▉                                              | 8/18 [03:57<04:36, 27.61s/it]"
     ]
    },
    {
     "name": "stdout",
     "output_type": "stream",
     "text": [
      "Finding fine drift...\n",
      "Loading: \\\\192.168.0.6\\bbfishjoy4\\CGBB_embryo_4_28_2023\\H7_MER_D16\\Conv_zscan__059.zarr\n",
      "Finding markers...\n"
     ]
    },
    {
     "name": "stderr",
     "output_type": "stream",
     "text": [
      "\n",
      "  0%|                                                                                            | 0/7 [00:00<?, ?it/s]\u001b[A\n",
      " 14%|████████████                                                                        | 1/7 [00:00<00:03,  1.57it/s]\u001b[A\n",
      " 71%|████████████████████████████████████████████████████████████                        | 5/7 [00:00<00:00,  7.22it/s]\u001b[A\n",
      "100%|████████████████████████████████████████████████████████████████████████████████████| 7/7 [00:01<00:00,  3.57it/s]\u001b[A\n",
      "\n",
      "  0%|                                                                                            | 0/7 [00:00<?, ?it/s]\u001b[A\n",
      " 14%|████████████                                                                        | 1/7 [00:00<00:02,  2.41it/s]\u001b[A\n",
      " 71%|████████████████████████████████████████████████████████████                        | 5/7 [00:00<00:00,  9.06it/s]\u001b[A\n",
      "100%|████████████████████████████████████████████████████████████████████████████████████| 7/7 [00:02<00:00,  3.44it/s]\u001b[A\n"
     ]
    },
    {
     "name": "stdout",
     "output_type": "stream",
     "text": [
      "Finding rough drift...\n"
     ]
    },
    {
     "name": "stderr",
     "output_type": "stream",
     "text": [
      " 50%|█████████████████████████████████████████▌                                         | 9/18 [04:24<04:06, 27.41s/it]"
     ]
    },
    {
     "name": "stdout",
     "output_type": "stream",
     "text": [
      "Finding fine drift...\n",
      "Loading: \\\\192.168.0.6\\bbfishjoy4\\CGBB_embryo_4_28_2023\\H8_MER_D16\\Conv_zscan__059.zarr\n",
      "Finding markers...\n"
     ]
    },
    {
     "name": "stderr",
     "output_type": "stream",
     "text": [
      "\n",
      "  0%|                                                                                            | 0/7 [00:00<?, ?it/s]\u001b[A\n",
      " 14%|████████████                                                                        | 1/7 [00:00<00:03,  1.64it/s]\u001b[A\n",
      " 71%|████████████████████████████████████████████████████████████                        | 5/7 [00:00<00:00,  7.46it/s]\u001b[A\n",
      "100%|████████████████████████████████████████████████████████████████████████████████████| 7/7 [00:01<00:00,  3.61it/s]\u001b[A\n",
      "\n",
      "  0%|                                                                                            | 0/7 [00:00<?, ?it/s]\u001b[A\n",
      " 14%|████████████                                                                        | 1/7 [00:00<00:02,  2.56it/s]\u001b[A\n",
      " 71%|████████████████████████████████████████████████████████████                        | 5/7 [00:00<00:00,  9.52it/s]\u001b[A\n",
      "100%|████████████████████████████████████████████████████████████████████████████████████| 7/7 [00:02<00:00,  3.49it/s]\u001b[A\n"
     ]
    },
    {
     "name": "stdout",
     "output_type": "stream",
     "text": [
      "Finding rough drift...\n"
     ]
    },
    {
     "name": "stderr",
     "output_type": "stream",
     "text": [
      " 56%|█████████████████████████████████████████████▌                                    | 10/18 [04:51<03:38, 27.34s/it]"
     ]
    },
    {
     "name": "stdout",
     "output_type": "stream",
     "text": [
      "Finding fine drift...\n",
      "Loading: \\\\192.168.0.6\\bbfishjoy4\\CGBB_embryo_4_28_2023\\H9_MER_D16\\Conv_zscan__059.zarr\n",
      "Finding markers...\n"
     ]
    },
    {
     "name": "stderr",
     "output_type": "stream",
     "text": [
      "\n",
      "  0%|                                                                                            | 0/7 [00:00<?, ?it/s]\u001b[A\n",
      " 14%|████████████                                                                        | 1/7 [00:00<00:03,  1.58it/s]\u001b[A\n",
      " 57%|████████████████████████████████████████████████                                    | 4/7 [00:00<00:00,  6.82it/s]\u001b[A\n",
      "100%|████████████████████████████████████████████████████████████████████████████████████| 7/7 [00:02<00:00,  3.46it/s]\u001b[A\n",
      "\n",
      "  0%|                                                                                            | 0/7 [00:00<?, ?it/s]\u001b[A\n",
      " 14%|████████████                                                                        | 1/7 [00:00<00:02,  2.73it/s]\u001b[A\n",
      " 57%|████████████████████████████████████████████████                                    | 4/7 [00:00<00:00, 10.36it/s]\u001b[A\n",
      "100%|████████████████████████████████████████████████████████████████████████████████████| 7/7 [00:02<00:00,  3.48it/s]\u001b[A\n"
     ]
    },
    {
     "name": "stdout",
     "output_type": "stream",
     "text": [
      "Finding rough drift...\n"
     ]
    },
    {
     "name": "stderr",
     "output_type": "stream",
     "text": [
      " 61%|██████████████████████████████████████████████████                                | 11/18 [05:18<03:10, 27.27s/it]"
     ]
    },
    {
     "name": "stdout",
     "output_type": "stream",
     "text": [
      "Finding fine drift...\n",
      "Loading: \\\\192.168.0.6\\bbfishjoy4\\CGBB_embryo_4_28_2023\\H10_MER_D16\\Conv_zscan__059.zarr\n",
      "Finding markers...\n"
     ]
    },
    {
     "name": "stderr",
     "output_type": "stream",
     "text": [
      "\n",
      "  0%|                                                                                            | 0/7 [00:00<?, ?it/s]\u001b[A\n",
      " 14%|████████████                                                                        | 1/7 [00:00<00:04,  1.41it/s]\u001b[A\n",
      " 57%|████████████████████████████████████████████████                                    | 4/7 [00:00<00:00,  6.17it/s]\u001b[A\n",
      "100%|████████████████████████████████████████████████████████████████████████████████████| 7/7 [00:02<00:00,  3.28it/s]\u001b[A\n",
      "\n",
      "  0%|                                                                                            | 0/7 [00:00<?, ?it/s]\u001b[A\n",
      " 14%|████████████                                                                        | 1/7 [00:00<00:02,  2.52it/s]\u001b[A\n",
      " 57%|████████████████████████████████████████████████                                    | 4/7 [00:00<00:00,  9.80it/s]\u001b[A\n",
      "100%|████████████████████████████████████████████████████████████████████████████████████| 7/7 [00:02<00:00,  3.49it/s]\u001b[A\n"
     ]
    },
    {
     "name": "stdout",
     "output_type": "stream",
     "text": [
      "Finding rough drift...\n"
     ]
    },
    {
     "name": "stderr",
     "output_type": "stream",
     "text": [
      " 67%|██████████████████████████████████████████████████████▋                           | 12/18 [05:45<02:42, 27.08s/it]"
     ]
    },
    {
     "name": "stdout",
     "output_type": "stream",
     "text": [
      "Finding fine drift...\n",
      "Loading: \\\\192.168.0.6\\bbfishjoy4\\CGBB_embryo_4_28_2023\\H11_MER_D16\\Conv_zscan__059.zarr\n",
      "Finding markers...\n"
     ]
    },
    {
     "name": "stderr",
     "output_type": "stream",
     "text": [
      "\n",
      "  0%|                                                                                            | 0/7 [00:00<?, ?it/s]\u001b[A\n",
      " 14%|████████████                                                                        | 1/7 [00:00<00:04,  1.48it/s]\u001b[A\n",
      " 71%|████████████████████████████████████████████████████████████                        | 5/7 [00:00<00:00,  6.94it/s]\u001b[A\n",
      "100%|████████████████████████████████████████████████████████████████████████████████████| 7/7 [00:02<00:00,  3.47it/s]\u001b[A\n",
      "\n",
      "  0%|                                                                                            | 0/7 [00:00<?, ?it/s]\u001b[A\n",
      " 14%|████████████                                                                        | 1/7 [00:00<00:02,  2.68it/s]\u001b[A\n",
      " 71%|████████████████████████████████████████████████████████████                        | 5/7 [00:00<00:00,  9.69it/s]\u001b[A\n",
      "100%|████████████████████████████████████████████████████████████████████████████████████| 7/7 [00:01<00:00,  3.53it/s]\u001b[A\n"
     ]
    },
    {
     "name": "stdout",
     "output_type": "stream",
     "text": [
      "Finding rough drift...\n"
     ]
    },
    {
     "name": "stderr",
     "output_type": "stream",
     "text": [
      " 72%|███████████████████████████████████████████████████████████▏                      | 13/18 [06:12<02:14, 26.94s/it]"
     ]
    },
    {
     "name": "stdout",
     "output_type": "stream",
     "text": [
      "Finding fine drift...\n",
      "Loading: \\\\192.168.0.6\\bbfishjoy4\\CGBB_embryo_4_28_2023\\H12_MER_D16\\Conv_zscan__059.zarr\n",
      "Finding markers...\n"
     ]
    },
    {
     "name": "stderr",
     "output_type": "stream",
     "text": [
      "\n",
      "  0%|                                                                                            | 0/7 [00:00<?, ?it/s]\u001b[A\n",
      " 14%|████████████                                                                        | 1/7 [00:00<00:04,  1.45it/s]\u001b[A\n",
      " 57%|████████████████████████████████████████████████                                    | 4/7 [00:00<00:00,  6.34it/s]\u001b[A\n",
      "100%|████████████████████████████████████████████████████████████████████████████████████| 7/7 [00:02<00:00,  3.31it/s]\u001b[A\n",
      "\n",
      "  0%|                                                                                            | 0/7 [00:00<?, ?it/s]\u001b[A\n",
      " 14%|████████████                                                                        | 1/7 [00:00<00:02,  2.55it/s]\u001b[A\n",
      " 71%|████████████████████████████████████████████████████████████                        | 5/7 [00:00<00:00,  9.27it/s]\u001b[A\n",
      "100%|████████████████████████████████████████████████████████████████████████████████████| 7/7 [00:02<00:00,  3.44it/s]\u001b[A\n"
     ]
    },
    {
     "name": "stdout",
     "output_type": "stream",
     "text": [
      "Finding rough drift...\n"
     ]
    },
    {
     "name": "stderr",
     "output_type": "stream",
     "text": [
      " 78%|███████████████████████████████████████████████████████████████▊                  | 14/18 [06:38<01:47, 26.80s/it]"
     ]
    },
    {
     "name": "stdout",
     "output_type": "stream",
     "text": [
      "Finding fine drift...\n",
      "Loading: \\\\192.168.0.6\\bbfishjoy4\\CGBB_embryo_4_28_2023\\H13_MER_D16\\Conv_zscan__059.zarr\n",
      "Finding markers...\n"
     ]
    },
    {
     "name": "stderr",
     "output_type": "stream",
     "text": [
      "\n",
      "  0%|                                                                                            | 0/7 [00:00<?, ?it/s]\u001b[A\n",
      " 14%|████████████                                                                        | 1/7 [00:00<00:04,  1.49it/s]\u001b[A\n",
      " 71%|████████████████████████████████████████████████████████████                        | 5/7 [00:00<00:00,  6.98it/s]\u001b[A\n",
      "100%|████████████████████████████████████████████████████████████████████████████████████| 7/7 [00:01<00:00,  3.51it/s]\u001b[A\n",
      "\n",
      "  0%|                                                                                            | 0/7 [00:00<?, ?it/s]\u001b[A\n",
      " 14%|████████████                                                                        | 1/7 [00:00<00:02,  2.50it/s]\u001b[A\n",
      " 71%|████████████████████████████████████████████████████████████                        | 5/7 [00:00<00:00,  9.39it/s]\u001b[A\n",
      "100%|████████████████████████████████████████████████████████████████████████████████████| 7/7 [00:01<00:00,  3.55it/s]\u001b[A\n"
     ]
    },
    {
     "name": "stdout",
     "output_type": "stream",
     "text": [
      "Finding rough drift...\n"
     ]
    },
    {
     "name": "stderr",
     "output_type": "stream",
     "text": [
      " 83%|████████████████████████████████████████████████████████████████████▎             | 15/18 [07:05<01:20, 26.78s/it]"
     ]
    },
    {
     "name": "stdout",
     "output_type": "stream",
     "text": [
      "Finding fine drift...\n",
      "Loading: \\\\192.168.0.6\\bbfishjoy4\\CGBB_embryo_4_28_2023\\H14_MER_D16\\Conv_zscan__059.zarr\n",
      "Finding markers...\n"
     ]
    },
    {
     "name": "stderr",
     "output_type": "stream",
     "text": [
      "\n",
      "  0%|                                                                                            | 0/7 [00:00<?, ?it/s]\u001b[A\n",
      " 14%|████████████                                                                        | 1/7 [00:00<00:03,  1.64it/s]\u001b[A\n",
      " 71%|████████████████████████████████████████████████████████████                        | 5/7 [00:00<00:00,  7.29it/s]\u001b[A\n",
      "100%|████████████████████████████████████████████████████████████████████████████████████| 7/7 [00:01<00:00,  3.62it/s]\u001b[A\n",
      "\n",
      "  0%|                                                                                            | 0/7 [00:00<?, ?it/s]\u001b[A\n",
      " 14%|████████████                                                                        | 1/7 [00:00<00:02,  2.70it/s]\u001b[A\n",
      " 71%|████████████████████████████████████████████████████████████                        | 5/7 [00:00<00:00,  9.83it/s]\u001b[A\n",
      "100%|████████████████████████████████████████████████████████████████████████████████████| 7/7 [00:01<00:00,  3.66it/s]\u001b[A\n"
     ]
    },
    {
     "name": "stdout",
     "output_type": "stream",
     "text": [
      "Finding rough drift...\n"
     ]
    },
    {
     "name": "stderr",
     "output_type": "stream",
     "text": [
      " 89%|████████████████████████████████████████████████████████████████████████▉         | 16/18 [07:31<00:53, 26.65s/it]"
     ]
    },
    {
     "name": "stdout",
     "output_type": "stream",
     "text": [
      "Finding fine drift...\n",
      "Loading: \\\\192.168.0.6\\bbfishjoy4\\CGBB_embryo_4_28_2023\\H15_MER_D16\\Conv_zscan__059.zarr\n",
      "Finding markers...\n"
     ]
    },
    {
     "name": "stderr",
     "output_type": "stream",
     "text": [
      "\n",
      "  0%|                                                                                            | 0/7 [00:00<?, ?it/s]\u001b[A\n",
      " 14%|████████████                                                                        | 1/7 [00:00<00:04,  1.39it/s]\u001b[A\n",
      " 71%|████████████████████████████████████████████████████████████                        | 5/7 [00:00<00:00,  6.54it/s]\u001b[A\n",
      "100%|████████████████████████████████████████████████████████████████████████████████████| 7/7 [00:02<00:00,  3.31it/s]\u001b[A\n",
      "\n",
      "  0%|                                                                                            | 0/7 [00:00<?, ?it/s]\u001b[A\n",
      " 14%|████████████                                                                        | 1/7 [00:00<00:02,  2.42it/s]\u001b[A\n",
      " 71%|████████████████████████████████████████████████████████████                        | 5/7 [00:00<00:00,  8.94it/s]\u001b[A\n",
      "100%|████████████████████████████████████████████████████████████████████████████████████| 7/7 [00:02<00:00,  3.45it/s]\u001b[A\n"
     ]
    },
    {
     "name": "stdout",
     "output_type": "stream",
     "text": [
      "Finding rough drift...\n"
     ]
    },
    {
     "name": "stderr",
     "output_type": "stream",
     "text": [
      " 94%|█████████████████████████████████████████████████████████████████████████████▍    | 17/18 [07:58<00:26, 26.63s/it]"
     ]
    },
    {
     "name": "stdout",
     "output_type": "stream",
     "text": [
      "Finding fine drift...\n",
      "Loading: \\\\192.168.0.6\\bbfishjoy4\\CGBB_embryo_4_28_2023\\H16_MER_D16\\Conv_zscan__059.zarr\n",
      "Finding markers...\n"
     ]
    },
    {
     "name": "stderr",
     "output_type": "stream",
     "text": [
      "\n",
      "  0%|                                                                                            | 0/7 [00:00<?, ?it/s]\u001b[A\n",
      " 14%|████████████                                                                        | 1/7 [00:00<00:04,  1.50it/s]\u001b[A\n",
      " 71%|████████████████████████████████████████████████████████████                        | 5/7 [00:00<00:00,  6.97it/s]\u001b[A\n",
      "100%|████████████████████████████████████████████████████████████████████████████████████| 7/7 [00:01<00:00,  3.55it/s]\u001b[A\n",
      "\n",
      "  0%|                                                                                            | 0/7 [00:00<?, ?it/s]\u001b[A\n",
      " 14%|████████████                                                                        | 1/7 [00:00<00:02,  2.63it/s]\u001b[A\n",
      " 71%|████████████████████████████████████████████████████████████                        | 5/7 [00:00<00:00,  9.74it/s]\u001b[A\n",
      "100%|████████████████████████████████████████████████████████████████████████████████████| 7/7 [00:01<00:00,  3.65it/s]\u001b[A\n"
     ]
    },
    {
     "name": "stdout",
     "output_type": "stream",
     "text": [
      "Finding rough drift...\n"
     ]
    },
    {
     "name": "stderr",
     "output_type": "stream",
     "text": [
      "100%|██████████████████████████████████████████████████████████████████████████████████| 18/18 [08:24<00:00, 28.03s/it]"
     ]
    },
    {
     "name": "stdout",
     "output_type": "stream",
     "text": [
      "Finding fine drift...\n"
     ]
    },
    {
     "name": "stderr",
     "output_type": "stream",
     "text": [
      "\n"
     ]
    }
   ],
   "source": [
    "from worker_Scope1__EmbryoPlate12Low import *\n",
    "dec = decoder_simple(save_folder,fov='Conv_zscan__059',set_='_D16')\n",
    "\n",
    "drfits,flds,fov_ = np.load(dec.drift_fl,allow_pickle=True)\n",
    "fls = [fld+os.sep+fov_ for fld in flds]\n",
    "fl_ref = [fld+os.sep+fov_ for fld,(drft,_) in zip(flds,drfits) if np.sum(drft)==0][0]\n",
    "obj = None\n",
    "newdrifts = []\n",
    "for fl in tqdm(fls):\n",
    "    if obj is None:\n",
    "        obj = fine_drift(fl_ref,fl)\n",
    "    else:\n",
    "        obj.get_drift(fl_ref,fl)\n",
    "    new_drift = -(obj.drft_minus+obj.drft_plus)/2\n",
    "    newdrifts.append([new_drift,obj.drft_minus,obj.drft_plus,obj.drift,obj.pair_minus,obj.pair_plus])\n",
    "    \n",
    "drift_fl_new = dec.drift_fl.replace('drift_','driftNew_')\n",
    "pickle.dump([newdrifts,flds,fov_],open(drift_fl_new,'wb'))"
   ]
  },
  {
   "cell_type": "code",
   "execution_count": null,
   "id": "57f1a7ee-f134-4444-984f-8f9467752fe2",
   "metadata": {},
   "outputs": [],
   "source": []
  },
  {
   "cell_type": "code",
   "execution_count": null,
   "id": "fa2eca39-9630-4fbe-93e1-5889ea417c20",
   "metadata": {},
   "outputs": [],
   "source": []
  },
  {
   "cell_type": "code",
   "execution_count": 2,
   "id": "46e73b98-dee1-4091-abf1-1c3488ad3bbd",
   "metadata": {},
   "outputs": [
    {
     "name": "stderr",
     "output_type": "stream",
     "text": [
      "100%|██████████████████████████████████████████████████████████████████████████████████| 18/18 [00:57<00:00,  3.21s/it]\n"
     ]
    }
   ],
   "source": [
    "from worker_Scope1__EmbryoPlate12Low import *\n",
    "fov,set_ = 'Conv_zscan__059','_D16'\n",
    "dec = decoder_simple(save_folder,fov=fov,set_=set_)\n",
    "dec.get_XH(fov,set_,ncols=3)#number of colors match \n",
    "dec.XH = dec.XH[dec.XH[:,-4]>0.25] ### keep the spots that are correlated with the expected PSF for 60X\n",
    "dec.load_library(library_file,nblanks=-1)"
   ]
  },
  {
   "cell_type": "code",
   "execution_count": 3,
   "id": "84e9823f-e01f-4357-9cb2-9f2348d0a727",
   "metadata": {},
   "outputs": [],
   "source": [
    "from worker_Scope1__EmbryoPlate12Low import *\n",
    "fov,set_ = 'Conv_zscan__059','_D16'\n",
    "dec = decoder_simple(save_folder,fov=fov,set_=set_)"
   ]
  },
  {
   "cell_type": "code",
   "execution_count": 4,
   "id": "b73b31dd-5881-4335-b87f-8494814031cc",
   "metadata": {},
   "outputs": [
    {
     "name": "stdout",
     "output_type": "stream",
     "text": [
      "Loaded decoded: -66.88132429122925\n"
     ]
    }
   ],
   "source": [
    "dec.load_decoded()"
   ]
  },
  {
   "cell_type": "code",
   "execution_count": 5,
   "id": "a92b3743-cf37-4eb7-a5c1-f57c492ba829",
   "metadata": {},
   "outputs": [],
   "source": [
    "ign = list(dec.gns_names).index('Dcx')"
   ]
  },
  {
   "cell_type": "code",
   "execution_count": 6,
   "id": "df904c31-a68e-4a3e-b424-4f0ad5920f5d",
   "metadata": {},
   "outputs": [
    {
     "data": {
      "text/plain": [
       "135740"
      ]
     },
     "execution_count": 6,
     "metadata": {},
     "output_type": "execute_result"
    }
   ],
   "source": [
    "np.sum(dec.icodesN==ign)"
   ]
  },
  {
   "cell_type": "code",
   "execution_count": 7,
   "id": "59bedc48-954a-4b2a-9811-c161d2608dd2",
   "metadata": {},
   "outputs": [
    {
     "data": {
      "text/plain": [
       "32231208"
      ]
     },
     "execution_count": 7,
     "metadata": {},
     "output_type": "execute_result"
    }
   ],
   "source": [
    "len(dec.XH_pruned)"
   ]
  },
  {
   "cell_type": "code",
   "execution_count": 12,
   "id": "6d33d63d-8344-420e-a304-86d3d96328d8",
   "metadata": {},
   "outputs": [
    {
     "data": {
      "text/plain": [
       "[<matplotlib.lines.Line2D at 0x2566a5d9550>]"
      ]
     },
     "execution_count": 12,
     "metadata": {},
     "output_type": "execute_result"
    },
    {
     "data": {
      "image/png": "[encoded data removed]",
      "text/plain": [
       "<Figure size 432x288 with 1 Axes>"
      ]
     },
     "metadata": {
      "needs_background": "light"
     },
     "output_type": "display_data"
    }
   ],
   "source": [
    "icds,ncds = np.unique(dec.icodesN,return_counts=True)\n",
    "plt.plot(icds,ncds)"
   ]
  },
  {
   "cell_type": "code",
   "execution_count": null,
   "id": "af21874c-915e-42e6-a7f6-ae7e027e3982",
   "metadata": {},
   "outputs": [],
   "source": []
  },
  {
   "cell_type": "code",
   "execution_count": 3,
   "id": "e59ebfb7-6a83-4166-9a12-92c5e08c3cc0",
   "metadata": {},
   "outputs": [],
   "source": [
    "dec.res = np.load('temp_res.pkl',allow_pickle=True)"
   ]
  },
  {
   "cell_type": "code",
   "execution_count": 4,
   "id": "07e59304-7c1b-4581-a224-aea94f155a2c",
   "metadata": {},
   "outputs": [
    {
     "name": "stderr",
     "output_type": "stream",
     "text": [
      "100%|██████████████████████████████████████████████████████████████████████████████████| 18/18 [00:56<00:00,  3.15s/it]\n",
      "100%|███████████████████████████████████████████████████████████████████████████████████| 3/3 [07:28<00:00, 149.63s/it]\n"
     ]
    },
    {
     "name": "stdout",
     "output_type": "stream",
     "text": [
      "Unfolded molecules: 185.87738394737244\n",
      "Computed the decoding: 295.784960269928\n"
     ]
    }
   ],
   "source": [
    "if False:\n",
    "    dec.get_inters(dinstance_th=2,enforce_color=True)# enforce_color=False\n",
    "    dec.get_icodes(nmin_bits=4,method = 'top4',norm_brightness=None,is_unique=False)\n",
    "    pickle.dump(dec.res,open('temp_res.pkl','wb'))"
   ]
  },
  {
   "cell_type": "code",
   "execution_count": 10,
   "id": "1dca95bb-f2d8-47ed-b374-059016338914",
   "metadata": {},
   "outputs": [
    {
     "name": "stdout",
     "output_type": "stream",
     "text": [
      "Unfolded molecules: 186.37508535385132\n"
     ]
    }
   ],
   "source": [
    "nmin_bits = 4\n",
    "import time\n",
    "start = time.time()\n",
    "res = dec.res\n",
    "res = [r for r in res if len(r)>=nmin_bits]\n",
    "res_unfolder = np.array([r_ for r in res for r_ in r])\n",
    "ires = np.array([ir for ir,r in enumerate(res) for r_ in r])\n",
    "print(\"Unfolded molecules:\",time.time()-start)"
   ]
  },
  {
   "cell_type": "code",
   "execution_count": 13,
   "id": "5de5eea0-c9f3-408a-8902-301f8c9938b0",
   "metadata": {},
   "outputs": [],
   "source": [
    "RS = dec.XH[:,-1].astype(int)\n",
    "bits_unfold = RS[res_unfolder]"
   ]
  },
  {
   "cell_type": "code",
   "execution_count": 125,
   "id": "2d4f9c68-b887-441c-9048-4fcb30781701",
   "metadata": {},
   "outputs": [],
   "source": [
    "nbits=48\n",
    "is_scores_bits = np.zeros([len(res),nbits],dtype=np.uint8)\n",
    "is_scores_bits[ires,bits_unfold]=1\n",
    "\n",
    "import torch\n",
    "scores_bitsT = torch.from_numpy(is_scores_bits)\n",
    "code = np.array(dec.codes__[:])\n",
    "codeT = torch.from_numpy(code)\n",
    "inds = torch.arange(0,len(scores_bitsT),dtype=int)"
   ]
  },
  {
   "cell_type": "code",
   "execution_count": 108,
   "id": "4f01160e-179d-4e0e-a5ac-d2918d47d4f6",
   "metadata": {},
   "outputs": [
    {
     "data": {
      "text/plain": [
       "array([2198185, 2198185, 2198186, ..., 4989797, 4989797, 4989797])"
      ]
     },
     "execution_count": 108,
     "metadata": {},
     "output_type": "execute_result"
    }
   ],
   "source": [
    "ires_gn = ires[keep_gn]\n",
    "res_unfolder_gn = res_unfolder[keep_gn]"
   ]
  },
  {
   "cell_type": "code",
   "execution_count": 115,
   "id": "52c1fc78-286a-4a72-b4e8-9e5e59858a2b",
   "metadata": {},
   "outputs": [
    {
     "data": {
      "text/plain": [
       "array([False, False, False, ..., False, False, False])"
      ]
     },
     "execution_count": 115,
     "metadata": {},
     "output_type": "execute_result"
    }
   ],
   "source": [
    "iresT = torch.from_numpy(ires)\n",
    "keepIres = np.in1d(iresT,keep_gn)"
   ]
  },
  {
   "cell_type": "code",
   "execution_count": 116,
   "id": "9ee3ef2c-0d8f-453d-8610-bfa8deae82f4",
   "metadata": {},
   "outputs": [],
   "source": [
    "inds_spotsN =  np.zeros([len(res),nbits],dtype=int)-1\n",
    "inds_spotsN[ires[arg_scores],bits_unfold[arg_scores]]=res_unfolder[arg_scores]"
   ]
  },
  {
   "cell_type": "code",
   "execution_count": 127,
   "id": "b5c3f9b4-0c9d-41b5-8227-3a5f34bcd0d2",
   "metadata": {},
   "outputs": [],
   "source": [
    "inds_spotsNT = torch.from_numpy(inds_spotsN)\n",
    "inds_spotsNTth = inds_spotsNT>=0"
   ]
  },
  {
   "cell_type": "code",
   "execution_count": 135,
   "id": "db34be11-9463-4f28-a6ea-ab4375a0516f",
   "metadata": {},
   "outputs": [],
   "source": []
  },
  {
   "cell_type": "code",
   "execution_count": 150,
   "id": "aa4828cd-c067-48cf-9707-78a4225d273f",
   "metadata": {},
   "outputs": [
    {
     "name": "stderr",
     "output_type": "stream",
     "text": [
      "  7%|█████▊                                                                           | 59/826 [00:19<04:10,  3.06it/s]\n"
     ]
    },
    {
     "ename": "KeyboardInterrupt",
     "evalue": "",
     "output_type": "error",
     "traceback": [
      "\u001b[1;31m---------------------------------------------------------------------------\u001b[0m",
      "\u001b[1;31mKeyboardInterrupt\u001b[0m                         Traceback (most recent call last)",
      "\u001b[1;32mC:\\Users\\BINTUL~2\\AppData\\Local\\Temp/ipykernel_16884/1075542184.py\u001b[0m in \u001b[0;36m<module>\u001b[1;34m\u001b[0m\n\u001b[0;32m      4\u001b[0m \u001b[1;32mfor\u001b[0m \u001b[0mign\u001b[0m \u001b[1;32min\u001b[0m \u001b[0mtqdm\u001b[0m\u001b[1;33m(\u001b[0m\u001b[0mrange\u001b[0m\u001b[1;33m(\u001b[0m\u001b[0mlen\u001b[0m\u001b[1;33m(\u001b[0m\u001b[0mcodeT\u001b[0m\u001b[1;33m)\u001b[0m\u001b[1;33m)\u001b[0m\u001b[1;33m)\u001b[0m\u001b[1;33m:\u001b[0m\u001b[1;33m\u001b[0m\u001b[1;33m\u001b[0m\u001b[0m\n\u001b[0;32m      5\u001b[0m     \u001b[0mcd\u001b[0m \u001b[1;33m=\u001b[0m \u001b[0mcodeT\u001b[0m\u001b[1;33m[\u001b[0m\u001b[0mign\u001b[0m\u001b[1;33m]\u001b[0m\u001b[1;33m\u001b[0m\u001b[1;33m\u001b[0m\u001b[0m\n\u001b[1;32m----> 6\u001b[1;33m     \u001b[0mkeep_gn\u001b[0m \u001b[1;33m=\u001b[0m \u001b[0minds\u001b[0m\u001b[1;33m[\u001b[0m\u001b[0mtorch\u001b[0m\u001b[1;33m.\u001b[0m\u001b[0mall\u001b[0m\u001b[1;33m(\u001b[0m\u001b[0minds_spotsNTth\u001b[0m\u001b[1;33m[\u001b[0m\u001b[1;33m:\u001b[0m\u001b[1;33m,\u001b[0m\u001b[0mcd\u001b[0m\u001b[1;33m]\u001b[0m\u001b[1;33m,\u001b[0m\u001b[0maxis\u001b[0m\u001b[1;33m=\u001b[0m\u001b[1;33m-\u001b[0m\u001b[1;36m1\u001b[0m\u001b[1;33m)\u001b[0m\u001b[1;33m]\u001b[0m\u001b[1;33m\u001b[0m\u001b[1;33m\u001b[0m\u001b[0m\n\u001b[0m\u001b[0;32m      7\u001b[0m     \u001b[0minds_gn\u001b[0m \u001b[1;33m=\u001b[0m \u001b[0minds_spotsNT\u001b[0m\u001b[1;33m[\u001b[0m\u001b[0mkeep_gn\u001b[0m\u001b[1;33m]\u001b[0m\u001b[1;33m[\u001b[0m\u001b[1;33m:\u001b[0m\u001b[1;33m,\u001b[0m\u001b[0mcd\u001b[0m\u001b[1;33m]\u001b[0m\u001b[1;33m\u001b[0m\u001b[1;33m\u001b[0m\u001b[0m\n\u001b[0;32m      8\u001b[0m     \u001b[1;32mif\u001b[0m \u001b[0minds_gns\u001b[0m \u001b[1;32mis\u001b[0m \u001b[1;32mNone\u001b[0m\u001b[1;33m:\u001b[0m \u001b[0minds_gns\u001b[0m \u001b[1;33m=\u001b[0m \u001b[0minds_gn\u001b[0m\u001b[1;33m\u001b[0m\u001b[1;33m\u001b[0m\u001b[0m\n",
      "\u001b[1;31mKeyboardInterrupt\u001b[0m: "
     ]
    }
   ],
   "source": [
    "gene= 'Dcx'\n",
    "ign = list(dec.gns_names).index(gene)\n",
    "inds_gns = None\n",
    "for ign in tqdm(range(len(codeT))):\n",
    "    cd = codeT[ign]\n",
    "    keep_gn = inds[torch.all(inds_spotsNTth[:,cd],axis=-1)]\n",
    "    inds_gn = inds_spotsNT[keep_gn][:,cd]\n",
    "    if inds_gns is None: inds_gns = inds_gn\n",
    "    else: inds_gns = np.concatenate([inds_gns,inds_gn])\n",
    "#XH_pruned_ = self.XH[inds_gn]"
   ]
  },
  {
   "cell_type": "code",
   "execution_count": 280,
   "id": "45df46a4-19f1-4c2a-89a0-2dbb1d317be4",
   "metadata": {},
   "outputs": [],
   "source": [
    "gene= 'Dcx'\n",
    "\n",
    "ign = list(dec.gns_names).index(gene)\n",
    "cd = codeT[ign]\n",
    "keep_gn = inds[torch.all(inds_spotsNTth[:,cd],axis=-1)]\n",
    "inds_gn = inds_spotsNT[keep_gn][:,cd]\n",
    "X_pruned_gn = dec.XH[inds_gn]\n",
    "\n",
    "H_gn = X_pruned_gn[...,-3]\n",
    "X_gn = X_pruned_gn[...,:3]\n",
    "Xdif = np.linalg.norm(X_gn-np.mean(X_gn,axis=1)[:,np.newaxis],axis=-1)\n",
    "Xdif = np.max(Xdif,axis=-1)\n",
    "H_mn = np.min(H_gn,axis=-1)\n",
    "logX =  np.log((np.argsort(np.argsort(-Xdif))+1)/len(Xdif))\n",
    "logH = np.log((np.argsort(np.argsort(H_mn))+1)/len(H_mn))\n",
    "logS = logH+logX\n",
    "logS_gn = logS\n",
    "Xdif_gn = Xdif\n",
    "H_mn_gn = H_mn"
   ]
  },
  {
   "cell_type": "code",
   "execution_count": 293,
   "id": "85c89d42-ab3a-4bb3-8ec0-d2ca1e49f814",
   "metadata": {},
   "outputs": [],
   "source": [
    "gene= dec.gns_names[-2]\n",
    "\n",
    "ign = list(dec.gns_names).index(gene)\n",
    "cd = codeT[ign]\n",
    "keep_gn = inds[torch.all(inds_spotsNTth[:,cd],axis=-1)]\n",
    "inds_gn = inds_spotsNT[keep_gn][:,cd]\n",
    "X_pruned_gn = dec.XH[inds_gn]\n",
    "\n",
    "H_gn = X_pruned_gn[...,-3]\n",
    "X_gn = X_pruned_gn[...,:3]\n",
    "Xdif = np.linalg.norm(X_gn-np.mean(X_gn,axis=1)[:,np.newaxis],axis=-1)\n",
    "Xdif = np.max(Xdif,axis=-1)\n",
    "H_mn = np.min(H_gn,axis=-1)\n",
    "logX =  np.log((np.argsort(np.argsort(-Xdif))+1)/len(Xdif))\n",
    "logH = np.log((np.argsort(np.argsort(H_mn))+1)/len(H_mn))\n",
    "logS = logH+logX\n",
    "\n",
    "\n",
    "logS_blk = logS\n",
    "Xdif_blk = Xdif\n",
    "H_mn_blk = H_mn"
   ]
  },
  {
   "cell_type": "code",
   "execution_count": 298,
   "id": "6d622851-b9d0-4693-b574-70a2110f19cf",
   "metadata": {},
   "outputs": [],
   "source": [
    "def get_score_withRef_func(XH_pruned,scoresRef,iSs=None,ncols=3):\n",
    "    H = np.median(XH_pruned[...,-3],axis=1)\n",
    "    D = XH_pruned[...,:3]-np.mean(XH_pruned[...,:3],axis=1)[:,np.newaxis]\n",
    "    D = np.mean(np.linalg.norm(D,axis=-1),axis=-1)\n",
    "    score = np.array([H,-D]).T\n",
    "    keep_color = [XH_pruned[:,0,-2]==icol for icol in np.arange(ncols)]\n",
    "    scoreA = np.zeros(len(H))\n",
    "    for icol in range(ncols):\n",
    "        scoresRef_ = scoresRef[icol]\n",
    "        score_ = score[keep_color[icol]]\n",
    "        from scipy.spatial import KDTree\n",
    "        scoreA_ = np.zeros(len(score_))\n",
    "        if iSs is None: iSs = np.arange(scoresRef_.shape[-1])\n",
    "        for iS in iSs:\n",
    "            dist_,inds_ = KDTree(scoresRef_[:,[iS]]).query(score_[:,[iS]])\n",
    "            scoreA_+=np.log((inds_+1))-np.log(len(scoresRef_))\n",
    "        scoreA[keep_color[icol]]=scoreA_\n",
    "    return scoreA"
   ]
  },
  {
   "cell_type": "code",
   "execution_count": 312,
   "id": "74050ae1-545f-4451-b087-1cff4b74ef4a",
   "metadata": {},
   "outputs": [],
   "source": [
    "gene= 'Dcx'\n",
    "\n",
    "ign = list(dec.gns_names).index(gene)\n",
    "cd = codeT[ign]\n",
    "keep_gn = inds[torch.all(inds_spotsNTth[:,cd],axis=-1)]\n",
    "inds_gn = inds_spotsNT[keep_gn][:,cd]\n",
    "X_pruned = dec.XH[inds_gn]\n",
    "\n",
    "scoreAgn = get_score_withRef_func(X_pruned,scoresRef,iSs=None,ncols=3)\n",
    "\n",
    "gene= dec.gns_names[-20]\n",
    "\n",
    "ign = list(dec.gns_names).index(gene)\n",
    "cd = codeT[ign]\n",
    "keep_gn = inds[torch.all(inds_spotsNTth[:,cd],axis=-1)]\n",
    "inds_gn = inds_spotsNT[keep_gn][:,cd]\n",
    "X_pruned = dec.XH[inds_gn]\n",
    "\n",
    "scoreAblk = get_score_withRef_func(X_pruned,scoresRef,iSs=None,ncols=3)"
   ]
  },
  {
   "cell_type": "code",
   "execution_count": 315,
   "id": "645a6a9c-4799-448f-abea-9e241e0649cc",
   "metadata": {},
   "outputs": [
    {
     "data": {
      "image/png": "[encoded data removed]",
      "text/plain": [
       "<Figure size 432x288 with 1 Axes>"
      ]
     },
     "metadata": {
      "needs_background": "light"
     },
     "output_type": "display_data"
    }
   ],
   "source": [
    "plt.hist(scoreAgn,bins=100,density=True);\n",
    "plt.hist(scoreAblk,bins=100,density=True,alpha=0.5);"
   ]
  },
  {
   "cell_type": "code",
   "execution_count": 301,
   "id": "882ec39c-c5c2-4999-93d4-027727ccce10",
   "metadata": {},
   "outputs": [],
   "source": [
    "scoresRef = np.load('scoresRefT.pkl',allow_pickle=True)"
   ]
  },
  {
   "cell_type": "code",
   "execution_count": 317,
   "id": "5c6efffa-f065-4e94-92dc-730877208cfb",
   "metadata": {},
   "outputs": [
    {
     "data": {
      "text/plain": [
       "0.2654236519102552"
      ]
     },
     "execution_count": 317,
     "metadata": {},
     "output_type": "execute_result"
    }
   ],
   "source": [
    "len(Xdif_blk)/len(Xdif_gn)"
   ]
  },
  {
   "cell_type": "code",
   "execution_count": 295,
   "id": "f9f4da73-f2b9-480e-bf79-5cbc3d499a1e",
   "metadata": {},
   "outputs": [
    {
     "data": {
      "image/png": "[encoded data removed]",
      "text/plain": [
       "<Figure size 432x288 with 1 Axes>"
      ]
     },
     "metadata": {
      "needs_background": "light"
     },
     "output_type": "display_data"
    }
   ],
   "source": [
    "plt.hist(np.log(H_mn_gn),bins=100)\n",
    "plt.hist(np.log(H_mn_blk),bins=100);"
   ]
  },
  {
   "cell_type": "code",
   "execution_count": 283,
   "id": "f82f4b23-25d5-4d64-bd66-48108e108130",
   "metadata": {},
   "outputs": [
    {
     "data": {
      "image/png": "[encoded data removed]",
      "text/plain": [
       "<Figure size 432x288 with 1 Axes>"
      ]
     },
     "metadata": {
      "needs_background": "light"
     },
     "output_type": "display_data"
    }
   ],
   "source": [
    "plt.hist(Xdif_gn,bins=100)\n",
    "plt.hist(Xdif_blk,bins=100);"
   ]
  },
  {
   "cell_type": "code",
   "execution_count": 284,
   "id": "13c8eafd-f18b-4ad0-998c-6b68b389d6b3",
   "metadata": {},
   "outputs": [
    {
     "data": {
      "image/png": "[encoded data removed]",
      "text/plain": [
       "<Figure size 432x288 with 1 Axes>"
      ]
     },
     "metadata": {
      "needs_background": "light"
     },
     "output_type": "display_data"
    }
   ],
   "source": [
    "plt.hist(logS_gn,bins=1000,density=True);\n",
    "plt.hist(logS_blk,bins=1000,density=True);"
   ]
  },
  {
   "cell_type": "code",
   "execution_count": null,
   "id": "dc36a29d-d171-4a32-a276-cadaca7046fb",
   "metadata": {},
   "outputs": [],
   "source": []
  },
  {
   "cell_type": "code",
   "execution_count": 263,
   "id": "5da2926e-ad33-4fae-9ea5-5ea0b175d4aa",
   "metadata": {},
   "outputs": [
    {
     "data": {
      "text/plain": [
       "'blank0403'"
      ]
     },
     "execution_count": 263,
     "metadata": {},
     "output_type": "execute_result"
    }
   ],
   "source": []
  },
  {
   "cell_type": "code",
   "execution_count": 180,
   "id": "496b3d4c-a00e-4270-bc88-b088e0990d83",
   "metadata": {},
   "outputs": [
    {
     "data": {
      "text/plain": [
       "(2221588, 4)"
      ]
     },
     "execution_count": 180,
     "metadata": {},
     "output_type": "execute_result"
    }
   ],
   "source": [
    "np.mean(X_gn,axis=-1).shape"
   ]
  },
  {
   "cell_type": "code",
   "execution_count": 253,
   "id": "c4daf86c-6d8d-40bf-92bf-a7d85b0d3330",
   "metadata": {},
   "outputs": [],
   "source": []
  },
  {
   "cell_type": "code",
   "execution_count": 265,
   "id": "83612bf4-5903-4c9b-b97f-541bc40a8b74",
   "metadata": {},
   "outputs": [
    {
     "data": {
      "image/png": "[encoded data removed]",
      "text/plain": [
       "<Figure size 432x288 with 1 Axes>"
      ]
     },
     "metadata": {
      "needs_background": "light"
     },
     "output_type": "display_data"
    }
   ],
   "source": [
    "plt.hist(np.log(H_mn),bins=1000);"
   ]
  },
  {
   "cell_type": "code",
   "execution_count": null,
   "id": "612d8c8f-404e-4b7f-91e4-171a69ecc44d",
   "metadata": {},
   "outputs": [],
   "source": []
  },
  {
   "cell_type": "code",
   "execution_count": 255,
   "id": "ec354328-33a9-4afe-9199-e26acab6cdec",
   "metadata": {},
   "outputs": [],
   "source": []
  },
  {
   "cell_type": "code",
   "execution_count": 256,
   "id": "3cbd6035-e40c-418b-8f60-6dbd98ead3c5",
   "metadata": {},
   "outputs": [
    {
     "data": {
      "image/png": "[encoded data removed]",
      "text/plain": [
       "<Figure size 432x288 with 1 Axes>"
      ]
     },
     "metadata": {
      "needs_background": "light"
     },
     "output_type": "display_data"
    }
   ],
   "source": [
    "plt.hist(logS,bins=1000);"
   ]
  },
  {
   "cell_type": "code",
   "execution_count": null,
   "id": "783453ae-0602-4bad-8082-fb7a7f801b5c",
   "metadata": {},
   "outputs": [],
   "source": []
  },
  {
   "cell_type": "code",
   "execution_count": 257,
   "id": "146f872e-bbfa-4c12-af51-131ba37417db",
   "metadata": {},
   "outputs": [
    {
     "data": {
      "text/plain": [
       "74348884"
      ]
     },
     "execution_count": 257,
     "metadata": {},
     "output_type": "execute_result"
    }
   ],
   "source": [
    "len(dec.XH)"
   ]
  },
  {
   "cell_type": "code",
   "execution_count": 78,
   "id": "40e13a32-8bdf-4ef1-95ed-e9f5408c8eef",
   "metadata": {},
   "outputs": [],
   "source": [
    "scores_bits= 'Dcx'\n",
    "ign = list(dec.gns_names).index(gene)\n",
    "keep_gn = inds[torch.sum(scores_bitsT[:,codeT[ign]],axis=-1)>=nmin_bits]\n",
    "XH_ = dec.XH[r0[keep_gn]]"
   ]
  },
  {
   "cell_type": "code",
   "execution_count": null,
   "id": "99a2a389-edad-4445-a550-1dfeb6760331",
   "metadata": {},
   "outputs": [],
   "source": [
    "inds_spotsN =  np.zeros([len(res),nbits],dtype=int)-1\n",
    "inds_spotsN[ires[arg_scores],bits_unfold[arg_scores]]=res_unfolder[arg_scores]"
   ]
  },
  {
   "cell_type": "code",
   "execution_count": null,
   "id": "6fbe9477-8979-4b4a-89ce-6d35cda27000",
   "metadata": {},
   "outputs": [],
   "source": []
  },
  {
   "cell_type": "code",
   "execution_count": 77,
   "id": "27392faf-5cb5-4eda-84a7-3911352c11b0",
   "metadata": {},
   "outputs": [],
   "source": []
  },
  {
   "cell_type": "code",
   "execution_count": 68,
   "id": "772c25b7-6620-4580-b3d1-e1e94ee267ce",
   "metadata": {},
   "outputs": [
    {
     "name": "stderr",
     "output_type": "stream",
     "text": [
      "  2%|█▌                                                                               | 16/826 [00:08<07:09,  1.89it/s]\n"
     ]
    },
    {
     "ename": "KeyboardInterrupt",
     "evalue": "",
     "output_type": "error",
     "traceback": [
      "\u001b[1;31m---------------------------------------------------------------------------\u001b[0m",
      "\u001b[1;31mKeyboardInterrupt\u001b[0m                         Traceback (most recent call last)",
      "\u001b[1;32mC:\\Users\\BINTUL~2\\AppData\\Local\\Temp/ipykernel_16884/402330825.py\u001b[0m in \u001b[0;36m<module>\u001b[1;34m\u001b[0m\n\u001b[0;32m      3\u001b[0m \u001b[0minds\u001b[0m \u001b[1;33m=\u001b[0m \u001b[0mtorch\u001b[0m\u001b[1;33m.\u001b[0m\u001b[0marange\u001b[0m\u001b[1;33m(\u001b[0m\u001b[1;36m0\u001b[0m\u001b[1;33m,\u001b[0m\u001b[0mlen\u001b[0m\u001b[1;33m(\u001b[0m\u001b[0mscores_bitsT\u001b[0m\u001b[1;33m)\u001b[0m\u001b[1;33m,\u001b[0m\u001b[0mdtype\u001b[0m\u001b[1;33m=\u001b[0m\u001b[0mint\u001b[0m\u001b[1;33m)\u001b[0m\u001b[1;33m\u001b[0m\u001b[1;33m\u001b[0m\u001b[0m\n\u001b[0;32m      4\u001b[0m \u001b[1;32mfor\u001b[0m \u001b[0mign\u001b[0m \u001b[1;32min\u001b[0m \u001b[0mtqdm\u001b[0m\u001b[1;33m(\u001b[0m\u001b[0mrange\u001b[0m\u001b[1;33m(\u001b[0m\u001b[0mlen\u001b[0m\u001b[1;33m(\u001b[0m\u001b[0mdec\u001b[0m\u001b[1;33m.\u001b[0m\u001b[0mcodes__\u001b[0m\u001b[1;33m)\u001b[0m\u001b[1;33m)\u001b[0m\u001b[1;33m)\u001b[0m\u001b[1;33m:\u001b[0m\u001b[1;33m\u001b[0m\u001b[1;33m\u001b[0m\u001b[0m\n\u001b[1;32m----> 5\u001b[1;33m     \u001b[0mkeep_gn\u001b[0m \u001b[1;33m=\u001b[0m \u001b[0minds\u001b[0m\u001b[1;33m[\u001b[0m\u001b[0mtorch\u001b[0m\u001b[1;33m.\u001b[0m\u001b[0msum\u001b[0m\u001b[1;33m(\u001b[0m\u001b[0mscores_bitsT\u001b[0m\u001b[1;33m[\u001b[0m\u001b[1;33m:\u001b[0m\u001b[1;33m,\u001b[0m\u001b[0mcodeT\u001b[0m\u001b[1;33m[\u001b[0m\u001b[0mign\u001b[0m\u001b[1;33m]\u001b[0m\u001b[1;33m]\u001b[0m\u001b[1;33m,\u001b[0m\u001b[0maxis\u001b[0m\u001b[1;33m=\u001b[0m\u001b[1;33m-\u001b[0m\u001b[1;36m1\u001b[0m\u001b[1;33m)\u001b[0m\u001b[1;33m>=\u001b[0m\u001b[0mnmin_bits\u001b[0m\u001b[1;33m]\u001b[0m\u001b[1;33m\u001b[0m\u001b[1;33m\u001b[0m\u001b[0m\n\u001b[0m",
      "\u001b[1;31mKeyboardInterrupt\u001b[0m: "
     ]
    }
   ],
   "source": [
    "code = np.array(dec.codes__[:])\n",
    "codeT = torch.from_numpy(code)\n",
    "inds = torch.arange(0,len(scores_bitsT),dtype=int)\n",
    "for ign in tqdm(range(len(dec.codes__))):\n",
    "    keep_gn = inds[torch.sum(scores_bitsT[:,codeT[ign]],axis=-1)>=nmin_bits]\n"
   ]
  },
  {
   "cell_type": "code",
   "execution_count": 2,
   "id": "8833f77b-6589-4e81-bea9-add9e201b6bf",
   "metadata": {},
   "outputs": [
    {
     "ename": "NameError",
     "evalue": "name 'dec' is not defined",
     "output_type": "error",
     "traceback": [
      "\u001b[1;31m---------------------------------------------------------------------------\u001b[0m",
      "\u001b[1;31mNameError\u001b[0m                                 Traceback (most recent call last)",
      "\u001b[1;32mC:\\Users\\BINTUL~2\\AppData\\Local\\Temp/ipykernel_8708/2978990457.py\u001b[0m in \u001b[0;36m<module>\u001b[1;34m\u001b[0m\n\u001b[1;32m----> 1\u001b[1;33m \u001b[0mdec\u001b[0m\u001b[1;33m\u001b[0m\u001b[1;33m\u001b[0m\u001b[0m\n\u001b[0m",
      "\u001b[1;31mNameError\u001b[0m: name 'dec' is not defined"
     ]
    }
   ],
   "source": [
    "dec"
   ]
  },
  {
   "cell_type": "code",
   "execution_count": 71,
   "id": "319735b3-d0a8-4237-9bb1-e649dc18a6d4",
   "metadata": {},
   "outputs": [],
   "source": []
  },
  {
   "cell_type": "code",
   "execution_count": 42,
   "id": "07b27eaa-ed39-4819-8e52-3684e6f23e63",
   "metadata": {},
   "outputs": [],
   "source": []
  },
  {
   "cell_type": "code",
   "execution_count": 43,
   "id": "539eb9e9-67c1-4179-8033-c5f309be15cf",
   "metadata": {},
   "outputs": [],
   "source": []
  },
  {
   "cell_type": "code",
   "execution_count": 54,
   "id": "8e6e051a-bb9e-4b7f-bcec-c18c2dd00c98",
   "metadata": {},
   "outputs": [
    {
     "ename": "KeyboardInterrupt",
     "evalue": "",
     "output_type": "error",
     "traceback": [
      "\u001b[1;31m---------------------------------------------------------------------------\u001b[0m",
      "\u001b[1;31mKeyboardInterrupt\u001b[0m                         Traceback (most recent call last)",
      "\u001b[1;32mC:\\Users\\BINTUL~2\\AppData\\Local\\Temp/ipykernel_16884/2630876567.py\u001b[0m in \u001b[0;36m<module>\u001b[1;34m\u001b[0m\n\u001b[0;32m      3\u001b[0m \u001b[0mcode\u001b[0m \u001b[1;33m=\u001b[0m \u001b[0mnp\u001b[0m\u001b[1;33m.\u001b[0m\u001b[0marray\u001b[0m\u001b[1;33m(\u001b[0m\u001b[0mdec\u001b[0m\u001b[1;33m.\u001b[0m\u001b[0mcodes__\u001b[0m\u001b[1;33m[\u001b[0m\u001b[1;33m:\u001b[0m\u001b[1;36m100\u001b[0m\u001b[1;33m]\u001b[0m\u001b[1;33m)\u001b[0m\u001b[1;33m\u001b[0m\u001b[1;33m\u001b[0m\u001b[0m\n\u001b[0;32m      4\u001b[0m \u001b[0mcodeT\u001b[0m \u001b[1;33m=\u001b[0m \u001b[0mtorch\u001b[0m\u001b[1;33m.\u001b[0m\u001b[0mfrom_numpy\u001b[0m\u001b[1;33m(\u001b[0m\u001b[0mcode\u001b[0m\u001b[1;33m)\u001b[0m\u001b[1;33m\u001b[0m\u001b[1;33m\u001b[0m\u001b[0m\n\u001b[1;32m----> 5\u001b[1;33m \u001b[0mtorch\u001b[0m\u001b[1;33m.\u001b[0m\u001b[0msum\u001b[0m\u001b[1;33m(\u001b[0m\u001b[0mscores_bitsT\u001b[0m\u001b[1;33m[\u001b[0m\u001b[1;33m:\u001b[0m\u001b[1;33m,\u001b[0m\u001b[0mcodeT\u001b[0m\u001b[1;33m]\u001b[0m\u001b[1;33m,\u001b[0m\u001b[0maxis\u001b[0m\u001b[1;33m=\u001b[0m\u001b[1;33m-\u001b[0m\u001b[1;36m1\u001b[0m\u001b[1;33m)\u001b[0m\u001b[1;33m.\u001b[0m\u001b[0mshape\u001b[0m\u001b[1;33m\u001b[0m\u001b[1;33m\u001b[0m\u001b[0m\n\u001b[0m\u001b[0;32m      6\u001b[0m \u001b[0mprint\u001b[0m\u001b[1;33m(\u001b[0m\u001b[0mtime\u001b[0m\u001b[1;33m.\u001b[0m\u001b[0mtime\u001b[0m\u001b[1;33m(\u001b[0m\u001b[1;33m)\u001b[0m\u001b[1;33m-\u001b[0m\u001b[0mstart\u001b[0m\u001b[1;33m)\u001b[0m\u001b[1;33m\u001b[0m\u001b[1;33m\u001b[0m\u001b[0m\n",
      "\u001b[1;31mKeyboardInterrupt\u001b[0m: "
     ]
    }
   ],
   "source": [
    "import time\n",
    "start = time.time()\n",
    "code = np.array(dec.codes__[:100])\n",
    "codeT = torch.from_numpy(code)\n",
    "torch.sum(scores_bitsT[:,codeT],axis=-1).shape\n",
    "print(time.time()-start)"
   ]
  },
  {
   "cell_type": "code",
   "execution_count": 53,
   "id": "01db13bd-4b00-415d-b18c-566f38e05431",
   "metadata": {},
   "outputs": [
    {
     "data": {
      "text/plain": [
       "24"
      ]
     },
     "execution_count": 53,
     "metadata": {},
     "output_type": "execute_result"
    }
   ],
   "source": [
    "torch.get_num_threads()"
   ]
  },
  {
   "cell_type": "code",
   "execution_count": 50,
   "id": "44dd0694-9125-4e16-901f-64ab8eba619e",
   "metadata": {},
   "outputs": [
    {
     "data": {
      "text/plain": [
       "tensor([[ 3, 27, 30, 33],\n",
       "        [ 0,  9, 12, 15],\n",
       "        [ 0,  9, 18, 24],\n",
       "        [ 0, 12, 15, 21],\n",
       "        [ 0,  6, 18, 21],\n",
       "        [ 0,  6,  9, 21],\n",
       "        [ 3,  6,  9, 24],\n",
       "        [ 6, 12, 15, 21],\n",
       "        [ 0,  3,  6,  9],\n",
       "        [ 0,  3,  6, 24],\n",
       "        [ 0,  6,  9, 15],\n",
       "        [ 0,  6, 12, 24],\n",
       "        [ 6,  9, 12, 21],\n",
       "        [15, 21, 24, 27],\n",
       "        [ 3,  9, 18, 24],\n",
       "        [30, 36, 39, 42],\n",
       "        [24, 27, 30, 33],\n",
       "        [ 0,  3, 12, 18],\n",
       "        [ 0,  3, 18, 21],\n",
       "        [ 0,  9, 15, 24],\n",
       "        [ 6,  9, 12, 24],\n",
       "        [ 3,  6,  9, 21],\n",
       "        [ 0,  9, 12, 21],\n",
       "        [ 0,  6,  9, 12],\n",
       "        [ 0, 12, 18, 21],\n",
       "        [27, 30, 33, 36],\n",
       "        [ 0,  9, 18, 27],\n",
       "        [ 3,  9, 15, 21],\n",
       "        [ 9, 12, 15, 18],\n",
       "        [ 0,  6,  9, 27],\n",
       "        [ 3,  6, 12, 24],\n",
       "        [ 3,  9, 15, 27],\n",
       "        [18, 21, 24, 27],\n",
       "        [ 3, 15, 18, 21],\n",
       "        [ 0,  9, 15, 18],\n",
       "        [ 0,  3,  6, 15],\n",
       "        [ 6,  9, 15, 18],\n",
       "        [ 6,  9, 18, 21],\n",
       "        [ 0,  3, 18, 24],\n",
       "        [30, 33, 36, 45]])"
      ]
     },
     "execution_count": 50,
     "metadata": {},
     "output_type": "execute_result"
    }
   ],
   "source": [
    "codeT"
   ]
  },
  {
   "cell_type": "code",
   "execution_count": 19,
   "id": "17d1642c-0d8a-4dc5-aa43-376e74dc2850",
   "metadata": {},
   "outputs": [
    {
     "data": {
      "text/plain": [
       "45300860"
      ]
     },
     "execution_count": 19,
     "metadata": {},
     "output_type": "execute_result"
    }
   ],
   "source": [
    "np.sum(np.sum(scores_bits,axis=-1)>nmin_bits)"
   ]
  },
  {
   "cell_type": "code",
   "execution_count": 62,
   "id": "bc163667-9abf-4ba1-b91d-f82d67122a13",
   "metadata": {},
   "outputs": [],
   "source": [
    "import torch"
   ]
  },
  {
   "cell_type": "code",
   "execution_count": 66,
   "id": "2611414b-2ffb-4e91-b6a9-f37f19377d9d",
   "metadata": {},
   "outputs": [],
   "source": [
    "torch_res_unfolder = torch.from_numpy(res_unfolder)\n",
    "torch_ires = torch.from_numpy(ires)\n",
    "RS = dec.XH[:,-1].astype(int)\n",
    "bits_unfold = RS[res_unfolder]\n",
    "torch_RS =  torch.from_numpy(RS)"
   ]
  },
  {
   "cell_type": "code",
   "execution_count": 84,
   "id": "c933db97-7bfe-4720-844c-b999a75fb6c5",
   "metadata": {},
   "outputs": [],
   "source": [
    "bits_unfold = RS[res_unfolder]"
   ]
  },
  {
   "cell_type": "code",
   "execution_count": 111,
   "id": "71ae2606-cb78-484b-a7af-528e2bf3deee",
   "metadata": {},
   "outputs": [],
   "source": []
  },
  {
   "cell_type": "code",
   "execution_count": 112,
   "id": "a8e5eba3-3d2c-461b-80b1-cb51a772d5e7",
   "metadata": {},
   "outputs": [
    {
     "data": {
      "text/plain": [
       "(torch.int32, torch.int32)"
      ]
     },
     "execution_count": 112,
     "metadata": {},
     "output_type": "execute_result"
    }
   ],
   "source": [
    "codeT.dtype,scores_bits.dtype"
   ]
  },
  {
   "cell_type": "code",
   "execution_count": null,
   "id": "e3fb9b2d-5f34-45ac-837e-c2c7f2cfe20d",
   "metadata": {},
   "outputs": [],
   "source": [
    "codeT = torch.from_numpy(dec.codes_01.T)\n",
    "dots = torch.matmul(scores_bits[:],codeT)"
   ]
  },
  {
   "cell_type": "code",
   "execution_count": null,
   "id": "1f0f9a4d-194c-49a1-b56a-27f95cecea4b",
   "metadata": {},
   "outputs": [],
   "source": [
    "torch.set_num_threads(4)"
   ]
  },
  {
   "cell_type": "code",
   "execution_count": null,
   "id": "636d6a1c-a971-4ff8-951b-5e2aa1ca5d15",
   "metadata": {},
   "outputs": [],
   "source": [
    "scores_bits[:10000]"
   ]
  },
  {
   "cell_type": "code",
   "execution_count": 99,
   "id": "a967c4e4-3f43-459b-9623-9def679494a3",
   "metadata": {},
   "outputs": [
    {
     "data": {
      "text/plain": [
       "(torch.Size([48, 59387835]), torch.Size([48, 826]))"
      ]
     },
     "execution_count": 99,
     "metadata": {},
     "output_type": "execute_result"
    }
   ],
   "source": [
    "scores_bits.T.shape,codeT.shape"
   ]
  },
  {
   "cell_type": "code",
   "execution_count": 91,
   "id": "3bdfe79e-61bd-49fc-a5ce-9e021a6cc027",
   "metadata": {},
   "outputs": [
    {
     "data": {
      "text/plain": [
       "\u001b[1;31mSignature:\u001b[0m\n",
       "\u001b[0mdec\u001b[0m\u001b[1;33m.\u001b[0m\u001b[0mget_icodes\u001b[0m\u001b[1;33m(\u001b[0m\u001b[1;33m\n",
       "\u001b[0m    \u001b[0mnmin_bits\u001b[0m\u001b[1;33m=\u001b[0m\u001b[1;36m4\u001b[0m\u001b[1;33m,\u001b[0m\u001b[1;33m\n",
       "\u001b[0m    \u001b[0mmethod\u001b[0m\u001b[1;33m=\u001b[0m\u001b[1;34m'top4'\u001b[0m\u001b[1;33m,\u001b[0m\u001b[1;33m\n",
       "\u001b[0m    \u001b[0mredo\u001b[0m\u001b[1;33m=\u001b[0m\u001b[1;32mFalse\u001b[0m\u001b[1;33m,\u001b[0m\u001b[1;33m\n",
       "\u001b[0m    \u001b[0mnorm_brightness\u001b[0m\u001b[1;33m=\u001b[0m\u001b[1;32mNone\u001b[0m\u001b[1;33m,\u001b[0m\u001b[1;33m\n",
       "\u001b[0m    \u001b[0mnbits\u001b[0m\u001b[1;33m=\u001b[0m\u001b[1;36m48\u001b[0m\u001b[1;33m,\u001b[0m\u001b[1;33m\n",
       "\u001b[0m    \u001b[0mis_unique\u001b[0m\u001b[1;33m=\u001b[0m\u001b[1;32mTrue\u001b[0m\u001b[1;33m,\u001b[0m\u001b[1;33m\n",
       "\u001b[0m\u001b[1;33m)\u001b[0m\u001b[1;33m\u001b[0m\u001b[1;33m\u001b[0m\u001b[0m\n",
       "\u001b[1;31mDocstring:\u001b[0m <no docstring>\n",
       "\u001b[1;31mSource:\u001b[0m   \n",
       "    \u001b[1;32mdef\u001b[0m \u001b[0mget_icodes\u001b[0m\u001b[1;33m(\u001b[0m\u001b[0mself\u001b[0m\u001b[1;33m,\u001b[0m\u001b[0mnmin_bits\u001b[0m\u001b[1;33m=\u001b[0m\u001b[1;36m4\u001b[0m\u001b[1;33m,\u001b[0m\u001b[0mmethod\u001b[0m \u001b[1;33m=\u001b[0m \u001b[1;34m'top4'\u001b[0m\u001b[1;33m,\u001b[0m\u001b[0mredo\u001b[0m\u001b[1;33m=\u001b[0m\u001b[1;32mFalse\u001b[0m\u001b[1;33m,\u001b[0m\u001b[0mnorm_brightness\u001b[0m\u001b[1;33m=\u001b[0m\u001b[1;32mNone\u001b[0m\u001b[1;33m,\u001b[0m\u001b[0mnbits\u001b[0m\u001b[1;33m=\u001b[0m\u001b[1;36m48\u001b[0m\u001b[1;33m,\u001b[0m\u001b[0mis_unique\u001b[0m\u001b[1;33m=\u001b[0m\u001b[1;32mTrue\u001b[0m\u001b[1;33m)\u001b[0m\u001b[1;33m:\u001b[0m    \u001b[1;33m\n",
       "\u001b[0m        \u001b[1;31m#### unfold res which is a list of list with clusters of loc.\u001b[0m\u001b[1;33m\n",
       "\u001b[0m        \u001b[1;33m\n",
       "\u001b[0m        \u001b[1;33m\n",
       "\u001b[0m        \u001b[0mres\u001b[0m \u001b[1;33m=\u001b[0m \u001b[0mself\u001b[0m\u001b[1;33m.\u001b[0m\u001b[0mres\u001b[0m\u001b[1;33m\n",
       "\u001b[0m\u001b[1;33m\n",
       "\u001b[0m        \u001b[1;32mimport\u001b[0m \u001b[0mtime\u001b[0m\u001b[1;33m\n",
       "\u001b[0m        \u001b[0mstart\u001b[0m \u001b[1;33m=\u001b[0m \u001b[0mtime\u001b[0m\u001b[1;33m.\u001b[0m\u001b[0mtime\u001b[0m\u001b[1;33m(\u001b[0m\u001b[1;33m)\u001b[0m\u001b[1;33m\n",
       "\u001b[0m        \u001b[0mres\u001b[0m \u001b[1;33m=\u001b[0m \u001b[1;33m[\u001b[0m\u001b[0mr\u001b[0m \u001b[1;32mfor\u001b[0m \u001b[0mr\u001b[0m \u001b[1;32min\u001b[0m \u001b[0mres\u001b[0m \u001b[1;32mif\u001b[0m \u001b[0mlen\u001b[0m\u001b[1;33m(\u001b[0m\u001b[0mr\u001b[0m\u001b[1;33m)\u001b[0m\u001b[1;33m>=\u001b[0m\u001b[0mnmin_bits\u001b[0m\u001b[1;33m]\u001b[0m\u001b[1;33m\n",
       "\u001b[0m        \u001b[1;31m#rlens = [len(r) for r in res]\u001b[0m\u001b[1;33m\n",
       "\u001b[0m        \u001b[1;31m#edges = np.cumsum([0]+rlens)\u001b[0m\u001b[1;33m\n",
       "\u001b[0m        \u001b[0mres_unfolder\u001b[0m \u001b[1;33m=\u001b[0m \u001b[0mnp\u001b[0m\u001b[1;33m.\u001b[0m\u001b[0marray\u001b[0m\u001b[1;33m(\u001b[0m\u001b[1;33m[\u001b[0m\u001b[0mr_\u001b[0m \u001b[1;32mfor\u001b[0m \u001b[0mr\u001b[0m \u001b[1;32min\u001b[0m \u001b[0mres\u001b[0m \u001b[1;32mfor\u001b[0m \u001b[0mr_\u001b[0m \u001b[1;32min\u001b[0m \u001b[0mr\u001b[0m\u001b[1;33m]\u001b[0m\u001b[1;33m)\u001b[0m\u001b[1;33m\n",
       "\u001b[0m        \u001b[1;31m#res0 = np.array([r[0] for r in res for r_ in r])\u001b[0m\u001b[1;33m\n",
       "\u001b[0m        \u001b[0mires\u001b[0m \u001b[1;33m=\u001b[0m \u001b[0mnp\u001b[0m\u001b[1;33m.\u001b[0m\u001b[0marray\u001b[0m\u001b[1;33m(\u001b[0m\u001b[1;33m[\u001b[0m\u001b[0mir\u001b[0m \u001b[1;32mfor\u001b[0m \u001b[0mir\u001b[0m\u001b[1;33m,\u001b[0m\u001b[0mr\u001b[0m \u001b[1;32min\u001b[0m \u001b[0menumerate\u001b[0m\u001b[1;33m(\u001b[0m\u001b[0mres\u001b[0m\u001b[1;33m)\u001b[0m \u001b[1;32mfor\u001b[0m \u001b[0mr_\u001b[0m \u001b[1;32min\u001b[0m \u001b[0mr\u001b[0m\u001b[1;33m]\u001b[0m\u001b[1;33m)\u001b[0m\u001b[1;33m\n",
       "\u001b[0m        \u001b[0mprint\u001b[0m\u001b[1;33m(\u001b[0m\u001b[1;34m\"Unfolded molecules:\"\u001b[0m\u001b[1;33m,\u001b[0m\u001b[0mtime\u001b[0m\u001b[1;33m.\u001b[0m\u001b[0mtime\u001b[0m\u001b[1;33m(\u001b[0m\u001b[1;33m)\u001b[0m\u001b[1;33m-\u001b[0m\u001b[0mstart\u001b[0m\u001b[1;33m)\u001b[0m\u001b[1;33m\n",
       "\u001b[0m\u001b[1;33m\n",
       "\u001b[0m        \u001b[1;31m### get scores across bits\u001b[0m\u001b[1;33m\n",
       "\u001b[0m        \u001b[1;32mimport\u001b[0m \u001b[0mtime\u001b[0m\u001b[1;33m\n",
       "\u001b[0m        \u001b[0mstart\u001b[0m \u001b[1;33m=\u001b[0m \u001b[0mtime\u001b[0m\u001b[1;33m.\u001b[0m\u001b[0mtime\u001b[0m\u001b[1;33m(\u001b[0m\u001b[1;33m)\u001b[0m\u001b[1;33m\n",
       "\u001b[0m        \u001b[0mRS\u001b[0m \u001b[1;33m=\u001b[0m \u001b[0mself\u001b[0m\u001b[1;33m.\u001b[0m\u001b[0mXH\u001b[0m\u001b[1;33m[\u001b[0m\u001b[1;33m:\u001b[0m\u001b[1;33m,\u001b[0m\u001b[1;33m-\u001b[0m\u001b[1;36m1\u001b[0m\u001b[1;33m]\u001b[0m\u001b[1;33m.\u001b[0m\u001b[0mastype\u001b[0m\u001b[1;33m(\u001b[0m\u001b[0mint\u001b[0m\u001b[1;33m)\u001b[0m \u001b[1;31m#bits\u001b[0m\u001b[1;33m\n",
       "\u001b[0m        \u001b[0mbrighness\u001b[0m \u001b[1;33m=\u001b[0m \u001b[0mself\u001b[0m\u001b[1;33m.\u001b[0m\u001b[0mXH\u001b[0m\u001b[1;33m[\u001b[0m\u001b[1;33m:\u001b[0m\u001b[1;33m,\u001b[0m\u001b[1;33m-\u001b[0m\u001b[1;36m3\u001b[0m\u001b[1;33m]\u001b[0m\u001b[1;33m\n",
       "\u001b[0m        \u001b[0mbrighness_n\u001b[0m \u001b[1;33m=\u001b[0m \u001b[0mbrighness\u001b[0m\u001b[1;33m.\u001b[0m\u001b[0mcopy\u001b[0m\u001b[1;33m(\u001b[0m\u001b[1;33m)\u001b[0m\u001b[1;33m\n",
       "\u001b[0m        \u001b[1;32mif\u001b[0m \u001b[0mnorm_brightness\u001b[0m \u001b[1;32mis\u001b[0m \u001b[1;32mnot\u001b[0m \u001b[1;32mNone\u001b[0m\u001b[1;33m:\u001b[0m\u001b[1;33m\n",
       "\u001b[0m            \u001b[0mcolors\u001b[0m \u001b[1;33m=\u001b[0m \u001b[0mself\u001b[0m\u001b[1;33m.\u001b[0m\u001b[0mXH\u001b[0m\u001b[1;33m[\u001b[0m\u001b[1;33m:\u001b[0m\u001b[1;33m,\u001b[0m\u001b[0mnorm_brightness\u001b[0m\u001b[1;33m]\u001b[0m\u001b[1;31m#self.XH[:,-1] for bits\u001b[0m\u001b[1;33m\n",
       "\u001b[0m            \u001b[0mmed_cols\u001b[0m \u001b[1;33m=\u001b[0m \u001b[1;33m{\u001b[0m\u001b[0mcol\u001b[0m\u001b[1;33m:\u001b[0m \u001b[0mnp\u001b[0m\u001b[1;33m.\u001b[0m\u001b[0mmedian\u001b[0m\u001b[1;33m(\u001b[0m\u001b[0mbrighness\u001b[0m\u001b[1;33m[\u001b[0m\u001b[0mcol\u001b[0m\u001b[1;33m==\u001b[0m\u001b[0mcolors\u001b[0m\u001b[1;33m]\u001b[0m\u001b[1;33m)\u001b[0m\u001b[1;32mfor\u001b[0m \u001b[0mcol\u001b[0m \u001b[1;32min\u001b[0m \u001b[0mnp\u001b[0m\u001b[1;33m.\u001b[0m\u001b[0munique\u001b[0m\u001b[1;33m(\u001b[0m\u001b[0mcolors\u001b[0m\u001b[1;33m)\u001b[0m\u001b[1;33m}\u001b[0m\u001b[1;33m\n",
       "\u001b[0m            \u001b[1;32mfor\u001b[0m \u001b[0mcol\u001b[0m \u001b[1;32min\u001b[0m \u001b[0mnp\u001b[0m\u001b[1;33m.\u001b[0m\u001b[0munique\u001b[0m\u001b[1;33m(\u001b[0m\u001b[0mcolors\u001b[0m\u001b[1;33m)\u001b[0m\u001b[1;33m:\u001b[0m\u001b[1;33m\n",
       "\u001b[0m                \u001b[0mbrighness_n\u001b[0m\u001b[1;33m[\u001b[0m\u001b[0mcol\u001b[0m\u001b[1;33m==\u001b[0m\u001b[0mcolors\u001b[0m\u001b[1;33m]\u001b[0m\u001b[1;33m=\u001b[0m\u001b[0mbrighness\u001b[0m\u001b[1;33m[\u001b[0m\u001b[0mcol\u001b[0m\u001b[1;33m==\u001b[0m\u001b[0mcolors\u001b[0m\u001b[1;33m]\u001b[0m\u001b[1;33m/\u001b[0m\u001b[0mmed_cols\u001b[0m\u001b[1;33m[\u001b[0m\u001b[0mcol\u001b[0m\u001b[1;33m]\u001b[0m\u001b[1;33m\n",
       "\u001b[0m        \u001b[0mscores\u001b[0m \u001b[1;33m=\u001b[0m \u001b[0mbrighness_n\u001b[0m\u001b[1;33m[\u001b[0m\u001b[0mres_unfolder\u001b[0m\u001b[1;33m]\u001b[0m\u001b[1;33m\n",
       "\u001b[0m       \u001b[1;33m\n",
       "\u001b[0m        \u001b[0mbits_unfold\u001b[0m \u001b[1;33m=\u001b[0m \u001b[0mRS\u001b[0m\u001b[1;33m[\u001b[0m\u001b[0mres_unfolder\u001b[0m\u001b[1;33m]\u001b[0m\u001b[1;33m\n",
       "\u001b[0m        \u001b[1;32mif\u001b[0m \u001b[0mnbits\u001b[0m \u001b[1;32mis\u001b[0m \u001b[1;32mNone\u001b[0m\u001b[1;33m:\u001b[0m\u001b[1;33m\n",
       "\u001b[0m            \u001b[0mnbits\u001b[0m \u001b[1;33m=\u001b[0m \u001b[0mlen\u001b[0m\u001b[1;33m(\u001b[0m\u001b[0mnp\u001b[0m\u001b[1;33m.\u001b[0m\u001b[0munique\u001b[0m\u001b[1;33m(\u001b[0m\u001b[0mRS\u001b[0m\u001b[1;33m)\u001b[0m\u001b[1;33m)\u001b[0m\u001b[1;31m####### might give error\u001b[0m\u001b[1;33m\n",
       "\u001b[0m        \u001b[0mscores_bits\u001b[0m \u001b[1;33m=\u001b[0m \u001b[0mnp\u001b[0m\u001b[1;33m.\u001b[0m\u001b[0mzeros\u001b[0m\u001b[1;33m(\u001b[0m\u001b[1;33m[\u001b[0m\u001b[0mlen\u001b[0m\u001b[1;33m(\u001b[0m\u001b[0mres\u001b[0m\u001b[1;33m)\u001b[0m\u001b[1;33m,\u001b[0m\u001b[0mnbits\u001b[0m\u001b[1;33m]\u001b[0m\u001b[1;33m)\u001b[0m\u001b[1;33m\n",
       "\u001b[0m        \u001b[0marg_scores\u001b[0m \u001b[1;33m=\u001b[0m \u001b[0mnp\u001b[0m\u001b[1;33m.\u001b[0m\u001b[0margsort\u001b[0m\u001b[1;33m(\u001b[0m\u001b[0mscores\u001b[0m\u001b[1;33m)\u001b[0m\u001b[1;33m\n",
       "\u001b[0m        \u001b[0mscores_bits\u001b[0m\u001b[1;33m[\u001b[0m\u001b[0mires\u001b[0m\u001b[1;33m[\u001b[0m\u001b[0marg_scores\u001b[0m\u001b[1;33m]\u001b[0m\u001b[1;33m,\u001b[0m\u001b[0mbits_unfold\u001b[0m\u001b[1;33m[\u001b[0m\u001b[0marg_scores\u001b[0m\u001b[1;33m]\u001b[0m\u001b[1;33m]\u001b[0m\u001b[1;33m=\u001b[0m\u001b[0mscores\u001b[0m\u001b[1;33m[\u001b[0m\u001b[0marg_scores\u001b[0m\u001b[1;33m]\u001b[0m\u001b[1;33m\n",
       "\u001b[0m\u001b[1;33m\n",
       "\u001b[0m        \u001b[1;32mimport\u001b[0m \u001b[0mtime\u001b[0m\u001b[1;33m\n",
       "\u001b[0m        \u001b[0mstart\u001b[0m \u001b[1;33m=\u001b[0m \u001b[0mtime\u001b[0m\u001b[1;33m.\u001b[0m\u001b[0mtime\u001b[0m\u001b[1;33m(\u001b[0m\u001b[1;33m)\u001b[0m\u001b[1;33m\n",
       "\u001b[0m        \u001b[1;31m### There are multiple avenues here: \u001b[0m\u001b[1;33m\n",
       "\u001b[0m        \u001b[1;31m#### nearest neighbors - slowest\u001b[0m\u001b[1;33m\n",
       "\u001b[0m        \u001b[1;31m#### best dot product - reasonable and can return missing elements - medium speed\u001b[0m\u001b[1;33m\n",
       "\u001b[0m        \u001b[1;31m#### find top 4 bits and call that a code - simplest and fastest\u001b[0m\u001b[1;33m\n",
       "\u001b[0m\u001b[1;33m\n",
       "\u001b[0m\u001b[1;33m\n",
       "\u001b[0m        \u001b[1;32mif\u001b[0m \u001b[0mmethod\u001b[0m \u001b[1;33m==\u001b[0m \u001b[1;34m'top4'\u001b[0m\u001b[1;33m:\u001b[0m\u001b[1;33m\n",
       "\u001b[0m            \u001b[0mcodes\u001b[0m \u001b[1;33m=\u001b[0m \u001b[0mself\u001b[0m\u001b[1;33m.\u001b[0m\u001b[0mcodes__\u001b[0m\u001b[1;33m\n",
       "\u001b[0m            \u001b[0mvals\u001b[0m \u001b[1;33m=\u001b[0m \u001b[0mnp\u001b[0m\u001b[1;33m.\u001b[0m\u001b[0margsort\u001b[0m\u001b[1;33m(\u001b[0m\u001b[0mscores_bits\u001b[0m\u001b[1;33m,\u001b[0m\u001b[0maxis\u001b[0m\u001b[1;33m=\u001b[0m\u001b[1;33m-\u001b[0m\u001b[1;36m1\u001b[0m\u001b[1;33m)\u001b[0m\u001b[1;33m\n",
       "\u001b[0m            \u001b[0mbcodes\u001b[0m \u001b[1;33m=\u001b[0m \u001b[0mnp\u001b[0m\u001b[1;33m.\u001b[0m\u001b[0msort\u001b[0m\u001b[1;33m(\u001b[0m\u001b[0mvals\u001b[0m\u001b[1;33m[\u001b[0m\u001b[1;33m:\u001b[0m\u001b[1;33m,\u001b[0m\u001b[1;33m-\u001b[0m\u001b[1;36m4\u001b[0m\u001b[1;33m:\u001b[0m\u001b[1;33m]\u001b[0m\u001b[1;33m,\u001b[0m\u001b[0maxis\u001b[0m\u001b[1;33m=\u001b[0m\u001b[1;33m-\u001b[0m\u001b[1;36m1\u001b[0m\u001b[1;33m)\u001b[0m\u001b[1;33m\n",
       "\u001b[0m            \u001b[0mbase\u001b[0m \u001b[1;33m=\u001b[0m \u001b[1;33m[\u001b[0m\u001b[0mnbits\u001b[0m\u001b[1;33m**\u001b[0m\u001b[1;36m3\u001b[0m\u001b[1;33m,\u001b[0m\u001b[0mnbits\u001b[0m\u001b[1;33m**\u001b[0m\u001b[1;36m2\u001b[0m\u001b[1;33m,\u001b[0m\u001b[0mnbits\u001b[0m\u001b[1;33m**\u001b[0m\u001b[1;36m1\u001b[0m\u001b[1;33m,\u001b[0m\u001b[0mnbits\u001b[0m\u001b[1;33m**\u001b[0m\u001b[1;36m0\u001b[0m\u001b[1;33m]\u001b[0m\u001b[1;33m\n",
       "\u001b[0m            \u001b[0mbcodes_b\u001b[0m \u001b[1;33m=\u001b[0m \u001b[0mnp\u001b[0m\u001b[1;33m.\u001b[0m\u001b[0msum\u001b[0m\u001b[1;33m(\u001b[0m\u001b[0mbcodes\u001b[0m\u001b[1;33m*\u001b[0m\u001b[0mbase\u001b[0m\u001b[1;33m,\u001b[0m\u001b[0maxis\u001b[0m\u001b[1;33m=\u001b[0m\u001b[1;36m1\u001b[0m\u001b[1;33m)\u001b[0m\u001b[1;33m\n",
       "\u001b[0m            \u001b[0mcodes_b\u001b[0m \u001b[1;33m=\u001b[0m \u001b[0mnp\u001b[0m\u001b[1;33m.\u001b[0m\u001b[0msum\u001b[0m\u001b[1;33m(\u001b[0m\u001b[0mnp\u001b[0m\u001b[1;33m.\u001b[0m\u001b[0msort\u001b[0m\u001b[1;33m(\u001b[0m\u001b[0mcodes\u001b[0m\u001b[1;33m,\u001b[0m\u001b[0maxis\u001b[0m\u001b[1;33m=\u001b[0m\u001b[1;33m-\u001b[0m\u001b[1;36m1\u001b[0m\u001b[1;33m)\u001b[0m\u001b[1;33m*\u001b[0m\u001b[0mbase\u001b[0m\u001b[1;33m,\u001b[0m\u001b[0maxis\u001b[0m\u001b[1;33m=\u001b[0m\u001b[1;36m1\u001b[0m\u001b[1;33m)\u001b[0m\u001b[1;33m\n",
       "\u001b[0m            \u001b[0micodesN\u001b[0m \u001b[1;33m=\u001b[0m \u001b[0mnp\u001b[0m\u001b[1;33m.\u001b[0m\u001b[0mzeros\u001b[0m\u001b[1;33m(\u001b[0m\u001b[0mlen\u001b[0m\u001b[1;33m(\u001b[0m\u001b[0mbcodes_b\u001b[0m\u001b[1;33m)\u001b[0m\u001b[1;33m,\u001b[0m\u001b[0mdtype\u001b[0m\u001b[1;33m=\u001b[0m\u001b[0mint\u001b[0m\u001b[1;33m)\u001b[0m\u001b[1;33m-\u001b[0m\u001b[1;36m1\u001b[0m\u001b[1;33m\n",
       "\u001b[0m            \u001b[1;32mfor\u001b[0m \u001b[0micd\u001b[0m\u001b[1;33m,\u001b[0m\u001b[0mcd\u001b[0m \u001b[1;32min\u001b[0m \u001b[0menumerate\u001b[0m\u001b[1;33m(\u001b[0m\u001b[0mcodes_b\u001b[0m\u001b[1;33m)\u001b[0m\u001b[1;33m:\u001b[0m\u001b[1;33m\n",
       "\u001b[0m                \u001b[0micodesN\u001b[0m\u001b[1;33m[\u001b[0m\u001b[0mbcodes_b\u001b[0m\u001b[1;33m==\u001b[0m\u001b[0mcd\u001b[0m\u001b[1;33m]\u001b[0m\u001b[1;33m=\u001b[0m\u001b[0micd\u001b[0m\u001b[1;33m\n",
       "\u001b[0m            \u001b[0mbad\u001b[0m \u001b[1;33m=\u001b[0m \u001b[0mnp\u001b[0m\u001b[1;33m.\u001b[0m\u001b[0msum\u001b[0m\u001b[1;33m(\u001b[0m\u001b[0mscores_bits\u001b[0m\u001b[1;33m>\u001b[0m\u001b[1;36m0\u001b[0m\u001b[1;33m,\u001b[0m\u001b[0maxis\u001b[0m\u001b[1;33m=\u001b[0m\u001b[1;33m-\u001b[0m\u001b[1;36m1\u001b[0m\u001b[1;33m)\u001b[0m\u001b[1;33m<\u001b[0m\u001b[1;36m4\u001b[0m\u001b[1;33m\n",
       "\u001b[0m            \u001b[1;33m\n",
       "\u001b[0m            \u001b[0micodesN\u001b[0m\u001b[1;33m[\u001b[0m\u001b[0mbad\u001b[0m\u001b[1;33m]\u001b[0m\u001b[1;33m=\u001b[0m\u001b[1;33m-\u001b[0m\u001b[1;36m1\u001b[0m\u001b[1;33m\n",
       "\u001b[0m            \u001b[0migood\u001b[0m \u001b[1;33m=\u001b[0m \u001b[0mnp\u001b[0m\u001b[1;33m.\u001b[0m\u001b[0mwhere\u001b[0m\u001b[1;33m(\u001b[0m\u001b[0micodesN\u001b[0m\u001b[1;33m>\u001b[0m\u001b[1;33m-\u001b[0m\u001b[1;36m1\u001b[0m\u001b[1;33m)\u001b[0m\u001b[1;33m[\u001b[0m\u001b[1;36m0\u001b[0m\u001b[1;33m]\u001b[0m\u001b[1;33m\n",
       "\u001b[0m            \u001b[0minds_spotsN\u001b[0m \u001b[1;33m=\u001b[0m  \u001b[0mnp\u001b[0m\u001b[1;33m.\u001b[0m\u001b[0mzeros\u001b[0m\u001b[1;33m(\u001b[0m\u001b[1;33m[\u001b[0m\u001b[0mlen\u001b[0m\u001b[1;33m(\u001b[0m\u001b[0mres\u001b[0m\u001b[1;33m)\u001b[0m\u001b[1;33m,\u001b[0m\u001b[0mnbits\u001b[0m\u001b[1;33m]\u001b[0m\u001b[1;33m,\u001b[0m\u001b[0mdtype\u001b[0m\u001b[1;33m=\u001b[0m\u001b[0mint\u001b[0m\u001b[1;33m)\u001b[0m\u001b[1;33m-\u001b[0m\u001b[1;36m1\u001b[0m\u001b[1;33m\n",
       "\u001b[0m            \u001b[0minds_spotsN\u001b[0m\u001b[1;33m[\u001b[0m\u001b[0mires\u001b[0m\u001b[1;33m[\u001b[0m\u001b[0marg_scores\u001b[0m\u001b[1;33m]\u001b[0m\u001b[1;33m,\u001b[0m\u001b[0mbits_unfold\u001b[0m\u001b[1;33m[\u001b[0m\u001b[0marg_scores\u001b[0m\u001b[1;33m]\u001b[0m\u001b[1;33m]\u001b[0m\u001b[1;33m=\u001b[0m\u001b[0mres_unfolder\u001b[0m\u001b[1;33m[\u001b[0m\u001b[0marg_scores\u001b[0m\u001b[1;33m]\u001b[0m\u001b[1;33m\n",
       "\u001b[0m            \u001b[0mres_prunedN\u001b[0m \u001b[1;33m=\u001b[0m \u001b[0mnp\u001b[0m\u001b[1;33m.\u001b[0m\u001b[0marray\u001b[0m\u001b[1;33m(\u001b[0m\u001b[1;33m[\u001b[0m\u001b[0minds_spotsN\u001b[0m\u001b[1;33m[\u001b[0m\u001b[0mimol\u001b[0m\u001b[1;33m]\u001b[0m\u001b[1;33m[\u001b[0m\u001b[0mcodes\u001b[0m\u001b[1;33m[\u001b[0m\u001b[0micd\u001b[0m\u001b[1;33m]\u001b[0m\u001b[1;33m]\u001b[0m \u001b[1;32mfor\u001b[0m \u001b[0mimol\u001b[0m\u001b[1;33m,\u001b[0m\u001b[0micd\u001b[0m \u001b[1;32min\u001b[0m \u001b[0menumerate\u001b[0m\u001b[1;33m(\u001b[0m\u001b[0micodesN\u001b[0m\u001b[1;33m)\u001b[0m \u001b[1;32mif\u001b[0m \u001b[0micd\u001b[0m\u001b[1;33m>\u001b[0m\u001b[1;33m-\u001b[0m\u001b[1;36m1\u001b[0m\u001b[1;33m]\u001b[0m\u001b[1;33m)\u001b[0m\u001b[1;33m\n",
       "\u001b[0m            \u001b[0mscores_prunedN\u001b[0m \u001b[1;33m=\u001b[0m \u001b[0mnp\u001b[0m\u001b[1;33m.\u001b[0m\u001b[0marray\u001b[0m\u001b[1;33m(\u001b[0m\u001b[1;33m[\u001b[0m\u001b[0mscores_bits\u001b[0m\u001b[1;33m[\u001b[0m\u001b[0mimol\u001b[0m\u001b[1;33m]\u001b[0m\u001b[1;33m[\u001b[0m\u001b[0mcodes\u001b[0m\u001b[1;33m[\u001b[0m\u001b[0micd\u001b[0m\u001b[1;33m]\u001b[0m\u001b[1;33m]\u001b[0m \u001b[1;32mfor\u001b[0m \u001b[0mimol\u001b[0m\u001b[1;33m,\u001b[0m\u001b[0micd\u001b[0m \u001b[1;32min\u001b[0m \u001b[0menumerate\u001b[0m\u001b[1;33m(\u001b[0m\u001b[0micodesN\u001b[0m\u001b[1;33m)\u001b[0m \u001b[1;32mif\u001b[0m \u001b[0micd\u001b[0m\u001b[1;33m>\u001b[0m\u001b[1;33m-\u001b[0m\u001b[1;36m1\u001b[0m\u001b[1;33m]\u001b[0m\u001b[1;33m)\u001b[0m\u001b[1;33m\n",
       "\u001b[0m            \u001b[0micodesN\u001b[0m \u001b[1;33m=\u001b[0m \u001b[0micodesN\u001b[0m\u001b[1;33m[\u001b[0m\u001b[0migood\u001b[0m\u001b[1;33m]\u001b[0m\u001b[1;33m\n",
       "\u001b[0m        \u001b[1;32melif\u001b[0m \u001b[0mmethod\u001b[0m \u001b[1;33m==\u001b[0m \u001b[1;34m'dot'\u001b[0m\u001b[1;33m:\u001b[0m\u001b[1;33m\n",
       "\u001b[0m            \u001b[0micodesN\u001b[0m \u001b[1;33m=\u001b[0m \u001b[0mnp\u001b[0m\u001b[1;33m.\u001b[0m\u001b[0margmax\u001b[0m\u001b[1;33m(\u001b[0m\u001b[0mnp\u001b[0m\u001b[1;33m.\u001b[0m\u001b[0mdot\u001b[0m\u001b[1;33m(\u001b[0m\u001b[0mscores_bits\u001b[0m\u001b[1;33m[\u001b[0m\u001b[1;33m:\u001b[0m\u001b[1;33m]\u001b[0m\u001b[1;33m,\u001b[0m\u001b[0mself\u001b[0m\u001b[1;33m.\u001b[0m\u001b[0mcodes_01\u001b[0m\u001b[1;33m.\u001b[0m\u001b[0mT\u001b[0m\u001b[1;33m)\u001b[0m\u001b[1;33m,\u001b[0m\u001b[0maxis\u001b[0m\u001b[1;33m=\u001b[0m\u001b[1;33m-\u001b[0m\u001b[1;36m1\u001b[0m\u001b[1;33m)\u001b[0m\u001b[1;33m\n",
       "\u001b[0m            \u001b[0minds_spotsN\u001b[0m \u001b[1;33m=\u001b[0m  \u001b[0mnp\u001b[0m\u001b[1;33m.\u001b[0m\u001b[0mzeros\u001b[0m\u001b[1;33m(\u001b[0m\u001b[1;33m[\u001b[0m\u001b[0mlen\u001b[0m\u001b[1;33m(\u001b[0m\u001b[0mres\u001b[0m\u001b[1;33m)\u001b[0m\u001b[1;33m,\u001b[0m\u001b[0mnbits\u001b[0m\u001b[1;33m]\u001b[0m\u001b[1;33m,\u001b[0m\u001b[0mdtype\u001b[0m\u001b[1;33m=\u001b[0m\u001b[0mint\u001b[0m\u001b[1;33m)\u001b[0m\u001b[1;33m-\u001b[0m\u001b[1;36m1\u001b[0m\u001b[1;33m\n",
       "\u001b[0m            \u001b[0minds_spotsN\u001b[0m\u001b[1;33m[\u001b[0m\u001b[0mires\u001b[0m\u001b[1;33m[\u001b[0m\u001b[0marg_scores\u001b[0m\u001b[1;33m]\u001b[0m\u001b[1;33m,\u001b[0m\u001b[0mbits_unfold\u001b[0m\u001b[1;33m[\u001b[0m\u001b[0marg_scores\u001b[0m\u001b[1;33m]\u001b[0m\u001b[1;33m]\u001b[0m\u001b[1;33m=\u001b[0m\u001b[0mres_unfolder\u001b[0m\u001b[1;33m[\u001b[0m\u001b[0marg_scores\u001b[0m\u001b[1;33m]\u001b[0m\u001b[1;33m\n",
       "\u001b[0m            \u001b[0mres_prunedN\u001b[0m \u001b[1;33m=\u001b[0m \u001b[0mnp\u001b[0m\u001b[1;33m.\u001b[0m\u001b[0marray\u001b[0m\u001b[1;33m(\u001b[0m\u001b[1;33m[\u001b[0m\u001b[0minds_spotsN\u001b[0m\u001b[1;33m[\u001b[0m\u001b[0mimol\u001b[0m\u001b[1;33m]\u001b[0m\u001b[1;33m[\u001b[0m\u001b[0mcodes\u001b[0m\u001b[1;33m[\u001b[0m\u001b[0micd\u001b[0m\u001b[1;33m]\u001b[0m\u001b[1;33m]\u001b[0m \u001b[1;32mfor\u001b[0m \u001b[0mimol\u001b[0m\u001b[1;33m,\u001b[0m\u001b[0micd\u001b[0m \u001b[1;32min\u001b[0m \u001b[0menumerate\u001b[0m\u001b[1;33m(\u001b[0m\u001b[0micodesN\u001b[0m\u001b[1;33m)\u001b[0m \u001b[1;32mif\u001b[0m \u001b[0micd\u001b[0m\u001b[1;33m>\u001b[0m\u001b[1;33m-\u001b[0m\u001b[1;36m1\u001b[0m\u001b[1;33m]\u001b[0m\u001b[1;33m)\u001b[0m\u001b[1;33m\n",
       "\u001b[0m            \u001b[0mscores_prunedN\u001b[0m \u001b[1;33m=\u001b[0m \u001b[0mnp\u001b[0m\u001b[1;33m.\u001b[0m\u001b[0marray\u001b[0m\u001b[1;33m(\u001b[0m\u001b[1;33m[\u001b[0m\u001b[0mscores_bits\u001b[0m\u001b[1;33m[\u001b[0m\u001b[0mimol\u001b[0m\u001b[1;33m]\u001b[0m\u001b[1;33m[\u001b[0m\u001b[0mcodes\u001b[0m\u001b[1;33m[\u001b[0m\u001b[0micd\u001b[0m\u001b[1;33m]\u001b[0m\u001b[1;33m]\u001b[0m \u001b[1;32mfor\u001b[0m \u001b[0mimol\u001b[0m\u001b[1;33m,\u001b[0m\u001b[0micd\u001b[0m \u001b[1;32min\u001b[0m \u001b[0menumerate\u001b[0m\u001b[1;33m(\u001b[0m\u001b[0micodesN\u001b[0m\u001b[1;33m)\u001b[0m \u001b[1;32mif\u001b[0m \u001b[0micd\u001b[0m\u001b[1;33m>\u001b[0m\u001b[1;33m-\u001b[0m\u001b[1;36m1\u001b[0m\u001b[1;33m]\u001b[0m\u001b[1;33m)\u001b[0m\u001b[1;33m\n",
       "\u001b[0m\u001b[1;33m\n",
       "\u001b[0m        \u001b[0mprint\u001b[0m\u001b[1;33m(\u001b[0m\u001b[1;34m\"Computed the decoding:\"\u001b[0m\u001b[1;33m,\u001b[0m\u001b[0mtime\u001b[0m\u001b[1;33m.\u001b[0m\u001b[0mtime\u001b[0m\u001b[1;33m(\u001b[0m\u001b[1;33m)\u001b[0m\u001b[1;33m-\u001b[0m\u001b[0mstart\u001b[0m\u001b[1;33m)\u001b[0m\u001b[1;33m\n",
       "\u001b[0m\u001b[1;33m\n",
       "\u001b[0m        \u001b[0mself\u001b[0m\u001b[1;33m.\u001b[0m\u001b[0mscores_prunedN\u001b[0m \u001b[1;33m=\u001b[0m \u001b[0mscores_prunedN\u001b[0m\u001b[1;33m\n",
       "\u001b[0m        \u001b[0mself\u001b[0m\u001b[1;33m.\u001b[0m\u001b[0mres_prunedN\u001b[0m \u001b[1;33m=\u001b[0m \u001b[0mres_prunedN\u001b[0m\u001b[1;33m\n",
       "\u001b[0m        \u001b[0mself\u001b[0m\u001b[1;33m.\u001b[0m\u001b[0micodesN\u001b[0m \u001b[1;33m=\u001b[0m \u001b[0micodesN\u001b[0m\u001b[1;33m\n",
       "\u001b[0m        \u001b[1;32mif\u001b[0m \u001b[0mis_unique\u001b[0m\u001b[1;33m:\u001b[0m\u001b[1;33m\n",
       "\u001b[0m            \u001b[1;32mimport\u001b[0m \u001b[0mtime\u001b[0m\u001b[1;33m\n",
       "\u001b[0m            \u001b[0mstart\u001b[0m \u001b[1;33m=\u001b[0m \u001b[0mtime\u001b[0m\u001b[1;33m.\u001b[0m\u001b[0mtime\u001b[0m\u001b[1;33m(\u001b[0m\u001b[1;33m)\u001b[0m\u001b[1;33m\n",
       "\u001b[0m            \u001b[0mmean_scores\u001b[0m \u001b[1;33m=\u001b[0m \u001b[0mnp\u001b[0m\u001b[1;33m.\u001b[0m\u001b[0mmean\u001b[0m\u001b[1;33m(\u001b[0m\u001b[0mscores_prunedN\u001b[0m\u001b[1;33m,\u001b[0m\u001b[0maxis\u001b[0m\u001b[1;33m=\u001b[0m\u001b[1;33m-\u001b[0m\u001b[1;36m1\u001b[0m\u001b[1;33m)\u001b[0m\u001b[1;33m\n",
       "\u001b[0m            \u001b[0mordered_mols\u001b[0m \u001b[1;33m=\u001b[0m \u001b[0mnp\u001b[0m\u001b[1;33m.\u001b[0m\u001b[0margsort\u001b[0m\u001b[1;33m(\u001b[0m\u001b[0mmean_scores\u001b[0m\u001b[1;33m)\u001b[0m\u001b[1;33m[\u001b[0m\u001b[1;33m:\u001b[0m\u001b[1;33m:\u001b[0m\u001b[1;33m-\u001b[0m\u001b[1;36m1\u001b[0m\u001b[1;33m]\u001b[0m\u001b[1;33m\n",
       "\u001b[0m            \u001b[0mkeep_mols\u001b[0m \u001b[1;33m=\u001b[0m \u001b[1;33m[\u001b[0m\u001b[1;33m]\u001b[0m\u001b[1;33m\n",
       "\u001b[0m            \u001b[0mvisited\u001b[0m \u001b[1;33m=\u001b[0m \u001b[0mnp\u001b[0m\u001b[1;33m.\u001b[0m\u001b[0mzeros\u001b[0m\u001b[1;33m(\u001b[0m\u001b[0mlen\u001b[0m\u001b[1;33m(\u001b[0m\u001b[0mself\u001b[0m\u001b[1;33m.\u001b[0m\u001b[0mXH\u001b[0m\u001b[1;33m)\u001b[0m\u001b[1;33m)\u001b[0m\u001b[1;33m\n",
       "\u001b[0m            \u001b[1;32mfor\u001b[0m \u001b[0mimol\u001b[0m \u001b[1;32min\u001b[0m \u001b[0mtqdm\u001b[0m\u001b[1;33m(\u001b[0m\u001b[0mordered_mols\u001b[0m\u001b[1;33m)\u001b[0m\u001b[1;33m:\u001b[0m\u001b[1;33m\n",
       "\u001b[0m                \u001b[0mr\u001b[0m \u001b[1;33m=\u001b[0m \u001b[0mnp\u001b[0m\u001b[1;33m.\u001b[0m\u001b[0marray\u001b[0m\u001b[1;33m(\u001b[0m\u001b[0mres_prunedN\u001b[0m\u001b[1;33m[\u001b[0m\u001b[0mimol\u001b[0m\u001b[1;33m]\u001b[0m\u001b[1;33m)\u001b[0m\u001b[1;33m\n",
       "\u001b[0m                \u001b[0mr_\u001b[0m \u001b[1;33m=\u001b[0m \u001b[0mr\u001b[0m\u001b[1;33m[\u001b[0m\u001b[0mr\u001b[0m\u001b[1;33m>=\u001b[0m\u001b[1;36m0\u001b[0m\u001b[1;33m]\u001b[0m\u001b[1;33m\n",
       "\u001b[0m                \u001b[1;32mif\u001b[0m \u001b[0mnp\u001b[0m\u001b[1;33m.\u001b[0m\u001b[0mall\u001b[0m\u001b[1;33m(\u001b[0m\u001b[0mvisited\u001b[0m\u001b[1;33m[\u001b[0m\u001b[0mr_\u001b[0m\u001b[1;33m]\u001b[0m\u001b[1;33m==\u001b[0m\u001b[1;36m0\u001b[0m\u001b[1;33m)\u001b[0m\u001b[1;33m:\u001b[0m\u001b[1;33m\n",
       "\u001b[0m                    \u001b[0mkeep_mols\u001b[0m\u001b[1;33m.\u001b[0m\u001b[0mappend\u001b[0m\u001b[1;33m(\u001b[0m\u001b[0mimol\u001b[0m\u001b[1;33m)\u001b[0m\u001b[1;33m\n",
       "\u001b[0m                    \u001b[0mvisited\u001b[0m\u001b[1;33m[\u001b[0m\u001b[0mr_\u001b[0m\u001b[1;33m]\u001b[0m\u001b[1;33m=\u001b[0m\u001b[1;36m1\u001b[0m\u001b[1;33m\n",
       "\u001b[0m            \u001b[0mkeep_mols\u001b[0m \u001b[1;33m=\u001b[0m \u001b[0mnp\u001b[0m\u001b[1;33m.\u001b[0m\u001b[0marray\u001b[0m\u001b[1;33m(\u001b[0m\u001b[0mkeep_mols\u001b[0m\u001b[1;33m)\u001b[0m\u001b[1;33m\n",
       "\u001b[0m            \u001b[0mself\u001b[0m\u001b[1;33m.\u001b[0m\u001b[0mscores_prunedN\u001b[0m \u001b[1;33m=\u001b[0m \u001b[0mscores_prunedN\u001b[0m\u001b[1;33m[\u001b[0m\u001b[0mkeep_mols\u001b[0m\u001b[1;33m]\u001b[0m\u001b[1;33m\n",
       "\u001b[0m            \u001b[0mself\u001b[0m\u001b[1;33m.\u001b[0m\u001b[0mres_prunedN\u001b[0m \u001b[1;33m=\u001b[0m \u001b[0mres_prunedN\u001b[0m\u001b[1;33m[\u001b[0m\u001b[0mkeep_mols\u001b[0m\u001b[1;33m]\u001b[0m\u001b[1;33m\n",
       "\u001b[0m            \u001b[0mself\u001b[0m\u001b[1;33m.\u001b[0m\u001b[0micodesN\u001b[0m \u001b[1;33m=\u001b[0m \u001b[0micodesN\u001b[0m\u001b[1;33m[\u001b[0m\u001b[0mkeep_mols\u001b[0m\u001b[1;33m]\u001b[0m\u001b[1;33m\n",
       "\u001b[0m            \u001b[0mprint\u001b[0m\u001b[1;33m(\u001b[0m\u001b[1;34m\"Computed best unique assigment:\"\u001b[0m\u001b[1;33m,\u001b[0m\u001b[0mtime\u001b[0m\u001b[1;33m.\u001b[0m\u001b[0mtime\u001b[0m\u001b[1;33m(\u001b[0m\u001b[1;33m)\u001b[0m\u001b[1;33m-\u001b[0m\u001b[0mstart\u001b[0m\u001b[1;33m)\u001b[0m\u001b[1;33m\n",
       "\u001b[0m        \u001b[1;33m\n",
       "\u001b[0m        \u001b[0mXH_pruned\u001b[0m \u001b[1;33m=\u001b[0m \u001b[0mself\u001b[0m\u001b[1;33m.\u001b[0m\u001b[0mXH\u001b[0m\u001b[1;33m[\u001b[0m\u001b[0mself\u001b[0m\u001b[1;33m.\u001b[0m\u001b[0mres_prunedN\u001b[0m\u001b[1;33m]\u001b[0m\u001b[1;33m\n",
       "\u001b[0m        \u001b[0mself\u001b[0m\u001b[1;33m.\u001b[0m\u001b[0mXH_pruned\u001b[0m \u001b[1;33m=\u001b[0m \u001b[0mXH_pruned\u001b[0m\u001b[1;31m#self.XH[self.res_prunedN]\u001b[0m\u001b[1;33m\n",
       "\u001b[0m        \u001b[0mnp\u001b[0m\u001b[1;33m.\u001b[0m\u001b[0msavez_compressed\u001b[0m\u001b[1;33m(\u001b[0m\u001b[0mself\u001b[0m\u001b[1;33m.\u001b[0m\u001b[0mdecoded_fl\u001b[0m\u001b[1;33m,\u001b[0m\u001b[0mXH_pruned\u001b[0m\u001b[1;33m=\u001b[0m\u001b[0mXH_pruned\u001b[0m\u001b[1;33m,\u001b[0m\u001b[0micodesN\u001b[0m\u001b[1;33m=\u001b[0m\u001b[0mself\u001b[0m\u001b[1;33m.\u001b[0m\u001b[0micodesN\u001b[0m\u001b[1;33m,\u001b[0m\u001b[0mgns_names\u001b[0m \u001b[1;33m=\u001b[0m \u001b[0mnp\u001b[0m\u001b[1;33m.\u001b[0m\u001b[0marray\u001b[0m\u001b[1;33m(\u001b[0m\u001b[0mself\u001b[0m\u001b[1;33m.\u001b[0m\u001b[0mgns_names\u001b[0m\u001b[1;33m)\u001b[0m\u001b[1;33m)\u001b[0m\u001b[1;33m\n",
       "\u001b[0m        \u001b[1;31m#XH_pruned -> 10000000 X 4 X 10 [z,x,y,bk...,corpsf,h,col,bit] \u001b[0m\u001b[1;33m\n",
       "\u001b[0m        \u001b[1;31m#icodesN -> 10000000 index of the decoded molecules in gns_names\u001b[0m\u001b[1;33m\n",
       "\u001b[0m        \u001b[1;31m#gns_names\u001b[0m\u001b[1;33m\u001b[0m\u001b[1;33m\u001b[0m\u001b[0m\n",
       "\u001b[1;31mFile:\u001b[0m      c:\\scripts\\nmerfish\\iomicro.py\n",
       "\u001b[1;31mType:\u001b[0m      method\n"
      ]
     },
     "metadata": {},
     "output_type": "display_data"
    }
   ],
   "source": [
    "??dec.get_icodes"
   ]
  },
  {
   "cell_type": "code",
   "execution_count": null,
   "id": "b30571a0-d032-4a0b-9a64-3032f7a2e05c",
   "metadata": {},
   "outputs": [],
   "source": [
    "### get scores across bits\n",
    "import time\n",
    "start = time.time()\n",
    "RS = self.XH[:,-1].astype(int) #bits\n",
    "scores = brighness_n[res_unfolder]\n",
    "\n",
    "bits_unfold = RS[res_unfolder]\n",
    "if nbits is None:\n",
    "    nbits = len(np.unique(RS))####### might give error\n",
    "scores_bits = np.zeros([len(res),nbits])\n",
    "arg_scores = np.argsort(scores)\n",
    "scores_bits[ires[arg_scores],bits_unfold[arg_scores]]=scores[arg_scores]"
   ]
  },
  {
   "cell_type": "code",
   "execution_count": null,
   "id": "da35afac-53d6-4647-a69c-e2dd766d7795",
   "metadata": {},
   "outputs": [],
   "source": [
    "scores_bits = np.zeros([len(res),nbits])"
   ]
  },
  {
   "cell_type": "code",
   "execution_count": 85,
   "id": "78403bf9-d8ee-44df-b57c-42232654957d",
   "metadata": {},
   "outputs": [
    {
     "ename": "KeyboardInterrupt",
     "evalue": "",
     "output_type": "error",
     "traceback": [
      "\u001b[1;31m---------------------------------------------------------------------------\u001b[0m",
      "\u001b[1;31mKeyboardInterrupt\u001b[0m                         Traceback (most recent call last)",
      "\u001b[1;32mC:\\Users\\BINTUL~2\\AppData\\Local\\Temp/ipykernel_16884/3657111144.py\u001b[0m in \u001b[0;36m<module>\u001b[1;34m\u001b[0m\n\u001b[0;32m     17\u001b[0m \u001b[0mscores_bits\u001b[0m \u001b[1;33m=\u001b[0m \u001b[0mnp\u001b[0m\u001b[1;33m.\u001b[0m\u001b[0mzeros\u001b[0m\u001b[1;33m(\u001b[0m\u001b[1;33m[\u001b[0m\u001b[0mlen\u001b[0m\u001b[1;33m(\u001b[0m\u001b[0mres\u001b[0m\u001b[1;33m)\u001b[0m\u001b[1;33m,\u001b[0m\u001b[0mnbits\u001b[0m\u001b[1;33m]\u001b[0m\u001b[1;33m)\u001b[0m\u001b[1;33m\u001b[0m\u001b[1;33m\u001b[0m\u001b[0m\n\u001b[0;32m     18\u001b[0m \u001b[0marg_scores\u001b[0m \u001b[1;33m=\u001b[0m \u001b[0mnp\u001b[0m\u001b[1;33m.\u001b[0m\u001b[0margsort\u001b[0m\u001b[1;33m(\u001b[0m\u001b[0mscores\u001b[0m\u001b[1;33m)\u001b[0m\u001b[1;33m\u001b[0m\u001b[1;33m\u001b[0m\u001b[0m\n\u001b[1;32m---> 19\u001b[1;33m \u001b[0mscores_bits\u001b[0m\u001b[1;33m[\u001b[0m\u001b[0mires\u001b[0m\u001b[1;33m[\u001b[0m\u001b[0marg_scores\u001b[0m\u001b[1;33m]\u001b[0m\u001b[1;33m,\u001b[0m\u001b[0mbits_unfold\u001b[0m\u001b[1;33m[\u001b[0m\u001b[0marg_scores\u001b[0m\u001b[1;33m]\u001b[0m\u001b[1;33m]\u001b[0m\u001b[1;33m=\u001b[0m\u001b[0mscores\u001b[0m\u001b[1;33m[\u001b[0m\u001b[0marg_scores\u001b[0m\u001b[1;33m]\u001b[0m\u001b[1;33m\u001b[0m\u001b[1;33m\u001b[0m\u001b[0m\n\u001b[0m",
      "\u001b[1;31mKeyboardInterrupt\u001b[0m: "
     ]
    }
   ],
   "source": [
    "norm_brightness = None\n",
    "nbits = 48\n",
    "self=dec\n",
    "\n",
    "brighness = self.XH[:,-3]\n",
    "brighness_n = brighness.copy()\n",
    "if norm_brightness is not None:\n",
    "    colors = self.XH[:,norm_brightness]#self.XH[:,-1] for bits\n",
    "    med_cols = {col: np.median(brighness[col==colors])for col in np.unique(colors)}\n",
    "    for col in np.unique(colors):\n",
    "        brighness_n[col==colors]=brighness[col==colors]/med_cols[col]\n",
    "scores = brighness_n[res_unfolder]\n",
    "\n",
    "bits_unfold = RS[res_unfolder]\n",
    "if nbits is None:\n",
    "    nbits = len(np.unique(RS))####### might give error\n",
    "scores_bits = np.zeros([len(res),nbits])\n",
    "arg_scores = np.argsort(scores)\n",
    "scores_bits[ires[arg_scores],bits_unfold[arg_scores]]=scores[arg_scores]"
   ]
  },
  {
   "cell_type": "code",
   "execution_count": 100,
   "id": "a7e751a5-e28c-47b7-a9e6-fbb7e24a3b91",
   "metadata": {},
   "outputs": [
    {
     "data": {
      "text/plain": [
       "array([ 6615.3671875 ,     0.        ,     0.        ,  6709.44335938,\n",
       "           0.        ,     0.        ,  3612.32226562,     0.        ,\n",
       "           0.        , 12528.4609375 ,     0.        ,     0.        ,\n",
       "           0.        ,     0.        ,     0.        ,     0.        ,\n",
       "           0.        ,     0.        ,     0.        ,     0.        ,\n",
       "           0.        ,     0.        ,     0.        ,     0.        ,\n",
       "           0.        ,     0.        ,     0.        ,     0.        ,\n",
       "           0.        ,     0.        ,     0.        ,     0.        ,\n",
       "           0.        ,     0.        ,     0.        ,     0.        ,\n",
       "           0.        ,     0.        ,     0.        ,     0.        ,\n",
       "           0.        ,     0.        ,     0.        ,     0.        ,\n",
       "           0.        ,     0.        ,     0.        ,     0.        ])"
      ]
     },
     "execution_count": 100,
     "metadata": {},
     "output_type": "execute_result"
    }
   ],
   "source": [
    "scores_bits[10000]"
   ]
  },
  {
   "cell_type": "code",
   "execution_count": 90,
   "id": "c83b6e10-a708-4a7d-af1e-1ee9c774e540",
   "metadata": {},
   "outputs": [],
   "source": [
    "brighness = self.XH[:,-3].astype(np.float32)\n",
    "brighness_n = brighness.copy()\n",
    "if norm_brightness is not None:\n",
    "    colors = self.XH[:,norm_brightness]#self.XH[:,-1] for bits\n",
    "    med_cols = {col: np.median(brighness[col==colors])for col in np.unique(colors)}\n",
    "    for col in np.unique(colors):\n",
    "        brighness_n[col==colors]=brighness[col==colors]/med_cols[col]\n",
    "scores = brighness_n[res_unfolder]"
   ]
  },
  {
   "cell_type": "code",
   "execution_count": null,
   "id": "72b76151-a79c-4bdc-8cac-259cbf5d7b86",
   "metadata": {},
   "outputs": [],
   "source": []
  },
  {
   "cell_type": "code",
   "execution_count": 102,
   "id": "455edb79-fd60-46d1-a0e2-09a461c93d56",
   "metadata": {},
   "outputs": [
    {
     "data": {
      "text/plain": [
       "array([5183.8594, 5617.383 , 5633.459 , ..., 5954.0938, 4938.9526,\n",
       "       5089.215 ], dtype=float32)"
      ]
     },
     "execution_count": 102,
     "metadata": {},
     "output_type": "execute_result"
    }
   ],
   "source": [
    "scores"
   ]
  },
  {
   "cell_type": "code",
   "execution_count": 93,
   "id": "0ae4f73a-eb78-43ea-abe2-87496a82f85e",
   "metadata": {},
   "outputs": [],
   "source": [
    "scoresT = torch.from_numpy(scores)\n",
    "bits_unfold = RS[res_unfolder]\n",
    "bits_unfoldT = torch.from_numpy(bits_unfold)\n",
    "arg_scores = torch.argsort(scoresT)"
   ]
  },
  {
   "cell_type": "code",
   "execution_count": 88,
   "id": "32b1bbaf-d1a3-4be8-aa46-d4965f6ea1dd",
   "metadata": {},
   "outputs": [
    {
     "data": {
      "text/plain": [
       "torch.float64"
      ]
     },
     "execution_count": 88,
     "metadata": {},
     "output_type": "execute_result"
    }
   ],
   "source": [
    "scoresT.dtype"
   ]
  },
  {
   "cell_type": "code",
   "execution_count": 87,
   "id": "99c5c45b-12dd-4d6e-aec0-fec30099835d",
   "metadata": {},
   "outputs": [
    {
     "data": {
      "text/plain": [
       "array([ 91917249, 352534634, 352534682, ..., 474325852, 394911336,\n",
       "       445440199], dtype=int64)"
      ]
     },
     "execution_count": 87,
     "metadata": {},
     "output_type": "execute_result"
    }
   ],
   "source": [
    "scores_bitsT = torch "
   ]
  },
  {
   "cell_type": "code",
   "execution_count": 83,
   "id": "dac7cbe5-81b4-4f69-a9a9-b968449b631c",
   "metadata": {},
   "outputs": [
    {
     "data": {
      "text/plain": [
       "48"
      ]
     },
     "execution_count": 83,
     "metadata": {},
     "output_type": "execute_result"
    }
   ],
   "source": [
    "len(np.unique(RS))"
   ]
  },
  {
   "cell_type": "code",
   "execution_count": 6,
   "id": "3620bf13-1bde-403b-ad3c-5c8b660b7254",
   "metadata": {},
   "outputs": [],
   "source": [
    "#dec.XH_pruned.shape"
   ]
  },
  {
   "cell_type": "code",
   "execution_count": 21,
   "id": "2550d02b-02a4-4911-8a8b-d08e4c67b479",
   "metadata": {},
   "outputs": [
    {
     "name": "stdout",
     "output_type": "stream",
     "text": [
      "Loaded decoded: -20.76295804977417\n"
     ]
    }
   ],
   "source": [
    "dec.load_decoded()\n",
    "#apply_fine_drift(dec,plt_val=True)\n",
    "#scoresRefT = get_score_per_color(dec)"
   ]
  },
  {
   "cell_type": "code",
   "execution_count": 22,
   "id": "4617416e-a267-4a44-a921-7dfc5f4f64ec",
   "metadata": {},
   "outputs": [],
   "source": [
    "#apply_fine_drift(dec,plt_val=True)"
   ]
  },
  {
   "cell_type": "code",
   "execution_count": 8,
   "id": "d625375a-a186-4a33-b7bb-1f533656f87e",
   "metadata": {},
   "outputs": [],
   "source": [
    "dec.ncols=3\n",
    "scoresRefT = get_score_per_color(dec)"
   ]
  },
  {
   "cell_type": "code",
   "execution_count": 17,
   "id": "456552b9-92da-4ffd-93f3-2c25f030c05e",
   "metadata": {},
   "outputs": [
    {
     "data": {
      "image/png": "[encoded data removed]",
      "text/plain": [
       "<Figure size 432x288 with 1 Axes>"
      ]
     },
     "metadata": {
      "needs_background": "light"
     },
     "output_type": "display_data"
    }
   ],
   "source": [
    "plt.hist(dec.scoreA,bins=np.linspace(-0.001,0,300));"
   ]
  },
  {
   "cell_type": "code",
   "execution_count": 9,
   "id": "6d1bdefb-6b3c-480b-be58-22c64d564e28",
   "metadata": {},
   "outputs": [
    {
     "data": {
      "image/png": "[encoded data removed]",
      "text/plain": [
       "<Figure size 432x288 with 1 Axes>"
      ]
     },
     "metadata": {
      "needs_background": "light"
     },
     "output_type": "display_data"
    },
    {
     "data": {
      "image/png": "[encoded data removed]",
      "text/plain": [
       "<Figure size 432x288 with 1 Axes>"
      ]
     },
     "metadata": {
      "needs_background": "light"
     },
     "output_type": "display_data"
    }
   ],
   "source": [
    "get_score_withRef(dec,scoresRefT,plt_val=True,gene=None,iSs = None)\n",
    "dec.th=-1.5\n",
    "plot_statistics(dec)"
   ]
  },
  {
   "cell_type": "code",
   "execution_count": 79,
   "id": "1f02fb1c-cae9-4baa-be56-ca19a591507a",
   "metadata": {},
   "outputs": [
    {
     "name": "stdout",
     "output_type": "stream",
     "text": [
      "Loading: \\\\192.168.0.6\\bbfishjoy4\\CGBB_embryo_4_28_2023\\H5_MER_D16\\Conv_zscan__059.zarr\n",
      "Finding markers...\n"
     ]
    },
    {
     "name": "stderr",
     "output_type": "stream",
     "text": [
      "100%|████████████████████████████████████████████████████████████████████████████████████| 7/7 [00:01<00:00,  3.51it/s]\n",
      "100%|████████████████████████████████████████████████████████████████████████████████████| 7/7 [00:01<00:00,  3.51it/s]\n"
     ]
    },
    {
     "name": "stdout",
     "output_type": "stream",
     "text": [
      "Loading: \\\\192.168.0.6\\bbfishjoy4\\CGBB_embryo_4_28_2023\\H101_MER_D16\\Conv_zscan__059.zarr\n",
      "Finding markers...\n"
     ]
    },
    {
     "name": "stderr",
     "output_type": "stream",
     "text": [
      "100%|████████████████████████████████████████████████████████████████████████████████████| 7/7 [00:02<00:00,  3.26it/s]\n",
      "100%|████████████████████████████████████████████████████████████████████████████████████| 7/7 [00:01<00:00,  4.03it/s]\n"
     ]
    },
    {
     "name": "stdout",
     "output_type": "stream",
     "text": [
      "Finding rough drift...\n",
      "Finding fine drift...\n",
      "[ -0.96623084 167.84815618 -97.83324511]\n"
     ]
    }
   ],
   "source": [
    "dec2 = decoder_simple(save_folder,fov='Conv_zscan__059',set_='_D16')\n",
    "\n",
    "drfits,flds,fov_ = np.load(dec2.drift_fl,allow_pickle=True)\n",
    "fls = [fld+os.sep+fov_ for fld in flds]\n",
    "fl_ref = [fld+os.sep+fov_ for fld,(drft,_) in zip(flds,drfits) if np.sum(drft)==0][0]\n",
    "fl = fl_raw = r'\\\\192.168.0.6\\bbfishjoy4\\CGBB_embryo_4_28_2023\\H101_MER_D16\\Conv_zscan__059.zarr'\n",
    "obj = fine_drift(fl_ref,fl)\n",
    "new_drift = -(obj.drft_minus+obj.drft_plus)/2\n",
    "print(new_drift)"
   ]
  },
  {
   "cell_type": "code",
   "execution_count": 81,
   "id": "0dcda0e8-098c-4005-a301-0ca2a28a3186",
   "metadata": {},
   "outputs": [
    {
     "data": {
      "text/plain": [
       "<Points layer 'Points' at 0x27b5efacf40>"
      ]
     },
     "execution_count": 81,
     "metadata": {},
     "output_type": "execute_result"
    }
   ],
   "source": [
    "gene = 'Dcx'\n",
    "ncols = 3\n",
    "#ign = list(dec.gns_names).index(gene)\n",
    "#keep = (ign==dec.icodesN)&(dec.scoreA>-1.5)\n",
    "#XH_pruned = dec.XH_pruned[keep]\n",
    "#ihybes = np.array(dec.codes__[ign])//ncols\n",
    "#icol = dec.codes__[ign][0]%ncols\n",
    "im = read_im(fl_raw)[1]\n",
    "import napari\n",
    "v = napari.view_image(im,translate=new_drift)\n",
    "v.add_points(XH_[:,:3],size=1,face_color='r')"
   ]
  },
  {
   "cell_type": "code",
   "execution_count": null,
   "id": "8f7a295b-5467-47fc-9a3c-9ee7045fc402",
   "metadata": {},
   "outputs": [],
   "source": []
  },
  {
   "cell_type": "code",
   "execution_count": null,
   "id": "4612ed3e-1a99-4db6-84dd-de4b95dc661c",
   "metadata": {},
   "outputs": [],
   "source": []
  },
  {
   "cell_type": "code",
   "execution_count": null,
   "id": "51d55725-6554-48c1-a31c-b13046efaaad",
   "metadata": {},
   "outputs": [],
   "source": []
  },
  {
   "cell_type": "code",
   "execution_count": null,
   "id": "85bb2fe2-a626-482b-baaf-05172e7ffd07",
   "metadata": {},
   "outputs": [],
   "source": []
  },
  {
   "cell_type": "code",
   "execution_count": null,
   "id": "84247404-20ee-4ce6-8ef6-da69b239f375",
   "metadata": {},
   "outputs": [],
   "source": []
  },
  {
   "cell_type": "code",
   "execution_count": 22,
   "id": "bac327e8-06f9-41bc-ac3a-03f2aaed3097",
   "metadata": {},
   "outputs": [],
   "source": []
  },
  {
   "cell_type": "code",
   "execution_count": 24,
   "id": "25e02bad-a564-4920-913f-8857fd639ee3",
   "metadata": {},
   "outputs": [
    {
     "data": {
      "text/plain": [
       "<Points layer 'X' at 0x2213b6641c0>"
      ]
     },
     "execution_count": 24,
     "metadata": {},
     "output_type": "execute_result"
    }
   ],
   "source": [
    "gene = 'Dcx'\n",
    "ncols = 3\n",
    "ign = list(dec.gns_names).index(gene)\n",
    "keep = (ign==dec.icodesN)&(dec.scoreA>-1.5)\n",
    "XH_pruned = dec.XH_pruned[keep]\n",
    "#ihybes = np.array(dec.codes__[ign])//ncols\n",
    "#icol = dec.codes__[ign][0]%ncols\n",
    "im = read_im(fl_raw)[1]\n",
    "import napari\n",
    "v = napari.view_image(im,translate=new_drift)\n",
    "X = XH_pruned[:,0,:3]\n",
    "v.add_points(X,size=7,face_color='r',out_of_slice_display=True)"
   ]
  },
  {
   "cell_type": "code",
   "execution_count": 23,
   "id": "1b962b26-9385-4cc6-9ee2-0e576e3378bd",
   "metadata": {},
   "outputs": [],
   "source": [
    "#dec.get_XH(dec.fov,dec.set_)\n",
    "#dec.load_library(lib_fl=library_file)"
   ]
  },
  {
   "cell_type": "code",
   "execution_count": 49,
   "id": "e1332de9-9a74-479c-ac4a-ce280038eef9",
   "metadata": {},
   "outputs": [],
   "source": []
  },
  {
   "cell_type": "code",
   "execution_count": 29,
   "id": "6a353295-29e1-4b17-8dfa-45a719fb3476",
   "metadata": {},
   "outputs": [],
   "source": [
    "gene = 'Dcx'\n",
    "ncols = 3\n",
    "ign = list(dec.gns_names).index(gene)\n",
    "keep = (ign==dec.icodesN)#&(dec.scoreA>-1.5)\n",
    "XH_pruned = dec.XH_pruned[keep]\n",
    "\n",
    "im = read_im(fl_raw)[1]\n",
    "import napari\n",
    "v = napari.view_image(im,translate=new_drift)\n",
    "X = XH_pruned[:,0,:3]\n",
    "v.add_points(X,size=1,face_color='r',out_of_slice_display=True)\n",
    "\n",
    "code = dec.codes__[ign]\n",
    "Rs = dec.XH[:,-1].astype(int)\n",
    "cols = ['g','b','c','y']\n",
    "for iicd,icd in enumerate(code):\n",
    "    XH_ = dec.XH[Rs==icd]\n",
    "    X__ = XH_[:,:3]\n",
    "    H_ = XH_[:,-3]\n",
    "    size_ = 1#np.clip(H_/60000,0,1)*10\n",
    "    v.add_points(X__,size=size_,face_color=cols[iicd],out_of_slice_display=True)"
   ]
  },
  {
   "cell_type": "code",
   "execution_count": 30,
   "id": "44597ccb-6867-42c1-b9c4-149722f67761",
   "metadata": {},
   "outputs": [
    {
     "data": {
      "text/plain": [
       "74348884"
      ]
     },
     "execution_count": 30,
     "metadata": {},
     "output_type": "execute_result"
    }
   ],
   "source": [
    "len(dec.res)"
   ]
  },
  {
   "cell_type": "code",
   "execution_count": 31,
   "id": "e8d53b3c-8e7c-4911-8a3c-27f322ca251c",
   "metadata": {},
   "outputs": [
    {
     "data": {
      "text/plain": [
       "array([9], dtype=int64)"
      ]
     },
     "execution_count": 31,
     "metadata": {},
     "output_type": "execute_result"
    }
   ],
   "source": [
    "dec.res[9]"
   ]
  },
  {
   "cell_type": "code",
   "execution_count": 33,
   "id": "8d79fe55-9f6c-4a8f-b7a0-0dbe63beb36f",
   "metadata": {},
   "outputs": [
    {
     "data": {
      "text/plain": [
       "59387835"
      ]
     },
     "execution_count": 33,
     "metadata": {},
     "output_type": "execute_result"
    }
   ],
   "source": [
    "nmin_bits = 4\n",
    "res = dec.res\n",
    "res = [r for r in res if len(r)>=nmin_bits]\n",
    "len(res)"
   ]
  },
  {
   "cell_type": "code",
   "execution_count": 46,
   "id": "ff08a838-e386-4da9-9a7b-3d1ac60cc4d9",
   "metadata": {},
   "outputs": [
    {
     "data": {
      "text/plain": [
       "array([    1751,     5076, 12980572, 23664508, 31596197, 68627021],\n",
       "      dtype=int64)"
      ]
     },
     "execution_count": 46,
     "metadata": {},
     "output_type": "execute_result"
    }
   ],
   "source": [
    "res[60]"
   ]
  },
  {
   "cell_type": "code",
   "execution_count": 48,
   "id": "aa00d4ff-5d51-4bd0-814a-af4c4171c347",
   "metadata": {},
   "outputs": [],
   "source": [
    "Rs = dec.XH[:,-1].astype(int)"
   ]
  },
  {
   "cell_type": "code",
   "execution_count": 54,
   "id": "a9aa8dd3-0106-40c7-9606-04d1d2bad199",
   "metadata": {},
   "outputs": [
    {
     "name": "stderr",
     "output_type": "stream",
     "text": [
      "  0%|                                                                                     | 0/59387335 [00:00<?, ?it/s]\n"
     ]
    },
    {
     "data": {
      "text/plain": [
       "(0, array([[ 0,  6, 42]]))"
      ]
     },
     "execution_count": 54,
     "metadata": {},
     "output_type": "execute_result"
    }
   ],
   "source": [
    "from itertools import combinations\n",
    "for r in tqdm(res[500:]):\n",
    "    cmbs = list(combinations(r[1:],nmin_bits-1))\n",
    "    break\n",
    "    \n",
    "Rs[r[0]],Rs[cmbs]"
   ]
  },
  {
   "cell_type": "code",
   "execution_count": 34,
   "id": "acfccdc9-31da-4039-a816-47e8b5025125",
   "metadata": {},
   "outputs": [
    {
     "data": {
      "text/plain": [
       "array([    1249,     1261,     4932, 12980184, 12983388, 31595738],\n",
       "      dtype=int64)"
      ]
     },
     "execution_count": 34,
     "metadata": {},
     "output_type": "execute_result"
    }
   ],
   "source": [
    "res[30]"
   ]
  },
  {
   "cell_type": "code",
   "execution_count": 36,
   "id": "c6353f37-af7d-46b0-98af-c0932dfe9b8e",
   "metadata": {},
   "outputs": [
    {
     "data": {
      "text/plain": [
       "array([ 0.,  0.,  0.,  6.,  6., 15.])"
      ]
     },
     "execution_count": 36,
     "metadata": {},
     "output_type": "execute_result"
    }
   ],
   "source": [
    "dec.XH[res[30],-1]"
   ]
  },
  {
   "cell_type": "code",
   "execution_count": 32,
   "id": "b9cb0d1e-3ac2-40ac-994d-fbb4f2e19402",
   "metadata": {},
   "outputs": [
    {
     "data": {
      "text/plain": [
       "\u001b[1;31mSignature:\u001b[0m\n",
       "\u001b[0mdec\u001b[0m\u001b[1;33m.\u001b[0m\u001b[0mget_icodes\u001b[0m\u001b[1;33m(\u001b[0m\u001b[1;33m\n",
       "\u001b[0m    \u001b[0mnmin_bits\u001b[0m\u001b[1;33m=\u001b[0m\u001b[1;36m4\u001b[0m\u001b[1;33m,\u001b[0m\u001b[1;33m\n",
       "\u001b[0m    \u001b[0mmethod\u001b[0m\u001b[1;33m=\u001b[0m\u001b[1;34m'top4'\u001b[0m\u001b[1;33m,\u001b[0m\u001b[1;33m\n",
       "\u001b[0m    \u001b[0mredo\u001b[0m\u001b[1;33m=\u001b[0m\u001b[1;32mFalse\u001b[0m\u001b[1;33m,\u001b[0m\u001b[1;33m\n",
       "\u001b[0m    \u001b[0mnorm_brightness\u001b[0m\u001b[1;33m=\u001b[0m\u001b[1;32mNone\u001b[0m\u001b[1;33m,\u001b[0m\u001b[1;33m\n",
       "\u001b[0m    \u001b[0mnbits\u001b[0m\u001b[1;33m=\u001b[0m\u001b[1;36m48\u001b[0m\u001b[1;33m,\u001b[0m\u001b[1;33m\n",
       "\u001b[0m    \u001b[0mis_unique\u001b[0m\u001b[1;33m=\u001b[0m\u001b[1;32mTrue\u001b[0m\u001b[1;33m,\u001b[0m\u001b[1;33m\n",
       "\u001b[0m\u001b[1;33m)\u001b[0m\u001b[1;33m\u001b[0m\u001b[1;33m\u001b[0m\u001b[0m\n",
       "\u001b[1;31mDocstring:\u001b[0m <no docstring>\n",
       "\u001b[1;31mSource:\u001b[0m   \n",
       "    \u001b[1;32mdef\u001b[0m \u001b[0mget_icodes\u001b[0m\u001b[1;33m(\u001b[0m\u001b[0mself\u001b[0m\u001b[1;33m,\u001b[0m\u001b[0mnmin_bits\u001b[0m\u001b[1;33m=\u001b[0m\u001b[1;36m4\u001b[0m\u001b[1;33m,\u001b[0m\u001b[0mmethod\u001b[0m \u001b[1;33m=\u001b[0m \u001b[1;34m'top4'\u001b[0m\u001b[1;33m,\u001b[0m\u001b[0mredo\u001b[0m\u001b[1;33m=\u001b[0m\u001b[1;32mFalse\u001b[0m\u001b[1;33m,\u001b[0m\u001b[0mnorm_brightness\u001b[0m\u001b[1;33m=\u001b[0m\u001b[1;32mNone\u001b[0m\u001b[1;33m,\u001b[0m\u001b[0mnbits\u001b[0m\u001b[1;33m=\u001b[0m\u001b[1;36m48\u001b[0m\u001b[1;33m,\u001b[0m\u001b[0mis_unique\u001b[0m\u001b[1;33m=\u001b[0m\u001b[1;32mTrue\u001b[0m\u001b[1;33m)\u001b[0m\u001b[1;33m:\u001b[0m    \u001b[1;33m\n",
       "\u001b[0m        \u001b[1;31m#### unfold res which is a list of list with clusters of loc.\u001b[0m\u001b[1;33m\n",
       "\u001b[0m        \u001b[1;33m\n",
       "\u001b[0m        \u001b[1;33m\n",
       "\u001b[0m        \u001b[0mres\u001b[0m \u001b[1;33m=\u001b[0m \u001b[0mself\u001b[0m\u001b[1;33m.\u001b[0m\u001b[0mres\u001b[0m\u001b[1;33m\n",
       "\u001b[0m\u001b[1;33m\n",
       "\u001b[0m        \u001b[1;32mimport\u001b[0m \u001b[0mtime\u001b[0m\u001b[1;33m\n",
       "\u001b[0m        \u001b[0mstart\u001b[0m \u001b[1;33m=\u001b[0m \u001b[0mtime\u001b[0m\u001b[1;33m.\u001b[0m\u001b[0mtime\u001b[0m\u001b[1;33m(\u001b[0m\u001b[1;33m)\u001b[0m\u001b[1;33m\n",
       "\u001b[0m        \u001b[0mres\u001b[0m \u001b[1;33m=\u001b[0m \u001b[1;33m[\u001b[0m\u001b[0mr\u001b[0m \u001b[1;32mfor\u001b[0m \u001b[0mr\u001b[0m \u001b[1;32min\u001b[0m \u001b[0mres\u001b[0m \u001b[1;32mif\u001b[0m \u001b[0mlen\u001b[0m\u001b[1;33m(\u001b[0m\u001b[0mr\u001b[0m\u001b[1;33m)\u001b[0m\u001b[1;33m>=\u001b[0m\u001b[0mnmin_bits\u001b[0m\u001b[1;33m]\u001b[0m\u001b[1;33m\n",
       "\u001b[0m        \u001b[1;31m#rlens = [len(r) for r in res]\u001b[0m\u001b[1;33m\n",
       "\u001b[0m        \u001b[1;31m#edges = np.cumsum([0]+rlens)\u001b[0m\u001b[1;33m\n",
       "\u001b[0m        \u001b[0mres_unfolder\u001b[0m \u001b[1;33m=\u001b[0m \u001b[0mnp\u001b[0m\u001b[1;33m.\u001b[0m\u001b[0marray\u001b[0m\u001b[1;33m(\u001b[0m\u001b[1;33m[\u001b[0m\u001b[0mr_\u001b[0m \u001b[1;32mfor\u001b[0m \u001b[0mr\u001b[0m \u001b[1;32min\u001b[0m \u001b[0mres\u001b[0m \u001b[1;32mfor\u001b[0m \u001b[0mr_\u001b[0m \u001b[1;32min\u001b[0m \u001b[0mr\u001b[0m\u001b[1;33m]\u001b[0m\u001b[1;33m)\u001b[0m\u001b[1;33m\n",
       "\u001b[0m        \u001b[1;31m#res0 = np.array([r[0] for r in res for r_ in r])\u001b[0m\u001b[1;33m\n",
       "\u001b[0m        \u001b[0mires\u001b[0m \u001b[1;33m=\u001b[0m \u001b[0mnp\u001b[0m\u001b[1;33m.\u001b[0m\u001b[0marray\u001b[0m\u001b[1;33m(\u001b[0m\u001b[1;33m[\u001b[0m\u001b[0mir\u001b[0m \u001b[1;32mfor\u001b[0m \u001b[0mir\u001b[0m\u001b[1;33m,\u001b[0m\u001b[0mr\u001b[0m \u001b[1;32min\u001b[0m \u001b[0menumerate\u001b[0m\u001b[1;33m(\u001b[0m\u001b[0mres\u001b[0m\u001b[1;33m)\u001b[0m \u001b[1;32mfor\u001b[0m \u001b[0mr_\u001b[0m \u001b[1;32min\u001b[0m \u001b[0mr\u001b[0m\u001b[1;33m]\u001b[0m\u001b[1;33m)\u001b[0m\u001b[1;33m\n",
       "\u001b[0m        \u001b[0mprint\u001b[0m\u001b[1;33m(\u001b[0m\u001b[1;34m\"Unfolded molecules:\"\u001b[0m\u001b[1;33m,\u001b[0m\u001b[0mtime\u001b[0m\u001b[1;33m.\u001b[0m\u001b[0mtime\u001b[0m\u001b[1;33m(\u001b[0m\u001b[1;33m)\u001b[0m\u001b[1;33m-\u001b[0m\u001b[0mstart\u001b[0m\u001b[1;33m)\u001b[0m\u001b[1;33m\n",
       "\u001b[0m\u001b[1;33m\n",
       "\u001b[0m        \u001b[1;31m### get scores across bits\u001b[0m\u001b[1;33m\n",
       "\u001b[0m        \u001b[1;32mimport\u001b[0m \u001b[0mtime\u001b[0m\u001b[1;33m\n",
       "\u001b[0m        \u001b[0mstart\u001b[0m \u001b[1;33m=\u001b[0m \u001b[0mtime\u001b[0m\u001b[1;33m.\u001b[0m\u001b[0mtime\u001b[0m\u001b[1;33m(\u001b[0m\u001b[1;33m)\u001b[0m\u001b[1;33m\n",
       "\u001b[0m        \u001b[0mRS\u001b[0m \u001b[1;33m=\u001b[0m \u001b[0mself\u001b[0m\u001b[1;33m.\u001b[0m\u001b[0mXH\u001b[0m\u001b[1;33m[\u001b[0m\u001b[1;33m:\u001b[0m\u001b[1;33m,\u001b[0m\u001b[1;33m-\u001b[0m\u001b[1;36m1\u001b[0m\u001b[1;33m]\u001b[0m\u001b[1;33m.\u001b[0m\u001b[0mastype\u001b[0m\u001b[1;33m(\u001b[0m\u001b[0mint\u001b[0m\u001b[1;33m)\u001b[0m \u001b[1;31m#bits\u001b[0m\u001b[1;33m\n",
       "\u001b[0m        \u001b[0mbrighness\u001b[0m \u001b[1;33m=\u001b[0m \u001b[0mself\u001b[0m\u001b[1;33m.\u001b[0m\u001b[0mXH\u001b[0m\u001b[1;33m[\u001b[0m\u001b[1;33m:\u001b[0m\u001b[1;33m,\u001b[0m\u001b[1;33m-\u001b[0m\u001b[1;36m3\u001b[0m\u001b[1;33m]\u001b[0m\u001b[1;33m\n",
       "\u001b[0m        \u001b[0mbrighness_n\u001b[0m \u001b[1;33m=\u001b[0m \u001b[0mbrighness\u001b[0m\u001b[1;33m.\u001b[0m\u001b[0mcopy\u001b[0m\u001b[1;33m(\u001b[0m\u001b[1;33m)\u001b[0m\u001b[1;33m\n",
       "\u001b[0m        \u001b[1;32mif\u001b[0m \u001b[0mnorm_brightness\u001b[0m \u001b[1;32mis\u001b[0m \u001b[1;32mnot\u001b[0m \u001b[1;32mNone\u001b[0m\u001b[1;33m:\u001b[0m\u001b[1;33m\n",
       "\u001b[0m            \u001b[0mcolors\u001b[0m \u001b[1;33m=\u001b[0m \u001b[0mself\u001b[0m\u001b[1;33m.\u001b[0m\u001b[0mXH\u001b[0m\u001b[1;33m[\u001b[0m\u001b[1;33m:\u001b[0m\u001b[1;33m,\u001b[0m\u001b[0mnorm_brightness\u001b[0m\u001b[1;33m]\u001b[0m\u001b[1;31m#self.XH[:,-1] for bits\u001b[0m\u001b[1;33m\n",
       "\u001b[0m            \u001b[0mmed_cols\u001b[0m \u001b[1;33m=\u001b[0m \u001b[1;33m{\u001b[0m\u001b[0mcol\u001b[0m\u001b[1;33m:\u001b[0m \u001b[0mnp\u001b[0m\u001b[1;33m.\u001b[0m\u001b[0mmedian\u001b[0m\u001b[1;33m(\u001b[0m\u001b[0mbrighness\u001b[0m\u001b[1;33m[\u001b[0m\u001b[0mcol\u001b[0m\u001b[1;33m==\u001b[0m\u001b[0mcolors\u001b[0m\u001b[1;33m]\u001b[0m\u001b[1;33m)\u001b[0m\u001b[1;32mfor\u001b[0m \u001b[0mcol\u001b[0m \u001b[1;32min\u001b[0m \u001b[0mnp\u001b[0m\u001b[1;33m.\u001b[0m\u001b[0munique\u001b[0m\u001b[1;33m(\u001b[0m\u001b[0mcolors\u001b[0m\u001b[1;33m)\u001b[0m\u001b[1;33m}\u001b[0m\u001b[1;33m\n",
       "\u001b[0m            \u001b[1;32mfor\u001b[0m \u001b[0mcol\u001b[0m \u001b[1;32min\u001b[0m \u001b[0mnp\u001b[0m\u001b[1;33m.\u001b[0m\u001b[0munique\u001b[0m\u001b[1;33m(\u001b[0m\u001b[0mcolors\u001b[0m\u001b[1;33m)\u001b[0m\u001b[1;33m:\u001b[0m\u001b[1;33m\n",
       "\u001b[0m                \u001b[0mbrighness_n\u001b[0m\u001b[1;33m[\u001b[0m\u001b[0mcol\u001b[0m\u001b[1;33m==\u001b[0m\u001b[0mcolors\u001b[0m\u001b[1;33m]\u001b[0m\u001b[1;33m=\u001b[0m\u001b[0mbrighness\u001b[0m\u001b[1;33m[\u001b[0m\u001b[0mcol\u001b[0m\u001b[1;33m==\u001b[0m\u001b[0mcolors\u001b[0m\u001b[1;33m]\u001b[0m\u001b[1;33m/\u001b[0m\u001b[0mmed_cols\u001b[0m\u001b[1;33m[\u001b[0m\u001b[0mcol\u001b[0m\u001b[1;33m]\u001b[0m\u001b[1;33m\n",
       "\u001b[0m        \u001b[0mscores\u001b[0m \u001b[1;33m=\u001b[0m \u001b[0mbrighness_n\u001b[0m\u001b[1;33m[\u001b[0m\u001b[0mres_unfolder\u001b[0m\u001b[1;33m]\u001b[0m\u001b[1;33m\n",
       "\u001b[0m       \u001b[1;33m\n",
       "\u001b[0m        \u001b[0mbits_unfold\u001b[0m \u001b[1;33m=\u001b[0m \u001b[0mRS\u001b[0m\u001b[1;33m[\u001b[0m\u001b[0mres_unfolder\u001b[0m\u001b[1;33m]\u001b[0m\u001b[1;33m\n",
       "\u001b[0m        \u001b[1;32mif\u001b[0m \u001b[0mnbits\u001b[0m \u001b[1;32mis\u001b[0m \u001b[1;32mNone\u001b[0m\u001b[1;33m:\u001b[0m\u001b[1;33m\n",
       "\u001b[0m            \u001b[0mnbits\u001b[0m \u001b[1;33m=\u001b[0m \u001b[0mlen\u001b[0m\u001b[1;33m(\u001b[0m\u001b[0mnp\u001b[0m\u001b[1;33m.\u001b[0m\u001b[0munique\u001b[0m\u001b[1;33m(\u001b[0m\u001b[0mRS\u001b[0m\u001b[1;33m)\u001b[0m\u001b[1;33m)\u001b[0m\u001b[1;31m####### might give error\u001b[0m\u001b[1;33m\n",
       "\u001b[0m        \u001b[0mscores_bits\u001b[0m \u001b[1;33m=\u001b[0m \u001b[0mnp\u001b[0m\u001b[1;33m.\u001b[0m\u001b[0mzeros\u001b[0m\u001b[1;33m(\u001b[0m\u001b[1;33m[\u001b[0m\u001b[0mlen\u001b[0m\u001b[1;33m(\u001b[0m\u001b[0mres\u001b[0m\u001b[1;33m)\u001b[0m\u001b[1;33m,\u001b[0m\u001b[0mnbits\u001b[0m\u001b[1;33m]\u001b[0m\u001b[1;33m)\u001b[0m\u001b[1;33m\n",
       "\u001b[0m        \u001b[0marg_scores\u001b[0m \u001b[1;33m=\u001b[0m \u001b[0mnp\u001b[0m\u001b[1;33m.\u001b[0m\u001b[0margsort\u001b[0m\u001b[1;33m(\u001b[0m\u001b[0mscores\u001b[0m\u001b[1;33m)\u001b[0m\u001b[1;33m\n",
       "\u001b[0m        \u001b[0mscores_bits\u001b[0m\u001b[1;33m[\u001b[0m\u001b[0mires\u001b[0m\u001b[1;33m[\u001b[0m\u001b[0marg_scores\u001b[0m\u001b[1;33m]\u001b[0m\u001b[1;33m,\u001b[0m\u001b[0mbits_unfold\u001b[0m\u001b[1;33m[\u001b[0m\u001b[0marg_scores\u001b[0m\u001b[1;33m]\u001b[0m\u001b[1;33m]\u001b[0m\u001b[1;33m=\u001b[0m\u001b[0mscores\u001b[0m\u001b[1;33m[\u001b[0m\u001b[0marg_scores\u001b[0m\u001b[1;33m]\u001b[0m\u001b[1;33m\n",
       "\u001b[0m\u001b[1;33m\n",
       "\u001b[0m        \u001b[1;32mimport\u001b[0m \u001b[0mtime\u001b[0m\u001b[1;33m\n",
       "\u001b[0m        \u001b[0mstart\u001b[0m \u001b[1;33m=\u001b[0m \u001b[0mtime\u001b[0m\u001b[1;33m.\u001b[0m\u001b[0mtime\u001b[0m\u001b[1;33m(\u001b[0m\u001b[1;33m)\u001b[0m\u001b[1;33m\n",
       "\u001b[0m        \u001b[1;31m### There are multiple avenues here: \u001b[0m\u001b[1;33m\n",
       "\u001b[0m        \u001b[1;31m#### nearest neighbors - slowest\u001b[0m\u001b[1;33m\n",
       "\u001b[0m        \u001b[1;31m#### best dot product - reasonable and can return missing elements - medium speed\u001b[0m\u001b[1;33m\n",
       "\u001b[0m        \u001b[1;31m#### find top 4 bits and call that a code - simplest and fastest\u001b[0m\u001b[1;33m\n",
       "\u001b[0m\u001b[1;33m\n",
       "\u001b[0m\u001b[1;33m\n",
       "\u001b[0m        \u001b[1;32mif\u001b[0m \u001b[0mmethod\u001b[0m \u001b[1;33m==\u001b[0m \u001b[1;34m'top4'\u001b[0m\u001b[1;33m:\u001b[0m\u001b[1;33m\n",
       "\u001b[0m            \u001b[0mcodes\u001b[0m \u001b[1;33m=\u001b[0m \u001b[0mself\u001b[0m\u001b[1;33m.\u001b[0m\u001b[0mcodes__\u001b[0m\u001b[1;33m\n",
       "\u001b[0m            \u001b[0mvals\u001b[0m \u001b[1;33m=\u001b[0m \u001b[0mnp\u001b[0m\u001b[1;33m.\u001b[0m\u001b[0margsort\u001b[0m\u001b[1;33m(\u001b[0m\u001b[0mscores_bits\u001b[0m\u001b[1;33m,\u001b[0m\u001b[0maxis\u001b[0m\u001b[1;33m=\u001b[0m\u001b[1;33m-\u001b[0m\u001b[1;36m1\u001b[0m\u001b[1;33m)\u001b[0m\u001b[1;33m\n",
       "\u001b[0m            \u001b[0mbcodes\u001b[0m \u001b[1;33m=\u001b[0m \u001b[0mnp\u001b[0m\u001b[1;33m.\u001b[0m\u001b[0msort\u001b[0m\u001b[1;33m(\u001b[0m\u001b[0mvals\u001b[0m\u001b[1;33m[\u001b[0m\u001b[1;33m:\u001b[0m\u001b[1;33m,\u001b[0m\u001b[1;33m-\u001b[0m\u001b[1;36m4\u001b[0m\u001b[1;33m:\u001b[0m\u001b[1;33m]\u001b[0m\u001b[1;33m,\u001b[0m\u001b[0maxis\u001b[0m\u001b[1;33m=\u001b[0m\u001b[1;33m-\u001b[0m\u001b[1;36m1\u001b[0m\u001b[1;33m)\u001b[0m\u001b[1;33m\n",
       "\u001b[0m            \u001b[0mbase\u001b[0m \u001b[1;33m=\u001b[0m \u001b[1;33m[\u001b[0m\u001b[0mnbits\u001b[0m\u001b[1;33m**\u001b[0m\u001b[1;36m3\u001b[0m\u001b[1;33m,\u001b[0m\u001b[0mnbits\u001b[0m\u001b[1;33m**\u001b[0m\u001b[1;36m2\u001b[0m\u001b[1;33m,\u001b[0m\u001b[0mnbits\u001b[0m\u001b[1;33m**\u001b[0m\u001b[1;36m1\u001b[0m\u001b[1;33m,\u001b[0m\u001b[0mnbits\u001b[0m\u001b[1;33m**\u001b[0m\u001b[1;36m0\u001b[0m\u001b[1;33m]\u001b[0m\u001b[1;33m\n",
       "\u001b[0m            \u001b[0mbcodes_b\u001b[0m \u001b[1;33m=\u001b[0m \u001b[0mnp\u001b[0m\u001b[1;33m.\u001b[0m\u001b[0msum\u001b[0m\u001b[1;33m(\u001b[0m\u001b[0mbcodes\u001b[0m\u001b[1;33m*\u001b[0m\u001b[0mbase\u001b[0m\u001b[1;33m,\u001b[0m\u001b[0maxis\u001b[0m\u001b[1;33m=\u001b[0m\u001b[1;36m1\u001b[0m\u001b[1;33m)\u001b[0m\u001b[1;33m\n",
       "\u001b[0m            \u001b[0mcodes_b\u001b[0m \u001b[1;33m=\u001b[0m \u001b[0mnp\u001b[0m\u001b[1;33m.\u001b[0m\u001b[0msum\u001b[0m\u001b[1;33m(\u001b[0m\u001b[0mnp\u001b[0m\u001b[1;33m.\u001b[0m\u001b[0msort\u001b[0m\u001b[1;33m(\u001b[0m\u001b[0mcodes\u001b[0m\u001b[1;33m,\u001b[0m\u001b[0maxis\u001b[0m\u001b[1;33m=\u001b[0m\u001b[1;33m-\u001b[0m\u001b[1;36m1\u001b[0m\u001b[1;33m)\u001b[0m\u001b[1;33m*\u001b[0m\u001b[0mbase\u001b[0m\u001b[1;33m,\u001b[0m\u001b[0maxis\u001b[0m\u001b[1;33m=\u001b[0m\u001b[1;36m1\u001b[0m\u001b[1;33m)\u001b[0m\u001b[1;33m\n",
       "\u001b[0m            \u001b[0micodesN\u001b[0m \u001b[1;33m=\u001b[0m \u001b[0mnp\u001b[0m\u001b[1;33m.\u001b[0m\u001b[0mzeros\u001b[0m\u001b[1;33m(\u001b[0m\u001b[0mlen\u001b[0m\u001b[1;33m(\u001b[0m\u001b[0mbcodes_b\u001b[0m\u001b[1;33m)\u001b[0m\u001b[1;33m,\u001b[0m\u001b[0mdtype\u001b[0m\u001b[1;33m=\u001b[0m\u001b[0mint\u001b[0m\u001b[1;33m)\u001b[0m\u001b[1;33m-\u001b[0m\u001b[1;36m1\u001b[0m\u001b[1;33m\n",
       "\u001b[0m            \u001b[1;32mfor\u001b[0m \u001b[0micd\u001b[0m\u001b[1;33m,\u001b[0m\u001b[0mcd\u001b[0m \u001b[1;32min\u001b[0m \u001b[0menumerate\u001b[0m\u001b[1;33m(\u001b[0m\u001b[0mcodes_b\u001b[0m\u001b[1;33m)\u001b[0m\u001b[1;33m:\u001b[0m\u001b[1;33m\n",
       "\u001b[0m                \u001b[0micodesN\u001b[0m\u001b[1;33m[\u001b[0m\u001b[0mbcodes_b\u001b[0m\u001b[1;33m==\u001b[0m\u001b[0mcd\u001b[0m\u001b[1;33m]\u001b[0m\u001b[1;33m=\u001b[0m\u001b[0micd\u001b[0m\u001b[1;33m\n",
       "\u001b[0m            \u001b[0mbad\u001b[0m \u001b[1;33m=\u001b[0m \u001b[0mnp\u001b[0m\u001b[1;33m.\u001b[0m\u001b[0msum\u001b[0m\u001b[1;33m(\u001b[0m\u001b[0mscores_bits\u001b[0m\u001b[1;33m>\u001b[0m\u001b[1;36m0\u001b[0m\u001b[1;33m,\u001b[0m\u001b[0maxis\u001b[0m\u001b[1;33m=\u001b[0m\u001b[1;33m-\u001b[0m\u001b[1;36m1\u001b[0m\u001b[1;33m)\u001b[0m\u001b[1;33m<\u001b[0m\u001b[1;36m4\u001b[0m\u001b[1;33m\n",
       "\u001b[0m            \u001b[1;33m\n",
       "\u001b[0m            \u001b[0micodesN\u001b[0m\u001b[1;33m[\u001b[0m\u001b[0mbad\u001b[0m\u001b[1;33m]\u001b[0m\u001b[1;33m=\u001b[0m\u001b[1;33m-\u001b[0m\u001b[1;36m1\u001b[0m\u001b[1;33m\n",
       "\u001b[0m            \u001b[0migood\u001b[0m \u001b[1;33m=\u001b[0m \u001b[0mnp\u001b[0m\u001b[1;33m.\u001b[0m\u001b[0mwhere\u001b[0m\u001b[1;33m(\u001b[0m\u001b[0micodesN\u001b[0m\u001b[1;33m>\u001b[0m\u001b[1;33m-\u001b[0m\u001b[1;36m1\u001b[0m\u001b[1;33m)\u001b[0m\u001b[1;33m[\u001b[0m\u001b[1;36m0\u001b[0m\u001b[1;33m]\u001b[0m\u001b[1;33m\n",
       "\u001b[0m            \u001b[0minds_spotsN\u001b[0m \u001b[1;33m=\u001b[0m  \u001b[0mnp\u001b[0m\u001b[1;33m.\u001b[0m\u001b[0mzeros\u001b[0m\u001b[1;33m(\u001b[0m\u001b[1;33m[\u001b[0m\u001b[0mlen\u001b[0m\u001b[1;33m(\u001b[0m\u001b[0mres\u001b[0m\u001b[1;33m)\u001b[0m\u001b[1;33m,\u001b[0m\u001b[0mnbits\u001b[0m\u001b[1;33m]\u001b[0m\u001b[1;33m,\u001b[0m\u001b[0mdtype\u001b[0m\u001b[1;33m=\u001b[0m\u001b[0mint\u001b[0m\u001b[1;33m)\u001b[0m\u001b[1;33m-\u001b[0m\u001b[1;36m1\u001b[0m\u001b[1;33m\n",
       "\u001b[0m            \u001b[0minds_spotsN\u001b[0m\u001b[1;33m[\u001b[0m\u001b[0mires\u001b[0m\u001b[1;33m[\u001b[0m\u001b[0marg_scores\u001b[0m\u001b[1;33m]\u001b[0m\u001b[1;33m,\u001b[0m\u001b[0mbits_unfold\u001b[0m\u001b[1;33m[\u001b[0m\u001b[0marg_scores\u001b[0m\u001b[1;33m]\u001b[0m\u001b[1;33m]\u001b[0m\u001b[1;33m=\u001b[0m\u001b[0mres_unfolder\u001b[0m\u001b[1;33m[\u001b[0m\u001b[0marg_scores\u001b[0m\u001b[1;33m]\u001b[0m\u001b[1;33m\n",
       "\u001b[0m            \u001b[0mres_prunedN\u001b[0m \u001b[1;33m=\u001b[0m \u001b[0mnp\u001b[0m\u001b[1;33m.\u001b[0m\u001b[0marray\u001b[0m\u001b[1;33m(\u001b[0m\u001b[1;33m[\u001b[0m\u001b[0minds_spotsN\u001b[0m\u001b[1;33m[\u001b[0m\u001b[0mimol\u001b[0m\u001b[1;33m]\u001b[0m\u001b[1;33m[\u001b[0m\u001b[0mcodes\u001b[0m\u001b[1;33m[\u001b[0m\u001b[0micd\u001b[0m\u001b[1;33m]\u001b[0m\u001b[1;33m]\u001b[0m \u001b[1;32mfor\u001b[0m \u001b[0mimol\u001b[0m\u001b[1;33m,\u001b[0m\u001b[0micd\u001b[0m \u001b[1;32min\u001b[0m \u001b[0menumerate\u001b[0m\u001b[1;33m(\u001b[0m\u001b[0micodesN\u001b[0m\u001b[1;33m)\u001b[0m \u001b[1;32mif\u001b[0m \u001b[0micd\u001b[0m\u001b[1;33m>\u001b[0m\u001b[1;33m-\u001b[0m\u001b[1;36m1\u001b[0m\u001b[1;33m]\u001b[0m\u001b[1;33m)\u001b[0m\u001b[1;33m\n",
       "\u001b[0m            \u001b[0mscores_prunedN\u001b[0m \u001b[1;33m=\u001b[0m \u001b[0mnp\u001b[0m\u001b[1;33m.\u001b[0m\u001b[0marray\u001b[0m\u001b[1;33m(\u001b[0m\u001b[1;33m[\u001b[0m\u001b[0mscores_bits\u001b[0m\u001b[1;33m[\u001b[0m\u001b[0mimol\u001b[0m\u001b[1;33m]\u001b[0m\u001b[1;33m[\u001b[0m\u001b[0mcodes\u001b[0m\u001b[1;33m[\u001b[0m\u001b[0micd\u001b[0m\u001b[1;33m]\u001b[0m\u001b[1;33m]\u001b[0m \u001b[1;32mfor\u001b[0m \u001b[0mimol\u001b[0m\u001b[1;33m,\u001b[0m\u001b[0micd\u001b[0m \u001b[1;32min\u001b[0m \u001b[0menumerate\u001b[0m\u001b[1;33m(\u001b[0m\u001b[0micodesN\u001b[0m\u001b[1;33m)\u001b[0m \u001b[1;32mif\u001b[0m \u001b[0micd\u001b[0m\u001b[1;33m>\u001b[0m\u001b[1;33m-\u001b[0m\u001b[1;36m1\u001b[0m\u001b[1;33m]\u001b[0m\u001b[1;33m)\u001b[0m\u001b[1;33m\n",
       "\u001b[0m            \u001b[0micodesN\u001b[0m \u001b[1;33m=\u001b[0m \u001b[0micodesN\u001b[0m\u001b[1;33m[\u001b[0m\u001b[0migood\u001b[0m\u001b[1;33m]\u001b[0m\u001b[1;33m\n",
       "\u001b[0m        \u001b[1;32melif\u001b[0m \u001b[0mmethod\u001b[0m \u001b[1;33m==\u001b[0m \u001b[1;34m'dot'\u001b[0m\u001b[1;33m:\u001b[0m\u001b[1;33m\n",
       "\u001b[0m            \u001b[0micodesN\u001b[0m \u001b[1;33m=\u001b[0m \u001b[0mnp\u001b[0m\u001b[1;33m.\u001b[0m\u001b[0margmax\u001b[0m\u001b[1;33m(\u001b[0m\u001b[0mnp\u001b[0m\u001b[1;33m.\u001b[0m\u001b[0mdot\u001b[0m\u001b[1;33m(\u001b[0m\u001b[0mscores_bits\u001b[0m\u001b[1;33m[\u001b[0m\u001b[1;33m:\u001b[0m\u001b[1;33m]\u001b[0m\u001b[1;33m,\u001b[0m\u001b[0mself\u001b[0m\u001b[1;33m.\u001b[0m\u001b[0mcodes_01\u001b[0m\u001b[1;33m.\u001b[0m\u001b[0mT\u001b[0m\u001b[1;33m)\u001b[0m\u001b[1;33m,\u001b[0m\u001b[0maxis\u001b[0m\u001b[1;33m=\u001b[0m\u001b[1;33m-\u001b[0m\u001b[1;36m1\u001b[0m\u001b[1;33m)\u001b[0m\u001b[1;33m\n",
       "\u001b[0m            \u001b[0minds_spotsN\u001b[0m \u001b[1;33m=\u001b[0m  \u001b[0mnp\u001b[0m\u001b[1;33m.\u001b[0m\u001b[0mzeros\u001b[0m\u001b[1;33m(\u001b[0m\u001b[1;33m[\u001b[0m\u001b[0mlen\u001b[0m\u001b[1;33m(\u001b[0m\u001b[0mres\u001b[0m\u001b[1;33m)\u001b[0m\u001b[1;33m,\u001b[0m\u001b[0mnbits\u001b[0m\u001b[1;33m]\u001b[0m\u001b[1;33m,\u001b[0m\u001b[0mdtype\u001b[0m\u001b[1;33m=\u001b[0m\u001b[0mint\u001b[0m\u001b[1;33m)\u001b[0m\u001b[1;33m-\u001b[0m\u001b[1;36m1\u001b[0m\u001b[1;33m\n",
       "\u001b[0m            \u001b[0minds_spotsN\u001b[0m\u001b[1;33m[\u001b[0m\u001b[0mires\u001b[0m\u001b[1;33m[\u001b[0m\u001b[0marg_scores\u001b[0m\u001b[1;33m]\u001b[0m\u001b[1;33m,\u001b[0m\u001b[0mbits_unfold\u001b[0m\u001b[1;33m[\u001b[0m\u001b[0marg_scores\u001b[0m\u001b[1;33m]\u001b[0m\u001b[1;33m]\u001b[0m\u001b[1;33m=\u001b[0m\u001b[0mres_unfolder\u001b[0m\u001b[1;33m[\u001b[0m\u001b[0marg_scores\u001b[0m\u001b[1;33m]\u001b[0m\u001b[1;33m\n",
       "\u001b[0m            \u001b[0mres_prunedN\u001b[0m \u001b[1;33m=\u001b[0m \u001b[0mnp\u001b[0m\u001b[1;33m.\u001b[0m\u001b[0marray\u001b[0m\u001b[1;33m(\u001b[0m\u001b[1;33m[\u001b[0m\u001b[0minds_spotsN\u001b[0m\u001b[1;33m[\u001b[0m\u001b[0mimol\u001b[0m\u001b[1;33m]\u001b[0m\u001b[1;33m[\u001b[0m\u001b[0mcodes\u001b[0m\u001b[1;33m[\u001b[0m\u001b[0micd\u001b[0m\u001b[1;33m]\u001b[0m\u001b[1;33m]\u001b[0m \u001b[1;32mfor\u001b[0m \u001b[0mimol\u001b[0m\u001b[1;33m,\u001b[0m\u001b[0micd\u001b[0m \u001b[1;32min\u001b[0m \u001b[0menumerate\u001b[0m\u001b[1;33m(\u001b[0m\u001b[0micodesN\u001b[0m\u001b[1;33m)\u001b[0m \u001b[1;32mif\u001b[0m \u001b[0micd\u001b[0m\u001b[1;33m>\u001b[0m\u001b[1;33m-\u001b[0m\u001b[1;36m1\u001b[0m\u001b[1;33m]\u001b[0m\u001b[1;33m)\u001b[0m\u001b[1;33m\n",
       "\u001b[0m            \u001b[0mscores_prunedN\u001b[0m \u001b[1;33m=\u001b[0m \u001b[0mnp\u001b[0m\u001b[1;33m.\u001b[0m\u001b[0marray\u001b[0m\u001b[1;33m(\u001b[0m\u001b[1;33m[\u001b[0m\u001b[0mscores_bits\u001b[0m\u001b[1;33m[\u001b[0m\u001b[0mimol\u001b[0m\u001b[1;33m]\u001b[0m\u001b[1;33m[\u001b[0m\u001b[0mcodes\u001b[0m\u001b[1;33m[\u001b[0m\u001b[0micd\u001b[0m\u001b[1;33m]\u001b[0m\u001b[1;33m]\u001b[0m \u001b[1;32mfor\u001b[0m \u001b[0mimol\u001b[0m\u001b[1;33m,\u001b[0m\u001b[0micd\u001b[0m \u001b[1;32min\u001b[0m \u001b[0menumerate\u001b[0m\u001b[1;33m(\u001b[0m\u001b[0micodesN\u001b[0m\u001b[1;33m)\u001b[0m \u001b[1;32mif\u001b[0m \u001b[0micd\u001b[0m\u001b[1;33m>\u001b[0m\u001b[1;33m-\u001b[0m\u001b[1;36m1\u001b[0m\u001b[1;33m]\u001b[0m\u001b[1;33m)\u001b[0m\u001b[1;33m\n",
       "\u001b[0m\u001b[1;33m\n",
       "\u001b[0m        \u001b[0mprint\u001b[0m\u001b[1;33m(\u001b[0m\u001b[1;34m\"Computed the decoding:\"\u001b[0m\u001b[1;33m,\u001b[0m\u001b[0mtime\u001b[0m\u001b[1;33m.\u001b[0m\u001b[0mtime\u001b[0m\u001b[1;33m(\u001b[0m\u001b[1;33m)\u001b[0m\u001b[1;33m-\u001b[0m\u001b[0mstart\u001b[0m\u001b[1;33m)\u001b[0m\u001b[1;33m\n",
       "\u001b[0m\u001b[1;33m\n",
       "\u001b[0m        \u001b[0mself\u001b[0m\u001b[1;33m.\u001b[0m\u001b[0mscores_prunedN\u001b[0m \u001b[1;33m=\u001b[0m \u001b[0mscores_prunedN\u001b[0m\u001b[1;33m\n",
       "\u001b[0m        \u001b[0mself\u001b[0m\u001b[1;33m.\u001b[0m\u001b[0mres_prunedN\u001b[0m \u001b[1;33m=\u001b[0m \u001b[0mres_prunedN\u001b[0m\u001b[1;33m\n",
       "\u001b[0m        \u001b[0mself\u001b[0m\u001b[1;33m.\u001b[0m\u001b[0micodesN\u001b[0m \u001b[1;33m=\u001b[0m \u001b[0micodesN\u001b[0m\u001b[1;33m\n",
       "\u001b[0m        \u001b[1;32mif\u001b[0m \u001b[0mis_unique\u001b[0m\u001b[1;33m:\u001b[0m\u001b[1;33m\n",
       "\u001b[0m            \u001b[1;32mimport\u001b[0m \u001b[0mtime\u001b[0m\u001b[1;33m\n",
       "\u001b[0m            \u001b[0mstart\u001b[0m \u001b[1;33m=\u001b[0m \u001b[0mtime\u001b[0m\u001b[1;33m.\u001b[0m\u001b[0mtime\u001b[0m\u001b[1;33m(\u001b[0m\u001b[1;33m)\u001b[0m\u001b[1;33m\n",
       "\u001b[0m            \u001b[0mmean_scores\u001b[0m \u001b[1;33m=\u001b[0m \u001b[0mnp\u001b[0m\u001b[1;33m.\u001b[0m\u001b[0mmean\u001b[0m\u001b[1;33m(\u001b[0m\u001b[0mscores_prunedN\u001b[0m\u001b[1;33m,\u001b[0m\u001b[0maxis\u001b[0m\u001b[1;33m=\u001b[0m\u001b[1;33m-\u001b[0m\u001b[1;36m1\u001b[0m\u001b[1;33m)\u001b[0m\u001b[1;33m\n",
       "\u001b[0m            \u001b[0mordered_mols\u001b[0m \u001b[1;33m=\u001b[0m \u001b[0mnp\u001b[0m\u001b[1;33m.\u001b[0m\u001b[0margsort\u001b[0m\u001b[1;33m(\u001b[0m\u001b[0mmean_scores\u001b[0m\u001b[1;33m)\u001b[0m\u001b[1;33m[\u001b[0m\u001b[1;33m:\u001b[0m\u001b[1;33m:\u001b[0m\u001b[1;33m-\u001b[0m\u001b[1;36m1\u001b[0m\u001b[1;33m]\u001b[0m\u001b[1;33m\n",
       "\u001b[0m            \u001b[0mkeep_mols\u001b[0m \u001b[1;33m=\u001b[0m \u001b[1;33m[\u001b[0m\u001b[1;33m]\u001b[0m\u001b[1;33m\n",
       "\u001b[0m            \u001b[0mvisited\u001b[0m \u001b[1;33m=\u001b[0m \u001b[0mnp\u001b[0m\u001b[1;33m.\u001b[0m\u001b[0mzeros\u001b[0m\u001b[1;33m(\u001b[0m\u001b[0mlen\u001b[0m\u001b[1;33m(\u001b[0m\u001b[0mself\u001b[0m\u001b[1;33m.\u001b[0m\u001b[0mXH\u001b[0m\u001b[1;33m)\u001b[0m\u001b[1;33m)\u001b[0m\u001b[1;33m\n",
       "\u001b[0m            \u001b[1;32mfor\u001b[0m \u001b[0mimol\u001b[0m \u001b[1;32min\u001b[0m \u001b[0mtqdm\u001b[0m\u001b[1;33m(\u001b[0m\u001b[0mordered_mols\u001b[0m\u001b[1;33m)\u001b[0m\u001b[1;33m:\u001b[0m\u001b[1;33m\n",
       "\u001b[0m                \u001b[0mr\u001b[0m \u001b[1;33m=\u001b[0m \u001b[0mnp\u001b[0m\u001b[1;33m.\u001b[0m\u001b[0marray\u001b[0m\u001b[1;33m(\u001b[0m\u001b[0mres_prunedN\u001b[0m\u001b[1;33m[\u001b[0m\u001b[0mimol\u001b[0m\u001b[1;33m]\u001b[0m\u001b[1;33m)\u001b[0m\u001b[1;33m\n",
       "\u001b[0m                \u001b[0mr_\u001b[0m \u001b[1;33m=\u001b[0m \u001b[0mr\u001b[0m\u001b[1;33m[\u001b[0m\u001b[0mr\u001b[0m\u001b[1;33m>=\u001b[0m\u001b[1;36m0\u001b[0m\u001b[1;33m]\u001b[0m\u001b[1;33m\n",
       "\u001b[0m                \u001b[1;32mif\u001b[0m \u001b[0mnp\u001b[0m\u001b[1;33m.\u001b[0m\u001b[0mall\u001b[0m\u001b[1;33m(\u001b[0m\u001b[0mvisited\u001b[0m\u001b[1;33m[\u001b[0m\u001b[0mr_\u001b[0m\u001b[1;33m]\u001b[0m\u001b[1;33m==\u001b[0m\u001b[1;36m0\u001b[0m\u001b[1;33m)\u001b[0m\u001b[1;33m:\u001b[0m\u001b[1;33m\n",
       "\u001b[0m                    \u001b[0mkeep_mols\u001b[0m\u001b[1;33m.\u001b[0m\u001b[0mappend\u001b[0m\u001b[1;33m(\u001b[0m\u001b[0mimol\u001b[0m\u001b[1;33m)\u001b[0m\u001b[1;33m\n",
       "\u001b[0m                    \u001b[0mvisited\u001b[0m\u001b[1;33m[\u001b[0m\u001b[0mr_\u001b[0m\u001b[1;33m]\u001b[0m\u001b[1;33m=\u001b[0m\u001b[1;36m1\u001b[0m\u001b[1;33m\n",
       "\u001b[0m            \u001b[0mkeep_mols\u001b[0m \u001b[1;33m=\u001b[0m \u001b[0mnp\u001b[0m\u001b[1;33m.\u001b[0m\u001b[0marray\u001b[0m\u001b[1;33m(\u001b[0m\u001b[0mkeep_mols\u001b[0m\u001b[1;33m)\u001b[0m\u001b[1;33m\n",
       "\u001b[0m            \u001b[0mself\u001b[0m\u001b[1;33m.\u001b[0m\u001b[0mscores_prunedN\u001b[0m \u001b[1;33m=\u001b[0m \u001b[0mscores_prunedN\u001b[0m\u001b[1;33m[\u001b[0m\u001b[0mkeep_mols\u001b[0m\u001b[1;33m]\u001b[0m\u001b[1;33m\n",
       "\u001b[0m            \u001b[0mself\u001b[0m\u001b[1;33m.\u001b[0m\u001b[0mres_prunedN\u001b[0m \u001b[1;33m=\u001b[0m \u001b[0mres_prunedN\u001b[0m\u001b[1;33m[\u001b[0m\u001b[0mkeep_mols\u001b[0m\u001b[1;33m]\u001b[0m\u001b[1;33m\n",
       "\u001b[0m            \u001b[0mself\u001b[0m\u001b[1;33m.\u001b[0m\u001b[0micodesN\u001b[0m \u001b[1;33m=\u001b[0m \u001b[0micodesN\u001b[0m\u001b[1;33m[\u001b[0m\u001b[0mkeep_mols\u001b[0m\u001b[1;33m]\u001b[0m\u001b[1;33m\n",
       "\u001b[0m            \u001b[0mprint\u001b[0m\u001b[1;33m(\u001b[0m\u001b[1;34m\"Computed best unique assigment:\"\u001b[0m\u001b[1;33m,\u001b[0m\u001b[0mtime\u001b[0m\u001b[1;33m.\u001b[0m\u001b[0mtime\u001b[0m\u001b[1;33m(\u001b[0m\u001b[1;33m)\u001b[0m\u001b[1;33m-\u001b[0m\u001b[0mstart\u001b[0m\u001b[1;33m)\u001b[0m\u001b[1;33m\n",
       "\u001b[0m        \u001b[1;33m\n",
       "\u001b[0m        \u001b[0mXH_pruned\u001b[0m \u001b[1;33m=\u001b[0m \u001b[0mself\u001b[0m\u001b[1;33m.\u001b[0m\u001b[0mXH\u001b[0m\u001b[1;33m[\u001b[0m\u001b[0mself\u001b[0m\u001b[1;33m.\u001b[0m\u001b[0mres_prunedN\u001b[0m\u001b[1;33m]\u001b[0m\u001b[1;33m\n",
       "\u001b[0m        \u001b[0mself\u001b[0m\u001b[1;33m.\u001b[0m\u001b[0mXH_pruned\u001b[0m \u001b[1;33m=\u001b[0m \u001b[0mXH_pruned\u001b[0m\u001b[1;31m#self.XH[self.res_prunedN]\u001b[0m\u001b[1;33m\n",
       "\u001b[0m        \u001b[0mnp\u001b[0m\u001b[1;33m.\u001b[0m\u001b[0msavez_compressed\u001b[0m\u001b[1;33m(\u001b[0m\u001b[0mself\u001b[0m\u001b[1;33m.\u001b[0m\u001b[0mdecoded_fl\u001b[0m\u001b[1;33m,\u001b[0m\u001b[0mXH_pruned\u001b[0m\u001b[1;33m=\u001b[0m\u001b[0mXH_pruned\u001b[0m\u001b[1;33m,\u001b[0m\u001b[0micodesN\u001b[0m\u001b[1;33m=\u001b[0m\u001b[0mself\u001b[0m\u001b[1;33m.\u001b[0m\u001b[0micodesN\u001b[0m\u001b[1;33m,\u001b[0m\u001b[0mgns_names\u001b[0m \u001b[1;33m=\u001b[0m \u001b[0mnp\u001b[0m\u001b[1;33m.\u001b[0m\u001b[0marray\u001b[0m\u001b[1;33m(\u001b[0m\u001b[0mself\u001b[0m\u001b[1;33m.\u001b[0m\u001b[0mgns_names\u001b[0m\u001b[1;33m)\u001b[0m\u001b[1;33m)\u001b[0m\u001b[1;33m\n",
       "\u001b[0m        \u001b[1;31m#XH_pruned -> 10000000 X 4 X 10 [z,x,y,bk...,corpsf,h,col,bit] \u001b[0m\u001b[1;33m\n",
       "\u001b[0m        \u001b[1;31m#icodesN -> 10000000 index of the decoded molecules in gns_names\u001b[0m\u001b[1;33m\n",
       "\u001b[0m        \u001b[1;31m#gns_names\u001b[0m\u001b[1;33m\u001b[0m\u001b[1;33m\u001b[0m\u001b[0m\n",
       "\u001b[1;31mFile:\u001b[0m      c:\\scripts\\nmerfish\\iomicro.py\n",
       "\u001b[1;31mType:\u001b[0m      method\n"
      ]
     },
     "metadata": {},
     "output_type": "display_data"
    }
   ],
   "source": [
    "??dec.get_icodes"
   ]
  },
  {
   "cell_type": "code",
   "execution_count": null,
   "id": "e987a6c7-22e4-43e1-869a-3d598d1a512f",
   "metadata": {},
   "outputs": [],
   "source": []
  },
  {
   "cell_type": "code",
   "execution_count": null,
   "id": "c400a943-dc92-40db-a574-c3a9b3b43818",
   "metadata": {},
   "outputs": [],
   "source": []
  },
  {
   "cell_type": "code",
   "execution_count": 27,
   "id": "4cdb440e-9702-4af8-a598-06e8d278401e",
   "metadata": {},
   "outputs": [
    {
     "data": {
      "text/plain": [
       "3600.0009765625"
      ]
     },
     "execution_count": 27,
     "metadata": {},
     "output_type": "execute_result"
    }
   ],
   "source": [
    "np.min(dec.XH[:,-3])"
   ]
  },
  {
   "cell_type": "code",
   "execution_count": 37,
   "id": "678f9efb-77b9-48d5-8291-6bdb3e15fe85",
   "metadata": {},
   "outputs": [
    {
     "data": {
      "text/plain": [
       "[array([ -3, -92,  36]),\n",
       " array([ -5, -47,  31]),\n",
       " array([ -1, -34,  27]),\n",
       " array([ -3, -27,  23]),\n",
       " array([-1, -1,  5]),\n",
       " array([-4, 81, 69]),\n",
       " array([0, 0, 0]),\n",
       " array([-2,  0, -4]),\n",
       " array([0, 0, 0]),\n",
       " array([  0,  62, -98]),\n",
       " array([   0,   60, -102]),\n",
       " array([   0,   62, -100]),\n",
       " array([   0,   63, -101]),\n",
       " array([   0,   63, -102]),\n",
       " array([   0,   66, -100]),\n",
       " array([   0,   67, -102]),\n",
       " array([ -2,  68, -99]),\n",
       " array([  0,  69, -99])]"
      ]
     },
     "execution_count": 37,
     "metadata": {},
     "output_type": "execute_result"
    }
   ],
   "source": [
    "\n",
    "[drft[0] for drft in  drfits]"
   ]
  },
  {
   "cell_type": "code",
   "execution_count": 38,
   "id": "b57607ab-890a-416b-a48d-51e26b5cc79c",
   "metadata": {},
   "outputs": [],
   "source": [
    "#[drft[0] for drft in  newdrifts]"
   ]
  },
  {
   "cell_type": "code",
   "execution_count": 30,
   "id": "73a6ab6a-d0f7-4de9-ba0c-e2e7a3734c08",
   "metadata": {},
   "outputs": [
    {
     "data": {
      "text/plain": [
       "[array([ -3.7391803 , -26.16062569,  25.20685768]),\n",
       " array([  3.82911511,  26.27032555, -25.16390801]),\n",
       " array([  3.64924549,  26.05092583, -25.24980736]),\n",
       " (array([  4,  26, -25]),\n",
       "  [array([  4,  26, -25], dtype=int64),\n",
       "   array([  4,  26, -25], dtype=int64),\n",
       "   array([  4,  26, -25], dtype=int64),\n",
       "   array([  4,  26, -25], dtype=int64),\n",
       "   array([  4,  26, -25], dtype=int64)]),\n",
       " [array([[1.51313314e+00, 2.52628307e+00, 5.81886227e+02],\n",
       "         [1.68528380e+00, 2.49029166e+00, 1.26617405e+03],\n",
       "         [1.70556743e+00, 2.50987499e+00, 1.64061248e+03],\n",
       "         ...,\n",
       "         [2.57204812e+01, 1.46499370e+03, 1.74930571e+02],\n",
       "         [2.55713730e+01, 1.82499644e+03, 1.58808250e+03],\n",
       "         [2.55363845e+01, 2.33091178e+03, 1.77060091e+02]]),\n",
       "  array([[   5.38438781,   28.89300478,  556.88421799],\n",
       "         [   4.32064973,   30.89564152, 1241.00547984],\n",
       "         [   4.51843187,   31.10314133, 1614.76574557],\n",
       "         ...,\n",
       "         [  27.29088486, 1491.10767634,  148.99323011],\n",
       "         [  27.30332418, 1851.9915728 , 1563.12413179],\n",
       "         [  27.11858843, 2355.84728323,  152.22004072]])],\n",
       " [array([[1.42368401e+00, 3.34551259e+00, 4.83642725e+02],\n",
       "         [1.73002366e+00, 3.35753261e+00, 8.38728390e+02],\n",
       "         [1.62029652e+00, 4.20814920e+01, 1.24898388e+03],\n",
       "         ...,\n",
       "         [2.65267225e+01, 7.09032574e+02, 2.90052995e+02],\n",
       "         [2.68358691e+01, 1.25987335e+03, 1.57685623e+03],\n",
       "         [2.64658415e+01, 2.60701889e+03, 1.00085554e+03]]),\n",
       "  array([[   4.13124559,   31.79727123,  459.01916983],\n",
       "         [   3.17879403,   29.78884643,  811.22521329],\n",
       "         [   2.91221073,   69.93664098, 1224.05661798],\n",
       "         ...,\n",
       "         [  27.25296359,  735.01095998,  265.02597985],\n",
       "         [  27.34798126, 1282.791485  , 1550.92708993],\n",
       "         [  27.46909045, 2636.06771248,  974.13421901]])]]"
      ]
     },
     "execution_count": 30,
     "metadata": {},
     "output_type": "execute_result"
    }
   ],
   "source": [
    "[new_drift,obj.drft_minus,obj.drft_plus,obj.drift,obj.pair_minus,obj.pair_plus]"
   ]
  },
  {
   "cell_type": "code",
   "execution_count": 28,
   "id": "74bb6612-34cd-4505-82e4-fc9febdeb3bc",
   "metadata": {},
   "outputs": [
    {
     "data": {
      "text/plain": [
       "array([ -3.7391803 , -26.16062569,  25.20685768])"
      ]
     },
     "execution_count": 28,
     "metadata": {},
     "output_type": "execute_result"
    }
   ],
   "source": [
    "new_drift = -(obj.drft_minus+obj.drft_plus)/2\n",
    "new_drift"
   ]
  },
  {
   "cell_type": "code",
   "execution_count": 22,
   "id": "455e9591-9879-4bc9-af19-0a6b9a3fae64",
   "metadata": {},
   "outputs": [
    {
     "name": "stdout",
     "output_type": "stream",
     "text": [
      "Loading: \\\\192.168.0.6\\bbfishjoy4\\CGBB_embryo_4_28_2023\\H3_MER_D16\\Conv_zscan__059.zarr\n",
      "Finding markers...\n"
     ]
    },
    {
     "name": "stderr",
     "output_type": "stream",
     "text": [
      "100%|████████████████████████████████████████████████████████████████████████████████████| 7/7 [00:02<00:00,  3.45it/s]\n",
      "100%|████████████████████████████████████████████████████████████████████████████████████| 7/7 [00:02<00:00,  3.14it/s]\n"
     ]
    },
    {
     "name": "stdout",
     "output_type": "stream",
     "text": [
      "Finding rough drift...\n",
      "Finding fine drift...\n"
     ]
    },
    {
     "data": {
      "text/plain": [
       "(array([  3.64924549,  26.05092583, -25.24980736]),\n",
       " [array([[1.42368401e+00, 3.34551259e+00, 4.83642725e+02],\n",
       "         [1.73002366e+00, 3.35753261e+00, 8.38728390e+02],\n",
       "         [1.62029652e+00, 4.20814920e+01, 1.24898388e+03],\n",
       "         ...,\n",
       "         [2.65267225e+01, 7.09032574e+02, 2.90052995e+02],\n",
       "         [2.68358691e+01, 1.25987335e+03, 1.57685623e+03],\n",
       "         [2.64658415e+01, 2.60701889e+03, 1.00085554e+03]]),\n",
       "  array([[   4.13124559,   31.79727123,  459.01916983],\n",
       "         [   3.17879403,   29.78884643,  811.22521329],\n",
       "         [   2.91221073,   69.93664098, 1224.05661798],\n",
       "         ...,\n",
       "         [  27.25296359,  735.01095998,  265.02597985],\n",
       "         [  27.34798126, 1282.791485  , 1550.92708993],\n",
       "         [  27.46909045, 2636.06771248,  974.13421901]])],\n",
       " array([  3.82911511,  26.27032555, -25.16390801]),\n",
       " [array([[1.51313314e+00, 2.52628307e+00, 5.81886227e+02],\n",
       "         [1.68528380e+00, 2.49029166e+00, 1.26617405e+03],\n",
       "         [1.70556743e+00, 2.50987499e+00, 1.64061248e+03],\n",
       "         ...,\n",
       "         [2.57204812e+01, 1.46499370e+03, 1.74930571e+02],\n",
       "         [2.55713730e+01, 1.82499644e+03, 1.58808250e+03],\n",
       "         [2.55363845e+01, 2.33091178e+03, 1.77060091e+02]]),\n",
       "  array([[   5.38438781,   28.89300478,  556.88421799],\n",
       "         [   4.32064973,   30.89564152, 1241.00547984],\n",
       "         [   4.51843187,   31.10314133, 1614.76574557],\n",
       "         ...,\n",
       "         [  27.29088486, 1491.10767634,  148.99323011],\n",
       "         [  27.30332418, 1851.9915728 , 1563.12413179],\n",
       "         [  27.11858843, 2355.84728323,  152.22004072]])])"
      ]
     },
     "execution_count": 22,
     "metadata": {},
     "output_type": "execute_result"
    }
   ],
   "source": [
    "fl = fls[3]\n",
    "obj.get_drift(fl_ref,fl)"
   ]
  },
  {
   "cell_type": "code",
   "execution_count": 23,
   "id": "6fa57e85-f216-44e1-9e10-728caabaef91",
   "metadata": {},
   "outputs": [
    {
     "data": {
      "text/plain": [
       "(array([ -3, -27,  23]),\n",
       " [array([ -3, -27,  23], dtype=int64),\n",
       "  array([ -3, -27,  23], dtype=int64),\n",
       "  array([ -3, -27,  23], dtype=int64),\n",
       "  array([ -3, -27,  23], dtype=int64),\n",
       "  array([ -3, -27,  23], dtype=int64)])"
      ]
     },
     "execution_count": 23,
     "metadata": {},
     "output_type": "execute_result"
    }
   ],
   "source": [
    "drfits[3]"
   ]
  },
  {
   "cell_type": "code",
   "execution_count": null,
   "id": "71df2cb0-4536-48fe-85b5-d744df825098",
   "metadata": {},
   "outputs": [],
   "source": []
  },
  {
   "cell_type": "code",
   "execution_count": 20,
   "id": "21770e06-4e5c-4fd1-a16d-4304bb73b312",
   "metadata": {},
   "outputs": [
    {
     "data": {
      "text/plain": [
       "<Image layer 'Image' at 0x1d614a5ca60>"
      ]
     },
     "execution_count": 20,
     "metadata": {},
     "output_type": "execute_result"
    }
   ],
   "source": [
    "import napari\n",
    "v = napari.Viewer()\n",
    "new_drift = -(obj.drft_minus+obj.drft_plus)/2\n",
    "old_drift = drfits[1][0]\n",
    "v.add_image(obj.im,translate=new_drift,name='new_drift')\n",
    "v.add_image(obj.im,translate=old_drift,name='old_drift')\n",
    "v.add_image(obj.im_ref)"
   ]
  },
  {
   "cell_type": "code",
   "execution_count": 16,
   "id": "7a486973-d766-4212-9323-a04ffae09877",
   "metadata": {},
   "outputs": [],
   "source": []
  },
  {
   "cell_type": "code",
   "execution_count": 18,
   "id": "4eb76398-e64a-47f9-8f74-43d49a29ef1f",
   "metadata": {},
   "outputs": [],
   "source": []
  },
  {
   "cell_type": "code",
   "execution_count": 25,
   "id": "73a43e6c-48a3-487c-aefd-3b5e2587c3e6",
   "metadata": {},
   "outputs": [
    {
     "data": {
      "text/plain": [
       "(array([ -5, -47,  31]),\n",
       " [array([ -5, -47,  31], dtype=int64),\n",
       "  array([ -5, -47,  31], dtype=int64),\n",
       "  array([ -4, -47,  31], dtype=int64),\n",
       "  array([ -5, -46,  31], dtype=int64),\n",
       "  array([ -5, -47,  31], dtype=int64)])"
      ]
     },
     "execution_count": 25,
     "metadata": {},
     "output_type": "execute_result"
    }
   ],
   "source": [
    "X1,X2 = obj.XB1_plus,obj.XB2_plus\n"
   ]
  },
  {
   "cell_type": "code",
   "execution_count": 47,
   "id": "b607837d-09e9-4ef4-b70d-52ce89288dff",
   "metadata": {},
   "outputs": [
    {
     "data": {
      "image/png": "[encoded data removed]",
      "text/plain": [
       "<Figure size 432x288 with 1 Axes>"
      ]
     },
     "metadata": {
      "needs_background": "light"
     },
     "output_type": "display_data"
    }
   ],
   "source": [
    "from scipy.spatial.distance import pdist\n",
    "plt.hist(pdist(X1),bins=np.arange(0,200));\n",
    "plt.hist(pdist(X2),bins=np.arange(0,200),alpha=0.2);"
   ]
  },
  {
   "cell_type": "code",
   "execution_count": 76,
   "id": "429fdcd8-5100-4d9a-9ce0-5021609e24c2",
   "metadata": {},
   "outputs": [],
   "source": [
    "d1s = pdist(X1)\n",
    "d2s = pdist(X2)\n",
    "inds1 = np.array([(i,j) for j in range(len(X1)) for i in range(j) if i<j])\n",
    "inds2 = np.array([(i,j) for j in range(len(X2)) for i in range(j) if i<j])"
   ]
  },
  {
   "cell_type": "code",
   "execution_count": 74,
   "id": "7067a9c3-89b1-4f3a-ab4a-87567b2fe54d",
   "metadata": {},
   "outputs": [],
   "source": []
  },
  {
   "cell_type": "code",
   "execution_count": 116,
   "id": "47938fbb-8d73-4b66-bb41-eb69093cdaba",
   "metadata": {},
   "outputs": [
    {
     "name": "stderr",
     "output_type": "stream",
     "text": [
      " 25%|████████████████████▎                                                            | 50/199 [00:17<00:50,  2.93it/s]\n"
     ]
    }
   ],
   "source": [
    "resc=3\n",
    "Nmax = 10000000\n",
    "d1s_ = np.round(d1s/resc)\n",
    "d2s_ = np.round(d2s/resc)\n",
    "drift = []\n",
    "break_ = False\n",
    "for i in tqdm(np.arange(1,200)):\n",
    "    i1s = np.where(d1s_==i)[0]\n",
    "    i2s = np.where(d2s_==i)[0]\n",
    "    if len(i1s) and len(i2s):\n",
    "        for i1,j1 in inds1[i1s]:\n",
    "            for i2,j2 in inds2[i2s]:\n",
    "                drift.append(X1[i1]-X2[i2])\n",
    "                drift.append(X1[i1]-X2[j2])\n",
    "                if len(drift)>Nmax:\n",
    "                    break_=True\n",
    "    if break_:\n",
    "        break"
   ]
  },
  {
   "cell_type": "code",
   "execution_count": 108,
   "id": "be141453-4613-4266-9283-79bac88b4739",
   "metadata": {},
   "outputs": [
    {
     "data": {
      "text/plain": [
       "1073740"
      ]
     },
     "execution_count": 108,
     "metadata": {},
     "output_type": "execute_result"
    }
   ],
   "source": [
    "len(drift)"
   ]
  },
  {
   "cell_type": "code",
   "execution_count": 119,
   "id": "922fb032-8489-4f18-b3fb-0fb0dbe2da3d",
   "metadata": {},
   "outputs": [],
   "source": [
    "drift = np.array(drift)"
   ]
  },
  {
   "cell_type": "code",
   "execution_count": 120,
   "id": "863381dc-b364-4feb-aa36-f686ada5379e",
   "metadata": {},
   "outputs": [],
   "source": [
    "min_ = np.min(drift,axis=0).astype(int)-1\n",
    "max_ = np.max(drift,axis=0).astype(int)+1\n",
    "bins = tuple([np.arange(m,M,3) for m,M in zip(min_,max_)])"
   ]
  },
  {
   "cell_type": "code",
   "execution_count": 121,
   "id": "967ca591-1d5d-477e-8b93-1196848a56dc",
   "metadata": {},
   "outputs": [],
   "source": [
    "hist_ = np.histogramdd(drift,bins)"
   ]
  },
  {
   "cell_type": "code",
   "execution_count": 123,
   "id": "e44db0c6-ca79-4cf0-8015-84059b039c0c",
   "metadata": {},
   "outputs": [
    {
     "data": {
      "text/plain": [
       "array([ -6, -48,  33], dtype=int64)"
      ]
     },
     "execution_count": 123,
     "metadata": {},
     "output_type": "execute_result"
    }
   ],
   "source": [
    "np.array(np.unravel_index(np.argmax(hist_[0]),hist_[0].shape))*3+min_"
   ]
  },
  {
   "cell_type": "code",
   "execution_count": 90,
   "id": "7576e825-451d-4002-af57-112fe40675b0",
   "metadata": {},
   "outputs": [
    {
     "data": {
      "text/plain": [
       "<matplotlib.image.AxesImage at 0x1c59295f3a0>"
      ]
     },
     "execution_count": 90,
     "metadata": {},
     "output_type": "execute_result"
    },
    {
     "data": {
      "image/png": "[encoded data removed]",
      "text/plain": [
       "<Figure size 432x288 with 1 Axes>"
      ]
     },
     "metadata": {
      "needs_background": "light"
     },
     "output_type": "display_data"
    }
   ],
   "source": [
    "plt.imshow(np.max(hist_[0],0))"
   ]
  },
  {
   "cell_type": "code",
   "execution_count": null,
   "id": "155db615-858e-40d1-80c6-cb4dedf45b92",
   "metadata": {},
   "outputs": [],
   "source": [
    "np.arange(0,200)"
   ]
  },
  {
   "cell_type": "code",
   "execution_count": 56,
   "id": "d494e449-7bda-403a-8da0-e229da06f2e7",
   "metadata": {},
   "outputs": [
    {
     "data": {
      "text/plain": [
       "array([2, 2, 2, 5, 3, 4, 4, 5, 5, 5, 5, 5, 5, 5], dtype=int64)"
      ]
     },
     "execution_count": 56,
     "metadata": {},
     "output_type": "execute_result"
    }
   ],
   "source": [
    "data = np.array([1,1,1, 23,2, 3,3, 4, 5, 6, 7, 8, 9, 10])\n",
    "bin_indices = np.digitize(data, np.arange(5))\n",
    "bin_indices"
   ]
  },
  {
   "cell_type": "code",
   "execution_count": null,
   "id": "3eebb7bf-80d0-40cb-b6c4-4dd98220887c",
   "metadata": {},
   "outputs": [],
   "source": []
  },
  {
   "cell_type": "code",
   "execution_count": 31,
   "id": "b067dbe4-7f05-43e5-8ffb-b345de9e9b8a",
   "metadata": {},
   "outputs": [
    {
     "data": {
      "text/plain": [
       "<Points layer 'X2' at 0x1c588ee9640>"
      ]
     },
     "execution_count": 31,
     "metadata": {},
     "output_type": "execute_result"
    }
   ],
   "source": [
    "X1,X2 = obj.XB1_plus,obj.XB2_plus\n",
    "import napari\n",
    "v = napari.Viewer()\n",
    "v.add_points(X1,face_color='r')\n",
    "v.add_points(X2,face_color='g')"
   ]
  },
  {
   "cell_type": "code",
   "execution_count": 28,
   "id": "4d06ca25-e4cc-4a01-9085-f4a008ee4550",
   "metadata": {},
   "outputs": [
    {
     "data": {
      "text/plain": [
       "(array([  5.23746596,  45.99730706, -33.24545615]),\n",
       " array([  5.28323923,  46.05382048, -33.19872529]),\n",
       " (array([  6,  46, -33]),\n",
       "  [array([  6,  46, -33], dtype=int64),\n",
       "   array([  6,  46, -33], dtype=int64),\n",
       "   array([  6,  46, -33], dtype=int64),\n",
       "   array([  6,  46, -33], dtype=int64),\n",
       "   array([  6,  46, -33], dtype=int64)]))"
      ]
     },
     "execution_count": 28,
     "metadata": {},
     "output_type": "execute_result"
    }
   ],
   "source": [
    "obj.drft_plus,obj.drft_minus,obj.drift"
   ]
  },
  {
   "cell_type": "code",
   "execution_count": null,
   "id": "e924d6ec-7309-4ca7-849f-ba01505d09cd",
   "metadata": {},
   "outputs": [],
   "source": [
    "\n",
    "cp.ifov=10\n",
    "for cp.ifov in tqdm(np.arange(248)):\n",
    "    \n",
    "    cp.set_ = ''\n",
    "    fls = cp.dic_fls[cp.ifov]\n",
    "    fls = reorder_on_R(fls)\n",
    "    cp.fov = get_fullfov(fls[0])\n",
    "    cp.drift_fl = cp.save_folder+os.sep+'drift_'+cp.fov+'--'+cp.set_+'.pkl'\n",
    "    fov_ = cp.fov+'.zarr'\n",
    "    drift_fl_save = cp.drift_fl.replace('drift','finedrift')\n",
    "   \n",
    "    if not os.path.exists(drift_fl_save):\n",
    "        print(drift_fl_save)\n",
    "        try:\n",
    "            fld1 = Rflds[0]#,flds[20]\n",
    "            fl1 = fld1+os.sep+fov_\n",
    "            im1 = np.array(read_im(fl1)[-1],dtype=np.float32)\n",
    "            im1n = normalize_ims(im1,zm=30,zM=60)\n",
    "            XB1 = get_XB(-im1n,th=2.5)\n",
    "            XB1_minus = get_max_min(XB1,-im1n,delta_fit=5,ismax=True,return_ims=False)\n",
    "            XB1 = get_XB(im1n,th=2.5)\n",
    "            XB1_plus = get_max_min(XB1,im1n,delta_fit=5,ismax=True,return_ims=False)\n",
    "            \n",
    "            drift_info = []\n",
    "            for fld2 in Rflds:\n",
    "                #exp_drift = dic_drift[os.path.basename(fld1)]-dic_drift[os.path.basename(fld2)]\n",
    "                #exp_drift\n",
    "                fl2 = fld2+os.sep+fov_\n",
    "                im2 = np.array(read_im(fl2)[-1],dtype=np.float32)\n",
    "                drift = get_txyz(im1,im2,sz_norm=30,sz=600)\n",
    "                exp_drift = drift[0]\n",
    "                im2n = normalize_ims(im2,zm=30,zM=60)\n",
    "                XB2 = get_XB(-im2n,th=2.5)\n",
    "                XB2_ = get_max_min(XB2,-im2n,delta_fit=5,ismax=True,return_ims=False)\n",
    "                \n",
    "                XB2T = XB2_-exp_drift\n",
    "                \n",
    "                XB1_ = XB1_minus\n",
    "                ds,inds2 = cKDTree(XB2T).query(XB1_)\n",
    "                inds1 = np.where(ds<4)[0]\n",
    "                inds2 = inds2[inds1]\n",
    "                XB1__ = XB1_[inds1]\n",
    "                XB2__ = XB2_[inds2]\n",
    "                pair_minus = [XB1__,XB2__]\n",
    "                drft_minus = np.mean((XB2__-XB1__),axis=0)#,np.mean((XB2__-XB1__)[1::2],axis=0)\n",
    "                \n",
    "                \n",
    "                XB2 = get_XB(im2n,th=2.5)\n",
    "                XB2_ = get_max_min(XB2,im2n,delta_fit=5,ismax=True,return_ims=False)\n",
    "                XB2T = XB2_-exp_drift\n",
    "                XB1_ = XB1_plus\n",
    "                ds,inds2 = cKDTree(XB2T).query(XB1_)\n",
    "                inds1 = np.where(ds<4)[0]\n",
    "                inds2 = inds2[inds1]\n",
    "                XB1__ = XB1_[inds1]\n",
    "                XB2__ = XB2_[inds2]\n",
    "                pair_plus = [XB1__,XB2__]\n",
    "                drft_plus = np.mean((XB2__-XB1__),axis=0)\n",
    "                \n",
    "                drft_final = (drft_minus+drft_plus)/2\n",
    "                drift_info.append([drft_final,drft_minus,pair_minus,drft_plus,pair_plus,drift])\n",
    "                print(drft_minus,drft_plus,exp_drift)\n",
    "            pickle.dump([drift_info,Rflds,fov_],open(drift_fl_save,'wb'))\n",
    "        except:\n",
    "            print(\"Failed\",cp.ifov)"
   ]
  }
 ],
 "metadata": {
  "kernelspec": {
   "display_name": "Python 3 (ipykernel)",
   "language": "python",
   "name": "python3"
  },
  "language_info": {
   "codemirror_mode": {
    "name": "ipython",
    "version": 3
   },
   "file_extension": ".py",
   "mimetype": "text/x-python",
   "name": "python",
   "nbconvert_exporter": "python",
   "pygments_lexer": "ipython3",
   "version": "3.9.7"
  }
 },
 "nbformat": 4,
 "nbformat_minor": 5
}
