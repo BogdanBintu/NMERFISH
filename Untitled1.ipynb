{
 "cells": [
  {
   "cell_type": "code",
   "execution_count": 2,
   "id": "16402d19-d8c7-4955-9e95-1d0f70a7a22a",
   "metadata": {
    "tags": []
   },
   "outputs": [],
   "source": [
    "save_folder =r'\\\\192.168.0.10\\bbfishdc13\\DCBBL1_3_2_2023\\MERFISH_Analysis'\n",
    "master_analysis_folder = r'C:\\Scripts\\NMERFISH'\n",
    "import sys\n",
    "sys.path.append(master_analysis_folder)\n",
    "from ioMicro import *"
   ]
  },
  {
   "cell_type": "code",
   "execution_count": 27,
   "id": "8bf54b4d-f583-4813-b0f7-b42c7e68ceff",
   "metadata": {
    "tags": []
   },
   "outputs": [],
   "source": [
    "fls = glob.glob(save_folder+os.sep+'*recomputed.txt')"
   ]
  },
  {
   "cell_type": "code",
   "execution_count": 29,
   "id": "480febb9-b7f0-4aaa-bfb2-18913e917a4d",
   "metadata": {
    "tags": []
   },
   "outputs": [
    {
     "data": {
      "text/plain": [
       "7.3151879716885935"
      ]
     },
     "execution_count": 29,
     "metadata": {},
     "output_type": "execute_result"
    }
   ],
   "source": [
    "times = [os.path.getctime(fl)for fl in fls]\n",
    "np.mean(np.diff(np.sort(times))[1:])*1200/3600"
   ]
  },
  {
   "cell_type": "code",
   "execution_count": 28,
   "id": "78a63ea3-b5ba-45ac-981f-acf53b9a4e86",
   "metadata": {
    "tags": []
   },
   "outputs": [
    {
     "data": {
      "text/plain": [
       "849"
      ]
     },
     "execution_count": 28,
     "metadata": {},
     "output_type": "execute_result"
    }
   ],
   "source": [
    "len(fls)"
   ]
  },
  {
   "cell_type": "code",
   "execution_count": null,
   "id": "5e840c70-4ba8-4612-9d11-9b02be4cb565",
   "metadata": {},
   "outputs": [],
   "source": []
  }
 ],
 "metadata": {
  "kernelspec": {
   "display_name": "Python 3 (ipykernel)",
   "language": "python",
   "name": "python3"
  },
  "language_info": {
   "codemirror_mode": {
    "name": "ipython",
    "version": 3
   },
   "file_extension": ".py",
   "mimetype": "text/x-python",
   "name": "python",
   "nbconvert_exporter": "python",
   "pygments_lexer": "ipython3",
   "version": "3.8.16"
  }
 },
 "nbformat": 4,
 "nbformat_minor": 5
}
