{
 "cells": [
  {
   "cell_type": "code",
   "execution_count": 1,
   "id": "af341869",
   "metadata": {
    "tags": []
   },
   "outputs": [],
   "source": [
    "from ioMicro import *"
   ]
  },
  {
   "cell_type": "code",
   "execution_count": 52,
   "id": "2934a430",
   "metadata": {},
   "outputs": [],
   "source": [
    "fl =r'\\\\192.168.0.100\\bbfish100\\DCBBL1_4week_6_2_2023\\H1_MER_set1\\Conv_zscan__150.zarr'\n",
    "im = read_im(fl)\n",
    "import napari\n",
    "napari.view_image(im);"
   ]
  },
  {
   "cell_type": "code",
   "execution_count": 38,
   "id": "9c2b7a06",
   "metadata": {},
   "outputs": [],
   "source": [
    "im_dapi = np.array(im[-1],dtype=np.float32)\n"
   ]
  },
  {
   "cell_type": "code",
   "execution_count": 4,
   "id": "7868c6e6",
   "metadata": {},
   "outputs": [],
   "source": [
    "psf = np.load('\\\\\\\\192.168.0.100\\\\bbfish100\\\\DCBBL1_4week_6_2_2023\\\\MERFISH_Analysis\\\\psf_750_Scope3_final.npy')"
   ]
  },
  {
   "cell_type": "code",
   "execution_count": 39,
   "id": "33aa2d08",
   "metadata": {},
   "outputs": [
    {
     "name": "stderr",
     "output_type": "stream",
     "text": [
      "100%|██████████████████████████████████████████████████████████████████████████████████| 36/36 [00:04<00:00,  8.07it/s]\n"
     ]
    }
   ],
   "source": [
    "imd = full_deconv(im_dapi,s_=500,pad=100,psf=psf,parameters={'method': 'wiener', 'beta': 0.01},gpu=True,force=False)"
   ]
  },
  {
   "cell_type": "code",
   "execution_count": 40,
   "id": "1d337b8b",
   "metadata": {},
   "outputs": [],
   "source": [
    "from cellpose import models, io,utils\n",
    "from scipy import ndimage\n",
    "model = models.Cellpose(gpu=True, model_type='nuclei')\n"
   ]
  },
  {
   "cell_type": "code",
   "execution_count": 46,
   "id": "820e889c",
   "metadata": {},
   "outputs": [
    {
     "data": {
      "text/plain": [
       "12677.7783203125"
      ]
     },
     "execution_count": 46,
     "metadata": {},
     "output_type": "execute_result"
    }
   ],
   "source": [
    "np.percentile(imd,97)"
   ]
  },
  {
   "cell_type": "code",
   "execution_count": 48,
   "id": "2a9c4a95",
   "metadata": {},
   "outputs": [],
   "source": [
    "p1,p99=0,np.percentile(imd[::3,::4,::4],97)#8000\n",
    "img = np.array(np.clip((imd[::3,::4,::4]-p1)/(p99-p1),0,1),dtype=np.float32)\n",
    "masks, flows, styles, diams = model.eval(img,z_axis=0, diameter=15, channels=[0,0],\n",
    "                                         flow_threshold=-10,cellprob_threshold=-10,normalize=False,\n",
    "                                         do_3D=False,stitch_threshold=0.5,\n",
    "                                         progress=True)"
   ]
  },
  {
   "cell_type": "code",
   "execution_count": 49,
   "id": "19e22d1c",
   "metadata": {},
   "outputs": [
    {
     "data": {
      "text/plain": [
       "<Labels layer 'masks' at 0x1e619b98790>"
      ]
     },
     "execution_count": 49,
     "metadata": {},
     "output_type": "execute_result"
    }
   ],
   "source": [
    "v = napari.view_image(img)\n",
    "v.add_labels(masks)"
   ]
  },
  {
   "cell_type": "code",
   "execution_count": 111,
   "id": "e2d96e47",
   "metadata": {},
   "outputs": [
    {
     "name": "stderr",
     "output_type": "stream",
     "text": [
      "100%|██████████████████████████████████████████████████████████████████████████████████| 13/13 [01:34<00:00,  7.23s/it]\n"
     ]
    }
   ],
   "source": [
    "from cellpose import models, io,utils\n",
    "from scipy import ndimage\n",
    "model = models.Cellpose(gpu=True, model_type='nuclei')\n",
    "masksA = []\n",
    "for img in tqdm(imd[::3,::4,::4]):\n",
    "    p1 = 0#np.percentile(img,1)\n",
    "    #if p99 is None:\n",
    "    p99 = 23000#np.percentile(img,99.)\n",
    "    img = np.array(np.clip((img-p1)/(p99-p1),0,1),dtype=np.float32)\n",
    "    masks, flows, styles, diams = model.eval(img, diameter=15, channels=[0,0],\n",
    "                                         flow_threshold=1,cellprob_threshold=-10,normalize=False)\n",
    "    masksA.append(masks)"
   ]
  },
  {
   "cell_type": "code",
   "execution_count": 112,
   "id": "1af690e6",
   "metadata": {},
   "outputs": [],
   "source": [
    "masksA = np.array(masksA)"
   ]
  },
  {
   "cell_type": "code",
   "execution_count": 113,
   "id": "42602dbb",
   "metadata": {},
   "outputs": [
    {
     "data": {
      "text/plain": [
       "<Labels layer 'masksA' at 0x240c553ac70>"
      ]
     },
     "execution_count": 113,
     "metadata": {},
     "output_type": "execute_result"
    }
   ],
   "source": [
    "v = napari.view_image(imd[::3,::4,::4],contrast_limits=[p1,p99])\n",
    "v.add_labels(masksA)"
   ]
  },
  {
   "cell_type": "code",
   "execution_count": 28,
   "id": "84c55a66",
   "metadata": {},
   "outputs": [
    {
     "data": {
      "text/plain": [
       "<Image layer 'im_dapi' at 0x23e3486bfd0>"
      ]
     },
     "execution_count": 28,
     "metadata": {},
     "output_type": "execute_result"
    }
   ],
   "source": [
    "import napari\n",
    "v = napari.view_image(imd)\n",
    "v.add_image(im_dapi)"
   ]
  },
  {
   "cell_type": "code",
   "execution_count": 17,
   "id": "700dbd31",
   "metadata": {},
   "outputs": [],
   "source": [
    "napari.view_image(im_dapi);"
   ]
  },
  {
   "cell_type": "code",
   "execution_count": null,
   "id": "2fd352ff",
   "metadata": {},
   "outputs": [],
   "source": [
    "psf=None,\n",
    "    plt_val=False,\n",
    "    parameters={'method': 'wiener', 'beta': 0.001, 'niter': 50},\n",
    "    gpu=False,\n",
    "    force=False,\n",
    "    pad=None,"
   ]
  },
  {
   "cell_type": "code",
   "execution_count": 22,
   "id": "eff31170",
   "metadata": {},
   "outputs": [],
   "source": [
    "def full_deconv(im_,s_=500,pad=100,psf=None,parameters={'method': 'wiener', 'beta': 0.001, 'niter': 50},gpu=True,force=False):\n",
    "    im0=np.zeros_like(im_)\n",
    "    sx,sy = im_.shape[1:]\n",
    "    ixys = []\n",
    "    for ix in np.arange(0,sx,s_):\n",
    "        for iy in np.arange(0,sy,s_):\n",
    "            ixys.append([ix,iy])\n",
    "    \n",
    "    for ix,iy in tqdm(ixys):#ixys:#tqdm(ixys):\n",
    "        imsm = im_[:,ix:ix+pad+s_,iy:iy+pad+s_]\n",
    "        imt = apply_deconv(imsm,psf=psf,parameters=parameters,gpu=gpu,plt_val=False,force=force)\n",
    "        start_x = ix+pad//2 if ix>0 else 0\n",
    "        end_x = ix+pad//2+s_\n",
    "        start_y = iy+pad//2 if iy>0 else 0\n",
    "        end_y = iy+pad//2+s_\n",
    "        #print(start_x,end_x,start_y,end_y)\n",
    "        im0[:,start_x:end_x,start_y:end_y] = imt[:,(start_x-ix):(end_x-ix),(start_y-iy):(end_y-iy)]\n",
    "    return im0"
   ]
  },
  {
   "cell_type": "code",
   "execution_count": 14,
   "id": "5c4f5033",
   "metadata": {},
   "outputs": [],
   "source": [
    "#[ln for ln in open(r'\\\\192.168.0.100\\bbfish100\\DCBBL1_4week_6_2_2023\\H1_MER_set2\\Conv_zscan__010.power','r')]"
   ]
  },
  {
   "cell_type": "code",
   "execution_count": 15,
   "id": "1067afbe",
   "metadata": {},
   "outputs": [],
   "source": [
    "#np.array(im[9])"
   ]
  },
  {
   "cell_type": "code",
   "execution_count": null,
   "id": "e464a8d8",
   "metadata": {},
   "outputs": [],
   "source": [
    "\"\"\"Using cellpose with nuclei mode\"\"\"\n",
    "from cellpose import models, io,utils\n",
    "from scipy import ndimage\n",
    "model = models.Cellpose(gpu=use_gpu, model_type=model)\n",
    "#decided that resampling to the 4-2-2 will make it faster\n",
    "#im_dapi_3d = im_dapi[::rescz,::resc,::resc].astype(np.float32)\n",
    "chan = [0,0]\n",
    "masks_all = []\n",
    "flows_all = []\n",
    "from tqdm import tqdm\n",
    "for im in tqdm(im_dapi):\n",
    "    im_ = np.array(im,dtype=np.float32)\n",
    "    img = (cv2.blur(im_,(2,2))-cv2.blur(im_,(150,150)))[::resc,::resc]\n",
    "    p1 = np.percentile(img,1)\n",
    "    if p99 is None:\n",
    "        p99 = np.percentile(img,99.9)\n",
    "    img = np.array(np.clip((img-p1)/(p99-p1),0,1),dtype=np.float32)\n",
    "    masks, flows, styles, diams = model.eval(img, diameter=sz_cell, channels=chan,\n",
    "                                         flow_threshold=0.85,cellprob_threshold=-2,min_size=sz_min_2d,normalize=False)"
   ]
  },
  {
   "cell_type": "markdown",
   "id": "9c670385",
   "metadata": {},
   "source": [
    "### Save psf"
   ]
  },
  {
   "cell_type": "code",
   "execution_count": 4,
   "id": "c4498ecd",
   "metadata": {},
   "outputs": [],
   "source": [
    "psfs = []"
   ]
  },
  {
   "cell_type": "code",
   "execution_count": null,
   "id": "d3851643",
   "metadata": {},
   "outputs": [],
   "source": [
    "master_folder = r'\\\\192.168.0.100\\bbfish100\\DCBBL1_4week_6_2_2023\\P2_Sox11_Sox2_Dcx__set2'\n",
    "\n",
    "for ifov in tqdm([11,12,13,14,15,16,17,18]):\n",
    "    im = read_im(master_folder+r'\\Conv_zscan__'+str(ifov).zfill(3)+'.zarr')\n",
    "    im_ = np.array(im[0][1:,500:2500,500:2500],dtype=np.float32)\n",
    "    psf = get_psf(im_,th=1000,th_cor = 0.75,delta=3,delta_fit = 7,sxyzP = [15,60,60])\n",
    "    psfs.append(psf)\n",
    "#napari.view_image(im)\n",
    "psff = np.mean([psf for psf in psfs if psf is not None],axis=0)\n",
    "psff_ = np.array([p-np.median(p) for p in psff])\n",
    "from scipy.ndimage import median_filter\n",
    "psff_med = median_filter(psff_, size=15)\n",
    "psfff = (psff_-psff_med)[5:-5,5:-5,5:-5][:-1,:-1,:-1]\n",
    "psfff[psfff<0]=0\n",
    "psfff = psfff/np.max(psfff)\n",
    "np.save('psf_750_Scope3_final.npy',psfff)"
   ]
  },
  {
   "cell_type": "code",
   "execution_count": 16,
   "id": "769531fe",
   "metadata": {},
   "outputs": [],
   "source": [
    "if False:\n",
    "    imd = apply_deconv(im_[:,750:-750,750:-750],\n",
    "        psf=psf,\n",
    "        plt_val=True,\n",
    "        parameters={'method': 'wiener', 'beta': 0.0001, 'niter': 50},\n",
    "        gpu=False,\n",
    "        force=True,\n",
    "        pad=None)"
   ]
  },
  {
   "cell_type": "code",
   "execution_count": 22,
   "id": "dba727e6",
   "metadata": {},
   "outputs": [
    {
     "data": {
      "text/plain": [
       "'\\\\\\\\192.168.0.100\\\\bbfish100\\\\DCBBL1_4week_6_2_2023\\\\MERFISH_Analysis\\\\psf_750_Scope3_final.npy'"
      ]
     },
     "execution_count": 22,
     "metadata": {},
     "output_type": "execute_result"
    }
   ],
   "source": [
    "import shutil\n",
    "save_folder = os.path.dirname(master_folder)+os.sep+'MERFISH_Analysis'\n",
    "if not os.path.exists(save_folder): os.makedirs(save_folder)\n",
    "shutil.copy2(os.path.abspath('psf_750_Scope3_final.npy'),save_folder+os.sep+'psf_750_Scope3_final.npy')"
   ]
  },
  {
   "cell_type": "markdown",
   "id": "9a485de7",
   "metadata": {},
   "source": [
    "### Save flat field"
   ]
  },
  {
   "cell_type": "code",
   "execution_count": 24,
   "id": "1376eb96",
   "metadata": {},
   "outputs": [
    {
     "data": {
      "text/plain": [
       "(300, 300)"
      ]
     },
     "execution_count": 24,
     "metadata": {},
     "output_type": "execute_result"
    }
   ],
   "source": [
    "#np.load(r'\\\\192.168.0.100\\bbfish100\\DCBBL1_1year1wkNJ_ASO_SAL_4_18_2023\\MERFISH_Analysis\\med_col0.npz')['im'].shape"
   ]
  },
  {
   "cell_type": "code",
   "execution_count": 27,
   "id": "1b2ceeb2",
   "metadata": {},
   "outputs": [],
   "source": [
    "data_fld = r'\\\\192.168.0.100\\bbfish100\\DCBBL1_4week_6_2_2023\\P2_Sox11_Sox2_Dcx__set1'\n",
    "save_folder = os.path.dirname(master_folder)+os.sep+'MERFISH_Analysis'\n",
    "if not os.path.exists(save_folder): os.makedirs(save_folder)"
   ]
  },
  {
   "cell_type": "code",
   "execution_count": null,
   "id": "e600712d",
   "metadata": {},
   "outputs": [
    {
     "name": "stderr",
     "output_type": "stream",
     "text": [
      " 94%|███████████████████████████████████████████████████████████████████████████▏    | 656/698 [04:16<00:19,  2.20it/s]"
     ]
    }
   ],
   "source": [
    "compute_flat_field_raw(data_fld=data_fld,\n",
    "    save_folder=save_folder,\n",
    "    ncols=4)"
   ]
  },
  {
   "cell_type": "code",
   "execution_count": 6,
   "id": "343fa6d3",
   "metadata": {},
   "outputs": [],
   "source": []
  },
  {
   "cell_type": "code",
   "execution_count": null,
   "id": "79891cda",
   "metadata": {},
   "outputs": [],
   "source": []
  }
 ],
 "metadata": {
  "kernelspec": {
   "display_name": "Python 3 (ipykernel)",
   "language": "python",
   "name": "python3"
  },
  "language_info": {
   "codemirror_mode": {
    "name": "ipython",
    "version": 3
   },
   "file_extension": ".py",
   "mimetype": "text/x-python",
   "name": "python",
   "nbconvert_exporter": "python",
   "pygments_lexer": "ipython3",
   "version": "3.8.16"
  }
 },
 "nbformat": 4,
 "nbformat_minor": 5
}
