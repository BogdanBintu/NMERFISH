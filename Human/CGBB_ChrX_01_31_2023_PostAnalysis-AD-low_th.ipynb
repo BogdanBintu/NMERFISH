{
 "cells": [
  {
   "cell_type": "code",
   "execution_count": 1,
   "id": "299e350a",
   "metadata": {},
   "outputs": [],
   "source": [
    "import numpy as np,os,sys,glob\n",
    "import matplotlib.pylab as plt\n",
    "from ioMicro import *"
   ]
  },
  {
   "cell_type": "code",
   "execution_count": 2,
   "id": "c22b9fb0",
   "metadata": {},
   "outputs": [],
   "source": [
    "from scipy import ndimage as nd\n",
    "import os,sys,glob,numpy as np\n",
    "def get_dic_fls(analysis_fls):\n",
    "    dic_fls = {} \n",
    "    for fl in analysis_fls:\n",
    "        ifov = get_ifov(fl)\n",
    "        if ifov not in dic_fls: dic_fls[ifov] = []\n",
    "        if '_Q' in os.path.basename(fl):\n",
    "            dic_fls[ifov]+=[fl]\n",
    "    return dic_fls\n",
    "\n",
    "class post_analysis():\n",
    "    def __init__(self,analysis_fls = r'Y:\\Glass_MERFISH\\CGBB_ChrX_01_31_2023_Analysis\\*_C*_Xh_RNAs.pkl',force=False):\n",
    "        self.save_folder = self.analysis_folder =os.path.dirname(analysis_fls)\n",
    "        save_Afls = self.save_folder+os.sep+'analysis_fls.npy'\n",
    "        if os.path.exists(save_Afls) and not force:\n",
    "            self.analysis_fls = np.load(save_Afls)\n",
    "        else:\n",
    "            self.analysis_fls = np.array(glob.glob(analysis_fls))\n",
    "            np.save(save_Afls,self.analysis_fls)\n",
    "        self.dic_fls = get_dic_fls(self.analysis_fls)\n",
    "        \n",
    "    def get_Xh(ifov=0,iH=0,icol=0):\n",
    "        self.iH = iH\n",
    "        self.icol = icol\n",
    "        self.ifov=ifov\n",
    "        \n",
    "        self.fit_fls = self.dic_fls[self.ifov]\n",
    "        self.fit_fl = self.fit_fls[self.iH]\n",
    "        self.Xhs,self.dic_drift = pickle.load(open(fl,'rb'))\n",
    "        self.Xh = Xhs[self.icol]\n",
    "    def load_segm(self,force=False):\n",
    "        analysis_folder = self.save_folder\n",
    "        self.fov= fov = get_fov(self.fl)\n",
    "        segm_folder = analysis_folder+os.sep+'Segmentation'\n",
    "        dapi_fls_fl = segm_folder+os.sep+'dapi_fls_fl.npy'\n",
    "        if os.path.exists(dapi_fls_fl) or force:\n",
    "            dapi_fls = glob.glob(segm_folder+os.sep+'*.npz')\n",
    "            np.save(dapi_fls_fl,dapi_fls)\n",
    "        else:\n",
    "            dapi_fls = np.load(dapi_fls_fl)\n",
    "        self.dapi_fls = dapi_fls\n",
    "        self.fl_dapi = fl_dapi = [fl for fl in self.dapi_fls if fov in fl and self.set_ in get_H_fld(fl)][0]\n",
    "        #save_fl  = segm_folder+os.sep+os.path.basename(fl_dapi).split('.')[0]+'--'+os.path.basename(os.path.dirname(fl_dapi))+'--dapi_segm.npz'\n",
    "        self.im_segm,self.shape = np.load(fl_dapi)['segm'],np.load(fl_dapi)['shape']\n",
    "        self.im_segmf = resize(self.im_segm,self.shape)\n",
    "    def get_Xh_Q(self,ifov=0,Q = 'Q1'):\n",
    "        if True:#try:\n",
    "            self.ifov=ifov\n",
    "            self.fit_fls = self.dic_fls[self.ifov]\n",
    "            fls = self.fit_fls\n",
    "            iQ = int(Q[1:])\n",
    "            iQs = [list(eval(fl.split('Q')[-1].split('_')[0])) for fl in fls]\n",
    "            self.iH,self.icol = [[iH_,iQ_.index(iQ)] for iH_,iQ_ in enumerate(iQs) if iQ in iQ_][0]\n",
    "            self.fl = self.fit_fls[self.iH]\n",
    "            if getattr(self,\"current_fl\",\"\")!=self.fl:\n",
    "                self.current_fl = self.fl\n",
    "                self.Xhs,self.dic_drift = pickle.load(open(self.fl,'rb'))\n",
    "            self.Xh = self.Xhs[self.icol]\n",
    "            self.Q=Q\n",
    "            return 1\n",
    "        else:#except:\n",
    "            return -1\n",
    "def plot_Xh(self,viewer=None,color='white',dic_th={},rescale=True):\n",
    "    Xh = self.Xh.copy()\n",
    "    \n",
    "    cor = Xh[:,-2]\n",
    "    h = Xh[:,-1]\n",
    "    th_br = dic_th.get(self.icol,0)\n",
    "    Xh = Xh[h>th_br]\n",
    "    \n",
    "    h = Xh[:,-1]\n",
    "    #import napari\n",
    "    #napari.view_points()\n",
    "    #bad = cor>0.25\n",
    "    if rescale:\n",
    "        min_,max_ = np.sort(h)[np.array([50,-10])%len(h)]\n",
    "        h_n = np.clip((h-min_)/(max_-min_),0,1)\n",
    "        size=20*h_n\n",
    "    else:\n",
    "        size=10\n",
    "    import napari\n",
    "    if viewer is None:\n",
    "        viewer = napari.Viewer()\n",
    "    viewer.add_points(Xh[:,:3],size=size,name = self.Q,face_color=color)#,text=h.astype(int).astype(str))\n",
    "    return viewer\n",
    "\n",
    "def add_png_image(self,viewer=None,return_im=False):\n",
    "    import cv2,napari\n",
    "    self.im_png = im_png = cv2.imread(self.fl.replace('--_Xh_RNAs.pkl','_signal-col'+str(self.icol)+'.png'))\n",
    "    im_ = im_png[...,0]\n",
    "    xs = np.where(np.diff(np.percentile(im_,5,axis=1)>254)!=0)[0]+1\n",
    "    xm,xM = np.min(xs),np.max(xs)\n",
    "    ys = np.where(np.diff(np.percentile(im_,5,axis=0)>254)!=0)[0]+1\n",
    "    ym,yM = np.min(ys),np.max(ys)\n",
    "    im_=im_[xm:xM,ym:yM]\n",
    "    new_shape = [1]+list(np.max(self.Xh[:,:3],axis=0).astype(int)[1:])\n",
    "    im__ = resize(im_[np.newaxis],new_shape)\n",
    "    if return_im:\n",
    "        return im__\n",
    "    if viewer is None: viewer = napari.Viewer()\n",
    "    viewer.add_image(im__)\n",
    "def get_fov(fl): return os.path.basename(fl).split('--')[0].split('.')[0]\n",
    "def load_segm(self,force=False,vol_th = 1000,dil=5,stitch_th=0.5):\n",
    "    self.prev_fov = getattr(self,\"prev_fov\",\"\")\n",
    "    self.fov= fov = get_fov(self.fl) \n",
    "    if (self.prev_fov!=self.fov) or force or (not hasattr(self,\"im_segm\")):\n",
    "        analysis_folder = self.save_folder\n",
    "        self.prev_fov = fov\n",
    "        segm_folder = analysis_folder+os.sep+'Segmentation'\n",
    "        dapi_fls_fl = segm_folder+os.sep+'dapi_fls_fl.npy'\n",
    "        if not os.path.exists(dapi_fls_fl) or force:\n",
    "            dapi_fls = glob.glob(segm_folder+os.sep+'*.npz')\n",
    "            np.save(dapi_fls_fl,dapi_fls)\n",
    "        else:\n",
    "            dapi_fls = np.load(dapi_fls_fl)\n",
    "        self.dapi_fls = dapi_fls\n",
    "        self.fl_dapi = fl_dapi = [fl for fl in self.dapi_fls if self.fov in fl and self.set_ in get_H_fld(fl)][0]\n",
    "        #save_fl  = segm_folder+os.sep+os.path.basename(fl_dapi).split('.')[0]+'--'+os.path.basename(os.path.dirname(fl_dapi))+'--dapi_segm.npz'\n",
    "        self.im_segm,self.shape = np.load(fl_dapi)['segm'],np.load(fl_dapi)['shape']\n",
    "        self.im_segm = stitch3D(self.im_segm,niter=5,th_int=stitch_th)\n",
    "        #self.im_segmf = resize(self.im_segm,self.shape)\n",
    "        import scipy.ndimage as nd\n",
    "        vols = nd.sum(self.im_segm>-1,self.im_segm,np.unique(self.im_segm))\n",
    "\n",
    "        bad_cells = np.where(vols<vol_th)[0]\n",
    "        bad = np.in1d(self.im_segm,bad_cells).reshape(self.im_segm.shape)\n",
    "        self.im_segm[bad]=0\n",
    "\n",
    "        self.im_segm_bin = self.im_segm>0\n",
    "        self.im_segm_bin_dil = nd.binary_dilation(self.im_segm_bin,iterations=dil)\n",
    "        X_extra = np.array(np.where(self.im_segm_bin_dil>self.im_segm_bin)).T\n",
    "        X = np.array(np.where(self.im_segm_bin)).T\n",
    "        from scipy.spatial import KDTree\n",
    "        Xb = X[KDTree(X).query(X_extra)[1]]\n",
    "        #self.im_segm_ = self.im_segm.copy()\n",
    "        self.im_segm[tuple(X_extra.T)] = self.im_segm[tuple(Xb.T)] \n",
    "        self.shapesm = self.im_segm.shape\n",
    "        cells = np.unique(self.im_segm)\n",
    "        cms = nd.center_of_mass(self.im_segm>-1,self.im_segm,cells)\n",
    "        self.cms = {c_+self.ifov*10**6:(cm_*self.shape/self.shapesm).astype(int) for c_,cm_ in zip(cells,cms) if c_>0}\n",
    "def get_counts_per_cell(self,th_cor=0.5):\n",
    "    dic_th = self.dic_th\n",
    "    icol = self.icol\n",
    "    im_segm = self.im_segm\n",
    "    shapesm = self.im_segm.shape\n",
    "    shape = self.shape\n",
    "\n",
    "    Xh = self.Xh.copy()\n",
    "    cor = Xh[:,-2]\n",
    "    h = Xh[:,-1]\n",
    "    keep = h>dic_th.get(icol,0)\n",
    "    Xh = Xh[keep]\n",
    "    txyz = np.array(self.dic_drift['txyz'])\n",
    "    txyz[txyz>0]=0\n",
    "    Xcms = Xh[:,:3]-txyz\n",
    "    Xred = np.round((Xcms/shape)*shapesm).astype(int)\n",
    "    good = ~np.any((Xred>=shapesm)|(Xred<0),axis=-1)\n",
    "    Xh,Xred = Xh[good],Xred[good]\n",
    "    self.Xred = Xred\n",
    "    icells = im_segm[tuple(Xred.T)]\n",
    "    cells,cts = np.unique(icells[(Xh[:,-2]>th_cor)],return_counts=True)\n",
    "    self.good_counts = {c_+self.ifov*10**6:ct_ for c_,ct_ in zip(cells,cts) if c_>0}\n",
    "    cells,cts = np.unique(icells[(Xh[:,-2]<th_cor)],return_counts=True)\n",
    "    self.bad_counts = {c_+self.ifov*10**6:ct_ for c_,ct_ in zip(cells,cts) if c_>0}\n",
    "def get_int_im1_im2(im1,im2,th_int=0.5):\n",
    "    inters = ((im1>0)&(im2>0)).astype(int)\n",
    "    im1_in2 = im1*inters\n",
    "    N1max = np.max(im1)+1\n",
    "    im2_in1 = im2*inters*N1max\n",
    "    iint,cts = np.unique(im1_in2+im2_in1,return_counts=True)\n",
    "    c1,cts1 = np.unique(im1,return_counts=True)\n",
    "    dic_c1 = {c_:ct_ for c_,ct_ in zip(c1,cts1) if c_>0}\n",
    "    c2,cts2 = np.unique(im2,return_counts=True)\n",
    "    dic_c2 = {c_:ct_ for c_,ct_ in zip(c2,cts2) if c_>0}\n",
    "    dic_int= {(c1,c2):(ct/dic_c1[c1],ct/dic_c2[c2]) for c2,c1,ct in zip(iint//N1max,iint%N1max,cts) \n",
    "         if (c1>0) and (c2>0) and (c1!=c2)}\n",
    "    objs1 = nd.find_objects(im1)\n",
    "    objs2 = nd.find_objects(im2)\n",
    "    for cch in dic_int:\n",
    "        c1,c2 = cch\n",
    "        ic1,ic2 = dic_int[cch]\n",
    "        obj1,obj2 = objs1[c1-1],objs2[c2-1]\n",
    "        if (ic1>th_int) or (ic2>th_int):\n",
    "            c_ = np.min([c1,c2])\n",
    "            im1[obj1][im1[obj1]==c1]=c_\n",
    "            im2[obj2][im2[obj2]==c2]=c_\n",
    "    return im1,im2\n",
    "def stitch3D(im_segm,niter=5,th_int=0.5):\n",
    "    for it_ in range(niter):\n",
    "        for iim in range(len(im_segm)-1):\n",
    "            im_segm[iim],im_segm[iim+1] = get_int_im1_im2(im_segm[iim],im_segm[iim+1],th_int=th_int)\n",
    "    return im_segm"
   ]
  },
  {
   "cell_type": "code",
   "execution_count": 3,
   "id": "14c7c764",
   "metadata": {},
   "outputs": [],
   "source": [
    "dicQ = {'ASCL1': 'Q1', 'Q1': 'ASCL1', 'APLN': 'Q2', 'Q2': 'APLN', 'APOE': 'Q3', 'Q3': 'APOE', 'CSF1R': 'Q4', 'Q4': 'CSF1R', 'ARX': 'Q5', 'Q5': 'ARX', 'AQP4': 'Q6', 'Q6': 'AQP4', 'CSF2RA': 'Q7', 'Q7': 'CSF2RA', 'BGN': 'Q8', 'Q8': 'BGN', 'ARHGEF6': 'Q9', 'Q9': 'ARHGEF6', 'DOCK11': 'Q10', 'Q10': 'DOCK11', 'CFTR': 'Q11', 'Q11': 'CFTR', 'BEX1': 'Q12', 'Q12': 'BEX1', 'FGF10': 'Q13', 'Q13': 'FGF10', 'COL15A1': 'Q14', 'Q14': 'COL15A1', 'BMP2': 'Q15', 'Q15': 'BMP2', 'FLT1': 'Q16', 'Q16': 'FLT1', 'COL4A5': 'Q17', 'Q17': 'COL4A5', 'CD40LG': 'Q18', 'Q18': 'CD40LG', 'FMR1': 'Q19', 'Q19': 'FMR1', 'EDA': 'Q20', 'Q20': 'EDA', 'CD74': 'Q21', 'Q21': 'CD74', 'FNDC1': 'Q22', 'Q22': 'FNDC1', 'EFNB1': 'Q23', 'Q23': 'EFNB1', 'DACH2': 'Q24', 'Q24': 'DACH2', 'FOXP3': 'Q25', 'Q25': 'FOXP3', 'EGFL6': 'Q26', 'Q26': 'EGFL6', 'ENPEP': 'Q27', 'Q27': 'ENPEP', 'GAD1': 'Q28', 'Q28': 'GAD1', 'FGF13': 'Q29', 'Q29': 'FGF13', 'FBN2': 'Q30', 'Q30': 'FBN2', 'IL1RAPL2': 'Q31', 'Q31': 'IL1RAPL2', 'FREM2': 'Q32', 'Q32': 'FREM2', 'FGFR3': 'Q33', 'Q33': 'FGFR3', 'LAMA4': 'Q34', 'Q34': 'LAMA4', 'FRZB': 'Q35', 'Q35': 'FRZB', 'FILIP1L': 'Q36', 'Q36': 'FILIP1L', 'MBP': 'Q37', 'Q37': 'MBP', 'HTR2C': 'Q38', 'Q38': 'HTR2C', 'GFAP': 'Q39', 'Q39': 'GFAP', 'MRC1': 'Q40', 'Q40': 'MRC1', 'IL13RA1': 'Q41', 'Q41': 'IL13RA1', 'IFNG-AS1': 'Q42', 'Q42': 'IFNG-AS1', 'MT-ATP6': 'Q43', 'Q43': 'MT-ATP6', 'LRIG3': 'Q44', 'Q44': 'LRIG3', 'IL3RA': 'Q45', 'Q45': 'IL3RA', 'MT-ND3': 'Q46', 'Q46': 'MT-ND3', 'MAOA': 'Q47', 'Q47': 'MAOA', 'ITM2A': 'Q48', 'Q48': 'ITM2A', 'MT-RNR1': 'Q49', 'Q49': 'MT-RNR1', 'MT-ND1': 'Q50', 'Q50': 'MT-ND1', 'KLHL1': 'Q51', 'Q51': 'KLHL1', 'NPY': 'Q52', 'Q52': 'NPY', 'MT-ND4': 'Q53', 'Q53': 'MT-ND4', 'LAMP5': 'Q54', 'Q54': 'LAMP5', 'PAX6': 'Q55', 'Q55': 'PAX6', 'MT-RNR2': 'Q56', 'Q56': 'MT-RNR2', 'MT-ND2': 'Q57', 'Q57': 'MT-ND2', 'PCDH11X': 'Q58', 'Q58': 'PCDH11X', 'NRGN': 'Q59', 'Q59': 'NRGN', 'MT-ND5': 'Q60', 'Q60': 'MT-ND5', 'PLP1': 'Q61', 'Q61': 'PLP1', 'OLIG1': 'Q62', 'Q62': 'OLIG1', 'NDP': 'Q63', 'Q63': 'NDP', 'PTCHD1-AS': 'Q64', 'Q64': 'PTCHD1-AS', 'OPALIN': 'Q65', 'Q65': 'OPALIN', 'ROBO1': 'Q66', 'Q66': 'ROBO1', 'PVALB': 'Q67', 'Q67': 'PVALB', 'OPHN1': 'Q68', 'Q68': 'OPHN1', 'SYTL5': 'Q69', 'Q69': 'SYTL5', 'SMYD1': 'Q70', 'Q70': 'SMYD1', 'PDGFRA': 'Q71', 'Q71': 'PDGFRA', 'TAC3': 'Q72', 'Q72': 'TAC3', 'SST': 'Q73', 'Q73': 'SST', 'RORB': 'Q74', 'Q74': 'RORB', 'TENM1': 'Q75', 'Q75': 'TENM1', 'TRPC5': 'Q76', 'Q76': 'TRPC5', 'RPRM': 'Q77', 'Q77': 'RPRM', 'TSIX': 'Q78', 'Q78': 'TSIX', '': 'Q114', 'Q79': '', 'RTKN2': 'Q80', 'Q80': 'RTKN2', 'TYROBP': 'Q81', 'Q81': 'TYROBP', 'Q82': '', 'SCML4': 'Q83', 'Q83': 'SCML4', 'VCAN': 'Q84', 'Q84': 'VCAN', 'Q85': '', 'SMOC1': 'Q86', 'Q86': 'SMOC1', 'VIP': 'Q87', 'Q87': 'VIP', 'Q88': '', 'SRGN': 'Q89', 'Q89': 'SRGN', 'Xist': 'Q90', 'Q90': 'Xist', 'Q91': '', 'SRPX2': 'Q92', 'Q92': 'SRPX2', 'Q93': '', 'Q94': '', 'TEX13A': 'Q95', 'Q95': 'TEX13A', 'Q96': '', 'Q97': '', 'TH': 'Q98', 'Q98': 'TH', 'Q99': '', 'Q100': '', 'THEMIS': 'Q101', 'Q101': 'THEMIS', 'Q102': '', 'Q103': '', 'TIMP1': 'Q104', 'Q104': 'TIMP1', 'Q105': '', 'Q106': '', 'TMSB4X': 'Q107', 'Q107': 'TMSB4X', 'Q108': '', 'Q109': '', 'TNNT2': 'Q110', 'Q110': 'TNNT2', 'Q111': '', 'Q112': '', 'WNT4': 'Q113', 'Q113': 'WNT4', 'Q114': ''}"
   ]
  },
  {
   "cell_type": "markdown",
   "id": "9b8c7dfc",
   "metadata": {},
   "source": [
    "### Visualize raw max projection data"
   ]
  },
  {
   "cell_type": "code",
   "execution_count": 18,
   "id": "62d9f4d8",
   "metadata": {},
   "outputs": [],
   "source": [
    "import napari\n",
    "viewer2 = napari.Viewer()"
   ]
  },
  {
   "cell_type": "code",
   "execution_count": 5,
   "id": "27f03225",
   "metadata": {},
   "outputs": [],
   "source": [
    "pa = post_analysis(r'Y:\\Glass_MERFISH\\CGBB_ChrX_01_31_2023_Analysis\\*_AD*_Xh_RNAs.pkl',force=False)"
   ]
  },
  {
   "cell_type": "code",
   "execution_count": 6,
   "id": "fbb42b7e",
   "metadata": {},
   "outputs": [],
   "source": [
    "dic_im = {}"
   ]
  },
  {
   "cell_type": "code",
   "execution_count": 7,
   "id": "32fa813b",
   "metadata": {},
   "outputs": [
    {
     "data": {
      "text/plain": [
       "array(['APLN', 'APOE', 'AQP4', 'ARHGEF6', 'ARX', 'ASCL1', 'BEX1', 'BGN',\n",
       "       'BMP2', 'CD40LG', 'CD74', 'CFTR', 'COL15A1', 'COL4A5', 'CSF1R',\n",
       "       'CSF2RA', 'DACH2', 'DOCK11', 'EDA', 'EFNB1', 'EGFL6', 'ENPEP',\n",
       "       'FBN2', 'FGF10', 'FGF13', 'FGFR3', 'FILIP1L', 'FLT1', 'FMR1',\n",
       "       'FNDC1', 'FOXP3', 'FREM2', 'FRZB', 'GAD1', 'GFAP', 'HTR2C',\n",
       "       'IFNG-AS1', 'IL13RA1', 'IL1RAPL2', 'IL3RA', 'ITM2A', 'KLHL1',\n",
       "       'LAMA4', 'LAMP5', 'LRIG3', 'MAOA', 'MBP', 'MRC1', 'MT-ATP6',\n",
       "       'MT-ND1', 'MT-ND2', 'MT-ND3', 'MT-ND4', 'MT-ND5', 'MT-RNR1',\n",
       "       'MT-RNR2', 'NDP', 'NPY', 'NRGN', 'OLIG1', 'OPALIN', 'OPHN1',\n",
       "       'PAX6', 'PCDH11X', 'PDGFRA', 'PLP1', 'PTCHD1-AS', 'PVALB', 'ROBO1',\n",
       "       'RORB', 'RPRM', 'RTKN2', 'SCML4', 'SMOC1', 'SMYD1', 'SRGN',\n",
       "       'SRPX2', 'SST', 'SYTL5', 'TAC3', 'TENM1', 'TEX13A', 'TH', 'THEMIS',\n",
       "       'TIMP1', 'TMSB4X', 'TNNT2', 'TRPC5', 'TSIX', 'TYROBP', 'VCAN',\n",
       "       'VIP', 'WNT4', 'Xist'], dtype='<U9')"
      ]
     },
     "execution_count": 7,
     "metadata": {},
     "output_type": "execute_result"
    }
   ],
   "source": [
    "np.sort([gn for gn in dicQ if len(gn) if gn[0]!='Q'])"
   ]
  },
  {
   "cell_type": "code",
   "execution_count": 23,
   "id": "01cc9311",
   "metadata": {},
   "outputs": [
    {
     "data": {
      "text/plain": [
       "<Image layer 'MT-ND3' at 0x2600074f790>"
      ]
     },
     "execution_count": 23,
     "metadata": {},
     "output_type": "execute_result"
    }
   ],
   "source": [
    "gene = 'MT-ND3'\n",
    "Q = dicQ[gene]\n",
    "#pa = post_analysis(r'Y:\\Glass_MERFISH\\CGBB_ChrX_01_31_2023_Analysis\\*_AD*_Xh_RNAs.pkl')\n",
    "pa.get_Xh_Q(ifov=67,Q = Q)#30,80!\n",
    "ims = np.load(pa.fl.replace('--_Xh_RNAs.pkl','_plot_ims.npz'))[\"plot_ims\"]\n",
    "dic_im[gene] = ims[pa.icol]#add_png_image(pa,viewer=viewr,return_im=True)\n",
    "\n",
    "viewer2.add_image(dic_im[gene],name=gene,contrast_limits=[0,20000],blending='additive')"
   ]
  },
  {
   "cell_type": "code",
   "execution_count": 20,
   "id": "a11ffbf6",
   "metadata": {},
   "outputs": [],
   "source": [
    "plot_Xh(pa,viewer=viewer2,color='red',dic_th={0:5000,1:5000,2:5000},rescale=False);\n",
    "plot_Xh(pa,viewer=viewer2,color='green',dic_th={0:3000,1:3000,2:3000},rescale=False);"
   ]
  },
  {
   "cell_type": "code",
   "execution_count": null,
   "id": "9fa9f92e",
   "metadata": {},
   "outputs": [],
   "source": []
  },
  {
   "cell_type": "code",
   "execution_count": 46,
   "id": "8574f79f",
   "metadata": {},
   "outputs": [],
   "source": [
    "gene = 'GAD1'\n",
    "Q = dicQ[gene]\n",
    "#pa = post_analysis(r'Y:\\Glass_MERFISH\\CGBB_ChrX_01_31_2023_Analysis\\*_AD*_Xh_RNAs.pkl')\n",
    "pa.get_Xh_Q(ifov=80,Q = Q)\n",
    "plot_Xh(pa,viewer=viewer2,color='white',dic_th={0:5000,1:5000,2:5000},rescale=False);"
   ]
  },
  {
   "cell_type": "code",
   "execution_count": null,
   "id": "073eab4d",
   "metadata": {},
   "outputs": [],
   "source": [
    "viewer2"
   ]
  },
  {
   "cell_type": "code",
   "execution_count": 145,
   "id": "9717303f",
   "metadata": {},
   "outputs": [],
   "source": [
    "dic_im = {}"
   ]
  },
  {
   "cell_type": "code",
   "execution_count": 641,
   "id": "75f28048",
   "metadata": {},
   "outputs": [],
   "source": [
    "\n",
    "for gene in [\"LAMP5\",'SST','PVALB','RORB','ARX','CSF1R']:\n",
    "    Q = dicQ[gene]\n",
    "    pa = post_analysis(r'Y:\\Glass_MERFISH\\CGBB_ChrX_01_31_2023_Analysis\\*_C*_Xh_RNAs.pkl')\n",
    "    pa.get_Xh_Q(ifov=70,Q = Q)\n",
    "    ims = np.load(pa.fl.replace('--_Xh_RNAs.pkl','_plot_ims.npz'))[\"plot_ims\"]\n",
    "    dic_im[gene] = ims[pa.icol]#add_png_image(pa,viewer=viewr,return_im=True)\n",
    "\n",
    "    viewer.add_image(dic_im[gene],name=gene,contrast_limits=[0,20000],blending='additive')"
   ]
  },
  {
   "cell_type": "code",
   "execution_count": 173,
   "id": "6e92b594",
   "metadata": {},
   "outputs": [],
   "source": [
    "mtgns = [gn for gn in dicQ if'MT' in gn]"
   ]
  },
  {
   "cell_type": "code",
   "execution_count": 25,
   "id": "e63f3d22",
   "metadata": {},
   "outputs": [
    {
     "ename": "NameError",
     "evalue": "name 'mtgns' is not defined",
     "output_type": "error",
     "traceback": [
      "\u001b[1;31m---------------------------------------------------------------------------\u001b[0m",
      "\u001b[1;31mNameError\u001b[0m                                 Traceback (most recent call last)",
      "\u001b[1;32mC:\\Users\\BINTUL~2\\AppData\\Local\\Temp/ipykernel_26004/1443138962.py\u001b[0m in \u001b[0;36m<module>\u001b[1;34m\u001b[0m\n\u001b[0;32m      1\u001b[0m \u001b[0mgene\u001b[0m \u001b[1;33m=\u001b[0m \u001b[1;34m'NRGN'\u001b[0m\u001b[1;33m\u001b[0m\u001b[1;33m\u001b[0m\u001b[0m\n\u001b[1;32m----> 2\u001b[1;33m \u001b[1;32mfor\u001b[0m \u001b[0mgene\u001b[0m \u001b[1;32min\u001b[0m \u001b[0mmtgns\u001b[0m\u001b[1;33m:\u001b[0m\u001b[1;33m\u001b[0m\u001b[1;33m\u001b[0m\u001b[0m\n\u001b[0m\u001b[0;32m      3\u001b[0m     \u001b[0mQ\u001b[0m \u001b[1;33m=\u001b[0m \u001b[0mdicQ\u001b[0m\u001b[1;33m[\u001b[0m\u001b[0mgene\u001b[0m\u001b[1;33m]\u001b[0m\u001b[1;33m\u001b[0m\u001b[1;33m\u001b[0m\u001b[0m\n\u001b[0;32m      4\u001b[0m     \u001b[0mpa\u001b[0m \u001b[1;33m=\u001b[0m \u001b[0mpost_analysis\u001b[0m\u001b[1;33m(\u001b[0m\u001b[1;34mr'Y:\\Glass_MERFISH\\CGBB_ChrX_01_31_2023_Analysis\\*_C*_Xh_RNAs.pkl'\u001b[0m\u001b[1;33m)\u001b[0m\u001b[1;33m\u001b[0m\u001b[1;33m\u001b[0m\u001b[0m\n\u001b[0;32m      5\u001b[0m     \u001b[0mpa\u001b[0m\u001b[1;33m.\u001b[0m\u001b[0mget_Xh_Q\u001b[0m\u001b[1;33m(\u001b[0m\u001b[0mifov\u001b[0m\u001b[1;33m=\u001b[0m\u001b[1;36m70\u001b[0m\u001b[1;33m,\u001b[0m\u001b[0mQ\u001b[0m \u001b[1;33m=\u001b[0m \u001b[0mQ\u001b[0m\u001b[1;33m)\u001b[0m\u001b[1;33m\u001b[0m\u001b[1;33m\u001b[0m\u001b[0m\n",
      "\u001b[1;31mNameError\u001b[0m: name 'mtgns' is not defined"
     ]
    }
   ],
   "source": [
    "gene = 'NRGN'\n",
    "for gene in mtgns:\n",
    "    Q = dicQ[gene]\n",
    "    pa = post_analysis(r'Y:\\Glass_MERFISH\\CGBB_ChrX_01_31_2023_Analysis\\*_C*_Xh_RNAs.pkl')\n",
    "    pa.get_Xh_Q(ifov=70,Q = Q)\n",
    "    ims = np.load(pa.fl.replace('--_Xh_RNAs.pkl','_plot_ims.npz'))[\"plot_ims\"]\n",
    "    dic_im[gene] = ims[pa.icol]#add_png_image(pa,viewer=viewr,return_im=True)\n",
    "\n",
    "    viewer.add_image(dic_im[gene],name=gene,contrast_limits=[0,20000],blending='additive')"
   ]
  },
  {
   "cell_type": "code",
   "execution_count": 41,
   "id": "b4ed0da7",
   "metadata": {},
   "outputs": [],
   "source": [
    "dapi_fls = np.load(pa.save_folder+os.sep+'files_map.npz')['dapi_fls']"
   ]
  },
  {
   "cell_type": "code",
   "execution_count": 42,
   "id": "77766b79",
   "metadata": {},
   "outputs": [
    {
     "data": {
      "text/plain": [
       "<Image layer 'DAPI_seg' at 0x24909230dc0>"
      ]
     },
     "execution_count": 42,
     "metadata": {},
     "output_type": "execute_result"
    }
   ],
   "source": [
    "pa.set_ = '_AD'\n",
    "fl = [fl for fl in dapi_fls if pa.set_ in os.path.basename(fl) and get_ifov(fl)==pa.ifov][0]\n",
    "im_seg =np.load(fl)['segm']\n",
    "shape = np.load(fl)['shape']\n",
    "im_seg_ = resize(im_seg,shape)\n",
    "\n",
    "viewer.add_image(np.mean(im_seg_>0,axis=0),name=\"DAPI_seg\",contrast_limits=[0,1],blending='additive')"
   ]
  },
  {
   "cell_type": "code",
   "execution_count": 43,
   "id": "bcbdfa5f",
   "metadata": {},
   "outputs": [
    {
     "data": {
      "text/plain": [
       "<Image layer 'DAPI_seg' at 0x2490927e2e0>"
      ]
     },
     "execution_count": 43,
     "metadata": {},
     "output_type": "execute_result"
    }
   ],
   "source": [
    "viewer2.add_image(np.mean(im_seg_>0,axis=0),name=\"DAPI_seg\",contrast_limits=[0,1],blending='additive')"
   ]
  },
  {
   "cell_type": "code",
   "execution_count": 589,
   "id": "b5d8db18",
   "metadata": {},
   "outputs": [],
   "source": [
    "all_genes = [e for e in dicQ if e[:1]!='Q' and len(e)]"
   ]
  },
  {
   "cell_type": "code",
   "execution_count": 625,
   "id": "74f003b8",
   "metadata": {},
   "outputs": [],
   "source": [
    "dic_ct_fov = {}\n",
    "pa = post_analysis(r'Y:\\Glass_MERFISH\\CGBB_ChrX_01_31_2023_Analysis\\*_C*_Xh_RNAs.pkl',force=True)"
   ]
  },
  {
   "cell_type": "code",
   "execution_count": 617,
   "id": "b9359acc",
   "metadata": {},
   "outputs": [
    {
     "data": {
      "text/plain": [
       "<function genericpath.isdir(s)>"
      ]
     },
     "execution_count": 617,
     "metadata": {},
     "output_type": "execute_result"
    }
   ],
   "source": [
    "os.path.isdir"
   ]
  },
  {
   "cell_type": "code",
   "execution_count": 141,
   "id": "36664206",
   "metadata": {},
   "outputs": [],
   "source": [
    "gene = \"AQP4\"\n",
    "Q = dicQ[gene]\n",
    "pa = post_analysis(r'Y:\\Glass_MERFISH\\CGBB_ChrX_01_31_2023_Analysis\\*_C*_Xh_RNAs.pkl')\n",
    "pa.get_Xh_Q(ifov=70,Q = Q)\n",
    "viewr = plot_Xh(pa,viewer=None,color='white',dic_th={},rescale=True)"
   ]
  },
  {
   "cell_type": "code",
   "execution_count": 656,
   "id": "f07c107f",
   "metadata": {},
   "outputs": [],
   "source": [
    "gene = \"PVALB\"\n",
    "Q = dicQ[gene]\n",
    "pa = post_analysis(r'Y:\\Glass_MERFISH\\CGBB_ChrX_01_31_2023_Analysis\\*_C*_Xh_RNAs.pkl')\n",
    "pa.get_Xh_Q(ifov=20,Q = Q)\n",
    "V =plot_Xh(pa,viewer=None,color='white',dic_th={},rescale=True)"
   ]
  },
  {
   "cell_type": "code",
   "execution_count": 658,
   "id": "d82b20ac",
   "metadata": {},
   "outputs": [
    {
     "data": {
      "text/plain": [
       "Viewer(axes=Axes(visible=False, labels=True, colored=True, dashed=False, arrows=True), camera=Camera(center=(0.0, 1433.4943149737364, 1440.016694386004), zoom=0.33892622438633124, angles=(0.0, 0.0, 90.0), perspective=0.0, interactive=True), cursor=Cursor(position=(1.0, 1.0, 0.0), scaled=True, size=1, style=<CursorStyle.STANDARD: 'standard'>), dims=Dims(ndim=3, ndisplay=2, last_used=0, range=((-0.7099205007777517, 59.569249679874, 1.0), (-0.18699231357237842, 2868.175622261045, 1.0), (0.004014247857868755, 2881.02937452415, 1.0)), current_step=(30, 1433, 1440), order=(0, 1, 2), axis_labels=('0', '1', '2')), grid=GridCanvas(stride=1, shape=(-1, -1), enabled=False), layers=[<Points layer 'Q67' at 0x25fdef8f580>, <Points layer 'Q67 [1]' at 0x25fcad04f40>], scale_bar=ScaleBar(visible=False, colored=False, ticks=True, position=<Position.BOTTOM_RIGHT: 'bottom_right'>, font_size=10, unit=None), text_overlay=TextOverlay(visible=False, color=(0.5, 0.5, 0.5, 1.0), font_size=10, position=<TextOverlayPosition.TOP_LEFT: 'top_left'>, text=''), overlays=Overlays(interaction_box=InteractionBox(points=None, show=False, show_handle=False, show_vertices=False, selection_box_drag=None, selection_box_final=None, transform_start=<napari.utils.transforms.transforms.Affine object at 0x0000025FDBBB5C10>, transform_drag=<napari.utils.transforms.transforms.Affine object at 0x0000025FDBBB5C70>, transform_final=<napari.utils.transforms.transforms.Affine object at 0x0000025FDBBB5CD0>, transform=<napari.utils.transforms.transforms.Affine object at 0x0000025FDBBB5D30>, allow_new_selection=True, selected_vertex=None)), help='', status='Ready', tooltip=Tooltip(visible=False, text=''), theme='dark', title='napari', mouse_move_callbacks=[<function InteractionBoxMouseBindings.initialize_mouse_events.<locals>.mouse_move at 0x0000025FDEFC9280>], mouse_drag_callbacks=[<function InteractionBoxMouseBindings.initialize_mouse_events.<locals>.mouse_drag at 0x0000025FDEFB5700>], mouse_double_click_callbacks=[], mouse_wheel_callbacks=[<function dims_scroll at 0x00000253F4C223A0>], _persisted_mouse_event={}, _mouse_drag_gen={}, _mouse_wheel_gen={}, keymap={'Shift': <function InteractionBoxMouseBindings.initialize_key_events.<locals>.hold_to_lock_aspect_ratio at 0x0000025FDEFB5310>, 'Control-Shift-R': <function InteractionBoxMouseBindings._reset_active_layer_affine at 0x0000025FDEFB5E50>, 'Control-Shift-A': <function InteractionBoxMouseBindings._transform_active_layer at 0x0000025FDEFB5C10>})"
      ]
     },
     "execution_count": 658,
     "metadata": {},
     "output_type": "execute_result"
    }
   ],
   "source": [
    "plot_Xh_bad(pa,viewer=V,color='red',dic_th={},rescale=True,cor_th =0.5)"
   ]
  },
  {
   "cell_type": "code",
   "execution_count": 657,
   "id": "4969ea0f",
   "metadata": {},
   "outputs": [],
   "source": [
    "def plot_Xh_bad(self,viewer=None,color='white',dic_th={},rescale=True,cor_th =0.5):\n",
    "    Xh = self.Xh.copy()\n",
    "    \n",
    "    cor = Xh[:,-2]\n",
    "    Xh = Xh[cor<cor_th]\n",
    "    \n",
    "    h = Xh[:,-1]\n",
    "    #import napari\n",
    "    #napari.view_points()\n",
    "    #bad = cor>0.25\n",
    "    if rescale:\n",
    "        min_,max_ = np.sort(h)[np.array([50,-10])%len(h)]\n",
    "        h_n = np.clip((h-min_)/(max_-min_),0,1)\n",
    "        size=20*h_n\n",
    "    else:\n",
    "        size=10\n",
    "    import napari\n",
    "    if viewer is None:\n",
    "        viewer = napari.Viewer()\n",
    "    viewer.add_points(Xh[:,:3],size=size,name = self.Q,face_color=color)#,text=h.astype(int).astype(str))\n",
    "    return viewer"
   ]
  },
  {
   "cell_type": "code",
   "execution_count": null,
   "id": "9bfabbb8",
   "metadata": {},
   "outputs": [],
   "source": [
    "plot_Xh(pa,viewer=None,color='white',dic_th={},rescale=True)"
   ]
  },
  {
   "cell_type": "code",
   "execution_count": 650,
   "id": "03a0cd0e",
   "metadata": {},
   "outputs": [],
   "source": [
    "pa.set_ = '_C'\n",
    "load_segm(pa,force=False,vol_th = 1500,dil=1)"
   ]
  },
  {
   "cell_type": "code",
   "execution_count": 653,
   "id": "59a3197d",
   "metadata": {},
   "outputs": [],
   "source": [
    "im_segm = resize(pa.im_segm,pa.shape)\n"
   ]
  },
  {
   "cell_type": "code",
   "execution_count": 654,
   "id": "cd141793",
   "metadata": {},
   "outputs": [
    {
     "data": {
      "text/plain": [
       "<Labels layer 'im_segm' at 0x25f8c965790>"
      ]
     },
     "execution_count": 654,
     "metadata": {},
     "output_type": "execute_result"
    }
   ],
   "source": [
    "viewr.add_labels(im_segm)------------------------------------------------------------------------------------------------------------------------------------------------------------------------------------------------------------------"
   ]
  },
  {
   "cell_type": "markdown",
   "id": "17b79c4b",
   "metadata": {},
   "source": [
    "### Main post analysis"
   ]
  },
  {
   "cell_type": "code",
   "execution_count": null,
   "id": "1b9fcc3d",
   "metadata": {},
   "outputs": [],
   "source": []
  },
  {
   "cell_type": "code",
   "execution_count": 49,
   "id": "c825b1d1",
   "metadata": {},
   "outputs": [],
   "source": [
    "all_genes=np.sort([gn for gn in dicQ if len(gn) if gn[0]!='Q'])"
   ]
  },
  {
   "cell_type": "code",
   "execution_count": 60,
   "id": "501ccbe8",
   "metadata": {},
   "outputs": [
    {
     "name": "stderr",
     "output_type": "stream",
     "text": [
      "100%|██████████████████████████████████████████████████████████████████████████████████| 94/94 [00:10<00:00,  9.16it/s]"
     ]
    },
    {
     "name": "stdout",
     "output_type": "stream",
     "text": [
      "Y:\\Glass_MERFISH\\CGBB_ChrX_01_31_2023_Analysis\\dic_cts\\00080--_AD--dic_cts.pkl\n"
     ]
    },
    {
     "name": "stderr",
     "output_type": "stream",
     "text": [
      "\n"
     ]
    }
   ],
   "source": [
    "dic_ct_fov = {}\n",
    "ifov=80\n",
    "pa.set_ = '_AD'\n",
    "save_fld = pa.save_folder+os.sep+'dic_cts'\n",
    "if not os.path.exists(save_fld): os.makedirs(save_fld)\n",
    "save_fl = save_fld+os.sep+str(ifov).zfill(5)+'--'+pa.set_+'--dic_cts.pkl'\n",
    "if not os.path.exists(save_fl):\n",
    "    for gene in tqdm(all_genes):\n",
    "        #gene = \"PVALB\"\n",
    "\n",
    "        Q = dicQ[gene]\n",
    "        pa.get_Xh_Q(ifov=ifov,Q = Q) #load in the points\n",
    "        load_segm(pa,force=False,vol_th = 1500,dil=5) #load in the segmentation file\n",
    "        pa.dic_th={0:5000,1:5000,2:5000}\n",
    "        get_counts_per_cell(pa)\n",
    "        dic_ct_fov[gene]=(pa.good_counts,pa.bad_counts)\n",
    "\n",
    "\n",
    "    print(save_fl)\n",
    "    pickle.dump([dic_ct_fov,pa.cms],open(save_fl,'wb'))"
   ]
  },
  {
   "cell_type": "code",
   "execution_count": null,
   "id": "e2e90131",
   "metadata": {},
   "outputs": [
    {
     "name": "stderr",
     "output_type": "stream",
     "text": [
      "100%|██████████████████████████████████████████████████████████████████████████████████| 94/94 [00:37<00:00,  2.51it/s]\n"
     ]
    },
    {
     "name": "stdout",
     "output_type": "stream",
     "text": [
      "Y:\\Glass_MERFISH\\CGBB_ChrX_01_31_2023_Analysis\\dic_cts\\00000--_AD--_3000-dic_cts.pkl\n"
     ]
    },
    {
     "name": "stderr",
     "output_type": "stream",
     "text": [
      "100%|██████████████████████████████████████████████████████████████████████████████████| 94/94 [00:22<00:00,  4.14it/s]\n"
     ]
    },
    {
     "name": "stdout",
     "output_type": "stream",
     "text": [
      "Y:\\Glass_MERFISH\\CGBB_ChrX_01_31_2023_Analysis\\dic_cts\\00001--_AD--_3000-dic_cts.pkl\n"
     ]
    },
    {
     "name": "stderr",
     "output_type": "stream",
     "text": [
      "100%|██████████████████████████████████████████████████████████████████████████████████| 94/94 [00:49<00:00,  1.90it/s]\n"
     ]
    },
    {
     "name": "stdout",
     "output_type": "stream",
     "text": [
      "Y:\\Glass_MERFISH\\CGBB_ChrX_01_31_2023_Analysis\\dic_cts\\00002--_AD--_3000-dic_cts.pkl\n"
     ]
    },
    {
     "name": "stderr",
     "output_type": "stream",
     "text": [
      "100%|██████████████████████████████████████████████████████████████████████████████████| 94/94 [00:33<00:00,  2.82it/s]\n"
     ]
    },
    {
     "name": "stdout",
     "output_type": "stream",
     "text": [
      "Y:\\Glass_MERFISH\\CGBB_ChrX_01_31_2023_Analysis\\dic_cts\\00003--_AD--_3000-dic_cts.pkl\n"
     ]
    },
    {
     "name": "stderr",
     "output_type": "stream",
     "text": [
      "100%|██████████████████████████████████████████████████████████████████████████████████| 94/94 [00:21<00:00,  4.28it/s]\n"
     ]
    },
    {
     "name": "stdout",
     "output_type": "stream",
     "text": [
      "Y:\\Glass_MERFISH\\CGBB_ChrX_01_31_2023_Analysis\\dic_cts\\00004--_AD--_3000-dic_cts.pkl\n"
     ]
    },
    {
     "name": "stderr",
     "output_type": "stream",
     "text": [
      "100%|██████████████████████████████████████████████████████████████████████████████████| 94/94 [00:15<00:00,  5.90it/s]\n"
     ]
    },
    {
     "name": "stdout",
     "output_type": "stream",
     "text": [
      "Y:\\Glass_MERFISH\\CGBB_ChrX_01_31_2023_Analysis\\dic_cts\\00005--_AD--_3000-dic_cts.pkl\n"
     ]
    },
    {
     "name": "stderr",
     "output_type": "stream",
     "text": [
      "100%|██████████████████████████████████████████████████████████████████████████████████| 94/94 [00:21<00:00,  4.34it/s]\n"
     ]
    },
    {
     "name": "stdout",
     "output_type": "stream",
     "text": [
      "Y:\\Glass_MERFISH\\CGBB_ChrX_01_31_2023_Analysis\\dic_cts\\00006--_AD--_3000-dic_cts.pkl\n"
     ]
    },
    {
     "name": "stderr",
     "output_type": "stream",
     "text": [
      "100%|██████████████████████████████████████████████████████████████████████████████████| 94/94 [00:17<00:00,  5.34it/s]\n"
     ]
    },
    {
     "name": "stdout",
     "output_type": "stream",
     "text": [
      "Y:\\Glass_MERFISH\\CGBB_ChrX_01_31_2023_Analysis\\dic_cts\\00007--_AD--_3000-dic_cts.pkl\n"
     ]
    },
    {
     "name": "stderr",
     "output_type": "stream",
     "text": [
      "100%|██████████████████████████████████████████████████████████████████████████████████| 94/94 [00:16<00:00,  5.70it/s]\n"
     ]
    },
    {
     "name": "stdout",
     "output_type": "stream",
     "text": [
      "Y:\\Glass_MERFISH\\CGBB_ChrX_01_31_2023_Analysis\\dic_cts\\00008--_AD--_3000-dic_cts.pkl\n"
     ]
    },
    {
     "name": "stderr",
     "output_type": "stream",
     "text": [
      "100%|██████████████████████████████████████████████████████████████████████████████████| 94/94 [00:25<00:00,  3.68it/s]\n"
     ]
    },
    {
     "name": "stdout",
     "output_type": "stream",
     "text": [
      "Y:\\Glass_MERFISH\\CGBB_ChrX_01_31_2023_Analysis\\dic_cts\\00009--_AD--_3000-dic_cts.pkl\n"
     ]
    },
    {
     "name": "stderr",
     "output_type": "stream",
     "text": [
      "100%|██████████████████████████████████████████████████████████████████████████████████| 94/94 [00:22<00:00,  4.24it/s]\n"
     ]
    },
    {
     "name": "stdout",
     "output_type": "stream",
     "text": [
      "Y:\\Glass_MERFISH\\CGBB_ChrX_01_31_2023_Analysis\\dic_cts\\00010--_AD--_3000-dic_cts.pkl\n"
     ]
    },
    {
     "name": "stderr",
     "output_type": "stream",
     "text": [
      "100%|██████████████████████████████████████████████████████████████████████████████████| 94/94 [00:30<00:00,  3.13it/s]\n"
     ]
    },
    {
     "name": "stdout",
     "output_type": "stream",
     "text": [
      "Y:\\Glass_MERFISH\\CGBB_ChrX_01_31_2023_Analysis\\dic_cts\\00011--_AD--_3000-dic_cts.pkl\n"
     ]
    },
    {
     "name": "stderr",
     "output_type": "stream",
     "text": [
      "100%|██████████████████████████████████████████████████████████████████████████████████| 94/94 [00:17<00:00,  5.35it/s]\n"
     ]
    },
    {
     "name": "stdout",
     "output_type": "stream",
     "text": [
      "Y:\\Glass_MERFISH\\CGBB_ChrX_01_31_2023_Analysis\\dic_cts\\00012--_AD--_3000-dic_cts.pkl\n"
     ]
    },
    {
     "name": "stderr",
     "output_type": "stream",
     "text": [
      "100%|██████████████████████████████████████████████████████████████████████████████████| 94/94 [00:18<00:00,  5.06it/s]\n"
     ]
    },
    {
     "name": "stdout",
     "output_type": "stream",
     "text": [
      "Y:\\Glass_MERFISH\\CGBB_ChrX_01_31_2023_Analysis\\dic_cts\\00013--_AD--_3000-dic_cts.pkl\n"
     ]
    },
    {
     "name": "stderr",
     "output_type": "stream",
     "text": [
      "100%|██████████████████████████████████████████████████████████████████████████████████| 94/94 [00:30<00:00,  3.07it/s]\n"
     ]
    },
    {
     "name": "stdout",
     "output_type": "stream",
     "text": [
      "Y:\\Glass_MERFISH\\CGBB_ChrX_01_31_2023_Analysis\\dic_cts\\00014--_AD--_3000-dic_cts.pkl\n"
     ]
    },
    {
     "name": "stderr",
     "output_type": "stream",
     "text": [
      "100%|██████████████████████████████████████████████████████████████████████████████████| 94/94 [00:24<00:00,  3.90it/s]\n"
     ]
    },
    {
     "name": "stdout",
     "output_type": "stream",
     "text": [
      "Y:\\Glass_MERFISH\\CGBB_ChrX_01_31_2023_Analysis\\dic_cts\\00015--_AD--_3000-dic_cts.pkl\n"
     ]
    },
    {
     "name": "stderr",
     "output_type": "stream",
     "text": [
      "100%|██████████████████████████████████████████████████████████████████████████████████| 94/94 [00:08<00:00, 11.50it/s]\n"
     ]
    },
    {
     "name": "stdout",
     "output_type": "stream",
     "text": [
      "Y:\\Glass_MERFISH\\CGBB_ChrX_01_31_2023_Analysis\\dic_cts\\00016--_AD--_3000-dic_cts.pkl\n"
     ]
    },
    {
     "name": "stderr",
     "output_type": "stream",
     "text": [
      "100%|██████████████████████████████████████████████████████████████████████████████████| 94/94 [00:18<00:00,  5.02it/s]\n"
     ]
    },
    {
     "name": "stdout",
     "output_type": "stream",
     "text": [
      "Y:\\Glass_MERFISH\\CGBB_ChrX_01_31_2023_Analysis\\dic_cts\\00017--_AD--_3000-dic_cts.pkl\n"
     ]
    },
    {
     "name": "stderr",
     "output_type": "stream",
     "text": [
      "100%|██████████████████████████████████████████████████████████████████████████████████| 94/94 [00:15<00:00,  6.12it/s]\n"
     ]
    },
    {
     "name": "stdout",
     "output_type": "stream",
     "text": [
      "Y:\\Glass_MERFISH\\CGBB_ChrX_01_31_2023_Analysis\\dic_cts\\00018--_AD--_3000-dic_cts.pkl\n"
     ]
    },
    {
     "name": "stderr",
     "output_type": "stream",
     "text": [
      "100%|██████████████████████████████████████████████████████████████████████████████████| 94/94 [00:58<00:00,  1.61it/s]\n"
     ]
    },
    {
     "name": "stdout",
     "output_type": "stream",
     "text": [
      "Y:\\Glass_MERFISH\\CGBB_ChrX_01_31_2023_Analysis\\dic_cts\\00019--_AD--_3000-dic_cts.pkl\n"
     ]
    },
    {
     "name": "stderr",
     "output_type": "stream",
     "text": [
      "100%|██████████████████████████████████████████████████████████████████████████████████| 94/94 [00:30<00:00,  3.06it/s]\n"
     ]
    },
    {
     "name": "stdout",
     "output_type": "stream",
     "text": [
      "Y:\\Glass_MERFISH\\CGBB_ChrX_01_31_2023_Analysis\\dic_cts\\00020--_AD--_3000-dic_cts.pkl\n"
     ]
    },
    {
     "name": "stderr",
     "output_type": "stream",
     "text": [
      "100%|██████████████████████████████████████████████████████████████████████████████████| 94/94 [00:25<00:00,  3.68it/s]\n"
     ]
    },
    {
     "name": "stdout",
     "output_type": "stream",
     "text": [
      "Y:\\Glass_MERFISH\\CGBB_ChrX_01_31_2023_Analysis\\dic_cts\\00021--_AD--_3000-dic_cts.pkl\n"
     ]
    },
    {
     "name": "stderr",
     "output_type": "stream",
     "text": [
      "100%|██████████████████████████████████████████████████████████████████████████████████| 94/94 [00:35<00:00,  2.65it/s]\n"
     ]
    },
    {
     "name": "stdout",
     "output_type": "stream",
     "text": [
      "Y:\\Glass_MERFISH\\CGBB_ChrX_01_31_2023_Analysis\\dic_cts\\00022--_AD--_3000-dic_cts.pkl\n"
     ]
    },
    {
     "name": "stderr",
     "output_type": "stream",
     "text": [
      "100%|██████████████████████████████████████████████████████████████████████████████████| 94/94 [00:20<00:00,  4.65it/s]\n"
     ]
    },
    {
     "name": "stdout",
     "output_type": "stream",
     "text": [
      "Y:\\Glass_MERFISH\\CGBB_ChrX_01_31_2023_Analysis\\dic_cts\\00023--_AD--_3000-dic_cts.pkl\n"
     ]
    },
    {
     "name": "stderr",
     "output_type": "stream",
     "text": [
      "100%|██████████████████████████████████████████████████████████████████████████████████| 94/94 [00:23<00:00,  3.99it/s]\n"
     ]
    },
    {
     "name": "stdout",
     "output_type": "stream",
     "text": [
      "Y:\\Glass_MERFISH\\CGBB_ChrX_01_31_2023_Analysis\\dic_cts\\00024--_AD--_3000-dic_cts.pkl\n"
     ]
    },
    {
     "name": "stderr",
     "output_type": "stream",
     "text": [
      "100%|██████████████████████████████████████████████████████████████████████████████████| 94/94 [00:18<00:00,  5.03it/s]\n"
     ]
    },
    {
     "name": "stdout",
     "output_type": "stream",
     "text": [
      "Y:\\Glass_MERFISH\\CGBB_ChrX_01_31_2023_Analysis\\dic_cts\\00025--_AD--_3000-dic_cts.pkl\n"
     ]
    },
    {
     "name": "stderr",
     "output_type": "stream",
     "text": [
      "100%|██████████████████████████████████████████████████████████████████████████████████| 94/94 [00:26<00:00,  3.55it/s]\n"
     ]
    },
    {
     "name": "stdout",
     "output_type": "stream",
     "text": [
      "Y:\\Glass_MERFISH\\CGBB_ChrX_01_31_2023_Analysis\\dic_cts\\00026--_AD--_3000-dic_cts.pkl\n"
     ]
    },
    {
     "name": "stderr",
     "output_type": "stream",
     "text": [
      "100%|██████████████████████████████████████████████████████████████████████████████████| 94/94 [00:21<00:00,  4.36it/s]\n"
     ]
    },
    {
     "name": "stdout",
     "output_type": "stream",
     "text": [
      "Y:\\Glass_MERFISH\\CGBB_ChrX_01_31_2023_Analysis\\dic_cts\\00027--_AD--_3000-dic_cts.pkl\n"
     ]
    },
    {
     "name": "stderr",
     "output_type": "stream",
     "text": [
      "100%|██████████████████████████████████████████████████████████████████████████████████| 94/94 [00:19<00:00,  4.75it/s]\n"
     ]
    },
    {
     "name": "stdout",
     "output_type": "stream",
     "text": [
      "Y:\\Glass_MERFISH\\CGBB_ChrX_01_31_2023_Analysis\\dic_cts\\00028--_AD--_3000-dic_cts.pkl\n"
     ]
    },
    {
     "name": "stderr",
     "output_type": "stream",
     "text": [
      "100%|██████████████████████████████████████████████████████████████████████████████████| 94/94 [00:19<00:00,  4.92it/s]\n"
     ]
    },
    {
     "name": "stdout",
     "output_type": "stream",
     "text": [
      "Y:\\Glass_MERFISH\\CGBB_ChrX_01_31_2023_Analysis\\dic_cts\\00029--_AD--_3000-dic_cts.pkl\n"
     ]
    },
    {
     "name": "stderr",
     "output_type": "stream",
     "text": [
      "100%|██████████████████████████████████████████████████████████████████████████████████| 94/94 [00:43<00:00,  2.18it/s]\n"
     ]
    },
    {
     "name": "stdout",
     "output_type": "stream",
     "text": [
      "Y:\\Glass_MERFISH\\CGBB_ChrX_01_31_2023_Analysis\\dic_cts\\00030--_AD--_3000-dic_cts.pkl\n"
     ]
    },
    {
     "name": "stderr",
     "output_type": "stream",
     "text": [
      "100%|██████████████████████████████████████████████████████████████████████████████████| 94/94 [00:38<00:00,  2.47it/s]\n"
     ]
    },
    {
     "name": "stdout",
     "output_type": "stream",
     "text": [
      "Y:\\Glass_MERFISH\\CGBB_ChrX_01_31_2023_Analysis\\dic_cts\\00031--_AD--_3000-dic_cts.pkl\n"
     ]
    },
    {
     "name": "stderr",
     "output_type": "stream",
     "text": [
      "100%|██████████████████████████████████████████████████████████████████████████████████| 94/94 [01:00<00:00,  1.54it/s]\n"
     ]
    },
    {
     "name": "stdout",
     "output_type": "stream",
     "text": [
      "Y:\\Glass_MERFISH\\CGBB_ChrX_01_31_2023_Analysis\\dic_cts\\00032--_AD--_3000-dic_cts.pkl\n"
     ]
    },
    {
     "name": "stderr",
     "output_type": "stream",
     "text": [
      "100%|██████████████████████████████████████████████████████████████████████████████████| 94/94 [00:20<00:00,  4.59it/s]\n"
     ]
    },
    {
     "name": "stdout",
     "output_type": "stream",
     "text": [
      "Y:\\Glass_MERFISH\\CGBB_ChrX_01_31_2023_Analysis\\dic_cts\\00033--_AD--_3000-dic_cts.pkl\n"
     ]
    },
    {
     "name": "stderr",
     "output_type": "stream",
     "text": [
      "100%|██████████████████████████████████████████████████████████████████████████████████| 94/94 [00:20<00:00,  4.59it/s]\n"
     ]
    },
    {
     "name": "stdout",
     "output_type": "stream",
     "text": [
      "Y:\\Glass_MERFISH\\CGBB_ChrX_01_31_2023_Analysis\\dic_cts\\00034--_AD--_3000-dic_cts.pkl\n"
     ]
    },
    {
     "name": "stderr",
     "output_type": "stream",
     "text": [
      "100%|██████████████████████████████████████████████████████████████████████████████████| 94/94 [01:06<00:00,  1.42it/s]\n"
     ]
    },
    {
     "name": "stdout",
     "output_type": "stream",
     "text": [
      "Y:\\Glass_MERFISH\\CGBB_ChrX_01_31_2023_Analysis\\dic_cts\\00035--_AD--_3000-dic_cts.pkl\n"
     ]
    },
    {
     "name": "stderr",
     "output_type": "stream",
     "text": [
      "100%|██████████████████████████████████████████████████████████████████████████████████| 94/94 [00:48<00:00,  1.95it/s]\n"
     ]
    },
    {
     "name": "stdout",
     "output_type": "stream",
     "text": [
      "Y:\\Glass_MERFISH\\CGBB_ChrX_01_31_2023_Analysis\\dic_cts\\00036--_AD--_3000-dic_cts.pkl\n"
     ]
    },
    {
     "name": "stderr",
     "output_type": "stream",
     "text": [
      "100%|██████████████████████████████████████████████████████████████████████████████████| 94/94 [00:27<00:00,  3.47it/s]\n"
     ]
    },
    {
     "name": "stdout",
     "output_type": "stream",
     "text": [
      "Y:\\Glass_MERFISH\\CGBB_ChrX_01_31_2023_Analysis\\dic_cts\\00037--_AD--_3000-dic_cts.pkl\n"
     ]
    },
    {
     "name": "stderr",
     "output_type": "stream",
     "text": [
      "100%|██████████████████████████████████████████████████████████████████████████████████| 94/94 [00:19<00:00,  4.74it/s]\n"
     ]
    },
    {
     "name": "stdout",
     "output_type": "stream",
     "text": [
      "Y:\\Glass_MERFISH\\CGBB_ChrX_01_31_2023_Analysis\\dic_cts\\00038--_AD--_3000-dic_cts.pkl\n"
     ]
    },
    {
     "name": "stderr",
     "output_type": "stream",
     "text": [
      "100%|██████████████████████████████████████████████████████████████████████████████████| 94/94 [00:17<00:00,  5.34it/s]\n"
     ]
    },
    {
     "name": "stdout",
     "output_type": "stream",
     "text": [
      "Y:\\Glass_MERFISH\\CGBB_ChrX_01_31_2023_Analysis\\dic_cts\\00039--_AD--_3000-dic_cts.pkl\n"
     ]
    },
    {
     "name": "stderr",
     "output_type": "stream",
     "text": [
      "100%|██████████████████████████████████████████████████████████████████████████████████| 94/94 [00:17<00:00,  5.23it/s]\n"
     ]
    },
    {
     "name": "stdout",
     "output_type": "stream",
     "text": [
      "Y:\\Glass_MERFISH\\CGBB_ChrX_01_31_2023_Analysis\\dic_cts\\00040--_AD--_3000-dic_cts.pkl\n"
     ]
    },
    {
     "name": "stderr",
     "output_type": "stream",
     "text": [
      "100%|██████████████████████████████████████████████████████████████████████████████████| 94/94 [00:18<00:00,  5.00it/s]\n"
     ]
    },
    {
     "name": "stdout",
     "output_type": "stream",
     "text": [
      "Y:\\Glass_MERFISH\\CGBB_ChrX_01_31_2023_Analysis\\dic_cts\\00041--_AD--_3000-dic_cts.pkl\n"
     ]
    },
    {
     "name": "stderr",
     "output_type": "stream",
     "text": [
      "100%|██████████████████████████████████████████████████████████████████████████████████| 94/94 [00:16<00:00,  5.59it/s]\n"
     ]
    },
    {
     "name": "stdout",
     "output_type": "stream",
     "text": [
      "Y:\\Glass_MERFISH\\CGBB_ChrX_01_31_2023_Analysis\\dic_cts\\00042--_AD--_3000-dic_cts.pkl\n"
     ]
    },
    {
     "name": "stderr",
     "output_type": "stream",
     "text": [
      "100%|██████████████████████████████████████████████████████████████████████████████████| 94/94 [00:21<00:00,  4.42it/s]\n"
     ]
    },
    {
     "name": "stdout",
     "output_type": "stream",
     "text": [
      "Y:\\Glass_MERFISH\\CGBB_ChrX_01_31_2023_Analysis\\dic_cts\\00043--_AD--_3000-dic_cts.pkl\n"
     ]
    },
    {
     "name": "stderr",
     "output_type": "stream",
     "text": [
      "100%|██████████████████████████████████████████████████████████████████████████████████| 94/94 [00:21<00:00,  4.35it/s]\n"
     ]
    },
    {
     "name": "stdout",
     "output_type": "stream",
     "text": [
      "Y:\\Glass_MERFISH\\CGBB_ChrX_01_31_2023_Analysis\\dic_cts\\00044--_AD--_3000-dic_cts.pkl\n"
     ]
    },
    {
     "name": "stderr",
     "output_type": "stream",
     "text": [
      "100%|██████████████████████████████████████████████████████████████████████████████████| 94/94 [00:23<00:00,  3.94it/s]\n"
     ]
    },
    {
     "name": "stdout",
     "output_type": "stream",
     "text": [
      "Y:\\Glass_MERFISH\\CGBB_ChrX_01_31_2023_Analysis\\dic_cts\\00045--_AD--_3000-dic_cts.pkl\n"
     ]
    },
    {
     "name": "stderr",
     "output_type": "stream",
     "text": [
      "100%|██████████████████████████████████████████████████████████████████████████████████| 94/94 [00:33<00:00,  2.79it/s]\n"
     ]
    },
    {
     "name": "stdout",
     "output_type": "stream",
     "text": [
      "Y:\\Glass_MERFISH\\CGBB_ChrX_01_31_2023_Analysis\\dic_cts\\00046--_AD--_3000-dic_cts.pkl\n"
     ]
    },
    {
     "name": "stderr",
     "output_type": "stream",
     "text": [
      "100%|██████████████████████████████████████████████████████████████████████████████████| 94/94 [00:47<00:00,  1.99it/s]\n"
     ]
    },
    {
     "name": "stdout",
     "output_type": "stream",
     "text": [
      "Y:\\Glass_MERFISH\\CGBB_ChrX_01_31_2023_Analysis\\dic_cts\\00047--_AD--_3000-dic_cts.pkl\n"
     ]
    },
    {
     "name": "stderr",
     "output_type": "stream",
     "text": [
      "100%|██████████████████████████████████████████████████████████████████████████████████| 94/94 [00:19<00:00,  4.85it/s]\n"
     ]
    },
    {
     "name": "stdout",
     "output_type": "stream",
     "text": [
      "Y:\\Glass_MERFISH\\CGBB_ChrX_01_31_2023_Analysis\\dic_cts\\00048--_AD--_3000-dic_cts.pkl\n"
     ]
    },
    {
     "name": "stderr",
     "output_type": "stream",
     "text": [
      "100%|██████████████████████████████████████████████████████████████████████████████████| 94/94 [00:19<00:00,  4.74it/s]\n"
     ]
    },
    {
     "name": "stdout",
     "output_type": "stream",
     "text": [
      "Y:\\Glass_MERFISH\\CGBB_ChrX_01_31_2023_Analysis\\dic_cts\\00049--_AD--_3000-dic_cts.pkl\n"
     ]
    },
    {
     "name": "stderr",
     "output_type": "stream",
     "text": [
      "100%|██████████████████████████████████████████████████████████████████████████████████| 94/94 [00:14<00:00,  6.52it/s]\n"
     ]
    },
    {
     "name": "stdout",
     "output_type": "stream",
     "text": [
      "Y:\\Glass_MERFISH\\CGBB_ChrX_01_31_2023_Analysis\\dic_cts\\00050--_AD--_3000-dic_cts.pkl\n"
     ]
    },
    {
     "name": "stderr",
     "output_type": "stream",
     "text": [
      "100%|██████████████████████████████████████████████████████████████████████████████████| 94/94 [00:17<00:00,  5.38it/s]\n"
     ]
    },
    {
     "name": "stdout",
     "output_type": "stream",
     "text": [
      "Y:\\Glass_MERFISH\\CGBB_ChrX_01_31_2023_Analysis\\dic_cts\\00051--_AD--_3000-dic_cts.pkl\n"
     ]
    },
    {
     "name": "stderr",
     "output_type": "stream",
     "text": [
      "100%|██████████████████████████████████████████████████████████████████████████████████| 94/94 [00:19<00:00,  4.77it/s]\n"
     ]
    },
    {
     "name": "stdout",
     "output_type": "stream",
     "text": [
      "Y:\\Glass_MERFISH\\CGBB_ChrX_01_31_2023_Analysis\\dic_cts\\00052--_AD--_3000-dic_cts.pkl\n"
     ]
    },
    {
     "name": "stderr",
     "output_type": "stream",
     "text": [
      "100%|██████████████████████████████████████████████████████████████████████████████████| 94/94 [00:29<00:00,  3.20it/s]\n"
     ]
    },
    {
     "name": "stdout",
     "output_type": "stream",
     "text": [
      "Y:\\Glass_MERFISH\\CGBB_ChrX_01_31_2023_Analysis\\dic_cts\\00053--_AD--_3000-dic_cts.pkl\n"
     ]
    },
    {
     "name": "stderr",
     "output_type": "stream",
     "text": [
      "100%|██████████████████████████████████████████████████████████████████████████████████| 94/94 [00:21<00:00,  4.44it/s]\n"
     ]
    },
    {
     "name": "stdout",
     "output_type": "stream",
     "text": [
      "Y:\\Glass_MERFISH\\CGBB_ChrX_01_31_2023_Analysis\\dic_cts\\00054--_AD--_3000-dic_cts.pkl\n"
     ]
    },
    {
     "name": "stderr",
     "output_type": "stream",
     "text": [
      "100%|██████████████████████████████████████████████████████████████████████████████████| 94/94 [01:09<00:00,  1.35it/s]\n"
     ]
    },
    {
     "name": "stdout",
     "output_type": "stream",
     "text": [
      "Y:\\Glass_MERFISH\\CGBB_ChrX_01_31_2023_Analysis\\dic_cts\\00055--_AD--_3000-dic_cts.pkl\n"
     ]
    },
    {
     "name": "stderr",
     "output_type": "stream",
     "text": [
      "100%|██████████████████████████████████████████████████████████████████████████████████| 94/94 [00:27<00:00,  3.37it/s]\n"
     ]
    },
    {
     "name": "stdout",
     "output_type": "stream",
     "text": [
      "Y:\\Glass_MERFISH\\CGBB_ChrX_01_31_2023_Analysis\\dic_cts\\00056--_AD--_3000-dic_cts.pkl\n"
     ]
    },
    {
     "name": "stderr",
     "output_type": "stream",
     "text": [
      "100%|██████████████████████████████████████████████████████████████████████████████████| 94/94 [00:20<00:00,  4.55it/s]\n"
     ]
    },
    {
     "name": "stdout",
     "output_type": "stream",
     "text": [
      "Y:\\Glass_MERFISH\\CGBB_ChrX_01_31_2023_Analysis\\dic_cts\\00057--_AD--_3000-dic_cts.pkl\n"
     ]
    },
    {
     "name": "stderr",
     "output_type": "stream",
     "text": [
      " 67%|██████████████████████████████████████████████████████▉                           | 63/94 [00:13<00:03,  8.20it/s]"
     ]
    }
   ],
   "source": [
    "#gene = \"PVALB\"\n",
    "nfovs = len(pa.dic_fls.keys())\n",
    "for ifov in range(nfovs):\n",
    "    try:\n",
    "        dic_ct_fov = {}\n",
    "        pa.set_ = '_AD'\n",
    "        save_fld = pa.save_folder+os.sep+'dic_cts'\n",
    "        if not os.path.exists(save_fld): os.makedirs(save_fld)\n",
    "        save_fl = save_fld+os.sep+str(ifov).zfill(5)+'--'+pa.set_+'--_3000-dic_cts.pkl'\n",
    "        if not os.path.exists(save_fl):\n",
    "            for gene in tqdm(all_genes):\n",
    "                #gene = \"PVALB\"\n",
    "\n",
    "                Q = dicQ[gene]\n",
    "                pa.get_Xh_Q(ifov=ifov,Q = Q) #load in the points\n",
    "                load_segm(pa,force=False,vol_th = 1500,dil=5) #load in the segmentation file\n",
    "                pa.dic_th={0:3000,1:3000,2:3000}\n",
    "                get_counts_per_cell(pa)\n",
    "                dic_ct_fov[gene]=(pa.good_counts,pa.bad_counts)\n",
    "\n",
    "\n",
    "            print(save_fl)\n",
    "            pickle.dump([dic_ct_fov,pa.cms],open(save_fl,'wb'))\n",
    "    except:\n",
    "        print(\"Failed************************** \"+str(ifov))"
   ]
  },
  {
   "cell_type": "code",
   "execution_count": 628,
   "id": "e817d78b",
   "metadata": {},
   "outputs": [],
   "source": [
    "#pa.dic_fls[pa.ifov]"
   ]
  },
  {
   "cell_type": "code",
   "execution_count": 602,
   "id": "cee43241",
   "metadata": {},
   "outputs": [
    {
     "name": "stdout",
     "output_type": "stream",
     "text": [
      "Y:\\Glass_MERFISH\\CGBB_ChrX_01_31_2023_Analysis\\dic_cts\\Conv_zscan__020--_C--dic_cts.pkl\n"
     ]
    }
   ],
   "source": []
  },
  {
   "cell_type": "code",
   "execution_count": 593,
   "id": "cd276ab8",
   "metadata": {},
   "outputs": [
    {
     "data": {
      "text/plain": [
       "'Conv_zscan__020'"
      ]
     },
     "execution_count": 593,
     "metadata": {},
     "output_type": "execute_result"
    }
   ],
   "source": [
    "self.fov"
   ]
  },
  {
   "cell_type": "code",
   "execution_count": 518,
   "id": "30ce5769",
   "metadata": {},
   "outputs": [],
   "source": [
    "#pa.dic_th={0:2000,1:2000,2:2000}\n",
    "self=pa\n",
    "\n",
    "    "
   ]
  },
  {
   "cell_type": "code",
   "execution_count": 531,
   "id": "55847725",
   "metadata": {},
   "outputs": [
    {
     "data": {
      "text/plain": [
       "({9: 1,\n",
       "  19: 1,\n",
       "  22: 56,\n",
       "  28: 64,\n",
       "  30: 1,\n",
       "  44: 1,\n",
       "  60: 19,\n",
       "  67: 6,\n",
       "  68: 1,\n",
       "  73: 1,\n",
       "  75: 1,\n",
       "  77: 1,\n",
       "  121: 1,\n",
       "  126: 7},\n",
       " {16: 1, 28: 100, 45: 2, 67: 23, 126: 10})"
      ]
     },
     "execution_count": 531,
     "metadata": {},
     "output_type": "execute_result"
    }
   ],
   "source": [
    "pa.good_counts,pa.bad_counts"
   ]
  },
  {
   "cell_type": "code",
   "execution_count": 532,
   "id": "9c54d52b",
   "metadata": {},
   "outputs": [
    {
     "data": {
      "text/plain": [
       "<Points layer 'Points' at 0x25f941cebb0>"
      ]
     },
     "execution_count": 532,
     "metadata": {},
     "output_type": "execute_result"
    }
   ],
   "source": [
    "viewer = napari.Viewer()\n",
    "viewer.add_labels(pa.im_segm)\n",
    "viewer.add_points(pa.Xred,size=2)"
   ]
  },
  {
   "cell_type": "code",
   "execution_count": 498,
   "id": "bb161405",
   "metadata": {},
   "outputs": [
    {
     "data": {
      "text/plain": [
       "array([ 1, 32, 19])"
      ]
     },
     "execution_count": 498,
     "metadata": {},
     "output_type": "execute_result"
    }
   ],
   "source": [
    "\n",
    "self=pa\n",
    "self.dic_drift['txyz']"
   ]
  },
  {
   "cell_type": "code",
   "execution_count": 468,
   "id": "fecc3fa7",
   "metadata": {},
   "outputs": [
    {
     "data": {
      "text/plain": [
       "array([  60, 2900, 2900])"
      ]
     },
     "execution_count": 468,
     "metadata": {},
     "output_type": "execute_result"
    }
   ],
   "source": [
    "self.shape"
   ]
  },
  {
   "cell_type": "code",
   "execution_count": 460,
   "id": "9450c37e",
   "metadata": {},
   "outputs": [
    {
     "data": {
      "text/plain": [
       "0.3881118881118881"
      ]
     },
     "execution_count": 460,
     "metadata": {},
     "output_type": "execute_result"
    }
   ],
   "source": [
    "np.mean(cor[h>dic_th.get(icol,0)]>0.5)"
   ]
  },
  {
   "cell_type": "code",
   "execution_count": 458,
   "id": "1063d0a9",
   "metadata": {},
   "outputs": [
    {
     "data": {
      "text/plain": [
       "0.7563261480787254"
      ]
     },
     "execution_count": 458,
     "metadata": {},
     "output_type": "execute_result"
    }
   ],
   "source": [
    "np.mean(cor[h>dic_th.get(icol,0)]>0.5)"
   ]
  },
  {
   "cell_type": "code",
   "execution_count": 457,
   "id": "7e37d8d0",
   "metadata": {},
   "outputs": [
    {
     "data": {
      "text/plain": [
       "Viewer(axes=Axes(visible=False, labels=True, colored=True, dashed=False, arrows=True), camera=Camera(center=(0.0, 1433.4943149737364, 1440.016694386004), zoom=0.1769221644382985, angles=(0.0, 0.0, 90.0), perspective=0.0, interactive=True), cursor=Cursor(position=(1.0, 1.0, 0.0), scaled=True, size=1, style=<CursorStyle.STANDARD: 'standard'>), dims=Dims(ndim=3, ndisplay=2, last_used=0, range=((-0.7099205007777517, 59.569249679874, 1.0), (-0.18699231357237842, 2868.175622261045, 1.0), (0.004014247857868755, 2881.02937452415, 1.0)), current_step=(30, 1433, 1440), order=(0, 1, 2), axis_labels=('0', '1', '2')), grid=GridCanvas(stride=1, shape=(-1, -1), enabled=False), layers=[<Points layer 'Q67' at 0x25f0fae8af0>], scale_bar=ScaleBar(visible=False, colored=False, ticks=True, position=<Position.BOTTOM_RIGHT: 'bottom_right'>, font_size=10, unit=None), text_overlay=TextOverlay(visible=False, color=(0.5, 0.5, 0.5, 1.0), font_size=10, position=<TextOverlayPosition.TOP_LEFT: 'top_left'>, text=''), overlays=Overlays(interaction_box=InteractionBox(points=None, show=False, show_handle=False, show_vertices=False, selection_box_drag=None, selection_box_final=None, transform_start=<napari.utils.transforms.transforms.Affine object at 0x0000025EF6284730>, transform_drag=<napari.utils.transforms.transforms.Affine object at 0x0000025EF62844F0>, transform_final=<napari.utils.transforms.transforms.Affine object at 0x0000025EF6284640>, transform=<napari.utils.transforms.transforms.Affine object at 0x0000025EF6284550>, allow_new_selection=True, selected_vertex=None)), help='', status='Ready', tooltip=Tooltip(visible=False, text=''), theme='dark', title='napari', mouse_move_callbacks=[<function InteractionBoxMouseBindings.initialize_mouse_events.<locals>.mouse_move at 0x0000025F0FB1ECA0>], mouse_drag_callbacks=[<function InteractionBoxMouseBindings.initialize_mouse_events.<locals>.mouse_drag at 0x0000025F0FB1E790>], mouse_double_click_callbacks=[], mouse_wheel_callbacks=[<function dims_scroll at 0x00000253F4C223A0>], _persisted_mouse_event={}, _mouse_drag_gen={}, _mouse_wheel_gen={}, keymap={'Shift': <function InteractionBoxMouseBindings.initialize_key_events.<locals>.hold_to_lock_aspect_ratio at 0x0000025F0FAE21F0>, 'Control-Shift-R': <function InteractionBoxMouseBindings._reset_active_layer_affine at 0x0000025F0FB1E700>, 'Control-Shift-A': <function InteractionBoxMouseBindings._transform_active_layer at 0x0000025F0FB1E5E0>})"
      ]
     },
     "execution_count": 457,
     "metadata": {},
     "output_type": "execute_result"
    }
   ],
   "source": [
    "plot_Xh(pa,viewer=None,color='white',dic_th={},rescale=True)"
   ]
  },
  {
   "cell_type": "code",
   "execution_count": 411,
   "id": "e5690f73",
   "metadata": {},
   "outputs": [
    {
     "data": {
      "text/plain": [
       "<Labels layer 'im_segm' at 0x2544e226df0>"
      ]
     },
     "execution_count": 411,
     "metadata": {},
     "output_type": "execute_result"
    }
   ],
   "source": [
    "viewer = napari.view_labels(pa.im_segm)\n",
    "#viewer.add_labels(im_segm)"
   ]
  },
  {
   "cell_type": "code",
   "execution_count": 285,
   "id": "11898ce2",
   "metadata": {},
   "outputs": [],
   "source": []
  },
  {
   "cell_type": "code",
   "execution_count": 418,
   "id": "fcad0746",
   "metadata": {},
   "outputs": [],
   "source": [
    "\n",
    "#viewer = napari.view_labels(pa.im_segm)"
   ]
  },
  {
   "cell_type": "code",
   "execution_count": 420,
   "id": "be039a98",
   "metadata": {},
   "outputs": [],
   "source": [
    "def get_counts_per_cell(self,nbad=0):\n",
    "    keep_good = np.sum(self.res_pruned==-1,axis=-1)<=nbad\n",
    "    Xcms = self.Xcms[keep_good]\n",
    "    icodes = self.icodes[keep_good]\n",
    "    Xred = np.round((Xcms/self.shape)*self.shapesm).astype(int)\n",
    "    good = ~np.any((Xred>=self.shapesm)|(Xred<0),axis=-1)\n",
    "    Xred = Xred[good]\n",
    "    icodes = icodes[good]\n",
    "    cts_all = []\n",
    "    for ikeep in np.arange(len(self.gns_names)):\n",
    "        Xred_ = Xred[icodes==ikeep]\n",
    "        icells,cts = np.unique(self.im_segm[tuple(Xred_.T)],return_counts=True)\n",
    "        dic_cts = {icell:ct for icell,ct in zip(icells,cts)}\n",
    "        ctsf = [dic_cts.get(icell,0) for icell in self.icells]\n",
    "        cts_all.append(ctsf)\n",
    "    cts_all = np.array(cts_all)\n",
    "    return cts_all"
   ]
  },
  {
   "cell_type": "code",
   "execution_count": 303,
   "id": "6bddb3ea",
   "metadata": {},
   "outputs": [],
   "source": []
  },
  {
   "cell_type": "code",
   "execution_count": 309,
   "id": "d80cedb5",
   "metadata": {},
   "outputs": [],
   "source": [
    "from cellpose.utils import stitch3D"
   ]
  },
  {
   "cell_type": "code",
   "execution_count": 315,
   "id": "19a13767",
   "metadata": {},
   "outputs": [
    {
     "data": {
      "text/plain": [
       "1"
      ]
     },
     "execution_count": 315,
     "metadata": {},
     "output_type": "execute_result"
    }
   ],
   "source": [
    "pa.get_Xh_Q(ifov=11,Q = Q)"
   ]
  },
  {
   "cell_type": "code",
   "execution_count": null,
   "id": "6a3ac56e",
   "metadata": {},
   "outputs": [],
   "source": []
  },
  {
   "cell_type": "code",
   "execution_count": 419,
   "id": "0f80f554",
   "metadata": {},
   "outputs": [],
   "source": [
    "load_segm(pa,force=False,vol_th = 1500,dil=5)\n"
   ]
  },
  {
   "cell_type": "code",
   "execution_count": 314,
   "id": "0fcae597",
   "metadata": {},
   "outputs": [
    {
     "name": "stderr",
     "output_type": "stream",
     "text": [
      "C:\\Users\\BintuLabUser\\anaconda3\\envs\\cellpose\\lib\\site-packages\\cellpose\\metrics.py:202: RuntimeWarning: invalid value encountered in true_divide\n",
      "  iou = overlap / (n_pixels_pred + n_pixels_true - overlap)\n"
     ]
    },
    {
     "data": {
      "text/plain": [
       "<Labels layer 'Labels [1]' at 0x2544dd55eb0>"
      ]
     },
     "execution_count": 314,
     "metadata": {},
     "output_type": "execute_result"
    }
   ],
   "source": [
    "viewer = napari.view_labels(pa.im_segm)\n",
    "viewer.add_labels(stitch3D(pa.im_segm,stitch_threshold=0.01))"
   ]
  },
  {
   "cell_type": "code",
   "execution_count": 311,
   "id": "44066b82",
   "metadata": {},
   "outputs": [
    {
     "name": "stderr",
     "output_type": "stream",
     "text": [
      "C:\\Users\\BintuLabUser\\anaconda3\\envs\\cellpose\\lib\\site-packages\\cellpose\\metrics.py:202: RuntimeWarning: invalid value encountered in true_divide\n",
      "  iou = overlap / (n_pixels_pred + n_pixels_true - overlap)\n"
     ]
    },
    {
     "data": {
      "text/plain": [
       "False"
      ]
     },
     "execution_count": 311,
     "metadata": {},
     "output_type": "execute_result"
    }
   ],
   "source": [
    "np.any(stitch3D(pa.im_segm)!=pa.im_segm)"
   ]
  },
  {
   "cell_type": "code",
   "execution_count": 312,
   "id": "07619fbb",
   "metadata": {},
   "outputs": [],
   "source": [
    "??stitch3D"
   ]
  },
  {
   "cell_type": "code",
   "execution_count": null,
   "id": "a43493c2",
   "metadata": {},
   "outputs": [],
   "source": []
  },
  {
   "cell_type": "code",
   "execution_count": 302,
   "id": "bf5dd8b9",
   "metadata": {},
   "outputs": [
    {
     "data": {
      "text/plain": [
       "('Conv_zscan__070', 'Conv_zscan__070')"
      ]
     },
     "execution_count": 302,
     "metadata": {},
     "output_type": "execute_result"
    }
   ],
   "source": [
    "self.prev_fov,self.fov"
   ]
  },
  {
   "cell_type": "code",
   "execution_count": 276,
   "id": "6efc3be0",
   "metadata": {},
   "outputs": [
    {
     "data": {
      "text/plain": [
       "<Labels layer 'Labels [1]' at 0x253eeb31f40>"
      ]
     },
     "execution_count": 276,
     "metadata": {},
     "output_type": "execute_result"
    }
   ],
   "source": [
    "viewer = napari.view_labels(pa.im_segm)\n",
    "viewer.add_labels(pa.im_segm_)"
   ]
  },
  {
   "cell_type": "code",
   "execution_count": 270,
   "id": "4ae97b11",
   "metadata": {},
   "outputs": [
    {
     "name": "stderr",
     "output_type": "stream",
     "text": [
      "WARNING: Traceback (most recent call last):\n",
      "  File \"C:\\Users\\BintuLabUser\\anaconda3\\envs\\cellpose\\lib\\runpy.py\", line 197, in _run_module_as_main\n",
      "    return _run_code(code, main_globals, None,\n",
      "  File \"C:\\Users\\BintuLabUser\\anaconda3\\envs\\cellpose\\lib\\runpy.py\", line 87, in _run_code\n",
      "    exec(code, run_globals)\n",
      "  File \"C:\\Users\\BintuLabUser\\anaconda3\\envs\\cellpose\\lib\\site-packages\\ipykernel_launcher.py\", line 16, in <module>\n",
      "    app.launch_new_instance()\n",
      "  File \"C:\\Users\\BintuLabUser\\anaconda3\\envs\\cellpose\\lib\\site-packages\\traitlets\\config\\application.py\", line 846, in launch_instance\n",
      "    app.start()\n",
      "  File \"C:\\Users\\BintuLabUser\\anaconda3\\envs\\cellpose\\lib\\site-packages\\ipykernel\\kernelapp.py\", line 677, in start\n",
      "    self.io_loop.start()\n",
      "  File \"C:\\Users\\BintuLabUser\\anaconda3\\envs\\cellpose\\lib\\site-packages\\tornado\\platform\\asyncio.py\", line 199, in start\n",
      "    self.asyncio_loop.run_forever()\n",
      "  File \"C:\\Users\\BintuLabUser\\anaconda3\\envs\\cellpose\\lib\\asyncio\\base_events.py\", line 596, in run_forever\n",
      "    self._run_once()\n",
      "  File \"C:\\Users\\BintuLabUser\\anaconda3\\envs\\cellpose\\lib\\asyncio\\base_events.py\", line 1890, in _run_once\n",
      "    handle._run()\n",
      "  File \"C:\\Users\\BintuLabUser\\anaconda3\\envs\\cellpose\\lib\\asyncio\\events.py\", line 80, in _run\n",
      "    self._context.run(self._callback, *self._args)\n",
      "  File \"C:\\Users\\BintuLabUser\\anaconda3\\envs\\cellpose\\lib\\site-packages\\ipykernel\\kernelbase.py\", line 457, in dispatch_queue\n",
      "    await self.process_one()\n",
      "  File \"C:\\Users\\BintuLabUser\\anaconda3\\envs\\cellpose\\lib\\site-packages\\ipykernel\\kernelbase.py\", line 446, in process_one\n",
      "    await dispatch(*args)\n",
      "  File \"C:\\Users\\BintuLabUser\\anaconda3\\envs\\cellpose\\lib\\site-packages\\ipykernel\\kernelbase.py\", line 353, in dispatch_shell\n",
      "    await result\n",
      "  File \"C:\\Users\\BintuLabUser\\anaconda3\\envs\\cellpose\\lib\\site-packages\\ipykernel\\kernelbase.py\", line 648, in execute_request\n",
      "    reply_content = await reply_content\n",
      "  File \"C:\\Users\\BintuLabUser\\anaconda3\\envs\\cellpose\\lib\\site-packages\\ipykernel\\ipkernel.py\", line 353, in do_execute\n",
      "    res = shell.run_cell(code, store_history=store_history, silent=silent)\n",
      "  File \"C:\\Users\\BintuLabUser\\anaconda3\\envs\\cellpose\\lib\\site-packages\\ipykernel\\zmqshell.py\", line 533, in run_cell\n",
      "    return super(ZMQInteractiveShell, self).run_cell(*args, **kwargs)\n",
      "  File \"C:\\Users\\BintuLabUser\\anaconda3\\envs\\cellpose\\lib\\site-packages\\IPython\\core\\interactiveshell.py\", line 2901, in run_cell\n",
      "    result = self._run_cell(\n",
      "  File \"C:\\Users\\BintuLabUser\\anaconda3\\envs\\cellpose\\lib\\site-packages\\IPython\\core\\interactiveshell.py\", line 2947, in _run_cell\n",
      "    return runner(coro)\n",
      "  File \"C:\\Users\\BintuLabUser\\anaconda3\\envs\\cellpose\\lib\\site-packages\\IPython\\core\\async_helpers.py\", line 68, in _pseudo_sync_runner\n",
      "    coro.send(None)\n",
      "  File \"C:\\Users\\BintuLabUser\\anaconda3\\envs\\cellpose\\lib\\site-packages\\IPython\\core\\interactiveshell.py\", line 3172, in run_cell_async\n",
      "    has_raised = await self.run_ast_nodes(code_ast.body, cell_name,\n",
      "  File \"C:\\Users\\BintuLabUser\\anaconda3\\envs\\cellpose\\lib\\site-packages\\IPython\\core\\interactiveshell.py\", line 3364, in run_ast_nodes\n",
      "    if (await self.run_code(code, result,  async_=asy)):\n",
      "  File \"C:\\Users\\BintuLabUser\\anaconda3\\envs\\cellpose\\lib\\site-packages\\IPython\\core\\interactiveshell.py\", line 3444, in run_code\n",
      "    exec(code_obj, self.user_global_ns, self.user_ns)\n",
      "  File \"C:\\Users\\BINTUL~2\\AppData\\Local\\Temp/ipykernel_13316/2214277963.py\", line 1, in <module>\n",
      "    viewer.add_labels(pa.im_segm_)\n",
      "  File \"C:\\Users\\BintuLabUser\\anaconda3\\envs\\cellpose\\lib\\site-packages\\napari\\components\\viewer_model.py\", line 5, in add_labels\n",
      "    import os\n",
      "  File \"C:\\Users\\BintuLabUser\\anaconda3\\envs\\cellpose\\lib\\_collections_abc.py\", line 1073, in append\n",
      "    self.insert(len(self), value)\n",
      "  File \"C:\\Users\\BintuLabUser\\anaconda3\\envs\\cellpose\\lib\\site-packages\\napari\\components\\layerlist.py\", line 135, in insert\n",
      "    super().insert(index, new_layer)\n",
      "  File \"C:\\Users\\BintuLabUser\\anaconda3\\envs\\cellpose\\lib\\site-packages\\napari\\utils\\events\\containers\\_selectable_list.py\", line 65, in insert\n",
      "    super().insert(index, value)\n",
      "  File \"C:\\Users\\BintuLabUser\\anaconda3\\envs\\cellpose\\lib\\site-packages\\napari\\utils\\events\\containers\\_evented_list.py\", line 183, in insert\n",
      "    self.events.inserted(index=index, value=value)\n",
      "  File \"C:\\Users\\BintuLabUser\\anaconda3\\envs\\cellpose\\lib\\site-packages\\napari\\utils\\events\\event.py\", line 757, in __call__\n",
      "    self._invoke_callback(cb, event if pass_event else None)\n",
      "  File \"C:\\Users\\BintuLabUser\\anaconda3\\envs\\cellpose\\lib\\site-packages\\napari\\utils\\events\\event.py\", line 781, in _invoke_callback\n",
      "    cb(event)\n",
      "  File \"C:\\Users\\BintuLabUser\\anaconda3\\envs\\cellpose\\lib\\site-packages\\napari\\_qt\\qt_viewer.py\", line 478, in _on_add_layer_change\n",
      "    self._add_layer(layer)\n",
      "  File \"C:\\Users\\BintuLabUser\\anaconda3\\envs\\cellpose\\lib\\site-packages\\napari\\_qt\\qt_viewer.py\", line 502, in _add_layer\n",
      "    vispy_layer.node.parent = self.view.scene\n",
      "  File \"C:\\Users\\BintuLabUser\\anaconda3\\envs\\cellpose\\lib\\site-packages\\vispy\\util\\frozen.py\", line 17, in __setattr__\n",
      "    object.__setattr__(self, key, value)\n",
      "  File \"C:\\Users\\BintuLabUser\\anaconda3\\envs\\cellpose\\lib\\site-packages\\vispy\\scene\\node.py\", line 198, in parent\n",
      "    self._set_canvas(parent.canvas)\n",
      "  File \"C:\\Users\\BintuLabUser\\anaconda3\\envs\\cellpose\\lib\\site-packages\\vispy\\scene\\node.py\", line 315, in _set_canvas\n",
      "    self.transforms.canvas_transform = tr.canvas_transform\n",
      "  File \"C:\\Users\\BintuLabUser\\anaconda3\\envs\\cellpose\\lib\\site-packages\\vispy\\visuals\\transforms\\transform_system.py\", line 301, in canvas_transform\n",
      "    self._canvas_transform.transforms = tr\n",
      "  File \"C:\\Users\\BintuLabUser\\anaconda3\\envs\\cellpose\\lib\\site-packages\\vispy\\visuals\\transforms\\chain.py\", line 96, in transforms\n",
      "    self.update()\n",
      "  File \"C:\\Users\\BintuLabUser\\anaconda3\\envs\\cellpose\\lib\\site-packages\\vispy\\visuals\\transforms\\base_transform.py\", line 148, in update\n",
      "    self.changed(*args)\n",
      "  File \"C:\\Users\\BintuLabUser\\anaconda3\\envs\\cellpose\\lib\\site-packages\\vispy\\util\\event.py\", line 453, in __call__\n",
      "    self._invoke_callback(cb, event)\n",
      "  File \"C:\\Users\\BintuLabUser\\anaconda3\\envs\\cellpose\\lib\\site-packages\\vispy\\util\\event.py\", line 469, in _invoke_callback\n",
      "    cb(event)\n",
      "  File \"C:\\Users\\BintuLabUser\\anaconda3\\envs\\cellpose\\lib\\site-packages\\vispy\\util\\event.py\", line 453, in __call__\n",
      "    self._invoke_callback(cb, event)\n",
      "  File \"C:\\Users\\BintuLabUser\\anaconda3\\envs\\cellpose\\lib\\site-packages\\vispy\\util\\event.py\", line 471, in _invoke_callback\n",
      "    _handle_exception(self.ignore_callback_errors,\n",
      "  << caught exception here: >>\n",
      "  File \"C:\\Users\\BintuLabUser\\anaconda3\\envs\\cellpose\\lib\\site-packages\\vispy\\util\\event.py\", line 469, in _invoke_callback\n",
      "    cb(event)\n",
      "  File \"C:\\Users\\BintuLabUser\\anaconda3\\envs\\cellpose\\lib\\site-packages\\vispy\\visuals\\visual.py\", line 267, in _transform_changed\n",
      "    self.update()\n",
      "  File \"C:\\Users\\BintuLabUser\\anaconda3\\envs\\cellpose\\lib\\site-packages\\vispy\\scene\\node.py\", line 332, in update\n",
      "    c.update(node=self)\n",
      "  File \"C:\\Users\\BintuLabUser\\anaconda3\\envs\\cellpose\\lib\\site-packages\\vispy\\scene\\canvas.py\", line 201, in update\n",
      "    super(SceneCanvas, self).update()\n",
      "  File \"C:\\Users\\BintuLabUser\\anaconda3\\envs\\cellpose\\lib\\site-packages\\vispy\\app\\canvas.py\", line 448, in update\n",
      "    self._backend._vispy_update()\n",
      "  File \"C:\\Users\\BintuLabUser\\anaconda3\\envs\\cellpose\\lib\\site-packages\\vispy\\app\\backends\\_qt.py\", line 486, in _vispy_update\n",
      "    self.update()\n",
      "RuntimeError: wrapped C/C++ object of type CanvasBackendDesktop has been deleted\n",
      "WARNING:vispy:Traceback (most recent call last):\n",
      "  File \"C:\\Users\\BintuLabUser\\anaconda3\\envs\\cellpose\\lib\\runpy.py\", line 197, in _run_module_as_main\n",
      "    return _run_code(code, main_globals, None,\n",
      "  File \"C:\\Users\\BintuLabUser\\anaconda3\\envs\\cellpose\\lib\\runpy.py\", line 87, in _run_code\n",
      "    exec(code, run_globals)\n",
      "  File \"C:\\Users\\BintuLabUser\\anaconda3\\envs\\cellpose\\lib\\site-packages\\ipykernel_launcher.py\", line 16, in <module>\n",
      "    app.launch_new_instance()\n",
      "  File \"C:\\Users\\BintuLabUser\\anaconda3\\envs\\cellpose\\lib\\site-packages\\traitlets\\config\\application.py\", line 846, in launch_instance\n",
      "    app.start()\n",
      "  File \"C:\\Users\\BintuLabUser\\anaconda3\\envs\\cellpose\\lib\\site-packages\\ipykernel\\kernelapp.py\", line 677, in start\n",
      "    self.io_loop.start()\n",
      "  File \"C:\\Users\\BintuLabUser\\anaconda3\\envs\\cellpose\\lib\\site-packages\\tornado\\platform\\asyncio.py\", line 199, in start\n",
      "    self.asyncio_loop.run_forever()\n",
      "  File \"C:\\Users\\BintuLabUser\\anaconda3\\envs\\cellpose\\lib\\asyncio\\base_events.py\", line 596, in run_forever\n",
      "    self._run_once()\n",
      "  File \"C:\\Users\\BintuLabUser\\anaconda3\\envs\\cellpose\\lib\\asyncio\\base_events.py\", line 1890, in _run_once\n",
      "    handle._run()\n",
      "  File \"C:\\Users\\BintuLabUser\\anaconda3\\envs\\cellpose\\lib\\asyncio\\events.py\", line 80, in _run\n",
      "    self._context.run(self._callback, *self._args)\n",
      "  File \"C:\\Users\\BintuLabUser\\anaconda3\\envs\\cellpose\\lib\\site-packages\\ipykernel\\kernelbase.py\", line 457, in dispatch_queue\n",
      "    await self.process_one()\n",
      "  File \"C:\\Users\\BintuLabUser\\anaconda3\\envs\\cellpose\\lib\\site-packages\\ipykernel\\kernelbase.py\", line 446, in process_one\n",
      "    await dispatch(*args)\n",
      "  File \"C:\\Users\\BintuLabUser\\anaconda3\\envs\\cellpose\\lib\\site-packages\\ipykernel\\kernelbase.py\", line 353, in dispatch_shell\n",
      "    await result\n",
      "  File \"C:\\Users\\BintuLabUser\\anaconda3\\envs\\cellpose\\lib\\site-packages\\ipykernel\\kernelbase.py\", line 648, in execute_request\n",
      "    reply_content = await reply_content\n",
      "  File \"C:\\Users\\BintuLabUser\\anaconda3\\envs\\cellpose\\lib\\site-packages\\ipykernel\\ipkernel.py\", line 353, in do_execute\n",
      "    res = shell.run_cell(code, store_history=store_history, silent=silent)\n",
      "  File \"C:\\Users\\BintuLabUser\\anaconda3\\envs\\cellpose\\lib\\site-packages\\ipykernel\\zmqshell.py\", line 533, in run_cell\n",
      "    return super(ZMQInteractiveShell, self).run_cell(*args, **kwargs)\n",
      "  File \"C:\\Users\\BintuLabUser\\anaconda3\\envs\\cellpose\\lib\\site-packages\\IPython\\core\\interactiveshell.py\", line 2901, in run_cell\n",
      "    result = self._run_cell(\n",
      "  File \"C:\\Users\\BintuLabUser\\anaconda3\\envs\\cellpose\\lib\\site-packages\\IPython\\core\\interactiveshell.py\", line 2947, in _run_cell\n",
      "    return runner(coro)\n",
      "  File \"C:\\Users\\BintuLabUser\\anaconda3\\envs\\cellpose\\lib\\site-packages\\IPython\\core\\async_helpers.py\", line 68, in _pseudo_sync_runner\n",
      "    coro.send(None)\n",
      "  File \"C:\\Users\\BintuLabUser\\anaconda3\\envs\\cellpose\\lib\\site-packages\\IPython\\core\\interactiveshell.py\", line 3172, in run_cell_async\n",
      "    has_raised = await self.run_ast_nodes(code_ast.body, cell_name,\n",
      "  File \"C:\\Users\\BintuLabUser\\anaconda3\\envs\\cellpose\\lib\\site-packages\\IPython\\core\\interactiveshell.py\", line 3364, in run_ast_nodes\n",
      "    if (await self.run_code(code, result,  async_=asy)):\n",
      "  File \"C:\\Users\\BintuLabUser\\anaconda3\\envs\\cellpose\\lib\\site-packages\\IPython\\core\\interactiveshell.py\", line 3444, in run_code\n",
      "    exec(code_obj, self.user_global_ns, self.user_ns)\n",
      "  File \"C:\\Users\\BINTUL~2\\AppData\\Local\\Temp/ipykernel_13316/2214277963.py\", line 1, in <module>\n",
      "    viewer.add_labels(pa.im_segm_)\n",
      "  File \"C:\\Users\\BintuLabUser\\anaconda3\\envs\\cellpose\\lib\\site-packages\\napari\\components\\viewer_model.py\", line 5, in add_labels\n",
      "    import os\n",
      "  File \"C:\\Users\\BintuLabUser\\anaconda3\\envs\\cellpose\\lib\\_collections_abc.py\", line 1073, in append\n",
      "    self.insert(len(self), value)\n",
      "  File \"C:\\Users\\BintuLabUser\\anaconda3\\envs\\cellpose\\lib\\site-packages\\napari\\components\\layerlist.py\", line 135, in insert\n",
      "    super().insert(index, new_layer)\n",
      "  File \"C:\\Users\\BintuLabUser\\anaconda3\\envs\\cellpose\\lib\\site-packages\\napari\\utils\\events\\containers\\_selectable_list.py\", line 65, in insert\n",
      "    super().insert(index, value)\n",
      "  File \"C:\\Users\\BintuLabUser\\anaconda3\\envs\\cellpose\\lib\\site-packages\\napari\\utils\\events\\containers\\_evented_list.py\", line 183, in insert\n",
      "    self.events.inserted(index=index, value=value)\n",
      "  File \"C:\\Users\\BintuLabUser\\anaconda3\\envs\\cellpose\\lib\\site-packages\\napari\\utils\\events\\event.py\", line 757, in __call__\n",
      "    self._invoke_callback(cb, event if pass_event else None)\n",
      "  File \"C:\\Users\\BintuLabUser\\anaconda3\\envs\\cellpose\\lib\\site-packages\\napari\\utils\\events\\event.py\", line 781, in _invoke_callback\n",
      "    cb(event)\n",
      "  File \"C:\\Users\\BintuLabUser\\anaconda3\\envs\\cellpose\\lib\\site-packages\\napari\\_qt\\qt_viewer.py\", line 478, in _on_add_layer_change\n",
      "    self._add_layer(layer)\n",
      "  File \"C:\\Users\\BintuLabUser\\anaconda3\\envs\\cellpose\\lib\\site-packages\\napari\\_qt\\qt_viewer.py\", line 502, in _add_layer\n",
      "    vispy_layer.node.parent = self.view.scene\n",
      "  File \"C:\\Users\\BintuLabUser\\anaconda3\\envs\\cellpose\\lib\\site-packages\\vispy\\util\\frozen.py\", line 17, in __setattr__\n",
      "    object.__setattr__(self, key, value)\n",
      "  File \"C:\\Users\\BintuLabUser\\anaconda3\\envs\\cellpose\\lib\\site-packages\\vispy\\scene\\node.py\", line 198, in parent\n",
      "    self._set_canvas(parent.canvas)\n",
      "  File \"C:\\Users\\BintuLabUser\\anaconda3\\envs\\cellpose\\lib\\site-packages\\vispy\\scene\\node.py\", line 315, in _set_canvas\n",
      "    self.transforms.canvas_transform = tr.canvas_transform\n",
      "  File \"C:\\Users\\BintuLabUser\\anaconda3\\envs\\cellpose\\lib\\site-packages\\vispy\\visuals\\transforms\\transform_system.py\", line 301, in canvas_transform\n",
      "    self._canvas_transform.transforms = tr\n",
      "  File \"C:\\Users\\BintuLabUser\\anaconda3\\envs\\cellpose\\lib\\site-packages\\vispy\\visuals\\transforms\\chain.py\", line 96, in transforms\n",
      "    self.update()\n",
      "  File \"C:\\Users\\BintuLabUser\\anaconda3\\envs\\cellpose\\lib\\site-packages\\vispy\\visuals\\transforms\\base_transform.py\", line 148, in update\n",
      "    self.changed(*args)\n",
      "  File \"C:\\Users\\BintuLabUser\\anaconda3\\envs\\cellpose\\lib\\site-packages\\vispy\\util\\event.py\", line 453, in __call__\n",
      "    self._invoke_callback(cb, event)\n",
      "  File \"C:\\Users\\BintuLabUser\\anaconda3\\envs\\cellpose\\lib\\site-packages\\vispy\\util\\event.py\", line 469, in _invoke_callback\n",
      "    cb(event)\n",
      "  File \"C:\\Users\\BintuLabUser\\anaconda3\\envs\\cellpose\\lib\\site-packages\\vispy\\util\\event.py\", line 453, in __call__\n",
      "    self._invoke_callback(cb, event)\n",
      "  File \"C:\\Users\\BintuLabUser\\anaconda3\\envs\\cellpose\\lib\\site-packages\\vispy\\util\\event.py\", line 471, in _invoke_callback\n",
      "    _handle_exception(self.ignore_callback_errors,\n",
      "  << caught exception here: >>\n",
      "  File \"C:\\Users\\BintuLabUser\\anaconda3\\envs\\cellpose\\lib\\site-packages\\vispy\\util\\event.py\", line 469, in _invoke_callback\n",
      "    cb(event)\n",
      "  File \"C:\\Users\\BintuLabUser\\anaconda3\\envs\\cellpose\\lib\\site-packages\\vispy\\visuals\\visual.py\", line 267, in _transform_changed\n",
      "    self.update()\n",
      "  File \"C:\\Users\\BintuLabUser\\anaconda3\\envs\\cellpose\\lib\\site-packages\\vispy\\scene\\node.py\", line 332, in update\n",
      "    c.update(node=self)\n",
      "  File \"C:\\Users\\BintuLabUser\\anaconda3\\envs\\cellpose\\lib\\site-packages\\vispy\\scene\\canvas.py\", line 201, in update\n",
      "    super(SceneCanvas, self).update()\n",
      "  File \"C:\\Users\\BintuLabUser\\anaconda3\\envs\\cellpose\\lib\\site-packages\\vispy\\app\\canvas.py\", line 448, in update\n",
      "    self._backend._vispy_update()\n",
      "  File \"C:\\Users\\BintuLabUser\\anaconda3\\envs\\cellpose\\lib\\site-packages\\vispy\\app\\backends\\_qt.py\", line 486, in _vispy_update\n",
      "    self.update()\n",
      "RuntimeError: wrapped C/C++ object of type CanvasBackendDesktop has been deleted\n",
      "ERROR: Invoking <bound method BaseVisual._transform_changed of <Image at 0x253dfaa7e80>> for Event\n",
      "ERROR:vispy:Invoking <bound method BaseVisual._transform_changed of <Image at 0x253dfaa7e80>> for Event\n"
     ]
    },
    {
     "data": {
      "text/plain": [
       "<Labels layer 'Labels [2]' at 0x253dfa978e0>"
      ]
     },
     "execution_count": 270,
     "metadata": {},
     "output_type": "execute_result"
    }
   ],
   "source": []
  },
  {
   "cell_type": "code",
   "execution_count": 218,
   "id": "89e3a7bb",
   "metadata": {},
   "outputs": [],
   "source": [
    "pa.set_='_C'"
   ]
  },
  {
   "cell_type": "code",
   "execution_count": null,
   "id": "fc9a4918",
   "metadata": {},
   "outputs": [],
   "source": [
    "pa.set_='_C'"
   ]
  },
  {
   "cell_type": "code",
   "execution_count": 210,
   "id": "768af87d",
   "metadata": {},
   "outputs": [
    {
     "ename": "AttributeError",
     "evalue": "'post_analysis' object has no attribute 'set_'",
     "output_type": "error",
     "traceback": [
      "\u001b[1;31m---------------------------------------------------------------------------\u001b[0m",
      "\u001b[1;31mAttributeError\u001b[0m                            Traceback (most recent call last)",
      "\u001b[1;32mC:\\Users\\BINTUL~2\\AppData\\Local\\Temp/ipykernel_13316/147804353.py\u001b[0m in \u001b[0;36m<module>\u001b[1;34m\u001b[0m\n\u001b[1;32m----> 1\u001b[1;33m \u001b[0mpa\u001b[0m\u001b[1;33m.\u001b[0m\u001b[0mset_\u001b[0m\u001b[1;33m\u001b[0m\u001b[1;33m\u001b[0m\u001b[0m\n\u001b[0m",
      "\u001b[1;31mAttributeError\u001b[0m: 'post_analysis' object has no attribute 'set_'"
     ]
    }
   ],
   "source": [
    "pa.set_"
   ]
  },
  {
   "cell_type": "code",
   "execution_count": 209,
   "id": "15be2739",
   "metadata": {},
   "outputs": [],
   "source": [
    "\n",
    "def get_H_fld(fl):return os.path.basename(fl).split('--')[1]"
   ]
  },
  {
   "cell_type": "code",
   "execution_count": 208,
   "id": "25abe56f",
   "metadata": {},
   "outputs": [],
   "source": [
    "#[for fl in dapi_fls if ]\n",
    "#fov = get_fov(pa.fl)\n",
    "#get_(pa.fl)\n",
    "??get_H"
   ]
  },
  {
   "cell_type": "code",
   "execution_count": 195,
   "id": "a664c1a5",
   "metadata": {},
   "outputs": [],
   "source": [
    "self = pa\n",
    "analysis_folder = self.save_folder\n",
    "segm_folder = analysis_folder+os.sep+'Segmentation'\n",
    "dapi_fls = glob.glob(segm_folder+os.sep+'*.npz')"
   ]
  },
  {
   "cell_type": "code",
   "execution_count": 202,
   "id": "4b73a3db",
   "metadata": {},
   "outputs": [
    {
     "data": {
      "text/plain": [
       "'Conv_zscan__070'"
      ]
     },
     "execution_count": 202,
     "metadata": {},
     "output_type": "execute_result"
    }
   ],
   "source": [
    "get_fov(self.fl)"
   ]
  },
  {
   "cell_type": "code",
   "execution_count": 192,
   "id": "36f3c982",
   "metadata": {},
   "outputs": [
    {
     "data": {
      "text/plain": [
       "'Y:\\\\Glass_MERFISH\\\\CGBB_ChrX_01_31_2023_Analysis'"
      ]
     },
     "execution_count": 192,
     "metadata": {},
     "output_type": "execute_result"
    }
   ],
   "source": [
    "pa.save_folder"
   ]
  },
  {
   "cell_type": "code",
   "execution_count": null,
   "id": "5ca7a7ea",
   "metadata": {},
   "outputs": [],
   "source": [
    "np.load(self.base_save+'_plot_ims.npz',plot_ims = self.plot_ims)"
   ]
  },
  {
   "cell_type": "code",
   "execution_count": 128,
   "id": "a05c90f8",
   "metadata": {},
   "outputs": [],
   "source": [
    "dic_im = {}"
   ]
  },
  {
   "cell_type": "code",
   "execution_count": 189,
   "id": "d8cabf74",
   "metadata": {},
   "outputs": [],
   "source": [
    "viewer = napari.Viewer()"
   ]
  },
  {
   "cell_type": "code",
   "execution_count": 178,
   "id": "a9915a0d",
   "metadata": {},
   "outputs": [
    {
     "ename": "NameError",
     "evalue": "name 'dic_Q' is not defined",
     "output_type": "error",
     "traceback": [
      "\u001b[1;31m---------------------------------------------------------------------------\u001b[0m",
      "\u001b[1;31mNameError\u001b[0m                                 Traceback (most recent call last)",
      "\u001b[1;32mC:\\Users\\BINTUL~2\\AppData\\Local\\Temp/ipykernel_13316/1059884571.py\u001b[0m in \u001b[0;36m<module>\u001b[1;34m\u001b[0m\n\u001b[1;32m----> 1\u001b[1;33m \u001b[0mprint\u001b[0m\u001b[1;33m(\u001b[0m\u001b[0mdic_Q\u001b[0m\u001b[1;33m)\u001b[0m\u001b[1;33m\u001b[0m\u001b[1;33m\u001b[0m\u001b[0m\n\u001b[0m",
      "\u001b[1;31mNameError\u001b[0m: name 'dic_Q' is not defined"
     ]
    }
   ],
   "source": [
    "print(dic_Q)"
   ]
  },
  {
   "cell_type": "code",
   "execution_count": 180,
   "id": "f209dacd",
   "metadata": {},
   "outputs": [
    {
     "name": "stdout",
     "output_type": "stream",
     "text": [
      "{'ASCL1': 'Q1', 'Q1': 'ASCL1', 'APLN': 'Q2', 'Q2': 'APLN', 'APOE': 'Q3', 'Q3': 'APOE', 'CSF1R': 'Q4', 'Q4': 'CSF1R', 'ARX': 'Q5', 'Q5': 'ARX', 'AQP4': 'Q6', 'Q6': 'AQP4', 'CSF2RA': 'Q7', 'Q7': 'CSF2RA', 'BGN': 'Q8', 'Q8': 'BGN', 'ARHGEF6': 'Q9', 'Q9': 'ARHGEF6', 'DOCK11': 'Q10', 'Q10': 'DOCK11', 'CFTR': 'Q11', 'Q11': 'CFTR', 'BEX1': 'Q12', 'Q12': 'BEX1', 'FGF10': 'Q13', 'Q13': 'FGF10', 'COL15A1': 'Q14', 'Q14': 'COL15A1', 'BMP2': 'Q15', 'Q15': 'BMP2', 'FLT1': 'Q16', 'Q16': 'FLT1', 'COL4A5': 'Q17', 'Q17': 'COL4A5', 'CD40LG': 'Q18', 'Q18': 'CD40LG', 'FMR1': 'Q19', 'Q19': 'FMR1', 'EDA': 'Q20', 'Q20': 'EDA', 'CD74': 'Q21', 'Q21': 'CD74', 'FNDC1': 'Q22', 'Q22': 'FNDC1', 'EFNB1': 'Q23', 'Q23': 'EFNB1', 'DACH2': 'Q24', 'Q24': 'DACH2', 'FOXP3': 'Q25', 'Q25': 'FOXP3', 'EGFL6': 'Q26', 'Q26': 'EGFL6', 'ENPEP': 'Q27', 'Q27': 'ENPEP', 'GAD1': 'Q28', 'Q28': 'GAD1', 'FGF13': 'Q29', 'Q29': 'FGF13', 'FBN2': 'Q30', 'Q30': 'FBN2', 'IL1RAPL2': 'Q31', 'Q31': 'IL1RAPL2', 'FREM2': 'Q32', 'Q32': 'FREM2', 'FGFR3': 'Q33', 'Q33': 'FGFR3', 'LAMA4': 'Q34', 'Q34': 'LAMA4', 'FRZB': 'Q35', 'Q35': 'FRZB', 'FILIP1L': 'Q36', 'Q36': 'FILIP1L', 'MBP': 'Q37', 'Q37': 'MBP', 'HTR2C': 'Q38', 'Q38': 'HTR2C', 'GFAP': 'Q39', 'Q39': 'GFAP', 'MRC1': 'Q40', 'Q40': 'MRC1', 'IL13RA1': 'Q41', 'Q41': 'IL13RA1', 'IFNG-AS1': 'Q42', 'Q42': 'IFNG-AS1', 'MT-ATP6': 'Q43', 'Q43': 'MT-ATP6', 'LRIG3': 'Q44', 'Q44': 'LRIG3', 'IL3RA': 'Q45', 'Q45': 'IL3RA', 'MT-ND3': 'Q46', 'Q46': 'MT-ND3', 'MAOA': 'Q47', 'Q47': 'MAOA', 'ITM2A': 'Q48', 'Q48': 'ITM2A', 'MT-RNR1': 'Q49', 'Q49': 'MT-RNR1', 'MT-ND1': 'Q50', 'Q50': 'MT-ND1', 'KLHL1': 'Q51', 'Q51': 'KLHL1', 'NPY': 'Q52', 'Q52': 'NPY', 'MT-ND4': 'Q53', 'Q53': 'MT-ND4', 'LAMP5': 'Q54', 'Q54': 'LAMP5', 'PAX6': 'Q55', 'Q55': 'PAX6', 'MT-RNR2': 'Q56', 'Q56': 'MT-RNR2', 'MT-ND2': 'Q57', 'Q57': 'MT-ND2', 'PCDH11X': 'Q58', 'Q58': 'PCDH11X', 'NRGN': 'Q59', 'Q59': 'NRGN', 'MT-ND5': 'Q60', 'Q60': 'MT-ND5', 'PLP1': 'Q61', 'Q61': 'PLP1', 'OLIG1': 'Q62', 'Q62': 'OLIG1', 'NDP': 'Q63', 'Q63': 'NDP', 'PTCHD1-AS': 'Q64', 'Q64': 'PTCHD1-AS', 'OPALIN': 'Q65', 'Q65': 'OPALIN', 'ROBO1': 'Q66', 'Q66': 'ROBO1', 'PVALB': 'Q67', 'Q67': 'PVALB', 'OPHN1': 'Q68', 'Q68': 'OPHN1', 'SYTL5': 'Q69', 'Q69': 'SYTL5', 'SMYD1': 'Q70', 'Q70': 'SMYD1', 'PDGFRA': 'Q71', 'Q71': 'PDGFRA', 'TAC3': 'Q72', 'Q72': 'TAC3', 'SST': 'Q73', 'Q73': 'SST', 'RORB': 'Q74', 'Q74': 'RORB', 'TENM1': 'Q75', 'Q75': 'TENM1', 'TRPC5': 'Q76', 'Q76': 'TRPC5', 'RPRM': 'Q77', 'Q77': 'RPRM', 'TSIX': 'Q78', 'Q78': 'TSIX', '': 'Q114', 'Q79': '', 'RTKN2': 'Q80', 'Q80': 'RTKN2', 'TYROBP': 'Q81', 'Q81': 'TYROBP', 'Q82': '', 'SCML4': 'Q83', 'Q83': 'SCML4', 'VCAN': 'Q84', 'Q84': 'VCAN', 'Q85': '', 'SMOC1': 'Q86', 'Q86': 'SMOC1', 'VIP': 'Q87', 'Q87': 'VIP', 'Q88': '', 'SRGN': 'Q89', 'Q89': 'SRGN', 'Xist': 'Q90', 'Q90': 'Xist', 'Q91': '', 'SRPX2': 'Q92', 'Q92': 'SRPX2', 'Q93': '', 'Q94': '', 'TEX13A': 'Q95', 'Q95': 'TEX13A', 'Q96': '', 'Q97': '', 'TH': 'Q98', 'Q98': 'TH', 'Q99': '', 'Q100': '', 'THEMIS': 'Q101', 'Q101': 'THEMIS', 'Q102': '', 'Q103': '', 'TIMP1': 'Q104', 'Q104': 'TIMP1', 'Q105': '', 'Q106': '', 'TMSB4X': 'Q107', 'Q107': 'TMSB4X', 'Q108': '', 'Q109': '', 'TNNT2': 'Q110', 'Q110': 'TNNT2', 'Q111': '', 'Q112': '', 'WNT4': 'Q113', 'Q113': 'WNT4', 'Q114': ''}\n"
     ]
    }
   ],
   "source": [
    "print(dicQ)"
   ]
  },
  {
   "cell_type": "code",
   "execution_count": null,
   "id": "1769e8d4",
   "metadata": {},
   "outputs": [],
   "source": []
  },
  {
   "cell_type": "code",
   "execution_count": 190,
   "id": "961fe558",
   "metadata": {},
   "outputs": [
    {
     "data": {
      "text/plain": [
       "<Image layer 'PDGFRA' at 0x253cc7a3520>"
      ]
     },
     "execution_count": 190,
     "metadata": {},
     "output_type": "execute_result"
    }
   ],
   "source": []
  },
  {
   "cell_type": "code",
   "execution_count": null,
   "id": "be0ad610",
   "metadata": {},
   "outputs": [],
   "source": []
  },
  {
   "cell_type": "code",
   "execution_count": 165,
   "id": "661ccf57",
   "metadata": {},
   "outputs": [
    {
     "name": "stdout",
     "output_type": "stream",
     "text": [
      "Found files:309\n",
      "Found hybe folders:194\n"
     ]
    }
   ],
   "source": [
    "asm = analysis_smFISH(data_folders = [r'Y:\\Glass_MERFISH\\CGBB_ChrX_01_31_2023'],\n",
    "                     save_folder =r'Y:\\Glass_MERFISH\\CGBB_ChrX_01_31_2023_Analysis',\n",
    "                     H0folder=  r'Y:\\Glass_MERFISH\\CGBB_ChrX_01_31_2023\\H0_*',exclude_H0=True)"
   ]
  },
  {
   "cell_type": "code",
   "execution_count": 173,
   "id": "aa2e7004",
   "metadata": {},
   "outputs": [],
   "source": [
    "set_,ifov = '_C',70\n",
    "asm.set_set(set_)\n",
    "Qfolders_keep = [e for e in asm.Qfolders if asm.set_ in os.path.basename(e)]\n",
    "\n",
    "iQ = [iQ for iQ,Qfld in enumerate(Qfolders_keep) \n",
    " if 'Lamin_C2' in os.path.basename(Qfld)][0]\n",
    "asm.set_fov(ifov)\n",
    "asm.set_hybe(iQ)"
   ]
  },
  {
   "cell_type": "code",
   "execution_count": 174,
   "id": "aaaeb0df",
   "metadata": {},
   "outputs": [
    {
     "name": "stdout",
     "output_type": "stream",
     "text": [
      "### define H0 and load background\n",
      "Background file: Y:\\Glass_MERFISH\\CGBB_ChrX_01_31_2023\\H0_C\\Conv_zscan__070.zarr\n",
      "### load signal\n",
      "Signal file: Y:\\Glass_MERFISH\\CGBB_ChrX_01_31_2023\\H68_Lamin_C2\\Conv_zscan__070.zarr\n",
      "Found drift:[  4  59 -19]\n"
     ]
    }
   ],
   "source": [
    "asm.get_background(force=False)\n",
    "asm.get_signal()\n",
    "asm.compute_drift(sz=300)\n",
    "asm.get_aligned_ims()"
   ]
  },
  {
   "cell_type": "code",
   "execution_count": 176,
   "id": "ad8c5c43",
   "metadata": {},
   "outputs": [],
   "source": [
    "imsg = asm.im_sig__[0].astype(np.float32)"
   ]
  },
  {
   "cell_type": "code",
   "execution_count": 177,
   "id": "22ebfbd0",
   "metadata": {},
   "outputs": [
    {
     "data": {
      "text/plain": [
       "<Image layer 'LaminA' at 0x253d17690d0>"
      ]
     },
     "execution_count": 177,
     "metadata": {},
     "output_type": "execute_result"
    },
    {
     "name": "stderr",
     "output_type": "stream",
     "text": [
      "WARNING: Traceback (most recent call last):\n",
      "  File \"C:\\Users\\BintuLabUser\\anaconda3\\envs\\cellpose\\lib\\runpy.py\", line 197, in _run_module_as_main\n",
      "    return _run_code(code, main_globals, None,\n",
      "  File \"C:\\Users\\BintuLabUser\\anaconda3\\envs\\cellpose\\lib\\runpy.py\", line 87, in _run_code\n",
      "    exec(code, run_globals)\n",
      "  File \"C:\\Users\\BintuLabUser\\anaconda3\\envs\\cellpose\\lib\\site-packages\\ipykernel_launcher.py\", line 16, in <module>\n",
      "    app.launch_new_instance()\n",
      "  File \"C:\\Users\\BintuLabUser\\anaconda3\\envs\\cellpose\\lib\\site-packages\\traitlets\\config\\application.py\", line 846, in launch_instance\n",
      "    app.start()\n",
      "  File \"C:\\Users\\BintuLabUser\\anaconda3\\envs\\cellpose\\lib\\site-packages\\ipykernel\\kernelapp.py\", line 677, in start\n",
      "    self.io_loop.start()\n",
      "  File \"C:\\Users\\BintuLabUser\\anaconda3\\envs\\cellpose\\lib\\site-packages\\tornado\\platform\\asyncio.py\", line 199, in start\n",
      "    self.asyncio_loop.run_forever()\n",
      "  File \"C:\\Users\\BintuLabUser\\anaconda3\\envs\\cellpose\\lib\\asyncio\\base_events.py\", line 596, in run_forever\n",
      "    self._run_once()\n",
      "  File \"C:\\Users\\BintuLabUser\\anaconda3\\envs\\cellpose\\lib\\asyncio\\base_events.py\", line 1890, in _run_once\n",
      "    handle._run()\n",
      "  File \"C:\\Users\\BintuLabUser\\anaconda3\\envs\\cellpose\\lib\\asyncio\\events.py\", line 80, in _run\n",
      "    self._context.run(self._callback, *self._args)\n",
      "  File \"C:\\Users\\BintuLabUser\\anaconda3\\envs\\cellpose\\lib\\site-packages\\tornado\\ioloop.py\", line 741, in _run_callback\n",
      "    ret = callback()\n",
      "  File \"C:\\Users\\BintuLabUser\\anaconda3\\envs\\cellpose\\lib\\site-packages\\ipykernel\\kernelbase.py\", line 402, in advance_eventloop\n",
      "    eventloop(self)\n",
      "  File \"C:\\Users\\BintuLabUser\\anaconda3\\envs\\cellpose\\lib\\site-packages\\ipykernel\\eventloops.py\", line 126, in loop_qt5\n",
      "    return loop_qt4(kernel)\n",
      "  File \"C:\\Users\\BintuLabUser\\anaconda3\\envs\\cellpose\\lib\\site-packages\\ipykernel\\eventloops.py\", line 119, in loop_qt4\n",
      "    _loop_qt(kernel.app)\n",
      "  File \"C:\\Users\\BintuLabUser\\anaconda3\\envs\\cellpose\\lib\\site-packages\\ipykernel\\eventloops.py\", line 105, in _loop_qt\n",
      "    app.exec_()\n",
      "  File \"C:\\Users\\BintuLabUser\\anaconda3\\envs\\cellpose\\lib\\site-packages\\vispy\\app\\backends\\_qt.py\", line 567, in event\n",
      "    out = super(QtBaseCanvasBackend, self).event(ev)\n",
      "  File \"C:\\Users\\BintuLabUser\\anaconda3\\envs\\cellpose\\lib\\site-packages\\vispy\\app\\backends\\_qt.py\", line 532, in mouseMoveEvent\n",
      "    self._vispy_mouse_move(\n",
      "  File \"C:\\Users\\BintuLabUser\\anaconda3\\envs\\cellpose\\lib\\site-packages\\vispy\\app\\base.py\", line 216, in _vispy_mouse_move\n",
      "    ev = self._vispy_canvas.events.mouse_move(**kwargs)\n",
      "  File \"C:\\Users\\BintuLabUser\\anaconda3\\envs\\cellpose\\lib\\site-packages\\vispy\\util\\event.py\", line 453, in __call__\n",
      "    self._invoke_callback(cb, event)\n",
      "  File \"C:\\Users\\BintuLabUser\\anaconda3\\envs\\cellpose\\lib\\site-packages\\vispy\\util\\event.py\", line 469, in _invoke_callback\n",
      "    cb(event)\n",
      "  File \"C:\\Users\\BintuLabUser\\anaconda3\\envs\\cellpose\\lib\\site-packages\\napari\\_vispy\\canvas.py\", line 98, in _process_mouse_event\n",
      "    super()._process_mouse_event(event)\n",
      "  File \"C:\\Users\\BintuLabUser\\anaconda3\\envs\\cellpose\\lib\\site-packages\\vispy\\scene\\canvas.py\", line 369, in _process_mouse_event\n",
      "    getattr(picked.events, event.type)(scene_event)\n",
      "  File \"C:\\Users\\BintuLabUser\\anaconda3\\envs\\cellpose\\lib\\site-packages\\vispy\\util\\event.py\", line 453, in __call__\n",
      "    self._invoke_callback(cb, event)\n",
      "  File \"C:\\Users\\BintuLabUser\\anaconda3\\envs\\cellpose\\lib\\site-packages\\vispy\\util\\event.py\", line 471, in _invoke_callback\n",
      "    _handle_exception(self.ignore_callback_errors,\n",
      "  << caught exception here: >>\n",
      "  File \"C:\\Users\\BintuLabUser\\anaconda3\\envs\\cellpose\\lib\\site-packages\\vispy\\util\\event.py\", line 469, in _invoke_callback\n",
      "    cb(event)\n",
      "  File \"C:\\Users\\BintuLabUser\\anaconda3\\envs\\cellpose\\lib\\site-packages\\vispy\\scene\\cameras\\perspective.py\", line 227, in viewbox_mouse_event\n",
      "    self._update_rotation(event)\n",
      "  File \"C:\\Users\\BintuLabUser\\anaconda3\\envs\\cellpose\\lib\\site-packages\\vispy\\scene\\cameras\\arcball.py\", line 65, in _update_rotation\n",
      "    Quaternion(*_arcball(self._event_value, wh)) *\n",
      "  File \"C:\\Users\\BintuLabUser\\anaconda3\\envs\\cellpose\\lib\\site-packages\\vispy\\scene\\cameras\\arcball.py\", line 101, in _arcball\n",
      "    x, y = xy\n",
      "ValueError: too many values to unpack (expected 2)\n",
      "WARNING:vispy:Traceback (most recent call last):\n",
      "  File \"C:\\Users\\BintuLabUser\\anaconda3\\envs\\cellpose\\lib\\runpy.py\", line 197, in _run_module_as_main\n",
      "    return _run_code(code, main_globals, None,\n",
      "  File \"C:\\Users\\BintuLabUser\\anaconda3\\envs\\cellpose\\lib\\runpy.py\", line 87, in _run_code\n",
      "    exec(code, run_globals)\n",
      "  File \"C:\\Users\\BintuLabUser\\anaconda3\\envs\\cellpose\\lib\\site-packages\\ipykernel_launcher.py\", line 16, in <module>\n",
      "    app.launch_new_instance()\n",
      "  File \"C:\\Users\\BintuLabUser\\anaconda3\\envs\\cellpose\\lib\\site-packages\\traitlets\\config\\application.py\", line 846, in launch_instance\n",
      "    app.start()\n",
      "  File \"C:\\Users\\BintuLabUser\\anaconda3\\envs\\cellpose\\lib\\site-packages\\ipykernel\\kernelapp.py\", line 677, in start\n",
      "    self.io_loop.start()\n",
      "  File \"C:\\Users\\BintuLabUser\\anaconda3\\envs\\cellpose\\lib\\site-packages\\tornado\\platform\\asyncio.py\", line 199, in start\n",
      "    self.asyncio_loop.run_forever()\n",
      "  File \"C:\\Users\\BintuLabUser\\anaconda3\\envs\\cellpose\\lib\\asyncio\\base_events.py\", line 596, in run_forever\n",
      "    self._run_once()\n",
      "  File \"C:\\Users\\BintuLabUser\\anaconda3\\envs\\cellpose\\lib\\asyncio\\base_events.py\", line 1890, in _run_once\n",
      "    handle._run()\n",
      "  File \"C:\\Users\\BintuLabUser\\anaconda3\\envs\\cellpose\\lib\\asyncio\\events.py\", line 80, in _run\n",
      "    self._context.run(self._callback, *self._args)\n",
      "  File \"C:\\Users\\BintuLabUser\\anaconda3\\envs\\cellpose\\lib\\site-packages\\tornado\\ioloop.py\", line 741, in _run_callback\n",
      "    ret = callback()\n",
      "  File \"C:\\Users\\BintuLabUser\\anaconda3\\envs\\cellpose\\lib\\site-packages\\ipykernel\\kernelbase.py\", line 402, in advance_eventloop\n",
      "    eventloop(self)\n",
      "  File \"C:\\Users\\BintuLabUser\\anaconda3\\envs\\cellpose\\lib\\site-packages\\ipykernel\\eventloops.py\", line 126, in loop_qt5\n",
      "    return loop_qt4(kernel)\n",
      "  File \"C:\\Users\\BintuLabUser\\anaconda3\\envs\\cellpose\\lib\\site-packages\\ipykernel\\eventloops.py\", line 119, in loop_qt4\n",
      "    _loop_qt(kernel.app)\n",
      "  File \"C:\\Users\\BintuLabUser\\anaconda3\\envs\\cellpose\\lib\\site-packages\\ipykernel\\eventloops.py\", line 105, in _loop_qt\n",
      "    app.exec_()\n",
      "  File \"C:\\Users\\BintuLabUser\\anaconda3\\envs\\cellpose\\lib\\site-packages\\vispy\\app\\backends\\_qt.py\", line 567, in event\n",
      "    out = super(QtBaseCanvasBackend, self).event(ev)\n",
      "  File \"C:\\Users\\BintuLabUser\\anaconda3\\envs\\cellpose\\lib\\site-packages\\vispy\\app\\backends\\_qt.py\", line 532, in mouseMoveEvent\n",
      "    self._vispy_mouse_move(\n",
      "  File \"C:\\Users\\BintuLabUser\\anaconda3\\envs\\cellpose\\lib\\site-packages\\vispy\\app\\base.py\", line 216, in _vispy_mouse_move\n",
      "    ev = self._vispy_canvas.events.mouse_move(**kwargs)\n",
      "  File \"C:\\Users\\BintuLabUser\\anaconda3\\envs\\cellpose\\lib\\site-packages\\vispy\\util\\event.py\", line 453, in __call__\n",
      "    self._invoke_callback(cb, event)\n",
      "  File \"C:\\Users\\BintuLabUser\\anaconda3\\envs\\cellpose\\lib\\site-packages\\vispy\\util\\event.py\", line 469, in _invoke_callback\n",
      "    cb(event)\n",
      "  File \"C:\\Users\\BintuLabUser\\anaconda3\\envs\\cellpose\\lib\\site-packages\\napari\\_vispy\\canvas.py\", line 98, in _process_mouse_event\n",
      "    super()._process_mouse_event(event)\n",
      "  File \"C:\\Users\\BintuLabUser\\anaconda3\\envs\\cellpose\\lib\\site-packages\\vispy\\scene\\canvas.py\", line 369, in _process_mouse_event\n",
      "    getattr(picked.events, event.type)(scene_event)\n",
      "  File \"C:\\Users\\BintuLabUser\\anaconda3\\envs\\cellpose\\lib\\site-packages\\vispy\\util\\event.py\", line 453, in __call__\n",
      "    self._invoke_callback(cb, event)\n",
      "  File \"C:\\Users\\BintuLabUser\\anaconda3\\envs\\cellpose\\lib\\site-packages\\vispy\\util\\event.py\", line 471, in _invoke_callback\n",
      "    _handle_exception(self.ignore_callback_errors,\n",
      "  << caught exception here: >>\n",
      "  File \"C:\\Users\\BintuLabUser\\anaconda3\\envs\\cellpose\\lib\\site-packages\\vispy\\util\\event.py\", line 469, in _invoke_callback\n",
      "    cb(event)\n",
      "  File \"C:\\Users\\BintuLabUser\\anaconda3\\envs\\cellpose\\lib\\site-packages\\vispy\\scene\\cameras\\perspective.py\", line 227, in viewbox_mouse_event\n",
      "    self._update_rotation(event)\n",
      "  File \"C:\\Users\\BintuLabUser\\anaconda3\\envs\\cellpose\\lib\\site-packages\\vispy\\scene\\cameras\\arcball.py\", line 65, in _update_rotation\n",
      "    Quaternion(*_arcball(self._event_value, wh)) *\n",
      "  File \"C:\\Users\\BintuLabUser\\anaconda3\\envs\\cellpose\\lib\\site-packages\\vispy\\scene\\cameras\\arcball.py\", line 101, in _arcball\n",
      "    x, y = xy\n",
      "ValueError: too many values to unpack (expected 2)\n",
      "ERROR: Invoking <bound method Base3DRotationCamera.viewbox_mouse_event of <ArcballCamera at 0x253caf3aa90>> for SceneMouseEvent\n",
      "ERROR:vispy:Invoking <bound method Base3DRotationCamera.viewbox_mouse_event of <ArcballCamera at 0x253caf3aa90>> for SceneMouseEvent\n",
      "WARNING: Traceback (most recent call last):\n",
      "  File \"C:\\Users\\BintuLabUser\\anaconda3\\envs\\cellpose\\lib\\runpy.py\", line 197, in _run_module_as_main\n",
      "    return _run_code(code, main_globals, None,\n",
      "  File \"C:\\Users\\BintuLabUser\\anaconda3\\envs\\cellpose\\lib\\runpy.py\", line 87, in _run_code\n",
      "    exec(code, run_globals)\n",
      "  File \"C:\\Users\\BintuLabUser\\anaconda3\\envs\\cellpose\\lib\\site-packages\\ipykernel_launcher.py\", line 16, in <module>\n",
      "    app.launch_new_instance()\n",
      "  File \"C:\\Users\\BintuLabUser\\anaconda3\\envs\\cellpose\\lib\\site-packages\\traitlets\\config\\application.py\", line 846, in launch_instance\n",
      "    app.start()\n",
      "  File \"C:\\Users\\BintuLabUser\\anaconda3\\envs\\cellpose\\lib\\site-packages\\ipykernel\\kernelapp.py\", line 677, in start\n",
      "    self.io_loop.start()\n",
      "  File \"C:\\Users\\BintuLabUser\\anaconda3\\envs\\cellpose\\lib\\site-packages\\tornado\\platform\\asyncio.py\", line 199, in start\n",
      "    self.asyncio_loop.run_forever()\n",
      "  File \"C:\\Users\\BintuLabUser\\anaconda3\\envs\\cellpose\\lib\\asyncio\\base_events.py\", line 596, in run_forever\n",
      "    self._run_once()\n",
      "  File \"C:\\Users\\BintuLabUser\\anaconda3\\envs\\cellpose\\lib\\asyncio\\base_events.py\", line 1890, in _run_once\n",
      "    handle._run()\n",
      "  File \"C:\\Users\\BintuLabUser\\anaconda3\\envs\\cellpose\\lib\\asyncio\\events.py\", line 80, in _run\n",
      "    self._context.run(self._callback, *self._args)\n",
      "  File \"C:\\Users\\BintuLabUser\\anaconda3\\envs\\cellpose\\lib\\site-packages\\tornado\\ioloop.py\", line 741, in _run_callback\n",
      "    ret = callback()\n",
      "  File \"C:\\Users\\BintuLabUser\\anaconda3\\envs\\cellpose\\lib\\site-packages\\ipykernel\\kernelbase.py\", line 402, in advance_eventloop\n",
      "    eventloop(self)\n",
      "  File \"C:\\Users\\BintuLabUser\\anaconda3\\envs\\cellpose\\lib\\site-packages\\ipykernel\\eventloops.py\", line 126, in loop_qt5\n",
      "    return loop_qt4(kernel)\n",
      "  File \"C:\\Users\\BintuLabUser\\anaconda3\\envs\\cellpose\\lib\\site-packages\\ipykernel\\eventloops.py\", line 119, in loop_qt4\n",
      "    _loop_qt(kernel.app)\n",
      "  File \"C:\\Users\\BintuLabUser\\anaconda3\\envs\\cellpose\\lib\\site-packages\\ipykernel\\eventloops.py\", line 105, in _loop_qt\n",
      "    app.exec_()\n",
      "  File \"C:\\Users\\BintuLabUser\\anaconda3\\envs\\cellpose\\lib\\site-packages\\vispy\\app\\backends\\_qt.py\", line 567, in event\n",
      "    out = super(QtBaseCanvasBackend, self).event(ev)\n",
      "  File \"C:\\Users\\BintuLabUser\\anaconda3\\envs\\cellpose\\lib\\site-packages\\vispy\\app\\backends\\_qt.py\", line 532, in mouseMoveEvent\n",
      "    self._vispy_mouse_move(\n",
      "  File \"C:\\Users\\BintuLabUser\\anaconda3\\envs\\cellpose\\lib\\site-packages\\vispy\\app\\base.py\", line 216, in _vispy_mouse_move\n",
      "    ev = self._vispy_canvas.events.mouse_move(**kwargs)\n",
      "  File \"C:\\Users\\BintuLabUser\\anaconda3\\envs\\cellpose\\lib\\site-packages\\vispy\\util\\event.py\", line 453, in __call__\n",
      "    self._invoke_callback(cb, event)\n",
      "  File \"C:\\Users\\BintuLabUser\\anaconda3\\envs\\cellpose\\lib\\site-packages\\vispy\\util\\event.py\", line 469, in _invoke_callback\n",
      "    cb(event)\n",
      "  File \"C:\\Users\\BintuLabUser\\anaconda3\\envs\\cellpose\\lib\\site-packages\\napari\\_vispy\\canvas.py\", line 98, in _process_mouse_event\n",
      "    super()._process_mouse_event(event)\n",
      "  File \"C:\\Users\\BintuLabUser\\anaconda3\\envs\\cellpose\\lib\\site-packages\\vispy\\scene\\canvas.py\", line 369, in _process_mouse_event\n",
      "    getattr(picked.events, event.type)(scene_event)\n",
      "  File \"C:\\Users\\BintuLabUser\\anaconda3\\envs\\cellpose\\lib\\site-packages\\vispy\\util\\event.py\", line 453, in __call__\n",
      "    self._invoke_callback(cb, event)\n",
      "  File \"C:\\Users\\BintuLabUser\\anaconda3\\envs\\cellpose\\lib\\site-packages\\vispy\\util\\event.py\", line 471, in _invoke_callback\n",
      "    _handle_exception(self.ignore_callback_errors,\n",
      "  << caught exception here: >>\n",
      "  File \"C:\\Users\\BintuLabUser\\anaconda3\\envs\\cellpose\\lib\\site-packages\\vispy\\util\\event.py\", line 469, in _invoke_callback\n",
      "    cb(event)\n",
      "  File \"C:\\Users\\BintuLabUser\\anaconda3\\envs\\cellpose\\lib\\site-packages\\vispy\\scene\\cameras\\perspective.py\", line 227, in viewbox_mouse_event\n",
      "    self._update_rotation(event)\n",
      "  File \"C:\\Users\\BintuLabUser\\anaconda3\\envs\\cellpose\\lib\\site-packages\\vispy\\scene\\cameras\\arcball.py\", line 65, in _update_rotation\n",
      "    Quaternion(*_arcball(self._event_value, wh)) *\n",
      "  File \"C:\\Users\\BintuLabUser\\anaconda3\\envs\\cellpose\\lib\\site-packages\\vispy\\scene\\cameras\\arcball.py\", line 101, in _arcball\n",
      "    x, y = xy\n",
      "ValueError: too many values to unpack (expected 2)\n",
      "WARNING:vispy:Traceback (most recent call last):\n",
      "  File \"C:\\Users\\BintuLabUser\\anaconda3\\envs\\cellpose\\lib\\runpy.py\", line 197, in _run_module_as_main\n",
      "    return _run_code(code, main_globals, None,\n",
      "  File \"C:\\Users\\BintuLabUser\\anaconda3\\envs\\cellpose\\lib\\runpy.py\", line 87, in _run_code\n",
      "    exec(code, run_globals)\n",
      "  File \"C:\\Users\\BintuLabUser\\anaconda3\\envs\\cellpose\\lib\\site-packages\\ipykernel_launcher.py\", line 16, in <module>\n",
      "    app.launch_new_instance()\n",
      "  File \"C:\\Users\\BintuLabUser\\anaconda3\\envs\\cellpose\\lib\\site-packages\\traitlets\\config\\application.py\", line 846, in launch_instance\n",
      "    app.start()\n",
      "  File \"C:\\Users\\BintuLabUser\\anaconda3\\envs\\cellpose\\lib\\site-packages\\ipykernel\\kernelapp.py\", line 677, in start\n",
      "    self.io_loop.start()\n",
      "  File \"C:\\Users\\BintuLabUser\\anaconda3\\envs\\cellpose\\lib\\site-packages\\tornado\\platform\\asyncio.py\", line 199, in start\n",
      "    self.asyncio_loop.run_forever()\n",
      "  File \"C:\\Users\\BintuLabUser\\anaconda3\\envs\\cellpose\\lib\\asyncio\\base_events.py\", line 596, in run_forever\n",
      "    self._run_once()\n",
      "  File \"C:\\Users\\BintuLabUser\\anaconda3\\envs\\cellpose\\lib\\asyncio\\base_events.py\", line 1890, in _run_once\n",
      "    handle._run()\n",
      "  File \"C:\\Users\\BintuLabUser\\anaconda3\\envs\\cellpose\\lib\\asyncio\\events.py\", line 80, in _run\n",
      "    self._context.run(self._callback, *self._args)\n",
      "  File \"C:\\Users\\BintuLabUser\\anaconda3\\envs\\cellpose\\lib\\site-packages\\tornado\\ioloop.py\", line 741, in _run_callback\n",
      "    ret = callback()\n",
      "  File \"C:\\Users\\BintuLabUser\\anaconda3\\envs\\cellpose\\lib\\site-packages\\ipykernel\\kernelbase.py\", line 402, in advance_eventloop\n",
      "    eventloop(self)\n",
      "  File \"C:\\Users\\BintuLabUser\\anaconda3\\envs\\cellpose\\lib\\site-packages\\ipykernel\\eventloops.py\", line 126, in loop_qt5\n",
      "    return loop_qt4(kernel)\n",
      "  File \"C:\\Users\\BintuLabUser\\anaconda3\\envs\\cellpose\\lib\\site-packages\\ipykernel\\eventloops.py\", line 119, in loop_qt4\n",
      "    _loop_qt(kernel.app)\n",
      "  File \"C:\\Users\\BintuLabUser\\anaconda3\\envs\\cellpose\\lib\\site-packages\\ipykernel\\eventloops.py\", line 105, in _loop_qt\n",
      "    app.exec_()\n",
      "  File \"C:\\Users\\BintuLabUser\\anaconda3\\envs\\cellpose\\lib\\site-packages\\vispy\\app\\backends\\_qt.py\", line 567, in event\n",
      "    out = super(QtBaseCanvasBackend, self).event(ev)\n",
      "  File \"C:\\Users\\BintuLabUser\\anaconda3\\envs\\cellpose\\lib\\site-packages\\vispy\\app\\backends\\_qt.py\", line 532, in mouseMoveEvent\n",
      "    self._vispy_mouse_move(\n",
      "  File \"C:\\Users\\BintuLabUser\\anaconda3\\envs\\cellpose\\lib\\site-packages\\vispy\\app\\base.py\", line 216, in _vispy_mouse_move\n",
      "    ev = self._vispy_canvas.events.mouse_move(**kwargs)\n",
      "  File \"C:\\Users\\BintuLabUser\\anaconda3\\envs\\cellpose\\lib\\site-packages\\vispy\\util\\event.py\", line 453, in __call__\n",
      "    self._invoke_callback(cb, event)\n",
      "  File \"C:\\Users\\BintuLabUser\\anaconda3\\envs\\cellpose\\lib\\site-packages\\vispy\\util\\event.py\", line 469, in _invoke_callback\n",
      "    cb(event)\n",
      "  File \"C:\\Users\\BintuLabUser\\anaconda3\\envs\\cellpose\\lib\\site-packages\\napari\\_vispy\\canvas.py\", line 98, in _process_mouse_event\n",
      "    super()._process_mouse_event(event)\n",
      "  File \"C:\\Users\\BintuLabUser\\anaconda3\\envs\\cellpose\\lib\\site-packages\\vispy\\scene\\canvas.py\", line 369, in _process_mouse_event\n",
      "    getattr(picked.events, event.type)(scene_event)\n",
      "  File \"C:\\Users\\BintuLabUser\\anaconda3\\envs\\cellpose\\lib\\site-packages\\vispy\\util\\event.py\", line 453, in __call__\n",
      "    self._invoke_callback(cb, event)\n",
      "  File \"C:\\Users\\BintuLabUser\\anaconda3\\envs\\cellpose\\lib\\site-packages\\vispy\\util\\event.py\", line 471, in _invoke_callback\n",
      "    _handle_exception(self.ignore_callback_errors,\n",
      "  << caught exception here: >>\n",
      "  File \"C:\\Users\\BintuLabUser\\anaconda3\\envs\\cellpose\\lib\\site-packages\\vispy\\util\\event.py\", line 469, in _invoke_callback\n",
      "    cb(event)\n",
      "  File \"C:\\Users\\BintuLabUser\\anaconda3\\envs\\cellpose\\lib\\site-packages\\vispy\\scene\\cameras\\perspective.py\", line 227, in viewbox_mouse_event\n",
      "    self._update_rotation(event)\n",
      "  File \"C:\\Users\\BintuLabUser\\anaconda3\\envs\\cellpose\\lib\\site-packages\\vispy\\scene\\cameras\\arcball.py\", line 65, in _update_rotation\n",
      "    Quaternion(*_arcball(self._event_value, wh)) *\n",
      "  File \"C:\\Users\\BintuLabUser\\anaconda3\\envs\\cellpose\\lib\\site-packages\\vispy\\scene\\cameras\\arcball.py\", line 101, in _arcball\n",
      "    x, y = xy\n",
      "ValueError: too many values to unpack (expected 2)\n",
      "ERROR: Invoking <bound method Base3DRotationCamera.viewbox_mouse_event of <ArcballCamera at 0x253caf3aa90>> for SceneMouseEvent\n",
      "ERROR:vispy:Invoking <bound method Base3DRotationCamera.viewbox_mouse_event of <ArcballCamera at 0x253caf3aa90>> for SceneMouseEvent\n",
      "WARNING: Traceback (most recent call last):\n",
      "  File \"C:\\Users\\BintuLabUser\\anaconda3\\envs\\cellpose\\lib\\runpy.py\", line 197, in _run_module_as_main\n",
      "    return _run_code(code, main_globals, None,\n",
      "  File \"C:\\Users\\BintuLabUser\\anaconda3\\envs\\cellpose\\lib\\runpy.py\", line 87, in _run_code\n",
      "    exec(code, run_globals)\n",
      "  File \"C:\\Users\\BintuLabUser\\anaconda3\\envs\\cellpose\\lib\\site-packages\\ipykernel_launcher.py\", line 16, in <module>\n",
      "    app.launch_new_instance()\n",
      "  File \"C:\\Users\\BintuLabUser\\anaconda3\\envs\\cellpose\\lib\\site-packages\\traitlets\\config\\application.py\", line 846, in launch_instance\n",
      "    app.start()\n",
      "  File \"C:\\Users\\BintuLabUser\\anaconda3\\envs\\cellpose\\lib\\site-packages\\ipykernel\\kernelapp.py\", line 677, in start\n",
      "    self.io_loop.start()\n",
      "  File \"C:\\Users\\BintuLabUser\\anaconda3\\envs\\cellpose\\lib\\site-packages\\tornado\\platform\\asyncio.py\", line 199, in start\n",
      "    self.asyncio_loop.run_forever()\n",
      "  File \"C:\\Users\\BintuLabUser\\anaconda3\\envs\\cellpose\\lib\\asyncio\\base_events.py\", line 596, in run_forever\n",
      "    self._run_once()\n",
      "  File \"C:\\Users\\BintuLabUser\\anaconda3\\envs\\cellpose\\lib\\asyncio\\base_events.py\", line 1890, in _run_once\n",
      "    handle._run()\n",
      "  File \"C:\\Users\\BintuLabUser\\anaconda3\\envs\\cellpose\\lib\\asyncio\\events.py\", line 80, in _run\n",
      "    self._context.run(self._callback, *self._args)\n",
      "  File \"C:\\Users\\BintuLabUser\\anaconda3\\envs\\cellpose\\lib\\site-packages\\tornado\\ioloop.py\", line 741, in _run_callback\n",
      "    ret = callback()\n",
      "  File \"C:\\Users\\BintuLabUser\\anaconda3\\envs\\cellpose\\lib\\site-packages\\ipykernel\\kernelbase.py\", line 402, in advance_eventloop\n",
      "    eventloop(self)\n",
      "  File \"C:\\Users\\BintuLabUser\\anaconda3\\envs\\cellpose\\lib\\site-packages\\ipykernel\\eventloops.py\", line 126, in loop_qt5\n",
      "    return loop_qt4(kernel)\n",
      "  File \"C:\\Users\\BintuLabUser\\anaconda3\\envs\\cellpose\\lib\\site-packages\\ipykernel\\eventloops.py\", line 119, in loop_qt4\n",
      "    _loop_qt(kernel.app)\n",
      "  File \"C:\\Users\\BintuLabUser\\anaconda3\\envs\\cellpose\\lib\\site-packages\\ipykernel\\eventloops.py\", line 105, in _loop_qt\n",
      "    app.exec_()\n",
      "  File \"C:\\Users\\BintuLabUser\\anaconda3\\envs\\cellpose\\lib\\site-packages\\vispy\\app\\backends\\_qt.py\", line 567, in event\n",
      "    out = super(QtBaseCanvasBackend, self).event(ev)\n",
      "  File \"C:\\Users\\BintuLabUser\\anaconda3\\envs\\cellpose\\lib\\site-packages\\vispy\\app\\backends\\_qt.py\", line 532, in mouseMoveEvent\n",
      "    self._vispy_mouse_move(\n",
      "  File \"C:\\Users\\BintuLabUser\\anaconda3\\envs\\cellpose\\lib\\site-packages\\vispy\\app\\base.py\", line 216, in _vispy_mouse_move\n",
      "    ev = self._vispy_canvas.events.mouse_move(**kwargs)\n",
      "  File \"C:\\Users\\BintuLabUser\\anaconda3\\envs\\cellpose\\lib\\site-packages\\vispy\\util\\event.py\", line 453, in __call__\n",
      "    self._invoke_callback(cb, event)\n",
      "  File \"C:\\Users\\BintuLabUser\\anaconda3\\envs\\cellpose\\lib\\site-packages\\vispy\\util\\event.py\", line 469, in _invoke_callback\n",
      "    cb(event)\n",
      "  File \"C:\\Users\\BintuLabUser\\anaconda3\\envs\\cellpose\\lib\\site-packages\\napari\\_vispy\\canvas.py\", line 98, in _process_mouse_event\n",
      "    super()._process_mouse_event(event)\n",
      "  File \"C:\\Users\\BintuLabUser\\anaconda3\\envs\\cellpose\\lib\\site-packages\\vispy\\scene\\canvas.py\", line 369, in _process_mouse_event\n",
      "    getattr(picked.events, event.type)(scene_event)\n",
      "  File \"C:\\Users\\BintuLabUser\\anaconda3\\envs\\cellpose\\lib\\site-packages\\vispy\\util\\event.py\", line 453, in __call__\n",
      "    self._invoke_callback(cb, event)\n",
      "  File \"C:\\Users\\BintuLabUser\\anaconda3\\envs\\cellpose\\lib\\site-packages\\vispy\\util\\event.py\", line 471, in _invoke_callback\n",
      "    _handle_exception(self.ignore_callback_errors,\n",
      "  << caught exception here: >>\n",
      "  File \"C:\\Users\\BintuLabUser\\anaconda3\\envs\\cellpose\\lib\\site-packages\\vispy\\util\\event.py\", line 469, in _invoke_callback\n",
      "    cb(event)\n",
      "  File \"C:\\Users\\BintuLabUser\\anaconda3\\envs\\cellpose\\lib\\site-packages\\vispy\\scene\\cameras\\perspective.py\", line 227, in viewbox_mouse_event\n",
      "    self._update_rotation(event)\n",
      "  File \"C:\\Users\\BintuLabUser\\anaconda3\\envs\\cellpose\\lib\\site-packages\\vispy\\scene\\cameras\\arcball.py\", line 65, in _update_rotation\n",
      "    Quaternion(*_arcball(self._event_value, wh)) *\n",
      "  File \"C:\\Users\\BintuLabUser\\anaconda3\\envs\\cellpose\\lib\\site-packages\\vispy\\scene\\cameras\\arcball.py\", line 101, in _arcball\n",
      "    x, y = xy\n",
      "ValueError: too many values to unpack (expected 2)\n",
      "WARNING:vispy:Traceback (most recent call last):\n",
      "  File \"C:\\Users\\BintuLabUser\\anaconda3\\envs\\cellpose\\lib\\runpy.py\", line 197, in _run_module_as_main\n",
      "    return _run_code(code, main_globals, None,\n",
      "  File \"C:\\Users\\BintuLabUser\\anaconda3\\envs\\cellpose\\lib\\runpy.py\", line 87, in _run_code\n",
      "    exec(code, run_globals)\n",
      "  File \"C:\\Users\\BintuLabUser\\anaconda3\\envs\\cellpose\\lib\\site-packages\\ipykernel_launcher.py\", line 16, in <module>\n",
      "    app.launch_new_instance()\n",
      "  File \"C:\\Users\\BintuLabUser\\anaconda3\\envs\\cellpose\\lib\\site-packages\\traitlets\\config\\application.py\", line 846, in launch_instance\n",
      "    app.start()\n",
      "  File \"C:\\Users\\BintuLabUser\\anaconda3\\envs\\cellpose\\lib\\site-packages\\ipykernel\\kernelapp.py\", line 677, in start\n",
      "    self.io_loop.start()\n",
      "  File \"C:\\Users\\BintuLabUser\\anaconda3\\envs\\cellpose\\lib\\site-packages\\tornado\\platform\\asyncio.py\", line 199, in start\n",
      "    self.asyncio_loop.run_forever()\n",
      "  File \"C:\\Users\\BintuLabUser\\anaconda3\\envs\\cellpose\\lib\\asyncio\\base_events.py\", line 596, in run_forever\n",
      "    self._run_once()\n",
      "  File \"C:\\Users\\BintuLabUser\\anaconda3\\envs\\cellpose\\lib\\asyncio\\base_events.py\", line 1890, in _run_once\n",
      "    handle._run()\n",
      "  File \"C:\\Users\\BintuLabUser\\anaconda3\\envs\\cellpose\\lib\\asyncio\\events.py\", line 80, in _run\n",
      "    self._context.run(self._callback, *self._args)\n",
      "  File \"C:\\Users\\BintuLabUser\\anaconda3\\envs\\cellpose\\lib\\site-packages\\tornado\\ioloop.py\", line 741, in _run_callback\n",
      "    ret = callback()\n",
      "  File \"C:\\Users\\BintuLabUser\\anaconda3\\envs\\cellpose\\lib\\site-packages\\ipykernel\\kernelbase.py\", line 402, in advance_eventloop\n",
      "    eventloop(self)\n",
      "  File \"C:\\Users\\BintuLabUser\\anaconda3\\envs\\cellpose\\lib\\site-packages\\ipykernel\\eventloops.py\", line 126, in loop_qt5\n",
      "    return loop_qt4(kernel)\n",
      "  File \"C:\\Users\\BintuLabUser\\anaconda3\\envs\\cellpose\\lib\\site-packages\\ipykernel\\eventloops.py\", line 119, in loop_qt4\n",
      "    _loop_qt(kernel.app)\n",
      "  File \"C:\\Users\\BintuLabUser\\anaconda3\\envs\\cellpose\\lib\\site-packages\\ipykernel\\eventloops.py\", line 105, in _loop_qt\n",
      "    app.exec_()\n",
      "  File \"C:\\Users\\BintuLabUser\\anaconda3\\envs\\cellpose\\lib\\site-packages\\vispy\\app\\backends\\_qt.py\", line 567, in event\n",
      "    out = super(QtBaseCanvasBackend, self).event(ev)\n",
      "  File \"C:\\Users\\BintuLabUser\\anaconda3\\envs\\cellpose\\lib\\site-packages\\vispy\\app\\backends\\_qt.py\", line 532, in mouseMoveEvent\n",
      "    self._vispy_mouse_move(\n",
      "  File \"C:\\Users\\BintuLabUser\\anaconda3\\envs\\cellpose\\lib\\site-packages\\vispy\\app\\base.py\", line 216, in _vispy_mouse_move\n",
      "    ev = self._vispy_canvas.events.mouse_move(**kwargs)\n",
      "  File \"C:\\Users\\BintuLabUser\\anaconda3\\envs\\cellpose\\lib\\site-packages\\vispy\\util\\event.py\", line 453, in __call__\n",
      "    self._invoke_callback(cb, event)\n",
      "  File \"C:\\Users\\BintuLabUser\\anaconda3\\envs\\cellpose\\lib\\site-packages\\vispy\\util\\event.py\", line 469, in _invoke_callback\n",
      "    cb(event)\n",
      "  File \"C:\\Users\\BintuLabUser\\anaconda3\\envs\\cellpose\\lib\\site-packages\\napari\\_vispy\\canvas.py\", line 98, in _process_mouse_event\n",
      "    super()._process_mouse_event(event)\n",
      "  File \"C:\\Users\\BintuLabUser\\anaconda3\\envs\\cellpose\\lib\\site-packages\\vispy\\scene\\canvas.py\", line 369, in _process_mouse_event\n",
      "    getattr(picked.events, event.type)(scene_event)\n",
      "  File \"C:\\Users\\BintuLabUser\\anaconda3\\envs\\cellpose\\lib\\site-packages\\vispy\\util\\event.py\", line 453, in __call__\n",
      "    self._invoke_callback(cb, event)\n",
      "  File \"C:\\Users\\BintuLabUser\\anaconda3\\envs\\cellpose\\lib\\site-packages\\vispy\\util\\event.py\", line 471, in _invoke_callback\n",
      "    _handle_exception(self.ignore_callback_errors,\n",
      "  << caught exception here: >>\n",
      "  File \"C:\\Users\\BintuLabUser\\anaconda3\\envs\\cellpose\\lib\\site-packages\\vispy\\util\\event.py\", line 469, in _invoke_callback\n",
      "    cb(event)\n",
      "  File \"C:\\Users\\BintuLabUser\\anaconda3\\envs\\cellpose\\lib\\site-packages\\vispy\\scene\\cameras\\perspective.py\", line 227, in viewbox_mouse_event\n",
      "    self._update_rotation(event)\n",
      "  File \"C:\\Users\\BintuLabUser\\anaconda3\\envs\\cellpose\\lib\\site-packages\\vispy\\scene\\cameras\\arcball.py\", line 65, in _update_rotation\n",
      "    Quaternion(*_arcball(self._event_value, wh)) *\n",
      "  File \"C:\\Users\\BintuLabUser\\anaconda3\\envs\\cellpose\\lib\\site-packages\\vispy\\scene\\cameras\\arcball.py\", line 101, in _arcball\n",
      "    x, y = xy\n",
      "ValueError: too many values to unpack (expected 2)\n",
      "ERROR: Invoking <bound method Base3DRotationCamera.viewbox_mouse_event of <ArcballCamera at 0x253caf3aa90>> for SceneMouseEvent\n",
      "ERROR:vispy:Invoking <bound method Base3DRotationCamera.viewbox_mouse_event of <ArcballCamera at 0x253caf3aa90>> for SceneMouseEvent\n",
      "WARNING: Traceback (most recent call last):\n",
      "  File \"C:\\Users\\BintuLabUser\\anaconda3\\envs\\cellpose\\lib\\runpy.py\", line 197, in _run_module_as_main\n",
      "    return _run_code(code, main_globals, None,\n",
      "  File \"C:\\Users\\BintuLabUser\\anaconda3\\envs\\cellpose\\lib\\runpy.py\", line 87, in _run_code\n",
      "    exec(code, run_globals)\n",
      "  File \"C:\\Users\\BintuLabUser\\anaconda3\\envs\\cellpose\\lib\\site-packages\\ipykernel_launcher.py\", line 16, in <module>\n",
      "    app.launch_new_instance()\n",
      "  File \"C:\\Users\\BintuLabUser\\anaconda3\\envs\\cellpose\\lib\\site-packages\\traitlets\\config\\application.py\", line 846, in launch_instance\n",
      "    app.start()\n",
      "  File \"C:\\Users\\BintuLabUser\\anaconda3\\envs\\cellpose\\lib\\site-packages\\ipykernel\\kernelapp.py\", line 677, in start\n",
      "    self.io_loop.start()\n",
      "  File \"C:\\Users\\BintuLabUser\\anaconda3\\envs\\cellpose\\lib\\site-packages\\tornado\\platform\\asyncio.py\", line 199, in start\n",
      "    self.asyncio_loop.run_forever()\n",
      "  File \"C:\\Users\\BintuLabUser\\anaconda3\\envs\\cellpose\\lib\\asyncio\\base_events.py\", line 596, in run_forever\n",
      "    self._run_once()\n",
      "  File \"C:\\Users\\BintuLabUser\\anaconda3\\envs\\cellpose\\lib\\asyncio\\base_events.py\", line 1890, in _run_once\n",
      "    handle._run()\n",
      "  File \"C:\\Users\\BintuLabUser\\anaconda3\\envs\\cellpose\\lib\\asyncio\\events.py\", line 80, in _run\n",
      "    self._context.run(self._callback, *self._args)\n",
      "  File \"C:\\Users\\BintuLabUser\\anaconda3\\envs\\cellpose\\lib\\site-packages\\tornado\\ioloop.py\", line 741, in _run_callback\n",
      "    ret = callback()\n",
      "  File \"C:\\Users\\BintuLabUser\\anaconda3\\envs\\cellpose\\lib\\site-packages\\ipykernel\\kernelbase.py\", line 402, in advance_eventloop\n",
      "    eventloop(self)\n",
      "  File \"C:\\Users\\BintuLabUser\\anaconda3\\envs\\cellpose\\lib\\site-packages\\ipykernel\\eventloops.py\", line 126, in loop_qt5\n",
      "    return loop_qt4(kernel)\n",
      "  File \"C:\\Users\\BintuLabUser\\anaconda3\\envs\\cellpose\\lib\\site-packages\\ipykernel\\eventloops.py\", line 119, in loop_qt4\n",
      "    _loop_qt(kernel.app)\n",
      "  File \"C:\\Users\\BintuLabUser\\anaconda3\\envs\\cellpose\\lib\\site-packages\\ipykernel\\eventloops.py\", line 105, in _loop_qt\n",
      "    app.exec_()\n",
      "  File \"C:\\Users\\BintuLabUser\\anaconda3\\envs\\cellpose\\lib\\site-packages\\vispy\\app\\backends\\_qt.py\", line 567, in event\n",
      "    out = super(QtBaseCanvasBackend, self).event(ev)\n",
      "  File \"C:\\Users\\BintuLabUser\\anaconda3\\envs\\cellpose\\lib\\site-packages\\vispy\\app\\backends\\_qt.py\", line 532, in mouseMoveEvent\n",
      "    self._vispy_mouse_move(\n",
      "  File \"C:\\Users\\BintuLabUser\\anaconda3\\envs\\cellpose\\lib\\site-packages\\vispy\\app\\base.py\", line 216, in _vispy_mouse_move\n",
      "    ev = self._vispy_canvas.events.mouse_move(**kwargs)\n",
      "  File \"C:\\Users\\BintuLabUser\\anaconda3\\envs\\cellpose\\lib\\site-packages\\vispy\\util\\event.py\", line 453, in __call__\n",
      "    self._invoke_callback(cb, event)\n",
      "  File \"C:\\Users\\BintuLabUser\\anaconda3\\envs\\cellpose\\lib\\site-packages\\vispy\\util\\event.py\", line 469, in _invoke_callback\n",
      "    cb(event)\n",
      "  File \"C:\\Users\\BintuLabUser\\anaconda3\\envs\\cellpose\\lib\\site-packages\\napari\\_vispy\\canvas.py\", line 98, in _process_mouse_event\n",
      "    super()._process_mouse_event(event)\n",
      "  File \"C:\\Users\\BintuLabUser\\anaconda3\\envs\\cellpose\\lib\\site-packages\\vispy\\scene\\canvas.py\", line 369, in _process_mouse_event\n",
      "    getattr(picked.events, event.type)(scene_event)\n",
      "  File \"C:\\Users\\BintuLabUser\\anaconda3\\envs\\cellpose\\lib\\site-packages\\vispy\\util\\event.py\", line 453, in __call__\n",
      "    self._invoke_callback(cb, event)\n",
      "  File \"C:\\Users\\BintuLabUser\\anaconda3\\envs\\cellpose\\lib\\site-packages\\vispy\\util\\event.py\", line 471, in _invoke_callback\n",
      "    _handle_exception(self.ignore_callback_errors,\n",
      "  << caught exception here: >>\n",
      "  File \"C:\\Users\\BintuLabUser\\anaconda3\\envs\\cellpose\\lib\\site-packages\\vispy\\util\\event.py\", line 469, in _invoke_callback\n",
      "    cb(event)\n",
      "  File \"C:\\Users\\BintuLabUser\\anaconda3\\envs\\cellpose\\lib\\site-packages\\vispy\\scene\\cameras\\perspective.py\", line 227, in viewbox_mouse_event\n",
      "    self._update_rotation(event)\n",
      "  File \"C:\\Users\\BintuLabUser\\anaconda3\\envs\\cellpose\\lib\\site-packages\\vispy\\scene\\cameras\\arcball.py\", line 65, in _update_rotation\n",
      "    Quaternion(*_arcball(self._event_value, wh)) *\n",
      "  File \"C:\\Users\\BintuLabUser\\anaconda3\\envs\\cellpose\\lib\\site-packages\\vispy\\scene\\cameras\\arcball.py\", line 101, in _arcball\n",
      "    x, y = xy\n",
      "ValueError: too many values to unpack (expected 2)\n",
      "WARNING:vispy:Traceback (most recent call last):\n",
      "  File \"C:\\Users\\BintuLabUser\\anaconda3\\envs\\cellpose\\lib\\runpy.py\", line 197, in _run_module_as_main\n",
      "    return _run_code(code, main_globals, None,\n",
      "  File \"C:\\Users\\BintuLabUser\\anaconda3\\envs\\cellpose\\lib\\runpy.py\", line 87, in _run_code\n",
      "    exec(code, run_globals)\n",
      "  File \"C:\\Users\\BintuLabUser\\anaconda3\\envs\\cellpose\\lib\\site-packages\\ipykernel_launcher.py\", line 16, in <module>\n",
      "    app.launch_new_instance()\n",
      "  File \"C:\\Users\\BintuLabUser\\anaconda3\\envs\\cellpose\\lib\\site-packages\\traitlets\\config\\application.py\", line 846, in launch_instance\n",
      "    app.start()\n",
      "  File \"C:\\Users\\BintuLabUser\\anaconda3\\envs\\cellpose\\lib\\site-packages\\ipykernel\\kernelapp.py\", line 677, in start\n",
      "    self.io_loop.start()\n",
      "  File \"C:\\Users\\BintuLabUser\\anaconda3\\envs\\cellpose\\lib\\site-packages\\tornado\\platform\\asyncio.py\", line 199, in start\n",
      "    self.asyncio_loop.run_forever()\n",
      "  File \"C:\\Users\\BintuLabUser\\anaconda3\\envs\\cellpose\\lib\\asyncio\\base_events.py\", line 596, in run_forever\n",
      "    self._run_once()\n",
      "  File \"C:\\Users\\BintuLabUser\\anaconda3\\envs\\cellpose\\lib\\asyncio\\base_events.py\", line 1890, in _run_once\n",
      "    handle._run()\n",
      "  File \"C:\\Users\\BintuLabUser\\anaconda3\\envs\\cellpose\\lib\\asyncio\\events.py\", line 80, in _run\n",
      "    self._context.run(self._callback, *self._args)\n",
      "  File \"C:\\Users\\BintuLabUser\\anaconda3\\envs\\cellpose\\lib\\site-packages\\tornado\\ioloop.py\", line 741, in _run_callback\n",
      "    ret = callback()\n",
      "  File \"C:\\Users\\BintuLabUser\\anaconda3\\envs\\cellpose\\lib\\site-packages\\ipykernel\\kernelbase.py\", line 402, in advance_eventloop\n",
      "    eventloop(self)\n",
      "  File \"C:\\Users\\BintuLabUser\\anaconda3\\envs\\cellpose\\lib\\site-packages\\ipykernel\\eventloops.py\", line 126, in loop_qt5\n",
      "    return loop_qt4(kernel)\n",
      "  File \"C:\\Users\\BintuLabUser\\anaconda3\\envs\\cellpose\\lib\\site-packages\\ipykernel\\eventloops.py\", line 119, in loop_qt4\n",
      "    _loop_qt(kernel.app)\n",
      "  File \"C:\\Users\\BintuLabUser\\anaconda3\\envs\\cellpose\\lib\\site-packages\\ipykernel\\eventloops.py\", line 105, in _loop_qt\n",
      "    app.exec_()\n",
      "  File \"C:\\Users\\BintuLabUser\\anaconda3\\envs\\cellpose\\lib\\site-packages\\vispy\\app\\backends\\_qt.py\", line 567, in event\n",
      "    out = super(QtBaseCanvasBackend, self).event(ev)\n",
      "  File \"C:\\Users\\BintuLabUser\\anaconda3\\envs\\cellpose\\lib\\site-packages\\vispy\\app\\backends\\_qt.py\", line 532, in mouseMoveEvent\n",
      "    self._vispy_mouse_move(\n",
      "  File \"C:\\Users\\BintuLabUser\\anaconda3\\envs\\cellpose\\lib\\site-packages\\vispy\\app\\base.py\", line 216, in _vispy_mouse_move\n",
      "    ev = self._vispy_canvas.events.mouse_move(**kwargs)\n",
      "  File \"C:\\Users\\BintuLabUser\\anaconda3\\envs\\cellpose\\lib\\site-packages\\vispy\\util\\event.py\", line 453, in __call__\n",
      "    self._invoke_callback(cb, event)\n",
      "  File \"C:\\Users\\BintuLabUser\\anaconda3\\envs\\cellpose\\lib\\site-packages\\vispy\\util\\event.py\", line 469, in _invoke_callback\n",
      "    cb(event)\n",
      "  File \"C:\\Users\\BintuLabUser\\anaconda3\\envs\\cellpose\\lib\\site-packages\\napari\\_vispy\\canvas.py\", line 98, in _process_mouse_event\n",
      "    super()._process_mouse_event(event)\n",
      "  File \"C:\\Users\\BintuLabUser\\anaconda3\\envs\\cellpose\\lib\\site-packages\\vispy\\scene\\canvas.py\", line 369, in _process_mouse_event\n",
      "    getattr(picked.events, event.type)(scene_event)\n",
      "  File \"C:\\Users\\BintuLabUser\\anaconda3\\envs\\cellpose\\lib\\site-packages\\vispy\\util\\event.py\", line 453, in __call__\n",
      "    self._invoke_callback(cb, event)\n",
      "  File \"C:\\Users\\BintuLabUser\\anaconda3\\envs\\cellpose\\lib\\site-packages\\vispy\\util\\event.py\", line 471, in _invoke_callback\n",
      "    _handle_exception(self.ignore_callback_errors,\n",
      "  << caught exception here: >>\n",
      "  File \"C:\\Users\\BintuLabUser\\anaconda3\\envs\\cellpose\\lib\\site-packages\\vispy\\util\\event.py\", line 469, in _invoke_callback\n",
      "    cb(event)\n",
      "  File \"C:\\Users\\BintuLabUser\\anaconda3\\envs\\cellpose\\lib\\site-packages\\vispy\\scene\\cameras\\perspective.py\", line 227, in viewbox_mouse_event\n",
      "    self._update_rotation(event)\n",
      "  File \"C:\\Users\\BintuLabUser\\anaconda3\\envs\\cellpose\\lib\\site-packages\\vispy\\scene\\cameras\\arcball.py\", line 65, in _update_rotation\n",
      "    Quaternion(*_arcball(self._event_value, wh)) *\n",
      "  File \"C:\\Users\\BintuLabUser\\anaconda3\\envs\\cellpose\\lib\\site-packages\\vispy\\scene\\cameras\\arcball.py\", line 101, in _arcball\n",
      "    x, y = xy\n",
      "ValueError: too many values to unpack (expected 2)\n",
      "ERROR: Invoking <bound method Base3DRotationCamera.viewbox_mouse_event of <ArcballCamera at 0x253caf3aa90>> for SceneMouseEvent\n",
      "ERROR:vispy:Invoking <bound method Base3DRotationCamera.viewbox_mouse_event of <ArcballCamera at 0x253caf3aa90>> for SceneMouseEvent\n",
      "WARNING: Traceback (most recent call last):\n",
      "  File \"C:\\Users\\BintuLabUser\\anaconda3\\envs\\cellpose\\lib\\runpy.py\", line 197, in _run_module_as_main\n",
      "    return _run_code(code, main_globals, None,\n",
      "  File \"C:\\Users\\BintuLabUser\\anaconda3\\envs\\cellpose\\lib\\runpy.py\", line 87, in _run_code\n",
      "    exec(code, run_globals)\n",
      "  File \"C:\\Users\\BintuLabUser\\anaconda3\\envs\\cellpose\\lib\\site-packages\\ipykernel_launcher.py\", line 16, in <module>\n",
      "    app.launch_new_instance()\n",
      "  File \"C:\\Users\\BintuLabUser\\anaconda3\\envs\\cellpose\\lib\\site-packages\\traitlets\\config\\application.py\", line 846, in launch_instance\n",
      "    app.start()\n",
      "  File \"C:\\Users\\BintuLabUser\\anaconda3\\envs\\cellpose\\lib\\site-packages\\ipykernel\\kernelapp.py\", line 677, in start\n",
      "    self.io_loop.start()\n",
      "  File \"C:\\Users\\BintuLabUser\\anaconda3\\envs\\cellpose\\lib\\site-packages\\tornado\\platform\\asyncio.py\", line 199, in start\n",
      "    self.asyncio_loop.run_forever()\n",
      "  File \"C:\\Users\\BintuLabUser\\anaconda3\\envs\\cellpose\\lib\\asyncio\\base_events.py\", line 596, in run_forever\n",
      "    self._run_once()\n",
      "  File \"C:\\Users\\BintuLabUser\\anaconda3\\envs\\cellpose\\lib\\asyncio\\base_events.py\", line 1890, in _run_once\n",
      "    handle._run()\n",
      "  File \"C:\\Users\\BintuLabUser\\anaconda3\\envs\\cellpose\\lib\\asyncio\\events.py\", line 80, in _run\n",
      "    self._context.run(self._callback, *self._args)\n",
      "  File \"C:\\Users\\BintuLabUser\\anaconda3\\envs\\cellpose\\lib\\site-packages\\tornado\\ioloop.py\", line 741, in _run_callback\n",
      "    ret = callback()\n",
      "  File \"C:\\Users\\BintuLabUser\\anaconda3\\envs\\cellpose\\lib\\site-packages\\ipykernel\\kernelbase.py\", line 402, in advance_eventloop\n",
      "    eventloop(self)\n",
      "  File \"C:\\Users\\BintuLabUser\\anaconda3\\envs\\cellpose\\lib\\site-packages\\ipykernel\\eventloops.py\", line 126, in loop_qt5\n",
      "    return loop_qt4(kernel)\n",
      "  File \"C:\\Users\\BintuLabUser\\anaconda3\\envs\\cellpose\\lib\\site-packages\\ipykernel\\eventloops.py\", line 119, in loop_qt4\n",
      "    _loop_qt(kernel.app)\n",
      "  File \"C:\\Users\\BintuLabUser\\anaconda3\\envs\\cellpose\\lib\\site-packages\\ipykernel\\eventloops.py\", line 105, in _loop_qt\n",
      "    app.exec_()\n",
      "  File \"C:\\Users\\BintuLabUser\\anaconda3\\envs\\cellpose\\lib\\site-packages\\vispy\\app\\backends\\_qt.py\", line 567, in event\n",
      "    out = super(QtBaseCanvasBackend, self).event(ev)\n",
      "  File \"C:\\Users\\BintuLabUser\\anaconda3\\envs\\cellpose\\lib\\site-packages\\vispy\\app\\backends\\_qt.py\", line 532, in mouseMoveEvent\n",
      "    self._vispy_mouse_move(\n",
      "  File \"C:\\Users\\BintuLabUser\\anaconda3\\envs\\cellpose\\lib\\site-packages\\vispy\\app\\base.py\", line 216, in _vispy_mouse_move\n",
      "    ev = self._vispy_canvas.events.mouse_move(**kwargs)\n",
      "  File \"C:\\Users\\BintuLabUser\\anaconda3\\envs\\cellpose\\lib\\site-packages\\vispy\\util\\event.py\", line 453, in __call__\n",
      "    self._invoke_callback(cb, event)\n",
      "  File \"C:\\Users\\BintuLabUser\\anaconda3\\envs\\cellpose\\lib\\site-packages\\vispy\\util\\event.py\", line 469, in _invoke_callback\n",
      "    cb(event)\n",
      "  File \"C:\\Users\\BintuLabUser\\anaconda3\\envs\\cellpose\\lib\\site-packages\\napari\\_vispy\\canvas.py\", line 98, in _process_mouse_event\n",
      "    super()._process_mouse_event(event)\n",
      "  File \"C:\\Users\\BintuLabUser\\anaconda3\\envs\\cellpose\\lib\\site-packages\\vispy\\scene\\canvas.py\", line 369, in _process_mouse_event\n",
      "    getattr(picked.events, event.type)(scene_event)\n",
      "  File \"C:\\Users\\BintuLabUser\\anaconda3\\envs\\cellpose\\lib\\site-packages\\vispy\\util\\event.py\", line 453, in __call__\n",
      "    self._invoke_callback(cb, event)\n",
      "  File \"C:\\Users\\BintuLabUser\\anaconda3\\envs\\cellpose\\lib\\site-packages\\vispy\\util\\event.py\", line 471, in _invoke_callback\n",
      "    _handle_exception(self.ignore_callback_errors,\n",
      "  << caught exception here: >>\n",
      "  File \"C:\\Users\\BintuLabUser\\anaconda3\\envs\\cellpose\\lib\\site-packages\\vispy\\util\\event.py\", line 469, in _invoke_callback\n",
      "    cb(event)\n",
      "  File \"C:\\Users\\BintuLabUser\\anaconda3\\envs\\cellpose\\lib\\site-packages\\vispy\\scene\\cameras\\perspective.py\", line 227, in viewbox_mouse_event\n",
      "    self._update_rotation(event)\n",
      "  File \"C:\\Users\\BintuLabUser\\anaconda3\\envs\\cellpose\\lib\\site-packages\\vispy\\scene\\cameras\\arcball.py\", line 65, in _update_rotation\n",
      "    Quaternion(*_arcball(self._event_value, wh)) *\n",
      "  File \"C:\\Users\\BintuLabUser\\anaconda3\\envs\\cellpose\\lib\\site-packages\\vispy\\scene\\cameras\\arcball.py\", line 101, in _arcball\n",
      "    x, y = xy\n",
      "ValueError: too many values to unpack (expected 2)\n",
      "WARNING:vispy:Traceback (most recent call last):\n",
      "  File \"C:\\Users\\BintuLabUser\\anaconda3\\envs\\cellpose\\lib\\runpy.py\", line 197, in _run_module_as_main\n",
      "    return _run_code(code, main_globals, None,\n",
      "  File \"C:\\Users\\BintuLabUser\\anaconda3\\envs\\cellpose\\lib\\runpy.py\", line 87, in _run_code\n",
      "    exec(code, run_globals)\n",
      "  File \"C:\\Users\\BintuLabUser\\anaconda3\\envs\\cellpose\\lib\\site-packages\\ipykernel_launcher.py\", line 16, in <module>\n",
      "    app.launch_new_instance()\n",
      "  File \"C:\\Users\\BintuLabUser\\anaconda3\\envs\\cellpose\\lib\\site-packages\\traitlets\\config\\application.py\", line 846, in launch_instance\n",
      "    app.start()\n",
      "  File \"C:\\Users\\BintuLabUser\\anaconda3\\envs\\cellpose\\lib\\site-packages\\ipykernel\\kernelapp.py\", line 677, in start\n",
      "    self.io_loop.start()\n",
      "  File \"C:\\Users\\BintuLabUser\\anaconda3\\envs\\cellpose\\lib\\site-packages\\tornado\\platform\\asyncio.py\", line 199, in start\n",
      "    self.asyncio_loop.run_forever()\n",
      "  File \"C:\\Users\\BintuLabUser\\anaconda3\\envs\\cellpose\\lib\\asyncio\\base_events.py\", line 596, in run_forever\n",
      "    self._run_once()\n",
      "  File \"C:\\Users\\BintuLabUser\\anaconda3\\envs\\cellpose\\lib\\asyncio\\base_events.py\", line 1890, in _run_once\n",
      "    handle._run()\n",
      "  File \"C:\\Users\\BintuLabUser\\anaconda3\\envs\\cellpose\\lib\\asyncio\\events.py\", line 80, in _run\n",
      "    self._context.run(self._callback, *self._args)\n",
      "  File \"C:\\Users\\BintuLabUser\\anaconda3\\envs\\cellpose\\lib\\site-packages\\tornado\\ioloop.py\", line 741, in _run_callback\n",
      "    ret = callback()\n",
      "  File \"C:\\Users\\BintuLabUser\\anaconda3\\envs\\cellpose\\lib\\site-packages\\ipykernel\\kernelbase.py\", line 402, in advance_eventloop\n",
      "    eventloop(self)\n",
      "  File \"C:\\Users\\BintuLabUser\\anaconda3\\envs\\cellpose\\lib\\site-packages\\ipykernel\\eventloops.py\", line 126, in loop_qt5\n",
      "    return loop_qt4(kernel)\n",
      "  File \"C:\\Users\\BintuLabUser\\anaconda3\\envs\\cellpose\\lib\\site-packages\\ipykernel\\eventloops.py\", line 119, in loop_qt4\n",
      "    _loop_qt(kernel.app)\n",
      "  File \"C:\\Users\\BintuLabUser\\anaconda3\\envs\\cellpose\\lib\\site-packages\\ipykernel\\eventloops.py\", line 105, in _loop_qt\n",
      "    app.exec_()\n",
      "  File \"C:\\Users\\BintuLabUser\\anaconda3\\envs\\cellpose\\lib\\site-packages\\vispy\\app\\backends\\_qt.py\", line 567, in event\n",
      "    out = super(QtBaseCanvasBackend, self).event(ev)\n",
      "  File \"C:\\Users\\BintuLabUser\\anaconda3\\envs\\cellpose\\lib\\site-packages\\vispy\\app\\backends\\_qt.py\", line 532, in mouseMoveEvent\n",
      "    self._vispy_mouse_move(\n",
      "  File \"C:\\Users\\BintuLabUser\\anaconda3\\envs\\cellpose\\lib\\site-packages\\vispy\\app\\base.py\", line 216, in _vispy_mouse_move\n",
      "    ev = self._vispy_canvas.events.mouse_move(**kwargs)\n",
      "  File \"C:\\Users\\BintuLabUser\\anaconda3\\envs\\cellpose\\lib\\site-packages\\vispy\\util\\event.py\", line 453, in __call__\n",
      "    self._invoke_callback(cb, event)\n",
      "  File \"C:\\Users\\BintuLabUser\\anaconda3\\envs\\cellpose\\lib\\site-packages\\vispy\\util\\event.py\", line 469, in _invoke_callback\n",
      "    cb(event)\n",
      "  File \"C:\\Users\\BintuLabUser\\anaconda3\\envs\\cellpose\\lib\\site-packages\\napari\\_vispy\\canvas.py\", line 98, in _process_mouse_event\n",
      "    super()._process_mouse_event(event)\n",
      "  File \"C:\\Users\\BintuLabUser\\anaconda3\\envs\\cellpose\\lib\\site-packages\\vispy\\scene\\canvas.py\", line 369, in _process_mouse_event\n",
      "    getattr(picked.events, event.type)(scene_event)\n",
      "  File \"C:\\Users\\BintuLabUser\\anaconda3\\envs\\cellpose\\lib\\site-packages\\vispy\\util\\event.py\", line 453, in __call__\n",
      "    self._invoke_callback(cb, event)\n",
      "  File \"C:\\Users\\BintuLabUser\\anaconda3\\envs\\cellpose\\lib\\site-packages\\vispy\\util\\event.py\", line 471, in _invoke_callback\n",
      "    _handle_exception(self.ignore_callback_errors,\n",
      "  << caught exception here: >>\n",
      "  File \"C:\\Users\\BintuLabUser\\anaconda3\\envs\\cellpose\\lib\\site-packages\\vispy\\util\\event.py\", line 469, in _invoke_callback\n",
      "    cb(event)\n",
      "  File \"C:\\Users\\BintuLabUser\\anaconda3\\envs\\cellpose\\lib\\site-packages\\vispy\\scene\\cameras\\perspective.py\", line 227, in viewbox_mouse_event\n",
      "    self._update_rotation(event)\n",
      "  File \"C:\\Users\\BintuLabUser\\anaconda3\\envs\\cellpose\\lib\\site-packages\\vispy\\scene\\cameras\\arcball.py\", line 65, in _update_rotation\n",
      "    Quaternion(*_arcball(self._event_value, wh)) *\n",
      "  File \"C:\\Users\\BintuLabUser\\anaconda3\\envs\\cellpose\\lib\\site-packages\\vispy\\scene\\cameras\\arcball.py\", line 101, in _arcball\n",
      "    x, y = xy\n",
      "ValueError: too many values to unpack (expected 2)\n",
      "ERROR: Invoking <bound method Base3DRotationCamera.viewbox_mouse_event of <ArcballCamera at 0x253caf3aa90>> for SceneMouseEvent\n",
      "ERROR:vispy:Invoking <bound method Base3DRotationCamera.viewbox_mouse_event of <ArcballCamera at 0x253caf3aa90>> for SceneMouseEvent\n",
      "WARNING: Traceback (most recent call last):\n",
      "  File \"C:\\Users\\BintuLabUser\\anaconda3\\envs\\cellpose\\lib\\runpy.py\", line 197, in _run_module_as_main\n",
      "    return _run_code(code, main_globals, None,\n",
      "  File \"C:\\Users\\BintuLabUser\\anaconda3\\envs\\cellpose\\lib\\runpy.py\", line 87, in _run_code\n",
      "    exec(code, run_globals)\n",
      "  File \"C:\\Users\\BintuLabUser\\anaconda3\\envs\\cellpose\\lib\\site-packages\\ipykernel_launcher.py\", line 16, in <module>\n",
      "    app.launch_new_instance()\n",
      "  File \"C:\\Users\\BintuLabUser\\anaconda3\\envs\\cellpose\\lib\\site-packages\\traitlets\\config\\application.py\", line 846, in launch_instance\n",
      "    app.start()\n",
      "  File \"C:\\Users\\BintuLabUser\\anaconda3\\envs\\cellpose\\lib\\site-packages\\ipykernel\\kernelapp.py\", line 677, in start\n",
      "    self.io_loop.start()\n",
      "  File \"C:\\Users\\BintuLabUser\\anaconda3\\envs\\cellpose\\lib\\site-packages\\tornado\\platform\\asyncio.py\", line 199, in start\n",
      "    self.asyncio_loop.run_forever()\n",
      "  File \"C:\\Users\\BintuLabUser\\anaconda3\\envs\\cellpose\\lib\\asyncio\\base_events.py\", line 596, in run_forever\n",
      "    self._run_once()\n",
      "  File \"C:\\Users\\BintuLabUser\\anaconda3\\envs\\cellpose\\lib\\asyncio\\base_events.py\", line 1890, in _run_once\n",
      "    handle._run()\n",
      "  File \"C:\\Users\\BintuLabUser\\anaconda3\\envs\\cellpose\\lib\\asyncio\\events.py\", line 80, in _run\n",
      "    self._context.run(self._callback, *self._args)\n",
      "  File \"C:\\Users\\BintuLabUser\\anaconda3\\envs\\cellpose\\lib\\site-packages\\tornado\\ioloop.py\", line 741, in _run_callback\n",
      "    ret = callback()\n",
      "  File \"C:\\Users\\BintuLabUser\\anaconda3\\envs\\cellpose\\lib\\site-packages\\ipykernel\\kernelbase.py\", line 402, in advance_eventloop\n",
      "    eventloop(self)\n",
      "  File \"C:\\Users\\BintuLabUser\\anaconda3\\envs\\cellpose\\lib\\site-packages\\ipykernel\\eventloops.py\", line 126, in loop_qt5\n",
      "    return loop_qt4(kernel)\n",
      "  File \"C:\\Users\\BintuLabUser\\anaconda3\\envs\\cellpose\\lib\\site-packages\\ipykernel\\eventloops.py\", line 119, in loop_qt4\n",
      "    _loop_qt(kernel.app)\n",
      "  File \"C:\\Users\\BintuLabUser\\anaconda3\\envs\\cellpose\\lib\\site-packages\\ipykernel\\eventloops.py\", line 105, in _loop_qt\n",
      "    app.exec_()\n",
      "  File \"C:\\Users\\BintuLabUser\\anaconda3\\envs\\cellpose\\lib\\site-packages\\vispy\\app\\backends\\_qt.py\", line 567, in event\n",
      "    out = super(QtBaseCanvasBackend, self).event(ev)\n",
      "  File \"C:\\Users\\BintuLabUser\\anaconda3\\envs\\cellpose\\lib\\site-packages\\vispy\\app\\backends\\_qt.py\", line 532, in mouseMoveEvent\n",
      "    self._vispy_mouse_move(\n",
      "  File \"C:\\Users\\BintuLabUser\\anaconda3\\envs\\cellpose\\lib\\site-packages\\vispy\\app\\base.py\", line 216, in _vispy_mouse_move\n",
      "    ev = self._vispy_canvas.events.mouse_move(**kwargs)\n",
      "  File \"C:\\Users\\BintuLabUser\\anaconda3\\envs\\cellpose\\lib\\site-packages\\vispy\\util\\event.py\", line 453, in __call__\n",
      "    self._invoke_callback(cb, event)\n",
      "  File \"C:\\Users\\BintuLabUser\\anaconda3\\envs\\cellpose\\lib\\site-packages\\vispy\\util\\event.py\", line 469, in _invoke_callback\n",
      "    cb(event)\n",
      "  File \"C:\\Users\\BintuLabUser\\anaconda3\\envs\\cellpose\\lib\\site-packages\\napari\\_vispy\\canvas.py\", line 98, in _process_mouse_event\n",
      "    super()._process_mouse_event(event)\n",
      "  File \"C:\\Users\\BintuLabUser\\anaconda3\\envs\\cellpose\\lib\\site-packages\\vispy\\scene\\canvas.py\", line 369, in _process_mouse_event\n",
      "    getattr(picked.events, event.type)(scene_event)\n",
      "  File \"C:\\Users\\BintuLabUser\\anaconda3\\envs\\cellpose\\lib\\site-packages\\vispy\\util\\event.py\", line 453, in __call__\n",
      "    self._invoke_callback(cb, event)\n",
      "  File \"C:\\Users\\BintuLabUser\\anaconda3\\envs\\cellpose\\lib\\site-packages\\vispy\\util\\event.py\", line 471, in _invoke_callback\n",
      "    _handle_exception(self.ignore_callback_errors,\n",
      "  << caught exception here: >>\n",
      "  File \"C:\\Users\\BintuLabUser\\anaconda3\\envs\\cellpose\\lib\\site-packages\\vispy\\util\\event.py\", line 469, in _invoke_callback\n",
      "    cb(event)\n",
      "  File \"C:\\Users\\BintuLabUser\\anaconda3\\envs\\cellpose\\lib\\site-packages\\vispy\\scene\\cameras\\perspective.py\", line 227, in viewbox_mouse_event\n",
      "    self._update_rotation(event)\n",
      "  File \"C:\\Users\\BintuLabUser\\anaconda3\\envs\\cellpose\\lib\\site-packages\\vispy\\scene\\cameras\\arcball.py\", line 65, in _update_rotation\n",
      "    Quaternion(*_arcball(self._event_value, wh)) *\n",
      "  File \"C:\\Users\\BintuLabUser\\anaconda3\\envs\\cellpose\\lib\\site-packages\\vispy\\scene\\cameras\\arcball.py\", line 101, in _arcball\n",
      "    x, y = xy\n",
      "ValueError: too many values to unpack (expected 2)\n",
      "WARNING:vispy:Traceback (most recent call last):\n",
      "  File \"C:\\Users\\BintuLabUser\\anaconda3\\envs\\cellpose\\lib\\runpy.py\", line 197, in _run_module_as_main\n",
      "    return _run_code(code, main_globals, None,\n",
      "  File \"C:\\Users\\BintuLabUser\\anaconda3\\envs\\cellpose\\lib\\runpy.py\", line 87, in _run_code\n",
      "    exec(code, run_globals)\n",
      "  File \"C:\\Users\\BintuLabUser\\anaconda3\\envs\\cellpose\\lib\\site-packages\\ipykernel_launcher.py\", line 16, in <module>\n",
      "    app.launch_new_instance()\n",
      "  File \"C:\\Users\\BintuLabUser\\anaconda3\\envs\\cellpose\\lib\\site-packages\\traitlets\\config\\application.py\", line 846, in launch_instance\n",
      "    app.start()\n",
      "  File \"C:\\Users\\BintuLabUser\\anaconda3\\envs\\cellpose\\lib\\site-packages\\ipykernel\\kernelapp.py\", line 677, in start\n",
      "    self.io_loop.start()\n",
      "  File \"C:\\Users\\BintuLabUser\\anaconda3\\envs\\cellpose\\lib\\site-packages\\tornado\\platform\\asyncio.py\", line 199, in start\n",
      "    self.asyncio_loop.run_forever()\n",
      "  File \"C:\\Users\\BintuLabUser\\anaconda3\\envs\\cellpose\\lib\\asyncio\\base_events.py\", line 596, in run_forever\n",
      "    self._run_once()\n",
      "  File \"C:\\Users\\BintuLabUser\\anaconda3\\envs\\cellpose\\lib\\asyncio\\base_events.py\", line 1890, in _run_once\n",
      "    handle._run()\n",
      "  File \"C:\\Users\\BintuLabUser\\anaconda3\\envs\\cellpose\\lib\\asyncio\\events.py\", line 80, in _run\n",
      "    self._context.run(self._callback, *self._args)\n",
      "  File \"C:\\Users\\BintuLabUser\\anaconda3\\envs\\cellpose\\lib\\site-packages\\tornado\\ioloop.py\", line 741, in _run_callback\n",
      "    ret = callback()\n",
      "  File \"C:\\Users\\BintuLabUser\\anaconda3\\envs\\cellpose\\lib\\site-packages\\ipykernel\\kernelbase.py\", line 402, in advance_eventloop\n",
      "    eventloop(self)\n",
      "  File \"C:\\Users\\BintuLabUser\\anaconda3\\envs\\cellpose\\lib\\site-packages\\ipykernel\\eventloops.py\", line 126, in loop_qt5\n",
      "    return loop_qt4(kernel)\n",
      "  File \"C:\\Users\\BintuLabUser\\anaconda3\\envs\\cellpose\\lib\\site-packages\\ipykernel\\eventloops.py\", line 119, in loop_qt4\n",
      "    _loop_qt(kernel.app)\n",
      "  File \"C:\\Users\\BintuLabUser\\anaconda3\\envs\\cellpose\\lib\\site-packages\\ipykernel\\eventloops.py\", line 105, in _loop_qt\n",
      "    app.exec_()\n",
      "  File \"C:\\Users\\BintuLabUser\\anaconda3\\envs\\cellpose\\lib\\site-packages\\vispy\\app\\backends\\_qt.py\", line 567, in event\n",
      "    out = super(QtBaseCanvasBackend, self).event(ev)\n",
      "  File \"C:\\Users\\BintuLabUser\\anaconda3\\envs\\cellpose\\lib\\site-packages\\vispy\\app\\backends\\_qt.py\", line 532, in mouseMoveEvent\n",
      "    self._vispy_mouse_move(\n",
      "  File \"C:\\Users\\BintuLabUser\\anaconda3\\envs\\cellpose\\lib\\site-packages\\vispy\\app\\base.py\", line 216, in _vispy_mouse_move\n",
      "    ev = self._vispy_canvas.events.mouse_move(**kwargs)\n",
      "  File \"C:\\Users\\BintuLabUser\\anaconda3\\envs\\cellpose\\lib\\site-packages\\vispy\\util\\event.py\", line 453, in __call__\n",
      "    self._invoke_callback(cb, event)\n",
      "  File \"C:\\Users\\BintuLabUser\\anaconda3\\envs\\cellpose\\lib\\site-packages\\vispy\\util\\event.py\", line 469, in _invoke_callback\n",
      "    cb(event)\n",
      "  File \"C:\\Users\\BintuLabUser\\anaconda3\\envs\\cellpose\\lib\\site-packages\\napari\\_vispy\\canvas.py\", line 98, in _process_mouse_event\n",
      "    super()._process_mouse_event(event)\n",
      "  File \"C:\\Users\\BintuLabUser\\anaconda3\\envs\\cellpose\\lib\\site-packages\\vispy\\scene\\canvas.py\", line 369, in _process_mouse_event\n",
      "    getattr(picked.events, event.type)(scene_event)\n",
      "  File \"C:\\Users\\BintuLabUser\\anaconda3\\envs\\cellpose\\lib\\site-packages\\vispy\\util\\event.py\", line 453, in __call__\n",
      "    self._invoke_callback(cb, event)\n",
      "  File \"C:\\Users\\BintuLabUser\\anaconda3\\envs\\cellpose\\lib\\site-packages\\vispy\\util\\event.py\", line 471, in _invoke_callback\n",
      "    _handle_exception(self.ignore_callback_errors,\n",
      "  << caught exception here: >>\n",
      "  File \"C:\\Users\\BintuLabUser\\anaconda3\\envs\\cellpose\\lib\\site-packages\\vispy\\util\\event.py\", line 469, in _invoke_callback\n",
      "    cb(event)\n",
      "  File \"C:\\Users\\BintuLabUser\\anaconda3\\envs\\cellpose\\lib\\site-packages\\vispy\\scene\\cameras\\perspective.py\", line 227, in viewbox_mouse_event\n",
      "    self._update_rotation(event)\n",
      "  File \"C:\\Users\\BintuLabUser\\anaconda3\\envs\\cellpose\\lib\\site-packages\\vispy\\scene\\cameras\\arcball.py\", line 65, in _update_rotation\n",
      "    Quaternion(*_arcball(self._event_value, wh)) *\n",
      "  File \"C:\\Users\\BintuLabUser\\anaconda3\\envs\\cellpose\\lib\\site-packages\\vispy\\scene\\cameras\\arcball.py\", line 101, in _arcball\n",
      "    x, y = xy\n",
      "ValueError: too many values to unpack (expected 2)\n",
      "ERROR: Invoking <bound method Base3DRotationCamera.viewbox_mouse_event of <ArcballCamera at 0x253caf3aa90>> for SceneMouseEvent\n",
      "ERROR:vispy:Invoking <bound method Base3DRotationCamera.viewbox_mouse_event of <ArcballCamera at 0x253caf3aa90>> for SceneMouseEvent\n",
      "WARNING: Traceback (most recent call last):\n",
      "  File \"C:\\Users\\BintuLabUser\\anaconda3\\envs\\cellpose\\lib\\runpy.py\", line 197, in _run_module_as_main\n",
      "    return _run_code(code, main_globals, None,\n",
      "  File \"C:\\Users\\BintuLabUser\\anaconda3\\envs\\cellpose\\lib\\runpy.py\", line 87, in _run_code\n",
      "    exec(code, run_globals)\n",
      "  File \"C:\\Users\\BintuLabUser\\anaconda3\\envs\\cellpose\\lib\\site-packages\\ipykernel_launcher.py\", line 16, in <module>\n",
      "    app.launch_new_instance()\n",
      "  File \"C:\\Users\\BintuLabUser\\anaconda3\\envs\\cellpose\\lib\\site-packages\\traitlets\\config\\application.py\", line 846, in launch_instance\n",
      "    app.start()\n",
      "  File \"C:\\Users\\BintuLabUser\\anaconda3\\envs\\cellpose\\lib\\site-packages\\ipykernel\\kernelapp.py\", line 677, in start\n",
      "    self.io_loop.start()\n",
      "  File \"C:\\Users\\BintuLabUser\\anaconda3\\envs\\cellpose\\lib\\site-packages\\tornado\\platform\\asyncio.py\", line 199, in start\n",
      "    self.asyncio_loop.run_forever()\n",
      "  File \"C:\\Users\\BintuLabUser\\anaconda3\\envs\\cellpose\\lib\\asyncio\\base_events.py\", line 596, in run_forever\n",
      "    self._run_once()\n",
      "  File \"C:\\Users\\BintuLabUser\\anaconda3\\envs\\cellpose\\lib\\asyncio\\base_events.py\", line 1890, in _run_once\n",
      "    handle._run()\n",
      "  File \"C:\\Users\\BintuLabUser\\anaconda3\\envs\\cellpose\\lib\\asyncio\\events.py\", line 80, in _run\n",
      "    self._context.run(self._callback, *self._args)\n",
      "  File \"C:\\Users\\BintuLabUser\\anaconda3\\envs\\cellpose\\lib\\site-packages\\tornado\\ioloop.py\", line 741, in _run_callback\n",
      "    ret = callback()\n",
      "  File \"C:\\Users\\BintuLabUser\\anaconda3\\envs\\cellpose\\lib\\site-packages\\ipykernel\\kernelbase.py\", line 402, in advance_eventloop\n",
      "    eventloop(self)\n",
      "  File \"C:\\Users\\BintuLabUser\\anaconda3\\envs\\cellpose\\lib\\site-packages\\ipykernel\\eventloops.py\", line 126, in loop_qt5\n",
      "    return loop_qt4(kernel)\n",
      "  File \"C:\\Users\\BintuLabUser\\anaconda3\\envs\\cellpose\\lib\\site-packages\\ipykernel\\eventloops.py\", line 119, in loop_qt4\n",
      "    _loop_qt(kernel.app)\n",
      "  File \"C:\\Users\\BintuLabUser\\anaconda3\\envs\\cellpose\\lib\\site-packages\\ipykernel\\eventloops.py\", line 105, in _loop_qt\n",
      "    app.exec_()\n",
      "  File \"C:\\Users\\BintuLabUser\\anaconda3\\envs\\cellpose\\lib\\site-packages\\vispy\\app\\backends\\_qt.py\", line 567, in event\n",
      "    out = super(QtBaseCanvasBackend, self).event(ev)\n",
      "  File \"C:\\Users\\BintuLabUser\\anaconda3\\envs\\cellpose\\lib\\site-packages\\vispy\\app\\backends\\_qt.py\", line 532, in mouseMoveEvent\n",
      "    self._vispy_mouse_move(\n",
      "  File \"C:\\Users\\BintuLabUser\\anaconda3\\envs\\cellpose\\lib\\site-packages\\vispy\\app\\base.py\", line 216, in _vispy_mouse_move\n",
      "    ev = self._vispy_canvas.events.mouse_move(**kwargs)\n",
      "  File \"C:\\Users\\BintuLabUser\\anaconda3\\envs\\cellpose\\lib\\site-packages\\vispy\\util\\event.py\", line 453, in __call__\n",
      "    self._invoke_callback(cb, event)\n",
      "  File \"C:\\Users\\BintuLabUser\\anaconda3\\envs\\cellpose\\lib\\site-packages\\vispy\\util\\event.py\", line 469, in _invoke_callback\n",
      "    cb(event)\n",
      "  File \"C:\\Users\\BintuLabUser\\anaconda3\\envs\\cellpose\\lib\\site-packages\\napari\\_vispy\\canvas.py\", line 98, in _process_mouse_event\n",
      "    super()._process_mouse_event(event)\n",
      "  File \"C:\\Users\\BintuLabUser\\anaconda3\\envs\\cellpose\\lib\\site-packages\\vispy\\scene\\canvas.py\", line 369, in _process_mouse_event\n",
      "    getattr(picked.events, event.type)(scene_event)\n",
      "  File \"C:\\Users\\BintuLabUser\\anaconda3\\envs\\cellpose\\lib\\site-packages\\vispy\\util\\event.py\", line 453, in __call__\n",
      "    self._invoke_callback(cb, event)\n",
      "  File \"C:\\Users\\BintuLabUser\\anaconda3\\envs\\cellpose\\lib\\site-packages\\vispy\\util\\event.py\", line 471, in _invoke_callback\n",
      "    _handle_exception(self.ignore_callback_errors,\n",
      "  << caught exception here: >>\n",
      "  File \"C:\\Users\\BintuLabUser\\anaconda3\\envs\\cellpose\\lib\\site-packages\\vispy\\util\\event.py\", line 469, in _invoke_callback\n",
      "    cb(event)\n",
      "  File \"C:\\Users\\BintuLabUser\\anaconda3\\envs\\cellpose\\lib\\site-packages\\vispy\\scene\\cameras\\perspective.py\", line 227, in viewbox_mouse_event\n",
      "    self._update_rotation(event)\n",
      "  File \"C:\\Users\\BintuLabUser\\anaconda3\\envs\\cellpose\\lib\\site-packages\\vispy\\scene\\cameras\\arcball.py\", line 65, in _update_rotation\n",
      "    Quaternion(*_arcball(self._event_value, wh)) *\n",
      "  File \"C:\\Users\\BintuLabUser\\anaconda3\\envs\\cellpose\\lib\\site-packages\\vispy\\scene\\cameras\\arcball.py\", line 101, in _arcball\n",
      "    x, y = xy\n",
      "ValueError: too many values to unpack (expected 2)\n",
      "WARNING:vispy:Traceback (most recent call last):\n",
      "  File \"C:\\Users\\BintuLabUser\\anaconda3\\envs\\cellpose\\lib\\runpy.py\", line 197, in _run_module_as_main\n",
      "    return _run_code(code, main_globals, None,\n",
      "  File \"C:\\Users\\BintuLabUser\\anaconda3\\envs\\cellpose\\lib\\runpy.py\", line 87, in _run_code\n",
      "    exec(code, run_globals)\n",
      "  File \"C:\\Users\\BintuLabUser\\anaconda3\\envs\\cellpose\\lib\\site-packages\\ipykernel_launcher.py\", line 16, in <module>\n",
      "    app.launch_new_instance()\n",
      "  File \"C:\\Users\\BintuLabUser\\anaconda3\\envs\\cellpose\\lib\\site-packages\\traitlets\\config\\application.py\", line 846, in launch_instance\n",
      "    app.start()\n",
      "  File \"C:\\Users\\BintuLabUser\\anaconda3\\envs\\cellpose\\lib\\site-packages\\ipykernel\\kernelapp.py\", line 677, in start\n",
      "    self.io_loop.start()\n",
      "  File \"C:\\Users\\BintuLabUser\\anaconda3\\envs\\cellpose\\lib\\site-packages\\tornado\\platform\\asyncio.py\", line 199, in start\n",
      "    self.asyncio_loop.run_forever()\n",
      "  File \"C:\\Users\\BintuLabUser\\anaconda3\\envs\\cellpose\\lib\\asyncio\\base_events.py\", line 596, in run_forever\n",
      "    self._run_once()\n",
      "  File \"C:\\Users\\BintuLabUser\\anaconda3\\envs\\cellpose\\lib\\asyncio\\base_events.py\", line 1890, in _run_once\n",
      "    handle._run()\n",
      "  File \"C:\\Users\\BintuLabUser\\anaconda3\\envs\\cellpose\\lib\\asyncio\\events.py\", line 80, in _run\n",
      "    self._context.run(self._callback, *self._args)\n",
      "  File \"C:\\Users\\BintuLabUser\\anaconda3\\envs\\cellpose\\lib\\site-packages\\tornado\\ioloop.py\", line 741, in _run_callback\n",
      "    ret = callback()\n",
      "  File \"C:\\Users\\BintuLabUser\\anaconda3\\envs\\cellpose\\lib\\site-packages\\ipykernel\\kernelbase.py\", line 402, in advance_eventloop\n",
      "    eventloop(self)\n",
      "  File \"C:\\Users\\BintuLabUser\\anaconda3\\envs\\cellpose\\lib\\site-packages\\ipykernel\\eventloops.py\", line 126, in loop_qt5\n",
      "    return loop_qt4(kernel)\n",
      "  File \"C:\\Users\\BintuLabUser\\anaconda3\\envs\\cellpose\\lib\\site-packages\\ipykernel\\eventloops.py\", line 119, in loop_qt4\n",
      "    _loop_qt(kernel.app)\n",
      "  File \"C:\\Users\\BintuLabUser\\anaconda3\\envs\\cellpose\\lib\\site-packages\\ipykernel\\eventloops.py\", line 105, in _loop_qt\n",
      "    app.exec_()\n",
      "  File \"C:\\Users\\BintuLabUser\\anaconda3\\envs\\cellpose\\lib\\site-packages\\vispy\\app\\backends\\_qt.py\", line 567, in event\n",
      "    out = super(QtBaseCanvasBackend, self).event(ev)\n",
      "  File \"C:\\Users\\BintuLabUser\\anaconda3\\envs\\cellpose\\lib\\site-packages\\vispy\\app\\backends\\_qt.py\", line 532, in mouseMoveEvent\n",
      "    self._vispy_mouse_move(\n",
      "  File \"C:\\Users\\BintuLabUser\\anaconda3\\envs\\cellpose\\lib\\site-packages\\vispy\\app\\base.py\", line 216, in _vispy_mouse_move\n",
      "    ev = self._vispy_canvas.events.mouse_move(**kwargs)\n",
      "  File \"C:\\Users\\BintuLabUser\\anaconda3\\envs\\cellpose\\lib\\site-packages\\vispy\\util\\event.py\", line 453, in __call__\n",
      "    self._invoke_callback(cb, event)\n",
      "  File \"C:\\Users\\BintuLabUser\\anaconda3\\envs\\cellpose\\lib\\site-packages\\vispy\\util\\event.py\", line 469, in _invoke_callback\n",
      "    cb(event)\n",
      "  File \"C:\\Users\\BintuLabUser\\anaconda3\\envs\\cellpose\\lib\\site-packages\\napari\\_vispy\\canvas.py\", line 98, in _process_mouse_event\n",
      "    super()._process_mouse_event(event)\n",
      "  File \"C:\\Users\\BintuLabUser\\anaconda3\\envs\\cellpose\\lib\\site-packages\\vispy\\scene\\canvas.py\", line 369, in _process_mouse_event\n",
      "    getattr(picked.events, event.type)(scene_event)\n",
      "  File \"C:\\Users\\BintuLabUser\\anaconda3\\envs\\cellpose\\lib\\site-packages\\vispy\\util\\event.py\", line 453, in __call__\n",
      "    self._invoke_callback(cb, event)\n",
      "  File \"C:\\Users\\BintuLabUser\\anaconda3\\envs\\cellpose\\lib\\site-packages\\vispy\\util\\event.py\", line 471, in _invoke_callback\n",
      "    _handle_exception(self.ignore_callback_errors,\n",
      "  << caught exception here: >>\n",
      "  File \"C:\\Users\\BintuLabUser\\anaconda3\\envs\\cellpose\\lib\\site-packages\\vispy\\util\\event.py\", line 469, in _invoke_callback\n",
      "    cb(event)\n",
      "  File \"C:\\Users\\BintuLabUser\\anaconda3\\envs\\cellpose\\lib\\site-packages\\vispy\\scene\\cameras\\perspective.py\", line 227, in viewbox_mouse_event\n",
      "    self._update_rotation(event)\n",
      "  File \"C:\\Users\\BintuLabUser\\anaconda3\\envs\\cellpose\\lib\\site-packages\\vispy\\scene\\cameras\\arcball.py\", line 65, in _update_rotation\n",
      "    Quaternion(*_arcball(self._event_value, wh)) *\n",
      "  File \"C:\\Users\\BintuLabUser\\anaconda3\\envs\\cellpose\\lib\\site-packages\\vispy\\scene\\cameras\\arcball.py\", line 101, in _arcball\n",
      "    x, y = xy\n",
      "ValueError: too many values to unpack (expected 2)\n",
      "ERROR: Invoking <bound method Base3DRotationCamera.viewbox_mouse_event of <ArcballCamera at 0x253caf3aa90>> for SceneMouseEvent\n",
      "ERROR:vispy:Invoking <bound method Base3DRotationCamera.viewbox_mouse_event of <ArcballCamera at 0x253caf3aa90>> for SceneMouseEvent\n",
      "WARNING: Traceback (most recent call last):\n",
      "  File \"C:\\Users\\BintuLabUser\\anaconda3\\envs\\cellpose\\lib\\runpy.py\", line 197, in _run_module_as_main\n",
      "    return _run_code(code, main_globals, None,\n",
      "  File \"C:\\Users\\BintuLabUser\\anaconda3\\envs\\cellpose\\lib\\runpy.py\", line 87, in _run_code\n",
      "    exec(code, run_globals)\n",
      "  File \"C:\\Users\\BintuLabUser\\anaconda3\\envs\\cellpose\\lib\\site-packages\\ipykernel_launcher.py\", line 16, in <module>\n",
      "    app.launch_new_instance()\n",
      "  File \"C:\\Users\\BintuLabUser\\anaconda3\\envs\\cellpose\\lib\\site-packages\\traitlets\\config\\application.py\", line 846, in launch_instance\n",
      "    app.start()\n",
      "  File \"C:\\Users\\BintuLabUser\\anaconda3\\envs\\cellpose\\lib\\site-packages\\ipykernel\\kernelapp.py\", line 677, in start\n",
      "    self.io_loop.start()\n",
      "  File \"C:\\Users\\BintuLabUser\\anaconda3\\envs\\cellpose\\lib\\site-packages\\tornado\\platform\\asyncio.py\", line 199, in start\n",
      "    self.asyncio_loop.run_forever()\n",
      "  File \"C:\\Users\\BintuLabUser\\anaconda3\\envs\\cellpose\\lib\\asyncio\\base_events.py\", line 596, in run_forever\n",
      "    self._run_once()\n",
      "  File \"C:\\Users\\BintuLabUser\\anaconda3\\envs\\cellpose\\lib\\asyncio\\base_events.py\", line 1890, in _run_once\n",
      "    handle._run()\n",
      "  File \"C:\\Users\\BintuLabUser\\anaconda3\\envs\\cellpose\\lib\\asyncio\\events.py\", line 80, in _run\n",
      "    self._context.run(self._callback, *self._args)\n",
      "  File \"C:\\Users\\BintuLabUser\\anaconda3\\envs\\cellpose\\lib\\site-packages\\tornado\\ioloop.py\", line 741, in _run_callback\n",
      "    ret = callback()\n",
      "  File \"C:\\Users\\BintuLabUser\\anaconda3\\envs\\cellpose\\lib\\site-packages\\ipykernel\\kernelbase.py\", line 402, in advance_eventloop\n",
      "    eventloop(self)\n",
      "  File \"C:\\Users\\BintuLabUser\\anaconda3\\envs\\cellpose\\lib\\site-packages\\ipykernel\\eventloops.py\", line 126, in loop_qt5\n",
      "    return loop_qt4(kernel)\n",
      "  File \"C:\\Users\\BintuLabUser\\anaconda3\\envs\\cellpose\\lib\\site-packages\\ipykernel\\eventloops.py\", line 119, in loop_qt4\n",
      "    _loop_qt(kernel.app)\n",
      "  File \"C:\\Users\\BintuLabUser\\anaconda3\\envs\\cellpose\\lib\\site-packages\\ipykernel\\eventloops.py\", line 105, in _loop_qt\n",
      "    app.exec_()\n",
      "  File \"C:\\Users\\BintuLabUser\\anaconda3\\envs\\cellpose\\lib\\site-packages\\vispy\\app\\backends\\_qt.py\", line 567, in event\n",
      "    out = super(QtBaseCanvasBackend, self).event(ev)\n",
      "  File \"C:\\Users\\BintuLabUser\\anaconda3\\envs\\cellpose\\lib\\site-packages\\vispy\\app\\backends\\_qt.py\", line 532, in mouseMoveEvent\n",
      "    self._vispy_mouse_move(\n",
      "  File \"C:\\Users\\BintuLabUser\\anaconda3\\envs\\cellpose\\lib\\site-packages\\vispy\\app\\base.py\", line 216, in _vispy_mouse_move\n",
      "    ev = self._vispy_canvas.events.mouse_move(**kwargs)\n",
      "  File \"C:\\Users\\BintuLabUser\\anaconda3\\envs\\cellpose\\lib\\site-packages\\vispy\\util\\event.py\", line 453, in __call__\n",
      "    self._invoke_callback(cb, event)\n",
      "  File \"C:\\Users\\BintuLabUser\\anaconda3\\envs\\cellpose\\lib\\site-packages\\vispy\\util\\event.py\", line 469, in _invoke_callback\n",
      "    cb(event)\n",
      "  File \"C:\\Users\\BintuLabUser\\anaconda3\\envs\\cellpose\\lib\\site-packages\\napari\\_vispy\\canvas.py\", line 98, in _process_mouse_event\n",
      "    super()._process_mouse_event(event)\n",
      "  File \"C:\\Users\\BintuLabUser\\anaconda3\\envs\\cellpose\\lib\\site-packages\\vispy\\scene\\canvas.py\", line 369, in _process_mouse_event\n",
      "    getattr(picked.events, event.type)(scene_event)\n",
      "  File \"C:\\Users\\BintuLabUser\\anaconda3\\envs\\cellpose\\lib\\site-packages\\vispy\\util\\event.py\", line 453, in __call__\n",
      "    self._invoke_callback(cb, event)\n",
      "  File \"C:\\Users\\BintuLabUser\\anaconda3\\envs\\cellpose\\lib\\site-packages\\vispy\\util\\event.py\", line 471, in _invoke_callback\n",
      "    _handle_exception(self.ignore_callback_errors,\n",
      "  << caught exception here: >>\n",
      "  File \"C:\\Users\\BintuLabUser\\anaconda3\\envs\\cellpose\\lib\\site-packages\\vispy\\util\\event.py\", line 469, in _invoke_callback\n",
      "    cb(event)\n",
      "  File \"C:\\Users\\BintuLabUser\\anaconda3\\envs\\cellpose\\lib\\site-packages\\vispy\\scene\\cameras\\perspective.py\", line 227, in viewbox_mouse_event\n",
      "    self._update_rotation(event)\n",
      "  File \"C:\\Users\\BintuLabUser\\anaconda3\\envs\\cellpose\\lib\\site-packages\\vispy\\scene\\cameras\\arcball.py\", line 65, in _update_rotation\n",
      "    Quaternion(*_arcball(self._event_value, wh)) *\n",
      "  File \"C:\\Users\\BintuLabUser\\anaconda3\\envs\\cellpose\\lib\\site-packages\\vispy\\scene\\cameras\\arcball.py\", line 101, in _arcball\n",
      "    x, y = xy\n",
      "ValueError: too many values to unpack (expected 2)\n",
      "WARNING:vispy:Traceback (most recent call last):\n",
      "  File \"C:\\Users\\BintuLabUser\\anaconda3\\envs\\cellpose\\lib\\runpy.py\", line 197, in _run_module_as_main\n",
      "    return _run_code(code, main_globals, None,\n",
      "  File \"C:\\Users\\BintuLabUser\\anaconda3\\envs\\cellpose\\lib\\runpy.py\", line 87, in _run_code\n",
      "    exec(code, run_globals)\n",
      "  File \"C:\\Users\\BintuLabUser\\anaconda3\\envs\\cellpose\\lib\\site-packages\\ipykernel_launcher.py\", line 16, in <module>\n",
      "    app.launch_new_instance()\n",
      "  File \"C:\\Users\\BintuLabUser\\anaconda3\\envs\\cellpose\\lib\\site-packages\\traitlets\\config\\application.py\", line 846, in launch_instance\n",
      "    app.start()\n",
      "  File \"C:\\Users\\BintuLabUser\\anaconda3\\envs\\cellpose\\lib\\site-packages\\ipykernel\\kernelapp.py\", line 677, in start\n",
      "    self.io_loop.start()\n",
      "  File \"C:\\Users\\BintuLabUser\\anaconda3\\envs\\cellpose\\lib\\site-packages\\tornado\\platform\\asyncio.py\", line 199, in start\n",
      "    self.asyncio_loop.run_forever()\n",
      "  File \"C:\\Users\\BintuLabUser\\anaconda3\\envs\\cellpose\\lib\\asyncio\\base_events.py\", line 596, in run_forever\n",
      "    self._run_once()\n",
      "  File \"C:\\Users\\BintuLabUser\\anaconda3\\envs\\cellpose\\lib\\asyncio\\base_events.py\", line 1890, in _run_once\n",
      "    handle._run()\n",
      "  File \"C:\\Users\\BintuLabUser\\anaconda3\\envs\\cellpose\\lib\\asyncio\\events.py\", line 80, in _run\n",
      "    self._context.run(self._callback, *self._args)\n",
      "  File \"C:\\Users\\BintuLabUser\\anaconda3\\envs\\cellpose\\lib\\site-packages\\tornado\\ioloop.py\", line 741, in _run_callback\n",
      "    ret = callback()\n",
      "  File \"C:\\Users\\BintuLabUser\\anaconda3\\envs\\cellpose\\lib\\site-packages\\ipykernel\\kernelbase.py\", line 402, in advance_eventloop\n",
      "    eventloop(self)\n",
      "  File \"C:\\Users\\BintuLabUser\\anaconda3\\envs\\cellpose\\lib\\site-packages\\ipykernel\\eventloops.py\", line 126, in loop_qt5\n",
      "    return loop_qt4(kernel)\n",
      "  File \"C:\\Users\\BintuLabUser\\anaconda3\\envs\\cellpose\\lib\\site-packages\\ipykernel\\eventloops.py\", line 119, in loop_qt4\n",
      "    _loop_qt(kernel.app)\n",
      "  File \"C:\\Users\\BintuLabUser\\anaconda3\\envs\\cellpose\\lib\\site-packages\\ipykernel\\eventloops.py\", line 105, in _loop_qt\n",
      "    app.exec_()\n",
      "  File \"C:\\Users\\BintuLabUser\\anaconda3\\envs\\cellpose\\lib\\site-packages\\vispy\\app\\backends\\_qt.py\", line 567, in event\n",
      "    out = super(QtBaseCanvasBackend, self).event(ev)\n",
      "  File \"C:\\Users\\BintuLabUser\\anaconda3\\envs\\cellpose\\lib\\site-packages\\vispy\\app\\backends\\_qt.py\", line 532, in mouseMoveEvent\n",
      "    self._vispy_mouse_move(\n",
      "  File \"C:\\Users\\BintuLabUser\\anaconda3\\envs\\cellpose\\lib\\site-packages\\vispy\\app\\base.py\", line 216, in _vispy_mouse_move\n",
      "    ev = self._vispy_canvas.events.mouse_move(**kwargs)\n",
      "  File \"C:\\Users\\BintuLabUser\\anaconda3\\envs\\cellpose\\lib\\site-packages\\vispy\\util\\event.py\", line 453, in __call__\n",
      "    self._invoke_callback(cb, event)\n",
      "  File \"C:\\Users\\BintuLabUser\\anaconda3\\envs\\cellpose\\lib\\site-packages\\vispy\\util\\event.py\", line 469, in _invoke_callback\n",
      "    cb(event)\n",
      "  File \"C:\\Users\\BintuLabUser\\anaconda3\\envs\\cellpose\\lib\\site-packages\\napari\\_vispy\\canvas.py\", line 98, in _process_mouse_event\n",
      "    super()._process_mouse_event(event)\n",
      "  File \"C:\\Users\\BintuLabUser\\anaconda3\\envs\\cellpose\\lib\\site-packages\\vispy\\scene\\canvas.py\", line 369, in _process_mouse_event\n",
      "    getattr(picked.events, event.type)(scene_event)\n",
      "  File \"C:\\Users\\BintuLabUser\\anaconda3\\envs\\cellpose\\lib\\site-packages\\vispy\\util\\event.py\", line 453, in __call__\n",
      "    self._invoke_callback(cb, event)\n",
      "  File \"C:\\Users\\BintuLabUser\\anaconda3\\envs\\cellpose\\lib\\site-packages\\vispy\\util\\event.py\", line 471, in _invoke_callback\n",
      "    _handle_exception(self.ignore_callback_errors,\n",
      "  << caught exception here: >>\n",
      "  File \"C:\\Users\\BintuLabUser\\anaconda3\\envs\\cellpose\\lib\\site-packages\\vispy\\util\\event.py\", line 469, in _invoke_callback\n",
      "    cb(event)\n",
      "  File \"C:\\Users\\BintuLabUser\\anaconda3\\envs\\cellpose\\lib\\site-packages\\vispy\\scene\\cameras\\perspective.py\", line 227, in viewbox_mouse_event\n",
      "    self._update_rotation(event)\n",
      "  File \"C:\\Users\\BintuLabUser\\anaconda3\\envs\\cellpose\\lib\\site-packages\\vispy\\scene\\cameras\\arcball.py\", line 65, in _update_rotation\n",
      "    Quaternion(*_arcball(self._event_value, wh)) *\n",
      "  File \"C:\\Users\\BintuLabUser\\anaconda3\\envs\\cellpose\\lib\\site-packages\\vispy\\scene\\cameras\\arcball.py\", line 101, in _arcball\n",
      "    x, y = xy\n",
      "ValueError: too many values to unpack (expected 2)\n",
      "ERROR: Invoking <bound method Base3DRotationCamera.viewbox_mouse_event of <ArcballCamera at 0x253caf3aa90>> for SceneMouseEvent\n",
      "ERROR:vispy:Invoking <bound method Base3DRotationCamera.viewbox_mouse_event of <ArcballCamera at 0x253caf3aa90>> for SceneMouseEvent\n"
     ]
    }
   ],
   "source": [
    "viewer.add_image(imsg,name='LaminA')"
   ]
  },
  {
   "cell_type": "code",
   "execution_count": 155,
   "id": "3de4966a",
   "metadata": {},
   "outputs": [
    {
     "data": {
      "text/plain": [
       "[<Image layer 'AQP4' at 0x2547ad9efd0>, <Image layer 'PLP1' at 0x253cd7bee20>, <Image layer 'RORB' at 0x253cc626340>, <Image layer 'GFAP' at 0x253cc9019d0>, <Image layer 'GAD1' at 0x253cd36d1f0>, <Image layer 'FLT1' at 0x253cc7f44c0>]"
      ]
     },
     "execution_count": 155,
     "metadata": {},
     "output_type": "execute_result"
    }
   ],
   "source": [
    "for layer in viewer.layers:\n",
    "    layer.data"
   ]
  },
  {
   "cell_type": "code",
   "execution_count": 149,
   "id": "2c45fd5e",
   "metadata": {},
   "outputs": [
    {
     "name": "stdout",
     "output_type": "stream",
     "text": [
      "{'ASCL1': 'Q1', 'Q1': 'ASCL1', 'APLN': 'Q2', 'Q2': 'APLN', 'APOE': 'Q3', 'Q3': 'APOE', 'CSF1R': 'Q4', 'Q4': 'CSF1R', 'ARX': 'Q5', 'Q5': 'ARX', 'AQP4': 'Q6', 'Q6': 'AQP4', 'CSF2RA': 'Q7', 'Q7': 'CSF2RA', 'BGN': 'Q8', 'Q8': 'BGN', 'ARHGEF6': 'Q9', 'Q9': 'ARHGEF6', 'DOCK11': 'Q10', 'Q10': 'DOCK11', 'CFTR': 'Q11', 'Q11': 'CFTR', 'BEX1': 'Q12', 'Q12': 'BEX1', 'FGF10': 'Q13', 'Q13': 'FGF10', 'COL15A1': 'Q14', 'Q14': 'COL15A1', 'BMP2': 'Q15', 'Q15': 'BMP2', 'FLT1': 'Q16', 'Q16': 'FLT1', 'COL4A5': 'Q17', 'Q17': 'COL4A5', 'CD40LG': 'Q18', 'Q18': 'CD40LG', 'FMR1': 'Q19', 'Q19': 'FMR1', 'EDA': 'Q20', 'Q20': 'EDA', 'CD74': 'Q21', 'Q21': 'CD74', 'FNDC1': 'Q22', 'Q22': 'FNDC1', 'EFNB1': 'Q23', 'Q23': 'EFNB1', 'DACH2': 'Q24', 'Q24': 'DACH2', 'FOXP3': 'Q25', 'Q25': 'FOXP3', 'EGFL6': 'Q26', 'Q26': 'EGFL6', 'ENPEP': 'Q27', 'Q27': 'ENPEP', 'GAD1': 'Q28', 'Q28': 'GAD1', 'FGF13': 'Q29', 'Q29': 'FGF13', 'FBN2': 'Q30', 'Q30': 'FBN2', 'IL1RAPL2': 'Q31', 'Q31': 'IL1RAPL2', 'FREM2': 'Q32', 'Q32': 'FREM2', 'FGFR3': 'Q33', 'Q33': 'FGFR3', 'LAMA4': 'Q34', 'Q34': 'LAMA4', 'FRZB': 'Q35', 'Q35': 'FRZB', 'FILIP1L': 'Q36', 'Q36': 'FILIP1L', 'MBP': 'Q37', 'Q37': 'MBP', 'HTR2C': 'Q38', 'Q38': 'HTR2C', 'GFAP': 'Q39', 'Q39': 'GFAP', 'MRC1': 'Q40', 'Q40': 'MRC1', 'IL13RA1': 'Q41', 'Q41': 'IL13RA1', 'IFNG-AS1': 'Q42', 'Q42': 'IFNG-AS1', 'MT-ATP6': 'Q43', 'Q43': 'MT-ATP6', 'LRIG3': 'Q44', 'Q44': 'LRIG3', 'IL3RA': 'Q45', 'Q45': 'IL3RA', 'MT-ND3': 'Q46', 'Q46': 'MT-ND3', 'MAOA': 'Q47', 'Q47': 'MAOA', 'ITM2A': 'Q48', 'Q48': 'ITM2A', 'MT-RNR1': 'Q49', 'Q49': 'MT-RNR1', 'MT-ND1': 'Q50', 'Q50': 'MT-ND1', 'KLHL1': 'Q51', 'Q51': 'KLHL1', 'NPY': 'Q52', 'Q52': 'NPY', 'MT-ND4': 'Q53', 'Q53': 'MT-ND4', 'LAMP5': 'Q54', 'Q54': 'LAMP5', 'PAX6': 'Q55', 'Q55': 'PAX6', 'MT-RNR2': 'Q56', 'Q56': 'MT-RNR2', 'MT-ND2': 'Q57', 'Q57': 'MT-ND2', 'PCDH11X': 'Q58', 'Q58': 'PCDH11X', 'NRGN': 'Q59', 'Q59': 'NRGN', 'MT-ND5': 'Q60', 'Q60': 'MT-ND5', 'PLP1': 'Q61', 'Q61': 'PLP1', 'OLIG1': 'Q62', 'Q62': 'OLIG1', 'NDP': 'Q63', 'Q63': 'NDP', 'PTCHD1-AS': 'Q64', 'Q64': 'PTCHD1-AS', 'OPALIN': 'Q65', 'Q65': 'OPALIN', 'ROBO1': 'Q66', 'Q66': 'ROBO1', 'PVALB': 'Q67', 'Q67': 'PVALB', 'OPHN1': 'Q68', 'Q68': 'OPHN1', 'SYTL5': 'Q69', 'Q69': 'SYTL5', 'SMYD1': 'Q70', 'Q70': 'SMYD1', 'PDGFRA': 'Q71', 'Q71': 'PDGFRA', 'TAC3': 'Q72', 'Q72': 'TAC3', 'SST': 'Q73', 'Q73': 'SST', 'RORB': 'Q74', 'Q74': 'RORB', 'TENM1': 'Q75', 'Q75': 'TENM1', 'TRPC5': 'Q76', 'Q76': 'TRPC5', 'RPRM': 'Q77', 'Q77': 'RPRM', 'TSIX': 'Q78', 'Q78': 'TSIX', '': 'Q114', 'Q79': '', 'RTKN2': 'Q80', 'Q80': 'RTKN2', 'TYROBP': 'Q81', 'Q81': 'TYROBP', 'Q82': '', 'SCML4': 'Q83', 'Q83': 'SCML4', 'VCAN': 'Q84', 'Q84': 'VCAN', 'Q85': '', 'SMOC1': 'Q86', 'Q86': 'SMOC1', 'VIP': 'Q87', 'Q87': 'VIP', 'Q88': '', 'SRGN': 'Q89', 'Q89': 'SRGN', 'Xist': 'Q90', 'Q90': 'Xist', 'Q91': '', 'SRPX2': 'Q92', 'Q92': 'SRPX2', 'Q93': '', 'Q94': '', 'TEX13A': 'Q95', 'Q95': 'TEX13A', 'Q96': '', 'Q97': '', 'TH': 'Q98', 'Q98': 'TH', 'Q99': '', 'Q100': '', 'THEMIS': 'Q101', 'Q101': 'THEMIS', 'Q102': '', 'Q103': '', 'TIMP1': 'Q104', 'Q104': 'TIMP1', 'Q105': '', 'Q106': '', 'TMSB4X': 'Q107', 'Q107': 'TMSB4X', 'Q108': '', 'Q109': '', 'TNNT2': 'Q110', 'Q110': 'TNNT2', 'Q111': '', 'Q112': '', 'WNT4': 'Q113', 'Q113': 'WNT4', 'Q114': ''}\n"
     ]
    }
   ],
   "source": [
    "\n",
    "print(dicQ)"
   ]
  },
  {
   "cell_type": "code",
   "execution_count": null,
   "id": "467fe3ea",
   "metadata": {},
   "outputs": [],
   "source": []
  },
  {
   "cell_type": "code",
   "execution_count": 12,
   "id": "68daa661",
   "metadata": {},
   "outputs": [],
   "source": []
  },
  {
   "cell_type": "code",
   "execution_count": 187,
   "id": "c71e63fb",
   "metadata": {},
   "outputs": [],
   "source": [
    "Q = dicQ[\"NRGN\"]\n",
    "pa = post_analysis(r'Y:\\Glass_MERFISH\\CGBB_ChrX_01_31_2023_Analysis\\*_C*_Xh_RNAs.pkl')\n",
    "get_Xh_Q(pa,ifov=70,Q = Q)\n",
    "viewr = plot_Xh(pa,viewer=None,color='green',dic_th={0:5000,1:5000,2:5000},rescale=False);\n",
    "plot_Xh(pa,viewer=viewr,color='red')\n",
    "add_png_image(pa,viewer=viewr)"
   ]
  },
  {
   "cell_type": "code",
   "execution_count": 121,
   "id": "5c66cb89",
   "metadata": {},
   "outputs": [],
   "source": [
    "pa = post_analysis(r'Y:\\Glass_MERFISH\\CGBB_ChrX_01_31_2023_Analysis\\*_C*_Xh_RNAs.pkl')"
   ]
  },
  {
   "cell_type": "code",
   "execution_count": 123,
   "id": "24cd3eb3",
   "metadata": {},
   "outputs": [],
   "source": [
    "get_Xh_Q(pa,ifov=20,Q = Q)\n",
    "add_png_image(pa,viewer=None)"
   ]
  },
  {
   "cell_type": "code",
   "execution_count": 124,
   "id": "f329632c",
   "metadata": {},
   "outputs": [
    {
     "data": {
      "text/plain": [
       "0"
      ]
     },
     "execution_count": 124,
     "metadata": {},
     "output_type": "execute_result"
    }
   ],
   "source": [
    "pa.icol"
   ]
  },
  {
   "cell_type": "code",
   "execution_count": 76,
   "id": "27f3e53f",
   "metadata": {},
   "outputs": [
    {
     "data": {
      "text/plain": [
       "[2895, 2899]"
      ]
     },
     "execution_count": 76,
     "metadata": {},
     "output_type": "execute_result"
    }
   ],
   "source": [
    "[1,list(np.max(pa.Xh[:,:3],axis=0).astype(int)[1:])]"
   ]
  },
  {
   "cell_type": "code",
   "execution_count": null,
   "id": "15dbafce",
   "metadata": {},
   "outputs": [],
   "source": []
  },
  {
   "cell_type": "code",
   "execution_count": 26,
   "id": "16275461",
   "metadata": {},
   "outputs": [
    {
     "data": {
      "text/plain": [
       "array([ 478, 3561, 3570, 3580], dtype=int64)"
      ]
     },
     "execution_count": 26,
     "metadata": {},
     "output_type": "execute_result"
    }
   ],
   "source": [
    " np.where(np.diff(np.mean(im_,axis=1)>254)!=0)[0]"
   ]
  },
  {
   "cell_type": "code",
   "execution_count": 13,
   "id": "79e6193c",
   "metadata": {},
   "outputs": [
    {
     "data": {
      "text/plain": [
       "Viewer(axes=Axes(visible=False, labels=True, colored=True, dashed=False, arrows=True), camera=Camera(center=(0.0, 1999.5, 1999.5), zoom=0.30708749999999996, angles=(0.0, 0.0, 90.0), perspective=0, interactive=True), cursor=Cursor(position=(1, 1), scaled=True, size=1, style=<CursorStyle.STANDARD: 'standard'>), dims=Dims(ndim=2, ndisplay=2, last_used=0, range=((0.0, 4000.0, 1.0), (0.0, 4000.0, 1.0)), current_step=(2000, 2000), order=(0, 1), axis_labels=('0', '1')), grid=GridCanvas(stride=1, shape=(-1, -1), enabled=False), layers=[<Image layer 'im_png' at 0x253888e5670>], scale_bar=ScaleBar(visible=False, colored=False, ticks=True, position=<Position.BOTTOM_RIGHT: 'bottom_right'>, font_size=10, unit=None), text_overlay=TextOverlay(visible=False, color=(0.5, 0.5, 0.5, 1.0), font_size=10, position=<TextOverlayPosition.TOP_LEFT: 'top_left'>, text=''), overlays=Overlays(interaction_box=InteractionBox(points=None, show=False, show_handle=False, show_vertices=False, selection_box_drag=None, selection_box_final=None, transform_start=<napari.utils.transforms.transforms.Affine object at 0x0000025387F09100>, transform_drag=<napari.utils.transforms.transforms.Affine object at 0x0000025387F099A0>, transform_final=<napari.utils.transforms.transforms.Affine object at 0x0000025387F096D0>, transform=<napari.utils.transforms.transforms.Affine object at 0x0000025387F09820>, allow_new_selection=True, selected_vertex=None)), help='', status='Ready', tooltip=Tooltip(visible=False, text=''), theme='dark', title='napari', mouse_move_callbacks=[<function InteractionBoxMouseBindings.initialize_mouse_events.<locals>.mouse_move at 0x0000025388928820>], mouse_drag_callbacks=[<function InteractionBoxMouseBindings.initialize_mouse_events.<locals>.mouse_drag at 0x0000025388928430>], mouse_double_click_callbacks=[], mouse_wheel_callbacks=[<function dims_scroll at 0x00000253F4C223A0>], _persisted_mouse_event={}, _mouse_drag_gen={}, _mouse_wheel_gen={}, keymap={'Shift': <function InteractionBoxMouseBindings.initialize_key_events.<locals>.hold_to_lock_aspect_ratio at 0x00000253889284C0>, 'Control-Shift-R': <function InteractionBoxMouseBindings._reset_active_layer_affine at 0x00000253889281F0>, 'Control-Shift-A': <function InteractionBoxMouseBindings._transform_active_layer at 0x0000025388928700>})"
      ]
     },
     "execution_count": 13,
     "metadata": {},
     "output_type": "execute_result"
    }
   ],
   "source": [
    "import napari\n",
    "napari.view_image(im_png)"
   ]
  },
  {
   "cell_type": "code",
   "execution_count": 104,
   "id": "ef93370e",
   "metadata": {},
   "outputs": [
    {
     "data": {
      "text/plain": [
       "4304.580852331805"
      ]
     },
     "execution_count": 104,
     "metadata": {},
     "output_type": "execute_result"
    }
   ],
   "source": [
    "np.median(pa.Xh[:,-1])+np.std(pa.Xh[:,-1])*5"
   ]
  },
  {
   "cell_type": "code",
   "execution_count": 98,
   "id": "d637fc1d",
   "metadata": {},
   "outputs": [
    {
     "data": {
      "text/plain": [
       "array([ 9916.,  9930.,  9944.,  9951.,  9956.,  9985.,  9994., 10010.,\n",
       "       10020., 10051., 10077., 10094., 10116., 10119., 10127., 10133.,\n",
       "       10143., 10148., 10184., 10187., 10193., 10199., 10203., 10211.,\n",
       "       10219., 10220., 10228., 10234., 10268., 10281., 10284., 10291.,\n",
       "       10291., 10302., 10329., 10332., 10340., 10353., 10365., 10405.,\n",
       "       10428., 10434., 10440., 10451., 10499., 10508., 10516., 10576.,\n",
       "       10580., 10582., 10586., 10593., 10606., 10623., 10624., 10644.,\n",
       "       10647., 10653., 10667., 10680., 10710., 10718., 10725., 10728.,\n",
       "       10753., 10759., 10785., 10788., 10823., 10831., 10839., 10860.,\n",
       "       10862., 10873., 10875., 10902., 10913., 10981., 10988., 10989.,\n",
       "       10990., 10990., 11007., 11040., 11042., 11045., 11056., 11069.,\n",
       "       11076., 11081., 11087., 11107., 11123., 11131., 11185., 11208.,\n",
       "       11217., 11258., 11291., 11322., 11325., 11336., 11349., 11363.,\n",
       "       11375., 11382., 11396., 11420., 11447., 11479., 11503., 11504.,\n",
       "       11519., 11523., 11531., 11543., 11573., 11574., 11588., 11690.,\n",
       "       11731., 11755., 11756., 11771., 11774., 11786., 11791., 11793.,\n",
       "       11809., 11849., 11871., 11881., 11892., 11926., 11946., 11948.,\n",
       "       11985., 12010., 12011., 12018., 12023., 12041., 12058., 12061.,\n",
       "       12078., 12114., 12144., 12252., 12274., 12293., 12294., 12317.,\n",
       "       12342., 12352., 12358., 12367., 12409., 12425., 12474., 12477.,\n",
       "       12478., 12478., 12481., 12495., 12501., 12510., 12526., 12552.,\n",
       "       12564., 12575., 12587., 12594., 12599., 12600., 12627., 12642.,\n",
       "       12656., 12664., 12675., 12676., 12728., 12738., 12744., 12760.,\n",
       "       12803., 12832., 12859., 12860., 12873., 12960., 12973., 13014.,\n",
       "       13061., 13081., 13085., 13120., 13226., 13237., 13251., 13259.,\n",
       "       13315., 13320., 13324., 13359., 13385., 13418., 13439., 13443.,\n",
       "       13467., 13504., 13548., 13596., 13614., 13620., 13762., 13837.,\n",
       "       13856., 13903., 13908., 13909., 13911., 13914., 13920., 13946.,\n",
       "       13953., 13962., 14014., 14014., 14020., 14044., 14075., 14098.,\n",
       "       14120., 14121., 14136., 14140., 14141., 14161., 14221., 14229.,\n",
       "       14243., 14243., 14246., 14254., 14265., 14273., 14322., 14329.,\n",
       "       14458., 14487., 14487., 14517., 14518., 14525., 14540., 14639.,\n",
       "       14691., 14721., 14800., 14814., 14898., 14926., 15018., 15039.,\n",
       "       15071., 15119., 15120., 15142., 15269., 15390., 15424., 15445.,\n",
       "       15471., 15549., 15590., 15628., 15669., 15723., 15827., 15837.,\n",
       "       15860., 15866., 15888., 15896., 15900., 15904., 15907., 15996.,\n",
       "       16142., 16195., 16239., 16310., 16381., 16429., 16440., 16467.,\n",
       "       16467., 16514., 16539., 16585., 16633., 16655., 16661., 16740.,\n",
       "       16803., 16818., 16948., 16956., 16975., 16977., 17081., 17089.,\n",
       "       17097., 17117., 17196., 17223., 17255., 17256., 17383., 17443.,\n",
       "       17461., 17547., 17584., 17645., 17674., 17740., 17761., 17763.,\n",
       "       17766., 17812., 17814., 17917., 18015., 18078., 18082., 18086.,\n",
       "       18086., 18133., 18239., 18259., 18307., 18328., 18339., 18349.,\n",
       "       18363., 18382., 18557., 18767., 18835., 18896., 18919., 18930.,\n",
       "       18975., 19064., 19222., 19417., 19465., 19671., 19708., 19713.,\n",
       "       19739., 19867., 19936., 20015., 20034., 20510., 20754., 20790.,\n",
       "       20852., 20882., 21009., 21114., 21130., 21145., 21162., 21162.,\n",
       "       21192., 21222., 21234., 21486., 21873., 22109., 22117., 22229.,\n",
       "       22407., 22482., 22863., 22997., 23356., 23623., 23634., 24032.,\n",
       "       24226., 24987., 25500., 26252., 26567., 28172., 28866., 49856.])"
      ]
     },
     "execution_count": 98,
     "metadata": {},
     "output_type": "execute_result"
    }
   ],
   "source": [
    "np.round(np.sort(pa.Xh[:,-1])[-400:])"
   ]
  },
  {
   "cell_type": "code",
   "execution_count": 24,
   "id": "af7aad80",
   "metadata": {},
   "outputs": [],
   "source": []
  },
  {
   "cell_type": "code",
   "execution_count": 88,
   "id": "4d507d5e",
   "metadata": {},
   "outputs": [],
   "source": [
    "get_Xh_Q(pa,ifov=40,Q = 'Q4')\n",
    "viewer = plot_Xh(pa,viewer=None,color='green')\n",
    "get_Xh_Q(pa,ifov=40,Q = 'Q5')\n",
    "plot_Xh(pa,viewer=viewer,color='cyan');\n",
    "get_Xh_Q(pa,ifov=40,Q = 'Q6')\n",
    "plot_Xh(pa,viewer=viewer,color='red');"
   ]
  },
  {
   "cell_type": "code",
   "execution_count": 37,
   "id": "0f1e4821",
   "metadata": {},
   "outputs": [
    {
     "data": {
      "text/plain": [
       "1"
      ]
     },
     "execution_count": 37,
     "metadata": {},
     "output_type": "execute_result"
    }
   ],
   "source": [
    "get_Xh_Q(pa,ifov=20,Q = 'Q4')"
   ]
  },
  {
   "cell_type": "code",
   "execution_count": 29,
   "id": "01d65540",
   "metadata": {},
   "outputs": [
    {
     "data": {
      "text/plain": [
       "0"
      ]
     },
     "execution_count": 29,
     "metadata": {},
     "output_type": "execute_result"
    }
   ],
   "source": [
    "pa.icol"
   ]
  },
  {
   "cell_type": "code",
   "execution_count": null,
   "id": "c76b63a2",
   "metadata": {},
   "outputs": [],
   "source": [
    "cor = Xh[:,-2]\n",
    "h = Xh[:,-1]\n",
    "#import napari\n",
    "#napari.view_points()\n",
    "bad = cor<0.5\n",
    "min_,max_ = np.sort(h)[np.array([50,-10])%len(h)]\n",
    "h_n = np.clip((h-min_)/(max_-min_),0,1)\n",
    "size=20*h_n\n",
    "import napari\n",
    "napari.view_points(Xh[:,:3],size=size)\n"
   ]
  }
 ],
 "metadata": {
  "kernelspec": {
   "display_name": "Python 3 (ipykernel)",
   "language": "python",
   "name": "python3"
  },
  "language_info": {
   "codemirror_mode": {
    "name": "ipython",
    "version": 3
   },
   "file_extension": ".py",
   "mimetype": "text/x-python",
   "name": "python",
   "nbconvert_exporter": "python",
   "pygments_lexer": "ipython3",
   "version": "3.8.16"
  }
 },
 "nbformat": 4,
 "nbformat_minor": 5
}
