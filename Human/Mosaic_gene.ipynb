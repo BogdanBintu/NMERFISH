{
 "cells": [
  {
   "cell_type": "code",
   "execution_count": 2,
   "id": "9fa648c2-45af-4228-915d-222f7fc6e8d5",
   "metadata": {},
   "outputs": [],
   "source": [
    "import sys\n",
    "sys.path.append('..//')\n",
    "from ioMicro import *"
   ]
  },
  {
   "cell_type": "code",
   "execution_count": 1,
   "id": "aed20ab6-5153-42a2-a78d-a73af96cccc8",
   "metadata": {},
   "outputs": [],
   "source": [
    "genes = ['NeuroD1', 'FoxJ1', 'Gfap', 'GAD1', 'NRGN', 'AQP4', 'PTBP1', 'PTBP2', 'REST']"
   ]
  },
  {
   "cell_type": "code",
   "execution_count": 3,
   "id": "878d5960-8c95-4d1f-8cb4-4f65f156a05e",
   "metadata": {},
   "outputs": [],
   "source": [
    "save_fld_mos = r'\\\\192.168.0.127\\Raw_data\\Roy\\HumanSVZMER_6_26_2023\\Mosaic_Analysis'"
   ]
  },
  {
   "cell_type": "code",
   "execution_count": 51,
   "id": "5dff4146-e03d-4744-9b92-01578b88c848",
   "metadata": {},
   "outputs": [
    {
     "name": "stderr",
     "output_type": "stream",
     "text": [
      "100%|██████████████████████████████████████████████████████████████████████████████████| 36/36 [00:11<00:00,  3.03it/s]\n",
      "100%|██████████████████████████████████████████████████████████████████████████████████| 36/36 [00:13<00:00,  2.74it/s]\n",
      "100%|██████████████████████████████████████████████████████████████████████████████████| 36/36 [00:13<00:00,  2.66it/s]\n",
      "100%|██████████████████████████████████████████████████████████████████████████████████| 36/36 [00:13<00:00,  2.65it/s]\n",
      "100%|██████████████████████████████████████████████████████████████████████████████████| 36/36 [00:14<00:00,  2.57it/s]\n",
      "100%|██████████████████████████████████████████████████████████████████████████████████| 36/36 [00:11<00:00,  3.04it/s]\n",
      "100%|██████████████████████████████████████████████████████████████████████████████████| 36/36 [00:13<00:00,  2.61it/s]\n",
      "100%|██████████████████████████████████████████████████████████████████████████████████| 36/36 [00:13<00:00,  2.62it/s]\n",
      "100%|██████████████████████████████████████████████████████████████████████████████████| 36/36 [00:11<00:00,  3.08it/s]\n"
     ]
    }
   ],
   "source": [
    "def load_imsm(gene,ifov,save_fld_mos = r'\\\\192.168.0.127\\Raw_data\\Roy\\HumanSVZMER_6_26_2023\\Mosaic_Analysis'):\n",
    "\n",
    "    mosaic_fl = save_fld_mos+os.sep+str(ifov).zfill(4)+'__'+gene+'.npz'\n",
    "    if os.path.exists(mosaic_fl):\n",
    "        im_nc = np.load(mosaic_fl)['im']\n",
    "        Xh = np.load(mosaic_fl)['Xh']\n",
    "        im_dapi = np.load(mosaic_fl)['im_dapi_']\n",
    "        x,y,icol = np.load(mosaic_fl)['xycol']\n",
    "        return im_nc,Xh,im_dapi,icol,x,y\n",
    "    return [None]*6\n",
    "def get_mosaic(gene = 'Ifit1',tag='None',ifovs = [1277, 1278, 1273, 1276, 1252, 1251, 1274, 1275, 1253, 1304, 1305, 1306]):\n",
    "    ims,xy,txy = [],[],[]\n",
    "    #fovs = [999, 1000, 1001, 1002, 1003, 1004, 1005, 1006, 1007, 1008, 1009, 1010, 1011, 1012, 1013, 1043, 1044, 1045, 1046, 1047, 1048, 1049, 1050, 1051, 1052, 1053, 1054, 1055, 1056, 1057, 1058, 1059, 1060, 1061, 1062, 1063, 1064, 1065, 1066, 1067, 1068, 1069, 1070, 1071, 1072, 1073, 1074, 1075, 1076, 1077, 1078, 1079, 1080, 1081, 1082, 1083, 1084, 1085, 1086, 1087, 1088, 1089, 1090, 1091, 1092, 1093, 1094, 1095, 1096, 1097, 1098, 1099, 1100, 1101, 1102, 1103, 1104, 1105, 1106, 1107, 1108, 1109, 1110, 1111, 1112, 1113, 1114, 1115, 1116, 1117, 1118, 1119, 1120, 1121, 1122, 1123, 1124, 1125, 1126, 1127, 1128, 1129, 1130, 1131, 1132, 1133, 1134, 1135, 1136, 1137, 1138, 1139, 1140, 1141, 1142, 1143, 1144, 1145, 1146, 1147, 1148, 1149, 1150, 1151, 1152, 1153, 1154, 1155, 1156, 1157, 1158, 1159, 1160, 1161, 1162, 1163, 1164, 1165, 1166, 1167, 1168, 1169, 1170, 1171, 1172, 1173, 1174, 1175, 1176, 1177, 1178, 1179, 1180, 1181, 1182, 1183, 1184, 1185, 1186, 1187, 1188, 1189, 1190, 1191, 1192, 1193, 1194, 1195, 1196, 1197, 1198, 1199, 1200, 1201, 1202, 1203, 1204, 1205, 1206, 1207, 1208, 1209, 1210, 1211, 1212, 1213, 1214, 1215, 1216, 1217, 1218, 1219, 1220, 1221, 1222, 1223, 1224, 1225, 1226, 1227, 1228, 1229, 1230, 1231, 1232, 1233, 1234, 1235, 1236, 1237, 1238, 1239, 1240, 1241, 1242, 1243, 1244, 1245, 1246, 1247, 1248, 1249, 1250, 1251, 1252, 1253, 1254, 1255, 1256, 1257, 1258, 1259, 1260, 1261, 1262, 1263, 1264, 1265, 1266, 1267, 1268, 1269, 1270, 1271, 1272, 1273, 1274, 1275, 1276, 1277, 1278, 1279, 1280, 1281, 1282, 1283, 1284, 1285, 1286, 1287, 1288, 1289, 1290, 1291, 1292, 1293, 1294, 1295, 1296, 1297, 1298, 1299, 1300, 1301, 1302, 1303, 1304, 1305, 1306, 1307, 1308, 1309, 1314, 1315, 1316, 1317, 1401, 1402, 1403, 1404]#np.unique([int(os.path.basename(fl).split('_')[0]) for fl in flsanalz])\n",
    "    for ifov in tqdm(ifovs):\n",
    "        im_nc,Xh,im_dapi,icol,x,y = load_imsm(gene,ifov)\n",
    "        if im_dapi is not None:\n",
    "            if tag=='dapi':\n",
    "                im = im_dapi.T[::-1,::1]\n",
    "            else:\n",
    "                im = im_nc.T[::-1,::1]\n",
    "            \n",
    "            ims.append(im)\n",
    "            xy.append([x,y])\n",
    "            txy.append([x,y])\n",
    "        #txy.append([tx_,ty_])\n",
    "    xy = np.array(xy)\n",
    "    #ims = np.array(ims)\n",
    "    txy = np.array(txy)\n",
    "\n",
    "\n",
    "    xy_ = ((xy-np.min(xy,axis=0))/0.10833).astype(int)\n",
    "    sx,sy = ims[0].shape\n",
    "    sf = np.max(xy_,axis=0)+[3*sx+1,3*sy+1]\n",
    "    startx,starty = sx,sy\n",
    "    imf = np.zeros(sf,dtype=np.float32)\n",
    "    ifov_coords = []\n",
    "    for im,(x,y),(txT,tyT)in zip(ims,xy_,txy):\n",
    "        imT = imf[(startx+x):(startx+x+sx-2),(starty+y):(starty+y+sy-2)]\n",
    "        im_to_add = im.T[::-1,::1][1:-1,1:-1]\n",
    "        sx,sy = im_to_add.shape\n",
    "        ty = 0\n",
    "        tx= 0\n",
    "        imf[(startx+tx+x):(startx+tx+x+sx),(starty+ty+y):(starty+ty+y+sy)] = im_to_add\n",
    "        ifov_coords.append([((startx+tx+x)+(startx+tx+x+sx))/2,((starty+ty+y)+(starty+ty+y+sy))/2])\n",
    "    return imf,ifov_coords\n",
    "\n",
    "\n",
    "ifovs = [264,265,266,275,276,277,279,280,281,\n",
    " 263,268,267,274,273,278,283,282,311,\n",
    " 257,269,270,271,272,285,284,309,310,\n",
    " 256,251,250,249,287,286,307,308,220]\n",
    "gene = 'AQP4'\n",
    "dic_im = {}\n",
    "for gene in list(genes):\n",
    "    imf,ifov_coords = get_mosaic(gene = gene,ifovs = ifovs)\n",
    "    dic_im[gene] = imf\n",
    "imf,ifov_coords = get_mosaic(gene = gene,tag='dapi',ifovs = ifovs)\n",
    "dic_im['dapi'] = imf"
   ]
  },
  {
   "cell_type": "code",
   "execution_count": 52,
   "id": "687c6d23-e5b9-4513-a751-0c72e3a54a6a",
   "metadata": {},
   "outputs": [
    {
     "name": "stderr",
     "output_type": "stream",
     "text": [
      "100%|██████████████████████████████████████████████████████████████████████████████████| 36/36 [00:10<00:00,  3.55it/s]\n"
     ]
    }
   ],
   "source": [
    "imf,ifov_coords = get_mosaic(gene = gene,tag='dapi',ifovs = ifovs)\n",
    "dic_im['dapi'] = imf"
   ]
  },
  {
   "cell_type": "code",
   "execution_count": 54,
   "id": "fe8fd023-5fe1-4a0b-aea7-685f122526e1",
   "metadata": {},
   "outputs": [],
   "source": [
    "import napari\n",
    "v = napari.Viewer()\n",
    "for name in dic_im:\n",
    "    v.add_image(dic_im[name].T,contrast_limits=[0,5000],name=name,visible=False,blending='additive')"
   ]
  },
  {
   "cell_type": "code",
   "execution_count": null,
   "id": "ee3521c5-ca29-4b53-9488-65d0ceed63c4",
   "metadata": {},
   "outputs": [],
   "source": []
  },
  {
   "cell_type": "code",
   "execution_count": 50,
   "id": "04ef0704-13f7-4e79-b7a1-4c9907651030",
   "metadata": {},
   "outputs": [
    {
     "data": {
      "text/plain": [
       "'dapi'"
      ]
     },
     "execution_count": 50,
     "metadata": {},
     "output_type": "execute_result"
    }
   ],
   "source": []
  },
  {
   "cell_type": "code",
   "execution_count": 47,
   "id": "1d7daae4-2269-4361-942d-81eb6633981b",
   "metadata": {},
   "outputs": [
    {
     "data": {
      "text/plain": [
       "220"
      ]
     },
     "execution_count": 47,
     "metadata": {},
     "output_type": "execute_result"
    }
   ],
   "source": [
    "get_mosaic(gene = gene,ifovs = ifovs)"
   ]
  },
  {
   "cell_type": "code",
   "execution_count": null,
   "id": "5574102b-09c8-4818-b1f9-b149d65da95d",
   "metadata": {},
   "outputs": [],
   "source": [
    "imf,ifov_coords = get_mosaic(gene = gene,ifovs = ifovs)"
   ]
  },
  {
   "cell_type": "code",
   "execution_count": 38,
   "id": "8b385457-bbb5-4797-83db-d89439ca135a",
   "metadata": {},
   "outputs": [
    {
     "data": {
      "text/plain": [
       "Viewer(axes=Axes(visible=False, labels=True, colored=True, dashed=False, arrows=True), camera=Camera(center=(0.0, 8244.5, 14994.0), zoom=0.025681343492076996, angles=(0.0, 0.0, 90.0), perspective=0.0, interactive=True), cursor=Cursor(position=(1.0, 1.0), scaled=True, size=1, style=<CursorStyle.STANDARD: 'standard'>), dims=Dims(ndim=2, ndisplay=2, last_used=0, range=((0.0, 16490.0, 1.0), (0.0, 29989.0, 1.0)), current_step=(8245, 14994), order=(0, 1), axis_labels=('0', '1')), grid=GridCanvas(stride=1, shape=(-1, -1), enabled=False), layers=[<Image layer 'Image' at 0x1c186489ee0>], scale_bar=ScaleBar(visible=False, colored=False, color=array([1., 0., 1., 1.], dtype=float32), ticks=True, position=<Position.BOTTOM_RIGHT: 'bottom_right'>, font_size=10.0, box=False, box_color=array([0. , 0. , 0. , 0.6], dtype=float32), unit=None), text_overlay=TextOverlay(visible=False, color=array([0.5, 0.5, 0.5, 1. ], dtype=float32), font_size=10.0, position=<TextOverlayPosition.TOP_LEFT: 'top_left'>, text=''), overlays=Overlays(interaction_box=InteractionBox(points=None, show=False, show_handle=False, show_vertices=False, selection_box_drag=None, selection_box_final=None, transform_start=<napari.utils.transforms.transforms.Affine object at 0x000001C1860B6F10>, transform_drag=<napari.utils.transforms.transforms.Affine object at 0x000001C1860B6F70>, transform_final=<napari.utils.transforms.transforms.Affine object at 0x000001C1860B6FD0>, transform=<napari.utils.transforms.transforms.Affine object at 0x000001C1860CC070>, allow_new_selection=True, selected_vertex=None)), help='', status='Ready', tooltip=Tooltip(visible=False, text=''), theme='dark', title='napari', mouse_over_canvas=False, mouse_move_callbacks=[<function InteractionBoxMouseBindings.initialize_mouse_events.<locals>.mouse_move at 0x000001C1A259F310>], mouse_drag_callbacks=[<function InteractionBoxMouseBindings.initialize_mouse_events.<locals>.mouse_drag at 0x000001C1A258A790>], mouse_double_click_callbacks=[], mouse_wheel_callbacks=[<function dims_scroll at 0x000001C11B6C4E50>], _persisted_mouse_event={}, _mouse_drag_gen={}, _mouse_wheel_gen={}, keymap={'Shift': <function InteractionBoxMouseBindings.initialize_key_events.<locals>.hold_to_lock_aspect_ratio at 0x000001C1A258A3A0>, 'Control-Shift-R': <function InteractionBoxMouseBindings._reset_active_layer_affine at 0x000001C1A258ACA0>, 'Control-Shift-A': <function InteractionBoxMouseBindings._transform_active_layer at 0x000001C1A258A550>})"
      ]
     },
     "execution_count": 38,
     "metadata": {},
     "output_type": "execute_result"
    }
   ],
   "source": []
  },
  {
   "cell_type": "code",
   "execution_count": 18,
   "id": "4a5f4049-77ba-4d6f-b0da-15aea36e081b",
   "metadata": {},
   "outputs": [],
   "source": [
    "ifov =264\n"
   ]
  },
  {
   "cell_type": "code",
   "execution_count": 19,
   "id": "70039f06-f3a8-4096-908a-0bf671c87f10",
   "metadata": {},
   "outputs": [
    {
     "name": "stderr",
     "output_type": "stream",
     "text": [
      "100%|████████████████████████████████████████████████████████████████████████████████| 36/36 [00:00<00:00, 2886.15it/s]\n"
     ]
    }
   ],
   "source": [
    "\n",
    "for ifov in tqdm(ifovs):\n",
    "    im_nc,Xh,im_dapi,icol,x,y = load_imsm(gene,ifovs)\n",
    "    "
   ]
  },
  {
   "cell_type": "code",
   "execution_count": null,
   "id": "0f3c5d5e-f7fd-403f-8f7f-b68d8b6fc549",
   "metadata": {},
   "outputs": [],
   "source": [
    "def get_mosaic(gene = 'Ifit1',fovs = [1277, 1278, 1273, 1276, 1252, 1251, 1274, 1275, 1253, 1304, 1305, 1306],subtract_bk=True):\n",
    "    ims,xy,txy = [],[],[]\n",
    "    #fovs = [999, 1000, 1001, 1002, 1003, 1004, 1005, 1006, 1007, 1008, 1009, 1010, 1011, 1012, 1013, 1043, 1044, 1045, 1046, 1047, 1048, 1049, 1050, 1051, 1052, 1053, 1054, 1055, 1056, 1057, 1058, 1059, 1060, 1061, 1062, 1063, 1064, 1065, 1066, 1067, 1068, 1069, 1070, 1071, 1072, 1073, 1074, 1075, 1076, 1077, 1078, 1079, 1080, 1081, 1082, 1083, 1084, 1085, 1086, 1087, 1088, 1089, 1090, 1091, 1092, 1093, 1094, 1095, 1096, 1097, 1098, 1099, 1100, 1101, 1102, 1103, 1104, 1105, 1106, 1107, 1108, 1109, 1110, 1111, 1112, 1113, 1114, 1115, 1116, 1117, 1118, 1119, 1120, 1121, 1122, 1123, 1124, 1125, 1126, 1127, 1128, 1129, 1130, 1131, 1132, 1133, 1134, 1135, 1136, 1137, 1138, 1139, 1140, 1141, 1142, 1143, 1144, 1145, 1146, 1147, 1148, 1149, 1150, 1151, 1152, 1153, 1154, 1155, 1156, 1157, 1158, 1159, 1160, 1161, 1162, 1163, 1164, 1165, 1166, 1167, 1168, 1169, 1170, 1171, 1172, 1173, 1174, 1175, 1176, 1177, 1178, 1179, 1180, 1181, 1182, 1183, 1184, 1185, 1186, 1187, 1188, 1189, 1190, 1191, 1192, 1193, 1194, 1195, 1196, 1197, 1198, 1199, 1200, 1201, 1202, 1203, 1204, 1205, 1206, 1207, 1208, 1209, 1210, 1211, 1212, 1213, 1214, 1215, 1216, 1217, 1218, 1219, 1220, 1221, 1222, 1223, 1224, 1225, 1226, 1227, 1228, 1229, 1230, 1231, 1232, 1233, 1234, 1235, 1236, 1237, 1238, 1239, 1240, 1241, 1242, 1243, 1244, 1245, 1246, 1247, 1248, 1249, 1250, 1251, 1252, 1253, 1254, 1255, 1256, 1257, 1258, 1259, 1260, 1261, 1262, 1263, 1264, 1265, 1266, 1267, 1268, 1269, 1270, 1271, 1272, 1273, 1274, 1275, 1276, 1277, 1278, 1279, 1280, 1281, 1282, 1283, 1284, 1285, 1286, 1287, 1288, 1289, 1290, 1291, 1292, 1293, 1294, 1295, 1296, 1297, 1298, 1299, 1300, 1301, 1302, 1303, 1304, 1305, 1306, 1307, 1308, 1309, 1314, 1315, 1316, 1317, 1401, 1402, 1403, 1404]#np.unique([int(os.path.basename(fl).split('_')[0]) for fl in flsanalz])\n",
    "    for ifov in tqdm(fovs):\n",
    "        im,x,y,icol,tx_,ty_ = load_subtract_bk(gene,ifov,subtract_bk=subtract_bk)\n",
    "        ims.append(im)\n",
    "        xy.append([x,y])\n",
    "        txy.append([tx_,ty_])\n",
    "    xy = np.array(xy)\n",
    "    #ims = np.array(ims)\n",
    "    txy = np.array(txy)\n",
    "\n",
    "\n",
    "    xy_ = ((xy-np.min(xy,axis=0))/0.10833).astype(int)\n",
    "    sx,sy = ims[0].shape\n",
    "    sf = np.max(xy_,axis=0)+[3*sx+100,3*sy+100]\n",
    "    startx,starty = sx,sy\n",
    "    imf = np.zeros(sf,dtype=np.uint8)\n",
    "    ifov_coords = []\n",
    "    for im,(x,y),(txT,tyT)in zip(ims,xy_,txy):\n",
    "        imT = imf[(startx+x):(startx+x+sx-2),(starty+y):(starty+y+sy-2)]\n",
    "        im_to_add = im.T[::-1,::1][1:-1,1:-1]\n",
    "        sx,sy = im_to_add.shape\n",
    "\n",
    "        #tx_,tx__,ty_,ty__ = get_txy(-tx,-ty)\n",
    "        #tx = ty_\n",
    "        #ty = tx_\n",
    "        \n",
    "        tx_,tx__,ty_,ty__ = get_txy(-txT,-tyT)\n",
    "        #tx = -100\n",
    "        ty = tx_\n",
    "        tx= ty_\n",
    "        imf[(startx+tx+x):(startx+tx+x+sx),(starty+ty+y):(starty+ty+y+sy)] = im_to_add\n",
    "        ifov_coords.append([((startx+tx+x)+(startx+tx+x+sx))/2,((starty+ty+y)+(starty+ty+y+sy))/2])\n",
    "    return imf,ifov_coords\n",
    "\n",
    "fovs = [1277, 1278, 1273, 1276, 1252, 1251, 1274, 1275, 1253, 1304, 1305, 1306]\n",
    "fovs = [999, 1000, 1001, 1002, 1003, 1004, 1005, 1006, 1007, 1008, 1009, 1010, 1011, 1012, 1013, 1043, 1044, 1045, 1046, 1047, 1048, 1049, 1050, 1051, 1052, 1053, 1054, 1055, 1056, 1057, 1058, 1059, 1060, 1061, 1062, 1063, 1064, 1065, 1066, 1067, 1068, 1069, 1070, 1071, 1072, 1073, 1074, 1075, 1076, 1077, 1078, 1079, 1080, 1081, 1082, 1083, 1084, 1085, 1086, 1087, 1088, 1089, 1090, 1091, 1092, 1093, 1094, 1095, 1096, 1097, 1098, 1099, 1100, 1101, 1102, 1103, 1104, 1105, 1106, 1107, 1108, 1109, 1110, 1111, 1112, 1113, 1114, 1115, 1116, 1117, 1118, 1119, 1120, 1121, 1122, 1123, 1124, 1125, 1126, 1127, 1128, 1129, 1130, 1131, 1132, 1133, 1134, 1135, 1136, 1137, 1138, 1139, 1140, 1141, 1142, 1143, 1144, 1145, 1146, 1147, 1148, 1149, 1150, 1151, 1152, 1153, 1154, 1155, 1156, 1157, 1158, 1159, 1160, 1161, 1162, 1163, 1164, 1165, 1166, 1167, 1168, 1169, 1170, 1171, 1172, 1173, 1174, 1175, 1176, 1177, 1178, 1179, 1180, 1181, 1182, 1183, 1184, 1185, 1186, 1187, 1188, 1189, 1190, 1191, 1192, 1193, 1194, 1195, 1196, 1197, 1198, 1199, 1200, 1201, 1202, 1203, 1204, 1205, 1206, 1207, 1208, 1209, 1210, 1211, 1212, 1213, 1214, 1215, 1216, 1217, 1218, 1219, 1220, 1221, 1222, 1223, 1224, 1225, 1226, 1227, 1228, 1229, 1230, 1231, 1232, 1233, 1234, 1235, 1236, 1237, 1238, 1239, 1240, 1241, 1242, 1243, 1244, 1245, 1246, 1247, 1248, 1249, 1250, 1251, 1252, 1253, 1254, 1255, 1256, 1257, 1258, 1259, 1260, 1261, 1262, 1263, 1264, 1265, 1266, 1267, 1268, 1269, 1270, 1271, 1272, 1273, 1274, 1275, 1276, 1277, 1278, 1279, 1280, 1281, 1282, 1283, 1284, 1285, 1286, 1287, 1288, 1289, 1290, 1291, 1292, 1293, 1294, 1295, 1296, 1297, 1298, 1299, 1300, 1301, 1302, 1303, 1304, 1305, 1306, 1307, 1308, 1309, 1314, 1315, 1316, 1317, 1401, 1402, 1403, 1404]#np.unique([int(os.path.basename(fl).split('_')[0]) for fl in flsanalz])\n",
    "\n"
   ]
  }
 ],
 "metadata": {
  "kernelspec": {
   "display_name": "Python 3 (ipykernel)",
   "language": "python",
   "name": "python3"
  },
  "language_info": {
   "codemirror_mode": {
    "name": "ipython",
    "version": 3
   },
   "file_extension": ".py",
   "mimetype": "text/x-python",
   "name": "python",
   "nbconvert_exporter": "python",
   "pygments_lexer": "ipython3",
   "version": "3.9.16"
  }
 },
 "nbformat": 4,
 "nbformat_minor": 5
}
