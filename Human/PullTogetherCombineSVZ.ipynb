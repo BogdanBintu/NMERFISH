{
 "cells": [
  {
   "cell_type": "code",
   "execution_count": 1,
   "id": "49a4888e-0920-4380-8dda-c06cb88a9f38",
   "metadata": {},
   "outputs": [],
   "source": [
    "import sys\n",
    "sys.path.append(r'..\\\\')\n",
    "from ioMicro import *"
   ]
  },
  {
   "cell_type": "code",
   "execution_count": 9,
   "id": "133bad73-0e8d-40e5-a728-7ae9fc1c045c",
   "metadata": {},
   "outputs": [],
   "source": [
    "fl = r'\\\\192.168.0.127\\Raw_data\\Roy\\HumanSVZMER_6_26_2023\\Drift\\driftNew_Conv_zscan__264--_set1.pkl'\n",
    "drft,flds,fov,fl_ref = np.load(fl,allow_pickle=True)\n",
    "drftT = [drf[0] for drf in drft]"
   ]
  },
  {
   "cell_type": "code",
   "execution_count": 88,
   "id": "9508e7c9-4f99-4afd-a77a-5c88ed5c379e",
   "metadata": {},
   "outputs": [
    {
     "name": "stdout",
     "output_type": "stream",
     "text": [
      "Loaded decoded: -0.31621670722961426\n",
      "Loaded decoded: -0.6111452579498291\n",
      "Loaded decoded: -0.8000900745391846\n",
      "Loaded decoded: -0.6419408321380615\n",
      "Loaded decoded: -0.6335418224334717\n",
      "Loaded decoded: -0.43420958518981934\n"
     ]
    }
   ],
   "source": [
    "save_folders = [r'\\\\192.168.0.127\\Raw_data\\Roy\\HumanSVZMER_6_26_2023\\MERFISH_Analysis_group1',\n",
    "               r'\\\\192.168.0.127\\Raw_data\\Roy\\HumanSVZMER_6_26_2023\\MERFISH_Analysis_group2',\n",
    "               r'\\\\192.168.0.127\\Raw_data\\Roy\\HumanSVZMER_6_26_2023\\MERFISH_Analysis_group3',\n",
    "               r'\\\\192.168.0.127\\Raw_data\\Roy\\HumanSVZMER_6_26_2023\\MERFISH_Analysis_group4',\n",
    "               r'\\\\192.168.0.127\\Raw_data\\Roy\\HumanSVZMER_6_26_2023\\MERFISH_Analysis_group5',\n",
    "               r'\\\\192.168.0.127\\Raw_data\\Roy\\HumanSVZMER_6_26_2023\\MERFISH_Analysis_group6']\n",
    "scoresRef = r'\\\\192.168.0.127\\Raw_data\\Roy\\HumanSVZMER_6_26_2023\\scoresRef.npy'\n",
    "drift_folder = r'\\\\192.168.0.127\\Raw_data\\Roy\\HumanSVZMER_6_26_2023\\Drift'\n",
    "segm_tag = 'H0_'\n",
    "segm_folder = r'\\\\192.168.0.127\\Raw_data\\Roy\\HumanSVZMER_6_26_2023\\Segmentation'\n",
    "\n",
    "th=-1.5\n",
    "ncols=2\n",
    "tag_save='finaldecs_'\n",
    "force=False\n",
    "save_folder_all = r'\\\\192.168.0.127\\Raw_data\\Roy\\HumanSVZMER_6_26_2023\\Combined'\n",
    "fov='Conv_zscan__220'\n",
    "set_='_set1'\n",
    "plt_val=False\n",
    "\n",
    "\n",
    "if type(scoresRef) is str: scoresRef = np.load(scoresRef,allow_pickle=True)\n",
    "save_fl = save_folder_all+os.sep+os.sep+tag_save+fov.split('.')[0]+'--'+set_+'.npz'\n",
    "if not os.path.exists(save_fl) or force:\n",
    "    \n",
    "    if not os.path.exists(save_folder_all): os.makedirs(save_folder_all)\n",
    "    ### Load dapi\n",
    "    dec.fl_dapi = segm_folder+os.sep+fov+'--'+segm_tag+set_+'--dapi_segm.npz'\n",
    "    dic = np.load(dec.fl_dapi)\n",
    "    im_segm = dic['segm']\n",
    "    dec.shape = dic['shape']\n",
    "    dec.shapesm = np.array(dec.im_segm_.shape)\n",
    "    dec.im_segm_=stitch3d_new(im_segm,minsz = 200,maxsz = 1000,th_int=0.66,th_cover=0.8,th_max_subcell=0.66,nexpand = 5)\n",
    "\n",
    "    ### Load point data ###############################\n",
    "    all_gns_names = []\n",
    "    XFF,genesFF = None,None\n",
    "    for save_folder in save_folders:\n",
    "        #save_folder = save_folders[0]\n",
    "        dec = decoder_simple(save_folder,fov,set_)\n",
    "        loaded = dec.load_decoded()\n",
    "        if not loaded:\n",
    "            print(save_fl, \"Did not have a valid decoded file.\")\n",
    "            #return None\n",
    "        dec.gns_names = np.array([gn+'_e' if gn in all_gns_names else gn for gn in dec.gns_names])\n",
    "        all_gns_names = np.unique(np.concatenate([all_gns_names,dec.gns_names]))\n",
    "    \n",
    "        ### Threshold point data ###############################\n",
    "        dec.ncols=ncols\n",
    "        get_score_withRef(dec,scoresRef,plt_val=plt_val,gene=None,iSs = None)\n",
    "        dec.th=th\n",
    "        if plt_val:\n",
    "            plot_statistics(dec)\n",
    "        #print(dec.gns_ordered)\n",
    "        \n",
    "        keepf =  dec.scoreA>dec.th ### keep good score\n",
    "        icodesf = dec.icodesN[keepf]\n",
    "        XHfpr = dec.XH_pruned[keepf]\n",
    "    \n",
    "        ### Reorganize data  ###############################\n",
    "        XHf = np.mean(XHfpr,axis=1)\n",
    "        XF = XHf[:,[0,1,2,-5,-4,-3,-2,-1,-1,-1,-1]]\n",
    "        #zc,xc,yc,bk-7,a-6,habs-5,hn-4,h-3\n",
    "        XF[:,-1] = dec.scoreA[keepf]\n",
    "        XF[:,-2] = np.where(keepf)[0]\n",
    "        mnD = np.mean(np.linalg.norm((XHf[:,np.newaxis]-XHfpr)[:,:,:3],axis=-1),axis=-1)\n",
    "        XF[:,-3]=mnD\n",
    "        mnH = np.mean(np.abs((XHf[:,np.newaxis]-XHfpr)[:,:,-3]),axis=-1)\n",
    "        XF[:,-4]=mnH\n",
    "        genesf = dec.gns_names[icodesf]\n",
    "    \n",
    "        ### Load and apply drift correction\n",
    "        def get_drft_dic(fl_all_drift):\n",
    "            drft,flds,fov_,fl_ref= np.load(fl_all_drift,allow_pickle=True)\n",
    "            return {'--'.join(fld.split(os.sep)[-2:]):drft_[0] for fld,drft_ in zip(flds,drft)}\n",
    "        fl_all_drift = drift_folder+os.sep+'driftNew_'+fov+'--'+set_+'.pkl'\n",
    "        drft_dic_all = get_drft_dic(fl_all_drift)\n",
    "        fl_all_drift = save_folder+os.sep+'driftNew_'+fov+'--'+set_+'.pkl'\n",
    "        drft_dic_group = get_drft_dic(fl_all_drift)\n",
    "        key_segm = [key for key in drft_dic_all if segm_tag in key][0]\n",
    "        key_align = np.intersect1d(list(drft_dic_all.keys()),list(drft_dic_group.keys()))[0]\n",
    "        th1_to_h0 = drft_dic_all[key_segm]-drft_dic_all[key_align]\n",
    "        th1_gr = drft_dic_group[key_align]\n",
    "        tzxyf = th1_gr+th1_to_h0\n",
    "        XF[:,:3]=XF[:,:3]-tzxyf\n",
    "        if XFF is None:\n",
    "            XFF,genesFF = XF,genesf\n",
    "        else:\n",
    "            XFF,genesFF = np.concatenate([XFF,XF]),np.concatenate([genesFF,genesf])\n",
    "            \n",
    "   \n",
    "\n",
    "    def get_cell_id(dec,Xh):\n",
    "        if not hasattr(dec,'im_segm_'): \n",
    "            good = np.ones(len(Xh),dtype=bool)\n",
    "            cells_ = np.zeros(len(Xh),dtype=int)\n",
    "            return cells_,good\n",
    "        im_segm = dec.im_segm_\n",
    "        dec.shapesm = dec.im_segm_.shape\n",
    "        Xcms = Xh[:,:3]\n",
    "        Xred = np.round((Xcms/dec.shape)*dec.shapesm).astype(int)\n",
    "        good = ~np.any((Xred>=dec.shapesm)|(Xred<0),axis=-1)\n",
    "        Xred = Xred[good]\n",
    "        return im_segm[tuple(Xred.T)],good\n",
    "\n",
    "    XF,genesf = XFF,genesFF  \n",
    "    cell_id,good = get_cell_id(dec,XF)\n",
    "    XF_ = np.concatenate([XF[good],cell_id[:,np.newaxis]],axis=-1)\n",
    "    genesf_ = genesf[good]\n",
    "    iset = int(dec.set_.split('_set')[-1])\n",
    "    ifov = int(dec.fov.split('_')[-1].split('.')[0])\n",
    "    isets = np.array([iset]*len(cell_id))[:,np.newaxis]\n",
    "    ifovs = np.array([ifov]*len(cell_id))[:,np.newaxis]\n",
    "    cell_id = cell_id[:,np.newaxis]\n",
    "    XF_ = np.concatenate([XF[good],cell_id,ifovs,isets],axis=-1)\n",
    "\n",
    "    get_xyfov(dec)\n",
    "    XF_ = XF_[:,list(np.arange(XF_.shape[-1]))+[-1,-1]]\n",
    "    XF_[:,-2:]=dec.xfov,dec.yfov\n",
    "    header = ['z','x','y','abs_brightness','cor','brightness','color','mean_bightness_variation','mean_distance_variation',\n",
    "              'index_from_XH_pruned','score','cell_id','ifov','iset','xfov','yfov']\n",
    "    \n",
    "    if not hasattr(dec,'im_segm_'): dec.im_segm_=np.zeros(np.array([30,3000,3000])//4)\n",
    "    icells,vols = np.unique(dec.im_segm_,return_counts=True)\n",
    "    cms = np.array(ndimage.center_of_mass(np.ones_like(dec.im_segm_),dec.im_segm_,icells))\n",
    "    #icells,vols = np.unique(dec.im_segm_,return_counts=True)\n",
    "    cms = np.array(ndimage.center_of_mass(np.ones_like(dec.im_segm_),dec.im_segm_,icells))\n",
    "    cellinfo = cms[:,[0,0,0,1,2,0,0]]\n",
    "    cellinfo[:,0]=icells\n",
    "    cellinfo[:,1]=vols\n",
    "    cellinfo[:,-2:]=dec.xfov,dec.yfov\n",
    "    header_cells = ['cell_id','volm','zc','xc','yc','xfov','yfov']\n",
    "    if False:\n",
    "        np.savez_compressed(save_fl,XF=XF_.astype(np.float32),\n",
    "                            genes = genesf_,cellinfo=cellinfo.astype(np.float32),header_cells=header_cells,header=header)"
   ]
  },
  {
   "cell_type": "code",
   "execution_count": 104,
   "id": "2c9c65a1-c164-44b9-b481-0faab7dd112c",
   "metadata": {},
   "outputs": [
    {
     "data": {
      "text/plain": [
       "[[188, 0, 0, 0, 0, 0],\n",
       " [0, 187, 0, 0, 0, 0],\n",
       " [0, 0, 187, 0, 0, 0],\n",
       " [0, 0, 0, 188, 0, 0],\n",
       " [0, 0, 0, 0, 189, 0],\n",
       " [0, 0, 0, 0, 0, 189]]"
      ]
     },
     "execution_count": 104,
     "metadata": {},
     "output_type": "execute_result"
    }
   ],
   "source": [
    "fls = glob.glob(r'C:\\Scripts\\NMERFISH\\codebooks\\codebook_Sonia2colorP*_group*_blank.csv')\n",
    "\n",
    "gns = [[gn for gn in list(pd.read_csv(fl)['name']) if 'blank' not in gn] for fl in fls]\n",
    "[[len(np.intersect1d(gn1,gn2))for gn1 in gns] for gn2 in gns]"
   ]
  },
  {
   "cell_type": "code",
   "execution_count": 94,
   "id": "2246dfcd-1358-4115-81d1-0b941d6aead3",
   "metadata": {},
   "outputs": [
    {
     "name": "stdout",
     "output_type": "stream",
     "text": [
      "['AARD', 'ABCB1', 'ABI3BP', 'ACAT2', 'ACAT2_e', 'ACTC', 'ACTG1', 'ACTN1', 'ADAMTS17', 'ADAMTSL1', 'ADAMTSL3', 'ADARB2', 'ADGRG1', 'ADGRV1', 'AEBP1', 'AHCTF1', 'AHI1', 'AHI1_e', 'AHNAK2', 'AHNAK2_e', 'AIM2', 'AIM2_e', 'AKAP6', 'AKT3', 'ALDH1L1', 'ALOX5', 'AMBP', 'ANK2', 'ANK3', 'ANLN', 'ANXA2', 'ANXA2_e', 'AP2B1', 'APAF1', 'APBB1IP', 'APLP2', 'APOC1', 'APOD', 'APOD_e', 'APOE', 'APOE_e', 'APOO', 'APP', 'AQP4', 'ARL17B', 'ARPP21', 'ARPP21_e', 'ASIC2', 'ASIC4', 'ATOH8', 'ATP13A4', 'ATP13A4_e', 'ATP1B1', 'ATP1B3', 'ATP5E', 'ATP5E_e', 'ATP5G2', 'ATP6AP2', 'ATP6V1F', 'ATP6V1F_e', 'ATP7B', 'ATP8A2', 'ATPIF1', 'ATPIF1_e', 'B2M', 'BAD', 'BAX', 'BCAS1', 'BCHE', 'BCL-X', 'BCL2', 'BEX1', 'BEX1_e', 'BEX2', 'BEX2_e', 'BRAP', 'BRCA1', 'BRCA1_e', 'BRCA2', 'BRIP1', 'C1ORF132', 'C1ORF172', 'C1ORF172_e', 'C1QB', 'C1QC', 'C1QC_e', 'C1QL3', 'C4ORF26', 'C4ORF26_e', 'C9ORF142', 'C9ORF72', 'C9ORF72_e', 'CA1', 'CA10', 'CA2', 'CABLES1', 'CABLES1_e', 'CACNA1A', 'CACNA1D', 'CACNA1E', 'CACNA1H', 'CADM2', 'CADM2_e', 'CALM1', 'CALM1_e', 'CALM2', 'CALM2_e', 'CAPN2', 'CAPNS1', 'CAPNS1_e', 'CASP1', 'CASP10', 'CASP14', 'CASP1_e', 'CASP3', 'CASP4', 'CASP4_e', 'CASP5', 'CASP5_e', 'CASP6', 'CASP7', 'CASP8', 'CASP8_e', 'CASP9', 'CATALASE', 'CAV1', 'CAV1_e', 'CBLN1', 'CBLN2', 'CBX5', 'CBX8', 'CBX8_e', 'CCDC13', 'CCDC13_e', 'CCDC8', 'CCDC85A', 'CCNJL', 'CD44', 'CD63', 'CD74', 'CD81', 'CD83', 'CDC42', 'CDH13', 'CDH3', 'CDH8', 'CDK20', 'CEMIP', 'CENPV', 'CERS2', 'CERS2_e', 'CES4A', 'CES4A_e', 'CETN2', 'CETN3', 'CGAS', 'CHAT', 'CHCHD10', 'CHCHD10_e', 'CHMP1A', 'CHMP2A', 'CHMP3', 'CHMP5', 'CHMP6', 'CHN1', 'CHN1_e', 'CHN2', 'CHN2_e', 'CHRFAM7A', 'CHRM5', 'CHRNA2', 'CHST11', 'CHST9', 'CIAP-1', 'CIAP-2', 'CIITA', 'CIP1', 'CIRBP', 'CIRBP_e', 'CKB', 'CLASP1', 'CLASP2', 'CLASPIN', 'CLDND1', 'CLEC5A', 'CLK1', 'CLU', 'CLYBL', 'CNOT6', 'CNR1', 'CNTNAP4', 'COL11A1', 'COL15A1', 'COL20A1', 'COLEC12', 'COX4I1', 'COX5B', 'COX6B1', 'COX7A2L', 'COX7C', 'CP', 'CPLX3', 'CREB5', 'CRHR2', 'CRYAB', 'CSE1L', 'CSF1R', 'CSNK1E', 'CST3', 'CST3_e', 'CTTNBP2NL', 'CX3CR1', 'CXCL14', 'CXORF28', 'CYBA', 'CYP4B1', 'DAAM2', 'DACH1', 'DCC', 'DCLRE1C', 'DCX', 'DDB2', 'DHFR', 'DLGAP1', 'DLGAP4', 'DLX1', 'DLX2', 'DOCK8', 'DPF2', 'DSCAM', 'DSG3', 'DST', 'DUSP1', 'DUSP14', 'DYNC1H1', 'DYNLL1', 'EBP', 'EGFR', 'EID1', 'EIF1', 'EIF4A2', 'ELAVL1', 'ELAVL2', 'ELAVL4', 'ENPP1', 'ENPP6', 'ENY2', 'EPB41', 'EPB41L3', 'EPHA6', 'EPSTI1', 'ERBB2IP', 'ERC2', 'ERCC1', 'ERCC2', 'ERCC3', 'ERCC4', 'ERCC5', 'ERCC8', 'ERGIC', 'EXO1', 'EYA4', 'FADD', 'FAM150B', 'FAM193A', 'FAM20A', 'FAN1', 'FBN2', 'FBXO2', 'FCGBP', 'FCHSD2', 'FEZF2', 'FGF10', 'FGF2', 'FGFR2', 'FILIP1L', 'FLRT1', 'FLT1', 'FNDC1', 'FREM2', 'FRZB', 'FTH1', 'FTL', 'FXR1', 'FZD7', 'GABBR1', 'GABPA', 'GADD45B', 'GALNTL6', 'GAP43', 'GFAP', 'GJA1', 'GLI2', 'GLIS3', 'GLRA3', 'GPNMB', 'GPRC5B', 'GRANZYMEA', 'GRANZYMEB', 'GRIA1', 'GRIA2', 'GRID2', 'GRINA', 'GRM3', 'GRM5', 'GSDMD', 'GSDME', 'GSX1', 'GULP1', 'HAND1', 'HERC1', 'HHIPL1', 'HIF1', 'HIF3A', 'HINT1', 'HLA-DRA', 'HLA-DRB1', 'HMGB1', 'HMGN3', 'HMOX1', 'HMOX2', 'HNRNPA1', 'HNRNPH1', 'HOXA11', 'HOXA5', 'HOXA7', 'HOXD10', 'HOXD8', 'HOXD9', 'HPSE2', 'HS6ST3', 'HSP90AA1', 'HSP90AB1', 'HSPA1A', 'HSPA1B', 'HSPA8', 'HSPB1', 'HSPB6', 'HSPH1', 'HTRA2', 'HTT', 'ICA1', 'IFI44L', 'IFI6', 'IFNAR1', 'IFNG-AS1', 'IGBP1', 'IGF1R', 'IGFBP7', 'IKKA', 'IKKB', 'IL13RA1', 'IL1RAPL2', 'IL6', 'IL6R', 'IMMT', 'IPO11', 'IPO5', 'IPO7', 'IPO9', 'IRF3', 'ISG15', 'ISG20', 'ISX', 'ITGB1', 'ITGB1BP1', 'ITPR1', 'ITPRIP', 'JAK2', 'KCNA1', 'KCNC2', 'KCNG1', 'KCNH8', 'KCNIP1', 'KCNIP2', 'KCNIP4', 'KCNQ2', 'KDM1A', 'KIF1A', 'KIF21A', 'KIF5A', 'KIF5B', 'KIF5C', 'KIP1', 'KIRREL3', 'KLC1', 'KLF5', 'KLHL1', 'KPNA1', 'KPNA3', 'KPNB1', 'KRBOX4', 'LAMA4', 'LBR', 'LDHB', 'LDLRAD3', 'LEMD2', 'LIG1', 'LIG4', 'LINC00343', 'LINC00499', 'LINC00609', 'LINC01107', 'LINC01202', 'LINC01497', 'LINGO1', 'LIVIN', 'LMNA', 'LMNB1', 'LMNTD1', 'LNPEP', 'LNX2', 'LPGAT1', 'LPIN1', 'LRIG3', 'LRP1B', 'LRRC37A', 'LRRC7', 'LUC7L', 'LUZP2', 'MACF1', 'MADD', 'MAG', 'MAML2', 'MAOB', 'MAP2', 'MAP2K4', 'MAP4', 'MAP6D1', 'MAPK10', 'MAPT', 'MARCKS', 'MARCKSL1', 'MARK3', 'MCF2L2', 'MED12L', 'MEF2D', 'MEG3', 'MEPE', 'MID1IP1', 'MLH1', 'MLH3', 'MLIP', 'MLKL', 'MNX1', 'MOBP', 'MOG', 'MRC1', 'MSH2', 'MSH3', 'MSH4', 'MSH5', 'MSH6', 'MT1E', 'MT1G', 'MT1X', 'MT2A', 'MUS81', 'MYCBP2', 'MYH9', 'MYO18A', 'MYO1E', 'MZT2B', 'NAMPT', 'NAV1', 'NAV2', 'NCAM2', 'NDEL1', 'NDRG4', 'NDUFA4', 'NEAT1', 'NEFH', 'NEFM', 'NEMO', 'NES', 'NEUROD1', 'NEUROG2', 'NGFRAP1', 'NHEJ1', 'NKAIN2', 'NLRP1', 'NLRP3', 'NLRP4', 'NMNAT2', 'NMU', 'NOSTRIN', 'NOVA1', 'NPAP1', 'NPSR1-AS1', 'NRF1', 'NRG1', 'NRM', 'NRXN1', 'NRXN3', 'NTNG1', 'NUMB', 'NUP107', 'NUP133', 'NUP153', 'NUP153_e', 'NUP155', 'NUP160', 'NUP188', 'NUP188_e', 'NUP205', 'NUP210', 'NUP210L', 'NUP210L_e', 'NUP210_e', 'NUP214', 'NUP214_e', 'NUP35', 'NUP37', 'NUP42', 'NUP43', 'NUP43_e', 'NUP50', 'NUP50_e', 'NUP54', 'NUP58', 'NUP62', 'NUP62CL', 'NUP62CL_e', 'NUP85', 'NUP85_e', 'NUP88', 'NUP88_e', 'NUP93', 'NUP93_e', 'NUP98', 'NUTF2', 'NXF1', 'NXPH1', 'NXPH1_e', 'NXT1', 'NXT1_e', 'NXT2', 'OLFM3', 'OLIG1', 'OLIG2', 'OPALIN', 'OPALIN_e', 'OTOGL', 'OTOGL_e', 'OTP', 'OTP_e', 'P2RY12', 'P4HA3', 'P53', 'PABPC1', 'PACRGL', 'PARD3', 'PARD3_e', 'PAWR', 'PAWR_e', 'PAX2', 'PAX2_e', 'PAX6', 'PBX1', 'PCDH11X', 'PCDH15', 'PCDH15_e', 'PCDH9', 'PCSK1N', 'PCSK5', 'PDE1A', 'PDE1A_e', 'PDE2A', 'PDE2A_e', 'PDE4B', 'PDGFD', 'PDGFRA', 'PDK4', 'PDK4_e', 'PDLIM7', 'PDYN', 'PDYN_e', 'PDZRN4', 'PDZRN4_e', 'PEA15', 'PEBP1', 'PENK', 'PFKP', 'PHF21A', 'PHLDB3', 'PHYHD1', 'PHYHD1_e', 'PIK3CD', 'PITX1', 'PITX1_e', 'PKD2L1', 'PKD2L1_e', 'PKM', 'PKN1', 'PLA2G4A', 'PLA2G4C', 'PLAAT1', 'PLAAT3', 'PLAAT3_e', 'PLCB1', 'PLCB1_e', 'PLCE1', 'PLCG1', 'PLCG1_e', 'PLCH1', 'PLCXD3', 'PLD5', 'PLD5_e', 'PLEC', 'PLEKHA1', 'PLEKHA1_e', 'PLEKHA5', 'PLEKHA5_e', 'PLP1', 'PLPP6', 'PLPP7', 'PLPPR1', 'PLPPR1_e', 'PLXDC2', 'PLXDC2_e', 'PLXNB1', 'PMS1', 'PMS2', 'PNKP', 'PNN', 'PNO1', 'POGK', 'POGK_e', 'POLD1', 'POLDIP3', 'POLR3G', 'POM121', 'POM121C', 'POM121C_e', 'POM121L12', 'POM121L2', 'POM121_e', 'POMZP3', 'POMZP3_e', 'PON2', 'POU3F2', 'POU4F2', 'POU4F2_e', 'POU6F2', 'PPIA', 'PPP2R2B', 'PPP6R3', 'PRDX1', 'PRELID2', 'PREX2', 'PRKD1', 'PRKD1_e', 'PRKDC', 'PRKG1', 'PRKX', 'PRKX_e', 'PROKR2', 'PROKR2_e', 'PRPH', 'PRRT4', 'PRUNE2', 'PRUNE2_e', 'PSD3', 'PSMA2', 'PSMA3', 'PSMA4', 'PSMA6', 'PSMB7', 'PSMC1', 'PSMC4', 'PSMD11', 'PSMD7', 'PSMD8', 'PTBP1', 'PTBP2', 'PTGDS', 'PTGER3', 'PTGER3_e', 'PTMA', 'PTP4A2', 'PTPN3', 'PTPN3_e', 'PTPRD', 'PTPRG', 'PTPRK', 'PTPRT', 'PTPRZ1', 'PTPRZ1_e', 'PVALB', 'PVRL2', 'PVRL2_e', 'QDPR', 'RAB11FIP1', 'RAB11FIP1_e', 'RAB27B', 'RAB3A', 'RAB3D', 'RAB7A', 'RABAC1', 'RAD23B', 'RAD51', 'RAE1', 'RAMP1', 'RAN', 'RANBP1', 'RANBP17', 'RANBP17_e', 'RANBP1_e', 'RANBP2', 'RANBP2_e', 'RANBP3', 'RANBP3L', 'RANGAP1', 'RAP1GAP', 'RAP1GAP2', 'RAP1GAP2_e', 'RAPGEF4', 'RAPGEF4_e', 'RAPGEF6', 'RAPGEF6_e', 'RAPH1', 'RASGEF1B', 'RASGRF2', 'RBBP8', 'RBFOX1', 'RBFOX3', 'RBFOX3_e', 'RBMS3', 'RBMS3_e', 'RCOR1', 'RELN', 'RELN_e', 'RERE', 'REST', 'RGPD1', 'RGPD2', 'RGPD3', 'RGPD4', 'RGPD4_e', 'RGPD5', 'RGPD6', 'RGPD6_e', 'RGS6', 'RGS6_e', 'RIP1', 'RIP3', 'RIT2', 'RLBP1', 'RMST', 'RNASE1', 'RNASE1_e', 'RNASET2', 'RNASET2_e', 'RNF219-AS1', 'ROBO1', 'RORA', 'RORB', 'RORB_e', 'RPH3AL', 'RPH3AL_e', 'RPL15', 'RPL18A', 'RPLP1', 'RPN2', 'RPRM', 'RPS19', 'RPS6', 'RRM2B', 'RTKN2', 'RTN1', 'RTN4', 'RUFY1', 'RUFY3', 'RXFP1', 'RXFP1_e', 'RYR1', 'RYR2', 'RYR3', 'RYR3_e', 'S100A10', 'S100B', 'S100B_e', 'SAMD13', 'SAMD13_e', 'SARAF', 'SARM1', 'SAT1', 'SATB2', 'SCARB2', 'SCG5', 'SCML4', 'SCN1A', 'SCRG1', 'SDCBP', 'SDCBP_e', 'SEC13', 'SEC13_e', 'SEH1L', 'SEMA5A', 'SEPT6', 'SEPT7', 'SEPW1', 'SERPINI2', 'SERPINI2_e', 'SETD5', 'SEZ6L', 'SEZ6L_e', 'SH2D1B', 'SH2D1B_e', 'SH3BGRL3', 'SH3KBP1', 'SH3KBP1_e', 'SH3RF3', 'SHISA6', 'SHISA9', 'SIRPB1', 'SIRPB1_e', 'SIX1', 'SIX1_e', 'SLC11A1', 'SLC14A1', 'SLC16A12', 'SLC16A12_e', 'SLC17A7', 'SLC1A2', 'SLC1A2_e', 'SLC1A3', 'SLC1A3_e', 'SLC22A18', 'SLC22A18_e', 'SLC25A24', 'SLC26A3', 'SLC32A1', 'SLC38A2', 'SLC44A1', 'SLC6A12', 'SLC6A16', 'SLC6A20', 'SLC7A11', 'SLC7A11_e', 'SLC7A6OS', 'SLC7A6OS_e', 'SLIT2', 'SLN', 'SLX1B', 'SLX4', 'SMAC', 'SMN2', 'SMOC1', 'SMOC1_e', 'SMPD4', 'SMURF2', 'SMYD1', 'SMYD1_e', 'SNAP25', 'SNCA', 'SNCB', 'SNTG2', 'SNTG2_e', 'SNUPN', 'SNUPN_e', 'SNX14', 'SOD1', 'SORCS1', 'SORCS1_e', 'SORL1', 'SORT1', 'SOX11', 'SOX13', 'SOX2', 'SOX5', 'SOX5_e', 'SOX6', 'SOX8', 'SOX9', 'SP8', 'SP8_e', 'SPARCL1', 'SPDYE2', 'SPHKAP', 'SPHKAP_e', 'SPOCK1', 'SPP1', 'SPTA1', 'SPTAN1', 'SPTAN1_e', 'SPTB', 'SPTBN1', 'SPTBN1_e', 'SPTBN2', 'SPTBN4', 'SPTBN5', 'SPTB_e', 'SREBF1', 'SREBF2', 'SRGN', 'SRGN_e', 'SRP14', 'SRPK1', 'SRRM2', 'SRSF3', 'SST', 'ST18', 'ST18_e', 'ST6GAL1', 'ST6GAL1_e', 'STARD13', 'STAT1', 'STK17B', 'STMN1', 'STMN2', 'STMN2_e', 'STMN3', 'STMN4', 'STXBP1', 'STXBP1_e', 'STXBP6', 'STXBP6_e', 'SUN1', 'SUN2', 'SUN3', 'SUN5', 'SUN5_e', 'SURVIVIN', 'SV2C', 'SWSAP1', 'SYN1', 'SYNDIG1', 'SYNDIG1_e', 'SYNE1', 'SYNE1_e', 'SYNE2', 'SYNE3', 'SYNE4', 'SYNE4_e', 'SYNM', 'SYT1', 'SYT7', 'SYT7_e', 'SYTL3', 'SYTL4', 'TAB', 'TAC3', 'TAC3_e', 'TAFA1', 'TAFA2', 'TAK1', 'TARDBP', 'TBK1', 'TBX5', 'TBX5_e', 'TCERG1', 'TCF7L2', 'TENM2', 'TFEB', 'TH', 'THEMIS', 'THSD7A', 'THSD7A_e', 'THSD7B', 'THSD7B_e', 'TIMP2', 'TMEM106B', 'TMEM106C', 'TMEM106C_e', 'TMEM132C', 'TMEM170A', 'TMEM176B', 'TMEM176B_e', 'TMEM18', 'TMEM18_e', 'TMEM2', 'TMEM201', 'TMEM201_e', 'TMEM241', 'TMEM43', 'TMPO', 'TMSB10', 'TMSB4X', 'TMTC2', 'TMTC2_e', 'TNC', 'TNF', 'TNFAIP6', 'TNFAIP6_e', 'TNFRSF1A', 'TNNT2', 'TNNT2_e', 'TNPO3', 'TOR1A', 'TOR1AIP1', 'TOR1AIP2', 'TOR1A_e', 'TOR1B', 'TOR1B_e', 'TOR2A', 'TOR2A_e', 'TOR3A', 'TOR4A', 'TOX', 'TOX_e', 'TP53BP1', 'TPD52L1', 'TPM3', 'TPR', 'TPT1', 'TRADD', 'TRAF2', 'TRAF5', 'TRAPPC12', 'TRAPPC12_e', 'TREM2', 'TREX1', 'TRHDE', 'TRHDE_e', 'TRPM3', 'TRRAP', 'TSHZ2', 'TSPAN7', 'TTC28', 'TTC28_e', 'TTLL7', 'TUBA1A', 'TUBA1A_e', 'TUBA1C', 'TUBA1C_e', 'TUBA3C', 'TUBA3D', 'TUBA3E', 'TUBA3E_e', 'TUBA4A', 'TUBA8', 'TUBA8_e', 'TUBB', 'TUBB1', 'TUBB1_e', 'TUBB2A', 'TUBB2A_e', 'TUBB2B', 'TUBB3', 'TUBB4A', 'TUBB4B', 'TUBB6', 'TUBB6_e', 'TUBB8', 'TUBB8_e', 'TUBG1', 'TUBG2', 'TUBG2_e', 'TYROBP', 'UBB', 'UBC', 'UBE2Z', 'UBE2Z_e', 'UCHL1', 'UHRF1', 'UHRF1_e', 'UNC13A', 'UNC13B', 'UNC13C', 'UNC5C', 'UNC5D', 'UNC5D_e', 'UNC79', 'UNC79_e', 'UQCR10', 'UQCRC2', 'UQCRC2_e', 'USP14', 'USP5', 'VCAN', 'VDAC3', 'VEGFA', 'VILL', 'VIM', 'VIM_e', 'VIP', 'VIPR2', 'VNN2', 'VNN2_e', 'VPS13A', 'VPS4A', 'VPS4A_e', 'VPS4B', 'VSIG4', 'VSNL1', 'VWA8', 'WDR48', 'WDR48_e', 'WHSC1L1', 'WHSC1L1_e', 'WNT4', 'WSB1', 'XIAP', 'XIST', 'XIST_e', 'XPA', 'XPC', 'XPO1', 'XPO1_e', 'XPO4', 'XPO7', 'XPOT', 'XPOT_e', 'XRCC1', 'XRCC4', 'XRCC5', 'XRCC6', 'XRCC6BP1', 'YWHAG', 'YWHAH', 'YWHAH_e', 'ZC3HAV1', 'ZFP36L1', 'ZFP36L2', 'ZFPM2', 'ZFPM2-AS1', 'ZMAT4', 'ZMAT4_e', 'ZNF138', 'ZNF138_e', 'ZNF292', 'ZNF295-AS1', 'ZNF385D', 'ZNF565', 'ZNF804B', 'ZNF804B_e', 'ZNF853', 'ZSWIM7', 'blank0000', 'blank0000_e', 'blank0001', 'blank0001_e', 'blank0002', 'blank0002_e', 'blank0003', 'blank0003_e', 'blank0004', 'blank0004_e', 'blank0005', 'blank0005_e', 'blank0006', 'blank0006_e', 'blank0007', 'blank0007_e', 'blank0008', 'blank0008_e', 'blank0009', 'blank0009_e', 'blank0010', 'blank0010_e', 'blank0011', 'blank0011_e', 'blank0012', 'blank0012_e', 'blank0013', 'blank0013_e', 'blank0014', 'blank0014_e', 'blank0015', 'blank0015_e', 'blank0016', 'blank0016_e', 'blank0017', 'blank0017_e', 'blank0018', 'blank0018_e', 'blank0019', 'blank0019_e', 'blank0020', 'blank0020_e', 'blank0021', 'blank0021_e', 'blank0022', 'blank0022_e', 'blank0023', 'blank0023_e', 'blank0024', 'blank0024_e', 'blank0025', 'blank0025_e', 'blank0026', 'blank0026_e', 'blank0027', 'blank0027_e', 'blank0028', 'blank0028_e', 'blank0029', 'blank0029_e', 'blank0030', 'blank0030_e', 'blank0031', 'blank0031_e', 'blank0032', 'blank0032_e', 'blank0033', 'blank0033_e', 'blank0034', 'blank0034_e', 'blank0035', 'blank0035_e', 'blank0036', 'blank0036_e', 'blank0037', 'blank0037_e', 'blank0038', 'blank0038_e', 'blank0039', 'blank0039_e', 'blank0040', 'blank0040_e', 'blank0041', 'blank0041_e', 'blank0042', 'blank0042_e', 'blank0043', 'blank0043_e', 'blank0044', 'blank0044_e', 'blank0045', 'blank0045_e', 'blank0046', 'blank0046_e', 'blank0047', 'blank0047_e', 'blank0048', 'blank0048_e', 'blank0049', 'blank0049_e', 'blank0050', 'blank0050_e', 'blank0051', 'blank0051_e', 'blank0052', 'blank0052_e', 'blank0053', 'blank0053_e', 'blank0054', 'blank0054_e', 'blank0055', 'blank0055_e', 'blank0056', 'blank0056_e', 'blank0057', 'blank0057_e', 'blank0058', 'blank0058_e', 'blank0059', 'blank0059_e', 'blank0060', 'blank0060_e', 'blank0061', 'blank0061_e', 'blank0062', 'blank0062_e', 'blank0063', 'blank0063_e', 'blank0064', 'blank0064_e', 'blank0065', 'blank0065_e', 'blank0066', 'blank0066_e', 'blank0067', 'blank0067_e', 'blank0068', 'blank0068_e', 'blank0069', 'blank0069_e', 'blank0070', 'blank0070_e', 'blank0071', 'blank0071_e', 'blank0072', 'blank0072_e', 'blank0073', 'blank0073_e', 'blank0074', 'blank0074_e', 'blank0075', 'blank0075_e', 'blank0076', 'blank0076_e', 'blank0077', 'blank0077_e', 'blank0078', 'blank0078_e', 'blank0079', 'blank0079_e', 'blank0080', 'blank0080_e', 'blank0081', 'blank0081_e', 'blank0082', 'blank0082_e', 'blank0083', 'blank0083_e', 'blank0084', 'blank0084_e', 'blank0085', 'blank0085_e', 'blank0086', 'blank0086_e', 'blank0087', 'blank0087_e', 'blank0088', 'blank0088_e', 'blank0089', 'blank0089_e', 'blank0090', 'blank0090_e', 'blank0091', 'blank0091_e', 'blank0092', 'blank0092_e', 'blank0093', 'blank0093_e', 'blank0094', 'blank0094_e', 'blank0095', 'blank0095_e', 'blank0096', 'blank0096_e', 'blank0097', 'blank0097_e', 'blank0098', 'blank0098_e', 'blank0099', 'blank0099_e', 'blank0100', 'blank0100_e', 'blank0101', 'blank0101_e', 'blank0102', 'blank0102_e', 'blank0103', 'blank0103_e', 'blank0104', 'blank0104_e', 'blank0105', 'blank0105_e', 'blank0106', 'blank0106_e', 'blank0107', 'blank0107_e', 'blank0108', 'blank0108_e', 'blank0109', 'blank0109_e', 'blank0110', 'blank0110_e', 'blank0111', 'blank0111_e', 'blank0112', 'blank0112_e', 'blank0113', 'blank0113_e', 'blank0114', 'blank0114_e', 'blank0115', 'blank0115_e', 'blank0116', 'blank0116_e', 'blank0117', 'blank0117_e', 'blank0118', 'blank0118_e', 'blank0119', 'blank0119_e', 'blank0120', 'blank0120_e', 'blank0121', 'blank0121_e', 'blank0122', 'blank0122_e', 'blank0123', 'blank0123_e', 'blank0124', 'blank0124_e', 'blank0125', 'blank0125_e', 'blank0126', 'blank0126_e', 'blank0127', 'blank0127_e', 'blank0128', 'blank0128_e', 'blank0129', 'blank0129_e', 'blank0130', 'blank0130_e', 'blank0131', 'blank0131_e', 'blank0132', 'blank0132_e', 'blank0133', 'blank0133_e', 'blank0134', 'blank0134_e', 'blank0135', 'blank0135_e', 'blank0136', 'blank0136_e', 'blank0137', 'blank0137_e', 'blank0138', 'blank0138_e', 'blank0139', 'blank0139_e', 'blank0140', 'blank0140_e', 'blank0141', 'blank0141_e', 'blank0142', 'blank0142_e', 'blank0143', 'blank0143_e', 'blank0144', 'blank0144_e', 'blank0145', 'blank0145_e', 'blank0146', 'blank0146_e', 'blank0147', 'blank0147_e', 'blank0148', 'blank0148_e', 'blank0149', 'blank0149_e', 'blank0150', 'blank0150_e', 'blank0151', 'blank0151_e', 'blank0152', 'blank0152_e', 'blank0153', 'blank0153_e', 'blank0154', 'blank0154_e', 'blank0155', 'blank0155_e', 'blank0156', 'blank0156_e', 'blank0157', 'blank0157_e', 'blank0158', 'blank0158_e', 'blank0159', 'blank0159_e', 'blank0160', 'blank0160_e', 'blank0161', 'blank0161_e', 'blank0162', 'blank0162_e', 'blank0163', 'blank0163_e', 'blank0164', 'blank0164_e', 'blank0165', 'blank0165_e', 'blank0166', 'blank0166_e', 'blank0167', 'blank0167_e', 'blank0168', 'blank0168_e', 'blank0169', 'blank0169_e', 'blank0170', 'blank0170_e', 'blank0171', 'blank0171_e', 'blank0172', 'blank0172_e', 'blank0173', 'blank0173_e', 'blank0174', 'blank0174_e', 'blank0175', 'blank0175_e', 'blank0176', 'blank0176_e', 'blank0177', 'blank0177_e', 'blank0178', 'blank0178_e', 'blank0179', 'blank0179_e', 'blank0180', 'blank0180_e', 'blank0181', 'blank0181_e', 'blank0182', 'blank0182_e', 'blank0183', 'blank0183_e', 'blank0184', 'blank0184_e', 'blank0185', 'blank0185_e', 'blank0186', 'blank0186_e', 'blank0187', 'blank0187_e', 'blank0188', 'blank0188_e']\n"
     ]
    }
   ],
   "source": [
    "print(list(np.unique(all_gns_names)))"
   ]
  },
  {
   "cell_type": "code",
   "execution_count": 67,
   "id": "4ac9b7cd-11a3-4d5c-a79a-721d3d5201ec",
   "metadata": {},
   "outputs": [],
   "source": [
    "segm_tag = 'H0_'\n",
    "segm_folder = r'\\\\192.168.0.127\\Raw_data\\Roy\\HumanSVZMER_6_26_2023\\Segmentation'\n"
   ]
  },
  {
   "cell_type": "code",
   "execution_count": 73,
   "id": "e394f05a-b5de-4a08-b7e5-59231a09161c",
   "metadata": {},
   "outputs": [],
   "source": []
  },
  {
   "cell_type": "code",
   "execution_count": 71,
   "id": "9a43d8f4-5757-4d7f-af55-15ad622066c9",
   "metadata": {},
   "outputs": [
    {
     "data": {
      "text/plain": [
       "(166986, 11)"
      ]
     },
     "execution_count": 71,
     "metadata": {},
     "output_type": "execute_result"
    }
   ],
   "source": []
  },
  {
   "cell_type": "code",
   "execution_count": null,
   "id": "a0bfe731-05d2-4a9f-b03a-12e3e7f5bbc5",
   "metadata": {},
   "outputs": [],
   "source": [
    "cell_id,good = get_cell_id(dec,XF)"
   ]
  },
  {
   "cell_type": "code",
   "execution_count": null,
   "id": "72f55013-ac71-4189-8dae-7d8958f77772",
   "metadata": {},
   "outputs": [],
   "source": []
  },
  {
   "cell_type": "code",
   "execution_count": 75,
   "id": "a027e280-e037-4a6c-9761-dc30d3e8bdee",
   "metadata": {},
   "outputs": [],
   "source": []
  },
  {
   "cell_type": "code",
   "execution_count": 76,
   "id": "ca8b4f55-68e8-4306-8a3a-76a129e14e16",
   "metadata": {},
   "outputs": [],
   "source": []
  },
  {
   "cell_type": "code",
   "execution_count": 80,
   "id": "56fd79b1-65b0-4752-aa5a-c493eea50be5",
   "metadata": {},
   "outputs": [
    {
     "data": {
      "text/plain": [
       "<Points layer 'Xred' at 0x25d07460ca0>"
      ]
     },
     "execution_count": 80,
     "metadata": {},
     "output_type": "execute_result"
    }
   ],
   "source": [
    "Xcms = XF[:,:3]-tzxyf\n",
    "Xred = np.round((Xcms/dec.shape)*dec.shapesm).astype(int)\n",
    "import napari\n",
    "v = napari.Viewer()\n",
    "v.add_labels(dec.im_segm_)\n",
    "v.add_points(Xred,size=0.5)"
   ]
  },
  {
   "cell_type": "code",
   "execution_count": null,
   "id": "8dafe315-ab54-4bd7-82d8-9c1792b25277",
   "metadata": {},
   "outputs": [],
   "source": [
    "Conv_zscan__324--H0__set1--dapi_segm.npz"
   ]
  },
  {
   "cell_type": "code",
   "execution_count": null,
   "id": "f50a7b95-e7b9-407a-a20c-97dc55e2efe7",
   "metadata": {},
   "outputs": [],
   "source": [
    "def save_final_decoding(save_folder,fov,set_,scoresRef,th=-1.5,ncols=3,\n",
    "                        tag_save = 'finaldecs_',\n",
    "                        plt_val=False,apply_flat=True,\n",
    "                        tags_smFISH=['Aldh','Sox11'],\n",
    "                        genes_smFISH=[['Igfbpl1','Aldh1l1','Ptbp1'],['Sox11','Sox2','Dcx']],Hths=None,force=False,try_mode=True):\n",
    "    \"\"\"\n",
    "    This loads the decoded points renormalizes them and picks the most confident points\n",
    "    \"\"\"\n",
    "    if type(scoresRef) is str: scoresRef = np.load(scoresRef,allow_pickle=True)\n",
    "    dec = decoder_simple(save_folder,fov,set_)\n",
    "    save_fl = dec.save_folder+os.sep+os.sep+tag_save+dec.fov.split('.')[0]+'--'+dec.set_+'.npz'\n",
    "    if not os.path.exists(save_fl) or force:\n",
    "        #print(dec.fov,dec.set_)\n",
    "        def main_subf(dec,save_fl,save_folder,fov,set_,scoresRef,th,ncols,plt_val,apply_flat,tags_smFISH,genes_smFISH,Hths,force):\n",
    "            nsegm = load_segmentation(dec)\n",
    "            loaded = dec.load_decoded()\n",
    "            if not loaded:\n",
    "                print(save_fl, \"Did not have a valid decoded file.\")\n",
    "                return None\n",
    "            if apply_flat:\n",
    "                apply_flat_field(dec)\n",
    "            apply_fine_drift(dec,plt_val=plt_val)\n",
    "            \n",
    "            #for i in range(3):\n",
    "            #    apply_brightness_correction(dec)\n",
    "            #get_scores(dec,plt_val=plt_val)\n",
    "            dec.ncols=ncols\n",
    "            get_score_withRef(dec,scoresRef,plt_val=plt_val,gene=None,iSs = None)\n",
    "            dec.th=th\n",
    "            #plot_1gene(dec,gene='Gad1',viewer = None)\n",
    "            if plt_val:\n",
    "                viewer = plot_multigenes(dec,genes=['Adcy1','Slc1a2','Psap'],colors=['r','g','b','m','c','y','w'],viewer = None,\n",
    "                                         smin=1,smax=2.5,drift=dec.drift[0],\n",
    "                                        resc = dec.shape/dec.im_segm_.shape)\n",
    "                viewer.add_labels(dec.im_segm_);\n",
    "            if plt_val:\n",
    "                plot_statistics(dec)\n",
    "            #print(dec.gns_ordered)\n",
    "\n",
    "            keepf =  dec.scoreA>dec.th ### keep good score\n",
    "            icodesf = dec.icodesN[keepf]\n",
    "            XHfpr = dec.XH_pruned[keepf]\n",
    "            XHf = np.mean(XHfpr,axis=1)\n",
    "            if Hths is None:\n",
    "                ICol = XHfpr[:,:,-2].astype(int)\n",
    "                Hths = [np.percentile(XHfpr[ICol==icol][:,-3],15) for icol in np.unique(ICol)]\n",
    "            \n",
    "            XF = XHf[:,[0,1,2,-5,-4,-3,-2,-1,-1,-1,-1]]\n",
    "            #zc,xc,yc,bk-7,a-6,habs-5,hn-4,h-3\n",
    "            XF[:,-1] = dec.scoreA[keepf]\n",
    "            XF[:,-2] = np.where(keepf)[0]\n",
    "            mnD = np.mean(np.linalg.norm((XHf[:,np.newaxis]-XHfpr)[:,:,:3],axis=-1),axis=-1)\n",
    "            XF[:,-3]=mnD\n",
    "            mnH = np.mean(np.abs((XHf[:,np.newaxis]-XHfpr)[:,:,-3]),axis=-1)\n",
    "            XF[:,-4]=mnH\n",
    "            genesf = dec.gns_names[icodesf]\n",
    "            \n",
    "            ### deal with smFISH\n",
    "            for tag_smFISH,gns_smFISH in zip(tags_smFISH,genes_smFISH):\n",
    "                dec.get_XH_tag(tag=tag_smFISH)#dec.get_XH_tag(tag='Aldh1')\n",
    "                if len(dec.Xh.shape)>1:\n",
    "                    if len(dec.Xh)>0:\n",
    "                        if apply_flat:\n",
    "                            Xh = norm_brightness(dec,dec.Xh)\n",
    "                        else:\n",
    "                            Xh = dec.Xh\n",
    "\n",
    "                        tags = [gn+'_smFISH' for gn in gns_smFISH]#['Igfbp_smFISH','Aldh1l1_smFISH','Ptbp1_smFISH']\n",
    "\n",
    "                        for icol,tag_gn in enumerate(tags):\n",
    "                            Xh_ = Xh[Xh[:,-2]==icol]\n",
    "                            Xh_=Xh_[Xh_[:,-3]>Hths[icol]]\n",
    "                            Xh_=Xh_[:,[0,1,2,-5,-4,-3,-2,-1,-1,-1,-1]]\n",
    "                            Xh_[:,-1]=0\n",
    "                            Xh_[:,-2]=-1\n",
    "                            Xh_[:,-3]=0\n",
    "                            Xh_[:,-4]=0\n",
    "                            XF = np.concatenate([XF,Xh_])\n",
    "                            genesf = np.concatenate([genesf,[tag_gn]*len(Xh_)])\n",
    "\n",
    "            cell_id,good = get_cell_id(dec,XF)\n",
    "            XF_ = np.concatenate([XF[good],cell_id[:,np.newaxis]],axis=-1)\n",
    "            genesf_ = genesf[good]\n",
    "            iset = int(dec.set_.split('_set')[-1])\n",
    "            ifov = int(dec.fov.split('_')[-1].split('.')[0])\n",
    "            isets = np.array([iset]*len(cell_id))[:,np.newaxis]\n",
    "            ifovs = np.array([ifov]*len(cell_id))[:,np.newaxis]\n",
    "            cell_id = cell_id[:,np.newaxis]\n",
    "            XF_ = np.concatenate([XF[good],cell_id,ifovs,isets],axis=-1)\n",
    "\n",
    "            get_xyfov(dec)\n",
    "            XF_ = XF_[:,list(np.arange(XF_.shape[-1]))+[-1,-1]]\n",
    "            XF_[:,-2:]=dec.xfov,dec.yfov\n",
    "            header = ['z','x','y','abs_brightness','cor','brightness','color','mean_bightness_variation','mean_distance_variation',\n",
    "                      'index_from_XH_pruned','score','cell_id','ifov','iset','xfov','yfov']\n",
    "            \n",
    "            if not hasattr(dec,'im_segm_'): dec.im_segm_=np.zeros(np.array([30,3000,3000])//4)\n",
    "            icells,vols = np.unique(dec.im_segm_,return_counts=True)\n",
    "            cms = np.array(ndimage.center_of_mass(np.ones_like(dec.im_segm_),dec.im_segm_,icells))\n",
    "            #icells,vols = np.unique(dec.im_segm_,return_counts=True)\n",
    "            cms = np.array(ndimage.center_of_mass(np.ones_like(dec.im_segm_),dec.im_segm_,icells))\n",
    "            cellinfo = cms[:,[0,0,0,1,2,0,0]]\n",
    "            cellinfo[:,0]=icells\n",
    "            cellinfo[:,1]=vols\n",
    "            cellinfo[:,-2:]=dec.xfov,dec.yfov\n",
    "            header_cells = ['cell_id','volm','zc','xc','yc','xfov','yfov']\n",
    "\n",
    "            np.savez_compressed(save_fl,XF=XF_.astype(np.float32),\n",
    "                                genes = genesf_,cellinfo=cellinfo.astype(np.float32),header_cells=header_cells,header=header)\n",
    "        if try_mode:\n",
    "            try:\n",
    "                main_subf(dec,save_fl,save_folder,fov,set_,scoresRef,th,ncols,plt_val,apply_flat,tags_smFISH,genes_smFISH,Hths,force)\n",
    "            except:\n",
    "                print(\"Failed\",dec.fov,dec.set_)\n",
    "        else:\n",
    "            main_subf(dec,save_fl,save_folder,fov,set_,scoresRef,th,ncols,plt_val,apply_flat,tags_smFISH,genes_smFISH,Hths,force)\n",
    "    "
   ]
  },
  {
   "cell_type": "code",
   "execution_count": 84,
   "id": "c4cd7803-9dd8-40e7-a3f3-6e389f335796",
   "metadata": {},
   "outputs": [],
   "source": [
    "get_xyfov(dec)"
   ]
  },
  {
   "cell_type": "code",
   "execution_count": 83,
   "id": "3d80ba34-596e-4df5-bd95-c231c63714e1",
   "metadata": {},
   "outputs": [],
   "source": []
  },
  {
   "cell_type": "code",
   "execution_count": 7,
   "id": "94b67229-33fc-4669-ac03-d181a2abc3a2",
   "metadata": {},
   "outputs": [
    {
     "data": {
      "text/plain": [
       "['\\\\\\\\192.168.0.127\\\\Raw_data\\\\Roy\\\\HumanSVZMER_6_26_2023\\\\plate1\\\\H1_MER_set1',\n",
       " '\\\\\\\\192.168.0.127\\\\Raw_data\\\\Roy\\\\HumanSVZMER_6_26_2023\\\\plate1\\\\H13_MER_set1',\n",
       " '\\\\\\\\192.168.0.127\\\\Raw_data\\\\Roy\\\\HumanSVZMER_6_26_2023\\\\plate2\\\\H1_MER_set1',\n",
       " '\\\\\\\\192.168.0.127\\\\Raw_data\\\\Roy\\\\HumanSVZMER_6_26_2023\\\\plate2\\\\H13_MER_set1',\n",
       " '\\\\\\\\192.168.0.127\\\\Raw_data\\\\Roy\\\\HumanSVZMER_6_26_2023\\\\plate3\\\\H1_MER_set1',\n",
       " '\\\\\\\\192.168.0.127\\\\Raw_data\\\\Roy\\\\HumanSVZMER_6_26_2023\\\\plate3\\\\H13_MER_set1',\n",
       " '\\\\\\\\192.168.0.127\\\\Raw_data\\\\Roy\\\\HumanSVZMER_6_26_2023\\\\H0__set1']"
      ]
     },
     "execution_count": 7,
     "metadata": {},
     "output_type": "execute_result"
    }
   ],
   "source": [
    "flds"
   ]
  },
  {
   "cell_type": "code",
   "execution_count": null,
   "id": "8f122c58-9bac-4980-b89f-46dbda550857",
   "metadata": {},
   "outputs": [],
   "source": []
  }
 ],
 "metadata": {
  "kernelspec": {
   "display_name": "Python 3 (ipykernel)",
   "language": "python",
   "name": "python3"
  },
  "language_info": {
   "codemirror_mode": {
    "name": "ipython",
    "version": 3
   },
   "file_extension": ".py",
   "mimetype": "text/x-python",
   "name": "python",
   "nbconvert_exporter": "python",
   "pygments_lexer": "ipython3",
   "version": "3.9.16"
  }
 },
 "nbformat": 4,
 "nbformat_minor": 5
}
