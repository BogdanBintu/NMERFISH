{
 "cells": [
  {
   "cell_type": "code",
   "execution_count": 1,
   "id": "49a4888e-0920-4380-8dda-c06cb88a9f38",
   "metadata": {
    "tags": []
   },
   "outputs": [],
   "source": [
    "import sys\n",
    "sys.path.append(r'..\\\\')\n",
    "from ioMicro import *"
   ]
  },
  {
   "cell_type": "markdown",
   "id": "6aeb4d57-2933-4640-a389-5be6ed377103",
   "metadata": {
    "tags": []
   },
   "source": [
    "### Compute overall dapi"
   ]
  },
  {
   "cell_type": "code",
   "execution_count": 123,
   "id": "082e2a3b-80c7-4f79-b896-a95ccfb0763c",
   "metadata": {
    "tags": []
   },
   "outputs": [
    {
     "name": "stderr",
     "output_type": "stream",
     "text": [
      "100%|█████████████████████████████████████████████████████████████████████████████████| 67/67 [00:00<00:00, 555.33it/s]\n",
      "100%|█████████████████████████████████████████████████████████████████████████████████| 27/27 [00:00<00:00, 503.71it/s]\n",
      "100%|█████████████████████████████████████████████████████████████████████████████████| 74/74 [00:00<00:00, 103.73it/s]\n",
      "100%|██████████████████████████████████████████████████████████████████████████████████| 74/74 [06:34<00:00,  5.33s/it]\n",
      "100%|██████████████████████████████████████████████████████████████████████████████████| 58/58 [00:00<00:00, 73.57it/s]\n",
      "100%|██████████████████████████████████████████████████████████████████████████████████| 58/58 [05:29<00:00,  5.68s/it]\n",
      "100%|██████████████████████████████████████████████████████████████████████████████████| 91/91 [00:01<00:00, 70.91it/s]\n",
      "100%|██████████████████████████████████████████████████████████████████████████████████| 91/91 [09:18<00:00,  6.13s/it]\n"
     ]
    }
   ],
   "source": [
    "for set_ in ['_set1','_set2','_set3','_set4','_set5']:\n",
    "    xys,fovs = get_xy(fld_ref = r'\\\\192.168.0.21\\bbfishdc21\\HttHuman_Snonia__06_12_2023\\H0_',set_ = set_)\n",
    "\n",
    "    save_fld_master = r'\\\\192.168.0.21\\bbfishdc21\\HttHuman_Snonia__06_12_2023'\n",
    "    segm_tag = 'H0_'\n",
    "    segm_folder = save_fld_master+r'\\Segmentation'\n",
    "    final_fl = segm_folder+os.sep+'allCells--'+set_+'.zarr'\n",
    "    um_per_pix = 0.1083333*4\n",
    "\n",
    "    if not os.path.exists(final_fl):\n",
    "        fov = fovs[0]\n",
    "        fl_dapi = segm_folder+os.sep+fov+'--'+segm_tag+set_+'--dapi_segm.npz'\n",
    "        im_segm = np.load(fl_dapi)['segm']\n",
    "        shape = np.load(fl_dapi)['shape']\n",
    "        sz,sx,sy = im_segm.shape\n",
    "        pad=150\n",
    "        xs_um_,ys_um_=(np.array(xys[:,::-1])*[1,-1]).T############################# scope dependent\n",
    "        xs_pix = np.array(xs_um_)/um_per_pix\n",
    "        xs_pix = np.array(xs_pix-np.min(xs_pix),dtype=int)+pad\n",
    "        ys_pix = np.array(ys_um_)/um_per_pix\n",
    "        ys_pix = np.array(ys_pix-np.min(ys_pix),dtype=int)+pad\n",
    "        sx_big = np.max(xs_pix)+sx+pad+1\n",
    "        sy_big = np.max(ys_pix)+sy+pad+1\n",
    "        dim = [sz,sx_big,sy_big]\n",
    "        im_big = np.zeros(dim,dtype = np.int64)\n",
    "        for ifv,fov in enumerate(tqdm(fovs)):\n",
    "            x_,y_ = xs_pix[ifv],ys_pix[ifv]\n",
    "            fl_dapi = segm_folder+os.sep+fov+'--'+segm_tag+set_+'--dapi_segm.npz'\n",
    "            im_segm = np.load(fl_dapi)['segm']\n",
    "            im_segm_=stitch3d_new(im_segm,minsz = 200,maxsz = 1000,th_int=0.66,th_cover=0.8,th_max_subcell=0.66,nexpand = 5)\n",
    "            ifovch = int(fov.split('_')[-1])#*10**5\n",
    "            im_segm_pad = np.pad(im_segm_,pad_width=((0,0),(pad,pad),(pad,pad)),mode='constant',constant_values=0)\n",
    "            #im_segm_[im_segm_>0]+=ifovch\n",
    "            im_prev = im_big[...,x_-pad:x_+pad+sx,y_-pad:y_+pad+sy]\n",
    "            im_segm_padf = get_connected_cells_neigh_fovs(im_prev,im_segm_pad,th_int = 0.5,reduce=10**7,ifov=ifovch)\n",
    "            im_big[...,x_-pad:x_+pad+sx,y_-pad:y_+pad+sy]=im_segm_padf\n",
    "        import zarr\n",
    "        import dask.array as da\n",
    "        zarr_array = zarr.array(im_big, chunks=(100, 100, 100))  # Define chunk size as per your requirement\n",
    "        zarr.save(final_fl,zarr_array)\n",
    "        np.savez(final_fl.replace('.zarr','.npz'),fovs = fovs,xys=xys,xs_pix=xs_pix,ys_pix=ys_pix,sxy_pixsz=[sx,sy,um_per_pix],shape=shape,shapesm=im_segm.shape)"
   ]
  },
  {
   "cell_type": "code",
   "execution_count": 124,
   "id": "86c17329-f85f-43af-8d11-4a6697c607a9",
   "metadata": {
    "tags": []
   },
   "outputs": [],
   "source": [
    "dask_array = da.from_zarr(segm_folder+os.sep+'allCells--'+set_+'.zarr')\n",
    "napari.view_labels(dask_array);"
   ]
  },
  {
   "cell_type": "markdown",
   "id": "3e9da083-9042-4d42-a7d1-22920b9d393e",
   "metadata": {},
   "source": [
    "### Combine the decoded spots from each group into a single file per fov"
   ]
  },
  {
   "cell_type": "code",
   "execution_count": 126,
   "id": "92f07848-0c02-4473-b458-7ac1b719765e",
   "metadata": {
    "tags": []
   },
   "outputs": [],
   "source": [
    "save_fld_master = r'\\\\192.168.0.21\\bbfishdc21\\HttHuman_Snonia__06_12_2023'\n",
    "\n",
    "save_folders = [save_fld_master+r'\\MERFISH_Analysis_group1',\n",
    "               save_fld_master+r'\\MERFISH_Analysis_group2',\n",
    "               save_fld_master+r'\\MERFISH_Analysis_group3',\n",
    "               save_fld_master+r'\\MERFISH_Analysis_group4',\n",
    "               save_fld_master+r'\\MERFISH_Analysis_group5',\n",
    "               save_fld_master+r'\\MERFISH_Analysis_group6']\n",
    "\n",
    "scoresRef = save_fld_master+r'\\scoresRef.npy'\n",
    "drift_folder = save_fld_master+r'\\Drift'\n",
    "\n",
    "segm_tag = 'H0_'\n",
    "segm_folder = save_fld_master+r'\\Segmentation'\n",
    "save_folder_all = save_fld_master+r'\\Combined'\n",
    "\n",
    "\n",
    "th=-1.5\n",
    "ncols=2\n",
    "tag_save='finaldecs_'\n",
    "force=False\n",
    "plt_val=False\n",
    "\n",
    "\n"
   ]
  },
  {
   "cell_type": "code",
   "execution_count": 136,
   "id": "23591ddc-d4ca-45d7-9263-a24825cd695d",
   "metadata": {
    "tags": []
   },
   "outputs": [],
   "source": [
    "def main_analysis(fov,scoresRef=scoresRef,force=force):\n",
    "    if type(scoresRef) is str: scoresRef = np.load(scoresRef,allow_pickle=True)\n",
    "    save_fl = save_folder_all+os.sep+os.sep+tag_save+fov.split('.')[0]+'--'+set_+'.npz'\n",
    "    if not os.path.exists(save_fl) or force:\n",
    "\n",
    "        if not os.path.exists(save_folder_all): os.makedirs(save_folder_all)\n",
    "\n",
    "\n",
    "        ### Load point data ###############################\n",
    "        all_gns_names = []\n",
    "        XFF,genesFF = None,None\n",
    "        for isave,save_folder in enumerate(save_folders):\n",
    "            #save_folder = save_folders[0]\n",
    "            dec = decoder_simple(save_folder,fov,set_)\n",
    "            loaded = dec.load_decoded()\n",
    "            if not loaded:\n",
    "                print(save_fl, \"Did not have a valid decoded file.\")\n",
    "                #return None\n",
    "            dec.gns_names = np.array([gn+'_'+str(isave) if gn in all_gns_names else gn for gn in dec.gns_names])\n",
    "            all_gns_names = np.unique(np.concatenate([all_gns_names,dec.gns_names]))\n",
    "\n",
    "            ### Threshold point data ###############################\n",
    "            dec.ncols=ncols\n",
    "            get_score_withRef(dec,scoresRef,plt_val=plt_val,gene=None,iSs = None)\n",
    "            dec.th=th\n",
    "            if plt_val:\n",
    "                plot_statistics(dec)\n",
    "            #print(dec.gns_ordered)\n",
    "\n",
    "\n",
    "\n",
    "            keepf =  dec.scoreA>dec.th ### keep good score\n",
    "            icodesf = dec.icodesN[keepf]\n",
    "            XHfpr = dec.XH_pruned[keepf]\n",
    "\n",
    "            ### Reorganize data  ###############################\n",
    "            XHf = np.mean(XHfpr,axis=1)\n",
    "            XF = XHf[:,[0,1,2,-5,-4,-3,-2,-1,-1,-1,-1]]\n",
    "            #zc,xc,yc,bk-7,a-6,habs-5,hn-4,h-3\n",
    "            XF[:,-1] = dec.scoreA[keepf]\n",
    "            XF[:,-2] = np.where(keepf)[0]\n",
    "            mnD = np.mean(np.linalg.norm((XHf[:,np.newaxis]-XHfpr)[:,:,:3],axis=-1),axis=-1)\n",
    "            XF[:,-3]=mnD\n",
    "            mnH = np.mean(np.abs((XHf[:,np.newaxis]-XHfpr)[:,:,-3]),axis=-1)\n",
    "            XF[:,-4]=mnH\n",
    "            genesf = dec.gns_names[icodesf]\n",
    "\n",
    "            ### Load and apply drift correction\n",
    "            def get_drft_dic(fl_all_drift):\n",
    "                drft,flds,fov_,fl_ref= np.load(fl_all_drift,allow_pickle=True)\n",
    "                return {'--'.join(fld.split(os.sep)[-2:]):drft_[0] for fld,drft_ in zip(flds,drft)}\n",
    "            fl_all_drift = drift_folder+os.sep+'driftNew_'+fov+'--'+set_+'.pkl'\n",
    "            drft_dic_all = get_drft_dic(fl_all_drift)\n",
    "            fl_all_drift = save_folder+os.sep+'driftNew_'+fov+'--'+set_+'.pkl'\n",
    "            drft_dic_group = get_drft_dic(fl_all_drift)\n",
    "            key_segm = [key for key in drft_dic_all if segm_tag in key][0]\n",
    "            key_align = np.intersect1d(list(drft_dic_all.keys()),list(drft_dic_group.keys()))[0]\n",
    "            th1_to_h0 = drft_dic_all[key_segm]-drft_dic_all[key_align]\n",
    "            th1_gr = drft_dic_group[key_align]\n",
    "            tzxyf = th1_gr+th1_to_h0\n",
    "            XF[:,:3]=XF[:,:3]-tzxyf #### do not add here\n",
    "            \n",
    "            \n",
    "            ### Load dapi\n",
    "            if True:\n",
    "                dec.fl_dapi = segm_folder+os.sep+fov+'--'+segm_tag+set_+'--dapi_segm.npz'\n",
    "                dic = np.load(dec.fl_dapi)\n",
    "                im_segm = dic['segm']\n",
    "                dec.shape = dic['shape']\n",
    "                dec.im_segm_=stitch3d_new(im_segm,minsz = 200,maxsz = 1000,th_int=0.66,th_cover=0.8,th_max_subcell=0.66,nexpand = 5)\n",
    "                dec.shapesm = np.array(dec.im_segm_.shape)\n",
    "            else:\n",
    "                dec.fl_dapi = segm_folder+os.sep+'allCells--'+set_+'.zarr'\n",
    "                full_im_segm = da.from_zarr(dec.fl_dapi)\n",
    "                dic_info = np.load(dec.fl_dapi.replace('.zarr','.npz'))\n",
    "                #fovs = fovs,xys=xys,xs_pix=xs_pix,ys_pix=ys_pix,sxy_pixsz=[sx,sy,um_per_pix],shape=shape,shapesm=im_segm.shape)\n",
    "                xs_pix,ys_pix=dic_info['xs_pix'],dic_info['ys_pix']\n",
    "                fovs,dec.shape=dic_info['fovs'],dic_info['shape']\n",
    "                sx,sy,um_per_pix = dic_info['sxy_pixsz']\n",
    "                ifv_ = list(fovs).index(fov)\n",
    "                x_,y_ = xs_pix[ifv_],ys_pix[ifv_]\n",
    "                dec.shapesm = np.array([len(full_im_segm),sx,sy])\n",
    "                ### incomplete here\n",
    "                np.min(XF[:,:3],axis=0)\n",
    "                \n",
    "                tz,tx,ty = np.round(tzxyf/dec.shape*dec.shapesm).astype(int)\n",
    "                \n",
    "                dec.im_segm_= np.array(full_im_segm[...,x_+tx:x_+sx+tx,y_+ty:y_+sy+ty])\n",
    "            \n",
    "            if XFF is None:\n",
    "                XFF,genesFF = XF,genesf\n",
    "            else:\n",
    "                XFF,genesFF = np.concatenate([XFF,XF]),np.concatenate([genesFF,genesf])\n",
    "\n",
    "\n",
    "\n",
    "        def get_cell_id(dec,Xh):\n",
    "            if not hasattr(dec,'im_segm_'): \n",
    "                good = np.ones(len(Xh),dtype=bool)\n",
    "                cells_ = np.zeros(len(Xh),dtype=int)\n",
    "                return cells_,good\n",
    "            im_segm = dec.im_segm_\n",
    "            dec.shapesm = dec.im_segm_.shape\n",
    "            Xcms = Xh[:,:3]\n",
    "            Xred = np.round((Xcms/dec.shape)*dec.shapesm).astype(int)\n",
    "            good = ~np.any((Xred>=dec.shapesm)|(Xred<0),axis=-1)\n",
    "            Xred = Xred[good]\n",
    "            if True:\n",
    "                v = napari.view_points(Xred,opacity=0.1,size=1.5)\n",
    "                v.add_labels(im_segm)\n",
    "            return im_segm[tuple(Xred.T)],good\n",
    "\n",
    "        XF,genesf = XFF,genesFF  \n",
    "        cell_id,good = get_cell_id(dec,XF)\n",
    "        XF_ = np.concatenate([XF[good],cell_id[:,np.newaxis]],axis=-1)\n",
    "        genesf_ = genesf[good]\n",
    "        iset = int(dec.set_.split('_set')[-1])\n",
    "        ifov = int(dec.fov.split('_')[-1].split('.')[0])\n",
    "        isets = np.array([iset]*len(cell_id))[:,np.newaxis]\n",
    "        ifovs = np.array([ifov]*len(cell_id))[:,np.newaxis]\n",
    "        cell_id = cell_id[:,np.newaxis]\n",
    "        XF_ = np.concatenate([XF[good],cell_id,ifovs,isets],axis=-1)\n",
    "\n",
    "        get_xyfov(dec)\n",
    "        XF_ = XF_[:,list(np.arange(XF_.shape[-1]))+[-1,-1]]\n",
    "        XF_[:,-2:]=dec.xfov,dec.yfov\n",
    "        header = ['z','x','y','abs_brightness','cor','brightness','color','mean_bightness_variation','mean_distance_variation',\n",
    "                  'index_from_XH_pruned','score','cell_id','ifov','iset','xfov','yfov']\n",
    "\n",
    "        if not hasattr(dec,'im_segm_'): dec.im_segm_=np.zeros(np.array([30,3000,3000])//4)\n",
    "        icells,vols = np.unique(dec.im_segm_,return_counts=True)\n",
    "        cms = np.array(ndimage.center_of_mass(np.ones_like(dec.im_segm_),dec.im_segm_,icells))\n",
    "        #icells,vols = np.unique(dec.im_segm_,return_counts=True)\n",
    "        cms = np.array(ndimage.center_of_mass(np.ones_like(dec.im_segm_),dec.im_segm_,icells))\n",
    "        cellinfo = cms[:,[0,0,0,1,2,0,0]]\n",
    "        cellinfo[:,0]=icells\n",
    "        cellinfo[:,1]=vols\n",
    "        cellinfo[:,-2:]=dec.xfov,dec.yfov\n",
    "        header_cells = ['cell_id','volm','zc','xc','yc','xfov','yfov']\n",
    "        if True:\n",
    "            np.savez_compressed(save_fl,XF=XF_.astype(np.float32),\n",
    "                                genes = genesf_,cellinfo=cellinfo.astype(np.float32),header_cells=header_cells,header=header)\n",
    "        print(\"Finished\",fov)\n",
    "        "
   ]
  },
  {
   "cell_type": "code",
   "execution_count": 137,
   "id": "5196468c-d4cf-43a5-8a18-6c70a36715d3",
   "metadata": {
    "tags": []
   },
   "outputs": [
    {
     "name": "stdout",
     "output_type": "stream",
     "text": [
      "68\n",
      "Loaded decoded: -1.3076536655426025\n",
      "Loaded decoded: -1.5833332538604736\n",
      "Loaded decoded: -2.0887928009033203\n",
      "Loaded decoded: -1.9264092445373535\n",
      "Loaded decoded: -2.5978009700775146\n",
      "Loaded decoded: -2.229644775390625\n",
      "Finished Conv_zscan__09\n"
     ]
    }
   ],
   "source": [
    "set_='_set1'\n",
    "fovs = [os.path.basename(fl).split('--')[0] for fl in glob.glob(segm_folder+os.sep+'*'+set_+'*.npz')]\n",
    "print(len(fovs))\n",
    "fov = fovs[10]\n",
    "main_analysis(fov,force=True)"
   ]
  },
  {
   "cell_type": "code",
   "execution_count": 131,
   "id": "e126e0d8-499d-41dd-92cb-4295d165a8e4",
   "metadata": {
    "tags": []
   },
   "outputs": [],
   "source": [
    "set_ = '_set1'\n",
    "fovs = [os.path.basename(fl).split('--')[0] for fl in glob.glob(segm_folder+os.sep+'*'+set_+'*.npz')]\n",
    "fov = fovs[2]\n",
    "main_analysis(fov)"
   ]
  },
  {
   "cell_type": "code",
   "execution_count": 9,
   "id": "789b757e-ad69-4a08-abdc-1bf0f56b50e6",
   "metadata": {
    "collapsed": true,
    "jupyter": {
     "outputs_hidden": true
    },
    "tags": []
   },
   "outputs": [
    {
     "name": "stdout",
     "output_type": "stream",
     "text": [
      "Number of fovs for set: _set1 67\n",
      "Loaded decoded: -0.8801188468933105\n",
      "Failed Conv_zscan__02\n",
      "Loaded decoded: -0.03558659553527832\n",
      "Loaded decoded: -0.08001232147216797\n",
      "Loaded decoded: -0.03200483322143555\n",
      "Loaded decoded: -0.03340792655944824\n",
      "Loaded decoded: -0.0836493968963623\n",
      "Loaded decoded: -0.08653783798217773\n",
      "Finished Conv_zscan__29\n",
      "Loaded decoded: -0.03999948501586914\n",
      "Loaded decoded: -0.04000687599182129\n",
      "Loaded decoded: -0.07135868072509766\n",
      "Loaded decoded: -0.04800701141357422\n",
      "Loaded decoded: -0.04001641273498535\n",
      "Loaded decoded: -0.0640101432800293\n",
      "Finished Conv_zscan__33\n",
      "Loaded decoded: -0.12001872062683105\n",
      "Loaded decoded: -0.1280193328857422\n",
      "Loaded decoded: -0.11763358116149902\n",
      "Loaded decoded: -0.16898536682128906\n",
      "Loaded decoded: -0.170029878616333\n",
      "Loaded decoded: -0.12476801872253418\n",
      "Finished Conv_zscan__35\n",
      "Loaded decoded: -0.12546896934509277\n",
      "Loaded decoded: -0.1280193328857422\n",
      "Loaded decoded: -0.1200559139251709\n",
      "Loaded decoded: -0.12809062004089355\n",
      "Loaded decoded: -0.09654951095581055\n",
      "Loaded decoded: -0.12642669677734375\n",
      "Finished Conv_zscan__36\n",
      "Loaded decoded: -0.3570570945739746\n",
      "Loaded decoded: -0.3975229263305664\n",
      "Loaded decoded: -0.3708183765411377\n",
      "Loaded decoded: -0.2842278480529785\n",
      "Loaded decoded: -0.4410691261291504\n",
      "Loaded decoded: -0.37285518646240234\n",
      "Finished Conv_zscan__37\n",
      "Number of fovs for set: _set5 91\n",
      "Number of fovs for set: _set3 74\n",
      "Loaded decoded: -1.4736933708190918\n",
      "Loaded decoded: -1.6172053813934326\n",
      "Loaded decoded: -3.688239574432373\n",
      "Loaded decoded: -3.7382054328918457\n",
      "Loaded decoded: -4.815283298492432\n",
      "Loaded decoded: -3.974651336669922\n",
      "Finished Conv_zscan__16\n",
      "\\\\192.168.0.21\\bbfishdc21\\HttHuman_Snonia__06_12_2023\\Combined\\\\finaldecs_Conv_zscan__72--_set3.npz Did not have a valid decoded file.\n",
      "Failed Conv_zscan__72\n",
      "\\\\192.168.0.21\\bbfishdc21\\HttHuman_Snonia__06_12_2023\\Combined\\\\finaldecs_Conv_zscan__73--_set3.npz Did not have a valid decoded file.\n",
      "Failed Conv_zscan__73\n",
      "Number of fovs for set: _set4 58\n",
      "Number of fovs for set: _set2 27\n",
      "Loaded decoded: -0.4320666790008545\n",
      "Loaded decoded: -0.5751450061798096\n",
      "\\\\192.168.0.21\\bbfishdc21\\HttHuman_Snonia__06_12_2023\\Combined\\\\finaldecs_Conv_zscan__00--_set2.npz Did not have a valid decoded file.\n",
      "Failed Conv_zscan__00\n",
      "Loaded decoded: -0.29274439811706543\n",
      "Loaded decoded: -0.5283694267272949\n",
      "\\\\192.168.0.21\\bbfishdc21\\HttHuman_Snonia__06_12_2023\\Combined\\\\finaldecs_Conv_zscan__01--_set2.npz Did not have a valid decoded file.\n",
      "Failed Conv_zscan__01\n",
      "\\\\192.168.0.21\\bbfishdc21\\HttHuman_Snonia__06_12_2023\\Combined\\\\finaldecs_Conv_zscan__02--_set2.npz Did not have a valid decoded file.\n",
      "Failed Conv_zscan__02\n",
      "Loaded decoded: -0.02400350570678711\n",
      "Failed Conv_zscan__03\n",
      "\\\\192.168.0.21\\bbfishdc21\\HttHuman_Snonia__06_12_2023\\Combined\\\\finaldecs_Conv_zscan__04--_set2.npz Did not have a valid decoded file.\n",
      "Failed Conv_zscan__04\n",
      "\\\\192.168.0.21\\bbfishdc21\\HttHuman_Snonia__06_12_2023\\Combined\\\\finaldecs_Conv_zscan__05--_set2.npz Did not have a valid decoded file.\n",
      "Failed Conv_zscan__05\n",
      "Failed Conv_zscan__06\n",
      "Failed Conv_zscan__07\n",
      "Failed Conv_zscan__08\n",
      "Failed Conv_zscan__09\n",
      "Loaded decoded: -0.1315016746520996\n",
      "Failed Conv_zscan__10\n",
      "\\\\192.168.0.21\\bbfishdc21\\HttHuman_Snonia__06_12_2023\\Combined\\\\finaldecs_Conv_zscan__11--_set2.npz Did not have a valid decoded file.\n",
      "Failed Conv_zscan__11\n",
      "\\\\192.168.0.21\\bbfishdc21\\HttHuman_Snonia__06_12_2023\\Combined\\\\finaldecs_Conv_zscan__12--_set2.npz Did not have a valid decoded file.\n",
      "Failed Conv_zscan__12\n",
      "\\\\192.168.0.21\\bbfishdc21\\HttHuman_Snonia__06_12_2023\\Combined\\\\finaldecs_Conv_zscan__13--_set2.npz Did not have a valid decoded file.\n",
      "Failed Conv_zscan__13\n",
      "\\\\192.168.0.21\\bbfishdc21\\HttHuman_Snonia__06_12_2023\\Combined\\\\finaldecs_Conv_zscan__14--_set2.npz Did not have a valid decoded file.\n",
      "Failed Conv_zscan__14\n",
      "\\\\192.168.0.21\\bbfishdc21\\HttHuman_Snonia__06_12_2023\\Combined\\\\finaldecs_Conv_zscan__15--_set2.npz Did not have a valid decoded file.\n",
      "Failed Conv_zscan__15\n",
      "\\\\192.168.0.21\\bbfishdc21\\HttHuman_Snonia__06_12_2023\\Combined\\\\finaldecs_Conv_zscan__16--_set2.npz Did not have a valid decoded file.\n",
      "Failed Conv_zscan__16\n",
      "\\\\192.168.0.21\\bbfishdc21\\HttHuman_Snonia__06_12_2023\\Combined\\\\finaldecs_Conv_zscan__17--_set2.npz Did not have a valid decoded file.\n",
      "Failed Conv_zscan__17\n",
      "\\\\192.168.0.21\\bbfishdc21\\HttHuman_Snonia__06_12_2023\\Combined\\\\finaldecs_Conv_zscan__18--_set2.npz Did not have a valid decoded file.\n",
      "Failed Conv_zscan__18\n",
      "\\\\192.168.0.21\\bbfishdc21\\HttHuman_Snonia__06_12_2023\\Combined\\\\finaldecs_Conv_zscan__19--_set2.npz Did not have a valid decoded file.\n",
      "Failed Conv_zscan__19\n",
      "\\\\192.168.0.21\\bbfishdc21\\HttHuman_Snonia__06_12_2023\\Combined\\\\finaldecs_Conv_zscan__20--_set2.npz Did not have a valid decoded file.\n",
      "Failed Conv_zscan__20\n",
      "\\\\192.168.0.21\\bbfishdc21\\HttHuman_Snonia__06_12_2023\\Combined\\\\finaldecs_Conv_zscan__21--_set2.npz Did not have a valid decoded file.\n",
      "Failed Conv_zscan__21\n",
      "Loaded decoded: -0.03813529014587402\n",
      "Failed Conv_zscan__22\n",
      "Loaded decoded: -0.02843642234802246\n",
      "Failed Conv_zscan__23\n",
      "\\\\192.168.0.21\\bbfishdc21\\HttHuman_Snonia__06_12_2023\\Combined\\\\finaldecs_Conv_zscan__24--_set2.npz Did not have a valid decoded file.\n",
      "Failed Conv_zscan__24\n",
      "Failed Conv_zscan__25\n",
      "Loaded decoded: -0.1327683925628662\n",
      "Failed Conv_zscan__26\n"
     ]
    }
   ],
   "source": [
    "for set_ in ['_set1','_set5','_set3','_set4','_set2']:\n",
    "    fovs = [os.path.basename(fl).split('--')[0] for fl in glob.glob(segm_folder+os.sep+'*'+set_+'*.npz')]\n",
    "    print(\"Number of fovs for set:\",set_,len(fovs))\n",
    "    for fov in fovs:\n",
    "        try:\n",
    "            main_analysis(fov)\n",
    "        except:\n",
    "            print(\"Failed\",fov)"
   ]
  },
  {
   "cell_type": "code",
   "execution_count": 85,
   "id": "245eea56-9df5-4d7e-8703-e3eb1f1478d3",
   "metadata": {
    "tags": []
   },
   "outputs": [
    {
     "data": {
      "text/plain": [
       "288"
      ]
     },
     "execution_count": 85,
     "metadata": {},
     "output_type": "execute_result"
    }
   ],
   "source": [
    "save_fld_master = r'\\\\192.168.0.21\\bbfishdc21\\HttHuman_Snonia__06_12_2023'\n",
    "save_fls = glob.glob(save_fld_master+r\"\\Combined\\finaldecs_*\")\n",
    "#print(save_fl)\n",
    "len(save_fls)"
   ]
  },
  {
   "cell_type": "code",
   "execution_count": 86,
   "id": "9800df02-cbb3-4fc7-b2d7-d8ddf5fe45ea",
   "metadata": {
    "tags": []
   },
   "outputs": [
    {
     "name": "stderr",
     "output_type": "stream",
     "text": [
      "100%|██████████████████████████████████████████████████████████████████████████████████| 72/72 [02:26<00:00,  2.04s/it]\n"
     ]
    },
    {
     "name": "stdout",
     "output_type": "stream",
     "text": [
      "\\\\192.168.0.21\\bbfishdc21\\HttHuman_Snonia__06_12_2023\\final_spots\\HttHuman_Snonia__06_12_2023--_set3_celldf.pkl\n",
      "\\\\192.168.0.21\\bbfishdc21\\HttHuman_Snonia__06_12_2023\\final_spots\\HttHuman_Snonia__06_12_2023--_set3_df.pkl\n"
     ]
    },
    {
     "name": "stderr",
     "output_type": "stream",
     "text": [
      "100%|██████████████████████████████████████████████████████████████████████████████████| 58/58 [01:25<00:00,  1.48s/it]\n"
     ]
    },
    {
     "name": "stdout",
     "output_type": "stream",
     "text": [
      "\\\\192.168.0.21\\bbfishdc21\\HttHuman_Snonia__06_12_2023\\final_spots\\HttHuman_Snonia__06_12_2023--_set4_celldf.pkl\n",
      "\\\\192.168.0.21\\bbfishdc21\\HttHuman_Snonia__06_12_2023\\final_spots\\HttHuman_Snonia__06_12_2023--_set4_df.pkl\n"
     ]
    },
    {
     "name": "stderr",
     "output_type": "stream",
     "text": [
      "  0%|                                                                                           | 0/91 [00:00<?, ?it/s]"
     ]
    },
    {
     "name": "stdout",
     "output_type": "stream",
     "text": [
      "No cells in: \\\\192.168.0.21\\bbfishdc21\\HttHuman_Snonia__06_12_2023\\Combined\\finaldecs_Conv_zscan__00--_set5.npz\n"
     ]
    },
    {
     "name": "stderr",
     "output_type": "stream",
     "text": [
      " 98%|████████████████████████████████████████████████████████████████████████████████▏ | 89/91 [03:09<00:03,  1.79s/it]"
     ]
    },
    {
     "name": "stdout",
     "output_type": "stream",
     "text": [
      "No cells in: \\\\192.168.0.21\\bbfishdc21\\HttHuman_Snonia__06_12_2023\\Combined\\finaldecs_Conv_zscan__89--_set5.npz\n"
     ]
    },
    {
     "name": "stderr",
     "output_type": "stream",
     "text": [
      "100%|██████████████████████████████████████████████████████████████████████████████████| 91/91 [03:09<00:00,  2.08s/it]\n"
     ]
    },
    {
     "name": "stdout",
     "output_type": "stream",
     "text": [
      "\\\\192.168.0.21\\bbfishdc21\\HttHuman_Snonia__06_12_2023\\final_spots\\HttHuman_Snonia__06_12_2023--_set5_celldf.pkl\n",
      "\\\\192.168.0.21\\bbfishdc21\\HttHuman_Snonia__06_12_2023\\final_spots\\HttHuman_Snonia__06_12_2023--_set5_df.pkl\n"
     ]
    }
   ],
   "source": [
    "set_ = '_set3'\n",
    "for set_ in ['_set3','_set4','_set5']:\n",
    "    save_fls_ = [fl for fl in save_fls if (set_ in fl)]# in fl if '035' in fl][0]\n",
    "    cell_df,df=None,None\n",
    "    for save_fl in tqdm(np.sort(save_fls_)[:]):\n",
    "        ### load info\n",
    "        dic = np.load(save_fl)\n",
    "        XF = dic['XF']\n",
    "        header = list(dic['header'])\n",
    "        genes_decoded = dic['genes']\n",
    "        cells = dic['cellinfo'][1:]\n",
    "        header_cells = dic['header_cells']\n",
    "        ### Rethrehold based on score\n",
    "        iscore = list(header).index('score')\n",
    "        scoreA = XF[:,iscore]\n",
    "        keep = scoreA>-0.75\n",
    "        ugns,gns_i = np.unique(genes_decoded[keep],return_inverse=True)\n",
    "\n",
    "        icell = header.index('cell_id')\n",
    "        icells = XF[keep,icell].astype(int)\n",
    "\n",
    "        icellsf = cells[:,0].astype(int)\n",
    "        if len(icellsf):\n",
    "            mcell = np.max(icellsf)+1\n",
    "            gn_cell,gn_cell_cts = np.unique(mcell*gns_i+icells,return_counts=True)\n",
    "            len(gn_cell)\n",
    "            igns_ = gn_cell//mcell\n",
    "            icells_ = gn_cell%mcell\n",
    "            Mcts = np.zeros([mcell,len(ugns)])\n",
    "            Mcts[icells_,igns_]=gn_cell_cts\n",
    "\n",
    "            Mcts[icellsf].shape\n",
    "            if len(XF):\n",
    "                ifov,iset = int(XF[0,header.index('ifov')]),int(XF[0,header.index('iset')])\n",
    "                icellsnm = [icell+10**5*ifov for icell in icellsf]#icellsnm = [icell+10**5*ifov+10**9*iset for icell in icellsf]\n",
    "\n",
    "                dfT = pd.DataFrame(Mcts[icellsf],columns=ugns,index=icellsnm)\n",
    "\n",
    "\n",
    "                df = dfT if df is None else pd.concat([df,dfT])\n",
    "                cell_dfT = pd.DataFrame(cells,columns=header_cells,index=icellsnm)\n",
    "                cell_df = cell_dfT if cell_df is None else pd.concat([cell_df,cell_dfT])\n",
    "        else:\n",
    "            print(\"No cells in:\",save_fl)\n",
    "\n",
    "    tag = os.path.basename(save_fld_master)\n",
    "    save_folderf = save_fld_master+r'\\final_spots'\n",
    "    if not os.path.exists(save_folderf): os.makedirs(save_folderf)\n",
    "    fl_df = save_folderf+os.sep+tag+'--'+set_+r'_df.pkl'\n",
    "    df.to_pickle(fl_df)\n",
    "    fl_celldf = save_folderf+os.sep+tag+'--'+set_+r'_celldf.pkl'\n",
    "    cell_df.to_pickle(fl_celldf)\n",
    "\n",
    "    print(fl_celldf)\n",
    "    print(fl_df)"
   ]
  },
  {
   "cell_type": "code",
   "execution_count": 30,
   "id": "62627c30-8fe4-46d2-8cc2-63f101b655b2",
   "metadata": {
    "tags": []
   },
   "outputs": [
    {
     "data": {
      "text/plain": [
       "[<matplotlib.lines.Line2D at 0x23d94cdb850>]"
      ]
     },
     "execution_count": 30,
     "metadata": {},
     "output_type": "execute_result"
    },
    {
     "data": {
      "image/png": "[encoded data removed]",
      "text/plain": [
       "<Figure size 640x480 with 1 Axes>"
      ]
     },
     "metadata": {},
     "output_type": "display_data"
    }
   ],
   "source": [
    "genes = np.array(list(df.keys()))\n",
    "bad = np.array(['blank' in e for e in list(df.keys())])\n",
    "plt.plot(np.nanmean(df[genes[~bad]],axis=0))\n",
    "plt.plot(np.nanmean(df[genes[bad]],axis=0))\n"
   ]
  },
  {
   "cell_type": "code",
   "execution_count": 36,
   "id": "8ffd12b3-25b6-4799-96a3-54d5146b91e7",
   "metadata": {
    "tags": []
   },
   "outputs": [
    {
     "name": "stdout",
     "output_type": "stream",
     "text": [
      "\\\\192.168.0.21\\bbfishdc21\\HttHuman_Snonia__06_12_2023\\final_spots\\HttHuman_Snonia__06_12_2023--_set1_celldf.pkl\n",
      "\\\\192.168.0.21\\bbfishdc21\\HttHuman_Snonia__06_12_2023\\final_spots\\HttHuman_Snonia__06_12_2023--_set1_df.pkl\n"
     ]
    }
   ],
   "source": [
    "tag = os.path.basename(save_fld_master)\n",
    "save_folderf = save_fld_master+r'\\final_spots'\n",
    "if not os.path.exists(save_folderf): os.makedirs(save_folderf)\n",
    "fl_df = save_folderf+os.sep+tag+'--'+set_+r'_df.pkl'\n",
    "df.to_pickle(fl_df)\n",
    "fl_celldf = save_folderf+os.sep+tag+'--'+set_+r'_celldf.pkl'\n",
    "cell_df.to_pickle(fl_celldf)\n",
    "\n",
    "print(fl_celldf)\n",
    "print(fl_df)"
   ]
  },
  {
   "cell_type": "code",
   "execution_count": 41,
   "id": "4745830d-6b15-454e-8a00-a764a9fb612c",
   "metadata": {
    "tags": []
   },
   "outputs": [],
   "source": [
    "          \n",
    "def plot_gene_mosaic_cells(df,cell_df,gene,plt_fov=False,pixel_size = 0.10833*4,transpose=1,flipx=1,flipy=1,sz_min=1,sz_max=30,nmax=20):\n",
    "    ###scope4\n",
    "    #xcells = cell_df['xc']*pixel_size-cell_df['xfov']\n",
    "    #ycells = cell_df['yc']*pixel_size-cell_df['yfov']\n",
    "    ###scope3\n",
    "    xcells = cell_df['xc']*pixel_size+cell_df['yfov']\n",
    "    ycells = cell_df['yc']*pixel_size-cell_df['xfov']\n",
    "    Xcells = np.array([xcells*flipx,ycells*flipy][::transpose]).T\n",
    "    \n",
    "    cts = np.array(df[gene])#Ptbp1_smFISH\n",
    "    \n",
    "    cts[np.isnan(cts)]=0\n",
    "    ncts = np.clip(cts/nmax,0,1)\n",
    "    size = sz_min+ncts*(sz_max-sz_min)\n",
    "    from matplotlib import cm as cmap\n",
    "    cols = cmap.coolwarm(ncts)\n",
    "    import napari\n",
    "    good_cells = slice(None)\n",
    "    XC = -Xcells[good_cells,::-1]\n",
    "    viewer = napari.view_points(XC,size=size,face_color=cols[good_cells],name=gene)\n",
    "    if plt_fov:\n",
    "        ifovs = np.array(list(df.index),dtype=int)//10**5\n",
    "        ifov_unk = np.unique(ifovs)\n",
    "        Xfov = np.array([np.mean(XC[ifovs==ifov],axis=0)for ifov in ifov_unk])\n",
    "        features =  {'fov':ifov_unk}\n",
    "        text = {\n",
    "            'string': '{fov:.1f}',\n",
    "            'size': 20,\n",
    "            'color': 'gray',\n",
    "            'translation': np.array([0, 0]),\n",
    "        }\n",
    "        viewer.add_points(Xfov,text=text,features=features,edge_width=0)"
   ]
  },
  {
   "cell_type": "code",
   "execution_count": 69,
   "id": "f1385b32-369f-4284-8a43-49ae489c3504",
   "metadata": {
    "tags": []
   },
   "outputs": [],
   "source": [
    "plot_gene_mosaic_cells(df,cell_df,'KIF1A',plt_fov=False,pixel_size = 0.10833*4,transpose=1,nmax=30)"
   ]
  },
  {
   "cell_type": "markdown",
   "id": "489ea6d1-48bb-4add-b6fb-10b22432bf00",
   "metadata": {},
   "source": [
    "### Check different bits in different libraries"
   ]
  },
  {
   "cell_type": "code",
   "execution_count": 71,
   "id": "aacb2a7e-80e3-44ff-8f55-7e59c3191d56",
   "metadata": {
    "tags": []
   },
   "outputs": [],
   "source": [
    "lib_fls = glob.glob(r'C:\\Scripts\\NMERFISH\\codebooks\\codebook_Sonia2colorP*_group*_blank.csv')\n",
    "dic_lib={}\n",
    "for fl in lib_fls:\n",
    "    gns_ = list(pd.read_csv(fl)['name'])\n",
    "    for gn in gns_:\n",
    "        if 'blank' not in gn:\n",
    "            dic_lib[gn]=os.path.basename(fl).split('color')[-1]"
   ]
  },
  {
   "cell_type": "code",
   "execution_count": 87,
   "id": "596308e9-7bb2-4f59-822f-ba653ef756a8",
   "metadata": {
    "tags": []
   },
   "outputs": [],
   "source": [
    "import scanpy as sc"
   ]
  },
  {
   "cell_type": "code",
   "execution_count": 113,
   "id": "a8086327-0f77-436e-a1bb-50dfd3d2a6f7",
   "metadata": {
    "tags": []
   },
   "outputs": [],
   "source": [
    "set_='_set1'\n",
    "tag = os.path.basename(save_fld_master)\n",
    "save_folderf = save_fld_master+r'\\final_spots'\n",
    "if not os.path.exists(save_folderf): os.makedirs(save_folderf)\n",
    "fl_df = save_folderf+os.sep+tag+'--'+set_+r'_df.pkl'\n",
    "fl_celldf = save_folderf+os.sep+tag+'--'+set_+r'_celldf.pkl'\n",
    "df = pd.read_pickle(fl_df)\n",
    "cell_df=pd.read_pickle(fl_celldf)"
   ]
  },
  {
   "cell_type": "code",
   "execution_count": 114,
   "id": "de588fa1-1720-40ff-b82c-18d4a2585e10",
   "metadata": {
    "tags": []
   },
   "outputs": [
    {
     "data": {
      "text/plain": [
       "[('APP', 'P2_group1_blank.csv'),\n",
       " ('SPARCL1', 'P3_group1_blank.csv'),\n",
       " ('SLC17A7', 'P2_group1_blank.csv'),\n",
       " ('KIF1A', 'P3_group1_blank.csv'),\n",
       " ('NEFL', 'P1_group2_blank.csv'),\n",
       " ('YWHAG', 'P3_group2_blank.csv'),\n",
       " ('KIF5A', 'P3_group2_blank.csv'),\n",
       " ('UBC', 'P3_group2_blank.csv'),\n",
       " ('SYT1', 'P3_group1_blank.csv'),\n",
       " ('ATP1A2', 'P1_group2_blank.csv'),\n",
       " ('MAP2', 'P3_group1_blank.csv'),\n",
       " ('ANK2', 'P2_group1_blank.csv'),\n",
       " ('VSNL1', 'P2_group1_blank.csv'),\n",
       " ('SLC1A2', 'P2_group2_blank.csv'),\n",
       " ('TUBB4A', 'P2_group1_blank.csv'),\n",
       " ('SPTAN1', 'P2_group2_blank.csv'),\n",
       " ('MIAT', 'P1_group2_blank.csv'),\n",
       " ('CHN1', 'P2_group2_blank.csv'),\n",
       " ('CLU', 'P3_group2_blank.csv'),\n",
       " ('GFAP', 'P3_group1_blank.csv'),\n",
       " ('NEFM', 'P1_group1_blank.csv'),\n",
       " ('NDRG4', 'P3_group2_blank.csv'),\n",
       " ('RTN1', 'P3_group2_blank.csv'),\n",
       " ('MEG3', 'P3_group2_blank.csv'),\n",
       " ('TSPAN7', 'P3_group2_blank.csv'),\n",
       " ('KIF5C', 'P3_group1_blank.csv'),\n",
       " ('STMN3', 'P3_group1_blank.csv'),\n",
       " ('GPRC5B', 'P3_group1_blank.csv'),\n",
       " ('SPTBN1', 'P2_group2_blank.csv'),\n",
       " ('AP2B1', 'P3_group2_blank.csv'),\n",
       " ('PCDH9', 'P3_group2_blank.csv'),\n",
       " ('LINGO1', 'P3_group1_blank.csv'),\n",
       " ('CACNA1A', 'P2_group1_blank.csv'),\n",
       " ('GABBR1', 'P3_group1_blank.csv'),\n",
       " ('SRRM2', 'P3_group1_blank.csv'),\n",
       " ('AKAP6', 'P1_group1_blank.csv'),\n",
       " ('YWHAH', 'P2_group2_blank.csv'),\n",
       " ('ACTG1', 'P1_group1_blank.csv'),\n",
       " ('SREBF2', 'P3_group1_blank.csv'),\n",
       " ('MATR3', 'P1_group2_blank.csv'),\n",
       " ('DYNC1H1', 'P3_group1_blank.csv'),\n",
       " ('RBFOX1', 'P2_group1_blank.csv'),\n",
       " ('KCNC2', 'P1_group1_blank.csv'),\n",
       " ('GRINA', 'P3_group2_blank.csv'),\n",
       " ('CST3', 'P2_group2_blank.csv'),\n",
       " ('PTGDS', 'P3_group2_blank.csv'),\n",
       " ('PFKP', 'P3_group1_blank.csv'),\n",
       " ('SARAF', 'P3_group2_blank.csv'),\n",
       " ('DST', 'P1_group1_blank.csv'),\n",
       " ('SPOCK1', 'P2_group1_blank.csv'),\n",
       " ('NRXN3', 'P3_group1_blank.csv'),\n",
       " ('USP5', 'P3_group1_blank.csv'),\n",
       " ('NRGN', 'P1_group2_blank.csv'),\n",
       " ('PLP1', 'P2_group1_blank.csv'),\n",
       " ('PEA15', 'P3_group1_blank.csv'),\n",
       " ('RANGAP1', 'P2_group1_blank.csv'),\n",
       " ('CALM1', 'P2_group2_blank.csv'),\n",
       " ('OLFM3', 'P2_group1_blank.csv'),\n",
       " ('SEPW1', 'P3_group1_blank.csv'),\n",
       " ('HSP90AA1', 'P3_group2_blank.csv'),\n",
       " ('NEAT1', 'P1_group1_blank.csv'),\n",
       " ('CNR1', 'P1_group1_blank.csv'),\n",
       " ('SNCB', 'P2_group1_blank.csv'),\n",
       " ('CHMP2A', 'P1_group1_blank.csv'),\n",
       " ('INA', 'P1_group2_blank.csv'),\n",
       " ('MYH9', 'P3_group1_blank.csv'),\n",
       " ('CD81', 'P2_group1_blank.csv'),\n",
       " ('GRM5', 'P1_group1_blank.csv'),\n",
       " ('RAB3A', 'P3_group1_blank.csv'),\n",
       " ('SYN1', 'P3_group2_blank.csv'),\n",
       " ('CLASP2', 'P3_group1_blank.csv'),\n",
       " ('FLRT2', 'P1_group2_blank.csv'),\n",
       " ('KCNIP2', 'P1_group1_blank.csv'),\n",
       " ('LDHB', 'P3_group2_blank.csv'),\n",
       " ('MAPT', 'P3_group2_blank.csv'),\n",
       " ('GAD1', 'P1_group2_blank.csv'),\n",
       " ('NRXN1', 'P3_group2_blank.csv'),\n",
       " ('CIRBP', 'P2_group2_blank.csv'),\n",
       " ('ELAVL3', 'P1_group2_blank.csv'),\n",
       " ('NCAM2', 'P1_group1_blank.csv'),\n",
       " ('ACTN1', 'P3_group1_blank.csv'),\n",
       " ('CBLN2', 'P1_group1_blank.csv'),\n",
       " ('SORT1', 'P2_group1_blank.csv'),\n",
       " ('EDIL3', 'P1_group2_blank.csv'),\n",
       " ('ITPR1', 'P1_group1_blank.csv'),\n",
       " ('APOE', 'P2_group2_blank.csv'),\n",
       " ('CHRM3', 'P1_group2_blank.csv'),\n",
       " ('HSP90AB1', 'P3_group2_blank.csv'),\n",
       " ('TCERG1', 'P3_group1_blank.csv'),\n",
       " ('FGFR3', 'P1_group2_blank.csv'),\n",
       " ('RUFY3', 'P3_group1_blank.csv'),\n",
       " ('QDPR', 'P3_group1_blank.csv'),\n",
       " ('SATB2', 'P2_group1_blank.csv'),\n",
       " ('IPO5', 'P1_group1_blank.csv'),\n",
       " ('MAP2K4', 'P3_group1_blank.csv'),\n",
       " ('CKB', 'P3_group1_blank.csv'),\n",
       " ('SUN1', 'P2_group1_blank.csv'),\n",
       " ('DPP10', 'P1_group2_blank.csv'),\n",
       " ('PLEC', 'P2_group1_blank.csv'),\n",
       " ('INPP4A', 'P1_group2_blank.csv')]"
      ]
     },
     "execution_count": 114,
     "metadata": {},
     "output_type": "execute_result"
    }
   ],
   "source": [
    "genes = np.array(list(df.keys()))\n",
    "bad = np.array(['blank' in e for e in list(df.keys())])\n",
    "genes = genes[~bad]\n",
    "means = np.nanmean(df[genes],axis=0)\n",
    "gns_top = genes[np.argsort(means)[::-1]][:100]\n",
    "[(gn,dic_lib[gn]) for gn in gns_top]"
   ]
  },
  {
   "cell_type": "markdown",
   "id": "dca021d1-c481-4173-b6bb-3b810dea50a6",
   "metadata": {},
   "source": [
    "### check drfit"
   ]
  },
  {
   "cell_type": "code",
   "execution_count": 144,
   "id": "2138b56f-b756-48fd-acec-bf1cf1d7cbda",
   "metadata": {
    "tags": []
   },
   "outputs": [],
   "source": [
    "drift_fl = r'\\\\192.168.0.21\\bbfishdc21\\HttHuman_Snonia__06_12_2023\\MERFISH_Analysis_group4\\driftNew_Conv_zscan__19--_set1.pkl'\n",
    "def check_drift(drift_fl):\n",
    "    drft,flds,fov_,fl_ref = np.load(drift_fl,allow_pickle=True)\n",
    "    print(flds)\n",
    "    from dask import array as da\n",
    "    ims = da.concatenate([da.roll(read_im(fld+os.sep+fov_)[-1],np.round(drft_[0]).astype(int),axis=[0,1,2])[np.newaxis] for fld,drft_ in zip(flds,drft)])\n",
    "    import napari\n",
    "    napari.view_image(ims)"
   ]
  },
  {
   "cell_type": "code",
   "execution_count": 152,
   "id": "1f1286c0-1bde-4c5b-a6bc-3cad32050c38",
   "metadata": {
    "tags": []
   },
   "outputs": [
    {
     "name": "stdout",
     "output_type": "stream",
     "text": [
      "['\\\\\\\\192.168.0.21\\\\bbfishdc21\\\\HttHuman_Snonia__06_12_2023\\\\H37_MER2col__set1', '\\\\\\\\192.168.0.21\\\\bbfishdc21\\\\HttHuman_Snonia__06_12_2023\\\\H38_MER2col__set1', '\\\\\\\\192.168.0.21\\\\bbfishdc21\\\\HttHuman_Snonia__06_12_2023\\\\H39_MER2col__set1', '\\\\\\\\192.168.0.21\\\\bbfishdc21\\\\HttHuman_Snonia__06_12_2023\\\\H40_MER2col__set1', '\\\\\\\\192.168.0.21\\\\bbfishdc21\\\\HttHuman_Snonia__06_12_2023\\\\H41_MER2col__set1', '\\\\\\\\192.168.0.21\\\\bbfishdc21\\\\HttHuman_Snonia__06_12_2023\\\\H42_MER2col__set1', '\\\\\\\\192.168.0.21\\\\bbfishdc21\\\\HttHuman_Snonia__06_12_2023\\\\H43_MER2col__set1', '\\\\\\\\192.168.0.21\\\\bbfishdc21\\\\HttHuman_Snonia__06_12_2023\\\\H44_MER2col__set1', '\\\\\\\\192.168.0.21\\\\bbfishdc21\\\\HttHuman_Snonia__06_12_2023\\\\H45_MER2col__set1', '\\\\\\\\192.168.0.21\\\\bbfishdc21\\\\HttHuman_Snonia__06_12_2023\\\\H46_MER2col__set1', '\\\\\\\\192.168.0.21\\\\bbfishdc21\\\\HttHuman_Snonia__06_12_2023\\\\H47_MER2col__set1', '\\\\\\\\192.168.0.21\\\\bbfishdc21\\\\HttHuman_Snonia__06_12_2023\\\\H48_MER2col__set1']\n"
     ]
    }
   ],
   "source": [
    "check_drift(drift_fl.replace('MERFISH_Analysis_group4','MERFISH_Analysis_group4'))"
   ]
  },
  {
   "cell_type": "code",
   "execution_count": 154,
   "id": "51bb0194-ebd9-44d6-a110-b3953f96668f",
   "metadata": {
    "tags": []
   },
   "outputs": [
    {
     "data": {
      "text/plain": [
       "\u001b[1;31mSignature:\u001b[0m \u001b[0mload_segmentation\u001b[0m\u001b[1;33m(\u001b[0m\u001b[0mdec\u001b[0m\u001b[1;33m)\u001b[0m\u001b[1;33m\u001b[0m\u001b[1;33m\u001b[0m\u001b[0m\n",
       "\u001b[1;31mDocstring:\u001b[0m <no docstring>\n",
       "\u001b[1;31mSource:\u001b[0m   \n",
       "\u001b[1;32mdef\u001b[0m \u001b[0mget_scores\u001b[0m\u001b[1;33m(\u001b[0m\u001b[0mdec\u001b[0m\u001b[1;33m,\u001b[0m\u001b[0mplt_val\u001b[0m\u001b[1;33m=\u001b[0m\u001b[1;32mTrue\u001b[0m\u001b[1;33m,\u001b[0m\u001b[0mgene\u001b[0m\u001b[1;33m=\u001b[0m\u001b[1;34m'Ptbp1'\u001b[0m\u001b[1;33m)\u001b[0m\u001b[1;33m:\u001b[0m\u001b[1;33m\n",
       "\u001b[0m    \u001b[0mH\u001b[0m \u001b[1;33m=\u001b[0m \u001b[0mnp\u001b[0m\u001b[1;33m.\u001b[0m\u001b[0mmedian\u001b[0m\u001b[1;33m(\u001b[0m\u001b[0mdec\u001b[0m\u001b[1;33m.\u001b[0m\u001b[0mXH_pruned\u001b[0m\u001b[1;33m[\u001b[0m\u001b[1;33m...\u001b[0m\u001b[1;33m,\u001b[0m\u001b[1;36m4\u001b[0m\u001b[1;33m]\u001b[0m\u001b[1;33m,\u001b[0m\u001b[0maxis\u001b[0m\u001b[1;33m=\u001b[0m\u001b[1;36m1\u001b[0m\u001b[1;33m)\u001b[0m\u001b[1;33m\n",
       "\u001b[0m    \u001b[0mHd\u001b[0m \u001b[1;33m=\u001b[0m \u001b[0mnp\u001b[0m\u001b[1;33m.\u001b[0m\u001b[0mstd\u001b[0m\u001b[1;33m(\u001b[0m\u001b[0mdec\u001b[0m\u001b[1;33m.\u001b[0m\u001b[0mXH_pruned\u001b[0m\u001b[1;33m[\u001b[0m\u001b[1;33m...\u001b[0m\u001b[1;33m,\u001b[0m\u001b[1;36m4\u001b[0m\u001b[1;33m]\u001b[0m\u001b[1;33m,\u001b[0m\u001b[0maxis\u001b[0m\u001b[1;33m=\u001b[0m\u001b[1;36m1\u001b[0m\u001b[1;33m)\u001b[0m\u001b[1;33m/\u001b[0m\u001b[0mH\u001b[0m\u001b[1;33m\n",
       "\u001b[0m    \u001b[0mD\u001b[0m \u001b[1;33m=\u001b[0m \u001b[0mdec\u001b[0m\u001b[1;33m.\u001b[0m\u001b[0mXH_pruned\u001b[0m\u001b[1;33m[\u001b[0m\u001b[1;33m...\u001b[0m\u001b[1;33m,\u001b[0m\u001b[1;33m:\u001b[0m\u001b[1;36m3\u001b[0m\u001b[1;33m]\u001b[0m\u001b[1;33m-\u001b[0m\u001b[0mnp\u001b[0m\u001b[1;33m.\u001b[0m\u001b[0mmean\u001b[0m\u001b[1;33m(\u001b[0m\u001b[0mdec\u001b[0m\u001b[1;33m.\u001b[0m\u001b[0mXH_pruned\u001b[0m\u001b[1;33m[\u001b[0m\u001b[1;33m...\u001b[0m\u001b[1;33m,\u001b[0m\u001b[1;33m:\u001b[0m\u001b[1;36m3\u001b[0m\u001b[1;33m]\u001b[0m\u001b[1;33m,\u001b[0m\u001b[0maxis\u001b[0m\u001b[1;33m=\u001b[0m\u001b[1;36m1\u001b[0m\u001b[1;33m)\u001b[0m\u001b[1;33m[\u001b[0m\u001b[1;33m:\u001b[0m\u001b[1;33m,\u001b[0m\u001b[0mnp\u001b[0m\u001b[1;33m.\u001b[0m\u001b[0mnewaxis\u001b[0m\u001b[1;33m]\u001b[0m\u001b[1;33m\n",
       "\u001b[0m    \u001b[0mD\u001b[0m \u001b[1;33m=\u001b[0m \u001b[0mnp\u001b[0m\u001b[1;33m.\u001b[0m\u001b[0mmean\u001b[0m\u001b[1;33m(\u001b[0m\u001b[0mnp\u001b[0m\u001b[1;33m.\u001b[0m\u001b[0mlinalg\u001b[0m\u001b[1;33m.\u001b[0m\u001b[0mnorm\u001b[0m\u001b[1;33m(\u001b[0m\u001b[0mD\u001b[0m\u001b[1;33m,\u001b[0m\u001b[0maxis\u001b[0m\u001b[1;33m=\u001b[0m\u001b[1;33m-\u001b[0m\u001b[1;36m1\u001b[0m\u001b[1;33m)\u001b[0m\u001b[1;33m,\u001b[0m\u001b[0maxis\u001b[0m\u001b[1;33m=\u001b[0m\u001b[1;33m-\u001b[0m\u001b[1;36m1\u001b[0m\u001b[1;33m)\u001b[0m\u001b[1;33m\n",
       "\u001b[0m    \u001b[0mscore\u001b[0m \u001b[1;33m=\u001b[0m \u001b[0mnp\u001b[0m\u001b[1;33m.\u001b[0m\u001b[0marray\u001b[0m\u001b[1;33m(\u001b[0m\u001b[1;33m[\u001b[0m\u001b[0mH\u001b[0m\u001b[1;33m,\u001b[0m\u001b[1;33m-\u001b[0m\u001b[0mD\u001b[0m\u001b[1;33m]\u001b[0m\u001b[1;33m)\u001b[0m\u001b[1;33m\n",
       "\u001b[0m    \u001b[0mscoreA\u001b[0m \u001b[1;33m=\u001b[0m \u001b[0mnp\u001b[0m\u001b[1;33m.\u001b[0m\u001b[0margsort\u001b[0m\u001b[1;33m(\u001b[0m\u001b[0mnp\u001b[0m\u001b[1;33m.\u001b[0m\u001b[0margsort\u001b[0m\u001b[1;33m(\u001b[0m\u001b[0mscore\u001b[0m\u001b[1;33m,\u001b[0m\u001b[0maxis\u001b[0m\u001b[1;33m=\u001b[0m\u001b[1;33m-\u001b[0m\u001b[1;36m1\u001b[0m\u001b[1;33m)\u001b[0m\u001b[1;33m,\u001b[0m\u001b[0maxis\u001b[0m\u001b[1;33m=\u001b[0m\u001b[1;33m-\u001b[0m\u001b[1;36m1\u001b[0m\u001b[1;33m)\u001b[0m\u001b[1;33m+\u001b[0m\u001b[1;36m1\u001b[0m\u001b[1;33m\n",
       "\u001b[0m    \u001b[0mscoreA\u001b[0m \u001b[1;33m=\u001b[0m \u001b[0mnp\u001b[0m\u001b[1;33m.\u001b[0m\u001b[0msum\u001b[0m\u001b[1;33m(\u001b[0m\u001b[0mnp\u001b[0m\u001b[1;33m.\u001b[0m\u001b[0mlog\u001b[0m\u001b[1;33m(\u001b[0m\u001b[0mscoreA\u001b[0m\u001b[1;33m)\u001b[0m\u001b[1;33m-\u001b[0m\u001b[0mnp\u001b[0m\u001b[1;33m.\u001b[0m\u001b[0mlog\u001b[0m\u001b[1;33m(\u001b[0m\u001b[0mlen\u001b[0m\u001b[1;33m(\u001b[0m\u001b[0mD\u001b[0m\u001b[1;33m)\u001b[0m\u001b[1;33m)\u001b[0m\u001b[1;33m,\u001b[0m\u001b[0maxis\u001b[0m\u001b[1;33m=\u001b[0m\u001b[1;36m0\u001b[0m\u001b[1;33m)\u001b[0m\u001b[1;33m\n",
       "\u001b[0m    \u001b[0mdec\u001b[0m\u001b[1;33m.\u001b[0m\u001b[0mscoreA\u001b[0m \u001b[1;33m=\u001b[0m \u001b[0mscoreA\u001b[0m\u001b[1;33m\n",
       "\u001b[0m    \u001b[1;32mif\u001b[0m \u001b[0mplt_val\u001b[0m\u001b[1;33m:\u001b[0m\u001b[1;33m\n",
       "\u001b[0m        \u001b[0mbad_igns\u001b[0m \u001b[1;33m=\u001b[0m \u001b[1;33m[\u001b[0m\u001b[0mign\u001b[0m \u001b[1;32mfor\u001b[0m \u001b[0mign\u001b[0m\u001b[1;33m,\u001b[0m\u001b[0mgn\u001b[0m \u001b[1;32min\u001b[0m \u001b[0menumerate\u001b[0m\u001b[1;33m(\u001b[0m\u001b[0mdec\u001b[0m\u001b[1;33m.\u001b[0m\u001b[0mgns_names\u001b[0m\u001b[1;33m)\u001b[0m \u001b[1;32mif\u001b[0m \u001b[1;34m'blank'\u001b[0m \u001b[1;32min\u001b[0m \u001b[0mgn\u001b[0m\u001b[1;33m.\u001b[0m\u001b[0mlower\u001b[0m\u001b[1;33m(\u001b[0m\u001b[1;33m)\u001b[0m\u001b[1;33m]\u001b[0m\u001b[1;33m\n",
       "\u001b[0m        \u001b[0mgood_igns\u001b[0m \u001b[1;33m=\u001b[0m \u001b[1;33m[\u001b[0m\u001b[0mign\u001b[0m \u001b[1;32mfor\u001b[0m \u001b[0mign\u001b[0m\u001b[1;33m,\u001b[0m\u001b[0mgn\u001b[0m \u001b[1;32min\u001b[0m \u001b[0menumerate\u001b[0m\u001b[1;33m(\u001b[0m\u001b[0mdec\u001b[0m\u001b[1;33m.\u001b[0m\u001b[0mgns_names\u001b[0m\u001b[1;33m)\u001b[0m \u001b[1;32mif\u001b[0m \u001b[1;34m'blank'\u001b[0m \u001b[1;32mnot\u001b[0m \u001b[1;32min\u001b[0m \u001b[0mgn\u001b[0m\u001b[1;33m.\u001b[0m\u001b[0mlower\u001b[0m\u001b[1;33m(\u001b[0m\u001b[1;33m)\u001b[0m\u001b[1;33m]\u001b[0m\u001b[1;33m\n",
       "\u001b[0m        \u001b[0mis_good_gn\u001b[0m \u001b[1;33m=\u001b[0m \u001b[0mnp\u001b[0m\u001b[1;33m.\u001b[0m\u001b[0min1d\u001b[0m\u001b[1;33m(\u001b[0m\u001b[0mdec\u001b[0m\u001b[1;33m.\u001b[0m\u001b[0micodesN\u001b[0m\u001b[1;33m,\u001b[0m\u001b[0mgood_igns\u001b[0m\u001b[1;33m)\u001b[0m\u001b[1;33m\n",
       "\u001b[0m        \u001b[1;33m\n",
       "\u001b[0m        \u001b[0mplt\u001b[0m\u001b[1;33m.\u001b[0m\u001b[0mfigure\u001b[0m\u001b[1;33m(\u001b[0m\u001b[1;33m)\u001b[0m\u001b[1;33m\n",
       "\u001b[0m        \u001b[0mplt\u001b[0m\u001b[1;33m.\u001b[0m\u001b[0mhist\u001b[0m\u001b[1;33m(\u001b[0m\u001b[0mscoreA\u001b[0m\u001b[1;33m[\u001b[0m\u001b[0mis_good_gn\u001b[0m\u001b[1;33m]\u001b[0m\u001b[1;33m,\u001b[0m\u001b[0mdensity\u001b[0m\u001b[1;33m=\u001b[0m\u001b[1;32mTrue\u001b[0m\u001b[1;33m,\u001b[0m\u001b[0mbins\u001b[0m\u001b[1;33m=\u001b[0m\u001b[1;36m100\u001b[0m\u001b[1;33m,\u001b[0m\u001b[0malpha\u001b[0m\u001b[1;33m=\u001b[0m\u001b[1;36m0.5\u001b[0m\u001b[1;33m,\u001b[0m\u001b[0mlabel\u001b[0m\u001b[1;33m=\u001b[0m\u001b[1;34m'all genes'\u001b[0m\u001b[1;33m)\u001b[0m\u001b[1;33m\n",
       "\u001b[0m        \u001b[1;32mif\u001b[0m \u001b[0mgene\u001b[0m \u001b[1;32mis\u001b[0m \u001b[1;32mnot\u001b[0m \u001b[1;32mNone\u001b[0m\u001b[1;33m:\u001b[0m\u001b[1;33m\n",
       "\u001b[0m            \u001b[0mis_gn\u001b[0m \u001b[1;33m=\u001b[0m \u001b[0mdec\u001b[0m\u001b[1;33m.\u001b[0m\u001b[0micodesN\u001b[0m\u001b[1;33m==\u001b[0m\u001b[1;33m(\u001b[0m\u001b[0mlist\u001b[0m\u001b[1;33m(\u001b[0m\u001b[0mdec\u001b[0m\u001b[1;33m.\u001b[0m\u001b[0mgns_names\u001b[0m\u001b[1;33m)\u001b[0m\u001b[1;33m.\u001b[0m\u001b[0mindex\u001b[0m\u001b[1;33m(\u001b[0m\u001b[0mgene\u001b[0m\u001b[1;33m)\u001b[0m\u001b[1;33m)\u001b[0m\u001b[1;33m\n",
       "\u001b[0m            \u001b[0mplt\u001b[0m\u001b[1;33m.\u001b[0m\u001b[0mhist\u001b[0m\u001b[1;33m(\u001b[0m\u001b[0mscoreA\u001b[0m\u001b[1;33m[\u001b[0m\u001b[0mis_gn\u001b[0m\u001b[1;33m]\u001b[0m\u001b[1;33m,\u001b[0m\u001b[0mdensity\u001b[0m\u001b[1;33m=\u001b[0m\u001b[1;32mTrue\u001b[0m\u001b[1;33m,\u001b[0m\u001b[0mbins\u001b[0m\u001b[1;33m=\u001b[0m\u001b[1;36m100\u001b[0m\u001b[1;33m,\u001b[0m\u001b[0malpha\u001b[0m\u001b[1;33m=\u001b[0m\u001b[1;36m0.5\u001b[0m\u001b[1;33m,\u001b[0m\u001b[0mlabel\u001b[0m\u001b[1;33m=\u001b[0m\u001b[0mgene\u001b[0m\u001b[1;33m)\u001b[0m\u001b[1;33m\n",
       "\u001b[0m        \u001b[0mplt\u001b[0m\u001b[1;33m.\u001b[0m\u001b[0mhist\u001b[0m\u001b[1;33m(\u001b[0m\u001b[0mscoreA\u001b[0m\u001b[1;33m[\u001b[0m\u001b[1;33m~\u001b[0m\u001b[0mis_good_gn\u001b[0m\u001b[1;33m]\u001b[0m\u001b[1;33m,\u001b[0m\u001b[0mdensity\u001b[0m\u001b[1;33m=\u001b[0m\u001b[1;32mTrue\u001b[0m\u001b[1;33m,\u001b[0m\u001b[0mbins\u001b[0m\u001b[1;33m=\u001b[0m\u001b[1;36m100\u001b[0m\u001b[1;33m,\u001b[0m\u001b[0malpha\u001b[0m\u001b[1;33m=\u001b[0m\u001b[1;36m0.5\u001b[0m\u001b[1;33m,\u001b[0m\u001b[0mlabel\u001b[0m\u001b[1;33m=\u001b[0m\u001b[1;34m'blanks'\u001b[0m\u001b[1;33m)\u001b[0m\u001b[1;33m;\u001b[0m\u001b[1;33m\n",
       "\u001b[0m        \u001b[0mplt\u001b[0m\u001b[1;33m.\u001b[0m\u001b[0mlegend\u001b[0m\u001b[1;33m(\u001b[0m\u001b[1;33m)\u001b[0m\u001b[1;33m\u001b[0m\u001b[1;33m\u001b[0m\u001b[0m\n",
       "\u001b[1;31mFile:\u001b[0m      c:\\scripts\\nmerfish\\iomicro.py\n",
       "\u001b[1;31mType:\u001b[0m      function"
      ]
     },
     "metadata": {},
     "output_type": "display_data"
    }
   ],
   "source": []
  },
  {
   "cell_type": "code",
   "execution_count": 153,
   "id": "e7631cd4-0fa4-4039-9466-14f4ec1dd183",
   "metadata": {
    "tags": []
   },
   "outputs": [
    {
     "name": "stdout",
     "output_type": "stream",
     "text": [
      "['\\\\\\\\192.168.0.21\\\\bbfishdc21\\\\HttHuman_Snonia__06_12_2023\\\\H1_MER2col__set1', '\\\\\\\\192.168.0.21\\\\bbfishdc21\\\\HttHuman_Snonia__06_12_2023\\\\H13_MER2col__set1', '\\\\\\\\192.168.0.96\\\\bbfish124\\\\HttHuman_Snonia__06_12_2023\\\\H25_MER2col__set1', '\\\\\\\\192.168.0.21\\\\bbfishdc21\\\\HttHuman_Snonia__06_12_2023\\\\H37_MER2col__set1', '\\\\\\\\192.168.0.96\\\\bbfish124\\\\HttHuman_Snonia__06_12_2023\\\\H49_MER2col__set1', '\\\\\\\\192.168.0.96\\\\bbfish124\\\\HttHuman_Snonia__06_12_2023\\\\H61_MER2col__set1', '\\\\\\\\192.168.0.21\\\\bbfishdc21\\\\HttHuman_Snonia__06_12_2023\\\\H0__set1', '\\\\\\\\192.168.0.21\\\\bbfishdc21\\\\HttHuman_Snonia__06_12_2023\\\\A1_Htt_Nup98__set1', '\\\\\\\\192.168.0.21\\\\bbfishdc21\\\\HttHuman_Snonia__06_12_2023\\\\A2_LamA_B__set1', '\\\\\\\\192.168.0.96\\\\bbfish124\\\\HttHuman_Snonia__06_12_2023\\\\A3_SC35_gH2AX__set1', '\\\\\\\\192.168.0.96\\\\bbfish124\\\\HttHuman_Snonia__06_12_2023\\\\A4_gH2AX_PSMB5__set1', '\\\\\\\\192.168.0.21\\\\bbfishdc21\\\\HttHuman_Snonia__06_12_2023\\\\P1__Gad1_Nrgn_Aqp4__set1', '\\\\\\\\192.168.0.96\\\\bbfish124\\\\HttHuman_Snonia__06_12_2023\\\\P2__Gad1_Nrgn_Aqp4_B__set1', '\\\\\\\\192.168.0.96\\\\bbfish124\\\\HttHuman_Snonia__06_12_2023\\\\P3__Htt_CAG_B_polyA__set1', '\\\\\\\\192.168.0.96\\\\bbfish124\\\\HttHuman_Snonia__06_12_2023\\\\P4__Htt_B_B_B__set1', '\\\\\\\\192.168.0.96\\\\bbfish124\\\\HttHuman_Snonia__06_12_2023\\\\P5__SST_OPALIN__set1', '\\\\\\\\192.168.0.96\\\\bbfish124\\\\HttHuman_Snonia__06_12_2023\\\\P6__PTBP1_OLIG1__set1', '\\\\\\\\192.168.0.96\\\\bbfish124\\\\HttHuman_Snonia__06_12_2023\\\\P7__LMNB2_LMNA_NUP98__set1', '\\\\\\\\192.168.0.96\\\\bbfish124\\\\HttHuman_Snonia__06_12_2023\\\\P8__MBP_TH_GFAP__set1']\n"
     ]
    }
   ],
   "source": [
    "check_drift(drift_fl.replace('MERFISH_Analysis_group4','Drift'))"
   ]
  },
  {
   "cell_type": "code",
   "execution_count": 147,
   "id": "8b1a544a-d073-407d-aa0e-a8361572dce8",
   "metadata": {
    "tags": []
   },
   "outputs": [
    {
     "data": {
      "text/plain": [
       "'\\\\\\\\192.168.0.21\\\\bbfishdc21\\\\HttHuman_Snonia__06_12_2023\\\\H37_MER2col__set1'"
      ]
     },
     "execution_count": 147,
     "metadata": {},
     "output_type": "execute_result"
    }
   ],
   "source": [
    "['\\\\\\\\192.168.0.21\\\\bbfishdc21\\\\HttHuman_Snonia__06_12_2023\\\\H1_MER2col__set1', '\\\\\\\\192.168.0.21\\\\bbfishdc21\\\\HttHuman_Snonia__06_12_2023\\\\H13_MER2col__set1', '\\\\\\\\192.168.0.96\\\\bbfish124\\\\HttHuman_Snonia__06_12_2023\\\\H25_MER2col__set1', '\\\\\\\\192.168.0.21\\\\bbfishdc21\\\\HttHuman_Snonia__06_12_2023\\\\H37_MER2col__set1', '\\\\\\\\192.168.0.96\\\\bbfish124\\\\HttHuman_Snonia__06_12_2023\\\\H49_MER2col__set1', '\\\\\\\\192.168.0.96\\\\bbfish124\\\\HttHuman_Snonia__06_12_2023\\\\H61_MER2col__set1', '\\\\\\\\192.168.0.21\\\\bbfishdc21\\\\HttHuman_Snonia__06_12_2023\\\\H0__set1', '\\\\\\\\192.168.0.21\\\\bbfishdc21\\\\HttHuman_Snonia__06_12_2023\\\\A1_Htt_Nup98__set1', '\\\\\\\\192.168.0.21\\\\bbfishdc21\\\\HttHuman_Snonia__06_12_2023\\\\A2_LamA_B__set1', '\\\\\\\\192.168.0.96\\\\bbfish124\\\\HttHuman_Snonia__06_12_2023\\\\A3_SC35_gH2AX__set1', '\\\\\\\\192.168.0.96\\\\bbfish124\\\\HttHuman_Snonia__06_12_2023\\\\A4_gH2AX_PSMB5__set1', '\\\\\\\\192.168.0.21\\\\bbfishdc21\\\\HttHuman_Snonia__06_12_2023\\\\P1__Gad1_Nrgn_Aqp4__set1', '\\\\\\\\192.168.0.96\\\\bbfish124\\\\HttHuman_Snonia__06_12_2023\\\\P2__Gad1_Nrgn_Aqp4_B__set1', '\\\\\\\\192.168.0.96\\\\bbfish124\\\\HttHuman_Snonia__06_12_2023\\\\P3__Htt_CAG_B_polyA__set1', '\\\\\\\\192.168.0.96\\\\bbfish124\\\\HttHuman_Snonia__06_12_2023\\\\P4__Htt_B_B_B__set1', '\\\\\\\\192.168.0.96\\\\bbfish124\\\\HttHuman_Snonia__06_12_2023\\\\P5__SST_OPALIN__set1', '\\\\\\\\192.168.0.96\\\\bbfish124\\\\HttHuman_Snonia__06_12_2023\\\\P6__PTBP1_OLIG1__set1', '\\\\\\\\192.168.0.96\\\\bbfish124\\\\HttHuman_Snonia__06_12_2023\\\\P7__LMNB2_LMNA_NUP98__set1', '\\\\\\\\192.168.0.96\\\\bbfish124\\\\HttHuman_Snonia__06_12_2023\\\\P8__MBP_TH_GFAP__set1'][3]"
   ]
  },
  {
   "cell_type": "code",
   "execution_count": null,
   "id": "2b4a6377-ca11-41ec-83f9-70832a46149e",
   "metadata": {},
   "outputs": [],
   "source": []
  },
  {
   "cell_type": "code",
   "execution_count": 111,
   "id": "6471e9b6-0529-46b0-acd4-32d57cfdc960",
   "metadata": {
    "tags": []
   },
   "outputs": [
    {
     "data": {
      "text/plain": [
       "36"
      ]
     },
     "execution_count": 111,
     "metadata": {},
     "output_type": "execute_result"
    }
   ],
   "source": [
    "37-48 - bad?"
   ]
  },
  {
   "cell_type": "code",
   "execution_count": 133,
   "id": "7aa04010-5e00-4136-9b2d-51cea7d77736",
   "metadata": {
    "tags": []
   },
   "outputs": [],
   "source": [
    "plot_gene_mosaic_cells(df,cell_df,'SPTBN1',plt_fov=True,pixel_size = 0.10833*4,transpose=1,nmax=30)"
   ]
  },
  {
   "cell_type": "code",
   "execution_count": 115,
   "id": "06c11251-2dd4-473d-90af-0c596de0542d",
   "metadata": {
    "tags": []
   },
   "outputs": [],
   "source": [
    "P1G1,P1G2, P2G1,P3G1-good"
   ]
  },
  {
   "cell_type": "code",
   "execution_count": 123,
   "id": "08403255-786d-47ca-bbba-2268863c311b",
   "metadata": {
    "tags": []
   },
   "outputs": [
    {
     "data": {
      "text/plain": [
       "'P1_group2_blank.csv'"
      ]
     },
     "execution_count": 123,
     "metadata": {},
     "output_type": "execute_result"
    }
   ],
   "source": [
    "dic_lib['NEFL']"
   ]
  },
  {
   "cell_type": "code",
   "execution_count": null,
   "id": "fb09face-5e8b-4ce6-95ef-1bdcc01545e9",
   "metadata": {},
   "outputs": [],
   "source": [
    "'CIRBP','APOE'"
   ]
  },
  {
   "cell_type": "code",
   "execution_count": null,
   "id": "2c9c65a1-c164-44b9-b481-0faab7dd112c",
   "metadata": {},
   "outputs": [
    {
     "data": {
      "text/plain": [
       "[[188, 0, 0, 0, 0, 0],\n",
       " [0, 187, 0, 0, 0, 0],\n",
       " [0, 0, 187, 0, 0, 0],\n",
       " [0, 0, 0, 188, 0, 0],\n",
       " [0, 0, 0, 0, 189, 0],\n",
       " [0, 0, 0, 0, 0, 189]]"
      ]
     },
     "execution_count": 104,
     "metadata": {},
     "output_type": "execute_result"
    }
   ],
   "source": [
    "fls = glob.glob(r'C:\\Scripts\\NMERFISH\\codebooks\\codebook_Sonia2colorP*_group*_blank.csv')\n",
    "\n",
    "gns = [[gn for gn in list(pd.read_csv(fl)['name']) if 'blank' not in gn] for fl in fls]\n",
    "[[len(np.intersect1d(gn1,gn2))for gn1 in gns] for gn2 in gns]"
   ]
  },
  {
   "cell_type": "code",
   "execution_count": 106,
   "id": "2246dfcd-1358-4115-81d1-0b941d6aead3",
   "metadata": {},
   "outputs": [
    {
     "name": "stdout",
     "output_type": "stream",
     "text": [
      "['AAAS', 'AARD', 'ABCB1', 'ABI3BP', 'ACAT2', 'ACTA1', 'ACTA2', 'ACTB', 'ACTC', 'ACTG1', 'ACTL6B', 'ACTN1', 'ADAMTS17', 'ADAMTS2', 'ADAMTS9-AS2', 'ADAMTSL1', 'ADAMTSL3', 'ADARB2', 'ADGRG1', 'ADGRV1', 'AEBP1', 'AGFG1', 'AGPAT3', 'AGPAT5', 'AHCTF1', 'AHI1', 'AHNAK2', 'AIM2', 'AKAP6', 'AKIRIN1', 'AKT3', 'ALDH1A1', 'ALDH1L1', 'ALOX5', 'ALOX5AP', 'AMBP', 'ANK2', 'ANK3', 'ANKRD17', 'ANLN', 'ANXA11', 'ANXA2', 'ANXA4', 'AP2B1', 'APAF1', 'APBB1IP', 'APLP2', 'APOC1', 'APOD', 'APOE', 'APOO', 'APP', 'AQP1', 'AQP4', 'ARHGEF11', 'ARL17B', 'ARPP21', 'ASGR2', 'ASIC2', 'ASIC4', 'ATOH8', 'ATP11B', 'ATP13A4', 'ATP1A2', 'ATP1B1', 'ATP1B3', 'ATP2A3', 'ATP5E', 'ATP5G2', 'ATP6AP2', 'ATP6V1F', 'ATP7B', 'ATP8A2', 'ATP8B4', 'ATPIF1', 'B2M', 'BAD', 'BANF1', 'BARX1', 'BAX', 'BCAS1', 'BCHE', 'BCL-X', 'BCL2', 'BEAN1', 'BEX1', 'BEX2', 'BICD2', 'BMP2', 'BRAP', 'BRCA1', 'BRCA2', 'BRIP1', 'BSPRY', 'C1ORF132', 'C1ORF172', 'C1QB', 'C1QC', 'C1QL3', 'C2CD5', 'C4ORF26', 'C8orf34', 'C9ORF142', 'C9ORF72', 'CA1', 'CA10', 'CA2', 'CABLES1', 'CACNA1A', 'CACNA1D', 'CACNA1E', 'CACNA1H', 'CADM2', 'CADPS', 'CALM1', 'CALM2', 'CAMK2B', 'CAPN1', 'CAPN2', 'CAPNS1', 'CASP1', 'CASP10', 'CASP14', 'CASP3', 'CASP4', 'CASP5', 'CASP6', 'CASP7', 'CASP8', 'CASP9', 'CAST', 'CATALASE', 'CAV1', 'CBLN1', 'CBLN2', 'CBX3', 'CBX5', 'CBX8', 'CCDC13', 'CCDC68', 'CCDC8', 'CCDC85A', 'CCK', 'CCNJL', 'CD27-AS1', 'CD44', 'CD63', 'CD74', 'CD81', 'CD83', 'CDC42', 'CDH10', 'CDH12', 'CDH13', 'CDH3', 'CDH5', 'CDH8', 'CDH9', 'CDK20', 'CEBPD', 'CEMIP', 'CENPF', 'CENPV', 'CEP290', 'CEPT1', 'CERS2', 'CES4A', 'CETN2', 'CETN3', 'CFTR', 'CGAS', 'CHAT', 'CHCHD10', 'CHMP1A', 'CHMP1B', 'CHMP2A', 'CHMP2B', 'CHMP3', 'CHMP4A', 'CHMP4B', 'CHMP4C', 'CHMP5', 'CHMP6', 'CHMP7', 'CHN1', 'CHN2', 'CHRFAM7A', 'CHRM3', 'CHRM5', 'CHRNA2', 'CHST11', 'CHST9', 'CIAP-1', 'CIAP-2', 'CIITA', 'CIP1', 'CIRBP', 'CKB', 'CLASP1', 'CLASP2', 'CLASPIN', 'CLDND1', 'CLEC5A', 'CLIC6', 'CLK1', 'CLMN', 'CLU', 'CLYBL', 'CMTM3', 'CNEP1R1', 'CNOT6', 'CNR1', 'CNTN5', 'CNTNAP4', 'COBLL1', 'COL11A1', 'COL15A1', 'COL20A1', 'COL21A1', 'COL25A1', 'COL4A3', 'COL5A2', 'COLEC12', 'COX4I1', 'COX5B', 'COX6B1', 'COX7A2L', 'COX7C', 'CP', 'CPLX3', 'CPTP', 'CRABP1', 'CREB5', 'CRHR2', 'CRYAB', 'CSE1L', 'CSF1R', 'CSN1S1', 'CSNK1E', 'CST3', 'CTGF', 'CTTNBP2NL', 'CUX2', 'CX3CR1', 'CXCL14', 'CXORF28', 'CYBA', 'CYFIP2', 'CYP2C8', 'CYP4B1', 'DAAM2', 'DACH1', 'DCC', 'DCLRE1C', 'DCX', 'DDB2', 'DHFR', 'DIO3', 'DISP3', 'DLC1', 'DLGAP1', 'DLGAP4', 'DLX1', 'DLX2', 'DNAJC14', 'DOCK8', 'DPF2', 'DPP10', 'DPYD', 'DSCAM', 'DSG3', 'DST', 'DUSP1', 'DUSP14', 'DYNC1H1', 'DYNLL1', 'EBP', 'EDIL3', 'EGFR', 'EID1', 'EIF1', 'EIF4A2', 'EIF4G3', 'ELAVL1', 'ELAVL2', 'ELAVL3', 'ELAVL4', 'EMD', 'ENPEP', 'ENPP1', 'ENPP6', 'ENY2', 'EPB41', 'EPB41L1', 'EPB41L3', 'EPHA6', 'EPSTI1', 'ERBB2IP', 'ERBB4', 'ERC2', 'ERCC1', 'ERCC2', 'ERCC3', 'ERCC4', 'ERCC5', 'ERCC8', 'ERGIC', 'EXO1', 'EXPH5', 'EYA4', 'EYS', 'FADD', 'FAM150B', 'FAM169A', 'FAM181A', 'FAM193A', 'FAM20A', 'FAN1', 'FAT2', 'FBN2', 'FBXL7', 'FBXO2', 'FCGBP', 'FCHSD2', 'FEZF2', 'FFAR4', 'FGF10', 'FGF2', 'FGFR2', 'FGFR3', 'FILIP1L', 'FKBP15', 'FLRT1', 'FLRT2', 'FLT1', 'FNDC1', 'FOXP2', 'FREM2', 'FRY', 'FRZB', 'FSTL5', 'FTH1', 'FTL', 'FUS', 'FXR1', 'FZD7', 'GABBR1', 'GABPA', 'GAD1', 'GADD45B', 'GALNT18', 'GALNTL6', 'GAP43', 'GFAP', 'GJA1', 'GLE1', 'GLI2', 'GLIS3', 'GLRA3', 'GPC5', 'GPC6', 'GPNMB', 'GPRC5B', 'GPX4', 'GRANZYMEA', 'GRANZYMEB', 'GRIA1', 'GRIA2', 'GRID2', 'GRIK1', 'GRINA', 'GRM3', 'GRM5', 'GRM7', 'GRM8', 'GSDMD', 'GSDME', 'GSX1', 'GULP1', 'HAND1', 'HAND2', 'HDGFL2', 'HERC1', 'HHIPL1', 'HIF1', 'HIF3A', 'HINT1', 'HLA-DRA', 'HLA-DRB1', 'HMGB1', 'HMGN3', 'HMOX1', 'HMOX2', 'HNRNPA1', 'HNRNPH1', 'HOXA10', 'HOXA11', 'HOXA13', 'HOXA4', 'HOXA5', 'HOXA7', 'HOXB9', 'HOXC10', 'HOXC6', 'HOXD10', 'HOXD8', 'HOXD9', 'HP1BP3', 'HPSE2', 'HS3ST3A1', 'HS3ST4', 'HS6ST3', 'HSP90AA1', 'HSP90AB1', 'HSPA1A', 'HSPA1B', 'HSPA8', 'HSPB1', 'HSPB6', 'HSPH1', 'HTR1F', 'HTR2C', 'HTR3A', 'HTRA2', 'HTT', 'ICA1', 'IFI44L', 'IFI6', 'IFNAR1', 'IFNG-AS1', 'IGBP1', 'IGDCC3', 'IGF1R', 'IGFBP7', 'IGFBPL1', 'IKKA', 'IKKB', 'IL13RA1', 'IL17RB', 'IL1RAPL2', 'IL6', 'IL6R', 'IMMT', 'INA', 'INPP4A', 'INPP4B', 'IPO11', 'IPO5', 'IPO7', 'IPO8', 'IPO9', 'IQCB1', 'IQCJ-SCHIP1', 'IRF3', 'ISG15', 'ISG20', 'IST1', 'ISX', 'ITGB1', 'ITGB1BP1', 'ITGB4', 'ITPR1', 'ITPR3', 'ITPRIP', 'JAK2', 'KALRN', 'KCNA1', 'KCNC2', 'KCNE4', 'KCNG1', 'KCNG3', 'KCNH8', 'KCNIP1', 'KCNIP2', 'KCNIP4', 'KCNMB2', 'KCNQ2', 'KDM1A', 'KIF1A', 'KIF21A', 'KIF3A', 'KIF5A', 'KIF5B', 'KIF5C', 'KIP1', 'KIRREL3', 'KLC1', 'KLF15', 'KLF5', 'KLHDC8B', 'KLHL1', 'KLK7', 'KMT2C', 'KPNA1', 'KPNA3', 'KPNA4', 'KPNB1', 'KRBOX4', 'LAMA2', 'LAMA4', 'LAMP5', 'LBR', 'LDHB', 'LDLRAD3', 'LDLRAP1', 'LEMD2', 'LEMD3', 'LHFPL3', 'LIG1', 'LIG4', 'LINC00343', 'LINC00499', 'LINC00507', 'LINC00609', 'LINC01013', 'LINC01107', 'LINC01116', 'LINC01202', 'LINC01378', 'LINC01497', 'LINC02147', 'LINGO1', 'LINGO2', 'LIVIN', 'LMNA', 'LMNB1', 'LMNB2', 'LMNTD1', 'LMNTD2', 'LNPEP', 'LNX2', 'LONRF3', 'LPGAT1', 'LPIN1', 'LPO', 'LRIG3', 'LRMDA', 'LRP1B', 'LRRC37A', 'LRRC4C', 'LRRC7', 'LUC7L', 'LUZP2', 'MACF1', 'MACO1', 'MADD', 'MAG', 'MAJIN', 'MAML2', 'MAOB', 'MAP2', 'MAP2K4', 'MAP4', 'MAP6D1', 'MAPK10', 'MAPT', 'MARCKS', 'MARCKSL1', 'MARK3', 'MATR3', 'MBP', 'MCF2L2', 'MECOM', 'MED12L', 'MED8', 'MEF2D', 'MEG3', 'MEPE', 'MIAT', 'MID1IP1', 'MLH1', 'MLH3', 'MLIP', 'MLKL', 'MNAT1', 'MNX1', 'MOBP', 'MOG', 'MRC1', 'MSH2', 'MSH3', 'MSH4', 'MSH5', 'MSH6', 'MT1E', 'MT1F', 'MT1G', 'MT1H', 'MT1X', 'MT2A', 'MTMR6', 'MTMR8', 'MUS81', 'MYCBP2', 'MYH9', 'MYO18A', 'MYO1E', 'MZT2B', 'NAMPT', 'NAV1', 'NAV2', 'NCAM1', 'NCAM2', 'NDC1', 'NDEL1', 'NDRG4', 'NDUFA4', 'NEAT1', 'NEFH', 'NEFL', 'NEFM', 'NELL1', 'NEMO', 'NEMP1', 'NEMP2', 'NES', 'NEUROD1', 'NEUROG2', 'NFIX', 'NGFRAP1', 'NHEJ1', 'NKAIN2', 'NLRP1', 'NLRP3', 'NLRP4', 'NMBR', 'NMNAT2', 'NMU', 'NOSTRIN', 'NOVA1', 'NPAP1', 'NPC1', 'NPSR1-AS1', 'NPY', 'NR2F2-AS1', 'NREP-AS1', 'NRF1', 'NRG1', 'NRGN', 'NRM', 'NRXN1', 'NRXN3', 'NTM', 'NTNG1', 'NUMB', 'NUP107', 'NUP133', 'NUP153', 'NUP155', 'NUP160', 'NUP188', 'NUP205', 'NUP210', 'NUP210L', 'NUP214', 'NUP35', 'NUP37', 'NUP42', 'NUP43', 'NUP50', 'NUP54', 'NUP58', 'NUP62', 'NUP62CL', 'NUP85', 'NUP88', 'NUP93', 'NUP98', 'NUTF2', 'NXF1', 'NXPH1', 'NXT1', 'NXT2', 'OLFM3', 'OLIG1', 'OLIG2', 'OPALIN', 'OTOGL', 'OTP', 'P2RY12', 'P4HA3', 'P53', 'PABPC1', 'PACRGL', 'PARD3', 'PAWR', 'PAX2', 'PAX6', 'PBX1', 'PCDH11X', 'PCDH15', 'PCDH9', 'PCSK1N', 'PCSK5', 'PDE1A', 'PDE2A', 'PDE4B', 'PDGFD', 'PDGFRA', 'PDK4', 'PDLIM7', 'PDYN', 'PDZRN4', 'PEA15', 'PEBP1', 'PENK', 'PFKP', 'PHF21A', 'PHLDB3', 'PHYHD1', 'PIK3CD', 'PITX1', 'PKD2L1', 'PKM', 'PKN1', 'PLA2G4A', 'PLA2G4C', 'PLAAT1', 'PLAAT3', 'PLCB1', 'PLCE1', 'PLCG1', 'PLCH1', 'PLCXD3', 'PLD5', 'PLEC', 'PLEKHA1', 'PLEKHA5', 'PLP1', 'PLPP6', 'PLPP7', 'PLPPR1', 'PLXDC2', 'PLXNB1', 'PMS1', 'PMS2', 'PNKP', 'PNN', 'PNO1', 'POGK', 'POLD1', 'POLDIP3', 'POLR3G', 'POM121', 'POM121C', 'POM121L12', 'POM121L2', 'POMZP3', 'PON2', 'POU3F2', 'POU4F2', 'POU6F2', 'PPIA', 'PPP2R2B', 'PPP6R3', 'PRDX1', 'PRELID2', 'PREX2', 'PRKD1', 'PRKDC', 'PRKG1', 'PRKX', 'PROKR2', 'PRPH', 'PRRT4', 'PRUNE2', 'PSD3', 'PSMA2', 'PSMA3', 'PSMA4', 'PSMA6', 'PSMB7', 'PSMC1', 'PSMC4', 'PSMD11', 'PSMD7', 'PSMD8', 'PTBP1', 'PTBP2', 'PTGDS', 'PTGER3', 'PTMA', 'PTP4A2', 'PTPN3', 'PTPRD', 'PTPRG', 'PTPRK', 'PTPRT', 'PTPRZ1', 'PVALB', 'PVRL2', 'QDPR', 'RAB11FIP1', 'RAB27B', 'RAB3A', 'RAB3D', 'RAB7A', 'RABAC1', 'RAD23B', 'RAD51', 'RAE1', 'RAMP1', 'RAN', 'RANBP1', 'RANBP17', 'RANBP2', 'RANBP3', 'RANBP3L', 'RANGAP1', 'RAP1GAP', 'RAP1GAP2', 'RAPGEF4', 'RAPGEF6', 'RAPH1', 'RASGEF1B', 'RASGRF2', 'RBBP8', 'RBFOX1', 'RBFOX3', 'RBMS3', 'RCOR1', 'RELN', 'RERE', 'REST', 'RGPD1', 'RGPD2', 'RGPD3', 'RGPD4', 'RGPD5', 'RGPD6', 'RGS6', 'RIP1', 'RIP3', 'RIT2', 'RLBP1', 'RMST', 'RNASE1', 'RNASET2', 'RNF219-AS1', 'ROBO1', 'RORA', 'RORB', 'RPH3AL', 'RPL15', 'RPL18A', 'RPLP1', 'RPN2', 'RPRM', 'RPS19', 'RPS6', 'RRM2B', 'RTKN2', 'RTN1', 'RTN4', 'RUFY1', 'RUFY3', 'RXFP1', 'RYR1', 'RYR2', 'RYR3', 'S100A10', 'S100B', 'SAMD13', 'SARAF', 'SARM1', 'SAT1', 'SATB2', 'SCARB2', 'SCG5', 'SCML4', 'SCN1A', 'SCRG1', 'SDCBP', 'SEC13', 'SEH1L', 'SEMA5A', 'SEPT6', 'SEPT7', 'SEPW1', 'SERPINI2', 'SETD5', 'SEZ6L', 'SH2D1B', 'SH3BGRL3', 'SH3KBP1', 'SH3RF3', 'SHISA6', 'SHISA9', 'SIRPB1', 'SIX1', 'SLC11A1', 'SLC14A1', 'SLC16A12', 'SLC17A7', 'SLC1A2', 'SLC1A3', 'SLC22A18', 'SLC25A24', 'SLC26A3', 'SLC32A1', 'SLC38A2', 'SLC44A1', 'SLC6A12', 'SLC6A16', 'SLC6A20', 'SLC7A11', 'SLC7A6OS', 'SLIT2', 'SLN', 'SLX1B', 'SLX4', 'SMAC', 'SMN2', 'SMOC1', 'SMPD4', 'SMURF2', 'SMYD1', 'SNAP25', 'SNCA', 'SNCB', 'SNTG2', 'SNUPN', 'SNX14', 'SOD1', 'SORCS1', 'SORL1', 'SORT1', 'SOX11', 'SOX13', 'SOX2', 'SOX5', 'SOX6', 'SOX8', 'SOX9', 'SP8', 'SPARCL1', 'SPDYE2', 'SPHKAP', 'SPOCK1', 'SPP1', 'SPTA1', 'SPTAN1', 'SPTB', 'SPTBN1', 'SPTBN2', 'SPTBN4', 'SPTBN5', 'SREBF1', 'SREBF2', 'SRGN', 'SRP14', 'SRPK1', 'SRRM2', 'SRSF3', 'SST', 'ST18', 'ST6GAL1', 'STARD13', 'STAT1', 'STK17B', 'STMN1', 'STMN2', 'STMN3', 'STMN4', 'STXBP1', 'STXBP6', 'SUN1', 'SUN2', 'SUN3', 'SUN5', 'SURVIVIN', 'SV2C', 'SWSAP1', 'SYN1', 'SYNDIG1', 'SYNE1', 'SYNE2', 'SYNE3', 'SYNE4', 'SYNM', 'SYT1', 'SYT7', 'SYTL3', 'SYTL4', 'TAB', 'TAC3', 'TAFA1', 'TAFA2', 'TAK1', 'TARDBP', 'TBK1', 'TBX5', 'TCERG1', 'TCF7L2', 'TENM2', 'TFEB', 'TH', 'THEMIS', 'THSD7A', 'THSD7B', 'TIMP2', 'TMEM106B', 'TMEM106C', 'TMEM132C', 'TMEM170A', 'TMEM176B', 'TMEM18', 'TMEM2', 'TMEM201', 'TMEM241', 'TMEM43', 'TMPO', 'TMSB10', 'TMSB4X', 'TMTC2', 'TNC', 'TNF', 'TNFAIP6', 'TNFRSF1A', 'TNNT2', 'TNPO3', 'TOR1A', 'TOR1AIP1', 'TOR1AIP2', 'TOR1B', 'TOR2A', 'TOR3A', 'TOR4A', 'TOX', 'TP53BP1', 'TPD52L1', 'TPM3', 'TPR', 'TPT1', 'TRADD', 'TRAF2', 'TRAF5', 'TRAPPC12', 'TREM2', 'TREX1', 'TRHDE', 'TRPM3', 'TRRAP', 'TSHZ2', 'TSPAN7', 'TTC28', 'TTLL7', 'TUBA1A', 'TUBA1C', 'TUBA3C', 'TUBA3D', 'TUBA3E', 'TUBA4A', 'TUBA8', 'TUBB', 'TUBB1', 'TUBB2A', 'TUBB2B', 'TUBB3', 'TUBB4A', 'TUBB4B', 'TUBB6', 'TUBB8', 'TUBG1', 'TUBG2', 'TYROBP', 'UBB', 'UBC', 'UBE2Z', 'UCHL1', 'UHRF1', 'UNC13A', 'UNC13B', 'UNC13C', 'UNC5C', 'UNC5D', 'UNC79', 'UQCR10', 'UQCRC2', 'USP14', 'USP5', 'VCAN', 'VDAC3', 'VEGFA', 'VILL', 'VIM', 'VIP', 'VIPR2', 'VNN2', 'VPS13A', 'VPS4A', 'VPS4B', 'VSIG4', 'VSNL1', 'VWA8', 'WDR48', 'WHSC1L1', 'WNT4', 'WSB1', 'XIAP', 'XIST', 'XPA', 'XPC', 'XPO1', 'XPO4', 'XPO7', 'XPOT', 'XRCC1', 'XRCC4', 'XRCC5', 'XRCC6', 'XRCC6BP1', 'YWHAG', 'YWHAH', 'ZC3HAV1', 'ZFP36L1', 'ZFP36L2', 'ZFPM2', 'ZFPM2-AS1', 'ZMAT4', 'ZNF138', 'ZNF292', 'ZNF295-AS1', 'ZNF385D', 'ZNF565', 'ZNF804B', 'ZNF853', 'ZSWIM7', 'blank0000', 'blank0000_e', 'blank0001', 'blank0001_e', 'blank0002', 'blank0002_e', 'blank0003', 'blank0003_e', 'blank0004', 'blank0004_e', 'blank0005', 'blank0005_e', 'blank0006', 'blank0006_e', 'blank0007', 'blank0007_e', 'blank0008', 'blank0008_e', 'blank0009', 'blank0009_e', 'blank0010', 'blank0010_e', 'blank0011', 'blank0011_e', 'blank0012', 'blank0012_e', 'blank0013', 'blank0013_e', 'blank0014', 'blank0014_e', 'blank0015', 'blank0015_e', 'blank0016', 'blank0016_e', 'blank0017', 'blank0017_e', 'blank0018', 'blank0018_e', 'blank0019', 'blank0019_e', 'blank0020', 'blank0020_e', 'blank0021', 'blank0021_e', 'blank0022', 'blank0022_e', 'blank0023', 'blank0023_e', 'blank0024', 'blank0024_e', 'blank0025', 'blank0025_e', 'blank0026', 'blank0026_e', 'blank0027', 'blank0027_e', 'blank0028', 'blank0028_e', 'blank0029', 'blank0029_e', 'blank0030', 'blank0030_e', 'blank0031', 'blank0031_e', 'blank0032', 'blank0032_e', 'blank0033', 'blank0033_e', 'blank0034', 'blank0034_e', 'blank0035', 'blank0035_e', 'blank0036', 'blank0036_e', 'blank0037', 'blank0037_e', 'blank0038', 'blank0038_e', 'blank0039', 'blank0039_e', 'blank0040', 'blank0040_e', 'blank0041', 'blank0041_e', 'blank0042', 'blank0042_e', 'blank0043', 'blank0043_e', 'blank0044', 'blank0044_e', 'blank0045', 'blank0045_e', 'blank0046', 'blank0046_e', 'blank0047', 'blank0047_e', 'blank0048', 'blank0048_e', 'blank0049', 'blank0049_e', 'blank0050', 'blank0050_e', 'blank0051', 'blank0051_e', 'blank0052', 'blank0052_e', 'blank0053', 'blank0053_e', 'blank0054', 'blank0054_e', 'blank0055', 'blank0055_e', 'blank0056', 'blank0056_e', 'blank0057', 'blank0057_e', 'blank0058', 'blank0058_e', 'blank0059', 'blank0059_e', 'blank0060', 'blank0060_e', 'blank0061', 'blank0061_e', 'blank0062', 'blank0062_e', 'blank0063', 'blank0063_e', 'blank0064', 'blank0064_e', 'blank0065', 'blank0065_e', 'blank0066', 'blank0066_e', 'blank0067', 'blank0067_e', 'blank0068', 'blank0068_e', 'blank0069', 'blank0069_e', 'blank0070', 'blank0070_e', 'blank0071', 'blank0071_e', 'blank0072', 'blank0072_e', 'blank0073', 'blank0073_e', 'blank0074', 'blank0074_e', 'blank0075', 'blank0075_e', 'blank0076', 'blank0076_e', 'blank0077', 'blank0077_e', 'blank0078', 'blank0078_e', 'blank0079', 'blank0079_e', 'blank0080', 'blank0080_e', 'blank0081', 'blank0081_e', 'blank0082', 'blank0082_e', 'blank0083', 'blank0083_e', 'blank0084', 'blank0084_e', 'blank0085', 'blank0085_e', 'blank0086', 'blank0086_e', 'blank0087', 'blank0087_e', 'blank0088', 'blank0088_e', 'blank0089', 'blank0089_e', 'blank0090', 'blank0090_e', 'blank0091', 'blank0091_e', 'blank0092', 'blank0092_e', 'blank0093', 'blank0093_e', 'blank0094', 'blank0094_e', 'blank0095', 'blank0095_e', 'blank0096', 'blank0096_e', 'blank0097', 'blank0097_e', 'blank0098', 'blank0098_e', 'blank0099', 'blank0099_e', 'blank0100', 'blank0100_e', 'blank0101', 'blank0101_e', 'blank0102', 'blank0102_e', 'blank0103', 'blank0103_e', 'blank0104', 'blank0104_e', 'blank0105', 'blank0105_e', 'blank0106', 'blank0106_e', 'blank0107', 'blank0107_e', 'blank0108', 'blank0108_e', 'blank0109', 'blank0109_e', 'blank0110', 'blank0110_e', 'blank0111', 'blank0111_e', 'blank0112', 'blank0112_e', 'blank0113', 'blank0113_e', 'blank0114', 'blank0114_e', 'blank0115', 'blank0115_e', 'blank0116', 'blank0116_e', 'blank0117', 'blank0117_e', 'blank0118', 'blank0118_e', 'blank0119', 'blank0119_e', 'blank0120', 'blank0120_e', 'blank0121', 'blank0121_e', 'blank0122', 'blank0122_e', 'blank0123', 'blank0123_e', 'blank0124', 'blank0124_e', 'blank0125', 'blank0125_e', 'blank0126', 'blank0126_e', 'blank0127', 'blank0127_e', 'blank0128', 'blank0128_e', 'blank0129', 'blank0129_e', 'blank0130', 'blank0130_e', 'blank0131', 'blank0131_e', 'blank0132', 'blank0132_e', 'blank0133', 'blank0133_e', 'blank0134', 'blank0134_e', 'blank0135', 'blank0135_e', 'blank0136', 'blank0136_e', 'blank0137', 'blank0137_e', 'blank0138', 'blank0138_e', 'blank0139', 'blank0139_e', 'blank0140', 'blank0140_e', 'blank0141', 'blank0141_e', 'blank0142', 'blank0142_e', 'blank0143', 'blank0143_e', 'blank0144', 'blank0144_e', 'blank0145', 'blank0145_e', 'blank0146', 'blank0146_e', 'blank0147', 'blank0147_e', 'blank0148', 'blank0148_e', 'blank0149', 'blank0149_e', 'blank0150', 'blank0150_e', 'blank0151', 'blank0151_e', 'blank0152', 'blank0152_e', 'blank0153', 'blank0153_e', 'blank0154', 'blank0154_e', 'blank0155', 'blank0155_e', 'blank0156', 'blank0156_e', 'blank0157', 'blank0157_e', 'blank0158', 'blank0158_e', 'blank0159', 'blank0159_e', 'blank0160', 'blank0160_e', 'blank0161', 'blank0161_e', 'blank0162', 'blank0162_e', 'blank0163', 'blank0163_e', 'blank0164', 'blank0164_e', 'blank0165', 'blank0165_e', 'blank0166', 'blank0166_e', 'blank0167', 'blank0167_e', 'blank0168', 'blank0168_e', 'blank0169', 'blank0169_e', 'blank0170', 'blank0170_e', 'blank0171', 'blank0171_e', 'blank0172', 'blank0172_e', 'blank0173', 'blank0173_e', 'blank0174', 'blank0174_e', 'blank0175', 'blank0175_e', 'blank0176', 'blank0176_e', 'blank0177', 'blank0177_e', 'blank0178', 'blank0178_e', 'blank0179', 'blank0179_e', 'blank0180', 'blank0180_e', 'blank0181', 'blank0181_e', 'blank0182', 'blank0182_e', 'blank0183', 'blank0183_e', 'blank0184', 'blank0184_e', 'blank0185', 'blank0185_e', 'blank0186', 'blank0186_e', 'blank0187', 'blank0187_e', 'blank0188', 'blank0188_e']\n"
     ]
    }
   ],
   "source": [
    "print(list(np.unique(all_gns_names)))"
   ]
  },
  {
   "cell_type": "code",
   "execution_count": 67,
   "id": "4ac9b7cd-11a3-4d5c-a79a-721d3d5201ec",
   "metadata": {},
   "outputs": [],
   "source": [
    "segm_tag = 'H0_'\n",
    "segm_folder = r'\\\\192.168.0.127\\Raw_data\\Roy\\HumanSVZMER_6_26_2023\\Segmentation'\n"
   ]
  },
  {
   "cell_type": "code",
   "execution_count": 73,
   "id": "e394f05a-b5de-4a08-b7e5-59231a09161c",
   "metadata": {},
   "outputs": [],
   "source": []
  },
  {
   "cell_type": "code",
   "execution_count": 71,
   "id": "9a43d8f4-5757-4d7f-af55-15ad622066c9",
   "metadata": {},
   "outputs": [
    {
     "data": {
      "text/plain": [
       "(166986, 11)"
      ]
     },
     "execution_count": 71,
     "metadata": {},
     "output_type": "execute_result"
    }
   ],
   "source": []
  },
  {
   "cell_type": "code",
   "execution_count": null,
   "id": "a0bfe731-05d2-4a9f-b03a-12e3e7f5bbc5",
   "metadata": {},
   "outputs": [],
   "source": [
    "cell_id,good = get_cell_id(dec,XF)"
   ]
  },
  {
   "cell_type": "code",
   "execution_count": null,
   "id": "72f55013-ac71-4189-8dae-7d8958f77772",
   "metadata": {},
   "outputs": [],
   "source": []
  },
  {
   "cell_type": "code",
   "execution_count": 75,
   "id": "a027e280-e037-4a6c-9761-dc30d3e8bdee",
   "metadata": {},
   "outputs": [],
   "source": []
  },
  {
   "cell_type": "code",
   "execution_count": 76,
   "id": "ca8b4f55-68e8-4306-8a3a-76a129e14e16",
   "metadata": {},
   "outputs": [],
   "source": []
  },
  {
   "cell_type": "code",
   "execution_count": 80,
   "id": "56fd79b1-65b0-4752-aa5a-c493eea50be5",
   "metadata": {},
   "outputs": [
    {
     "data": {
      "text/plain": [
       "<Points layer 'Xred' at 0x25d07460ca0>"
      ]
     },
     "execution_count": 80,
     "metadata": {},
     "output_type": "execute_result"
    }
   ],
   "source": [
    "Xcms = XF[:,:3]-tzxyf\n",
    "Xred = np.round((Xcms/dec.shape)*dec.shapesm).astype(int)\n",
    "import napari\n",
    "v = napari.Viewer()\n",
    "v.add_labels(dec.im_segm_)\n",
    "v.add_points(Xred,size=0.5)"
   ]
  },
  {
   "cell_type": "code",
   "execution_count": null,
   "id": "8dafe315-ab54-4bd7-82d8-9c1792b25277",
   "metadata": {},
   "outputs": [],
   "source": [
    "Conv_zscan__324--H0__set1--dapi_segm.npz"
   ]
  },
  {
   "cell_type": "code",
   "execution_count": null,
   "id": "f50a7b95-e7b9-407a-a20c-97dc55e2efe7",
   "metadata": {},
   "outputs": [],
   "source": [
    "def save_final_decoding(save_folder,fov,set_,scoresRef,th=-1.5,ncols=3,\n",
    "                        tag_save = 'finaldecs_',\n",
    "                        plt_val=False,apply_flat=True,\n",
    "                        tags_smFISH=['Aldh','Sox11'],\n",
    "                        genes_smFISH=[['Igfbpl1','Aldh1l1','Ptbp1'],['Sox11','Sox2','Dcx']],Hths=None,force=False,try_mode=True):\n",
    "    \"\"\"\n",
    "    This loads the decoded points renormalizes them and picks the most confident points\n",
    "    \"\"\"\n",
    "    if type(scoresRef) is str: scoresRef = np.load(scoresRef,allow_pickle=True)\n",
    "    dec = decoder_simple(save_folder,fov,set_)\n",
    "    save_fl = dec.save_folder+os.sep+os.sep+tag_save+dec.fov.split('.')[0]+'--'+dec.set_+'.npz'\n",
    "    if not os.path.exists(save_fl) or force:\n",
    "        #print(dec.fov,dec.set_)\n",
    "        def main_subf(dec,save_fl,save_folder,fov,set_,scoresRef,th,ncols,plt_val,apply_flat,tags_smFISH,genes_smFISH,Hths,force):\n",
    "            nsegm = load_segmentation(dec)\n",
    "            loaded = dec.load_decoded()\n",
    "            if not loaded:\n",
    "                print(save_fl, \"Did not have a valid decoded file.\")\n",
    "                return None\n",
    "            if apply_flat:\n",
    "                apply_flat_field(dec)\n",
    "            apply_fine_drift(dec,plt_val=plt_val)\n",
    "            \n",
    "            #for i in range(3):\n",
    "            #    apply_brightness_correction(dec)\n",
    "            #get_scores(dec,plt_val=plt_val)\n",
    "            dec.ncols=ncols\n",
    "            get_score_withRef(dec,scoresRef,plt_val=plt_val,gene=None,iSs = None)\n",
    "            dec.th=th\n",
    "            #plot_1gene(dec,gene='Gad1',viewer = None)\n",
    "            if plt_val:\n",
    "                viewer = plot_multigenes(dec,genes=['Adcy1','Slc1a2','Psap'],colors=['r','g','b','m','c','y','w'],viewer = None,\n",
    "                                         smin=1,smax=2.5,drift=dec.drift[0],\n",
    "                                        resc = dec.shape/dec.im_segm_.shape)\n",
    "                viewer.add_labels(dec.im_segm_);\n",
    "            if plt_val:\n",
    "                plot_statistics(dec)\n",
    "            #print(dec.gns_ordered)\n",
    "\n",
    "            keepf =  dec.scoreA>dec.th ### keep good score\n",
    "            icodesf = dec.icodesN[keepf]\n",
    "            XHfpr = dec.XH_pruned[keepf]\n",
    "            XHf = np.mean(XHfpr,axis=1)\n",
    "            if Hths is None:\n",
    "                ICol = XHfpr[:,:,-2].astype(int)\n",
    "                Hths = [np.percentile(XHfpr[ICol==icol][:,-3],15) for icol in np.unique(ICol)]\n",
    "            \n",
    "            XF = XHf[:,[0,1,2,-5,-4,-3,-2,-1,-1,-1,-1]]\n",
    "            #zc,xc,yc,bk-7,a-6,habs-5,hn-4,h-3\n",
    "            XF[:,-1] = dec.scoreA[keepf]\n",
    "            XF[:,-2] = np.where(keepf)[0]\n",
    "            mnD = np.mean(np.linalg.norm((XHf[:,np.newaxis]-XHfpr)[:,:,:3],axis=-1),axis=-1)\n",
    "            XF[:,-3]=mnD\n",
    "            mnH = np.mean(np.abs((XHf[:,np.newaxis]-XHfpr)[:,:,-3]),axis=-1)\n",
    "            XF[:,-4]=mnH\n",
    "            genesf = dec.gns_names[icodesf]\n",
    "            \n",
    "            ### deal with smFISH\n",
    "            for tag_smFISH,gns_smFISH in zip(tags_smFISH,genes_smFISH):\n",
    "                dec.get_XH_tag(tag=tag_smFISH)#dec.get_XH_tag(tag='Aldh1')\n",
    "                if len(dec.Xh.shape)>1:\n",
    "                    if len(dec.Xh)>0:\n",
    "                        if apply_flat:\n",
    "                            Xh = norm_brightness(dec,dec.Xh)\n",
    "                        else:\n",
    "                            Xh = dec.Xh\n",
    "\n",
    "                        tags = [gn+'_smFISH' for gn in gns_smFISH]#['Igfbp_smFISH','Aldh1l1_smFISH','Ptbp1_smFISH']\n",
    "\n",
    "                        for icol,tag_gn in enumerate(tags):\n",
    "                            Xh_ = Xh[Xh[:,-2]==icol]\n",
    "                            Xh_=Xh_[Xh_[:,-3]>Hths[icol]]\n",
    "                            Xh_=Xh_[:,[0,1,2,-5,-4,-3,-2,-1,-1,-1,-1]]\n",
    "                            Xh_[:,-1]=0\n",
    "                            Xh_[:,-2]=-1\n",
    "                            Xh_[:,-3]=0\n",
    "                            Xh_[:,-4]=0\n",
    "                            XF = np.concatenate([XF,Xh_])\n",
    "                            genesf = np.concatenate([genesf,[tag_gn]*len(Xh_)])\n",
    "\n",
    "            cell_id,good = get_cell_id(dec,XF)\n",
    "            XF_ = np.concatenate([XF[good],cell_id[:,np.newaxis]],axis=-1)\n",
    "            genesf_ = genesf[good]\n",
    "            iset = int(dec.set_.split('_set')[-1])\n",
    "            ifov = int(dec.fov.split('_')[-1].split('.')[0])\n",
    "            isets = np.array([iset]*len(cell_id))[:,np.newaxis]\n",
    "            ifovs = np.array([ifov]*len(cell_id))[:,np.newaxis]\n",
    "            cell_id = cell_id[:,np.newaxis]\n",
    "            XF_ = np.concatenate([XF[good],cell_id,ifovs,isets],axis=-1)\n",
    "\n",
    "            get_xyfov(dec)\n",
    "            XF_ = XF_[:,list(np.arange(XF_.shape[-1]))+[-1,-1]]\n",
    "            XF_[:,-2:]=dec.xfov,dec.yfov\n",
    "            header = ['z','x','y','abs_brightness','cor','brightness','color','mean_bightness_variation','mean_distance_variation',\n",
    "                      'index_from_XH_pruned','score','cell_id','ifov','iset','xfov','yfov']\n",
    "            \n",
    "            if not hasattr(dec,'im_segm_'): dec.im_segm_=np.zeros(np.array([30,3000,3000])//4)\n",
    "            icells,vols = np.unique(dec.im_segm_,return_counts=True)\n",
    "            cms = np.array(ndimage.center_of_mass(np.ones_like(dec.im_segm_),dec.im_segm_,icells))\n",
    "            #icells,vols = np.unique(dec.im_segm_,return_counts=True)\n",
    "            cms = np.array(ndimage.center_of_mass(np.ones_like(dec.im_segm_),dec.im_segm_,icells))\n",
    "            cellinfo = cms[:,[0,0,0,1,2,0,0]]\n",
    "            cellinfo[:,0]=icells\n",
    "            cellinfo[:,1]=vols\n",
    "            cellinfo[:,-2:]=dec.xfov,dec.yfov\n",
    "            header_cells = ['cell_id','volm','zc','xc','yc','xfov','yfov']\n",
    "\n",
    "            np.savez_compressed(save_fl,XF=XF_.astype(np.float32),\n",
    "                                genes = genesf_,cellinfo=cellinfo.astype(np.float32),header_cells=header_cells,header=header)\n",
    "        if try_mode:\n",
    "            try:\n",
    "                main_subf(dec,save_fl,save_folder,fov,set_,scoresRef,th,ncols,plt_val,apply_flat,tags_smFISH,genes_smFISH,Hths,force)\n",
    "            except:\n",
    "                print(\"Failed\",dec.fov,dec.set_)\n",
    "        else:\n",
    "            main_subf(dec,save_fl,save_folder,fov,set_,scoresRef,th,ncols,plt_val,apply_flat,tags_smFISH,genes_smFISH,Hths,force)\n",
    "    "
   ]
  },
  {
   "cell_type": "code",
   "execution_count": 84,
   "id": "c4cd7803-9dd8-40e7-a3f3-6e389f335796",
   "metadata": {},
   "outputs": [],
   "source": [
    "get_xyfov(dec)"
   ]
  },
  {
   "cell_type": "code",
   "execution_count": 83,
   "id": "3d80ba34-596e-4df5-bd95-c231c63714e1",
   "metadata": {},
   "outputs": [],
   "source": []
  },
  {
   "cell_type": "code",
   "execution_count": 7,
   "id": "94b67229-33fc-4669-ac03-d181a2abc3a2",
   "metadata": {},
   "outputs": [
    {
     "data": {
      "text/plain": [
       "['\\\\\\\\192.168.0.127\\\\Raw_data\\\\Roy\\\\HumanSVZMER_6_26_2023\\\\plate1\\\\H1_MER_set1',\n",
       " '\\\\\\\\192.168.0.127\\\\Raw_data\\\\Roy\\\\HumanSVZMER_6_26_2023\\\\plate1\\\\H13_MER_set1',\n",
       " '\\\\\\\\192.168.0.127\\\\Raw_data\\\\Roy\\\\HumanSVZMER_6_26_2023\\\\plate2\\\\H1_MER_set1',\n",
       " '\\\\\\\\192.168.0.127\\\\Raw_data\\\\Roy\\\\HumanSVZMER_6_26_2023\\\\plate2\\\\H13_MER_set1',\n",
       " '\\\\\\\\192.168.0.127\\\\Raw_data\\\\Roy\\\\HumanSVZMER_6_26_2023\\\\plate3\\\\H1_MER_set1',\n",
       " '\\\\\\\\192.168.0.127\\\\Raw_data\\\\Roy\\\\HumanSVZMER_6_26_2023\\\\plate3\\\\H13_MER_set1',\n",
       " '\\\\\\\\192.168.0.127\\\\Raw_data\\\\Roy\\\\HumanSVZMER_6_26_2023\\\\H0__set1']"
      ]
     },
     "execution_count": 7,
     "metadata": {},
     "output_type": "execute_result"
    }
   ],
   "source": [
    "flds"
   ]
  },
  {
   "cell_type": "code",
   "execution_count": null,
   "id": "8f122c58-9bac-4980-b89f-46dbda550857",
   "metadata": {},
   "outputs": [],
   "source": []
  }
 ],
 "metadata": {
  "kernelspec": {
   "display_name": "Python 3 (ipykernel)",
   "language": "python",
   "name": "python3"
  },
  "language_info": {
   "codemirror_mode": {
    "name": "ipython",
    "version": 3
   },
   "file_extension": ".py",
   "mimetype": "text/x-python",
   "name": "python",
   "nbconvert_exporter": "python",
   "pygments_lexer": "ipython3",
   "version": "3.8.16"
  }
 },
 "nbformat": 4,
 "nbformat_minor": 5
}
