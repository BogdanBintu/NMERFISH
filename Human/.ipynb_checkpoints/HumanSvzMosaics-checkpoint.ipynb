{
 "cells": [
  {
   "cell_type": "code",
   "execution_count": 4,
   "id": "0b06a007-e25e-489d-8784-f7d55fbcc0d5",
   "metadata": {},
   "outputs": [],
   "source": [
    "import sys\n",
    "sys.path.append('..//')\n",
    "from ioMicro import *"
   ]
  },
  {
   "cell_type": "code",
   "execution_count": 21,
   "id": "74db9252-a4fb-4122-a7df-16ffc36d29e9",
   "metadata": {},
   "outputs": [
    {
     "data": {
      "text/plain": [
       "['\\\\\\\\192.168.0.127\\\\Raw_data\\\\Roy\\\\HumanSVZMER_6_26_2023\\\\P1_NeuroD1_FoxJ1_Gfap__set1',\n",
       " '\\\\\\\\192.168.0.127\\\\Raw_data\\\\Roy\\\\HumanSVZMER_6_26_2023\\\\P2_GAD1_NRGN_AQP4__set1',\n",
       " '\\\\\\\\192.168.0.127\\\\Raw_data\\\\Roy\\\\HumanSVZMER_6_26_2023\\\\P3_PTBP1_PTBP2_REST__set1',\n",
       " '\\\\\\\\192.168.0.127\\\\Raw_data\\\\Roy\\\\HumanSVZMER_6_26_2023\\\\H0__set1']"
      ]
     },
     "execution_count": 21,
     "metadata": {},
     "output_type": "execute_result"
    }
   ],
   "source": [
    "folders = glob.glob(r'\\\\192.168.0.127\\Raw_data\\Roy\\HumanSVZMER_6_26_2023\\P*')+glob.glob(r'\\\\192.168.0.127\\Raw_data\\Roy\\HumanSVZMER_6_26_2023\\H0*')\n",
    "folders"
   ]
  },
  {
   "cell_type": "code",
   "execution_count": 35,
   "id": "4fbf73c1-40bd-4b20-bd82-3130cfbaf9c0",
   "metadata": {},
   "outputs": [],
   "source": [
    "def gene_to_file_color(gene,ifov,folders=folders,ncols=3):\n",
    "    fovs = np.sort([os.path.basename(fl) for fl in glob.glob(folders[0]+os.sep+'*.zarr')])\n",
    "    dic_gn = {}\n",
    "    for fld in folders:\n",
    "        tag = os.path.basename(fld)\n",
    "        gns = tag.replace('__','_').split('_')[1:-1]\n",
    "        #print(gns)\n",
    "        if len(gns)==0:\n",
    "            for icol in range(ncols):\n",
    "                dic_gn['bk'+str(icol)]=(fld,icol)\n",
    "        else:\n",
    "            for icol,gn in enumerate(gns):\n",
    "                dic_gn[gn]=(fld,icol)\n",
    "    icol = dic_gn[gene][1]\n",
    "    return dic_gn[gene][0]+os.sep+fovs[ifov],dic_gn['bk'+str(icol)][0]+os.sep+fovs[ifov],icol\n",
    "\n",
    "def get_im_med(icol=0,save_fld_mos = r'\\\\192.168.0.127\\Raw_data\\Roy\\HumanSVZMER_6_26_2023\\Mosaic_Analysis'):\n",
    "    im_med = np.load(save_fld_mos+os.sep+'med_col_raw'+str(icol)+'.npz')['im']\n",
    "    im_med = cv2.blur(im_med,(20,20))\n",
    "    im_med = im_med/np.median(im_med)\n",
    "    return im_med"
   ]
  },
  {
   "cell_type": "code",
   "execution_count": 34,
   "id": "225ff59f-bec7-4d58-ba21-189b17a08823",
   "metadata": {},
   "outputs": [
    {
     "data": {
      "text/plain": [
       "('\\\\\\\\192.168.0.127\\\\Raw_data\\\\Roy\\\\HumanSVZMER_6_26_2023\\\\P2_GAD1_NRGN_AQP4__set1\\\\Conv_zscan__030.zarr',\n",
       " '\\\\\\\\192.168.0.127\\\\Raw_data\\\\Roy\\\\HumanSVZMER_6_26_2023\\\\H0__set1\\\\Conv_zscan__030.zarr',\n",
       " 1)"
      ]
     },
     "execution_count": 34,
     "metadata": {},
     "output_type": "execute_result"
    }
   ],
   "source": [
    "gene_to_file_color('NRGN',30)"
   ]
  },
  {
   "cell_type": "code",
   "execution_count": 79,
   "id": "f42c9929-4d90-483d-b583-049b38409e56",
   "metadata": {},
   "outputs": [],
   "source": [
    "fl_sig,fl_bk,icol = gene_to_file_color('PTBP1',305)\n",
    "im_sig,x,y = read_im(fl_sig,return_pos=True)\n",
    "im_bk,x,y = read_im(fl_bk,return_pos=True)\n",
    "im_sig_dapi = np.array(im_sig[-1],dtype=np.float32)\n",
    "im_bk_dapi = np.array(im_bk[-1],dtype=np.float32)\n",
    "im_sig = np.array(im_sig[icol],dtype=np.float32)\n",
    "im_bk = np.array(im_bk[icol],dtype=np.float32)\n",
    "tzxy,tzxys = get_txyz(im_sig_dapi,im_bk_dapi,sz_norm=30,sz=300)\n",
    "\n",
    "# slice_bk = tuple([slice(np.max([t,0]),np.min([t,-1])) for t in tzxy])\n",
    "# slice_sig = tuple([slice(np.max([-t-1,0]),np.min([-t-1,-1])) for t in tzxy])\n",
    "# im_sig_ = im_sig[slice_sig]-im_bk[slice_bk]\n",
    "# im_sig_n = norm_slice(im_sig_,s=30)\n",
    "# im_dapi = im_bk_dapi[slice_bk]\n",
    "\n",
    "\n",
    "slice_bk = tuple([slice(np.max([t,0]),np.min([t,-1])) for t in tzxy])\n",
    "slice_sig = tuple([slice(np.max([-t-1,0]),np.min([-t-1,-1])) for t in tzxy])\n",
    "im_sig_ = (im_sig[slice_sig]-im_bk[slice_bk])/get_im_med(icol)[slice_sig[1:]]\n",
    "im_sig_n = norm_slice(im_sig_,s=30)\n",
    "im_dapi = im_bk_dapi[slice_bk]/get_im_med(3)[slice_bk[1:]]"
   ]
  },
  {
   "cell_type": "code",
   "execution_count": 105,
   "id": "15c6b898-1610-4777-91f2-b4aa958e7d00",
   "metadata": {},
   "outputs": [],
   "source": []
  },
  {
   "cell_type": "code",
   "execution_count": 106,
   "id": "80f8e154-461e-4a04-9c8d-0cf0ea42cbd4",
   "metadata": {},
   "outputs": [
    {
     "data": {
      "text/plain": [
       "<Image layer 'Image [1]' at 0x187c91c6c10>"
      ]
     },
     "execution_count": 106,
     "metadata": {},
     "output_type": "execute_result"
    }
   ],
   "source": [
    "import napari\n",
    "v = napari.Viewer()\n",
    "v.add_image(np.max(im_sig_n,axis=0),colormap='yellow',blending='additive')\n",
    "v.add_image(np.max(im_dapi,axis=0),colormap='bop blue',blending='additive')"
   ]
  },
  {
   "cell_type": "code",
   "execution_count": 93,
   "id": "d415f423-d314-4892-8b14-cff157a4a757",
   "metadata": {},
   "outputs": [],
   "source": [
    "\n"
   ]
  },
  {
   "cell_type": "code",
   "execution_count": 94,
   "id": "808316d7-d08b-45a9-a74a-a5d5b3ff914e",
   "metadata": {},
   "outputs": [
    {
     "data": {
      "text/plain": [
       "array([[351.3825, 351.3825, 351.4525, ..., 599.905 , 600.2575, 600.4875],\n",
       "       [351.3825, 351.3825, 351.4525, ..., 599.905 , 600.2575, 600.4875],\n",
       "       [350.69  , 350.69  , 350.8175, ..., 600.145 , 600.575 , 600.805 ],\n",
       "       ...,\n",
       "       [567.285 , 567.285 , 567.245 , ..., 711.8775, 711.1925, 710.1525],\n",
       "       [567.665 , 567.665 , 567.615 , ..., 711.015 , 710.2675, 709.2575],\n",
       "       [568.0125, 568.0125, 567.9325, ..., 710.4475, 709.64  , 708.4575]],\n",
       "      dtype=float32)"
      ]
     },
     "execution_count": 94,
     "metadata": {},
     "output_type": "execute_result"
    }
   ],
   "source": [
    "save_fld_mos"
   ]
  },
  {
   "cell_type": "code",
   "execution_count": 107,
   "id": "26c4332d-4549-4263-a619-7ffde9273a40",
   "metadata": {},
   "outputs": [],
   "source": [
    "def get_imsm(gene,ifov,vmax=3,snorm=30,\n",
    "             redo=False,\n",
    "             save_fld_mos = r'\\\\192.168.0.127\\Raw_data\\Roy\\HumanSVZMER_6_26_2023\\Mosaic_Analysis'):\n",
    "    \n",
    "    if save_fld_mos is not None:\n",
    "        if not redo:\n",
    "            mosaic_fl = save_fld_mos+os.sep+os.sep+str(ifov).zfill(4)+'__'+gene+'.npz'\n",
    "\n",
    "            if os.path.exists(mosaic_fl):\n",
    "                im_nc = np.load(mosaic_fl)['im']\n",
    "                Xh = np.load(mosaic_fl)['Xh']\n",
    "                im_dapi = np.load(mosaic_fl)['im_dapi']\n",
    "                x,y,icol = np.load(mosaic_fl)['xycol']\n",
    "                return im_nc,Xh,im_dapi,icol,x,y\n",
    "        \n",
    "    fl_sig,fl_bk,icol = gene_to_file_color(gene,ifov)\n",
    "                 \n",
    "    im_sig,x,y = read_im(fl_sig,return_pos=True)\n",
    "    im_bk,x,y = read_im(fl_bk,return_pos=True)\n",
    "    im_sig_dapi = np.array(im_sig[-1],dtype=np.float32)\n",
    "    im_bk_dapi = np.array(im_bk[-1],dtype=np.float32)\n",
    "    im_sig = np.array(im_sig[icol],dtype=np.float32)\n",
    "    im_bk = np.array(im_bk[icol],dtype=np.float32)\n",
    "    tzxy,tzxys = get_txyz(im_sig_dapi,im_bk_dapi,sz_norm=30,sz=300)\n",
    "    \n",
    "    # slice_bk = tuple([slice(np.max([t,0]),np.min([t,-1])) for t in tzxy])\n",
    "    # slice_sig = tuple([slice(np.max([-t-1,0]),np.min([-t-1,-1])) for t in tzxy])\n",
    "    # im_sig_ = im_sig[slice_sig]-im_bk[slice_bk]\n",
    "    # im_sig_n = norm_slice(im_sig_,s=30)\n",
    "    # im_dapi = im_bk_dapi[slice_bk]\n",
    "    \n",
    "    \n",
    "    slice_bk = tuple([slice(np.max([t,0]),np.min([t,-1])) for t in tzxy])\n",
    "    slice_sig = tuple([slice(np.max([-t-1,0]),np.min([-t-1,-1])) for t in tzxy])\n",
    "    im_sig_ = (im_sig[slice_sig]-im_bk[slice_bk])/get_im_med(icol)[slice_sig[1:]]\n",
    "    im_sig_n = norm_slice(im_sig_,s=30)\n",
    "    im_dapi = im_bk_dapi[slice_bk]/get_im_med(3)[slice_bk[1:]]\n",
    "    im_nc = np.max(im_sig_n,axis=0)\n",
    "    Xh = get_local_maxfast_tensor(im_sig_n,500,im_raw=im_sig_)\n",
    "                 \n",
    "    if save_fld_mos is not None:\n",
    "        mosaic_fl = save_fld_mos+os.sep+os.sep+str(ifov).zfill(4)+'__'+gene+'.npz'\n",
    "        np.savez_compressed(mosaic_fl,im=im_nc,Xh=Xh,im_dapi = np.max(im_dapi,axis=0),xycol = [x,y,icol])\n",
    "    \n",
    "    return im_nc,icol,x,y"
   ]
  },
  {
   "cell_type": "code",
   "execution_count": 81,
   "id": "c154df81-6c45-4a61-9900-3efec2341154",
   "metadata": {},
   "outputs": [],
   "source": []
  },
  {
   "cell_type": "code",
   "execution_count": 88,
   "id": "7c1059d9-2fdc-4743-be4e-5a1043dbee54",
   "metadata": {},
   "outputs": [
    {
     "ename": "NameError",
     "evalue": "name 'im_dapi' is not defined",
     "output_type": "error",
     "traceback": [
      "\u001b[1;31m---------------------------------------------------------------------------\u001b[0m",
      "\u001b[1;31mNameError\u001b[0m                                 Traceback (most recent call last)",
      "Cell \u001b[1;32mIn[88], line 4\u001b[0m\n\u001b[0;32m      2\u001b[0m v \u001b[38;5;241m=\u001b[39m napari\u001b[38;5;241m.\u001b[39mViewer()\n\u001b[0;32m      3\u001b[0m v\u001b[38;5;241m.\u001b[39madd_image(np\u001b[38;5;241m.\u001b[39mmax(im_sig_n,axis\u001b[38;5;241m=\u001b[39m\u001b[38;5;241m0\u001b[39m),colormap\u001b[38;5;241m=\u001b[39m\u001b[38;5;124m'\u001b[39m\u001b[38;5;124myellow\u001b[39m\u001b[38;5;124m'\u001b[39m,blending\u001b[38;5;241m=\u001b[39m\u001b[38;5;124m'\u001b[39m\u001b[38;5;124madditive\u001b[39m\u001b[38;5;124m'\u001b[39m)\n\u001b[1;32m----> 4\u001b[0m v\u001b[38;5;241m.\u001b[39madd_image(np\u001b[38;5;241m.\u001b[39mmax(\u001b[43mim_dapi\u001b[49m,axis\u001b[38;5;241m=\u001b[39m\u001b[38;5;241m0\u001b[39m),colormap\u001b[38;5;241m=\u001b[39m\u001b[38;5;124m'\u001b[39m\u001b[38;5;124mbop blue\u001b[39m\u001b[38;5;124m'\u001b[39m,blending\u001b[38;5;241m=\u001b[39m\u001b[38;5;124m'\u001b[39m\u001b[38;5;124madditive\u001b[39m\u001b[38;5;124m'\u001b[39m)\n",
      "\u001b[1;31mNameError\u001b[0m: name 'im_dapi' is not defined"
     ]
    }
   ],
   "source": []
  },
  {
   "cell_type": "code",
   "execution_count": 83,
   "id": "0b787bf6-8e2c-487d-971b-4ec390be5745",
   "metadata": {},
   "outputs": [
    {
     "data": {
      "text/plain": [
       "array([[165., 159., 160., ..., 171., 167., 156.],\n",
       "       [158., 160., 169., ..., 161., 164., 156.],\n",
       "       [159., 161., 162., ..., 163., 176., 169.],\n",
       "       ...,\n",
       "       [162., 170., 175., ..., 181., 197., 187.],\n",
       "       [175., 160., 163., ..., 177., 186., 189.],\n",
       "       [181., 176., 166., ..., 198., 185., 185.]], dtype=float32)"
      ]
     },
     "execution_count": 83,
     "metadata": {},
     "output_type": "execute_result"
    }
   ],
   "source": []
  },
  {
   "cell_type": "code",
   "execution_count": 5,
   "id": "00434a44-a054-4d89-a41e-f151f2319a3b",
   "metadata": {},
   "outputs": [],
   "source": [
    "def get_im(gene,ifov= 1277,icol_=None):\n",
    "    if 'bk' in gene:\n",
    "        hfld = r'\\\\BBFISH2\\Raw_data_1\\KKBB_4_29_2022_full\\H0'\n",
    "        icol = int(gene[2:])\n",
    "    else:\n",
    "        hfld,icol = gene_to_file_color(gene)\n",
    "    if icol_ is not None:\n",
    "        icol = icol_\n",
    "    fov = 'Conv_zscan__'+str(ifov).zfill(4)+'.zarr'\n",
    "    fl = hfld+os.sep+fov\n",
    "    im,x,y = read_im(fl,return_pos=True)\n",
    "    return im[icol,1:],icol,x,y\n",
    "\n",
    "def norm_im_med(im,icol):\n",
    "    imA,imB = np.load(r'\\\\BBFISH2\\Raw_data_1\\KKBB_4_29_2022_full_Analysis_v1\\median_col'+str(icol)+'.npy')\n",
    "    imA= cv2.blur(imA,(50,50))\n",
    "    imB= cv2.blur(imB,(50,50))\n",
    "    im_f = (np.array(im,dtype=np.float32)-imA)/imB\n",
    "    return im_f\n",
    "def get_imsm(gene,ifov,vmax=3,snorm=30,\n",
    "             redo=False,\n",
    "             save_fld_mos = r'\\\\BBFISH2\\Raw_data_1\\KKBB_4_29_2022_full_Analysis_review_mosaics'):\n",
    "    if save_fld_mos is not None:\n",
    "        if not redo:\n",
    "            mosaic_fl = save_fld_mos+os.sep+os.sep+str(ifov).zfill(4)+'__'+gene+'.npz'\n",
    "\n",
    "            if os.path.exists(mosaic_fl):\n",
    "                im_nc = np.load(mosaic_fl)['im']\n",
    "                x,y,icol = np.load(mosaic_fl)['xycol']\n",
    "                return im_nc,icol,x,y\n",
    "        \n",
    "    im,icol,x,y = get_im(gene,ifov= ifov,icol_=None)\n",
    "    im_ = np.array(im,dtype=np.float32)\n",
    "    im_n = norm_im_med(im_,icol)\n",
    "    im_n = np.max(norm_slice(im_n,s=snorm),axis=0)\n",
    "    im_nc = (np.clip(im_n/vmax,0,1)*255).astype(np.uint8)\n",
    "    \n",
    "    if save_fld_mos is not None:\n",
    "        mosaic_fl = save_fld_mos+os.sep+os.sep+str(ifov).zfill(4)+'__'+gene+'.npz'\n",
    "        np.savez_compressed(mosaic_fl,im=im_nc,xycol = [x,y,icol])\n",
    "    \n",
    "    return im_nc,icol,x,y"
   ]
  },
  {
   "cell_type": "code",
   "execution_count": 6,
   "id": "19b66b81-4e54-4180-8546-08916e7d9665",
   "metadata": {},
   "outputs": [
    {
     "data": {
      "text/plain": [
       "['\\\\\\\\192.168.0.127\\\\Raw_data\\\\Roy\\\\HumanSVZMER_6_26_2023\\\\P1_NeuroD1_FoxJ1_Gfap__set1',\n",
       " '\\\\\\\\192.168.0.127\\\\Raw_data\\\\Roy\\\\HumanSVZMER_6_26_2023\\\\P2_GAD1_NRGN_AQP4__set1',\n",
       " '\\\\\\\\192.168.0.127\\\\Raw_data\\\\Roy\\\\HumanSVZMER_6_26_2023\\\\P3_PTBP1_PTBP2_REST__set1']"
      ]
     },
     "execution_count": 6,
     "metadata": {},
     "output_type": "execute_result"
    }
   ],
   "source": []
  },
  {
   "cell_type": "code",
   "execution_count": null,
   "id": "5a4d74f4-eacc-4e3a-94bf-a89e2a36a7a7",
   "metadata": {},
   "outputs": [],
   "source": []
  }
 ],
 "metadata": {
  "kernelspec": {
   "display_name": "Python 3 (ipykernel)",
   "language": "python",
   "name": "python3"
  },
  "language_info": {
   "codemirror_mode": {
    "name": "ipython",
    "version": 3
   },
   "file_extension": ".py",
   "mimetype": "text/x-python",
   "name": "python",
   "nbconvert_exporter": "python",
   "pygments_lexer": "ipython3",
   "version": "3.9.16"
  }
 },
 "nbformat": 4,
 "nbformat_minor": 5
}
