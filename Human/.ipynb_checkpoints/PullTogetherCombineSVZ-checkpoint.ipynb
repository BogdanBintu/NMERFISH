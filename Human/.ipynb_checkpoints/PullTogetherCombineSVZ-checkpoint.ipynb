{
 "cells": [
  {
   "cell_type": "code",
   "execution_count": 1,
   "id": "49a4888e-0920-4380-8dda-c06cb88a9f38",
   "metadata": {},
   "outputs": [],
   "source": [
    "import sys\n",
    "sys.path.append(r'..\\\\')\n",
    "from ioMicro import *"
   ]
  },
  {
   "cell_type": "code",
   "execution_count": 9,
   "id": "133bad73-0e8d-40e5-a728-7ae9fc1c045c",
   "metadata": {},
   "outputs": [],
   "source": [
    "fl = r'\\\\192.168.0.127\\Raw_data\\Roy\\HumanSVZMER_6_26_2023\\Drift\\driftNew_Conv_zscan__264--_set1.pkl'\n",
    "drft,flds,fov,fl_ref = np.load(fl,allow_pickle=True)\n",
    "drftT = [drf[0] for drf in drft]"
   ]
  },
  {
   "cell_type": "code",
   "execution_count": 135,
   "id": "9508e7c9-4f99-4afd-a77a-5c88ed5c379e",
   "metadata": {},
   "outputs": [
    {
     "name": "stdout",
     "output_type": "stream",
     "text": [
      "Loaded decoded: -0.2030622959136963\n",
      "Loaded decoded: -0.5445640087127686\n",
      "Loaded decoded: -0.7679946422576904\n",
      "Loaded decoded: -0.6245126724243164\n",
      "Loaded decoded: -0.5188171863555908\n",
      "Loaded decoded: -0.3917722702026367\n",
      "Loaded decoded: -0.18073129653930664\n",
      "Loaded decoded: -0.5205478668212891\n"
     ]
    },
    {
     "name": "stderr",
     "output_type": "stream",
     "text": [
      "\n",
      "KeyboardInterrupt\n",
      "\n"
     ]
    }
   ],
   "source": [
    "save_folders = [r'\\\\192.168.0.127\\Raw_data\\Roy\\HumanSVZMER_6_26_2023\\MERFISH_Analysis_group1',\n",
    "               r'\\\\192.168.0.127\\Raw_data\\Roy\\HumanSVZMER_6_26_2023\\MERFISH_Analysis_group2',\n",
    "               r'\\\\192.168.0.127\\Raw_data\\Roy\\HumanSVZMER_6_26_2023\\MERFISH_Analysis_group3',\n",
    "               r'\\\\192.168.0.127\\Raw_data\\Roy\\HumanSVZMER_6_26_2023\\MERFISH_Analysis_group4',\n",
    "               r'\\\\192.168.0.127\\Raw_data\\Roy\\HumanSVZMER_6_26_2023\\MERFISH_Analysis_group5',\n",
    "               r'\\\\192.168.0.127\\Raw_data\\Roy\\HumanSVZMER_6_26_2023\\MERFISH_Analysis_group6']\n",
    "scoresRef = r'\\\\192.168.0.127\\Raw_data\\Roy\\HumanSVZMER_6_26_2023\\scoresRef.npy'\n",
    "drift_folder = r'\\\\192.168.0.127\\Raw_data\\Roy\\HumanSVZMER_6_26_2023\\Drift'\n",
    "segm_tag = 'H0_'\n",
    "segm_folder = r'\\\\192.168.0.127\\Raw_data\\Roy\\HumanSVZMER_6_26_2023\\Segmentation'\n",
    "\n",
    "th=-1.5\n",
    "ncols=2\n",
    "tag_save='finaldecs_'\n",
    "force=True\n",
    "save_folder_all = r'\\\\192.168.0.127\\Raw_data\\Roy\\HumanSVZMER_6_26_2023\\Combined'\n",
    "fov='Conv_zscan__220'\n",
    "set_='_set1'\n",
    "plt_val=False\n",
    "ifovs = [264,265,266,275,276,277,279,280,281,\n",
    " 263,268,267,274,273,278,283,282,311,\n",
    " 257,269,270,271,272,285,284,309,310,\n",
    " 256,251,250,249,287,286,307,308,220,305,304,224,226,225,210,211,209,195,196,180,183,180,181,176,\n",
    " 8,9,13,12,14,42,16,40,41,38,39,45,37,47,46,48,57,56,52]\n",
    "for ifov in ifovs:\n",
    "    try:\n",
    "        fov='Conv_zscan__'+str(ifov).zfill(3)\n",
    "        \n",
    "        if type(scoresRef) is str: scoresRef = np.load(scoresRef,allow_pickle=True)\n",
    "        save_fl = save_folder_all+os.sep+os.sep+tag_save+fov.split('.')[0]+'--'+set_+'.npz'\n",
    "        if not os.path.exists(save_fl) or force:\n",
    "            \n",
    "            if not os.path.exists(save_folder_all): os.makedirs(save_folder_all)\n",
    "            \n",
    "        \n",
    "            ### Load point data ###############################\n",
    "            all_gns_names = []\n",
    "            XFF,genesFF = None,None\n",
    "            for isave,save_folder in enumerate(save_folders):\n",
    "                #save_folder = save_folders[0]\n",
    "                dec = decoder_simple(save_folder,fov,set_)\n",
    "                loaded = dec.load_decoded()\n",
    "                if not loaded:\n",
    "                    print(save_fl, \"Did not have a valid decoded file.\")\n",
    "                    #return None\n",
    "                dec.gns_names = np.array([gn+'_'+str(isave) if gn in all_gns_names else gn for gn in dec.gns_names])\n",
    "                all_gns_names = np.unique(np.concatenate([all_gns_names,dec.gns_names]))\n",
    "            \n",
    "                ### Threshold point data ###############################\n",
    "                dec.ncols=ncols\n",
    "                get_score_withRef(dec,scoresRef,plt_val=plt_val,gene=None,iSs = None)\n",
    "                dec.th=th\n",
    "                if plt_val:\n",
    "                    plot_statistics(dec)\n",
    "                #print(dec.gns_ordered)\n",
    "\n",
    "\n",
    "                ### Load dapi\n",
    "                dec.fl_dapi = segm_folder+os.sep+fov+'--'+segm_tag+set_+'--dapi_segm.npz'\n",
    "                dic = np.load(dec.fl_dapi)\n",
    "                im_segm = dic['segm']\n",
    "                dec.shape = dic['shape']\n",
    "                \n",
    "                dec.im_segm_=stitch3d_new(im_segm,minsz = 200,maxsz = 1000,th_int=0.66,th_cover=0.8,th_max_subcell=0.66,nexpand = 5)\n",
    "                dec.shapesm = np.array(dec.im_segm_.shape)\n",
    "\n",
    "\n",
    "\n",
    "\n",
    "\n",
    "\n",
    "                \n",
    "                keepf =  dec.scoreA>dec.th ### keep good score\n",
    "                icodesf = dec.icodesN[keepf]\n",
    "                XHfpr = dec.XH_pruned[keepf]\n",
    "            \n",
    "                ### Reorganize data  ###############################\n",
    "                XHf = np.mean(XHfpr,axis=1)\n",
    "                XF = XHf[:,[0,1,2,-5,-4,-3,-2,-1,-1,-1,-1]]\n",
    "                #zc,xc,yc,bk-7,a-6,habs-5,hn-4,h-3\n",
    "                XF[:,-1] = dec.scoreA[keepf]\n",
    "                XF[:,-2] = np.where(keepf)[0]\n",
    "                mnD = np.mean(np.linalg.norm((XHf[:,np.newaxis]-XHfpr)[:,:,:3],axis=-1),axis=-1)\n",
    "                XF[:,-3]=mnD\n",
    "                mnH = np.mean(np.abs((XHf[:,np.newaxis]-XHfpr)[:,:,-3]),axis=-1)\n",
    "                XF[:,-4]=mnH\n",
    "                genesf = dec.gns_names[icodesf]\n",
    "            \n",
    "                ### Load and apply drift correction\n",
    "                def get_drft_dic(fl_all_drift):\n",
    "                    drft,flds,fov_,fl_ref= np.load(fl_all_drift,allow_pickle=True)\n",
    "                    return {'--'.join(fld.split(os.sep)[-2:]):drft_[0] for fld,drft_ in zip(flds,drft)}\n",
    "                fl_all_drift = drift_folder+os.sep+'driftNew_'+fov+'--'+set_+'.pkl'\n",
    "                drft_dic_all = get_drft_dic(fl_all_drift)\n",
    "                fl_all_drift = save_folder+os.sep+'driftNew_'+fov+'--'+set_+'.pkl'\n",
    "                drft_dic_group = get_drft_dic(fl_all_drift)\n",
    "                key_segm = [key for key in drft_dic_all if segm_tag in key][0]\n",
    "                key_align = np.intersect1d(list(drft_dic_all.keys()),list(drft_dic_group.keys()))[0]\n",
    "                th1_to_h0 = drft_dic_all[key_segm]-drft_dic_all[key_align]\n",
    "                th1_gr = drft_dic_group[key_align]\n",
    "                tzxyf = th1_gr+th1_to_h0\n",
    "                XF[:,:3]=XF[:,:3]-tzxyf\n",
    "                if XFF is None:\n",
    "                    XFF,genesFF = XF,genesf\n",
    "                else:\n",
    "                    XFF,genesFF = np.concatenate([XFF,XF]),np.concatenate([genesFF,genesf])\n",
    "                    \n",
    "           \n",
    "        \n",
    "            def get_cell_id(dec,Xh):\n",
    "                if not hasattr(dec,'im_segm_'): \n",
    "                    good = np.ones(len(Xh),dtype=bool)\n",
    "                    cells_ = np.zeros(len(Xh),dtype=int)\n",
    "                    return cells_,good\n",
    "                im_segm = dec.im_segm_\n",
    "                dec.shapesm = dec.im_segm_.shape\n",
    "                Xcms = Xh[:,:3]\n",
    "                Xred = np.round((Xcms/dec.shape)*dec.shapesm).astype(int)\n",
    "                good = ~np.any((Xred>=dec.shapesm)|(Xred<0),axis=-1)\n",
    "                Xred = Xred[good]\n",
    "                return im_segm[tuple(Xred.T)],good\n",
    "        \n",
    "            XF,genesf = XFF,genesFF  \n",
    "            cell_id,good = get_cell_id(dec,XF)\n",
    "            XF_ = np.concatenate([XF[good],cell_id[:,np.newaxis]],axis=-1)\n",
    "            genesf_ = genesf[good]\n",
    "            iset = int(dec.set_.split('_set')[-1])\n",
    "            ifov = int(dec.fov.split('_')[-1].split('.')[0])\n",
    "            isets = np.array([iset]*len(cell_id))[:,np.newaxis]\n",
    "            ifovs = np.array([ifov]*len(cell_id))[:,np.newaxis]\n",
    "            cell_id = cell_id[:,np.newaxis]\n",
    "            XF_ = np.concatenate([XF[good],cell_id,ifovs,isets],axis=-1)\n",
    "        \n",
    "            get_xyfov(dec)\n",
    "            XF_ = XF_[:,list(np.arange(XF_.shape[-1]))+[-1,-1]]\n",
    "            XF_[:,-2:]=dec.xfov,dec.yfov\n",
    "            header = ['z','x','y','abs_brightness','cor','brightness','color','mean_bightness_variation','mean_distance_variation',\n",
    "                      'index_from_XH_pruned','score','cell_id','ifov','iset','xfov','yfov']\n",
    "            \n",
    "            if not hasattr(dec,'im_segm_'): dec.im_segm_=np.zeros(np.array([30,3000,3000])//4)\n",
    "            icells,vols = np.unique(dec.im_segm_,return_counts=True)\n",
    "            cms = np.array(ndimage.center_of_mass(np.ones_like(dec.im_segm_),dec.im_segm_,icells))\n",
    "            #icells,vols = np.unique(dec.im_segm_,return_counts=True)\n",
    "            cms = np.array(ndimage.center_of_mass(np.ones_like(dec.im_segm_),dec.im_segm_,icells))\n",
    "            cellinfo = cms[:,[0,0,0,1,2,0,0]]\n",
    "            cellinfo[:,0]=icells\n",
    "            cellinfo[:,1]=vols\n",
    "            cellinfo[:,-2:]=dec.xfov,dec.yfov\n",
    "            header_cells = ['cell_id','volm','zc','xc','yc','xfov','yfov']\n",
    "            if True:\n",
    "                np.savez_compressed(save_fl,XF=XF_.astype(np.float32),\n",
    "                                    genes = genesf_,cellinfo=cellinfo.astype(np.float32),header_cells=header_cells,header=header)\n",
    "            print(\"Finished\",fov)\n",
    "    except:\n",
    "        print(\"Failed\",fov)"
   ]
  },
  {
   "cell_type": "code",
   "execution_count": 132,
   "id": "6581a44e-590b-4849-8c45-1436db4378d6",
   "metadata": {},
   "outputs": [
    {
     "data": {
      "text/plain": [
       "(array([0.]), array([3937500], dtype=int64))"
      ]
     },
     "execution_count": 132,
     "metadata": {},
     "output_type": "execute_result"
    }
   ],
   "source": [
    "np.unique(dec.im_segm_,return_counts=True)"
   ]
  },
  {
   "cell_type": "code",
   "execution_count": null,
   "id": "e425f1c5-fc7f-43d8-963c-e0591f8b23e6",
   "metadata": {},
   "outputs": [],
   "source": []
  },
  {
   "cell_type": "code",
   "execution_count": 126,
   "id": "74de1395-c4f0-45f0-971e-e7a08df26a0c",
   "metadata": {},
   "outputs": [],
   "source": [
    "save_fls = glob.glob(r\"\\\\192.168.0.127\\Raw_data\\Roy\\HumanSVZMER_6_26_2023\\Combined\\finaldecs_*\")\n",
    "#print(save_fl)"
   ]
  },
  {
   "cell_type": "code",
   "execution_count": 128,
   "id": "e15f31a7-13f4-434b-baa7-46414dafaf8b",
   "metadata": {},
   "outputs": [
    {
     "data": {
      "text/plain": [
       "array([], dtype=int32)"
      ]
     },
     "execution_count": 128,
     "metadata": {},
     "output_type": "execute_result"
    }
   ],
   "source": [
    "icellsf"
   ]
  },
  {
   "cell_type": "code",
   "execution_count": 129,
   "id": "9800df02-cbb3-4fc7-b2d7-d8ddf5fe45ea",
   "metadata": {},
   "outputs": [
    {
     "name": "stderr",
     "output_type": "stream",
     "text": [
      "  1%|█▏                                                                                 | 1/69 [00:00<00:34,  1.97it/s]"
     ]
    },
    {
     "name": "stdout",
     "output_type": "stream",
     "text": [
      "No cells in: \\\\192.168.0.127\\Raw_data\\Roy\\HumanSVZMER_6_26_2023\\Combined\\finaldecs_Conv_zscan__008--_set1.npz\n"
     ]
    },
    {
     "name": "stderr",
     "output_type": "stream",
     "text": [
      "  3%|██▍                                                                                | 2/69 [00:01<00:39,  1.70it/s]"
     ]
    },
    {
     "name": "stdout",
     "output_type": "stream",
     "text": [
      "No cells in: \\\\192.168.0.127\\Raw_data\\Roy\\HumanSVZMER_6_26_2023\\Combined\\finaldecs_Conv_zscan__009--_set1.npz\n"
     ]
    },
    {
     "name": "stderr",
     "output_type": "stream",
     "text": [
      "  4%|███▌                                                                               | 3/69 [00:01<00:37,  1.77it/s]"
     ]
    },
    {
     "name": "stdout",
     "output_type": "stream",
     "text": [
      "No cells in: \\\\192.168.0.127\\Raw_data\\Roy\\HumanSVZMER_6_26_2023\\Combined\\finaldecs_Conv_zscan__012--_set1.npz\n"
     ]
    },
    {
     "name": "stderr",
     "output_type": "stream",
     "text": [
      "  9%|███████▏                                                                           | 6/69 [00:02<00:17,  3.56it/s]"
     ]
    },
    {
     "name": "stdout",
     "output_type": "stream",
     "text": [
      "No cells in: \\\\192.168.0.127\\Raw_data\\Roy\\HumanSVZMER_6_26_2023\\Combined\\finaldecs_Conv_zscan__013--_set1.npz\n",
      "No cells in: \\\\192.168.0.127\\Raw_data\\Roy\\HumanSVZMER_6_26_2023\\Combined\\finaldecs_Conv_zscan__014--_set1.npz\n",
      "No cells in: \\\\192.168.0.127\\Raw_data\\Roy\\HumanSVZMER_6_26_2023\\Combined\\finaldecs_Conv_zscan__016--_set1.npz\n"
     ]
    },
    {
     "name": "stderr",
     "output_type": "stream",
     "text": [
      " 10%|████████▍                                                                          | 7/69 [00:02<00:23,  2.62it/s]"
     ]
    },
    {
     "name": "stdout",
     "output_type": "stream",
     "text": [
      "No cells in: \\\\192.168.0.127\\Raw_data\\Roy\\HumanSVZMER_6_26_2023\\Combined\\finaldecs_Conv_zscan__037--_set1.npz\n"
     ]
    },
    {
     "name": "stderr",
     "output_type": "stream",
     "text": [
      " 12%|█████████▌                                                                         | 8/69 [00:03<00:21,  2.89it/s]"
     ]
    },
    {
     "name": "stdout",
     "output_type": "stream",
     "text": [
      "No cells in: \\\\192.168.0.127\\Raw_data\\Roy\\HumanSVZMER_6_26_2023\\Combined\\finaldecs_Conv_zscan__038--_set1.npz\n"
     ]
    },
    {
     "name": "stderr",
     "output_type": "stream",
     "text": [
      " 13%|██████████▊                                                                        | 9/69 [00:03<00:18,  3.23it/s]"
     ]
    },
    {
     "name": "stdout",
     "output_type": "stream",
     "text": [
      "No cells in: \\\\192.168.0.127\\Raw_data\\Roy\\HumanSVZMER_6_26_2023\\Combined\\finaldecs_Conv_zscan__039--_set1.npz\n",
      "No cells in: \\\\192.168.0.127\\Raw_data\\Roy\\HumanSVZMER_6_26_2023\\Combined\\finaldecs_Conv_zscan__040--_set1.npz\n"
     ]
    },
    {
     "name": "stderr",
     "output_type": "stream",
     "text": [
      " 16%|█████████████                                                                     | 11/69 [00:03<00:15,  3.83it/s]"
     ]
    },
    {
     "name": "stdout",
     "output_type": "stream",
     "text": [
      "No cells in: \\\\192.168.0.127\\Raw_data\\Roy\\HumanSVZMER_6_26_2023\\Combined\\finaldecs_Conv_zscan__041--_set1.npz\n"
     ]
    },
    {
     "name": "stderr",
     "output_type": "stream",
     "text": [
      " 17%|██████████████▎                                                                   | 12/69 [00:04<00:16,  3.37it/s]"
     ]
    },
    {
     "name": "stdout",
     "output_type": "stream",
     "text": [
      "No cells in: \\\\192.168.0.127\\Raw_data\\Roy\\HumanSVZMER_6_26_2023\\Combined\\finaldecs_Conv_zscan__042--_set1.npz\n"
     ]
    },
    {
     "name": "stderr",
     "output_type": "stream",
     "text": [
      " 19%|███████████████▍                                                                  | 13/69 [00:04<00:16,  3.30it/s]"
     ]
    },
    {
     "name": "stdout",
     "output_type": "stream",
     "text": [
      "No cells in: \\\\192.168.0.127\\Raw_data\\Roy\\HumanSVZMER_6_26_2023\\Combined\\finaldecs_Conv_zscan__045--_set1.npz\n"
     ]
    },
    {
     "name": "stderr",
     "output_type": "stream",
     "text": [
      " 20%|████████████████▋                                                                 | 14/69 [00:04<00:16,  3.31it/s]"
     ]
    },
    {
     "name": "stdout",
     "output_type": "stream",
     "text": [
      "No cells in: \\\\192.168.0.127\\Raw_data\\Roy\\HumanSVZMER_6_26_2023\\Combined\\finaldecs_Conv_zscan__046--_set1.npz\n"
     ]
    },
    {
     "name": "stderr",
     "output_type": "stream",
     "text": [
      " 22%|█████████████████▊                                                                | 15/69 [00:05<00:18,  2.91it/s]"
     ]
    },
    {
     "name": "stdout",
     "output_type": "stream",
     "text": [
      "No cells in: \\\\192.168.0.127\\Raw_data\\Roy\\HumanSVZMER_6_26_2023\\Combined\\finaldecs_Conv_zscan__047--_set1.npz\n"
     ]
    },
    {
     "name": "stderr",
     "output_type": "stream",
     "text": [
      " 23%|███████████████████                                                               | 16/69 [00:05<00:20,  2.55it/s]"
     ]
    },
    {
     "name": "stdout",
     "output_type": "stream",
     "text": [
      "No cells in: \\\\192.168.0.127\\Raw_data\\Roy\\HumanSVZMER_6_26_2023\\Combined\\finaldecs_Conv_zscan__048--_set1.npz\n"
     ]
    },
    {
     "name": "stderr",
     "output_type": "stream",
     "text": [
      " 25%|████████████████████▏                                                             | 17/69 [00:06<00:26,  1.97it/s]"
     ]
    },
    {
     "name": "stdout",
     "output_type": "stream",
     "text": [
      "No cells in: \\\\192.168.0.127\\Raw_data\\Roy\\HumanSVZMER_6_26_2023\\Combined\\finaldecs_Conv_zscan__052--_set1.npz\n"
     ]
    },
    {
     "name": "stderr",
     "output_type": "stream",
     "text": [
      " 26%|█████████████████████▍                                                            | 18/69 [00:07<00:27,  1.83it/s]"
     ]
    },
    {
     "name": "stdout",
     "output_type": "stream",
     "text": [
      "No cells in: \\\\192.168.0.127\\Raw_data\\Roy\\HumanSVZMER_6_26_2023\\Combined\\finaldecs_Conv_zscan__056--_set1.npz\n"
     ]
    },
    {
     "name": "stderr",
     "output_type": "stream",
     "text": [
      " 28%|██████████████████████▌                                                           | 19/69 [00:07<00:23,  2.10it/s]"
     ]
    },
    {
     "name": "stdout",
     "output_type": "stream",
     "text": [
      "No cells in: \\\\192.168.0.127\\Raw_data\\Roy\\HumanSVZMER_6_26_2023\\Combined\\finaldecs_Conv_zscan__057--_set1.npz\n"
     ]
    },
    {
     "name": "stderr",
     "output_type": "stream",
     "text": [
      " 29%|███████████████████████▊                                                          | 20/69 [00:09<00:40,  1.22it/s]"
     ]
    },
    {
     "name": "stdout",
     "output_type": "stream",
     "text": [
      "No cells in: \\\\192.168.0.127\\Raw_data\\Roy\\HumanSVZMER_6_26_2023\\Combined\\finaldecs_Conv_zscan__176--_set1.npz\n"
     ]
    },
    {
     "name": "stderr",
     "output_type": "stream",
     "text": [
      " 30%|████████████████████████▉                                                         | 21/69 [00:10<00:44,  1.07it/s]"
     ]
    },
    {
     "name": "stdout",
     "output_type": "stream",
     "text": [
      "No cells in: \\\\192.168.0.127\\Raw_data\\Roy\\HumanSVZMER_6_26_2023\\Combined\\finaldecs_Conv_zscan__180--_set1.npz\n"
     ]
    },
    {
     "name": "stderr",
     "output_type": "stream",
     "text": [
      " 32%|██████████████████████████▏                                                       | 22/69 [00:11<00:44,  1.06it/s]"
     ]
    },
    {
     "name": "stdout",
     "output_type": "stream",
     "text": [
      "No cells in: \\\\192.168.0.127\\Raw_data\\Roy\\HumanSVZMER_6_26_2023\\Combined\\finaldecs_Conv_zscan__181--_set1.npz\n"
     ]
    },
    {
     "name": "stderr",
     "output_type": "stream",
     "text": [
      " 32%|██████████████████████████▏                                                       | 22/69 [00:11<00:25,  1.87it/s]\n"
     ]
    },
    {
     "ename": "KeyboardInterrupt",
     "evalue": "",
     "output_type": "error",
     "traceback": [
      "\u001b[1;31m---------------------------------------------------------------------------\u001b[0m",
      "\u001b[1;31mKeyboardInterrupt\u001b[0m                         Traceback (most recent call last)",
      "Cell \u001b[1;32mIn[129], line 6\u001b[0m\n\u001b[0;32m      3\u001b[0m \u001b[38;5;28;01mfor\u001b[39;00m save_fl \u001b[38;5;129;01min\u001b[39;00m tqdm(np\u001b[38;5;241m.\u001b[39msort(save_fls_)[:]):\n\u001b[0;32m      4\u001b[0m     \u001b[38;5;66;03m### load info\u001b[39;00m\n\u001b[0;32m      5\u001b[0m     dic \u001b[38;5;241m=\u001b[39m np\u001b[38;5;241m.\u001b[39mload(save_fl)\n\u001b[1;32m----> 6\u001b[0m     XF \u001b[38;5;241m=\u001b[39m \u001b[43mdic\u001b[49m\u001b[43m[\u001b[49m\u001b[38;5;124;43m'\u001b[39;49m\u001b[38;5;124;43mXF\u001b[39;49m\u001b[38;5;124;43m'\u001b[39;49m\u001b[43m]\u001b[49m\n\u001b[0;32m      7\u001b[0m     header \u001b[38;5;241m=\u001b[39m \u001b[38;5;28mlist\u001b[39m(dic[\u001b[38;5;124m'\u001b[39m\u001b[38;5;124mheader\u001b[39m\u001b[38;5;124m'\u001b[39m])\n\u001b[0;32m      8\u001b[0m     genes_decoded \u001b[38;5;241m=\u001b[39m dic[\u001b[38;5;124m'\u001b[39m\u001b[38;5;124mgenes\u001b[39m\u001b[38;5;124m'\u001b[39m]\n",
      "File \u001b[1;32m~\\anaconda3\\envs\\napari\\lib\\site-packages\\numpy\\lib\\npyio.py:253\u001b[0m, in \u001b[0;36mNpzFile.__getitem__\u001b[1;34m(self, key)\u001b[0m\n\u001b[0;32m    251\u001b[0m \u001b[38;5;28;01mif\u001b[39;00m magic \u001b[38;5;241m==\u001b[39m \u001b[38;5;28mformat\u001b[39m\u001b[38;5;241m.\u001b[39mMAGIC_PREFIX:\n\u001b[0;32m    252\u001b[0m     \u001b[38;5;28mbytes\u001b[39m \u001b[38;5;241m=\u001b[39m \u001b[38;5;28mself\u001b[39m\u001b[38;5;241m.\u001b[39mzip\u001b[38;5;241m.\u001b[39mopen(key)\n\u001b[1;32m--> 253\u001b[0m     \u001b[38;5;28;01mreturn\u001b[39;00m \u001b[38;5;28;43mformat\u001b[39;49m\u001b[38;5;241;43m.\u001b[39;49m\u001b[43mread_array\u001b[49m\u001b[43m(\u001b[49m\u001b[38;5;28;43mbytes\u001b[39;49m\u001b[43m,\u001b[49m\n\u001b[0;32m    254\u001b[0m \u001b[43m                             \u001b[49m\u001b[43mallow_pickle\u001b[49m\u001b[38;5;241;43m=\u001b[39;49m\u001b[38;5;28;43mself\u001b[39;49m\u001b[38;5;241;43m.\u001b[39;49m\u001b[43mallow_pickle\u001b[49m\u001b[43m,\u001b[49m\n\u001b[0;32m    255\u001b[0m \u001b[43m                             \u001b[49m\u001b[43mpickle_kwargs\u001b[49m\u001b[38;5;241;43m=\u001b[39;49m\u001b[38;5;28;43mself\u001b[39;49m\u001b[38;5;241;43m.\u001b[39;49m\u001b[43mpickle_kwargs\u001b[49m\u001b[43m,\u001b[49m\n\u001b[0;32m    256\u001b[0m \u001b[43m                             \u001b[49m\u001b[43mmax_header_size\u001b[49m\u001b[38;5;241;43m=\u001b[39;49m\u001b[38;5;28;43mself\u001b[39;49m\u001b[38;5;241;43m.\u001b[39;49m\u001b[43mmax_header_size\u001b[49m\u001b[43m)\u001b[49m\n\u001b[0;32m    257\u001b[0m \u001b[38;5;28;01melse\u001b[39;00m:\n\u001b[0;32m    258\u001b[0m     \u001b[38;5;28;01mreturn\u001b[39;00m \u001b[38;5;28mself\u001b[39m\u001b[38;5;241m.\u001b[39mzip\u001b[38;5;241m.\u001b[39mread(key)\n",
      "File \u001b[1;32m~\\anaconda3\\envs\\napari\\lib\\site-packages\\numpy\\lib\\format.py:823\u001b[0m, in \u001b[0;36mread_array\u001b[1;34m(fp, allow_pickle, pickle_kwargs, max_header_size)\u001b[0m\n\u001b[0;32m    821\u001b[0m             read_count \u001b[38;5;241m=\u001b[39m \u001b[38;5;28mmin\u001b[39m(max_read_count, count \u001b[38;5;241m-\u001b[39m i)\n\u001b[0;32m    822\u001b[0m             read_size \u001b[38;5;241m=\u001b[39m \u001b[38;5;28mint\u001b[39m(read_count \u001b[38;5;241m*\u001b[39m dtype\u001b[38;5;241m.\u001b[39mitemsize)\n\u001b[1;32m--> 823\u001b[0m             data \u001b[38;5;241m=\u001b[39m \u001b[43m_read_bytes\u001b[49m\u001b[43m(\u001b[49m\u001b[43mfp\u001b[49m\u001b[43m,\u001b[49m\u001b[43m \u001b[49m\u001b[43mread_size\u001b[49m\u001b[43m,\u001b[49m\u001b[43m \u001b[49m\u001b[38;5;124;43m\"\u001b[39;49m\u001b[38;5;124;43marray data\u001b[39;49m\u001b[38;5;124;43m\"\u001b[39;49m\u001b[43m)\u001b[49m\n\u001b[0;32m    824\u001b[0m             array[i:i\u001b[38;5;241m+\u001b[39mread_count] \u001b[38;5;241m=\u001b[39m numpy\u001b[38;5;241m.\u001b[39mfrombuffer(data, dtype\u001b[38;5;241m=\u001b[39mdtype,\n\u001b[0;32m    825\u001b[0m                                                      count\u001b[38;5;241m=\u001b[39mread_count)\n\u001b[0;32m    827\u001b[0m \u001b[38;5;28;01mif\u001b[39;00m fortran_order:\n",
      "File \u001b[1;32m~\\anaconda3\\envs\\napari\\lib\\site-packages\\numpy\\lib\\format.py:958\u001b[0m, in \u001b[0;36m_read_bytes\u001b[1;34m(fp, size, error_template)\u001b[0m\n\u001b[0;32m    953\u001b[0m \u001b[38;5;28;01mwhile\u001b[39;00m \u001b[38;5;28;01mTrue\u001b[39;00m:\n\u001b[0;32m    954\u001b[0m     \u001b[38;5;66;03m# io files (default in python3) return None or raise on\u001b[39;00m\n\u001b[0;32m    955\u001b[0m     \u001b[38;5;66;03m# would-block, python2 file will truncate, probably nothing can be\u001b[39;00m\n\u001b[0;32m    956\u001b[0m     \u001b[38;5;66;03m# done about that.  note that regular files can't be non-blocking\u001b[39;00m\n\u001b[0;32m    957\u001b[0m     \u001b[38;5;28;01mtry\u001b[39;00m:\n\u001b[1;32m--> 958\u001b[0m         r \u001b[38;5;241m=\u001b[39m \u001b[43mfp\u001b[49m\u001b[38;5;241;43m.\u001b[39;49m\u001b[43mread\u001b[49m\u001b[43m(\u001b[49m\u001b[43msize\u001b[49m\u001b[43m \u001b[49m\u001b[38;5;241;43m-\u001b[39;49m\u001b[43m \u001b[49m\u001b[38;5;28;43mlen\u001b[39;49m\u001b[43m(\u001b[49m\u001b[43mdata\u001b[49m\u001b[43m)\u001b[49m\u001b[43m)\u001b[49m\n\u001b[0;32m    959\u001b[0m         data \u001b[38;5;241m+\u001b[39m\u001b[38;5;241m=\u001b[39m r\n\u001b[0;32m    960\u001b[0m         \u001b[38;5;28;01mif\u001b[39;00m \u001b[38;5;28mlen\u001b[39m(r) \u001b[38;5;241m==\u001b[39m \u001b[38;5;241m0\u001b[39m \u001b[38;5;129;01mor\u001b[39;00m \u001b[38;5;28mlen\u001b[39m(data) \u001b[38;5;241m==\u001b[39m size:\n",
      "File \u001b[1;32m~\\anaconda3\\envs\\napari\\lib\\zipfile.py:924\u001b[0m, in \u001b[0;36mZipExtFile.read\u001b[1;34m(self, n)\u001b[0m\n\u001b[0;32m    922\u001b[0m \u001b[38;5;28mself\u001b[39m\u001b[38;5;241m.\u001b[39m_offset \u001b[38;5;241m=\u001b[39m \u001b[38;5;241m0\u001b[39m\n\u001b[0;32m    923\u001b[0m \u001b[38;5;28;01mwhile\u001b[39;00m n \u001b[38;5;241m>\u001b[39m \u001b[38;5;241m0\u001b[39m \u001b[38;5;129;01mand\u001b[39;00m \u001b[38;5;129;01mnot\u001b[39;00m \u001b[38;5;28mself\u001b[39m\u001b[38;5;241m.\u001b[39m_eof:\n\u001b[1;32m--> 924\u001b[0m     data \u001b[38;5;241m=\u001b[39m \u001b[38;5;28;43mself\u001b[39;49m\u001b[38;5;241;43m.\u001b[39;49m\u001b[43m_read1\u001b[49m\u001b[43m(\u001b[49m\u001b[43mn\u001b[49m\u001b[43m)\u001b[49m\n\u001b[0;32m    925\u001b[0m     \u001b[38;5;28;01mif\u001b[39;00m n \u001b[38;5;241m<\u001b[39m \u001b[38;5;28mlen\u001b[39m(data):\n\u001b[0;32m    926\u001b[0m         \u001b[38;5;28mself\u001b[39m\u001b[38;5;241m.\u001b[39m_readbuffer \u001b[38;5;241m=\u001b[39m data\n",
      "File \u001b[1;32m~\\anaconda3\\envs\\napari\\lib\\zipfile.py:1000\u001b[0m, in \u001b[0;36mZipExtFile._read1\u001b[1;34m(self, n)\u001b[0m\n\u001b[0;32m    998\u001b[0m \u001b[38;5;28;01melif\u001b[39;00m \u001b[38;5;28mself\u001b[39m\u001b[38;5;241m.\u001b[39m_compress_type \u001b[38;5;241m==\u001b[39m ZIP_DEFLATED:\n\u001b[0;32m    999\u001b[0m     n \u001b[38;5;241m=\u001b[39m \u001b[38;5;28mmax\u001b[39m(n, \u001b[38;5;28mself\u001b[39m\u001b[38;5;241m.\u001b[39mMIN_READ_SIZE)\n\u001b[1;32m-> 1000\u001b[0m     data \u001b[38;5;241m=\u001b[39m \u001b[38;5;28;43mself\u001b[39;49m\u001b[38;5;241;43m.\u001b[39;49m\u001b[43m_decompressor\u001b[49m\u001b[38;5;241;43m.\u001b[39;49m\u001b[43mdecompress\u001b[49m\u001b[43m(\u001b[49m\u001b[43mdata\u001b[49m\u001b[43m,\u001b[49m\u001b[43m \u001b[49m\u001b[43mn\u001b[49m\u001b[43m)\u001b[49m\n\u001b[0;32m   1001\u001b[0m     \u001b[38;5;28mself\u001b[39m\u001b[38;5;241m.\u001b[39m_eof \u001b[38;5;241m=\u001b[39m (\u001b[38;5;28mself\u001b[39m\u001b[38;5;241m.\u001b[39m_decompressor\u001b[38;5;241m.\u001b[39meof \u001b[38;5;129;01mor\u001b[39;00m\n\u001b[0;32m   1002\u001b[0m                  \u001b[38;5;28mself\u001b[39m\u001b[38;5;241m.\u001b[39m_compress_left \u001b[38;5;241m<\u001b[39m\u001b[38;5;241m=\u001b[39m \u001b[38;5;241m0\u001b[39m \u001b[38;5;129;01mand\u001b[39;00m\n\u001b[0;32m   1003\u001b[0m                  \u001b[38;5;129;01mnot\u001b[39;00m \u001b[38;5;28mself\u001b[39m\u001b[38;5;241m.\u001b[39m_decompressor\u001b[38;5;241m.\u001b[39munconsumed_tail)\n\u001b[0;32m   1004\u001b[0m     \u001b[38;5;28;01mif\u001b[39;00m \u001b[38;5;28mself\u001b[39m\u001b[38;5;241m.\u001b[39m_eof:\n",
      "\u001b[1;31mKeyboardInterrupt\u001b[0m: "
     ]
    }
   ],
   "source": [
    "save_fls_ = [fl for fl in save_fls if ('_set1' in fl)]# in fl if '035' in fl][0]\n",
    "cell_df,df=None,None\n",
    "for save_fl in tqdm(np.sort(save_fls_)[:]):\n",
    "    ### load info\n",
    "    dic = np.load(save_fl)\n",
    "    XF = dic['XF']\n",
    "    header = list(dic['header'])\n",
    "    genes_decoded = dic['genes']\n",
    "    cells = dic['cellinfo'][1:]\n",
    "    header_cells = dic['header_cells']\n",
    "    ### Rethrehold based on score\n",
    "    iscore = list(header).index('score')\n",
    "    scoreA = XF[:,iscore]\n",
    "    keep = scoreA>-1.5\n",
    "    ugns,gns_i = np.unique(genes_decoded[keep],return_inverse=True)\n",
    "\n",
    "    icell = header.index('cell_id')\n",
    "    icells = XF[keep,icell].astype(int)\n",
    "    \n",
    "    icellsf = cells[:,0].astype(int)\n",
    "    if len(icellsf):\n",
    "        mcell = np.max(icellsf)+1\n",
    "        gn_cell,gn_cell_cts = np.unique(mcell*gns_i+icells,return_counts=True)\n",
    "        len(gn_cell)\n",
    "        igns_ = gn_cell//mcell\n",
    "        icells_ = gn_cell%mcell\n",
    "        Mcts = np.zeros([mcell,len(ugns)])\n",
    "        Mcts[icells_,igns_]=gn_cell_cts\n",
    "    \n",
    "        Mcts[icellsf].shape\n",
    "        ifov,iset = int(XF[0,header.index('ifov')]),int(XF[0,header.index('iset')])\n",
    "        icellsnm = [icell+10**5*ifov for icell in icellsf]#icellsnm = [icell+10**5*ifov+10**9*iset for icell in icellsf]\n",
    "    \n",
    "        dfT = pd.DataFrame(Mcts[icellsf],columns=ugns,index=icellsnm)\n",
    "    \n",
    "    \n",
    "        df = dfT if df is None else pd.concat([df,dfT])\n",
    "        cell_dfT = pd.DataFrame(cells,columns=header_cells,index=icellsnm)\n",
    "        cell_df = cell_dfT if cell_df is None else pd.concat([cell_df,cell_dfT])\n",
    "    else:\n",
    "        print(\"No cells in:\",save_fl)"
   ]
  },
  {
   "cell_type": "code",
   "execution_count": 119,
   "id": "62627c30-8fe4-46d2-8cc2-63f101b655b2",
   "metadata": {},
   "outputs": [
    {
     "name": "stdout",
     "output_type": "stream",
     "text": [
      " Volume in drive C is Data\n",
      " Volume Serial Number is 2400-B378\n",
      "\n",
      " Directory of C:\\Scripts\\NMERFISH\\Human\n",
      "\n",
      "07/27/2023  04:27 PM    <DIR>          .\n",
      "07/27/2023  04:27 PM    <DIR>          ..\n",
      "07/27/2023  09:11 AM    <DIR>          .ipynb_checkpoints\n",
      "07/07/2023  12:27 PM         2,201,960 2_ComputeCellSegmentation_HumanSVZMER_6_26_2023.ipynb\n",
      "07/07/2023  12:32 PM         3,646,093 2_Compute_cell_segmentationHttHumanSonia.ipynb\n",
      "07/22/2023  01:45 PM           170,034 3_PullFovsCellsTogether_HttHuman_Snonia__06_12_2023.ipynb\n",
      "07/06/2023  12:12 PM           166,412 3_PullFovsCellsTogether_RoyHumanSVZ.ipynb\n",
      "06/30/2023  06:28 AM           212,461 CGBB_ChrX_01_31_2023_PostAnalysis-AD-low_th.ipynb\n",
      "06/30/2023  06:28 AM        17,159,800 CGBB_ChrX_01_31_2023_PostAnalysis_Additional-AD.ipynb\n",
      "07/27/2023  09:57 AM            89,232 CheckEachFovSVZ.ipynb\n",
      "07/22/2023  01:51 PM             9,788 HumanSVZMER_6_26_2023_P1G1.py\n",
      "07/27/2023  08:45 AM             9,786 HumanSVZMER_6_26_2023_P1G2.py\n",
      "07/26/2023  08:04 AM             9,789 HumanSVZMER_6_26_2023_P2G1_v2.py\n",
      "07/25/2023  07:35 PM             9,790 HumanSVZMER_6_26_2023_P2G2_v2.py\n",
      "07/22/2023  06:52 PM             9,780 HumanSVZMER_6_26_2023_P3G1.py\n",
      "07/26/2023  07:31 PM             9,863 HumanSVZMER_6_26_2023_P3G2.py\n",
      "06/30/2023  11:38 AM           103,904 HumanSvzMosaics.ipynb\n",
      "07/05/2023  01:43 PM            19,789 Mosaic_gene.ipynb\n",
      "07/27/2023  04:27 PM            86,080 PullTogetherCombineSVZ.ipynb\n",
      "07/26/2023  08:03 PM           106,603 Untitled-Copy1.ipynb\n",
      "07/05/2023  01:37 PM           106,603 Untitled.ipynb\n",
      "07/05/2023  12:17 PM             8,692 workerScope3A_HttHuman_Snonia__06_12_2023-P2G2.py\n",
      "07/05/2023  12:17 PM             8,687 workerScope3A_HttHuman_Snonia__06_12_2023.py\n",
      "07/22/2023  01:45 PM             9,604 workerScope3A_HttHuman_Snonia__06_12_2023_P1G1_V2.py\n",
      "07/22/2023  01:45 PM             9,598 workerScope3A_HttHuman_Snonia__06_12_2023_P1G2_V2.py\n",
      "07/22/2023  01:45 PM             9,520 workerScope3A_HttHuman_Snonia__06_12_2023_P2G1_V2.py\n",
      "07/22/2023  01:45 PM             9,598 workerScope3A_HttHuman_Snonia__06_12_2023_P3G2_V2.py\n",
      "07/26/2023  07:55 PM    <DIR>          __pycache__\n",
      "              24 File(s)     24,183,466 bytes\n",
      "               4 Dir(s)  3,774,040,543,232 bytes free\n"
     ]
    }
   ],
   "source": [
    "!dir"
   ]
  },
  {
   "cell_type": "code",
   "execution_count": 116,
   "id": "46920295-cc44-4131-86a5-3eff28e13b43",
   "metadata": {},
   "outputs": [],
   "source": [
    "np.savez_compressed(save_fl,XF=XF_.astype(np.float32),\n",
    "                            genes = genesf_,cellinfo=cellinfo.astype(np.float32),header_cells=header_cells,header=header)"
   ]
  },
  {
   "cell_type": "code",
   "execution_count": 112,
   "id": "31b42ae4-7a74-4693-90af-84dc0678844c",
   "metadata": {},
   "outputs": [],
   "source": [
    "gns,cts = np.unique(genesf_,return_counts=True)\n",
    "#list(gns)"
   ]
  },
  {
   "cell_type": "code",
   "execution_count": 115,
   "id": "83ab86bf-3caa-4750-a4a3-1d5607ee0de4",
   "metadata": {},
   "outputs": [
    {
     "data": {
      "text/plain": [
       "[<matplotlib.lines.Line2D at 0x25d1e677670>]"
      ]
     },
     "execution_count": 115,
     "metadata": {},
     "output_type": "execute_result"
    },
    {
     "data": {
      "image/png": "[encoded data removed]",
      "text/plain": [
       "<Figure size 640x480 with 1 Axes>"
      ]
     },
     "metadata": {},
     "output_type": "display_data"
    }
   ],
   "source": [
    "plt.plot(cts)"
   ]
  },
  {
   "cell_type": "code",
   "execution_count": 104,
   "id": "2c9c65a1-c164-44b9-b481-0faab7dd112c",
   "metadata": {},
   "outputs": [
    {
     "data": {
      "text/plain": [
       "[[188, 0, 0, 0, 0, 0],\n",
       " [0, 187, 0, 0, 0, 0],\n",
       " [0, 0, 187, 0, 0, 0],\n",
       " [0, 0, 0, 188, 0, 0],\n",
       " [0, 0, 0, 0, 189, 0],\n",
       " [0, 0, 0, 0, 0, 189]]"
      ]
     },
     "execution_count": 104,
     "metadata": {},
     "output_type": "execute_result"
    }
   ],
   "source": [
    "fls = glob.glob(r'C:\\Scripts\\NMERFISH\\codebooks\\codebook_Sonia2colorP*_group*_blank.csv')\n",
    "\n",
    "gns = [[gn for gn in list(pd.read_csv(fl)['name']) if 'blank' not in gn] for fl in fls]\n",
    "[[len(np.intersect1d(gn1,gn2))for gn1 in gns] for gn2 in gns]"
   ]
  },
  {
   "cell_type": "code",
   "execution_count": 106,
   "id": "2246dfcd-1358-4115-81d1-0b941d6aead3",
   "metadata": {},
   "outputs": [
    {
     "name": "stdout",
     "output_type": "stream",
     "text": [
      "['AAAS', 'AARD', 'ABCB1', 'ABI3BP', 'ACAT2', 'ACTA1', 'ACTA2', 'ACTB', 'ACTC', 'ACTG1', 'ACTL6B', 'ACTN1', 'ADAMTS17', 'ADAMTS2', 'ADAMTS9-AS2', 'ADAMTSL1', 'ADAMTSL3', 'ADARB2', 'ADGRG1', 'ADGRV1', 'AEBP1', 'AGFG1', 'AGPAT3', 'AGPAT5', 'AHCTF1', 'AHI1', 'AHNAK2', 'AIM2', 'AKAP6', 'AKIRIN1', 'AKT3', 'ALDH1A1', 'ALDH1L1', 'ALOX5', 'ALOX5AP', 'AMBP', 'ANK2', 'ANK3', 'ANKRD17', 'ANLN', 'ANXA11', 'ANXA2', 'ANXA4', 'AP2B1', 'APAF1', 'APBB1IP', 'APLP2', 'APOC1', 'APOD', 'APOE', 'APOO', 'APP', 'AQP1', 'AQP4', 'ARHGEF11', 'ARL17B', 'ARPP21', 'ASGR2', 'ASIC2', 'ASIC4', 'ATOH8', 'ATP11B', 'ATP13A4', 'ATP1A2', 'ATP1B1', 'ATP1B3', 'ATP2A3', 'ATP5E', 'ATP5G2', 'ATP6AP2', 'ATP6V1F', 'ATP7B', 'ATP8A2', 'ATP8B4', 'ATPIF1', 'B2M', 'BAD', 'BANF1', 'BARX1', 'BAX', 'BCAS1', 'BCHE', 'BCL-X', 'BCL2', 'BEAN1', 'BEX1', 'BEX2', 'BICD2', 'BMP2', 'BRAP', 'BRCA1', 'BRCA2', 'BRIP1', 'BSPRY', 'C1ORF132', 'C1ORF172', 'C1QB', 'C1QC', 'C1QL3', 'C2CD5', 'C4ORF26', 'C8orf34', 'C9ORF142', 'C9ORF72', 'CA1', 'CA10', 'CA2', 'CABLES1', 'CACNA1A', 'CACNA1D', 'CACNA1E', 'CACNA1H', 'CADM2', 'CADPS', 'CALM1', 'CALM2', 'CAMK2B', 'CAPN1', 'CAPN2', 'CAPNS1', 'CASP1', 'CASP10', 'CASP14', 'CASP3', 'CASP4', 'CASP5', 'CASP6', 'CASP7', 'CASP8', 'CASP9', 'CAST', 'CATALASE', 'CAV1', 'CBLN1', 'CBLN2', 'CBX3', 'CBX5', 'CBX8', 'CCDC13', 'CCDC68', 'CCDC8', 'CCDC85A', 'CCK', 'CCNJL', 'CD27-AS1', 'CD44', 'CD63', 'CD74', 'CD81', 'CD83', 'CDC42', 'CDH10', 'CDH12', 'CDH13', 'CDH3', 'CDH5', 'CDH8', 'CDH9', 'CDK20', 'CEBPD', 'CEMIP', 'CENPF', 'CENPV', 'CEP290', 'CEPT1', 'CERS2', 'CES4A', 'CETN2', 'CETN3', 'CFTR', 'CGAS', 'CHAT', 'CHCHD10', 'CHMP1A', 'CHMP1B', 'CHMP2A', 'CHMP2B', 'CHMP3', 'CHMP4A', 'CHMP4B', 'CHMP4C', 'CHMP5', 'CHMP6', 'CHMP7', 'CHN1', 'CHN2', 'CHRFAM7A', 'CHRM3', 'CHRM5', 'CHRNA2', 'CHST11', 'CHST9', 'CIAP-1', 'CIAP-2', 'CIITA', 'CIP1', 'CIRBP', 'CKB', 'CLASP1', 'CLASP2', 'CLASPIN', 'CLDND1', 'CLEC5A', 'CLIC6', 'CLK1', 'CLMN', 'CLU', 'CLYBL', 'CMTM3', 'CNEP1R1', 'CNOT6', 'CNR1', 'CNTN5', 'CNTNAP4', 'COBLL1', 'COL11A1', 'COL15A1', 'COL20A1', 'COL21A1', 'COL25A1', 'COL4A3', 'COL5A2', 'COLEC12', 'COX4I1', 'COX5B', 'COX6B1', 'COX7A2L', 'COX7C', 'CP', 'CPLX3', 'CPTP', 'CRABP1', 'CREB5', 'CRHR2', 'CRYAB', 'CSE1L', 'CSF1R', 'CSN1S1', 'CSNK1E', 'CST3', 'CTGF', 'CTTNBP2NL', 'CUX2', 'CX3CR1', 'CXCL14', 'CXORF28', 'CYBA', 'CYFIP2', 'CYP2C8', 'CYP4B1', 'DAAM2', 'DACH1', 'DCC', 'DCLRE1C', 'DCX', 'DDB2', 'DHFR', 'DIO3', 'DISP3', 'DLC1', 'DLGAP1', 'DLGAP4', 'DLX1', 'DLX2', 'DNAJC14', 'DOCK8', 'DPF2', 'DPP10', 'DPYD', 'DSCAM', 'DSG3', 'DST', 'DUSP1', 'DUSP14', 'DYNC1H1', 'DYNLL1', 'EBP', 'EDIL3', 'EGFR', 'EID1', 'EIF1', 'EIF4A2', 'EIF4G3', 'ELAVL1', 'ELAVL2', 'ELAVL3', 'ELAVL4', 'EMD', 'ENPEP', 'ENPP1', 'ENPP6', 'ENY2', 'EPB41', 'EPB41L1', 'EPB41L3', 'EPHA6', 'EPSTI1', 'ERBB2IP', 'ERBB4', 'ERC2', 'ERCC1', 'ERCC2', 'ERCC3', 'ERCC4', 'ERCC5', 'ERCC8', 'ERGIC', 'EXO1', 'EXPH5', 'EYA4', 'EYS', 'FADD', 'FAM150B', 'FAM169A', 'FAM181A', 'FAM193A', 'FAM20A', 'FAN1', 'FAT2', 'FBN2', 'FBXL7', 'FBXO2', 'FCGBP', 'FCHSD2', 'FEZF2', 'FFAR4', 'FGF10', 'FGF2', 'FGFR2', 'FGFR3', 'FILIP1L', 'FKBP15', 'FLRT1', 'FLRT2', 'FLT1', 'FNDC1', 'FOXP2', 'FREM2', 'FRY', 'FRZB', 'FSTL5', 'FTH1', 'FTL', 'FUS', 'FXR1', 'FZD7', 'GABBR1', 'GABPA', 'GAD1', 'GADD45B', 'GALNT18', 'GALNTL6', 'GAP43', 'GFAP', 'GJA1', 'GLE1', 'GLI2', 'GLIS3', 'GLRA3', 'GPC5', 'GPC6', 'GPNMB', 'GPRC5B', 'GPX4', 'GRANZYMEA', 'GRANZYMEB', 'GRIA1', 'GRIA2', 'GRID2', 'GRIK1', 'GRINA', 'GRM3', 'GRM5', 'GRM7', 'GRM8', 'GSDMD', 'GSDME', 'GSX1', 'GULP1', 'HAND1', 'HAND2', 'HDGFL2', 'HERC1', 'HHIPL1', 'HIF1', 'HIF3A', 'HINT1', 'HLA-DRA', 'HLA-DRB1', 'HMGB1', 'HMGN3', 'HMOX1', 'HMOX2', 'HNRNPA1', 'HNRNPH1', 'HOXA10', 'HOXA11', 'HOXA13', 'HOXA4', 'HOXA5', 'HOXA7', 'HOXB9', 'HOXC10', 'HOXC6', 'HOXD10', 'HOXD8', 'HOXD9', 'HP1BP3', 'HPSE2', 'HS3ST3A1', 'HS3ST4', 'HS6ST3', 'HSP90AA1', 'HSP90AB1', 'HSPA1A', 'HSPA1B', 'HSPA8', 'HSPB1', 'HSPB6', 'HSPH1', 'HTR1F', 'HTR2C', 'HTR3A', 'HTRA2', 'HTT', 'ICA1', 'IFI44L', 'IFI6', 'IFNAR1', 'IFNG-AS1', 'IGBP1', 'IGDCC3', 'IGF1R', 'IGFBP7', 'IGFBPL1', 'IKKA', 'IKKB', 'IL13RA1', 'IL17RB', 'IL1RAPL2', 'IL6', 'IL6R', 'IMMT', 'INA', 'INPP4A', 'INPP4B', 'IPO11', 'IPO5', 'IPO7', 'IPO8', 'IPO9', 'IQCB1', 'IQCJ-SCHIP1', 'IRF3', 'ISG15', 'ISG20', 'IST1', 'ISX', 'ITGB1', 'ITGB1BP1', 'ITGB4', 'ITPR1', 'ITPR3', 'ITPRIP', 'JAK2', 'KALRN', 'KCNA1', 'KCNC2', 'KCNE4', 'KCNG1', 'KCNG3', 'KCNH8', 'KCNIP1', 'KCNIP2', 'KCNIP4', 'KCNMB2', 'KCNQ2', 'KDM1A', 'KIF1A', 'KIF21A', 'KIF3A', 'KIF5A', 'KIF5B', 'KIF5C', 'KIP1', 'KIRREL3', 'KLC1', 'KLF15', 'KLF5', 'KLHDC8B', 'KLHL1', 'KLK7', 'KMT2C', 'KPNA1', 'KPNA3', 'KPNA4', 'KPNB1', 'KRBOX4', 'LAMA2', 'LAMA4', 'LAMP5', 'LBR', 'LDHB', 'LDLRAD3', 'LDLRAP1', 'LEMD2', 'LEMD3', 'LHFPL3', 'LIG1', 'LIG4', 'LINC00343', 'LINC00499', 'LINC00507', 'LINC00609', 'LINC01013', 'LINC01107', 'LINC01116', 'LINC01202', 'LINC01378', 'LINC01497', 'LINC02147', 'LINGO1', 'LINGO2', 'LIVIN', 'LMNA', 'LMNB1', 'LMNB2', 'LMNTD1', 'LMNTD2', 'LNPEP', 'LNX2', 'LONRF3', 'LPGAT1', 'LPIN1', 'LPO', 'LRIG3', 'LRMDA', 'LRP1B', 'LRRC37A', 'LRRC4C', 'LRRC7', 'LUC7L', 'LUZP2', 'MACF1', 'MACO1', 'MADD', 'MAG', 'MAJIN', 'MAML2', 'MAOB', 'MAP2', 'MAP2K4', 'MAP4', 'MAP6D1', 'MAPK10', 'MAPT', 'MARCKS', 'MARCKSL1', 'MARK3', 'MATR3', 'MBP', 'MCF2L2', 'MECOM', 'MED12L', 'MED8', 'MEF2D', 'MEG3', 'MEPE', 'MIAT', 'MID1IP1', 'MLH1', 'MLH3', 'MLIP', 'MLKL', 'MNAT1', 'MNX1', 'MOBP', 'MOG', 'MRC1', 'MSH2', 'MSH3', 'MSH4', 'MSH5', 'MSH6', 'MT1E', 'MT1F', 'MT1G', 'MT1H', 'MT1X', 'MT2A', 'MTMR6', 'MTMR8', 'MUS81', 'MYCBP2', 'MYH9', 'MYO18A', 'MYO1E', 'MZT2B', 'NAMPT', 'NAV1', 'NAV2', 'NCAM1', 'NCAM2', 'NDC1', 'NDEL1', 'NDRG4', 'NDUFA4', 'NEAT1', 'NEFH', 'NEFL', 'NEFM', 'NELL1', 'NEMO', 'NEMP1', 'NEMP2', 'NES', 'NEUROD1', 'NEUROG2', 'NFIX', 'NGFRAP1', 'NHEJ1', 'NKAIN2', 'NLRP1', 'NLRP3', 'NLRP4', 'NMBR', 'NMNAT2', 'NMU', 'NOSTRIN', 'NOVA1', 'NPAP1', 'NPC1', 'NPSR1-AS1', 'NPY', 'NR2F2-AS1', 'NREP-AS1', 'NRF1', 'NRG1', 'NRGN', 'NRM', 'NRXN1', 'NRXN3', 'NTM', 'NTNG1', 'NUMB', 'NUP107', 'NUP133', 'NUP153', 'NUP155', 'NUP160', 'NUP188', 'NUP205', 'NUP210', 'NUP210L', 'NUP214', 'NUP35', 'NUP37', 'NUP42', 'NUP43', 'NUP50', 'NUP54', 'NUP58', 'NUP62', 'NUP62CL', 'NUP85', 'NUP88', 'NUP93', 'NUP98', 'NUTF2', 'NXF1', 'NXPH1', 'NXT1', 'NXT2', 'OLFM3', 'OLIG1', 'OLIG2', 'OPALIN', 'OTOGL', 'OTP', 'P2RY12', 'P4HA3', 'P53', 'PABPC1', 'PACRGL', 'PARD3', 'PAWR', 'PAX2', 'PAX6', 'PBX1', 'PCDH11X', 'PCDH15', 'PCDH9', 'PCSK1N', 'PCSK5', 'PDE1A', 'PDE2A', 'PDE4B', 'PDGFD', 'PDGFRA', 'PDK4', 'PDLIM7', 'PDYN', 'PDZRN4', 'PEA15', 'PEBP1', 'PENK', 'PFKP', 'PHF21A', 'PHLDB3', 'PHYHD1', 'PIK3CD', 'PITX1', 'PKD2L1', 'PKM', 'PKN1', 'PLA2G4A', 'PLA2G4C', 'PLAAT1', 'PLAAT3', 'PLCB1', 'PLCE1', 'PLCG1', 'PLCH1', 'PLCXD3', 'PLD5', 'PLEC', 'PLEKHA1', 'PLEKHA5', 'PLP1', 'PLPP6', 'PLPP7', 'PLPPR1', 'PLXDC2', 'PLXNB1', 'PMS1', 'PMS2', 'PNKP', 'PNN', 'PNO1', 'POGK', 'POLD1', 'POLDIP3', 'POLR3G', 'POM121', 'POM121C', 'POM121L12', 'POM121L2', 'POMZP3', 'PON2', 'POU3F2', 'POU4F2', 'POU6F2', 'PPIA', 'PPP2R2B', 'PPP6R3', 'PRDX1', 'PRELID2', 'PREX2', 'PRKD1', 'PRKDC', 'PRKG1', 'PRKX', 'PROKR2', 'PRPH', 'PRRT4', 'PRUNE2', 'PSD3', 'PSMA2', 'PSMA3', 'PSMA4', 'PSMA6', 'PSMB7', 'PSMC1', 'PSMC4', 'PSMD11', 'PSMD7', 'PSMD8', 'PTBP1', 'PTBP2', 'PTGDS', 'PTGER3', 'PTMA', 'PTP4A2', 'PTPN3', 'PTPRD', 'PTPRG', 'PTPRK', 'PTPRT', 'PTPRZ1', 'PVALB', 'PVRL2', 'QDPR', 'RAB11FIP1', 'RAB27B', 'RAB3A', 'RAB3D', 'RAB7A', 'RABAC1', 'RAD23B', 'RAD51', 'RAE1', 'RAMP1', 'RAN', 'RANBP1', 'RANBP17', 'RANBP2', 'RANBP3', 'RANBP3L', 'RANGAP1', 'RAP1GAP', 'RAP1GAP2', 'RAPGEF4', 'RAPGEF6', 'RAPH1', 'RASGEF1B', 'RASGRF2', 'RBBP8', 'RBFOX1', 'RBFOX3', 'RBMS3', 'RCOR1', 'RELN', 'RERE', 'REST', 'RGPD1', 'RGPD2', 'RGPD3', 'RGPD4', 'RGPD5', 'RGPD6', 'RGS6', 'RIP1', 'RIP3', 'RIT2', 'RLBP1', 'RMST', 'RNASE1', 'RNASET2', 'RNF219-AS1', 'ROBO1', 'RORA', 'RORB', 'RPH3AL', 'RPL15', 'RPL18A', 'RPLP1', 'RPN2', 'RPRM', 'RPS19', 'RPS6', 'RRM2B', 'RTKN2', 'RTN1', 'RTN4', 'RUFY1', 'RUFY3', 'RXFP1', 'RYR1', 'RYR2', 'RYR3', 'S100A10', 'S100B', 'SAMD13', 'SARAF', 'SARM1', 'SAT1', 'SATB2', 'SCARB2', 'SCG5', 'SCML4', 'SCN1A', 'SCRG1', 'SDCBP', 'SEC13', 'SEH1L', 'SEMA5A', 'SEPT6', 'SEPT7', 'SEPW1', 'SERPINI2', 'SETD5', 'SEZ6L', 'SH2D1B', 'SH3BGRL3', 'SH3KBP1', 'SH3RF3', 'SHISA6', 'SHISA9', 'SIRPB1', 'SIX1', 'SLC11A1', 'SLC14A1', 'SLC16A12', 'SLC17A7', 'SLC1A2', 'SLC1A3', 'SLC22A18', 'SLC25A24', 'SLC26A3', 'SLC32A1', 'SLC38A2', 'SLC44A1', 'SLC6A12', 'SLC6A16', 'SLC6A20', 'SLC7A11', 'SLC7A6OS', 'SLIT2', 'SLN', 'SLX1B', 'SLX4', 'SMAC', 'SMN2', 'SMOC1', 'SMPD4', 'SMURF2', 'SMYD1', 'SNAP25', 'SNCA', 'SNCB', 'SNTG2', 'SNUPN', 'SNX14', 'SOD1', 'SORCS1', 'SORL1', 'SORT1', 'SOX11', 'SOX13', 'SOX2', 'SOX5', 'SOX6', 'SOX8', 'SOX9', 'SP8', 'SPARCL1', 'SPDYE2', 'SPHKAP', 'SPOCK1', 'SPP1', 'SPTA1', 'SPTAN1', 'SPTB', 'SPTBN1', 'SPTBN2', 'SPTBN4', 'SPTBN5', 'SREBF1', 'SREBF2', 'SRGN', 'SRP14', 'SRPK1', 'SRRM2', 'SRSF3', 'SST', 'ST18', 'ST6GAL1', 'STARD13', 'STAT1', 'STK17B', 'STMN1', 'STMN2', 'STMN3', 'STMN4', 'STXBP1', 'STXBP6', 'SUN1', 'SUN2', 'SUN3', 'SUN5', 'SURVIVIN', 'SV2C', 'SWSAP1', 'SYN1', 'SYNDIG1', 'SYNE1', 'SYNE2', 'SYNE3', 'SYNE4', 'SYNM', 'SYT1', 'SYT7', 'SYTL3', 'SYTL4', 'TAB', 'TAC3', 'TAFA1', 'TAFA2', 'TAK1', 'TARDBP', 'TBK1', 'TBX5', 'TCERG1', 'TCF7L2', 'TENM2', 'TFEB', 'TH', 'THEMIS', 'THSD7A', 'THSD7B', 'TIMP2', 'TMEM106B', 'TMEM106C', 'TMEM132C', 'TMEM170A', 'TMEM176B', 'TMEM18', 'TMEM2', 'TMEM201', 'TMEM241', 'TMEM43', 'TMPO', 'TMSB10', 'TMSB4X', 'TMTC2', 'TNC', 'TNF', 'TNFAIP6', 'TNFRSF1A', 'TNNT2', 'TNPO3', 'TOR1A', 'TOR1AIP1', 'TOR1AIP2', 'TOR1B', 'TOR2A', 'TOR3A', 'TOR4A', 'TOX', 'TP53BP1', 'TPD52L1', 'TPM3', 'TPR', 'TPT1', 'TRADD', 'TRAF2', 'TRAF5', 'TRAPPC12', 'TREM2', 'TREX1', 'TRHDE', 'TRPM3', 'TRRAP', 'TSHZ2', 'TSPAN7', 'TTC28', 'TTLL7', 'TUBA1A', 'TUBA1C', 'TUBA3C', 'TUBA3D', 'TUBA3E', 'TUBA4A', 'TUBA8', 'TUBB', 'TUBB1', 'TUBB2A', 'TUBB2B', 'TUBB3', 'TUBB4A', 'TUBB4B', 'TUBB6', 'TUBB8', 'TUBG1', 'TUBG2', 'TYROBP', 'UBB', 'UBC', 'UBE2Z', 'UCHL1', 'UHRF1', 'UNC13A', 'UNC13B', 'UNC13C', 'UNC5C', 'UNC5D', 'UNC79', 'UQCR10', 'UQCRC2', 'USP14', 'USP5', 'VCAN', 'VDAC3', 'VEGFA', 'VILL', 'VIM', 'VIP', 'VIPR2', 'VNN2', 'VPS13A', 'VPS4A', 'VPS4B', 'VSIG4', 'VSNL1', 'VWA8', 'WDR48', 'WHSC1L1', 'WNT4', 'WSB1', 'XIAP', 'XIST', 'XPA', 'XPC', 'XPO1', 'XPO4', 'XPO7', 'XPOT', 'XRCC1', 'XRCC4', 'XRCC5', 'XRCC6', 'XRCC6BP1', 'YWHAG', 'YWHAH', 'ZC3HAV1', 'ZFP36L1', 'ZFP36L2', 'ZFPM2', 'ZFPM2-AS1', 'ZMAT4', 'ZNF138', 'ZNF292', 'ZNF295-AS1', 'ZNF385D', 'ZNF565', 'ZNF804B', 'ZNF853', 'ZSWIM7', 'blank0000', 'blank0000_e', 'blank0001', 'blank0001_e', 'blank0002', 'blank0002_e', 'blank0003', 'blank0003_e', 'blank0004', 'blank0004_e', 'blank0005', 'blank0005_e', 'blank0006', 'blank0006_e', 'blank0007', 'blank0007_e', 'blank0008', 'blank0008_e', 'blank0009', 'blank0009_e', 'blank0010', 'blank0010_e', 'blank0011', 'blank0011_e', 'blank0012', 'blank0012_e', 'blank0013', 'blank0013_e', 'blank0014', 'blank0014_e', 'blank0015', 'blank0015_e', 'blank0016', 'blank0016_e', 'blank0017', 'blank0017_e', 'blank0018', 'blank0018_e', 'blank0019', 'blank0019_e', 'blank0020', 'blank0020_e', 'blank0021', 'blank0021_e', 'blank0022', 'blank0022_e', 'blank0023', 'blank0023_e', 'blank0024', 'blank0024_e', 'blank0025', 'blank0025_e', 'blank0026', 'blank0026_e', 'blank0027', 'blank0027_e', 'blank0028', 'blank0028_e', 'blank0029', 'blank0029_e', 'blank0030', 'blank0030_e', 'blank0031', 'blank0031_e', 'blank0032', 'blank0032_e', 'blank0033', 'blank0033_e', 'blank0034', 'blank0034_e', 'blank0035', 'blank0035_e', 'blank0036', 'blank0036_e', 'blank0037', 'blank0037_e', 'blank0038', 'blank0038_e', 'blank0039', 'blank0039_e', 'blank0040', 'blank0040_e', 'blank0041', 'blank0041_e', 'blank0042', 'blank0042_e', 'blank0043', 'blank0043_e', 'blank0044', 'blank0044_e', 'blank0045', 'blank0045_e', 'blank0046', 'blank0046_e', 'blank0047', 'blank0047_e', 'blank0048', 'blank0048_e', 'blank0049', 'blank0049_e', 'blank0050', 'blank0050_e', 'blank0051', 'blank0051_e', 'blank0052', 'blank0052_e', 'blank0053', 'blank0053_e', 'blank0054', 'blank0054_e', 'blank0055', 'blank0055_e', 'blank0056', 'blank0056_e', 'blank0057', 'blank0057_e', 'blank0058', 'blank0058_e', 'blank0059', 'blank0059_e', 'blank0060', 'blank0060_e', 'blank0061', 'blank0061_e', 'blank0062', 'blank0062_e', 'blank0063', 'blank0063_e', 'blank0064', 'blank0064_e', 'blank0065', 'blank0065_e', 'blank0066', 'blank0066_e', 'blank0067', 'blank0067_e', 'blank0068', 'blank0068_e', 'blank0069', 'blank0069_e', 'blank0070', 'blank0070_e', 'blank0071', 'blank0071_e', 'blank0072', 'blank0072_e', 'blank0073', 'blank0073_e', 'blank0074', 'blank0074_e', 'blank0075', 'blank0075_e', 'blank0076', 'blank0076_e', 'blank0077', 'blank0077_e', 'blank0078', 'blank0078_e', 'blank0079', 'blank0079_e', 'blank0080', 'blank0080_e', 'blank0081', 'blank0081_e', 'blank0082', 'blank0082_e', 'blank0083', 'blank0083_e', 'blank0084', 'blank0084_e', 'blank0085', 'blank0085_e', 'blank0086', 'blank0086_e', 'blank0087', 'blank0087_e', 'blank0088', 'blank0088_e', 'blank0089', 'blank0089_e', 'blank0090', 'blank0090_e', 'blank0091', 'blank0091_e', 'blank0092', 'blank0092_e', 'blank0093', 'blank0093_e', 'blank0094', 'blank0094_e', 'blank0095', 'blank0095_e', 'blank0096', 'blank0096_e', 'blank0097', 'blank0097_e', 'blank0098', 'blank0098_e', 'blank0099', 'blank0099_e', 'blank0100', 'blank0100_e', 'blank0101', 'blank0101_e', 'blank0102', 'blank0102_e', 'blank0103', 'blank0103_e', 'blank0104', 'blank0104_e', 'blank0105', 'blank0105_e', 'blank0106', 'blank0106_e', 'blank0107', 'blank0107_e', 'blank0108', 'blank0108_e', 'blank0109', 'blank0109_e', 'blank0110', 'blank0110_e', 'blank0111', 'blank0111_e', 'blank0112', 'blank0112_e', 'blank0113', 'blank0113_e', 'blank0114', 'blank0114_e', 'blank0115', 'blank0115_e', 'blank0116', 'blank0116_e', 'blank0117', 'blank0117_e', 'blank0118', 'blank0118_e', 'blank0119', 'blank0119_e', 'blank0120', 'blank0120_e', 'blank0121', 'blank0121_e', 'blank0122', 'blank0122_e', 'blank0123', 'blank0123_e', 'blank0124', 'blank0124_e', 'blank0125', 'blank0125_e', 'blank0126', 'blank0126_e', 'blank0127', 'blank0127_e', 'blank0128', 'blank0128_e', 'blank0129', 'blank0129_e', 'blank0130', 'blank0130_e', 'blank0131', 'blank0131_e', 'blank0132', 'blank0132_e', 'blank0133', 'blank0133_e', 'blank0134', 'blank0134_e', 'blank0135', 'blank0135_e', 'blank0136', 'blank0136_e', 'blank0137', 'blank0137_e', 'blank0138', 'blank0138_e', 'blank0139', 'blank0139_e', 'blank0140', 'blank0140_e', 'blank0141', 'blank0141_e', 'blank0142', 'blank0142_e', 'blank0143', 'blank0143_e', 'blank0144', 'blank0144_e', 'blank0145', 'blank0145_e', 'blank0146', 'blank0146_e', 'blank0147', 'blank0147_e', 'blank0148', 'blank0148_e', 'blank0149', 'blank0149_e', 'blank0150', 'blank0150_e', 'blank0151', 'blank0151_e', 'blank0152', 'blank0152_e', 'blank0153', 'blank0153_e', 'blank0154', 'blank0154_e', 'blank0155', 'blank0155_e', 'blank0156', 'blank0156_e', 'blank0157', 'blank0157_e', 'blank0158', 'blank0158_e', 'blank0159', 'blank0159_e', 'blank0160', 'blank0160_e', 'blank0161', 'blank0161_e', 'blank0162', 'blank0162_e', 'blank0163', 'blank0163_e', 'blank0164', 'blank0164_e', 'blank0165', 'blank0165_e', 'blank0166', 'blank0166_e', 'blank0167', 'blank0167_e', 'blank0168', 'blank0168_e', 'blank0169', 'blank0169_e', 'blank0170', 'blank0170_e', 'blank0171', 'blank0171_e', 'blank0172', 'blank0172_e', 'blank0173', 'blank0173_e', 'blank0174', 'blank0174_e', 'blank0175', 'blank0175_e', 'blank0176', 'blank0176_e', 'blank0177', 'blank0177_e', 'blank0178', 'blank0178_e', 'blank0179', 'blank0179_e', 'blank0180', 'blank0180_e', 'blank0181', 'blank0181_e', 'blank0182', 'blank0182_e', 'blank0183', 'blank0183_e', 'blank0184', 'blank0184_e', 'blank0185', 'blank0185_e', 'blank0186', 'blank0186_e', 'blank0187', 'blank0187_e', 'blank0188', 'blank0188_e']\n"
     ]
    }
   ],
   "source": [
    "print(list(np.unique(all_gns_names)))"
   ]
  },
  {
   "cell_type": "code",
   "execution_count": 67,
   "id": "4ac9b7cd-11a3-4d5c-a79a-721d3d5201ec",
   "metadata": {},
   "outputs": [],
   "source": [
    "segm_tag = 'H0_'\n",
    "segm_folder = r'\\\\192.168.0.127\\Raw_data\\Roy\\HumanSVZMER_6_26_2023\\Segmentation'\n"
   ]
  },
  {
   "cell_type": "code",
   "execution_count": 73,
   "id": "e394f05a-b5de-4a08-b7e5-59231a09161c",
   "metadata": {},
   "outputs": [],
   "source": []
  },
  {
   "cell_type": "code",
   "execution_count": 71,
   "id": "9a43d8f4-5757-4d7f-af55-15ad622066c9",
   "metadata": {},
   "outputs": [
    {
     "data": {
      "text/plain": [
       "(166986, 11)"
      ]
     },
     "execution_count": 71,
     "metadata": {},
     "output_type": "execute_result"
    }
   ],
   "source": []
  },
  {
   "cell_type": "code",
   "execution_count": null,
   "id": "a0bfe731-05d2-4a9f-b03a-12e3e7f5bbc5",
   "metadata": {},
   "outputs": [],
   "source": [
    "cell_id,good = get_cell_id(dec,XF)"
   ]
  },
  {
   "cell_type": "code",
   "execution_count": null,
   "id": "72f55013-ac71-4189-8dae-7d8958f77772",
   "metadata": {},
   "outputs": [],
   "source": []
  },
  {
   "cell_type": "code",
   "execution_count": 75,
   "id": "a027e280-e037-4a6c-9761-dc30d3e8bdee",
   "metadata": {},
   "outputs": [],
   "source": []
  },
  {
   "cell_type": "code",
   "execution_count": 76,
   "id": "ca8b4f55-68e8-4306-8a3a-76a129e14e16",
   "metadata": {},
   "outputs": [],
   "source": []
  },
  {
   "cell_type": "code",
   "execution_count": 80,
   "id": "56fd79b1-65b0-4752-aa5a-c493eea50be5",
   "metadata": {},
   "outputs": [
    {
     "data": {
      "text/plain": [
       "<Points layer 'Xred' at 0x25d07460ca0>"
      ]
     },
     "execution_count": 80,
     "metadata": {},
     "output_type": "execute_result"
    }
   ],
   "source": [
    "Xcms = XF[:,:3]-tzxyf\n",
    "Xred = np.round((Xcms/dec.shape)*dec.shapesm).astype(int)\n",
    "import napari\n",
    "v = napari.Viewer()\n",
    "v.add_labels(dec.im_segm_)\n",
    "v.add_points(Xred,size=0.5)"
   ]
  },
  {
   "cell_type": "code",
   "execution_count": null,
   "id": "8dafe315-ab54-4bd7-82d8-9c1792b25277",
   "metadata": {},
   "outputs": [],
   "source": [
    "Conv_zscan__324--H0__set1--dapi_segm.npz"
   ]
  },
  {
   "cell_type": "code",
   "execution_count": null,
   "id": "f50a7b95-e7b9-407a-a20c-97dc55e2efe7",
   "metadata": {},
   "outputs": [],
   "source": [
    "def save_final_decoding(save_folder,fov,set_,scoresRef,th=-1.5,ncols=3,\n",
    "                        tag_save = 'finaldecs_',\n",
    "                        plt_val=False,apply_flat=True,\n",
    "                        tags_smFISH=['Aldh','Sox11'],\n",
    "                        genes_smFISH=[['Igfbpl1','Aldh1l1','Ptbp1'],['Sox11','Sox2','Dcx']],Hths=None,force=False,try_mode=True):\n",
    "    \"\"\"\n",
    "    This loads the decoded points renormalizes them and picks the most confident points\n",
    "    \"\"\"\n",
    "    if type(scoresRef) is str: scoresRef = np.load(scoresRef,allow_pickle=True)\n",
    "    dec = decoder_simple(save_folder,fov,set_)\n",
    "    save_fl = dec.save_folder+os.sep+os.sep+tag_save+dec.fov.split('.')[0]+'--'+dec.set_+'.npz'\n",
    "    if not os.path.exists(save_fl) or force:\n",
    "        #print(dec.fov,dec.set_)\n",
    "        def main_subf(dec,save_fl,save_folder,fov,set_,scoresRef,th,ncols,plt_val,apply_flat,tags_smFISH,genes_smFISH,Hths,force):\n",
    "            nsegm = load_segmentation(dec)\n",
    "            loaded = dec.load_decoded()\n",
    "            if not loaded:\n",
    "                print(save_fl, \"Did not have a valid decoded file.\")\n",
    "                return None\n",
    "            if apply_flat:\n",
    "                apply_flat_field(dec)\n",
    "            apply_fine_drift(dec,plt_val=plt_val)\n",
    "            \n",
    "            #for i in range(3):\n",
    "            #    apply_brightness_correction(dec)\n",
    "            #get_scores(dec,plt_val=plt_val)\n",
    "            dec.ncols=ncols\n",
    "            get_score_withRef(dec,scoresRef,plt_val=plt_val,gene=None,iSs = None)\n",
    "            dec.th=th\n",
    "            #plot_1gene(dec,gene='Gad1',viewer = None)\n",
    "            if plt_val:\n",
    "                viewer = plot_multigenes(dec,genes=['Adcy1','Slc1a2','Psap'],colors=['r','g','b','m','c','y','w'],viewer = None,\n",
    "                                         smin=1,smax=2.5,drift=dec.drift[0],\n",
    "                                        resc = dec.shape/dec.im_segm_.shape)\n",
    "                viewer.add_labels(dec.im_segm_);\n",
    "            if plt_val:\n",
    "                plot_statistics(dec)\n",
    "            #print(dec.gns_ordered)\n",
    "\n",
    "            keepf =  dec.scoreA>dec.th ### keep good score\n",
    "            icodesf = dec.icodesN[keepf]\n",
    "            XHfpr = dec.XH_pruned[keepf]\n",
    "            XHf = np.mean(XHfpr,axis=1)\n",
    "            if Hths is None:\n",
    "                ICol = XHfpr[:,:,-2].astype(int)\n",
    "                Hths = [np.percentile(XHfpr[ICol==icol][:,-3],15) for icol in np.unique(ICol)]\n",
    "            \n",
    "            XF = XHf[:,[0,1,2,-5,-4,-3,-2,-1,-1,-1,-1]]\n",
    "            #zc,xc,yc,bk-7,a-6,habs-5,hn-4,h-3\n",
    "            XF[:,-1] = dec.scoreA[keepf]\n",
    "            XF[:,-2] = np.where(keepf)[0]\n",
    "            mnD = np.mean(np.linalg.norm((XHf[:,np.newaxis]-XHfpr)[:,:,:3],axis=-1),axis=-1)\n",
    "            XF[:,-3]=mnD\n",
    "            mnH = np.mean(np.abs((XHf[:,np.newaxis]-XHfpr)[:,:,-3]),axis=-1)\n",
    "            XF[:,-4]=mnH\n",
    "            genesf = dec.gns_names[icodesf]\n",
    "            \n",
    "            ### deal with smFISH\n",
    "            for tag_smFISH,gns_smFISH in zip(tags_smFISH,genes_smFISH):\n",
    "                dec.get_XH_tag(tag=tag_smFISH)#dec.get_XH_tag(tag='Aldh1')\n",
    "                if len(dec.Xh.shape)>1:\n",
    "                    if len(dec.Xh)>0:\n",
    "                        if apply_flat:\n",
    "                            Xh = norm_brightness(dec,dec.Xh)\n",
    "                        else:\n",
    "                            Xh = dec.Xh\n",
    "\n",
    "                        tags = [gn+'_smFISH' for gn in gns_smFISH]#['Igfbp_smFISH','Aldh1l1_smFISH','Ptbp1_smFISH']\n",
    "\n",
    "                        for icol,tag_gn in enumerate(tags):\n",
    "                            Xh_ = Xh[Xh[:,-2]==icol]\n",
    "                            Xh_=Xh_[Xh_[:,-3]>Hths[icol]]\n",
    "                            Xh_=Xh_[:,[0,1,2,-5,-4,-3,-2,-1,-1,-1,-1]]\n",
    "                            Xh_[:,-1]=0\n",
    "                            Xh_[:,-2]=-1\n",
    "                            Xh_[:,-3]=0\n",
    "                            Xh_[:,-4]=0\n",
    "                            XF = np.concatenate([XF,Xh_])\n",
    "                            genesf = np.concatenate([genesf,[tag_gn]*len(Xh_)])\n",
    "\n",
    "            cell_id,good = get_cell_id(dec,XF)\n",
    "            XF_ = np.concatenate([XF[good],cell_id[:,np.newaxis]],axis=-1)\n",
    "            genesf_ = genesf[good]\n",
    "            iset = int(dec.set_.split('_set')[-1])\n",
    "            ifov = int(dec.fov.split('_')[-1].split('.')[0])\n",
    "            isets = np.array([iset]*len(cell_id))[:,np.newaxis]\n",
    "            ifovs = np.array([ifov]*len(cell_id))[:,np.newaxis]\n",
    "            cell_id = cell_id[:,np.newaxis]\n",
    "            XF_ = np.concatenate([XF[good],cell_id,ifovs,isets],axis=-1)\n",
    "\n",
    "            get_xyfov(dec)\n",
    "            XF_ = XF_[:,list(np.arange(XF_.shape[-1]))+[-1,-1]]\n",
    "            XF_[:,-2:]=dec.xfov,dec.yfov\n",
    "            header = ['z','x','y','abs_brightness','cor','brightness','color','mean_bightness_variation','mean_distance_variation',\n",
    "                      'index_from_XH_pruned','score','cell_id','ifov','iset','xfov','yfov']\n",
    "            \n",
    "            if not hasattr(dec,'im_segm_'): dec.im_segm_=np.zeros(np.array([30,3000,3000])//4)\n",
    "            icells,vols = np.unique(dec.im_segm_,return_counts=True)\n",
    "            cms = np.array(ndimage.center_of_mass(np.ones_like(dec.im_segm_),dec.im_segm_,icells))\n",
    "            #icells,vols = np.unique(dec.im_segm_,return_counts=True)\n",
    "            cms = np.array(ndimage.center_of_mass(np.ones_like(dec.im_segm_),dec.im_segm_,icells))\n",
    "            cellinfo = cms[:,[0,0,0,1,2,0,0]]\n",
    "            cellinfo[:,0]=icells\n",
    "            cellinfo[:,1]=vols\n",
    "            cellinfo[:,-2:]=dec.xfov,dec.yfov\n",
    "            header_cells = ['cell_id','volm','zc','xc','yc','xfov','yfov']\n",
    "\n",
    "            np.savez_compressed(save_fl,XF=XF_.astype(np.float32),\n",
    "                                genes = genesf_,cellinfo=cellinfo.astype(np.float32),header_cells=header_cells,header=header)\n",
    "        if try_mode:\n",
    "            try:\n",
    "                main_subf(dec,save_fl,save_folder,fov,set_,scoresRef,th,ncols,plt_val,apply_flat,tags_smFISH,genes_smFISH,Hths,force)\n",
    "            except:\n",
    "                print(\"Failed\",dec.fov,dec.set_)\n",
    "        else:\n",
    "            main_subf(dec,save_fl,save_folder,fov,set_,scoresRef,th,ncols,plt_val,apply_flat,tags_smFISH,genes_smFISH,Hths,force)\n",
    "    "
   ]
  },
  {
   "cell_type": "code",
   "execution_count": 84,
   "id": "c4cd7803-9dd8-40e7-a3f3-6e389f335796",
   "metadata": {},
   "outputs": [],
   "source": [
    "get_xyfov(dec)"
   ]
  },
  {
   "cell_type": "code",
   "execution_count": 83,
   "id": "3d80ba34-596e-4df5-bd95-c231c63714e1",
   "metadata": {},
   "outputs": [],
   "source": []
  },
  {
   "cell_type": "code",
   "execution_count": 7,
   "id": "94b67229-33fc-4669-ac03-d181a2abc3a2",
   "metadata": {},
   "outputs": [
    {
     "data": {
      "text/plain": [
       "['\\\\\\\\192.168.0.127\\\\Raw_data\\\\Roy\\\\HumanSVZMER_6_26_2023\\\\plate1\\\\H1_MER_set1',\n",
       " '\\\\\\\\192.168.0.127\\\\Raw_data\\\\Roy\\\\HumanSVZMER_6_26_2023\\\\plate1\\\\H13_MER_set1',\n",
       " '\\\\\\\\192.168.0.127\\\\Raw_data\\\\Roy\\\\HumanSVZMER_6_26_2023\\\\plate2\\\\H1_MER_set1',\n",
       " '\\\\\\\\192.168.0.127\\\\Raw_data\\\\Roy\\\\HumanSVZMER_6_26_2023\\\\plate2\\\\H13_MER_set1',\n",
       " '\\\\\\\\192.168.0.127\\\\Raw_data\\\\Roy\\\\HumanSVZMER_6_26_2023\\\\plate3\\\\H1_MER_set1',\n",
       " '\\\\\\\\192.168.0.127\\\\Raw_data\\\\Roy\\\\HumanSVZMER_6_26_2023\\\\plate3\\\\H13_MER_set1',\n",
       " '\\\\\\\\192.168.0.127\\\\Raw_data\\\\Roy\\\\HumanSVZMER_6_26_2023\\\\H0__set1']"
      ]
     },
     "execution_count": 7,
     "metadata": {},
     "output_type": "execute_result"
    }
   ],
   "source": [
    "flds"
   ]
  },
  {
   "cell_type": "code",
   "execution_count": null,
   "id": "8f122c58-9bac-4980-b89f-46dbda550857",
   "metadata": {},
   "outputs": [],
   "source": []
  }
 ],
 "metadata": {
  "kernelspec": {
   "display_name": "Python 3 (ipykernel)",
   "language": "python",
   "name": "python3"
  },
  "language_info": {
   "codemirror_mode": {
    "name": "ipython",
    "version": 3
   },
   "file_extension": ".py",
   "mimetype": "text/x-python",
   "name": "python",
   "nbconvert_exporter": "python",
   "pygments_lexer": "ipython3",
   "version": "3.9.16"
  }
 },
 "nbformat": 4,
 "nbformat_minor": 5
}
