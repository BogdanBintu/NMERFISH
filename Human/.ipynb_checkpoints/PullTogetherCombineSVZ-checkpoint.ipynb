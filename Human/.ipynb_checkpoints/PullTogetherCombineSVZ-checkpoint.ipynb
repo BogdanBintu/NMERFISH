{
 "cells": [
  {
   "cell_type": "code",
   "execution_count": 1,
   "id": "49a4888e-0920-4380-8dda-c06cb88a9f38",
   "metadata": {},
   "outputs": [],
   "source": [
    "import sys\n",
    "sys.path.append(r'..\\\\')\n",
    "from ioMicro import *"
   ]
  },
  {
   "cell_type": "code",
   "execution_count": 9,
   "id": "133bad73-0e8d-40e5-a728-7ae9fc1c045c",
   "metadata": {},
   "outputs": [],
   "source": [
    "fl = r'\\\\192.168.0.127\\Raw_data\\Roy\\HumanSVZMER_6_26_2023\\Drift\\driftNew_Conv_zscan__264--_set1.pkl'\n",
    "drft,flds,fov,fl_ref = np.load(fl,allow_pickle=True)\n",
    "drftT = [drf[0] for drf in drft]"
   ]
  },
  {
   "cell_type": "code",
   "execution_count": 31,
   "id": "9508e7c9-4f99-4afd-a77a-5c88ed5c379e",
   "metadata": {},
   "outputs": [
    {
     "name": "stdout",
     "output_type": "stream",
     "text": [
      "Loaded decoded: -0.25786900520324707\n"
     ]
    }
   ],
   "source": [
    "save_folders = [r'\\\\192.168.0.127\\Raw_data\\Roy\\HumanSVZMER_6_26_2023\\MERFISH_Analysis_group1',\n",
    "               r'\\\\192.168.0.127\\Raw_data\\Roy\\HumanSVZMER_6_26_2023\\MERFISH_Analysis_group2',\n",
    "               r'\\\\192.168.0.127\\Raw_data\\Roy\\HumanSVZMER_6_26_2023\\MERFISH_Analysis_group3',\n",
    "               r'\\\\192.168.0.127\\Raw_data\\Roy\\HumanSVZMER_6_26_2023\\MERFISH_Analysis_group4',\n",
    "               r'\\\\192.168.0.127\\Raw_data\\Roy\\HumanSVZMER_6_26_2023\\MERFISH_Analysis_group5',\n",
    "               r'\\\\192.168.0.127\\Raw_data\\Roy\\HumanSVZMER_6_26_2023\\MERFISH_Analysis_group6']\n",
    "scoresRef = r'\\\\192.168.0.127\\Raw_data\\Roy\\HumanSVZMER_6_26_2023\\scoresRef.npy'\n",
    "drift_folder = r'\\\\192.168.0.127\\Raw_data\\Roy\\HumanSVZMER_6_26_2023\\Drift'\n",
    "segm_tag = 'H0_'\n",
    "segm_folder = r'\\\\192.168.0.127\\Raw_data\\Roy\\HumanSVZMER_6_26_2023\\Segmentation'\n",
    "\n",
    "th=-1.5\n",
    "ncols=2\n",
    "tag_save='finaldecs_'\n",
    "force=False\n",
    "save_folder_all = r'\\\\192.168.0.127\\Raw_data\\Roy\\HumanSVZMER_6_26_2023\\Combined'\n",
    "fov='Conv_zscan__220'\n",
    "set_='_set1'\n",
    "plt_val=False\n",
    "if type(scoresRef) is str: scoresRef = np.load(scoresRef,allow_pickle=True)\n",
    "save_fl = save_folder_all+os.sep+os.sep+tag_save+fov.split('.')[0]+'--'+set_+'.npz'\n",
    "if not os.path.exists(save_fl) or force:\n",
    "    \n",
    "    if not os.path.exists(save_folder_all): os.makedirs(save_folder_all)\n",
    "    ### Load dapi\n",
    "    dec.fl_dapi = segm_folder+os.sep+fov+'--'+segm_tag+set_+'--dapi_segm.npz'\n",
    "    dic = np.load(dec.fl_dapi)\n",
    "    im_segm = dic['segm']\n",
    "    dec.shape = dic['shape']\n",
    "    dec.shapesm = np.array(dec.im_segm_.shape)\n",
    "    dec.im_segm_=stitch3d_new(im_segm,minsz = 200,maxsz = 1000,th_int=0.66,th_cover=0.8,th_max_subcell=0.66,nexpand = 5)\n",
    "\n",
    "    ### Load point data ###############################\n",
    "    all_gns_names = []\n",
    "    XFF,genesFF = None,None\n",
    "    for save_folder in save_folders:\n",
    "        #save_folder = save_folders[0]\n",
    "        dec = decoder_simple(save_folder,fov,set_)\n",
    "        loaded = dec.load_decoded()\n",
    "        if not loaded:\n",
    "            print(save_fl, \"Did not have a valid decoded file.\")\n",
    "            return None\n",
    "        dec.gns_names = np.array([gn+'_e' if gn in all_gns_names else gn for gn in dec.gns_names])\n",
    "        all_gns_names = np.unique(np.concatenate([all_gns_names,dec.gns_names]))\n",
    "    \n",
    "        ### Threshold point data ###############################\n",
    "        dec.ncols=ncols\n",
    "        get_score_withRef(dec,scoresRef,plt_val=plt_val,gene=None,iSs = None)\n",
    "        dec.th=th\n",
    "        if plt_val:\n",
    "            plot_statistics(dec)\n",
    "        #print(dec.gns_ordered)\n",
    "        \n",
    "        keepf =  dec.scoreA>dec.th ### keep good score\n",
    "        icodesf = dec.icodesN[keepf]\n",
    "        XHfpr = dec.XH_pruned[keepf]\n",
    "    \n",
    "        ### Reorganize data  ###############################\n",
    "        XHf = np.mean(XHfpr,axis=1)\n",
    "        XF = XHf[:,[0,1,2,-5,-4,-3,-2,-1,-1,-1,-1]]\n",
    "        #zc,xc,yc,bk-7,a-6,habs-5,hn-4,h-3\n",
    "        XF[:,-1] = dec.scoreA[keepf]\n",
    "        XF[:,-2] = np.where(keepf)[0]\n",
    "        mnD = np.mean(np.linalg.norm((XHf[:,np.newaxis]-XHfpr)[:,:,:3],axis=-1),axis=-1)\n",
    "        XF[:,-3]=mnD\n",
    "        mnH = np.mean(np.abs((XHf[:,np.newaxis]-XHfpr)[:,:,-3]),axis=-1)\n",
    "        XF[:,-4]=mnH\n",
    "        genesf = dec.gns_names[icodesf]\n",
    "    \n",
    "        ### Load and apply drift correction\n",
    "        def get_drft_dic(fl_all_drift):\n",
    "            drft,flds,fov_,fl_ref= np.load(fl_all_drift,allow_pickle=True)\n",
    "            return {'--'.join(fld.split(os.sep)[-2:]):drft_[0] for fld,drft_ in zip(flds,drft)}\n",
    "        fl_all_drift = drift_folder+os.sep+'driftNew_'+fov+'--'+set_+'.pkl'\n",
    "        drft_dic_all = get_drft_dic(fl_all_drift)\n",
    "        fl_all_drift = save_folder+os.sep+'driftNew_'+fov+'--'+set_+'.pkl'\n",
    "        drft_dic_group = get_drft_dic(fl_all_drift)\n",
    "        key_segm = [key for key in drft_dic_all if segm_tag in key][0]\n",
    "        key_align = np.intersect1d(list(drft_dic_all.keys()),list(drft_dic_group.keys()))[0]\n",
    "        th1_to_h0 = drft_dic_all[key_segm]-drft_dic_all[key_align]\n",
    "        th1_gr = drft_dic_group[key_align]\n",
    "        tzxyf = th1_gr+th1_to_h0\n",
    "        XF[:,:3]=XF[:,:3]-tzxyf\n",
    "        if XFF is None:\n",
    "            XFF,genesFF = XF,genesf\n",
    "        else:\n",
    "            XFF,genesFF = np.concatenate([XFF,XF]),np.concatenate([genesFF,genesf])\n",
    "            \n",
    "   \n",
    "\n",
    "    def get_cell_id(dec,Xh):\n",
    "        if not hasattr(dec,'im_segm_'): \n",
    "            good = np.ones(len(Xh),dtype=bool)\n",
    "            cells_ = np.zeros(len(Xh),dtype=int)\n",
    "            return cells_,good\n",
    "        im_segm = dec.im_segm_\n",
    "        dec.shapesm = dec.im_segm_.shape\n",
    "        Xcms = Xh[:,:3]\n",
    "        Xred = np.round((Xcms/dec.shape)*dec.shapesm).astype(int)\n",
    "        good = ~np.any((Xred>=dec.shapesm)|(Xred<0),axis=-1)\n",
    "        Xred = Xred[good]\n",
    "        return im_segm[tuple(Xred.T)],good\n",
    "\n",
    "    XF,genesf = XFF,genesFF  \n",
    "    cell_id,good = get_cell_id(dec,XF)\n",
    "    XF_ = np.concatenate([XF[good],cell_id[:,np.newaxis]],axis=-1)\n",
    "    genesf_ = genesf[good]\n",
    "    iset = int(dec.set_.split('_set')[-1])\n",
    "    ifov = int(dec.fov.split('_')[-1].split('.')[0])\n",
    "    isets = np.array([iset]*len(cell_id))[:,np.newaxis]\n",
    "    ifovs = np.array([ifov]*len(cell_id))[:,np.newaxis]\n",
    "    cell_id = cell_id[:,np.newaxis]\n",
    "    XF_ = np.concatenate([XF[good],cell_id,ifovs,isets],axis=-1)\n",
    "\n",
    "    get_xyfov(dec)\n",
    "    XF_ = XF_[:,list(np.arange(XF_.shape[-1]))+[-1,-1]]\n",
    "    XF_[:,-2:]=dec.xfov,dec.yfov\n",
    "    header = ['z','x','y','abs_brightness','cor','brightness','color','mean_bightness_variation','mean_distance_variation',\n",
    "              'index_from_XH_pruned','score','cell_id','ifov','iset','xfov','yfov']\n",
    "    \n",
    "    if not hasattr(dec,'im_segm_'): dec.im_segm_=np.zeros(np.array([30,3000,3000])//4)\n",
    "    icells,vols = np.unique(dec.im_segm_,return_counts=True)\n",
    "    cms = np.array(ndimage.center_of_mass(np.ones_like(dec.im_segm_),dec.im_segm_,icells))\n",
    "    #icells,vols = np.unique(dec.im_segm_,return_counts=True)\n",
    "    cms = np.array(ndimage.center_of_mass(np.ones_like(dec.im_segm_),dec.im_segm_,icells))\n",
    "    cellinfo = cms[:,[0,0,0,1,2,0,0]]\n",
    "    cellinfo[:,0]=icells\n",
    "    cellinfo[:,1]=vols\n",
    "    cellinfo[:,-2:]=dec.xfov,dec.yfov\n",
    "    header_cells = ['cell_id','volm','zc','xc','yc','xfov','yfov']\n",
    "\n",
    "    np.savez_compressed(save_fl,XF=XF_.astype(np.float32),\n",
    "                        genes = genesf_,cellinfo=cellinfo.astype(np.float32),header_cells=header_cells,header=header)"
   ]
  },
  {
   "cell_type": "code",
   "execution_count": 67,
   "id": "4ac9b7cd-11a3-4d5c-a79a-721d3d5201ec",
   "metadata": {},
   "outputs": [],
   "source": [
    "segm_tag = 'H0_'\n",
    "segm_folder = r'\\\\192.168.0.127\\Raw_data\\Roy\\HumanSVZMER_6_26_2023\\Segmentation'\n"
   ]
  },
  {
   "cell_type": "code",
   "execution_count": 73,
   "id": "e394f05a-b5de-4a08-b7e5-59231a09161c",
   "metadata": {},
   "outputs": [],
   "source": []
  },
  {
   "cell_type": "code",
   "execution_count": 71,
   "id": "9a43d8f4-5757-4d7f-af55-15ad622066c9",
   "metadata": {},
   "outputs": [
    {
     "data": {
      "text/plain": [
       "(166986, 11)"
      ]
     },
     "execution_count": 71,
     "metadata": {},
     "output_type": "execute_result"
    }
   ],
   "source": []
  },
  {
   "cell_type": "code",
   "execution_count": null,
   "id": "a0bfe731-05d2-4a9f-b03a-12e3e7f5bbc5",
   "metadata": {},
   "outputs": [],
   "source": [
    "cell_id,good = get_cell_id(dec,XF)"
   ]
  },
  {
   "cell_type": "code",
   "execution_count": null,
   "id": "72f55013-ac71-4189-8dae-7d8958f77772",
   "metadata": {},
   "outputs": [],
   "source": []
  },
  {
   "cell_type": "code",
   "execution_count": 75,
   "id": "a027e280-e037-4a6c-9761-dc30d3e8bdee",
   "metadata": {},
   "outputs": [],
   "source": []
  },
  {
   "cell_type": "code",
   "execution_count": 76,
   "id": "ca8b4f55-68e8-4306-8a3a-76a129e14e16",
   "metadata": {},
   "outputs": [],
   "source": []
  },
  {
   "cell_type": "code",
   "execution_count": 80,
   "id": "56fd79b1-65b0-4752-aa5a-c493eea50be5",
   "metadata": {},
   "outputs": [
    {
     "data": {
      "text/plain": [
       "<Points layer 'Xred' at 0x25d07460ca0>"
      ]
     },
     "execution_count": 80,
     "metadata": {},
     "output_type": "execute_result"
    }
   ],
   "source": [
    "Xcms = XF[:,:3]-tzxyf\n",
    "Xred = np.round((Xcms/dec.shape)*dec.shapesm).astype(int)\n",
    "import napari\n",
    "v = napari.Viewer()\n",
    "v.add_labels(dec.im_segm_)\n",
    "v.add_points(Xred,size=0.5)"
   ]
  },
  {
   "cell_type": "code",
   "execution_count": null,
   "id": "8dafe315-ab54-4bd7-82d8-9c1792b25277",
   "metadata": {},
   "outputs": [],
   "source": [
    "Conv_zscan__324--H0__set1--dapi_segm.npz"
   ]
  },
  {
   "cell_type": "code",
   "execution_count": null,
   "id": "f50a7b95-e7b9-407a-a20c-97dc55e2efe7",
   "metadata": {},
   "outputs": [],
   "source": [
    "def save_final_decoding(save_folder,fov,set_,scoresRef,th=-1.5,ncols=3,\n",
    "                        tag_save = 'finaldecs_',\n",
    "                        plt_val=False,apply_flat=True,\n",
    "                        tags_smFISH=['Aldh','Sox11'],\n",
    "                        genes_smFISH=[['Igfbpl1','Aldh1l1','Ptbp1'],['Sox11','Sox2','Dcx']],Hths=None,force=False,try_mode=True):\n",
    "    \"\"\"\n",
    "    This loads the decoded points renormalizes them and picks the most confident points\n",
    "    \"\"\"\n",
    "    if type(scoresRef) is str: scoresRef = np.load(scoresRef,allow_pickle=True)\n",
    "    dec = decoder_simple(save_folder,fov,set_)\n",
    "    save_fl = dec.save_folder+os.sep+os.sep+tag_save+dec.fov.split('.')[0]+'--'+dec.set_+'.npz'\n",
    "    if not os.path.exists(save_fl) or force:\n",
    "        #print(dec.fov,dec.set_)\n",
    "        def main_subf(dec,save_fl,save_folder,fov,set_,scoresRef,th,ncols,plt_val,apply_flat,tags_smFISH,genes_smFISH,Hths,force):\n",
    "            nsegm = load_segmentation(dec)\n",
    "            loaded = dec.load_decoded()\n",
    "            if not loaded:\n",
    "                print(save_fl, \"Did not have a valid decoded file.\")\n",
    "                return None\n",
    "            if apply_flat:\n",
    "                apply_flat_field(dec)\n",
    "            apply_fine_drift(dec,plt_val=plt_val)\n",
    "            \n",
    "            #for i in range(3):\n",
    "            #    apply_brightness_correction(dec)\n",
    "            #get_scores(dec,plt_val=plt_val)\n",
    "            dec.ncols=ncols\n",
    "            get_score_withRef(dec,scoresRef,plt_val=plt_val,gene=None,iSs = None)\n",
    "            dec.th=th\n",
    "            #plot_1gene(dec,gene='Gad1',viewer = None)\n",
    "            if plt_val:\n",
    "                viewer = plot_multigenes(dec,genes=['Adcy1','Slc1a2','Psap'],colors=['r','g','b','m','c','y','w'],viewer = None,\n",
    "                                         smin=1,smax=2.5,drift=dec.drift[0],\n",
    "                                        resc = dec.shape/dec.im_segm_.shape)\n",
    "                viewer.add_labels(dec.im_segm_);\n",
    "            if plt_val:\n",
    "                plot_statistics(dec)\n",
    "            #print(dec.gns_ordered)\n",
    "\n",
    "            keepf =  dec.scoreA>dec.th ### keep good score\n",
    "            icodesf = dec.icodesN[keepf]\n",
    "            XHfpr = dec.XH_pruned[keepf]\n",
    "            XHf = np.mean(XHfpr,axis=1)\n",
    "            if Hths is None:\n",
    "                ICol = XHfpr[:,:,-2].astype(int)\n",
    "                Hths = [np.percentile(XHfpr[ICol==icol][:,-3],15) for icol in np.unique(ICol)]\n",
    "            \n",
    "            XF = XHf[:,[0,1,2,-5,-4,-3,-2,-1,-1,-1,-1]]\n",
    "            #zc,xc,yc,bk-7,a-6,habs-5,hn-4,h-3\n",
    "            XF[:,-1] = dec.scoreA[keepf]\n",
    "            XF[:,-2] = np.where(keepf)[0]\n",
    "            mnD = np.mean(np.linalg.norm((XHf[:,np.newaxis]-XHfpr)[:,:,:3],axis=-1),axis=-1)\n",
    "            XF[:,-3]=mnD\n",
    "            mnH = np.mean(np.abs((XHf[:,np.newaxis]-XHfpr)[:,:,-3]),axis=-1)\n",
    "            XF[:,-4]=mnH\n",
    "            genesf = dec.gns_names[icodesf]\n",
    "            \n",
    "            ### deal with smFISH\n",
    "            for tag_smFISH,gns_smFISH in zip(tags_smFISH,genes_smFISH):\n",
    "                dec.get_XH_tag(tag=tag_smFISH)#dec.get_XH_tag(tag='Aldh1')\n",
    "                if len(dec.Xh.shape)>1:\n",
    "                    if len(dec.Xh)>0:\n",
    "                        if apply_flat:\n",
    "                            Xh = norm_brightness(dec,dec.Xh)\n",
    "                        else:\n",
    "                            Xh = dec.Xh\n",
    "\n",
    "                        tags = [gn+'_smFISH' for gn in gns_smFISH]#['Igfbp_smFISH','Aldh1l1_smFISH','Ptbp1_smFISH']\n",
    "\n",
    "                        for icol,tag_gn in enumerate(tags):\n",
    "                            Xh_ = Xh[Xh[:,-2]==icol]\n",
    "                            Xh_=Xh_[Xh_[:,-3]>Hths[icol]]\n",
    "                            Xh_=Xh_[:,[0,1,2,-5,-4,-3,-2,-1,-1,-1,-1]]\n",
    "                            Xh_[:,-1]=0\n",
    "                            Xh_[:,-2]=-1\n",
    "                            Xh_[:,-3]=0\n",
    "                            Xh_[:,-4]=0\n",
    "                            XF = np.concatenate([XF,Xh_])\n",
    "                            genesf = np.concatenate([genesf,[tag_gn]*len(Xh_)])\n",
    "\n",
    "            cell_id,good = get_cell_id(dec,XF)\n",
    "            XF_ = np.concatenate([XF[good],cell_id[:,np.newaxis]],axis=-1)\n",
    "            genesf_ = genesf[good]\n",
    "            iset = int(dec.set_.split('_set')[-1])\n",
    "            ifov = int(dec.fov.split('_')[-1].split('.')[0])\n",
    "            isets = np.array([iset]*len(cell_id))[:,np.newaxis]\n",
    "            ifovs = np.array([ifov]*len(cell_id))[:,np.newaxis]\n",
    "            cell_id = cell_id[:,np.newaxis]\n",
    "            XF_ = np.concatenate([XF[good],cell_id,ifovs,isets],axis=-1)\n",
    "\n",
    "            get_xyfov(dec)\n",
    "            XF_ = XF_[:,list(np.arange(XF_.shape[-1]))+[-1,-1]]\n",
    "            XF_[:,-2:]=dec.xfov,dec.yfov\n",
    "            header = ['z','x','y','abs_brightness','cor','brightness','color','mean_bightness_variation','mean_distance_variation',\n",
    "                      'index_from_XH_pruned','score','cell_id','ifov','iset','xfov','yfov']\n",
    "            \n",
    "            if not hasattr(dec,'im_segm_'): dec.im_segm_=np.zeros(np.array([30,3000,3000])//4)\n",
    "            icells,vols = np.unique(dec.im_segm_,return_counts=True)\n",
    "            cms = np.array(ndimage.center_of_mass(np.ones_like(dec.im_segm_),dec.im_segm_,icells))\n",
    "            #icells,vols = np.unique(dec.im_segm_,return_counts=True)\n",
    "            cms = np.array(ndimage.center_of_mass(np.ones_like(dec.im_segm_),dec.im_segm_,icells))\n",
    "            cellinfo = cms[:,[0,0,0,1,2,0,0]]\n",
    "            cellinfo[:,0]=icells\n",
    "            cellinfo[:,1]=vols\n",
    "            cellinfo[:,-2:]=dec.xfov,dec.yfov\n",
    "            header_cells = ['cell_id','volm','zc','xc','yc','xfov','yfov']\n",
    "\n",
    "            np.savez_compressed(save_fl,XF=XF_.astype(np.float32),\n",
    "                                genes = genesf_,cellinfo=cellinfo.astype(np.float32),header_cells=header_cells,header=header)\n",
    "        if try_mode:\n",
    "            try:\n",
    "                main_subf(dec,save_fl,save_folder,fov,set_,scoresRef,th,ncols,plt_val,apply_flat,tags_smFISH,genes_smFISH,Hths,force)\n",
    "            except:\n",
    "                print(\"Failed\",dec.fov,dec.set_)\n",
    "        else:\n",
    "            main_subf(dec,save_fl,save_folder,fov,set_,scoresRef,th,ncols,plt_val,apply_flat,tags_smFISH,genes_smFISH,Hths,force)\n",
    "    "
   ]
  },
  {
   "cell_type": "code",
   "execution_count": 84,
   "id": "c4cd7803-9dd8-40e7-a3f3-6e389f335796",
   "metadata": {},
   "outputs": [],
   "source": [
    "get_xyfov(dec)"
   ]
  },
  {
   "cell_type": "code",
   "execution_count": 83,
   "id": "3d80ba34-596e-4df5-bd95-c231c63714e1",
   "metadata": {},
   "outputs": [],
   "source": []
  },
  {
   "cell_type": "code",
   "execution_count": 7,
   "id": "94b67229-33fc-4669-ac03-d181a2abc3a2",
   "metadata": {},
   "outputs": [
    {
     "data": {
      "text/plain": [
       "['\\\\\\\\192.168.0.127\\\\Raw_data\\\\Roy\\\\HumanSVZMER_6_26_2023\\\\plate1\\\\H1_MER_set1',\n",
       " '\\\\\\\\192.168.0.127\\\\Raw_data\\\\Roy\\\\HumanSVZMER_6_26_2023\\\\plate1\\\\H13_MER_set1',\n",
       " '\\\\\\\\192.168.0.127\\\\Raw_data\\\\Roy\\\\HumanSVZMER_6_26_2023\\\\plate2\\\\H1_MER_set1',\n",
       " '\\\\\\\\192.168.0.127\\\\Raw_data\\\\Roy\\\\HumanSVZMER_6_26_2023\\\\plate2\\\\H13_MER_set1',\n",
       " '\\\\\\\\192.168.0.127\\\\Raw_data\\\\Roy\\\\HumanSVZMER_6_26_2023\\\\plate3\\\\H1_MER_set1',\n",
       " '\\\\\\\\192.168.0.127\\\\Raw_data\\\\Roy\\\\HumanSVZMER_6_26_2023\\\\plate3\\\\H13_MER_set1',\n",
       " '\\\\\\\\192.168.0.127\\\\Raw_data\\\\Roy\\\\HumanSVZMER_6_26_2023\\\\H0__set1']"
      ]
     },
     "execution_count": 7,
     "metadata": {},
     "output_type": "execute_result"
    }
   ],
   "source": [
    "flds"
   ]
  },
  {
   "cell_type": "code",
   "execution_count": null,
   "id": "8f122c58-9bac-4980-b89f-46dbda550857",
   "metadata": {},
   "outputs": [],
   "source": []
  }
 ],
 "metadata": {
  "kernelspec": {
   "display_name": "Python 3 (ipykernel)",
   "language": "python",
   "name": "python3"
  },
  "language_info": {
   "codemirror_mode": {
    "name": "ipython",
    "version": 3
   },
   "file_extension": ".py",
   "mimetype": "text/x-python",
   "name": "python",
   "nbconvert_exporter": "python",
   "pygments_lexer": "ipython3",
   "version": "3.9.16"
  }
 },
 "nbformat": 4,
 "nbformat_minor": 5
}
