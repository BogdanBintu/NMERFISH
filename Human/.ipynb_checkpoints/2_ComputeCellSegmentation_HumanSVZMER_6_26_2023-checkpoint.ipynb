{
 "cells": [
  {
   "cell_type": "code",
   "execution_count": 1,
   "id": "d0afdb7d-33ff-4b6e-abf9-a6d9a670fb38",
   "metadata": {},
   "outputs": [],
   "source": [
    "import sys\n",
    "sys.path.append(r'..//')\n",
    "from ioMicro import *"
   ]
  },
  {
   "cell_type": "code",
   "execution_count": 2,
   "id": "9fd18ade-c100-475e-a43a-60feac98a76a",
   "metadata": {},
   "outputs": [],
   "source": [
    "def new_segmentation_subtr(fl =r'\\\\192.168.0.100\\bbfish100\\DCBBL1_4week_6_2_2023\\H1_MER_set1\\Conv_zscan__030.zarr',\n",
    "                     psf_file = '\\\\\\\\192.168.0.100\\\\bbfish100\\\\DCBBL1_4week_6_2_2023\\\\MERFISH_Analysis\\\\psf_750_Scope3_final.npy',\n",
    "                           subtr_bk=True,\n",
    "                     p1=-500,p99=1500,mean_dapi = None,sdapi = 100,\n",
    "                    save_folder = r'\\\\192.168.0.100\\bbfish100\\DCBBL1_4week_6_2_2023\\MERFISH_Analysis',redo=False,plt_val=False,st = 5):\n",
    "\n",
    "    segm_folder = save_folder+os.sep+'Segmentation'\n",
    "    if not os.path.exists(segm_folder): os.makedirs(segm_folder)\n",
    "    fl_dapi = fl\n",
    "    save_fl  = segm_folder+os.sep+os.path.basename(fl_dapi).split('.')[0]+'--'+os.path.basename(os.path.dirname(fl_dapi))+'--dapi_segm.npz'\n",
    "    if redo or (not os.path.exists(save_fl)):\n",
    "    \n",
    "        im = read_im(fl)\n",
    "        im_dapi = np.array(im[-1],dtype=np.float32)\n",
    "        imd = im_dapi\n",
    "        if subtr_bk:\n",
    "            im_bk = np.array(im[-2],dtype=np.float32)\n",
    "            ifr = len(im_dapi)//2\n",
    "            fr = im_bk[ifr]/im_dapi[ifr]\n",
    "            fr_ = np.max(fr)\n",
    "            im_dapi = im_dapi-im_bk/fr_\n",
    "        \n",
    "        if psf_file is not None:\n",
    "            psf = np.load(psf_file)\n",
    "            imd = full_deconv(im_dapi,s_=500,pad=100,psf=psf,parameters={'method': 'wiener', 'beta': 0.01},gpu=True,force=False)\n",
    "        \n",
    "        im_dapi_ = norm_slice(imd,s=sdapi)\n",
    "\n",
    "\n",
    "        img = np.array(np.clip((im_dapi_[::3,::4,::4]-p1)/(p99-p1),0,1),dtype=np.float32)\n",
    "        imd_ = imd[::3,::4,::4]\n",
    "\n",
    "        from cellpose import models, io,utils\n",
    "        from scipy import ndimage\n",
    "        model = models.Cellpose(gpu=True, model_type='cyto')\n",
    "        masks, flows, styles, diams = model.eval(img,z_axis=0, diameter=20, channels=[0,0],\n",
    "                                                 flow_threshold=-10,cellprob_threshold=-10,normalize=False,\n",
    "                                                 do_3D=False,stitch_threshold=0.,\n",
    "                                                 progress=True)\n",
    "\n",
    "        for ifr in range(len(masks)):\n",
    "            means = nd.mean(np.clip(imd_[ifr],0,np.max(imd_[ifr])),masks[ifr],np.unique(masks[ifr]))\n",
    "            \n",
    "            if mean_dapi is None: mean_dapi = (st*means[0]+np.median(means[1:]))/(st+1)\n",
    "            bad_cells = np.where(means<mean_dapi)[0]\n",
    "            masks[ifr] = replace_mat(masks[ifr],bad_cells,0)\n",
    "        if plt_val:\n",
    "            import napari\n",
    "            v = napari.view_image(img)\n",
    "            v.add_labels(masks)\n",
    "        shape = np.array(im[-1].shape)\n",
    "        np.savez_compressed(save_fl,segm = masks,shape = shape)\n",
    "    return save_fl"
   ]
  },
  {
   "cell_type": "code",
   "execution_count": 3,
   "id": "8b79cbb0-9361-4e57-9abe-4054934c8ef1",
   "metadata": {},
   "outputs": [],
   "source": [
    "fl =r'\\\\192.168.0.127\\Raw_data\\Roy\\HumanSVZMER_6_26_2023\\H0__set1\\Conv_zscan__030.zarr'\n",
    "im = read_im(fl)\n",
    "import napari\n",
    "napari.view_image(im);"
   ]
  },
  {
   "cell_type": "code",
   "execution_count": null,
   "id": "45956c06-6a2c-4f0c-a4f8-57f1ec0d5c50",
   "metadata": {},
   "outputs": [],
   "source": []
  }
 ],
 "metadata": {
  "kernelspec": {
   "display_name": "Python 3 (ipykernel)",
   "language": "python",
   "name": "python3"
  },
  "language_info": {
   "codemirror_mode": {
    "name": "ipython",
    "version": 3
   },
   "file_extension": ".py",
   "mimetype": "text/x-python",
   "name": "python",
   "nbconvert_exporter": "python",
   "pygments_lexer": "ipython3",
   "version": "3.9.16"
  }
 },
 "nbformat": 4,
 "nbformat_minor": 5
}
