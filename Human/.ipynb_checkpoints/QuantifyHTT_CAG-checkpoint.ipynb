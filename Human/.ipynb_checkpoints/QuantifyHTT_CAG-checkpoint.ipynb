{
 "cells": [
  {
   "cell_type": "code",
   "execution_count": 1,
   "id": "3a8001c7-2916-4066-9dbc-ccb55c50b0bf",
   "metadata": {
    "tags": []
   },
   "outputs": [],
   "source": [
    "import sys\n",
    "sys.path.append(r'..\\\\')\n",
    "from ioMicro import *\n",
    "\n",
    "import scanpy as sc\n",
    "from scipy.stats import zscore\n",
    "import pandas as pd"
   ]
  },
  {
   "cell_type": "code",
   "execution_count": 2,
   "id": "2852a586-aadc-4af4-98cf-af80710d3e27",
   "metadata": {
    "tags": []
   },
   "outputs": [],
   "source": [
    "fit_folder = r'\\\\192.168.0.21\\bbfishdc21\\HttHuman_Snonia__06_12_2023\\Drift'"
   ]
  },
  {
   "cell_type": "code",
   "execution_count": 25,
   "id": "fd22990f-3d2c-42a7-9acc-660f4ff4c609",
   "metadata": {
    "tags": []
   },
   "outputs": [
    {
     "data": {
      "text/plain": [
       "array(['\\\\\\\\192.168.0.21\\\\bbfishdc21\\\\HttHuman_Snonia__06_12_2023\\\\Drift\\\\Conv_zscan__00--H0__set1--col0__Xhfits.npz',\n",
       "       '\\\\\\\\192.168.0.21\\\\bbfishdc21\\\\HttHuman_Snonia__06_12_2023\\\\Drift\\\\Conv_zscan__00--H0__set1--col1__Xhfits.npz',\n",
       "       '\\\\\\\\192.168.0.21\\\\bbfishdc21\\\\HttHuman_Snonia__06_12_2023\\\\Drift\\\\Conv_zscan__00--H0__set1--col2__Xhfits.npz',\n",
       "       '\\\\\\\\192.168.0.21\\\\bbfishdc21\\\\HttHuman_Snonia__06_12_2023\\\\Drift\\\\Conv_zscan__00--H0__set2--col0__Xhfits.npz',\n",
       "       '\\\\\\\\192.168.0.21\\\\bbfishdc21\\\\HttHuman_Snonia__06_12_2023\\\\Drift\\\\Conv_zscan__00--H0__set2--col1__Xhfits.npz',\n",
       "       '\\\\\\\\192.168.0.21\\\\bbfishdc21\\\\HttHuman_Snonia__06_12_2023\\\\Drift\\\\Conv_zscan__00--H0__set2--col2__Xhfits.npz',\n",
       "       '\\\\\\\\192.168.0.21\\\\bbfishdc21\\\\HttHuman_Snonia__06_12_2023\\\\Drift\\\\Conv_zscan__00--H0__set3--col0__Xhfits.npz',\n",
       "       '\\\\\\\\192.168.0.21\\\\bbfishdc21\\\\HttHuman_Snonia__06_12_2023\\\\Drift\\\\Conv_zscan__00--H0__set3--col1__Xhfits.npz',\n",
       "       '\\\\\\\\192.168.0.21\\\\bbfishdc21\\\\HttHuman_Snonia__06_12_2023\\\\Drift\\\\Conv_zscan__00--H0__set3--col2__Xhfits.npz',\n",
       "       '\\\\\\\\192.168.0.21\\\\bbfishdc21\\\\HttHuman_Snonia__06_12_2023\\\\Drift\\\\Conv_zscan__00--H0__set4--col0__Xhfits.npz',\n",
       "       '\\\\\\\\192.168.0.21\\\\bbfishdc21\\\\HttHuman_Snonia__06_12_2023\\\\Drift\\\\Conv_zscan__00--H0__set4--col1__Xhfits.npz',\n",
       "       '\\\\\\\\192.168.0.21\\\\bbfishdc21\\\\HttHuman_Snonia__06_12_2023\\\\Drift\\\\Conv_zscan__00--H0__set4--col2__Xhfits.npz',\n",
       "       '\\\\\\\\192.168.0.21\\\\bbfishdc21\\\\HttHuman_Snonia__06_12_2023\\\\Drift\\\\Conv_zscan__00--H0__set5--col0__Xhfits.npz',\n",
       "       '\\\\\\\\192.168.0.21\\\\bbfishdc21\\\\HttHuman_Snonia__06_12_2023\\\\Drift\\\\Conv_zscan__00--H0__set5--col1__Xhfits.npz',\n",
       "       '\\\\\\\\192.168.0.21\\\\bbfishdc21\\\\HttHuman_Snonia__06_12_2023\\\\Drift\\\\Conv_zscan__00--H0__set5--col2__Xhfits.npz',\n",
       "       '\\\\\\\\192.168.0.21\\\\bbfishdc21\\\\HttHuman_Snonia__06_12_2023\\\\Drift\\\\Conv_zscan__00--P3__Htt_CAG_B_polyA__set1--col0__Xhfits.npz',\n",
       "       '\\\\\\\\192.168.0.21\\\\bbfishdc21\\\\HttHuman_Snonia__06_12_2023\\\\Drift\\\\Conv_zscan__00--P3__Htt_CAG_B_polyA__set1--col1__Xhfits.npz',\n",
       "       '\\\\\\\\192.168.0.21\\\\bbfishdc21\\\\HttHuman_Snonia__06_12_2023\\\\Drift\\\\Conv_zscan__00--P3__Htt_CAG_B_polyA__set1--col2__Xhfits.npz',\n",
       "       '\\\\\\\\192.168.0.21\\\\bbfishdc21\\\\HttHuman_Snonia__06_12_2023\\\\Drift\\\\Conv_zscan__00--P3__Htt_CAG_B_polyA__set2--col0__Xhfits.npz',\n",
       "       '\\\\\\\\192.168.0.21\\\\bbfishdc21\\\\HttHuman_Snonia__06_12_2023\\\\Drift\\\\Conv_zscan__00--P3__Htt_CAG_B_polyA__set2--col1__Xhfits.npz'],\n",
       "      dtype='<U119')"
      ]
     },
     "execution_count": 25,
     "metadata": {},
     "output_type": "execute_result"
    }
   ],
   "source": [
    "_fls = np.sort(glob.glob(fit_folder+os.sep+'*'))\n",
    "_fls[:20]"
   ]
  },
  {
   "cell_type": "code",
   "execution_count": 26,
   "id": "7ee660f7-8cb0-49c8-a631-b80b34c68b81",
   "metadata": {
    "tags": []
   },
   "outputs": [],
   "source": [
    "fov = 'Conv_zscan__30'\n",
    "set_ = '_set5'\n",
    "drift_fl = fit_folder+os.sep+'driftNew_'+fov+'--'+set_+'.pkl'\n",
    "fit_fl0 = fit_folder+os.sep+fov+'--P3__Htt_CAG_B_polyA_'+set_+'--col0__Xhfits.npz'\n",
    "fit_fl1 = fit_folder+os.sep+fov+'--P3__Htt_CAG_B_polyA_'+set_+'--col1__Xhfits.npz'\n",
    "Xh0 = np.load(fit_fl0,allow_pickle=True)['Xh']\n",
    "Xh1 = np.load(fit_fl1,allow_pickle=True)['Xh']\n",
    "Xh0f = Xh0[Xh0[:,-1]>13000,:]"
   ]
  },
  {
   "cell_type": "code",
   "execution_count": 38,
   "id": "18d779b7-e873-47f2-b4ee-ff7c4e52a284",
   "metadata": {
    "tags": []
   },
   "outputs": [],
   "source": [
    "import napari\n",
    "fl = r'\\\\192.168.0.96\\bbfish124\\HttHuman_Snonia__06_12_2023\\P3__Htt_CAG_B_polyA_'+set_+os.sep+fov+'.zarr'\n",
    "im = read_im(fl)\n",
    "im2d = np.max(im[0],axis=0)"
   ]
  },
  {
   "cell_type": "code",
   "execution_count": 39,
   "id": "a4a5b04f-e450-4e80-b50c-5ccf9cc4d57c",
   "metadata": {
    "tags": []
   },
   "outputs": [
    {
     "data": {
      "text/plain": [
       "<Points layer 'Points' at 0x24ea38582b0>"
      ]
     },
     "execution_count": 39,
     "metadata": {},
     "output_type": "execute_result"
    }
   ],
   "source": [
    "v = napari.Viewer()\n",
    "v.add_image(im2d)\n",
    "v.add_points(Xh0[Xh0[:,-1]>13000,1:3],face_color=[0,0,0,0],edge_color='r')"
   ]
  },
  {
   "cell_type": "code",
   "execution_count": 36,
   "id": "6c66eed6-7fe2-4e9d-9b12-b425ac20cf77",
   "metadata": {
    "tags": []
   },
   "outputs": [
    {
     "data": {
      "text/plain": [
       "9897.129058743909"
      ]
     },
     "execution_count": 36,
     "metadata": {},
     "output_type": "execute_result"
    }
   ],
   "source": [
    "np.exp(9.2)"
   ]
  },
  {
   "cell_type": "code",
   "execution_count": 30,
   "id": "1b467189-e473-4644-aaad-f8ecddbc67c8",
   "metadata": {
    "tags": []
   },
   "outputs": [
    {
     "data": {
      "text/plain": [
       "(array([4.010e+02, 4.460e+02, 4.550e+02, 4.900e+02, 5.570e+02, 5.370e+02,\n",
       "        5.840e+02, 6.790e+02, 7.060e+02, 7.450e+02, 7.650e+02, 8.640e+02,\n",
       "        9.070e+02, 9.940e+02, 1.035e+03, 1.065e+03, 1.135e+03, 1.150e+03,\n",
       "        1.312e+03, 1.329e+03, 1.395e+03, 1.445e+03, 1.550e+03, 1.592e+03,\n",
       "        1.602e+03, 1.703e+03, 1.792e+03, 1.850e+03, 1.819e+03, 1.991e+03,\n",
       "        1.994e+03, 1.997e+03, 2.013e+03, 2.002e+03, 2.063e+03, 2.043e+03,\n",
       "        2.000e+03, 1.965e+03, 2.051e+03, 1.868e+03, 1.824e+03, 1.792e+03,\n",
       "        1.680e+03, 1.732e+03, 1.517e+03, 1.492e+03, 1.279e+03, 1.289e+03,\n",
       "        1.117e+03, 9.760e+02, 8.520e+02, 7.220e+02, 6.450e+02, 5.330e+02,\n",
       "        4.250e+02, 3.680e+02, 2.990e+02, 2.400e+02, 2.020e+02, 1.890e+02,\n",
       "        1.960e+02, 1.760e+02, 1.390e+02, 1.410e+02, 1.670e+02, 1.650e+02,\n",
       "        1.590e+02, 1.410e+02, 1.350e+02, 1.700e+02, 1.410e+02, 1.470e+02,\n",
       "        1.700e+02, 1.550e+02, 1.690e+02, 1.730e+02, 1.610e+02, 1.790e+02,\n",
       "        1.970e+02, 1.700e+02, 1.460e+02, 1.600e+02, 1.460e+02, 1.280e+02,\n",
       "        1.170e+02, 1.120e+02, 7.700e+01, 5.100e+01, 5.100e+01, 3.300e+01,\n",
       "        1.800e+01, 1.600e+01, 5.000e+00, 8.000e+00, 4.000e+00, 1.000e+00,\n",
       "        1.000e+00, 4.000e+00, 0.000e+00, 4.000e+00]),\n",
       " array([ 4.60572672,  4.68316174,  4.76059675,  4.83803129,  4.91546631,\n",
       "         4.99290133,  5.07033634,  5.14777136,  5.22520638,  5.30264091,\n",
       "         5.38007593,  5.45751095,  5.53494596,  5.61238098,  5.689816  ,\n",
       "         5.76725054,  5.84468555,  5.92212057,  5.99955559,  6.0769906 ,\n",
       "         6.15442562,  6.23186016,  6.30929518,  6.38673019,  6.46416521,\n",
       "         6.54160023,  6.61903524,  6.69646978,  6.7739048 ,  6.85133982,\n",
       "         6.92877483,  7.00620985,  7.08364487,  7.16107941,  7.23851442,\n",
       "         7.31594944,  7.39338446,  7.47081947,  7.54825449,  7.62568903,\n",
       "         7.70312405,  7.78055906,  7.85799408,  7.9354291 ,  8.01286411,\n",
       "         8.09029865,  8.16773415,  8.24516869,  8.32260323,  8.40003872,\n",
       "         8.47747326,  8.55490875,  8.63234329,  8.70977783,  8.78721333,\n",
       "         8.86464787,  8.94208336,  9.0195179 ,  9.09695339,  9.17438793,\n",
       "         9.25182247,  9.32925797,  9.4066925 ,  9.484128  ,  9.56156254,\n",
       "         9.63899708,  9.71643257,  9.79386711,  9.8713026 ,  9.94873714,\n",
       "        10.02617264, 10.10360718, 10.18104172, 10.25847721, 10.33591175,\n",
       "        10.41334724, 10.49078178, 10.56821632, 10.64565182, 10.72308636,\n",
       "        10.80052185, 10.87795639, 10.95539188, 11.03282642, 11.11026096,\n",
       "        11.18769646, 11.265131  , 11.34256649, 11.42000103, 11.49743557,\n",
       "        11.57487106, 11.6523056 , 11.7297411 , 11.80717564, 11.88461113,\n",
       "        11.96204567, 12.03948021, 12.1169157 , 12.19435024, 12.27178574,\n",
       "        12.34922028]),\n",
       " <BarContainer object of 100 artists>)"
      ]
     },
     "execution_count": 30,
     "metadata": {},
     "output_type": "execute_result"
    },
    {
     "data": {
      "image/png": "[encoded data removed]",
      "text/plain": [
       "<Figure size 640x480 with 1 Axes>"
      ]
     },
     "metadata": {},
     "output_type": "display_data"
    }
   ],
   "source": [
    "plt.hist(np.log(Xh0[:,-1]-3500),bins=100)"
   ]
  },
  {
   "cell_type": "code",
   "execution_count": null,
   "id": "b5d41c1d-0ad1-4825-af84-c5c087c6acef",
   "metadata": {},
   "outputs": [],
   "source": []
  }
 ],
 "metadata": {
  "kernelspec": {
   "display_name": "Python 3 (ipykernel)",
   "language": "python",
   "name": "python3"
  },
  "language_info": {
   "codemirror_mode": {
    "name": "ipython",
    "version": 3
   },
   "file_extension": ".py",
   "mimetype": "text/x-python",
   "name": "python",
   "nbconvert_exporter": "python",
   "pygments_lexer": "ipython3",
   "version": "3.8.16"
  }
 },
 "nbformat": 4,
 "nbformat_minor": 5
}
