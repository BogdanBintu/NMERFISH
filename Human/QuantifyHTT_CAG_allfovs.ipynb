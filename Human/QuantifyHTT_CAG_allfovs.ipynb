{
 "cells": [
  {
   "cell_type": "code",
   "execution_count": 1,
   "id": "3a8001c7-2916-4066-9dbc-ccb55c50b0bf",
   "metadata": {
    "tags": []
   },
   "outputs": [],
   "source": [
    "import sys\n",
    "sys.path.append(r'..\\\\')\n",
    "from ioMicro import *\n",
    "\n",
    "import scanpy as sc\n",
    "from scipy.stats import zscore\n",
    "import pandas as pd"
   ]
  },
  {
   "cell_type": "code",
   "execution_count": 2,
   "id": "2852a586-aadc-4af4-98cf-af80710d3e27",
   "metadata": {
    "tags": []
   },
   "outputs": [],
   "source": [
    "fit_folder = r'\\\\192.168.0.21\\bbfishdc21\\HttHuman_Snonia__06_12_2023\\Drift'"
   ]
  },
  {
   "cell_type": "code",
   "execution_count": 25,
   "id": "fd22990f-3d2c-42a7-9acc-660f4ff4c609",
   "metadata": {
    "tags": []
   },
   "outputs": [
    {
     "data": {
      "text/plain": [
       "array(['\\\\\\\\192.168.0.21\\\\bbfishdc21\\\\HttHuman_Snonia__06_12_2023\\\\Drift\\\\Conv_zscan__00--H0__set1--col0__Xhfits.npz',\n",
       "       '\\\\\\\\192.168.0.21\\\\bbfishdc21\\\\HttHuman_Snonia__06_12_2023\\\\Drift\\\\Conv_zscan__00--H0__set1--col1__Xhfits.npz',\n",
       "       '\\\\\\\\192.168.0.21\\\\bbfishdc21\\\\HttHuman_Snonia__06_12_2023\\\\Drift\\\\Conv_zscan__00--H0__set1--col2__Xhfits.npz',\n",
       "       '\\\\\\\\192.168.0.21\\\\bbfishdc21\\\\HttHuman_Snonia__06_12_2023\\\\Drift\\\\Conv_zscan__00--H0__set2--col0__Xhfits.npz',\n",
       "       '\\\\\\\\192.168.0.21\\\\bbfishdc21\\\\HttHuman_Snonia__06_12_2023\\\\Drift\\\\Conv_zscan__00--H0__set2--col1__Xhfits.npz',\n",
       "       '\\\\\\\\192.168.0.21\\\\bbfishdc21\\\\HttHuman_Snonia__06_12_2023\\\\Drift\\\\Conv_zscan__00--H0__set2--col2__Xhfits.npz',\n",
       "       '\\\\\\\\192.168.0.21\\\\bbfishdc21\\\\HttHuman_Snonia__06_12_2023\\\\Drift\\\\Conv_zscan__00--H0__set3--col0__Xhfits.npz',\n",
       "       '\\\\\\\\192.168.0.21\\\\bbfishdc21\\\\HttHuman_Snonia__06_12_2023\\\\Drift\\\\Conv_zscan__00--H0__set3--col1__Xhfits.npz',\n",
       "       '\\\\\\\\192.168.0.21\\\\bbfishdc21\\\\HttHuman_Snonia__06_12_2023\\\\Drift\\\\Conv_zscan__00--H0__set3--col2__Xhfits.npz',\n",
       "       '\\\\\\\\192.168.0.21\\\\bbfishdc21\\\\HttHuman_Snonia__06_12_2023\\\\Drift\\\\Conv_zscan__00--H0__set4--col0__Xhfits.npz',\n",
       "       '\\\\\\\\192.168.0.21\\\\bbfishdc21\\\\HttHuman_Snonia__06_12_2023\\\\Drift\\\\Conv_zscan__00--H0__set4--col1__Xhfits.npz',\n",
       "       '\\\\\\\\192.168.0.21\\\\bbfishdc21\\\\HttHuman_Snonia__06_12_2023\\\\Drift\\\\Conv_zscan__00--H0__set4--col2__Xhfits.npz',\n",
       "       '\\\\\\\\192.168.0.21\\\\bbfishdc21\\\\HttHuman_Snonia__06_12_2023\\\\Drift\\\\Conv_zscan__00--H0__set5--col0__Xhfits.npz',\n",
       "       '\\\\\\\\192.168.0.21\\\\bbfishdc21\\\\HttHuman_Snonia__06_12_2023\\\\Drift\\\\Conv_zscan__00--H0__set5--col1__Xhfits.npz',\n",
       "       '\\\\\\\\192.168.0.21\\\\bbfishdc21\\\\HttHuman_Snonia__06_12_2023\\\\Drift\\\\Conv_zscan__00--H0__set5--col2__Xhfits.npz',\n",
       "       '\\\\\\\\192.168.0.21\\\\bbfishdc21\\\\HttHuman_Snonia__06_12_2023\\\\Drift\\\\Conv_zscan__00--P3__Htt_CAG_B_polyA__set1--col0__Xhfits.npz',\n",
       "       '\\\\\\\\192.168.0.21\\\\bbfishdc21\\\\HttHuman_Snonia__06_12_2023\\\\Drift\\\\Conv_zscan__00--P3__Htt_CAG_B_polyA__set1--col1__Xhfits.npz',\n",
       "       '\\\\\\\\192.168.0.21\\\\bbfishdc21\\\\HttHuman_Snonia__06_12_2023\\\\Drift\\\\Conv_zscan__00--P3__Htt_CAG_B_polyA__set1--col2__Xhfits.npz',\n",
       "       '\\\\\\\\192.168.0.21\\\\bbfishdc21\\\\HttHuman_Snonia__06_12_2023\\\\Drift\\\\Conv_zscan__00--P3__Htt_CAG_B_polyA__set2--col0__Xhfits.npz',\n",
       "       '\\\\\\\\192.168.0.21\\\\bbfishdc21\\\\HttHuman_Snonia__06_12_2023\\\\Drift\\\\Conv_zscan__00--P3__Htt_CAG_B_polyA__set2--col1__Xhfits.npz'],\n",
       "      dtype='<U119')"
      ]
     },
     "execution_count": 25,
     "metadata": {},
     "output_type": "execute_result"
    }
   ],
   "source": [
    "_fls = np.sort(glob.glob(fit_folder+os.sep+'*'))\n",
    "_fls[:20]"
   ]
  },
  {
   "cell_type": "code",
   "execution_count": null,
   "id": "212585df-db5f-49bf-8e59-e9e0cfec6d50",
   "metadata": {},
   "outputs": [],
   "source": []
  },
  {
   "cell_type": "code",
   "execution_count": null,
   "id": "f6b797ff-fcfa-471e-85fb-2521673c9d8e",
   "metadata": {},
   "outputs": [],
   "source": []
  },
  {
   "cell_type": "code",
   "execution_count": 137,
   "id": "7ee660f7-8cb0-49c8-a631-b80b34c68b81",
   "metadata": {
    "tags": []
   },
   "outputs": [],
   "source": [
    "fov = 'Conv_zscan__30'\n",
    "set_ = '_set5'\n",
    "drift_fl = fit_folder+os.sep+'driftNew_'+fov+'--'+set_+'.pkl'\n",
    "fit_fl0 = fit_folder+os.sep+fov+'--P3__Htt_CAG_B_polyA_'+set_+'--col0__Xhfits.npz'\n",
    "fit_fl1 = fit_folder+os.sep+fov+'--P3__Htt_CAG_B_polyA_'+set_+'--col1__Xhfits.npz'\n",
    "Xh0 = np.load(fit_fl0,allow_pickle=True)['Xh']\n",
    "Xh1 = np.load(fit_fl1,allow_pickle=True)['Xh']\n",
    "Xh0f = Xh0[(Xh0[:,-1]>15000)&(Xh0[:,-2]>0.5),:]\n",
    "\n",
    "tree = cKDTree(Xh1[:,:3])\n",
    "d,inds = tree.query(Xh0f[:,:3])\n",
    "isd = d<2.5\n",
    "Xh1_ = Xh1[inds[isd]]\n",
    "Xh0f_ = Xh0f[isd]\n",
    "\n",
    "hCAG =  Xh1[inds,-1]\n",
    "hHTT = Xh0f[:,-1]\n",
    "hCAG[~isd]=np.min(hCAG)"
   ]
  },
  {
   "cell_type": "code",
   "execution_count": 140,
   "id": "297a6ea0-e64c-433b-8e7d-671a7cf92cb2",
   "metadata": {
    "tags": []
   },
   "outputs": [
    {
     "data": {
      "text/plain": [
       "(array([2136.,  536.,  489.,  385.,  272.,  146.,   66.,   24.,   10.,\n",
       "           3.]),\n",
       " array([ 8.18896484,  8.49905586,  8.80914593,  9.11923599,  9.42932701,\n",
       "         9.73941803, 10.04950809, 10.35959816, 10.66968918, 10.9797802 ,\n",
       "        11.28987026]),\n",
       " <BarContainer object of 10 artists>)"
      ]
     },
     "execution_count": 140,
     "metadata": {},
     "output_type": "execute_result"
    },
    {
     "data": {
      "image/png": "[encoded data removed]",
      "text/plain": [
       "<Figure size 640x480 with 1 Axes>"
      ]
     },
     "metadata": {},
     "output_type": "display_data"
    }
   ],
   "source": [
    "plt.hist(np.log(hCAG),bins=10)"
   ]
  },
  {
   "cell_type": "code",
   "execution_count": null,
   "id": "05de647a-4c9e-4d90-9ebf-92dae302ea21",
   "metadata": {},
   "outputs": [],
   "source": []
  },
  {
   "cell_type": "code",
   "execution_count": 253,
   "id": "c963c6c6-3899-4411-8547-5f673e15c750",
   "metadata": {
    "tags": []
   },
   "outputs": [
    {
     "name": "stderr",
     "output_type": "stream",
     "text": [
      "100%|██████████████████████████████████████████████████████████████████████████████████| 36/36 [01:52<00:00,  3.14s/it]\n",
      "100%|██████████████████████████████████████████████████████████████████████████████████| 36/36 [01:52<00:00,  3.12s/it]\n"
     ]
    }
   ],
   "source": [
    "import napari\n",
    "def get_med_color(save_folder=r'\\\\192.168.0.21\\bbfishdc21\\HttHuman_Snonia__06_12_2023\\MERFISH_Analysis_group1',icol=0):\n",
    "    fl_med = save_folder+os.sep+'med_col_raw'+str(icol)+'.npz'\n",
    "    im_med = np.array(np.load(fl_med)['im'],dtype=np.float32)\n",
    "    im_med = cv2.blur(im_med,(20,20))\n",
    "    return im_med\n",
    "def sample_im(imCAG__,X,s=2):\n",
    "    X_ = np.round(X).astype(int)[:,np.newaxis]\n",
    "    Xi = (np.indices([2*s+1]*3)-s).reshape([3,-1]).T\n",
    "    Xi = Xi[np.sum(Xi*Xi,-1)<=s*s]\n",
    "    Xi = Xi[np.newaxis]\n",
    "    X_ = X_+Xi\n",
    "    sh = np.array(imCAG__.shape)-1\n",
    "    X_=np.abs(X_)\n",
    "    iz = 0\n",
    "    for iz in range(X_.shape[-1]):\n",
    "        X_[...,iz][X_[...,iz]>sh[iz]]=sh[iz]-(X_[...,iz][X_[...,iz]>sh[iz]]-sh[iz])\n",
    "    return imCAG__[(X_[...,0],X_[...,1],X_[...,2])]\n",
    "fl = r'\\\\192.168.0.96\\bbfish124\\HttHuman_Snonia__06_12_2023\\P3__Htt_CAG_B_polyA_'+set_+os.sep+fov+'.zarr'\n",
    "im = read_im(fl)\n",
    "imCAG = np.array(im[1],dtype=np.float32)\n",
    "im_med = get_med_color(icol=1)\n",
    "imCAG = imCAG/im_med*np.median(im_med)\n",
    "\n",
    "#imCAG_ = full_deconv(imCAG,s_=500,pad=100,psf=np.load(r'C:\\Scripts\\NMERFISH\\psfs\\psf_750_Scope3_final.npy'),\n",
    "#            parameters={'method': 'wiener', 'beta': 0.001, 'niter': 50},gpu=True,force=False)\n",
    "imCAG__ = full_deconv(imCAG,s_=500,pad=100,psf=np.load(r'C:\\Scripts\\NMERFISH\\psfs\\psf_750_Scope3_final.npy'),\n",
    "            parameters={'method': 'lucy', 'beta': 0.001, 'niter': 50},gpu=True,force=False)\n",
    "\n",
    "imHTT = np.array(im[0],dtype=np.float32)\n",
    "im_med = get_med_color(icol=0)\n",
    "imHTT = imHTT/im_med*np.median(im_med)\n",
    "imHTT__ = full_deconv(imHTT,s_=500,pad=100,psf=np.load(r'C:\\Scripts\\NMERFISH\\psfs\\psf_750_Scope3_final.npy'),\n",
    "            parameters={'method': 'lucy', 'beta': 0.001, 'niter': 50},gpu=True,force=False)\n",
    "imHTT__n = norm_slice(imHTT__,s=30)\n",
    "XhHTT = get_local_maxfast_tensor(imHTT__n,th_fit=12000,im_raw=imHTT__,dic_psf=None,delta=1,delta_fit=3,sigmaZ=1,sigmaXY=1.5,gpu=False)"
   ]
  },
  {
   "cell_type": "code",
   "execution_count": 283,
   "id": "c7ddc489-c40c-441c-a7fe-e3a9ff5a29f0",
   "metadata": {
    "tags": []
   },
   "outputs": [],
   "source": [
    "X = XhHTT[:,:3]\n",
    "h_CAG_ = np.max(sample_im(imCAG__,X,s=2),axis=-1)-np.min(sample_im(imCAG__,X,s=4),axis=-1)\n",
    "h_HTT_= np.max(sample_im(imHTT__,X,s=2),axis=-1)-np.min(sample_im(imHTT__,X,s=4),axis=-1)"
   ]
  },
  {
   "cell_type": "code",
   "execution_count": 292,
   "id": "994c3aa5-f91f-41df-89ab-36731083c922",
   "metadata": {
    "tags": []
   },
   "outputs": [
    {
     "data": {
      "text/plain": [
       "[<matplotlib.lines.Line2D at 0x25a59c9f160>]"
      ]
     },
     "execution_count": 292,
     "metadata": {},
     "output_type": "execute_result"
    },
    {
     "data": {
      "image/png": "[encoded data removed]",
      "text/plain": [
       "<Figure size 640x480 with 1 Axes>"
      ]
     },
     "metadata": {},
     "output_type": "display_data"
    }
   ],
   "source": [
    "plt.loglog(h_CAG_,h_HTT_,'o')"
   ]
  },
  {
   "cell_type": "code",
   "execution_count": 289,
   "id": "cfd65f81-7173-448d-ad8d-2b7b3b9d98e9",
   "metadata": {
    "tags": []
   },
   "outputs": [],
   "source": [
    "#set_"
   ]
  },
  {
   "cell_type": "code",
   "execution_count": 287,
   "id": "e0397b72-b15b-4231-b6f9-bb79a901181d",
   "metadata": {
    "tags": []
   },
   "outputs": [
    {
     "data": {
      "text/plain": [
       "(array([  1.,   0.,   1.,   0.,   0.,   0.,   1.,   1.,   1.,   4.,   1.,\n",
       "          3.,   6.,   6.,   4.,  16.,  24.,  21.,  32.,  26.,  28.,  52.,\n",
       "         49.,  45.,  46.,  61.,  84.,  66.,  64.,  97.,  83.,  69., 102.,\n",
       "         87.,  89., 100., 118., 116., 111., 127.,  98., 104., 108.,  98.,\n",
       "        124.,  92., 104.,  71.,  91.,  84.,  61.,  98.,  70.,  53.,  57.,\n",
       "         63.,  51.,  45.,  45.,  35.,  31.,  30.,  38.,  27.,  22.,  26.,\n",
       "         23.,  21.,  21.,  14.,  13.,  13.,   3.,   8.,   6.,   4.,   2.,\n",
       "          7.,  10.,   5.,   2.,   4.,   3.,   5.,   3.,   6.,   3.,   2.,\n",
       "          1.,   1.,   2.,   1.,   1.,   0.,   0.,   0.,   0.,   0.,   0.,\n",
       "          1.]),\n",
       " array([ 5.71318054,  5.76387882,  5.81457758,  5.86527586,  5.91597414,\n",
       "         5.9666729 ,  6.01737118,  6.06806946,  6.11876774,  6.1694665 ,\n",
       "         6.22016478,  6.27086306,  6.32156181,  6.37226009,  6.42295837,\n",
       "         6.47365665,  6.52435541,  6.57505369,  6.62575197,  6.67645073,\n",
       "         6.72714901,  6.77784729,  6.82854605,  6.87924433,  6.92994261,\n",
       "         6.98064137,  7.03133965,  7.08203793,  7.13273621,  7.18343496,\n",
       "         7.23413324,  7.28483152,  7.33553028,  7.38622856,  7.43692684,\n",
       "         7.48762512,  7.53832388,  7.58902216,  7.63972044,  7.6904192 ,\n",
       "         7.74111748,  7.79181576,  7.84251451,  7.8932128 ,  7.94391108,\n",
       "         7.99460983,  8.04530811,  8.09600639,  8.14670467,  8.19740295,\n",
       "         8.24810219,  8.29880047,  8.34949875,  8.40019703,  8.45089531,\n",
       "         8.50159359,  8.55229187,  8.6029911 ,  8.65368938,  8.70438766,\n",
       "         8.75508595,  8.80578423,  8.85648251,  8.90718079,  8.95788002,\n",
       "         9.0085783 ,  9.05927658,  9.10997486,  9.16067314,  9.21137142,\n",
       "         9.2620697 ,  9.31276894,  9.36346722,  9.4141655 ,  9.46486378,\n",
       "         9.51556206,  9.56626034,  9.61695957,  9.66765785,  9.71835613,\n",
       "         9.76905441,  9.81975269,  9.87045097,  9.92114925,  9.97184849,\n",
       "        10.02254677, 10.07324505, 10.12394333, 10.17464161, 10.22533989,\n",
       "        10.27603912, 10.3267374 , 10.37743568, 10.42813396, 10.47883224,\n",
       "        10.52953053, 10.58022881, 10.63092804, 10.68162632, 10.7323246 ,\n",
       "        10.78302288]),\n",
       " <BarContainer object of 100 artists>)"
      ]
     },
     "execution_count": 287,
     "metadata": {},
     "output_type": "execute_result"
    },
    {
     "data": {
      "image/png": "[encoded data removed]",
      "text/plain": [
       "<Figure size 640x480 with 1 Axes>"
      ]
     },
     "metadata": {},
     "output_type": "display_data"
    }
   ],
   "source": [
    "plt.hist(np.log(h_CAG_),bins=100)"
   ]
  },
  {
   "cell_type": "code",
   "execution_count": 278,
   "id": "82760476-8b4b-48f4-8a3f-cd47dcb70e3c",
   "metadata": {
    "tags": []
   },
   "outputs": [],
   "source": [
    "#plt.hist(np.log(XhHTT[:,-1]),bins=20);"
   ]
  },
  {
   "cell_type": "code",
   "execution_count": 279,
   "id": "898a9248-743e-470f-84bc-4e7d1fcd493c",
   "metadata": {
    "tags": []
   },
   "outputs": [],
   "source": [
    "#np.exp(9.5)"
   ]
  },
  {
   "cell_type": "code",
   "execution_count": 275,
   "id": "ff799b1a-b73b-4370-8a9f-9756e3463f00",
   "metadata": {
    "tags": []
   },
   "outputs": [
    {
     "data": {
      "text/plain": [
       "<Points layer 'X' at 0x25a645c5fa0>"
      ]
     },
     "execution_count": 275,
     "metadata": {},
     "output_type": "execute_result"
    }
   ],
   "source": [
    "vv = napari.view_image(imCAG__)\n",
    "vv.add_image(imHTT__)\n",
    "X = XhHTT[:,:3]\n",
    "s = np.clip(XhHTT[:,-1]/15000,0,1)*4\n",
    "vv.add_points(X,face_color=[0,0,0,0],edge_color='g',size=s)"
   ]
  },
  {
   "cell_type": "code",
   "execution_count": 250,
   "id": "61f9f180-4510-4da2-aceb-6bb1b39f1d45",
   "metadata": {
    "tags": []
   },
   "outputs": [
    {
     "data": {
      "text/plain": [
       "<Image layer 'imHTT__' at 0x2587196b970>"
      ]
     },
     "execution_count": 250,
     "metadata": {},
     "output_type": "execute_result"
    }
   ],
   "source": [
    "vv = napari.view_image(imCAG__)\n",
    "vv.add_image(imHTT__)"
   ]
  },
  {
   "cell_type": "code",
   "execution_count": null,
   "id": "34b950c1-4fe4-4c84-9acb-3cb026d7ec2e",
   "metadata": {},
   "outputs": [],
   "source": [
    "np.load()"
   ]
  },
  {
   "cell_type": "code",
   "execution_count": 124,
   "id": "f17bf8f1-8eae-4d6c-b726-7cabceb054fe",
   "metadata": {
    "tags": []
   },
   "outputs": [
    {
     "data": {
      "text/plain": [
       "<Points layer 'X [1]' at 0x25534144f10>"
      ]
     },
     "execution_count": 124,
     "metadata": {},
     "output_type": "execute_result"
    }
   ],
   "source": [
    "vv = napari.view_image(imCAG__)\n",
    "vv.add_image(imHTT__)\n",
    "\n",
    "X = Xh1_[:,:3]\n",
    "s = Xh1_[:,-1]/15000*10\n",
    "vv.add_points(X,face_color=[0,0,0,0],edge_color='g',size=s)\n",
    "X = Xh0f[:,:3]\n",
    "s = Xh0f[:,-1]/50000*10\n",
    "vv.add_points(X,face_color=[0,0,0,0],edge_color='r',size=s)"
   ]
  },
  {
   "cell_type": "code",
   "execution_count": 142,
   "id": "f0f5b5d5-5a00-43f6-bd91-9707fffe7fca",
   "metadata": {
    "tags": []
   },
   "outputs": [],
   "source": []
  },
  {
   "cell_type": "code",
   "execution_count": 219,
   "id": "198f45f5-bfee-4655-a114-b85966141749",
   "metadata": {
    "tags": []
   },
   "outputs": [],
   "source": [
    "\n",
    "def sample_im(imCAG__,X,s=2):\n",
    "    X_ = np.round(X).astype(int)[:,np.newaxis]\n",
    "    Xi = (np.indices([2*s+1]*3)-s).reshape([3,-1]).T\n",
    "    Xi = Xi[np.sum(Xi*Xi,-1)<=s*s]\n",
    "    Xi = Xi[np.newaxis]\n",
    "    X_ = X_+Xi\n",
    "    sh = np.array(imCAG__.shape)-1\n",
    "    X_=np.abs(X_)\n",
    "    iz = 0\n",
    "    for iz in range(X_.shape[-1]):\n",
    "        X_[...,iz][X_[...,iz]>sh[iz]]=sh[iz]-(X_[...,iz][X_[...,iz]>sh[iz]]-sh[iz])\n",
    "    return imCAG__[(X_[...,0],X_[...,1],X_[...,2])]\n"
   ]
  },
  {
   "cell_type": "code",
   "execution_count": 231,
   "id": "729c7fc2-4862-4962-bf73-b104568085ed",
   "metadata": {
    "tags": []
   },
   "outputs": [
    {
     "data": {
      "text/plain": [
       "[<matplotlib.lines.Line2D at 0x258665ef790>]"
      ]
     },
     "execution_count": 231,
     "metadata": {},
     "output_type": "execute_result"
    },
    {
     "data": {
      "image/png": "[encoded data removed]",
      "text/plain": [
       "<Figure size 640x480 with 1 Axes>"
      ]
     },
     "metadata": {},
     "output_type": "display_data"
    }
   ],
   "source": [
    "plt.loglog(h_HTT_,h_CAG_,'.')"
   ]
  },
  {
   "cell_type": "code",
   "execution_count": 241,
   "id": "f9e7a010-73c4-474e-84b5-726df3c3c1d8",
   "metadata": {
    "tags": []
   },
   "outputs": [
    {
     "data": {
      "text/plain": [
       "22026.465794806718"
      ]
     },
     "execution_count": 241,
     "metadata": {},
     "output_type": "execute_result"
    }
   ],
   "source": [
    "np.exp(10)"
   ]
  },
  {
   "cell_type": "code",
   "execution_count": 239,
   "id": "2cedbee0-12a9-4008-b189-059874e92e4a",
   "metadata": {
    "tags": []
   },
   "outputs": [
    {
     "data": {
      "text/plain": [
       "(array([ 1.,  1.,  0.,  6.,  3.,  3.,  6.,  9., 16., 23., 23., 21., 24.,\n",
       "        32., 34., 49., 43., 50., 40., 32., 41., 76., 62., 56., 53., 74.,\n",
       "        68., 72., 61., 71., 59., 51., 67., 67., 74., 66., 64., 72., 79.,\n",
       "        71., 58., 69., 77., 59., 62., 72., 63., 69., 63., 71., 82., 70.,\n",
       "        65., 57., 61., 91., 63., 88., 77., 57., 73., 75., 73., 63., 62.,\n",
       "        55., 57., 50., 32., 41., 41., 29., 45., 43., 43., 27., 21., 28.,\n",
       "        19., 16., 15., 12., 15.,  5.,  5.,  3.,  5.,  6.,  5.,  0.,  2.,\n",
       "         1.,  2.,  1.,  1.,  0.,  0.,  0.,  0.,  2.]),\n",
       " array([ 8.33191299,  8.37621498,  8.42051601,  8.464818  ,  8.50911999,\n",
       "         8.55342102,  8.59772301,  8.64202499,  8.68632698,  8.73062801,\n",
       "         8.77493   ,  8.81923199,  8.86353302,  8.90783501,  8.95213699,\n",
       "         8.99643803,  9.04074001,  9.085042  ,  9.12934303,  9.17364502,\n",
       "         9.21794701,  9.26224804,  9.30655003,  9.35085201,  9.395154  ,\n",
       "         9.43945503,  9.48375702,  9.52805901,  9.57236004,  9.61666203,\n",
       "         9.66096401,  9.70526505,  9.74956703,  9.79386902,  9.83817005,\n",
       "         9.88247204,  9.92677402,  9.97107601, 10.01537704, 10.05967903,\n",
       "        10.10398102, 10.14828205, 10.19258404, 10.23688602, 10.28118706,\n",
       "        10.32548904, 10.36979103, 10.41409206, 10.45839405, 10.50269604,\n",
       "        10.54699707, 10.59129906, 10.63560104, 10.67990303, 10.72420406,\n",
       "        10.76850605, 10.81280804, 10.85710907, 10.90141106, 10.94571304,\n",
       "        10.99001408, 11.03431606, 11.07861805, 11.12291908, 11.16722107,\n",
       "        11.21152306, 11.25582504, 11.30012608, 11.34442806, 11.38873005,\n",
       "        11.43303108, 11.47733307, 11.52163506, 11.56593609, 11.61023808,\n",
       "        11.65454006, 11.69884109, 11.74314308, 11.78744507, 11.83174706,\n",
       "        11.87604809, 11.92035007, 11.96465206, 12.00895309, 12.05325508,\n",
       "        12.09755707, 12.1418581 , 12.18616009, 12.23046207, 12.27476311,\n",
       "        12.31906509, 12.36336708, 12.40766811, 12.4519701 , 12.49627209,\n",
       "        12.54057407, 12.58487511, 12.62917709, 12.67347908, 12.71778011,\n",
       "        12.7620821 ]),\n",
       " <BarContainer object of 100 artists>)"
      ]
     },
     "execution_count": 239,
     "metadata": {},
     "output_type": "execute_result"
    },
    {
     "data": {
      "image/png": "[encoded data removed]",
      "text/plain": [
       "<Figure size 640x480 with 1 Axes>"
      ]
     },
     "metadata": {},
     "output_type": "display_data"
    }
   ],
   "source": [
    "plt.hist(np.log(h_HTT_),bins=100)"
   ]
  },
  {
   "cell_type": "code",
   "execution_count": 220,
   "id": "6132cc3c-0510-4b52-a3b9-0ae0c031a73b",
   "metadata": {
    "tags": []
   },
   "outputs": [],
   "source": [
    "X = Xh0f[:,:3]\n",
    "h_CAG_ = np.max(sample_im(imCAG__,X,s=2),axis=-1)-np.min(sample_im(imCAG__,X,s=4),axis=-1)\n",
    "h_HTT_= np.max(sample_im(imHTT__,X,s=2),axis=-1)-np.min(sample_im(imHTT__,X,s=4),axis=-1)"
   ]
  },
  {
   "cell_type": "code",
   "execution_count": 217,
   "id": "315ec076-3863-44fe-bf3e-3a537b1d8724",
   "metadata": {
    "tags": []
   },
   "outputs": [],
   "source": [
    "h_CAG_ = np.max(imCAG__[(X_[...,0],X_[...,1],X_[...,2])],axis=-1)\n",
    "h_HTT_ = np.max(imHTT__[(X_[...,0],X_[...,1],X_[...,2])],axis=-1)\n"
   ]
  },
  {
   "cell_type": "code",
   "execution_count": 224,
   "id": "7af9d46d-c54a-4718-aa50-8781d2a27bfe",
   "metadata": {
    "tags": []
   },
   "outputs": [
    {
     "data": {
      "text/plain": [
       "(array([ 2.,  2.,  2.,  3.,  4.,  8.,  3., 10., 11., 15., 12., 24., 20.,\n",
       "        33., 36., 36., 25., 35., 42., 43., 54., 50., 54., 49., 58., 61.,\n",
       "        68., 63., 80., 61., 76., 78., 86., 74., 82., 95., 82., 80., 90.,\n",
       "        82., 85., 85., 89., 87., 87., 77., 82., 87., 77., 89., 81., 76.,\n",
       "        75., 73., 61., 82., 68., 63., 43., 56., 50., 48., 51., 40., 39.,\n",
       "        50., 46., 33., 33., 39., 39., 18., 30., 22., 22., 25., 25., 18.,\n",
       "        23., 19., 19., 12.,  9.,  7.,  5.,  4.,  5.,  3.,  3.,  6.,  1.,\n",
       "         3.,  1.,  2.,  1.,  1.,  1.,  0.,  0.,  2.]),\n",
       " array([-4.78913879, -4.7377677 , -4.6863966 , -4.6350255 , -4.58365393,\n",
       "        -4.53228283, -4.48091173, -4.42954063, -4.37816954, -4.32679844,\n",
       "        -4.27542734, -4.22405624, -4.17268467, -4.12131357, -4.06994247,\n",
       "        -4.01857138, -3.96720028, -3.91582894, -3.86445785, -3.81308675,\n",
       "        -3.76171565, -3.71034431, -3.65897322, -3.60760212, -3.55623078,\n",
       "        -3.50485969, -3.45348859, -3.40211749, -3.35074615, -3.29937506,\n",
       "        -3.24800396, -3.19663286, -3.14526153, -3.09389043, -3.04251933,\n",
       "        -2.99114799, -2.9397769 , -2.8884058 , -2.8370347 , -2.78566337,\n",
       "        -2.73429227, -2.68292117, -2.63155007, -2.58017874, -2.52880764,\n",
       "        -2.47743654, -2.42606521, -2.37469411, -2.32332301, -2.27195191,\n",
       "        -2.22058058, -2.16920948, -2.11783838, -2.06646729, -2.01509595,\n",
       "        -1.96372485, -1.91235363, -1.86098254, -1.80961132, -1.75824022,\n",
       "        -1.70686901, -1.65549791, -1.60412669, -1.55275559, -1.50138438,\n",
       "        -1.45001328, -1.39864206, -1.34727085, -1.29589975, -1.24452853,\n",
       "        -1.19315743, -1.14178622, -1.09041512, -1.0390439 , -0.98767275,\n",
       "        -0.93630159, -0.88493043, -0.83355927, -0.78218812, -0.73081696,\n",
       "        -0.6794458 , -0.62807465, -0.57670349, -0.52533233, -0.47396114,\n",
       "        -0.42258999, -0.37121883, -0.31984764, -0.26847649, -0.21710533,\n",
       "        -0.16573417, -0.114363  , -0.06299184, -0.01162068,  0.03975048,\n",
       "         0.09112164,  0.14249282,  0.19386397,  0.24523513,  0.2966063 ,\n",
       "         0.34797746]),\n",
       " <BarContainer object of 100 artists>)"
      ]
     },
     "execution_count": 224,
     "metadata": {},
     "output_type": "execute_result"
    },
    {
     "data": {
      "image/png": "[encoded data removed]",
      "text/plain": [
       "<Figure size 640x480 with 1 Axes>"
      ]
     },
     "metadata": {},
     "output_type": "display_data"
    }
   ],
   "source": [
    "plt.hist(np.log(h_CAG_/h_HTT_),bins=100)"
   ]
  },
  {
   "cell_type": "code",
   "execution_count": 221,
   "id": "2f7f5a93-5ed4-49f6-a22d-aa53fc10c372",
   "metadata": {
    "tags": []
   },
   "outputs": [
    {
     "data": {
      "text/plain": [
       "[<matplotlib.lines.Line2D at 0x258720e5eb0>]"
      ]
     },
     "execution_count": 221,
     "metadata": {},
     "output_type": "execute_result"
    },
    {
     "data": {
      "image/png": "[encoded data removed]",
      "text/plain": [
       "<Figure size 640x480 with 1 Axes>"
      ]
     },
     "metadata": {},
     "output_type": "display_data"
    }
   ],
   "source": [
    "plt.loglog(Xh0f[:,-1],h_HTT_,'o')"
   ]
  },
  {
   "cell_type": "code",
   "execution_count": 192,
   "id": "33455913-3df6-49df-a244-c51f3716ce47",
   "metadata": {
    "tags": []
   },
   "outputs": [
    {
     "data": {
      "text/plain": [
       "(array([ 2.,  0.,  0.,  2.,  2.,  4.,  6.,  3.,  5., 15.,  5., 17.,  8.,\n",
       "        12., 14., 30., 31., 25., 28., 26., 36., 30., 42., 54., 58., 53.,\n",
       "        41., 52., 66., 56., 64., 57., 50., 78., 66., 62., 77., 91., 66.,\n",
       "        83., 86., 65., 93., 67., 90., 78., 95., 66., 90., 69., 83., 78.,\n",
       "        68., 64., 83., 77., 80., 71., 64., 70., 67., 63., 63., 42., 48.,\n",
       "        55., 56., 45., 54., 51., 42., 50., 43., 33., 43., 38., 31., 46.,\n",
       "        22., 24., 29., 32., 29., 16., 15., 16., 13., 10.,  9.,  5.,  2.,\n",
       "        10.,  2.,  1.,  1.,  4.,  0.,  1.,  1.,  1.]),\n",
       " array([-4.04095125, -3.99696946, -3.95298767, -3.90900588, -3.86502409,\n",
       "        -3.8210423 , -3.77706051, -3.73307872, -3.68909693, -3.64511514,\n",
       "        -3.60113335, -3.55715132, -3.51316953, -3.46918774, -3.42520595,\n",
       "        -3.38122416, -3.33724236, -3.29326057, -3.24927878, -3.20529699,\n",
       "        -3.1613152 , -3.11733341, -3.07335162, -3.02936983, -2.98538804,\n",
       "        -2.94140625, -2.89742446, -2.85344267, -2.80946088, -2.76547909,\n",
       "        -2.7214973 , -2.67751551, -2.63353372, -2.58955169, -2.5455699 ,\n",
       "        -2.50158811, -2.45760632, -2.41362453, -2.36964273, -2.32566094,\n",
       "        -2.28167915, -2.23769736, -2.19371557, -2.14973378, -2.10575199,\n",
       "        -2.0617702 , -2.01778841, -1.97380662, -1.92982483, -1.88584292,\n",
       "        -1.84186113, -1.79787934, -1.75389755, -1.70991576, -1.66593397,\n",
       "        -1.62195218, -1.57797039, -1.5339886 , -1.4900068 , -1.44602501,\n",
       "        -1.4020431 , -1.35806131, -1.31407952, -1.27009773, -1.22611594,\n",
       "        -1.18213415, -1.13815236, -1.09417057, -1.05018878, -1.00620699,\n",
       "        -0.96222514, -0.91824335, -0.87426156, -0.83027971, -0.78629792,\n",
       "        -0.74231613, -0.69833434, -0.65435255, -0.61037076, -0.56638891,\n",
       "        -0.52240711, -0.47842532, -0.43444353, -0.39046171, -0.34647992,\n",
       "        -0.30249813, -0.25851631, -0.21453452, -0.17055272, -0.12657091,\n",
       "        -0.08258911, -0.03860731,  0.00537449,  0.04935629,  0.09333809,\n",
       "         0.13731989,  0.1813017 ,  0.2252835 ,  0.26926529,  0.31324711,\n",
       "         0.3572289 ]),\n",
       " <BarContainer object of 100 artists>)"
      ]
     },
     "execution_count": 192,
     "metadata": {},
     "output_type": "execute_result"
    },
    {
     "data": {
      "image/png": "[encoded data removed]",
      "text/plain": [
       "<Figure size 640x480 with 1 Axes>"
      ]
     },
     "metadata": {},
     "output_type": "display_data"
    }
   ],
   "source": [
    "plt.hist(np.log(h_CAG_/h_HTT_),bins=100)"
   ]
  },
  {
   "cell_type": "code",
   "execution_count": 126,
   "id": "f7f35209-1f1a-4372-986a-97b7ea90263b",
   "metadata": {
    "tags": []
   },
   "outputs": [
    {
     "data": {
      "text/plain": [
       "array([[3.2001066e+00, 3.7695172e+02, 1.5396489e+02, ..., 4.0830000e+03,\n",
       "        8.2003462e-01, 2.6079887e+04],\n",
       "       [3.7798200e+00, 3.2914337e+02, 1.9209830e+02, ..., 4.4820000e+03,\n",
       "        8.6015195e-01, 3.2923758e+04],\n",
       "       [4.6600924e+00, 3.4921350e+02, 1.8898468e+02, ..., 1.2595000e+04,\n",
       "        7.7243078e-01, 1.2143288e+05],\n",
       "       ...,\n",
       "       [1.3111326e+01, 2.5709280e+03, 2.5820034e+03, ..., 2.9510000e+03,\n",
       "        8.0552953e-01, 2.8353604e+04],\n",
       "       [1.6178209e+01, 2.6157834e+03, 2.9770613e+03, ..., 2.5190000e+03,\n",
       "        6.8203729e-01, 2.1842807e+04],\n",
       "       [1.6844162e+01, 2.6149453e+03, 2.9760940e+03, ..., 2.8410000e+03,\n",
       "        7.5194257e-01, 2.3906434e+04]], dtype=float32)"
      ]
     },
     "execution_count": 126,
     "metadata": {},
     "output_type": "execute_result"
    }
   ],
   "source": []
  },
  {
   "cell_type": "code",
   "execution_count": null,
   "id": "a031e630-7099-4f93-b2cc-9a1ec27b14d2",
   "metadata": {},
   "outputs": [],
   "source": []
  },
  {
   "cell_type": "code",
   "execution_count": null,
   "id": "2f3bbef0-14cd-4f7b-ba71-e7462bd0f33a",
   "metadata": {},
   "outputs": [],
   "source": []
  },
  {
   "cell_type": "code",
   "execution_count": 68,
   "id": "1c7d4327-6105-417b-a689-34bfc1a03682",
   "metadata": {
    "tags": []
   },
   "outputs": [],
   "source": [
    "drft,flds,fov_,fl_ref = np.load(drift_fl,allow_pickle=True)"
   ]
  },
  {
   "cell_type": "code",
   "execution_count": 103,
   "id": "ac6105a6-c5b7-45e9-9db4-c67a89aa4bfb",
   "metadata": {
    "tags": []
   },
   "outputs": [
    {
     "name": "stderr",
     "output_type": "stream",
     "text": [
      "100%|██████████████████████████████████████████████████████████████████████████████████| 36/36 [00:04<00:00,  7.82it/s]\n"
     ]
    }
   ],
   "source": [
    "drft_CAG,fld_CAG = [(drft_[0],fld) for drft_,fld in zip(drft,flds) if 'Htt_CAG' in os.path.basename(fld)][0]\n",
    "drft_Ab,fld_Ab = [(drft_[0],fld) for drft_,fld in zip(drft,flds) if 'LamA_' in os.path.basename(fld)][0]\n",
    "im_Ab = np.array(read_im(fld_Ab+os.sep+fov_)[0],dtype=np.float32)\n",
    "im_Ab_ = full_deconv(im_Ab,s_=500,pad=100,psf=np.load(r'C:\\Scripts\\NMERFISH\\psfs\\psf_750_Scope3_final.npy'),\n",
    "            parameters={'method': 'wiener', 'beta': 0.001, 'niter': 50},gpu=True,force=False)\n",
    "tzxyAb = np.round(drft_CAG-drft_Ab).astype(int)\n",
    "im_Ab_T = np.roll(im_Ab_,-tzxyAb,axis=[0,1,2])\n"
   ]
  },
  {
   "cell_type": "code",
   "execution_count": 106,
   "id": "2d7370f2-3116-492f-941a-a98fdb231669",
   "metadata": {
    "tags": []
   },
   "outputs": [
    {
     "name": "stderr",
     "output_type": "stream",
     "text": [
      "100%|██████████████████████████████████████████████████████████████████████████████████| 36/36 [00:04<00:00,  7.80it/s]\n"
     ]
    }
   ],
   "source": [
    "drft_CAG,fld_CAG = [(drft_[0],fld) for drft_,fld in zip(drft,flds) if 'Htt_CAG' in os.path.basename(fld)][0]\n",
    "drft_Ab,fld_Ab = [(drft_[0],fld) for drft_,fld in zip(drft,flds) if 'Htt_Nup98' in os.path.basename(fld)][0]\n",
    "im_Ab = np.array(read_im(fld_Ab+os.sep+fov_)[1],dtype=np.float32)\n",
    "im_Ab_ = full_deconv(im_Ab,s_=500,pad=100,psf=np.load(r'C:\\Scripts\\NMERFISH\\psfs\\psf_750_Scope3_final.npy'),\n",
    "            parameters={'method': 'wiener', 'beta': 0.001, 'niter': 50},gpu=True,force=False)\n",
    "tzxyAb = np.round(drft_CAG-drft_Ab).astype(int)\n",
    "im_Ab_T = np.roll(im_Ab_,-tzxyAb,axis=[0,1,2])\n"
   ]
  },
  {
   "cell_type": "code",
   "execution_count": 108,
   "id": "b28dd8e4-77e9-48d6-be60-2983b3e9a117",
   "metadata": {
    "tags": []
   },
   "outputs": [
    {
     "name": "stderr",
     "output_type": "stream",
     "text": [
      "100%|██████████████████████████████████████████████████████████████████████████████████| 36/36 [00:04<00:00,  7.98it/s]\n"
     ]
    }
   ],
   "source": [
    "drft_CAG,fld_CAG = [(drft_[0],fld) for drft_,fld in zip(drft,flds) if 'Htt_CAG' in os.path.basename(fld)][0]\n",
    "drft_Ab,fld_Ab = [(drft_[0],fld) for drft_,fld in zip(drft,flds) if 'SC35_gH2AX' in os.path.basename(fld)][0]\n",
    "im_Ab = np.array(read_im(fld_Ab+os.sep+fov_)[1],dtype=np.float32)\n",
    "im_Ab_ = full_deconv(im_Ab,s_=500,pad=100,psf=np.load(r'C:\\Scripts\\NMERFISH\\psfs\\psf_750_Scope3_final.npy'),\n",
    "            parameters={'method': 'wiener', 'beta': 0.001, 'niter': 50},gpu=True,force=False)\n",
    "tzxyAb = np.round(drft_CAG-drft_Ab).astype(int)\n",
    "im_Ab_T = np.roll(im_Ab_,-tzxyAb,axis=[0,1,2])\n"
   ]
  },
  {
   "cell_type": "code",
   "execution_count": 111,
   "id": "485b278a-4c0c-4a9f-baa5-e18a9710f7ad",
   "metadata": {
    "tags": []
   },
   "outputs": [
    {
     "name": "stderr",
     "output_type": "stream",
     "text": [
      "100%|██████████████████████████████████████████████████████████████████████████████████| 36/36 [00:04<00:00,  7.94it/s]\n"
     ]
    }
   ],
   "source": [
    "drft_CAG,fld_CAG = [(drft_[0],fld) for drft_,fld in zip(drft,flds) if 'Htt_CAG' in os.path.basename(fld)][0]\n",
    "drft_Ab,fld_Ab = [(drft_[0],fld) for drft_,fld in zip(drft,flds) if 'gH2AX_PSMB5' in os.path.basename(fld)][0]\n",
    "im_Ab = np.array(read_im(fld_Ab+os.sep+fov_)[0],dtype=np.float32)\n",
    "im_Ab_ = full_deconv(im_Ab,s_=500,pad=100,psf=np.load(r'C:\\Scripts\\NMERFISH\\psfs\\psf_750_Scope3_final.npy'),\n",
    "            parameters={'method': 'wiener', 'beta': 0.001, 'niter': 50},gpu=True,force=False)\n",
    "tzxyAb = np.round(drft_CAG-drft_Ab).astype(int)\n",
    "im_Ab_T = np.roll(im_Ab_,-tzxyAb,axis=[0,1,2])\n"
   ]
  },
  {
   "cell_type": "code",
   "execution_count": 114,
   "id": "ee324ea6-fd11-48de-bc40-b08ac6cd7027",
   "metadata": {
    "tags": []
   },
   "outputs": [
    {
     "data": {
      "text/plain": [
       "['\\\\\\\\192.168.0.21\\\\bbfishdc21\\\\HttHuman_Snonia__06_12_2023\\\\H1_MER2col__set5',\n",
       " '\\\\\\\\192.168.0.21\\\\bbfishdc21\\\\HttHuman_Snonia__06_12_2023\\\\H13_MER2col__set5',\n",
       " '\\\\\\\\192.168.0.96\\\\bbfish124\\\\HttHuman_Snonia__06_12_2023\\\\H25_MER2col__set5',\n",
       " '\\\\\\\\192.168.0.21\\\\bbfishdc21\\\\HttHuman_Snonia__06_12_2023\\\\H37_MER2col__set5',\n",
       " '\\\\\\\\192.168.0.96\\\\bbfish124\\\\HttHuman_Snonia__06_12_2023\\\\H49_MER2col__set5',\n",
       " '\\\\\\\\192.168.0.96\\\\bbfish124\\\\HttHuman_Snonia__06_12_2023\\\\H61_MER2col__set5',\n",
       " '\\\\\\\\192.168.0.21\\\\bbfishdc21\\\\HttHuman_Snonia__06_12_2023\\\\H0__set5',\n",
       " '\\\\\\\\192.168.0.21\\\\bbfishdc21\\\\HttHuman_Snonia__06_12_2023\\\\A1_Htt_Nup98__set5',\n",
       " '\\\\\\\\192.168.0.21\\\\bbfishdc21\\\\HttHuman_Snonia__06_12_2023\\\\A2_LamA_B__set5',\n",
       " '\\\\\\\\192.168.0.96\\\\bbfish124\\\\HttHuman_Snonia__06_12_2023\\\\A3_SC35_gH2AX__set5',\n",
       " '\\\\\\\\192.168.0.96\\\\bbfish124\\\\HttHuman_Snonia__06_12_2023\\\\A4_gH2AX_PSMB5__set5',\n",
       " '\\\\\\\\192.168.0.21\\\\bbfishdc21\\\\HttHuman_Snonia__06_12_2023\\\\P1__Gad1_Nrgn_Aqp4__set5',\n",
       " '\\\\\\\\192.168.0.96\\\\bbfish124\\\\HttHuman_Snonia__06_12_2023\\\\P2__Gad1_Nrgn_Aqp4_B__set5',\n",
       " '\\\\\\\\192.168.0.96\\\\bbfish124\\\\HttHuman_Snonia__06_12_2023\\\\P3__Htt_CAG_B_polyA__set5',\n",
       " '\\\\\\\\192.168.0.96\\\\bbfish124\\\\HttHuman_Snonia__06_12_2023\\\\P4__Htt_B_B_B__set5',\n",
       " '\\\\\\\\192.168.0.96\\\\bbfish124\\\\HttHuman_Snonia__06_12_2023\\\\P5__SST_OPALIN__set5',\n",
       " '\\\\\\\\192.168.0.96\\\\bbfish124\\\\HttHuman_Snonia__06_12_2023\\\\P6__PTBP1_OLIG1__set5',\n",
       " '\\\\\\\\192.168.0.96\\\\bbfish124\\\\HttHuman_Snonia__06_12_2023\\\\P7__LMNB2_LMNA_NUP98__set5',\n",
       " '\\\\\\\\192.168.0.96\\\\bbfish124\\\\HttHuman_Snonia__06_12_2023\\\\P8__MBP_TH_GFAP__set5']"
      ]
     },
     "execution_count": 114,
     "metadata": {},
     "output_type": "execute_result"
    }
   ],
   "source": [
    "flds"
   ]
  },
  {
   "cell_type": "code",
   "execution_count": 112,
   "id": "75f9db6b-94b1-430f-a5f0-9b0be519ac60",
   "metadata": {
    "tags": []
   },
   "outputs": [],
   "source": [
    "#im_gama_cy5 = im_Ab_T\n",
    "im_gama_750 = im_Ab_T"
   ]
  },
  {
   "cell_type": "code",
   "execution_count": 105,
   "id": "16ea5d02-130f-4571-85db-24621f519bb3",
   "metadata": {
    "tags": []
   },
   "outputs": [],
   "source": [
    "#im_sc35 = im_Ab_T.copy()\n",
    "#im_lamA = im_Ab_T.copy()"
   ]
  },
  {
   "cell_type": "code",
   "execution_count": 113,
   "id": "55af29a7-79b3-4d73-9c89-f827fac28e31",
   "metadata": {
    "tags": []
   },
   "outputs": [
    {
     "data": {
      "text/plain": [
       "<Image layer 'Gamma_750' at 0x24fe4020ca0>"
      ]
     },
     "execution_count": 113,
     "metadata": {},
     "output_type": "execute_result"
    }
   ],
   "source": [
    "v.add_image(im_Ab_T,name='Gamma_750')"
   ]
  },
  {
   "cell_type": "code",
   "execution_count": 99,
   "id": "ce02d2ce-ada8-421c-969c-66901bb357ba",
   "metadata": {
    "tags": []
   },
   "outputs": [],
   "source": [
    "im_HTTAb = im_Ab_T.copy()"
   ]
  },
  {
   "cell_type": "code",
   "execution_count": 93,
   "id": "1adc0d57-eeae-4ad8-b9e2-f1fb3c51dae2",
   "metadata": {
    "tags": []
   },
   "outputs": [
    {
     "data": {
      "text/plain": [
       "['\\\\\\\\192.168.0.21\\\\bbfishdc21\\\\HttHuman_Snonia__06_12_2023\\\\H1_MER2col__set5',\n",
       " '\\\\\\\\192.168.0.21\\\\bbfishdc21\\\\HttHuman_Snonia__06_12_2023\\\\H13_MER2col__set5',\n",
       " '\\\\\\\\192.168.0.96\\\\bbfish124\\\\HttHuman_Snonia__06_12_2023\\\\H25_MER2col__set5',\n",
       " '\\\\\\\\192.168.0.21\\\\bbfishdc21\\\\HttHuman_Snonia__06_12_2023\\\\H37_MER2col__set5',\n",
       " '\\\\\\\\192.168.0.96\\\\bbfish124\\\\HttHuman_Snonia__06_12_2023\\\\H49_MER2col__set5',\n",
       " '\\\\\\\\192.168.0.96\\\\bbfish124\\\\HttHuman_Snonia__06_12_2023\\\\H61_MER2col__set5',\n",
       " '\\\\\\\\192.168.0.21\\\\bbfishdc21\\\\HttHuman_Snonia__06_12_2023\\\\H0__set5',\n",
       " '\\\\\\\\192.168.0.21\\\\bbfishdc21\\\\HttHuman_Snonia__06_12_2023\\\\A1_Htt_Nup98__set5',\n",
       " '\\\\\\\\192.168.0.21\\\\bbfishdc21\\\\HttHuman_Snonia__06_12_2023\\\\A2_LamA_B__set5',\n",
       " '\\\\\\\\192.168.0.96\\\\bbfish124\\\\HttHuman_Snonia__06_12_2023\\\\A3_SC35_gH2AX__set5',\n",
       " '\\\\\\\\192.168.0.96\\\\bbfish124\\\\HttHuman_Snonia__06_12_2023\\\\A4_gH2AX_PSMB5__set5',\n",
       " '\\\\\\\\192.168.0.21\\\\bbfishdc21\\\\HttHuman_Snonia__06_12_2023\\\\P1__Gad1_Nrgn_Aqp4__set5',\n",
       " '\\\\\\\\192.168.0.96\\\\bbfish124\\\\HttHuman_Snonia__06_12_2023\\\\P2__Gad1_Nrgn_Aqp4_B__set5',\n",
       " '\\\\\\\\192.168.0.96\\\\bbfish124\\\\HttHuman_Snonia__06_12_2023\\\\P3__Htt_CAG_B_polyA__set5',\n",
       " '\\\\\\\\192.168.0.96\\\\bbfish124\\\\HttHuman_Snonia__06_12_2023\\\\P4__Htt_B_B_B__set5',\n",
       " '\\\\\\\\192.168.0.96\\\\bbfish124\\\\HttHuman_Snonia__06_12_2023\\\\P5__SST_OPALIN__set5',\n",
       " '\\\\\\\\192.168.0.96\\\\bbfish124\\\\HttHuman_Snonia__06_12_2023\\\\P6__PTBP1_OLIG1__set5',\n",
       " '\\\\\\\\192.168.0.96\\\\bbfish124\\\\HttHuman_Snonia__06_12_2023\\\\P7__LMNB2_LMNA_NUP98__set5',\n",
       " '\\\\\\\\192.168.0.96\\\\bbfish124\\\\HttHuman_Snonia__06_12_2023\\\\P8__MBP_TH_GFAP__set5']"
      ]
     },
     "execution_count": 93,
     "metadata": {},
     "output_type": "execute_result"
    }
   ],
   "source": [
    "flds"
   ]
  },
  {
   "cell_type": "code",
   "execution_count": 102,
   "id": "98f28edc-9966-4db6-85a6-9d1c027aacbb",
   "metadata": {
    "tags": []
   },
   "outputs": [
    {
     "name": "stderr",
     "output_type": "stream",
     "text": [
      "100%|██████████████████████████████████████████████████████████████████████████████████| 36/36 [00:04<00:00,  8.07it/s]\n"
     ]
    },
    {
     "data": {
      "text/plain": [
       "<Image layer 'dapi2' at 0x25106acddf0>"
      ]
     },
     "execution_count": 102,
     "metadata": {},
     "output_type": "execute_result"
    }
   ],
   "source": [
    "im_Ab_dapi = np.array(read_im(fld_Ab+os.sep+fov_)[-1],dtype=np.float32)\n",
    "im_Ab_dapi_ = full_deconv(im_Ab_dapi,s_=500,pad=100,psf=np.load(r'C:\\Scripts\\NMERFISH\\psfs\\psf_750_Scope3_final.npy'),\n",
    "            parameters={'method': 'wiener', 'beta': 0.001, 'niter': 50},gpu=True,force=False)\n",
    "im_Ab_dapi_T = np.roll(im_Ab_dapi_,-tzxyAb,axis=[0,1,2])\n",
    "v.add_image(im_Ab_dapi_T,name='dapi2')"
   ]
  },
  {
   "cell_type": "code",
   "execution_count": 98,
   "id": "0cd56cfc-e40d-45ac-b553-3d4f271d3cb1",
   "metadata": {
    "tags": []
   },
   "outputs": [
    {
     "data": {
      "text/plain": [
       "<Image layer 'dapi [1]' at 0x25269bec250>"
      ]
     },
     "execution_count": 98,
     "metadata": {},
     "output_type": "execute_result"
    }
   ],
   "source": [
    "v.add_image(im_Ab_T,name='dapi')"
   ]
  },
  {
   "cell_type": "code",
   "execution_count": 92,
   "id": "0a8a3baf-3903-4e10-b29a-dea2b40ac9bb",
   "metadata": {
    "tags": []
   },
   "outputs": [
    {
     "data": {
      "text/plain": [
       "<Image layer 'dapi' at 0x25209c0a4f0>"
      ]
     },
     "execution_count": 92,
     "metadata": {},
     "output_type": "execute_result"
    }
   ],
   "source": []
  },
  {
   "cell_type": "code",
   "execution_count": 72,
   "id": "c9ac474b-cbf1-45cf-983c-843808879ed8",
   "metadata": {
    "tags": []
   },
   "outputs": [
    {
     "data": {
      "text/plain": [
       "['\\\\\\\\192.168.0.21\\\\bbfishdc21\\\\HttHuman_Snonia__06_12_2023\\\\H1_MER2col__set5',\n",
       " '\\\\\\\\192.168.0.21\\\\bbfishdc21\\\\HttHuman_Snonia__06_12_2023\\\\H13_MER2col__set5',\n",
       " '\\\\\\\\192.168.0.96\\\\bbfish124\\\\HttHuman_Snonia__06_12_2023\\\\H25_MER2col__set5',\n",
       " '\\\\\\\\192.168.0.21\\\\bbfishdc21\\\\HttHuman_Snonia__06_12_2023\\\\H37_MER2col__set5',\n",
       " '\\\\\\\\192.168.0.96\\\\bbfish124\\\\HttHuman_Snonia__06_12_2023\\\\H49_MER2col__set5',\n",
       " '\\\\\\\\192.168.0.96\\\\bbfish124\\\\HttHuman_Snonia__06_12_2023\\\\H61_MER2col__set5',\n",
       " '\\\\\\\\192.168.0.21\\\\bbfishdc21\\\\HttHuman_Snonia__06_12_2023\\\\H0__set5',\n",
       " '\\\\\\\\192.168.0.21\\\\bbfishdc21\\\\HttHuman_Snonia__06_12_2023\\\\A1_Htt_Nup98__set5',\n",
       " '\\\\\\\\192.168.0.21\\\\bbfishdc21\\\\HttHuman_Snonia__06_12_2023\\\\A2_LamA_B__set5',\n",
       " '\\\\\\\\192.168.0.96\\\\bbfish124\\\\HttHuman_Snonia__06_12_2023\\\\A3_SC35_gH2AX__set5',\n",
       " '\\\\\\\\192.168.0.96\\\\bbfish124\\\\HttHuman_Snonia__06_12_2023\\\\A4_gH2AX_PSMB5__set5',\n",
       " '\\\\\\\\192.168.0.21\\\\bbfishdc21\\\\HttHuman_Snonia__06_12_2023\\\\P1__Gad1_Nrgn_Aqp4__set5',\n",
       " '\\\\\\\\192.168.0.96\\\\bbfish124\\\\HttHuman_Snonia__06_12_2023\\\\P2__Gad1_Nrgn_Aqp4_B__set5',\n",
       " '\\\\\\\\192.168.0.96\\\\bbfish124\\\\HttHuman_Snonia__06_12_2023\\\\P3__Htt_CAG_B_polyA__set5',\n",
       " '\\\\\\\\192.168.0.96\\\\bbfish124\\\\HttHuman_Snonia__06_12_2023\\\\P4__Htt_B_B_B__set5',\n",
       " '\\\\\\\\192.168.0.96\\\\bbfish124\\\\HttHuman_Snonia__06_12_2023\\\\P5__SST_OPALIN__set5',\n",
       " '\\\\\\\\192.168.0.96\\\\bbfish124\\\\HttHuman_Snonia__06_12_2023\\\\P6__PTBP1_OLIG1__set5',\n",
       " '\\\\\\\\192.168.0.96\\\\bbfish124\\\\HttHuman_Snonia__06_12_2023\\\\P7__LMNB2_LMNA_NUP98__set5',\n",
       " '\\\\\\\\192.168.0.96\\\\bbfish124\\\\HttHuman_Snonia__06_12_2023\\\\P8__MBP_TH_GFAP__set5']"
      ]
     },
     "execution_count": 72,
     "metadata": {},
     "output_type": "execute_result"
    }
   ],
   "source": [
    "flds"
   ]
  },
  {
   "cell_type": "code",
   "execution_count": 51,
   "id": "377496ee-4ef9-4c07-97fa-76785aedac01",
   "metadata": {
    "tags": []
   },
   "outputs": [
    {
     "data": {
      "text/plain": [
       "15142.486572265625"
      ]
     },
     "execution_count": 51,
     "metadata": {},
     "output_type": "execute_result"
    }
   ],
   "source": [
    "np.percentile(Xh1[:,-1],99)"
   ]
  },
  {
   "cell_type": "code",
   "execution_count": 45,
   "id": "18d779b7-e873-47f2-b4ee-ff7c4e52a284",
   "metadata": {
    "tags": []
   },
   "outputs": [],
   "source": [
    "import napari\n",
    "fl = r'\\\\192.168.0.96\\bbfish124\\HttHuman_Snonia__06_12_2023\\P3__Htt_CAG_B_polyA_'+set_+os.sep+fov+'.zarr'\n",
    "im = read_im(fl)\n",
    "#im2d = np.max(np.array(im[0]),axis=0)\n",
    "imCAG = np.array(im[1],dtype=np.float32)\n",
    "#imCAG_ = full_deconv(imCAG,s_=500,pad=100,psf=np.load(r'C:\\Scripts\\NMERFISH\\psfs\\psf_750_Scope3_final.npy'),\n",
    "#            parameters={'method': 'wiener', 'beta': 0.001, 'niter': 50},gpu=True,force=False)\n",
    "\n",
    "imCAG__ = full_deconv(imCAG,s_=500,pad=100,psf=np.load(r'C:\\Scripts\\NMERFISH\\psfs\\psf_750_Scope3_final.npy'),\n",
    "            parameters={'method': 'lucy', 'beta': 0.001, 'niter': 50},gpu=True,force=False)\n",
    "\n",
    "imHTT = np.array(im[0],dtype=np.float32)\n",
    "imHTT__ = full_deconv(imHTT,s_=500,pad=100,psf=np.load(r'C:\\Scripts\\NMERFISH\\psfs\\psf_750_Scope3_final.npy'),\n",
    "            parameters={'method': 'lucy', 'beta': 0.001, 'niter': 50},gpu=True,force=False)"
   ]
  },
  {
   "cell_type": "code",
   "execution_count": null,
   "id": "4636ffff-4b5c-444c-b31b-0c0c136ccd6c",
   "metadata": {},
   "outputs": [],
   "source": []
  },
  {
   "cell_type": "code",
   "execution_count": 118,
   "id": "67180d01-0735-40bf-9583-ed364b1daf88",
   "metadata": {
    "tags": []
   },
   "outputs": [
    {
     "data": {
      "text/plain": [
       "<Image layer 'imHTT__' at 0x2537cb3af10>"
      ]
     },
     "execution_count": 118,
     "metadata": {},
     "output_type": "execute_result"
    }
   ],
   "source": []
  },
  {
   "cell_type": "code",
   "execution_count": null,
   "id": "c77476f9-676a-4203-b793-b5d6fc90835d",
   "metadata": {},
   "outputs": [],
   "source": []
  },
  {
   "cell_type": "code",
   "execution_count": null,
   "id": "b2a53a0f-02e3-464a-a3c2-99d5e4a94df8",
   "metadata": {},
   "outputs": [],
   "source": [
    "imCAG_ = full_deconv(imCAG,s_=500,pad=100,psf=np.load(r'C:\\Scripts\\NMERFISH\\psfs\\psf_750_Scope3_final.npy'),\n",
    "            parameters={'method': 'wiener', 'beta': 0.001, 'niter': 50},gpu=True,force=False)"
   ]
  },
  {
   "cell_type": "code",
   "execution_count": 61,
   "id": "e916bd0f-850f-408d-bbc4-f13bce1ead88",
   "metadata": {
    "tags": []
   },
   "outputs": [
    {
     "name": "stderr",
     "output_type": "stream",
     "text": [
      "100%|██████████████████████████████████████████████████████████████████████████████████| 36/36 [01:51<00:00,  3.10s/it]\n"
     ]
    }
   ],
   "source": [
    "imCAG__ = full_deconv(imCAG,s_=500,pad=100,psf=np.load(r'C:\\Scripts\\NMERFISH\\psfs\\psf_750_Scope3_final.npy'),\n",
    "            parameters={'method': 'lucy', 'beta': 0.001, 'niter': 50},gpu=True,force=False)"
   ]
  },
  {
   "cell_type": "code",
   "execution_count": 58,
   "id": "f11dacb4-be13-42c5-b3d1-9ca88b798a37",
   "metadata": {
    "tags": []
   },
   "outputs": [],
   "source": [
    "imHTT = np.array(im[0],dtype=np.float32)\n",
    "imCAG = np.array(im[1],dtype=np.float32)"
   ]
  },
  {
   "cell_type": "code",
   "execution_count": null,
   "id": "32fb91d5-f618-409b-8fbb-be946c92d51b",
   "metadata": {},
   "outputs": [],
   "source": []
  },
  {
   "cell_type": "code",
   "execution_count": null,
   "id": "791bda66-0539-4fe4-b89d-1e2977b1c092",
   "metadata": {},
   "outputs": [],
   "source": [
    "im  = da.roll(read_im(fld_+os.sep+fov_),drft[0],axis=[1,2,3])"
   ]
  },
  {
   "cell_type": "code",
   "execution_count": 64,
   "id": "28f5b0dd-8f13-471c-862f-f5141391859d",
   "metadata": {
    "tags": []
   },
   "outputs": [],
   "source": [
    "#imHTT_ = full_deconv(imHTT,s_=500,pad=100,psf=np.load(r'C:\\Scripts\\NMERFISH\\psfs\\psf_750_Scope3_final.npy'),\n",
    "#            parameters={'method': 'wiener', 'beta': 0.001, 'niter': 50},gpu=True,force=False)"
   ]
  },
  {
   "cell_type": "code",
   "execution_count": 63,
   "id": "c783d08c-7763-4c22-8c30-c8159d9add26",
   "metadata": {
    "tags": []
   },
   "outputs": [
    {
     "data": {
      "text/plain": [
       "<Points layer 'X' at 0x24ef98b9c40>"
      ]
     },
     "execution_count": 63,
     "metadata": {},
     "output_type": "execute_result"
    }
   ],
   "source": [
    "import napari\n",
    "tree = cKDTree(Xh1[:,:3])\n",
    "d,inds = tree.query(Xh0f[:,:3])\n",
    "v = napari.Viewer()\n",
    "v.add_image(imCAG_)\n",
    "v.add_image(imHTT_)\n",
    "Xh1_ = Xh1[inds[d<2.5]]\n",
    "X = Xh1_[:,:3]\n",
    "s = Xh1_[:,-1]/15000*10\n",
    "v.add_points(X,face_color=[0,0,0,0],edge_color='r',size=s)"
   ]
  },
  {
   "cell_type": "code",
   "execution_count": null,
   "id": "d681f13e-da49-4438-997f-a36ad1b8276d",
   "metadata": {},
   "outputs": [],
   "source": [
    "v.add_image(imCAG_)"
   ]
  },
  {
   "cell_type": "code",
   "execution_count": null,
   "id": "ef161cc1-1a52-4d54-89d4-27336867a081",
   "metadata": {},
   "outputs": [],
   "source": []
  },
  {
   "cell_type": "code",
   "execution_count": 46,
   "id": "a4a5b04f-e450-4e80-b50c-5ccf9cc4d57c",
   "metadata": {
    "tags": []
   },
   "outputs": [
    {
     "data": {
      "text/plain": [
       "<Points layer 'Points' at 0x24e883dad60>"
      ]
     },
     "execution_count": 46,
     "metadata": {},
     "output_type": "execute_result"
    }
   ],
   "source": [
    "v = napari.Viewer()\n",
    "v.add_image(im2d)\n",
    "v.add_points(Xh0[Xh0[:,-1]>13000,1:3],face_color=[0,0,0,0],edge_color='r')"
   ]
  },
  {
   "cell_type": "code",
   "execution_count": 36,
   "id": "6c66eed6-7fe2-4e9d-9b12-b425ac20cf77",
   "metadata": {
    "tags": []
   },
   "outputs": [
    {
     "data": {
      "text/plain": [
       "9897.129058743909"
      ]
     },
     "execution_count": 36,
     "metadata": {},
     "output_type": "execute_result"
    }
   ],
   "source": [
    "np.exp(9.2)"
   ]
  },
  {
   "cell_type": "code",
   "execution_count": 30,
   "id": "1b467189-e473-4644-aaad-f8ecddbc67c8",
   "metadata": {
    "tags": []
   },
   "outputs": [
    {
     "data": {
      "text/plain": [
       "(array([4.010e+02, 4.460e+02, 4.550e+02, 4.900e+02, 5.570e+02, 5.370e+02,\n",
       "        5.840e+02, 6.790e+02, 7.060e+02, 7.450e+02, 7.650e+02, 8.640e+02,\n",
       "        9.070e+02, 9.940e+02, 1.035e+03, 1.065e+03, 1.135e+03, 1.150e+03,\n",
       "        1.312e+03, 1.329e+03, 1.395e+03, 1.445e+03, 1.550e+03, 1.592e+03,\n",
       "        1.602e+03, 1.703e+03, 1.792e+03, 1.850e+03, 1.819e+03, 1.991e+03,\n",
       "        1.994e+03, 1.997e+03, 2.013e+03, 2.002e+03, 2.063e+03, 2.043e+03,\n",
       "        2.000e+03, 1.965e+03, 2.051e+03, 1.868e+03, 1.824e+03, 1.792e+03,\n",
       "        1.680e+03, 1.732e+03, 1.517e+03, 1.492e+03, 1.279e+03, 1.289e+03,\n",
       "        1.117e+03, 9.760e+02, 8.520e+02, 7.220e+02, 6.450e+02, 5.330e+02,\n",
       "        4.250e+02, 3.680e+02, 2.990e+02, 2.400e+02, 2.020e+02, 1.890e+02,\n",
       "        1.960e+02, 1.760e+02, 1.390e+02, 1.410e+02, 1.670e+02, 1.650e+02,\n",
       "        1.590e+02, 1.410e+02, 1.350e+02, 1.700e+02, 1.410e+02, 1.470e+02,\n",
       "        1.700e+02, 1.550e+02, 1.690e+02, 1.730e+02, 1.610e+02, 1.790e+02,\n",
       "        1.970e+02, 1.700e+02, 1.460e+02, 1.600e+02, 1.460e+02, 1.280e+02,\n",
       "        1.170e+02, 1.120e+02, 7.700e+01, 5.100e+01, 5.100e+01, 3.300e+01,\n",
       "        1.800e+01, 1.600e+01, 5.000e+00, 8.000e+00, 4.000e+00, 1.000e+00,\n",
       "        1.000e+00, 4.000e+00, 0.000e+00, 4.000e+00]),\n",
       " array([ 4.60572672,  4.68316174,  4.76059675,  4.83803129,  4.91546631,\n",
       "         4.99290133,  5.07033634,  5.14777136,  5.22520638,  5.30264091,\n",
       "         5.38007593,  5.45751095,  5.53494596,  5.61238098,  5.689816  ,\n",
       "         5.76725054,  5.84468555,  5.92212057,  5.99955559,  6.0769906 ,\n",
       "         6.15442562,  6.23186016,  6.30929518,  6.38673019,  6.46416521,\n",
       "         6.54160023,  6.61903524,  6.69646978,  6.7739048 ,  6.85133982,\n",
       "         6.92877483,  7.00620985,  7.08364487,  7.16107941,  7.23851442,\n",
       "         7.31594944,  7.39338446,  7.47081947,  7.54825449,  7.62568903,\n",
       "         7.70312405,  7.78055906,  7.85799408,  7.9354291 ,  8.01286411,\n",
       "         8.09029865,  8.16773415,  8.24516869,  8.32260323,  8.40003872,\n",
       "         8.47747326,  8.55490875,  8.63234329,  8.70977783,  8.78721333,\n",
       "         8.86464787,  8.94208336,  9.0195179 ,  9.09695339,  9.17438793,\n",
       "         9.25182247,  9.32925797,  9.4066925 ,  9.484128  ,  9.56156254,\n",
       "         9.63899708,  9.71643257,  9.79386711,  9.8713026 ,  9.94873714,\n",
       "        10.02617264, 10.10360718, 10.18104172, 10.25847721, 10.33591175,\n",
       "        10.41334724, 10.49078178, 10.56821632, 10.64565182, 10.72308636,\n",
       "        10.80052185, 10.87795639, 10.95539188, 11.03282642, 11.11026096,\n",
       "        11.18769646, 11.265131  , 11.34256649, 11.42000103, 11.49743557,\n",
       "        11.57487106, 11.6523056 , 11.7297411 , 11.80717564, 11.88461113,\n",
       "        11.96204567, 12.03948021, 12.1169157 , 12.19435024, 12.27178574,\n",
       "        12.34922028]),\n",
       " <BarContainer object of 100 artists>)"
      ]
     },
     "execution_count": 30,
     "metadata": {},
     "output_type": "execute_result"
    },
    {
     "data": {
      "image/png": "[encoded data removed]",
      "text/plain": [
       "<Figure size 640x480 with 1 Axes>"
      ]
     },
     "metadata": {},
     "output_type": "display_data"
    }
   ],
   "source": [
    "plt.hist(np.log(Xh0[:,-1]-3500),bins=100)"
   ]
  },
  {
   "cell_type": "code",
   "execution_count": null,
   "id": "b5d41c1d-0ad1-4825-af84-c5c087c6acef",
   "metadata": {},
   "outputs": [],
   "source": []
  }
 ],
 "metadata": {
  "kernelspec": {
   "display_name": "Python 3 (ipykernel)",
   "language": "python",
   "name": "python3"
  },
  "language_info": {
   "codemirror_mode": {
    "name": "ipython",
    "version": 3
   },
   "file_extension": ".py",
   "mimetype": "text/x-python",
   "name": "python",
   "nbconvert_exporter": "python",
   "pygments_lexer": "ipython3",
   "version": "3.8.16"
  }
 },
 "nbformat": 4,
 "nbformat_minor": 5
}
