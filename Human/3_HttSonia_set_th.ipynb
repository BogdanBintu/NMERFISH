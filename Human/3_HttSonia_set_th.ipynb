{
 "cells": [
  {
   "cell_type": "code",
   "execution_count": 78,
   "id": "ea9d518f-1ca6-4b8d-8e40-e258371a1645",
   "metadata": {
    "tags": []
   },
   "outputs": [],
   "source": [
    "import sys\n",
    "sys.path.append(r'..//')\n",
    "from ioMicro import *"
   ]
  },
  {
   "cell_type": "code",
   "execution_count": 70,
   "id": "450eec17-23db-4e0a-8ac6-e4459b0ca4ed",
   "metadata": {
    "tags": []
   },
   "outputs": [],
   "source": [
    "scoresRef=None"
   ]
  },
  {
   "cell_type": "code",
   "execution_count": 106,
   "id": "5588352a-76ab-4210-86ec-7aeca453459d",
   "metadata": {
    "tags": []
   },
   "outputs": [],
   "source": [
    "if True:\n",
    "    if scoresRef is None: scoresRef=scoresRefT\n",
    "    else: combine_scoresRef(scoresRef,scoresRefT)\n",
    "    pickle.dump(scoresRef,open(os.path.dirname(save_folder)+os.sep+'scoresRef.npy','wb'))"
   ]
  },
  {
   "cell_type": "code",
   "execution_count": 126,
   "id": "d52ceeb9-8ba5-406c-9c80-ba9a8a479e7c",
   "metadata": {
    "tags": []
   },
   "outputs": [
    {
     "ename": "AttributeError",
     "evalue": "'decoder_simple' object has no attribute 'XH_pruned'",
     "output_type": "error",
     "traceback": [
      "\u001b[1;31m---------------------------------------------------------------------------\u001b[0m",
      "\u001b[1;31mAttributeError\u001b[0m                            Traceback (most recent call last)",
      "Cell \u001b[1;32mIn[126], line 7\u001b[0m\n\u001b[0;32m      5\u001b[0m dec\u001b[38;5;241m.\u001b[39mload_decoded()\n\u001b[0;32m      6\u001b[0m \u001b[38;5;66;03m#apply_fine_drift(dec,plt_val=True)\u001b[39;00m\n\u001b[1;32m----> 7\u001b[0m scoresRefT \u001b[38;5;241m=\u001b[39m \u001b[43mget_score_per_color\u001b[49m\u001b[43m(\u001b[49m\u001b[43mdec\u001b[49m\u001b[43m)\u001b[49m\n\u001b[0;32m      8\u001b[0m get_score_withRef(dec,scoresRef,plt_val\u001b[38;5;241m=\u001b[39m\u001b[38;5;28;01mTrue\u001b[39;00m,gene\u001b[38;5;241m=\u001b[39m\u001b[38;5;28;01mNone\u001b[39;00m,iSs \u001b[38;5;241m=\u001b[39m \u001b[38;5;28;01mNone\u001b[39;00m,th_min\u001b[38;5;241m=\u001b[39m\u001b[38;5;241m-\u001b[39m\u001b[38;5;241m7\u001b[39m)\n\u001b[0;32m      9\u001b[0m dec\u001b[38;5;241m.\u001b[39mth\u001b[38;5;241m=\u001b[39m\u001b[38;5;241m-\u001b[39m\u001b[38;5;241m0.75\u001b[39m\n",
      "File \u001b[1;32mC:\\Scripts\\NMERFISH\\Human\\..\\ioMicro.py:2516\u001b[0m, in \u001b[0;36mget_score_per_color\u001b[1;34m(dec)\u001b[0m\n\u001b[0;32m   2515\u001b[0m \u001b[38;5;28;01mdef\u001b[39;00m \u001b[38;5;21mget_score_per_color\u001b[39m(dec):\n\u001b[1;32m-> 2516\u001b[0m     H \u001b[38;5;241m=\u001b[39m np\u001b[38;5;241m.\u001b[39mmedian(\u001b[43mdec\u001b[49m\u001b[38;5;241;43m.\u001b[39;49m\u001b[43mXH_pruned\u001b[49m[\u001b[38;5;241m.\u001b[39m\u001b[38;5;241m.\u001b[39m\u001b[38;5;241m.\u001b[39m,\u001b[38;5;241m-\u001b[39m\u001b[38;5;241m3\u001b[39m],axis\u001b[38;5;241m=\u001b[39m\u001b[38;5;241m1\u001b[39m)\n\u001b[0;32m   2517\u001b[0m     D \u001b[38;5;241m=\u001b[39m dec\u001b[38;5;241m.\u001b[39mXH_pruned[\u001b[38;5;241m.\u001b[39m\u001b[38;5;241m.\u001b[39m\u001b[38;5;241m.\u001b[39m,:\u001b[38;5;241m3\u001b[39m]\u001b[38;5;241m-\u001b[39mnp\u001b[38;5;241m.\u001b[39mmean(dec\u001b[38;5;241m.\u001b[39mXH_pruned[\u001b[38;5;241m.\u001b[39m\u001b[38;5;241m.\u001b[39m\u001b[38;5;241m.\u001b[39m,:\u001b[38;5;241m3\u001b[39m],axis\u001b[38;5;241m=\u001b[39m\u001b[38;5;241m1\u001b[39m)[:,np\u001b[38;5;241m.\u001b[39mnewaxis]\n\u001b[0;32m   2518\u001b[0m     D \u001b[38;5;241m=\u001b[39m np\u001b[38;5;241m.\u001b[39mmean(np\u001b[38;5;241m.\u001b[39mlinalg\u001b[38;5;241m.\u001b[39mnorm(D,axis\u001b[38;5;241m=\u001b[39m\u001b[38;5;241m-\u001b[39m\u001b[38;5;241m1\u001b[39m),axis\u001b[38;5;241m=\u001b[39m\u001b[38;5;241m-\u001b[39m\u001b[38;5;241m1\u001b[39m)\n",
      "\u001b[1;31mAttributeError\u001b[0m: 'decoder_simple' object has no attribute 'XH_pruned'"
     ]
    }
   ],
   "source": [
    "save_folder =r'\\\\192.168.0.21\\bbfishdc21\\HttHuman_Snonia__06_12_2023\\MERFISH_Analysis_group3'\n",
    "fov,set_ = 'Conv_zscan__10', '_set1'\n",
    "dec = decoder_simple(save_folder,fov,set_)\n",
    "dec.ncols=2\n",
    "dec.load_decoded()\n",
    "#apply_fine_drift(dec,plt_val=True)\n",
    "scoresRefT = get_score_per_color(dec)\n",
    "get_score_withRef(dec,scoresRef,plt_val=True,gene=None,iSs = None,th_min=-7)\n",
    "dec.th=-0.75\n",
    "plot_statistics(dec)"
   ]
  },
  {
   "cell_type": "code",
   "execution_count": 123,
   "id": "195d0853-fb01-4add-9a8c-27d5b7193a2e",
   "metadata": {
    "tags": []
   },
   "outputs": [
    {
     "name": "stdout",
     "output_type": "stream",
     "text": [
      "['NEFM', 'ACTG1', 'AKAP6', 'KCNC2', 'DST', 'CBLN2', 'CHMP2A', 'ITPR1', 'AQP4', 'IPO5', 'GRM5', 'NCAM2', 'KCNIP2', 'CBX5', 'HTT', 'NEFH', 'CDH13', 'HS6ST3', 'KPNB1', 'NDEL1', 'NEAT1', 'CNR1', 'ELAVL4', 'ELAVL2', 'GRIA1', 'CA10', 'KPNA1', 'CHMP3', 'KIRREL3', 'CHMP1A', 'MYO18A', 'MLIP', 'HIF3A', 'CXCL14', 'ISG20', 'GLIS3', 'KPNA3', 'NUP133', 'C1QL3', 'EPHA6', 'B2M', 'HOXA7', 'CD74', 'LPIN1', 'CDK20', 'IPO9', 'CNTNAP4', 'ADARB2', 'CLEC5A', 'CSF1R', 'FTH1', 'CSE1L', 'GLRA3', 'NTNG1', 'NRG1', 'CAPN2', 'CHMP6', 'HHIPL1', 'COL20A1', 'LINC01107', 'DUSP1', 'BCHE', 'MOBP', 'HSPB6', 'BCL2', 'IPO7', 'CCDC85A', 'FGF10', 'DCC', 'GRID2', 'ADGRV1', 'AHCTF1', 'LEMD2', 'BCAS1', 'COLEC12', 'AMBP', 'NKAIN2', 'BRAP', 'HAND1', 'CHMP5', 'DACH1', 'MEPE', 'CDH3', 'LMNA', 'FLT1', 'CETN2', 'ATOH8', 'FZD7', 'LINC00499', 'CHRNA2', 'DSG3', 'HOXD10', 'NES', 'BRIP1', 'ADAMTS17', 'CDH8', 'NRM', 'LUZP2', 'ENY2', 'FAM150B', 'ASIC2', 'FILIP1L', 'FRZB', 'FREM2', 'CETN3', 'MT1E', 'ABCB1', 'HPSE2', 'MAML2', 'LNX2', 'FAM20A', 'EYA4', 'IPO11', 'ERC2', 'LRIG3', 'ITPRIP', 'MRC1', 'CRHR2', 'AKT3', 'HOXD9', 'CPLX3', 'LMNB1', 'ABI3BP', 'ATP8A2', 'GULP1', 'DCX', 'CYP4B1', 'GSX1', 'MARK3', 'CCNJL', 'IFNG-AS1', 'ATP7B', 'CEMIP', 'KLHL1', 'CBLN1', 'EBP', 'NPAP1', 'HOXD8', 'KCNH8', 'NUP107', 'KLF5', 'ANK3', 'ACTC', 'FNDC1', 'ISX', 'blank0145', 'APBB1IP', 'blank0113', 'ASIC4', 'FEZF2', 'DLGAP4', 'LMNTD1', 'blank0136', 'DOCK8', 'blank0130', 'NMU', 'MAP6D1', 'blank0122', 'blank0084', 'blank0057', 'GALNTL6', 'LBR', 'CACNA1E', 'blank0071', 'blank0083', 'AARD', 'CA1', 'blank0119', 'LAMA4', 'COL11A1', 'blank0082', 'HOXA11', 'LINC01202', 'blank0017', 'blank0134', 'blank0056', 'blank0089', 'FBN2', 'blank0032', 'blank0115', 'MT1G', 'blank0088', 'blank0172', 'blank0168', 'blank0070', 'blank0166', 'blank0095', 'blank0041', 'IMMT', 'blank0186', 'blank0067', 'CP', 'blank0108', 'blank0051', 'HOXA5', 'blank0150', 'blank0075', 'APLP2', 'blank0106', 'CHRFAM7A', 'blank0090', 'blank0131', 'blank0107', 'blank0182', 'blank0105', 'blank0039', 'blank0156', 'blank0063', 'blank0118', 'blank0153', 'blank0117', 'blank0151', 'blank0009', 'blank0080', 'blank0012', 'blank0081', 'blank0087', 'blank0169', 'blank0013', 'blank0114', 'blank0086', 'GLI2', 'ADAMTSL1', 'blank0159', 'blank0180', 'blank0059', 'LINC00343', 'NPSR1-AS1', 'blank0026', 'blank0060', 'blank0025', 'ICA1', 'blank0052', 'blank0021', 'blank0053', 'blank0135', 'blank0123', 'blank0109', 'blank0091', 'blank0187', 'blank0048', 'blank0073', 'blank0076', 'blank0003', 'ALOX5', 'blank0158', 'blank0031', 'blank0042', 'blank0062', 'blank0043', 'IL1RAPL2', 'blank0139', 'NOSTRIN', 'MADD', 'blank0038', 'CHST9', 'blank0161', 'blank0129', 'ENPP6', 'blank0137', 'blank0154', 'blank0044', 'blank0098', 'blank0036', 'blank0008', 'FAM193A', 'blank0104', 'blank0165', 'blank0143', 'blank0171', 'COL15A1', 'blank0116', 'blank0157', 'blank0178', 'blank0179', 'blank0019', 'blank0068', 'blank0112', 'blank0016', 'blank0058', 'blank0177', 'blank0103', 'blank0035', 'blank0033', 'blank0111', 'blank0102', 'CNOT6', 'blank0185', 'blank0121', 'blank0045', 'blank0147', 'blank0093', 'blank0001', 'blank0160', 'blank0142', 'LINC00609', 'blank0005', 'blank0011', 'blank0024', 'blank0049', 'blank0018', 'blank0176', 'blank0128', 'blank0144', 'blank0125', 'blank0015', 'blank0133', 'LINC01497', 'blank0069', 'blank0047', 'blank0027', 'blank0163', 'blank0078', 'blank0174', 'blank0002', 'blank0004', 'blank0054', 'blank0066', 'blank0183', 'IGFBP7', 'blank0167', 'blank0037', 'blank0000', 'blank0162', 'blank0006', 'blank0126', 'blank0170', 'blank0096', 'blank0148', 'blank0101', 'blank0127', 'blank0028', 'blank0140', 'CENPV', 'blank0020', 'blank0173', 'blank0030', 'blank0022', 'blank0061', 'blank0050', 'blank0132', 'blank0040', 'blank0149', 'blank0085', 'blank0175', 'blank0097', 'KCNQ2', 'blank0094', 'blank0010', 'blank0014', 'blank0046', 'blank0034', 'blank0164', 'blank0110', 'blank0029', 'blank0120', 'blank0152', 'blank0077', 'blank0184', 'blank0092', 'blank0023', 'blank0124', 'blank0141', 'blank0074', 'blank0072', 'blank0064', 'blank0007', 'blank0181', 'blank0146', 'blank0055', 'blank0065', 'blank0099', 'blank0138', 'blank0079', 'blank0155', 'blank0100']\n"
     ]
    }
   ],
   "source": [
    "icds,ncds = np.unique(dec.icodesN[dec.scoreA>dec.th],return_counts=True)\n",
    "print(list(np.array(dec.gns_names)[icds[np.argsort(ncds)[::-1]]]))"
   ]
  },
  {
   "cell_type": "code",
   "execution_count": 124,
   "id": "d0d4b68d-880a-4a2f-bed2-87dc8108d86a",
   "metadata": {
    "tags": []
   },
   "outputs": [],
   "source": [
    "viewer = plot_multigenes(dec,genes=['NEFM', 'AQP4', 'NEFM','HTT'],colors=['r','g','b','m','c','y','w'],viewer = None,\n",
    "                         smin=2,smax=10)"
   ]
  },
  {
   "cell_type": "code",
   "execution_count": 120,
   "id": "52bcb74a-5db6-4a61-88c6-5d5e425b29ab",
   "metadata": {
    "tags": []
   },
   "outputs": [
    {
     "name": "stdout",
     "output_type": "stream",
     "text": [
      "['NEFM', 'ACTG1', 'AKAP6', 'CBLN2', 'DST', 'KCNC2', 'ITPR1', 'NCAM2', 'AQP4', 'GRM5', 'CHMP2A', 'IPO5', 'HS6ST3', 'HTT', 'CBX5', 'KCNIP2', 'NDEL1', 'NEAT1', 'ELAVL4', 'CDH13', 'CNR1', 'KPNB1', 'CA10', 'CHMP3', 'GLIS3', 'GRIA1', 'KPNA1', 'MLIP', 'ELAVL2', 'NEFH', 'KIRREL3', 'C1QL3', 'CD74', 'CHMP1A', 'HIF3A', 'MYO18A', 'ISG20', 'CXCL14', 'NUP133', 'HOXA7', 'KPNA3', 'B2M', 'CDK20', 'EPHA6', 'ADARB2', 'CSF1R', 'LPIN1', 'GLRA3', 'NTNG1', 'IPO9', 'CNTNAP4', 'CLEC5A', 'HSPB6', 'HHIPL1', 'FTH1', 'CSE1L', 'LINC01107', 'CAPN2', 'CCDC85A', 'CHMP6', 'BCHE', 'GRID2', 'COL20A1', 'ADGRV1', 'DUSP1', 'AHCTF1', 'IPO7', 'NRG1', 'MOBP', 'BCL2', 'DACH1', 'BRAP', 'FGF10', 'LEMD2', 'CHMP5', 'DCC', 'NKAIN2', 'AMBP', 'ATOH8', 'BCAS1', 'HAND1', 'CETN2', 'FLT1', 'BRIP1', 'CDH8', 'NES', 'DSG3', 'CHRNA2', 'LMNA', 'CRHR2', 'ABCB1', 'FRZB', 'LINC00499', 'CDH3', 'HOXD10', 'HOXD9', 'COLEC12', 'MAML2', 'IPO11', 'ENY2', 'FZD7', 'HPSE2', 'MRC1', 'FREM2', 'ITPRIP', 'ASIC2', 'ATP8A2', 'NRM', 'IFNG-AS1', 'FILIP1L', 'LUZP2', 'LRIG3', 'MEPE', 'LNX2', 'CETN3', 'ERC2', 'ADAMTS17', 'MT1E', 'ABI3BP', 'FAM20A', 'EYA4', 'FAM150B', 'DCX', 'LMNB1', 'APBB1IP', 'NPAP1', 'CYP4B1', 'ATP7B', 'GSX1', 'GULP1', 'GALNTL6', 'ACTC', 'ASIC4', 'ISX', 'COL11A1', 'AKT3', 'EBP', 'FNDC1', 'blank0122', 'blank0145', 'CEMIP', 'CBLN1', 'HOXD8', 'MARK3', 'MAP6D1', 'CCNJL', 'NUP107', 'CPLX3', 'blank0084', 'KLF5', 'blank0113', 'KLHL1', 'HOXA11', 'ANK3', 'LBR', 'CA1', 'blank0057', 'FBN2', 'HOXA5', 'LMNTD1', 'NMU', 'blank0088', 'FEZF2', 'CACNA1E', 'DOCK8', 'LINC01202', 'blank0119', 'ADAMTSL1', 'KCNH8', 'blank0071', 'blank0017', 'blank0130', 'AARD', 'blank0056', 'blank0118', 'blank0168', 'blank0150', 'DLGAP4', 'blank0136', 'blank0013', 'blank0108', 'CHRFAM7A', 'blank0095', 'blank0186', 'LAMA4', 'MT1G', 'blank0063', 'blank0083', 'blank0153', 'blank0070', 'blank0115', 'blank0134', 'blank0086', 'blank0089', 'blank0182', 'blank0067', 'blank0180', 'blank0166', 'blank0082', 'blank0041', 'blank0131', 'blank0169', 'blank0135', 'blank0031', 'blank0009', 'blank0039', 'APLP2', 'blank0051', 'CP', 'blank0091', 'ALOX5', 'blank0025', 'blank0075', 'GLI2', 'IMMT', 'blank0060', 'blank0159', 'blank0012', 'blank0087', 'blank0151', 'blank0043', 'blank0032', 'blank0123', 'blank0107', 'blank0044', 'blank0081', 'blank0172', 'blank0016', 'blank0105', 'blank0003', 'blank0106', 'NPSR1-AS1', 'blank0156', 'ICA1', 'blank0117', 'MADD', 'LINC00343', 'blank0143', 'blank0109', 'blank0026', 'blank0090', 'blank0187', 'blank0048', 'blank0038', 'blank0033', 'blank0103', 'blank0073', 'blank0114', 'blank0036', 'blank0154', 'blank0076', 'blank0178', 'blank0019', 'blank0008', 'blank0059', 'blank0042', 'blank0080', 'blank0002', 'ENPP6', 'blank0052', 'CHST9', 'COL15A1', 'blank0021', 'blank0058', 'blank0102', 'blank0018', 'IL1RAPL2', 'blank0161', 'blank0158', 'blank0165', 'blank0093', 'blank0098', 'blank0053', 'blank0121', 'blank0147', 'blank0000', 'blank0062', 'blank0116', 'blank0104', 'blank0139', 'blank0137', 'blank0179', 'blank0160', 'blank0011', 'blank0001', 'LINC01497', 'blank0129', 'blank0068', 'blank0142', 'blank0177', 'IGFBP7', 'blank0005', 'blank0185', 'blank0148', 'NOSTRIN', 'blank0045', 'FAM193A', 'blank0171', 'CNOT6', 'blank0157', 'blank0128', 'blank0035', 'blank0133', 'blank0049', 'blank0004', 'blank0028', 'LINC00609', 'blank0027', 'blank0126', 'blank0183', 'blank0047', 'blank0112', 'blank0127', 'blank0176', 'blank0022', 'blank0167', 'blank0144', 'blank0111', 'blank0037', 'blank0162', 'blank0096', 'blank0072', 'blank0015', 'blank0024', 'blank0054', 'blank0020', 'blank0125', 'blank0174', 'blank0097', 'blank0010', 'blank0066', 'blank0050', 'blank0101', 'blank0069', 'blank0140', 'blank0065', 'blank0078', 'blank0085', 'blank0170', 'blank0029', 'blank0094', 'blank0064', 'blank0164', 'blank0077', 'blank0175', 'blank0110', 'blank0040', 'blank0163', 'blank0061', 'blank0120', 'blank0092', 'blank0030', 'blank0132', 'blank0173', 'blank0079', 'blank0100', 'blank0034', 'KCNQ2', 'blank0155', 'CENPV', 'blank0138', 'blank0014', 'blank0152', 'blank0146', 'blank0055', 'blank0006', 'blank0074', 'blank0184', 'blank0181', 'blank0124', 'blank0099', 'blank0007', 'blank0149', 'blank0023', 'blank0141', 'blank0046']\n"
     ]
    }
   ],
   "source": [
    "icds,ncds = np.unique(dec.icodesN[dec.scoreA>dec.th],return_counts=True)\n",
    "print(list(np.array(dec.gns_names)[icds[np.argsort(ncds)[::-1]]]))"
   ]
  },
  {
   "cell_type": "code",
   "execution_count": 41,
   "id": "63cc1557-3453-4aec-87bd-e9ef0cac16bb",
   "metadata": {
    "tags": []
   },
   "outputs": [
    {
     "data": {
      "text/plain": [
       "'\\\\\\\\192.168.0.21\\\\bbfishdc21\\\\HttHuman_Snonia__06_12_2023\\\\MERFISH_Analysis_group1\\\\driftNew_Conv_zscan__30--_set5.pkl'"
      ]
     },
     "execution_count": 41,
     "metadata": {},
     "output_type": "execute_result"
    }
   ],
   "source": [
    "drft_l,fls_l,np.load(dec.drift_fl,allow_pickle=True)"
   ]
  },
  {
   "cell_type": "code",
   "execution_count": 51,
   "id": "eaee79d5-cd64-4756-90ee-b3934f6236e1",
   "metadata": {
    "tags": []
   },
   "outputs": [],
   "source": [
    "drift_folder = r'\\\\192.168.0.21\\bbfishdc21\\HttHuman_Snonia__06_12_2023\\Drift'\n",
    "segm_tag = '__Htt'\n",
    "fov,set_ = dec.fov,dec.set_\n",
    "def get_drft_dic(fl_all_drift):\n",
    "    drft,flds,fov_,fl_ref= np.load(fl_all_drift,allow_pickle=True)\n",
    "    return {'--'.join(fld.split(os.sep)[-2:]):drft_[0] for fld,drft_ in zip(flds,drft)}\n",
    "fl_all_drift = drift_folder+os.sep+'driftNew_'+fov+'--'+set_+'.pkl'\n",
    "drft_dic_all = get_drft_dic(fl_all_drift)\n",
    "fl_local_drift = save_folder+os.sep+'driftNew_'+fov+'--'+set_+'.pkl'\n",
    "drft_dic_group = get_drft_dic(fl_local_drift)\n",
    "key_segm = [key for key in drft_dic_all if segm_tag in key][0]\n",
    "key_align = np.intersect1d(list(drft_dic_all.keys()),list(drft_dic_group.keys()))[0]\n"
   ]
  },
  {
   "cell_type": "code",
   "execution_count": 60,
   "id": "fc3350b0-57d7-4b48-ba76-d32482cb20fe",
   "metadata": {
    "tags": []
   },
   "outputs": [],
   "source": [
    "drft,fls,fov_,fl_ref = np.load(fl_all_drift,allow_pickle=True)\n",
    "fld = [fl for ifl,(fl,drft_) in enumerate(zip(fls,drft)) if segm_tag in os.path.basename(fl)][0]\n",
    "from dask import array as da\n",
    "\n",
    "th1_to_h0 = drft_dic_all[key_segm]-drft_dic_all[key_align]\n",
    "th1_gr = drft_dic_group[key_align]\n",
    "tzxyf = th1_gr+th1_to_h0\n",
    "im = da.roll(read_im(fld+os.sep+fov_)[0],np.round(tzxyf).astype(int),axis=[0,1,2])"
   ]
  },
  {
   "cell_type": "code",
   "execution_count": 63,
   "id": "b5028ceb-94c7-4a4b-9481-01a3796b0037",
   "metadata": {
    "tags": []
   },
   "outputs": [],
   "source": [
    "def plot_multigenes(self,genes=['Gad1','Sox9'],colors=['r','g','b','m','c','y','w'],smin=3,smax=10,viewer = None,\n",
    "                    drift=[0,0,0],resc=[1,1,1]):\n",
    "    icodesN,XH_pruned = self.icodesN,self.XH_pruned\n",
    "    scoreA=self.scoreA\n",
    "    th=self.th\n",
    "    gns_names = list(self.gns_names)\n",
    "    \n",
    "    Xcms = np.mean(XH_pruned,axis=1)\n",
    "    keep = scoreA>th\n",
    "    X = (Xcms[:,:3][keep]-drift)/resc  \n",
    "    H = scoreA[keep]\n",
    "    H -= np.min(H)\n",
    "    icodesf = icodesN[keep]\n",
    "    size = smin+np.clip(H/np.max(H),0,1)*(smax-smin)\n",
    "    \n",
    "    if viewer is None:\n",
    "        import napari\n",
    "        viewer = napari.Viewer()\n",
    "    for igene,gene in enumerate(genes):\n",
    "        color= colors[igene%len(colors)]\n",
    "        icode = gns_names.index(gene)\n",
    "        is_code = icode==icodesf\n",
    "        viewer.add_points(X[is_code],size=size[is_code],edge_color=color,name=gene,face_color=[0,0,0,0])\n",
    "\n",
    "    return viewer"
   ]
  },
  {
   "cell_type": "code",
   "execution_count": 64,
   "id": "5e1dc8b2-4133-4b6f-9757-a6d87a454ae4",
   "metadata": {
    "tags": []
   },
   "outputs": [
    {
     "data": {
      "text/plain": [
       "<Image layer 'im' at 0x291b3033ac0>"
      ]
     },
     "execution_count": 64,
     "metadata": {},
     "output_type": "execute_result"
    }
   ],
   "source": [
    "viewer = plot_multigenes(dec,genes=['HTT'],colors=['r','g','b','m','c','y','w'],viewer = None,\n",
    "                         smin=2,smax=20)\n",
    "viewer.add_image(im)"
   ]
  },
  {
   "cell_type": "code",
   "execution_count": null,
   "id": "cc06afea-7ac1-403b-bc4c-739638a0ace1",
   "metadata": {
    "tags": []
   },
   "outputs": [],
   "source": []
  },
  {
   "cell_type": "code",
   "execution_count": null,
   "id": "a2a05f05-4a5b-4075-b11d-f987a6544bf5",
   "metadata": {},
   "outputs": [],
   "source": []
  },
  {
   "cell_type": "markdown",
   "id": "529705e8-9c99-41ee-bbdb-04f880aab17e",
   "metadata": {},
   "source": [
    "### Pick a few calibration FOVs"
   ]
  },
  {
   "cell_type": "code",
   "execution_count": 7,
   "id": "50aaa886-4215-4390-8a5a-60735948f16c",
   "metadata": {},
   "outputs": [
    {
     "name": "stdout",
     "output_type": "stream",
     "text": [
      "Loaded decoded: -0.01915764808654785\n"
     ]
    },
    {
     "name": "stderr",
     "output_type": "stream",
     "text": [
      "100%|████████████████████████████████████████████████████████████████████████████████████| 1/1 [00:00<00:00, 74.24it/s]\n"
     ]
    },
    {
     "data": {
      "image/png": "[encoded data removed]",
      "text/plain": [
       "<Figure size 640x480 with 1 Axes>"
      ]
     },
     "metadata": {},
     "output_type": "display_data"
    }
   ],
   "source": [
    "save_folder =r'\\\\192.168.0.21\\bbfishdc21\\HttHuman_Snonia__06_12_2023\\MERFISH_Analysis_group1'\n",
    "fov,set_ = 'Conv_zscan__30', '_set5'\n",
    "dec = decoder_simple(save_folder,fov,set_)\n",
    "dec.ncols=2\n",
    "dec.load_decoded()\n",
    "apply_fine_drift(dec,plt_val=True)\n",
    "scoresRefT = get_score_per_color(dec)"
   ]
  },
  {
   "cell_type": "code",
   "execution_count": null,
   "id": "f282e8d1-a74b-4f0a-a9d5-1aa6c4732329",
   "metadata": {},
   "outputs": [],
   "source": [
    "if False:\n",
    "    if scoresRef is None: scoresRef=scoresRefT\n",
    "    else: combine_scoresRef(scoresRef,scoresRefT)\n",
    "    np.save(save_folder+os.sep+'scoresRef.npy',scoresRef)"
   ]
  },
  {
   "cell_type": "markdown",
   "id": "601e1cdb-2f21-4122-b3ab-94cfbe2dffda",
   "metadata": {},
   "source": [
    "### Given the base decoding for each fov, run across all datasets with consistent values"
   ]
  },
  {
   "cell_type": "code",
   "execution_count": null,
   "id": "a2daf841-8e2e-454a-b47d-cf0eb3fa51b7",
   "metadata": {},
   "outputs": [],
   "source": [
    "from ioMicro import *\n",
    "save_folder =r'\\\\192.168.0.6\\bbfish1e3\\DCBBL1_03_14_2023_big\\MERFISH_Analysis'\n",
    "scoresRef = np.load(save_folder+os.sep+'scoresRef.npy',allow_pickle=True)"
   ]
  },
  {
   "cell_type": "code",
   "execution_count": null,
   "id": "0c591023-23cc-45bd-a1e0-a30c89d718cd",
   "metadata": {},
   "outputs": [],
   "source": [
    "#elems = [('Conv_zscan__'+str(ifov).zfill(3),'_'+set_)for set_ in ['set2'] for ifov in dic_f[set_]]\n",
    "for fov,set_ in tqdm(elems):\n",
    "    save_final_decoding(save_folder,fov,set_,scoresRef,th=-1.5,plt_val=False,\n",
    "                            tags_smFISH=['Aldh','Sox11'],\n",
    "                            genes_smFISH=[['Igfbpl1','Aldh1l1','Ptbp1'],['Sox11','Sox2','Dcx']],Hths=None,force=True)"
   ]
  },
  {
   "cell_type": "markdown",
   "id": "9940aa4a-2395-4305-9fcc-c6410f4d539b",
   "metadata": {},
   "source": [
    "### Get counts per cell into a single dataset"
   ]
  },
  {
   "cell_type": "code",
   "execution_count": null,
   "id": "85eab8fd-9c5f-46a2-aa78-60ddb53f007d",
   "metadata": {},
   "outputs": [],
   "source": [
    "import pandas as pd\n",
    "save_folder =r'\\\\192.168.0.6\\bbfish1e3\\DCBBL1_03_14_2023_big\\MERFISH_Analysis'\n",
    "#save_folder =r'\\\\192.168.0.6\\bbfish1e3\\DCBBL1_03_14_2023_big\\MERFISH_Analysis'\n",
    "save_fls = glob.glob(save_folder+os.sep+'finaldecs_*')"
   ]
  },
  {
   "cell_type": "code",
   "execution_count": null,
   "id": "071977fe-8958-45b5-9d4f-ae51fc364642",
   "metadata": {},
   "outputs": [],
   "source": [
    "save_fls_ = [fl for fl in save_fls if ('_set5' in fl)]# in fl if '035' in fl][0]\n",
    "cell_df,df=None,None\n",
    "for save_fl in tqdm(np.sort(save_fls_)[:]):\n",
    "    ### load info\n",
    "    dic = np.load(save_fl)\n",
    "    XF = dic['XF']\n",
    "    header = list(dic['header'])\n",
    "    genes_decoded = dic['genes']\n",
    "    cells = dic['cellinfo'][1:]\n",
    "    header_cells = dic['header_cells']\n",
    "    ### Rethrehold based on score\n",
    "    iscore = list(header).index('score')\n",
    "    scoreA = XF[:,iscore]\n",
    "    keep = scoreA>-1.5\n",
    "    ugns,gns_i = np.unique(genes_decoded[keep],return_inverse=True)\n",
    "\n",
    "    icell = header.index('cell_id')\n",
    "    icells = XF[keep,icell].astype(int)\n",
    "    \n",
    "    icellsf = cells[:,0].astype(int)\n",
    "    \n",
    "    mcell = np.max(icellsf)+1\n",
    "    gn_cell,gn_cell_cts = np.unique(mcell*gns_i+icells,return_counts=True)\n",
    "    len(gn_cell)\n",
    "    igns_ = gn_cell//mcell\n",
    "    icells_ = gn_cell%mcell\n",
    "    Mcts = np.zeros([mcell,len(ugns)])\n",
    "    Mcts[icells_,igns_]=gn_cell_cts\n",
    "\n",
    "    Mcts[icellsf].shape\n",
    "    ifov,iset = int(XF[0,header.index('ifov')]),int(XF[0,header.index('iset')])\n",
    "    icellsnm = [icell+10**5*ifov for icell in icellsf]#icellsnm = [icell+10**5*ifov+10**9*iset for icell in icellsf]\n",
    "\n",
    "    dfT = pd.DataFrame(Mcts[icellsf],columns=ugns,index=icellsnm)\n",
    "\n",
    "\n",
    "    df = dfT if df is None else pd.concat([df,dfT])\n",
    "    cell_dfT = pd.DataFrame(cells,columns=header_cells,index=icellsnm)\n",
    "    cell_df = cell_dfT if cell_df is None else pd.concat([cell_df,cell_dfT])"
   ]
  },
  {
   "cell_type": "code",
   "execution_count": null,
   "id": "7c642f83-7004-4374-a5be-336d5d2475a3",
   "metadata": {},
   "outputs": [],
   "source": []
  }
 ],
 "metadata": {
  "kernelspec": {
   "display_name": "Python 3 (ipykernel)",
   "language": "python",
   "name": "python3"
  },
  "language_info": {
   "codemirror_mode": {
    "name": "ipython",
    "version": 3
   },
   "file_extension": ".py",
   "mimetype": "text/x-python",
   "name": "python",
   "nbconvert_exporter": "python",
   "pygments_lexer": "ipython3",
   "version": "3.8.16"
  }
 },
 "nbformat": 4,
 "nbformat_minor": 5
}
