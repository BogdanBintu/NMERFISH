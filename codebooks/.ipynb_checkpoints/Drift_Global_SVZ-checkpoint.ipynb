{
 "cells": [
  {
   "cell_type": "code",
   "execution_count": 2,
   "id": "876007b8-4f6e-489a-bbea-4cbecaf0ba95",
   "metadata": {},
   "outputs": [],
   "source": [
    "import sys\n",
    "sys.path.append(r'..\\\\')\n",
    "from Human.HumanSVZMER_6_26_2023_P1G1 import *"
   ]
  },
  {
   "cell_type": "code",
   "execution_count": 4,
   "id": "60271b37-206f-44e2-a1a9-8d3b42003e75",
   "metadata": {},
   "outputs": [],
   "source": [
    "master_data_folders = [r'\\\\192.168.0.127\\Raw_data\\Roy\\HumanSVZMER_6_26_2023\\plate1',\n",
    "                       r'\\\\192.168.0.127\\Raw_data\\Roy\\HumanSVZMER_6_26_2023\\plate2',\n",
    "                       r'\\\\192.168.0.127\\Raw_data\\Roy\\HumanSVZMER_6_26_2023\\plate3']\n",
    "#Aflds = [fld for fld in master_data_folders for fld in glob.glob(fld+os.sep+'A*')]\n",
    "HMERflds = [fld for fld in master_data_folders for fld in glob.glob(fld+os.sep+'H*MER*')]\n",
    "#H0s = [fld for fld in master_data_folders for fld in glob.glob(fld+os.sep+'H0_*')]\n",
    "#Pflds = [fld for fld in master_data_folders for fld in glob.glob(fld+os.sep+'P*')]"
   ]
  },
  {
   "cell_type": "code",
   "execution_count": 8,
   "id": "df9810fa-e2c7-42e7-b787-45088f1e521a",
   "metadata": {},
   "outputs": [],
   "source": [
    "save_folder = r'\\\\192.168.0.127\\Raw_data\\Roy\\HumanSVZMER_6_26_2023\\Drift'\n",
    "if not os.path.exists(save_folder): os.makedirs(save_folder)\n",
    "set_ = '_set1'"
   ]
  },
  {
   "cell_type": "code",
   "execution_count": 10,
   "id": "7ba81f60-4f17-427e-bfd7-977f03922aa1",
   "metadata": {},
   "outputs": [],
   "source": [
    "#HMERflds"
   ]
  },
  {
   "cell_type": "code",
   "execution_count": 14,
   "id": "11de44c1-aa10-4a31-9692-373c353b9d1f",
   "metadata": {},
   "outputs": [
    {
     "data": {
      "text/plain": [
       "['\\\\\\\\192.168.0.127\\\\Raw_data\\\\Roy\\\\HumanSVZMER_6_26_2023\\\\plate1\\\\H1_MER_set1',\n",
       " '\\\\\\\\192.168.0.127\\\\Raw_data\\\\Roy\\\\HumanSVZMER_6_26_2023\\\\plate1\\\\H13_MER_set1',\n",
       " '\\\\\\\\192.168.0.127\\\\Raw_data\\\\Roy\\\\HumanSVZMER_6_26_2023\\\\plate2\\\\H1_MER_set1',\n",
       " '\\\\\\\\192.168.0.127\\\\Raw_data\\\\Roy\\\\HumanSVZMER_6_26_2023\\\\plate2\\\\H13_MER_set1',\n",
       " '\\\\\\\\192.168.0.127\\\\Raw_data\\\\Roy\\\\HumanSVZMER_6_26_2023\\\\plate3\\\\H1_MER_set1',\n",
       " '\\\\\\\\192.168.0.127\\\\Raw_data\\\\Roy\\\\HumanSVZMER_6_26_2023\\\\plate3\\\\H13_MER_set1',\n",
       " '\\\\\\\\192.168.0.127\\\\Raw_data\\\\Roy\\\\HumanSVZMER_6_26_2023\\\\H0__set1']"
      ]
     },
     "execution_count": 14,
     "metadata": {},
     "output_type": "execute_result"
    }
   ],
   "source": [
    "dic_fld = {get_iH(fld)+(int(os.path.dirname(fld)[-1])-1)*24:fld for fld in HMERflds if set_ in os.path.basename(fld)}\n",
    "flds = [dic_fld[1+12*iH] for iH in range(6)]\n",
    "flds +=[r'\\\\192.168.0.127\\Raw_data\\Roy\\HumanSVZMER_6_26_2023\\H0__set1']\n",
    "flds"
   ]
  },
  {
   "cell_type": "code",
   "execution_count": 16,
   "id": "d95b0829-7556-48cf-ba68-c9850ff0bda9",
   "metadata": {},
   "outputs": [],
   "source": [
    "ifovs = [264,265,266,275,276,277,279,280,281,\n",
    " 263,268,267,274,273,278,283,282,311,\n",
    " 257,269,270,271,272,285,284,309,310,\n",
    " 256,251,250,249,287,286,307,308,220,305,304,224,226,225,210,211,209,195,196,180,183,180,181,176,\n",
    " 8,9,13,12,14,42,16,40,41,38,39,45,37,47,46,48,57,56,52]"
   ]
  },
  {
   "cell_type": "code",
   "execution_count": null,
   "id": "557df6b8-ddfa-41cf-9759-8bc66301e47e",
   "metadata": {},
   "outputs": [
    {
     "name": "stderr",
     "output_type": "stream",
     "text": [
      "  0%|                                                                                            | 0/7 [00:00<?, ?it/s]"
     ]
    },
    {
     "name": "stdout",
     "output_type": "stream",
     "text": [
      "Loading: \\\\192.168.0.127\\Raw_data\\Roy\\HumanSVZMER_6_26_2023\\plate2\\H13_MER_set1\\Conv_zscan__264.zarr\n",
      "Finding markers...\n"
     ]
    },
    {
     "name": "stderr",
     "output_type": "stream",
     "text": [
      "\n",
      "  0%|                                                                                            | 0/7 [00:00<?, ?it/s]\u001b[A\n",
      " 14%|████████████                                                                        | 1/7 [00:00<00:02,  2.33it/s]\u001b[A\n",
      "100%|████████████████████████████████████████████████████████████████████████████████████| 7/7 [00:00<00:00,  8.83it/s]\u001b[A\n",
      "\n",
      "  0%|                                                                                            | 0/7 [00:00<?, ?it/s]\u001b[A\n",
      " 14%|████████████                                                                        | 1/7 [00:01<00:07,  1.27s/it]\u001b[A\n",
      "100%|████████████████████████████████████████████████████████████████████████████████████| 7/7 [00:01<00:00,  4.10it/s]\u001b[A\n"
     ]
    },
    {
     "name": "stdout",
     "output_type": "stream",
     "text": [
      "Loading: \\\\192.168.0.127\\Raw_data\\Roy\\HumanSVZMER_6_26_2023\\plate1\\H1_MER_set1\\Conv_zscan__264.zarr\n",
      "Finding markers...\n"
     ]
    },
    {
     "name": "stderr",
     "output_type": "stream",
     "text": [
      "\n",
      "  0%|                                                                                            | 0/7 [00:00<?, ?it/s]\u001b[A\n",
      " 14%|████████████                                                                        | 1/7 [00:00<00:02,  2.16it/s]\u001b[A\n",
      "100%|████████████████████████████████████████████████████████████████████████████████████| 7/7 [00:00<00:00,  8.44it/s]\u001b[A\n",
      "\n",
      "  0%|                                                                                            | 0/7 [00:00<?, ?it/s]\u001b[A\n",
      " 14%|████████████                                                                        | 1/7 [00:01<00:06,  1.14s/it]\u001b[A\n",
      "100%|████████████████████████████████████████████████████████████████████████████████████| 7/7 [00:01<00:00,  4.51it/s]\u001b[A\n"
     ]
    },
    {
     "name": "stdout",
     "output_type": "stream",
     "text": [
      "Finding rough drift...\n"
     ]
    },
    {
     "name": "stderr",
     "output_type": "stream",
     "text": [
      " 14%|████████████                                                                        | 1/7 [00:33<03:22, 33.73s/it]"
     ]
    },
    {
     "name": "stdout",
     "output_type": "stream",
     "text": [
      "Finding fine drift...\n",
      "Loading: \\\\192.168.0.127\\Raw_data\\Roy\\HumanSVZMER_6_26_2023\\plate1\\H13_MER_set1\\Conv_zscan__264.zarr\n",
      "Finding markers...\n"
     ]
    },
    {
     "name": "stderr",
     "output_type": "stream",
     "text": [
      "\n",
      "  0%|                                                                                            | 0/7 [00:00<?, ?it/s]\u001b[A\n",
      " 14%|████████████                                                                        | 1/7 [00:00<00:02,  2.26it/s]\u001b[A\n",
      "100%|████████████████████████████████████████████████████████████████████████████████████| 7/7 [00:00<00:00,  8.81it/s]\u001b[A\n",
      "\n",
      "  0%|                                                                                            | 0/7 [00:00<?, ?it/s]\u001b[A\n",
      " 14%|████████████                                                                        | 1/7 [00:01<00:07,  1.24s/it]\u001b[A\n",
      "100%|████████████████████████████████████████████████████████████████████████████████████| 7/7 [00:01<00:00,  4.19it/s]\u001b[A\n"
     ]
    },
    {
     "name": "stdout",
     "output_type": "stream",
     "text": [
      "Finding rough drift...\n"
     ]
    },
    {
     "name": "stderr",
     "output_type": "stream",
     "text": [
      " 29%|████████████████████████                                                            | 2/7 [00:55<02:13, 26.76s/it]"
     ]
    },
    {
     "name": "stdout",
     "output_type": "stream",
     "text": [
      "Finding fine drift...\n",
      "Loading: \\\\192.168.0.127\\Raw_data\\Roy\\HumanSVZMER_6_26_2023\\plate2\\H1_MER_set1\\Conv_zscan__264.zarr\n",
      "Finding markers...\n"
     ]
    },
    {
     "name": "stderr",
     "output_type": "stream",
     "text": [
      "\n",
      "  0%|                                                                                            | 0/7 [00:00<?, ?it/s]\u001b[A"
     ]
    }
   ],
   "source": [
    "fovs = [os.path.basename(fl)for fl in glob.glob(flds[0]+os.sep+'*.zarr')]\n",
    "\n",
    "for ifov in ifovs:\n",
    "    fov = fovs[ifov]\n",
    "    compute_drift(save_folder,fov,flds,set_,redo=False,gpu=False)\n",
    "    clear_output(wait=True)"
   ]
  },
  {
   "cell_type": "code",
   "execution_count": null,
   "id": "49c648d1-2bde-4768-857f-34d2753453d7",
   "metadata": {},
   "outputs": [],
   "source": []
  }
 ],
 "metadata": {
  "kernelspec": {
   "display_name": "Python 3 (ipykernel)",
   "language": "python",
   "name": "python3"
  },
  "language_info": {
   "codemirror_mode": {
    "name": "ipython",
    "version": 3
   },
   "file_extension": ".py",
   "mimetype": "text/x-python",
   "name": "python",
   "nbconvert_exporter": "python",
   "pygments_lexer": "ipython3",
   "version": "3.9.16"
  }
 },
 "nbformat": 4,
 "nbformat_minor": 5
}
