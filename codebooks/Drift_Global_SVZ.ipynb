{
 "cells": [
  {
   "cell_type": "code",
   "execution_count": 2,
   "id": "876007b8-4f6e-489a-bbea-4cbecaf0ba95",
   "metadata": {},
   "outputs": [],
   "source": [
    "import sys\n",
    "sys.path.append(r'..\\\\')\n",
    "from Human.HumanSVZMER_6_26_2023_P1G1 import *"
   ]
  },
  {
   "cell_type": "code",
   "execution_count": 4,
   "id": "60271b37-206f-44e2-a1a9-8d3b42003e75",
   "metadata": {},
   "outputs": [],
   "source": [
    "master_data_folders = [r'\\\\192.168.0.127\\Raw_data\\Roy\\HumanSVZMER_6_26_2023\\plate1',\n",
    "                       r'\\\\192.168.0.127\\Raw_data\\Roy\\HumanSVZMER_6_26_2023\\plate2',\n",
    "                       r'\\\\192.168.0.127\\Raw_data\\Roy\\HumanSVZMER_6_26_2023\\plate3']\n",
    "#Aflds = [fld for fld in master_data_folders for fld in glob.glob(fld+os.sep+'A*')]\n",
    "HMERflds = [fld for fld in master_data_folders for fld in glob.glob(fld+os.sep+'H*MER*')]\n",
    "#H0s = [fld for fld in master_data_folders for fld in glob.glob(fld+os.sep+'H0_*')]\n",
    "#Pflds = [fld for fld in master_data_folders for fld in glob.glob(fld+os.sep+'P*')]"
   ]
  },
  {
   "cell_type": "code",
   "execution_count": 8,
   "id": "df9810fa-e2c7-42e7-b787-45088f1e521a",
   "metadata": {},
   "outputs": [],
   "source": [
    "save_folder = r'\\\\192.168.0.127\\Raw_data\\Roy\\HumanSVZMER_6_26_2023\\Drift'\n",
    "if not os.path.exists(save_folder): os.makedirs(save_folder)\n",
    "set_ = '_set1'"
   ]
  },
  {
   "cell_type": "code",
   "execution_count": 10,
   "id": "7ba81f60-4f17-427e-bfd7-977f03922aa1",
   "metadata": {},
   "outputs": [],
   "source": [
    "#HMERflds"
   ]
  },
  {
   "cell_type": "code",
   "execution_count": 14,
   "id": "11de44c1-aa10-4a31-9692-373c353b9d1f",
   "metadata": {},
   "outputs": [
    {
     "data": {
      "text/plain": [
       "['\\\\\\\\192.168.0.127\\\\Raw_data\\\\Roy\\\\HumanSVZMER_6_26_2023\\\\plate1\\\\H1_MER_set1',\n",
       " '\\\\\\\\192.168.0.127\\\\Raw_data\\\\Roy\\\\HumanSVZMER_6_26_2023\\\\plate1\\\\H13_MER_set1',\n",
       " '\\\\\\\\192.168.0.127\\\\Raw_data\\\\Roy\\\\HumanSVZMER_6_26_2023\\\\plate2\\\\H1_MER_set1',\n",
       " '\\\\\\\\192.168.0.127\\\\Raw_data\\\\Roy\\\\HumanSVZMER_6_26_2023\\\\plate2\\\\H13_MER_set1',\n",
       " '\\\\\\\\192.168.0.127\\\\Raw_data\\\\Roy\\\\HumanSVZMER_6_26_2023\\\\plate3\\\\H1_MER_set1',\n",
       " '\\\\\\\\192.168.0.127\\\\Raw_data\\\\Roy\\\\HumanSVZMER_6_26_2023\\\\plate3\\\\H13_MER_set1',\n",
       " '\\\\\\\\192.168.0.127\\\\Raw_data\\\\Roy\\\\HumanSVZMER_6_26_2023\\\\H0__set1']"
      ]
     },
     "execution_count": 14,
     "metadata": {},
     "output_type": "execute_result"
    }
   ],
   "source": [
    "dic_fld = {get_iH(fld)+(int(os.path.dirname(fld)[-1])-1)*24:fld for fld in HMERflds if set_ in os.path.basename(fld)}\n",
    "flds = [dic_fld[1+12*iH] for iH in range(6)]\n",
    "flds +=[r'\\\\192.168.0.127\\Raw_data\\Roy\\HumanSVZMER_6_26_2023\\H0__set1']\n",
    "flds"
   ]
  },
  {
   "cell_type": "code",
   "execution_count": 16,
   "id": "d95b0829-7556-48cf-ba68-c9850ff0bda9",
   "metadata": {},
   "outputs": [],
   "source": [
    "ifovs = [264,265,266,275,276,277,279,280,281,\n",
    " 263,268,267,274,273,278,283,282,311,\n",
    " 257,269,270,271,272,285,284,309,310,\n",
    " 256,251,250,249,287,286,307,308,220,305,304,224,226,225,210,211,209,195,196,180,183,180,181,176,\n",
    " 8,9,13,12,14,42,16,40,41,38,39,45,37,47,46,48,57,56,52]"
   ]
  },
  {
   "cell_type": "code",
   "execution_count": 18,
   "id": "557df6b8-ddfa-41cf-9759-8bc66301e47e",
   "metadata": {},
   "outputs": [
    {
     "name": "stderr",
     "output_type": "stream",
     "text": [
      "  0%|                                                                                            | 0/7 [00:00<?, ?it/s]"
     ]
    },
    {
     "name": "stdout",
     "output_type": "stream",
     "text": [
      "Loading: \\\\192.168.0.127\\Raw_data\\Roy\\HumanSVZMER_6_26_2023\\plate2\\H13_MER_set1\\Conv_zscan__052.zarr\n",
      "Finding markers...\n"
     ]
    },
    {
     "name": "stderr",
     "output_type": "stream",
     "text": [
      "\n",
      "  0%|                                                                                            | 0/7 [00:00<?, ?it/s]\u001b[A\n",
      " 14%|████████████                                                                        | 1/7 [00:00<00:02,  2.15it/s]\u001b[A\n",
      "100%|████████████████████████████████████████████████████████████████████████████████████| 7/7 [00:00<00:00,  8.64it/s]\u001b[A\n",
      "\n",
      "  0%|                                                                                            | 0/7 [00:00<?, ?it/s]\u001b[A\n",
      " 14%|████████████                                                                        | 1/7 [00:01<00:07,  1.22s/it]\u001b[A\n",
      "100%|████████████████████████████████████████████████████████████████████████████████████| 7/7 [00:01<00:00,  4.48it/s]\u001b[A\n"
     ]
    },
    {
     "name": "stdout",
     "output_type": "stream",
     "text": [
      "Loading: \\\\192.168.0.127\\Raw_data\\Roy\\HumanSVZMER_6_26_2023\\plate1\\H1_MER_set1\\Conv_zscan__052.zarr\n",
      "Finding markers...\n"
     ]
    },
    {
     "name": "stderr",
     "output_type": "stream",
     "text": [
      "\n",
      "  0%|                                                                                            | 0/7 [00:00<?, ?it/s]\u001b[A\n",
      " 14%|████████████                                                                        | 1/7 [00:00<00:03,  1.95it/s]\u001b[A\n",
      "100%|████████████████████████████████████████████████████████████████████████████████████| 7/7 [00:00<00:00,  8.04it/s]\u001b[A\n",
      "\n",
      "  0%|                                                                                            | 0/7 [00:00<?, ?it/s]\u001b[A\n",
      " 14%|████████████                                                                        | 1/7 [00:01<00:07,  1.22s/it]\u001b[A\n",
      "100%|████████████████████████████████████████████████████████████████████████████████████| 7/7 [00:01<00:00,  4.48it/s]\u001b[A\n"
     ]
    },
    {
     "name": "stdout",
     "output_type": "stream",
     "text": [
      "Finding rough drift...\n"
     ]
    },
    {
     "name": "stderr",
     "output_type": "stream",
     "text": [
      " 14%|████████████                                                                        | 1/7 [00:29<02:58, 29.75s/it]"
     ]
    },
    {
     "name": "stdout",
     "output_type": "stream",
     "text": [
      "Finding fine drift...\n",
      "Loading: \\\\192.168.0.127\\Raw_data\\Roy\\HumanSVZMER_6_26_2023\\plate1\\H13_MER_set1\\Conv_zscan__052.zarr\n",
      "Finding markers...\n"
     ]
    },
    {
     "name": "stderr",
     "output_type": "stream",
     "text": [
      "\n",
      "  0%|                                                                                            | 0/7 [00:00<?, ?it/s]\u001b[A\n",
      " 14%|████████████                                                                        | 1/7 [00:00<00:03,  1.92it/s]\u001b[A\n",
      "100%|████████████████████████████████████████████████████████████████████████████████████| 7/7 [00:00<00:00,  8.19it/s]\u001b[A\n",
      "\n",
      "  0%|                                                                                            | 0/7 [00:00<?, ?it/s]\u001b[A\n",
      " 14%|████████████                                                                        | 1/7 [00:01<00:07,  1.22s/it]\u001b[A\n",
      "100%|████████████████████████████████████████████████████████████████████████████████████| 7/7 [00:01<00:00,  4.49it/s]\u001b[A\n"
     ]
    },
    {
     "name": "stdout",
     "output_type": "stream",
     "text": [
      "Finding rough drift...\n"
     ]
    },
    {
     "name": "stderr",
     "output_type": "stream",
     "text": [
      " 29%|████████████████████████                                                            | 2/7 [00:47<01:53, 22.79s/it]"
     ]
    },
    {
     "name": "stdout",
     "output_type": "stream",
     "text": [
      "Finding fine drift...\n",
      "Loading: \\\\192.168.0.127\\Raw_data\\Roy\\HumanSVZMER_6_26_2023\\plate2\\H1_MER_set1\\Conv_zscan__052.zarr\n",
      "Finding markers...\n"
     ]
    },
    {
     "name": "stderr",
     "output_type": "stream",
     "text": [
      "\n",
      "  0%|                                                                                            | 0/7 [00:00<?, ?it/s]\u001b[A\n",
      " 14%|████████████                                                                        | 1/7 [00:00<00:02,  2.14it/s]\u001b[A\n",
      "100%|████████████████████████████████████████████████████████████████████████████████████| 7/7 [00:00<00:00,  8.72it/s]\u001b[A\n",
      "\n",
      "  0%|                                                                                            | 0/7 [00:00<?, ?it/s]\u001b[A\n",
      " 14%|████████████                                                                        | 1/7 [00:01<00:07,  1.28s/it]\u001b[A\n",
      "100%|████████████████████████████████████████████████████████████████████████████████████| 7/7 [00:01<00:00,  4.33it/s]\u001b[A\n"
     ]
    },
    {
     "name": "stdout",
     "output_type": "stream",
     "text": [
      "Finding rough drift...\n"
     ]
    },
    {
     "name": "stderr",
     "output_type": "stream",
     "text": [
      " 43%|████████████████████████████████████                                                | 3/7 [01:05<01:22, 20.57s/it]"
     ]
    },
    {
     "name": "stdout",
     "output_type": "stream",
     "text": [
      "Finding fine drift...\n",
      "Loading: \\\\192.168.0.127\\Raw_data\\Roy\\HumanSVZMER_6_26_2023\\plate2\\H13_MER_set1\\Conv_zscan__052.zarr\n",
      "Finding markers...\n"
     ]
    },
    {
     "name": "stderr",
     "output_type": "stream",
     "text": [
      "\n",
      "  0%|                                                                                            | 0/7 [00:00<?, ?it/s]\u001b[A\n",
      " 14%|████████████                                                                        | 1/7 [00:00<00:02,  2.15it/s]\u001b[A\n",
      "100%|████████████████████████████████████████████████████████████████████████████████████| 7/7 [00:00<00:00,  8.64it/s]\u001b[A\n",
      "\n",
      "  0%|                                                                                            | 0/7 [00:00<?, ?it/s]\u001b[A\n",
      " 14%|████████████                                                                        | 1/7 [00:01<00:06,  1.11s/it]\u001b[A\n",
      "100%|████████████████████████████████████████████████████████████████████████████████████| 7/7 [00:01<00:00,  4.77it/s]\u001b[A\n"
     ]
    },
    {
     "name": "stdout",
     "output_type": "stream",
     "text": [
      "Finding rough drift...\n"
     ]
    },
    {
     "name": "stderr",
     "output_type": "stream",
     "text": [
      " 57%|████████████████████████████████████████████████                                    | 4/7 [01:23<00:59, 19.68s/it]"
     ]
    },
    {
     "name": "stdout",
     "output_type": "stream",
     "text": [
      "Finding fine drift...\n",
      "Loading: \\\\192.168.0.127\\Raw_data\\Roy\\HumanSVZMER_6_26_2023\\plate3\\H1_MER_set1\\Conv_zscan__052.zarr\n",
      "Finding markers...\n"
     ]
    },
    {
     "name": "stderr",
     "output_type": "stream",
     "text": [
      "\n",
      "  0%|                                                                                            | 0/7 [00:00<?, ?it/s]\u001b[A\n",
      " 14%|████████████                                                                        | 1/7 [00:00<00:02,  2.06it/s]\u001b[A\n",
      "100%|████████████████████████████████████████████████████████████████████████████████████| 7/7 [00:00<00:00,  8.12it/s]\u001b[A\n",
      "\n",
      "  0%|                                                                                            | 0/7 [00:00<?, ?it/s]\u001b[A\n",
      " 14%|████████████                                                                        | 1/7 [00:01<00:06,  1.10s/it]\u001b[A\n",
      "100%|████████████████████████████████████████████████████████████████████████████████████| 7/7 [00:01<00:00,  4.89it/s]\u001b[A\n"
     ]
    },
    {
     "name": "stdout",
     "output_type": "stream",
     "text": [
      "Finding rough drift...\n"
     ]
    },
    {
     "name": "stderr",
     "output_type": "stream",
     "text": [
      " 71%|████████████████████████████████████████████████████████████                        | 5/7 [01:41<00:37, 18.85s/it]"
     ]
    },
    {
     "name": "stdout",
     "output_type": "stream",
     "text": [
      "Finding fine drift...\n",
      "Loading: \\\\192.168.0.127\\Raw_data\\Roy\\HumanSVZMER_6_26_2023\\plate3\\H13_MER_set1\\Conv_zscan__052.zarr\n",
      "Finding markers...\n"
     ]
    },
    {
     "name": "stderr",
     "output_type": "stream",
     "text": [
      "\n",
      "  0%|                                                                                            | 0/7 [00:00<?, ?it/s]\u001b[A\n",
      " 14%|████████████                                                                        | 1/7 [00:00<00:03,  1.89it/s]\u001b[A\n",
      "100%|████████████████████████████████████████████████████████████████████████████████████| 7/7 [00:00<00:00,  8.04it/s]\u001b[A\n",
      "\n",
      "  0%|                                                                                            | 0/7 [00:00<?, ?it/s]\u001b[A\n",
      " 14%|████████████                                                                        | 1/7 [00:01<00:07,  1.23s/it]\u001b[A\n",
      "100%|████████████████████████████████████████████████████████████████████████████████████| 7/7 [00:01<00:00,  4.47it/s]\u001b[A\n"
     ]
    },
    {
     "name": "stdout",
     "output_type": "stream",
     "text": [
      "Finding rough drift...\n"
     ]
    },
    {
     "name": "stderr",
     "output_type": "stream",
     "text": [
      " 86%|████████████████████████████████████████████████████████████████████████            | 6/7 [01:58<00:18, 18.31s/it]"
     ]
    },
    {
     "name": "stdout",
     "output_type": "stream",
     "text": [
      "Finding fine drift...\n",
      "Loading: \\\\192.168.0.127\\Raw_data\\Roy\\HumanSVZMER_6_26_2023\\H0__set1\\Conv_zscan__052.zarr\n",
      "Finding markers...\n"
     ]
    },
    {
     "name": "stderr",
     "output_type": "stream",
     "text": [
      "\n",
      "  0%|                                                                                            | 0/7 [00:00<?, ?it/s]\u001b[A\n",
      " 14%|████████████                                                                        | 1/7 [00:00<00:02,  2.03it/s]\u001b[A\n",
      "100%|████████████████████████████████████████████████████████████████████████████████████| 7/7 [00:00<00:00,  8.23it/s]\u001b[A\n",
      "\n",
      "  0%|                                                                                            | 0/7 [00:00<?, ?it/s]\u001b[A\n",
      " 14%|████████████                                                                        | 1/7 [00:01<00:07,  1.22s/it]\u001b[A\n",
      "100%|████████████████████████████████████████████████████████████████████████████████████| 7/7 [00:01<00:00,  4.44it/s]\u001b[A\n"
     ]
    },
    {
     "name": "stdout",
     "output_type": "stream",
     "text": [
      "Finding rough drift...\n"
     ]
    },
    {
     "name": "stderr",
     "output_type": "stream",
     "text": [
      "100%|████████████████████████████████████████████████████████████████████████████████████| 7/7 [02:17<00:00, 19.65s/it]"
     ]
    },
    {
     "name": "stdout",
     "output_type": "stream",
     "text": [
      "Finding fine drift...\n"
     ]
    },
    {
     "name": "stderr",
     "output_type": "stream",
     "text": [
      "\n"
     ]
    }
   ],
   "source": [
    "fovs = [os.path.basename(fl)for fl in glob.glob(flds[0]+os.sep+'*.zarr')]\n",
    "from IPython.display import clear_output\n",
    "for ifov in ifovs:\n",
    "    fov = fovs[ifov]\n",
    "    compute_drift(save_folder,fov,flds,set_,redo=False,gpu=False)\n",
    "    clear_output(wait=True)"
   ]
  },
  {
   "cell_type": "code",
   "execution_count": null,
   "id": "49c648d1-2bde-4768-857f-34d2753453d7",
   "metadata": {},
   "outputs": [],
   "source": []
  }
 ],
 "metadata": {
  "kernelspec": {
   "display_name": "Python 3 (ipykernel)",
   "language": "python",
   "name": "python3"
  },
  "language_info": {
   "codemirror_mode": {
    "name": "ipython",
    "version": 3
   },
   "file_extension": ".py",
   "mimetype": "text/x-python",
   "name": "python",
   "nbconvert_exporter": "python",
   "pygments_lexer": "ipython3",
   "version": "3.9.16"
  }
 },
 "nbformat": 4,
 "nbformat_minor": 5
}
